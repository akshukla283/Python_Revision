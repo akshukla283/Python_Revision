{
 "cells": [
  {
   "cell_type": "code",
   "execution_count": 1,
   "id": "128fdba1",
   "metadata": {},
   "outputs": [
    {
     "name": "stdout",
     "output_type": "stream",
     "text": [
      "56.24\n"
     ]
    }
   ],
   "source": [
    "# What will be the output of the following Python expression if x=56.236?\n",
    "x=56.236\n",
    "print(\"%.2f\"%x)"
   ]
  },
  {
   "cell_type": "markdown",
   "id": "1cc92528",
   "metadata": {},
   "source": [
    "#### Which of these is the definition for packages in Python?\n",
    "\n",
    "**Your Answer:** A folder of python modules"
   ]
  },
  {
   "cell_type": "markdown",
   "id": "bd888e25",
   "metadata": {},
   "source": [
    "#### What is the order of namespaces in which Python looks for an identifier?\n",
    "\n",
    "Answer -  Python first searches the `local namespace`, then the `global namespace` and finally the `built-in namespace`"
   ]
  },
  {
   "cell_type": "code",
   "execution_count": 4,
   "id": "0e153757",
   "metadata": {},
   "outputs": [
    {
     "ename": "NameError",
     "evalue": "name 'foo' is not defined",
     "output_type": "error",
     "traceback": [
      "\u001b[1;31m---------------------------------------------------------------------------\u001b[0m",
      "\u001b[1;31mNameError\u001b[0m                                 Traceback (most recent call last)",
      "\u001b[1;32m~\\AppData\\Local\\Temp/ipykernel_15332/203094059.py\u001b[0m in \u001b[0;36m<module>\u001b[1;34m\u001b[0m\n\u001b[0;32m      1\u001b[0m \u001b[1;31m## What will be the output of the following Python statement?\u001b[0m\u001b[1;33m\u001b[0m\u001b[1;33m\u001b[0m\u001b[1;33m\u001b[0m\u001b[0m\n\u001b[0;32m      2\u001b[0m \u001b[1;33m\u001b[0m\u001b[0m\n\u001b[1;32m----> 3\u001b[1;33m \u001b[0mf\u001b[0m \u001b[1;33m=\u001b[0m \u001b[0mfoo\u001b[0m\u001b[1;33m(\u001b[0m\u001b[1;33m)\u001b[0m\u001b[1;33m\u001b[0m\u001b[1;33m\u001b[0m\u001b[0m\n\u001b[0m\u001b[0;32m      4\u001b[0m \u001b[0mformat\u001b[0m\u001b[1;33m(\u001b[0m\u001b[0mf\u001b[0m\u001b[1;33m)\u001b[0m\u001b[1;33m\u001b[0m\u001b[1;33m\u001b[0m\u001b[0m\n",
      "\u001b[1;31mNameError\u001b[0m: name 'foo' is not defined"
     ]
    }
   ],
   "source": [
    "## What will be the output of the following Python statement?\n",
    "\n",
    "f = foo()\n",
    "format(f)"
   ]
  },
  {
   "cell_type": "markdown",
   "id": "5def4479",
   "metadata": {},
   "source": [
    "#### Which one of the following is not a keyword in Python language?\n",
    "\n",
    "\n",
    "\n",
    "Correct Answer: eval"
   ]
  },
  {
   "cell_type": "markdown",
   "id": "c38d38a7",
   "metadata": {},
   "source": [
    "#### Which module in the python standard library parses options received from the command line?\n",
    "\n",
    "\n",
    "Correct Answer: getopt"
   ]
  },
  {
   "cell_type": "markdown",
   "id": "13a935db",
   "metadata": {},
   "source": [
    "#### What arithmetic operators cannot be used with strings in Python?\n",
    "\n",
    "Your Answer: –\n",
    "\n",
    "Correct Answer: –"
   ]
  },
  {
   "cell_type": "markdown",
   "id": "9511118f",
   "metadata": {},
   "source": [
    "#### How many control statements python supports?\n",
    "\n",
    "\n",
    "Correct Answer: Three"
   ]
  },
  {
   "cell_type": "markdown",
   "id": "8a7905b2",
   "metadata": {},
   "source": [
    "#### PVM is often called _________.\n",
    "\n",
    "\n",
    "Correct Answer: Python interpreter"
   ]
  },
  {
   "cell_type": "markdown",
   "id": "a9bb173a",
   "metadata": {},
   "source": [
    "#### Which of the following objects are present in the function header in python?\n",
    "\n",
    "\n",
    "Correct Answer: Function name and Parameters"
   ]
  },
  {
   "cell_type": "markdown",
   "id": "1b672554",
   "metadata": {},
   "source": [
    "#### Which of the following statements is not valid regarding the variable in python?\n",
    "\n",
    "\n",
    "Correct Answer: The variable_name can begin with a number"
   ]
  },
  {
   "cell_type": "markdown",
   "id": "6902664e",
   "metadata": {},
   "source": [
    "#### The process of pickling in Python includes ____________.\n",
    "\n",
    "\n",
    "Correct Answer: conversion of a Python object hierarchy into byte stream"
   ]
  },
  {
   "cell_type": "markdown",
   "id": "1c02e0d6",
   "metadata": {},
   "source": [
    "#### To open a file c:\\scores.txt for reading, we use _____________.\n",
    "\n",
    "\n",
    "Correct Answer: infile = open(“c:\\scores.txt”, “r”)"
   ]
  },
  {
   "cell_type": "markdown",
   "id": "de7784f4",
   "metadata": {},
   "source": [
    "####  Which function overloads the + operator?\n",
    "\n",
    "Correct Answer: `__add__()`"
   ]
  },
  {
   "cell_type": "markdown",
   "id": "3d961abb",
   "metadata": {},
   "source": [
    "#### Which operator is overloaded by __invert__()?\n",
    "\n",
    "\n",
    "Correct Answer: ~"
   ]
  },
  {
   "cell_type": "markdown",
   "id": "23e758a3",
   "metadata": {},
   "source": [
    "#### ____ represents an entity in the real world with its identity and behavior.\n",
    "\n",
    "\n",
    "Correct Answer: An object"
   ]
  },
  {
   "cell_type": "markdown",
   "id": "95e18081",
   "metadata": {},
   "source": [
    "#### _____ is used to create an object.\n",
    "\n",
    "\n",
    "Correct Answer: constructor"
   ]
  },
  {
   "cell_type": "markdown",
   "id": "d6aa70f2",
   "metadata": {},
   "source": [
    "#### What is setattr() used for?\n",
    "\n",
    "\n",
    "Correct Answer: To check if an attribute exists or not"
   ]
  },
  {
   "cell_type": "code",
   "execution_count": 8,
   "id": "684c54fc",
   "metadata": {},
   "outputs": [
    {
     "ename": "TypeError",
     "evalue": "__init__() missing 1 required positional argument: 'a'",
     "output_type": "error",
     "traceback": [
      "\u001b[1;31m---------------------------------------------------------------------------\u001b[0m",
      "\u001b[1;31mTypeError\u001b[0m                                 Traceback (most recent call last)",
      "\u001b[1;32m~\\AppData\\Local\\Temp/ipykernel_15332/2392406776.py\u001b[0m in \u001b[0;36m<module>\u001b[1;34m\u001b[0m\n\u001b[0;32m      6\u001b[0m         \u001b[0mprint\u001b[0m\u001b[1;33m(\u001b[0m\u001b[0mself\u001b[0m\u001b[1;33m.\u001b[0m\u001b[0ma\u001b[0m\u001b[1;33m)\u001b[0m\u001b[1;33m\u001b[0m\u001b[1;33m\u001b[0m\u001b[0m\n\u001b[0;32m      7\u001b[0m \u001b[1;33m\u001b[0m\u001b[0m\n\u001b[1;32m----> 8\u001b[1;33m \u001b[0mobj\u001b[0m\u001b[1;33m=\u001b[0m\u001b[0mtest\u001b[0m\u001b[1;33m(\u001b[0m\u001b[1;33m)\u001b[0m\u001b[1;33m\u001b[0m\u001b[1;33m\u001b[0m\u001b[0m\n\u001b[0m\u001b[0;32m      9\u001b[0m \u001b[0mobj\u001b[0m\u001b[1;33m.\u001b[0m\u001b[0mdisplay\u001b[0m\u001b[1;33m(\u001b[0m\u001b[1;33m)\u001b[0m\u001b[1;33m\u001b[0m\u001b[1;33m\u001b[0m\u001b[0m\n\u001b[0;32m     10\u001b[0m \u001b[1;33m\u001b[0m\u001b[0m\n",
      "\u001b[1;31mTypeError\u001b[0m: __init__() missing 1 required positional argument: 'a'"
     ]
    }
   ],
   "source": [
    "class test:\n",
    "    def __init__(self,a):\n",
    "        self.a=a\n",
    "        \n",
    "    def display(self):\n",
    "        print(self.a)\n",
    "        \n",
    "obj=test()\n",
    "obj.display()\n",
    "\n",
    "\n",
    "\n",
    "### What will be the output of the following Python code?\n",
    "\n",
    "# Correct Answer: Error as one argument is required while creating the object"
   ]
  },
  {
   "cell_type": "markdown",
   "id": "18358d45",
   "metadata": {},
   "source": [
    "#### What is Instantiation in terms of OOP terminology?\n",
    "\n",
    "Correct Answer: Creating an instance of class"
   ]
  },
  {
   "cell_type": "markdown",
   "id": "2eee41ca",
   "metadata": {},
   "source": [
    "#### The assignment of more than one function to a particular operator is _______.\n",
    "\n",
    "Correct Answer: Operator overloading"
   ]
  },
  {
   "cell_type": "code",
   "execution_count": 9,
   "id": "a7fc86a2",
   "metadata": {},
   "outputs": [
    {
     "ename": "NameError",
     "evalue": "name 'APPLE' is not defined",
     "output_type": "error",
     "traceback": [
      "\u001b[1;31m---------------------------------------------------------------------------\u001b[0m",
      "\u001b[1;31mNameError\u001b[0m                                 Traceback (most recent call last)",
      "\u001b[1;32m~\\AppData\\Local\\Temp/ipykernel_15332/18501372.py\u001b[0m in \u001b[0;36m<module>\u001b[1;34m\u001b[0m\n\u001b[0;32m      1\u001b[0m \u001b[1;31m### What error will occur when you execute the following code?\u001b[0m\u001b[1;33m\u001b[0m\u001b[1;33m\u001b[0m\u001b[1;33m\u001b[0m\u001b[0m\n\u001b[0;32m      2\u001b[0m \u001b[1;33m\u001b[0m\u001b[0m\n\u001b[1;32m----> 3\u001b[1;33m \u001b[0mMANGO\u001b[0m \u001b[1;33m=\u001b[0m \u001b[0mAPPLE\u001b[0m\u001b[1;33m\u001b[0m\u001b[1;33m\u001b[0m\u001b[0m\n\u001b[0m\u001b[0;32m      4\u001b[0m \u001b[1;33m\u001b[0m\u001b[0m\n\u001b[0;32m      5\u001b[0m \u001b[1;33m\u001b[0m\u001b[0m\n",
      "\u001b[1;31mNameError\u001b[0m: name 'APPLE' is not defined"
     ]
    }
   ],
   "source": [
    "### What error will occur when you execute the following code?\n",
    "\n",
    "MANGO = APPLE\n",
    "\n",
    "\n",
    "## Correct Answer: NameError"
   ]
  },
  {
   "cell_type": "markdown",
   "id": "ae5821fe",
   "metadata": {},
   "source": [
    "#### You might have heard about the `BODMAS` rule in your school’s mathematics class. Python also uses a similar type of rule known as `PEMDAS`.\n",
    "\n",
    "1.  P – Parentheses  ()\n",
    "\n",
    "2.  E – Exponentiation  exp\n",
    "\n",
    "3.  M – Multiplication *\n",
    "\n",
    "4.  D – Division   /\n",
    "\n",
    "5.  A – Addition   +\n",
    "\n",
    "6.  S – Subtraction   -"
   ]
  },
  {
   "cell_type": "markdown",
   "id": "381263a9",
   "metadata": {},
   "source": [
    "Suppose modulus(%) and division(/) operators have the same precedence. So, if both operators are present in an expression, then the `left one is evaluated first.`"
   ]
  },
  {
   "cell_type": "code",
   "execution_count": 11,
   "id": "a9369146",
   "metadata": {},
   "outputs": [
    {
     "data": {
      "text/plain": [
       "2.5"
      ]
     },
     "execution_count": 11,
     "metadata": {},
     "output_type": "execute_result"
    }
   ],
   "source": [
    "45 % 10 / 2"
   ]
  },
  {
   "cell_type": "code",
   "execution_count": 4,
   "id": "633031c6",
   "metadata": {},
   "outputs": [
    {
     "name": "stdout",
     "output_type": "stream",
     "text": [
      "11.0\n"
     ]
    }
   ],
   "source": [
    "#### What will be the output of this program?\n",
    "\n",
    "print(6 + 5 - 4 * 3 / 2 % 1) #\n",
    "\n",
    "# Correct Answer: 11.0"
   ]
  },
  {
   "cell_type": "code",
   "execution_count": 5,
   "id": "05af3b3b",
   "metadata": {},
   "outputs": [
    {
     "data": {
      "text/plain": [
       "0.0"
      ]
     },
     "execution_count": 5,
     "metadata": {},
     "output_type": "execute_result"
    }
   ],
   "source": [
    "4 * 3 / 2 % 1 # here multiplication will take place first and then devide anfd modulo "
   ]
  },
  {
   "cell_type": "code",
   "execution_count": 6,
   "id": "66e14a50",
   "metadata": {},
   "outputs": [
    {
     "data": {
      "text/plain": [
       "0.5"
      ]
     },
     "execution_count": 6,
     "metadata": {},
     "output_type": "execute_result"
    }
   ],
   "source": [
    "3 / 2 % 1"
   ]
  },
  {
   "cell_type": "code",
   "execution_count": 1,
   "id": "3ef3be36",
   "metadata": {},
   "outputs": [
    {
     "data": {
      "text/plain": [
       "0.5"
      ]
     },
     "execution_count": 1,
     "metadata": {},
     "output_type": "execute_result"
    }
   ],
   "source": [
    "1.5%1"
   ]
  },
  {
   "cell_type": "code",
   "execution_count": 2,
   "id": "b2a6c93f",
   "metadata": {},
   "outputs": [
    {
     "data": {
      "text/plain": [
       "0.5"
      ]
     },
     "execution_count": 2,
     "metadata": {},
     "output_type": "execute_result"
    }
   ],
   "source": [
    "3/2%1"
   ]
  },
  {
   "cell_type": "code",
   "execution_count": 3,
   "id": "8e282412",
   "metadata": {},
   "outputs": [
    {
     "data": {
      "text/plain": [
       "1.0"
      ]
     },
     "execution_count": 3,
     "metadata": {},
     "output_type": "execute_result"
    }
   ],
   "source": [
    "3%2/1"
   ]
  },
  {
   "cell_type": "code",
   "execution_count": 15,
   "id": "a7ffe0e3",
   "metadata": {},
   "outputs": [
    {
     "data": {
      "text/plain": [
       "0"
      ]
     },
     "execution_count": 15,
     "metadata": {},
     "output_type": "execute_result"
    }
   ],
   "source": [
    "6%1"
   ]
  },
  {
   "cell_type": "markdown",
   "id": "60a61243",
   "metadata": {},
   "source": [
    "#### Which of the following functions returns a list containing all matches?\n",
    "\n",
    "\n",
    "Correct Answer: findall"
   ]
  },
  {
   "cell_type": "markdown",
   "id": "8cd6873d",
   "metadata": {},
   "source": [
    "#### In the Python Programming Language, syntax error is detected by ______ at _________.\n",
    "\n",
    "\n",
    "Correct Answer: Interpreter / Run time"
   ]
  },
  {
   "cell_type": "markdown",
   "id": "1ae48b53",
   "metadata": {},
   "source": [
    "#### Which of the following blocks allows you to handle the errors?\n",
    "\n",
    "\n",
    "Correct Answer: except block"
   ]
  },
  {
   "cell_type": "code",
   "execution_count": 16,
   "id": "ca8aa1c7",
   "metadata": {},
   "outputs": [
    {
     "name": "stdout",
     "output_type": "stream",
     "text": [
      "j a v a t p o i n t\n"
     ]
    }
   ],
   "source": [
    "## What will be the output of this program?\n",
    "\n",
    "word=\"javatpoint\"\n",
    "\n",
    "print(*word)\n",
    "\n",
    "##Correct Answer: j a v a t p o i n t\n"
   ]
  },
  {
   "cell_type": "code",
   "execution_count": 17,
   "id": "3ac07def",
   "metadata": {},
   "outputs": [
    {
     "name": "stdout",
     "output_type": "stream",
     "text": [
      "H e l\n"
     ]
    }
   ],
   "source": [
    "word = \"Hello World\"\n",
    "\n",
    "print(*word[:3])"
   ]
  },
  {
   "cell_type": "code",
   "execution_count": 19,
   "id": "5eb3516c",
   "metadata": {},
   "outputs": [
    {
     "name": "stdout",
     "output_type": "stream",
     "text": [
      "d l r o W   o l l e H\n"
     ]
    }
   ],
   "source": [
    "word = \"Hello World\"\n",
    "\n",
    "print(*word[::-1])"
   ]
  },
  {
   "cell_type": "code",
   "execution_count": 20,
   "id": "3752fc58",
   "metadata": {},
   "outputs": [
    {
     "name": "stdout",
     "output_type": "stream",
     "text": [
      "H l o W r d\n"
     ]
    }
   ],
   "source": [
    "word = \"Hello World\"\n",
    "\n",
    "print(*word[::2])"
   ]
  },
  {
   "cell_type": "markdown",
   "id": "54a7c079",
   "metadata": {},
   "source": [
    "#### What is hasattr(obj,name) used for?\n",
    "\n",
    "\n",
    "Correct Answer: To check if an attribute exists or not"
   ]
  },
  {
   "cell_type": "code",
   "execution_count": 21,
   "id": "52db894c",
   "metadata": {},
   "outputs": [],
   "source": [
    "## Which of the following statements would create an instance of Ubuntu class correctly?\n",
    "\n",
    "class Ubuntu:\n",
    "    def __init__(self, ramsize):\n",
    "        self.ram = ramsize\n",
    "        self.type = 'server'\n",
    "        \n",
    "Ubuntu = Ubuntu(2000)     "
   ]
  },
  {
   "cell_type": "code",
   "execution_count": 23,
   "id": "c5ddf07d",
   "metadata": {},
   "outputs": [
    {
     "name": "stdout",
     "output_type": "stream",
     "text": [
      "8\n"
     ]
    }
   ],
   "source": [
    "# Which of the following is the output of the below Python code?\n",
    "\n",
    "def test1(param):\n",
    "    return param\n",
    "\n",
    "def test2(param):\n",
    "    return param * 2\n",
    "\n",
    "def test3(param):\n",
    "    return param + 3\n",
    "\n",
    "result = test1(test2(test3(1)))\n",
    "print(result)"
   ]
  },
  {
   "cell_type": "code",
   "execution_count": 24,
   "id": "4b19adf9",
   "metadata": {},
   "outputs": [
    {
     "name": "stdout",
     "output_type": "stream",
     "text": [
      "2.0\n"
     ]
    }
   ],
   "source": [
    "# Which of the following is the output of the Python code fragment given below?\n",
    "\n",
    "var1 = 4.5\n",
    "var2 = 2\n",
    "print(var1//var2)"
   ]
  },
  {
   "cell_type": "code",
   "execution_count": 25,
   "id": "f89b0204",
   "metadata": {},
   "outputs": [
    {
     "name": "stdout",
     "output_type": "stream",
     "text": [
      "efg\n"
     ]
    }
   ],
   "source": [
    "## Which of the following is the output of the code given below?\n",
    "\n",
    "mylist=['abc','cde','abcde','efg']\n",
    "print(max(mylist))"
   ]
  },
  {
   "cell_type": "code",
   "execution_count": 26,
   "id": "96b72be7",
   "metadata": {},
   "outputs": [
    {
     "name": "stdout",
     "output_type": "stream",
     "text": [
      "24\n"
     ]
    }
   ],
   "source": [
    "## Which of the following is the output of the below Python code?\n",
    "\n",
    "var1 = lambda var: var * 2\n",
    "ret = lambda var: var * 3\n",
    "result = 2\n",
    "result = var1(result)\n",
    "result = ret(result)\n",
    "result = var1(result)\n",
    "print(result)"
   ]
  },
  {
   "cell_type": "code",
   "execution_count": 27,
   "id": "5eb78844",
   "metadata": {},
   "outputs": [
    {
     "name": "stdout",
     "output_type": "stream",
     "text": [
      "4\n"
     ]
    }
   ],
   "source": [
    "## Which of the following is the output of the below Python code snippet?\n",
    "\n",
    "ints = set([1,1,2,3,3,3,4])\n",
    "print(len(ints))"
   ]
  },
  {
   "cell_type": "code",
   "execution_count": 28,
   "id": "b936e008",
   "metadata": {},
   "outputs": [
    {
     "ename": "TypeError",
     "evalue": "catching classes that do not inherit from BaseException is not allowed",
     "output_type": "error",
     "traceback": [
      "\u001b[1;31m---------------------------------------------------------------------------\u001b[0m",
      "\u001b[1;31mTypeError\u001b[0m                                 Traceback (most recent call last)",
      "\u001b[1;32m~\\AppData\\Local\\Temp/ipykernel_15332/1105491090.py\u001b[0m in \u001b[0;36m<module>\u001b[1;34m\u001b[0m\n\u001b[0;32m      4\u001b[0m     \u001b[1;32mif\u001b[0m \u001b[1;34m'1'\u001b[0m \u001b[1;33m!=\u001b[0m \u001b[1;36m1\u001b[0m\u001b[1;33m:\u001b[0m\u001b[1;33m\u001b[0m\u001b[1;33m\u001b[0m\u001b[0m\n\u001b[1;32m----> 5\u001b[1;33m         \u001b[1;32mraise\u001b[0m \u001b[1;34m\"firstError\"\u001b[0m\u001b[1;33m\u001b[0m\u001b[1;33m\u001b[0m\u001b[0m\n\u001b[0m\u001b[0;32m      6\u001b[0m     \u001b[1;32melse\u001b[0m\u001b[1;33m:\u001b[0m\u001b[1;33m\u001b[0m\u001b[1;33m\u001b[0m\u001b[0m\n",
      "\u001b[1;31mTypeError\u001b[0m: exceptions must derive from BaseException",
      "\nDuring handling of the above exception, another exception occurred:\n",
      "\u001b[1;31mTypeError\u001b[0m                                 Traceback (most recent call last)",
      "\u001b[1;32m~\\AppData\\Local\\Temp/ipykernel_15332/1105491090.py\u001b[0m in \u001b[0;36m<module>\u001b[1;34m\u001b[0m\n\u001b[0;32m      7\u001b[0m          \u001b[0mprint\u001b[0m\u001b[1;33m(\u001b[0m\u001b[1;34m\"firstError has not occured\"\u001b[0m\u001b[1;33m)\u001b[0m\u001b[1;33m\u001b[0m\u001b[1;33m\u001b[0m\u001b[0m\n\u001b[0;32m      8\u001b[0m \u001b[1;33m\u001b[0m\u001b[0m\n\u001b[1;32m----> 9\u001b[1;33m \u001b[1;32mexcept\u001b[0m \u001b[1;34m\"firstError\"\u001b[0m\u001b[1;33m:\u001b[0m\u001b[1;33m\u001b[0m\u001b[1;33m\u001b[0m\u001b[0m\n\u001b[0m\u001b[0;32m     10\u001b[0m     \u001b[0mprint\u001b[0m\u001b[1;33m(\u001b[0m\u001b[1;34m\"firstError has occured\"\u001b[0m\u001b[1;33m)\u001b[0m\u001b[1;33m\u001b[0m\u001b[1;33m\u001b[0m\u001b[0m\n",
      "\u001b[1;31mTypeError\u001b[0m: catching classes that do not inherit from BaseException is not allowed"
     ]
    }
   ],
   "source": [
    "# Which of the following is the output of the below Python code?\n",
    "\n",
    "try:\n",
    "    if '1' != 1:\n",
    "        raise \"firstError\"\n",
    "    else:\n",
    "         print(\"firstError has not occured\")\n",
    "            \n",
    "except \"firstError\":\n",
    "    print(\"firstError has occured\")\n",
    "    \n",
    "#  TypeError occurs"
   ]
  },
  {
   "cell_type": "code",
   "execution_count": 30,
   "id": "b825ad38",
   "metadata": {},
   "outputs": [
    {
     "name": "stdout",
     "output_type": "stream",
     "text": [
      "['h', 'e', 'l', 'l', 'o']\n"
     ]
    }
   ],
   "source": [
    "# Which of the following is the correct output of the call to below line of code?\n",
    "\n",
    "print(list(\"hello\"))"
   ]
  },
  {
   "cell_type": "code",
   "execution_count": 33,
   "id": "432462b4",
   "metadata": {},
   "outputs": [
    {
     "name": "stdout",
     "output_type": "stream",
     "text": [
      "['a', 'b', 'c', '2', '2', '3']\n"
     ]
    }
   ],
   "source": [
    "print(list(\"abc223\"))"
   ]
  },
  {
   "cell_type": "code",
   "execution_count": 34,
   "id": "7067b59b",
   "metadata": {},
   "outputs": [
    {
     "name": "stdout",
     "output_type": "stream",
     "text": [
      "['1', '2', '3', '4', '4']\n"
     ]
    }
   ],
   "source": [
    "print(list(\"12344\"))"
   ]
  },
  {
   "cell_type": "code",
   "execution_count": 35,
   "id": "7e0f541c",
   "metadata": {},
   "outputs": [
    {
     "ename": "TypeError",
     "evalue": "'int' object is not iterable",
     "output_type": "error",
     "traceback": [
      "\u001b[1;31m---------------------------------------------------------------------------\u001b[0m",
      "\u001b[1;31mTypeError\u001b[0m                                 Traceback (most recent call last)",
      "\u001b[1;32m~\\AppData\\Local\\Temp/ipykernel_15332/2705499920.py\u001b[0m in \u001b[0;36m<module>\u001b[1;34m\u001b[0m\n\u001b[1;32m----> 1\u001b[1;33m \u001b[0mprint\u001b[0m\u001b[1;33m(\u001b[0m\u001b[0mlist\u001b[0m\u001b[1;33m(\u001b[0m\u001b[1;36m12334\u001b[0m\u001b[1;33m)\u001b[0m\u001b[1;33m)\u001b[0m\u001b[1;33m\u001b[0m\u001b[1;33m\u001b[0m\u001b[0m\n\u001b[0m",
      "\u001b[1;31mTypeError\u001b[0m: 'int' object is not iterable"
     ]
    }
   ],
   "source": [
    "print(list(12334))"
   ]
  },
  {
   "cell_type": "code",
   "execution_count": 36,
   "id": "52fa51e7",
   "metadata": {},
   "outputs": [
    {
     "name": "stdout",
     "output_type": "stream",
     "text": [
      "['1', '2', '3', '3', '4']\n"
     ]
    }
   ],
   "source": [
    "print(list(str(12334)))"
   ]
  },
  {
   "cell_type": "code",
   "execution_count": 37,
   "id": "fd0681a3",
   "metadata": {},
   "outputs": [
    {
     "name": "stdout",
     "output_type": "stream",
     "text": [
      "None\n"
     ]
    }
   ],
   "source": [
    "# Which of the following is the output of the below piece of code?\n",
    "\n",
    "import random\n",
    "print(random.seed(3))\n",
    "# output - None"
   ]
  },
  {
   "cell_type": "code",
   "execution_count": 38,
   "id": "3962d39c",
   "metadata": {},
   "outputs": [
    {
     "name": "stdout",
     "output_type": "stream",
     "text": [
      "[20, 30, 10]\n"
     ]
    }
   ],
   "source": [
    "## Which of the following statements best describes the behavior of \n",
    "## the random.shuffle(mylist) as being used in the below code fragment?\n",
    "\n",
    "import random\n",
    "mylist = [10, 20, 30]\n",
    "random.shuffle(mylist)\n",
    "print(mylist)\n",
    "\n",
    "# output -- return a list where elements 10, 20 and 30 would be at random positions."
   ]
  },
  {
   "cell_type": "code",
   "execution_count": 41,
   "id": "55faf7a6",
   "metadata": {},
   "outputs": [
    {
     "data": {
      "text/plain": [
       "0"
      ]
     },
     "execution_count": 41,
     "metadata": {},
     "output_type": "execute_result"
    }
   ],
   "source": [
    "int(-1/2)"
   ]
  },
  {
   "cell_type": "code",
   "execution_count": 42,
   "id": "0424c720",
   "metadata": {},
   "outputs": [
    {
     "data": {
      "text/plain": [
       "-1"
      ]
     },
     "execution_count": 42,
     "metadata": {},
     "output_type": "execute_result"
    }
   ],
   "source": [
    "int(-1)"
   ]
  },
  {
   "cell_type": "code",
   "execution_count": 46,
   "id": "308d5ed9",
   "metadata": {},
   "outputs": [
    {
     "data": {
      "text/plain": [
       "-0.5"
      ]
     },
     "execution_count": 46,
     "metadata": {},
     "output_type": "execute_result"
    }
   ],
   "source": [
    "float(-1/2)"
   ]
  },
  {
   "cell_type": "code",
   "execution_count": 44,
   "id": "020edf97",
   "metadata": {},
   "outputs": [
    {
     "data": {
      "text/plain": [
       "0"
      ]
     },
     "execution_count": 44,
     "metadata": {},
     "output_type": "execute_result"
    }
   ],
   "source": [
    "int(0.123)"
   ]
  },
  {
   "cell_type": "code",
   "execution_count": 45,
   "id": "f97d44df",
   "metadata": {},
   "outputs": [
    {
     "data": {
      "text/plain": [
       "0"
      ]
     },
     "execution_count": 45,
     "metadata": {},
     "output_type": "execute_result"
    }
   ],
   "source": [
    "int(0.5678)"
   ]
  },
  {
   "cell_type": "code",
   "execution_count": 39,
   "id": "4eff59cb",
   "metadata": {},
   "outputs": [
    {
     "name": "stdout",
     "output_type": "stream",
     "text": [
      "a\n"
     ]
    }
   ],
   "source": [
    "mylist=['a', 'aa', 'aaa', 'b', 'bb', 'bbb']\n",
    "print(mylist[int(-1/2)])"
   ]
  },
  {
   "cell_type": "code",
   "execution_count": 40,
   "id": "462dd4b0",
   "metadata": {},
   "outputs": [
    {
     "name": "stdout",
     "output_type": "stream",
     "text": [
      "bbb\n"
     ]
    }
   ],
   "source": [
    "mylist=['a', 'aa', 'aaa', 'b', 'bb', 'bbb']\n",
    "print(mylist[-1])"
   ]
  },
  {
   "cell_type": "code",
   "execution_count": 48,
   "id": "d8f56927",
   "metadata": {},
   "outputs": [
    {
     "name": "stdout",
     "output_type": "stream",
     "text": [
      "11111\n",
      "22222\n",
      "33333\n",
      "44444\n",
      "55555\n"
     ]
    }
   ],
   "source": [
    "for i in range(1, 6):\n",
    "    print(str(i) * 5)"
   ]
  },
  {
   "cell_type": "code",
   "execution_count": 49,
   "id": "df8022bb",
   "metadata": {},
   "outputs": [
    {
     "name": "stdout",
     "output_type": "stream",
     "text": [
      "14\n"
     ]
    }
   ],
   "source": [
    "## Which of the following is the output of the instructions mentioned below?\n",
    "\n",
    "def test1(param):\n",
    "    return str(param)\n",
    "\n",
    "def test2(param):\n",
    "    return str(2 * param)\n",
    "\n",
    "result = test1(1) + test2(2)\n",
    "print(result)"
   ]
  },
  {
   "cell_type": "code",
   "execution_count": 50,
   "id": "af3f80e5",
   "metadata": {},
   "outputs": [
    {
     "name": "stdout",
     "output_type": "stream",
     "text": [
      "1\n"
     ]
    }
   ],
   "source": [
    "### Which of the following is the output of the lines of code specified below?\n",
    "\n",
    "x = 1\n",
    "print(++++x)"
   ]
  },
  {
   "cell_type": "code",
   "execution_count": 51,
   "id": "33eeb5ea",
   "metadata": {},
   "outputs": [
    {
     "name": "stdout",
     "output_type": "stream",
     "text": [
      "15\n"
     ]
    }
   ],
   "source": [
    "### Which of the following is the output of the instructions given below?\n",
    "\n",
    "mylist=[1, 5, 9, int('0')]\n",
    "print(sum(mylist))"
   ]
  },
  {
   "cell_type": "code",
   "execution_count": 52,
   "id": "3435e72e",
   "metadata": {},
   "outputs": [
    {
     "name": "stdout",
     "output_type": "stream",
     "text": [
      "33\n"
     ]
    }
   ],
   "source": [
    "# Which of the following correctly describes the output of the below Python code?\n",
    "\n",
    "testArr = [11, 22, 33, 22, 11] \n",
    "result = testArr[0] \n",
    "for iter in testArr: \n",
    "    if iter > result:\n",
    "        result = iter\n",
    "print(result)\n",
    "\n",
    "#  result is the largest number in the list."
   ]
  },
  {
   "cell_type": "code",
   "execution_count": 54,
   "id": "e8aefc52",
   "metadata": {},
   "outputs": [
    {
     "name": "stdout",
     "output_type": "stream",
     "text": [
      "2\n"
     ]
    }
   ],
   "source": [
    "# Which of the following is the output of the below Python code?\n",
    "\n",
    "def test():\n",
    "    try:\n",
    "        return 1\n",
    "    \n",
    "    finally:\n",
    "        return 2\n",
    "\n",
    "result = test()\n",
    "print(result)"
   ]
  },
  {
   "cell_type": "code",
   "execution_count": 55,
   "id": "e206a3fc",
   "metadata": {},
   "outputs": [
    {
     "name": "stdout",
     "output_type": "stream",
     "text": [
      "Monday\n",
      "Tuesday\n"
     ]
    }
   ],
   "source": [
    "# Which of the following is the output of the below Python code?\n",
    "\n",
    "def myfunc():\n",
    "    try:\n",
    "        print('Monday')\n",
    "    finally:\n",
    "        print('Tuesday')\n",
    "        \n",
    "myfunc()"
   ]
  },
  {
   "cell_type": "code",
   "execution_count": 56,
   "id": "390e54aa",
   "metadata": {},
   "outputs": [
    {
     "name": "stdout",
     "output_type": "stream",
     "text": [
      "True\n"
     ]
    }
   ],
   "source": [
    "###  Determine the output of the below Python code fragment?\n",
    "\n",
    "var1 = True\n",
    "var2 = False\n",
    "var3 = False\n",
    "\n",
    "if var1 or var2 and var3:\n",
    "    print(\"True\")\n",
    "else:\n",
    "    print(\"False\")"
   ]
  },
  {
   "cell_type": "code",
   "execution_count": 57,
   "id": "dbe34498",
   "metadata": {},
   "outputs": [
    {
     "name": "stdout",
     "output_type": "stream",
     "text": [
      "False\n"
     ]
    }
   ],
   "source": [
    "var1 = True\n",
    "var2 = False\n",
    "var3 = False\n",
    "\n",
    "if var2 and var3:\n",
    "    print(\"True\")\n",
    "else:\n",
    "    print(\"False\")"
   ]
  },
  {
   "cell_type": "code",
   "execution_count": 58,
   "id": "aae08d6c",
   "metadata": {},
   "outputs": [
    {
     "name": "stdout",
     "output_type": "stream",
     "text": [
      "False\n"
     ]
    }
   ],
   "source": [
    "var1 = True\n",
    "var2 = False\n",
    "var3 = False\n",
    "\n",
    "if var1 and var2 or var3:\n",
    "    print(\"True\")\n",
    "else:\n",
    "    print(\"False\")"
   ]
  },
  {
   "cell_type": "code",
   "execution_count": 59,
   "id": "db62e3ee",
   "metadata": {},
   "outputs": [
    {
     "name": "stdout",
     "output_type": "stream",
     "text": [
      "['a', 'aa', 'aaa', 'b', 'bb']\n"
     ]
    }
   ],
   "source": [
    "# Which of the following is the output of the below Python code?\n",
    "\n",
    "mylist=['a', 'aa', 'aaa', 'b', 'bb', 'bbb']\n",
    "print(mylist[:-1])"
   ]
  },
  {
   "cell_type": "code",
   "execution_count": 1,
   "id": "30a6e999",
   "metadata": {},
   "outputs": [
    {
     "name": "stdout",
     "output_type": "stream",
     "text": [
      "Enter the terms: 5\n",
      "0 1 1 2 3 "
     ]
    }
   ],
   "source": [
    "# fabonacci series\n",
    "a=int(input(\"Enter the terms: \"))\n",
    "f=0                                         #first element of series\n",
    "s=1                                         #second element of series\n",
    "if a<=0:\n",
    "    print(\"The requested series is\",f)\n",
    "else:\n",
    "    print(f,s,end=\" \")\n",
    "    for x in range(2,a):\n",
    "        next=f+s                           \n",
    "        print(next,end=\" \")\n",
    "        f=s\n",
    "        s=next"
   ]
  },
  {
   "cell_type": "code",
   "execution_count": 3,
   "id": "a5ce91f0",
   "metadata": {},
   "outputs": [
    {
     "name": "stdout",
     "output_type": "stream",
     "text": [
      "Please enter the number0\n",
      "the requested series is : 0\n"
     ]
    }
   ],
   "source": [
    "a = int(input(\"Please enter the number\"))\n",
    "\n",
    "f = 0\n",
    "s = 1\n",
    "\n",
    "if a<= 0:\n",
    "    print(\"the requested series is :\", f)\n",
    "else:\n",
    "    print(f, s, end = \" \")\n",
    "    for x in range (2, a):\n",
    "        next = f+s\n",
    "        print(next, end=\" \")\n",
    "        f = s\n",
    "        s = next"
   ]
  },
  {
   "cell_type": "code",
   "execution_count": 4,
   "id": "7f6f7a05",
   "metadata": {},
   "outputs": [
    {
     "name": "stdout",
     "output_type": "stream",
     "text": [
      "please enter the word: rer\n",
      "Panlindrome\n"
     ]
    }
   ],
   "source": [
    "## check the palindrome\n",
    "\n",
    "a = input(\"please enter the word: \")\n",
    "b = a[::-1]\n",
    "if a == b:\n",
    "    print(\"Panlindrome\")\n",
    "\n",
    "else:\n",
    "    print(\"Not a Palindrome\")"
   ]
  },
  {
   "cell_type": "code",
   "execution_count": 8,
   "id": "0b6c3268",
   "metadata": {},
   "outputs": [
    {
     "name": "stdout",
     "output_type": "stream",
     "text": [
      "please enter the number: 5\n",
      "Prime\n"
     ]
    }
   ],
   "source": [
    "## Check a prime number\n",
    "\n",
    "a = int(input(\"please enter the number: \"))\n",
    "\n",
    "if a>1:\n",
    "    \n",
    "    for x in range(2, a):\n",
    "        if (a%x == 0):\n",
    "            print(\"Not Prime\")\n",
    "            break\n",
    "            \n",
    "    else:\n",
    "        print(\"Prime\")\n",
    "        \n",
    "else:\n",
    "    print(\"Not Prime\")"
   ]
  },
  {
   "cell_type": "code",
   "execution_count": 2,
   "id": "d433069b",
   "metadata": {},
   "outputs": [
    {
     "name": "stdout",
     "output_type": "stream",
     "text": [
      "Please enter the number : 4\n",
      "Not a Prime\n"
     ]
    }
   ],
   "source": [
    "a = int(input(\"Please enter the number : \"))\n",
    "if a >1:\n",
    "    for x in range(2, a):\n",
    "        if a%x == 0:\n",
    "            print(\"Not a Prime\")\n",
    "            break\n",
    "    else :\n",
    "        print(\"Prime\")\n",
    "        \n",
    "else:\n",
    "    print(\"Not a Prime\")"
   ]
  },
  {
   "cell_type": "code",
   "execution_count": 9,
   "id": "e03df200",
   "metadata": {},
   "outputs": [
    {
     "data": {
      "text/plain": [
       "'Hello Word'"
      ]
     },
     "execution_count": 9,
     "metadata": {},
     "output_type": "execute_result"
    }
   ],
   "source": [
    "\n",
    "# Create a Python function called title_case() that accepts text as a parameter and returns \n",
    "# with a capitalized first letter of every word while the rest is in lowercase\n",
    "def title_case(param):\n",
    "    return param.title()\n",
    "\n",
    "\n",
    "title_case(\"hello word\")"
   ]
  },
  {
   "cell_type": "code",
   "execution_count": 25,
   "id": "f2417c82",
   "metadata": {},
   "outputs": [
    {
     "data": {
      "text/plain": [
       "True"
      ]
     },
     "execution_count": 25,
     "metadata": {},
     "output_type": "execute_result"
    }
   ],
   "source": [
    "# Email check wether it is valid or not \n",
    "\n",
    "def email_checker(param):\n",
    "    \n",
    "    if \"@\" and \".\" in list(param):\n",
    "        return True\n",
    "    else:\n",
    "        return False\n",
    "    \n",
    "email_checker(\"akshukla283@gmail.com\")"
   ]
  },
  {
   "cell_type": "code",
   "execution_count": 26,
   "id": "cc0e227b",
   "metadata": {},
   "outputs": [
    {
     "name": "stdout",
     "output_type": "stream",
     "text": [
      "Valid Email\n",
      "Valid Email\n",
      "Invalid Email\n"
     ]
    }
   ],
   "source": [
    "# Python program to validate an Email\n",
    "# import re module\n",
    "# re module provides support\n",
    "# for regular expressions\n",
    "import re\n",
    " \n",
    "# Make a regular expression\n",
    "# for validating an Email\n",
    "regex = r'\\b[A-Za-z0-9._%+-]+@[A-Za-z0-9.-]+\\.[A-Z|a-z]{2,}\\b'\n",
    " \n",
    "# Define a function for\n",
    "# for validating an Email\n",
    "def check(email):\n",
    "    # pass the regular expression\n",
    "    # and the string into the fullmatch() method\n",
    "    if(re.fullmatch(regex, email)):\n",
    "        print(\"Valid Email\")\n",
    " \n",
    "    else:\n",
    "        print(\"Invalid Email\")\n",
    " \n",
    " \n",
    "# Driver Code\n",
    "if __name__ == '__main__':\n",
    " \n",
    "    # Enter the email\n",
    "    email = \"ankitrai326@gmail.com\"\n",
    " \n",
    "    # calling run function\n",
    "    check(email)\n",
    " \n",
    "    email = \"my.ownsite@our-earth.org\"\n",
    "    check(email)\n",
    " \n",
    "    email = \"ankitrai326.com\"\n",
    "    check(email)"
   ]
  },
  {
   "cell_type": "code",
   "execution_count": 29,
   "id": "efadf6a5",
   "metadata": {},
   "outputs": [
    {
     "data": {
      "text/plain": [
       "['a', 'bb', 'ccc', 'ddd']"
      ]
     },
     "execution_count": 29,
     "metadata": {},
     "output_type": "execute_result"
    }
   ],
   "source": [
    "def list_sort(param):\n",
    "    new_list1 = param[:2]\n",
    "    new_list2 = param[2:]\n",
    "    result = new_list1 + new_list2[::-1]\n",
    "    \n",
    "    return result\n",
    "\n",
    "list_sort([\"a\",\"bb\", \"ddd\", \"ccc\"])\n",
    "# output - [\"a\", \"bb\", \"ccc\", \"ddd\"]"
   ]
  },
  {
   "cell_type": "code",
   "execution_count": 4,
   "id": "84cf0af3",
   "metadata": {},
   "outputs": [
    {
     "name": "stdout",
     "output_type": "stream",
     "text": [
      "I love coding in Python\n",
      "\n"
     ]
    }
   ],
   "source": [
    "#Create a Python function that is parameter passed a file name and returns the second line \n",
    "# in the file. If there is no second line or the file does not exist return None.\n",
    "\n",
    "def check_file(param):\n",
    "    filename = param\n",
    "    try:\n",
    "        with open(filename, \"r\") as f:\n",
    "            lines = f.readlines()\n",
    "            # f.close() no need to write close when we open or file using \"with\"\n",
    "            if lines[1]:\n",
    "                print(lines[1])\n",
    "            else:\n",
    "                pass\n",
    "                \n",
    "                \n",
    "    except FileNotFoundError:\n",
    "        return None\n",
    "\n",
    "\n",
    "check_file(\"test.txt\")\n"
   ]
  },
  {
   "cell_type": "code",
   "execution_count": 2,
   "id": "17fabb0e",
   "metadata": {},
   "outputs": [
    {
     "name": "stdout",
     "output_type": "stream",
     "text": [
      "['My name is Ankit Shukla.\\n', 'I love coding in Python\\n', 'I am enjoying my Data Science Learning using Python.']\n"
     ]
    }
   ],
   "source": [
    "with open(\"test.txt\", \"r\") as f:\n",
    "            lines = f.readlines()\n",
    "            print(lines)"
   ]
  },
  {
   "cell_type": "code",
   "execution_count": 3,
   "id": "bb2088ff",
   "metadata": {},
   "outputs": [],
   "source": [
    "def check_file(param):\n",
    "    filename = param\n",
    "    try:\n",
    "        with open(filename, \"r\") as f:\n",
    "            lines = f.readlines()\n",
    "            f.close()\n",
    "            if lines[1]:\n",
    "                print(lines[1])\n",
    "            else:\n",
    "                pass\n",
    "                    \n",
    "    except FileNotFoundError:\n",
    "        return None\n",
    "            \n",
    "check_file(\"yes.txt\")\n"
   ]
  },
  {
   "cell_type": "code",
   "execution_count": 68,
   "id": "5adfe2f9",
   "metadata": {},
   "outputs": [
    {
     "ename": "AttributeError",
     "evalue": "'junk' object has no attribute 'tt'",
     "output_type": "error",
     "traceback": [
      "\u001b[1;31m---------------------------------------------------------------------------\u001b[0m",
      "\u001b[1;31mAttributeError\u001b[0m                            Traceback (most recent call last)",
      "\u001b[1;32m~\\AppData\\Local\\Temp/ipykernel_16068/1929572338.py\u001b[0m in \u001b[0;36m<module>\u001b[1;34m\u001b[0m\n\u001b[0;32m     15\u001b[0m \u001b[1;31m# f.ww\u001b[0m\u001b[1;33m\u001b[0m\u001b[1;33m\u001b[0m\u001b[1;33m\u001b[0m\u001b[0m\n\u001b[0;32m     16\u001b[0m \u001b[1;31m# f = junk.tt\u001b[0m\u001b[1;33m\u001b[0m\u001b[1;33m\u001b[0m\u001b[1;33m\u001b[0m\u001b[0m\n\u001b[1;32m---> 17\u001b[1;33m \u001b[0mf\u001b[0m \u001b[1;33m=\u001b[0m \u001b[0mjunk\u001b[0m\u001b[1;33m(\u001b[0m\u001b[1;33m)\u001b[0m\u001b[1;33m.\u001b[0m\u001b[0mtt\u001b[0m\u001b[1;33m\u001b[0m\u001b[1;33m\u001b[0m\u001b[0m\n\u001b[0m",
      "\u001b[1;31mAttributeError\u001b[0m: 'junk' object has no attribute 'tt'"
     ]
    }
   ],
   "source": [
    "#Using the Python class below, which statements will produce the value 'ww'?\n",
    "class junk:\n",
    "    def __init__(self):\n",
    "        tt = 'ww'\n",
    "        ww = 'tt'\n",
    "        \n",
    "        \n",
    "# f = junk()\n",
    "# f.tt\n",
    "\n",
    "# f = junk \n",
    "# f.get(tt)\n",
    "\n",
    "# f = junk()\n",
    "# f.ww\n",
    "# f = junk.tt\n",
    "# f = junk().tt\n",
    "\n",
    "# none of the above will produce 'ww' without self add to the attribute like slef.tt, self.ww"
   ]
  },
  {
   "cell_type": "code",
   "execution_count": 69,
   "id": "3c255821",
   "metadata": {},
   "outputs": [
    {
     "data": {
      "text/plain": [
       "'ww'"
      ]
     },
     "execution_count": 69,
     "metadata": {},
     "output_type": "execute_result"
    }
   ],
   "source": [
    "class junk:\n",
    "    def __init__(self):\n",
    "        self.tt = 'ww'\n",
    "        self.ww = 'tt'\n",
    "        \n",
    "        \n",
    "f = junk()\n",
    "# f.tt\n",
    "# f.get(tt)\n",
    "\n",
    "f.tt"
   ]
  },
  {
   "cell_type": "code",
   "execution_count": 73,
   "id": "042bc865",
   "metadata": {},
   "outputs": [
    {
     "data": {
      "text/plain": [
       "'junk'"
      ]
     },
     "execution_count": 73,
     "metadata": {},
     "output_type": "execute_result"
    }
   ],
   "source": [
    "# Given this Python statement:\n",
    "x = 'y'\n",
    "z = { x: 'junk' }\n",
    "\n",
    "# which expression gives the result 'junk'?\n",
    "\n",
    "z['y']\n"
   ]
  },
  {
   "cell_type": "code",
   "execution_count": null,
   "id": "a5edc465",
   "metadata": {},
   "outputs": [],
   "source": [
    "# Given you have two sets in Python, one called 'a' and one called 'b', how do you create a set has the contents in set a or b but not in both?"
   ]
  },
  {
   "cell_type": "code",
   "execution_count": 74,
   "id": "1d7d28e7",
   "metadata": {},
   "outputs": [
    {
     "name": "stdout",
     "output_type": "stream",
     "text": [
      "1\n"
     ]
    }
   ],
   "source": [
    "# In Python, what is the length of x in this Python code?\n",
    "x = 45,\n",
    "print(len(x))"
   ]
  },
  {
   "cell_type": "code",
   "execution_count": 77,
   "id": "917d424e",
   "metadata": {},
   "outputs": [
    {
     "data": {
      "text/plain": [
       "3"
      ]
     },
     "execution_count": 77,
     "metadata": {},
     "output_type": "execute_result"
    }
   ],
   "source": [
    "x = 121,12,46\n",
    "len(x)"
   ]
  },
  {
   "cell_type": "code",
   "execution_count": 80,
   "id": "c1cf9f7d",
   "metadata": {},
   "outputs": [
    {
     "data": {
      "text/plain": [
       "3"
      ]
     },
     "execution_count": 80,
     "metadata": {},
     "output_type": "execute_result"
    }
   ],
   "source": [
    "lst =['a',3,5,]\n",
    "len(lst)"
   ]
  },
  {
   "cell_type": "code",
   "execution_count": 83,
   "id": "626e4f45",
   "metadata": {},
   "outputs": [
    {
     "name": "stdout",
     "output_type": "stream",
     "text": [
      "line 2\n"
     ]
    }
   ],
   "source": [
    "\n",
    "# What is the output from this Python code?\n",
    "x = 3\n",
    "if (x == 2):\n",
    "    print('line 1')\n",
    "elif (x == 3):\n",
    "    print('line 2')\n",
    "elif (x == 4):\n",
    "    print('line 3')\n",
    "else: \n",
    "    print('line 4')\n"
   ]
  },
  {
   "cell_type": "markdown",
   "id": "bd7afd2b",
   "metadata": {},
   "source": [
    "#### Write an expression for a string literal consisting of the following ASCII characters:\n",
    "\n",
    "'\\t' is the escape sequence for the Horizontal Tab character.\n",
    "\n",
    "'\\n' is the escape sequence for the Newline character.\n",
    "\n",
    "To specify a character by hexadecimal value, use '\\xhh', where hh specifies the hexadecimal digits.\n",
    "\n",
    "Here are a few possible correct answers:\n",
    "\n",
    "`\"\\t\\n\\x7E\"`\n",
    "\n",
    "`'\\t\\n\\x7E'`\n",
    "\n",
    "`'''\\t\\n\\x7E'''`\n",
    "`\n",
    "\"\"\"\\t\\n\\x7E\"\"\"`"
   ]
  },
  {
   "cell_type": "markdown",
   "id": "a4162a80",
   "metadata": {},
   "source": [
    "How would you express the hexadecimal value a5 as a base-16 integer constant in Python?\n",
    "\n",
    "Answer - 0xa5"
   ]
  },
  {
   "cell_type": "markdown",
   "id": "f7defc86",
   "metadata": {},
   "source": [
    "#### When you try to run Python scripts, a multi-step process begins. In this process the interpreter will:\n",
    "\n",
    "Process the statements of your script in a sequential fashion.\n",
    "\n",
    "Compile the source code to an intermediate format known as bytecode. This bytecode is a translation of the code into a lower-level language that’s platform-independent.\n",
    "\n",
    "Ship off the code for execution. At this point, something known as a Python Virtual Machine (PVM) comes into action. The PVM is the runtime engine of Python. It is a cycle that iterates over the instructions of your bytecode to run them one by one.\n",
    "\n",
    "The whole process to run Python scripts is known as the Python Execution Model."
   ]
  },
  {
   "cell_type": "markdown",
   "id": "297b9cce",
   "metadata": {},
   "source": [
    "##### To make sure your Python file runs, remember to specify the Python path to the interpreter. It can be done by adding the path to the first line of your file. There are two ways to do so:\n",
    "\n",
    "#!/usr/bin/python: Writing the absolute path.\n",
    "\n",
    "#!/usr/bin/env python or #!/usr/bin/env python3: Using the operating system env command, which locates and executes Python by searching the PATH environment variable.\n",
    "\n",
    "Review: Python Code from a File Manager"
   ]
  },
  {
   "cell_type": "markdown",
   "id": "e875f7bd",
   "metadata": {},
   "source": [
    "The Standard Library includes a module called runpy. In this module, you can find run_module(), which is a function that allows you to run modules without importing them first. This function returns the globals dictionary of the executed module.\n",
    "\n",
    "Here’s an example of how you can use it:\n",
    "\n",
    "`>>> runpy.run_module(mod_name='hello')\n",
    "\n",
    "Hello World!\n",
    "\n",
    "{'__name__': 'hello',\n",
    "\n",
    "    ...\n",
    "'_': None}}\n",
    "\n",
    "\n",
    "For your reference, the module hello is defined as follows:\n",
    "\n",
    "print(\"Hello World!\")`"
   ]
  },
  {
   "cell_type": "code",
   "execution_count": null,
   "id": "df7666d6",
   "metadata": {},
   "outputs": [],
   "source": []
  }
 ],
 "metadata": {
  "kernelspec": {
   "display_name": "Python 3 (ipykernel)",
   "language": "python",
   "name": "python3"
  },
  "language_info": {
   "codemirror_mode": {
    "name": "ipython",
    "version": 3
   },
   "file_extension": ".py",
   "mimetype": "text/x-python",
   "name": "python",
   "nbconvert_exporter": "python",
   "pygments_lexer": "ipython3",
   "version": "3.7.8"
  }
 },
 "nbformat": 4,
 "nbformat_minor": 5
}

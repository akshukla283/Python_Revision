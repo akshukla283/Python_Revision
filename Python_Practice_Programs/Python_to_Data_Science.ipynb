{
 "cells": [
  {
   "cell_type": "markdown",
   "id": "ec7868a4",
   "metadata": {},
   "source": [
    "#### Python Program for factorial of a number\n",
    "\n",
    "Factorial of a non-negative integer, is multiplication of all integers smaller than or equal to n. For example factorial of 6 is `6*5*4*3*2*1` which is 720."
   ]
  },
  {
   "cell_type": "markdown",
   "id": "aa25e46e",
   "metadata": {},
   "source": [
    "![](../factorial.png)"
   ]
  },
  {
   "cell_type": "code",
   "execution_count": 9,
   "id": "baa68b09",
   "metadata": {},
   "outputs": [
    {
     "name": "stdout",
     "output_type": "stream",
     "text": [
      "Factorial of 5 is 120\n"
     ]
    }
   ],
   "source": [
    "# 1.Recursive method\n",
    "\n",
    "# Python 3 program to find\n",
    "# factorial of given number\n",
    "def factorial(n):\n",
    "     \n",
    "    # single line to find factorial\n",
    "    return 1 if (n==1 or n==0) else n * factorial(n - 1);\n",
    " \n",
    "# Driver Code\n",
    "num = 5;\n",
    "print(\"Factorial of\",num,\"is\",factorial(num))\n",
    " \n"
   ]
  },
  {
   "cell_type": "code",
   "execution_count": 1,
   "id": "dc4e4268",
   "metadata": {},
   "outputs": [
    {
     "name": "stdout",
     "output_type": "stream",
     "text": [
      "Factorial of 5 is 120\n"
     ]
    }
   ],
   "source": [
    "# 2. Iterative:\n",
    "\n",
    "# Python 3 program to find \n",
    "# factorial of given number\n",
    "def factorial(n):\n",
    "    if n < 0:\n",
    "        return 0\n",
    "    elif n == 0 or n == 1:\n",
    "        return 1\n",
    "    else:\n",
    "        fact = 1\n",
    "        while(n > 1):\n",
    "            fact *= n\n",
    "            n -= 1\n",
    "        return fact\n",
    "\n",
    "# Driver Code\n",
    "num = 5;\n",
    "print(\"Factorial of\",num,\"is\",factorial(num))\n",
    " \n"
   ]
  },
  {
   "cell_type": "code",
   "execution_count": 3,
   "id": "c98ec7b9",
   "metadata": {},
   "outputs": [
    {
     "name": "stdout",
     "output_type": "stream",
     "text": [
      "please enter the number: \n",
      "5\n",
      "Factorial of your number is : 120\n"
     ]
    }
   ],
   "source": [
    "def factorial(n):\n",
    "    if n<0:\n",
    "        return o\n",
    "    elif n == 0 or n ==1:\n",
    "        return 1\n",
    "    else:\n",
    "        fact = 1\n",
    "        while n>1:\n",
    "            fact *= n\n",
    "            n -=1\n",
    "        return fact\n",
    "    \n",
    "    \n",
    "# Lets check \n",
    "number = int(input(\"please enter the number: \\n\"))\n",
    "print(f\"Factorial of your number is : {factorial(number)}\")"
   ]
  },
  {
   "cell_type": "markdown",
   "id": "c66e5b8a",
   "metadata": {},
   "source": [
    " ##### One line Solution (Using Ternary operator): "
   ]
  },
  {
   "cell_type": "code",
   "execution_count": 4,
   "id": "bf2d71af",
   "metadata": {},
   "outputs": [
    {
     "name": "stdout",
     "output_type": "stream",
     "text": [
      "Please enter the number : \n",
      "5\n",
      "factorial of your number is : 120\n"
     ]
    }
   ],
   "source": [
    "def factorial(n):\n",
    "    ## single line to find factorial\n",
    "    return 1 if (n==0 or n == 1) else n*factorial(n-1)\n",
    "# Drive code\n",
    "num = int(input(\"Please enter the number : \\n\"))\n",
    "print(f\"factorial of your number is : {factorial(num)}\")"
   ]
  },
  {
   "cell_type": "markdown",
   "id": "3592e7b7",
   "metadata": {},
   "source": [
    "#### 4. By using In-built function:"
   ]
  },
  {
   "cell_type": "code",
   "execution_count": 6,
   "id": "d226ee22",
   "metadata": {},
   "outputs": [
    {
     "name": "stdout",
     "output_type": "stream",
     "text": [
      "please enter the number: \n",
      "5\n",
      "Factorial of your number is : 120\n"
     ]
    }
   ],
   "source": [
    "import math \n",
    "\n",
    "def factorial(n):\n",
    "    return (math.factorial(n))\n",
    "# Lets check \n",
    "number = int(input(\"please enter the number: \\n\"))\n",
    "print(f\"Factorial of your number is : {factorial(number)}\")"
   ]
  },
  {
   "cell_type": "code",
   "execution_count": null,
   "id": "2dbb2c52",
   "metadata": {},
   "outputs": [],
   "source": []
  },
  {
   "cell_type": "markdown",
   "id": "200b9006",
   "metadata": {},
   "source": [
    "#### Program to print ASCII Value of a character\n",
    "\n",
    "**1. Python code using ord function**: \n",
    "`ord():` It converts the given string of length one, returns an integer representing the Unicode code point of the character. For example, ord(‘a’) returns the integer `97.` "
   ]
  },
  {
   "cell_type": "code",
   "execution_count": 1,
   "id": "629f56fc",
   "metadata": {},
   "outputs": [
    {
     "name": "stdout",
     "output_type": "stream",
     "text": [
      "The ASCII value of 'g' is 103\n"
     ]
    }
   ],
   "source": [
    "# Python program to print\n",
    "# ASCII Value of Character\n",
    " \n",
    "# In c we can assign different\n",
    "# characters of which we want ASCII value\n",
    " \n",
    "c = 'g'\n",
    "# print the ASCII value of assigned character in c\n",
    "print(\"The ASCII value of '\" + c + \"' is\", ord(c))"
   ]
  },
  {
   "cell_type": "code",
   "execution_count": 2,
   "id": "e17e0430",
   "metadata": {},
   "outputs": [
    {
     "name": "stdout",
     "output_type": "stream",
     "text": [
      "Enter a String: g\n",
      "g \t 103\n"
     ]
    }
   ],
   "source": [
    "# Here is a method to print the ASCII value of the characters in a string using python:\n",
    "\n",
    "\n",
    "print(\"Enter a String: \", end=\"\")\n",
    "text = input()\n",
    "textlength = len(text)\n",
    "for char in text:\n",
    "    ascii = ord(char)\n",
    "    print(char, \"\\t\", ascii)"
   ]
  },
  {
   "cell_type": "code",
   "execution_count": 8,
   "id": "57da04f6",
   "metadata": {},
   "outputs": [
    {
     "name": "stdout",
     "output_type": "stream",
     "text": [
      "Enter a String:  Aa\n",
      "A \t 65\n",
      "a \t 97\n"
     ]
    }
   ],
   "source": [
    "print(\"Enter a String: \", end = \" \")\n",
    "text = input()\n",
    "for char in text:\n",
    "    ascii = ord(char)\n",
    "    print(char, \"\\t\", ascii)\n"
   ]
  },
  {
   "cell_type": "markdown",
   "id": "fa5c0da7",
   "metadata": {},
   "source": [
    "### Python Program for simple interest\n",
    "Simple interest formula is given by:\n",
    "\n",
    "Simple Interest = (P x T x R)/100\n",
    "\n",
    "Where,\n",
    "\n",
    "P is the principle amount\n",
    "\n",
    "T is the time and\n",
    "\n",
    "R is the rate"
   ]
  },
  {
   "cell_type": "code",
   "execution_count": 4,
   "id": "f1e780d1",
   "metadata": {},
   "outputs": [
    {
     "name": "stdout",
     "output_type": "stream",
     "text": [
      "Please enter Principal, time, and rate\n",
      "2000,10,1\n",
      "The principal is 2000\n",
      "The time period is 10\n",
      "The rate of interest is 1\n",
      "Your simple iterest is : 200.0\n"
     ]
    }
   ],
   "source": [
    "def simple_interest(p,t,r):\n",
    "    print('The principal is', p)\n",
    "    print('The time period is', t)\n",
    "    print('The rate of interest is',r)\n",
    "    p = int(p)\n",
    "    t = int(t)\n",
    "    r = int(r)\n",
    "    si = (p * t * r)/100\n",
    "    \n",
    "    return si\n",
    "      \n",
    "# Driver code\n",
    "print(\"Please enter Principal, time, and rate\")\n",
    "p,t,r = input().split(\",\")\n",
    "print(f\"Your simple iterest is : {simple_interest(p,t,r)}\")"
   ]
  },
  {
   "cell_type": "markdown",
   "id": "f6c8fbc9",
   "metadata": {},
   "source": [
    "#### Python Program for compound interest\n",
    "\n",
    "Formula to calculate compound interest \n",
    "\n",
    "annually is given by: \n",
    "\n",
    "`A = P(1 + R/100) t `\n",
    "\n",
    "`Compound Interest = A – P` \n",
    "\n",
    "Where, \n",
    "\n",
    "A is amount \n",
    "\n",
    "P is principle amount \n",
    "\n",
    "R is the rate and \n",
    "\n",
    "T is the time span"
   ]
  },
  {
   "cell_type": "code",
   "execution_count": 3,
   "id": "3612aeaa",
   "metadata": {},
   "outputs": [
    {
     "name": "stdout",
     "output_type": "stream",
     "text": [
      "Please enter principal: 2000\n",
      "Please enter rate : 10\n",
      "Please enter time : 1\n",
      "\n",
      "Your Compound Interest is : Compound inteerest is :200.00\n"
     ]
    }
   ],
   "source": [
    "def compound_interest(principal,rate,time):\n",
    "    \n",
    "    Amount = principal*(pow((1+ rate/100), time))\n",
    "    CI = Amount - principal\n",
    "    return (f\"Compound inteerest is :{CI:.2f}\")\n",
    "\n",
    "p = int(input(\"Please enter principal: \"))\n",
    "r = int(input(\"Please enter rate : \"))\n",
    "t = int(input(\"Please enter time : \"))\n",
    "print()\n",
    "print(f\"Your Compound Interest is : {compound_interest(p, r, t)}\")"
   ]
  },
  {
   "cell_type": "markdown",
   "id": "b2d70805",
   "metadata": {},
   "source": [
    "#### Python Program to check Armstrong Number\n",
    "\n",
    "Given a number x, determine whether the given number is Armstrong number or not. A positive integer of n digits is called an Armstrong number of order n (order is number of digits) if.\n",
    "\n",
    "`abcd... = pow(a,n) + pow(b,n) + pow(c,n) + pow(d,n) + ...`"
   ]
  },
  {
   "cell_type": "code",
   "execution_count": 2,
   "id": "9a0a763d",
   "metadata": {},
   "outputs": [],
   "source": [
    "# Python program to determine whether\n",
    "# the number is Armstrong number or not\n",
    "  \n",
    "# Function to calculate x raised to \n",
    "# the power y\n",
    "def power(x, y):\n",
    "      \n",
    "    if y == 0:\n",
    "        return 1\n",
    "    if y % 2 == 0:\n",
    "        return power(x, y // 2) * power(x, y // 2)\n",
    "          \n",
    "    return x * power(x, y // 2) * power(x, y // 2)\n",
    "  \n",
    "# Function to calculate order of the number\n",
    "def order(x):\n",
    "  \n",
    "    # Variable to store of the number\n",
    "    n = 0\n",
    "    while (x != 0):\n",
    "        n = n + 1\n",
    "        x = x // 10\n",
    "          \n",
    "    return n"
   ]
  },
  {
   "cell_type": "code",
   "execution_count": 3,
   "id": "f7e1d74b",
   "metadata": {},
   "outputs": [
    {
     "name": "stdout",
     "output_type": "stream",
     "text": [
      "True\n",
      "False\n"
     ]
    }
   ],
   "source": [
    "# Function to check whether the given \n",
    "# number is Armstrong number or not\n",
    "def isArmstrong(x):\n",
    "      \n",
    "    n = order(x)\n",
    "    temp = x\n",
    "    sum1 = 0\n",
    "      \n",
    "    while (temp != 0):\n",
    "        r = temp % 10\n",
    "        sum1 = sum1 + power(r, n)\n",
    "        temp = temp // 10\n",
    "  \n",
    "    # If condition satisfies\n",
    "    return (sum1 == x)\n",
    "  \n",
    "# Driver code\n",
    "x = 153\n",
    "print(isArmstrong(x))\n",
    "  \n",
    "x = 1253\n",
    "print(isArmstrong(x))"
   ]
  },
  {
   "cell_type": "code",
   "execution_count": 4,
   "id": "6fa2efe7",
   "metadata": {},
   "outputs": [
    {
     "data": {
      "text/plain": [
       "8"
      ]
     },
     "execution_count": 4,
     "metadata": {},
     "output_type": "execute_result"
    }
   ],
   "source": [
    "25//3"
   ]
  },
  {
   "cell_type": "code",
   "execution_count": 5,
   "id": "ff39328a",
   "metadata": {},
   "outputs": [
    {
     "data": {
      "text/plain": [
       "8.333333333333334"
      ]
     },
     "execution_count": 5,
     "metadata": {},
     "output_type": "execute_result"
    }
   ],
   "source": [
    "25/3"
   ]
  },
  {
   "cell_type": "code",
   "execution_count": 6,
   "id": "26084ae3",
   "metadata": {},
   "outputs": [
    {
     "data": {
      "text/plain": [
       "1"
      ]
     },
     "execution_count": 6,
     "metadata": {},
     "output_type": "execute_result"
    }
   ],
   "source": [
    "25%3"
   ]
  },
  {
   "cell_type": "code",
   "execution_count": 7,
   "id": "4b6c0cb3",
   "metadata": {},
   "outputs": [
    {
     "name": "stdout",
     "output_type": "stream",
     "text": [
      "Enter a number: 153\n",
      "153 is an Armstrong number\n"
     ]
    }
   ],
   "source": [
    "# for 3 digits\n",
    "# Python program to check if the number is\n",
    "# an Armstrong number or not\n",
    "\n",
    "# take input from the user\n",
    "num = int(input(\"Enter a number: \"))\n",
    "\n",
    "# initialize sum\n",
    "sum = 0\n",
    "\n",
    "# find the sum of the cube of each digit\n",
    "temp = num\n",
    "while temp > 0:\n",
    "    digit = temp % 10\n",
    "    sum += digit ** 3\n",
    "    temp //= 10\n",
    "\n",
    "# display the result\n",
    "if num == sum:\n",
    "    print(num,\"is an Armstrong number\")\n",
    "else:\n",
    "    print(num,\"is not an Armstrong number\")"
   ]
  },
  {
   "cell_type": "code",
   "execution_count": 9,
   "id": "9e3e4479",
   "metadata": {},
   "outputs": [
    {
     "data": {
      "text/plain": [
       "15"
      ]
     },
     "execution_count": 9,
     "metadata": {},
     "output_type": "execute_result"
    }
   ],
   "source": [
    "153//10\n"
   ]
  },
  {
   "cell_type": "code",
   "execution_count": 13,
   "id": "77bdcaa9",
   "metadata": {},
   "outputs": [
    {
     "name": "stdout",
     "output_type": "stream",
     "text": [
      "Enter the number: 153\n",
      "153 is an Armstrong number\n"
     ]
    }
   ],
   "source": [
    "# for n order\n",
    "num = int(input(\"Enter the number: \"))\n",
    "\n",
    "# Changed num variable to string, \n",
    "# and calculated the length (number of digits)\n",
    "order = len(str(num))\n",
    "\n",
    "# initialize sum\n",
    "sum = 0\n",
    "\n",
    "# find the sum of the cube of each digit\n",
    "temp = num\n",
    "while temp > 0:\n",
    "    digit = temp % 10\n",
    "    sum += digit ** order\n",
    "    temp //= 10\n",
    "\n",
    "# display the result\n",
    "if num == sum:\n",
    "    print(num,\"is an Armstrong number\")\n",
    "else:\n",
    "    print(num,\"is not an Armstrong number\")"
   ]
  },
  {
   "cell_type": "code",
   "execution_count": 12,
   "id": "c469fcf7",
   "metadata": {},
   "outputs": [
    {
     "data": {
      "text/plain": [
       "3"
      ]
     },
     "execution_count": 12,
     "metadata": {},
     "output_type": "execute_result"
    }
   ],
   "source": [
    "len(str(153))"
   ]
  },
  {
   "cell_type": "markdown",
   "id": "29bb6f5b",
   "metadata": {},
   "source": [
    "#### Python Program for Program to find area of a circle\n",
    "\n",
    "Area = pi * r2\n",
    "\n",
    "where r is radius of circle "
   ]
  },
  {
   "cell_type": "code",
   "execution_count": 19,
   "id": "9106ecac",
   "metadata": {},
   "outputs": [
    {
     "name": "stdout",
     "output_type": "stream",
     "text": [
      "Area is 78.54\n"
     ]
    }
   ],
   "source": [
    "# Python program to find Area of a circle\n",
    "\n",
    "import math\n",
    "\n",
    "def area_of_circle(r):\n",
    "    \n",
    "    return math.pi * (r*r)\n",
    "  \n",
    "# Driver method\n",
    "print(\"Area is %.2f\" % area_of_circle(5));"
   ]
  },
  {
   "cell_type": "markdown",
   "id": "ce03d47e",
   "metadata": {},
   "source": [
    "#### Python program to print all Prime numbers in an Interval\n",
    "\n",
    "**Definition:**\n",
    "\n",
    "A prime number is a natural number greater than 1 that has no positive divisors other than 1 and itself. The first few prime numbers are {2, 3, 5, 7, 11, ….}.\n",
    "\n",
    "The idea to solve this problem is to iterate the val from start to end using a for loop and for every number, if it is greater than 1, check if it divides n. If we find any other number which divides, print that value."
   ]
  },
  {
   "cell_type": "code",
   "execution_count": 20,
   "id": "45c4f816",
   "metadata": {},
   "outputs": [
    {
     "name": "stdout",
     "output_type": "stream",
     "text": [
      "The prime numbers in this range are:  [2, 3, 5]\n"
     ]
    }
   ],
   "source": [
    "# Python program to print all\n",
    "# prime number in an interval\n",
    " \n",
    "def prime(x, y):\n",
    "    prime_list = []\n",
    "    for i in range(x, y):\n",
    "        if i == 0 or i == 1:\n",
    "            continue\n",
    "        else:\n",
    "            for j in range(2, int(i/2)+1):\n",
    "                if i % j == 0:\n",
    "                    break\n",
    "            else:\n",
    "                prime_list.append(i)\n",
    "    return prime_list\n",
    " \n",
    "# Driver program\n",
    "starting_range = 2\n",
    "ending_range = 7\n",
    "lst = prime(starting_range, ending_range)\n",
    "if len(lst) == 0:\n",
    "    print(\"There are no prime numbers in this range\")\n",
    "else:\n",
    "    print(\"The prime numbers in this range are: \", lst)"
   ]
  },
  {
   "cell_type": "code",
   "execution_count": 21,
   "id": "422529d3",
   "metadata": {},
   "outputs": [
    {
     "name": "stdout",
     "output_type": "stream",
     "text": [
      "1 2 3 5 6 7 8 9 "
     ]
    }
   ],
   "source": [
    "for i in range(1,10):\n",
    "    if i == 4:\n",
    "        continue\n",
    "    else:\n",
    "        print(i, end=\" \")"
   ]
  },
  {
   "cell_type": "code",
   "execution_count": 24,
   "id": "6ac8896f",
   "metadata": {},
   "outputs": [
    {
     "name": "stdout",
     "output_type": "stream",
     "text": [
      "Please enter number: 6\n",
      "not prime\n"
     ]
    }
   ],
   "source": [
    "### Check prime number\n",
    "\n",
    "def prime(n):\n",
    "    \n",
    "    if n>1:\n",
    "        \n",
    "        for i in range(2, n):\n",
    "            if n%i == 0:\n",
    "                print(\"Not prime\")\n",
    "                break\n",
    "        else:\n",
    "            print(\"Prime\")\n",
    "    else:\n",
    "        print(\"Not Prime\")\n",
    "            \n",
    "num = int(input(\"Please enter number: \"))\n",
    "prime(num)"
   ]
  },
  {
   "cell_type": "code",
   "execution_count": 25,
   "id": "40516729",
   "metadata": {},
   "outputs": [
    {
     "name": "stdout",
     "output_type": "stream",
     "text": [
      "false\n"
     ]
    }
   ],
   "source": [
    "from math import sqrt\n",
    "# n is the number to be check whether it is prime or not\n",
    "n = 1\n",
    "  \n",
    "# no lets check from 2 to sqrt(n)\n",
    "# if we found any facto then we can print as not a prime number\n",
    "  \n",
    "# this flag maintains status whether the n is prime or not\n",
    "prime_flag = 0\n",
    "  \n",
    "if(n > 1):\n",
    "    for i in range(2, int(sqrt(n)) + 1):\n",
    "        if (n % i == 0):\n",
    "            prime_flag = 1\n",
    "            break\n",
    "    if (prime_flag == 0):\n",
    "        print(\"true\")\n",
    "    else:\n",
    "        print(\"false\")\n",
    "else:\n",
    "    print(\"false\")"
   ]
  },
  {
   "cell_type": "code",
   "execution_count": 27,
   "id": "13bad16f",
   "metadata": {},
   "outputs": [
    {
     "name": "stdout",
     "output_type": "stream",
     "text": [
      "Please enter number: 6\n"
     ]
    },
    {
     "data": {
      "text/plain": [
       "False"
      ]
     },
     "execution_count": 27,
     "metadata": {},
     "output_type": "execute_result"
    }
   ],
   "source": [
    "def prime(n):\n",
    "    \n",
    "    if n>1:\n",
    "        \n",
    "        for i in range(2, n):\n",
    "            if n%i == 0:\n",
    "                return False\n",
    "                break\n",
    "        else:\n",
    "            return True\n",
    "    else:\n",
    "        return False\n",
    "            \n",
    "num = int(input(\"Please enter number: \"))\n",
    "prime(num)"
   ]
  },
  {
   "cell_type": "code",
   "execution_count": null,
   "id": "082c522d",
   "metadata": {},
   "outputs": [],
   "source": []
  }
 ],
 "metadata": {
  "kernelspec": {
   "display_name": "Python 3 (ipykernel)",
   "language": "python",
   "name": "python3"
  },
  "language_info": {
   "codemirror_mode": {
    "name": "ipython",
    "version": 3
   },
   "file_extension": ".py",
   "mimetype": "text/x-python",
   "name": "python",
   "nbconvert_exporter": "python",
   "pygments_lexer": "ipython3",
   "version": "3.7.8"
  }
 },
 "nbformat": 4,
 "nbformat_minor": 5
}

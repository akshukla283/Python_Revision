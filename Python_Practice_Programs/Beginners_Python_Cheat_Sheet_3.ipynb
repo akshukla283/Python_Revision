{
 "cells": [
  {
   "cell_type": "markdown",
   "id": "a4abfc4c",
   "metadata": {},
   "source": [
    "### FIle and Exceptions\n",
    "\n",
    "Your programs can read information from files, and they can write data to files. Reading from files allows you to work with a wide variety of information; writing to files allows users to pick up where they left off the next time they run your program. You can write text to files, and you can store Python structures such as lists in data files. \n",
    "\n",
    "\n",
    "#### Exceptions\n",
    "\n",
    "Exceptions are special objects that help your programs respond to errors in appropriate ways. For example if your program tries to open a file that doesn’t exist, you can use exceptions to display an informative error message instead of having the program crash."
   ]
  },
  {
   "cell_type": "markdown",
   "id": "9a2cab2d",
   "metadata": {},
   "source": [
    "#### Reading from a File \n",
    "\n",
    "To read from a file your program needs to open the file and then read the contents of the file. You can read the entire contents of the file at once, or read the file line by line. The with statement makes sure the file is closed properly when the program has finished accessing the file."
   ]
  },
  {
   "cell_type": "code",
   "execution_count": 1,
   "id": "34487cda",
   "metadata": {},
   "outputs": [
    {
     "name": "stdout",
     "output_type": "stream",
     "text": [
      "My name is Ankit Shukla.\n",
      "I love coding in Python\n",
      "I am enjoying my Data Science Learning using Python.\n"
     ]
    }
   ],
   "source": [
    "# Reading the entire file at once\n",
    "filename = 'test.txt'\n",
    "\n",
    "with open(filename) as f_obj:\n",
    "    contents = f_obj.read()\n",
    "    \n",
    "print(contents)"
   ]
  },
  {
   "cell_type": "markdown",
   "id": "4bc406f6",
   "metadata": {},
   "source": [
    "#### Reading Line By Line \n",
    "\n",
    "Each line that's read from the file has a newline character at the end of the line, and the print function adds its own newline character. The rstrip() method gets rid of the the extra blank lines this would result in when printing to the terminal."
   ]
  },
  {
   "cell_type": "code",
   "execution_count": 2,
   "id": "1514d046",
   "metadata": {},
   "outputs": [
    {
     "name": "stdout",
     "output_type": "stream",
     "text": [
      "My name is Ankit Shukla.\n",
      "I love coding in Python\n",
      "I am enjoying my Data Science Learning using Python.\n"
     ]
    }
   ],
   "source": [
    "filename = 'test.txt'\n",
    "\n",
    "with open(filename) as f_obj:\n",
    "    for line in f_obj:\n",
    "        print(line.rstrip())"
   ]
  },
  {
   "cell_type": "code",
   "execution_count": 3,
   "id": "de076c63",
   "metadata": {},
   "outputs": [
    {
     "name": "stdout",
     "output_type": "stream",
     "text": [
      "My name is Ankit Shukla.\n",
      "I love coding in Python\n",
      "I am enjoying my Data Science Learning using Python.\n"
     ]
    }
   ],
   "source": [
    "# storing the line in a list \n",
    "\n",
    "filename = 'test.txt'\n",
    "\n",
    "with open(filename) as f_obj:\n",
    "    lines = f_obj.readlines()\n",
    "    \n",
    "for line in lines:\n",
    "    print(line.rstrip())\n",
    "    \n"
   ]
  },
  {
   "cell_type": "markdown",
   "id": "51ca3e62",
   "metadata": {},
   "source": [
    "#### Writing to a file \n",
    "\n",
    "Passing the 'w' argument to open() tells Python you want to write to the file. Be careful; this will erase the contents of the file if it already exists. Passing the 'a' argument tells Python you want to append to the end of an existing file."
   ]
  },
  {
   "cell_type": "code",
   "execution_count": 6,
   "id": "8e599d84",
   "metadata": {},
   "outputs": [],
   "source": [
    "# Writing an empty file \n",
    "filename = 'programming.txt'\n",
    "\n",
    "with open(filename, 'w') as f:\n",
    "    f.write(\"I love programming!\")\n",
    "    \n",
    "f.close()"
   ]
  },
  {
   "cell_type": "code",
   "execution_count": 9,
   "id": "d76d761f",
   "metadata": {},
   "outputs": [],
   "source": [
    "# Writing multiple line to an empty file\n",
    "\n",
    "filename = 'programming.txt'\n",
    "\n",
    "with open(filename, 'w') as f:\n",
    "    f.write(\"I love programming!\\n\")\n",
    "    f.write(\"I love creating new games.\\n\")\n",
    "    f.write(\"I like learning Data Science and Machine Learning as well\\n\")\n",
    "    \n",
    "f.close()"
   ]
  },
  {
   "cell_type": "code",
   "execution_count": 10,
   "id": "54ac6133",
   "metadata": {},
   "outputs": [],
   "source": [
    "# Appending to a file \n",
    "\n",
    "filename = 'programming.txt'\n",
    "\n",
    "with open(filename, 'a') as f:\n",
    "    f.write(\"I also love working with data. \\n\")\n",
    "    f.write(\"I love making apps as well.\\n\")\n",
    "    \n",
    "f.close()"
   ]
  },
  {
   "cell_type": "code",
   "execution_count": 13,
   "id": "a4580bac",
   "metadata": {},
   "outputs": [
    {
     "name": "stdout",
     "output_type": "stream",
     "text": [
      "I love programming!\n",
      "I love creating new games.\n",
      "I like learning Data Science and Machine Learning as wellI also love working with data. \n",
      "I love making apps as well.\n",
      "\n"
     ]
    }
   ],
   "source": [
    "filename = 'programming.txt'\n",
    "\n",
    "with open(filename) as f_obj:\n",
    "    contents = f_obj.read()\n",
    "\n",
    "f_obj.close()\n",
    "print(contents)"
   ]
  },
  {
   "cell_type": "markdown",
   "id": "cfc548dc",
   "metadata": {},
   "source": [
    "### File Path\n",
    "\n",
    "When Python runs the open() function, it looks for the file in the same directory where the program that's being excuted is stored. You can open a file from a subfolder using a relative path. You can also use an absolute path to open any file on your system."
   ]
  },
  {
   "cell_type": "code",
   "execution_count": 16,
   "id": "a04ae16d",
   "metadata": {},
   "outputs": [
    {
     "name": "stdout",
     "output_type": "stream",
     "text": [
      "I love programming!\n",
      "I love creating new games.\n",
      "I like learning Data Science and Machine Learning as well\n",
      "I also love working with data.\n",
      "I love making apps as well.\n"
     ]
    }
   ],
   "source": [
    "# Opening a file from a subfolder \n",
    "\n",
    "f_path = \"text_files/alice.txt\"\n",
    "\n",
    "with open(f_path) as f_obj:\n",
    "    \n",
    "    lines = f_obj.readlines()\n",
    "    \n",
    "for line in lines:\n",
    "    print(line.rstrip())"
   ]
  },
  {
   "cell_type": "markdown",
   "id": "5daeae74",
   "metadata": {},
   "source": [
    "#### Opening a file on Windows\n",
    "\n",
    "Windows will sometimes interpret forward slashes incorrectly. If you run into this, use backslashes in your file paths."
   ]
  },
  {
   "cell_type": "code",
   "execution_count": null,
   "id": "06e343e3",
   "metadata": {},
   "outputs": [],
   "source": [
    "# string.replace(old, new, count)"
   ]
  },
  {
   "cell_type": "code",
   "execution_count": 20,
   "id": "7e487754",
   "metadata": {},
   "outputs": [],
   "source": [
    "# f_path = \"C:\\Users\\akshu\\Desktop\\Interview Questions\\text_files\\alice.txt\"\n",
    "\n",
    "# f_path = f_path.replace(r\"\\\", r\"/\")\n",
    "\n",
    "# with open(f_path) as f_obj: \n",
    "#     lines = f_obj.readlines()\n",
    "# for line in lines:\n",
    "#     print(line.rstrip())\n",
    "\n",
    "# have to resolve this \n"
   ]
  },
  {
   "cell_type": "markdown",
   "id": "07b71fd2",
   "metadata": {},
   "source": [
    "### The Try-Except block \n",
    "\n",
    "When you think an error may occur, you can write a try-except block to handle the exception that might be raised. The try block tells Python to try running some code, and the except block tells Python what to do if the code results in a particular kind of error."
   ]
  },
  {
   "cell_type": "code",
   "execution_count": 21,
   "id": "f839fca1",
   "metadata": {},
   "outputs": [
    {
     "name": "stdout",
     "output_type": "stream",
     "text": [
      "You can't divide by zero!\n"
     ]
    }
   ],
   "source": [
    "# Hanling the ZeroDivisionError exception \n",
    "\n",
    "try:\n",
    "    print(5/0)\n",
    "except ZeroDivisionError:\n",
    "    print(\"You can't divide by zero!\")"
   ]
  },
  {
   "cell_type": "code",
   "execution_count": 24,
   "id": "60544acf",
   "metadata": {},
   "outputs": [
    {
     "name": "stdout",
     "output_type": "stream",
     "text": [
      "Can't find file 'hello.txt'.\n"
     ]
    }
   ],
   "source": [
    "# Handling the FileNotFoundError exception\n",
    "\n",
    "f_name = 'hello.txt'\n",
    "\n",
    "try:\n",
    "    with open(f_name) as f_obj:\n",
    "        lines = f_obj.readlines()\n",
    "        \n",
    "except FileNotFoundError:\n",
    "    msg = \"Can't find file '{0}'.\".format(f_name)\n",
    "    print(msg)"
   ]
  },
  {
   "cell_type": "markdown",
   "id": "b7fdc55f",
   "metadata": {},
   "source": [
    "### Knowing which exception to handle \n",
    "\n",
    "It can be hard to know what kind of exception to handle when writing code. Try writing your code without a try block, and make it generate an error. The traceback will tell you what kind of exception your program needs to handle."
   ]
  },
  {
   "cell_type": "code",
   "execution_count": 27,
   "id": "c8095d72",
   "metadata": {},
   "outputs": [
    {
     "ename": "FileNotFoundError",
     "evalue": "[Errno 2] No such file or directory: 'hello.txt'",
     "output_type": "error",
     "traceback": [
      "\u001b[1;31m---------------------------------------------------------------------------\u001b[0m",
      "\u001b[1;31mFileNotFoundError\u001b[0m                         Traceback (most recent call last)",
      "\u001b[1;32m~\\AppData\\Local\\Temp/ipykernel_5772/256279701.py\u001b[0m in \u001b[0;36m<module>\u001b[1;34m\u001b[0m\n\u001b[0;32m      1\u001b[0m \u001b[0mf_name\u001b[0m \u001b[1;33m=\u001b[0m \u001b[1;34m'hello.txt'\u001b[0m\u001b[1;33m\u001b[0m\u001b[1;33m\u001b[0m\u001b[0m\n\u001b[0;32m      2\u001b[0m \u001b[1;33m\u001b[0m\u001b[0m\n\u001b[1;32m----> 3\u001b[1;33m \u001b[1;32mwith\u001b[0m \u001b[0mopen\u001b[0m\u001b[1;33m(\u001b[0m\u001b[0mf_name\u001b[0m\u001b[1;33m)\u001b[0m \u001b[1;32mas\u001b[0m \u001b[0mf_obj\u001b[0m\u001b[1;33m:\u001b[0m\u001b[1;33m\u001b[0m\u001b[1;33m\u001b[0m\u001b[0m\n\u001b[0m\u001b[0;32m      4\u001b[0m     \u001b[0mlines\u001b[0m \u001b[1;33m=\u001b[0m \u001b[0mf_obj\u001b[0m\u001b[1;33m.\u001b[0m\u001b[0mreadlines\u001b[0m\u001b[1;33m(\u001b[0m\u001b[1;33m)\u001b[0m\u001b[1;33m\u001b[0m\u001b[1;33m\u001b[0m\u001b[0m\n\u001b[0;32m      5\u001b[0m \u001b[1;33m\u001b[0m\u001b[0m\n",
      "\u001b[1;31mFileNotFoundError\u001b[0m: [Errno 2] No such file or directory: 'hello.txt'"
     ]
    }
   ],
   "source": [
    "f_name = 'hello.txt'\n",
    "\n",
    "with open(f_name) as f_obj:\n",
    "    lines = f_obj.readlines()\n",
    "        \n",
    "# first we have to run to find out the type of error "
   ]
  },
  {
   "cell_type": "code",
   "execution_count": 28,
   "id": "0f02639c",
   "metadata": {},
   "outputs": [
    {
     "name": "stdout",
     "output_type": "stream",
     "text": [
      "Can't find file 'hello.txt'.\n"
     ]
    }
   ],
   "source": [
    "f_name = 'hello.txt'\n",
    "\n",
    "try:\n",
    "    with open(f_name) as f_obj:\n",
    "        lines = f_obj.readlines()\n",
    "        \n",
    "except FileNotFoundError:\n",
    "    msg = \"Can't find file '{0}'.\".format(f_name)\n",
    "    print(msg)"
   ]
  },
  {
   "cell_type": "code",
   "execution_count": 7,
   "id": "c829c132",
   "metadata": {},
   "outputs": [
    {
     "name": "stdout",
     "output_type": "stream",
     "text": [
      "(\"name 'asd' is not defined\",)\n"
     ]
    }
   ],
   "source": [
    "def catch():\n",
    "    try:\n",
    "        asd()\n",
    "    except Exception as e:\n",
    "               \n",
    "        print(e.args)\n",
    "catch()"
   ]
  },
  {
   "cell_type": "markdown",
   "id": "0c0c52d7",
   "metadata": {},
   "source": [
    "#### The else block\n",
    "\n",
    "The try block should only contain code that may cause an error. Any code that depends on the try block running successfully should be placed in the else block."
   ]
  },
  {
   "cell_type": "code",
   "execution_count": 8,
   "id": "e868510e",
   "metadata": {},
   "outputs": [
    {
     "name": "stdout",
     "output_type": "stream",
     "text": [
      "Enter two numbers. I'll divide them.\n",
      "First number: 1\n",
      "Second number: 0\n",
      "You can't divide by zero!\n"
     ]
    }
   ],
   "source": [
    "# Using an else block\n",
    "\n",
    "print(\"Enter two numbers. I'll divide them.\") \n",
    "\n",
    "x = input(\"First number: \")\n",
    "y = input(\"Second number: \") \n",
    "\n",
    "try: \n",
    "    result = int(x) / int(y) \n",
    "\n",
    "except ZeroDivisionError: \n",
    "    print(\"You can't divide by zero!\") \n",
    "    \n",
    "else: print(result)"
   ]
  },
  {
   "cell_type": "markdown",
   "id": "7e2f817a",
   "metadata": {},
   "source": [
    "### Preventing crashes from user input\n",
    "\n",
    "Without the except block in the following example, the program would crash if the user tries to divide by zero. As written, it will handle the error gracefully and keep running."
   ]
  },
  {
   "cell_type": "code",
   "execution_count": 10,
   "id": "3639c759",
   "metadata": {},
   "outputs": [
    {
     "name": "stdout",
     "output_type": "stream",
     "text": [
      "Enter two numbers. I'll divide them.\n",
      "Enter 'q' to quit.\n",
      "\n",
      "First number: 5\n",
      "Second number: 4\n",
      "1.25\n",
      "\n",
      "First number: q\n"
     ]
    }
   ],
   "source": [
    "\"\"\"A simple calculator for division only.\"\"\" \n",
    "\n",
    "print(\"Enter two numbers. I'll divide them.\") \n",
    "print(\"Enter 'q' to quit.\")\n",
    "\n",
    "while True:\n",
    "    \n",
    "    x = input(\"\\nFirst number: \") \n",
    "    if x.lower() == 'q': \n",
    "        break \n",
    "        \n",
    "    y = input(\"Second number: \") \n",
    "    if y.lower() == 'q':\n",
    "        break \n",
    "        \n",
    "    try:\n",
    "        result = int(x) / int(y) \n",
    "        \n",
    "    except ZeroDivisionError: \n",
    "        \n",
    "        print(\"You can't divide by zero!\") \n",
    "        \n",
    "    else:\n",
    "        print(result)"
   ]
  },
  {
   "cell_type": "markdown",
   "id": "3a8e87cf",
   "metadata": {},
   "source": [
    "### Deciding which errors to report \n",
    "Well-written, properly tested code is not very prone to internal errors such as syntax or logical errors. But every time your program depends on something external such as user input or the existence of a file, there's a possibility of an exception being raised.\n",
    "\n",
    "\n",
    "\n",
    "It's up to you how to communicate errors to your users. Sometimes users need to know if a file is missing; sometimes it's better to handle the error silently. A little experience will help you know how much to report."
   ]
  },
  {
   "cell_type": "markdown",
   "id": "6c153e9f",
   "metadata": {},
   "source": [
    "#### Failing silently\n",
    "\n",
    "Sometimes you want your program to just continue running when it encounters an error, without reporting the error to the user. Using the pass statement in an else block allows you to do this."
   ]
  },
  {
   "cell_type": "code",
   "execution_count": 11,
   "id": "53a91bf1",
   "metadata": {},
   "outputs": [
    {
     "name": "stdout",
     "output_type": "stream",
     "text": [
      "test.txt has 3 lines.\n",
      "programming.txt has 5 lines.\n"
     ]
    }
   ],
   "source": [
    "# Using the pass statement in an else block \n",
    "\n",
    "f_names = ['test.txt', 'programming.txt', 'ankit.txt', 'little_women.txt'] \n",
    "\n",
    "for f_name in f_names: \n",
    "    \n",
    "    # Report the length of each file found. \n",
    "    try: \n",
    "        \n",
    "        with open(f_name) as f_obj: \n",
    "            \n",
    "            lines = f_obj.readlines() \n",
    "            \n",
    "    except FileNotFoundError:\n",
    "        # Just move on to the next file. \n",
    "        pass \n",
    "    else: \n",
    "        num_lines = len(lines) \n",
    "        msg = \"{0} has {1} lines.\".format( f_name, num_lines) \n",
    "        print(msg)"
   ]
  },
  {
   "cell_type": "markdown",
   "id": "a878cb8a",
   "metadata": {},
   "source": [
    "#### Avoid bare except blocks\n",
    "\n",
    "Exception-handling code should catch specific exceptions that you expect to happen during your program's execution. A bare except block will catch all exceptions, including keyboard interrupts and system exits you might need when forcing a program to close. \n",
    "\n",
    "\n",
    "If you want to use a try block and you're not sure which exception to catch, use Exception. It will catch most exceptions, but still allow you to interrupt programs intentionally."
   ]
  },
  {
   "cell_type": "code",
   "execution_count": 36,
   "id": "9f87942e",
   "metadata": {},
   "outputs": [
    {
     "ename": "SyntaxError",
     "evalue": "unexpected EOF while parsing (Temp/ipykernel_5772/1632869832.py, line 5)",
     "output_type": "error",
     "traceback": [
      "\u001b[1;36m  File \u001b[1;32m\"C:\\Users\\akshu\\AppData\\Local\\Temp/ipykernel_5772/1632869832.py\"\u001b[1;36m, line \u001b[1;32m5\u001b[0m\n\u001b[1;33m    pass\u001b[0m\n\u001b[1;37m        ^\u001b[0m\n\u001b[1;31mSyntaxError\u001b[0m\u001b[1;31m:\u001b[0m unexpected EOF while parsing\n"
     ]
    }
   ],
   "source": [
    "# Don’t use bare except blocks \n",
    "\n",
    "try: \n",
    "    # Do something except: \n",
    "    pass"
   ]
  },
  {
   "cell_type": "code",
   "execution_count": 37,
   "id": "7cab7b2b",
   "metadata": {},
   "outputs": [
    {
     "ename": "IndentationError",
     "evalue": "expected an indented block (Temp/ipykernel_5772/2362006450.py, line 6)",
     "output_type": "error",
     "traceback": [
      "\u001b[1;36m  File \u001b[1;32m\"C:\\Users\\akshu\\AppData\\Local\\Temp/ipykernel_5772/2362006450.py\"\u001b[1;36m, line \u001b[1;32m6\u001b[0m\n\u001b[1;33m    except Exception:\u001b[0m\n\u001b[1;37m         ^\u001b[0m\n\u001b[1;31mIndentationError\u001b[0m\u001b[1;31m:\u001b[0m expected an indented block\n"
     ]
    }
   ],
   "source": [
    "# Use Exception instead \n",
    "\n",
    "try: \n",
    "    # Do something \n",
    "    \n",
    "except Exception: \n",
    "    pass"
   ]
  },
  {
   "cell_type": "code",
   "execution_count": 38,
   "id": "33f68638",
   "metadata": {},
   "outputs": [
    {
     "ename": "IndentationError",
     "evalue": "expected an indented block (Temp/ipykernel_5772/4135117403.py, line 6)",
     "output_type": "error",
     "traceback": [
      "\u001b[1;36m  File \u001b[1;32m\"C:\\Users\\akshu\\AppData\\Local\\Temp/ipykernel_5772/4135117403.py\"\u001b[1;36m, line \u001b[1;32m6\u001b[0m\n\u001b[1;33m    except Exception as e:\u001b[0m\n\u001b[1;37m         ^\u001b[0m\n\u001b[1;31mIndentationError\u001b[0m\u001b[1;31m:\u001b[0m expected an indented block\n"
     ]
    }
   ],
   "source": [
    "# Printing the exception \n",
    "\n",
    "try: \n",
    "    # Do something \n",
    "    \n",
    "except Exception as e:\n",
    "    print(e, type(e))"
   ]
  },
  {
   "cell_type": "markdown",
   "id": "67b28e55",
   "metadata": {},
   "source": [
    "### Storing data with json\n",
    "\n",
    "The json module allows you to dump simple Python data structures into a file, and load the data from that file the next time the program runs. The JSON data format is not specific to Python, so you can share this kind of data with people who work in other languages as well.\n",
    "\n",
    "\n",
    "Knowing how to manage exceptions is important when working with stored data. You'll usually want to make sure the data you're trying to load exists before working with it"
   ]
  },
  {
   "cell_type": "code",
   "execution_count": 39,
   "id": "ef1c8ab2",
   "metadata": {},
   "outputs": [],
   "source": [
    "# Using json.dump() to store data \n",
    "\n",
    "\"\"\"Store some numbers.\"\"\" \n",
    "\n",
    "import json \n",
    "\n",
    "numbers = [2, 3, 5, 7, 11, 13] \n",
    "\n",
    "filename = 'numbers.json' \n",
    "\n",
    "with open(filename, 'w') as f_obj: \n",
    "    json.dump(numbers, f_obj)"
   ]
  },
  {
   "cell_type": "code",
   "execution_count": 40,
   "id": "5ce48223",
   "metadata": {},
   "outputs": [
    {
     "name": "stdout",
     "output_type": "stream",
     "text": [
      "[2, 3, 5, 7, 11, 13]\n"
     ]
    }
   ],
   "source": [
    "# Using json.load() to read data \n",
    "\"\"\"Load some previously stored numbers.\"\"\" \n",
    "\n",
    "import json \n",
    "\n",
    "filename = 'numbers.json' \n",
    "\n",
    "with open(filename) as f_obj:\n",
    "    \n",
    "    numbers = json.load(f_obj) \n",
    "    print(numbers) "
   ]
  },
  {
   "cell_type": "code",
   "execution_count": 41,
   "id": "a3e784fc",
   "metadata": {},
   "outputs": [
    {
     "name": "stdout",
     "output_type": "stream",
     "text": [
      "[2, 3, 5, 7, 11, 13]\n"
     ]
    }
   ],
   "source": [
    "# Making sure the stored data exists \n",
    "\n",
    "import json \n",
    "\n",
    "f_name = 'numbers.json' \n",
    "\n",
    "try:\n",
    "    with open(f_name) as f_obj: \n",
    "        numbers = json.load(f_obj) \n",
    "        \n",
    "except FileNotFoundError: \n",
    "    msg = \"Can’t find {0}.\".format(f_name) \n",
    "    print(msg) \n",
    "\n",
    "else: print(numbers)"
   ]
  },
  {
   "cell_type": "markdown",
   "id": "7f23d274",
   "metadata": {},
   "source": [
    "### Testing your Code\n",
    "\n",
    "When you write a function or a class, you can also write tests for that code. Testing proves that your code works as it's supposed to in the situations it's designed to handle, and also when people use your programs in unexpected ways. Writing tests gives you confidence that your code will work correctly as more people begin to use your programs. You can also add new features to your programs and know that you haven't broken existing behavior. \n",
    "\n",
    "\n",
    "\n",
    "A unit test verifies that one specific aspect of your code works as it's supposed to. A test case is a collection of unit tests which verify your code's behavior in a wide variety of situations."
   ]
  },
  {
   "cell_type": "markdown",
   "id": "99fb6965",
   "metadata": {},
   "source": [
    "#### Testing a function : A passing test\n",
    "\n",
    "Python's unittest module provides tools for testing your code. To try it out, we’ll create a function that returns a full name. We’ll use the function in a regular program, and then build a test case for the function. "
   ]
  },
  {
   "cell_type": "code",
   "execution_count": 42,
   "id": "bf093042",
   "metadata": {},
   "outputs": [],
   "source": [
    "# A function to test Save this as full_names.py\n",
    "\n",
    "# def get_full_name(first, last):\n",
    "    \n",
    "#     \"\"\"Return a full name.\"\"\" \n",
    "#     full_name = \"{0} {1}\".format(first, last) \n",
    "    \n",
    "#     return full_name.title()"
   ]
  },
  {
   "cell_type": "code",
   "execution_count": 45,
   "id": "230fc938",
   "metadata": {},
   "outputs": [
    {
     "name": "stdout",
     "output_type": "stream",
     "text": [
      "Janis Joplin\n",
      "Bob Dylan\n"
     ]
    }
   ],
   "source": [
    "# Using the function \n",
    "# Save this as names.py \n",
    "\n",
    "from full_names import get_full_name \n",
    "\n",
    "janis = get_full_name('janis', 'joplin')\n",
    "\n",
    "print(janis) \n",
    "\n",
    "bob = get_full_name('bob', 'dylan') \n",
    "\n",
    "print(bob)"
   ]
  },
  {
   "cell_type": "markdown",
   "id": "3e2968e3",
   "metadata": {},
   "source": [
    "### Building a testcase with one unit test\n",
    "\n",
    "To build a test case, make a class that inherits from unittest.TestCase and write methods that begin with test_. Save this as test_full_names.py"
   ]
  },
  {
   "cell_type": "code",
   "execution_count": 1,
   "id": "bf51cba2",
   "metadata": {},
   "outputs": [],
   "source": [
    "import unittest "
   ]
  },
  {
   "cell_type": "code",
   "execution_count": 3,
   "id": "f76a9b7f",
   "metadata": {},
   "outputs": [
    {
     "name": "stderr",
     "output_type": "stream",
     "text": [
      "E\n",
      "======================================================================\n",
      "ERROR: C:\\Users\\akshu\\AppData\\Roaming\\jupyter\\runtime\\kernel-687896c6-589c-4adc-b265-86bdee8f2abd (unittest.loader._FailedTest)\n",
      "----------------------------------------------------------------------\n",
      "AttributeError: module '__main__' has no attribute 'C:\\Users\\akshu\\AppData\\Roaming\\jupyter\\runtime\\kernel-687896c6-589c-4adc-b265-86bdee8f2abd'\n",
      "\n",
      "----------------------------------------------------------------------\n",
      "Ran 1 test in 0.002s\n",
      "\n",
      "FAILED (errors=1)\n"
     ]
    },
    {
     "ename": "SystemExit",
     "evalue": "True",
     "output_type": "error",
     "traceback": [
      "An exception has occurred, use %tb to see the full traceback.\n",
      "\u001b[1;31mSystemExit\u001b[0m\u001b[1;31m:\u001b[0m True\n"
     ]
    },
    {
     "name": "stderr",
     "output_type": "stream",
     "text": [
      "C:\\Users\\akshu\\AppData\\Roaming\\Python\\Python37\\site-packages\\IPython\\core\\interactiveshell.py:3465: UserWarning: To exit: use 'exit', 'quit', or Ctrl-D.\n",
      "  warn(\"To exit: use 'exit', 'quit', or Ctrl-D.\", stacklevel=1)\n"
     ]
    }
   ],
   "source": [
    "\n",
    "import unittest \n",
    "\n",
    "from full_names import get_full_name \n",
    "\n",
    "class NamesTestCase(unittest.TestCase): \n",
    "    \"\"\"Tests for names.py.\"\"\" \n",
    "    \n",
    "    def test_first_last(self): \n",
    "        \"\"\"Test names like Janis Joplin.\"\"\" \n",
    "        \n",
    "        full_name = get_full_name('janis', 'joplin') \n",
    "        \n",
    "        self.assertEqual(full_name, 'Janis Joplin') \n",
    "        \n",
    "\n",
    "unittest.main()"
   ]
  },
  {
   "cell_type": "code",
   "execution_count": 8,
   "id": "7cf9d5c3",
   "metadata": {},
   "outputs": [
    {
     "ename": "TypeError",
     "evalue": "get_full_name() takes 2 positional arguments but 3 were given",
     "output_type": "error",
     "traceback": [
      "\u001b[1;31m---------------------------------------------------------------------------\u001b[0m",
      "\u001b[1;31mTypeError\u001b[0m                                 Traceback (most recent call last)",
      "\u001b[1;32m~\\AppData\\Local\\Temp/ipykernel_13972/3945109548.py\u001b[0m in \u001b[0;36m<module>\u001b[1;34m\u001b[0m\n\u001b[0;32m      1\u001b[0m \u001b[1;32mimport\u001b[0m \u001b[0mfull_names\u001b[0m\u001b[1;33m\u001b[0m\u001b[1;33m\u001b[0m\u001b[0m\n\u001b[0;32m      2\u001b[0m \u001b[1;33m\u001b[0m\u001b[0m\n\u001b[1;32m----> 3\u001b[1;33m \u001b[0mjohn\u001b[0m \u001b[1;33m=\u001b[0m \u001b[0mfull_names\u001b[0m\u001b[1;33m.\u001b[0m\u001b[0mget_full_name\u001b[0m\u001b[1;33m(\u001b[0m\u001b[1;34m'john'\u001b[0m\u001b[1;33m,\u001b[0m \u001b[1;34m'lee'\u001b[0m\u001b[1;33m,\u001b[0m \u001b[1;34m'hooker'\u001b[0m\u001b[1;33m)\u001b[0m\u001b[1;33m\u001b[0m\u001b[1;33m\u001b[0m\u001b[0m\n\u001b[0m\u001b[0;32m      4\u001b[0m \u001b[1;33m\u001b[0m\u001b[0m\n\u001b[0;32m      5\u001b[0m \u001b[0mprint\u001b[0m\u001b[1;33m(\u001b[0m\u001b[0mjohn\u001b[0m\u001b[1;33m)\u001b[0m\u001b[1;33m\u001b[0m\u001b[1;33m\u001b[0m\u001b[0m\n",
      "\u001b[1;31mTypeError\u001b[0m: get_full_name() takes 2 positional arguments but 3 were given"
     ]
    }
   ],
   "source": [
    "import full_names\n",
    "\n",
    "john = full_names.get_full_name('john', 'lee', 'hooker') \n",
    "\n",
    "print(john) \n",
    "\n",
    "david = full_names.get_full_name('david', 'lee', 'roth')\n",
    "\n",
    "print(david)"
   ]
  },
  {
   "cell_type": "code",
   "execution_count": null,
   "id": "40a5527d",
   "metadata": {},
   "outputs": [],
   "source": [
    "def get_full_name(first, last, middle=''): \n",
    "    \n",
    "    \"\"\"Return a full name.\"\"\" \n",
    "    \n",
    "    if middle: \n",
    "        \n",
    "        full_name = \"{0} {1} {2}\".format(first, middle, last) \n",
    "        \n",
    "    else: full_name = \"{0} {1}\".format(first, last) \n",
    "        \n",
    "    return full_name.title()"
   ]
  }
 ],
 "metadata": {
  "kernelspec": {
   "display_name": "Python 3 (ipykernel)",
   "language": "python",
   "name": "python3"
  },
  "language_info": {
   "codemirror_mode": {
    "name": "ipython",
    "version": 3
   },
   "file_extension": ".py",
   "mimetype": "text/x-python",
   "name": "python",
   "nbconvert_exporter": "python",
   "pygments_lexer": "ipython3",
   "version": "3.7.8"
  }
 },
 "nbformat": 4,
 "nbformat_minor": 5
}

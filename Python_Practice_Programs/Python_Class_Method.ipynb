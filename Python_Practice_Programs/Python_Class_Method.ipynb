{
 "cells": [
  {
   "cell_type": "markdown",
   "id": "450361aa",
   "metadata": {},
   "source": [
    "### Class Method\n",
    "\n",
    "The `classmethod()` method returns a class method for the given function."
   ]
  },
  {
   "cell_type": "code",
   "execution_count": 1,
   "id": "33c8cac3",
   "metadata": {},
   "outputs": [
    {
     "name": "stdout",
     "output_type": "stream",
     "text": [
      "Obtained Marks: 88\n"
     ]
    }
   ],
   "source": [
    "class Student:\n",
    "    marks = 0\n",
    "    \n",
    "    def compute_marks(self, obtained_marks):\n",
    "        \n",
    "        marks = obtained_marks\n",
    "        \n",
    "        print('Obtained Marks:', marks)\n",
    "\n",
    "# convert compute_marks() to class method\n",
    "Student.print_marks = classmethod(Student.compute_marks)\n",
    "\n",
    "Student.print_marks(88)\n",
    "\n",
    "# Output: Obtained Marks: 88"
   ]
  },
  {
   "cell_type": "markdown",
   "id": "75fea1ed",
   "metadata": {},
   "source": [
    "#### classmethod() Syntax\n",
    "\n",
    "The syntax of `classmethod()` method is:\n",
    "\n",
    "`classmethod(function)`\n",
    "\n",
    "`classmethod()` is considered un-Pythonic so in newer Python versions, you can use the `@classmethod` decorator for classmethod definition.\n",
    "\n",
    "The syntax is:\n",
    "\n",
    "`@classmethod`\n",
    "\n",
    "`def func(cls, args...)`"
   ]
  },
  {
   "cell_type": "markdown",
   "id": "1782a33d",
   "metadata": {},
   "source": [
    "\n",
    "#### classmethod() Parameters\n",
    "\n",
    "`classmethod()` method takes a single parameter:\n",
    "\n",
    "function - Function that needs to be converted into a class method\n",
    "`classmethod()` Return Value\n",
    "\n",
    "`classmethod()` method returns a class method for the given function.\n",
    "\n",
    "**What is a class method?**\n",
    "\n",
    "A class method is a method that is bound to a class rather than its object. \n",
    "\n",
    "It doesn't require creation of a class instance, much like staticmethod.\n",
    "\n",
    "**The difference between a static method and a class method is:**\n",
    "\n",
    "Static method knows nothing about the class and just deals with the parameters\n",
    "Class method works with the class since its parameter is always the class itself.\n",
    "The class method can be called both by the class and its object."
   ]
  },
  {
   "cell_type": "code",
   "execution_count": 2,
   "id": "6daa3001",
   "metadata": {},
   "outputs": [],
   "source": [
    "# Class.classmethod()\n",
    "# Or even\n",
    "# Class().classmethod()"
   ]
  },
  {
   "cell_type": "markdown",
   "id": "8c82d96d",
   "metadata": {},
   "source": [
    "But no matter what, the class method is always attached to a class with the first argument as the `class itself cls`.\n",
    "\n",
    "`def classMethod(cls, args...)`"
   ]
  },
  {
   "cell_type": "code",
   "execution_count": 2,
   "id": "8ecf1e19",
   "metadata": {},
   "outputs": [
    {
     "name": "stdout",
     "output_type": "stream",
     "text": [
      "The age is: 25\n"
     ]
    }
   ],
   "source": [
    "### Example 1: Create class method using classmethod()\n",
    "\n",
    "class Person:\n",
    "    \n",
    "    age = 25\n",
    "    def printAge(cls):\n",
    "        \n",
    "        print('The age is:', cls.age)\n",
    "\n",
    "# create printAge class method\n",
    "Person.printAge = classmethod(Person.printAge)\n",
    "\n",
    "Person.printAge()"
   ]
  },
  {
   "cell_type": "markdown",
   "id": "019d373d",
   "metadata": {},
   "source": [
    "#### When do you use the class method?\n",
    "\n",
    "#### 1. Factory methods\n",
    "\n",
    "Factory methods are those methods that return a class object (like constructor) for different use cases.\n",
    "\n",
    "It is similar to function overloading in C++. Since, Python doesn't have anything as such, class methods and static methods are used."
   ]
  },
  {
   "cell_type": "code",
   "execution_count": 3,
   "id": "5f552132",
   "metadata": {},
   "outputs": [
    {
     "name": "stdout",
     "output_type": "stream",
     "text": [
      "Adam's age is: 19\n",
      "John's age is: 37\n"
     ]
    }
   ],
   "source": [
    "### Create factory method using class method\n",
    "from datetime import date\n",
    "\n",
    "# random Person\n",
    "class Person:\n",
    "    def __init__(self, name, age):\n",
    "        self.name = name\n",
    "        self.age = age\n",
    "\n",
    "    @classmethod\n",
    "    def fromBirthYear(cls, name, birthYear):\n",
    "        return cls(name, date.today().year - birthYear)\n",
    "\n",
    "    def display(self):\n",
    "        print(self.name + \"'s age is: \" + str(self.age))\n",
    "\n",
    "person = Person('Adam', 19)\n",
    "person.display()\n",
    "\n",
    "person1 = Person.fromBirthYear('John',  1985)\n",
    "person1.display()"
   ]
  },
  {
   "cell_type": "markdown",
   "id": "24af8a36",
   "metadata": {},
   "source": [
    "Here, we have two class instance creator, a constructor and a `fromBirthYear` method.\n",
    "\n",
    "The constructor takes normal parameters name and age. While, fromBirthYear takes `class`, `name` and `birthYear`, calculates the current age by subtracting it with the current year and returns the class instance.\n",
    "\n",
    "The fromBirthYear method takes Person class (not Person object) as the first parameter cls and returns the constructor by calling `cls(name, date.today().year - birthYear)`, which is equivalent to `Person(name, date.today().year - birthYear)`\n",
    "\n",
    "Before the method, we see` @classmethod`. This is called a decorator for converting `fromBirthYear` to a class method as `classmethod().`"
   ]
  },
  {
   "cell_type": "markdown",
   "id": "68734d12",
   "metadata": {},
   "source": [
    "#### 2. Correct instance creation in inheritance\n",
    "\n",
    "Whenever you derive a class from implementing a factory method as a class method, it ensures correct instance creation of the derived class.\n",
    "\n",
    "You can create a static method for the above example but the object it creates, will always be hard coded as Base class.\n",
    "\n",
    "But, when you use a class method, it creates the correct instance of the derived class."
   ]
  },
  {
   "cell_type": "code",
   "execution_count": 4,
   "id": "bfd32a1d",
   "metadata": {},
   "outputs": [
    {
     "name": "stdout",
     "output_type": "stream",
     "text": [
      "True\n",
      "False\n",
      "John's age is: 77\n"
     ]
    }
   ],
   "source": [
    "###Example 3: How the class method works for the inheritance?\n",
    "\n",
    "from datetime import date\n",
    "\n",
    "# random Person\n",
    "class Person:\n",
    "    def __init__(self, name, age):\n",
    "        self.name = name\n",
    "        self.age = age\n",
    "\n",
    "    @staticmethod\n",
    "    def fromFathersAge(name, fatherAgeYear, fatherPersonAgeDiff):\n",
    "        return Person(name, date.today().year - fatherAgeYear + fatherPersonAgeDiff)\n",
    "\n",
    "    @classmethod\n",
    "    def fromBirthYear(cls, name, birthYear):\n",
    "        return cls(name, date.today().year - birthYear)\n",
    "\n",
    "    def display(self):\n",
    "        return(self.name + \"'s age is: \" + str(self.age))\n",
    "\n",
    "class Man(Person):\n",
    "    sex = 'Male'\n",
    "\n",
    "man = Man.fromBirthYear('John', 1985)\n",
    "print(isinstance(man, Man))\n",
    "\n",
    "man1 = Man.fromFathersAge('John', 1965, 20)\n",
    "print(isinstance(man1, Man))\n",
    "print(man1.display())"
   ]
  },
  {
   "cell_type": "markdown",
   "id": "799ae099",
   "metadata": {},
   "source": [
    "Here, using a static method to create a class instance wants us to hardcode the instance type during creation.\n",
    "\n",
    "This clearly causes a problem when inheriting Person to Man.\n",
    "\n",
    "fromFathersAge method doesn't return a Man object but its base class Person's object.\n",
    "\n",
    "This violates the OOP paradigm. Using a class method as fromBirthYear can ensure the OOP-ness of the code since it takes the first parameter as the class itself and calls its factory method."
   ]
  },
  {
   "cell_type": "code",
   "execution_count": 19,
   "id": "696656bf",
   "metadata": {},
   "outputs": [
    {
     "name": "stdout",
     "output_type": "stream",
     "text": [
      "Name id : Ankit \n",
      "Age is: 30 \n",
      "\n",
      "Name id : Ashish \n",
      "Age is: 31 \n"
     ]
    }
   ],
   "source": [
    "from datetime import date\n",
    "\n",
    "class Employee:\n",
    "    \n",
    "    def __init__(self, name, age):\n",
    "        \n",
    "        self.name = name \n",
    "        self.age = age\n",
    "    @classmethod\n",
    "    def birthYear(Cls, name, year):\n",
    "        \n",
    "        return Cls(name, date.today().year - year)\n",
    "    \n",
    "    def __str__(self):\n",
    "        \n",
    "        return (f\"Name id : {self.name} \\nAge is: {self.age} \")\n",
    "        \n",
    "emp1 = Employee.birthYear(\"Ankit\", 1992)\n",
    "\n",
    "emp2 =Employee(\"Ashish\", 31)\n",
    "\n",
    "print(emp1)\n",
    "print()        \n",
    "print(emp2)  "
   ]
  },
  {
   "cell_type": "code",
   "execution_count": 20,
   "id": "c2273647",
   "metadata": {},
   "outputs": [
    {
     "name": "stdout",
     "output_type": "stream",
     "text": [
      "21\n",
      "26\n",
      "True\n"
     ]
    }
   ],
   "source": [
    "from datetime import date\n",
    "  \n",
    "class Person:\n",
    "    def __init__(self, name, age):\n",
    "        self.name = name\n",
    "        self.age = age\n",
    "      \n",
    "    # a class method to create a Person object by birth year.\n",
    "    @classmethod\n",
    "    def fromBirthYear(cls, name, year):\n",
    "        return cls(name, date.today().year - year)\n",
    "      \n",
    "    # a static method to check if a Person is adult or not.\n",
    "    @staticmethod\n",
    "    def isAdult(age):\n",
    "        return age > 18\n",
    "\n",
    "    \n",
    "person1 = Person('mayank', 21)\n",
    "person2 = Person.fromBirthYear('mayank', 1996)\n",
    "  \n",
    "print (person1.age)\n",
    "print (person2.age)\n",
    "  \n",
    "# print the result\n",
    "print (Person.isAdult(22))"
   ]
  },
  {
   "cell_type": "code",
   "execution_count": 24,
   "id": "ddce592b",
   "metadata": {},
   "outputs": [
    {
     "name": "stdout",
     "output_type": "stream",
     "text": [
      "hello!\n",
      "hello!\n"
     ]
    }
   ],
   "source": [
    "def sayhello():\n",
    "    print('hello!')\n",
    "    \n",
    "sayhello()\n",
    "sayhello()"
   ]
  },
  {
   "cell_type": "code",
   "execution_count": null,
   "id": "c7e41a9a",
   "metadata": {},
   "outputs": [],
   "source": [
    "x = \"abcd\"\n",
    "\n",
    "while i in x:\n",
    "    print(i, end = \" \")"
   ]
  },
  {
   "cell_type": "code",
   "execution_count": null,
   "id": "5206ee5c",
   "metadata": {},
   "outputs": [],
   "source": []
  }
 ],
 "metadata": {
  "kernelspec": {
   "display_name": "Python 3 (ipykernel)",
   "language": "python",
   "name": "python3"
  },
  "language_info": {
   "codemirror_mode": {
    "name": "ipython",
    "version": 3
   },
   "file_extension": ".py",
   "mimetype": "text/x-python",
   "name": "python",
   "nbconvert_exporter": "python",
   "pygments_lexer": "ipython3",
   "version": "3.7.8"
  }
 },
 "nbformat": 4,
 "nbformat_minor": 5
}

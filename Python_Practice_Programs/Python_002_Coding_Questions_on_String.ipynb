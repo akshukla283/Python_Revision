{
 "cells": [
  {
   "cell_type": "markdown",
   "id": "b3f2bdfb",
   "metadata": {},
   "source": [
    "Link of the questions lists :\n",
    "\n",
    "\n",
    "https://quescol.com/interview-preparation/python-coding-question"
   ]
  },
  {
   "cell_type": "markdown",
   "id": "96e9a7cb",
   "metadata": {},
   "source": [
    "#### 1 Q. Python program to remove character from string"
   ]
  },
  {
   "cell_type": "code",
   "execution_count": null,
   "id": "0c135219",
   "metadata": {},
   "outputs": [],
   "source": [
    "# by using .replace Method "
   ]
  },
  {
   "cell_type": "code",
   "execution_count": 5,
   "id": "d37f66e3",
   "metadata": {},
   "outputs": [
    {
     "name": "stdout",
     "output_type": "stream",
     "text": [
      "Please enter the string: hello world\n",
      "Enter the word you want to remove:  \n",
      "helloworld\n"
     ]
    }
   ],
   "source": [
    "string = input(\"Please enter the string: \")\n",
    "remove_word = input(\"Enter the word you want to remove: \")\n",
    "\n",
    "print(string.replace(remove_word, \"\"))"
   ]
  },
  {
   "cell_type": "markdown",
   "id": "5ff418a4",
   "metadata": {},
   "source": [
    "#### Using translate() method\n",
    "Using translate() method in python we can also remove all occurrence of a given character from string.\n",
    "\n",
    "The translate() method in python returns a string where some specified characters are replaced with the character described in a dictionary, or in a mapping table.\n",
    "\n",
    "And to use dictionary we have to use ascii codes instead of characters. \n",
    "\n",
    "For this purpose we will use ord() function which takes a character as an input and convert it to ascii.\n",
    "\n",
    "Lets see program "
   ]
  },
  {
   "cell_type": "code",
   "execution_count": 2,
   "id": "557a5d7e",
   "metadata": {},
   "outputs": [
    {
     "name": "stdout",
     "output_type": "stream",
     "text": [
      "please give a String : Hello\n",
      "please give a Character to remove : H\n",
      "ello\n"
     ]
    }
   ],
   "source": [
    "def remove_char(s1,s2):\n",
    "    dict = {ord(s2) : None}\n",
    "    print(s1.translate(dict))\n",
    "\n",
    "s1 = input(\"please give a String : \")\n",
    "s2 = input(\"please give a Character to remove : \")\n",
    "remove_char(s1,s2) "
   ]
  },
  {
   "cell_type": "code",
   "execution_count": null,
   "id": "b4f9c08f",
   "metadata": {},
   "outputs": [],
   "source": [
    "def remove_char(s1,s2):\n",
    "    dict = {ord(s2) : \"World\"}\n",
    "    print(s1.translate(dict))\n",
    "\n",
    "s1 = input(\"please give a String : \")\n",
    "s2 = input(\"please give a Character to remove : \")\n",
    "remove_char(s1,s2)"
   ]
  },
  {
   "cell_type": "markdown",
   "id": "e69c2902",
   "metadata": {},
   "source": [
    "#### Q2). Python Program to count occurrence of a given characters in string."
   ]
  },
  {
   "cell_type": "code",
   "execution_count": 6,
   "id": "79db52c7",
   "metadata": {},
   "outputs": [
    {
     "name": "stdout",
     "output_type": "stream",
     "text": [
      "Please enter the string: hello\n",
      "enter the character you want to count: l\n",
      "2\n"
     ]
    }
   ],
   "source": [
    "string = input(\"Please enter the string: \")\n",
    "count_word = input(\"enter the character you want to count: \")\n",
    "\n",
    "print(string.count(count_word))"
   ]
  },
  {
   "cell_type": "code",
   "execution_count": 18,
   "id": "e2f9d208",
   "metadata": {},
   "outputs": [
    {
     "name": "stdout",
     "output_type": "stream",
     "text": [
      "Please enter the string: hello hello \n",
      "hello hello \n"
     ]
    }
   ],
   "source": [
    "string = input(\"Please enter the string: \")\n",
    "#count_word = input(\"enter the character you want to count: \")\n",
    "\n",
    "print(string)"
   ]
  },
  {
   "cell_type": "code",
   "execution_count": 35,
   "id": "7aedc219",
   "metadata": {},
   "outputs": [
    {
     "name": "stdout",
     "output_type": "stream",
     "text": [
      "5\n"
     ]
    }
   ],
   "source": [
    "print(len(\"hello\"))"
   ]
  },
  {
   "cell_type": "code",
   "execution_count": 10,
   "id": "6682caf3",
   "metadata": {},
   "outputs": [
    {
     "name": "stdout",
     "output_type": "stream",
     "text": [
      "Please enter the string: hello\n",
      "enter the character you want to count: l\n",
      "Total Number of occurence of  l is : 2\n"
     ]
    }
   ],
   "source": [
    "# using for loop\n",
    "string = input(\"Please enter the string: \")\n",
    "char= input(\"enter the character you want to count: \")\n",
    "\n",
    "count = 0\n",
    "\n",
    "for i in range(len(string)):\n",
    "    if (string[i] == char):\n",
    "        count = count + 1\n",
    "print(\"Total Number of occurence of \", char, \"is :\" , count)"
   ]
  },
  {
   "cell_type": "code",
   "execution_count": 11,
   "id": "ba692a94",
   "metadata": {},
   "outputs": [
    {
     "name": "stdout",
     "output_type": "stream",
     "text": [
      "Please enter the string: HelLo\n",
      "enter the character you want to count: l\n",
      "Total Number of occurence of  l is : 2\n"
     ]
    }
   ],
   "source": [
    "# using for loop and avoid case sensitive\n",
    "string = input(\"Please enter the string: \")\n",
    "char= input(\"enter the character you want to count: \")\n",
    "\n",
    "count = 0\n",
    "\n",
    "for i in range(len(string)):\n",
    "    if (string[i].lower() == char.lower()):\n",
    "        count = count + 1\n",
    "print(\"Total Number of occurence of \", char, \"is :\" , count)"
   ]
  },
  {
   "cell_type": "code",
   "execution_count": 15,
   "id": "f6b28ea8",
   "metadata": {},
   "outputs": [
    {
     "name": "stdout",
     "output_type": "stream",
     "text": [
      "Please enter String : hello\n",
      "Please enter a Character : l\n",
      "Total Number of occurence of  l is : 2\n"
     ]
    }
   ],
   "source": [
    "### using while loop\n",
    "\n",
    "string = input(\"Please enter String : \")\n",
    "char = input(\"Please enter a Character : \")\n",
    "index, count = 0, 0\n",
    "while(index < len(string)):\n",
    "    if(string[index].lower() == char.lower()):\n",
    "        count = count + 1\n",
    "    index = index + 1\n",
    "print(\"Total Number of occurence of \", char, \"is :\" , count)"
   ]
  },
  {
   "cell_type": "code",
   "execution_count": 1,
   "id": "407a90ce",
   "metadata": {},
   "outputs": [
    {
     "name": "stdout",
     "output_type": "stream",
     "text": [
      "Please enter the string:hello\n",
      "Please enter the char you want count: l\n",
      "Total Number of occurence of  l is : 0\n"
     ]
    }
   ],
   "source": [
    "### using while loop and acoid case sensitive\n",
    "\n",
    "string = input(\"Please enter the string:\")\n",
    "char = input(\"Please enter the char you want count: \")\n",
    "\n",
    "index = 0\n",
    "count = 0\n",
    "\n",
    "while index < len(char):\n",
    "    \n",
    "    if string[index].lower() == char.lower():\n",
    "        count += 1\n",
    "    index +=1\n",
    "    \n",
    "print(\"Total Number of occurence of \", char, \"is :\" , count)   "
   ]
  },
  {
   "cell_type": "code",
   "execution_count": 19,
   "id": "0d61ec4a",
   "metadata": {},
   "outputs": [
    {
     "name": "stdout",
     "output_type": "stream",
     "text": [
      "Please enter String : hello \n",
      "Please enter a Character : o\n",
      "Total Number of occurence of  o is : 1\n"
     ]
    }
   ],
   "source": [
    "\n",
    "# using method \n",
    "\n",
    "def countOccur(char, string):\n",
    "    count = 0\n",
    "    for i in range(len(string)):\n",
    "        if(string[i] == char):\n",
    "            count = count + 1\n",
    "    return count\n",
    "string = input(\"Please enter String : \")\n",
    "char = input(\"Please enter a Character : \")\n",
    "count = countOccur(char, string)\n",
    "print(\"Total Number of occurence of \", char, \"is :\" , count) "
   ]
  },
  {
   "cell_type": "markdown",
   "id": "cb508466",
   "metadata": {},
   "source": [
    "#### Q3). Python Program to check if two Strings are Anagram.\n",
    "\n",
    "when two or more string rearranged and are equal to each other will called Anagram\n",
    "\n",
    "anagrams plural in form but singular in construction : a game in which words are formed by rearranging the letters of other words or by arranging letters taken (as from a stock of cards or blocks) at random\n"
   ]
  },
  {
   "cell_type": "code",
   "execution_count": 20,
   "id": "1e3080a6",
   "metadata": {},
   "outputs": [
    {
     "name": "stdout",
     "output_type": "stream",
     "text": [
      "Enter first stringhello\n",
      "Enter second stringhello\n"
     ]
    },
    {
     "data": {
      "text/plain": [
       "True"
      ]
     },
     "execution_count": 20,
     "metadata": {},
     "output_type": "execute_result"
    }
   ],
   "source": [
    "def Anagram(str1, str2):\n",
    "    \n",
    "    if (sorted(str1) == sorted(str2)):\n",
    "        \n",
    "        return True\n",
    "    else :\n",
    "        return False\n",
    "    \n",
    "str1 = input(\"Enter first string\")\n",
    "str2 = input(\"Enter second string\")\n",
    "Anagram(str1, str2)"
   ]
  },
  {
   "cell_type": "markdown",
   "id": "ac7777f2",
   "metadata": {},
   "source": [
    "#### Q4). Python program to check a String is palindrome or not.\n",
    "\n",
    "`Definition of palindrome`\n",
    ": a word, verse, or sentence (such as \"Able was I ere I saw Elba\") or a number (such as 1881) that reads the same backward or forward. "
   ]
  },
  {
   "cell_type": "code",
   "execution_count": 24,
   "id": "77fcfed1",
   "metadata": {},
   "outputs": [
    {
     "name": "stdout",
     "output_type": "stream",
     "text": [
      "Enter the string: madam\n",
      "Given string is Palindrome\n"
     ]
    }
   ],
   "source": [
    "str1 = input(\"Enter the string: \")\n",
    "\n",
    "if str1 == str1[::-1]:\n",
    "    \n",
    "    print(\"Given string is Palindrome\")\n",
    "else:\n",
    "    print(\"Not a palindrome\")"
   ]
  },
  {
   "cell_type": "markdown",
   "id": "901021f1",
   "metadata": {},
   "source": [
    "#### Q5). Python program to check given character is vowel or consonant."
   ]
  },
  {
   "cell_type": "code",
   "execution_count": 43,
   "id": "48fd8e84",
   "metadata": {},
   "outputs": [
    {
     "name": "stdout",
     "output_type": "stream",
     "text": [
      "Enter the character: *\n",
      "character is special one\n"
     ]
    }
   ],
   "source": [
    "str1 = input(\"Enter the character: \")\n",
    "\n",
    "vowel = [\"a\", \"e\", \"i\", \"o\", \"u\"]\n",
    "\n",
    "\n",
    "if str1.lower() in vowel:\n",
    "    print(\"character is Vowel\")\n",
    "elif str1.isalpha():\n",
    "    print(\"Character is Consonant\")\n",
    "else:\n",
    "    print(\"character is special one\")"
   ]
  },
  {
   "cell_type": "markdown",
   "id": "180a51b5",
   "metadata": {},
   "source": [
    "#### Q6). Python program to check given character is digit or not."
   ]
  },
  {
   "cell_type": "code",
   "execution_count": 33,
   "id": "95770303",
   "metadata": {},
   "outputs": [
    {
     "name": "stdout",
     "output_type": "stream",
     "text": [
      "Enter the character: 2.5\n",
      "NO, character is not a Digit\n"
     ]
    }
   ],
   "source": [
    "char = input(\"Enter the character: \")\n",
    "\n",
    "if char.isdigit():  # note this will not work on float \n",
    "    print(\"Character is Diggit\")\n",
    "else:\n",
    "    print(\"NO, character is not a Digit\")"
   ]
  },
  {
   "cell_type": "code",
   "execution_count": 45,
   "id": "205c54cb",
   "metadata": {},
   "outputs": [
    {
     "name": "stdout",
     "output_type": "stream",
     "text": [
      "Enter a character : 3.2\n",
      "Given Character  3.2 is a Digit\n"
     ]
    }
   ],
   "source": [
    "#taking input from user\n",
    "ch = input(\"Enter a character : \") \n",
    "if ch >= '0' and ch <= '9':  #comparing the value of ‘ch’ \n",
    "# if the condition holds true then this block will execute\n",
    "    print(\"Given Character \", ch, \"is a Digit\")\n",
    "else: #this block will execute if the condition will not satisfies\n",
    "    print(\"Given Character \", ch, \"is not a Digit\")\n"
   ]
  },
  {
   "cell_type": "markdown",
   "id": "0a19db74",
   "metadata": {},
   "source": [
    "#### Q7). Python program to check given character is digit or not using isdigit() method."
   ]
  },
  {
   "cell_type": "code",
   "execution_count": 34,
   "id": "80415fb7",
   "metadata": {},
   "outputs": [
    {
     "name": "stdout",
     "output_type": "stream",
     "text": [
      "Enter the character: 5\n",
      "Character is Diggit\n"
     ]
    }
   ],
   "source": [
    "char = input(\"Enter the character: \")\n",
    "\n",
    "if char.isdigit():  # note this will not work on float \n",
    "    print(\"Character is Diggit\")\n",
    "else:\n",
    "    print(\"NO, character is not a Digit\")"
   ]
  },
  {
   "cell_type": "markdown",
   "id": "1ebff210",
   "metadata": {},
   "source": [
    "#### Q8). Python program to replace the string space with a given character."
   ]
  },
  {
   "cell_type": "code",
   "execution_count": 35,
   "id": "2808621c",
   "metadata": {},
   "outputs": [
    {
     "name": "stdout",
     "output_type": "stream",
     "text": [
      "Enter the string: hello wolrd\n",
      "Enter the char which will replace space#\n",
      "hello#wolrd\n"
     ]
    }
   ],
   "source": [
    "str1 = input(\"Enter the string: \")\n",
    "char = input(\"Enter the char which will replace space\")\n",
    "\n",
    "print(str1.replace(\" \", char))"
   ]
  },
  {
   "cell_type": "code",
   "execution_count": 38,
   "id": "20aec21f",
   "metadata": {},
   "outputs": [
    {
     "name": "stdout",
     "output_type": "stream",
     "text": [
      "Enter a String : hello world\n",
      "Enter a Character : #\n",
      "String after removing space with # =  hello#world\n"
     ]
    }
   ],
   "source": [
    "# using for loop\n",
    "\n",
    "#taking input from the user\n",
    "string = input(\"Enter a String : \")\n",
    "result = ''  #empty string\n",
    "ch = input(\"Enter a Character : \")\n",
    "for i in string:  #iterating using for loop\n",
    "        if i == ' ':  #if any space found in the string\n",
    "            i = ch   #replacing space with character\n",
    "        result += i   #concatenating each character of the string without space\n",
    "print(f\"String after removing space with {ch} = \",result)"
   ]
  },
  {
   "cell_type": "markdown",
   "id": "cb5d8fc2",
   "metadata": {},
   "source": [
    "#### Q9). Python program to replace the string space with a given character using replace() method."
   ]
  },
  {
   "cell_type": "code",
   "execution_count": 39,
   "id": "558e2987",
   "metadata": {},
   "outputs": [
    {
     "name": "stdout",
     "output_type": "stream",
     "text": [
      "Enter the string: hello world\n",
      "Enter the char which will replace space#\n",
      "hello#world\n"
     ]
    }
   ],
   "source": [
    "str1 = input(\"Enter the string: \")\n",
    "char = input(\"Enter the char which will replace space\")\n",
    "\n",
    "print(str1.replace(\" \", char))"
   ]
  },
  {
   "cell_type": "markdown",
   "id": "28faa513",
   "metadata": {},
   "source": [
    "#### Q10). Python program to convert lowercase char to uppercase of string."
   ]
  },
  {
   "cell_type": "code",
   "execution_count": 41,
   "id": "8cb09452",
   "metadata": {},
   "outputs": [
    {
     "name": "stdout",
     "output_type": "stream",
     "text": [
      "Enter the char: python 123world\n",
      "PYTHON 123WORLD\n"
     ]
    }
   ],
   "source": [
    "char = input(\"Enter the char: \")\n",
    "\n",
    "print(char.upper())"
   ]
  },
  {
   "cell_type": "code",
   "execution_count": 42,
   "id": "b1990449",
   "metadata": {},
   "outputs": [
    {
     "name": "stdout",
     "output_type": "stream",
     "text": [
      "Enter a String : hello Wolrd\n",
      "String after converting lower case to upper : HELLO WOLRD\n"
     ]
    }
   ],
   "source": [
    "string = input(\"Enter a String : \")\n",
    "result=''\n",
    "for i in string:  #iterate through each letter/character from the string\n",
    "        if i.islower():  #if lowercase\n",
    "            i = i.upper() #converting lowercase into uppercase letter\n",
    "        result += i #concatenating each character of the string without lowercase letter \n",
    "print(\"String after converting lower case to upper :\",result)"
   ]
  },
  {
   "cell_type": "markdown",
   "id": "1de6ae4d",
   "metadata": {},
   "source": [
    "#### Q11). Python program to convert lowercase vowel to uppercase in string."
   ]
  },
  {
   "cell_type": "code",
   "execution_count": 44,
   "id": "e1de0986",
   "metadata": {},
   "outputs": [
    {
     "name": "stdout",
     "output_type": "stream",
     "text": [
      "Enter the char: hello world\n",
      "hEllO wOrld\n"
     ]
    }
   ],
   "source": [
    "char = input(\"Enter the char: \")\n",
    "result = \"\"\n",
    "vowel = [\"a\", \"e\", \"i\", \"o\", \"u\"]\n",
    "for i in char:\n",
    "    if i.lower() in vowel:\n",
    "        i = i.upper()\n",
    "        result += i\n",
    "    else:\n",
    "        result += i\n",
    "        \n",
    "print(result)"
   ]
  },
  {
   "cell_type": "markdown",
   "id": "ddd8d70e",
   "metadata": {},
   "source": [
    "#### Q12). Python program to delete vowels in a given string.\n"
   ]
  },
  {
   "cell_type": "code",
   "execution_count": 45,
   "id": "d2422922",
   "metadata": {},
   "outputs": [
    {
     "name": "stdout",
     "output_type": "stream",
     "text": [
      "Enter the char : hello wolrd\n",
      "hll wlrd\n"
     ]
    }
   ],
   "source": [
    "char = input(\"Enter the char : \")\n",
    "\n",
    "result = \"\"\n",
    "\n",
    "vowel = [\"a\", \"e\", \"i\", \"o\", \"u\"]\n",
    "\n",
    "for i in char:\n",
    "    \n",
    "    if i.lower() in vowel:\n",
    "        continue\n",
    "    else:\n",
    "        result +=i \n",
    "        \n",
    "print(result)"
   ]
  },
  {
   "cell_type": "code",
   "execution_count": 46,
   "id": "fa7b2772",
   "metadata": {},
   "outputs": [
    {
     "name": "stdout",
     "output_type": "stream",
     "text": [
      "Enter a String : hello\n",
      "String after removing the vowels : hll\n"
     ]
    }
   ],
   "source": [
    "#taking the input string from the user\n",
    "string = input(\"Enter a String : \") \n",
    "result=''\n",
    "for i in string:  \n",
    "#iterating through each character of the string\n",
    "    if i in ('a', 'e', 'i', 'o', 'u', 'A', 'E', 'I', 'O', 'U'):  \n",
    "     #seaching for vowels\n",
    "        i = ''  \n",
    "#if vowel found replace it with empty string\n",
    "    result += i \n",
    "    #concatenate rest of the string\n",
    "print(\"String after removing the vowels :\",result)"
   ]
  },
  {
   "cell_type": "markdown",
   "id": "e479438f",
   "metadata": {},
   "source": [
    "#### Q13). Python program to count Occurrence Of Vowels & Consonants in a String.\n"
   ]
  },
  {
   "cell_type": "code",
   "execution_count": 52,
   "id": "28018e53",
   "metadata": {},
   "outputs": [
    {
     "name": "stdout",
     "output_type": "stream",
     "text": [
      "Enter the char : hello wolrd\n",
      "Occurrence of Vowel : 3\n",
      "Occurrence of Consonants : 7\n"
     ]
    }
   ],
   "source": [
    "char = input(\"Enter the char : \")\n",
    "\n",
    "vowel = [\"a\", \"e\", \"i\", \"o\", \"u\"]\n",
    "\n",
    "count_vowel = 0\n",
    "count_conso = 0\n",
    "\n",
    "for i in char:\n",
    "    \n",
    "    if i.lower() in vowel:\n",
    "        count_vowel +=1\n",
    "    elif i.isalpha():  # we use isalpha otherwise it will count space as a consonant\n",
    "        count_conso +=1\n",
    "        \n",
    "        \n",
    "print(f\"Occurrence of Vowel : {count_vowel}\\nOccurrence of Consonants : {count_conso}\")"
   ]
  },
  {
   "cell_type": "code",
   "execution_count": 53,
   "id": "3b16a398",
   "metadata": {},
   "outputs": [
    {
     "name": "stdout",
     "output_type": "stream",
     "text": [
      "Enter a String : hello world\n",
      "Vowels : 3 Consonants: 7\n"
     ]
    }
   ],
   "source": [
    "#taking input from the user\n",
    "string = input(\"Enter a String : \")   \n",
    "vowels = 0  #variable to count number of vowels\n",
    "consonants = 0 #variable to count number of consonants\n",
    "for i in string:  #string iteration \n",
    "    if i in ('a', 'e', 'i', 'o', 'u','A', 'E', 'I', 'O', 'U'):  #if character in string is vowel\n",
    "        vowels+=1 #if vowel increment variable ‘vowel’ with one\n",
    "    elif i.isalpha():  #checking if the character is alphabet\n",
    "        consonants+=1  #if consonant increment variable ‘consonants’ with one\n",
    "print(\"Vowels :\",vowels,\"Consonants:\",consonants)"
   ]
  },
  {
   "cell_type": "markdown",
   "id": "5d3f25e7",
   "metadata": {},
   "source": [
    "#### Q14). Python program to print the highest frequency character in a String."
   ]
  },
  {
   "cell_type": "code",
   "execution_count": 60,
   "id": "f9e6bdd1",
   "metadata": {},
   "outputs": [
    {
     "name": "stdout",
     "output_type": "stream",
     "text": [
      "Enter the char :heeelllo\n",
      "highest frequency character in a String : e\n",
      "Frequency is 3\n"
     ]
    }
   ],
   "source": [
    "char = input(\"Enter the char :\")\n",
    "high_freq = {}\n",
    "\n",
    "for i in char:\n",
    "    \n",
    "    if i in high_freq:\n",
    "        \n",
    "        high_freq[i] +=1\n",
    "        \n",
    "    else:\n",
    "        high_freq[i] = 1\n",
    "    \n",
    "    \n",
    "result = max(high_freq, key = high_freq.get)\n",
    "    \n",
    "print(f\"highest frequency character in a String : {result}\\nFrequency is {high_freq[result]}\")"
   ]
  },
  {
   "cell_type": "code",
   "execution_count": 61,
   "id": "16500971",
   "metadata": {},
   "outputs": [
    {
     "name": "stdout",
     "output_type": "stream",
     "text": [
      "The original string is : GeeksforGeeks\n",
      "The maximum of all characters in GeeksforGeeks is : e\n"
     ]
    }
   ],
   "source": [
    "# initializing string \n",
    "test_str = \"GeeksforGeeks\"\n",
    "  \n",
    "# printing original string\n",
    "print (\"The original string is : \" + test_str)\n",
    "  \n",
    "# using naive method to get\n",
    "# Maximum frequency character in String\n",
    "all_freq = {}\n",
    "for i in test_str:\n",
    "    if i in all_freq:\n",
    "        all_freq[i] += 1\n",
    "    else:\n",
    "        all_freq[i] = 1\n",
    "res = max(all_freq, key = all_freq.get) \n",
    "  \n",
    "# printing result \n",
    "print (\"The maximum of all characters in GeeksforGeeks is : \" + res)"
   ]
  },
  {
   "cell_type": "code",
   "execution_count": 63,
   "id": "9e161591",
   "metadata": {},
   "outputs": [
    {
     "name": "stdout",
     "output_type": "stream",
     "text": [
      "The original string is : GeeksforGeeks\n",
      "The maximum of all characters in GeeksforGeeks is : e\n"
     ]
    }
   ],
   "source": [
    "# Python 3 code to demonstrate \n",
    "# Maximum frequency character in String\n",
    "# collections.Counter() + max()\n",
    "from collections import Counter\n",
    "  \n",
    "# initializing string \n",
    "test_str = \"GeeksforGeeks\"\n",
    "  \n",
    "# printing original string\n",
    "print (\"The original string is : \" + test_str)\n",
    "  \n",
    "# using collections.Counter() + max() to get \n",
    "# Maximum frequency character in String\n",
    "res = Counter(test_str)\n",
    "res = max(res, key = res.get) \n",
    "  \n",
    "# printing result \n",
    "print (\"The maximum of all characters in GeeksforGeeks is : \" + res)"
   ]
  },
  {
   "cell_type": "code",
   "execution_count": 65,
   "id": "1ad5d4cf",
   "metadata": {},
   "outputs": [
    {
     "name": "stdout",
     "output_type": "stream",
     "text": [
      "Counter({'l': 3, 'o': 2, 'H': 1, 'e': 1, ' ': 1, 'w': 1, 'r': 1, 'd': 1})\n"
     ]
    }
   ],
   "source": [
    "from collections import Counter\n",
    "print(Counter(\"Hello wolrd\"))"
   ]
  },
  {
   "cell_type": "code",
   "execution_count": 67,
   "id": "57abc011",
   "metadata": {},
   "outputs": [
    {
     "name": "stdout",
     "output_type": "stream",
     "text": [
      "Counter({'l': 3, 'o': 2, 'H': 1, 'e': 1, ' ': 1, 'w': 1, 'r': 1, 'd': 1})\n",
      "H\n"
     ]
    }
   ],
   "source": [
    "from collections import Counter\n",
    "res = Counter(\"Hello wolrd\")\n",
    "print(res)\n",
    "print(min(res, key = res.get))"
   ]
  },
  {
   "cell_type": "markdown",
   "id": "b4aca409",
   "metadata": {},
   "source": [
    "#### Q15). Python program to Replace First Occurrence Of Vowel With ‘-‘ in String."
   ]
  },
  {
   "cell_type": "code",
   "execution_count": 5,
   "id": "41aecc9f",
   "metadata": {},
   "outputs": [
    {
     "name": "stdout",
     "output_type": "stream",
     "text": [
      "Enter the string: hello\n",
      "After relacing first vowel with '-' : h-llo\n"
     ]
    }
   ],
   "source": [
    "def replace_first_occ(str1, k):\n",
    "    \n",
    "    vowel = [\"a\", \"e\", \"i\", \"o\", \"u\"]\n",
    "    \n",
    "    for i in vowel:\n",
    "        \n",
    "        if \"-\" not in str1:\n",
    "            str1 = str1.replace(i, k, 1)\n",
    "        else:\n",
    "            continue\n",
    "       \n",
    "    return str1\n",
    "\n",
    "str1 = input(\"Enter the string: \")\n",
    "k = \"-\"\n",
    "\n",
    "\n",
    "\n",
    "print(f\"After relacing first vowel with '-' : {replace_first_occ(str1, k)}\")"
   ]
  },
  {
   "cell_type": "markdown",
   "id": "a02209ba",
   "metadata": {},
   "source": [
    "#### Q16). Python program to count alphabets, digits and special characters."
   ]
  },
  {
   "cell_type": "code",
   "execution_count": 8,
   "id": "6b013621",
   "metadata": {},
   "outputs": [
    {
     "name": "stdout",
     "output_type": "stream",
     "text": [
      "Please enter the string: hello world! 1233\n",
      "Alphabet :  10\n",
      "Digit :  4\n",
      "Special :  1\n"
     ]
    }
   ],
   "source": [
    "str1 = input(\"Please enter the string: \")\n",
    "\n",
    "alpha_count = 0\n",
    "digi_count = 0\n",
    "spe_count = 0\n",
    "space = 0\n",
    "for i in str1:\n",
    "    \n",
    "    if i.isalpha():\n",
    "        alpha_count += 1\n",
    "    \n",
    "    elif i.isdigit():\n",
    "        digi_count += 1\n",
    "    elif i == \" \":\n",
    "        space += 1\n",
    "        \n",
    "    else:\n",
    "        spe_count += 1\n",
    "        \n",
    "print(\"Alphabet : \", alpha_count)\n",
    "print(\"Digit : \", digi_count)\n",
    "print(\"Special : \", spe_count)"
   ]
  },
  {
   "cell_type": "code",
   "execution_count": 11,
   "id": "a7d70d91",
   "metadata": {},
   "outputs": [
    {
     "name": "stdout",
     "output_type": "stream",
     "text": [
      "Enter a String : hkhzfh@13132jjl\n",
      "alphabets = 9 digits = 5 specialChars = 1\n"
     ]
    }
   ],
   "source": [
    "\n",
    "#taking string as an input from the user\n",
    "string = input(\"Enter a String : \")\n",
    "alphabets=0\n",
    "digits=0\n",
    "specialChars=0\n",
    "#checks for each character in the string\n",
    "for i in string: \n",
    "#if character of the string is an alphabet\n",
    "    if i.isalpha():\n",
    "        alphabets+=1\n",
    "#if character of the string is a digit\n",
    "    elif i.isdigit():\n",
    "        digits+=1\n",
    "    else: #if character of the string is a special character\n",
    "        specialChars +=1\n",
    "    \n",
    "print(\"alphabets =\",alphabets,\"digits =\",digits,\"specialChars =\",specialChars)"
   ]
  },
  {
   "cell_type": "markdown",
   "id": "4b1ca205",
   "metadata": {},
   "source": [
    "#### Q17). Python program to separate characters in a given string.\n"
   ]
  },
  {
   "cell_type": "code",
   "execution_count": 14,
   "id": "ff4a315c",
   "metadata": {},
   "outputs": [
    {
     "name": "stdout",
     "output_type": "stream",
     "text": [
      "['h', 'e', 'l', 'l', 'o']\n"
     ]
    }
   ],
   "source": [
    "print(list(\"hello\"))"
   ]
  },
  {
   "cell_type": "code",
   "execution_count": 15,
   "id": "d8cb7243",
   "metadata": {},
   "outputs": [
    {
     "name": "stdout",
     "output_type": "stream",
     "text": [
      "Enter the string: hello\n",
      "['h', 'e', 'l', 'l', 'o']\n"
     ]
    }
   ],
   "source": [
    "def separate(word):\n",
    "    \n",
    "    return [x for x in word]\n",
    "\n",
    "word = input(\"Enter the string: \")\n",
    "\n",
    "print(separate(word))"
   ]
  },
  {
   "cell_type": "code",
   "execution_count": 16,
   "id": "954f507e",
   "metadata": {},
   "outputs": [
    {
     "name": "stdout",
     "output_type": "stream",
     "text": [
      "Enter the string: Hello world\n",
      "['H', 'e', 'l', 'l', 'o', ' ', 'w', 'o', 'r', 'l', 'd']\n"
     ]
    }
   ],
   "source": [
    "def separate_use_list(word):\n",
    "    \n",
    "    return list(word)\n",
    "\n",
    "word = input(\"Enter the string: \")\n",
    "\n",
    "print(separate_use_list(word))"
   ]
  },
  {
   "cell_type": "markdown",
   "id": "7ff2d11b",
   "metadata": {},
   "source": [
    "#### Q18). Python program to remove blank space from string."
   ]
  },
  {
   "cell_type": "code",
   "execution_count": 20,
   "id": "c25c5d19",
   "metadata": {},
   "outputs": [
    {
     "name": "stdout",
     "output_type": "stream",
     "text": [
      "enter the string : hello world\n",
      "helloworld\n"
     ]
    }
   ],
   "source": [
    "def remove_space(string):\n",
    "    \n",
    "    lst = [x for x in string if x != \" \"]\n",
    "    \n",
    "    return \"\".join(lst)\n",
    "\n",
    "string = input(\"enter the string : \")\n",
    "\n",
    "print(remove_space(string))"
   ]
  },
  {
   "cell_type": "code",
   "execution_count": 21,
   "id": "3742668c",
   "metadata": {},
   "outputs": [
    {
     "name": "stdout",
     "output_type": "stream",
     "text": [
      "Enter a String : hello world\n",
      "String after removing the spaces : helloworld\n"
     ]
    }
   ],
   "source": [
    "#taking input from the user\n",
    "string = input(\"Enter a String : \")\n",
    "result=''\n",
    "#iterating the string\n",
    "for i in string:\n",
    "    #if the character is not a space\n",
    "    if i!=' ':\n",
    "        result += i\n",
    "print(\"String after removing the spaces :\",result)"
   ]
  },
  {
   "cell_type": "markdown",
   "id": "3d665c3f",
   "metadata": {},
   "source": [
    "#### Q19). Python program to concatenate two strings using join() method."
   ]
  },
  {
   "cell_type": "code",
   "execution_count": 23,
   "id": "0c0c88a8",
   "metadata": {},
   "outputs": [
    {
     "name": "stdout",
     "output_type": "stream",
     "text": [
      "Enter the first string: hello\n",
      "Enter the second string: world\n",
      "word after concatenating  hello world\n"
     ]
    }
   ],
   "source": [
    "str1 = input(\"Enter the first string: \")\n",
    "str2 = input(\"Enter the second string: \")\n",
    "\n",
    "def concatenate(str1, str2):\n",
    "    \n",
    "    return \" \".join([str1, str2]) #input as a list\n",
    "\n",
    "print(\"word after concatenating \", concatenate(str1, str2))"
   ]
  },
  {
   "cell_type": "code",
   "execution_count": 24,
   "id": "7842df66",
   "metadata": {},
   "outputs": [
    {
     "name": "stdout",
     "output_type": "stream",
     "text": [
      "Enter the first string: hello\n",
      "Enter the second string: world\n",
      "word after concatenating  hello world\n"
     ]
    }
   ],
   "source": [
    "str1 = input(\"Enter the first string: \")\n",
    "str2 = input(\"Enter the second string: \")\n",
    "\n",
    "def concatenate(str1, str2):\n",
    "    \n",
    "    return \" \".join((str1, str2)) # input as a tuple\n",
    "\n",
    "print(\"word after concatenating \", concatenate(str1, str2))"
   ]
  },
  {
   "cell_type": "code",
   "execution_count": 25,
   "id": "ba3c4ba2",
   "metadata": {},
   "outputs": [
    {
     "name": "stdout",
     "output_type": "stream",
     "text": [
      "Enter the first string: hello\n",
      "Enter the second string: world\n",
      "word after concatenating  world hello\n"
     ]
    }
   ],
   "source": [
    "str1 = input(\"Enter the first string: \")\n",
    "str2 = input(\"Enter the second string: \")\n",
    "\n",
    "def concatenate(str1, str2):\n",
    "    \n",
    "    return \" \".join({str1, str2}) # input as a set \n",
    "\n",
    "print(\"word after concatenating \", concatenate(str1, str2))"
   ]
  },
  {
   "cell_type": "markdown",
   "id": "57a78fd8",
   "metadata": {},
   "source": [
    "#### Q21). Python program to remove repeated character from string."
   ]
  },
  {
   "cell_type": "code",
   "execution_count": 4,
   "id": "392a26ee",
   "metadata": {},
   "outputs": [
    {
     "name": "stdout",
     "output_type": "stream",
     "text": [
      "Enter the string: python is fun\n",
      "string after reomveding repeated character\n",
      ": python isfu\n"
     ]
    }
   ],
   "source": [
    "def remove_repeated_ch(string):\n",
    "    \n",
    "    list1 = []\n",
    "    for i in string:\n",
    "        if i not in list1:\n",
    "            list1.append(i)\n",
    "        else:\n",
    "            pass\n",
    "    return \"\".join(list1)\n",
    "\n",
    "\n",
    "string = input(\"Enter the string: \")\n",
    "\n",
    "print(f\"string after reomveding repeated character\\n: {remove_repeated_ch(string)}\")"
   ]
  },
  {
   "cell_type": "code",
   "execution_count": 34,
   "id": "51c89d6f",
   "metadata": {},
   "outputs": [
    {
     "name": "stdout",
     "output_type": "stream",
     "text": [
      "Enter the string: hello world\n",
      "Word without repeatition:  helo wrd\n"
     ]
    }
   ],
   "source": [
    "def remove_repeated_ch(string):\n",
    "    result = \"\"\n",
    "    for i in string:\n",
    "        if i not in result:\n",
    "            result += i\n",
    "        else :\n",
    "            pass\n",
    "    return result\n",
    "\n",
    "string = input(\"Enter the string: \")\n",
    "\n",
    "print(\"Word without repeatition: \" ,remove_repeated_ch(string))"
   ]
  },
  {
   "cell_type": "markdown",
   "id": "325f5f28",
   "metadata": {},
   "source": [
    "#### Q22). Python program to calculate sum of integers in string."
   ]
  },
  {
   "cell_type": "code",
   "execution_count": 2,
   "id": "90e65cb7",
   "metadata": {},
   "outputs": [
    {
     "name": "stdout",
     "output_type": "stream",
     "text": [
      "Enter a string: 23sfgd12\n",
      "sum= 8\n"
     ]
    }
   ],
   "source": [
    "string = input('Enter a string: ')\n",
    "sum=0\n",
    "for i in string:\n",
    "    \n",
    "#if character is a digit\n",
    "    if i.isdigit():\n",
    "#taking sum of integral digits present in the string \n",
    "        sum=sum+int(i)\n",
    "print(\"sum=\",sum)"
   ]
  },
  {
   "cell_type": "markdown",
   "id": "de561925",
   "metadata": {},
   "source": [
    "#### Q23).Python program to find all non repeating characters in the string."
   ]
  },
  {
   "cell_type": "code",
   "execution_count": 11,
   "id": "e26b0a86",
   "metadata": {},
   "outputs": [
    {
     "name": "stdout",
     "output_type": "stream",
     "text": [
      "Enter the char :aaabbbccdhhg\n",
      "Non repeated word : dg\n"
     ]
    }
   ],
   "source": [
    "char = input(\"Enter the char :\")\n",
    "str_with_rep = {}\n",
    "lst = []\n",
    "for i in char:\n",
    "    \n",
    "    if i in str_with_rep:\n",
    "        \n",
    "        str_with_rep[i] +=1\n",
    "        \n",
    "    else:\n",
    "        str_with_rep[i] = 1\n",
    "    \n",
    "    \n",
    "for i in str_with_rep:\n",
    "    \n",
    "   \n",
    "    if str_with_rep[i] == 1:\n",
    "        lst.append(i)\n",
    "        \n",
    "    else:\n",
    "        pass\n",
    "\n",
    "print(\"Non repeated word :\", \"\".join(lst))"
   ]
  },
  {
   "cell_type": "code",
   "execution_count": 22,
   "id": "defa2d25",
   "metadata": {},
   "outputs": [
    {
     "name": "stdout",
     "output_type": "stream",
     "text": [
      "Enter the string: hhhhh\n",
      "None\n"
     ]
    }
   ],
   "source": [
    "def nonRepeatingChar(str1):\n",
    "    \n",
    "    char_ord = []\n",
    "    counts = {}\n",
    "    for char in str1:\n",
    "        if char in counts:\n",
    "            counts[char] +=1\n",
    "        else:\n",
    "            counts[char] = 1\n",
    "            char_ord.append(char)\n",
    "    for char in char_ord:\n",
    "        if counts[char] == 1:\n",
    "            return char\n",
    "    return None\n",
    "str1 = input(\"Enter the string: \")\n",
    "print(nonRepeatingChar(str1))"
   ]
  },
  {
   "cell_type": "code",
   "execution_count": 14,
   "id": "796ed813",
   "metadata": {},
   "outputs": [
    {
     "name": "stdout",
     "output_type": "stream",
     "text": [
      "Counter({'l': 3, 'o': 2, 'H': 1, 'e': 1, ' ': 1, 'w': 1, 'r': 1, 'd': 1})\n"
     ]
    }
   ],
   "source": [
    "from collections import Counter\n",
    "print(Counter(\"Hello wolrd\"))"
   ]
  },
  {
   "cell_type": "code",
   "execution_count": 19,
   "id": "3511b790",
   "metadata": {},
   "outputs": [
    {
     "name": "stdout",
     "output_type": "stream",
     "text": [
      "Please enter the string : hhhh\n",
      "Non repeating word:  \n"
     ]
    }
   ],
   "source": [
    "str1 = input(\"Please enter the string : \")\n",
    "from collections import Counter\n",
    "res = Counter(str1)\n",
    "list1 = []\n",
    "for i in res:\n",
    "    if res[i] == 1:\n",
    "        list1.append(i)\n",
    "    else:\n",
    "        pass\n",
    "print(\"Non repeating word: \", \"\".join(list1))"
   ]
  },
  {
   "cell_type": "code",
   "execution_count": 18,
   "id": "fd640416",
   "metadata": {},
   "outputs": [
    {
     "name": "stdout",
     "output_type": "stream",
     "text": [
      "M\n",
      "u\n",
      "None\n"
     ]
    }
   ],
   "source": [
    "def firstNonRepeatingChar(str1):\n",
    "    char_order = []\n",
    "    counts = {}\n",
    "    for c in str1:\n",
    "        if c in counts:\n",
    "            counts[c] += 1\n",
    "        else:\n",
    "            counts[c] = 1\n",
    "            char_order.append(c)\n",
    "    for c in char_order:\n",
    "        if counts[c] == 1:\n",
    "            return c\n",
    "    return None\n",
    "\n",
    "print(firstNonRepeatingChar('PythonforallPythonMustforall'))\n",
    "print(firstNonRepeatingChar('tutorialspointfordeveloper'))\n",
    "print(firstNonRepeatingChar('AABBCC'))"
   ]
  },
  {
   "cell_type": "markdown",
   "id": "0f5f6fec",
   "metadata": {},
   "source": [
    "#### Q23). Python Program to sort characters of string in ascending order."
   ]
  },
  {
   "cell_type": "code",
   "execution_count": 28,
   "id": "5c7e58f9",
   "metadata": {},
   "outputs": [
    {
     "name": "stdout",
     "output_type": "stream",
     "text": [
      "Enter the string : hello\n",
      "ehllo\n"
     ]
    }
   ],
   "source": [
    "str1 = input(\"Enter the string : \")\n",
    "\n",
    "def str_sort_asc(str1):\n",
    "    string = list(str1)\n",
    "           \n",
    "    return \"\".join(sorted(string))\n",
    "print(str_sort_asc(str1))"
   ]
  },
  {
   "cell_type": "markdown",
   "id": "959ad025",
   "metadata": {},
   "source": [
    "#### Q24). Python Program to sort character of string in descending order."
   ]
  },
  {
   "cell_type": "code",
   "execution_count": 26,
   "id": "3b0fdaab",
   "metadata": {},
   "outputs": [
    {
     "name": "stdout",
     "output_type": "stream",
     "text": [
      "Enter the string : hello\n",
      "ollhe\n"
     ]
    }
   ],
   "source": [
    "str1 = input(\"Enter the string : \")\n",
    "\n",
    "def str_sort_desc(str1):\n",
    "    string = list(str1)\n",
    "           \n",
    "    return \"\".join(sorted(string,reverse= True))\n",
    "print(str_sort_desc(str1))"
   ]
  },
  {
   "cell_type": "markdown",
   "id": "305fde2c",
   "metadata": {},
   "source": [
    "#### How remove Duplicates from a list"
   ]
  },
  {
   "cell_type": "code",
   "execution_count": 1,
   "id": "6886d1d7",
   "metadata": {},
   "outputs": [
    {
     "name": "stdout",
     "output_type": "stream",
     "text": [
      "['a', 'b', 'c']\n"
     ]
    }
   ],
   "source": [
    "def my_function(x):\n",
    "    \n",
    "    return list(dict.fromkeys(x))\n",
    "\n",
    "mylist = my_function([\"a\", \"b\", \"a\", \"c\", \"c\"])\n",
    "\n",
    "print(mylist)"
   ]
  },
  {
   "cell_type": "code",
   "execution_count": 2,
   "id": "04128cf1",
   "metadata": {},
   "outputs": [
    {
     "name": "stdout",
     "output_type": "stream",
     "text": [
      "Enter the string: Hellooo\n",
      "List of items: ['H', 'e', 'l', 'o']\n"
     ]
    }
   ],
   "source": [
    "# function to remove duplicate from a string\n",
    "\n",
    "def my_function(x):\n",
    "    mylist = []\n",
    "    for i in x:\n",
    "        mylist.append(i)\n",
    "        \n",
    "    \n",
    "    return list(dict.fromkeys(mylist))\n",
    "\n",
    "x = input(\"Enter the string: \")\n",
    "print(\"List of items:\",my_function(x))\n"
   ]
  },
  {
   "cell_type": "code",
   "execution_count": 3,
   "id": "eb693339",
   "metadata": {},
   "outputs": [
    {
     "name": "stdout",
     "output_type": "stream",
     "text": [
      "Enter the string: Hellojojojojoj\n",
      "List of items: Heloj\n"
     ]
    }
   ],
   "source": [
    "# function to remove duplicate from a string\n",
    "\n",
    "def my_function(x):\n",
    "    mylist = []\n",
    "    for i in x:\n",
    "        mylist.append(i)\n",
    "        \n",
    "    new_list = list(dict.fromkeys(mylist))\n",
    "    return \"\".join(new_list)\n",
    "\n",
    "x = input(\"Enter the string: \")\n",
    "print(\"List of items:\",my_function(x))\n"
   ]
  },
  {
   "cell_type": "code",
   "execution_count": 4,
   "id": "9ec4b4bf",
   "metadata": {},
   "outputs": [
    {
     "name": "stdout",
     "output_type": "stream",
     "text": [
      "Enter the sentances: hello hello Hello\n",
      "List of items:  ['hello']\n"
     ]
    }
   ],
   "source": [
    "# by Hoandling the case sensitive\n",
    "\n",
    "def remove_dup(x):\n",
    "    \n",
    "    mylist = []\n",
    "    for i in x.split():\n",
    "        mylist.append(i.lower())\n",
    "        \n",
    "    return list(dict.fromkeys(mylist))\n",
    "\n",
    "x = input(\"Enter the sentances: \")\n",
    "print(\"List of items: \", remove_dup(x))"
   ]
  },
  {
   "cell_type": "code",
   "execution_count": null,
   "id": "ec32296e",
   "metadata": {},
   "outputs": [],
   "source": []
  }
 ],
 "metadata": {
  "kernelspec": {
   "display_name": "Python 3 (ipykernel)",
   "language": "python",
   "name": "python3"
  },
  "language_info": {
   "codemirror_mode": {
    "name": "ipython",
    "version": 3
   },
   "file_extension": ".py",
   "mimetype": "text/x-python",
   "name": "python",
   "nbconvert_exporter": "python",
   "pygments_lexer": "ipython3",
   "version": "3.7.8"
  }
 },
 "nbformat": 4,
 "nbformat_minor": 5
}

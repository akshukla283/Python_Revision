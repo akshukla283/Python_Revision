{
 "cells": [
  {
   "cell_type": "markdown",
   "id": "d3432253",
   "metadata": {},
   "source": [
    "### Python Classes and Objects\n",
    "\n",
    "A class is a user-defined blueprint or prototype from which objects are created. Classes provide a means of bundling data and functionality together. Creating a new class creates a new type of object, allowing new instances of that type to be made. Each class instance can have attributes attached to it for maintaining its state. Class instances can also have methods (defined by their class) for modifying their state.\n",
    "\n",
    "\n",
    "To understand the need for creating a class let’s consider an example, let’s say you wanted to track the number of dogs that may have different attributes like breed, age. If a list is used, the first element could be the dog’s breed while the second element could represent its age. Let’s suppose there are 100 different dogs, then how would you know which element is supposed to be which? What if you wanted to add other properties to these dogs? This lacks organization and it’s the exact need for classes. \n",
    "\n",
    "\n",
    "Class creates a user-defined data structure, which holds its own data members and member functions, which can be accessed and used by creating an instance of that class. A class is like a blueprint for an object.\n",
    "\n",
    "**Some points on Python class:**  \n",
    "\n",
    "* Classes are created by keyword class.\n",
    "\n",
    "* Attributes are the variables that belong to a class.\n",
    "\n",
    "* Attributes are always public and can be accessed using the dot (.) operator. Eg.: Myclass.Myattribute\n",
    "\n",
    "* Class Definition Syntax:\n",
    "\n",
    "`class ClassName:\n",
    "\n",
    "    # Statement-1\n",
    "    \n",
    "    .\n",
    "    \n",
    "    .\n",
    "    \n",
    "    .\n",
    "    \n",
    "    # Statement-N"
   ]
  },
  {
   "cell_type": "code",
   "execution_count": 1,
   "id": "1e862888",
   "metadata": {},
   "outputs": [],
   "source": [
    "# Python3 program to\n",
    "# demonstrate defining\n",
    "# a class\n",
    " \n",
    "class Dog:\n",
    "    pass"
   ]
  },
  {
   "cell_type": "markdown",
   "id": "ea271a28",
   "metadata": {},
   "source": [
    "### Class Objects\n",
    "\n",
    "An Object is an instance of a Class. A class is like a blueprint while an instance is a copy of the class with actual values. It’s not an idea anymore, it’s an actual dog, like a dog of breed pug who’s seven years old. You can have many dogs to create many different instances, but without the class as a guide, you would be lost, not knowing what information is required.\n",
    "An object consists of : \n",
    "\n",
    "**State:** \n",
    "It is represented by the attributes of an object. It also reflects the properties of an object.\n",
    "\n",
    "\n",
    "**Behavior:** \n",
    "It is represented by the methods of an object. It also reflects the response of an object to other objects.\n",
    "\n",
    "\n",
    "**Identity:**\n",
    "It gives a unique name to an object and enables one object to interact with other objects.\n",
    "\n",
    "![](object.png)"
   ]
  },
  {
   "cell_type": "markdown",
   "id": "eab422e0",
   "metadata": {},
   "source": [
    "**Declaring Objects (Also called instantiating a class)**\n",
    "\n",
    "When an object of a class is created, the class is said to be instantiated. All the instances share the attributes and the behavior of the class. But the values of those attributes, i.e. the state are unique for each object. A single class may have any number of instances.\n",
    "\n",
    "![](dog.png)"
   ]
  },
  {
   "cell_type": "code",
   "execution_count": 2,
   "id": "352c72b7",
   "metadata": {},
   "outputs": [
    {
     "name": "stdout",
     "output_type": "stream",
     "text": [
      "mammal\n",
      "I'm a mammal\n",
      "I'm a dog\n"
     ]
    }
   ],
   "source": [
    "# Python3 program to\n",
    "# demonstrate instantiating\n",
    "# a class\n",
    "\n",
    "class Dog:\n",
    "     \n",
    "    # A simple class\n",
    "    # attribute\n",
    "    attr1 = \"mammal\"\n",
    "    attr2 = \"dog\"\n",
    " \n",
    "    # A sample method \n",
    "    def fun(self):\n",
    "        print(\"I'm a\", self.attr1)\n",
    "        print(\"I'm a\", self.attr2)\n",
    "\n",
    "        \n",
    "\n",
    "# Driver code\n",
    "# Object instantiation\n",
    "Rodger = Dog()\n",
    " \n",
    "# Accessing class attributes\n",
    "# and method through objects\n",
    "print(Rodger.attr1)\n",
    "Rodger.fun()"
   ]
  },
  {
   "cell_type": "markdown",
   "id": "c95c8921",
   "metadata": {},
   "source": [
    "### The self\n",
    "\n",
    "Class methods must have an extra first parameter in the method definition. We do not give a value for this parameter when we call the method, Python provides it.\n",
    "\n",
    "If we have a method that takes no arguments, then we still have to have one argument.\n",
    "This is similar to this pointer in C++ and this reference in Java.\n",
    "\n",
    "When we call a method of this object as myobject.method(arg1, arg2), this is automatically converted by Python into MyClass.method(myobject, arg1, arg2) – this is all the special self is about."
   ]
  },
  {
   "cell_type": "markdown",
   "id": "6e46914b",
   "metadata": {},
   "source": [
    "###  __init__ method\n",
    "\n",
    "The `__init__ method` is similar to constructors in C++ and Java. Constructors are used to initializing the object’s state. Like methods, a constructor also contains a collection of statements(i.e. instructions) that are executed at the time of Object creation. It runs as soon as an object of a class is instantiated. The method is useful to do any initialization you want to do with your object."
   ]
  },
  {
   "cell_type": "code",
   "execution_count": 3,
   "id": "5cea9a8a",
   "metadata": {},
   "outputs": [
    {
     "name": "stdout",
     "output_type": "stream",
     "text": [
      "Hello, my name is Ankit\n"
     ]
    }
   ],
   "source": [
    "# A Sample class with init method\n",
    "class Person:\n",
    "   \n",
    "    # init method or constructor \n",
    "    def __init__(self, name):\n",
    "        self.name = name\n",
    "   \n",
    "    # Sample Method \n",
    "    def say_hi(self):\n",
    "        print('Hello, my name is', self.name)\n",
    "        \n",
    "p = Person('Ankit')\n",
    "p.say_hi()"
   ]
  },
  {
   "cell_type": "markdown",
   "id": "82af9dc6",
   "metadata": {},
   "source": [
    "###  Class and Instance Variables\n",
    "\n",
    "\n",
    "Instance variables are for data, unique to each instance and class variables are for attributes and methods shared by all instances of the class. Instance variables are variables whose value is assigned inside a constructor or method with self whereas class variables are variables whose value is assigned in the class.\n",
    "\n",
    "Defining instance variable using a constructor. "
   ]
  },
  {
   "cell_type": "code",
   "execution_count": 4,
   "id": "91cc1b5d",
   "metadata": {},
   "outputs": [
    {
     "name": "stdout",
     "output_type": "stream",
     "text": [
      "Rodger details:\n",
      "Rodger is a dog\n",
      "Breed:  Pug\n",
      "Color:  brown\n",
      "\n",
      "Buzo details:\n",
      "Buzo is a dog\n",
      "Breed:  Bulldog\n",
      "Color:  black\n",
      "\n",
      "Accessing class variable using class name\n",
      "dog\n"
     ]
    }
   ],
   "source": [
    "# Python3 program to show that the variables with a value \n",
    "# assigned in the class declaration, are class variables and\n",
    "# variables inside methods and constructors are instance\n",
    "# variables.\n",
    "    \n",
    "# Class for Dog\n",
    "class Dog:\n",
    "   \n",
    "    # Class Variable\n",
    "    animal = 'dog'            \n",
    "   \n",
    "    # The init method or constructor\n",
    "    def __init__(self, breed, color):\n",
    "     \n",
    "        # Instance Variable    \n",
    "        self.breed = breed\n",
    "        self.color = color       \n",
    "    \n",
    "# Objects of Dog class\n",
    "Rodger = Dog(\"Pug\", \"brown\")\n",
    "Buzo = Dog(\"Bulldog\", \"black\")\n",
    " \n",
    "print('Rodger details:')  \n",
    "print('Rodger is a', Rodger.animal)\n",
    "print('Breed: ', Rodger.breed)\n",
    "print('Color: ', Rodger.color)\n",
    " \n",
    "print('\\nBuzo details:')  \n",
    "print('Buzo is a', Buzo.animal)\n",
    "print('Breed: ', Buzo.breed)\n",
    "print('Color: ', Buzo.color)\n",
    " \n",
    "# Class variables can be accessed using class\n",
    "# name also\n",
    "print(\"\\nAccessing class variable using class name\")\n",
    "print(Dog.animal)       "
   ]
  },
  {
   "cell_type": "code",
   "execution_count": 5,
   "id": "98d9b951",
   "metadata": {},
   "outputs": [
    {
     "name": "stdout",
     "output_type": "stream",
     "text": [
      "brown\n"
     ]
    }
   ],
   "source": [
    "# Python3 program to show that we can create \n",
    "# instance variables inside methods\n",
    "    \n",
    "# Class for Dog\n",
    "class Dog:\n",
    "       \n",
    "    # Class Variable\n",
    "    animal = 'dog'     \n",
    "       \n",
    "    # The init method or constructor\n",
    "    def __init__(self, breed):\n",
    "           \n",
    "        # Instance Variable\n",
    "        self.breed = breed            \n",
    "   \n",
    "    # Adds an instance variable \n",
    "    def setColor(self, color):\n",
    "        self.color = color\n",
    "       \n",
    "    # Retrieves instance variable    \n",
    "    def getColor(self):    \n",
    "        return self.color   \n",
    "\n",
    "    \n",
    "# Driver Code\n",
    "Rodger = Dog(\"pug\")\n",
    "Rodger.setColor(\"brown\")\n",
    "print(Rodger.getColor())"
   ]
  },
  {
   "cell_type": "markdown",
   "id": "63ad70b5",
   "metadata": {},
   "source": [
    "### Constructors in Python\n",
    "\n",
    "Constructors are generally used for instantiating an object. The task of constructors is to initialize(assign values) to the data members of the class when an object of the class is created. In Python the `__init__()` method is called the constructor and is always called when an object is created.\n",
    "\n",
    "**Syntax of constructor declaration:** \n",
    "\n",
    "def` __init__(self)`:\n",
    "\n",
    "    # body of the constructor\n",
    "    \n",
    "    \n",
    "    \n",
    "**Types of constructors:** \n",
    "\n",
    "\n",
    "**default constructor:**\n",
    "\n",
    "The default constructor is a simple constructor which doesn’t accept any arguments. Its definition has only one argument which is a reference to the instance being constructed.\n",
    "\n",
    "**parameterized constructor:** \n",
    "\n",
    "constructor with parameters is known as parameterized constructor. The parameterized constructor takes its first argument as a reference to the instance being constructed known as self and the rest of the arguments are provided by the programmer.\n",
    "\n",
    "**Example of default constructor:**"
   ]
  },
  {
   "cell_type": "code",
   "execution_count": 6,
   "id": "974c911e",
   "metadata": {},
   "outputs": [
    {
     "name": "stdout",
     "output_type": "stream",
     "text": [
      "GeekforGeeks\n"
     ]
    }
   ],
   "source": [
    "class GeekforGeeks:\n",
    " \n",
    "    # default constructor\n",
    "    def __init__(self):\n",
    "        self.geek = \"GeekforGeeks\"\n",
    " \n",
    "    # a method for printing data members\n",
    "    def print_Geek(self):\n",
    "        print(self.geek)\n",
    " \n",
    " \n",
    "# creating object of the class\n",
    "obj = GeekforGeeks()\n",
    " \n",
    "# calling the instance method using the object obj\n",
    "obj.print_Geek()"
   ]
  },
  {
   "cell_type": "code",
   "execution_count": 25,
   "id": "aace1301",
   "metadata": {},
   "outputs": [
    {
     "name": "stdout",
     "output_type": "stream",
     "text": [
      "Name is : Ankit \n",
      "Age is : 29\n"
     ]
    }
   ],
   "source": [
    "class GeekforGeeks:\n",
    " \n",
    "    # default constructor\n",
    "    def __init__(self, name, Age, ID):\n",
    "        self.name = name\n",
    "        self.age = Age\n",
    "        self.id = ID\n",
    "    def __str__(self):\n",
    "        return (f\"Name is : {self.name} \\nAge is : {self.age}\")\n",
    "        \n",
    "    def __repr__(self):\n",
    "        return(f\"Name is : {self.name} \\nAge is : {self.age}\\nID is : {self.id}\")\n",
    " \n",
    " \n",
    "# creating object of the class\n",
    "obj = GeekforGeeks(\"Ankit\", 29, 180018)\n",
    "print(obj)\n",
    "\n",
    "# imp note - if str and repr both are present then only str will be printed automatically\n",
    "# not repr , if str is not there then repr will be printed "
   ]
  },
  {
   "cell_type": "code",
   "execution_count": 26,
   "id": "d1e1bbb7",
   "metadata": {},
   "outputs": [
    {
     "name": "stdout",
     "output_type": "stream",
     "text": [
      "Name is : Ankit \n",
      "Age is : 29\n",
      "ID is : 180018\n"
     ]
    }
   ],
   "source": [
    "class GeekforGeeks:\n",
    " \n",
    "    # default constructor\n",
    "    def __init__(self, name, Age, ID):\n",
    "        self.name = name\n",
    "        self.age = Age\n",
    "        self.id = ID\n",
    "#     def __str__(self):\n",
    "#         return (f\"Name is : {self.name} \\nAge is : {self.age}\")\n",
    "        \n",
    "    def __repr__(self):\n",
    "        return(f\"Name is : {self.name} \\nAge is : {self.age}\\nID is : {self.id}\")\n",
    " \n",
    " \n",
    "# creating object of the class\n",
    "obj = GeekforGeeks(\"Ankit\", 29, 180018)\n",
    "print(obj)"
   ]
  },
  {
   "cell_type": "markdown",
   "id": "d0eecb8f",
   "metadata": {},
   "source": [
    "#### Example of the parameterized constructor : \n",
    "\n"
   ]
  },
  {
   "cell_type": "code",
   "execution_count": 7,
   "id": "b84e72e6",
   "metadata": {},
   "outputs": [
    {
     "name": "stdout",
     "output_type": "stream",
     "text": [
      "First number = 1000\n",
      "Second number = 2000\n",
      "Addition of two numbers = 3000\n"
     ]
    }
   ],
   "source": [
    "class Addition:\n",
    "    first = 0\n",
    "    second = 0\n",
    "    answer = 0\n",
    "     \n",
    "    # parameterized constructor\n",
    "    def __init__(self, f, s):\n",
    "        self.first = f\n",
    "        self.second = s\n",
    "     \n",
    "    def display(self):\n",
    "        print(\"First number = \" + str(self.first))\n",
    "        print(\"Second number = \" + str(self.second))\n",
    "        print(\"Addition of two numbers = \" + str(self.answer))\n",
    " \n",
    "    def calculate(self):\n",
    "        self.answer = self.first + self.second\n",
    "\n",
    "# creating object of the class\n",
    "# this will invoke parameterized constructor\n",
    "obj = Addition(1000, 2000)\n",
    " \n",
    "# perform Addition\n",
    "obj.calculate()\n",
    " \n",
    "# display result\n",
    "obj.display()"
   ]
  },
  {
   "cell_type": "markdown",
   "id": "3b1b16e9",
   "metadata": {},
   "source": [
    "### Destructors in Python\n",
    "\n",
    "Destructors are called when an object gets destroyed. In Python, destructors are not needed as much needed in C++ because Python has a garbage collector that handles memory management automatically.\n",
    "\n",
    "The` __del__()` method is a known as a destructor method in Python. It is called when all references to the object have been deleted i.e when an object is garbage collected.\n",
    "Syntax of destructor declaration :\n",
    "\n",
    "def `__del__(self)`:\n",
    "\n",
    "  ##### body of destructor\n",
    "\n",
    "**Note:** \n",
    "\n",
    "A reference to objects is also deleted when the object goes out of reference or when the program ends.\n",
    "\n",
    "**Example1:**\n",
    "\n",
    "Here is the simple example of destructor. By using del keyword we deleted the all references of object ‘obj’, therefore destructor invoked automatically."
   ]
  },
  {
   "cell_type": "code",
   "execution_count": 8,
   "id": "e9c5deb4",
   "metadata": {},
   "outputs": [
    {
     "name": "stdout",
     "output_type": "stream",
     "text": [
      "Employee created.\n",
      "Destructor called, Employee deleted.\n"
     ]
    }
   ],
   "source": [
    "# Python program to illustrate destructor\n",
    "class Employee:\n",
    "  \n",
    "    # Initializing\n",
    "    def __init__(self):\n",
    "        print('Employee created.')\n",
    "  \n",
    "    # Deleting (Calling destructor)\n",
    "    def __del__(self):\n",
    "        print('Destructor called, Employee deleted.')\n",
    "\n",
    "obj = Employee()\n",
    "del obj"
   ]
  },
  {
   "cell_type": "code",
   "execution_count": 9,
   "id": "997b1276",
   "metadata": {},
   "outputs": [
    {
     "ename": "NameError",
     "evalue": "name 'obj' is not defined",
     "output_type": "error",
     "traceback": [
      "\u001b[1;31m---------------------------------------------------------------------------\u001b[0m",
      "\u001b[1;31mNameError\u001b[0m                                 Traceback (most recent call last)",
      "\u001b[1;32m~\\AppData\\Local\\Temp/ipykernel_14784/219639173.py\u001b[0m in \u001b[0;36m<module>\u001b[1;34m\u001b[0m\n\u001b[1;32m----> 1\u001b[1;33m \u001b[0mobj\u001b[0m\u001b[1;33m\u001b[0m\u001b[1;33m\u001b[0m\u001b[0m\n\u001b[0m",
      "\u001b[1;31mNameError\u001b[0m: name 'obj' is not defined"
     ]
    }
   ],
   "source": [
    "obj"
   ]
  },
  {
   "cell_type": "code",
   "execution_count": 1,
   "id": "e6a829ef",
   "metadata": {},
   "outputs": [
    {
     "name": "stdout",
     "output_type": "stream",
     "text": [
      "Employee created.\n",
      "Destructor called, Employee deleted.\n"
     ]
    }
   ],
   "source": [
    "# Python program to illustrate destructor\n",
    "class Employee:\n",
    "  \n",
    "    # Initializing\n",
    "    def __init__(self):\n",
    "        print('Employee created.')\n",
    "  \n",
    "    # Deleting (Calling destructor)\n",
    "    def __del__(self):\n",
    "        print('Destructor called, Employee deleted.')\n",
    "\n",
    "obj = Employee()\n",
    "del obj"
   ]
  },
  {
   "cell_type": "code",
   "execution_count": 2,
   "id": "ca32b9d9",
   "metadata": {},
   "outputs": [
    {
     "ename": "NameError",
     "evalue": "name 'obj' is not defined",
     "output_type": "error",
     "traceback": [
      "\u001b[1;31m---------------------------------------------------------------------------\u001b[0m",
      "\u001b[1;31mNameError\u001b[0m                                 Traceback (most recent call last)",
      "\u001b[1;32m~\\AppData\\Local\\Temp/ipykernel_13876/219639173.py\u001b[0m in \u001b[0;36m<module>\u001b[1;34m\u001b[0m\n\u001b[1;32m----> 1\u001b[1;33m \u001b[0mobj\u001b[0m\u001b[1;33m\u001b[0m\u001b[1;33m\u001b[0m\u001b[0m\n\u001b[0m",
      "\u001b[1;31mNameError\u001b[0m: name 'obj' is not defined"
     ]
    }
   ],
   "source": [
    "obj"
   ]
  },
  {
   "cell_type": "markdown",
   "id": "6b597295",
   "metadata": {},
   "source": [
    "**Note:** \n",
    "\n",
    "The destructor was called after the program ended or when all the references to object are deleted i.e when the reference count becomes zero, not when object went out of scope.\n",
    "\n",
    "**Example2:**\n",
    "\n",
    "This example gives the explanation of above mentioned note. Here, notice that the destructor is called after the ‘Program End…’ printed."
   ]
  },
  {
   "cell_type": "code",
   "execution_count": 12,
   "id": "cf118409",
   "metadata": {},
   "outputs": [
    {
     "name": "stdout",
     "output_type": "stream",
     "text": [
      "Calling Create_obj() function...\n",
      "Making Object...\n",
      "Employee created\n",
      "function end...\n",
      "Program End...\n"
     ]
    }
   ],
   "source": [
    "# Python program to illustrate destructor\n",
    "  \n",
    "class Employee:\n",
    "  \n",
    "    # Initializing \n",
    "    def __init__(self):\n",
    "        print('Employee created')\n",
    "  \n",
    "    # Calling destructor\n",
    "    def __del__(self):\n",
    "        print(\"Destructor called\")\n",
    "\n",
    "def Create_obj():\n",
    "    print('Making Object...')\n",
    "    obj = Employee()\n",
    "    print('function end...')\n",
    "    return obj\n",
    "  \n",
    "print('Calling Create_obj() function...')\n",
    "obj = Create_obj()\n",
    "print('Program End...')"
   ]
  },
  {
   "cell_type": "code",
   "execution_count": 13,
   "id": "8726f77f",
   "metadata": {},
   "outputs": [
    {
     "data": {
      "text/plain": [
       "__main__.Employee"
      ]
     },
     "execution_count": 13,
     "metadata": {},
     "output_type": "execute_result"
    }
   ],
   "source": [
    "obj.__class__"
   ]
  },
  {
   "cell_type": "code",
   "execution_count": 14,
   "id": "2c08ec44",
   "metadata": {},
   "outputs": [
    {
     "data": {
      "text/plain": [
       "'__main__'"
      ]
     },
     "execution_count": 14,
     "metadata": {},
     "output_type": "execute_result"
    }
   ],
   "source": [
    "obj.__module__"
   ]
  },
  {
   "cell_type": "code",
   "execution_count": 15,
   "id": "3dde6c0d",
   "metadata": {},
   "outputs": [
    {
     "data": {
      "text/plain": [
       "<function Employee.__format__(format_spec, /)>"
      ]
     },
     "execution_count": 15,
     "metadata": {},
     "output_type": "execute_result"
    }
   ],
   "source": [
    "obj.__format__"
   ]
  },
  {
   "cell_type": "code",
   "execution_count": 17,
   "id": "d678acfc",
   "metadata": {},
   "outputs": [],
   "source": [
    "# Python program to illustrate destructor\n",
    "  \n",
    "class A:\n",
    "    def __init__(self, bb):\n",
    "        self.b = bb\n",
    "\n",
    "class B:\n",
    "    def __init__(self):\n",
    "        self.a = A(self)\n",
    "        \n",
    "    def __del__(self):\n",
    "        \n",
    "        print(\"die\")\n",
    "\n",
    "def fun():\n",
    "    b = B()\n",
    "\n",
    "fun()"
   ]
  },
  {
   "cell_type": "markdown",
   "id": "ecf527b9",
   "metadata": {},
   "source": [
    "In this example when the function fun() is called, it creates an instance of class B which passes itself to class A, which then sets a reference to class B and resulting in a circular reference.\n",
    "\n",
    "Generally, Python’s garbage collector which is used to detect these types of cyclic references would remove it but in this example the use of custom destructor marks this item as “uncollectable”.\n",
    "Simply, it doesn’t know the order in which to destroy the objects, so it leaves them. Therefore, `if your instances are involved in circular references they will live in memory for as long as the application run.`"
   ]
  },
  {
   "cell_type": "markdown",
   "id": "bc984161",
   "metadata": {},
   "source": [
    "###  Inheritance In Python\n",
    "\n",
    "`Inheritance is the capability of one class to derive or inherit the properties from another class.` \n",
    "\n",
    "`The benefits of inheritance are:`\n",
    " \n",
    "It represents real-world relationships well.\n",
    "\n",
    "It provides reusability of a code. We don’t have to write the same code again and again. Also, it allows us to add more features to a class without modifying it.\n",
    "\n",
    "It is transitive in nature, which means that if class B inherits from another class A, then all the subclasses of B would automatically inherit from class A.\n",
    "\n",
    "\n",
    "Below is a simple example of inheritance in Python "
   ]
  },
  {
   "cell_type": "code",
   "execution_count": 18,
   "id": "48cb1a5d",
   "metadata": {},
   "outputs": [
    {
     "name": "stdout",
     "output_type": "stream",
     "text": [
      "Geek1 False\n",
      "Geek2 True\n"
     ]
    }
   ],
   "source": [
    "# A Python program to demonstrate inheritance \n",
    "   \n",
    "# Base or Super class. Note object in bracket.\n",
    "# (Generally, object is made ancestor of all classes)\n",
    "# In Python 3.x \"class Person\" is \n",
    "# equivalent to \"class Person(object)\"\n",
    "\n",
    "class Person(object):\n",
    "       \n",
    "    # Constructor\n",
    "    def __init__(self, name):\n",
    "        self.name = name\n",
    "   \n",
    "    # To get name\n",
    "    def getName(self):\n",
    "        return self.name\n",
    "   \n",
    "    # To check if this person is an employee\n",
    "    def isEmployee(self):\n",
    "        return False\n",
    "   \n",
    "   \n",
    "# Inherited or Subclass (Note Person in bracket)\n",
    "class Employee(Person):\n",
    "   \n",
    "    # Here we return true\n",
    "    def isEmployee(self):\n",
    "        return True\n",
    "\n",
    "    \n",
    "# Driver code\n",
    "emp = Person(\"Geek1\")  # An Object of Person\n",
    "print(emp.getName(), emp.isEmployee())\n",
    "   \n",
    "emp = Employee(\"Geek2\") # An Object of Employee\n",
    "print(emp.getName(), emp.isEmployee())"
   ]
  },
  {
   "cell_type": "code",
   "execution_count": 19,
   "id": "b24d87ec",
   "metadata": {},
   "outputs": [
    {
     "name": "stdout",
     "output_type": "stream",
     "text": [
      "Name: Ankit\n",
      "Id is : 886012\n"
     ]
    }
   ],
   "source": [
    "# Python code to demonstrate how parent constructors\n",
    "# are called.\n",
    "  \n",
    "# parent class\n",
    "class Person( object ):    \n",
    "  \n",
    "        # __init__ is known as the constructor         \n",
    "        def __init__(self, name, idnumber):   \n",
    "                self.name = name\n",
    "                self.idnumber = idnumber\n",
    "        def display(self):\n",
    "                print(f\"Name: {self.name}\")\n",
    "                print(f\"Id is : {self.idnumber}\")\n",
    "                \n",
    "# child class\n",
    "class Employee( Person ):           \n",
    "        def __init__(self, name, idnumber, salary, post):\n",
    "                self.salary = salary\n",
    "                self.post = post\n",
    "  \n",
    "                # invoking the __init__ of the parent class \n",
    "                Person.__init__(self, name, idnumber) \n",
    "  \n",
    "                  \n",
    "# creation of an object variable or an instance\n",
    "a = Employee('Ankit', 886012, 200000, \"Intern\")    \n",
    "  \n",
    "# calling a function of the class Person using its instance\n",
    "a.display() "
   ]
  },
  {
   "cell_type": "code",
   "execution_count": 40,
   "id": "ad07ab66",
   "metadata": {},
   "outputs": [
    {
     "ename": "AttributeError",
     "evalue": "'B' object has no attribute 'name'",
     "output_type": "error",
     "traceback": [
      "\u001b[1;31m---------------------------------------------------------------------------\u001b[0m",
      "\u001b[1;31mAttributeError\u001b[0m                            Traceback (most recent call last)",
      "\u001b[1;32m~\\AppData\\Local\\Temp/ipykernel_15760/1728967353.py\u001b[0m in \u001b[0;36m<module>\u001b[1;34m\u001b[0m\n\u001b[0;32m     10\u001b[0m \u001b[1;33m\u001b[0m\u001b[0m\n\u001b[0;32m     11\u001b[0m \u001b[0mobject\u001b[0m \u001b[1;33m=\u001b[0m \u001b[0mB\u001b[0m\u001b[1;33m(\u001b[0m\u001b[1;36m23\u001b[0m\u001b[1;33m)\u001b[0m\u001b[1;33m\u001b[0m\u001b[1;33m\u001b[0m\u001b[0m\n\u001b[1;32m---> 12\u001b[1;33m \u001b[0mprint\u001b[0m \u001b[1;33m(\u001b[0m\u001b[0mobject\u001b[0m\u001b[1;33m.\u001b[0m\u001b[0mname\u001b[0m\u001b[1;33m)\u001b[0m\u001b[1;33m\u001b[0m\u001b[1;33m\u001b[0m\u001b[0m\n\u001b[0m",
      "\u001b[1;31mAttributeError\u001b[0m: 'B' object has no attribute 'name'"
     ]
    }
   ],
   "source": [
    "# Python program to demonstrate error if we\n",
    "# forget to invoke __init__() of the parent.\n",
    "  \n",
    "class A:\n",
    "      def __init__(self, n = 'Ankit'):\n",
    "              self.name = n\n",
    "class B(A):\n",
    "      def __init__(self, roll):\n",
    "              self.roll = roll\n",
    "\n",
    "object = B(23)\n",
    "print (object.name)"
   ]
  },
  {
   "cell_type": "code",
   "execution_count": 41,
   "id": "ca2e705d",
   "metadata": {},
   "outputs": [
    {
     "name": "stdout",
     "output_type": "stream",
     "text": [
      "Ankit\n"
     ]
    }
   ],
   "source": [
    "class A:\n",
    "      def __init__(self, n = 'Ankit'):\n",
    "              self.name = n\n",
    "class B(A):\n",
    "      def __init__(self, roll):\n",
    "            \n",
    "            self.roll = roll\n",
    "            A.__init__(self)\n",
    "                \n",
    "\n",
    "object = B(23)\n",
    "print (object.name)"
   ]
  },
  {
   "cell_type": "code",
   "execution_count": 32,
   "id": "f05f072e",
   "metadata": {},
   "outputs": [
    {
     "name": "stdout",
     "output_type": "stream",
     "text": [
      "Ankit\n"
     ]
    }
   ],
   "source": [
    "class A:\n",
    "      def __init__(self, n = 'Ankit'):\n",
    "              self.name = n\n",
    "class B(A):\n",
    "      def __init__(self, roll):\n",
    "            \n",
    "            self.roll = roll\n",
    "            super().__init__()\n",
    "            \n",
    "\n",
    "object = B(23)\n",
    "print (object.name)"
   ]
  },
  {
   "cell_type": "markdown",
   "id": "981c228c",
   "metadata": {},
   "source": [
    "### Types of Inheritance in Python\n",
    "\n",
    "Types of Inheritance depends upon the number of child and parent classes involved. There are four types of inheritance in Python:"
   ]
  },
  {
   "cell_type": "markdown",
   "id": "fa0235f9",
   "metadata": {},
   "source": [
    "#### Single Inheritance: \n",
    "\n",
    "Single inheritance enables a derived class to inherit properties from a single parent class, thus enabling code reusability and the addition of new features to existing code."
   ]
  },
  {
   "cell_type": "code",
   "execution_count": 43,
   "id": "6ed03e68",
   "metadata": {},
   "outputs": [
    {
     "name": "stdout",
     "output_type": "stream",
     "text": [
      "This function is in parent class.\n",
      "This function is in child class.\n"
     ]
    }
   ],
   "source": [
    "# Python program to demonstrate\n",
    "# single inheritance \n",
    " \n",
    "# Base class\n",
    "class Parent:\n",
    "    def func1(self):\n",
    "        print(\"This function is in parent class.\")\n",
    "\n",
    "# Derived class\n",
    "class Child(Parent):\n",
    "    def func2(self):\n",
    "        print(\"This function is in child class.\")\n",
    "\n",
    "# Driver's code\n",
    "object = Child()\n",
    "object.func1()\n",
    "object.func2()"
   ]
  },
  {
   "cell_type": "markdown",
   "id": "b456c4d1",
   "metadata": {},
   "source": [
    "#### Multiple Inheritance: \n",
    "\n",
    "When a class can be derived from more than one base class this type of inheritance is called multiple inheritance. In multiple inheritance, all the features of the base classes are inherited into the derived class. "
   ]
  },
  {
   "cell_type": "code",
   "execution_count": 44,
   "id": "2cf135cb",
   "metadata": {},
   "outputs": [
    {
     "name": "stdout",
     "output_type": "stream",
     "text": [
      "Father : RAM\n",
      "Mother : SITA\n"
     ]
    }
   ],
   "source": [
    "# Python program to demonstrate\n",
    "# multiple inheritance\n",
    " \n",
    "\n",
    "# Base class1\n",
    "class Mother:\n",
    "    mothername = \"\"\n",
    "    def mother(self):\n",
    "        print(self.mothername)\n",
    "\n",
    "# Base class2\n",
    "class Father:\n",
    "    fathername = \"\"\n",
    "    def father(self):\n",
    "        print(self.fathername)\n",
    "\n",
    "# Derived class\n",
    "class Son(Mother, Father):\n",
    "    def parents(self):\n",
    "        print(\"Father :\", self.fathername)\n",
    "        print(\"Mother :\", self.mothername)\n",
    "\n",
    "# Driver's code\n",
    "s1 = Son()\n",
    "s1.fathername = \"RAM\"\n",
    "s1.mothername = \"SITA\"\n",
    "s1.parents()"
   ]
  },
  {
   "cell_type": "markdown",
   "id": "47214a5c",
   "metadata": {},
   "source": [
    "#### Multilevel Inheritance:\n",
    "\n",
    "\n",
    "In multilevel inheritance, features of the base class and the derived class are further inherited into the new derived class. This is similar to a relationship representing a child and grandfather."
   ]
  },
  {
   "cell_type": "code",
   "execution_count": 45,
   "id": "89d83e3a",
   "metadata": {},
   "outputs": [
    {
     "name": "stdout",
     "output_type": "stream",
     "text": [
      "Lal mani\n",
      "Grandfather name : Lal mani\n",
      "Father name : Rampal\n",
      "Son name : Prince\n"
     ]
    }
   ],
   "source": [
    "# Python program to demonstrate\n",
    "# multilevel inheritance\n",
    " \n",
    "# Base class\n",
    "class Grandfather:\n",
    " \n",
    "    def __init__(self, grandfathername):\n",
    "        self.grandfathername = grandfathername\n",
    "\n",
    "# Intermediate class\n",
    "class Father(Grandfather):\n",
    "    def __init__(self, fathername, grandfathername):\n",
    "        self.fathername = fathername\n",
    " \n",
    "        # invoking constructor of Grandfather class\n",
    "        Grandfather.__init__(self, grandfathername)\n",
    "\n",
    "# Derived class\n",
    "class Son(Father):\n",
    "    def __init__(self,sonname, fathername, grandfathername):\n",
    "        self.sonname = sonname\n",
    " \n",
    "        # invoking constructor of Father class\n",
    "        Father.__init__(self, fathername, grandfathername)\n",
    " \n",
    "    def print_name(self):\n",
    "        print('Grandfather name :', self.grandfathername)\n",
    "        print(\"Father name :\", self.fathername)\n",
    "        print(\"Son name :\", self.sonname)\n",
    "\n",
    "#  Driver code\n",
    "s1 = Son('Prince', 'Rampal', 'Lal mani')\n",
    "print(s1.grandfathername)\n",
    "s1.print_name()"
   ]
  },
  {
   "cell_type": "markdown",
   "id": "679846cd",
   "metadata": {},
   "source": [
    "#### Hierarchical Inheritance:\n",
    "\n",
    "When more than one derived classes are created from a single base this type of inheritance is called hierarchical inheritance. In this program, we have a parent (base) class and two child (derived) classes."
   ]
  },
  {
   "cell_type": "code",
   "execution_count": 46,
   "id": "5910ac71",
   "metadata": {},
   "outputs": [
    {
     "name": "stdout",
     "output_type": "stream",
     "text": [
      "This function is in parent class.\n",
      "This function is in child 1.\n",
      "This function is in parent class.\n",
      "This function is in child 2.\n"
     ]
    }
   ],
   "source": [
    "# Python program to demonstrate\n",
    "# Hierarchical inheritance\n",
    " \n",
    "\n",
    "# Base class\n",
    "class Parent:\n",
    "    def func1(self):\n",
    "        print(\"This function is in parent class.\")\n",
    "\n",
    "# Derived class1\n",
    "class Child1(Parent):\n",
    "    def func2(self):\n",
    "        print(\"This function is in child 1.\")\n",
    "\n",
    "# Derivied class2\n",
    "class Child2(Parent):\n",
    "    def func3(self):\n",
    "        print(\"This function is in child 2.\")\n",
    "\n",
    "# Driver's code\n",
    "object1 = Child1()\n",
    "object2 = Child2()\n",
    "object1.func1()\n",
    "object1.func2()\n",
    "object2.func1()\n",
    "object2.func3()"
   ]
  },
  {
   "cell_type": "markdown",
   "id": "f3d10011",
   "metadata": {},
   "source": [
    "#### Hybrid Inheritance:\n",
    "\n",
    "Cobination of multiple and multilevel inheritance called Hybrid Inheritance"
   ]
  },
  {
   "cell_type": "code",
   "execution_count": 48,
   "id": "4fb9ded2",
   "metadata": {},
   "outputs": [
    {
     "name": "stdout",
     "output_type": "stream",
     "text": [
      "This function is in school.\n",
      "This function is in student 1. \n"
     ]
    }
   ],
   "source": [
    "# Python program to demonstrate\n",
    "# hybrid inheritance\n",
    " \n",
    "\n",
    "class School:\n",
    "     def func1(self):\n",
    "            print(\"This function is in school.\")\n",
    "\n",
    "class Student1(School):\n",
    "     def func2(self):\n",
    "            print(\"This function is in student 1. \")\n",
    "\n",
    "class Student2(School):\n",
    "     def func3(self):\n",
    "            print(\"This function is in student 2.\")\n",
    "\n",
    "class Student3(Student1, School):\n",
    "     def func4(self):\n",
    "            print(\"This function is in student 3.\")\n",
    "\n",
    "# Driver's code\n",
    "object = Student3()\n",
    "object.func1()\n",
    "object.func2()\n",
    " "
   ]
  },
  {
   "cell_type": "markdown",
   "id": "6f2af480",
   "metadata": {},
   "source": [
    "#### Python super()\n",
    "\n",
    "One of the important OOP features is Inheritance in Python. When a class inherits some or all of the behaviors from another class is known as Inheritance. In such a case, the inherited class is the subclass and the latter class is the parent class. \n",
    "In an inherited subclass, a parent class can be referred to with the use of the super() function. The super function returns a temporary object of the superclass that allows access to all of its methods to its child class.\n",
    "\n",
    "Note: For more information, refer to Inheritance in Python\n",
    "\n",
    "Furthermore, The benefits of using a super function are:-  \n",
    "\n",
    "* Need not remember or specify the parent class name to access its methods. This function can be used both in single and multiple inheritances.\n",
    "\n",
    "* This implements modularity (isolating changes) and code reusability as there is no need to rewrite the entire function.\n",
    "\n",
    "* Super function in Python is called dynamically because Python is a dynamic language unlike other languages.\n",
    "\n",
    "There are 3 constraints to use the super function:-  \n",
    "\n",
    "* The class and its methods which are referred by the super function\n",
    "\n",
    "* The arguments of the super function and the called function should match.\n",
    "\n",
    "* Every occurrence of the method must include super() after you use it.\n",
    "\n",
    "\n",
    "**Super function in single inheritance** \n",
    "\n",
    "\n",
    "\n",
    "`Example:`\n",
    "\n",
    "Let’s take an example of animals. Dogs, cats and cows are part of animals. They also share common characteristics like –  \n",
    "\n",
    "* They are mammals.\n",
    "\n",
    "* They have a tail and four legs.\n",
    "\n",
    "* They are domestic animals.\n",
    "\n",
    "\n",
    "So, the classes dogs, cats and horses are subclass of animal class. This is an example of single inheritance because many subclass are inherited from a single parent class."
   ]
  },
  {
   "cell_type": "code",
   "execution_count": 6,
   "id": "871c0a45",
   "metadata": {},
   "outputs": [
    {
     "name": "stdout",
     "output_type": "stream",
     "text": [
      "It is a mammal.\n",
      "Has legs and tail\n"
     ]
    }
   ],
   "source": [
    "# Python program to demonstrate\n",
    "# super function\n",
    "  \n",
    "class Animals:\n",
    "     \n",
    "    # Initializing constructor\n",
    "    def __init__(self):\n",
    "        self.legs = 4\n",
    "        self.domestic = True\n",
    "        self.tail = True\n",
    "        self.mammals = True\n",
    "     \n",
    "    def isMammal(self):\n",
    "        if self.mammals:\n",
    "            print(\"It is a mammal.\")\n",
    "     \n",
    "    def isDomestic(self):\n",
    "        if self.domestic:\n",
    "            print(\"It is a domestic animal.\")\n",
    "    \n",
    "class Dogs(Animals):\n",
    "    def __init__(self):\n",
    "        super().__init__()\n",
    " \n",
    "    def isMammal(self):\n",
    "        super().isMammal()\n",
    "\n",
    "class Horses(Animals):\n",
    "    def __init__(self):\n",
    "        super().__init__()\n",
    " \n",
    "    def hasTailandLegs(self):\n",
    "        if self.tail and self.legs == 4:\n",
    "            print(\"Has legs and tail\")\n",
    "\n",
    "# Driver code\n",
    "Tom = Dogs()\n",
    "Tom.isMammal()\n",
    "Bruno = Horses()\n",
    "Bruno.hasTailandLegs()"
   ]
  },
  {
   "cell_type": "markdown",
   "id": "05d1ffea",
   "metadata": {},
   "source": [
    "#### Super function in multiple inheritance \n",
    "\n",
    "Example: Let’s take another example. Suppose a class canfly and canswim inherit from a mammal class and these classes are inherited by the animal class. So the animal class inherits from the multiple base classes. Let’s see the use of super in this case.\n",
    "\n",
    "\n"
   ]
  },
  {
   "cell_type": "code",
   "execution_count": 7,
   "id": "9c0da4a2",
   "metadata": {},
   "outputs": [
    {
     "name": "stdout",
     "output_type": "stream",
     "text": [
      "Dog cannot fly\n",
      "Dog cannot swim\n",
      "Dog Is a mammal\n"
     ]
    }
   ],
   "source": [
    "class Mammal():\n",
    "     \n",
    "    def __init__(self, name):\n",
    "        print(name, \"Is a mammal\")\n",
    "         \n",
    "class canFly(Mammal):\n",
    "     \n",
    "    def __init__(self, canFly_name):\n",
    "        print(canFly_name, \"cannot fly\")\n",
    "         \n",
    "        # Calling Parent class\n",
    "        # Constructor\n",
    "        super().__init__(canFly_name)\n",
    "             \n",
    "class canSwim(Mammal):\n",
    "     \n",
    "    def __init__(self, canSwim_name):\n",
    "         \n",
    "        print(canSwim_name, \"cannot swim\")\n",
    "             \n",
    "        super().__init__(canSwim_name)\n",
    "         \n",
    "class Animal(canFly, canSwim):\n",
    "     \n",
    "    def __init__(self, name):\n",
    "         \n",
    "        # Calling the constructor\n",
    "        # of both thr parent\n",
    "        # class in the order of\n",
    "        # their inheritance\n",
    "        super().__init__(name)\n",
    " \n",
    " \n",
    "# Driver Code\n",
    "Carol = Animal(\"Dog\")"
   ]
  },
  {
   "cell_type": "code",
   "execution_count": null,
   "id": "d6e2ddc8",
   "metadata": {},
   "outputs": [],
   "source": []
  },
  {
   "cell_type": "code",
   "execution_count": null,
   "id": "ed9a6d03",
   "metadata": {},
   "outputs": [],
   "source": []
  },
  {
   "cell_type": "code",
   "execution_count": null,
   "id": "80b53f84",
   "metadata": {},
   "outputs": [],
   "source": []
  },
  {
   "cell_type": "markdown",
   "id": "2d618d0a",
   "metadata": {},
   "source": [
    "### Encapsulation in Python\n",
    "\n",
    "\n",
    "Last Updated : 05 Jan, 2022\n",
    "\n",
    "Encapsulation is one of the fundamental concepts in object-oriented programming (OOP). It describes the idea of wrapping data and the methods that work on data within one unit. This puts restrictions on accessing variables and methods directly and can prevent the accidental modification of data. To prevent accidental change, an object’s variable can only be changed by an object’s method. Those types of variables are known as private\n",
    "\n",
    "#### variable\n",
    "A class is an example of encapsulation as it encapsulates all the data that is member functions, variables, etc.\n",
    "\n",
    "![](encap.png)"
   ]
  },
  {
   "cell_type": "markdown",
   "id": "1723245f",
   "metadata": {},
   "source": [
    "Consider a real-life example of encapsulation, in a company, there are different sections like the accounts section, finance section, sales section etc. The finance section handles all the financial transactions and keeps records of all the data related to finance. Similarly, the sales section handles all the sales-related activities and keeps records of all the sales. Now there may arise a situation when for some reason an official from the finance section needs all the data about sales in a particular month. In this case, he is not allowed to directly access the data of the sales section. He will first have to contact some other officer in the sales section and then request him to give the particular data. This is what encapsulation is. Here the data of the sales section and the employees that can manipulate them are wrapped under a single name “sales section”. Using encapsulation also hides the data. In this example, the data of the sections like sales, finance, or accounts are hidden from any other section.\n",
    "\n",
    "**Protected members**\n",
    "\n",
    "Protected members (in C++ and JAVA) are those members of the class that cannot be accessed outside the class but can be accessed from within the class and its subclasses. To accomplish this in Python, just follow the convention by prefixing the name of the member by a `single underscore “_”`.\n",
    "\n",
    "Although the protected variable can be accessed out of the class as well as in the derived class(modified too in derived class), it is customary(convention not a rule) to not access the protected out the class body.\n",
    "\n",
    "**Note:** The` __init__` method is a constructor and runs as soon as an object of a class is instantiated.  \n",
    "\n"
   ]
  },
  {
   "cell_type": "code",
   "execution_count": 33,
   "id": "bff5dc17",
   "metadata": {},
   "outputs": [
    {
     "name": "stdout",
     "output_type": "stream",
     "text": [
      "Calling protected member of base class:  2\n",
      "Calling modified protected member outside class:  3\n",
      "Accessing protedted member of obj1:  3\n",
      "\n",
      "Accessing protedted member of obj2:  2\n"
     ]
    }
   ],
   "source": [
    "# Python program to\n",
    "# demonstrate protected members\n",
    " \n",
    "# Creating a base class\n",
    "class Base:\n",
    "    def __init__(self):\n",
    " \n",
    "        # Protected member\n",
    "        self._a = 2\n",
    "\n",
    "# Creating a derived class\n",
    "class Derived(Base):\n",
    "    def __init__(self):\n",
    " \n",
    "        # Calling constructor of\n",
    "        # Base class\n",
    "        Base.__init__(self)\n",
    "        print(\"Calling protected member of base class: \", self._a)\n",
    " \n",
    "        # Modify the protected variable:\n",
    "        self._a = 3\n",
    "        print(\"Calling modified protected member outside class: \",  self._a)\n",
    "        \n",
    "        \n",
    "obj1 = Derived()\n",
    " \n",
    "obj2 = Base()\n",
    " \n",
    "# Calling protected member\n",
    "# Can be accessed but should not be done due to convention\n",
    "print(\"Accessing protedted member of obj1: \", obj1._a)\n",
    "print()\n",
    "# Accessing the protected variable outside\n",
    "print(\"Accessing protedted member of obj2: \", obj2._a)"
   ]
  },
  {
   "cell_type": "markdown",
   "id": "0b813d10",
   "metadata": {},
   "source": [
    "### Private members\n",
    "\n",
    "Private members are similar to protected members, the difference is that the class members declared private should neither be accessed outside the class nor by any base class. In Python, there is no existence of Private instance variables that cannot be accessed except inside a class.\n",
    "\n",
    "However, to define a private member prefix the member name with `double underscore “__”.`\n",
    "\n",
    "**Note:** `Python’s private and protected member can be accessed outside the class through python name mangling.`"
   ]
  },
  {
   "cell_type": "code",
   "execution_count": 34,
   "id": "70e2df4a",
   "metadata": {},
   "outputs": [
    {
     "name": "stdout",
     "output_type": "stream",
     "text": [
      "GeeksforGeeks\n",
      "\n",
      "Calling private member of base class: \n"
     ]
    },
    {
     "ename": "AttributeError",
     "evalue": "'Derived' object has no attribute '_Derived__c'",
     "output_type": "error",
     "traceback": [
      "\u001b[1;31m---------------------------------------------------------------------------\u001b[0m",
      "\u001b[1;31mAttributeError\u001b[0m                            Traceback (most recent call last)",
      "\u001b[1;32m~\\AppData\\Local\\Temp/ipykernel_14784/3148519225.py\u001b[0m in \u001b[0;36m<module>\u001b[1;34m\u001b[0m\n\u001b[0;32m     33\u001b[0m \u001b[1;31m# is called inside derived class\u001b[0m\u001b[1;33m\u001b[0m\u001b[1;33m\u001b[0m\u001b[1;33m\u001b[0m\u001b[0m\n\u001b[0;32m     34\u001b[0m \u001b[0mprint\u001b[0m\u001b[1;33m(\u001b[0m\u001b[1;33m)\u001b[0m\u001b[1;33m\u001b[0m\u001b[1;33m\u001b[0m\u001b[0m\n\u001b[1;32m---> 35\u001b[1;33m \u001b[0mobj2\u001b[0m \u001b[1;33m=\u001b[0m \u001b[0mDerived\u001b[0m\u001b[1;33m(\u001b[0m\u001b[1;33m)\u001b[0m\u001b[1;33m\u001b[0m\u001b[1;33m\u001b[0m\u001b[0m\n\u001b[0m\u001b[0;32m     36\u001b[0m \u001b[0mprint\u001b[0m\u001b[1;33m(\u001b[0m\u001b[0mobj\u001b[0m\u001b[1;33m.\u001b[0m\u001b[0mc\u001b[0m\u001b[1;33m)\u001b[0m\u001b[1;33m\u001b[0m\u001b[1;33m\u001b[0m\u001b[0m\n",
      "\u001b[1;32m~\\AppData\\Local\\Temp/ipykernel_14784/3148519225.py\u001b[0m in \u001b[0;36m__init__\u001b[1;34m(self)\u001b[0m\n\u001b[0;32m     18\u001b[0m         \u001b[0mBase\u001b[0m\u001b[1;33m.\u001b[0m\u001b[0m__init__\u001b[0m\u001b[1;33m(\u001b[0m\u001b[0mself\u001b[0m\u001b[1;33m)\u001b[0m\u001b[1;33m\u001b[0m\u001b[1;33m\u001b[0m\u001b[0m\n\u001b[0;32m     19\u001b[0m         \u001b[0mprint\u001b[0m\u001b[1;33m(\u001b[0m\u001b[1;34m\"Calling private member of base class: \"\u001b[0m\u001b[1;33m)\u001b[0m\u001b[1;33m\u001b[0m\u001b[1;33m\u001b[0m\u001b[0m\n\u001b[1;32m---> 20\u001b[1;33m         \u001b[0mprint\u001b[0m\u001b[1;33m(\u001b[0m\u001b[0mself\u001b[0m\u001b[1;33m.\u001b[0m\u001b[0m__c\u001b[0m\u001b[1;33m)\u001b[0m\u001b[1;33m\u001b[0m\u001b[1;33m\u001b[0m\u001b[0m\n\u001b[0m\u001b[0;32m     21\u001b[0m \u001b[1;33m\u001b[0m\u001b[0m\n\u001b[0;32m     22\u001b[0m \u001b[1;33m\u001b[0m\u001b[0m\n",
      "\u001b[1;31mAttributeError\u001b[0m: 'Derived' object has no attribute '_Derived__c'"
     ]
    }
   ],
   "source": [
    "# Python program to\n",
    "# demonstrate private members\n",
    " \n",
    "# Creating a Base class\n",
    " \n",
    "\n",
    "class Base:\n",
    "    def __init__(self):\n",
    "        self.a = \"GeeksforGeeks\"\n",
    "        self.__c = \"GeeksforGeeks\"\n",
    "\n",
    "# Creating a derived class\n",
    "class Derived(Base):\n",
    "    def __init__(self):\n",
    " \n",
    "        # Calling constructor of\n",
    "        # Base class\n",
    "        Base.__init__(self)\n",
    "        print(\"Calling private member of base class: \")\n",
    "        print(self.__c)\n",
    " \n",
    " \n",
    "# Driver code\n",
    "obj1 = Base()\n",
    "print(obj1.a)\n",
    " \n",
    "# Uncommenting print(obj1.c) will\n",
    "# raise an AttributeError\n",
    "# print(obj1.c)\n",
    "# Uncommenting obj2 = Derived() will\n",
    "# also raise an AtrributeError as\n",
    "# private member of base class\n",
    "# is called inside derived class\n",
    "print()\n",
    "obj2 = Derived()\n",
    "print(obj.c)"
   ]
  },
  {
   "cell_type": "markdown",
   "id": "86699cce",
   "metadata": {},
   "source": [
    "### Polymorphism in Python\n",
    "\n",
    "`What is Polymorphism:` The word polymorphism means having many forms. In programming, polymorphism means the same function name (but different signatures) being used for different types.\n",
    "\n",
    "\n",
    "`Example of inbuilt polymorphic functions :` "
   ]
  },
  {
   "cell_type": "code",
   "execution_count": 58,
   "id": "77050b45",
   "metadata": {},
   "outputs": [
    {
     "name": "stdout",
     "output_type": "stream",
     "text": [
      "5\n",
      "3\n"
     ]
    }
   ],
   "source": [
    "# Python program to demonstrate in-built poly-\n",
    "# morphic functions\n",
    " \n",
    "# len() being used for a string\n",
    "print(len(\"geeks\"))\n",
    " \n",
    "# len() being used for a list\n",
    "print(len([10, 20, 30]))"
   ]
  },
  {
   "cell_type": "markdown",
   "id": "b86d3b51",
   "metadata": {},
   "source": [
    "#### Examples of user-defined polymorphic functions : "
   ]
  },
  {
   "cell_type": "code",
   "execution_count": 59,
   "id": "704775d8",
   "metadata": {},
   "outputs": [
    {
     "name": "stdout",
     "output_type": "stream",
     "text": [
      "5\n",
      "9\n"
     ]
    }
   ],
   "source": [
    "# A simple Python function to demonstrate\n",
    "# Polymorphism\n",
    " \n",
    "def add(x, y, z = 0):\n",
    "    return x + y+z\n",
    " \n",
    "# Driver code\n",
    "print(add(2, 3))\n",
    "print(add(2, 3, 4))"
   ]
  },
  {
   "cell_type": "markdown",
   "id": "e1e861e0",
   "metadata": {},
   "source": [
    "### Polymorphism with class methods: \n",
    "\n",
    "The below code shows how Python can use two different class types, in the same way. We create a for loop that iterates through a tuple of objects. Then call the methods without being concerned about which class type each object is. We assume that these methods actually exist in each class. "
   ]
  },
  {
   "cell_type": "code",
   "execution_count": 60,
   "id": "0d93d7ba",
   "metadata": {},
   "outputs": [
    {
     "name": "stdout",
     "output_type": "stream",
     "text": [
      "New Delhi is the capital of India.\n",
      "Hindi is the most widely spoken language of India.\n",
      "India is a developing country.\n",
      "Washington, D.C. is the capital of USA.\n",
      "English is the primary language of USA.\n",
      "USA is a developed country.\n"
     ]
    }
   ],
   "source": [
    "class India():\n",
    "    def capital(self):\n",
    "        print(\"New Delhi is the capital of India.\")\n",
    " \n",
    "    def language(self):\n",
    "        print(\"Hindi is the most widely spoken language of India.\")\n",
    " \n",
    "    def type(self):\n",
    "        print(\"India is a developing country.\")\n",
    "\n",
    "        \n",
    "class USA():\n",
    "    def capital(self):\n",
    "        print(\"Washington, D.C. is the capital of USA.\")\n",
    " \n",
    "    def language(self):\n",
    "        print(\"English is the primary language of USA.\")\n",
    " \n",
    "    def type(self):\n",
    "        print(\"USA is a developed country.\")\n",
    "\n",
    "obj_ind = India()\n",
    "obj_usa = USA()\n",
    "for country in (obj_ind, obj_usa):\n",
    "    country.capital()\n",
    "    country.language()\n",
    "    country.type()"
   ]
  },
  {
   "cell_type": "markdown",
   "id": "f2569580",
   "metadata": {},
   "source": [
    "### Polymorphism with Inheritance: \n",
    "\n",
    "In Python, Polymorphism lets us define methods in the child class that have the same name as the methods in the parent class. In inheritance, the child class inherits the methods from the parent class. However, it is possible to modify a method in a child class that it has inherited from the parent class. This is particularly useful in cases where the method inherited from the parent class doesn’t quite fit the child class. In such cases, we re-implement the method in the child class. This process of re-implementing a method in the child class is known as` Method Overriding.`"
   ]
  },
  {
   "cell_type": "code",
   "execution_count": 62,
   "id": "732ae76c",
   "metadata": {},
   "outputs": [
    {
     "name": "stdout",
     "output_type": "stream",
     "text": [
      "There are many types of birds.\n",
      "Most of the birds can fly but some cannot.\n",
      "\n",
      "There are many types of birds.\n",
      "Sparrows can fly.\n",
      "\n",
      "There are many types of birds.\n",
      "Ostriches cannot fly.\n"
     ]
    }
   ],
   "source": [
    "class Bird:\n",
    "    def intro(self):\n",
    "        print(\"There are many types of birds.\")\n",
    "        \n",
    "    def flight(self):\n",
    "        print(\"Most of the birds can fly but some cannot.\")\n",
    "\n",
    "        \n",
    "class sparrow(Bird):\n",
    "    def flight(self):\n",
    "        print(\"Sparrows can fly.\")\n",
    "        \n",
    "class ostrich(Bird):\n",
    "    def flight(self):\n",
    "        print(\"Ostriches cannot fly.\")\n",
    "\n",
    "obj_bird = Bird()\n",
    "obj_spr = sparrow()\n",
    "obj_ost = ostrich()\n",
    " \n",
    "obj_bird.intro()\n",
    "obj_bird.flight()\n",
    "print()\n",
    "obj_spr.intro()\n",
    "obj_spr.flight()\n",
    "print()\n",
    "obj_ost.intro()\n",
    "obj_ost.flight()"
   ]
  },
  {
   "cell_type": "markdown",
   "id": "4b229cdb",
   "metadata": {},
   "source": [
    "### Polymorphism with a Function and objects: \n",
    "\n",
    "It is also possible to create a function that can take any object, allowing for polymorphism. In this example, let’s create a function called “func()” which will take an object which we will name “obj”. Though we are using the name ‘obj’, any instantiated object will be able to be called into this function. Next, let’s give the function something to do that uses the ‘obj’ object we passed to it. In this case, let’s call the three methods, viz., capital(), language() and type(), each of which is defined in the two classes ‘India’ and ‘USA’. Next, let’s create instantiations of both the ‘India’ and ‘USA’ classes if we don’t have them already. With those, we can call their action using the same func() function: "
   ]
  },
  {
   "cell_type": "code",
   "execution_count": 35,
   "id": "257632c8",
   "metadata": {},
   "outputs": [],
   "source": [
    "class India():\n",
    "    def capital(self):\n",
    "        print(\"New Delhi is the capital of India.\")\n",
    " \n",
    "    def language(self):\n",
    "        print(\"Hindi is the most widely spoken language of India.\")\n",
    " \n",
    "    def type(self):\n",
    "        print(\"India is a developing country.\")\n",
    "\n",
    "        \n",
    "class USA():\n",
    "    def capital(self):\n",
    "        print(\"Washington, D.C. is the capital of USA.\")\n",
    " \n",
    "    def language(self):\n",
    "        print(\"English is the primary language of USA.\")\n",
    " \n",
    "    def type(self):\n",
    "        print(\"USA is a developed country.\")\n"
   ]
  },
  {
   "cell_type": "code",
   "execution_count": 64,
   "id": "b2420213",
   "metadata": {},
   "outputs": [
    {
     "name": "stdout",
     "output_type": "stream",
     "text": [
      "New Delhi is the capital of India.\n",
      "Hindi is the most widely spoken language of India.\n",
      "India is a developing country.\n",
      "\n",
      "Washington, D.C. is the capital of USA.\n",
      "English is the primary language of USA.\n",
      "USA is a developed country.\n"
     ]
    }
   ],
   "source": [
    "def func(obj):\n",
    "    obj.capital()\n",
    "    obj.language()\n",
    "    obj.type()\n",
    "\n",
    "obj_ind = India()\n",
    "obj_usa = USA()\n",
    "  \n",
    "func(obj_ind)\n",
    "print()\n",
    "func(obj_usa)"
   ]
  },
  {
   "cell_type": "code",
   "execution_count": 66,
   "id": "ced25e8a",
   "metadata": {},
   "outputs": [
    {
     "name": "stdout",
     "output_type": "stream",
     "text": [
      "New Delhi is the capital of India.\n",
      "Hindi is the most widely spoken language of India.\n",
      "India is a developing country.\n",
      "\n",
      "Washington, D.C. is the capital of USA.\n",
      "English is the primary language of USA.\n",
      "USA is a developed country.\n"
     ]
    }
   ],
   "source": [
    "class India():\n",
    "    def capital(self):\n",
    "        print(\"New Delhi is the capital of India.\")\n",
    "  \n",
    "    def language(self):\n",
    "        print(\"Hindi is the most widely spoken language of India.\")\n",
    "  \n",
    "    def type(self):\n",
    "        print(\"India is a developing country.\")\n",
    "\n",
    "class USA():\n",
    "    def capital(self):\n",
    "        print(\"Washington, D.C. is the capital of USA.\")\n",
    "  \n",
    "    def language(self):\n",
    "        print(\"English is the primary language of USA.\")\n",
    "  \n",
    "    def type(self):\n",
    "        print(\"USA is a developed country.\")\n",
    "\n",
    "def func(obj):\n",
    "    obj.capital()\n",
    "    obj.language()\n",
    "    obj.type()\n",
    "\n",
    "\n",
    "obj_ind = India()\n",
    "obj_usa = USA()\n",
    "  \n",
    "func(obj_ind)\n",
    "print()\n",
    "func(obj_usa)"
   ]
  },
  {
   "cell_type": "markdown",
   "id": "35fb0d03",
   "metadata": {},
   "source": [
    "### Class or Static Variables in Python\n",
    "\n",
    "All objects share class or static variables. An instance or non-static variables are different for different objects (every object has a copy). For example, let a Computer Science Student be represented by class CSStudent. The class may have a static variable whose value is “cse” for all objects. And class may also have non-static members like name and roll. In C++ and Java, we can use static keywords to make a variable a class variable. The variables which don’t have a preceding static keyword are instance variables. See this for the Java example and this for the C++ example.\n",
    "The Python approach is simple; it doesn’t require a static keyword. \n",
    "\n",
    "`All variables which are assigned a value in the class declaration are class variables. And variables that are assigned values inside methods are instance variables.`"
   ]
  },
  {
   "cell_type": "code",
   "execution_count": 3,
   "id": "f19069c1",
   "metadata": {},
   "outputs": [],
   "source": [
    "# Python program to show that the variables with a value\n",
    "# assigned in class declaration, are class variables\n",
    " \n",
    "# Class for Computer Science Student\n",
    "class CSStudent:\n",
    "    stream = 'cse'                  # Class Variable\n",
    "    def __init__(self,name,roll):\n",
    "        self.name = name            # Instance Variable\n",
    "        self.roll = roll            # Instance Variable"
   ]
  },
  {
   "cell_type": "code",
   "execution_count": 68,
   "id": "1fef48c9",
   "metadata": {},
   "outputs": [
    {
     "name": "stdout",
     "output_type": "stream",
     "text": [
      "cse\n",
      "cse\n",
      "Geek\n",
      "Nerd\n",
      "1\n",
      "2\n"
     ]
    }
   ],
   "source": [
    "# Objects of CSStudent class\n",
    "a = CSStudent('Geek', 1)\n",
    "b = CSStudent('Nerd', 2)\n",
    " \n",
    "print(a.stream)  # prints \"cse\"\n",
    "print(b.stream)  # prints \"cse\"\n",
    "print(a.name)    # prints \"Geek\"\n",
    "print(b.name)    # prints \"Nerd\"\n",
    "print(a.roll)    # prints \"1\"\n",
    "print(b.roll)    # prints \"2\"\n",
    " "
   ]
  },
  {
   "cell_type": "code",
   "execution_count": 69,
   "id": "a30e72c4",
   "metadata": {},
   "outputs": [
    {
     "name": "stdout",
     "output_type": "stream",
     "text": [
      "cse\n"
     ]
    }
   ],
   "source": [
    "# Class variables can be accessed using class\n",
    "# name also\n",
    "print(CSStudent.stream) # prints \"cse\"\n",
    " "
   ]
  },
  {
   "cell_type": "code",
   "execution_count": 4,
   "id": "203cb92a",
   "metadata": {},
   "outputs": [
    {
     "name": "stdout",
     "output_type": "stream",
     "text": [
      "ece\n",
      "cse\n"
     ]
    }
   ],
   "source": [
    "# Now if we change the stream for just a it won't be changed for b\n",
    "# Objects of CSStudent class\n",
    "a = CSStudent('Geek', 1)\n",
    "b = CSStudent('Nerd', 2)\n",
    "\n",
    "a.stream = 'ece'\n",
    "print(a.stream) # prints 'ece'\n",
    "print(b.stream) # prints 'cse'\n",
    " "
   ]
  },
  {
   "cell_type": "code",
   "execution_count": 2,
   "id": "fedcc7be",
   "metadata": {},
   "outputs": [
    {
     "name": "stdout",
     "output_type": "stream",
     "text": [
      "mech\n",
      "mech\n"
     ]
    }
   ],
   "source": [
    "# To change the stream for all instances of the class we can change it\n",
    "# directly from the class\n",
    "\n",
    "# Objects of CSStudent class\n",
    "a = CSStudent('Geek', 1)\n",
    "b = CSStudent('Nerd', 2)\n",
    "\n",
    "CSStudent.stream = 'mech'\n",
    " \n",
    "print(a.stream) # prints 'mech'\n",
    "print(b.stream) # prints 'mech'\n"
   ]
  },
  {
   "cell_type": "markdown",
   "id": "29310236",
   "metadata": {},
   "source": [
    "### Class method vs Static method in Python\n",
    "\n",
    "#### Class Method\n",
    "\n",
    "The` @classmethod` decorator is a built-in function decorator that is an expression that gets evaluated after your function is defined. The result of that evaluation shadows your function definition. \n",
    "\n",
    "\n",
    "A class method receives the class as an implicit first argument, just like an instance method receives the instance \n",
    "\n",
    "\n",
    "Syntax: \n",
    "\n",
    "class C(object):\n",
    "\n",
    "    @classmethod\n",
    "    \n",
    "    def fun(cls, arg1, arg2, ...):\n",
    "       ....\n",
    "       \n",
    "       \n",
    "`fun:` function that needs to be converted into a class method\n",
    "\n",
    "`returns:` a class method for function.\n",
    "\n",
    "* A class method is a method that is bound to the class and not the object of the class.\n",
    "\n",
    "\n",
    "* They have the access to the state of the class as it takes a class parameter that points to the class and not the object instance.\n",
    "\n",
    "* It can modify a class state that would apply across all the instances of the class. For example, it can modify a class variable that will be applicable to all the instances.\n",
    "\n",
    "\n",
    "**Static Method**\n",
    "\n",
    "A static method does not receive an implicit first argument. \n",
    "\n",
    "`Syntax:` \n",
    "\n",
    "class C(object):\n",
    "\n",
    "    @staticmethod\n",
    "    \n",
    "    def fun(arg1, arg2, ...):\n",
    "        ...\n",
    "        \n",
    "        \n",
    "`returns:` a static method for function fun.\n",
    "\n",
    "* A static method is also a method that is bound to the class and not the object of the class.\n",
    "\n",
    "* A static method can’t access or modify the class state.\n",
    "\n",
    "* It is present in a class because it makes sense for the method to be present in class.\n",
    "\n",
    "\n",
    "#### Class method vs Static Method\n",
    "\n",
    "\n",
    "* A class method takes cls as the first parameter while a static method needs no specific parameters.\n",
    "\n",
    "* A class method can access or modify the class state while a static method can’t access or modify it.\n",
    "\n",
    "* In general, static methods know nothing about the class state. They are utility-type methods that take some parameters and work upon those parameters. On the other hand class methods must have class as a parameter.\n",
    "\n",
    "* We use @classmethod decorator in python to create a class method and we use @staticmethod decorator to create a static method in python.\n",
    "\n",
    "\n",
    "#### When to use what?\n",
    "\n",
    "* We generally use class method to create factory methods. Factory methods return class objects ( similar to a constructor ) for different use cases.\n",
    "\n",
    "\n",
    "* We generally use static methods to create utility functions.\n",
    "\n",
    "#### How to define a class method and a static method?\n",
    "\n",
    "To define a class method in python, we use @classmethod decorator, and to define a static method we use @staticmethod decorator. \n",
    "Let us look at an example to understand the difference between both of them. Let us say we want to create a class Person. Now, python doesn’t support method overloading like C++ or Java so we use class methods to create factory methods. In the below example we use a class method to create a person object from birth year.\n",
    "As explained above we use static methods to create utility functions. In the below example we use a static method to check if a person is an adult or not. \n",
    " \n",
    "\n",
    "**Implementation**"
   ]
  },
  {
   "cell_type": "code",
   "execution_count": 5,
   "id": "c99dea3c",
   "metadata": {},
   "outputs": [
    {
     "name": "stdout",
     "output_type": "stream",
     "text": [
      "21\n",
      "26\n",
      "True\n"
     ]
    }
   ],
   "source": [
    "# Python program to demonstrate\n",
    "# use of class method and static method.\n",
    "from datetime import date\n",
    "  \n",
    "class Person:\n",
    "    def __init__(self, name, age):\n",
    "        self.name = name\n",
    "        self.age = age\n",
    "      \n",
    "    # a class method to create a Person object by birth year.\n",
    "    @classmethod\n",
    "    def fromBirthYear(cls, name, year):\n",
    "        return cls(name, date.today().year - year)\n",
    "      \n",
    "    # a static method to check if a Person is adult or not.\n",
    "    @staticmethod\n",
    "    def isAdult(age):\n",
    "        return age > 18\n",
    "\n",
    "    \n",
    "person1 = Person('mayank', 21)\n",
    "person2 = Person.fromBirthYear('mayank', 1996)\n",
    "  \n",
    "print (person1.age)\n",
    "print (person2.age)\n",
    "  \n",
    "# print the result\n",
    "print (Person.isAdult(22))"
   ]
  },
  {
   "cell_type": "code",
   "execution_count": 8,
   "id": "fc22c33a",
   "metadata": {},
   "outputs": [
    {
     "name": "stdout",
     "output_type": "stream",
     "text": [
      "Employee Name: Dhiman and Age: 25\n"
     ]
    }
   ],
   "source": [
    "from datetime import date as dt\n",
    "\n",
    "class Employee:\n",
    "    def __init__(self, name, age):\n",
    "        self.name = name\n",
    "        self.age = age\n",
    "        \n",
    "    @staticmethod\n",
    "    def isAdult(age):\n",
    "        if age > 18:\n",
    "            return True\n",
    "        else:\n",
    "            return False\n",
    "    @classmethod\n",
    "    def emp_from_year(emp_class, name, year):\n",
    "        \n",
    "        return emp_class(name, dt.today().year - year)\n",
    "    \n",
    "    def __str__(self):\n",
    "        return 'Employee Name: {} and Age: {}'.format(self.name, self.age)\n",
    "    \n",
    "    \n",
    "e1 = Employee('Dhiman', 25)\n",
    "print(e1)"
   ]
  },
  {
   "cell_type": "code",
   "execution_count": 9,
   "id": "e890cab5",
   "metadata": {},
   "outputs": [
    {
     "name": "stdout",
     "output_type": "stream",
     "text": [
      "Employee Name: Subhas and Age: 35\n",
      "True\n",
      "False\n"
     ]
    }
   ],
   "source": [
    "e2 = Employee.emp_from_year('Subhas', 1987)\n",
    "print(e2)\n",
    "print(Employee.isAdult(25))\n",
    "print(Employee.isAdult(16))"
   ]
  },
  {
   "cell_type": "code",
   "execution_count": null,
   "id": "e479aabb",
   "metadata": {},
   "outputs": [],
   "source": []
  },
  {
   "cell_type": "markdown",
   "id": "509b3fdd",
   "metadata": {},
   "source": [
    " #### Underscore in Python\n",
    "In Python, there is no existence of “Private” instance variables that cannot be accessed except inside an object. However, a convention is being followed by most Python code and coders i.e., a name prefixed with an underscore, For e.g. _geek should be treated as a non-public part of the API or any Python code, whether it is a function, a method, or a data member. While going through this we would also try to understand the concept of various forms of trailing underscores, for e.g., for _ in range(10),` __init__(self).` \n",
    " \n",
    "\n",
    "#### Mangling and how it works\n",
    "\n",
    "In Python, there is something called name mangling, which means that there is limited support for a valid use-case for class-private members basically to avoid name clashes of names with names defined by subclasses. Any identifier of the form `__geek `(at least two leading underscores or at most one trailing underscore) is replaced with _classname`__geek`, where classname is the current class name with a leading underscore(s) stripped. As long as it occurs within the definition of the class, this mangling is done. This is helpful for letting subclasses override methods without breaking intraclass method calls. \n",
    "Let’s look at this example and try to find out how this underscore works: "
   ]
  },
  {
   "cell_type": "code",
   "execution_count": 54,
   "id": "c2d270df",
   "metadata": {},
   "outputs": [],
   "source": [
    "# Python code to illustrate how mangling works\n",
    "class Map:\n",
    "    def __init__(self, iterate):\n",
    "        self.list = []\n",
    "        self.__geek(iterate)\n",
    "    def geek(self, iterate):\n",
    "        for item in iterate:\n",
    "            self.list.append(item)\n",
    " \n",
    "    # private copy of original geek() method\n",
    "    __geek = geek  \n",
    "\n",
    "class MapSubclass(Map):\n",
    "     \n",
    "    # provides new signature for geek() but\n",
    "    # does not break __init__()\n",
    "    def geek(self, key, value):       \n",
    "        for i in zip(keys, value):\n",
    "            self.list.append(i)"
   ]
  },
  {
   "cell_type": "markdown",
   "id": "f17f5cfa",
   "metadata": {},
   "source": [
    "The mangling rules are designed mostly to avoid accidents but it is still possible to access or modify a variable that is considered private. This can even be useful in special circumstances, such as in the debugger.\n",
    " \n",
    "\n",
    "_Single Leading Underscores\n",
    "\n",
    "So basically one underline at the beginning of a method, function, or data member means you shouldn’t access this method because it’s not part of the API. Let’s look at this snippet of code: "
   ]
  },
  {
   "cell_type": "code",
   "execution_count": 55,
   "id": "596ac219",
   "metadata": {},
   "outputs": [],
   "source": [
    "# Python code to illustrate\n",
    "# how single underscore works\n",
    "def _get_errors(self):\n",
    "    if self._errors is None:\n",
    "        self.full_clean()\n",
    "    return self._errors\n",
    " \n",
    "errors = property(_get_errors)"
   ]
  },
  {
   "cell_type": "markdown",
   "id": "4819a666",
   "metadata": {},
   "source": [
    "#### __Double Leading Underscores\n",
    "\n",
    "Two underlines, in the beginning, cause a lot of confusion. This is about syntax rather than a convention. double underscore will mangle the attribute names of a class to avoid conflicts of attribute names between classes. For example: "
   ]
  },
  {
   "cell_type": "code",
   "execution_count": 56,
   "id": "9a699f66",
   "metadata": {},
   "outputs": [],
   "source": [
    "# Python code to illustrate how double\n",
    "# underscore at the beginning works\n",
    "class Geek:\n",
    "    def _single_method(self):\n",
    "        pass\n",
    "    def __double_method(self): # for mangling\n",
    "        pass\n",
    "class Pyth(Geek):\n",
    "    def __double_method(self): # for mangling\n",
    "        pass"
   ]
  },
  {
   "cell_type": "markdown",
   "id": "b9b95781",
   "metadata": {},
   "source": [
    "#### __Double leading and Double trailing underscores__\n",
    "\n",
    "There’s another case of double leading and trailing underscores. We follow this while using special variables or methods (called “magic method”) such as`__len__`,` __init__.` These methods provide special syntactic features to the names. For example, `__file__` indicates the location of the Python file,` __eq__` is executed when a == b expression is executed. "
   ]
  },
  {
   "cell_type": "code",
   "execution_count": 57,
   "id": "3f47d085",
   "metadata": {},
   "outputs": [],
   "source": [
    "# Python code to illustrate double leading and\n",
    "# double trailing underscore works\n",
    "class Geek:\n",
    " \n",
    "    # '__init__' for initializing, this is a\n",
    "    # special method \n",
    "    def __init__(self, ab):\n",
    "        self.ab = ab\n",
    " \n",
    "    # custom special method. try not to use it\n",
    "    def __custom__(self):\n",
    "        pass"
   ]
  },
  {
   "cell_type": "code",
   "execution_count": null,
   "id": "89a95e5c",
   "metadata": {},
   "outputs": [],
   "source": []
  }
 ],
 "metadata": {
  "kernelspec": {
   "display_name": "Python 3 (ipykernel)",
   "language": "python",
   "name": "python3"
  },
  "language_info": {
   "codemirror_mode": {
    "name": "ipython",
    "version": 3
   },
   "file_extension": ".py",
   "mimetype": "text/x-python",
   "name": "python",
   "nbconvert_exporter": "python",
   "pygments_lexer": "ipython3",
   "version": "3.7.8"
  }
 },
 "nbformat": 4,
 "nbformat_minor": 5
}

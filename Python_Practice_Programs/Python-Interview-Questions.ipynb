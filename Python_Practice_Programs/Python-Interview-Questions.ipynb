{
 "cells": [
  {
   "cell_type": "markdown",
   "id": "2569b2ce",
   "metadata": {},
   "source": [
    "### Python \n",
    "\n",
    "Python is an interpreted high-level general-purpose programming language. Its design philosophy emphasizes code readability with its use of significant indentation. Its language constructs as well as its object-oriented approach aim to help programmers write clear, logical code for small and large-scale projects.\n",
    "\n",
    "Python is dynamically-typed and garbage-collected. It supports multiple programming paradigms, including structured (particularly, procedural), object-oriented and functional programming. It is often described as a \"batteries included\" language due to its comprehensive standard library.\n",
    "\n",
    "Guido van Rossum began working on Python in the late 1980s, as a successor to the ABC programming language, and first released it in 1991 as Python 0.9.0.Python 2.0 was released in 2000 and introduced new features, such as list comprehensions and a cycle-detecting garbage collection system (in addition to reference counting). Python 3.0 was released in 2008 and was a major revision of the language that is not completely backward-compatible. Python 2 was discontinued with version 2.7.18 in 2020.\n",
    "\n",
    "\n",
    "https://en.wikipedia.org/wiki/Python_(programming_language)"
   ]
  },
  {
   "cell_type": "markdown",
   "id": "a142ee06",
   "metadata": {},
   "source": [
    "### A high-level language\n",
    "\n",
    "is one that is user-oriented in that it has been designed to make it straightforward for a programmer to convert an algorithm into program code. \n",
    "\n",
    "\n",
    "#### A low-level language \n",
    " is machine-oriented. Low-level programs are expressed in terms of the machine operations that must be performed to carry out a task."
   ]
  },
  {
   "cell_type": "markdown",
   "id": "0b400dd0",
   "metadata": {},
   "source": [
    "### What are the key features of Python?\n",
    "\n",
    "1. Python is an interpreted language. That means that, unlike languages like C and its variants, Python does not need to be compiled before it is run. Other interpreted languages include PHP and Ruby.\n",
    "\n",
    "\n",
    "2. Python is dynamically typed, this means that you don’t need to state the types of variables when you declare them or anything like that. You can do things like x=111 and then x=\"I'm a string\" without error\n",
    "\n",
    "\n",
    "3. Python is well suited to object orientated programming in that it allows the definition of classes along with composition and inheritance. Python does not have access specifiers (like C++’s public, private).\n",
    "\n",
    "\n",
    "4. In Python, functions are first-class objects. This means that they can be assigned to variables, returned from other functions and passed into functions. Classes are also first class objects\n",
    "\n",
    "\n",
    "5. Writing Python code is quick but running it is often slower than compiled languages. Fortunately ，Python allows the inclusion of C-based extensions so bottlenecks can be optimized away and often are. The numpy package is a good example of this, it’s really quite quick because a lot of the number-crunching it does isn’t actually done by Python\n",
    "\n",
    "\n",
    "6. Python finds use in many spheres – web applications, automation, scientific modeling, big data applications and many more. It’s also often used as “glue” code to get other languages and components to play nice."
   ]
  },
  {
   "cell_type": "markdown",
   "id": "6175d49a",
   "metadata": {},
   "source": [
    "1. -Interpreted\n",
    "\n",
    "2. Dynamically-typed\n",
    "\n",
    "3. Object-oriented\n",
    "\n",
    "4. Concise and simple\n",
    "\n",
    "5. Free\n",
    "\n",
    "6. Has a large community"
   ]
  },
  {
   "cell_type": "markdown",
   "id": "5a772399",
   "metadata": {},
   "source": [
    "### Differentiate between lists and tuples.\n",
    "\n",
    "The major difference is that a list is mutable, but a tuple is immutable. Examples:\n",
    "\n",
    " mylist=[1,3,3]\n",
    " \n",
    " mylist[1]=2\n",
    " \n",
    " mytuple=(1,3,3)\n",
    " \n",
    " mytuple[1]=2"
   ]
  },
  {
   "cell_type": "markdown",
   "id": "235b5f50",
   "metadata": {},
   "source": [
    "#### What is the PYTHONPATH variable?\n",
    "\n",
    "PYTHONPATH is the variable that tells the interpreter where to locate the module files imported into a program. Hence, it must include the Python source library directory and the directories containing Python source code. You can manually set PYTHONPATH, but usually, the Python installer will preset it."
   ]
  },
  {
   "cell_type": "markdown",
   "id": "b29be81a",
   "metadata": {},
   "source": [
    "#### When is the else part of a try-except block executed?\n",
    "\n",
    "In an if-else block, the else part is executed when the condition in the if-statement is False. But with a try-except block, the else part executes only if no exception is raised in the try part."
   ]
  },
  {
   "cell_type": "markdown",
   "id": "320d747f",
   "metadata": {},
   "source": [
    "### Explain lambda expressions. When would you use one?\n",
    "\n",
    "When we want a function with a single expression, we can define it anonymously. A lambda expression may take input and returns a value. To define the above function as a lambda expression, we type the following code in the interpreter:"
   ]
  },
  {
   "cell_type": "code",
   "execution_count": 59,
   "id": "970c52e2",
   "metadata": {},
   "outputs": [
    {
     "data": {
      "text/plain": [
       "3.5"
      ]
     },
     "execution_count": 59,
     "metadata": {},
     "output_type": "execute_result"
    }
   ],
   "source": [
    "(lambda a,b:a if a>b else b)(3,3.5)"
   ]
  },
  {
   "cell_type": "markdown",
   "id": "d9a8a5be",
   "metadata": {},
   "source": [
    "#### What is a generator?\n",
    "\n",
    "Python generator produces a sequence of values to iterate on. This way, it is kind of an iterable.\n",
    "We define a function that ‘yields’ values one by one, and then use a for loop to iterate on it."
   ]
  },
  {
   "cell_type": "code",
   "execution_count": 60,
   "id": "02d251f2",
   "metadata": {},
   "outputs": [],
   "source": [
    "def squares(n):\n",
    "    i=1\n",
    "    while(i<=n):\n",
    "        yield i**2\n",
    "        i+=1"
   ]
  },
  {
   "cell_type": "code",
   "execution_count": 61,
   "id": "d2acc382",
   "metadata": {},
   "outputs": [
    {
     "name": "stdout",
     "output_type": "stream",
     "text": [
      "1\n",
      "4\n",
      "9\n",
      "16\n",
      "25\n",
      "36\n",
      "49\n"
     ]
    }
   ],
   "source": [
    "for i in squares(7):\n",
    "    print(i)"
   ]
  },
  {
   "cell_type": "markdown",
   "id": "327189ad",
   "metadata": {},
   "source": [
    "### What is tuple unpacking?\n",
    "\n",
    "Suppose we have a tuple nums=(1,2,3). We can unpack its values into the variables a, b, and c. Here’s how:"
   ]
  },
  {
   "cell_type": "code",
   "execution_count": 67,
   "id": "ca34fab7",
   "metadata": {},
   "outputs": [
    {
     "data": {
      "text/plain": [
       "1"
      ]
     },
     "execution_count": 67,
     "metadata": {},
     "output_type": "execute_result"
    }
   ],
   "source": [
    "nums=(1,2,3)\n",
    "a,b,c=nums\n",
    "a"
   ]
  },
  {
   "cell_type": "markdown",
   "id": "79097444",
   "metadata": {},
   "source": [
    "#### So, what is an iterator, then?\n",
    "\n",
    "An iterator returns one object at a time to iterate on. To create an iterator, we use the iter() function."
   ]
  },
  {
   "cell_type": "code",
   "execution_count": 62,
   "id": "e9dc8472",
   "metadata": {},
   "outputs": [],
   "source": [
    "odds=iter([1,3,5,7,9])"
   ]
  },
  {
   "cell_type": "code",
   "execution_count": 63,
   "id": "7c9f4c9f",
   "metadata": {},
   "outputs": [
    {
     "data": {
      "text/plain": [
       "1"
      ]
     },
     "execution_count": 63,
     "metadata": {},
     "output_type": "execute_result"
    }
   ],
   "source": [
    "#Then, we call the next() function on it every time we want an object.\n",
    "\n",
    "next(odds)"
   ]
  },
  {
   "cell_type": "code",
   "execution_count": 64,
   "id": "a80a4757",
   "metadata": {},
   "outputs": [
    {
     "data": {
      "text/plain": [
       "3"
      ]
     },
     "execution_count": 64,
     "metadata": {},
     "output_type": "execute_result"
    }
   ],
   "source": [
    "next(odds)"
   ]
  },
  {
   "cell_type": "markdown",
   "id": "b8d21f73",
   "metadata": {},
   "source": [
    "#### What is a decorator?\n",
    "\n",
    "A decorator is a function that adds functionality to another function without modifying it. It wraps another function to add functionality to it. Take an example."
   ]
  },
  {
   "cell_type": "code",
   "execution_count": 65,
   "id": "13406a8f",
   "metadata": {},
   "outputs": [],
   "source": [
    "def decor(func):\n",
    "    \n",
    "    def wrap():\n",
    "        print(\"$$$$$$$$$$$$$$$$$\")\n",
    "        func()\n",
    "        print(\"$$$$$$$$$$$$$$$$$\")\n",
    "        \n",
    "    return wrap"
   ]
  },
  {
   "cell_type": "code",
   "execution_count": 66,
   "id": "c0cadd1f",
   "metadata": {},
   "outputs": [
    {
     "name": "stdout",
     "output_type": "stream",
     "text": [
      "$$$$$$$$$$$$$$$$$\n",
      "Hi\n",
      "$$$$$$$$$$$$$$$$$\n"
     ]
    }
   ],
   "source": [
    "@decor\n",
    "def sayhi():\n",
    "    print(\"Hi\")\n",
    "\n",
    "sayhi()"
   ]
  },
  {
   "cell_type": "markdown",
   "id": "8c69cdb6",
   "metadata": {},
   "source": [
    "### Explain a few methods to implement Functionally Oriented Programming in Python.\n",
    "\n",
    "Sometimes, when we want to iterate over a list, a few methods come in handy.\n",
    "\n",
    "#### a. filter()"
   ]
  },
  {
   "cell_type": "code",
   "execution_count": 28,
   "id": "2d4fa49b",
   "metadata": {},
   "outputs": [
    {
     "data": {
      "text/plain": [
       "[6, 7]"
      ]
     },
     "execution_count": 28,
     "metadata": {},
     "output_type": "execute_result"
    }
   ],
   "source": [
    "# Filter lets us filter in some values based on conditional logic.\n",
    "\n",
    "list(filter(lambda x:x>5,range(8)))"
   ]
  },
  {
   "cell_type": "markdown",
   "id": "743777be",
   "metadata": {},
   "source": [
    "#### b. map()\n",
    "\n",
    "Map applies a function to every element in an iterable."
   ]
  },
  {
   "cell_type": "code",
   "execution_count": 29,
   "id": "e476ae7f",
   "metadata": {},
   "outputs": [
    {
     "data": {
      "text/plain": [
       "[0, 1, 4, 9, 16, 25, 36, 49]"
      ]
     },
     "execution_count": 29,
     "metadata": {},
     "output_type": "execute_result"
    }
   ],
   "source": [
    "list(map(lambda x:x**2,range(8)))"
   ]
  },
  {
   "cell_type": "markdown",
   "id": "aba42331",
   "metadata": {},
   "source": [
    "#### c. reduce()\n",
    "\n",
    "Reduce repeatedly reduces a sequence pair-wise until we reach a single value."
   ]
  },
  {
   "cell_type": "code",
   "execution_count": 30,
   "id": "f423dae9",
   "metadata": {},
   "outputs": [
    {
     "data": {
      "text/plain": [
       "-13"
      ]
     },
     "execution_count": 30,
     "metadata": {},
     "output_type": "execute_result"
    }
   ],
   "source": [
    "from functools import reduce\n",
    "\n",
    "reduce(lambda x,y:x-y,[1,2,3,4,5])"
   ]
  },
  {
   "cell_type": "code",
   "execution_count": 37,
   "id": "525deac8",
   "metadata": {},
   "outputs": [
    {
     "name": "stdout",
     "output_type": "stream",
     "text": [
      "2\n"
     ]
    }
   ],
   "source": [
    "x=[\"ab\", \"cd\"]\n",
    "\n",
    "print(len(list(map(list,x))))"
   ]
  },
  {
   "cell_type": "code",
   "execution_count": 38,
   "id": "912022d7",
   "metadata": {},
   "outputs": [
    {
     "name": "stdout",
     "output_type": "stream",
     "text": [
      "[['a', 'b'], ['c', 'd']]\n"
     ]
    }
   ],
   "source": [
    "print(list(map(list,x)))"
   ]
  },
  {
   "cell_type": "markdown",
   "id": "520dd707",
   "metadata": {},
   "source": [
    "#### Is del the same as remove()? What are they?\n",
    "\n",
    "del and remove() are methods on lists/ ways to eliminate elements."
   ]
  },
  {
   "cell_type": "code",
   "execution_count": 40,
   "id": "2cc34834",
   "metadata": {},
   "outputs": [
    {
     "data": {
      "text/plain": [
       "[3, 4, 5, 7]"
      ]
     },
     "execution_count": 40,
     "metadata": {},
     "output_type": "execute_result"
    }
   ],
   "source": [
    "list1=[3,4,5,6,7]\n",
    "del list1[3]\n",
    "list1"
   ]
  },
  {
   "cell_type": "code",
   "execution_count": 42,
   "id": "1f69d346",
   "metadata": {},
   "outputs": [
    {
     "data": {
      "text/plain": [
       "[3, 4, 7]"
      ]
     },
     "execution_count": 42,
     "metadata": {},
     "output_type": "execute_result"
    }
   ],
   "source": [
    "list1.remove(5)\n",
    "list1"
   ]
  },
  {
   "cell_type": "markdown",
   "id": "e548a2d3",
   "metadata": {},
   "source": [
    "While del lets us delete an element at a certain index, remove() lets us remove an element by its value."
   ]
  },
  {
   "cell_type": "markdown",
   "id": "f0475785",
   "metadata": {},
   "source": [
    "### How do you open a file for writing?\n",
    "\n",
    "Let’s create a text file on our Desktop and call it tabs.txt. To open it to be able to write to it, use the following line of code-"
   ]
  },
  {
   "cell_type": "code",
   "execution_count": 44,
   "id": "6e4b8a32",
   "metadata": {},
   "outputs": [],
   "source": [
    "file=open('tabs.txt','w')"
   ]
  },
  {
   "cell_type": "code",
   "execution_count": 45,
   "id": "c2518d03",
   "metadata": {},
   "outputs": [],
   "source": [
    "#This opens the file in writing mode. You should close it once you’re done.\n",
    "\n",
    "file.close()"
   ]
  },
  {
   "cell_type": "markdown",
   "id": "91928f1b",
   "metadata": {},
   "source": [
    "### Differentiate between the append() and extend() methods of a list.\n",
    "\n",
    "The methods append() and extend() work on lists. While append() adds an element to the end of the list, extend adds another list to the end of a list.\n",
    "\n",
    "Let’s take two lists."
   ]
  },
  {
   "cell_type": "code",
   "execution_count": 46,
   "id": "8a3d7484",
   "metadata": {},
   "outputs": [],
   "source": [
    "list1,list2=[1,2,3],[5,6,7,8]"
   ]
  },
  {
   "cell_type": "code",
   "execution_count": 47,
   "id": "b8c301e1",
   "metadata": {},
   "outputs": [
    {
     "data": {
      "text/plain": [
       "[1, 2, 3, 4]"
      ]
     },
     "execution_count": 47,
     "metadata": {},
     "output_type": "execute_result"
    }
   ],
   "source": [
    "##This is how append() works:\n",
    "\n",
    "list1.append(4)\n",
    "list1"
   ]
  },
  {
   "cell_type": "code",
   "execution_count": 48,
   "id": "7658ee8e",
   "metadata": {},
   "outputs": [
    {
     "data": {
      "text/plain": [
       "[1, 2, 3, 4, 5, 6, 7, 8]"
      ]
     },
     "execution_count": 48,
     "metadata": {},
     "output_type": "execute_result"
    }
   ],
   "source": [
    "# And this is how extend() works:\n",
    "\n",
    "list1.extend(list2)\n",
    "list1"
   ]
  },
  {
   "cell_type": "markdown",
   "id": "58801021",
   "metadata": {},
   "source": [
    "#### What does the map() function do?\n",
    "\n",
    "map() executes the function we pass to it as the first argument; it does so on all elements of the iterable in the second argument. Let’s take an example, shall we?"
   ]
  },
  {
   "cell_type": "code",
   "execution_count": 51,
   "id": "e1fa81b7",
   "metadata": {},
   "outputs": [
    {
     "name": "stdout",
     "output_type": "stream",
     "text": [
      "8\n",
      "27\n",
      "343\n"
     ]
    }
   ],
   "source": [
    "for i in map(lambda i:i**3, (2,3,7)):\n",
    "                  print(i)"
   ]
  },
  {
   "cell_type": "markdown",
   "id": "63e081af",
   "metadata": {},
   "source": [
    "#### How do you remove the leading whitespace in a string?\n",
    "\n",
    "Leading whitespace in a string is the whitespace in a string before the first non-whitespace character. To remove it from a string, we use the method lstrip()."
   ]
  },
  {
   "cell_type": "code",
   "execution_count": 52,
   "id": "8b1d7374",
   "metadata": {},
   "outputs": [
    {
     "data": {
      "text/plain": [
       "'Ayushi '"
      ]
     },
     "execution_count": 52,
     "metadata": {},
     "output_type": "execute_result"
    }
   ],
   "source": [
    "' Ayushi '.lstrip()"
   ]
  },
  {
   "cell_type": "code",
   "execution_count": 53,
   "id": "f7106d91",
   "metadata": {},
   "outputs": [
    {
     "data": {
      "text/plain": [
       "'Ayushi'"
      ]
     },
     "execution_count": 53,
     "metadata": {},
     "output_type": "execute_result"
    }
   ],
   "source": [
    "' Ayushi '.strip()"
   ]
  },
  {
   "cell_type": "code",
   "execution_count": 54,
   "id": "b9968e05",
   "metadata": {},
   "outputs": [
    {
     "data": {
      "text/plain": [
       "' Ayushi'"
      ]
     },
     "execution_count": 54,
     "metadata": {},
     "output_type": "execute_result"
    }
   ],
   "source": [
    "' Ayushi '.rstrip()"
   ]
  },
  {
   "cell_type": "markdown",
   "id": "ab100cf7",
   "metadata": {},
   "source": [
    "#### What is the enumerate() function in Python?\n",
    "\n",
    "enumerate() iterates through a sequence and extracts the index position and its corresponding value too.\n",
    "\n",
    "Let’s take an example."
   ]
  },
  {
   "cell_type": "code",
   "execution_count": 55,
   "id": "acbf075a",
   "metadata": {},
   "outputs": [
    {
     "name": "stdout",
     "output_type": "stream",
     "text": [
      "0 Python\n",
      "1 C++\n",
      "2 Scala\n"
     ]
    }
   ],
   "source": [
    "for i,v in enumerate(['Python','C++','Scala']):\n",
    "    print(i,v)"
   ]
  },
  {
   "cell_type": "code",
   "execution_count": 56,
   "id": "cbb5e86a",
   "metadata": {},
   "outputs": [
    {
     "name": "stdout",
     "output_type": "stream",
     "text": [
      "1 Python\n",
      "2 C++\n",
      "3 Scala\n"
     ]
    }
   ],
   "source": [
    "for i,v in enumerate(['Python','C++','Scala'], start= 1):\n",
    "    print(i,v)"
   ]
  },
  {
   "cell_type": "markdown",
   "id": "0d5359a0",
   "metadata": {},
   "source": [
    "### How will you create the following pattern using Python?"
   ]
  },
  {
   "cell_type": "code",
   "execution_count": 58,
   "id": "c958e29c",
   "metadata": {},
   "outputs": [
    {
     "name": "stdout",
     "output_type": "stream",
     "text": [
      "*\n",
      "**\n",
      "***\n",
      "****\n",
      "*****\n"
     ]
    }
   ],
   "source": [
    "for i in range(1,6):\n",
    "    for j in range(1,i+1):\n",
    "        \n",
    "        print('*',end='')\n",
    "    print()"
   ]
  },
  {
   "cell_type": "markdown",
   "id": "23578b0b",
   "metadata": {},
   "source": [
    "#### Differentiate between deep and shallow copy.\n",
    "\n",
    "python basic interview questions\n",
    "\n",
    "A deep copy copies an object into another. This means that if you make a change to a copy of an object, it won’t affect the original object. In Python, we use the function deepcopy() for this, and we import the module copy. We use it like:\n",
    "\n",
    "import copy\n",
    "\n",
    "b=copy.deepcopy(a)\n",
    "\n",
    "A shallow copy, however, copies one object’s reference to another. So, if we make a change in the copy, it will affect the original object. For this, we have the function copy(). We use it like:\n",
    "\n",
    " b=copy.copy(a)"
   ]
  },
  {
   "cell_type": "markdown",
   "id": "f3f03e13",
   "metadata": {},
   "source": [
    "### Explain the ternary operator in Python.\n",
    "\n",
    "Ternary operators are also known as conditional expressions are operators that evaluate something based on a condition being true or false. It was added to Python in version 2.5. \n",
    "It simply allows testing a condition in a single line replacing the multiline if-else making the code compact."
   ]
  },
  {
   "cell_type": "code",
   "execution_count": 1,
   "id": "9ec954af",
   "metadata": {},
   "outputs": [
    {
     "name": "stdout",
     "output_type": "stream",
     "text": [
      "10\n"
     ]
    }
   ],
   "source": [
    "# Program to demonstrate conditional operator\n",
    "a, b = 10, 20\n",
    " \n",
    "# Copy value of a in min if a < b else copy b\n",
    "min = a if a < b else b\n",
    " \n",
    "print(min)"
   ]
  },
  {
   "cell_type": "code",
   "execution_count": 2,
   "id": "38aafebb",
   "metadata": {},
   "outputs": [
    {
     "name": "stdout",
     "output_type": "stream",
     "text": [
      "10\n",
      "10\n",
      "10\n"
     ]
    }
   ],
   "source": [
    "# Python program to demonstrate ternary operator\n",
    "a, b = 10, 20\n",
    " \n",
    "# Use tuple for selecting an item\n",
    "# (if_test_false,if_test_true)[test]\n",
    "# if [a<b] is true it return 1, so element with 1 index will print\n",
    "# else if [a<b] is false it return 0, so element with 0 index will print\n",
    "print( (b, a) [a < b] )\n",
    " \n",
    "# Use Dictionary for selecting an item\n",
    "# if [a < b] is true then value of True key will print\n",
    "# elif [a<b] is false then value of False key will print\n",
    "print({True: a, False: b} [a < b])\n",
    " \n",
    "# lamda is more efficient than above two methods\n",
    "# because in lambda  we are assure that\n",
    "# only one expression will be evaluated unlike in\n",
    "# tuple and Dictionary\n",
    "print((lambda: b, lambda: a)[a < b]())"
   ]
  },
  {
   "cell_type": "markdown",
   "id": "6501f1cc",
   "metadata": {},
   "source": [
    "#### Is Python case-sensitive?\n",
    "\n",
    "A language is case-sensitive if it distinguishes between identifiers like myname and Myname. In other words, it cares about case- lowercase or uppercase. Let’s try this with Python."
   ]
  },
  {
   "cell_type": "code",
   "execution_count": 3,
   "id": "e1815b9a",
   "metadata": {},
   "outputs": [
    {
     "ename": "NameError",
     "evalue": "name 'Myname' is not defined",
     "output_type": "error",
     "traceback": [
      "\u001b[1;31m---------------------------------------------------------------------------\u001b[0m",
      "\u001b[1;31mNameError\u001b[0m                                 Traceback (most recent call last)",
      "\u001b[1;32m~\\AppData\\Local\\Temp/ipykernel_9800/4263030725.py\u001b[0m in \u001b[0;36m<module>\u001b[1;34m\u001b[0m\n\u001b[0;32m      1\u001b[0m \u001b[0mmyname\u001b[0m\u001b[1;33m=\u001b[0m\u001b[1;34m'Ayushi'\u001b[0m\u001b[1;33m\u001b[0m\u001b[1;33m\u001b[0m\u001b[0m\n\u001b[1;32m----> 2\u001b[1;33m \u001b[0mMyname\u001b[0m\u001b[1;33m\u001b[0m\u001b[1;33m\u001b[0m\u001b[0m\n\u001b[0m",
      "\u001b[1;31mNameError\u001b[0m: name 'Myname' is not defined"
     ]
    }
   ],
   "source": [
    "myname='Ayushi'\n",
    "Myname"
   ]
  },
  {
   "cell_type": "code",
   "execution_count": 4,
   "id": "42b59989",
   "metadata": {},
   "outputs": [
    {
     "data": {
      "text/plain": [
       "'Ayushi'"
      ]
     },
     "execution_count": 4,
     "metadata": {},
     "output_type": "execute_result"
    }
   ],
   "source": [
    "myname"
   ]
  },
  {
   "cell_type": "markdown",
   "id": "a1a7ae0f",
   "metadata": {},
   "source": [
    "#### What is Python good for?\n",
    "\n",
    "Python is a jack of many trades, check out Applications of Python to find out more.\n",
    "\n",
    "Meanwhile, we’ll say we can use it for:\n",
    "\n",
    "Web and Internet Development\n",
    "\n",
    "Desktop GUI\n",
    "\n",
    "Scientific and Numeric Applications\n",
    "\n",
    "Software Development Applications\n",
    "\n",
    "Applications in Education\n",
    "\n",
    "Applications in Business\n",
    "\n",
    "Database Access\n",
    "\n",
    "Network Programming\n",
    "\n",
    "Games, 3D Graphics\n",
    "\n",
    "Other Python Applications"
   ]
  },
  {
   "cell_type": "markdown",
   "id": "44ec8c6d",
   "metadata": {},
   "source": [
    "#### Operators\n",
    "\n",
    "are used to perform operations on values and variables. These are the special symbols that carry out arithmetic and logical computations. The value the operator operates on is known as Operand.\n",
    "\n",
    "#### Bitwise operators\n",
    "In Python, bitwise operators are used to performing bitwise calculations on integers. The integers are first converted into binary and then operations are performed on bit by bit, hence the name bitwise operators. Then the result is returned in decimal format.\n",
    "\n",
    "`Note:` Python bitwise operators work only on integers.\n",
    "\n",
    "`OPERATOR\tDESCRIPTION\tSYNTAX\n",
    "\n",
    "&\tBitwise AND\tx & y\n",
    "\n",
    "|\tBitwise OR\tx | y\n",
    "\n",
    "~\tBitwise NOT\t~x\n",
    "\n",
    "^\tBitwise XOR\tx ^ y`\n",
    "\n",
    "**>>\tBitwise right shift\tx>>**\n",
    "\n",
    "**<<\tBitwise left shift\tx<<**"
   ]
  },
  {
   "cell_type": "code",
   "execution_count": 6,
   "id": "06915cd6",
   "metadata": {},
   "outputs": [
    {
     "name": "stdout",
     "output_type": "stream",
     "text": [
      "a & b = 0\n",
      "a | b = 14\n",
      "~a = -11\n",
      "a ^ b = 14\n"
     ]
    }
   ],
   "source": [
    "# Python program to show\n",
    "# bitwise operators\n",
    " \n",
    "a = 10\n",
    "b = 4\n",
    " \n",
    "# Print bitwise AND operation\n",
    "print(\"a & b =\", a & b)\n",
    " \n",
    "# Print bitwise OR operation\n",
    "print(\"a | b =\", a | b)\n",
    " \n",
    "# Print bitwise NOT operation\n",
    "print(\"~a =\", ~a)\n",
    " \n",
    "# print bitwise XOR operation\n",
    "print(\"a ^ b =\", a ^ b)"
   ]
  },
  {
   "cell_type": "markdown",
   "id": "c75590e1",
   "metadata": {},
   "source": [
    "#### Shift Operators\n",
    "These operators are used to shift the bits of a number left or right thereby multiplying or dividing the number by two respectively. They can be used when we have to multiply or divide a number by two. \n",
    "Bitwise right shift: Shifts the bits of the number to the right and fills 0 on voids left( fills 1 in the case of a negative number) as a result. Similar effect as of dividing the number with some power of two."
   ]
  },
  {
   "cell_type": "code",
   "execution_count": 7,
   "id": "4c3e3b03",
   "metadata": {},
   "outputs": [
    {
     "name": "stdout",
     "output_type": "stream",
     "text": [
      "a >> 1 = 5\n",
      "b >> 1 = -5\n",
      "a << 1 = 10\n",
      "b << 1 = -20\n"
     ]
    }
   ],
   "source": [
    "# Python program to show\n",
    "# shift operators\n",
    " \n",
    "a = 10\n",
    "b = -10\n",
    " \n",
    "# print bitwise right shift operator\n",
    "print(\"a >> 1 =\", a >> 1)\n",
    "print(\"b >> 1 =\", b >> 1)\n",
    " \n",
    "a = 5\n",
    "b = -10\n",
    " \n",
    "# print bitwise left shift operator\n",
    "print(\"a << 1 =\", a << 1)\n",
    "print(\"b << 1 =\", b << 1)"
   ]
  },
  {
   "cell_type": "markdown",
   "id": "6657eb62",
   "metadata": {},
   "source": [
    "#### Bitwise Operator Overloading\n",
    "Operator Overloading means giving extended meaning beyond their predefined operational meaning. For example operator + is used to add two integers as well as join two strings and merge two lists. It is achievable because the ‘+’ operator is overloaded by int class and str class. You might have noticed that the same built-in operator or function shows different behavior for objects of different classes, this is called Operator Overloading.\n",
    "Below is a simple example of Bitwise operator overloading."
   ]
  },
  {
   "cell_type": "code",
   "execution_count": 8,
   "id": "3c0f0749",
   "metadata": {},
   "outputs": [
    {
     "name": "stdout",
     "output_type": "stream",
     "text": [
      "And operator overloaded\n",
      "8\n",
      "Or operator overloaded\n",
      "14\n",
      "Xor operator overloaded\n",
      "6\n",
      "lshift operator overloaded\n",
      "40960\n",
      "rshift operator overloaded\n",
      "8\n",
      "Invert operator overloaded\n",
      "-11\n"
     ]
    }
   ],
   "source": [
    "# Python program to demonstrate\n",
    "# operator overloading\n",
    " \n",
    " \n",
    "class Geek():\n",
    "    def __init__(self, value):\n",
    "        self.value = value\n",
    " \n",
    "    def __and__(self, obj):\n",
    "        print(\"And operator overloaded\")\n",
    "        if isinstance(obj, Geek):\n",
    "            return self.value & obj.value\n",
    "        else:\n",
    "            raise ValueError(\"Must be a object of class Geek\")\n",
    " \n",
    "    def __or__(self, obj):\n",
    "        print(\"Or operator overloaded\")\n",
    "        if isinstance(obj, Geek):\n",
    "            return self.value | obj.value\n",
    "        else:\n",
    "            raise ValueError(\"Must be a object of class Geek\")\n",
    " \n",
    "    def __xor__(self, obj):\n",
    "        print(\"Xor operator overloaded\")\n",
    "        if isinstance(obj, Geek):\n",
    "            return self.value ^ obj.value\n",
    "        else:\n",
    "            raise ValueError(\"Must be a object of class Geek\")\n",
    " \n",
    "    def __lshift__(self, obj):\n",
    "        print(\"lshift operator overloaded\")\n",
    "        if isinstance(obj, Geek):\n",
    "            return self.value << obj.value\n",
    "        else:\n",
    "            raise ValueError(\"Must be a object of class Geek\")\n",
    " \n",
    "    def __rshift__(self, obj):\n",
    "        print(\"rshift operator overloaded\")\n",
    "        if isinstance(obj, Geek):\n",
    "            return self.value & obj.value\n",
    "        else:\n",
    "            raise ValueError(\"Must be a object of class Geek\")\n",
    " \n",
    "    def __invert__(self):\n",
    "        print(\"Invert operator overloaded\")\n",
    "        return ~self.value\n",
    " \n",
    " \n",
    "# Driver's code\n",
    "if __name__ == \"__main__\":\n",
    "    a = Geek(10)\n",
    "    b = Geek(12)\n",
    "    print(a & b)\n",
    "    print(a | b)\n",
    "    print(a ^ b)\n",
    "    print(a << b)\n",
    "    print(a >> b)\n",
    "    print(~a)"
   ]
  },
  {
   "cell_type": "markdown",
   "id": "ebca9e54",
   "metadata": {},
   "source": [
    "#### What is a docstring?\n",
    "\n",
    "A docstring is a documentation string that we use to explain what a construct does. We place it as the first thing under a function, class, or a method, to describe what it does. We declare a docstring using three sets of single or double-quotes."
   ]
  },
  {
   "cell_type": "code",
   "execution_count": 10,
   "id": "b2257363",
   "metadata": {},
   "outputs": [
    {
     "name": "stdout",
     "output_type": "stream",
     "text": [
      "Hi\n"
     ]
    }
   ],
   "source": [
    "def sayhi():\n",
    "    \"\"\"\n",
    "The function prints Hi\n",
    "   \"\"\"\n",
    "print(\"Hi\")\n",
    "sayhi()"
   ]
  },
  {
   "cell_type": "code",
   "execution_count": 11,
   "id": "85aa86e1",
   "metadata": {},
   "outputs": [
    {
     "data": {
      "text/plain": [
       "'\\nThe function prints Hi\\n   '"
      ]
     },
     "execution_count": 11,
     "metadata": {},
     "output_type": "execute_result"
    }
   ],
   "source": [
    "sayhi.__doc__"
   ]
  },
  {
   "cell_type": "markdown",
   "id": "5b049200",
   "metadata": {},
   "source": [
    "#### What does the function zip() do?\n",
    "\n",
    "One of the less common functions with beginners, zip() returns an iterator of tuples."
   ]
  },
  {
   "cell_type": "code",
   "execution_count": 18,
   "id": "b7b18f30",
   "metadata": {},
   "outputs": [
    {
     "data": {
      "text/plain": [
       "[('a', 1), ('b', 2), ('c', 3)]"
      ]
     },
     "execution_count": 18,
     "metadata": {},
     "output_type": "execute_result"
    }
   ],
   "source": [
    "list(zip(['a','b','c'],[1,2,3]))"
   ]
  },
  {
   "cell_type": "markdown",
   "id": "6ad2e55b",
   "metadata": {},
   "source": [
    "Here, it pairs items from the two lists and creates tuples with those. But it doesn’t have to be lists."
   ]
  },
  {
   "cell_type": "code",
   "execution_count": 19,
   "id": "0eba5101",
   "metadata": {},
   "outputs": [
    {
     "data": {
      "text/plain": [
       "[('a', 1), ('b', 2), ('c', 3)]"
      ]
     },
     "execution_count": 19,
     "metadata": {},
     "output_type": "execute_result"
    }
   ],
   "source": [
    "list(zip(('a','b','c'),(1,2,3)))"
   ]
  },
  {
   "cell_type": "markdown",
   "id": "689f12f9",
   "metadata": {},
   "source": [
    "#### Explain Python List Comprehension.\n",
    "\n",
    "The list comprehension in python is a way to declare a list in one line of code. Let’s take a look at one such example."
   ]
  },
  {
   "cell_type": "code",
   "execution_count": 22,
   "id": "ce576718",
   "metadata": {},
   "outputs": [
    {
     "data": {
      "text/plain": [
       "[1, 3, 5, 7, 9]"
      ]
     },
     "execution_count": 22,
     "metadata": {},
     "output_type": "execute_result"
    }
   ],
   "source": [
    "[i for i in range(1,11,2)]"
   ]
  },
  {
   "cell_type": "code",
   "execution_count": 21,
   "id": "d5cc2a0f",
   "metadata": {},
   "outputs": [
    {
     "data": {
      "text/plain": [
       "[2, 6, 10, 14, 18]"
      ]
     },
     "execution_count": 21,
     "metadata": {},
     "output_type": "execute_result"
    }
   ],
   "source": [
    "[i*2 for i in range(1,11,2)]"
   ]
  },
  {
   "cell_type": "markdown",
   "id": "56ba334b",
   "metadata": {},
   "source": [
    "Let’s apply some concepts now, shall we?  assume the string ‘I love Python’. You need to do the needful."
   ]
  },
  {
   "cell_type": "markdown",
   "id": "01f52e14",
   "metadata": {},
   "source": [
    "#### Write code to print only upto the letter t."
   ]
  },
  {
   "cell_type": "code",
   "execution_count": 25,
   "id": "bd284ec7",
   "metadata": {},
   "outputs": [
    {
     "name": "stdout",
     "output_type": "stream",
     "text": [
      "I   L o v e   P y "
     ]
    }
   ],
   "source": [
    "#### Write code to print only upto the letter t.\n",
    "s  = \"I Love Python\"\n",
    "i=0\n",
    "while s[i]!='t':\n",
    "    print(s[i],end=\" \")\n",
    "    \n",
    "    i+=1\n"
   ]
  },
  {
   "cell_type": "markdown",
   "id": "1d9eac82",
   "metadata": {},
   "source": [
    "#### Write code to print everything in the string except the spaces."
   ]
  },
  {
   "cell_type": "code",
   "execution_count": 26,
   "id": "f81a66b1",
   "metadata": {},
   "outputs": [
    {
     "name": "stdout",
     "output_type": "stream",
     "text": [
      "ILovePython"
     ]
    }
   ],
   "source": [
    "for i in s:\n",
    "    if i==' ': \n",
    "        continue\n",
    "    print(i,end='')"
   ]
  },
  {
   "cell_type": "code",
   "execution_count": 27,
   "id": "7f164fa5",
   "metadata": {},
   "outputs": [
    {
     "name": "stdout",
     "output_type": "stream",
     "text": [
      "I Love Python\n",
      "I Love Python\n",
      "I Love Python\n",
      "I Love Python\n",
      "I Love Python\n",
      "I Love Python\n"
     ]
    }
   ],
   "source": [
    "### Now, print this string five times in a row.\n",
    "\n",
    "for i in range(6):\n",
    "    print(s)"
   ]
  },
  {
   "cell_type": "markdown",
   "id": "979c41f0",
   "metadata": {},
   "source": [
    "### What is a control flow statement?\n",
    "\n",
    "A Python program usually starts to execute from the first line. From there, it moves through each statement just once and as soon as it’s done with the last statement, it transactions the program. However, sometimes, we may want to take a more twisted path through the code. Control flow statements let us disturb the normal execution flow of a program and bend it to our will."
   ]
  },
  {
   "cell_type": "markdown",
   "id": "c0663a8d",
   "metadata": {},
   "source": [
    "#### What makes Python object-oriented?\n",
    "\n",
    "Again the frequently asked Python Interview Question\n",
    "\n",
    "Python is object-oriented because it follows the Object-Oriented programming paradigm. This is a paradigm that revolves around classes and their instances (objects). With this kind of programming, we have the following features:\n",
    "\n",
    "Encapsulation\n",
    "\n",
    "Abstraction\n",
    "\n",
    "Inheritance\n",
    "\n",
    "Polymorphism\n",
    "\n",
    "Data hiding"
   ]
  },
  {
   "cell_type": "markdown",
   "id": "d49f10bc",
   "metadata": {},
   "source": [
    "#### How is a .pyc file different from a .py file?\n",
    "\n",
    "While both files hold bytecode, .pyc is the compiled version of a Python file. It has platform-independent bytecode. Hence, we can execute it on any platform that supports the .pyc format. Python automatically generates it to improve performance(in terms of load time, not speed)."
   ]
  },
  {
   "cell_type": "markdown",
   "id": "94f784cb",
   "metadata": {},
   "source": [
    "###  What is pickling and unpickling?\n",
    "Ans: Pickle module accepts any Python object and converts it into a string representation and dumps it into a file by using dump function, this process is called pickling. While the process of retrieving original Python objects from the stored string representation is called unpickling."
   ]
  },
  {
   "cell_type": "code",
   "execution_count": 2,
   "id": "193dd70e",
   "metadata": {},
   "outputs": [
    {
     "name": "stdout",
     "output_type": "stream",
     "text": [
      "WRITING: pickle (elkcip)\n"
     ]
    },
    {
     "ename": "TypeError",
     "evalue": "string argument expected, got 'bytes'",
     "output_type": "error",
     "traceback": [
      "\u001b[1;31m---------------------------------------------------------------------------\u001b[0m",
      "\u001b[1;31mTypeError\u001b[0m                                 Traceback (most recent call last)",
      "\u001b[1;32m~\\AppData\\Local\\Temp/ipykernel_10512/290438309.py\u001b[0m in \u001b[0;36m<module>\u001b[1;34m\u001b[0m\n\u001b[0;32m     24\u001b[0m \u001b[1;32mfor\u001b[0m \u001b[0mo\u001b[0m \u001b[1;32min\u001b[0m \u001b[0mdata\u001b[0m\u001b[1;33m:\u001b[0m\u001b[1;33m\u001b[0m\u001b[1;33m\u001b[0m\u001b[0m\n\u001b[0;32m     25\u001b[0m     \u001b[0mprint\u001b[0m \u001b[1;33m(\u001b[0m\u001b[1;34m'WRITING: %s (%s)'\u001b[0m \u001b[1;33m%\u001b[0m \u001b[1;33m(\u001b[0m\u001b[0mo\u001b[0m\u001b[1;33m.\u001b[0m\u001b[0mname\u001b[0m\u001b[1;33m,\u001b[0m \u001b[0mo\u001b[0m\u001b[1;33m.\u001b[0m\u001b[0mname_backwards\u001b[0m\u001b[1;33m)\u001b[0m\u001b[1;33m)\u001b[0m\u001b[1;33m\u001b[0m\u001b[1;33m\u001b[0m\u001b[0m\n\u001b[1;32m---> 26\u001b[1;33m     \u001b[0mpickle\u001b[0m\u001b[1;33m.\u001b[0m\u001b[0mdump\u001b[0m\u001b[1;33m(\u001b[0m\u001b[0mo\u001b[0m\u001b[1;33m,\u001b[0m \u001b[0mout_s\u001b[0m\u001b[1;33m)\u001b[0m\u001b[1;33m\u001b[0m\u001b[1;33m\u001b[0m\u001b[0m\n\u001b[0m\u001b[0;32m     27\u001b[0m     \u001b[0mout_s\u001b[0m\u001b[1;33m.\u001b[0m\u001b[0mflush\u001b[0m\u001b[1;33m(\u001b[0m\u001b[1;33m)\u001b[0m\u001b[1;33m\u001b[0m\u001b[1;33m\u001b[0m\u001b[0m\n",
      "\u001b[1;31mTypeError\u001b[0m: string argument expected, got 'bytes'"
     ]
    }
   ],
   "source": [
    "# Python program to illustrate\n",
    "# pickle.dump()\n",
    "import pickle\n",
    "import io\n",
    " \n",
    "class SimpleObject(object):\n",
    " \n",
    "    def __init__(self, name):\n",
    "        self.name = name\n",
    "        l = list(name)\n",
    "        l.reverse()\n",
    "        self.name_backwards = ''.join(l)\n",
    "        return\n",
    "    \n",
    "data = []\n",
    "data.append(SimpleObject('pickle'))\n",
    "data.append(SimpleObject('cPickle'))\n",
    "data.append(SimpleObject('last'))\n",
    " \n",
    "# Simulate a file with StringIO\n",
    "out_s = io.StringIO()\n",
    " \n",
    "# Write to the stream\n",
    "for o in data:\n",
    "    print ('WRITING: %s (%s)' % (o.name, o.name_backwards))\n",
    "    pickle.dump(o, out_s)\n",
    "    out_s.flush()"
   ]
  },
  {
   "cell_type": "code",
   "execution_count": 3,
   "id": "b1c76bbb",
   "metadata": {},
   "outputs": [
    {
     "name": "stdout",
     "output_type": "stream",
     "text": [
      "PICKLE: b'\\x80\\x03]q\\x00}q\\x01(X\\x01\\x00\\x00\\x00aq\\x02X\\x01\\x00\\x00\\x00Aq\\x03X\\x01\\x00\\x00\\x00bq\\x04K\\x02X\\x01\\x00\\x00\\x00cq\\x05G@\\x08\\x00\\x00\\x00\\x00\\x00\\x00ua.'\n"
     ]
    }
   ],
   "source": [
    "# Python program to illustrate\n",
    "#Picle.dumps()\n",
    "import pickle\n",
    " \n",
    "data = [ { 'a':'A', 'b':2, 'c':3.0 } ]\n",
    "data_string = pickle.dumps(data)\n",
    "print ('PICKLE:', data_string )"
   ]
  },
  {
   "cell_type": "code",
   "execution_count": 4,
   "id": "093efdac",
   "metadata": {},
   "outputs": [
    {
     "name": "stdout",
     "output_type": "stream",
     "text": [
      "WRITING: pickle (elkcip)\n"
     ]
    },
    {
     "ename": "TypeError",
     "evalue": "string argument expected, got 'bytes'",
     "output_type": "error",
     "traceback": [
      "\u001b[1;31m---------------------------------------------------------------------------\u001b[0m",
      "\u001b[1;31mTypeError\u001b[0m                                 Traceback (most recent call last)",
      "\u001b[1;32m~\\AppData\\Local\\Temp/ipykernel_10512/1566852210.py\u001b[0m in \u001b[0;36m<module>\u001b[1;34m\u001b[0m\n\u001b[0;32m     25\u001b[0m \u001b[1;32mfor\u001b[0m \u001b[0mo\u001b[0m \u001b[1;32min\u001b[0m \u001b[0mdata\u001b[0m\u001b[1;33m:\u001b[0m\u001b[1;33m\u001b[0m\u001b[1;33m\u001b[0m\u001b[0m\n\u001b[0;32m     26\u001b[0m     \u001b[0mprint\u001b[0m \u001b[1;33m(\u001b[0m\u001b[1;34m'WRITING: %s (%s)'\u001b[0m \u001b[1;33m%\u001b[0m \u001b[1;33m(\u001b[0m\u001b[0mo\u001b[0m\u001b[1;33m.\u001b[0m\u001b[0mname\u001b[0m\u001b[1;33m,\u001b[0m \u001b[0mo\u001b[0m\u001b[1;33m.\u001b[0m\u001b[0mname_backwards\u001b[0m\u001b[1;33m)\u001b[0m\u001b[1;33m)\u001b[0m\u001b[1;33m\u001b[0m\u001b[1;33m\u001b[0m\u001b[0m\n\u001b[1;32m---> 27\u001b[1;33m     \u001b[0mpickle\u001b[0m\u001b[1;33m.\u001b[0m\u001b[0mdump\u001b[0m\u001b[1;33m(\u001b[0m\u001b[0mo\u001b[0m\u001b[1;33m,\u001b[0m \u001b[0mout_s\u001b[0m\u001b[1;33m)\u001b[0m\u001b[1;33m\u001b[0m\u001b[1;33m\u001b[0m\u001b[0m\n\u001b[0m\u001b[0;32m     28\u001b[0m     \u001b[0mout_s\u001b[0m\u001b[1;33m.\u001b[0m\u001b[0mflush\u001b[0m\u001b[1;33m(\u001b[0m\u001b[1;33m)\u001b[0m\u001b[1;33m\u001b[0m\u001b[1;33m\u001b[0m\u001b[0m\n\u001b[0;32m     29\u001b[0m \u001b[1;33m\u001b[0m\u001b[0m\n",
      "\u001b[1;31mTypeError\u001b[0m: string argument expected, got 'bytes'"
     ]
    }
   ],
   "source": [
    "# Python program to illustrate\n",
    "# pickle.load()\n",
    "import pickle\n",
    "import io\n",
    " \n",
    "class SimpleObject(object):\n",
    " \n",
    "    def __init__(self, name):\n",
    "        self.name = name\n",
    "        l = list(name)\n",
    "        l.reverse()\n",
    "        self.name_backwards = ''.join(l)\n",
    "        return\n",
    " \n",
    "data = []\n",
    "data.append(SimpleObject('pickle'))\n",
    "data.append(SimpleObject('cPickle'))\n",
    "data.append(SimpleObject('last'))\n",
    " \n",
    "# Simulate a file with StringIO\n",
    "out_s = io.StringIO()\n",
    " \n",
    " \n",
    "# Write to the stream\n",
    "for o in data:\n",
    "    print ('WRITING: %s (%s)' % (o.name, o.name_backwards))\n",
    "    pickle.dump(o, out_s)\n",
    "    out_s.flush()\n",
    "     \n",
    "     \n",
    "# Set up a read-able stream\n",
    "in_s = io.StringIO(out_s.getvalue())\n",
    " \n",
    "# Read the data\n",
    "while True:\n",
    "    try:\n",
    "        o = pickle.load(in_s)\n",
    "    except EOFError:\n",
    "        break\n",
    "    else:\n",
    "        print ('READ: %s (%s)' % (o.name, o.name_backwards))"
   ]
  },
  {
   "cell_type": "code",
   "execution_count": 4,
   "id": "f9b29839",
   "metadata": {},
   "outputs": [
    {
     "name": "stdout",
     "output_type": "stream",
     "text": [
      "120\n"
     ]
    }
   ],
   "source": [
    "def multiply(a, b, *argv):\n",
    "    mul = a * b\n",
    "    for num in argv:\n",
    "        mul *= num\n",
    "        \n",
    "    return mul\n",
    "    \n",
    "    \n",
    "print(multiply(1, 2, 3, 4, 5)) #output: 120"
   ]
  },
  {
   "cell_type": "code",
   "execution_count": 6,
   "id": "059410a8",
   "metadata": {},
   "outputs": [
    {
     "name": "stdout",
     "output_type": "stream",
     "text": [
      "120\n"
     ]
    }
   ],
   "source": [
    "def multiply(a, b, *argv):\n",
    "    mul = a * b\n",
    "    for num in argv:\n",
    "        mul *= num\n",
    "    return mul\n",
    "    \n",
    "lst1 = [1, 2, 3, 4, 5]  \n",
    "\n",
    "print(multiply(*lst1)) #output: 120"
   ]
  },
  {
   "cell_type": "code",
   "execution_count": 7,
   "id": "3ed60690",
   "metadata": {},
   "outputs": [
    {
     "name": "stdout",
     "output_type": "stream",
     "text": [
      "arg1: argument 1\n",
      "arg2: argument 2\n",
      "arg3: argument 3\n"
     ]
    }
   ],
   "source": [
    "def tellArguments(**kwargs):\n",
    "    \n",
    "    for key, value in kwargs.items():\n",
    "        \n",
    "        print(key + \": \" + value)\n",
    "        \n",
    "        \n",
    "tellArguments(arg1 = \"argument 1\", arg2 = \"argument 2\", arg3 = \"argument 3\")\n",
    "\n",
    "\n",
    "#output:\n",
    "# arg1: argument 1\n",
    "# arg2: argument 2\n",
    "# arg3: argument 3"
   ]
  },
  {
   "cell_type": "code",
   "execution_count": 3,
   "id": "886b51ab",
   "metadata": {},
   "outputs": [
    {
     "name": "stdout",
     "output_type": "stream",
     "text": [
      "arg1: argument 1\n",
      "arg2: argument 2\n",
      "arg3: argument 3\n"
     ]
    }
   ],
   "source": [
    "def tellArguments(**kwargs):\n",
    "    \n",
    "    for key, value in kwargs.items():\n",
    "        \n",
    "        print(key + \": \" + value)\n",
    "        \n",
    "\n",
    "dict1 = {\"arg1\" :\"argument 1\", \"arg2\" : \"argument 2\", \"arg3\" : \"argument 3\"}\n",
    "\n",
    "tellArguments(**dict1)\n"
   ]
  },
  {
   "cell_type": "code",
   "execution_count": 11,
   "id": "26c98a59",
   "metadata": {},
   "outputs": [
    {
     "name": "stdout",
     "output_type": "stream",
     "text": [
      "arg1: argument 1\n",
      "arg2: argument 2\n",
      "arg3: argument 3\n"
     ]
    },
    {
     "data": {
      "text/plain": [
       "120"
      ]
     },
     "execution_count": 11,
     "metadata": {},
     "output_type": "execute_result"
    }
   ],
   "source": [
    "def multiply(a, b, *argv, **kwargs):\n",
    "    mul = a * b\n",
    "    for num in argv:\n",
    "        mul *= num\n",
    "        \n",
    "    for key, value in kwargs.items():\n",
    "        \n",
    "        print(key + \": \" + value)\n",
    "        \n",
    "    return mul\n",
    "\n",
    "dict1 = {\"arg1\" :\"argument 1\", \"arg2\" : \"argument 2\", \"arg3\" : \"argument 3\"}\n",
    "lst1 = [1, 2, 3, 4, 5]  \n",
    "multiply(*lst1, **dict1)"
   ]
  },
  {
   "cell_type": "code",
   "execution_count": null,
   "id": "b5e5aeda",
   "metadata": {},
   "outputs": [],
   "source": []
  }
 ],
 "metadata": {
  "kernelspec": {
   "display_name": "Python 3 (ipykernel)",
   "language": "python",
   "name": "python3"
  },
  "language_info": {
   "codemirror_mode": {
    "name": "ipython",
    "version": 3
   },
   "file_extension": ".py",
   "mimetype": "text/x-python",
   "name": "python",
   "nbconvert_exporter": "python",
   "pygments_lexer": "ipython3",
   "version": "3.7.8"
  }
 },
 "nbformat": 4,
 "nbformat_minor": 5
}

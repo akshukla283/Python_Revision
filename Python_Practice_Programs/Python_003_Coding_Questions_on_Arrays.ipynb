{
 "cells": [
  {
   "cell_type": "markdown",
   "id": "2b1188c6",
   "metadata": {},
   "source": [
    "Link of the questions lists :\n",
    "\n",
    "\n",
    "https://quescol.com/interview-preparation/python-coding-question"
   ]
  },
  {
   "cell_type": "code",
   "execution_count": null,
   "id": "9526f2e2",
   "metadata": {},
   "outputs": [],
   "source": []
  }
 ],
 "metadata": {
  "kernelspec": {
   "display_name": "Python 3 (ipykernel)",
   "language": "python",
   "name": "python3"
  },
  "language_info": {
   "codemirror_mode": {
    "name": "ipython",
    "version": 3
   },
   "file_extension": ".py",
   "mimetype": "text/x-python",
   "name": "python",
   "nbconvert_exporter": "python",
   "pygments_lexer": "ipython3",
   "version": "3.7.8"
  }
 },
 "nbformat": 4,
 "nbformat_minor": 5
}

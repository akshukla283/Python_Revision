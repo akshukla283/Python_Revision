{
 "cells": [
  {
   "cell_type": "markdown",
   "id": "141312ab",
   "metadata": {},
   "source": [
    "### Important Python Test Qusetions and Answers (Asked-Online )"
   ]
  },
  {
   "cell_type": "markdown",
   "id": "542b7d39",
   "metadata": {},
   "source": [
    "#### 1 -  What is the time-complexity of searching a Key in a dictionary/objects?\n",
    "\n",
    " **Answer** - The average time complexity is `of course O(1)`"
   ]
  },
  {
   "cell_type": "markdown",
   "id": "00c0391a",
   "metadata": {},
   "source": [
    "#### 2 - Which of the following type of variable takes precedence over other if namesare same \n",
    "\n",
    "**Answer** - `A local variable` takes precedence over a global variable with the same name."
   ]
  },
  {
   "cell_type": "markdown",
   "id": "aada5342",
   "metadata": {},
   "source": [
    "#### 3 - Which of the following function of String is to used to find a match between a regular expression and a string, and to replace the matched substring with new substring?\n",
    "\n",
    "\n",
    "**Answer** - `The replace()` method returns a new string with some or all matches of a pattern replaced by a replacement . The pattern can be a string or a RegExp , and the replacement can be a string or a function to be called for each match. If pattern is a string, only the first occurrence will be replaced"
   ]
  },
  {
   "cell_type": "markdown",
   "id": "8ed44c9d",
   "metadata": {},
   "source": [
    "#### 4 - The indirect change of the values of a variable in one module by another modules is called ?\n",
    "\n",
    "**Answer** - The indirect change of the values of a variable in one module by another module is called `internal change`."
   ]
  },
  {
   "cell_type": "markdown",
   "id": "b5fda0fd",
   "metadata": {},
   "source": [
    "#### 5 - What does error 404 or Not Found error while accessing a URL mean?\n",
    "\n",
    "**Answer** - A 404 error indicates that `the webpage you're trying to reach can't be found`. You might see a 404 error because of a problem with the website, because `the page was moved or deleted, or because you typed the URL wrong.`"
   ]
  },
  {
   "cell_type": "markdown",
   "id": "7d71b4c4",
   "metadata": {},
   "source": [
    "#### 6 - Given the code below, will the 'else' part gets executed?"
   ]
  },
  {
   "cell_type": "code",
   "execution_count": 1,
   "id": "2e48f167",
   "metadata": {},
   "outputs": [],
   "source": [
    "fruits = ['apple', 'banana', 'mango', 'watermelon']\n",
    "\n",
    "for fruit in fruits:\n",
    "    fruit = fruit.capitalize()\n",
    "    if fruit == 'Mango':\n",
    "        break\n",
    "else:\n",
    "    print(\"Hello there\")\n"
   ]
  },
  {
   "cell_type": "markdown",
   "id": "b235b302",
   "metadata": {},
   "source": [
    "As we can see 'Mango' in fruit and satisfied the if condition and loop got break \n",
    "\n",
    "Means `else` part will `not execute`"
   ]
  },
  {
   "cell_type": "markdown",
   "id": "989eff01",
   "metadata": {},
   "source": [
    "#### 7 - InPython version 2.7, What will be the output of the given code?"
   ]
  },
  {
   "cell_type": "code",
   "execution_count": 2,
   "id": "f307e09d",
   "metadata": {},
   "outputs": [
    {
     "name": "stdout",
     "output_type": "stream",
     "text": [
      "['A', 'B', 'C', 'X', 'Y']\n"
     ]
    }
   ],
   "source": [
    "x = [\"B\", \"C\", \"A\"]\n",
    "\n",
    "x.extend([\"X\", \"Y\"])\n",
    "\n",
    "x.reverse()\n",
    "\n",
    "x.sort()\n",
    "\n",
    "print(x)\n",
    "\n",
    "# Ootput - ['A', 'B', 'C', 'X', 'Y'] is same in 2.7 and 3.7 "
   ]
  },
  {
   "cell_type": "code",
   "execution_count": 3,
   "id": "cc2c2e15",
   "metadata": {},
   "outputs": [
    {
     "name": "stdout",
     "output_type": "stream",
     "text": [
      "Python 3.7.8\n"
     ]
    }
   ],
   "source": [
    "! python --version"
   ]
  },
  {
   "cell_type": "markdown",
   "id": "b2845d4a",
   "metadata": {},
   "source": [
    "#### 8 - What is the output of the below code?"
   ]
  },
  {
   "cell_type": "code",
   "execution_count": 4,
   "id": "b6b3faa0",
   "metadata": {},
   "outputs": [
    {
     "name": "stdout",
     "output_type": "stream",
     "text": [
      "2\n"
     ]
    }
   ],
   "source": [
    "d1 = {'a':1, 'b':2, 'c':3}\n",
    "d2 = {'b':20, 'd':4}\n",
    "\n",
    "d2.update(d1)\n",
    "\n",
    "print(d2['b'])"
   ]
  },
  {
   "cell_type": "code",
   "execution_count": 5,
   "id": "d47b2ec3",
   "metadata": {},
   "outputs": [
    {
     "name": "stdout",
     "output_type": "stream",
     "text": [
      "{'b': 2, 'd': 4, 'a': 1, 'c': 3}\n"
     ]
    }
   ],
   "source": [
    "d1 = {'a':1, 'b':2, 'c':3}\n",
    "d2 = {'b':20, 'd':4}\n",
    "\n",
    "d2.update(d1)\n",
    "\n",
    "print(d2)"
   ]
  },
  {
   "cell_type": "code",
   "execution_count": 6,
   "id": "7367d736",
   "metadata": {},
   "outputs": [
    {
     "name": "stdout",
     "output_type": "stream",
     "text": [
      "{'a': 1, 'b': 20, 'c': 3, 'd': 4}\n"
     ]
    }
   ],
   "source": [
    "d1 = {'a':1, 'b':2, 'c':3}\n",
    "d2 = {'b':20, 'd':4}\n",
    "\n",
    "d1.update(d2)\n",
    "\n",
    "print(d1)"
   ]
  },
  {
   "cell_type": "markdown",
   "id": "4f72951a",
   "metadata": {},
   "source": [
    "#### 9 - What is the output of the below code?"
   ]
  },
  {
   "cell_type": "code",
   "execution_count": 6,
   "id": "7d563bb0",
   "metadata": {},
   "outputs": [
    {
     "data": {
      "text/plain": [
       "'5'"
      ]
     },
     "execution_count": 6,
     "metadata": {},
     "output_type": "execute_result"
    }
   ],
   "source": [
    "max(\"12345\")"
   ]
  },
  {
   "cell_type": "code",
   "execution_count": 7,
   "id": "7d8a4dde",
   "metadata": {},
   "outputs": [
    {
     "data": {
      "text/plain": [
       "'d'"
      ]
     },
     "execution_count": 7,
     "metadata": {},
     "output_type": "execute_result"
    }
   ],
   "source": [
    "max(\"abcd\")"
   ]
  },
  {
   "cell_type": "code",
   "execution_count": 8,
   "id": "2109864b",
   "metadata": {},
   "outputs": [
    {
     "data": {
      "text/plain": [
       "'1'"
      ]
     },
     "execution_count": 8,
     "metadata": {},
     "output_type": "execute_result"
    }
   ],
   "source": [
    "min(\"122334\")"
   ]
  },
  {
   "cell_type": "code",
   "execution_count": 9,
   "id": "94767819",
   "metadata": {},
   "outputs": [
    {
     "data": {
      "text/plain": [
       "'a'"
      ]
     },
     "execution_count": 9,
     "metadata": {},
     "output_type": "execute_result"
    }
   ],
   "source": [
    "min(\"abcd\")"
   ]
  },
  {
   "cell_type": "code",
   "execution_count": 10,
   "id": "82dce00c",
   "metadata": {},
   "outputs": [
    {
     "data": {
      "text/plain": [
       "'c'"
      ]
     },
     "execution_count": 10,
     "metadata": {},
     "output_type": "execute_result"
    }
   ],
   "source": [
    "max({'a':1, 'b':6, 'c':3})"
   ]
  },
  {
   "cell_type": "code",
   "execution_count": 11,
   "id": "baf390ef",
   "metadata": {},
   "outputs": [
    {
     "data": {
      "text/plain": [
       "'a'"
      ]
     },
     "execution_count": 11,
     "metadata": {},
     "output_type": "execute_result"
    }
   ],
   "source": [
    "min({'a':8, 'b':2, 'c':3})"
   ]
  },
  {
   "cell_type": "code",
   "execution_count": 12,
   "id": "a7d2bbbc",
   "metadata": {},
   "outputs": [
    {
     "data": {
      "text/plain": [
       "4"
      ]
     },
     "execution_count": 12,
     "metadata": {},
     "output_type": "execute_result"
    }
   ],
   "source": [
    "max((1,2,3,4))"
   ]
  },
  {
   "cell_type": "code",
   "execution_count": 13,
   "id": "6ea2ba81",
   "metadata": {},
   "outputs": [
    {
     "data": {
      "text/plain": [
       "'a'"
      ]
     },
     "execution_count": 13,
     "metadata": {},
     "output_type": "execute_result"
    }
   ],
   "source": [
    "min((\"absde\"))"
   ]
  },
  {
   "cell_type": "code",
   "execution_count": 14,
   "id": "dc8dd457",
   "metadata": {},
   "outputs": [
    {
     "data": {
      "text/plain": [
       "'cda'"
      ]
     },
     "execution_count": 14,
     "metadata": {},
     "output_type": "execute_result"
    }
   ],
   "source": [
    "max([\"abc\", \"cda\"])"
   ]
  },
  {
   "cell_type": "code",
   "execution_count": 1,
   "id": "3d774ee6",
   "metadata": {},
   "outputs": [
    {
     "data": {
      "text/plain": [
       "'abc'"
      ]
     },
     "execution_count": 1,
     "metadata": {},
     "output_type": "execute_result"
    }
   ],
   "source": [
    "max([\"abc\", \"ABC\"])"
   ]
  },
  {
   "cell_type": "code",
   "execution_count": 15,
   "id": "d2b1f781",
   "metadata": {},
   "outputs": [
    {
     "data": {
      "text/plain": [
       "4"
      ]
     },
     "execution_count": 15,
     "metadata": {},
     "output_type": "execute_result"
    }
   ],
   "source": [
    "max([1,2,3,4])"
   ]
  },
  {
   "cell_type": "code",
   "execution_count": 16,
   "id": "9f5ed204",
   "metadata": {},
   "outputs": [
    {
     "data": {
      "text/plain": [
       "1"
      ]
     },
     "execution_count": 16,
     "metadata": {},
     "output_type": "execute_result"
    }
   ],
   "source": [
    "min([1,2,3,4])"
   ]
  },
  {
   "cell_type": "markdown",
   "id": "81bdc169",
   "metadata": {},
   "source": [
    "#### 10 - What is the output of the below code?"
   ]
  },
  {
   "cell_type": "code",
   "execution_count": 17,
   "id": "549baf75",
   "metadata": {},
   "outputs": [
    {
     "data": {
      "text/plain": [
       "4"
      ]
     },
     "execution_count": 17,
     "metadata": {},
     "output_type": "execute_result"
    }
   ],
   "source": [
    "'abcdefghijkl'.find(\"efg\")"
   ]
  },
  {
   "cell_type": "markdown",
   "id": "a55594fc",
   "metadata": {},
   "source": [
    "#### 11 - What will be the output?"
   ]
  },
  {
   "cell_type": "code",
   "execution_count": 18,
   "id": "ea3940b6",
   "metadata": {},
   "outputs": [
    {
     "ename": "TypeError",
     "evalue": "'int' object is not iterable",
     "output_type": "error",
     "traceback": [
      "\u001b[1;31m---------------------------------------------------------------------------\u001b[0m",
      "\u001b[1;31mTypeError\u001b[0m                                 Traceback (most recent call last)",
      "\u001b[1;32m~\\AppData\\Local\\Temp/ipykernel_9464/79301224.py\u001b[0m in \u001b[0;36m<module>\u001b[1;34m\u001b[0m\n\u001b[0;32m      1\u001b[0m \u001b[0ml1\u001b[0m \u001b[1;33m=\u001b[0m \u001b[1;33m[\u001b[0m\u001b[1;36m1\u001b[0m\u001b[1;33m,\u001b[0m\u001b[1;36m2\u001b[0m\u001b[1;33m,\u001b[0m\u001b[1;36m3\u001b[0m\u001b[1;33m]\u001b[0m\u001b[1;33m\u001b[0m\u001b[1;33m\u001b[0m\u001b[0m\n\u001b[0;32m      2\u001b[0m \u001b[1;33m\u001b[0m\u001b[0m\n\u001b[1;32m----> 3\u001b[1;33m \u001b[0ml1\u001b[0m\u001b[1;33m.\u001b[0m\u001b[0mextend\u001b[0m\u001b[1;33m(\u001b[0m\u001b[1;36m4\u001b[0m\u001b[1;33m)\u001b[0m\u001b[1;33m\u001b[0m\u001b[1;33m\u001b[0m\u001b[0m\n\u001b[0m\u001b[0;32m      4\u001b[0m \u001b[0mprint\u001b[0m\u001b[1;33m(\u001b[0m\u001b[0ml1\u001b[0m\u001b[1;33m)\u001b[0m\u001b[1;33m\u001b[0m\u001b[1;33m\u001b[0m\u001b[0m\n\u001b[0;32m      5\u001b[0m \u001b[1;33m\u001b[0m\u001b[0m\n",
      "\u001b[1;31mTypeError\u001b[0m: 'int' object is not iterable"
     ]
    }
   ],
   "source": [
    "l1 = [1,2,3]\n",
    "\n",
    "l1.extend(4)\n",
    "print(l1)\n",
    "\n",
    "# Error - 'int' object is not iterable ,  if it would be a list then it definetly got extended"
   ]
  },
  {
   "cell_type": "code",
   "execution_count": 8,
   "id": "fe3220d0",
   "metadata": {},
   "outputs": [
    {
     "ename": "TypeError",
     "evalue": "'int' object is not iterable",
     "output_type": "error",
     "traceback": [
      "\u001b[1;31m---------------------------------------------------------------------------\u001b[0m",
      "\u001b[1;31mTypeError\u001b[0m                                 Traceback (most recent call last)",
      "\u001b[1;32m~\\AppData\\Local\\Temp/ipykernel_12632/3815265279.py\u001b[0m in \u001b[0;36m<module>\u001b[1;34m\u001b[0m\n\u001b[0;32m      1\u001b[0m \u001b[0ml1\u001b[0m \u001b[1;33m=\u001b[0m \u001b[1;33m[\u001b[0m\u001b[1;36m1\u001b[0m\u001b[1;33m,\u001b[0m\u001b[1;36m2\u001b[0m\u001b[1;33m,\u001b[0m\u001b[1;36m3\u001b[0m\u001b[1;33m]\u001b[0m\u001b[1;33m\u001b[0m\u001b[1;33m\u001b[0m\u001b[0m\n\u001b[0;32m      2\u001b[0m \u001b[1;33m\u001b[0m\u001b[0m\n\u001b[1;32m----> 3\u001b[1;33m \u001b[0ml1\u001b[0m\u001b[1;33m.\u001b[0m\u001b[0mextend\u001b[0m\u001b[1;33m(\u001b[0m\u001b[1;33m(\u001b[0m\u001b[1;36m4\u001b[0m\u001b[1;33m)\u001b[0m\u001b[1;33m)\u001b[0m\u001b[1;33m\u001b[0m\u001b[1;33m\u001b[0m\u001b[0m\n\u001b[0m\u001b[0;32m      4\u001b[0m \u001b[0mprint\u001b[0m\u001b[1;33m(\u001b[0m\u001b[0ml1\u001b[0m\u001b[1;33m)\u001b[0m\u001b[1;33m\u001b[0m\u001b[1;33m\u001b[0m\u001b[0m\n",
      "\u001b[1;31mTypeError\u001b[0m: 'int' object is not iterable"
     ]
    }
   ],
   "source": [
    "l1 = [1,2,3]\n",
    "\n",
    "l1.extend((4)) \n",
    "print(l1)"
   ]
  },
  {
   "cell_type": "code",
   "execution_count": 3,
   "id": "50106635",
   "metadata": {},
   "outputs": [
    {
     "name": "stdout",
     "output_type": "stream",
     "text": [
      "[1, 2, 3, 4]\n"
     ]
    }
   ],
   "source": [
    "l1 = [1,2,3]\n",
    "\n",
    "l1.extend((4,)) # note by ading ',' it count as a tuple \n",
    "print(l1)\n"
   ]
  },
  {
   "cell_type": "code",
   "execution_count": 4,
   "id": "e4fd1bc2",
   "metadata": {},
   "outputs": [
    {
     "name": "stdout",
     "output_type": "stream",
     "text": [
      "[1, 2, 3, 4]\n"
     ]
    }
   ],
   "source": [
    "l1 = [1,2,3]\n",
    "\n",
    "l1.append(4)\n",
    "print(l1)\n",
    "# note append will be executed well but extend will not be possible"
   ]
  },
  {
   "cell_type": "code",
   "execution_count": 5,
   "id": "c5f88a98",
   "metadata": {},
   "outputs": [
    {
     "name": "stdout",
     "output_type": "stream",
     "text": [
      "[1, 2, 3, 4]\n"
     ]
    }
   ],
   "source": [
    "l1 = [1,2,3]\n",
    "\n",
    "l1.extend([4])\n",
    "print(l1)\n"
   ]
  },
  {
   "cell_type": "code",
   "execution_count": 6,
   "id": "0aec40ef",
   "metadata": {},
   "outputs": [
    {
     "name": "stdout",
     "output_type": "stream",
     "text": [
      "[1, 2, 3, '4']\n"
     ]
    }
   ],
   "source": [
    "l1 = [1,2,3]\n",
    "\n",
    "l1.extend('4')\n",
    "print(l1)"
   ]
  },
  {
   "cell_type": "markdown",
   "id": "d166dced",
   "metadata": {},
   "source": [
    "#### 13 - How to check if a key is present in dictionary d1?"
   ]
  },
  {
   "cell_type": "code",
   "execution_count": 21,
   "id": "f4fdcaa3",
   "metadata": {},
   "outputs": [
    {
     "data": {
      "text/plain": [
       "True"
      ]
     },
     "execution_count": 21,
     "metadata": {},
     "output_type": "execute_result"
    }
   ],
   "source": [
    "# The membership operator in can also be used with dictionary object\n",
    "\n",
    "d1={1:'aaa',2:'bbb',3:\"ccc\",4:'ddd',5:'eee'}\n",
    "\n",
    "3 in d1"
   ]
  },
  {
   "cell_type": "code",
   "execution_count": 22,
   "id": "975c8c2e",
   "metadata": {},
   "outputs": [
    {
     "data": {
      "text/plain": [
       "True"
      ]
     },
     "execution_count": 22,
     "metadata": {},
     "output_type": "execute_result"
    }
   ],
   "source": [
    "# Additionally, keys() method returns a view object of keys in dictionary. \n",
    "# Membership operator in also tells you if key is present\n",
    "\n",
    "3 in d1.keys()"
   ]
  },
  {
   "cell_type": "markdown",
   "id": "e76203ae",
   "metadata": {},
   "source": [
    "#### 14 - Given l = (1) what is type(l)"
   ]
  },
  {
   "cell_type": "code",
   "execution_count": 23,
   "id": "2e6b8d90",
   "metadata": {},
   "outputs": [
    {
     "data": {
      "text/plain": [
       "int"
      ]
     },
     "execution_count": 23,
     "metadata": {},
     "output_type": "execute_result"
    }
   ],
   "source": [
    "l = (1)\n",
    "\n",
    "type(l) # note this is int type because only one value there."
   ]
  },
  {
   "cell_type": "code",
   "execution_count": 2,
   "id": "61d2a8ac",
   "metadata": {},
   "outputs": [
    {
     "data": {
      "text/plain": [
       "tuple"
      ]
     },
     "execution_count": 2,
     "metadata": {},
     "output_type": "execute_result"
    }
   ],
   "source": [
    "l = (1,)\n",
    "type(l)"
   ]
  },
  {
   "cell_type": "code",
   "execution_count": 24,
   "id": "19e27789",
   "metadata": {},
   "outputs": [
    {
     "data": {
      "text/plain": [
       "tuple"
      ]
     },
     "execution_count": 24,
     "metadata": {},
     "output_type": "execute_result"
    }
   ],
   "source": [
    "l = (1, 2)\n",
    "\n",
    "type(l)"
   ]
  },
  {
   "cell_type": "code",
   "execution_count": 25,
   "id": "e08e8e6d",
   "metadata": {},
   "outputs": [
    {
     "data": {
      "text/plain": [
       "list"
      ]
     },
     "execution_count": 25,
     "metadata": {},
     "output_type": "execute_result"
    }
   ],
   "source": [
    "l = [1]\n",
    "type(l)"
   ]
  },
  {
   "cell_type": "markdown",
   "id": "abdcba29",
   "metadata": {},
   "source": [
    "#### 15 - How do you convert the given string to datetime obeject?"
   ]
  },
  {
   "cell_type": "markdown",
   "id": "1341013d",
   "metadata": {},
   "source": [
    "**Answer** - datetime.strptime(date_string, format)\n",
    "\n",
    "from datetime import datetime\n",
    "\n",
    "datetime_object = datetime.strptime('Jun 1 2005  1:33PM', '%b %d %Y %I:%M%p')"
   ]
  },
  {
   "cell_type": "markdown",
   "id": "e565989a",
   "metadata": {},
   "source": [
    "#### 16 - What is the output of the following?"
   ]
  },
  {
   "cell_type": "code",
   "execution_count": 26,
   "id": "0c207df0",
   "metadata": {},
   "outputs": [
    {
     "data": {
      "text/plain": [
       "''"
      ]
     },
     "execution_count": 26,
     "metadata": {},
     "output_type": "execute_result"
    }
   ],
   "source": [
    "strg = \"SMARTQ\"\n",
    "strg[-2:-4]"
   ]
  },
  {
   "cell_type": "markdown",
   "id": "e63b549c",
   "metadata": {},
   "source": [
    "#### 17 - ______ type of scripts/jobs is required to execute scripts at a specified intervals."
   ]
  },
  {
   "cell_type": "code",
   "execution_count": 36,
   "id": "69dbb253",
   "metadata": {},
   "outputs": [],
   "source": [
    "# option - 1 deamon, 2- thread jobs 3 - cron jobs  4- shell scripts"
   ]
  },
  {
   "cell_type": "markdown",
   "id": "0300d027",
   "metadata": {},
   "source": [
    "#### 18 -   _____ is used to convert a directory into a python package and or to do default importing."
   ]
  },
  {
   "cell_type": "markdown",
   "id": "faa056e2",
   "metadata": {},
   "source": [
    "We can turn this directory into a package by introducing` __init__.py` file within utils folder. Within `__init__.py `, we import all the modules that we think are necessary for our project."
   ]
  },
  {
   "cell_type": "markdown",
   "id": "27ac2add",
   "metadata": {},
   "source": [
    "#### 19 - _____ statement makes the function to return an iterator always?\n",
    "\n",
    "\n",
    "The rules for creating iterables and iterators are:\n",
    "\n",
    "1) Iterables have an `__iter__()` method that returns an iterator.\n",
    "\n",
    "2) Iterators have a `__next__()` method that returns a value, that updates the state, and that raises StopIteration when complete.\n",
    "\n",
    "3) Iterators themselves have a `__iter__()` method that returns self. That means that all iterators are self-iterable."
   ]
  },
  {
   "cell_type": "markdown",
   "id": "f4204087",
   "metadata": {},
   "source": [
    "#### 21 - Given the code below, is it valid with respect to multiple and multilevel inheritance"
   ]
  },
  {
   "cell_type": "code",
   "execution_count": 27,
   "id": "1051eaad",
   "metadata": {},
   "outputs": [],
   "source": [
    "o = object\n",
    "\n",
    "class A(o): pass\n",
    "\n",
    "class B(o): pass \n",
    "\n",
    "class C(B): pass\n",
    "\n",
    "class D(C, A): pass"
   ]
  },
  {
   "cell_type": "markdown",
   "id": "fc48a126",
   "metadata": {},
   "source": [
    "#### 22 - What is output of the below code?\n"
   ]
  },
  {
   "cell_type": "code",
   "execution_count": 28,
   "id": "5c72f532",
   "metadata": {},
   "outputs": [
    {
     "name": "stdout",
     "output_type": "stream",
     "text": [
      "3\n"
     ]
    }
   ],
   "source": [
    "def func():\n",
    "    try:\n",
    "        return 1\n",
    "    \n",
    "    except:\n",
    "        return 2\n",
    "    \n",
    "    finally:\n",
    "        return 3\n",
    "    \n",
    "print(func())"
   ]
  },
  {
   "cell_type": "markdown",
   "id": "42999a0d",
   "metadata": {},
   "source": [
    "#### 23 - what will be the output of the following Python Code?\n"
   ]
  },
  {
   "cell_type": "code",
   "execution_count": 9,
   "id": "5549aa45",
   "metadata": {},
   "outputs": [
    {
     "name": "stdout",
     "output_type": "stream",
     "text": [
      "Old\n"
     ]
    }
   ],
   "source": [
    "class test:\n",
    "    def __init__(self):\n",
    "        \n",
    "        self.variable = 'Old'\n",
    "        self.Change(self.variable)\n",
    "        \n",
    "    def Change(self, var):\n",
    "        var = 'New'\n",
    "        \n",
    "obj = test()\n",
    "\n",
    "print(obj.variable)"
   ]
  },
  {
   "cell_type": "markdown",
   "id": "13129c64",
   "metadata": {},
   "source": [
    "#### 24- What will be the output?"
   ]
  },
  {
   "cell_type": "code",
   "execution_count": 31,
   "id": "05813900",
   "metadata": {},
   "outputs": [
    {
     "name": "stdout",
     "output_type": "stream",
     "text": [
      "['he', '', 'o wor', 'd']\n"
     ]
    }
   ],
   "source": [
    "a = 'hello world'\n",
    "\n",
    "b = a.split('l')\n",
    "\n",
    "print(b) # where ever ll it will convert second l into \"\""
   ]
  },
  {
   "cell_type": "code",
   "execution_count": 32,
   "id": "190ff582",
   "metadata": {},
   "outputs": [
    {
     "name": "stdout",
     "output_type": "stream",
     "text": [
      "['he', '', 'o wor', '', 'd']\n"
     ]
    }
   ],
   "source": [
    "a = 'hello worlld'\n",
    "\n",
    "b = a.split('l')\n",
    "\n",
    "print(b)# where ever ll it will convert second l into \"\" means in double match one match will be \"\""
   ]
  },
  {
   "cell_type": "code",
   "execution_count": 33,
   "id": "81157565",
   "metadata": {},
   "outputs": [
    {
     "name": "stdout",
     "output_type": "stream",
     "text": [
      "['he', 'lo world']\n"
     ]
    }
   ],
   "source": [
    "a = 'hello world'\n",
    "\n",
    "b = a.split('l', 1)\n",
    "\n",
    "print(b)"
   ]
  },
  {
   "cell_type": "code",
   "execution_count": 7,
   "id": "9f758bf1",
   "metadata": {},
   "outputs": [
    {
     "name": "stdout",
     "output_type": "stream",
     "text": [
      "['hello', 'world']\n"
     ]
    }
   ],
   "source": [
    "a = 'hello world'\n",
    "\n",
    "b = a.split()\n",
    "\n",
    "print(b) # note we will shall not give any value for split then it split at space "
   ]
  },
  {
   "cell_type": "markdown",
   "id": "cce5ca5c",
   "metadata": {},
   "source": [
    "#### 25 - What will be the output for following code snippet?\n"
   ]
  },
  {
   "cell_type": "code",
   "execution_count": 4,
   "id": "f6692fdd",
   "metadata": {},
   "outputs": [
    {
     "name": "stdout",
     "output_type": "stream",
     "text": [
      "{'a': 1, 'b': [5, 3, 4]}\n",
      "{'a': 1, 'b': [5, 3, 4]}\n"
     ]
    }
   ],
   "source": [
    "d1 = {'a':1, 'b':[2,3,4]}\n",
    "d2 = d1.copy()\n",
    "\n",
    "d2['b'][0] = 5\n",
    "\n",
    "print(d1)\n",
    "print(d2) # in dictionary by doing .copy and changing anything will afffect the original one as well\n",
    "\n",
    "# only if it perform on list as a value"
   ]
  },
  {
   "cell_type": "code",
   "execution_count": 12,
   "id": "bb3f344f",
   "metadata": {},
   "outputs": [
    {
     "name": "stdout",
     "output_type": "stream",
     "text": [
      "{'a': 1, 'b': [2, 3, 4]}\n",
      "{'a': 1, 'b': 5}\n"
     ]
    }
   ],
   "source": [
    "d1 = {'a':1, 'b':[2,3,4]}\n",
    "d2 = d1.copy()\n",
    "\n",
    "d2['b'] = 5\n",
    "\n",
    "print(d1)\n",
    "print(d2)"
   ]
  },
  {
   "cell_type": "code",
   "execution_count": 5,
   "id": "ccede2af",
   "metadata": {},
   "outputs": [
    {
     "name": "stdout",
     "output_type": "stream",
     "text": [
      "{'a': 1, 'b': [2, 3, 4]}\n",
      "{'a': 5, 'b': [2, 3, 4]}\n"
     ]
    }
   ],
   "source": [
    "d1 = {'a':1, 'b':[2,3,4]}\n",
    "d2 = d1.copy()\n",
    "\n",
    "d2['a'] = 5\n",
    "\n",
    "print(d1)\n",
    "print(d2)\n",
    "\n",
    "# here you can see no change in d1"
   ]
  },
  {
   "cell_type": "code",
   "execution_count": 37,
   "id": "85a137ff",
   "metadata": {},
   "outputs": [
    {
     "name": "stdout",
     "output_type": "stream",
     "text": [
      "[1, 2, 3]\n",
      "[5, 2, 3]\n"
     ]
    }
   ],
   "source": [
    "lst1 = [1,2,3]\n",
    "lst2 = lst1.copy()\n",
    "\n",
    "lst2[0] = 5\n",
    "\n",
    "print(lst1)\n",
    "print(lst2) # as we can see that in list it will not affect the original one \n",
    "# in dictionary getting this we need to do deepcopy() "
   ]
  },
  {
   "cell_type": "code",
   "execution_count": 8,
   "id": "f0175f7f",
   "metadata": {},
   "outputs": [
    {
     "name": "stdout",
     "output_type": "stream",
     "text": [
      "[[1, 2, 4], 2, 3]\n",
      "[5, 2, 3]\n"
     ]
    }
   ],
   "source": [
    "lst1 = [[1,2,4],2,3]\n",
    "lst2 = lst1.copy()\n",
    "\n",
    "lst2[0] = 5\n",
    "\n",
    "print(lst1)\n",
    "print(lst2)"
   ]
  },
  {
   "cell_type": "code",
   "execution_count": 9,
   "id": "2ae6bff0",
   "metadata": {},
   "outputs": [
    {
     "name": "stdout",
     "output_type": "stream",
     "text": [
      "[[5, 2, 4], 2, 3]\n",
      "[[5, 2, 4], 2, 3]\n"
     ]
    }
   ],
   "source": [
    "lst1 = [[1,2,4],2,3]\n",
    "lst2 = lst1.copy()\n",
    "\n",
    "lst2[0][0] = 5\n",
    "\n",
    "print(lst1)\n",
    "print(lst2) # now we can see for nested list or dictionary  we need deep.copy to avoid \n",
    "            # any change in original one \n",
    "    "
   ]
  },
  {
   "cell_type": "code",
   "execution_count": 11,
   "id": "d75e51aa",
   "metadata": {},
   "outputs": [
    {
     "ename": "TypeError",
     "evalue": "'tuple' object does not support item assignment",
     "output_type": "error",
     "traceback": [
      "\u001b[1;31m---------------------------------------------------------------------------\u001b[0m",
      "\u001b[1;31mTypeError\u001b[0m                                 Traceback (most recent call last)",
      "\u001b[1;32m~\\AppData\\Local\\Temp/ipykernel_14944/3839642940.py\u001b[0m in \u001b[0;36m<module>\u001b[1;34m\u001b[0m\n\u001b[0;32m      1\u001b[0m \u001b[0mlst1\u001b[0m \u001b[1;33m=\u001b[0m \u001b[1;33m(\u001b[0m\u001b[1;33m(\u001b[0m\u001b[1;36m1\u001b[0m\u001b[1;33m,\u001b[0m\u001b[1;36m2\u001b[0m\u001b[1;33m,\u001b[0m\u001b[1;36m4\u001b[0m\u001b[1;33m)\u001b[0m\u001b[1;33m,\u001b[0m\u001b[1;36m2\u001b[0m\u001b[1;33m,\u001b[0m\u001b[1;36m3\u001b[0m\u001b[1;33m)\u001b[0m\u001b[1;33m\u001b[0m\u001b[1;33m\u001b[0m\u001b[0m\n\u001b[0;32m      2\u001b[0m \u001b[0mlst2\u001b[0m \u001b[1;33m=\u001b[0m \u001b[0mlst1\u001b[0m\u001b[1;33m\u001b[0m\u001b[1;33m\u001b[0m\u001b[0m\n\u001b[1;32m----> 3\u001b[1;33m \u001b[0mlst2\u001b[0m\u001b[1;33m[\u001b[0m\u001b[1;36m0\u001b[0m\u001b[1;33m]\u001b[0m\u001b[1;33m[\u001b[0m\u001b[1;36m0\u001b[0m\u001b[1;33m]\u001b[0m \u001b[1;33m=\u001b[0m \u001b[1;36m5\u001b[0m\u001b[1;33m\u001b[0m\u001b[1;33m\u001b[0m\u001b[0m\n\u001b[0m\u001b[0;32m      4\u001b[0m \u001b[1;33m\u001b[0m\u001b[0m\n\u001b[0;32m      5\u001b[0m \u001b[0mprint\u001b[0m\u001b[1;33m(\u001b[0m\u001b[0mlst1\u001b[0m\u001b[1;33m)\u001b[0m\u001b[1;33m\u001b[0m\u001b[1;33m\u001b[0m\u001b[0m\n",
      "\u001b[1;31mTypeError\u001b[0m: 'tuple' object does not support item assignment"
     ]
    }
   ],
   "source": [
    "lst1 = ((1,2,4),2,3)\n",
    "lst2 = lst1\n",
    "lst2[0][0] = 5\n",
    "\n",
    "print(lst1)  # tuple is immutable so we can't change this by copy \n",
    "print(lst2)"
   ]
  },
  {
   "cell_type": "code",
   "execution_count": 38,
   "id": "60ef2b20",
   "metadata": {},
   "outputs": [
    {
     "name": "stdout",
     "output_type": "stream",
     "text": [
      "[1, 2, 3]\n",
      "[5, 2, 3]\n"
     ]
    }
   ],
   "source": [
    "lst1 = [1,2,3]\n",
    "lst2 = lst1[:] # this also works as copy it provide complete duplicate not refernce value\n",
    "\n",
    "lst2[0] = 5\n",
    "\n",
    "print(lst1)\n",
    "print(lst2)"
   ]
  },
  {
   "cell_type": "code",
   "execution_count": 6,
   "id": "e1002d01",
   "metadata": {},
   "outputs": [
    {
     "name": "stdout",
     "output_type": "stream",
     "text": [
      "{'a': 1, 'b': [5, 3, 4]}\n",
      "{'a': 1, 'b': [5, 3, 4]}\n"
     ]
    }
   ],
   "source": [
    "# importing copy module\n",
    "import copy\n",
    "  \n",
    "d1 = {'a':1, 'b':[2,3,4]}\n",
    "d2 = copy.copy(d1)\n",
    "\n",
    "d2['b'][0] = 5\n",
    "\n",
    "print(d1)\n",
    "print(d2)"
   ]
  },
  {
   "cell_type": "code",
   "execution_count": 8,
   "id": "dd262548",
   "metadata": {},
   "outputs": [
    {
     "name": "stdout",
     "output_type": "stream",
     "text": [
      "{'a': 1, 'b': [5, 3, 4]}\n",
      "{'a': 1, 'b': [5, 3, 4]}\n"
     ]
    }
   ],
   "source": [
    "# importing copy module\n",
    "import copy\n",
    "  \n",
    "d1 = {'a':1, 'b':[2,3,4]}\n",
    "d2 = copy.copy(d1)\n",
    "\n",
    "d1['b'][0] = 5\n",
    "\n",
    "print(d1)\n",
    "print(d2)"
   ]
  },
  {
   "cell_type": "code",
   "execution_count": 7,
   "id": "a88808c6",
   "metadata": {},
   "outputs": [
    {
     "name": "stdout",
     "output_type": "stream",
     "text": [
      "{'a': 1, 'b': [2, 3, 4]}\n",
      "{'a': 5, 'b': [2, 3, 4]}\n"
     ]
    }
   ],
   "source": [
    "# importing copy module\n",
    "import copy\n",
    "  \n",
    "d1 = {'a':1, 'b':[2,3,4]}\n",
    "d2 = copy.copy(d1)\n",
    "\n",
    "d2['a'] = 5\n",
    "\n",
    "print(d1)\n",
    "print(d2) # for simple key value it will not change but in nested dict list it will affect\n"
   ]
  },
  {
   "cell_type": "code",
   "execution_count": null,
   "id": "d6a7f8fc",
   "metadata": {},
   "outputs": [],
   "source": []
  },
  {
   "cell_type": "code",
   "execution_count": 36,
   "id": "9363b841",
   "metadata": {},
   "outputs": [
    {
     "name": "stdout",
     "output_type": "stream",
     "text": [
      "{'a': 1, 'b': [2, 3, 4]}\n",
      "{'a': 1, 'b': [5, 3, 4]}\n"
     ]
    }
   ],
   "source": [
    "# importing copy module\n",
    "import copy\n",
    "  \n",
    "d1 = {'a':1, 'b':[2,3,4]}\n",
    "d2 = copy.deepcopy(d1)\n",
    "\n",
    "d2['b'][0] = 5\n",
    "\n",
    "print(d1)\n",
    "print(d2)"
   ]
  },
  {
   "cell_type": "code",
   "execution_count": 39,
   "id": "f3de2dd9",
   "metadata": {},
   "outputs": [
    {
     "name": "stdout",
     "output_type": "stream",
     "text": [
      "[1, 2, 3]\n",
      "[5, 2, 3]\n"
     ]
    }
   ],
   "source": [
    "import copy\n",
    "  \n",
    "d1 = [1,2,3]\n",
    "d2 = copy.deepcopy(d1)\n",
    "\n",
    "d2[0] = 5\n",
    "\n",
    "print(d1)\n",
    "print(d2)"
   ]
  },
  {
   "cell_type": "code",
   "execution_count": 40,
   "id": "2a78d3a4",
   "metadata": {},
   "outputs": [
    {
     "name": "stdout",
     "output_type": "stream",
     "text": [
      "[1, 2, 3]\n",
      "[5, 2, 3]\n"
     ]
    }
   ],
   "source": [
    "import copy\n",
    "  \n",
    "d1 = [1,2,3]\n",
    "d2 = copy.copy(d1)\n",
    "\n",
    "d2[0] = 5\n",
    "\n",
    "print(d1)\n",
    "print(d2) # means in list operation copy.copy() or deepcopy() does the same "
   ]
  },
  {
   "cell_type": "markdown",
   "id": "5906e3f0",
   "metadata": {},
   "source": [
    "### Important questions"
   ]
  },
  {
   "cell_type": "code",
   "execution_count": 43,
   "id": "16eac65c",
   "metadata": {},
   "outputs": [
    {
     "name": "stdout",
     "output_type": "stream",
     "text": [
      "0\n",
      "1\n",
      "2\n",
      "0\n"
     ]
    }
   ],
   "source": [
    "i = 0 \n",
    "while i<3:\n",
    "    print(i)\n",
    "    i+=1\n",
    "    \n",
    "else:\n",
    "    print(0)"
   ]
  },
  {
   "cell_type": "code",
   "execution_count": 3,
   "id": "f0b7ab9f",
   "metadata": {},
   "outputs": [
    {
     "name": "stdout",
     "output_type": "stream",
     "text": [
      "0\n"
     ]
    }
   ],
   "source": [
    "i = 0 \n",
    "while i<3:\n",
    "    print(i)\n",
    "    i+=1\n",
    "    break\n",
    "    \n",
    "else:\n",
    "    print(0)\n",
    "    "
   ]
  },
  {
   "cell_type": "code",
   "execution_count": 45,
   "id": "787f24f2",
   "metadata": {},
   "outputs": [
    {
     "data": {
      "text/plain": [
       "'Sir Auther'"
      ]
     },
     "execution_count": 45,
     "metadata": {},
     "output_type": "execute_result"
    }
   ],
   "source": [
    "def writer():\n",
    "    title = \"Sir\"\n",
    "    name = (lambda x:title + \" \" + x)\n",
    "    return name\n",
    "\n",
    "who = writer()\n",
    "\n",
    "who(\"Auther\")"
   ]
  },
  {
   "cell_type": "code",
   "execution_count": 57,
   "id": "ed4474b1",
   "metadata": {},
   "outputs": [
    {
     "data": {
      "text/plain": [
       "'Sir Auther'"
      ]
     },
     "execution_count": 57,
     "metadata": {},
     "output_type": "execute_result"
    }
   ],
   "source": [
    "def writer():\n",
    "    title = \"Sir\"\n",
    "    name = (lambda x:title + \" \" + x)\n",
    "    return name\n",
    "\n",
    "who = writer()\n",
    "\n",
    "who(\"Auther\")"
   ]
  },
  {
   "cell_type": "code",
   "execution_count": 12,
   "id": "9079e631",
   "metadata": {},
   "outputs": [
    {
     "name": "stdout",
     "output_type": "stream",
     "text": [
      "1\n",
      "5\n"
     ]
    }
   ],
   "source": [
    "mylist = [1,5,5,5,5,1]\n",
    "\n",
    "max_of_list= mylist[0]\n",
    "indexOfmax = 0\n",
    "\n",
    "for i in range(1, len(mylist)):\n",
    "    if mylist[i]> max_of_list:\n",
    "        \n",
    "        max_of_list = mylist[i]\n",
    "        indexofmax = i\n",
    "        \n",
    "print(indexofmax)\n",
    "print(max_of_list)"
   ]
  },
  {
   "cell_type": "code",
   "execution_count": 2,
   "id": "878af032",
   "metadata": {},
   "outputs": [
    {
     "data": {
      "text/plain": [
       "False"
      ]
     },
     "execution_count": 2,
     "metadata": {},
     "output_type": "execute_result"
    }
   ],
   "source": [
    "1>1"
   ]
  },
  {
   "cell_type": "code",
   "execution_count": 64,
   "id": "427986a0",
   "metadata": {},
   "outputs": [
    {
     "name": "stdout",
     "output_type": "stream",
     "text": [
      "3\n",
      "1\n"
     ]
    }
   ],
   "source": [
    "def foo(fname, val):\n",
    "    print(fname(val))\n",
    "    \n",
    "foo(max, [1,2,3])\n",
    "foo(min, [1,2,3])"
   ]
  },
  {
   "cell_type": "code",
   "execution_count": 4,
   "id": "b978e84f",
   "metadata": {},
   "outputs": [
    {
     "data": {
      "text/plain": [
       "3"
      ]
     },
     "execution_count": 4,
     "metadata": {},
     "output_type": "execute_result"
    }
   ],
   "source": [
    "max([1,2,3])"
   ]
  },
  {
   "cell_type": "code",
   "execution_count": 68,
   "id": "5b598e77",
   "metadata": {},
   "outputs": [
    {
     "name": "stdout",
     "output_type": "stream",
     "text": [
      "{'1': 5, '2': 2}\n",
      "{'1': 1, '2': 2}\n"
     ]
    }
   ],
   "source": [
    "kvps = {\"1\":1, \"2\":2}\n",
    "\n",
    "thecopy = kvps.copy()\n",
    "\n",
    "kvps[\"1\"] = 5\n",
    "\n",
    "print(kvps)\n",
    "print(thecopy)"
   ]
  },
  {
   "cell_type": "code",
   "execution_count": 66,
   "id": "53bd9555",
   "metadata": {},
   "outputs": [
    {
     "name": "stdout",
     "output_type": "stream",
     "text": [
      "6\n"
     ]
    }
   ],
   "source": [
    "kvps = {\"1\":1, \"2\":2}\n",
    "\n",
    "thecopy = kvps.copy()\n",
    "\n",
    "kvps[\"1\"] = 5\n",
    "\n",
    "total = kvps[\"1\"] + thecopy[\"1\"]\n",
    "\n",
    "print(total)"
   ]
  },
  {
   "cell_type": "code",
   "execution_count": 1,
   "id": "de71b37e",
   "metadata": {},
   "outputs": [
    {
     "name": "stdout",
     "output_type": "stream",
     "text": [
      "{'1': 1, '2': 2}\n",
      "{'1': 5, '2': 2}\n"
     ]
    }
   ],
   "source": [
    "kvps = {\"1\":1, \"2\":2}\n",
    "\n",
    "thecopy = kvps.copy()\n",
    "\n",
    "thecopy[\"1\"] = 5\n",
    "\n",
    "print(kvps)\n",
    "print(thecopy)"
   ]
  },
  {
   "cell_type": "code",
   "execution_count": 3,
   "id": "bcc54aa4",
   "metadata": {},
   "outputs": [
    {
     "name": "stdout",
     "output_type": "stream",
     "text": [
      "{'a': 1, 'b': [2, 3, 4]}\n",
      "{'a': 5, 'b': [2, 3, 4]}\n"
     ]
    }
   ],
   "source": [
    "d1 = {'a':1, 'b':[2,3,4]}\n",
    "d2 = d1.copy()\n",
    "\n",
    "d2['a'] = 5\n",
    "\n",
    "print(d1)\n",
    "print(d2)"
   ]
  },
  {
   "cell_type": "code",
   "execution_count": null,
   "id": "91e1b2c6",
   "metadata": {},
   "outputs": [],
   "source": []
  },
  {
   "cell_type": "code",
   "execution_count": null,
   "id": "72507731",
   "metadata": {},
   "outputs": [],
   "source": []
  },
  {
   "cell_type": "code",
   "execution_count": null,
   "id": "5a812a42",
   "metadata": {},
   "outputs": [],
   "source": []
  },
  {
   "cell_type": "code",
   "execution_count": 9,
   "id": "80fd5055",
   "metadata": {},
   "outputs": [
    {
     "name": "stdout",
     "output_type": "stream",
     "text": [
      "[1, 2, 3]\n",
      "[1, 2, 3, 1]\n"
     ]
    }
   ],
   "source": [
    "lst = [1,2,3]\n",
    "lst2 = lst.copy()\n",
    "lst2.append(1)\n",
    "\n",
    "print(lst)\n",
    "print(lst2)"
   ]
  },
  {
   "cell_type": "code",
   "execution_count": 10,
   "id": "8712bfd3",
   "metadata": {},
   "outputs": [
    {
     "name": "stdout",
     "output_type": "stream",
     "text": [
      "[1, 2, 3, 1]\n",
      "[1, 2, 3, 1]\n"
     ]
    }
   ],
   "source": [
    "lst = [1,2,3]\n",
    "lst2 = lst\n",
    "lst2.append(1)\n",
    "\n",
    "print(lst)\n",
    "print(lst2)"
   ]
  },
  {
   "cell_type": "code",
   "execution_count": 11,
   "id": "f103c0b3",
   "metadata": {},
   "outputs": [
    {
     "name": "stdout",
     "output_type": "stream",
     "text": [
      "{'a': 1, 'b': 3, 'c': 5}\n",
      "{'a': 1, 'b': 10, 'c': 5}\n"
     ]
    }
   ],
   "source": [
    "dict1 = {'a':1, 'b': 3, 'c':5}\n",
    "\n",
    "dict2 = dict1.copy()    # By doing this change in dict2 will not affect dict1\n",
    "\n",
    "dict2['b'] = 10\n",
    "\n",
    "print(dict1)\n",
    "print(dict2)"
   ]
  },
  {
   "cell_type": "code",
   "execution_count": 12,
   "id": "68aa737a",
   "metadata": {},
   "outputs": [
    {
     "name": "stdout",
     "output_type": "stream",
     "text": [
      "Original list:  [1, 2, [3, 5], 4]\n",
      "\n",
      "After copy.copy() and changing the value \n",
      "List :  [1, 2, [10, 5], 4]\n",
      "Original list after changing the value:  [1, 2, [10, 5], 4]\n",
      "\n"
     ]
    }
   ],
   "source": [
    "# importing copy module\n",
    "import copy\n",
    "  \n",
    "# initializing list 1 \n",
    "li1 = [1, 2, [3,5], 4]\n",
    "print(\"Original list: \", li1)\n",
    "print()\n",
    "# using copy for shallow copy  \n",
    "li2 = copy.copy(li1) \n",
    "li2[2][0] = 10\n",
    "print(\"After copy.copy() and changing the value \\nList : \", li2)\n",
    "print(\"Original list after changing the value: \", li1)\n",
    "print() "
   ]
  },
  {
   "cell_type": "code",
   "execution_count": 13,
   "id": "70a9c7d5",
   "metadata": {},
   "outputs": [
    {
     "name": "stdout",
     "output_type": "stream",
     "text": [
      "Original list:  [1, 2, [3, 5], 4]\n",
      "\n",
      "After deep.copy() and changing the value \n",
      "List :  [1, 2, [10, 5], 4]\n",
      "Original list after doing deepcopy:  [1, 2, [3, 5], 4]\n"
     ]
    }
   ],
   "source": [
    "# importing copy module\n",
    "import copy\n",
    "  \n",
    "# initializing list 1 \n",
    "li1 = [1, 2, [3,5], 4]\n",
    "print(\"Original list: \", li1)\n",
    "print()\n",
    "# using deepcopy for deepcopy  \n",
    "li3 = copy.deepcopy(li1) \n",
    "li3[2][0] = 10\n",
    " \n",
    "print(\"After deep.copy() and changing the value \\nList : \", li3)\n",
    "print(\"Original list after doing deepcopy: \", li1)"
   ]
  },
  {
   "cell_type": "code",
   "execution_count": 12,
   "id": "c32cb6d8",
   "metadata": {},
   "outputs": [
    {
     "name": "stdout",
     "output_type": "stream",
     "text": [
      "The original elements before deep copying\n",
      "1 2 [3, 5] 4 \r\n",
      "The new list of elements after deep copying \n",
      "1 2 [7, 5] 4 \r\n",
      "The original elements after deep copying\n",
      "1 2 [3, 5] 4 "
     ]
    }
   ],
   "source": [
    "# Python code to demonstrate copy operations\n",
    "  \n",
    "# importing \"copy\" for copy operations\n",
    "import copy\n",
    "  \n",
    "# initializing list 1\n",
    "li1 = [1, 2, [3,5], 4]\n",
    "  \n",
    "# using deepcopy to deep copy \n",
    "li2 = copy.deepcopy(li1)\n",
    "  \n",
    "# original elements of list\n",
    "print (\"The original elements before deep copying\")\n",
    "for i in range(0,len(li1)):\n",
    "    print (li1[i],end=\" \")\n",
    "\n",
    "    \n",
    "print(\"\\r\")\n",
    "  \n",
    "# adding and element to new list\n",
    "li2[2][0] = 7\n",
    "  \n",
    "# Change is reflected in l2 \n",
    "print (\"The new list of elements after deep copying \")\n",
    "for i in range(0,len( li1)):\n",
    "    print (li2[i],end=\" \")\n",
    "\n",
    "print(\"\\r\")\n",
    "  \n",
    "# Change is NOT reflected in original list\n",
    "# as it is a deep copy\n",
    "print (\"The original elements after deep copying\")\n",
    "for i in range(0,len( li1)):\n",
    "    print (li1[i],end=\" \")"
   ]
  },
  {
   "cell_type": "code",
   "execution_count": 14,
   "id": "3e7182c7",
   "metadata": {},
   "outputs": [
    {
     "name": "stdout",
     "output_type": "stream",
     "text": [
      "6\n"
     ]
    }
   ],
   "source": [
    "y = 2\n",
    "z = lambda x:x*y\n",
    "\n",
    "print(z(3))"
   ]
  },
  {
   "cell_type": "code",
   "execution_count": 13,
   "id": "f48817e0",
   "metadata": {},
   "outputs": [
    {
     "name": "stdout",
     "output_type": "stream",
     "text": [
      "x is :  50\n",
      "Changed local x to :  2\n",
      "x is still : 50\n"
     ]
    }
   ],
   "source": [
    "x = 50\n",
    "\n",
    "def func(x):\n",
    "    print(\"x is : \" ,x)\n",
    "    x = 2\n",
    "    print(\"Changed local x to : \", x)\n",
    "\n",
    "    \n",
    "func(x)\n",
    "print(\"x is still :\" , x)\n",
    "    "
   ]
  },
  {
   "cell_type": "code",
   "execution_count": 17,
   "id": "fd2603a3",
   "metadata": {},
   "outputs": [
    {
     "ename": "UnboundLocalError",
     "evalue": "local variable 'var1' referenced before assignment",
     "output_type": "error",
     "traceback": [
      "\u001b[1;31m---------------------------------------------------------------------------\u001b[0m",
      "\u001b[1;31mUnboundLocalError\u001b[0m                         Traceback (most recent call last)",
      "\u001b[1;32m~\\AppData\\Local\\Temp/ipykernel_14944/198828763.py\u001b[0m in \u001b[0;36m<module>\u001b[1;34m\u001b[0m\n\u001b[0;32m      6\u001b[0m     \u001b[0mprint\u001b[0m\u001b[1;33m(\u001b[0m\u001b[1;34m\"Value of var1:\"\u001b[0m\u001b[1;33m,\u001b[0m\u001b[0mvar1\u001b[0m\u001b[1;33m)\u001b[0m\u001b[1;33m\u001b[0m\u001b[1;33m\u001b[0m\u001b[0m\n\u001b[0;32m      7\u001b[0m \u001b[1;33m\u001b[0m\u001b[0m\n\u001b[1;32m----> 8\u001b[1;33m \u001b[0mexample1\u001b[0m\u001b[1;33m(\u001b[0m\u001b[1;33m)\u001b[0m\u001b[1;33m\u001b[0m\u001b[1;33m\u001b[0m\u001b[0m\n\u001b[0m",
      "\u001b[1;32m~\\AppData\\Local\\Temp/ipykernel_14944/198828763.py\u001b[0m in \u001b[0;36mexample1\u001b[1;34m()\u001b[0m\n\u001b[0;32m      2\u001b[0m \u001b[1;32mdef\u001b[0m \u001b[0mexample1\u001b[0m\u001b[1;33m(\u001b[0m\u001b[1;33m)\u001b[0m\u001b[1;33m:\u001b[0m\u001b[1;33m\u001b[0m\u001b[1;33m\u001b[0m\u001b[0m\n\u001b[0;32m      3\u001b[0m \u001b[1;33m\u001b[0m\u001b[0m\n\u001b[1;32m----> 4\u001b[1;33m     \u001b[0mprint\u001b[0m\u001b[1;33m(\u001b[0m\u001b[0mvar1\u001b[0m\u001b[1;33m)\u001b[0m\u001b[1;33m\u001b[0m\u001b[1;33m\u001b[0m\u001b[0m\n\u001b[0m\u001b[0;32m      5\u001b[0m     \u001b[0mvar1\u001b[0m\u001b[1;33m=\u001b[0m\u001b[1;36m100\u001b[0m\u001b[1;33m\u001b[0m\u001b[1;33m\u001b[0m\u001b[0m\n\u001b[0;32m      6\u001b[0m     \u001b[0mprint\u001b[0m\u001b[1;33m(\u001b[0m\u001b[1;34m\"Value of var1:\"\u001b[0m\u001b[1;33m,\u001b[0m\u001b[0mvar1\u001b[0m\u001b[1;33m)\u001b[0m\u001b[1;33m\u001b[0m\u001b[1;33m\u001b[0m\u001b[0m\n",
      "\u001b[1;31mUnboundLocalError\u001b[0m: local variable 'var1' referenced before assignment"
     ]
    }
   ],
   "source": [
    "var1=90\n",
    "def example1():\n",
    "    \n",
    "    print(var1)\n",
    "    var1=100\n",
    "    print(\"Value of var1:\",var1)\n",
    "    \n",
    "example1()"
   ]
  },
  {
   "cell_type": "code",
   "execution_count": 20,
   "id": "1edcab5c",
   "metadata": {},
   "outputs": [
    {
     "name": "stdout",
     "output_type": "stream",
     "text": [
      "90\n",
      "Value of var1: 100\n",
      "Out side Function 90\n"
     ]
    }
   ],
   "source": [
    "var1=90\n",
    "def example1(var1):\n",
    "    \n",
    "    print(var1)\n",
    "    var1=100\n",
    "    print(\"Value of var1:\",var1)\n",
    "    \n",
    "example1(var1)\n",
    "print(\"Out side Function\", var1)"
   ]
  },
  {
   "cell_type": "code",
   "execution_count": 16,
   "id": "4d07ee0c",
   "metadata": {},
   "outputs": [
    {
     "name": "stdout",
     "output_type": "stream",
     "text": [
      "test of B called\n",
      "test of C called\n",
      "test of A called\n"
     ]
    }
   ],
   "source": [
    "class A:\n",
    "    def test(self):\n",
    "        print(\"test of A called\")\n",
    "class B(A):\n",
    "    def test(self):\n",
    "        print(\"test of B called\")\n",
    "        super().test()\n",
    "class C(A):\n",
    "    def test(self):\n",
    "        print(\"test of C called\")\n",
    "        super().test()\n",
    "class D(B, C):\n",
    "    def test2(self):\n",
    "        print(\"test of D called\")\n",
    "        \n",
    "obj = D()\n",
    "obj.test()\n"
   ]
  },
  {
   "cell_type": "code",
   "execution_count": 17,
   "id": "57517b62",
   "metadata": {},
   "outputs": [
    {
     "name": "stdout",
     "output_type": "stream",
     "text": [
      "test of D called\n"
     ]
    }
   ],
   "source": [
    "obj.test2()"
   ]
  },
  {
   "cell_type": "code",
   "execution_count": 18,
   "id": "bf059234",
   "metadata": {},
   "outputs": [
    {
     "name": "stdout",
     "output_type": "stream",
     "text": [
      "test of D called\n",
      "test of B called\n",
      "test of C called\n",
      "test of A called\n"
     ]
    }
   ],
   "source": [
    "class A:\n",
    "    def test(self):\n",
    "        print(\"test of A called\")\n",
    "class B(A):\n",
    "    def test(self):\n",
    "        print(\"test of B called\")\n",
    "        super().test()\n",
    "class C(A):\n",
    "    def test(self):\n",
    "        print(\"test of C called\")\n",
    "        super().test()\n",
    "class D(B, C):\n",
    "    def test2(self):\n",
    "        print(\"test of D called\")\n",
    "        super().test()\n",
    "obj = D()\n",
    "obj.test2()\n"
   ]
  },
  {
   "cell_type": "code",
   "execution_count": 19,
   "id": "9de3fc1c",
   "metadata": {},
   "outputs": [
    {
     "name": "stdout",
     "output_type": "stream",
     "text": [
      "test of B called\n",
      "test of C called\n",
      "test of A called\n"
     ]
    }
   ],
   "source": [
    "obj = D()\n",
    "obj.test()"
   ]
  },
  {
   "cell_type": "code",
   "execution_count": 31,
   "id": "56a443ed",
   "metadata": {},
   "outputs": [],
   "source": [
    "# x = \"abcdef\"\n",
    "\n",
    "# i = 'a'\n",
    "\n",
    "# while i in x:\n",
    "#     print(i, end= \" \")\n",
    "    \n",
    "# # output will be a a a a a a......."
   ]
  },
  {
   "cell_type": "code",
   "execution_count": 20,
   "id": "b51f6a91",
   "metadata": {},
   "outputs": [],
   "source": [
    "def printme(str):\n",
    "    \"This Function\"\n",
    "    \n",
    "    print(str)\n",
    "    return \n",
    "\n",
    "# no output "
   ]
  },
  {
   "cell_type": "code",
   "execution_count": 21,
   "id": "a0a37c44",
   "metadata": {},
   "outputs": [
    {
     "name": "stdout",
     "output_type": "stream",
     "text": [
      "0\n",
      "1\n",
      "2\n"
     ]
    }
   ],
   "source": [
    "x = (i for i in range(3))\n",
    "\n",
    "for i in x:\n",
    "    print(i)\n",
    "    \n",
    "for i in x:\n",
    "    print(i)"
   ]
  },
  {
   "cell_type": "code",
   "execution_count": 18,
   "id": "d3a74542",
   "metadata": {},
   "outputs": [
    {
     "name": "stdout",
     "output_type": "stream",
     "text": [
      "0\n",
      "1\n",
      "2\n",
      "\r\n"
     ]
    }
   ],
   "source": [
    "x = (i for i in range(3))\n",
    "\n",
    "for i in x:\n",
    "    print(i)\n",
    "    \n",
    "print(\"\\r\") \n",
    "\n",
    "for i in x:\n",
    "    print(i)"
   ]
  },
  {
   "cell_type": "code",
   "execution_count": 22,
   "id": "c5be643b",
   "metadata": {},
   "outputs": [
    {
     "name": "stdout",
     "output_type": "stream",
     "text": [
      "a\n",
      "b\n",
      "c\n"
     ]
    }
   ],
   "source": [
    "d = {0:\"a\", 1:\"b\", 2:\"c\"}\n",
    "\n",
    "for x in d.values():\n",
    "    print(x)"
   ]
  },
  {
   "cell_type": "code",
   "execution_count": 23,
   "id": "37eefec9",
   "metadata": {},
   "outputs": [
    {
     "name": "stdout",
     "output_type": "stream",
     "text": [
      "0\n",
      "1\n",
      "2\n"
     ]
    }
   ],
   "source": [
    "i = 0 \n",
    "\n",
    "while i<5:\n",
    "    print(i)\n",
    "    i+=1\n",
    "    if i == 3:\n",
    "        \n",
    "        break\n",
    "        \n",
    "else:\n",
    "    print(\"hello\")"
   ]
  },
  {
   "cell_type": "code",
   "execution_count": 24,
   "id": "29886a9e",
   "metadata": {},
   "outputs": [
    {
     "name": "stdout",
     "output_type": "stream",
     "text": [
      "0\n",
      "1\n",
      "2\n",
      "3\n",
      "4\n",
      "hello\n"
     ]
    }
   ],
   "source": [
    "i = 0 \n",
    "\n",
    "while i<5:\n",
    "    print(i)\n",
    "    i+=1\n",
    "    if i == 3:\n",
    "        continue\n",
    "        \n",
    "else:\n",
    "    print(\"hello\")"
   ]
  },
  {
   "cell_type": "code",
   "execution_count": 19,
   "id": "3c039268",
   "metadata": {},
   "outputs": [
    {
     "name": "stdout",
     "output_type": "stream",
     "text": [
      "3 1\n"
     ]
    }
   ],
   "source": [
    "class A:\n",
    "    def __init__(self, x):\n",
    "        self.x = x\n",
    "    def count(self, x):\n",
    "        self.x = self.x + 1\n",
    "class B(A):\n",
    "    def __init__(self, y = 0):\n",
    "        A.__init__(self, 3)\n",
    "        self.y = y\n",
    "        \n",
    "    def count(self):\n",
    "        self.y  +=1\n",
    "        \n",
    "def main():\n",
    "    obj = B()\n",
    "    obj.count()\n",
    "    \n",
    "    print(obj.x, obj.y)\n",
    "    \n",
    "main()"
   ]
  },
  {
   "cell_type": "markdown",
   "id": "b8751494",
   "metadata": {},
   "source": [
    "#### which package management software is used by fedora\n",
    "\n",
    "Fortunately, Fedora uses a software management system called RPM Package Manager or simply RPM (formerly RedHat Package Manager). RPM rolls all of the programs, scripts, documentation, configuration files, and data used by a piece of software into a single file called a package"
   ]
  },
  {
   "cell_type": "code",
   "execution_count": 26,
   "id": "3c7bb87c",
   "metadata": {},
   "outputs": [
    {
     "name": "stdout",
     "output_type": "stream",
     "text": [
      "1\n"
     ]
    }
   ],
   "source": [
    "def foo():\n",
    "    \n",
    "    return total + 1\n",
    "\n",
    "total = 0\n",
    "\n",
    "print(foo())"
   ]
  },
  {
   "cell_type": "code",
   "execution_count": 27,
   "id": "9dbcc956",
   "metadata": {},
   "outputs": [
    {
     "data": {
      "text/plain": [
       "2"
      ]
     },
     "execution_count": 27,
     "metadata": {},
     "output_type": "execute_result"
    }
   ],
   "source": [
    "lst1 = [3,4,5,20,5]\n",
    "lst1.index(5)"
   ]
  },
  {
   "cell_type": "markdown",
   "id": "4df61a7b",
   "metadata": {},
   "source": [
    "#### the return type of  function ID is ____\n",
    "\n",
    "Execute help(id) to find out details in python shell.id returns a `integer value` that is `unique`"
   ]
  },
  {
   "cell_type": "code",
   "execution_count": 14,
   "id": "5e5a3b21",
   "metadata": {},
   "outputs": [
    {
     "data": {
      "text/plain": [
       "{1: 4, '1': 2}"
      ]
     },
     "execution_count": 14,
     "metadata": {},
     "output_type": "execute_result"
    }
   ],
   "source": [
    "confusion = {}\n",
    "confusion[1] = 1\n",
    "confusion[\"1\"] = 2\n",
    "confusion[1.0] = 4\n",
    "confusion       # As we can see that int 1 hasn't asign while float 1.0 has been asigned \n",
    "\n",
    "# need to care about output order of the sentence , float value has been last and came fist "
   ]
  },
  {
   "cell_type": "code",
   "execution_count": 15,
   "id": "688457aa",
   "metadata": {},
   "outputs": [
    {
     "data": {
      "text/plain": [
       "{1: 4, '1': 2}"
      ]
     },
     "execution_count": 15,
     "metadata": {},
     "output_type": "execute_result"
    }
   ],
   "source": [
    "confusion = {}\n",
    "confusion[1] = 1\n",
    "confusion[1.0] = 4\n",
    "confusion[\"1\"] = 2\n",
    "\n",
    "confusion # look at the output even by changing the order of assignmenet output hasn't change \n",
    "          # that's means flaot will come first an the string "
   ]
  },
  {
   "cell_type": "code",
   "execution_count": 29,
   "id": "7b70775d",
   "metadata": {},
   "outputs": [
    {
     "name": "stdout",
     "output_type": "stream",
     "text": [
      "4\n",
      "6\n"
     ]
    }
   ],
   "source": [
    "confusion = {}\n",
    "confusion[1] = 1\n",
    "confusion[\"1\"] = 2\n",
    "confusion[1.0] = 4\n",
    "sum = 0\n",
    "\n",
    "for k in confusion:\n",
    "    sum +=confusion[k]\n",
    "    print(sum)"
   ]
  },
  {
   "cell_type": "code",
   "execution_count": 30,
   "id": "ff1aed17",
   "metadata": {},
   "outputs": [
    {
     "name": "stdout",
     "output_type": "stream",
     "text": [
      "4\n",
      "6\n"
     ]
    },
    {
     "data": {
      "text/plain": [
       "{1: 4, '1': 2}"
      ]
     },
     "execution_count": 30,
     "metadata": {},
     "output_type": "execute_result"
    }
   ],
   "source": [
    "confusion = {}\n",
    "confusion[1] = 1\n",
    "confusion[\"1\"] = 2\n",
    "confusion[1.0] = 4\n",
    "total = 0\n",
    "\n",
    "for k in confusion:\n",
    "    total +=confusion[k]\n",
    "    print(total)\n",
    "    \n",
    "confusion"
   ]
  },
  {
   "cell_type": "code",
   "execution_count": 2,
   "id": "7bfb81f9",
   "metadata": {},
   "outputs": [
    {
     "name": "stdout",
     "output_type": "stream",
     "text": [
      "4\n"
     ]
    }
   ],
   "source": [
    "x = [12, 34]\n",
    "\n",
    "print(len(\"\".join(list(map(str, x)))))"
   ]
  },
  {
   "cell_type": "code",
   "execution_count": 1,
   "id": "27474737",
   "metadata": {},
   "outputs": [
    {
     "name": "stdout",
     "output_type": "stream",
     "text": [
      "['12', '34']\n"
     ]
    }
   ],
   "source": [
    "x = [12, 34]\n",
    "print(list(map(str, x)))"
   ]
  },
  {
   "cell_type": "code",
   "execution_count": 2,
   "id": "b2d6290f",
   "metadata": {},
   "outputs": [
    {
     "name": "stdout",
     "output_type": "stream",
     "text": [
      "1234\n"
     ]
    }
   ],
   "source": [
    "print(\"\".join(list(map(str, x))))"
   ]
  },
  {
   "cell_type": "code",
   "execution_count": 3,
   "id": "93a0f652",
   "metadata": {},
   "outputs": [
    {
     "data": {
      "text/plain": [
       "'1234'"
      ]
     },
     "execution_count": 3,
     "metadata": {},
     "output_type": "execute_result"
    }
   ],
   "source": [
    "\"\".join(map(str,[1,2,3,4])) # int can't be join by .join method"
   ]
  },
  {
   "cell_type": "code",
   "execution_count": 4,
   "id": "102fbd3b",
   "metadata": {},
   "outputs": [
    {
     "data": {
      "text/plain": [
       "[10, 20, 30, 40]"
      ]
     },
     "execution_count": 4,
     "metadata": {},
     "output_type": "execute_result"
    }
   ],
   "source": [
    "[x*5 for x in range(2, 10, 2)]"
   ]
  },
  {
   "cell_type": "code",
   "execution_count": 9,
   "id": "8988985d",
   "metadata": {},
   "outputs": [
    {
     "ename": "SyntaxError",
     "evalue": "invalid syntax (Temp/ipykernel_3076/3262998607.py, line 1)",
     "output_type": "error",
     "traceback": [
      "\u001b[1;36m  File \u001b[1;32m\"C:\\Users\\akshu\\AppData\\Local\\Temp/ipykernel_3076/3262998607.py\"\u001b[1;36m, line \u001b[1;32m1\u001b[0m\n\u001b[1;33m    [x*5 for x in range(2, 10, 2)] ,  str = input(\"Enter your input: \"); print \"Recieved input is: \", str\u001b[0m\n\u001b[1;37m                                                                                                   ^\u001b[0m\n\u001b[1;31mSyntaxError\u001b[0m\u001b[1;31m:\u001b[0m invalid syntax\n"
     ]
    }
   ],
   "source": [
    "[x*5 for x in range(2, 10, 2)] ,  str = input(\"Enter your input: \"); print \"Recieved input is: \", str"
   ]
  },
  {
   "cell_type": "code",
   "execution_count": 5,
   "id": "1cfbf808",
   "metadata": {},
   "outputs": [
    {
     "name": "stdout",
     "output_type": "stream",
     "text": [
      "4 3 2 1 "
     ]
    }
   ],
   "source": [
    "for i in[1,2,3,4][::-1]:\n",
    "    print(i, end= \" \")"
   ]
  },
  {
   "cell_type": "markdown",
   "id": "17882474",
   "metadata": {},
   "source": [
    "IDLE- Integrated Development and Learning Environment"
   ]
  },
  {
   "cell_type": "markdown",
   "id": "c83da98f",
   "metadata": {},
   "source": [
    "#### What is your favorite Python IDE?\n",
    "\n",
    "Choices\n",
    "\n",
    "1. Eclipse\n",
    " \n",
    "2. Eric\n",
    " \n",
    "3. PyCharm\n",
    " \n",
    "4. A general-purpose text editor (Emacs, vi, gedit, etc.)\n",
    " \n",
    "5. Another lightweight editor (Bluefish, geany, etc.)\n",
    " \n",
    " Something else"
   ]
  },
  {
   "cell_type": "markdown",
   "id": "0c4b401f",
   "metadata": {},
   "source": [
    "### Functions in Python Math Module\n",
    "Here is the list of all the functions and attributes defined in math module with a brief explanation of what they do.\n",
    "\n",
    "List of Functions in Python Math Module\n",
    "Function\tDescription\n",
    "ceil(x)\tReturns the smallest integer greater than or equal to x.\n",
    "\n",
    "copysign(x, y)\tReturns x with the sign of y\n",
    "\n",
    "fabs(x)\tReturns the absolute value of x\n",
    "\n",
    "factorial(x)\tReturns the factorial of x\n",
    "\n",
    "floor(x)\tReturns the largest integer less than or equal to x\n",
    "\n",
    "fmod(x, y)\tReturns the remainder when x is divided by y\n",
    "\n",
    "frexp(x)\tReturns the mantissa and exponent of x as the pair (m, e)\n",
    "\n",
    "fsum(iterable)\tReturns an accurate floating point sum of values in the iterable\n",
    "\n",
    "isfinite(x)\tReturns True if x is neither an infinity nor a NaN (Not a Number)\n",
    "\n",
    "isinf(x)\tReturns True if x is a positive or negative infinity\n",
    "\n",
    "isnan(x)\tReturns True if x is a NaN\n",
    "\n",
    "ldexp(x, i)\tReturns x * (2**i)\n",
    "\n",
    "modf(x)\tReturns the fractional and integer parts of x\n",
    "\n",
    "trunc(x)\tReturns the truncated integer value of x\n",
    "\n",
    "exp(x)\tReturns e**x\n",
    "\n",
    "expm1(x)\tReturns e**x - 1\n",
    "\n",
    "log(x[, b])\tReturns the logarithm of x to the base b (defaults to e)\n",
    "\n",
    "log1p(x)\tReturns the natural logarithm of 1+x\n",
    "\n",
    "log2(x)\tReturns the base-2 logarithm of x\n",
    "\n",
    "log10(x)\tReturns the base-10 logarithm of x\n",
    "\n",
    "pow(x, y)\tReturns x raised to the power y\n",
    "\n",
    "sqrt(x)\tReturns the square root of x\n",
    "\n",
    "acos(x)\tReturns the arc cosine of x\n",
    "\n",
    "asin(x)\tReturns the arc sine of x\n",
    "\n",
    "atan(x)\tReturns the arc tangent of x\n",
    "\n",
    "atan2(y, x)\tReturns atan(y / x)\n",
    "\n",
    "cos(x)\tReturns the cosine of x\n",
    "\n",
    "hypot(x, y)\tReturns the Euclidean norm, sqrt(x*x + y*y)\n",
    "\n",
    "sin(x)\tReturns the sine of x\n",
    "\n",
    "tan(x)\tReturns the tangent of x\n",
    "\n",
    "degrees(x)\tConverts angle x from radians to degrees\n",
    "\n",
    "radians(x)\tConverts angle x from degrees to radians\n",
    "\n",
    "acosh(x)\tReturns the inverse hyperbolic cosine of x\n",
    "\n",
    "asinh(x)\tReturns the inverse hyperbolic sine of x\n",
    "\n",
    "atanh(x)\tReturns the inverse hyperbolic tangent of x\n",
    "\n",
    "cosh(x)\tReturns the hyperbolic cosine of x\n",
    "\n",
    "sinh(x)\tReturns the hyperbolic cosine of x\n",
    "\n",
    "tanh(x)\tReturns the hyperbolic tangent of x\n",
    "\n",
    "erf(x)\tReturns the error function at x\n",
    "\n",
    "erfc(x)\tReturns the complementary error function at x\n",
    "\n",
    "gamma(x)\tReturns the Gamma function at x\n",
    "\n",
    "lgamma(x)\tReturns the natural logarithm of the absolute value of the Gamma function at x\n",
    "\n",
    "pi\tMathematical constant, the ratio of circumference of a circle to it's diameter (3.14159...)\n",
    "\n",
    "e\tmathematical constant e (2.71828...)"
   ]
  },
  {
   "cell_type": "code",
   "execution_count": 6,
   "id": "b7217cf0",
   "metadata": {},
   "outputs": [
    {
     "name": "stdout",
     "output_type": "stream",
     "text": [
      "[1]\n",
      "[1, 2]\n",
      "[1, 2, 3]\n"
     ]
    }
   ],
   "source": [
    "def f(a, L=[]):\n",
    "    L.append(a)\n",
    "    \n",
    "    return L\n",
    "\n",
    "print(f(1))\n",
    "print(f(2))\n",
    "print(f(3))"
   ]
  },
  {
   "cell_type": "code",
   "execution_count": 7,
   "id": "9ce56ce4",
   "metadata": {},
   "outputs": [
    {
     "name": "stdout",
     "output_type": "stream",
     "text": [
      "0 1 1 2 "
     ]
    }
   ],
   "source": [
    "def a(n):\n",
    "    if n == 0:\n",
    "        return 0\n",
    "    elif n == 1:\n",
    "        return 1\n",
    "    else:\n",
    "        return a(n-1)+a(n-2)\n",
    "\n",
    "for i in range(0, 4):\n",
    "    print(a(i), end = \" \")"
   ]
  },
  {
   "cell_type": "code",
   "execution_count": 5,
   "id": "ded786e8",
   "metadata": {},
   "outputs": [
    {
     "data": {
      "text/plain": [
       "['In',\n",
       " 'Out',\n",
       " '_',\n",
       " '_1',\n",
       " '_3',\n",
       " '__',\n",
       " '___',\n",
       " '__builtin__',\n",
       " '__builtins__',\n",
       " '__doc__',\n",
       " '__loader__',\n",
       " '__name__',\n",
       " '__package__',\n",
       " '__spec__',\n",
       " '_dh',\n",
       " '_i',\n",
       " '_i1',\n",
       " '_i2',\n",
       " '_i3',\n",
       " '_i4',\n",
       " '_i5',\n",
       " '_ih',\n",
       " '_ii',\n",
       " '_iii',\n",
       " '_oh',\n",
       " 'a',\n",
       " 'exit',\n",
       " 'f',\n",
       " 'get_ipython',\n",
       " 'i',\n",
       " 'quit']"
      ]
     },
     "execution_count": 5,
     "metadata": {},
     "output_type": "execute_result"
    }
   ],
   "source": [
    "dir()  #  dir() is a powerful inbuilt function in Python3, which returns list of the attributes \n",
    "        # and methods of any object (say functions , modules, strings, lists, dictionaries etc.)"
   ]
  },
  {
   "cell_type": "code",
   "execution_count": 8,
   "id": "ff7692c0",
   "metadata": {
    "scrolled": true
   },
   "outputs": [
    {
     "name": "stdout",
     "output_type": "stream",
     "text": [
      "\n",
      "Welcome to Python 3.7's help utility!\n",
      "\n",
      "If this is your first time using Python, you should definitely check out\n",
      "the tutorial on the Internet at https://docs.python.org/3.7/tutorial/.\n",
      "\n",
      "Enter the name of any module, keyword, or topic to get help on writing\n",
      "Python programs and using Python modules.  To quit this help utility and\n",
      "return to the interpreter, just type \"quit\".\n",
      "\n",
      "To get a list of available modules, keywords, symbols, or topics, type\n",
      "\"modules\", \"keywords\", \"symbols\", or \"topics\".  Each module also comes\n",
      "with a one-line summary of what it does; to list the modules whose name\n",
      "or summary contain a given string such as \"spam\", type \"modules spam\".\n",
      "\n",
      "help> quit\n",
      "\n",
      "You are now leaving help and returning to the Python interpreter.\n",
      "If you want to ask for help on a particular object directly from the\n",
      "interpreter, you can type \"help(object)\".  Executing \"help('string')\"\n",
      "has the same effect as typing a particular string at the help> prompt.\n"
     ]
    },
    {
     "data": {
      "text/plain": [
       "'\\nThe Python help function is used to display the documentation of modules, functions, \\nclasses, keywords, etc.\\n'"
      ]
     },
     "execution_count": 8,
     "metadata": {},
     "output_type": "execute_result"
    }
   ],
   "source": [
    "help()\n",
    "\"\"\"\n",
    "The Python help function is used to display the documentation of modules, functions, \n",
    "classes, keywords, etc.\n",
    "\"\"\""
   ]
  },
  {
   "cell_type": "code",
   "execution_count": 9,
   "id": "16598979",
   "metadata": {},
   "outputs": [
    {
     "ename": "SyntaxError",
     "evalue": "Missing parentheses in call to 'print'. Did you mean print(kvps[\"password\"])? (Temp/ipykernel_7116/2873908198.py, line 3)",
     "output_type": "error",
     "traceback": [
      "\u001b[1;36m  File \u001b[1;32m\"C:\\Users\\akshu\\AppData\\Local\\Temp/ipykernel_7116/2873908198.py\"\u001b[1;36m, line \u001b[1;32m3\u001b[0m\n\u001b[1;33m    print kvps[\"password\"]\u001b[0m\n\u001b[1;37m             ^\u001b[0m\n\u001b[1;31mSyntaxError\u001b[0m\u001b[1;31m:\u001b[0m Missing parentheses in call to 'print'. Did you mean print(kvps[\"password\"])?\n"
     ]
    }
   ],
   "source": [
    "kvps = {\"user\", \"bill\",\"password\", \"hillary\"}\n",
    "\n",
    "print kvps[\"password\"]"
   ]
  },
  {
   "cell_type": "code",
   "execution_count": 10,
   "id": "cb2c2a18",
   "metadata": {},
   "outputs": [
    {
     "ename": "TypeError",
     "evalue": "'set' object is not subscriptable",
     "output_type": "error",
     "traceback": [
      "\u001b[1;31m---------------------------------------------------------------------------\u001b[0m",
      "\u001b[1;31mTypeError\u001b[0m                                 Traceback (most recent call last)",
      "\u001b[1;32m~\\AppData\\Local\\Temp/ipykernel_7116/3174018261.py\u001b[0m in \u001b[0;36m<module>\u001b[1;34m\u001b[0m\n\u001b[0;32m      1\u001b[0m \u001b[0mkvps\u001b[0m \u001b[1;33m=\u001b[0m \u001b[1;33m{\u001b[0m\u001b[1;34m\"user\"\u001b[0m\u001b[1;33m,\u001b[0m \u001b[1;34m\"bill\"\u001b[0m\u001b[1;33m,\u001b[0m\u001b[1;34m\"password\"\u001b[0m\u001b[1;33m,\u001b[0m \u001b[1;34m\"hillary\"\u001b[0m\u001b[1;33m}\u001b[0m\u001b[1;33m\u001b[0m\u001b[1;33m\u001b[0m\u001b[0m\n\u001b[0;32m      2\u001b[0m \u001b[1;33m\u001b[0m\u001b[0m\n\u001b[1;32m----> 3\u001b[1;33m \u001b[0mprint\u001b[0m\u001b[1;33m(\u001b[0m\u001b[0mkvps\u001b[0m\u001b[1;33m[\u001b[0m\u001b[1;34m\"password\"\u001b[0m\u001b[1;33m]\u001b[0m\u001b[1;33m)\u001b[0m\u001b[1;33m\u001b[0m\u001b[1;33m\u001b[0m\u001b[0m\n\u001b[0m",
      "\u001b[1;31mTypeError\u001b[0m: 'set' object is not subscriptable"
     ]
    }
   ],
   "source": [
    "kvps = {\"user\", \"bill\",\"password\", \"hillary\"}\n",
    "\n",
    "print(kvps[\"password\"])"
   ]
  },
  {
   "cell_type": "code",
   "execution_count": 11,
   "id": "6d388ccd",
   "metadata": {},
   "outputs": [
    {
     "ename": "SyntaxError",
     "evalue": "invalid syntax (Temp/ipykernel_7116/1819030018.py, line 3)",
     "output_type": "error",
     "traceback": [
      "\u001b[1;36m  File \u001b[1;32m\"C:\\Users\\akshu\\AppData\\Local\\Temp/ipykernel_7116/1819030018.py\"\u001b[1;36m, line \u001b[1;32m3\u001b[0m\n\u001b[1;33m    print len(a)\u001b[0m\n\u001b[1;37m            ^\u001b[0m\n\u001b[1;31mSyntaxError\u001b[0m\u001b[1;31m:\u001b[0m invalid syntax\n"
     ]
    }
   ],
   "source": [
    "a = [1,2,3,None, (), [],]\n",
    "\n",
    "print len(a)"
   ]
  },
  {
   "cell_type": "code",
   "execution_count": 14,
   "id": "19461853",
   "metadata": {},
   "outputs": [
    {
     "name": "stdout",
     "output_type": "stream",
     "text": [
      "6\n"
     ]
    }
   ],
   "source": [
    "a = [1,2,3,None, (), [],]\n",
    "\n",
    "print(len(a))"
   ]
  },
  {
   "cell_type": "markdown",
   "id": "8026f585",
   "metadata": {},
   "source": [
    "#### What gets printed? Assuming python version 2.x\n",
    "The code that gets printed is python version <type 'int' >\n",
    "The language is used to develop various GUI applications. Type int is the integer and are either positive or negative without any decimal points. Thus, when the input is 2. x print type(l/2), <type int> will be the output."
   ]
  },
  {
   "cell_type": "code",
   "execution_count": 15,
   "id": "cee5a28b",
   "metadata": {},
   "outputs": [
    {
     "data": {
      "text/plain": [
       "0.3333333333333333"
      ]
     },
     "execution_count": 15,
     "metadata": {},
     "output_type": "execute_result"
    }
   ],
   "source": [
    "x = 1\n",
    "y = 3\n",
    "\n",
    "x/y"
   ]
  },
  {
   "cell_type": "code",
   "execution_count": 16,
   "id": "2cb86b1d",
   "metadata": {},
   "outputs": [
    {
     "data": {
      "text/plain": [
       "0.0"
      ]
     },
     "execution_count": 16,
     "metadata": {},
     "output_type": "execute_result"
    }
   ],
   "source": [
    "x =0\n",
    "y = 3\n",
    "\n",
    "x/y"
   ]
  },
  {
   "cell_type": "code",
   "execution_count": 17,
   "id": "4ef6453f",
   "metadata": {},
   "outputs": [
    {
     "ename": "ZeroDivisionError",
     "evalue": "division by zero",
     "output_type": "error",
     "traceback": [
      "\u001b[1;31m---------------------------------------------------------------------------\u001b[0m",
      "\u001b[1;31mZeroDivisionError\u001b[0m                         Traceback (most recent call last)",
      "\u001b[1;32m~\\AppData\\Local\\Temp/ipykernel_7116/4216461579.py\u001b[0m in \u001b[0;36m<module>\u001b[1;34m\u001b[0m\n\u001b[0;32m      2\u001b[0m \u001b[0my\u001b[0m \u001b[1;33m=\u001b[0m \u001b[1;36m0\u001b[0m\u001b[1;33m\u001b[0m\u001b[1;33m\u001b[0m\u001b[0m\n\u001b[0;32m      3\u001b[0m \u001b[1;33m\u001b[0m\u001b[0m\n\u001b[1;32m----> 4\u001b[1;33m \u001b[0mx\u001b[0m\u001b[1;33m/\u001b[0m\u001b[0my\u001b[0m\u001b[1;33m\u001b[0m\u001b[1;33m\u001b[0m\u001b[0m\n\u001b[0m",
      "\u001b[1;31mZeroDivisionError\u001b[0m: division by zero"
     ]
    }
   ],
   "source": [
    "x = 1\n",
    "y = 0\n",
    "\n",
    "x/y"
   ]
  },
  {
   "cell_type": "code",
   "execution_count": 19,
   "id": "603aeeb6",
   "metadata": {},
   "outputs": [
    {
     "data": {
      "text/plain": [
       "0.3333333333333333"
      ]
     },
     "execution_count": 19,
     "metadata": {},
     "output_type": "execute_result"
    }
   ],
   "source": [
    "x = 1\n",
    "y = 3\n",
    "\n",
    "float(x/y)"
   ]
  },
  {
   "cell_type": "code",
   "execution_count": 20,
   "id": "5a4f74c9",
   "metadata": {},
   "outputs": [
    {
     "data": {
      "text/plain": [
       "[(1, 0), (2, 0), (2, 1)]"
      ]
     },
     "execution_count": 20,
     "metadata": {},
     "output_type": "execute_result"
    }
   ],
   "source": [
    "[(a, b) for a in range(3) for b in range(a)]"
   ]
  },
  {
   "cell_type": "code",
   "execution_count": 22,
   "id": "fe02a4c2",
   "metadata": {},
   "outputs": [
    {
     "data": {
      "text/plain": [
       "[8, 10, 12]"
      ]
     },
     "execution_count": 22,
     "metadata": {},
     "output_type": "execute_result"
    }
   ],
   "source": [
    "a = [1, 2, 3]\n",
    "b = [7, 8, 9]\n",
    "[(x + y) for (x,y) in zip(a,b)]"
   ]
  },
  {
   "cell_type": "code",
   "execution_count": 23,
   "id": "9af7679f",
   "metadata": {},
   "outputs": [
    {
     "data": {
      "text/plain": [
       "[(1, 7), (1, 8), (1, 9), (2, 7), (2, 8), (2, 9), (3, 7), (3, 8), (3, 9)]"
      ]
     },
     "execution_count": 23,
     "metadata": {},
     "output_type": "execute_result"
    }
   ],
   "source": [
    "a = [1, 2, 3]\n",
    "b = [7, 8, 9]\n",
    "[(x,y) for x in a for y in b]"
   ]
  },
  {
   "cell_type": "code",
   "execution_count": 24,
   "id": "a6606b60",
   "metadata": {},
   "outputs": [
    {
     "data": {
      "text/plain": [
       "[10, 20, 30, 40, 50, 60, 70, 80, 90]"
      ]
     },
     "execution_count": 24,
     "metadata": {},
     "output_type": "execute_result"
    }
   ],
   "source": [
    "my_list = [[10,20,30],[40,50,60],[70,80,90]]\n",
    "flattened = [x for temp in my_list for x in temp]\n",
    "# output => [10, 20, 30, 40, 50, 60, 70, 80, 90]\n",
    "flattened"
   ]
  },
  {
   "cell_type": "code",
   "execution_count": 25,
   "id": "3ee4c7a0",
   "metadata": {},
   "outputs": [
    {
     "data": {
      "text/plain": [
       "[10, 30, 40, 60, 70, 90]"
      ]
     },
     "execution_count": 25,
     "metadata": {},
     "output_type": "execute_result"
    }
   ],
   "source": [
    "my_list = [[10,30],[40,60],[70,90]]\n",
    "flattened = [x for temp in my_list for x in temp]\n",
    "# output => [10, 20, 30, 40, 50, 60, 70, 80, 90]\n",
    "flattened"
   ]
  },
  {
   "cell_type": "code",
   "execution_count": 26,
   "id": "de0873a3",
   "metadata": {},
   "outputs": [
    {
     "name": "stdout",
     "output_type": "stream",
     "text": [
      "15 14 13 12 11 15 14 13 12 11 "
     ]
    },
    {
     "ename": "IndexError",
     "evalue": "list index out of range",
     "output_type": "error",
     "traceback": [
      "\u001b[1;31m---------------------------------------------------------------------------\u001b[0m",
      "\u001b[1;31mIndexError\u001b[0m                                Traceback (most recent call last)",
      "\u001b[1;32m~\\AppData\\Local\\Temp/ipykernel_7116/1376086467.py\u001b[0m in \u001b[0;36m<module>\u001b[1;34m\u001b[0m\n\u001b[0;32m      4\u001b[0m \u001b[1;33m\u001b[0m\u001b[0m\n\u001b[0;32m      5\u001b[0m \u001b[0mx\u001b[0m \u001b[1;33m=\u001b[0m \u001b[1;33m[\u001b[0m\u001b[1;36m11\u001b[0m\u001b[1;33m,\u001b[0m\u001b[1;36m12\u001b[0m\u001b[1;33m,\u001b[0m\u001b[1;36m13\u001b[0m\u001b[1;33m,\u001b[0m\u001b[1;36m14\u001b[0m\u001b[1;33m,\u001b[0m\u001b[1;36m15\u001b[0m\u001b[1;33m]\u001b[0m\u001b[1;33m\u001b[0m\u001b[1;33m\u001b[0m\u001b[0m\n\u001b[1;32m----> 6\u001b[1;33m \u001b[0mrev_func\u001b[0m\u001b[1;33m(\u001b[0m\u001b[0mx\u001b[0m\u001b[1;33m,\u001b[0m\u001b[1;36m5\u001b[0m\u001b[1;33m)\u001b[0m\u001b[1;33m\u001b[0m\u001b[1;33m\u001b[0m\u001b[0m\n\u001b[0m",
      "\u001b[1;32m~\\AppData\\Local\\Temp/ipykernel_7116/1376086467.py\u001b[0m in \u001b[0;36mrev_func\u001b[1;34m(x, length)\u001b[0m\n\u001b[0;32m      1\u001b[0m \u001b[1;32mdef\u001b[0m \u001b[0mrev_func\u001b[0m\u001b[1;33m(\u001b[0m\u001b[0mx\u001b[0m\u001b[1;33m,\u001b[0m \u001b[0mlength\u001b[0m\u001b[1;33m)\u001b[0m\u001b[1;33m:\u001b[0m\u001b[1;33m\u001b[0m\u001b[1;33m\u001b[0m\u001b[0m\n\u001b[0;32m      2\u001b[0m     \u001b[0mprint\u001b[0m\u001b[1;33m(\u001b[0m\u001b[0mx\u001b[0m\u001b[1;33m[\u001b[0m\u001b[0mlength\u001b[0m \u001b[1;33m-\u001b[0m \u001b[1;36m1\u001b[0m\u001b[1;33m]\u001b[0m\u001b[1;33m,\u001b[0m \u001b[0mend\u001b[0m \u001b[1;33m=\u001b[0m \u001b[1;34m\" \"\u001b[0m\u001b[1;33m)\u001b[0m\u001b[1;33m\u001b[0m\u001b[1;33m\u001b[0m\u001b[0m\n\u001b[1;32m----> 3\u001b[1;33m     \u001b[0mrev_func\u001b[0m\u001b[1;33m(\u001b[0m\u001b[0mx\u001b[0m\u001b[1;33m,\u001b[0m \u001b[0mlength\u001b[0m \u001b[1;33m-\u001b[0m \u001b[1;36m1\u001b[0m\u001b[1;33m)\u001b[0m\u001b[1;33m\u001b[0m\u001b[1;33m\u001b[0m\u001b[0m\n\u001b[0m\u001b[0;32m      4\u001b[0m \u001b[1;33m\u001b[0m\u001b[0m\n\u001b[0;32m      5\u001b[0m \u001b[0mx\u001b[0m \u001b[1;33m=\u001b[0m \u001b[1;33m[\u001b[0m\u001b[1;36m11\u001b[0m\u001b[1;33m,\u001b[0m\u001b[1;36m12\u001b[0m\u001b[1;33m,\u001b[0m\u001b[1;36m13\u001b[0m\u001b[1;33m,\u001b[0m\u001b[1;36m14\u001b[0m\u001b[1;33m,\u001b[0m\u001b[1;36m15\u001b[0m\u001b[1;33m]\u001b[0m\u001b[1;33m\u001b[0m\u001b[1;33m\u001b[0m\u001b[0m\n",
      "\u001b[1;32m~\\AppData\\Local\\Temp/ipykernel_7116/1376086467.py\u001b[0m in \u001b[0;36mrev_func\u001b[1;34m(x, length)\u001b[0m\n\u001b[0;32m      1\u001b[0m \u001b[1;32mdef\u001b[0m \u001b[0mrev_func\u001b[0m\u001b[1;33m(\u001b[0m\u001b[0mx\u001b[0m\u001b[1;33m,\u001b[0m \u001b[0mlength\u001b[0m\u001b[1;33m)\u001b[0m\u001b[1;33m:\u001b[0m\u001b[1;33m\u001b[0m\u001b[1;33m\u001b[0m\u001b[0m\n\u001b[0;32m      2\u001b[0m     \u001b[0mprint\u001b[0m\u001b[1;33m(\u001b[0m\u001b[0mx\u001b[0m\u001b[1;33m[\u001b[0m\u001b[0mlength\u001b[0m \u001b[1;33m-\u001b[0m \u001b[1;36m1\u001b[0m\u001b[1;33m]\u001b[0m\u001b[1;33m,\u001b[0m \u001b[0mend\u001b[0m \u001b[1;33m=\u001b[0m \u001b[1;34m\" \"\u001b[0m\u001b[1;33m)\u001b[0m\u001b[1;33m\u001b[0m\u001b[1;33m\u001b[0m\u001b[0m\n\u001b[1;32m----> 3\u001b[1;33m     \u001b[0mrev_func\u001b[0m\u001b[1;33m(\u001b[0m\u001b[0mx\u001b[0m\u001b[1;33m,\u001b[0m \u001b[0mlength\u001b[0m \u001b[1;33m-\u001b[0m \u001b[1;36m1\u001b[0m\u001b[1;33m)\u001b[0m\u001b[1;33m\u001b[0m\u001b[1;33m\u001b[0m\u001b[0m\n\u001b[0m\u001b[0;32m      4\u001b[0m \u001b[1;33m\u001b[0m\u001b[0m\n\u001b[0;32m      5\u001b[0m \u001b[0mx\u001b[0m \u001b[1;33m=\u001b[0m \u001b[1;33m[\u001b[0m\u001b[1;36m11\u001b[0m\u001b[1;33m,\u001b[0m\u001b[1;36m12\u001b[0m\u001b[1;33m,\u001b[0m\u001b[1;36m13\u001b[0m\u001b[1;33m,\u001b[0m\u001b[1;36m14\u001b[0m\u001b[1;33m,\u001b[0m\u001b[1;36m15\u001b[0m\u001b[1;33m]\u001b[0m\u001b[1;33m\u001b[0m\u001b[1;33m\u001b[0m\u001b[0m\n",
      "\u001b[1;32m~\\AppData\\Local\\Temp/ipykernel_7116/1376086467.py\u001b[0m in \u001b[0;36mrev_func\u001b[1;34m(x, length)\u001b[0m\n\u001b[0;32m      1\u001b[0m \u001b[1;32mdef\u001b[0m \u001b[0mrev_func\u001b[0m\u001b[1;33m(\u001b[0m\u001b[0mx\u001b[0m\u001b[1;33m,\u001b[0m \u001b[0mlength\u001b[0m\u001b[1;33m)\u001b[0m\u001b[1;33m:\u001b[0m\u001b[1;33m\u001b[0m\u001b[1;33m\u001b[0m\u001b[0m\n\u001b[0;32m      2\u001b[0m     \u001b[0mprint\u001b[0m\u001b[1;33m(\u001b[0m\u001b[0mx\u001b[0m\u001b[1;33m[\u001b[0m\u001b[0mlength\u001b[0m \u001b[1;33m-\u001b[0m \u001b[1;36m1\u001b[0m\u001b[1;33m]\u001b[0m\u001b[1;33m,\u001b[0m \u001b[0mend\u001b[0m \u001b[1;33m=\u001b[0m \u001b[1;34m\" \"\u001b[0m\u001b[1;33m)\u001b[0m\u001b[1;33m\u001b[0m\u001b[1;33m\u001b[0m\u001b[0m\n\u001b[1;32m----> 3\u001b[1;33m     \u001b[0mrev_func\u001b[0m\u001b[1;33m(\u001b[0m\u001b[0mx\u001b[0m\u001b[1;33m,\u001b[0m \u001b[0mlength\u001b[0m \u001b[1;33m-\u001b[0m \u001b[1;36m1\u001b[0m\u001b[1;33m)\u001b[0m\u001b[1;33m\u001b[0m\u001b[1;33m\u001b[0m\u001b[0m\n\u001b[0m\u001b[0;32m      4\u001b[0m \u001b[1;33m\u001b[0m\u001b[0m\n\u001b[0;32m      5\u001b[0m \u001b[0mx\u001b[0m \u001b[1;33m=\u001b[0m \u001b[1;33m[\u001b[0m\u001b[1;36m11\u001b[0m\u001b[1;33m,\u001b[0m\u001b[1;36m12\u001b[0m\u001b[1;33m,\u001b[0m\u001b[1;36m13\u001b[0m\u001b[1;33m,\u001b[0m\u001b[1;36m14\u001b[0m\u001b[1;33m,\u001b[0m\u001b[1;36m15\u001b[0m\u001b[1;33m]\u001b[0m\u001b[1;33m\u001b[0m\u001b[1;33m\u001b[0m\u001b[0m\n",
      "\u001b[1;32m~\\AppData\\Local\\Temp/ipykernel_7116/1376086467.py\u001b[0m in \u001b[0;36mrev_func\u001b[1;34m(x, length)\u001b[0m\n\u001b[0;32m      1\u001b[0m \u001b[1;32mdef\u001b[0m \u001b[0mrev_func\u001b[0m\u001b[1;33m(\u001b[0m\u001b[0mx\u001b[0m\u001b[1;33m,\u001b[0m \u001b[0mlength\u001b[0m\u001b[1;33m)\u001b[0m\u001b[1;33m:\u001b[0m\u001b[1;33m\u001b[0m\u001b[1;33m\u001b[0m\u001b[0m\n\u001b[0;32m      2\u001b[0m     \u001b[0mprint\u001b[0m\u001b[1;33m(\u001b[0m\u001b[0mx\u001b[0m\u001b[1;33m[\u001b[0m\u001b[0mlength\u001b[0m \u001b[1;33m-\u001b[0m \u001b[1;36m1\u001b[0m\u001b[1;33m]\u001b[0m\u001b[1;33m,\u001b[0m \u001b[0mend\u001b[0m \u001b[1;33m=\u001b[0m \u001b[1;34m\" \"\u001b[0m\u001b[1;33m)\u001b[0m\u001b[1;33m\u001b[0m\u001b[1;33m\u001b[0m\u001b[0m\n\u001b[1;32m----> 3\u001b[1;33m     \u001b[0mrev_func\u001b[0m\u001b[1;33m(\u001b[0m\u001b[0mx\u001b[0m\u001b[1;33m,\u001b[0m \u001b[0mlength\u001b[0m \u001b[1;33m-\u001b[0m \u001b[1;36m1\u001b[0m\u001b[1;33m)\u001b[0m\u001b[1;33m\u001b[0m\u001b[1;33m\u001b[0m\u001b[0m\n\u001b[0m\u001b[0;32m      4\u001b[0m \u001b[1;33m\u001b[0m\u001b[0m\n\u001b[0;32m      5\u001b[0m \u001b[0mx\u001b[0m \u001b[1;33m=\u001b[0m \u001b[1;33m[\u001b[0m\u001b[1;36m11\u001b[0m\u001b[1;33m,\u001b[0m\u001b[1;36m12\u001b[0m\u001b[1;33m,\u001b[0m\u001b[1;36m13\u001b[0m\u001b[1;33m,\u001b[0m\u001b[1;36m14\u001b[0m\u001b[1;33m,\u001b[0m\u001b[1;36m15\u001b[0m\u001b[1;33m]\u001b[0m\u001b[1;33m\u001b[0m\u001b[1;33m\u001b[0m\u001b[0m\n",
      "\u001b[1;32m~\\AppData\\Local\\Temp/ipykernel_7116/1376086467.py\u001b[0m in \u001b[0;36mrev_func\u001b[1;34m(x, length)\u001b[0m\n\u001b[0;32m      1\u001b[0m \u001b[1;32mdef\u001b[0m \u001b[0mrev_func\u001b[0m\u001b[1;33m(\u001b[0m\u001b[0mx\u001b[0m\u001b[1;33m,\u001b[0m \u001b[0mlength\u001b[0m\u001b[1;33m)\u001b[0m\u001b[1;33m:\u001b[0m\u001b[1;33m\u001b[0m\u001b[1;33m\u001b[0m\u001b[0m\n\u001b[0;32m      2\u001b[0m     \u001b[0mprint\u001b[0m\u001b[1;33m(\u001b[0m\u001b[0mx\u001b[0m\u001b[1;33m[\u001b[0m\u001b[0mlength\u001b[0m \u001b[1;33m-\u001b[0m \u001b[1;36m1\u001b[0m\u001b[1;33m]\u001b[0m\u001b[1;33m,\u001b[0m \u001b[0mend\u001b[0m \u001b[1;33m=\u001b[0m \u001b[1;34m\" \"\u001b[0m\u001b[1;33m)\u001b[0m\u001b[1;33m\u001b[0m\u001b[1;33m\u001b[0m\u001b[0m\n\u001b[1;32m----> 3\u001b[1;33m     \u001b[0mrev_func\u001b[0m\u001b[1;33m(\u001b[0m\u001b[0mx\u001b[0m\u001b[1;33m,\u001b[0m \u001b[0mlength\u001b[0m \u001b[1;33m-\u001b[0m \u001b[1;36m1\u001b[0m\u001b[1;33m)\u001b[0m\u001b[1;33m\u001b[0m\u001b[1;33m\u001b[0m\u001b[0m\n\u001b[0m\u001b[0;32m      4\u001b[0m \u001b[1;33m\u001b[0m\u001b[0m\n\u001b[0;32m      5\u001b[0m \u001b[0mx\u001b[0m \u001b[1;33m=\u001b[0m \u001b[1;33m[\u001b[0m\u001b[1;36m11\u001b[0m\u001b[1;33m,\u001b[0m\u001b[1;36m12\u001b[0m\u001b[1;33m,\u001b[0m\u001b[1;36m13\u001b[0m\u001b[1;33m,\u001b[0m\u001b[1;36m14\u001b[0m\u001b[1;33m,\u001b[0m\u001b[1;36m15\u001b[0m\u001b[1;33m]\u001b[0m\u001b[1;33m\u001b[0m\u001b[1;33m\u001b[0m\u001b[0m\n",
      "\u001b[1;32m~\\AppData\\Local\\Temp/ipykernel_7116/1376086467.py\u001b[0m in \u001b[0;36mrev_func\u001b[1;34m(x, length)\u001b[0m\n\u001b[0;32m      1\u001b[0m \u001b[1;32mdef\u001b[0m \u001b[0mrev_func\u001b[0m\u001b[1;33m(\u001b[0m\u001b[0mx\u001b[0m\u001b[1;33m,\u001b[0m \u001b[0mlength\u001b[0m\u001b[1;33m)\u001b[0m\u001b[1;33m:\u001b[0m\u001b[1;33m\u001b[0m\u001b[1;33m\u001b[0m\u001b[0m\n\u001b[0;32m      2\u001b[0m     \u001b[0mprint\u001b[0m\u001b[1;33m(\u001b[0m\u001b[0mx\u001b[0m\u001b[1;33m[\u001b[0m\u001b[0mlength\u001b[0m \u001b[1;33m-\u001b[0m \u001b[1;36m1\u001b[0m\u001b[1;33m]\u001b[0m\u001b[1;33m,\u001b[0m \u001b[0mend\u001b[0m \u001b[1;33m=\u001b[0m \u001b[1;34m\" \"\u001b[0m\u001b[1;33m)\u001b[0m\u001b[1;33m\u001b[0m\u001b[1;33m\u001b[0m\u001b[0m\n\u001b[1;32m----> 3\u001b[1;33m     \u001b[0mrev_func\u001b[0m\u001b[1;33m(\u001b[0m\u001b[0mx\u001b[0m\u001b[1;33m,\u001b[0m \u001b[0mlength\u001b[0m \u001b[1;33m-\u001b[0m \u001b[1;36m1\u001b[0m\u001b[1;33m)\u001b[0m\u001b[1;33m\u001b[0m\u001b[1;33m\u001b[0m\u001b[0m\n\u001b[0m\u001b[0;32m      4\u001b[0m \u001b[1;33m\u001b[0m\u001b[0m\n\u001b[0;32m      5\u001b[0m \u001b[0mx\u001b[0m \u001b[1;33m=\u001b[0m \u001b[1;33m[\u001b[0m\u001b[1;36m11\u001b[0m\u001b[1;33m,\u001b[0m\u001b[1;36m12\u001b[0m\u001b[1;33m,\u001b[0m\u001b[1;36m13\u001b[0m\u001b[1;33m,\u001b[0m\u001b[1;36m14\u001b[0m\u001b[1;33m,\u001b[0m\u001b[1;36m15\u001b[0m\u001b[1;33m]\u001b[0m\u001b[1;33m\u001b[0m\u001b[1;33m\u001b[0m\u001b[0m\n",
      "\u001b[1;32m~\\AppData\\Local\\Temp/ipykernel_7116/1376086467.py\u001b[0m in \u001b[0;36mrev_func\u001b[1;34m(x, length)\u001b[0m\n\u001b[0;32m      1\u001b[0m \u001b[1;32mdef\u001b[0m \u001b[0mrev_func\u001b[0m\u001b[1;33m(\u001b[0m\u001b[0mx\u001b[0m\u001b[1;33m,\u001b[0m \u001b[0mlength\u001b[0m\u001b[1;33m)\u001b[0m\u001b[1;33m:\u001b[0m\u001b[1;33m\u001b[0m\u001b[1;33m\u001b[0m\u001b[0m\n\u001b[0;32m      2\u001b[0m     \u001b[0mprint\u001b[0m\u001b[1;33m(\u001b[0m\u001b[0mx\u001b[0m\u001b[1;33m[\u001b[0m\u001b[0mlength\u001b[0m \u001b[1;33m-\u001b[0m \u001b[1;36m1\u001b[0m\u001b[1;33m]\u001b[0m\u001b[1;33m,\u001b[0m \u001b[0mend\u001b[0m \u001b[1;33m=\u001b[0m \u001b[1;34m\" \"\u001b[0m\u001b[1;33m)\u001b[0m\u001b[1;33m\u001b[0m\u001b[1;33m\u001b[0m\u001b[0m\n\u001b[1;32m----> 3\u001b[1;33m     \u001b[0mrev_func\u001b[0m\u001b[1;33m(\u001b[0m\u001b[0mx\u001b[0m\u001b[1;33m,\u001b[0m \u001b[0mlength\u001b[0m \u001b[1;33m-\u001b[0m \u001b[1;36m1\u001b[0m\u001b[1;33m)\u001b[0m\u001b[1;33m\u001b[0m\u001b[1;33m\u001b[0m\u001b[0m\n\u001b[0m\u001b[0;32m      4\u001b[0m \u001b[1;33m\u001b[0m\u001b[0m\n\u001b[0;32m      5\u001b[0m \u001b[0mx\u001b[0m \u001b[1;33m=\u001b[0m \u001b[1;33m[\u001b[0m\u001b[1;36m11\u001b[0m\u001b[1;33m,\u001b[0m\u001b[1;36m12\u001b[0m\u001b[1;33m,\u001b[0m\u001b[1;36m13\u001b[0m\u001b[1;33m,\u001b[0m\u001b[1;36m14\u001b[0m\u001b[1;33m,\u001b[0m\u001b[1;36m15\u001b[0m\u001b[1;33m]\u001b[0m\u001b[1;33m\u001b[0m\u001b[1;33m\u001b[0m\u001b[0m\n",
      "\u001b[1;32m~\\AppData\\Local\\Temp/ipykernel_7116/1376086467.py\u001b[0m in \u001b[0;36mrev_func\u001b[1;34m(x, length)\u001b[0m\n\u001b[0;32m      1\u001b[0m \u001b[1;32mdef\u001b[0m \u001b[0mrev_func\u001b[0m\u001b[1;33m(\u001b[0m\u001b[0mx\u001b[0m\u001b[1;33m,\u001b[0m \u001b[0mlength\u001b[0m\u001b[1;33m)\u001b[0m\u001b[1;33m:\u001b[0m\u001b[1;33m\u001b[0m\u001b[1;33m\u001b[0m\u001b[0m\n\u001b[0;32m      2\u001b[0m     \u001b[0mprint\u001b[0m\u001b[1;33m(\u001b[0m\u001b[0mx\u001b[0m\u001b[1;33m[\u001b[0m\u001b[0mlength\u001b[0m \u001b[1;33m-\u001b[0m \u001b[1;36m1\u001b[0m\u001b[1;33m]\u001b[0m\u001b[1;33m,\u001b[0m \u001b[0mend\u001b[0m \u001b[1;33m=\u001b[0m \u001b[1;34m\" \"\u001b[0m\u001b[1;33m)\u001b[0m\u001b[1;33m\u001b[0m\u001b[1;33m\u001b[0m\u001b[0m\n\u001b[1;32m----> 3\u001b[1;33m     \u001b[0mrev_func\u001b[0m\u001b[1;33m(\u001b[0m\u001b[0mx\u001b[0m\u001b[1;33m,\u001b[0m \u001b[0mlength\u001b[0m \u001b[1;33m-\u001b[0m \u001b[1;36m1\u001b[0m\u001b[1;33m)\u001b[0m\u001b[1;33m\u001b[0m\u001b[1;33m\u001b[0m\u001b[0m\n\u001b[0m\u001b[0;32m      4\u001b[0m \u001b[1;33m\u001b[0m\u001b[0m\n\u001b[0;32m      5\u001b[0m \u001b[0mx\u001b[0m \u001b[1;33m=\u001b[0m \u001b[1;33m[\u001b[0m\u001b[1;36m11\u001b[0m\u001b[1;33m,\u001b[0m\u001b[1;36m12\u001b[0m\u001b[1;33m,\u001b[0m\u001b[1;36m13\u001b[0m\u001b[1;33m,\u001b[0m\u001b[1;36m14\u001b[0m\u001b[1;33m,\u001b[0m\u001b[1;36m15\u001b[0m\u001b[1;33m]\u001b[0m\u001b[1;33m\u001b[0m\u001b[1;33m\u001b[0m\u001b[0m\n",
      "\u001b[1;32m~\\AppData\\Local\\Temp/ipykernel_7116/1376086467.py\u001b[0m in \u001b[0;36mrev_func\u001b[1;34m(x, length)\u001b[0m\n\u001b[0;32m      1\u001b[0m \u001b[1;32mdef\u001b[0m \u001b[0mrev_func\u001b[0m\u001b[1;33m(\u001b[0m\u001b[0mx\u001b[0m\u001b[1;33m,\u001b[0m \u001b[0mlength\u001b[0m\u001b[1;33m)\u001b[0m\u001b[1;33m:\u001b[0m\u001b[1;33m\u001b[0m\u001b[1;33m\u001b[0m\u001b[0m\n\u001b[0;32m      2\u001b[0m     \u001b[0mprint\u001b[0m\u001b[1;33m(\u001b[0m\u001b[0mx\u001b[0m\u001b[1;33m[\u001b[0m\u001b[0mlength\u001b[0m \u001b[1;33m-\u001b[0m \u001b[1;36m1\u001b[0m\u001b[1;33m]\u001b[0m\u001b[1;33m,\u001b[0m \u001b[0mend\u001b[0m \u001b[1;33m=\u001b[0m \u001b[1;34m\" \"\u001b[0m\u001b[1;33m)\u001b[0m\u001b[1;33m\u001b[0m\u001b[1;33m\u001b[0m\u001b[0m\n\u001b[1;32m----> 3\u001b[1;33m     \u001b[0mrev_func\u001b[0m\u001b[1;33m(\u001b[0m\u001b[0mx\u001b[0m\u001b[1;33m,\u001b[0m \u001b[0mlength\u001b[0m \u001b[1;33m-\u001b[0m \u001b[1;36m1\u001b[0m\u001b[1;33m)\u001b[0m\u001b[1;33m\u001b[0m\u001b[1;33m\u001b[0m\u001b[0m\n\u001b[0m\u001b[0;32m      4\u001b[0m \u001b[1;33m\u001b[0m\u001b[0m\n\u001b[0;32m      5\u001b[0m \u001b[0mx\u001b[0m \u001b[1;33m=\u001b[0m \u001b[1;33m[\u001b[0m\u001b[1;36m11\u001b[0m\u001b[1;33m,\u001b[0m\u001b[1;36m12\u001b[0m\u001b[1;33m,\u001b[0m\u001b[1;36m13\u001b[0m\u001b[1;33m,\u001b[0m\u001b[1;36m14\u001b[0m\u001b[1;33m,\u001b[0m\u001b[1;36m15\u001b[0m\u001b[1;33m]\u001b[0m\u001b[1;33m\u001b[0m\u001b[1;33m\u001b[0m\u001b[0m\n",
      "\u001b[1;32m~\\AppData\\Local\\Temp/ipykernel_7116/1376086467.py\u001b[0m in \u001b[0;36mrev_func\u001b[1;34m(x, length)\u001b[0m\n\u001b[0;32m      1\u001b[0m \u001b[1;32mdef\u001b[0m \u001b[0mrev_func\u001b[0m\u001b[1;33m(\u001b[0m\u001b[0mx\u001b[0m\u001b[1;33m,\u001b[0m \u001b[0mlength\u001b[0m\u001b[1;33m)\u001b[0m\u001b[1;33m:\u001b[0m\u001b[1;33m\u001b[0m\u001b[1;33m\u001b[0m\u001b[0m\n\u001b[0;32m      2\u001b[0m     \u001b[0mprint\u001b[0m\u001b[1;33m(\u001b[0m\u001b[0mx\u001b[0m\u001b[1;33m[\u001b[0m\u001b[0mlength\u001b[0m \u001b[1;33m-\u001b[0m \u001b[1;36m1\u001b[0m\u001b[1;33m]\u001b[0m\u001b[1;33m,\u001b[0m \u001b[0mend\u001b[0m \u001b[1;33m=\u001b[0m \u001b[1;34m\" \"\u001b[0m\u001b[1;33m)\u001b[0m\u001b[1;33m\u001b[0m\u001b[1;33m\u001b[0m\u001b[0m\n\u001b[1;32m----> 3\u001b[1;33m     \u001b[0mrev_func\u001b[0m\u001b[1;33m(\u001b[0m\u001b[0mx\u001b[0m\u001b[1;33m,\u001b[0m \u001b[0mlength\u001b[0m \u001b[1;33m-\u001b[0m \u001b[1;36m1\u001b[0m\u001b[1;33m)\u001b[0m\u001b[1;33m\u001b[0m\u001b[1;33m\u001b[0m\u001b[0m\n\u001b[0m\u001b[0;32m      4\u001b[0m \u001b[1;33m\u001b[0m\u001b[0m\n\u001b[0;32m      5\u001b[0m \u001b[0mx\u001b[0m \u001b[1;33m=\u001b[0m \u001b[1;33m[\u001b[0m\u001b[1;36m11\u001b[0m\u001b[1;33m,\u001b[0m\u001b[1;36m12\u001b[0m\u001b[1;33m,\u001b[0m\u001b[1;36m13\u001b[0m\u001b[1;33m,\u001b[0m\u001b[1;36m14\u001b[0m\u001b[1;33m,\u001b[0m\u001b[1;36m15\u001b[0m\u001b[1;33m]\u001b[0m\u001b[1;33m\u001b[0m\u001b[1;33m\u001b[0m\u001b[0m\n",
      "\u001b[1;32m~\\AppData\\Local\\Temp/ipykernel_7116/1376086467.py\u001b[0m in \u001b[0;36mrev_func\u001b[1;34m(x, length)\u001b[0m\n\u001b[0;32m      1\u001b[0m \u001b[1;32mdef\u001b[0m \u001b[0mrev_func\u001b[0m\u001b[1;33m(\u001b[0m\u001b[0mx\u001b[0m\u001b[1;33m,\u001b[0m \u001b[0mlength\u001b[0m\u001b[1;33m)\u001b[0m\u001b[1;33m:\u001b[0m\u001b[1;33m\u001b[0m\u001b[1;33m\u001b[0m\u001b[0m\n\u001b[1;32m----> 2\u001b[1;33m     \u001b[0mprint\u001b[0m\u001b[1;33m(\u001b[0m\u001b[0mx\u001b[0m\u001b[1;33m[\u001b[0m\u001b[0mlength\u001b[0m \u001b[1;33m-\u001b[0m \u001b[1;36m1\u001b[0m\u001b[1;33m]\u001b[0m\u001b[1;33m,\u001b[0m \u001b[0mend\u001b[0m \u001b[1;33m=\u001b[0m \u001b[1;34m\" \"\u001b[0m\u001b[1;33m)\u001b[0m\u001b[1;33m\u001b[0m\u001b[1;33m\u001b[0m\u001b[0m\n\u001b[0m\u001b[0;32m      3\u001b[0m     \u001b[0mrev_func\u001b[0m\u001b[1;33m(\u001b[0m\u001b[0mx\u001b[0m\u001b[1;33m,\u001b[0m \u001b[0mlength\u001b[0m \u001b[1;33m-\u001b[0m \u001b[1;36m1\u001b[0m\u001b[1;33m)\u001b[0m\u001b[1;33m\u001b[0m\u001b[1;33m\u001b[0m\u001b[0m\n\u001b[0;32m      4\u001b[0m \u001b[1;33m\u001b[0m\u001b[0m\n\u001b[0;32m      5\u001b[0m \u001b[0mx\u001b[0m \u001b[1;33m=\u001b[0m \u001b[1;33m[\u001b[0m\u001b[1;36m11\u001b[0m\u001b[1;33m,\u001b[0m\u001b[1;36m12\u001b[0m\u001b[1;33m,\u001b[0m\u001b[1;36m13\u001b[0m\u001b[1;33m,\u001b[0m\u001b[1;36m14\u001b[0m\u001b[1;33m,\u001b[0m\u001b[1;36m15\u001b[0m\u001b[1;33m]\u001b[0m\u001b[1;33m\u001b[0m\u001b[1;33m\u001b[0m\u001b[0m\n",
      "\u001b[1;31mIndexError\u001b[0m: list index out of range"
     ]
    }
   ],
   "source": [
    "def rev_func(x, length):\n",
    "    print(x[length - 1], end = \" \")\n",
    "    rev_func(x, length - 1)\n",
    "    \n",
    "x = [11,12,13,14,15]\n",
    "rev_func(x,5)"
   ]
  },
  {
   "cell_type": "code",
   "execution_count": 27,
   "id": "6b936775",
   "metadata": {},
   "outputs": [
    {
     "name": "stdout",
     "output_type": "stream",
     "text": [
      "[11, 15, 19]\n"
     ]
    }
   ],
   "source": [
    "b = [11, 13, 15,17, 19, 21]\n",
    "\n",
    "print(b[::2])"
   ]
  },
  {
   "cell_type": "code",
   "execution_count": 28,
   "id": "305c6a56",
   "metadata": {},
   "outputs": [
    {
     "data": {
      "text/plain": [
       "' '"
      ]
     },
     "execution_count": 28,
     "metadata": {},
     "output_type": "execute_result"
    }
   ],
   "source": [
    "min(\"Hello World\")"
   ]
  },
  {
   "cell_type": "code",
   "execution_count": 29,
   "id": "cbbf4a9b",
   "metadata": {},
   "outputs": [
    {
     "data": {
      "text/plain": [
       "' '"
      ]
     },
     "execution_count": 29,
     "metadata": {},
     "output_type": "execute_result"
    }
   ],
   "source": [
    "min(\"hello world\")"
   ]
  },
  {
   "cell_type": "code",
   "execution_count": 30,
   "id": "218bb70a",
   "metadata": {},
   "outputs": [
    {
     "data": {
      "text/plain": [
       "'d'"
      ]
     },
     "execution_count": 30,
     "metadata": {},
     "output_type": "execute_result"
    }
   ],
   "source": [
    "min(\"helloworld\")"
   ]
  },
  {
   "cell_type": "code",
   "execution_count": 31,
   "id": "94a32dfa",
   "metadata": {},
   "outputs": [
    {
     "data": {
      "text/plain": [
       "'r'"
      ]
     },
     "execution_count": 31,
     "metadata": {},
     "output_type": "execute_result"
    }
   ],
   "source": [
    "max(\"Hello World\")"
   ]
  },
  {
   "cell_type": "code",
   "execution_count": 32,
   "id": "ceb24a69",
   "metadata": {},
   "outputs": [
    {
     "ename": "NameError",
     "evalue": "name 'cmp' is not defined",
     "output_type": "error",
     "traceback": [
      "\u001b[1;31m---------------------------------------------------------------------------\u001b[0m",
      "\u001b[1;31mNameError\u001b[0m                                 Traceback (most recent call last)",
      "\u001b[1;32m~\\AppData\\Local\\Temp/ipykernel_7116/1093871993.py\u001b[0m in \u001b[0;36m<module>\u001b[1;34m\u001b[0m\n\u001b[0;32m      2\u001b[0m \u001b[0mb\u001b[0m \u001b[1;33m=\u001b[0m \u001b[1;33m[\u001b[0m\u001b[1;36m7\u001b[0m\u001b[1;33m,\u001b[0m \u001b[1;36m8\u001b[0m\u001b[1;33m,\u001b[0m \u001b[1;36m9\u001b[0m\u001b[1;33m]\u001b[0m\u001b[1;33m\u001b[0m\u001b[1;33m\u001b[0m\u001b[0m\n\u001b[0;32m      3\u001b[0m \u001b[1;33m\u001b[0m\u001b[0m\n\u001b[1;32m----> 4\u001b[1;33m \u001b[0mcmp\u001b[0m\u001b[1;33m(\u001b[0m\u001b[0ma\u001b[0m\u001b[1;33m,\u001b[0m\u001b[0mb\u001b[0m\u001b[1;33m)\u001b[0m\u001b[1;33m\u001b[0m\u001b[1;33m\u001b[0m\u001b[0m\n\u001b[0m",
      "\u001b[1;31mNameError\u001b[0m: name 'cmp' is not defined"
     ]
    }
   ],
   "source": [
    "a = [1, 2, 3]\n",
    "b = [7, 8, 9]\n",
    "\n",
    "cmp(a,b)"
   ]
  },
  {
   "cell_type": "code",
   "execution_count": 33,
   "id": "7ed3319a",
   "metadata": {},
   "outputs": [
    {
     "data": {
      "text/plain": [
       "[7, 8, 9]"
      ]
     },
     "execution_count": 33,
     "metadata": {},
     "output_type": "execute_result"
    }
   ],
   "source": [
    "a = [1, 2, 3]\n",
    "b = [7, 8, 9]\n",
    "\n",
    "max(a,b)"
   ]
  },
  {
   "cell_type": "code",
   "execution_count": 34,
   "id": "5947e5b1",
   "metadata": {},
   "outputs": [
    {
     "data": {
      "text/plain": [
       "[1, 2, 3]"
      ]
     },
     "execution_count": 34,
     "metadata": {},
     "output_type": "execute_result"
    }
   ],
   "source": [
    "a = [1, 2, 3]\n",
    "b = [7, 8, 9]\n",
    "\n",
    "min(a,b)"
   ]
  },
  {
   "cell_type": "code",
   "execution_count": 35,
   "id": "1ea61882",
   "metadata": {},
   "outputs": [
    {
     "ename": "TypeError",
     "evalue": "len() takes exactly one argument (2 given)",
     "output_type": "error",
     "traceback": [
      "\u001b[1;31m---------------------------------------------------------------------------\u001b[0m",
      "\u001b[1;31mTypeError\u001b[0m                                 Traceback (most recent call last)",
      "\u001b[1;32m~\\AppData\\Local\\Temp/ipykernel_7116/1184591842.py\u001b[0m in \u001b[0;36m<module>\u001b[1;34m\u001b[0m\n\u001b[0;32m      2\u001b[0m \u001b[0mb\u001b[0m \u001b[1;33m=\u001b[0m \u001b[1;33m[\u001b[0m\u001b[1;36m7\u001b[0m\u001b[1;33m,\u001b[0m \u001b[1;36m8\u001b[0m\u001b[1;33m,\u001b[0m \u001b[1;36m9\u001b[0m\u001b[1;33m]\u001b[0m\u001b[1;33m\u001b[0m\u001b[1;33m\u001b[0m\u001b[0m\n\u001b[0;32m      3\u001b[0m \u001b[1;33m\u001b[0m\u001b[0m\n\u001b[1;32m----> 4\u001b[1;33m \u001b[0mlen\u001b[0m\u001b[1;33m(\u001b[0m\u001b[0ma\u001b[0m\u001b[1;33m,\u001b[0m\u001b[0mb\u001b[0m\u001b[1;33m)\u001b[0m\u001b[1;33m\u001b[0m\u001b[1;33m\u001b[0m\u001b[0m\n\u001b[0m",
      "\u001b[1;31mTypeError\u001b[0m: len() takes exactly one argument (2 given)"
     ]
    }
   ],
   "source": [
    "a = [1, 2, 3]\n",
    "b = [7, 8, 9]\n",
    "\n",
    "len(a,b)"
   ]
  },
  {
   "cell_type": "markdown",
   "id": "e23b6ab5",
   "metadata": {},
   "source": [
    "#### how we can concatenate two strings to a third string in python?"
   ]
  },
  {
   "cell_type": "code",
   "execution_count": 36,
   "id": "2d95b308",
   "metadata": {},
   "outputs": [
    {
     "name": "stdout",
     "output_type": "stream",
     "text": [
      "HelloWorld\n"
     ]
    }
   ],
   "source": [
    "str1 = \"Hello\"\n",
    "str2 = \"World\"\n",
    "str3 = str1.__add__(str2)\n",
    "\n",
    "print(str3)"
   ]
  },
  {
   "cell_type": "code",
   "execution_count": 37,
   "id": "054dada1",
   "metadata": {},
   "outputs": [
    {
     "name": "stdout",
     "output_type": "stream",
     "text": [
      "HelloWorld\n"
     ]
    }
   ],
   "source": [
    "str1 = \"Hello\"\n",
    "str2 = \"World\"\n",
    "str3 = str1+str2 \n",
    "\n",
    "print(str3)"
   ]
  },
  {
   "cell_type": "code",
   "execution_count": 38,
   "id": "e38f1636",
   "metadata": {},
   "outputs": [
    {
     "data": {
      "text/plain": [
       "(123, 'python', 123, 'python')"
      ]
     },
     "execution_count": 38,
     "metadata": {},
     "output_type": "execute_result"
    }
   ],
   "source": [
    "tuple1 = (123, \"python\")\n",
    "\n",
    "tuple1*2"
   ]
  },
  {
   "cell_type": "markdown",
   "id": "48d5294b",
   "metadata": {},
   "source": [
    "#### In python, How we can create a popup menu.\n",
    "\n",
    "A popup Menu can be created by initializing tk_popup(x_root,y_root, False) which ensures that the menu is visible on the screen. Now, we will add an event which can be triggered through the Mouse Button (Right Click)."
   ]
  },
  {
   "cell_type": "code",
   "execution_count": 20,
   "id": "fcc48d13",
   "metadata": {},
   "outputs": [],
   "source": [
    "#Import the required libraries\n",
    "from tkinter import *\n",
    "from tkinter import ttk\n",
    "\n",
    "#Create an instance of Tkinter frame\n",
    "win = Tk()\n",
    "\n",
    "#Set the geometry of the Tkinter library\n",
    "win.geometry(\"700x350\")\n",
    "\n",
    "label = Label(win, text=\"Right-click anywhere to display a menu\", font= ('Helvetica 18'))\n",
    "label.pack(pady= 40)\n",
    "\n",
    "#Add Menu\n",
    "popup = Menu(win, tearoff=0)\n",
    "\n",
    "#Adding Menu Items\n",
    "popup.add_command(label=\"New\")\n",
    "popup.add_command(label=\"Edit\")\n",
    "popup.add_separator()\n",
    "popup.add_command(label=\"Save\")\n",
    "\n",
    "def menu_popup(event):\n",
    "    # display the popup menu\n",
    "    try:\n",
    "        popup.tk_popup(event.x_root, event.y_root, 0)\n",
    "        \n",
    "    finally:\n",
    "        #Release the grab\n",
    "        popup.grab_release()\n",
    "        \n",
    "\n",
    "win.bind(\"<Button-3>\", menu_popup)\n",
    "\n",
    "button = ttk.Button(win, text=\"Quit\", command=win.destroy)\n",
    "button.pack()\n",
    "\n",
    "mainloop()"
   ]
  },
  {
   "cell_type": "code",
   "execution_count": 40,
   "id": "148247f0",
   "metadata": {},
   "outputs": [
    {
     "data": {
      "text/plain": [
       "(786, 2.23)"
      ]
     },
     "execution_count": 40,
     "metadata": {},
     "output_type": "execute_result"
    }
   ],
   "source": [
    "tuple1 = (\"abcd\", 786, 2.23,'john', 70.2)\n",
    "\n",
    "tuple1[1:3]"
   ]
  },
  {
   "cell_type": "code",
   "execution_count": 41,
   "id": "00745f00",
   "metadata": {},
   "outputs": [
    {
     "data": {
      "text/plain": [
       "-1"
      ]
     },
     "execution_count": 41,
     "metadata": {},
     "output_type": "execute_result"
    }
   ],
   "source": [
    "\"search\".find(\"S\")"
   ]
  },
  {
   "cell_type": "code",
   "execution_count": 42,
   "id": "3f16c595",
   "metadata": {},
   "outputs": [
    {
     "data": {
      "text/plain": [
       "0"
      ]
     },
     "execution_count": 42,
     "metadata": {},
     "output_type": "execute_result"
    }
   ],
   "source": [
    "\"search\".find(\"s\")"
   ]
  },
  {
   "cell_type": "code",
   "execution_count": 43,
   "id": "c8e5fd19",
   "metadata": {},
   "outputs": [
    {
     "ename": "NameError",
     "evalue": "name 'd' is not defined",
     "output_type": "error",
     "traceback": [
      "\u001b[1;31m---------------------------------------------------------------------------\u001b[0m",
      "\u001b[1;31mNameError\u001b[0m                                 Traceback (most recent call last)",
      "\u001b[1;32m~\\AppData\\Local\\Temp/ipykernel_7116/3722605408.py\u001b[0m in \u001b[0;36m<module>\u001b[1;34m\u001b[0m\n\u001b[0;32m     10\u001b[0m \u001b[0ma\u001b[0m \u001b[1;33m=\u001b[0m \u001b[0mDemo\u001b[0m\u001b[1;33m(\u001b[0m\u001b[1;34m\"Hello\"\u001b[0m\u001b[1;33m)\u001b[0m\u001b[1;33m\u001b[0m\u001b[1;33m\u001b[0m\u001b[0m\n\u001b[0;32m     11\u001b[0m \u001b[1;33m\u001b[0m\u001b[0m\n\u001b[1;32m---> 12\u001b[1;33m \u001b[0ma\u001b[0m\u001b[1;33m.\u001b[0m\u001b[0mprint\u001b[0m\u001b[1;33m(\u001b[0m\u001b[1;33m)\u001b[0m\u001b[1;33m\u001b[0m\u001b[1;33m\u001b[0m\u001b[0m\n\u001b[0m",
      "\u001b[1;32m~\\AppData\\Local\\Temp/ipykernel_7116/3722605408.py\u001b[0m in \u001b[0;36mprint\u001b[1;34m(self)\u001b[0m\n\u001b[0;32m      5\u001b[0m     \u001b[1;32mdef\u001b[0m \u001b[0mprint\u001b[0m\u001b[1;33m(\u001b[0m\u001b[0mself\u001b[0m\u001b[1;33m)\u001b[0m\u001b[1;33m:\u001b[0m\u001b[1;33m\u001b[0m\u001b[1;33m\u001b[0m\u001b[0m\n\u001b[0;32m      6\u001b[0m \u001b[1;33m\u001b[0m\u001b[0m\n\u001b[1;32m----> 7\u001b[1;33m         \u001b[0mprint\u001b[0m\u001b[1;33m(\u001b[0m\u001b[0md\u001b[0m\u001b[1;33m)\u001b[0m\u001b[1;33m\u001b[0m\u001b[1;33m\u001b[0m\u001b[0m\n\u001b[0m\u001b[0;32m      8\u001b[0m \u001b[1;33m\u001b[0m\u001b[0m\n\u001b[0;32m      9\u001b[0m \u001b[1;33m\u001b[0m\u001b[0m\n",
      "\u001b[1;31mNameError\u001b[0m: name 'd' is not defined"
     ]
    }
   ],
   "source": [
    "class Demo:\n",
    "    def __init__(self, d):\n",
    "        \n",
    "        self.d = d\n",
    "    def print(self):\n",
    "        \n",
    "        print(d)\n",
    "        \n",
    "        \n",
    "a = Demo(\"Hello\")\n",
    "\n",
    "a.print()"
   ]
  },
  {
   "cell_type": "code",
   "execution_count": 46,
   "id": "91291c7a",
   "metadata": {},
   "outputs": [
    {
     "name": "stdout",
     "output_type": "stream",
     "text": [
      "5\n"
     ]
    }
   ],
   "source": [
    "class Demo:\n",
    "    def __init__(self, d):\n",
    "        \n",
    "        self.d = d\n",
    "    def print(self):\n",
    "        \n",
    "        print(5)\n",
    "        \n",
    "        \n",
    "a = Demo(\"Hello\")\n",
    "\n",
    "a.print()"
   ]
  },
  {
   "cell_type": "code",
   "execution_count": 45,
   "id": "23f352b4",
   "metadata": {},
   "outputs": [
    {
     "name": "stdout",
     "output_type": "stream",
     "text": [
      "Hello\n"
     ]
    }
   ],
   "source": [
    "class Demo:\n",
    "    def __init__(self, d):\n",
    "        \n",
    "        self.d = d\n",
    "    def print1(self):\n",
    "        \n",
    "        print(self.d)\n",
    "        \n",
    "        \n",
    "a = Demo(\"Hello\")\n",
    "\n",
    "a.print1()"
   ]
  },
  {
   "cell_type": "code",
   "execution_count": 47,
   "id": "9afedf0e",
   "metadata": {},
   "outputs": [
    {
     "data": {
      "text/plain": [
       "7"
      ]
     },
     "execution_count": 47,
     "metadata": {},
     "output_type": "execute_result"
    }
   ],
   "source": [
    "eval(\"1+3*2\")"
   ]
  },
  {
   "cell_type": "code",
   "execution_count": 49,
   "id": "fef65819",
   "metadata": {},
   "outputs": [
    {
     "ename": "TypeError",
     "evalue": "'tuple' object does not support item assignment",
     "output_type": "error",
     "traceback": [
      "\u001b[1;31m---------------------------------------------------------------------------\u001b[0m",
      "\u001b[1;31mTypeError\u001b[0m                                 Traceback (most recent call last)",
      "\u001b[1;32m~\\AppData\\Local\\Temp/ipykernel_7116/6741010.py\u001b[0m in \u001b[0;36m<module>\u001b[1;34m\u001b[0m\n\u001b[0;32m      1\u001b[0m \u001b[0ma\u001b[0m \u001b[1;33m=\u001b[0m \u001b[1;33m(\u001b[0m\u001b[1;36m1\u001b[0m\u001b[1;33m,\u001b[0m \u001b[1;36m2\u001b[0m\u001b[1;33m)\u001b[0m\u001b[1;33m\u001b[0m\u001b[1;33m\u001b[0m\u001b[0m\n\u001b[0;32m      2\u001b[0m \u001b[1;33m\u001b[0m\u001b[0m\n\u001b[1;32m----> 3\u001b[1;33m \u001b[0ma\u001b[0m\u001b[1;33m[\u001b[0m\u001b[1;36m0\u001b[0m\u001b[1;33m]\u001b[0m \u001b[1;33m+=\u001b[0m\u001b[1;36m1\u001b[0m\u001b[1;33m\u001b[0m\u001b[1;33m\u001b[0m\u001b[0m\n\u001b[0m",
      "\u001b[1;31mTypeError\u001b[0m: 'tuple' object does not support item assignment"
     ]
    }
   ],
   "source": [
    "a = (1, 2)\n",
    "\n",
    "a[0] +=1"
   ]
  },
  {
   "cell_type": "code",
   "execution_count": 67,
   "id": "8505baf0",
   "metadata": {},
   "outputs": [
    {
     "name": "stdout",
     "output_type": "stream",
     "text": [
      "{'Randy': ['Input.txt', 'Output.txt'], 'Stan': ['Code.py']}\n"
     ]
    }
   ],
   "source": [
    "def group_by_owners(files):\n",
    "    \n",
    "    result = {}\n",
    "    \n",
    "    for key, value in files.items():\n",
    "        if value not in result.keys():\n",
    "            \n",
    "            result[value] = [key]\n",
    "            \n",
    "        else:\n",
    "            result[value].append(key)\n",
    "            \n",
    "    return result\n",
    "            \n",
    "if __name__ == \"__main__\":    \n",
    "    files = {\n",
    "        'Input.txt': 'Randy',\n",
    "        'Code.py': 'Stan',\n",
    "        'Output.txt': 'Randy'\n",
    "    }   \n",
    "    print(group_by_owners(files))"
   ]
  },
  {
   "cell_type": "code",
   "execution_count": 65,
   "id": "cb3331b8",
   "metadata": {},
   "outputs": [
    {
     "name": "stdout",
     "output_type": "stream",
     "text": [
      "{'Randy': ['Input.txt', 'Output.txt'], 'Stan': ['Code.py']}\n"
     ]
    }
   ],
   "source": [
    "def group_by_owners(files):\n",
    "    result = {}\n",
    "    for file, owner in files.items():  # use files.iteritems() on Python 2.x\n",
    "        result[owner] = result.get(owner, []) + [file]  # you can use setdefault(), too\n",
    "    return result\n",
    "\n",
    "files = {\n",
    "    'Input.txt': 'Randy',\n",
    "    'Code.py': 'Stan',\n",
    "    'Output.txt': 'Randy'\n",
    "}\n",
    "\n",
    "print(group_by_owners(files))\n",
    "# {'Stan': ['Code.py'], 'Randy': ['Output.txt', 'Input.txt']}"
   ]
  },
  {
   "cell_type": "code",
   "execution_count": 16,
   "id": "5db97c8a",
   "metadata": {},
   "outputs": [
    {
     "name": "stdout",
     "output_type": "stream",
     "text": [
      "{'Randy': ['Input.txt', 'Output.txt'], 'Stan': ['Code.py']}\n"
     ]
    }
   ],
   "source": [
    "def group_by_owners(files):\n",
    "    result = {}\n",
    "    for file, owner in files.items():  # use files.iteritems() on Python 2.x\n",
    "        result[owner] = result.setdefault(owner, []) + [file]  # you can use setdefault(), too\n",
    "    return result\n",
    "\n",
    "files = {\n",
    "    'Input.txt': 'Randy',\n",
    "    'Code.py': 'Stan',\n",
    "    'Output.txt': 'Randy'\n",
    "}\n",
    "\n",
    "print(group_by_owners(files))\n",
    "# {'Stan': ['Code.py'], 'Randy': ['Output.txt', 'Input.txt']}"
   ]
  },
  {
   "cell_type": "code",
   "execution_count": 64,
   "id": "ebc93da3",
   "metadata": {},
   "outputs": [
    {
     "name": "stdout",
     "output_type": "stream",
     "text": [
      "[['vanilla', 'chocolate sauce'], ['chocolate', 'chocolate sauce']]\n"
     ]
    }
   ],
   "source": [
    "class IceCreamMachine:\n",
    "        \n",
    "    def __init__(self, ingredients, toppings):\n",
    "        self.ingredients = ingredients\n",
    "        self.toppings = toppings\n",
    "        \n",
    "    def scoops(self):\n",
    "        lst3 = []\n",
    "        for item1 in self.ingredients:            \n",
    "            for item2 in self.toppings:\n",
    "                lst3.append([item1,item2])\n",
    "                \n",
    "        return lst3\n",
    "            \n",
    "        \n",
    "if __name__ == \"__main__\":\n",
    "    machine = IceCreamMachine([\"vanilla\", \"chocolate\"], [\"chocolate sauce\"])\n",
    "    print(machine.scoops()) #should print[['vanilla', 'chocolate sauce'], ['chocolate', 'chocolate sauce']]"
   ]
  },
  {
   "cell_type": "code",
   "execution_count": 61,
   "id": "21a6462f",
   "metadata": {},
   "outputs": [
    {
     "name": "stdout",
     "output_type": "stream",
     "text": [
      "[['vanilla', 'chocolate sauce'], ['chocolate', 'chocolate sauce']]\n"
     ]
    }
   ],
   "source": [
    "class IceCreamMachine:\n",
    "    all={}\n",
    "    def __init__(self, ingredients, toppings):\n",
    "        self.ingredients = ingredients\n",
    "        self.toppings = toppings\n",
    "\n",
    "    def scoops(self):\n",
    "        res = []\n",
    "        for i in self.ingredients:\n",
    "            for j in self.toppings:\n",
    "                res.append([i, j])\n",
    "        return res\n",
    "\n",
    "machine = IceCreamMachine([\"vanilla\", \"chocolate\"], [\"chocolate sauce\"])\n",
    "print(machine.scoops())"
   ]
  },
  {
   "cell_type": "code",
   "execution_count": 69,
   "id": "727f7bdd",
   "metadata": {},
   "outputs": [
    {
     "data": {
      "text/plain": [
       "2.0"
      ]
     },
     "execution_count": 69,
     "metadata": {},
     "output_type": "execute_result"
    }
   ],
   "source": [
    "import math \n",
    "\n",
    "math.sqrt(4)"
   ]
  },
  {
   "cell_type": "code",
   "execution_count": 70,
   "id": "b3a7cfc6",
   "metadata": {},
   "outputs": [
    {
     "name": "stdout",
     "output_type": "stream",
     "text": [
      "(-1.0, -4.0)\n"
     ]
    }
   ],
   "source": [
    "import math\n",
    "def find_roots(a, b, c):\n",
    "    \n",
    "    solv1  = (-b + math.sqrt((b**2) - (4*a*c)))/(2*a)\n",
    "    solv2  = (-b - math.sqrt((b**2) - (4*a*c)))/(2*a)\n",
    "    result = (solv1, solv2)\n",
    "    return result\n",
    "\n",
    "print(find_roots(2, 10, 8));"
   ]
  },
  {
   "cell_type": "code",
   "execution_count": 71,
   "id": "a21ade89",
   "metadata": {},
   "outputs": [
    {
     "name": "stdout",
     "output_type": "stream",
     "text": [
      "['Ava', 'Emma', 'Olivia', 'Sophia']\n"
     ]
    }
   ],
   "source": [
    "def unique_names(names1, names2):\n",
    "    \n",
    "    result = []\n",
    "    newlist = names1 + names2\n",
    "    for name in newlist:\n",
    "        if name not in result:\n",
    "            result.append(name)\n",
    "         \n",
    "    return result\n",
    "\n",
    "if __name__ == \"__main__\":\n",
    "    names1 = [\"Ava\", \"Emma\", \"Olivia\"]\n",
    "    names2 = [\"Olivia\", \"Sophia\", \"Emma\"]\n",
    "    print(unique_names(names1, names2)) # should print Ava, Emma, Olivia, Sophia"
   ]
  },
  {
   "cell_type": "markdown",
   "id": "41c1530b",
   "metadata": {},
   "source": [
    "#### str() and repr() both are used to get a string representation of object.\n",
    "\n",
    "1. str() is used for creating output for end user while repr() is mainly used for debugging and development. repr’s goal is to be unambiguous and str’s is to be readable. For example, if we suspect a float has a small rounding error, repr will show us while str may not.\n",
    "\n",
    "\n",
    "2. repr() compute the “official” string representation of an object (a representation that has all information about the object) and str() is used to compute the “informal” string representation of an object (a representation that is useful for printing the object).\n",
    "\n",
    "\n",
    "3. The print statement and str() built-in function uses __str__ to display the string representation of the object while the repr() built-in function uses __repr__ to display the object."
   ]
  },
  {
   "cell_type": "code",
   "execution_count": 73,
   "id": "296d3108",
   "metadata": {},
   "outputs": [
    {
     "name": "stdout",
     "output_type": "stream",
     "text": [
      "Hello, Geeks.\n",
      "0.18181818181818182\n"
     ]
    }
   ],
   "source": [
    "s = 'Hello, Geeks.'\n",
    "print (str(s))\n",
    "print (str(2.0/11.0))"
   ]
  },
  {
   "cell_type": "code",
   "execution_count": 72,
   "id": "4c80a064",
   "metadata": {},
   "outputs": [
    {
     "name": "stdout",
     "output_type": "stream",
     "text": [
      "'Hello, Geeks.'\n",
      "0.18181818181818182\n"
     ]
    }
   ],
   "source": [
    "s = 'Hello, Geeks.'\n",
    "print (repr(s))\n",
    "print (repr(2.0/11.0))"
   ]
  },
  {
   "cell_type": "code",
   "execution_count": 74,
   "id": "1ec0b731",
   "metadata": {},
   "outputs": [
    {
     "name": "stdout",
     "output_type": "stream",
     "text": [
      "2022-01-23 18:49:19.763675\n",
      "datetime.datetime(2022, 1, 23, 18, 49, 19, 763675)\n"
     ]
    }
   ],
   "source": [
    "import datetime\n",
    "today = datetime.datetime.now()\n",
    "  \n",
    "# Prints readable format for date-time object\n",
    "print (str(today))\n",
    "  \n",
    "# prints the official format of date-time object\n",
    "print (repr(today))"
   ]
  },
  {
   "cell_type": "code",
   "execution_count": 75,
   "id": "7dee61a0",
   "metadata": {},
   "outputs": [
    {
     "name": "stdout",
     "output_type": "stream",
     "text": [
      "10 + i20\n",
      "Rational(10, 20)\n"
     ]
    }
   ],
   "source": [
    "# Python program to demonstrate writing of __repr__ and\n",
    "# __str__ for user defined classes\n",
    "  \n",
    "# A user defined class to represent Complex numbers\n",
    "class Complex:\n",
    "    # Constructor\n",
    "    def __init__(self, real, imag):\n",
    "        self.real = real\n",
    "        self.imag = imag\n",
    "  \n",
    "    # For call to repr(). Prints object's information\n",
    "    def __repr__(self):\n",
    "        return 'Rational(%s, %s)' % (self.real, self.imag)   \n",
    "    \n",
    "  \n",
    "    # For call to str(). Prints readable form\n",
    "    def __str__(self):\n",
    "        return '%s + i%s' % (self.real, self.imag)    \n",
    "  \n",
    "  \n",
    "# Driver program to test above\n",
    "t = Complex(10, 20)\n",
    "  \n",
    "# Same as \"print t\"\n",
    "print (str(t))  \n",
    "print (repr(t))"
   ]
  },
  {
   "cell_type": "code",
   "execution_count": null,
   "id": "a05948fe",
   "metadata": {},
   "outputs": [],
   "source": []
  }
 ],
 "metadata": {
  "kernelspec": {
   "display_name": "Python 3 (ipykernel)",
   "language": "python",
   "name": "python3"
  },
  "language_info": {
   "codemirror_mode": {
    "name": "ipython",
    "version": 3
   },
   "file_extension": ".py",
   "mimetype": "text/x-python",
   "name": "python",
   "nbconvert_exporter": "python",
   "pygments_lexer": "ipython3",
   "version": "3.7.8"
  }
 },
 "nbformat": 4,
 "nbformat_minor": 5
}

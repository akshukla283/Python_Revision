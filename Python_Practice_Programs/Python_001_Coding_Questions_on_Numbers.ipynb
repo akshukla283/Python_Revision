{
 "cells": [
  {
   "cell_type": "markdown",
   "id": "e7461f50",
   "metadata": {},
   "source": [
    "Link of the questions list:\n",
    "\n",
    "https://quescol.com/interview-preparation/python-coding-question"
   ]
  },
  {
   "cell_type": "markdown",
   "id": "00a2aad3",
   "metadata": {},
   "source": [
    "#### Q1. -  Write a program to reverse an integer in Python\n"
   ]
  },
  {
   "cell_type": "code",
   "execution_count": 3,
   "id": "54247069",
   "metadata": {},
   "outputs": [
    {
     "name": "stdout",
     "output_type": "stream",
     "text": [
      "Please Enter the number : 1251\n",
      "1521\n"
     ]
    }
   ],
   "source": [
    "num = int(input(\"Please Enter the number : \"))\n",
    "num = str(num)\n",
    "print(num[::-1])\n",
    "    "
   ]
  },
  {
   "cell_type": "code",
   "execution_count": 8,
   "id": "7099fba4",
   "metadata": {},
   "outputs": [
    {
     "name": "stdout",
     "output_type": "stream",
     "text": [
      "Please Enter the number : 02121\n",
      "1212\n"
     ]
    }
   ],
   "source": [
    "num = int(input(\"Please Enter the number : \"))\n",
    "num = str(num)\n",
    "print(int(num[::-1]))\n",
    "# by doing this you will get out put in integer "
   ]
  },
  {
   "cell_type": "code",
   "execution_count": 4,
   "id": "74e2285c",
   "metadata": {},
   "outputs": [
    {
     "name": "stdout",
     "output_type": "stream",
     "text": [
      "please give a number : 120\n",
      "before reverse your numeber is : 120\n",
      "After reverse : 21\n"
     ]
    }
   ],
   "source": [
    "n = int(input(\"please give a number : \"))\n",
    "print(\"before reverse your numeber is : %d\" %n)\n",
    "reverse = 0\n",
    "while n!=0:\n",
    "    reverse = reverse*10 + n%10       \n",
    "    n = (n//10)\n",
    "print(\"After reverse : %d\" %reverse) "
   ]
  },
  {
   "cell_type": "code",
   "execution_count": 2,
   "id": "70f1f732",
   "metadata": {},
   "outputs": [
    {
     "data": {
      "text/plain": [
       "8"
      ]
     },
     "execution_count": 2,
     "metadata": {},
     "output_type": "execute_result"
    }
   ],
   "source": [
    "8%10"
   ]
  },
  {
   "cell_type": "markdown",
   "id": "8a0ecdc0",
   "metadata": {},
   "source": [
    "####  Q2. Armstrong number program in python with explanation?\n",
    "An Armstrong number, also known as narcissistic number, is a number that is equal to the sum of the cubes of its own digits. For example, 370 is an Armstrong number since `370 = 3*3*3 + 7*7*7 + 0*0*0 `"
   ]
  },
  {
   "cell_type": "code",
   "execution_count": 3,
   "id": "618dac58",
   "metadata": {},
   "outputs": [
    {
     "name": "stdout",
     "output_type": "stream",
     "text": [
      "Enter number :370\n",
      "It is Armstrong Number\n"
     ]
    }
   ],
   "source": [
    "num = int(input(\"Enter number :\")) \n",
    "sum = 0 \n",
    " \n",
    "string_num = str(num) \n",
    " \n",
    "for i in string_num: \n",
    "    sum = sum + int(i)**3 \n",
    "if num == sum: \n",
    "    print(\"It is Armstrong Number\") \n",
    "else: \n",
    "    print(\"It is not Armstrong Number\")"
   ]
  },
  {
   "cell_type": "code",
   "execution_count": 4,
   "id": "78eb044a",
   "metadata": {},
   "outputs": [
    {
     "name": "stdout",
     "output_type": "stream",
     "text": [
      "please give a number : 370\n",
      "number is armstrong\n"
     ]
    }
   ],
   "source": [
    "i=0\n",
    "result=0\n",
    "n = int(input(\"please give a number : \"))\n",
    "number1 = n\n",
    "temp = n\n",
    "while n!=0:\n",
    "    n = (n//10)\n",
    "    i=i+1;\n",
    "while number1!=0:\n",
    "    n=number1%10\n",
    "    result=result+pow(n,i)\n",
    "    number1=number1//10\n",
    "if temp==result:\n",
    "    print(\"number is armstrong\")\n",
    "else:\n",
    "    print(\"number is not armstrong\") "
   ]
  },
  {
   "cell_type": "markdown",
   "id": "1f919dd3",
   "metadata": {},
   "source": [
    "#### Q3). Write a program in Python to check given number is prime or not."
   ]
  },
  {
   "cell_type": "code",
   "execution_count": 3,
   "id": "d22410b7",
   "metadata": {},
   "outputs": [
    {
     "name": "stdout",
     "output_type": "stream",
     "text": [
      "Please enter number: 6\n",
      "Not prime\n"
     ]
    }
   ],
   "source": [
    "def prime(n):\n",
    "    \n",
    "    if n>1:\n",
    "        \n",
    "        for i in range(2, n):\n",
    "            if n%i == 0:\n",
    "                print(\"Not prime\")\n",
    "                break\n",
    "        else:\n",
    "            print(\"Prime\")\n",
    "    else:\n",
    "        print(\"Not Prime\")\n",
    "\n",
    "\n",
    "num = int(input(\"Please enter number: \"))\n",
    "prime(num)"
   ]
  },
  {
   "cell_type": "code",
   "execution_count": 8,
   "id": "7b4f11fc",
   "metadata": {},
   "outputs": [
    {
     "name": "stdout",
     "output_type": "stream",
     "text": [
      "Please enter an integer: 10\n",
      "[2, 3, 5, 7]\n",
      "Total prime numner in given number is :4\n"
     ]
    }
   ],
   "source": [
    "def count_primes(num):\n",
    "    primes = [2]\n",
    "    x = 3\n",
    "    if num< 2:\n",
    "        return 0\n",
    "    while x<= num:\n",
    "        for y in primes:\n",
    "            if x%y == 0:\n",
    "                x += 2\n",
    "                break\n",
    "        else:\n",
    "\n",
    "            primes.append(x)\n",
    "            x += 2\n",
    "    print(primes)\n",
    "    return print(\"Total prime numner in given number is :{}\".format(len(primes)))\n",
    "\n",
    "x = int(input(\"Please enter an integer: \"))\n",
    "count_primes(x)"
   ]
  },
  {
   "cell_type": "markdown",
   "id": "9d624f80",
   "metadata": {},
   "source": [
    "### Q4). Write a program in Python to print the Fibonacci series using iterative method."
   ]
  },
  {
   "cell_type": "code",
   "execution_count": 16,
   "id": "e12b6436",
   "metadata": {},
   "outputs": [
    {
     "name": "stdout",
     "output_type": "stream",
     "text": [
      "Please Enter the Number: 5\n",
      "0 1 1 2 3 "
     ]
    }
   ],
   "source": [
    "N = int(input(\"Please Enter the Number: \"))\n",
    "a = 0\n",
    "b = 1\n",
    "if N <=1:\n",
    "    print(a)\n",
    "\n",
    "else:\n",
    "    print(a,b,end=\" \")\n",
    "    for i in range(2,N):\n",
    "        c= a+b\n",
    "        a= b\n",
    "        b= c\n",
    "        print(c,end=\" \")\n",
    "            "
   ]
  },
  {
   "cell_type": "code",
   "execution_count": 6,
   "id": "f750ff7c",
   "metadata": {},
   "outputs": [
    {
     "name": "stdout",
     "output_type": "stream",
     "text": [
      "Enter the terms: 5\n",
      "0 1 1 2 3 "
     ]
    }
   ],
   "source": [
    "# Enter number of terms needed                   #0,1,1,2,3,5....\n",
    "a=int(input(\"Enter the terms: \"))\n",
    "f=0                                         #first element of series\n",
    "s=1                                         #second element of series\n",
    "if a<=1:\n",
    "    print(\"The requested series is\",f)\n",
    "else:\n",
    "    print(f,s,end=\" \")\n",
    "    for x in range(2,a):\n",
    "        next=f+s                           \n",
    "        print(next,end=\" \")\n",
    "        f=s\n",
    "        s=next"
   ]
  },
  {
   "cell_type": "code",
   "execution_count": 17,
   "id": "448c3ae7",
   "metadata": {},
   "outputs": [
    {
     "name": "stdout",
     "output_type": "stream",
     "text": [
      "please give a number for fibonacci series : 5\n",
      "fibonacci series are : \n",
      "0\n",
      "1\n",
      "1\n",
      "2\n",
      "3\n"
     ]
    }
   ],
   "source": [
    "first,second=0,1\n",
    "n = int(input(\"please give a number for fibonacci series : \"))\n",
    "print(\"fibonacci series are : \")\n",
    "for i in range(0,n):\n",
    "    if i<=1:\n",
    "        result=i\n",
    "    else:\n",
    "        result = first + second;\n",
    "        first = second;\n",
    "        second = result;\n",
    "    print(result)"
   ]
  },
  {
   "cell_type": "code",
   "execution_count": 13,
   "id": "cf020ddd",
   "metadata": {},
   "outputs": [
    {
     "name": "stdout",
     "output_type": "stream",
     "text": [
      "Please enter a number: 5\n",
      "0 1 1 2 3 "
     ]
    }
   ],
   "source": [
    "def fib(n):\n",
    "    a = 0\n",
    "    b = 1\n",
    "\n",
    "    if n == 1:\n",
    "        print(a, end = \" \")\n",
    "\n",
    "    else:\n",
    "\n",
    "        print(a, end = \" \")\n",
    "        print(b, end = \" \")\n",
    "\n",
    "        for i in range(2, n):\n",
    "            c= a+b\n",
    "            print(c, end = \" \")\n",
    "            a= b\n",
    "            b = c\n",
    "            \n",
    "x = int(input(\"Please enter a number: \"))\n",
    "fib(x)\n"
   ]
  },
  {
   "cell_type": "markdown",
   "id": "b702a9de",
   "metadata": {},
   "source": [
    "### Q5). Write a program in Python to print the fibonacci series using recursive method."
   ]
  },
  {
   "cell_type": "code",
   "execution_count": 19,
   "id": "ab04e86f",
   "metadata": {},
   "outputs": [
    {
     "name": "stdout",
     "output_type": "stream",
     "text": [
      "please give a number for fibonacci series : 5\n",
      "fibonacci series are : \n",
      "0 1 1 2 3 "
     ]
    }
   ],
   "source": [
    "first,second=0,1\n",
    "n = int(input(\"please give a number for fibonacci series : \"))\n",
    "def fibonacci(num):\n",
    "    if num == 0:\n",
    "        return 0\n",
    "    elif num == 1:\n",
    "        return 1\n",
    "    else:\n",
    "        return fibonacci(num-1)+fibonacci(num-2)\n",
    "    \n",
    "print(\"fibonacci series are : \")\n",
    "for i in range(0,n):\n",
    "    print(fibonacci(i),end =\" \")"
   ]
  },
  {
   "cell_type": "markdown",
   "id": "86a4dd83",
   "metadata": {},
   "source": [
    "### Q6). Write a program in Python to check whether a number is palindrome or not using iterative method."
   ]
  },
  {
   "cell_type": "code",
   "execution_count": 26,
   "id": "3172e03e",
   "metadata": {},
   "outputs": [
    {
     "name": "stdout",
     "output_type": "stream",
     "text": [
      "Please Enter the numbre: 121\n",
      "Number is Palindrome\n"
     ]
    }
   ],
   "source": [
    "num = input(\"Please Enter the numbre: \")\n",
    "new_num = num[::-1]\n",
    "\n",
    "if num == new_num :\n",
    "    print(\"Number is Palindrome\")\n",
    "    \n",
    "else :\n",
    "    print(\"Not a Palindrome\")"
   ]
  },
  {
   "cell_type": "code",
   "execution_count": 12,
   "id": "65adda0c",
   "metadata": {},
   "outputs": [
    {
     "name": "stdout",
     "output_type": "stream",
     "text": [
      "please give a number : 520\n",
      "number is not palindrom\n"
     ]
    }
   ],
   "source": [
    "n = int(input(\"please give a number : \"))\n",
    "reverse,temp = 0,n\n",
    "while temp!=0:\n",
    "    reverse = reverse*10 + temp%10;        \n",
    "    temp=temp//10;\n",
    "if reverse==n:\n",
    "    print(\"number is palindrom\")\n",
    "else:\n",
    "    print(\"number is not palindrom\")\n",
    " "
   ]
  },
  {
   "cell_type": "code",
   "execution_count": 11,
   "id": "a25f3ce1",
   "metadata": {},
   "outputs": [
    {
     "data": {
      "text/plain": [
       "1"
      ]
     },
     "execution_count": 11,
     "metadata": {},
     "output_type": "execute_result"
    }
   ],
   "source": [
    "1%10"
   ]
  },
  {
   "cell_type": "code",
   "execution_count": 12,
   "id": "9bb38dc4",
   "metadata": {},
   "outputs": [
    {
     "data": {
      "text/plain": [
       "0"
      ]
     },
     "execution_count": 12,
     "metadata": {},
     "output_type": "execute_result"
    }
   ],
   "source": [
    "1//10\n"
   ]
  },
  {
   "cell_type": "code",
   "execution_count": 30,
   "id": "3158123f",
   "metadata": {},
   "outputs": [
    {
     "name": "stdout",
     "output_type": "stream",
     "text": [
      "It is not a Palindrome\n"
     ]
    }
   ],
   "source": [
    "n= 122\n",
    "str1 = '' \n",
    "str2 = str(n) \n",
    "for i in str2: \n",
    "    str1 = i + str1 # here we have added str1 after i means reverse the order\n",
    "int1 = int(str1) \n",
    "if n == int1 : \n",
    "    print(\"It is Palindrome\") \n",
    "else: \n",
    "    print(\"It is not a Palindrome\")\n",
    "\n",
    "\n"
   ]
  },
  {
   "cell_type": "markdown",
   "id": "6be19409",
   "metadata": {},
   "source": [
    "### Q7). Write a program in Python to check whether a number is palindrome or not using recursive method."
   ]
  },
  {
   "cell_type": "code",
   "execution_count": 20,
   "id": "40350f6e",
   "metadata": {},
   "outputs": [
    {
     "data": {
      "text/plain": [
       "0"
      ]
     },
     "execution_count": 20,
     "metadata": {},
     "output_type": "execute_result"
    }
   ],
   "source": [
    "n = int(input(\"please give a number : \"))\n",
    "\n",
    "def reverse(num):\n",
    "    \n",
    "    if num<10:\n",
    "        return num \n",
    "    else:\n",
    "        return int(str(num%10) + str(reverse(num//10)))\n",
    "\n",
    "def isPalindrome(num):\n",
    "    if num == reverse(num):\n",
    "        return 1\n",
    "    return 0\n",
    "if isPalindrome(n) == 1:\n",
    "    print(\"Given number is a palindrome\")\n",
    "else:\n",
    "    print(\"Given number is a not palindrome\") "
   ]
  },
  {
   "cell_type": "markdown",
   "id": "a1171e71",
   "metadata": {},
   "source": [
    "#### Q8). Write a program in Python to find greatest among three integers."
   ]
  },
  {
   "cell_type": "code",
   "execution_count": 34,
   "id": "efc45be0",
   "metadata": {},
   "outputs": [
    {
     "name": "stdout",
     "output_type": "stream",
     "text": [
      "please give first number n1: 6\n",
      "please give second number n2: 8\n",
      "please give third number n3: 58\n",
      "n3 is greatest\n"
     ]
    }
   ],
   "source": [
    "n1 = int(input(\"please give first number n1: \"))\n",
    "n2 = int(input(\"please give second number n2: \"))\n",
    "n3 = int(input(\"please give third number n3: \"))\n",
    "if n1>=n2 and n1>=n3: \n",
    "    print(\" n1 is greatest\");\n",
    "if n2>=n1 and n2>=n3:\n",
    "    print(\" n2 is greatest\");\n",
    "if n3>=n1 and n3>=n2:\n",
    "    print(\"n3 is greatest\"); "
   ]
  },
  {
   "cell_type": "code",
   "execution_count": 42,
   "id": "057afbbf",
   "metadata": {},
   "outputs": [
    {
     "name": "stdout",
     "output_type": "stream",
     "text": [
      "Please enter the numbers:5,8,9\n",
      "9\n"
     ]
    }
   ],
   "source": [
    "a, b, c = input(\"Please enter the numbers:\").split(\",\")\n",
    "a, b, c = int(a), int(b), int(c)\n",
    "if a>b and a>c :\n",
    "    print(a)\n",
    "if b>a and b>c:\n",
    "    print(b)\n",
    "if c>a and c>b:\n",
    "    print(c)"
   ]
  },
  {
   "cell_type": "markdown",
   "id": "387bd270",
   "metadata": {},
   "source": [
    "### Q9). Write a program in Python to check if a number is binary?"
   ]
  },
  {
   "cell_type": "code",
   "execution_count": 9,
   "id": "f10a36a9",
   "metadata": {},
   "outputs": [
    {
     "name": "stdout",
     "output_type": "stream",
     "text": [
      "please give a number : 111\n",
      "num is binary\n"
     ]
    }
   ],
   "source": [
    "num = int(input(\"please give a number : \"))\n",
    "while(num>0):\n",
    "    j=num%10\n",
    "    if j!=0 and j!=1:\n",
    "        print(\"num is not binary\")\n",
    "        break\n",
    "    num=num//10\n",
    "    if num==0:\n",
    "        print(\"num is binary\") "
   ]
  },
  {
   "cell_type": "markdown",
   "id": "da587918",
   "metadata": {},
   "source": [
    "#### Q10). Write a program in Python to find sum of digits of a number using recursion?"
   ]
  },
  {
   "cell_type": "code",
   "execution_count": 6,
   "id": "7ae73ff5",
   "metadata": {},
   "outputs": [
    {
     "name": "stdout",
     "output_type": "stream",
     "text": [
      "Please enter the number: 123\n"
     ]
    },
    {
     "data": {
      "text/plain": [
       "'Sum of your number is : 6'"
      ]
     },
     "execution_count": 6,
     "metadata": {},
     "output_type": "execute_result"
    }
   ],
   "source": [
    "def sum_num(a):\n",
    "    a = str(a)\n",
    "    num_list = []\n",
    "    for i in a:\n",
    "        num_list.append(int(i))\n",
    "    return (f'Sum of your number is : {sum(num_list)}')\n",
    "number =int(input(\"Please enter the number: \"))\n",
    "sum_num(number)"
   ]
  },
  {
   "cell_type": "code",
   "execution_count": 7,
   "id": "80cc9c07",
   "metadata": {},
   "outputs": [
    {
     "data": {
      "text/plain": [
       "11"
      ]
     },
     "execution_count": 7,
     "metadata": {},
     "output_type": "execute_result"
    }
   ],
   "source": [
    "def num_sum(num): \n",
    "    str_num = str(num) \n",
    "    sum_num = 0 \n",
    "    for i in str_num: \n",
    "        sum_num = sum_num + int(i) \n",
    "    return sum_num \n",
    "num_sum(1253)"
   ]
  },
  {
   "cell_type": "markdown",
   "id": "60bd50cc",
   "metadata": {},
   "source": [
    "### Q11). Write a program in Python to swap two numbers without using third variable?"
   ]
  },
  {
   "cell_type": "code",
   "execution_count": 9,
   "id": "5fb3789d",
   "metadata": {},
   "outputs": [
    {
     "name": "stdout",
     "output_type": "stream",
     "text": [
      "Please enter your first number: 5\n",
      "Please enter your first number: 6\n",
      "First number:  6\n",
      "First number:  5\n"
     ]
    }
   ],
   "source": [
    "a = int(input(\"Please enter your first number: \"))\n",
    "b = int(input(\"Please enter your first number: \"))\n",
    "a, b = b, a\n",
    "print(\"First number: \",a)\n",
    "print(\"First number: \",b)"
   ]
  },
  {
   "cell_type": "markdown",
   "id": "c20d2a08",
   "metadata": {},
   "source": [
    "### Q12). Write a program in Python to swap two numbers using third variable?"
   ]
  },
  {
   "cell_type": "code",
   "execution_count": 10,
   "id": "7f0c0832",
   "metadata": {},
   "outputs": [
    {
     "name": "stdout",
     "output_type": "stream",
     "text": [
      "Please enter your first number: 2\n",
      "Please enter your first number: 5\n",
      "First number:  5\n",
      "First number:  2\n"
     ]
    }
   ],
   "source": [
    "a = int(input(\"Please enter your first number: \"))\n",
    "b = int(input(\"Please enter your first number: \"))\n",
    "c = b\n",
    "b = a\n",
    "a = c\n",
    "print(\"First number: \",a)\n",
    "print(\"First number: \",b)"
   ]
  },
  {
   "cell_type": "markdown",
   "id": "497edc4b",
   "metadata": {},
   "source": [
    "### Q13). Write a program in Python to find prime factors of a given integer."
   ]
  },
  {
   "cell_type": "code",
   "execution_count": 11,
   "id": "6c1f44d2",
   "metadata": {},
   "outputs": [
    {
     "name": "stdout",
     "output_type": "stream",
     "text": [
      "2\n",
      "2\n",
      "2\n",
      "5\n",
      "5\n"
     ]
    }
   ],
   "source": [
    "import math  \n",
    "# Below function will print the  \n",
    "# all prime factor of given number  \n",
    "def prime_factors(num):  \n",
    "    # Using the while loop, we will print the number of two's that divide n  \n",
    "    while num % 2 == 0:  \n",
    "        print(2,)  \n",
    "        num = num / 2  \n",
    "  \n",
    "    for i in range(3, int(math.sqrt(num)) + 1, 2):  \n",
    "  \n",
    "        # while i divides n , print i ad divide n  \n",
    "        while num % i == 0:  \n",
    "            print(i,)  \n",
    "            num = num / i  \n",
    "    if num > 2:  \n",
    "        print(num)  \n",
    "# calling function   \n",
    "  \n",
    "num = 200  \n",
    "prime_factors(num)  "
   ]
  },
  {
   "cell_type": "code",
   "execution_count": 14,
   "id": "d84c96a8",
   "metadata": {},
   "outputs": [
    {
     "name": "stdout",
     "output_type": "stream",
     "text": [
      " Please Enter any Number: 100\n",
      " 2 is a Prime Factor of a Given Number 100\n",
      " 5 is a Prime Factor of a Given Number 100\n"
     ]
    }
   ],
   "source": [
    "# Python Program to find Prime Factors of a Number\n",
    " \n",
    "Number = int(input(\" Please Enter any Number: \"))\n",
    "\n",
    "for i in range(2, Number + 1):\n",
    "    if(Number % i == 0):\n",
    "        isprime = 1\n",
    "        for j in range(2, (i //2 + 1)):\n",
    "            if(i % j == 0):\n",
    "                isprime = 0\n",
    "                break\n",
    "            \n",
    "        if (isprime == 1):\n",
    "            print(\" %d is a Prime Factor of a Given Number %d\" %(i, Number))\n"
   ]
  },
  {
   "cell_type": "code",
   "execution_count": 7,
   "id": "1853a5fa",
   "metadata": {},
   "outputs": [
    {
     "name": "stdout",
     "output_type": "stream",
     "text": [
      "[2, 3, 5, 7]\n"
     ]
    }
   ],
   "source": [
    "num = 10 \n",
    "prime_list = [] \n",
    "for i in range(2, 10): \n",
    "    if i == 0 or i == 1: \n",
    "        continue \n",
    "    else: \n",
    "        for j in range(2, int(i/2)+1): \n",
    "            if i % j == 0: \n",
    "                break \n",
    "        else: \n",
    "            prime_list.append(i) \n",
    "print(prime_list)"
   ]
  },
  {
   "cell_type": "markdown",
   "id": "6f0b2892",
   "metadata": {},
   "source": [
    "### Q14). Write a program in Python to add two integer without using arithmetic operator?"
   ]
  },
  {
   "cell_type": "code",
   "execution_count": 2,
   "id": "46bfd831",
   "metadata": {},
   "outputs": [
    {
     "name": "stdout",
     "output_type": "stream",
     "text": [
      "12\n",
      "-10\n",
      "-30\n"
     ]
    }
   ],
   "source": [
    "def add_without_plus_operator(a, b):\n",
    "    while b != 0:\n",
    "        data = a & b\n",
    "        a = a ^ b\n",
    "        b = data << 1\n",
    "    return a\n",
    "print(add_without_plus_operator(2, 10))\n",
    "print(add_without_plus_operator(-20, 10))\n",
    "print(add_without_plus_operator(-10, -20))"
   ]
  },
  {
   "cell_type": "markdown",
   "id": "85bd40b8",
   "metadata": {},
   "source": [
    "### Q15). Write a program in Python to find given number is perfect or not?\n",
    "\n",
    "A perfect number is a positive integer that is equal to the sum of its positive divisors, excluding the number itself.\n",
    "\n",
    " \n",
    "\n",
    "Lets understand it with example\n",
    "\n",
    "6 is a positive number and its divisor is 1,2,3 and 6 itself.\n",
    "\n",
    "But we should not include 6 as by the definition of perfect number.\n",
    "\n",
    "Lets add its divisor excluding itself\n",
    "\n",
    "1+2+3 = 6 which is equal to number itself.\n",
    "\n",
    "It means 6 is a Perfect Number."
   ]
  },
  {
   "cell_type": "code",
   "execution_count": 9,
   "id": "59d32ec7",
   "metadata": {},
   "outputs": [
    {
     "name": "stdout",
     "output_type": "stream",
     "text": [
      "please give first number a: 28\n",
      "given no. is perfect number\n"
     ]
    }
   ],
   "source": [
    "num = int(input(\"please give first number a: \"))\n",
    "sum=0\n",
    "for i in range(1,(num//2)+1):\n",
    "    remainder = num % i\n",
    "    if remainder == 0:\n",
    "        sum = sum + i\n",
    "if sum == num:\n",
    "    print(\"given no. is perfect number\")\n",
    "else:\n",
    "    print(\"given no. is not a perfect number\") "
   ]
  },
  {
   "cell_type": "markdown",
   "id": "df0730af",
   "metadata": {},
   "source": [
    "### Q16). Python Program to find the Average of numbers with explanations."
   ]
  },
  {
   "cell_type": "code",
   "execution_count": 13,
   "id": "41340c1d",
   "metadata": {},
   "outputs": [
    {
     "data": {
      "text/plain": [
       "2.5"
      ]
     },
     "execution_count": 13,
     "metadata": {},
     "output_type": "execute_result"
    }
   ],
   "source": [
    "def average(a,b,*args):\n",
    "    sum_num = a+b\n",
    "    for num in args:\n",
    "        sum_num = sum_num + num\n",
    "    \n",
    "    return sum_num/len((a,b,*args))\n",
    "\n",
    "num = [1,2,3,4]\n",
    "\n",
    "average(*num)"
   ]
  },
  {
   "cell_type": "code",
   "execution_count": 15,
   "id": "7ef0337c",
   "metadata": {},
   "outputs": [
    {
     "data": {
      "text/plain": [
       "4.0"
      ]
     },
     "execution_count": 15,
     "metadata": {},
     "output_type": "execute_result"
    }
   ],
   "source": [
    "def avg(list1): \n",
    "    len = 0 \n",
    "    sum = 0 \n",
    "    for i in (list1): \n",
    "        sum = sum +i \n",
    "        len = len +1 \n",
    "    average = sum/len \n",
    "    return average \n",
    "     \n",
    "list = [1,2,3,4,5,6,7] \n",
    "avg(list)"
   ]
  },
  {
   "cell_type": "code",
   "execution_count": null,
   "id": "9fd5a2d0",
   "metadata": {},
   "outputs": [],
   "source": [
    "size=int(input(\"Enter the number of elements you want in array: \"))\n",
    "arr=[]\n",
    "#taking input of the list\n",
    "for i in range(0,size):\n",
    "    elem=int(input(\"Please give value for index \"+str(i)+\": \"))\n",
    "    arr.append(elem)\n",
    "#taking average of the elements of the list\n",
    "avg=sum(arr)/size\n",
    "print(\"Average of the array elements is \",avg)"
   ]
  },
  {
   "cell_type": "markdown",
   "id": "ed0e92a8",
   "metadata": {},
   "source": [
    "### Q17). Python Program to calculate factorial using iterative method.\n",
    "actorial says to multiply all whole numbers from the chosen number down to 1.\n",
    "\n",
    "The symbol is \"!\"\n",
    "\n",
    "Examples:\n",
    "\n",
    "4! = 4 × 3 × 2 × 1 = 24\n",
    "7! = 7 × 6 × 5 × 4 × 3 × 2 × 1 = 5040\n",
    "\n",
    "n = nx(n-1)"
   ]
  },
  {
   "cell_type": "code",
   "execution_count": 16,
   "id": "8a79b731",
   "metadata": {},
   "outputs": [
    {
     "name": "stdout",
     "output_type": "stream",
     "text": [
      "Enter the number to find Factorial :4\n",
      "24\n"
     ]
    }
   ],
   "source": [
    "n= int(input(\"Enter the number to find Factorial :\")) \n",
    "fact = 1 \n",
    "for i in range(n,1,-1): \n",
    "    fact = fact * i \n",
    "print(fact)"
   ]
  },
  {
   "cell_type": "code",
   "execution_count": 18,
   "id": "5b395575",
   "metadata": {},
   "outputs": [
    {
     "name": "stdout",
     "output_type": "stream",
     "text": [
      "Enter the number to find Factorial :0\n",
      "1\n"
     ]
    }
   ],
   "source": [
    "n= int(input(\"Enter the number to find Factorial :\")) \n",
    "fact = 1\n",
    "for i in range(1, n+1):\n",
    "    fact = fact*i\n",
    "print(fact)"
   ]
  },
  {
   "cell_type": "code",
   "execution_count": 20,
   "id": "ecac71ec",
   "metadata": {},
   "outputs": [
    {
     "name": "stdout",
     "output_type": "stream",
     "text": [
      "Enter the whole number to find the factorial: 4\n",
      "Factorial of 4 is 24\n"
     ]
    }
   ],
   "source": [
    "#taking an integer input from user\n",
    "num=int(input(\"Enter the whole number to find the factorial: \"))\n",
    "factorial = 1\n",
    "if num < 0:\n",
    "   \tprint(\"Factorial can't be calculated for negative number\")\n",
    "elif num == 0:\n",
    "    print(\"Factorial of 0 is 1\")\n",
    "else:\n",
    "        #calculating the factorial of the input number\n",
    "    for i in range(1,num + 1):\n",
    "\n",
    "        factorial = factorial*i\n",
    "    \n",
    "print(\"Factorial of\",num,\"is\",factorial)"
   ]
  },
  {
   "cell_type": "markdown",
   "id": "1e637db7",
   "metadata": {},
   "source": [
    "### Q18). Python Program to calculate factorial using recursion."
   ]
  },
  {
   "cell_type": "code",
   "execution_count": 26,
   "id": "7bbb18ea",
   "metadata": {},
   "outputs": [
    {
     "name": "stdout",
     "output_type": "stream",
     "text": [
      "Please enter the number : 4\n"
     ]
    },
    {
     "data": {
      "text/plain": [
       "24"
      ]
     },
     "execution_count": 26,
     "metadata": {},
     "output_type": "execute_result"
    }
   ],
   "source": [
    "def fact(n):\n",
    "    if n == 1:\n",
    "        return n\n",
    "    else :\n",
    "        # recursion \n",
    "        return n * fact(n-1)\n",
    "        \n",
    "    \n",
    "    \n",
    "\n",
    "num = int(input(\"Please enter the number : \"))\n",
    "\n",
    "fact(num)"
   ]
  },
  {
   "cell_type": "code",
   "execution_count": 24,
   "id": "effa39c5",
   "metadata": {},
   "outputs": [
    {
     "name": "stdout",
     "output_type": "stream",
     "text": [
      "Enter a whole number to find Factorial: 4\n",
      "Factorial of 4 is 24\n"
     ]
    }
   ],
   "source": [
    "def fact(n):\n",
    "    if n == 1:\n",
    "        return n \n",
    "    else:\n",
    "        #recursion\n",
    "        return n*fact(n-1)\n",
    "\n",
    "num = int(input(\"Enter a whole number to find Factorial: \"))  \n",
    "if num < 0:\n",
    "    print(\"Factorial can't be calculated for negative number\")  \n",
    "elif num == 0:  \n",
    "    print(\"Factorial of 0 is 1\")  \n",
    "else:\n",
    "    print(\"Factorial of\",num,\"is\",fact(num))  "
   ]
  },
  {
   "cell_type": "markdown",
   "id": "c73cf4a2",
   "metadata": {},
   "source": [
    "### Q19). Python Program to check a given number is even or odd.\n",
    "\n"
   ]
  },
  {
   "cell_type": "code",
   "execution_count": 29,
   "id": "c537479b",
   "metadata": {},
   "outputs": [
    {
     "name": "stdout",
     "output_type": "stream",
     "text": [
      "Please enter the num: 4\n",
      "Number 4 is even\n"
     ]
    }
   ],
   "source": [
    "def check_even_odd(num):\n",
    "    \n",
    "    if num%2 == 0:\n",
    "        print(f\"Number {num} is even\")\n",
    "    else :\n",
    "        print(f\"Number {num} is odd\")\n",
    "        \n",
    "num = int(input(\"Please enter the num: \"))\n",
    "check_even_odd(num)"
   ]
  },
  {
   "cell_type": "markdown",
   "id": "025fcdea",
   "metadata": {},
   "source": [
    "### Q20). Python program to print first n Prime Number with explanation."
   ]
  },
  {
   "cell_type": "code",
   "execution_count": null,
   "id": "05a786bc",
   "metadata": {},
   "outputs": [],
   "source": [
    "num = int(input(\"please enter the number :\"))\n",
    "\n",
    "prime = [2]\n",
    "for i in range(1, num+1):\n",
    "    \n",
    "   \n",
    "\n",
    "def prime(n):\n",
    "    \n",
    "    if n>1:\n",
    "        \n",
    "        for i in range(2, n):\n",
    "            if n%i == 0:\n",
    "                print(\"Not prime\")\n",
    "                break\n",
    "        else:\n",
    "            print(\"Prime\")\n",
    "    else:\n",
    "        print(\"Not Prime\")\n",
    "\n",
    "\n",
    "num = int(input(\"Please enter number: \"))\n",
    "prime(num)\n",
    "    "
   ]
  },
  {
   "cell_type": "code",
   "execution_count": 1,
   "id": "5d1bbaad",
   "metadata": {},
   "outputs": [
    {
     "name": "stdout",
     "output_type": "stream",
     "text": [
      "Please enter an integer: 14\n"
     ]
    },
    {
     "data": {
      "text/plain": [
       "[2, 3, 5, 7, 11, 13]"
      ]
     },
     "execution_count": 1,
     "metadata": {},
     "output_type": "execute_result"
    }
   ],
   "source": [
    "def count_primes(num):\n",
    "    primes = [2]\n",
    "    x = 3\n",
    "    if num< 2:\n",
    "        return 0\n",
    "    while x<= num:\n",
    "        for y in primes:\n",
    "            if x%y == 0:\n",
    "                x += 2\n",
    "                break\n",
    "        else:\n",
    "\n",
    "            primes.append(x)\n",
    "            x += 2\n",
    "    \n",
    "    return primes\n",
    "x = int(input(\"Please enter an integer: \"))\n",
    "count_primes(x)"
   ]
  },
  {
   "cell_type": "code",
   "execution_count": 6,
   "id": "5e20bb48",
   "metadata": {},
   "outputs": [
    {
     "name": "stdout",
     "output_type": "stream",
     "text": [
      "Please enter the number: 10\n",
      "3 5 7 9 "
     ]
    }
   ],
   "source": [
    "# Python3 program to display Prime numbers till N\n",
    " \n",
    "#function to check if a given number is prime\n",
    "def isPrime(n):\n",
    "  #since 0 and 1 is not prime return false.\n",
    "  if(n==1 or n==0):\n",
    "    return False\n",
    "   \n",
    "  #Run a loop from 2 to n-1\n",
    "  for i in range(2,n):\n",
    "    #if the number is divisible by i, then n is not a prime number.\n",
    "    if(n%i==0):\n",
    "        return False\n",
    "   \n",
    "  #otherwise, n is prime number.\n",
    "    return True\n",
    " \n",
    " \n",
    " \n",
    "# Driver code\n",
    "N = int(input(\"Please enter the number: \"));\n",
    "#check for every number from 1 to N\n",
    "for i in range(1,N+1):\n",
    "  #check if current number is prime\n",
    "  if(isPrime(i)):\n",
    "    print(i,end=\" \")"
   ]
  },
  {
   "cell_type": "markdown",
   "id": "e72f0301",
   "metadata": {},
   "source": [
    "### Compound Interest\n",
    "Formula to calculate compound interest annually is given by: \n",
    "\n",
    "A = P(1 + R/100) t \n",
    "\n",
    "Compound Interest = A – P \n",
    "\n",
    "Where, \n",
    "A is amount \n",
    "P is principle amount \n",
    "R is the rate and \n",
    "T is the time span"
   ]
  },
  {
   "cell_type": "code",
   "execution_count": 9,
   "id": "2d6cd456",
   "metadata": {},
   "outputs": [
    {
     "name": "stdout",
     "output_type": "stream",
     "text": [
      "Compound interest is 200.0\n"
     ]
    }
   ],
   "source": [
    "# Python3 program to find compound\n",
    "# interest for given values.\n",
    " \n",
    "def compound_interest(principle, rate, time):\n",
    " \n",
    "    # Calculates compound interest\n",
    "    Amount = principle * (pow((1 + rate / 100), time))\n",
    "    CI = Amount - principle\n",
    "    print(\"Compound interest is\", CI)\n",
    "\n",
    "# Driver Code\n",
    "compound_interest(2000, 10, 1)\n",
    " "
   ]
  },
  {
   "cell_type": "markdown",
   "id": "15eb3f99",
   "metadata": {},
   "source": [
    "#### Q23). Python program to calculate the power using the POW method."
   ]
  },
  {
   "cell_type": "code",
   "execution_count": 10,
   "id": "4b699ff9",
   "metadata": {},
   "outputs": [
    {
     "name": "stdout",
     "output_type": "stream",
     "text": [
      "Please enther the number: 4\n",
      "Please enther power: 2\n"
     ]
    },
    {
     "data": {
      "text/plain": [
       "'Powerof the given number 16'"
      ]
     },
     "execution_count": 10,
     "metadata": {},
     "output_type": "execute_result"
    }
   ],
   "source": [
    "n = int(input(\"Please enther the number: \"))\n",
    "p = int(input(\"Please enther power: \"))\n",
    "\n",
    "def power(n, p):\n",
    "    return f\"Powerof the given number {pow(n, p)}\"\n",
    "\n",
    "power(n, p)"
   ]
  },
  {
   "cell_type": "code",
   "execution_count": 12,
   "id": "6150d24a",
   "metadata": {},
   "outputs": [
    {
     "name": "stdout",
     "output_type": "stream",
     "text": [
      "Please enther the number: 4\n",
      "Please enther power: 2\n",
      "Power of 4 is : 16\n"
     ]
    }
   ],
   "source": [
    "### Q24). Python Program to calculate the power without using POW function.(using for loop)\n",
    "\n",
    "n = int(input(\"Please enther the number: \"))\n",
    "p = int(input(\"Please enther power: \"))\n",
    "\n",
    "for i in  range (1):\n",
    "    print(f\"Power of {n} is : {n**p}\")"
   ]
  },
  {
   "cell_type": "code",
   "execution_count": 13,
   "id": "b2ab8838",
   "metadata": {},
   "outputs": [
    {
     "name": "stdout",
     "output_type": "stream",
     "text": [
      "Please enter the number: 4\n",
      "Please enter power: 2\n"
     ]
    },
    {
     "data": {
      "text/plain": [
       "16"
      ]
     },
     "execution_count": 13,
     "metadata": {},
     "output_type": "execute_result"
    }
   ],
   "source": [
    "def power(n, p,powr): \n",
    "    for i in range(p): \n",
    "        powr = powr*n \n",
    "    return powr \n",
    "n = int(input(\"Please enter the number: \")) \n",
    "p = int(input(\"Please enter power: \")) \n",
    "powr = 1 \n",
    "power(n, p,powr)"
   ]
  },
  {
   "cell_type": "markdown",
   "id": "94032843",
   "metadata": {},
   "source": [
    "### Q25). Python Program to calculate the power without using POW function.(using while loop)."
   ]
  },
  {
   "cell_type": "code",
   "execution_count": 15,
   "id": "d850472a",
   "metadata": {},
   "outputs": [
    {
     "name": "stdout",
     "output_type": "stream",
     "text": [
      "Please enther the number: 4\n",
      "Please enther power: 2\n",
      "16\n"
     ]
    }
   ],
   "source": [
    "n = int(input(\"Please enther the number: \"))\n",
    "p = int(input(\"Please enther power: \"))\n",
    "i = 1\n",
    "power = 1\n",
    "while i <=p:\n",
    "    power = power*n\n",
    "    i +=1\n",
    "    \n",
    "print(power)\n"
   ]
  },
  {
   "cell_type": "code",
   "execution_count": 16,
   "id": "11b51af7",
   "metadata": {},
   "outputs": [
    {
     "name": "stdout",
     "output_type": "stream",
     "text": [
      "Please enter the number: 4\n",
      "Please enter power: 2\n",
      "16\n"
     ]
    }
   ],
   "source": [
    "n = int(input(\"Please enter the number: \")) \n",
    "p = int(input(\"Please enter power: \")) \n",
    "power = 1 \n",
    "while p>0: \n",
    "    power = power*n \n",
    "    p-=1 \n",
    "print(power)"
   ]
  },
  {
   "cell_type": "code",
   "execution_count": 17,
   "id": "0b498cb4",
   "metadata": {},
   "outputs": [
    {
     "name": "stdout",
     "output_type": "stream",
     "text": [
      "Enter the value for base :4\n",
      "Enter the value for exponent :2\n",
      "4 to power  2 = 16\n"
     ]
    }
   ],
   "source": [
    "base = int(input(\"Enter the value for base :\"))\n",
    "exponent = int(input(\"Enter the value for exponent :\"))\n",
    "result=1;\n",
    "print(base,\"to power \",exponent,\"=\",end = ' ')\n",
    "#using while loop with a condition that come out of while loop if exponent is 0\n",
    "while exponent != 0:\n",
    "    result = base * result\n",
    "    exponent-=1\n",
    "print(result)"
   ]
  },
  {
   "cell_type": "markdown",
   "id": "60bf505d",
   "metadata": {},
   "source": [
    "### Q26). Python Program to calculate the square of a given number."
   ]
  },
  {
   "cell_type": "code",
   "execution_count": 18,
   "id": "c3ce488c",
   "metadata": {},
   "outputs": [
    {
     "name": "stdout",
     "output_type": "stream",
     "text": [
      "Please enter the number: 4\n",
      "16\n"
     ]
    }
   ],
   "source": [
    "n = int(input(\"Please enter the number: \")) \n",
    "print(n**2)"
   ]
  },
  {
   "cell_type": "markdown",
   "id": "c2ca22bb",
   "metadata": {},
   "source": [
    "### Q28). Python Program to calculate the square root of a given number."
   ]
  },
  {
   "cell_type": "code",
   "execution_count": 19,
   "id": "20172c1a",
   "metadata": {},
   "outputs": [
    {
     "name": "stdout",
     "output_type": "stream",
     "text": [
      "Please enter the number: 4\n",
      "Square Root :  2.0\n"
     ]
    }
   ],
   "source": [
    "n = int(input(\"Please enter the number: \")) \n",
    "print(\"Square Root : \",n**.5)"
   ]
  },
  {
   "cell_type": "markdown",
   "id": "2f165931",
   "metadata": {},
   "source": [
    "### Q29). Python program to calculate LCM of given two numbers."
   ]
  },
  {
   "cell_type": "code",
   "execution_count": 24,
   "id": "4618888e",
   "metadata": {},
   "outputs": [
    {
     "name": "stdout",
     "output_type": "stream",
     "text": [
      "Enter first number: 3\n",
      "Enter second number: 7\n",
      "LCM of 3 and 7 = 21\n"
     ]
    }
   ],
   "source": [
    "num1 = int(input(\"Enter first number: \"))  \n",
    "num2 = int(input(\"Enter second number: \"))  \n",
    "if num1 > num2:  \n",
    "    greater = num1  \n",
    "else:  \n",
    "    greater = num2  \n",
    "while(True):  \n",
    "    if((greater % num1 == 0) and (greater % num2 == 0)):  \n",
    "        lcm = greater  \n",
    "        break  \n",
    "    greater += 1  \n",
    "print(\"LCM of\",num1,\"and\",num2,\"=\",greater)\n"
   ]
  },
  {
   "cell_type": "markdown",
   "id": "20466e2d",
   "metadata": {},
   "source": [
    "### Q30). Python Program to find GCD or HCF of two numbers.\n",
    "\n",
    "The highest common factor (HCF) is also called the greatest common divisor (GCD).\n"
   ]
  },
  {
   "cell_type": "code",
   "execution_count": 1,
   "id": "67ca2756",
   "metadata": {},
   "outputs": [
    {
     "name": "stdout",
     "output_type": "stream",
     "text": [
      "Enter first number: 12\n",
      "Enter second number: 3\n",
      "hcf/gcd of 12 and 3 = 3\n"
     ]
    }
   ],
   "source": [
    "num1 = int(input(\"Enter first number: \"))  \n",
    "num2 = int(input(\"Enter second number: \"))  \n",
    "\n",
    "#checking for smaller number\n",
    "if num1 > num2:\n",
    "    minimum = num2\n",
    "else:\n",
    "    minimum = num1\n",
    "#finding highest factor of the numbers\n",
    "for i in range(1, minimum+1):\n",
    "    if((num1 % i == 0) and (num2 % i == 0)):\n",
    "        hcf = i \n",
    "print(\"hcf/gcd of\",num1,\"and\",num2,\"=\",hcf)\n"
   ]
  },
  {
   "cell_type": "markdown",
   "id": "d41e4a14",
   "metadata": {},
   "source": [
    "### Q31). Python Program to find GCD of two numbers using recursion."
   ]
  },
  {
   "cell_type": "code",
   "execution_count": 2,
   "id": "884e5e79",
   "metadata": {},
   "outputs": [
    {
     "name": "stdout",
     "output_type": "stream",
     "text": [
      "Enter first number: 12\n",
      "Enter second number: 3\n",
      "hcf/gcd of 12 and 3 = 3\n"
     ]
    }
   ],
   "source": [
    "def gcd(num1,num2):\n",
    "    \n",
    "    if num2 == 0:\n",
    "        \n",
    "        return num1;\n",
    "    \n",
    "    return gcd(num2, num1 % num2)\n",
    "\n",
    "#taking inputs from the user\n",
    "num1 = int(input(\"Enter first number: \"))  \n",
    "num2 = int(input(\"Enter second number: \"))  \n",
    "print(\"hcf/gcd of\",num1,\"and\",num2,\"=\",gcd(num1,num2))"
   ]
  },
  {
   "cell_type": "markdown",
   "id": "004bf168",
   "metadata": {},
   "source": [
    "### Q32). Python Program to Convert Decimal Number into Binary."
   ]
  },
  {
   "cell_type": "code",
   "execution_count": 5,
   "id": "b37108c0",
   "metadata": {},
   "outputs": [
    {
     "data": {
      "text/plain": [
       "'10'"
      ]
     },
     "execution_count": 5,
     "metadata": {},
     "output_type": "execute_result"
    }
   ],
   "source": [
    "bin(2)[2:]"
   ]
  },
  {
   "cell_type": "code",
   "execution_count": 7,
   "id": "ebecf530",
   "metadata": {},
   "outputs": [
    {
     "name": "stdout",
     "output_type": "stream",
     "text": [
      "Please enter the number5\n",
      "101\n"
     ]
    }
   ],
   "source": [
    "num = int(input(\"Please enter the number\"))\n",
    "print(int(bin(num)[2:]))"
   ]
  },
  {
   "cell_type": "code",
   "execution_count": 8,
   "id": "68557d93",
   "metadata": {},
   "outputs": [
    {
     "name": "stdout",
     "output_type": "stream",
     "text": [
      "Enter number: 5\n",
      "binary of a 5 number is  0b101\n"
     ]
    }
   ],
   "source": [
    "num = int(input(\"Enter number: \"))  \n",
    "print(f\"binary of a {num} number is \",bin(num))"
   ]
  },
  {
   "cell_type": "markdown",
   "id": "a9f91cc2",
   "metadata": {},
   "source": [
    "#### Q33). Python Program to convert Decimal number to Octal number.\n"
   ]
  },
  {
   "cell_type": "code",
   "execution_count": 9,
   "id": "7e3d3561",
   "metadata": {},
   "outputs": [
    {
     "data": {
      "text/plain": [
       "'0o6'"
      ]
     },
     "execution_count": 9,
     "metadata": {},
     "output_type": "execute_result"
    }
   ],
   "source": [
    "oct(6)"
   ]
  },
  {
   "cell_type": "code",
   "execution_count": 11,
   "id": "26394b2d",
   "metadata": {},
   "outputs": [
    {
     "name": "stdout",
     "output_type": "stream",
     "text": [
      "Please enter the number6\n",
      "0o6\n"
     ]
    }
   ],
   "source": [
    "num = int(input(\"Please enter the number\"))\n",
    "print(oct(num))"
   ]
  },
  {
   "cell_type": "markdown",
   "id": "6c237756",
   "metadata": {},
   "source": [
    "### Q34). Python Program to check the given year is a leap year or not."
   ]
  },
  {
   "cell_type": "code",
   "execution_count": 15,
   "id": "298f93e2",
   "metadata": {},
   "outputs": [
    {
     "name": "stdout",
     "output_type": "stream",
     "text": [
      "Enter number: 2000\n",
      "It is Leap Year\n"
     ]
    }
   ],
   "source": [
    "num = int(input(\"Enter number: \"))  \n",
    "if num%400 == 0: \n",
    "    print(\"It is Leap Year\") \n",
    "elif num % 100== 0: \n",
    "    print(\"It is not a Leap Year\")\n",
    "elif num%4 == 0:\n",
    "    print(\"It is a Leap Year \")\n",
    "else:\n",
    "    print(\"It is not a Leap year \")\n"
   ]
  },
  {
   "cell_type": "markdown",
   "id": "29b4ec7e",
   "metadata": {},
   "source": [
    "#### Q35). Python Program to convert Celsius to Fahrenheit."
   ]
  },
  {
   "cell_type": "code",
   "execution_count": 21,
   "id": "c77a7938",
   "metadata": {},
   "outputs": [
    {
     "name": "stdout",
     "output_type": "stream",
     "text": [
      "Please enter the Temp in C-5\n",
      "Temp. in Fahrenheit: 23.0\n"
     ]
    }
   ],
   "source": [
    "# formula f = (9/5 * c ) + 32\n",
    "celcius = int(input(\"Please enter the Temp in C\"))\n",
    "Fahrenheit  = (9/5) * celcius + 32\n",
    "print(f\"Temp. in Fahrenheit: {round(Fahrenheit, 2)}\")"
   ]
  },
  {
   "cell_type": "code",
   "execution_count": 26,
   "id": "03372440",
   "metadata": {},
   "outputs": [
    {
     "name": "stdout",
     "output_type": "stream",
     "text": [
      "Please enter the Temp in Fahrenheit: 84.2\n"
     ]
    },
    {
     "ename": "ValueError",
     "evalue": "invalid literal for int() with base 10: '84.2'",
     "output_type": "error",
     "traceback": [
      "\u001b[1;31m---------------------------------------------------------------------------\u001b[0m",
      "\u001b[1;31mValueError\u001b[0m                                Traceback (most recent call last)",
      "\u001b[1;32m~\\AppData\\Local\\Temp/ipykernel_9624/4288581889.py\u001b[0m in \u001b[0;36m<module>\u001b[1;34m\u001b[0m\n\u001b[0;32m      1\u001b[0m \u001b[1;31m## formula( ( Fahrenheit – 32)*5 ) / 9 )\u001b[0m\u001b[1;33m\u001b[0m\u001b[1;33m\u001b[0m\u001b[1;33m\u001b[0m\u001b[0m\n\u001b[0;32m      2\u001b[0m \u001b[1;33m\u001b[0m\u001b[0m\n\u001b[1;32m----> 3\u001b[1;33m \u001b[0mFahrenheit\u001b[0m \u001b[1;33m=\u001b[0m \u001b[0mint\u001b[0m\u001b[1;33m(\u001b[0m\u001b[0minput\u001b[0m\u001b[1;33m(\u001b[0m\u001b[1;34m\"Please enter the Temp in Fahrenheit: \"\u001b[0m\u001b[1;33m)\u001b[0m\u001b[1;33m)\u001b[0m\u001b[1;33m\u001b[0m\u001b[1;33m\u001b[0m\u001b[0m\n\u001b[0m\u001b[0;32m      4\u001b[0m \u001b[1;33m\u001b[0m\u001b[0m\n\u001b[0;32m      5\u001b[0m \u001b[0mCelcius\u001b[0m  \u001b[1;33m=\u001b[0m \u001b[1;33m(\u001b[0m\u001b[1;33m(\u001b[0m\u001b[0mround\u001b[0m\u001b[1;33m(\u001b[0m\u001b[0mFahrenheit\u001b[0m\u001b[1;33m,\u001b[0m \u001b[1;36m2\u001b[0m\u001b[1;33m)\u001b[0m \u001b[1;33m-\u001b[0m \u001b[1;36m32\u001b[0m\u001b[1;33m)\u001b[0m\u001b[1;33m*\u001b[0m\u001b[1;36m5\u001b[0m \u001b[1;33m)\u001b[0m \u001b[1;33m/\u001b[0m \u001b[1;36m9\u001b[0m\u001b[1;33m\u001b[0m\u001b[1;33m\u001b[0m\u001b[0m\n",
      "\u001b[1;31mValueError\u001b[0m: invalid literal for int() with base 10: '84.2'"
     ]
    }
   ],
   "source": [
    "## formula( ( Fahrenheit – 32)*5 ) / 9 )\n",
    "\n",
    "Fahrenheit = int(input(\"Please enter the Temp in Fahrenheit: \"))\n",
    "\n",
    "Celcius  = ((round(Fahrenheit, 2) - 32)*5 ) / 9\n",
    "print(f\"Temp. in Fahrenheit: {round(Celcius, 2)}\")"
   ]
  },
  {
   "cell_type": "code",
   "execution_count": 29,
   "id": "0a2deb33",
   "metadata": {},
   "outputs": [
    {
     "name": "stdout",
     "output_type": "stream",
     "text": [
      "Enter Temperature in Fahrenheit : 84.2\n",
      "Fahrenheit to Celsius:  29\n"
     ]
    }
   ],
   "source": [
    "f = eval(input(\"Enter Temperature in Fahrenheit : \"))   \n",
    "c = (5/9)*(f - 32) \n",
    "print(\"Fahrenheit to Celsius: \",round(c))"
   ]
  },
  {
   "cell_type": "code",
   "execution_count": 28,
   "id": "6c7a067b",
   "metadata": {},
   "outputs": [
    {
     "data": {
      "text/plain": [
       "52.2"
      ]
     },
     "execution_count": 28,
     "metadata": {},
     "output_type": "execute_result"
    }
   ],
   "source": [
    "84.2 - 32"
   ]
  },
  {
   "cell_type": "markdown",
   "id": "1e4ba279",
   "metadata": {},
   "source": [
    "Python Program for simple interest\n",
    "Simple interest formula is given by:\n",
    "\n",
    "Simple Interest = (P x T x R)/100\n",
    "\n",
    "Where,\n",
    "\n",
    "P is the principle amount\n",
    "\n",
    "T is the time and\n",
    "\n",
    "R is the rate"
   ]
  },
  {
   "cell_type": "code",
   "execution_count": null,
   "id": "e155856b",
   "metadata": {},
   "outputs": [],
   "source": [
    "def simple_interest(p,t,r):\n",
    "    print('The principal is', p)\n",
    "    print('The time period is', t)\n",
    "    print('The rate of interest is',r)\n",
    "    p = int(p)\n",
    "    t = int(t)\n",
    "    r = int(r)\n",
    "    si = (p * t * r)/100\n",
    "    \n",
    "    return si\n",
    "      \n",
    "# Driver code\n",
    "print(\"Please enter Principal, time, and rate\")\n",
    "p,t,r = input().split(\",\")\n",
    "print(f\"Your simple iterest is : {simple_interest(p,t,r)}\")"
   ]
  }
 ],
 "metadata": {
  "kernelspec": {
   "display_name": "Python 3 (ipykernel)",
   "language": "python",
   "name": "python3"
  },
  "language_info": {
   "codemirror_mode": {
    "name": "ipython",
    "version": 3
   },
   "file_extension": ".py",
   "mimetype": "text/x-python",
   "name": "python",
   "nbconvert_exporter": "python",
   "pygments_lexer": "ipython3",
   "version": "3.7.8"
  }
 },
 "nbformat": 4,
 "nbformat_minor": 5
}

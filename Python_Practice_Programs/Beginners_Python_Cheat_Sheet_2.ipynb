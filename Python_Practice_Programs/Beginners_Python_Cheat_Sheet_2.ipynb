{
 "cells": [
  {
   "cell_type": "markdown",
   "id": "d3a5ec5d",
   "metadata": {},
   "source": [
    "### Functions \n",
    "\n",
    "Functions are named blocks of code designed to do one specific job. Functions allow you to write code once that can then be run whenever you need to accomplish the same task. Functions can take in the information they need, and return the information they generate. Using functions effectively makes your programs easier to write, read, test, and fix"
   ]
  },
  {
   "cell_type": "markdown",
   "id": "19e0cc7d",
   "metadata": {},
   "source": [
    "### Defining a function\n",
    "\n",
    "The first line of a function is its definition, marked by the keyword `def`. \n",
    "\n",
    "The name of the function is followed by a set of parentheses and a colon. \n",
    "\n",
    "A docstring, in triple quotes, describes what the function does. \n",
    "\n",
    "The body of a function is indented one level. To call a function, give the name of the function followed by a set of parentheses."
   ]
  },
  {
   "cell_type": "code",
   "execution_count": 1,
   "id": "38712008",
   "metadata": {},
   "outputs": [
    {
     "name": "stdout",
     "output_type": "stream",
     "text": [
      "Hello\n"
     ]
    }
   ],
   "source": [
    "# Making a function \n",
    "\n",
    "def greet_user():\n",
    "    \"\"\" Display a simple greeeting\"\"\"\n",
    "    print(\"Hello\")\n",
    "    \n",
    "greet_user()"
   ]
  },
  {
   "cell_type": "code",
   "execution_count": 2,
   "id": "acdd7569",
   "metadata": {},
   "outputs": [
    {
     "data": {
      "text/plain": [
       "' Display a simple greeeting'"
      ]
     },
     "execution_count": 2,
     "metadata": {},
     "output_type": "execute_result"
    }
   ],
   "source": [
    "greet_user.__doc__"
   ]
  },
  {
   "cell_type": "code",
   "execution_count": 3,
   "id": "af472c68",
   "metadata": {},
   "outputs": [
    {
     "data": {
      "text/plain": [
       "'__main__'"
      ]
     },
     "execution_count": 3,
     "metadata": {},
     "output_type": "execute_result"
    }
   ],
   "source": [
    "greet_user.__module__"
   ]
  },
  {
   "cell_type": "code",
   "execution_count": 4,
   "id": "77025923",
   "metadata": {},
   "outputs": [
    {
     "data": {
      "text/plain": [
       "'greet_user'"
      ]
     },
     "execution_count": 4,
     "metadata": {},
     "output_type": "execute_result"
    }
   ],
   "source": [
    "greet_user.__name__"
   ]
  },
  {
   "cell_type": "code",
   "execution_count": 5,
   "id": "9d932f26",
   "metadata": {},
   "outputs": [
    {
     "data": {
      "text/plain": [
       "{}"
      ]
     },
     "execution_count": 5,
     "metadata": {},
     "output_type": "execute_result"
    }
   ],
   "source": [
    "greet_user.__dict__"
   ]
  },
  {
   "cell_type": "markdown",
   "id": "308fe637",
   "metadata": {},
   "source": [
    "`Information that's passed to a function is called an argument; information that's received by a function is called a parameter. Arguments are included in parentheses after the function's name, and parameters are listed in parentheses in the function's definition.`"
   ]
  },
  {
   "cell_type": "code",
   "execution_count": 6,
   "id": "8a0699b9",
   "metadata": {},
   "outputs": [
    {
     "name": "stdout",
     "output_type": "stream",
     "text": [
      "Hello, Ankit!\n"
     ]
    }
   ],
   "source": [
    "# Passing a single argument \n",
    "\n",
    "def greet_user(username):\n",
    "    \n",
    "    \"\"\" Display a simple greeting \"\"\"\n",
    "    print(\"Hello, \" + username + \"!\")\n",
    "    \n",
    "greet_user('Ankit')"
   ]
  },
  {
   "cell_type": "code",
   "execution_count": 7,
   "id": "0a3a8328",
   "metadata": {},
   "outputs": [
    {
     "data": {
      "text/plain": [
       "' Display a simple greeting '"
      ]
     },
     "execution_count": 7,
     "metadata": {},
     "output_type": "execute_result"
    }
   ],
   "source": [
    "greet_user.__doc__"
   ]
  },
  {
   "cell_type": "code",
   "execution_count": 8,
   "id": "cb830370",
   "metadata": {},
   "outputs": [
    {
     "data": {
      "text/plain": [
       "'__main__'"
      ]
     },
     "execution_count": 8,
     "metadata": {},
     "output_type": "execute_result"
    }
   ],
   "source": [
    "greet_user.__module__"
   ]
  },
  {
   "cell_type": "code",
   "execution_count": 9,
   "id": "37b0561d",
   "metadata": {},
   "outputs": [
    {
     "data": {
      "text/plain": [
       "{}"
      ]
     },
     "execution_count": 9,
     "metadata": {},
     "output_type": "execute_result"
    }
   ],
   "source": [
    "greet_user.__dict__"
   ]
  },
  {
   "cell_type": "markdown",
   "id": "16b6cb7e",
   "metadata": {},
   "source": [
    "#### Positional And Keyword Argument\n",
    "The two main kinds of arguments are positional and keyword arguments. When you use positional arguments Python matches the first argument in the function call with the first parameter in the function definition, and so forth. \n",
    "\n",
    "\n",
    "With keyword arguments, you specify which parameter each argument should be assigned to in the function call. When you use keyword arguments, the order of the arguments doesn't matter."
   ]
  },
  {
   "cell_type": "code",
   "execution_count": 10,
   "id": "1523bc15",
   "metadata": {},
   "outputs": [
    {
     "name": "stdout",
     "output_type": "stream",
     "text": [
      "\n",
      "I have a Dog.\n",
      "Its name is Jackey.\n",
      "\n",
      "I have a Horse.\n",
      "Its name is  Hary.\n"
     ]
    }
   ],
   "source": [
    "# Using Positional argument\n",
    "\n",
    "def describe_pet(animal, name):\n",
    "    \"\"\" Display a simple greeting \"\"\"\n",
    "    \n",
    "    print(\"\\nI have a \"+ animal+ \".\")\n",
    "    print(\"Its name is \"+ name +\".\")\n",
    "    \n",
    "    \n",
    "describe_pet(\"Dog\", \"Jackey\")\n",
    "describe_pet(\"Horse\", \" Hary\")"
   ]
  },
  {
   "cell_type": "code",
   "execution_count": 11,
   "id": "2231d150",
   "metadata": {},
   "outputs": [
    {
     "name": "stdout",
     "output_type": "stream",
     "text": [
      "\n",
      "I have a Dog.\n",
      "Its name is Jackey.\n"
     ]
    }
   ],
   "source": [
    "# Using Keyword arguments \n",
    "\n",
    "def describe_pet(animal, name):\n",
    "    \"\"\" Display a simple greeting \"\"\"\n",
    "    print(\"\\nI have a \"+ animal+ \".\")\n",
    "    print(\"Its name is \"+ name +\".\")\n",
    "    \n",
    "\n",
    "describe_pet(animal=\"Dog\", name = \"Jackey\")"
   ]
  },
  {
   "cell_type": "code",
   "execution_count": 12,
   "id": "2907084d",
   "metadata": {},
   "outputs": [
    {
     "name": "stdout",
     "output_type": "stream",
     "text": [
      "\n",
      "I have a Horse.\n",
      "Its name is Harry.\n",
      "\n",
      "I have a Dog.\n",
      "Its name is Jackey.\n"
     ]
    }
   ],
   "source": [
    "# Using Default value \n",
    "\n",
    "def pet(name, animal = 'Dog'):\n",
    "    \"\"\" Display a simple greeting \"\"\"\n",
    "    print(\"\\nI have a \"+animal+\".\")\n",
    "    print(\"Its name is \"+ name+ \".\")\n",
    "    \n",
    "pet(\"Harry\", \"Horse\")\n",
    "pet(\"Jackey\")"
   ]
  },
  {
   "cell_type": "code",
   "execution_count": 12,
   "id": "e2afaa59",
   "metadata": {},
   "outputs": [
    {
     "name": "stdout",
     "output_type": "stream",
     "text": [
      "\n",
      "I have a hamster.\n",
      "Its name is harry.\n",
      "\n",
      "I have a snake.\n"
     ]
    }
   ],
   "source": [
    "# Using None to make an argument optional\n",
    "\n",
    "def describe_pet(animal, name=None):\n",
    "    \"\"\"Display information about a pet.\"\"\"\n",
    "    \n",
    "    print(\"\\nI have a \" + animal + \".\")\n",
    "    if name: \n",
    "        print(\"Its name is \" + name + \".\") \n",
    "\n",
    "describe_pet('hamster', 'harry') \n",
    "describe_pet('snake')"
   ]
  },
  {
   "cell_type": "code",
   "execution_count": 13,
   "id": "9eae781d",
   "metadata": {},
   "outputs": [
    {
     "name": "stdout",
     "output_type": "stream",
     "text": [
      "Jimi Hendrix\n"
     ]
    }
   ],
   "source": [
    "#Returning a single value \n",
    "def get_full_name(first, last):\n",
    "    \"\"\"Return a neatly formatted full name.\"\"\" \n",
    "    full_name = first + ' ' + last \n",
    "    return full_name.title() \n",
    "\n",
    "\n",
    "musician = get_full_name('jimi', 'hendrix') \n",
    "print(musician)"
   ]
  },
  {
   "cell_type": "code",
   "execution_count": 14,
   "id": "c8f2968f",
   "metadata": {},
   "outputs": [
    {
     "name": "stdout",
     "output_type": "stream",
     "text": [
      "{'first': 'jimi', 'last': 'hendrix'}\n"
     ]
    }
   ],
   "source": [
    "# Returning a dictionary\n",
    "\n",
    "def build_person(first, last): \n",
    "    \"\"\"Return a dictionary of information about a person. \"\"\"\n",
    "    person = {'first': first, 'last': last} \n",
    "    \n",
    "    return person \n",
    "\n",
    "\n",
    "musician = build_person('jimi', 'hendrix') \n",
    "\n",
    "print(musician)"
   ]
  },
  {
   "cell_type": "code",
   "execution_count": 15,
   "id": "4d93b790",
   "metadata": {},
   "outputs": [
    {
     "name": "stdout",
     "output_type": "stream",
     "text": [
      "{'first': 'jimi', 'last': 'hendrix', 'age': 27}\n",
      "\n",
      "{'first': 'janis', 'last': 'joplin'}\n"
     ]
    }
   ],
   "source": [
    "# Returning a dictionary with optional values \n",
    "\n",
    "def build_person(first, last, age=None): \n",
    "    \n",
    "    \"\"\"Return a dictionary of information about a person. \"\"\" \n",
    "    person = {'first': first, 'last': last} \n",
    "    if age:\n",
    "        person['age'] = age\n",
    "    return person \n",
    "\n",
    "\n",
    "musician = build_person('jimi', 'hendrix', 27) \n",
    "print(musician) \n",
    "print()\n",
    "musician = build_person('janis', 'joplin')\n",
    "print(musician)"
   ]
  },
  {
   "cell_type": "markdown",
   "id": "d959752c",
   "metadata": {},
   "source": [
    "#### Passing a list to a function \n",
    "You can pass a list as an argument to a function, and the function can work with the values in the list. Any changes the function makes to the list will affect the original list. You can prevent a function from modifying a list by passing a copy of the list as an argument. "
   ]
  },
  {
   "cell_type": "code",
   "execution_count": 16,
   "id": "0497cb22",
   "metadata": {},
   "outputs": [
    {
     "name": "stdout",
     "output_type": "stream",
     "text": [
      "Hello, hannah!\n",
      "Hello, ty!\n",
      "Hello, margot!\n"
     ]
    }
   ],
   "source": [
    "# Passing a list as an argument \n",
    "\n",
    "def greet_users(names): \n",
    "    \"\"\"Print a simple greeting to everyone.\"\"\" \n",
    "    \n",
    "    for name in names: \n",
    "        \n",
    "        msg = \"Hello, \" + name + \"!\" \n",
    "        print(msg) \n",
    "\n",
    "\n",
    "usernames = ['hannah', 'ty', 'margot'] \n",
    "greet_users(usernames)"
   ]
  },
  {
   "cell_type": "code",
   "execution_count": 17,
   "id": "02910576",
   "metadata": {},
   "outputs": [
    {
     "name": "stdout",
     "output_type": "stream",
     "text": [
      "Hello, hannah!\n",
      "Hello, ty!\n",
      "Hello, margot!\n"
     ]
    },
    {
     "data": {
      "text/plain": [
       "['hannah', 'ty', 'margot', 'hello']"
      ]
     },
     "execution_count": 17,
     "metadata": {},
     "output_type": "execute_result"
    }
   ],
   "source": [
    "# Passing a list as an argument \n",
    "\n",
    "def greet_users(names): \n",
    "    \"\"\"Print a simple greeting to everyone.\"\"\" \n",
    "    \n",
    "    for name in names: \n",
    "        \n",
    "        msg = \"Hello, \" + name + \"!\" \n",
    "        print(msg)\n",
    "    names.append(\"hello\") # do not append it within for loop otherwise it will become infinite loop\n",
    "\n",
    "\n",
    "usernames = ['hannah', 'ty', 'margot'] \n",
    "greet_users(usernames)\n",
    "usernames"
   ]
  },
  {
   "cell_type": "code",
   "execution_count": 20,
   "id": "608f1e9e",
   "metadata": {},
   "outputs": [
    {
     "name": "stdout",
     "output_type": "stream",
     "text": [
      "Hello : Ankit!\n",
      "Hello : Amit!\n",
      "Hello : Ashish!\n"
     ]
    }
   ],
   "source": [
    "def name_list(names):\n",
    "    \n",
    "    for name in names:\n",
    "        print(f\"Hello : {name}!\")\n",
    "        \n",
    "list1 = [\"Ankit\", \"Amit\", \"Ashish\"]\n",
    "name_list(list1)"
   ]
  },
  {
   "cell_type": "code",
   "execution_count": 22,
   "id": "a3653cf2",
   "metadata": {},
   "outputs": [
    {
     "name": "stdout",
     "output_type": "stream",
     "text": [
      "1 2 3 4 5 6 "
     ]
    }
   ],
   "source": [
    "def num_list(numbers):\n",
    "    \n",
    "    for num in numbers:\n",
    "        print(num , end=\" \")\n",
    "        \n",
    "list1 = [1,2,3,4,5,6]\n",
    "num_list(list1)"
   ]
  },
  {
   "cell_type": "code",
   "execution_count": 11,
   "id": "965e63b7",
   "metadata": {},
   "outputs": [
    {
     "data": {
      "text/plain": [
       "21"
      ]
     },
     "execution_count": 11,
     "metadata": {},
     "output_type": "execute_result"
    }
   ],
   "source": [
    "def list_add(numbers):\n",
    "    total = 0\n",
    "    for num in numbers:\n",
    "        total +=num\n",
    "    return total\n",
    "        \n",
    "list1 = [1,2,3,4,5,6]\n",
    "list_add(list1)"
   ]
  },
  {
   "cell_type": "code",
   "execution_count": 9,
   "id": "9b2fa8b3",
   "metadata": {},
   "outputs": [
    {
     "data": {
      "text/plain": [
       "18"
      ]
     },
     "execution_count": 9,
     "metadata": {},
     "output_type": "execute_result"
    }
   ],
   "source": [
    "# imp note\n",
    "def list_add(a,b,*numbers):\n",
    "    total = 0\n",
    "    for num in numbers:\n",
    "        total +=num\n",
    "    return total\n",
    "        \n",
    "list1 = [1,2,3,4,5,6]\n",
    "list_add(*list1)"
   ]
  },
  {
   "cell_type": "code",
   "execution_count": 23,
   "id": "1d57f685",
   "metadata": {},
   "outputs": [
    {
     "name": "stdout",
     "output_type": "stream",
     "text": [
      "0 1 2 3 4 5 6 7 8 9 "
     ]
    }
   ],
   "source": [
    "def range_list(number):\n",
    "    \n",
    "    for num in range(number):\n",
    "        print(num , end=\" \")\n",
    "        \n",
    "        \n",
    "range_list(10)"
   ]
  },
  {
   "cell_type": "code",
   "execution_count": 12,
   "id": "9169bed7",
   "metadata": {},
   "outputs": [
    {
     "name": "stdout",
     "output_type": "stream",
     "text": [
      "Printing ring\n",
      "Printing pendant\n",
      "Printing phone case\n",
      "\n",
      "Unprinted: []\n",
      "Printed: ['ring', 'pendant', 'phone case']\n"
     ]
    }
   ],
   "source": [
    "# Allowing a function to modify a list The following example sends a list of models to a function for printing. The original list is emptied, and the second list is filled.\n",
    "\n",
    "def print_models(unprinted, printed): \n",
    "    \"\"\"3d print a set of models.\"\"\" \n",
    "    \n",
    "    while unprinted:\n",
    "        current_model = unprinted.pop() \n",
    "        print(\"Printing \" + current_model) \n",
    "        printed.append(current_model)\n",
    "        \n",
    "# Store some unprinted designs, \n",
    "# and print each of them. \n",
    "\n",
    "unprinted = ['phone case', 'pendant', 'ring'] \n",
    "printed = [] \n",
    "\n",
    "print_models(unprinted, printed) \n",
    "\n",
    "print(\"\\nUnprinted:\", unprinted) \n",
    "print(\"Printed:\", printed)"
   ]
  },
  {
   "cell_type": "markdown",
   "id": "4e4d1240",
   "metadata": {},
   "source": [
    "#### Preventing a function from modifying a list \n",
    "\n",
    "The following example is the same as the previous one, except the original list is unchanged after calling print_models(). "
   ]
  },
  {
   "cell_type": "code",
   "execution_count": 25,
   "id": "3ca8660d",
   "metadata": {},
   "outputs": [
    {
     "name": "stdout",
     "output_type": "stream",
     "text": [
      "Printing ring\n",
      "Printing pendant\n",
      "Printing phone case\n",
      "\n",
      "Original: ['phone case', 'pendant', 'ring']\n",
      "Printed: ['ring', 'pendant', 'phone case']\n"
     ]
    }
   ],
   "source": [
    "def print_models(unprinted, printed):\n",
    "    \"\"\"3d print a set of models.\"\"\" \n",
    "    \n",
    "    while unprinted: \n",
    "        current_model = unprinted.pop() \n",
    "        print(\"Printing \" + current_model)\n",
    "        printed.append(current_model) \n",
    "        # Store some unprinted designs, \n",
    "        # and print each of them. \n",
    "        \n",
    "original = ['phone case', 'pendant', 'ring'] \n",
    "printed = [] \n",
    "\n",
    "print_models(original[:], printed) \n",
    "print(\"\\nOriginal:\", original) \n",
    "print(\"Printed:\", printed)"
   ]
  },
  {
   "cell_type": "markdown",
   "id": "a34658b3",
   "metadata": {},
   "source": [
    "#### Pasing an Arbitary number of arguments\n",
    "Sometimes you won't know how many arguments a function will need to accept. Python allows you to collect an arbitrary number of arguments into one parameter using the * operator. A parameter that accepts an arbitrary number of arguments must come last in the function definition. The ** operator allows a parameter to collect an arbitrary number of keyword arguments."
   ]
  },
  {
   "cell_type": "code",
   "execution_count": 26,
   "id": "d5bc0a2d",
   "metadata": {},
   "outputs": [
    {
     "name": "stdout",
     "output_type": "stream",
     "text": [
      "\n",
      "Making a small pizza.\n",
      "Toppings:\n",
      "- pepperoni\n",
      "\n",
      "Making a large pizza.\n",
      "Toppings:\n",
      "- bacon bits\n",
      "- pineapple\n",
      "\n",
      "Making a medium pizza.\n",
      "Toppings:\n",
      "- mushrooms\n",
      "- peppers\n",
      "- onions\n",
      "- extra cheese\n"
     ]
    }
   ],
   "source": [
    "# Collecting an arbitrary number of arguments \n",
    "\n",
    "def make_pizza(size, *toppings): \n",
    "    \n",
    "    \"\"\"Make a pizza.\"\"\" \n",
    "    \n",
    "    print(\"\\nMaking a \" + size + \" pizza.\") \n",
    "    print(\"Toppings:\") \n",
    "    for topping in toppings:\n",
    "        print(\"- \" + topping)\n",
    "        \n",
    "# Make three pizzas with different toppings. \n",
    "\n",
    "make_pizza('small', 'pepperoni') \n",
    "\n",
    "make_pizza('large', 'bacon bits', 'pineapple') \n",
    "\n",
    "make_pizza('medium', 'mushrooms', 'peppers', 'onions', 'extra cheese')"
   ]
  },
  {
   "cell_type": "code",
   "execution_count": 27,
   "id": "e693a6f2",
   "metadata": {},
   "outputs": [
    {
     "name": "stdout",
     "output_type": "stream",
     "text": [
      "\n",
      "This is A1 batch\n",
      "Students:\n",
      "- Ankit\n",
      "- Amit\n",
      "- Ashish\n",
      "\n",
      "This is B1 batch\n",
      "Students:\n",
      "- Sonu\n",
      "- Ram\n"
     ]
    }
   ],
   "source": [
    "def coaching(batch , *students):\n",
    "    \n",
    "    print(f\"\\nThis is {batch} batch\")\n",
    "    print(\"Students:\")\n",
    "    for student in students:\n",
    "        print(\"- \" + student)\n",
    "        \n",
    "coaching(\"A1\", \"Ankit\", \"Amit\", \"Ashish\")\n",
    "coaching(\"B1\", \"Sonu\", \"Ram\")"
   ]
  },
  {
   "cell_type": "code",
   "execution_count": 28,
   "id": "0c626cb2",
   "metadata": {},
   "outputs": [
    {
     "name": "stdout",
     "output_type": "stream",
     "text": [
      "{'first': 'albert', 'last': 'einstein', 'location': 'princeton'}\n",
      "{'first': 'marie', 'last': 'curie', 'location': 'paris'}\n"
     ]
    }
   ],
   "source": [
    "# Collecting an arbitrary number of keyword arguments \n",
    "\n",
    "def build_profile(first, last, **user_info):\n",
    "    \n",
    "    \"\"\"Build a user's profile dictionary.\"\"\" \n",
    "    \n",
    "    # Build a dict with the required keys. \n",
    "    profile = {'first': first, 'last': last} \n",
    "    # Add any other keys and values. \n",
    "    for key, value in user_info.items(): \n",
    "        profile[key] = value\n",
    "        return profile \n",
    "    \n",
    "# Create two users with different kinds \n",
    "# of information. \n",
    "\n",
    "user_0 = build_profile('albert', 'einstein', location='princeton') \n",
    "\n",
    "user_1 = build_profile('marie', 'curie', location='paris', field='chemistry') \n",
    "\n",
    "print(user_0)\n",
    "print(user_1)"
   ]
  },
  {
   "cell_type": "markdown",
   "id": "87b8c106",
   "metadata": {},
   "source": [
    "### What'sthe best way to structure a function \n",
    "\n",
    "As you can see there are many ways to write and call a function. When you're starting out, aim for something that simply works. As you gain experience you'll develop an understanding of the more subtle advantages of different structures such as positional and keyword arguments, and the various approaches to importing functions. For now if your functions do what you need them to, you're doing well."
   ]
  },
  {
   "cell_type": "markdown",
   "id": "83d83ae3",
   "metadata": {},
   "source": [
    "### Modules\n",
    "\n",
    "You can store your functions in a separate file called a module, and then import the functions you need into the file containing your main program. This allows for cleaner program files. (Make sure your module is stored in the same directory as your main program.)"
   ]
  },
  {
   "cell_type": "code",
   "execution_count": 29,
   "id": "1cbbc627",
   "metadata": {},
   "outputs": [],
   "source": [
    "# # Storing a function in a module File: pizza.py \n",
    "# def make_pizza(size, *toppings): \n",
    "#     \"\"\"Make a pizza.\"\"\" \n",
    "#     print(\"\\nMaking a \" + size + \" pizza.\") \n",
    "#     print(\"Toppings:\") \n",
    "#     for topping in toppings: \n",
    "#         print(\"- \" + topping)\n",
    "\n",
    "# We have save a pizza.py in the same directory for import and use in next function"
   ]
  },
  {
   "cell_type": "markdown",
   "id": "1ca1478b",
   "metadata": {},
   "source": [
    "#### Importing the entire module \n",
    "\n",
    "File: making_pizzas.py Every function in the module is available in the program file. \n",
    "    "
   ]
  },
  {
   "cell_type": "code",
   "execution_count": 30,
   "id": "40deb05d",
   "metadata": {},
   "outputs": [
    {
     "name": "stdout",
     "output_type": "stream",
     "text": [
      "\n",
      "Making a medium pizza.\n",
      "Toppings:\n",
      "- pepperoni\n",
      "\n",
      "Making a small pizza.\n",
      "Toppings:\n",
      "- bacon\n",
      "- pineapple\n"
     ]
    }
   ],
   "source": [
    "import pizza \n",
    "\n",
    "pizza.make_pizza('medium', 'pepperoni')\n",
    "pizza.make_pizza('small', 'bacon', 'pineapple')"
   ]
  },
  {
   "cell_type": "code",
   "execution_count": 31,
   "id": "c0fc0994",
   "metadata": {},
   "outputs": [
    {
     "name": "stdout",
     "output_type": "stream",
     "text": [
      "\n",
      "Making a medium pizza.\n",
      "Toppings:\n",
      "- pepperoni\n",
      "\n",
      "Making a small pizza.\n",
      "Toppings:\n",
      "- bacon\n",
      "- pineapple\n"
     ]
    }
   ],
   "source": [
    "# Importing a specific function Only the imported functions are available in the program file. \n",
    "\n",
    "from pizza import make_pizza \n",
    "\n",
    "make_pizza('medium', 'pepperoni') \n",
    "make_pizza('small', 'bacon', 'pineapple')"
   ]
  },
  {
   "cell_type": "code",
   "execution_count": 32,
   "id": "06c1754b",
   "metadata": {},
   "outputs": [
    {
     "name": "stdout",
     "output_type": "stream",
     "text": [
      "\n",
      "Making a medium pizza.\n",
      "Toppings:\n",
      "- pepperoni\n",
      "\n",
      "Making a small pizza.\n",
      "Toppings:\n",
      "- bacon\n",
      "- pineapple\n"
     ]
    }
   ],
   "source": [
    "# Giving a module an alias \n",
    "import pizza as p \n",
    "\n",
    "p.make_pizza('medium', 'pepperoni') \n",
    "p.make_pizza('small', 'bacon', 'pineapple')"
   ]
  },
  {
   "cell_type": "code",
   "execution_count": 33,
   "id": "35c8181c",
   "metadata": {},
   "outputs": [
    {
     "name": "stdout",
     "output_type": "stream",
     "text": [
      "\n",
      "Making a medium pizza.\n",
      "Toppings:\n",
      "- pepperoni\n",
      "\n",
      "Making a small pizza.\n",
      "Toppings:\n",
      "- bacon\n",
      "- pineapple\n"
     ]
    }
   ],
   "source": [
    "# Giving a function an alias  \n",
    "\n",
    "from pizza import make_pizza as mp \n",
    "\n",
    "mp('medium', 'pepperoni')\n",
    "mp('small', 'bacon', 'pineapple')"
   ]
  },
  {
   "cell_type": "code",
   "execution_count": 34,
   "id": "f27fc9e9",
   "metadata": {},
   "outputs": [
    {
     "name": "stdout",
     "output_type": "stream",
     "text": [
      "\n",
      "Making a medium pizza.\n",
      "Toppings:\n",
      "- pepperoni\n",
      "\n",
      "Making a small pizza.\n",
      "Toppings:\n",
      "- bacon\n",
      "- pineapple\n"
     ]
    }
   ],
   "source": [
    "# Importing all functions from a module Don't do this,\n",
    "# but recognize it when you see it in others' code. \n",
    "# It can result in naming conflicts, which can cause errors. \n",
    "\n",
    "from pizza import *\n",
    "\n",
    "make_pizza('medium', 'pepperoni')\n",
    "make_pizza('small', 'bacon', 'pineapple')"
   ]
  },
  {
   "cell_type": "markdown",
   "id": "5e4ed1f1",
   "metadata": {},
   "source": [
    "### Classes\n",
    "\n",
    "Classes are the foundation of object-oriented programming. Classes represent real-world things you want to model in your programs: for example dogs, cars, and robots. You use a class to make objects, which are specific instances of dogs, cars, and robots. A class defines the general behavior that a whole category of objects can have, and the information that can be associated with those objects. Classes can inherit from each other – you can write a class that extends the functionality of an existing class. This allows you to code efficiently for a wide variety of situations"
   ]
  },
  {
   "cell_type": "markdown",
   "id": "9bf27506",
   "metadata": {},
   "source": [
    "#### Creating and using  a class\n",
    "\n",
    "Consider how we might model a car. What information would we associate with a car, and what behavior would it have? The information is stored in variables called attributes, and the behavior is represented by functions. Functions that are part of a class are called methods."
   ]
  },
  {
   "cell_type": "code",
   "execution_count": 35,
   "id": "c47bbd26",
   "metadata": {},
   "outputs": [],
   "source": [
    "# The CAr Class\n",
    "\n",
    "class Car(): \n",
    "    \"\"\"A simple attempt to model a car.\"\"\" \n",
    "    \n",
    "    def __init__(self, make, model, year): \n",
    "        \"\"\"Initialize car attributes.\"\"\" \n",
    "        self.make = make \n",
    "        self.model = model \n",
    "        self.year = year \n",
    "        # Fuel capacity and level in gallons. \n",
    "        self.fuel_capacity = 15 \n",
    "        self.fuel_level = 0 \n",
    "        \n",
    "    def fill_tank(self): \n",
    "        \"\"\"Fill gas tank to capacity.\"\"\" \n",
    "        self.fuel_level = self.fuel_capacity\n",
    "        print(\"Fuel tank is full.\")\n",
    "    \n",
    "    def drive(self): \n",
    "        \"\"\"Simulate driving.\"\"\"\n",
    "        print(\"The car is moving.\")"
   ]
  },
  {
   "cell_type": "code",
   "execution_count": 36,
   "id": "e30d0fe7",
   "metadata": {},
   "outputs": [],
   "source": [
    "# Creating an object from a class\n",
    "my_car = Car(\"Audi\", \"a4\", 2016)"
   ]
  },
  {
   "cell_type": "code",
   "execution_count": 39,
   "id": "f37d8faa",
   "metadata": {},
   "outputs": [
    {
     "name": "stdout",
     "output_type": "stream",
     "text": [
      "Audi\n",
      "a4\n",
      "2016\n"
     ]
    }
   ],
   "source": [
    "# Accessing attribute values \n",
    "\n",
    "print(my_car.make) # no paranthesis require to access attribute \n",
    "print(my_car.model)\n",
    "print(my_car.year)"
   ]
  },
  {
   "cell_type": "code",
   "execution_count": 40,
   "id": "c801c5b3",
   "metadata": {},
   "outputs": [
    {
     "name": "stdout",
     "output_type": "stream",
     "text": [
      "Fuel tank is full.\n"
     ]
    }
   ],
   "source": [
    "# Calling Methods\n",
    "my_car.fill_tank()  # paranthesis require to access a methos"
   ]
  },
  {
   "cell_type": "code",
   "execution_count": 41,
   "id": "c88966aa",
   "metadata": {},
   "outputs": [
    {
     "name": "stdout",
     "output_type": "stream",
     "text": [
      "The car is moving.\n"
     ]
    }
   ],
   "source": [
    "my_car.drive()"
   ]
  },
  {
   "cell_type": "code",
   "execution_count": 42,
   "id": "5801333e",
   "metadata": {},
   "outputs": [],
   "source": [
    "# We can make multiple objects \n",
    "my_car = Car('audi', 'a4', 2016) \n",
    "my_old_car = Car('subaru', 'outback', 2013)\n",
    "my_truck = Car('toyota', 'tacoma', 2010)"
   ]
  },
  {
   "cell_type": "markdown",
   "id": "60448f69",
   "metadata": {},
   "source": [
    "#### Modifying attribute\n",
    "\n",
    "You can modify an attribute's value directly, or you can write methods that manage updating values more carefully."
   ]
  },
  {
   "cell_type": "code",
   "execution_count": 43,
   "id": "36d550d8",
   "metadata": {},
   "outputs": [],
   "source": [
    "# MOdifying an attribute directly \n",
    "\n",
    "my_new_car = Car('audi', 'a4', 2016)\n",
    "my_new_car.fuel_level = 5"
   ]
  },
  {
   "cell_type": "code",
   "execution_count": 46,
   "id": "d0847de4",
   "metadata": {},
   "outputs": [
    {
     "data": {
      "text/plain": [
       "15"
      ]
     },
     "execution_count": 46,
     "metadata": {},
     "output_type": "execute_result"
    }
   ],
   "source": [
    "my_new_car.fuel_level"
   ]
  },
  {
   "cell_type": "code",
   "execution_count": 47,
   "id": "2d17d674",
   "metadata": {},
   "outputs": [],
   "source": [
    "# Writing a method to update an attribute's value \n",
    "\n",
    "def update_fuel_level(self, new_level):\n",
    "    \"\"\"Update the fuel level.\"\"\" \n",
    "    \n",
    "    if new_level <= self.fuel_capacity: \n",
    "        \n",
    "        self.fuel_level = new_level \n",
    "        \n",
    "    else: print(\"The tank can't hold that much!\")"
   ]
  },
  {
   "cell_type": "code",
   "execution_count": 49,
   "id": "cbfa16f9",
   "metadata": {},
   "outputs": [],
   "source": [
    "# Writing a method to increment an attribute's value \n",
    "\n",
    "def add_fuel(self, amount):\n",
    "    \"\"\"Add fuel to the tank.\"\"\" \n",
    "    if (self.fuel_level + amount <= self.fuel_capacity):\n",
    "        \n",
    "        self.fuel_level += amount \n",
    "        print(\"Added fuel.\") \n",
    "        \n",
    "    else: \n",
    "        print(\"The tank won't hold that much.\")"
   ]
  },
  {
   "cell_type": "code",
   "execution_count": 70,
   "id": "a0bd0e12",
   "metadata": {},
   "outputs": [],
   "source": [
    "# The CAr Class\n",
    "\n",
    "class Car(): \n",
    "    \"\"\"A simple attempt to model a car.\"\"\" \n",
    "    \n",
    "    def __init__(self, make, model, year): \n",
    "        \"\"\"Initialize car attributes.\"\"\" \n",
    "        self.make = make \n",
    "        self.model = model \n",
    "        self.year = year \n",
    "        # Fuel capacity and level in gallons. \n",
    "        self.fuel_capacity = 15 \n",
    "        self.fuel_level = 0 \n",
    "        \n",
    "    def fill_tank(self): \n",
    "        \"\"\"Fill gas tank to capacity.\"\"\" \n",
    "        self.fuel_level = self.fuel_capacity\n",
    "        print(\"Fuel tank is full.\")\n",
    "    \n",
    "    def drive(self): \n",
    "        \"\"\"Simulate driving.\"\"\"\n",
    "        return \"The car is moving.\"\n",
    "        \n",
    "    def update_fuel_level(self, new_level):\n",
    "        \n",
    "        \n",
    "        \"\"\"Update the fuel level.\"\"\" \n",
    "        if new_level <= self.fuel_capacity: \n",
    "            self.fuel_level = new_level\n",
    "            \n",
    "        else: print(\"The tank can't hold that much!\")\n",
    "                \n",
    "    # Writing a method to increment an attribute's value \n",
    "\n",
    "    def add_fuel(self, amount):\n",
    "        \n",
    "        \"\"\"Add fuel to the tank.\"\"\" \n",
    "        \n",
    "        if (self.fuel_level + amount <= self.fuel_capacity):\n",
    "            \n",
    "            self.fuel_level += amount \n",
    "            print(\"Added fuel.\") \n",
    "            print(f\"Fuel in the tank: {self.fuel_level}\")\n",
    "\n",
    "        else: \n",
    "            print(\"The tank won't hold that much.\")\n",
    "\n"
   ]
  },
  {
   "cell_type": "code",
   "execution_count": 61,
   "id": "ff315bf7",
   "metadata": {},
   "outputs": [],
   "source": [
    "my_car = Car(\"Audi\", \"a4\", 2016)"
   ]
  },
  {
   "cell_type": "code",
   "execution_count": 62,
   "id": "5a0d142a",
   "metadata": {},
   "outputs": [
    {
     "name": "stdout",
     "output_type": "stream",
     "text": [
      "Added fuel.\n",
      "Fuel in the tank: 14\n"
     ]
    }
   ],
   "source": [
    "my_car.add_fuel(14)"
   ]
  },
  {
   "cell_type": "code",
   "execution_count": 64,
   "id": "9839ce38",
   "metadata": {},
   "outputs": [
    {
     "name": "stdout",
     "output_type": "stream",
     "text": [
      "Added fuel.\n",
      "Fuel in the tank: 15\n"
     ]
    }
   ],
   "source": [
    "my_car.add_fuel(1)"
   ]
  },
  {
   "cell_type": "code",
   "execution_count": 65,
   "id": "d4f91960",
   "metadata": {},
   "outputs": [
    {
     "data": {
      "text/plain": [
       "15"
      ]
     },
     "execution_count": 65,
     "metadata": {},
     "output_type": "execute_result"
    }
   ],
   "source": [
    "my_car.fuel_level"
   ]
  },
  {
   "cell_type": "markdown",
   "id": "e6d94adc",
   "metadata": {},
   "source": [
    "### Class Inheritance\n",
    "\n",
    "If the class you're writing is a specialized version of another class, you can use inheritance. When one class inherits from another, it automatically takes on all the attributes and methods of the parent class. The child class is free to introduce new attributes and methods, and override attributes and methods of the parent class. \n",
    "\n",
    "To inherit from another class include the name of the parent class in parentheses when defining the new class."
   ]
  },
  {
   "cell_type": "code",
   "execution_count": 71,
   "id": "32e2d7a5",
   "metadata": {},
   "outputs": [],
   "source": [
    "# The __init__() method for a child class \n",
    "\n",
    "class ElectricCar(Car):\n",
    "    \"\"\"A simple model of an electric car.\"\"\" \n",
    "    \n",
    "    def __init__(self, make, model, year): \n",
    "        \"\"\"Initialize an electric car.\"\"\" \n",
    "        super().__init__(make, model, year) \n",
    "        \n",
    "        # Attributes specific to electric cars.\n",
    "        # Battery capacity in kWh. \n",
    "        self.battery_size = 70 \n",
    "        # Charge level in %. \n",
    "        self.charge_level = 0"
   ]
  },
  {
   "cell_type": "code",
   "execution_count": 72,
   "id": "9ce8875c",
   "metadata": {},
   "outputs": [],
   "source": [
    "my_car = ElectricCar(\"Audi\", \"a4\", 2016)"
   ]
  },
  {
   "cell_type": "code",
   "execution_count": 73,
   "id": "7a826cc0",
   "metadata": {},
   "outputs": [
    {
     "name": "stdout",
     "output_type": "stream",
     "text": [
      "70\n",
      "0\n",
      "15\n",
      "The car is moving.\n"
     ]
    }
   ],
   "source": [
    "print(my_car.battery_size)\n",
    "print(my_car.charge_level)\n",
    "print(my_car.fuel_capacity)\n",
    "print(my_car.drive())"
   ]
  },
  {
   "cell_type": "code",
   "execution_count": 79,
   "id": "7348e9e0",
   "metadata": {},
   "outputs": [],
   "source": [
    "# Adding new methods to the child class\n",
    "\n",
    "class ElectricCar(Car):\n",
    "    \"\"\"A simple model of an electric car.\"\"\" \n",
    "       \n",
    "    def __init__(self, make, model, year): \n",
    "        \n",
    "        \"\"\"Initialize an electric car.\"\"\" \n",
    "        super().__init__(make, model, year) \n",
    "        \n",
    "        # Attributes specific to electric cars.\n",
    "        # Battery capacity in kWh. \n",
    "        self.battery_size = 70 \n",
    "        # Charge level in %. \n",
    "        self.charge_level = 0\n",
    "        \n",
    "    def charge(self):\n",
    "        \"\"\"Fully charge the vehicle.\"\"\"\n",
    "        self.charge_level = 100 \n",
    "        \n",
    "        return (\"The vehicle is fully charged.\")"
   ]
  },
  {
   "cell_type": "code",
   "execution_count": 80,
   "id": "9d481142",
   "metadata": {},
   "outputs": [
    {
     "name": "stdout",
     "output_type": "stream",
     "text": [
      "The vehicle is fully charged.\n",
      "The car is moving.\n"
     ]
    }
   ],
   "source": [
    "# Using child methods and parent methods \n",
    "my_ecar = ElectricCar('tesla', 'model s', 2016) \n",
    "\n",
    "print(my_ecar.charge())\n",
    "\n",
    "print(my_ecar.drive())"
   ]
  },
  {
   "cell_type": "code",
   "execution_count": 81,
   "id": "ca07fd2d",
   "metadata": {},
   "outputs": [],
   "source": [
    "# Overriding parent methods  \n",
    "\n",
    "class ElectricCar(Car):\n",
    "    \n",
    "    \"\"\"A simple model of an electric car.\"\"\" \n",
    "       \n",
    "    def __init__(self, make, model, year): \n",
    "        \n",
    "        \"\"\"Initialize an electric car.\"\"\" \n",
    "        super().__init__(make, model, year) \n",
    "        \n",
    "        # Attributes specific to electric cars.\n",
    "        # Battery capacity in kWh. \n",
    "        self.battery_size = 70 \n",
    "        # Charge level in %. \n",
    "        self.charge_level = 0\n",
    "        \n",
    "    def charge(self):\n",
    "        \"\"\"Fully charge the vehicle.\"\"\"\n",
    "        self.charge_level = 100 \n",
    "        \n",
    "        return (\"The vehicle is fully charged.\") \n",
    "    \n",
    "    def fill_tank(self):\n",
    "        \"\"\"Display an error message.\"\"\" \n",
    "        return (\"This car has no fuel tank!\")"
   ]
  },
  {
   "cell_type": "code",
   "execution_count": 82,
   "id": "2079834b",
   "metadata": {},
   "outputs": [],
   "source": [
    "my_ecar = ElectricCar('tesla', 'model s', 2016) "
   ]
  },
  {
   "cell_type": "code",
   "execution_count": 83,
   "id": "c990fa64",
   "metadata": {},
   "outputs": [
    {
     "data": {
      "text/plain": [
       "'This car has no fuel tank!'"
      ]
     },
     "execution_count": 83,
     "metadata": {},
     "output_type": "execute_result"
    }
   ],
   "source": [
    "my_ecar.fill_tank()"
   ]
  },
  {
   "cell_type": "code",
   "execution_count": 84,
   "id": "1cd17977",
   "metadata": {},
   "outputs": [
    {
     "data": {
      "text/plain": [
       "'The vehicle is fully charged.'"
      ]
     },
     "execution_count": 84,
     "metadata": {},
     "output_type": "execute_result"
    }
   ],
   "source": [
    "my_ecar.charge()"
   ]
  },
  {
   "cell_type": "markdown",
   "id": "79656f08",
   "metadata": {},
   "source": [
    "### Instances as attributes\n",
    "\n",
    "A class can have objects as attributes. This allows classes to work together to model complex situations. "
   ]
  },
  {
   "cell_type": "code",
   "execution_count": 91,
   "id": "9779b183",
   "metadata": {},
   "outputs": [],
   "source": [
    "# A Battery class \n",
    "\n",
    "class Battery():\n",
    "    \"\"\"A battery for an electric car.\"\"\"\n",
    "    def __init__(self, size=70):\n",
    "        \"\"\"Initialize battery attributes.\"\"\" \n",
    "        # Capacity in kWh, charge level in %. \n",
    "        self.size = size \n",
    "        self.charge_level = 0 \n",
    "        \n",
    "    def get_range(self): \n",
    "        \"\"\"Return the battery's range.\"\"\" \n",
    "        if self.size <= 70: \n",
    "            return 240 \n",
    "        elif self.size >= 70:\n",
    "            return 270"
   ]
  },
  {
   "cell_type": "code",
   "execution_count": 92,
   "id": "c0325b0d",
   "metadata": {},
   "outputs": [],
   "source": [
    "battery = Battery(70)"
   ]
  },
  {
   "cell_type": "code",
   "execution_count": 93,
   "id": "83611054",
   "metadata": {},
   "outputs": [
    {
     "name": "stdout",
     "output_type": "stream",
     "text": [
      "240\n"
     ]
    }
   ],
   "source": [
    "print(battery.get_range())"
   ]
  },
  {
   "cell_type": "code",
   "execution_count": 97,
   "id": "7cfdc36a",
   "metadata": {},
   "outputs": [],
   "source": [
    "# Using an instance as an attribute \n",
    "class ElectricCar(Car):\n",
    "    \n",
    "    def __init__(self, make, model, year): \n",
    "        \"\"\"Initialize an electric car.\"\"\" \n",
    "        super().__init__(make, model, year) \n",
    "        \n",
    "        # Attribute specific to electric cars.\n",
    "        self.battery = Battery() \n",
    "    def charge(self): \n",
    "        \"\"\"Fully charge the vehicle.\"\"\" \n",
    "        self.battery.charge_level = 100 \n",
    "        \n",
    "        return (\"The vehicle is fully charged.\")"
   ]
  },
  {
   "cell_type": "code",
   "execution_count": 98,
   "id": "b202fdae",
   "metadata": {},
   "outputs": [
    {
     "name": "stdout",
     "output_type": "stream",
     "text": [
      "The vehicle is fully charged.\n",
      "240\n",
      "The car is moving.\n"
     ]
    }
   ],
   "source": [
    "# Using the instance \n",
    "\n",
    "my_ecar = ElectricCar('tesla', 'model x', 2016) \n",
    "\n",
    "print(my_ecar.charge() )\n",
    "print(my_ecar.battery.get_range()) \n",
    "print(my_ecar.drive())"
   ]
  },
  {
   "cell_type": "markdown",
   "id": "efedd9a3",
   "metadata": {},
   "source": [
    "Storing classes in a file car.py \n",
    "\n",
    "\"\"\"Represent gas and electric cars.\"\"\"\n",
    "\n",
    "class Car():\n",
    "\n",
    "\"\"\"A simple attempt to model a car.\"\"\"\n",
    "\n",
    "--snip— \n",
    "\n",
    "class Battery():\n",
    "\n",
    "\"\"\"A battery for an electric car.\"\"\"\n",
    "\n",
    "--snip-- \n",
    "\n",
    "class ElectricCar(Car):\n",
    "\n",
    "\"\"\"A simple model of an electric car.\"\"\" \n",
    "\n",
    "--snip--"
   ]
  },
  {
   "cell_type": "code",
   "execution_count": 105,
   "id": "eaf1a009",
   "metadata": {},
   "outputs": [
    {
     "name": "stdout",
     "output_type": "stream",
     "text": [
      "Fuel tank is full.\n",
      "None\n",
      "The car is moving.\n",
      "\n",
      "The vehicle is fully charged.\n",
      "The car is moving.\n"
     ]
    }
   ],
   "source": [
    "# Importing individual classes from a module my_cars.py \n",
    "\n",
    "from car import Car, ElectricCar \n",
    "\n",
    "my_beetle = Car('volkswagen', 'beetle', 2016) \n",
    "\n",
    "print(my_beetle.fill_tank()) \n",
    "print(my_beetle.drive()) \n",
    "\n",
    "print()\n",
    "my_tesla = ElectricCar('tesla', 'model s', 2016) \n",
    "\n",
    "print(my_tesla.charge() )\n",
    "print(my_tesla.drive())"
   ]
  },
  {
   "cell_type": "code",
   "execution_count": 109,
   "id": "b1370ef0",
   "metadata": {},
   "outputs": [
    {
     "name": "stdout",
     "output_type": "stream",
     "text": [
      "Fuel tank is full.\n",
      "None\n",
      "The car is moving.\n",
      "\n",
      "The vehicle is fully charged.\n",
      "The car is moving.\n"
     ]
    }
   ],
   "source": [
    "# Importing an entire module\n",
    "import car \n",
    "\n",
    "my_beetle = car.Car( 'volkswagen', 'beetle', 2016)\n",
    "print(my_beetle.fill_tank()) \n",
    "print(my_beetle.drive()) \n",
    "\n",
    "my_tesla = car.ElectricCar( 'tesla', 'model s', 2016)\n",
    "print()\n",
    "print(my_tesla.charge()) \n",
    "print(my_tesla.drive())"
   ]
  },
  {
   "cell_type": "markdown",
   "id": "75103966",
   "metadata": {},
   "source": [
    "### Storing object in a list \n",
    "\n",
    "A list can hold as many items as you want, so you can make a large number of objects from a class and store them in a list. Here's an example showing how to make a fleet of rental cars, and make sure all the cars are ready to drive."
   ]
  },
  {
   "cell_type": "code",
   "execution_count": 111,
   "id": "fd76120a",
   "metadata": {},
   "outputs": [],
   "source": [
    "# A fleet of rental cars \n",
    "\n",
    "from car import Car, ElectricCar \n",
    "\n",
    "# Make lists to hold a fleet of cars. \n",
    "gas_fleet = [] \n",
    "electric_fleet = [] "
   ]
  },
  {
   "cell_type": "code",
   "execution_count": 112,
   "id": "32e6cbeb",
   "metadata": {},
   "outputs": [],
   "source": [
    "# Make 500 gas cars and 250 electric cars. \n",
    "\n",
    "for _ in range(500): \n",
    "    car = Car('ford', 'focus', 2016) \n",
    "    gas_fleet.append(car) \n",
    "    \n",
    "for _ in range(250): \n",
    "    ecar = ElectricCar('nissan', 'leaf', 2016) \n",
    "    electric_fleet.append(ecar)"
   ]
  },
  {
   "cell_type": "code",
   "execution_count": 110,
   "id": "bdd22f5c",
   "metadata": {},
   "outputs": [
    {
     "name": "stdout",
     "output_type": "stream",
     "text": [
      "Fuel tank is full.\n",
      "Fuel tank is full.\n",
      "Fuel tank is full.\n",
      "Fuel tank is full.\n",
      "Fuel tank is full.\n",
      "Fuel tank is full.\n",
      "Fuel tank is full.\n",
      "Fuel tank is full.\n",
      "Fuel tank is full.\n",
      "Fuel tank is full.\n",
      "Fuel tank is full.\n",
      "Fuel tank is full.\n",
      "Fuel tank is full.\n",
      "Fuel tank is full.\n",
      "Fuel tank is full.\n",
      "Fuel tank is full.\n",
      "Fuel tank is full.\n",
      "Fuel tank is full.\n",
      "Fuel tank is full.\n",
      "Fuel tank is full.\n",
      "Fuel tank is full.\n",
      "Fuel tank is full.\n",
      "Fuel tank is full.\n",
      "Fuel tank is full.\n",
      "Fuel tank is full.\n",
      "Fuel tank is full.\n",
      "Fuel tank is full.\n",
      "Fuel tank is full.\n",
      "Fuel tank is full.\n",
      "Fuel tank is full.\n",
      "Fuel tank is full.\n",
      "Fuel tank is full.\n",
      "Fuel tank is full.\n",
      "Fuel tank is full.\n",
      "Fuel tank is full.\n",
      "Fuel tank is full.\n",
      "Fuel tank is full.\n",
      "Fuel tank is full.\n",
      "Fuel tank is full.\n",
      "Fuel tank is full.\n",
      "Fuel tank is full.\n",
      "Fuel tank is full.\n",
      "Fuel tank is full.\n",
      "Fuel tank is full.\n",
      "Fuel tank is full.\n",
      "Fuel tank is full.\n",
      "Fuel tank is full.\n",
      "Fuel tank is full.\n",
      "Fuel tank is full.\n",
      "Fuel tank is full.\n",
      "Fuel tank is full.\n",
      "Fuel tank is full.\n",
      "Fuel tank is full.\n",
      "Fuel tank is full.\n",
      "Fuel tank is full.\n",
      "Fuel tank is full.\n",
      "Fuel tank is full.\n",
      "Fuel tank is full.\n",
      "Fuel tank is full.\n",
      "Fuel tank is full.\n",
      "Fuel tank is full.\n",
      "Fuel tank is full.\n",
      "Fuel tank is full.\n",
      "Fuel tank is full.\n",
      "Fuel tank is full.\n",
      "Fuel tank is full.\n",
      "Fuel tank is full.\n",
      "Fuel tank is full.\n",
      "Fuel tank is full.\n",
      "Fuel tank is full.\n",
      "Fuel tank is full.\n",
      "Fuel tank is full.\n",
      "Fuel tank is full.\n",
      "Fuel tank is full.\n",
      "Fuel tank is full.\n",
      "Fuel tank is full.\n",
      "Fuel tank is full.\n",
      "Fuel tank is full.\n",
      "Fuel tank is full.\n",
      "Fuel tank is full.\n",
      "Fuel tank is full.\n",
      "Fuel tank is full.\n",
      "Fuel tank is full.\n",
      "Fuel tank is full.\n",
      "Fuel tank is full.\n",
      "Fuel tank is full.\n",
      "Fuel tank is full.\n",
      "Fuel tank is full.\n",
      "Fuel tank is full.\n",
      "Fuel tank is full.\n",
      "Fuel tank is full.\n",
      "Fuel tank is full.\n",
      "Fuel tank is full.\n",
      "Fuel tank is full.\n",
      "Fuel tank is full.\n",
      "Fuel tank is full.\n",
      "Fuel tank is full.\n",
      "Fuel tank is full.\n",
      "Fuel tank is full.\n",
      "Fuel tank is full.\n",
      "Fuel tank is full.\n",
      "Fuel tank is full.\n",
      "Fuel tank is full.\n",
      "Fuel tank is full.\n",
      "Fuel tank is full.\n",
      "Fuel tank is full.\n",
      "Fuel tank is full.\n",
      "Fuel tank is full.\n",
      "Fuel tank is full.\n",
      "Fuel tank is full.\n",
      "Fuel tank is full.\n",
      "Fuel tank is full.\n",
      "Fuel tank is full.\n",
      "Fuel tank is full.\n",
      "Fuel tank is full.\n",
      "Fuel tank is full.\n",
      "Fuel tank is full.\n",
      "Fuel tank is full.\n",
      "Fuel tank is full.\n",
      "Fuel tank is full.\n",
      "Fuel tank is full.\n",
      "Fuel tank is full.\n",
      "Fuel tank is full.\n",
      "Fuel tank is full.\n",
      "Fuel tank is full.\n",
      "Fuel tank is full.\n",
      "Fuel tank is full.\n",
      "Fuel tank is full.\n",
      "Fuel tank is full.\n",
      "Fuel tank is full.\n",
      "Fuel tank is full.\n",
      "Fuel tank is full.\n",
      "Fuel tank is full.\n",
      "Fuel tank is full.\n",
      "Fuel tank is full.\n",
      "Fuel tank is full.\n",
      "Fuel tank is full.\n",
      "Fuel tank is full.\n",
      "Fuel tank is full.\n",
      "Fuel tank is full.\n",
      "Fuel tank is full.\n",
      "Fuel tank is full.\n",
      "Fuel tank is full.\n",
      "Fuel tank is full.\n",
      "Fuel tank is full.\n",
      "Fuel tank is full.\n",
      "Fuel tank is full.\n",
      "Fuel tank is full.\n",
      "Fuel tank is full.\n",
      "Fuel tank is full.\n",
      "Fuel tank is full.\n",
      "Fuel tank is full.\n",
      "Fuel tank is full.\n",
      "Fuel tank is full.\n",
      "Fuel tank is full.\n",
      "Fuel tank is full.\n",
      "Fuel tank is full.\n",
      "Fuel tank is full.\n",
      "Fuel tank is full.\n",
      "Fuel tank is full.\n",
      "Fuel tank is full.\n",
      "Fuel tank is full.\n",
      "Fuel tank is full.\n",
      "Fuel tank is full.\n",
      "Fuel tank is full.\n",
      "Fuel tank is full.\n",
      "Fuel tank is full.\n",
      "Fuel tank is full.\n",
      "Fuel tank is full.\n",
      "Fuel tank is full.\n",
      "Fuel tank is full.\n",
      "Fuel tank is full.\n",
      "Fuel tank is full.\n",
      "Fuel tank is full.\n",
      "Fuel tank is full.\n",
      "Fuel tank is full.\n",
      "Fuel tank is full.\n",
      "Fuel tank is full.\n",
      "Fuel tank is full.\n",
      "Fuel tank is full.\n",
      "Fuel tank is full.\n",
      "Fuel tank is full.\n",
      "Fuel tank is full.\n",
      "Fuel tank is full.\n",
      "Fuel tank is full.\n",
      "Fuel tank is full.\n",
      "Fuel tank is full.\n",
      "Fuel tank is full.\n",
      "Fuel tank is full.\n",
      "Fuel tank is full.\n",
      "Fuel tank is full.\n",
      "Fuel tank is full.\n",
      "Fuel tank is full.\n",
      "Fuel tank is full.\n",
      "Fuel tank is full.\n",
      "Fuel tank is full.\n",
      "Fuel tank is full.\n",
      "Fuel tank is full.\n",
      "Fuel tank is full.\n",
      "Fuel tank is full.\n",
      "Fuel tank is full.\n",
      "Fuel tank is full.\n",
      "Fuel tank is full.\n",
      "Fuel tank is full.\n",
      "Fuel tank is full.\n",
      "Fuel tank is full.\n",
      "Fuel tank is full.\n",
      "Fuel tank is full.\n",
      "Fuel tank is full.\n",
      "Fuel tank is full.\n",
      "Fuel tank is full.\n",
      "Fuel tank is full.\n",
      "Fuel tank is full.\n",
      "Fuel tank is full.\n",
      "Fuel tank is full.\n",
      "Fuel tank is full.\n",
      "Fuel tank is full.\n",
      "Fuel tank is full.\n",
      "Fuel tank is full.\n",
      "Fuel tank is full.\n",
      "Fuel tank is full.\n",
      "Fuel tank is full.\n",
      "Fuel tank is full.\n",
      "Fuel tank is full.\n",
      "Fuel tank is full.\n",
      "Fuel tank is full.\n",
      "Fuel tank is full.\n",
      "Fuel tank is full.\n",
      "Fuel tank is full.\n",
      "Fuel tank is full.\n",
      "Fuel tank is full.\n",
      "Fuel tank is full.\n",
      "Fuel tank is full.\n",
      "Fuel tank is full.\n",
      "Fuel tank is full.\n",
      "Fuel tank is full.\n",
      "Fuel tank is full.\n",
      "Fuel tank is full.\n",
      "Fuel tank is full.\n",
      "Fuel tank is full.\n",
      "Fuel tank is full.\n",
      "Fuel tank is full.\n",
      "Fuel tank is full.\n",
      "Fuel tank is full.\n",
      "Fuel tank is full.\n",
      "Fuel tank is full.\n",
      "Fuel tank is full.\n",
      "Fuel tank is full.\n",
      "Fuel tank is full.\n",
      "Fuel tank is full.\n",
      "Fuel tank is full.\n",
      "Fuel tank is full.\n",
      "Fuel tank is full.\n",
      "Fuel tank is full.\n",
      "Fuel tank is full.\n",
      "Fuel tank is full.\n",
      "Fuel tank is full.\n",
      "Fuel tank is full.\n",
      "Fuel tank is full.\n",
      "Fuel tank is full.\n",
      "Fuel tank is full.\n",
      "Fuel tank is full.\n",
      "Fuel tank is full.\n",
      "Fuel tank is full.\n",
      "Fuel tank is full.\n",
      "Fuel tank is full.\n",
      "Fuel tank is full.\n",
      "Fuel tank is full.\n",
      "Fuel tank is full.\n",
      "Fuel tank is full.\n",
      "Fuel tank is full.\n",
      "Fuel tank is full.\n",
      "Fuel tank is full.\n",
      "Fuel tank is full.\n",
      "Fuel tank is full.\n",
      "Fuel tank is full.\n",
      "Fuel tank is full.\n",
      "Fuel tank is full.\n",
      "Fuel tank is full.\n",
      "Fuel tank is full.\n",
      "Fuel tank is full.\n",
      "Fuel tank is full.\n",
      "Fuel tank is full.\n",
      "Fuel tank is full.\n",
      "Fuel tank is full.\n",
      "Fuel tank is full.\n",
      "Fuel tank is full.\n",
      "Fuel tank is full.\n",
      "Fuel tank is full.\n",
      "Fuel tank is full.\n",
      "Fuel tank is full.\n",
      "Fuel tank is full.\n",
      "Fuel tank is full.\n",
      "Fuel tank is full.\n",
      "Fuel tank is full.\n",
      "Fuel tank is full.\n",
      "Fuel tank is full.\n",
      "Fuel tank is full.\n",
      "Fuel tank is full.\n",
      "Fuel tank is full.\n",
      "Fuel tank is full.\n",
      "Fuel tank is full.\n",
      "Fuel tank is full.\n",
      "Fuel tank is full.\n",
      "Fuel tank is full.\n",
      "Fuel tank is full.\n",
      "Fuel tank is full.\n",
      "Fuel tank is full.\n",
      "Fuel tank is full.\n",
      "Fuel tank is full.\n",
      "Fuel tank is full.\n",
      "Fuel tank is full.\n",
      "Fuel tank is full.\n",
      "Fuel tank is full.\n",
      "Fuel tank is full.\n",
      "Fuel tank is full.\n",
      "Fuel tank is full.\n",
      "Fuel tank is full.\n",
      "Fuel tank is full.\n",
      "Fuel tank is full.\n",
      "Fuel tank is full.\n",
      "Fuel tank is full.\n",
      "Fuel tank is full.\n",
      "Fuel tank is full.\n",
      "Fuel tank is full.\n",
      "Fuel tank is full.\n",
      "Fuel tank is full.\n",
      "Fuel tank is full.\n",
      "Fuel tank is full.\n",
      "Fuel tank is full.\n",
      "Fuel tank is full.\n",
      "Fuel tank is full.\n",
      "Fuel tank is full.\n",
      "Fuel tank is full.\n",
      "Fuel tank is full.\n",
      "Fuel tank is full.\n",
      "Fuel tank is full.\n",
      "Fuel tank is full.\n",
      "Fuel tank is full.\n",
      "Fuel tank is full.\n",
      "Fuel tank is full.\n",
      "Fuel tank is full.\n",
      "Fuel tank is full.\n",
      "Fuel tank is full.\n",
      "Fuel tank is full.\n",
      "Fuel tank is full.\n",
      "Fuel tank is full.\n",
      "Fuel tank is full.\n",
      "Fuel tank is full.\n",
      "Fuel tank is full.\n",
      "Fuel tank is full.\n",
      "Fuel tank is full.\n",
      "Fuel tank is full.\n",
      "Fuel tank is full.\n",
      "Fuel tank is full.\n",
      "Fuel tank is full.\n",
      "Fuel tank is full.\n",
      "Fuel tank is full.\n",
      "Fuel tank is full.\n",
      "Fuel tank is full.\n",
      "Fuel tank is full.\n",
      "Fuel tank is full.\n",
      "Fuel tank is full.\n",
      "Fuel tank is full.\n",
      "Fuel tank is full.\n",
      "Fuel tank is full.\n",
      "Fuel tank is full.\n",
      "Fuel tank is full.\n",
      "Fuel tank is full.\n",
      "Fuel tank is full.\n",
      "Fuel tank is full.\n",
      "Fuel tank is full.\n",
      "Fuel tank is full.\n",
      "Fuel tank is full.\n",
      "Fuel tank is full.\n",
      "Fuel tank is full.\n",
      "Fuel tank is full.\n",
      "Fuel tank is full.\n",
      "Fuel tank is full.\n",
      "Fuel tank is full.\n",
      "Fuel tank is full.\n",
      "Fuel tank is full.\n",
      "Fuel tank is full.\n",
      "Fuel tank is full.\n",
      "Fuel tank is full.\n",
      "Fuel tank is full.\n",
      "Fuel tank is full.\n",
      "Fuel tank is full.\n",
      "Fuel tank is full.\n",
      "Fuel tank is full.\n",
      "Fuel tank is full.\n",
      "Fuel tank is full.\n",
      "Fuel tank is full.\n",
      "Fuel tank is full.\n",
      "Fuel tank is full.\n",
      "Fuel tank is full.\n",
      "Fuel tank is full.\n",
      "Fuel tank is full.\n",
      "Fuel tank is full.\n",
      "Fuel tank is full.\n",
      "Fuel tank is full.\n",
      "Fuel tank is full.\n",
      "Fuel tank is full.\n",
      "Fuel tank is full.\n",
      "Fuel tank is full.\n",
      "Fuel tank is full.\n",
      "Fuel tank is full.\n",
      "Fuel tank is full.\n",
      "Fuel tank is full.\n",
      "Fuel tank is full.\n",
      "Fuel tank is full.\n",
      "Fuel tank is full.\n",
      "Fuel tank is full.\n",
      "Fuel tank is full.\n",
      "Fuel tank is full.\n",
      "Fuel tank is full.\n",
      "Fuel tank is full.\n",
      "Fuel tank is full.\n",
      "Fuel tank is full.\n",
      "Fuel tank is full.\n",
      "Fuel tank is full.\n",
      "Fuel tank is full.\n",
      "Fuel tank is full.\n",
      "Fuel tank is full.\n",
      "Fuel tank is full.\n",
      "Fuel tank is full.\n",
      "Fuel tank is full.\n",
      "Fuel tank is full.\n",
      "Fuel tank is full.\n",
      "Fuel tank is full.\n",
      "Fuel tank is full.\n",
      "Fuel tank is full.\n",
      "Fuel tank is full.\n",
      "Fuel tank is full.\n",
      "Fuel tank is full.\n",
      "Fuel tank is full.\n",
      "Fuel tank is full.\n",
      "Fuel tank is full.\n",
      "Fuel tank is full.\n",
      "Fuel tank is full.\n",
      "Fuel tank is full.\n",
      "Fuel tank is full.\n",
      "Fuel tank is full.\n",
      "Fuel tank is full.\n",
      "Fuel tank is full.\n",
      "Fuel tank is full.\n",
      "Fuel tank is full.\n",
      "Fuel tank is full.\n",
      "Fuel tank is full.\n",
      "Fuel tank is full.\n",
      "Fuel tank is full.\n",
      "Fuel tank is full.\n",
      "Fuel tank is full.\n",
      "Fuel tank is full.\n",
      "Fuel tank is full.\n",
      "Fuel tank is full.\n",
      "Fuel tank is full.\n",
      "Fuel tank is full.\n",
      "Fuel tank is full.\n",
      "Fuel tank is full.\n",
      "Fuel tank is full.\n",
      "Fuel tank is full.\n",
      "Fuel tank is full.\n",
      "Fuel tank is full.\n",
      "Fuel tank is full.\n",
      "Fuel tank is full.\n",
      "Fuel tank is full.\n",
      "Fuel tank is full.\n",
      "Fuel tank is full.\n",
      "Fuel tank is full.\n",
      "Fuel tank is full.\n",
      "Fuel tank is full.\n",
      "Fuel tank is full.\n",
      "Fuel tank is full.\n",
      "Fuel tank is full.\n",
      "Fuel tank is full.\n",
      "Fuel tank is full.\n",
      "Fuel tank is full.\n",
      "Fuel tank is full.\n",
      "Fuel tank is full.\n",
      "Fuel tank is full.\n",
      "Fuel tank is full.\n",
      "Fuel tank is full.\n",
      "Fuel tank is full.\n",
      "Fuel tank is full.\n",
      "Fuel tank is full.\n",
      "Fuel tank is full.\n",
      "Fuel tank is full.\n",
      "Fuel tank is full.\n",
      "Fuel tank is full.\n",
      "Fuel tank is full.\n",
      "Fuel tank is full.\n",
      "Fuel tank is full.\n",
      "Fuel tank is full.\n",
      "Fuel tank is full.\n",
      "Fuel tank is full.\n",
      "Fuel tank is full.\n",
      "Fuel tank is full.\n",
      "Fuel tank is full.\n",
      "Fuel tank is full.\n",
      "Gas cars: 500\n",
      "Electric cars: 250\n"
     ]
    }
   ],
   "source": [
    "    \n",
    "# Fill the gas cars, and charge electric cars. \n",
    "\n",
    "for car in gas_fleet: \n",
    "    car.fill_tank() \n",
    "    \n",
    "for ecar in electric_fleet: \n",
    "    \n",
    "    ecar.charge()\n",
    "    \n",
    "print(\"Gas cars:\", len(gas_fleet)) \n",
    "print(\"Electric cars:\", len(electric_fleet))"
   ]
  },
  {
   "cell_type": "code",
   "execution_count": 114,
   "id": "05833f65",
   "metadata": {},
   "outputs": [
    {
     "name": "stdout",
     "output_type": "stream",
     "text": [
      "Hey! Listen!\n",
      "Hey! Listen!\n",
      "Hey! Listen!\n",
      "Hey! Listen!\n",
      "Hey! Listen!\n"
     ]
    }
   ],
   "source": [
    "for _ in range(5): \n",
    "    print(\"Hey! Listen!\")"
   ]
  },
  {
   "cell_type": "code",
   "execution_count": null,
   "id": "6a04c9d6",
   "metadata": {},
   "outputs": [],
   "source": []
  }
 ],
 "metadata": {
  "kernelspec": {
   "display_name": "Python 3 (ipykernel)",
   "language": "python",
   "name": "python3"
  },
  "language_info": {
   "codemirror_mode": {
    "name": "ipython",
    "version": 3
   },
   "file_extension": ".py",
   "mimetype": "text/x-python",
   "name": "python",
   "nbconvert_exporter": "python",
   "pygments_lexer": "ipython3",
   "version": "3.7.8"
  }
 },
 "nbformat": 4,
 "nbformat_minor": 5
}

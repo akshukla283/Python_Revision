{
 "cells": [
  {
   "cell_type": "markdown",
   "id": "ec7868a4",
   "metadata": {},
   "source": [
    "#### Python Program for factorial of a number\n",
    "\n",
    "Factorial of a non-negative integer, is multiplication of all integers smaller than or equal to n. For example factorial of 6 is `6*5*4*3*2*1` which is 720."
   ]
  },
  {
   "cell_type": "markdown",
   "id": "73563206",
   "metadata": {},
   "source": [
    "![](../factorial.png)"
   ]
  },
  {
   "cell_type": "code",
   "execution_count": 9,
   "id": "baa68b09",
   "metadata": {},
   "outputs": [
    {
     "name": "stdout",
     "output_type": "stream",
     "text": [
      "Factorial of 5 is 120\n"
     ]
    }
   ],
   "source": [
    "# 1.Recursive method\n",
    "\n",
    "# Python 3 program to find\n",
    "# factorial of given number\n",
    "def factorial(n):\n",
    "     \n",
    "    # single line to find factorial\n",
    "    return 1 if (n==1 or n==0) else n * factorial(n - 1);\n",
    " \n",
    "# Driver Code\n",
    "num = 5;\n",
    "print(\"Factorial of\",num,\"is\",factorial(num))\n",
    " \n"
   ]
  },
  {
   "cell_type": "code",
   "execution_count": 1,
   "id": "dc4e4268",
   "metadata": {},
   "outputs": [
    {
     "name": "stdout",
     "output_type": "stream",
     "text": [
      "Factorial of 5 is 120\n"
     ]
    }
   ],
   "source": [
    "# 2. Iterative:\n",
    "\n",
    "# Python 3 program to find \n",
    "# factorial of given number\n",
    "def factorial(n):\n",
    "    if n < 0:\n",
    "        return 0\n",
    "    elif n == 0 or n == 1:\n",
    "        return 1\n",
    "    else:\n",
    "        fact = 1\n",
    "        while(n > 1):\n",
    "            fact *= n\n",
    "            n -= 1\n",
    "        return fact\n",
    "\n",
    "# Driver Code\n",
    "num = 5;\n",
    "print(\"Factorial of\",num,\"is\",factorial(num))\n",
    " \n"
   ]
  },
  {
   "cell_type": "code",
   "execution_count": 3,
   "id": "c98ec7b9",
   "metadata": {},
   "outputs": [
    {
     "name": "stdout",
     "output_type": "stream",
     "text": [
      "please enter the number: \n",
      "5\n",
      "Factorial of your number is : 120\n"
     ]
    }
   ],
   "source": [
    "def factorial(n):\n",
    "    if n<0:\n",
    "        return o\n",
    "    elif n == 0 or n ==1:\n",
    "        return 1\n",
    "    else:\n",
    "        fact = 1\n",
    "        while n>1:\n",
    "            fact *= n\n",
    "            n -=1\n",
    "        return fact\n",
    "    \n",
    "    \n",
    "# Lets check \n",
    "number = int(input(\"please enter the number: \\n\"))\n",
    "print(f\"Factorial of your number is : {factorial(number)}\")"
   ]
  },
  {
   "cell_type": "markdown",
   "id": "eb1c9744",
   "metadata": {},
   "source": [
    " ##### One line Solution (Using Ternary operator): "
   ]
  },
  {
   "cell_type": "code",
   "execution_count": 4,
   "id": "bf2d71af",
   "metadata": {},
   "outputs": [
    {
     "name": "stdout",
     "output_type": "stream",
     "text": [
      "Please enter the number : \n",
      "5\n",
      "factorial of your number is : 120\n"
     ]
    }
   ],
   "source": [
    "def factorial(n):\n",
    "    ## single line to find factorial\n",
    "    return 1 if (n==0 or n == 1) else n*factorial(n-1)\n",
    "# Drive code\n",
    "num = int(input(\"Please enter the number : \\n\"))\n",
    "print(f\"factorial of your number is : {factorial(num)}\")"
   ]
  },
  {
   "cell_type": "markdown",
   "id": "0c1b8d65",
   "metadata": {},
   "source": [
    "#### 4. By using In-built function:"
   ]
  },
  {
   "cell_type": "code",
   "execution_count": 6,
   "id": "d226ee22",
   "metadata": {},
   "outputs": [
    {
     "name": "stdout",
     "output_type": "stream",
     "text": [
      "please enter the number: \n",
      "5\n",
      "Factorial of your number is : 120\n"
     ]
    }
   ],
   "source": [
    "import math \n",
    "\n",
    "def factorial(n):\n",
    "    return (math.factorial(n))\n",
    "# Lets check \n",
    "number = int(input(\"please enter the number: \\n\"))\n",
    "print(f\"Factorial of your number is : {factorial(number)}\")"
   ]
  },
  {
   "cell_type": "code",
   "execution_count": null,
   "id": "2dbb2c52",
   "metadata": {},
   "outputs": [],
   "source": []
  },
  {
   "cell_type": "markdown",
   "id": "200b9006",
   "metadata": {},
   "source": [
    "#### Program to print ASCII Value of a character\n",
    "\n",
    "**1. Python code using ord function**: \n",
    "`ord():` It converts the given string of length one, returns an integer representing the Unicode code point of the character. For example, ord(‘a’) returns the integer `97.` "
   ]
  },
  {
   "cell_type": "code",
   "execution_count": 1,
   "id": "629f56fc",
   "metadata": {},
   "outputs": [
    {
     "name": "stdout",
     "output_type": "stream",
     "text": [
      "The ASCII value of 'g' is 103\n"
     ]
    }
   ],
   "source": [
    "# Python program to print\n",
    "# ASCII Value of Character\n",
    " \n",
    "# In c we can assign different\n",
    "# characters of which we want ASCII value\n",
    " \n",
    "c = 'g'\n",
    "# print the ASCII value of assigned character in c\n",
    "print(\"The ASCII value of '\" + c + \"' is\", ord(c))"
   ]
  },
  {
   "cell_type": "code",
   "execution_count": 6,
   "id": "e17e0430",
   "metadata": {},
   "outputs": [
    {
     "name": "stdout",
     "output_type": "stream",
     "text": [
      "Enter a String: Aa\n",
      "A \t 65\n",
      "a \t 97\n"
     ]
    }
   ],
   "source": [
    "# Here is a method to print the ASCII value of the characters in a string using python:\n",
    "\n",
    "\n",
    "print(\"Enter a String: \", end=\"\")\n",
    "text = input()\n",
    "textlength = len(text)\n",
    "for char in text:\n",
    "    ascii = ord(char)\n",
    "    print(char, \"\\t\", ascii)"
   ]
  },
  {
   "cell_type": "code",
   "execution_count": 8,
   "id": "57da04f6",
   "metadata": {},
   "outputs": [
    {
     "name": "stdout",
     "output_type": "stream",
     "text": [
      "Enter a String:  Aa\n",
      "A \t 65\n",
      "a \t 97\n"
     ]
    }
   ],
   "source": [
    "print(\"Enter a String: \", end = \" \")\n",
    "text = input()\n",
    "for char in text:\n",
    "    ascii = ord(char)\n",
    "    print(char, \"\\t\", ascii)\n"
   ]
  },
  {
   "cell_type": "markdown",
   "id": "d17d2e39",
   "metadata": {},
   "source": [
    "### Python Program for simple interest\n",
    "Simple interest formula is given by:\n",
    "\n",
    "Simple Interest = (P x T x R)/100\n",
    "\n",
    "Where,\n",
    "\n",
    "P is the principle amount\n",
    "\n",
    "T is the time and\n",
    "\n",
    "R is the rate"
   ]
  },
  {
   "cell_type": "code",
   "execution_count": 12,
   "id": "e1c1547c",
   "metadata": {},
   "outputs": [
    {
     "name": "stdout",
     "output_type": "stream",
     "text": [
      "Please enter Principal, time, and rate\n",
      "8,6,8\n",
      "The principal is 8\n",
      "The time period is 6\n",
      "The rate of interest is 8\n",
      "The Simple Interest is 3.84\n",
      "Your simple iterest is : 3.84\n"
     ]
    }
   ],
   "source": [
    "def simple_interest(p,t,r):\n",
    "    print('The principal is', p)\n",
    "    print('The time period is', t)\n",
    "    print('The rate of interest is',r)\n",
    "    p = int(p)\n",
    "    t = int(t)\n",
    "    r = int(r)\n",
    "    si = (p * t * r)/100\n",
    "    \n",
    "    return si\n",
    "      \n",
    "# Driver code\n",
    "print(\"Please enter Principal, time, and rate\")\n",
    "p,t,r = input().split(\",\")\n",
    "print(f\"Your simple iterest is : {simple_interest(p,t,r)}\")"
   ]
  },
  {
   "cell_type": "markdown",
   "id": "f3260c91",
   "metadata": {},
   "source": [
    "#### Python Program for compound interest\n",
    "\n",
    "Formula to calculate compound interest \n",
    "\n",
    "annually is given by: \n",
    "\n",
    "`A = P(1 + R/100) t `\n",
    "\n",
    "`Compound Interest = A – P` \n",
    "\n",
    "Where, \n",
    "\n",
    "A is amount \n",
    "\n",
    "P is principle amount \n",
    "\n",
    "R is the rate and \n",
    "\n",
    "T is the time span"
   ]
  },
  {
   "cell_type": "code",
   "execution_count": 20,
   "id": "4ea13f2f",
   "metadata": {},
   "outputs": [
    {
     "name": "stdout",
     "output_type": "stream",
     "text": [
      "Please enter principal: 1000\n",
      "Please enter rate : 10\n",
      "Please enter time : 2\n",
      "\n",
      "Your Compound Interest is : Compound inteerest is :210.00000000000023\n"
     ]
    }
   ],
   "source": [
    "def compound_interest(principal,rate,time):\n",
    "    \n",
    "    Amount = principal*(pow((1+ rate/100), time))\n",
    "    CI = Amount - principal\n",
    "    return (f\"Compound inteerest is :{CI:.2f}\")\n",
    "\n",
    "p = int(input(\"Please enter principal: \"))\n",
    "r = int(input(\"Please enter rate : \"))\n",
    "t = int(input(\"Please enter time : \"))\n",
    "print()\n",
    "print(f\"Your Compound Interest is : {compound_interest(p, r, t)}\")"
   ]
  },
  {
   "cell_type": "code",
   "execution_count": null,
   "id": "6b821abc",
   "metadata": {},
   "outputs": [],
   "source": []
  }
 ],
 "metadata": {
  "kernelspec": {
   "display_name": "Python 3 (ipykernel)",
   "language": "python",
   "name": "python3"
  },
  "language_info": {
   "codemirror_mode": {
    "name": "ipython",
    "version": 3
   },
   "file_extension": ".py",
   "mimetype": "text/x-python",
   "name": "python",
   "nbconvert_exporter": "python",
   "pygments_lexer": "ipython3",
   "version": "3.7.8"
  }
 },
 "nbformat": 4,
 "nbformat_minor": 5
}

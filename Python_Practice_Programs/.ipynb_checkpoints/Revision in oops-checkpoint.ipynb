{
 "cells": [
  {
   "cell_type": "markdown",
   "id": "7a9a6a7d",
   "metadata": {},
   "source": [
    "#### Object Oriented Programming"
   ]
  },
  {
   "cell_type": "code",
   "execution_count": 27,
   "id": "98379d40",
   "metadata": {},
   "outputs": [
    {
     "name": "stdout",
     "output_type": "stream",
     "text": [
      "<class '__main__.Sample'>\n"
     ]
    }
   ],
   "source": [
    "# empty class\n",
    "class Sample:\n",
    "    pass\n",
    "\n",
    "x = Sample()\n",
    "\n",
    "print(type(x))"
   ]
  },
  {
   "cell_type": "code",
   "execution_count": 28,
   "id": "07f9fda0",
   "metadata": {},
   "outputs": [],
   "source": [
    "# We can assign  an attribute to the empty calss\n",
    "\n",
    "# Note when we access method use '()'  and when we access attribute then we don't need ()\n",
    "\n",
    "x.breed = \"lab\"\n",
    "x.name = \"Jacky\""
   ]
  },
  {
   "cell_type": "code",
   "execution_count": 29,
   "id": "bb76d53d",
   "metadata": {},
   "outputs": [
    {
     "name": "stdout",
     "output_type": "stream",
     "text": [
      "lab\n"
     ]
    }
   ],
   "source": [
    "print(x.breed)"
   ]
  },
  {
   "cell_type": "code",
   "execution_count": 30,
   "id": "c07f8bb0",
   "metadata": {},
   "outputs": [
    {
     "name": "stdout",
     "output_type": "stream",
     "text": [
      "Jacky\n"
     ]
    }
   ],
   "source": [
    "print(x.name)"
   ]
  },
  {
   "cell_type": "code",
   "execution_count": 31,
   "id": "b953b124",
   "metadata": {},
   "outputs": [],
   "source": [
    "class Dog:\n",
    "    def __init__(self, breed):\n",
    "        self.breed = breed\n",
    "        \n",
    "sam = Dog(breed = \"Lab\")\n",
    "frank = Dog(breed = \"Huskie\")"
   ]
  },
  {
   "cell_type": "code",
   "execution_count": 32,
   "id": "bcd20122",
   "metadata": {},
   "outputs": [
    {
     "data": {
      "text/plain": [
       "'Lab'"
      ]
     },
     "execution_count": 32,
     "metadata": {},
     "output_type": "execute_result"
    }
   ],
   "source": [
    "sam.breed"
   ]
  },
  {
   "cell_type": "code",
   "execution_count": 33,
   "id": "8f7e70fd",
   "metadata": {},
   "outputs": [
    {
     "data": {
      "text/plain": [
       "'Huskie'"
      ]
     },
     "execution_count": 33,
     "metadata": {},
     "output_type": "execute_result"
    }
   ],
   "source": [
    "frank.breed"
   ]
  },
  {
   "cell_type": "code",
   "execution_count": 34,
   "id": "d20e7071",
   "metadata": {},
   "outputs": [
    {
     "name": "stdout",
     "output_type": "stream",
     "text": [
      "Lab\n",
      "Huskie\n"
     ]
    }
   ],
   "source": [
    "for i in (sam , frank):\n",
    "    print(i.breed,)"
   ]
  },
  {
   "cell_type": "code",
   "execution_count": 1,
   "id": "4710095b",
   "metadata": {},
   "outputs": [],
   "source": [
    "## class Attribute \n",
    "\n",
    "class Employee:\n",
    "    # Class Object Attribute\n",
    "    id = 10\n",
    "    name = \"Ankit\"\n",
    "    def display(self): # here we didn't use __init__ \n",
    "        print(f\"ID : {self.id}\\nName: {self.name}\")\n",
    "        \n",
    "emp = Employee()\n",
    "\n",
    "# we need __init__ when we define attribute in method"
   ]
  },
  {
   "cell_type": "code",
   "execution_count": 2,
   "id": "413de299",
   "metadata": {},
   "outputs": [
    {
     "name": "stdout",
     "output_type": "stream",
     "text": [
      "ID : 10\n",
      "Name: Ankit\n"
     ]
    }
   ],
   "source": [
    "emp.display()"
   ]
  },
  {
   "cell_type": "markdown",
   "id": "d88228db",
   "metadata": {},
   "source": [
    "#### Methods"
   ]
  },
  {
   "cell_type": "code",
   "execution_count": 3,
   "id": "d0688913",
   "metadata": {},
   "outputs": [
    {
     "name": "stdout",
     "output_type": "stream",
     "text": [
      "Radius is :  1\n",
      "Area is :  3.14\n",
      "Circumference is :  6.28\n"
     ]
    }
   ],
   "source": [
    "class Circle:\n",
    "    \n",
    "    pi = 3.14\n",
    "    # Circle gets instantiated with a raius\n",
    "    def __init__(self, radius = 1):\n",
    "        self.radius = radius\n",
    "        self.area = self.radius * self.radius * Circle.pi\n",
    "        \n",
    "    def setRadius(self, new_radius):\n",
    "        self.radius = new_radius\n",
    "        self.area = new_radius * new_radius * self.pi\n",
    "    def getCircumference(self):\n",
    "        circumference = self.radius * self.pi * 2\n",
    "        return  f\"{circumference:.2f}\"\n",
    "    \n",
    "    \n",
    "c = Circle()\n",
    "\n",
    "print(\"Radius is : \", c.radius)\n",
    "print(\"Area is : \", c.area)\n",
    "print(\"Circumference is : \", c.getCircumference())\n",
    "\n",
    "        "
   ]
  },
  {
   "cell_type": "code",
   "execution_count": 4,
   "id": "667231d2",
   "metadata": {},
   "outputs": [],
   "source": [
    "### now reset radius \n",
    "c.setRadius(10)"
   ]
  },
  {
   "cell_type": "code",
   "execution_count": 5,
   "id": "e23a1e4f",
   "metadata": {},
   "outputs": [
    {
     "data": {
      "text/plain": [
       "'62.80'"
      ]
     },
     "execution_count": 5,
     "metadata": {},
     "output_type": "execute_result"
    }
   ],
   "source": [
    "## now we will get changed area\n",
    "c.getCircumference()"
   ]
  },
  {
   "cell_type": "code",
   "execution_count": 6,
   "id": "a7fb56ec",
   "metadata": {},
   "outputs": [
    {
     "name": "stdout",
     "output_type": "stream",
     "text": [
      "mammal\n",
      "I'm a mammal\n",
      "I'm a dog\n"
     ]
    }
   ],
   "source": [
    "# demonstrate instantiating\n",
    "# a class\n",
    "\n",
    "class Dog:\n",
    "     \n",
    "    # A simple class\n",
    "    # attribute\n",
    "    attr1 = \"mammal\"\n",
    "    attr2 = \"dog\"\n",
    " \n",
    "    # A sample method \n",
    "    def fun(self):\n",
    "        print(\"I'm a\", self.attr1)\n",
    "        print(\"I'm a\", self.attr2)\n",
    "\n",
    "        \n",
    "\n",
    "# Driver code\n",
    "# Object instantiation\n",
    "Rodger = Dog()\n",
    " \n",
    "# Accessing class attributes\n",
    "# and method through objects\n",
    "print(Rodger.attr1)\n",
    "Rodger.fun()"
   ]
  },
  {
   "cell_type": "code",
   "execution_count": 7,
   "id": "3dc9353e",
   "metadata": {},
   "outputs": [
    {
     "name": "stdout",
     "output_type": "stream",
     "text": [
      "Mammal\n"
     ]
    }
   ],
   "source": [
    "class Dog:\n",
    "    \n",
    "    atr1 = \"Mammal\"\n",
    "    atr2 = \"Dog\"\n",
    "    \n",
    "    def fun(self):\n",
    "        \n",
    "        print(self.atr1)\n",
    "        print(self.atr2)\n",
    "        \n",
    "jacky = Dog()\n",
    "\n",
    "print(jacky.atr1)"
   ]
  },
  {
   "cell_type": "code",
   "execution_count": 8,
   "id": "9a558afe",
   "metadata": {},
   "outputs": [
    {
     "name": "stdout",
     "output_type": "stream",
     "text": [
      "Mammal\n",
      "Dog\n"
     ]
    }
   ],
   "source": [
    "jacky.fun()"
   ]
  },
  {
   "cell_type": "code",
   "execution_count": 9,
   "id": "1d54bdd2",
   "metadata": {},
   "outputs": [],
   "source": [
    "## A class with init method\n",
    "\n",
    "class  Employee:\n",
    "        \n",
    "    company = \"ABC Company\"\n",
    "    \n",
    "    def __init__(self, name, id):\n",
    "        \n",
    "        self.name = name\n",
    "        self.id = id\n",
    "        \n",
    "    def display(self):\n",
    "        \n",
    "        return (f\"Name    : {self.name} \\nCompany : {self.company} \\nID      : {self.id}\")\n",
    "        \n",
    "emp1 = Employee(\"John\", 120018)\n",
    "emp2 = Employee(\"David\", 120019)"
   ]
  },
  {
   "cell_type": "code",
   "execution_count": 10,
   "id": "d63296ed",
   "metadata": {},
   "outputs": [
    {
     "name": "stdout",
     "output_type": "stream",
     "text": [
      "Name    : John \n",
      "Company : ABC Company \n",
      "ID      : 120018\n"
     ]
    }
   ],
   "source": [
    "print(emp1.display())"
   ]
  },
  {
   "cell_type": "code",
   "execution_count": 11,
   "id": "171c68ac",
   "metadata": {},
   "outputs": [
    {
     "data": {
      "text/plain": [
       "'ABC Company'"
      ]
     },
     "execution_count": 11,
     "metadata": {},
     "output_type": "execute_result"
    }
   ],
   "source": [
    "emp1.company"
   ]
  },
  {
   "cell_type": "code",
   "execution_count": 12,
   "id": "3aadcc44",
   "metadata": {},
   "outputs": [
    {
     "data": {
      "text/plain": [
       "'ABC Company'"
      ]
     },
     "execution_count": 12,
     "metadata": {},
     "output_type": "execute_result"
    }
   ],
   "source": [
    "Employee.company"
   ]
  },
  {
   "cell_type": "code",
   "execution_count": 13,
   "id": "037c6a0e",
   "metadata": {},
   "outputs": [
    {
     "name": "stdout",
     "output_type": "stream",
     "text": [
      "Hello, my name is Ankit\n"
     ]
    }
   ],
   "source": [
    "# A Sample class with init method\n",
    "class Person:\n",
    "   \n",
    "    # init method or constructor \n",
    "    def __init__(self, name):\n",
    "        self.name = name\n",
    "   \n",
    "    # Sample Method \n",
    "    def say_hi(self):\n",
    "        print('Hello, my name is', self.name)\n",
    "        \n",
    "p = Person('Ankit')\n",
    "p.say_hi()"
   ]
  },
  {
   "cell_type": "code",
   "execution_count": 14,
   "id": "76c1cb28",
   "metadata": {},
   "outputs": [
    {
     "data": {
      "text/plain": [
       "3"
      ]
     },
     "execution_count": 14,
     "metadata": {},
     "output_type": "execute_result"
    }
   ],
   "source": [
    "# counting the number of object in class \n",
    "\n",
    "\n",
    "class Student:\n",
    "    count = 0\n",
    "    \n",
    "    def __init__(self):\n",
    "        \n",
    "        Student.count += 1\n",
    "                 \n",
    "        \n",
    "        \n",
    "s1 = Student()\n",
    "s2 = Student()\n",
    "s3 = Student()\n",
    "\n",
    "Student.count"
   ]
  },
  {
   "cell_type": "code",
   "execution_count": 16,
   "id": "ff7e147b",
   "metadata": {},
   "outputs": [
    {
     "data": {
      "text/plain": [
       "0"
      ]
     },
     "execution_count": 16,
     "metadata": {},
     "output_type": "execute_result"
    }
   ],
   "source": [
    "class Student:\n",
    "    count = 0\n",
    "    \n",
    "    def __init__(self):\n",
    "        \n",
    "        self.count = self.count + 1\n",
    "        \n",
    "        \n",
    "s1 = Student()\n",
    "s2 = Student()\n",
    "s2 = Student()\n",
    "Student.count"
   ]
  },
  {
   "cell_type": "markdown",
   "id": "3f85d418",
   "metadata": {},
   "source": [
    "#### Python Constructor\n",
    "A constructor is a special type of method (function) which is used to initialize the instance members of the class.\n",
    "Constructors can be of two types.\n",
    "\n",
    "1.\tParameterized Constructor\n",
    "\n",
    "2.\tNon-parameterized Constructor\n",
    "\n",
    "Constructor definition is executed when we create the object of this class. Constructors also verify that there are enough resources for the object to perform any start-up task.\n",
    "________________________________________\n",
    "#### Creating the constructor in python\n",
    "In python, the method `__init__ `simulates the constructor of the class. This method is called when the class is instantiated. We can pass any number of arguments at the time of creating the class object, depending upon` __init__` definition. It is mostly used to initialize the class attributes. Every class must have a constructor, even if it simply relies on the default constructor.\n"
   ]
  },
  {
   "cell_type": "code",
   "execution_count": 94,
   "id": "c4aade65",
   "metadata": {},
   "outputs": [
    {
     "name": "stdout",
     "output_type": "stream",
     "text": [
      "this is non- parameterized constructor \n"
     ]
    }
   ],
   "source": [
    "#Python Non-Parameterized Constructor Example\n",
    "\n",
    "\n",
    "class Student:\n",
    "    # Counstructor - non parameterized\n",
    "    def __init__(self):\n",
    "        print(\"this is non- parameterized constructor \")\n",
    "        \n",
    "    def show(self, name):\n",
    "        print(\"hello\",name)\n",
    "        \n",
    "student = Student()"
   ]
  },
  {
   "cell_type": "code",
   "execution_count": 95,
   "id": "0b2a551f",
   "metadata": {},
   "outputs": [
    {
     "name": "stdout",
     "output_type": "stream",
     "text": [
      "hello Ankit\n"
     ]
    }
   ],
   "source": [
    "student.show(\"Ankit\")"
   ]
  },
  {
   "cell_type": "code",
   "execution_count": 97,
   "id": "98beb0ff",
   "metadata": {},
   "outputs": [
    {
     "name": "stdout",
     "output_type": "stream",
     "text": [
      "this is parameterized constructor\n"
     ]
    }
   ],
   "source": [
    "# Python Parameterized Constructor Example\n",
    "\n",
    "class Student:\n",
    "    \n",
    "    # countructer - Parameterized \n",
    "    def __init__(self, name):\n",
    "        print(\"this is parameterized constructor\")\n",
    "        self.name = name\n",
    "    def show(self):\n",
    "        print(\"Hello \", self.name)\n",
    "        \n",
    "student = Student(\"Ankit\")\n"
   ]
  },
  {
   "cell_type": "code",
   "execution_count": 98,
   "id": "048a939d",
   "metadata": {},
   "outputs": [
    {
     "name": "stdout",
     "output_type": "stream",
     "text": [
      "Hello  Ankit\n"
     ]
    }
   ],
   "source": [
    "student.show()"
   ]
  },
  {
   "cell_type": "markdown",
   "id": "aca37e06",
   "metadata": {},
   "source": [
    "#### Python In-built class functions\n",
    "\n",
    "The in-built functions defined in the class are described in the following table.\n",
    "\n",
    "SN     Function\t                        Description\n",
    "\n",
    "1\tgetattr(obj,name,default) --  \tIt is used to access the attribute of the object.\n",
    "\n",
    "2\tsetattr(obj, name,value)  --    It is used to set a particular value to the specific                                             attribute of an object.\n",
    "\n",
    "3\tdelattr(obj, name)       --    \tIt is used to delete a specific attribute. \n",
    "\n",
    "4\thasattr(obj, name)\t     --       It returns true if the object contains some specific                                             attribute.\n"
   ]
  },
  {
   "cell_type": "code",
   "execution_count": 5,
   "id": "6b79412a",
   "metadata": {},
   "outputs": [],
   "source": [
    "class Student:\n",
    "    def __init__(self, name, age, id):\n",
    "        self.name = name\n",
    "        self.age = age \n",
    "        self.id = id\n",
    "        \n",
    "s = Student(\"Ankit\", 30, 1135840018)\n"
   ]
  },
  {
   "cell_type": "code",
   "execution_count": 6,
   "id": "c648c43f",
   "metadata": {},
   "outputs": [
    {
     "name": "stdout",
     "output_type": "stream",
     "text": [
      "Ankit\n"
     ]
    }
   ],
   "source": [
    "print(getattr(s,\"name\")) # note"
   ]
  },
  {
   "cell_type": "code",
   "execution_count": 7,
   "id": "771c9cbc",
   "metadata": {},
   "outputs": [],
   "source": [
    "setattr(s,\"age\", 28) # we have changed the attribute value "
   ]
  },
  {
   "cell_type": "code",
   "execution_count": 8,
   "id": "cfae49a1",
   "metadata": {},
   "outputs": [
    {
     "name": "stdout",
     "output_type": "stream",
     "text": [
      "28\n",
      "\n",
      "1135840018\n"
     ]
    }
   ],
   "source": [
    "print(getattr(s,\"age\"))\n",
    "print()\n",
    "print(getattr(s,\"id\"))"
   ]
  },
  {
   "cell_type": "code",
   "execution_count": 108,
   "id": "6cba69d9",
   "metadata": {},
   "outputs": [
    {
     "name": "stdout",
     "output_type": "stream",
     "text": [
      "True\n"
     ]
    }
   ],
   "source": [
    "print(hasattr(s, \"id\"))"
   ]
  },
  {
   "cell_type": "code",
   "execution_count": 109,
   "id": "116c0837",
   "metadata": {},
   "outputs": [],
   "source": [
    "\n",
    "delattr(s, \"age\")\n",
    "\n",
    "# we have deleted the attribute "
   ]
  },
  {
   "cell_type": "code",
   "execution_count": 110,
   "id": "3eeeb0fd",
   "metadata": {},
   "outputs": [
    {
     "ename": "AttributeError",
     "evalue": "'Student' object has no attribute 'age'",
     "output_type": "error",
     "traceback": [
      "\u001b[1;31m---------------------------------------------------------------------------\u001b[0m",
      "\u001b[1;31mAttributeError\u001b[0m                            Traceback (most recent call last)",
      "\u001b[1;32m~\\AppData\\Local\\Temp/ipykernel_6928/4204863887.py\u001b[0m in \u001b[0;36m<module>\u001b[1;34m\u001b[0m\n\u001b[1;32m----> 1\u001b[1;33m \u001b[0mprint\u001b[0m\u001b[1;33m(\u001b[0m\u001b[0ms\u001b[0m\u001b[1;33m.\u001b[0m\u001b[0mage\u001b[0m\u001b[1;33m)\u001b[0m\u001b[1;33m\u001b[0m\u001b[1;33m\u001b[0m\u001b[0m\n\u001b[0m",
      "\u001b[1;31mAttributeError\u001b[0m: 'Student' object has no attribute 'age'"
     ]
    }
   ],
   "source": [
    "print(s.age)\n",
    "# this will error because we have deleted the attribute"
   ]
  },
  {
   "cell_type": "markdown",
   "id": "2aa9bff2",
   "metadata": {},
   "source": [
    "#### Built-in class attributes\n",
    "\n",
    "Along with the other attributes, a python class also contains some built-in class attributes which provide information about the class.\n",
    "The built-in class attributes are given in the below table.\n",
    "\n",
    "`SN\t         Attribute                    \tDescription`\n",
    "1.      \t`__dict__`\t     It provides the dictionary containing the information about the                                  class  namespace.\n",
    "\n",
    "2.      \t`__doc__\t`     It contains a string which has the class documentation\n",
    "\n",
    "3.      \t`__name__`\t     It is used to access the class name.\n",
    "\n",
    "4.      \t`__module__`     \tIt is used to access the module in which, this class is defined.\n",
    "\n",
    "5.      \t`__bases__`     \tIt contains a tuple including all base classes.\n"
   ]
  },
  {
   "cell_type": "code",
   "execution_count": 3,
   "id": "9f69d034",
   "metadata": {},
   "outputs": [],
   "source": [
    "class Student:\n",
    "    \"\"\"\n",
    "    this is DocString just for checking built-in-class functions\n",
    "    \"\"\"\n",
    "    def __init__(self, name, age, id):\n",
    "        self.name = name\n",
    "        self.age = age \n",
    "        self.id = id\n",
    "        \n",
    "    def display(self):\n",
    "        return (f\"Name  : {self.name}\\nAge  :{self.age}\\nID  : {self.age}\")\n",
    "        \n",
    "s = Student(\"Ankit\", 30, 1135840018)\n"
   ]
  },
  {
   "cell_type": "code",
   "execution_count": 4,
   "id": "03bd02fa",
   "metadata": {},
   "outputs": [
    {
     "name": "stdout",
     "output_type": "stream",
     "text": [
      "\n",
      "    this is DocString just for checking built-in-class functions\n",
      "    \n"
     ]
    }
   ],
   "source": [
    "print(s.__doc__)"
   ]
  },
  {
   "cell_type": "code",
   "execution_count": 5,
   "id": "269d13e5",
   "metadata": {},
   "outputs": [
    {
     "name": "stdout",
     "output_type": "stream",
     "text": [
      "__main__\n"
     ]
    }
   ],
   "source": [
    "print(s.__module__)"
   ]
  },
  {
   "cell_type": "code",
   "execution_count": 6,
   "id": "67794a71",
   "metadata": {},
   "outputs": [
    {
     "name": "stdout",
     "output_type": "stream",
     "text": [
      "{'name': 'Ankit', 'age': 30, 'id': 1135840018}\n"
     ]
    }
   ],
   "source": [
    "print(s.__dict__)"
   ]
  },
  {
   "cell_type": "code",
   "execution_count": 125,
   "id": "dcc57485",
   "metadata": {},
   "outputs": [
    {
     "name": "stdout",
     "output_type": "stream",
     "text": [
      "<built-in method __dir__ of Student object at 0x000001E2E6ACB2C8>\n"
     ]
    }
   ],
   "source": [
    "print(s.__dir__)"
   ]
  },
  {
   "cell_type": "code",
   "execution_count": 9,
   "id": "9d9f34d8",
   "metadata": {},
   "outputs": [
    {
     "name": "stdout",
     "output_type": "stream",
     "text": [
      "First number = 1000\n",
      "Second number = 2000\n",
      "Addition of two numbers = 3000\n"
     ]
    }
   ],
   "source": [
    "class Addition:\n",
    "    \n",
    "    first = 0\n",
    "    second = 0\n",
    "    answer = 0\n",
    "    \n",
    "    # parameterized constructor\n",
    "    def __init__(self, f, s):\n",
    "        self.first = f\n",
    "        self.second = s\n",
    "    \n",
    "    def display(self):\n",
    "        \n",
    "        print(\"First number = \" + str(self.first))\n",
    "        print(\"Second number = \" + str(self.second))\n",
    "        print(\"Addition of two numbers = \" + str(self.answer))\n",
    " \n",
    "    def calculate(self):\n",
    "        self.answer = self.first + self.second\n",
    "\n",
    "        \n",
    "# creating object of the class\n",
    "# this will invoke parameterized constructor\n",
    "obj = Addition(1000, 2000)\n",
    " \n",
    "# perform Addition\n",
    "obj.calculate()\n",
    " \n",
    "# display result\n",
    "obj.display()"
   ]
  },
  {
   "cell_type": "code",
   "execution_count": 22,
   "id": "f5e8259c",
   "metadata": {},
   "outputs": [
    {
     "name": "stdout",
     "output_type": "stream",
     "text": [
      "__main__\n"
     ]
    }
   ],
   "source": [
    "print(obj.__module__)"
   ]
  },
  {
   "cell_type": "code",
   "execution_count": 23,
   "id": "4849d445",
   "metadata": {},
   "outputs": [
    {
     "name": "stdout",
     "output_type": "stream",
     "text": [
      "{'first': 1000, 'second': 2000, 'answer': 3000}\n"
     ]
    }
   ],
   "source": [
    "print(obj.__dict__)"
   ]
  },
  {
   "cell_type": "code",
   "execution_count": 24,
   "id": "03565c81",
   "metadata": {},
   "outputs": [
    {
     "name": "stdout",
     "output_type": "stream",
     "text": [
      "<class '__main__.Addition'>\n"
     ]
    }
   ],
   "source": [
    "print(obj.__class__)"
   ]
  },
  {
   "cell_type": "markdown",
   "id": "e13032fc",
   "metadata": {},
   "source": [
    "### __str__ and __repr__\n",
    "`str() and repr() both are used to get a string representation of object.`\n",
    "\n",
    "`str()` is used for creating output for end user while `repr()` is mainly used for debugging and development. `repr’s` goal is to be unambiguous and `str’s` is to be readable."
   ]
  },
  {
   "cell_type": "code",
   "execution_count": 18,
   "id": "566f1c7e",
   "metadata": {},
   "outputs": [
    {
     "name": "stdout",
     "output_type": "stream",
     "text": [
      "Name : David\n",
      "Age : 20\n",
      "ID : 11001121\n"
     ]
    }
   ],
   "source": [
    "class Student:\n",
    "    \n",
    "    def __init__(self, name, age, ID):\n",
    "        \n",
    "        self.name = name\n",
    "        self.age = age\n",
    "        self.id = ID\n",
    "        \n",
    "    def __str__(self):\n",
    "        return f\"Name : {self.name}\\nAge : {self.age}\\nID : {self.id}\"\n",
    "    \n",
    "    def __repr__(self):\n",
    "        return f\"Student Name : {self.name}\\nAge : {self.age}\\nID : {self.id}\"\n",
    "    \n",
    "\n",
    "s = Student(\"David\", 20, 11001121 )\n",
    "print(s)\n",
    "\n",
    "# Note when __str__ and __repr__ both are present then only __str__ will be printed\n",
    "# and when only  __repr__ is present then it will be printed\n"
   ]
  },
  {
   "cell_type": "code",
   "execution_count": 20,
   "id": "35485faa",
   "metadata": {},
   "outputs": [
    {
     "name": "stdout",
     "output_type": "stream",
     "text": [
      "Student Name : David\n",
      "Age : 20\n",
      "ID : 11001121\n"
     ]
    }
   ],
   "source": [
    "class Student:\n",
    "    \n",
    "    def __init__(self, name, age, ID):\n",
    "        \n",
    "        self.name = name\n",
    "        self.age = age\n",
    "        self.id = ID\n",
    "        \n",
    "#     def __str__(self):\n",
    "#         return f\"Name : {self.name}\\nAge : {self.age}\\nID : {self.id}\"\n",
    "    \n",
    "    def __repr__(self):\n",
    "        return f\"Student Name : {self.name}\\nAge : {self.age}\\nID : {self.id}\"\n",
    "    \n",
    "\n",
    "s = Student(\"David\", 20, 11001121 )\n",
    "print(s)"
   ]
  },
  {
   "cell_type": "code",
   "execution_count": null,
   "id": "54c9de06",
   "metadata": {},
   "outputs": [],
   "source": []
  },
  {
   "cell_type": "markdown",
   "id": "767d8878",
   "metadata": {},
   "source": [
    "### Destructors in Python\n",
    "\n",
    "Destructors are called when an object gets destroyed. In Python, destructors are not needed as much needed in C++ because Python has a garbage collector that handles memory management automatically.\n",
    "\n",
    "The` __del__()` method is a known as a destructor method in Python. It is called when all references to the object have been deleted i.e when an object is garbage collected.\n",
    "Syntax of destructor declaration :\n",
    "\n",
    "def `__del__(self)`:\n",
    "\n",
    "  ##### body of destructor\n",
    "\n",
    "**Note:** \n",
    "\n",
    "A reference to objects is also deleted when the object goes out of reference or when the program ends.\n",
    "\n",
    "**Example1:**\n",
    "\n",
    "Here is the simple example of destructor. By using del keyword we deleted the all references of object ‘obj’, therefore destructor invoked automatically."
   ]
  },
  {
   "cell_type": "code",
   "execution_count": 1,
   "id": "c4dbc62d",
   "metadata": {},
   "outputs": [
    {
     "name": "stdout",
     "output_type": "stream",
     "text": [
      "Employee created.\n",
      "Destructor called, Employee deleted.\n"
     ]
    }
   ],
   "source": [
    "# Python program to illustrate destructor\n",
    "class Employee:\n",
    "  \n",
    "    # Initializing\n",
    "    def __init__(self):\n",
    "        print('Employee created.')\n",
    "  \n",
    "    # Deleting (Calling destructor)\n",
    "    def __del__(self):\n",
    "        print('Destructor called, Employee deleted.')\n",
    "\n",
    "obj = Employee()\n",
    "del obj"
   ]
  },
  {
   "cell_type": "code",
   "execution_count": 2,
   "id": "298fadd2",
   "metadata": {},
   "outputs": [
    {
     "ename": "NameError",
     "evalue": "name 'obj' is not defined",
     "output_type": "error",
     "traceback": [
      "\u001b[1;31m---------------------------------------------------------------------------\u001b[0m",
      "\u001b[1;31mNameError\u001b[0m                                 Traceback (most recent call last)",
      "\u001b[1;32m~\\AppData\\Local\\Temp/ipykernel_2576/3358550555.py\u001b[0m in \u001b[0;36m<module>\u001b[1;34m\u001b[0m\n\u001b[1;32m----> 1\u001b[1;33m \u001b[0mprint\u001b[0m\u001b[1;33m(\u001b[0m\u001b[0mobj\u001b[0m\u001b[1;33m)\u001b[0m\u001b[1;33m\u001b[0m\u001b[1;33m\u001b[0m\u001b[0m\n\u001b[0m",
      "\u001b[1;31mNameError\u001b[0m: name 'obj' is not defined"
     ]
    }
   ],
   "source": [
    "print(obj)"
   ]
  },
  {
   "cell_type": "code",
   "execution_count": 9,
   "id": "e9e4a540",
   "metadata": {},
   "outputs": [
    {
     "name": "stdout",
     "output_type": "stream",
     "text": [
      "Employee is created\n",
      "Destructor called , Employee Deleted\n"
     ]
    }
   ],
   "source": [
    "class Employee:\n",
    "    \n",
    "    def __init__(self):\n",
    "        print(\"Employee is created\")\n",
    "        \n",
    "    def __del__(self):\n",
    "        print(\"Destructor called , Employee Deleted\")\n",
    "        \n",
    "emp = Employee()\n",
    "\n",
    "del emp"
   ]
  },
  {
   "cell_type": "code",
   "execution_count": 11,
   "id": "6fea15cf",
   "metadata": {},
   "outputs": [
    {
     "ename": "NameError",
     "evalue": "name 'emp' is not defined",
     "output_type": "error",
     "traceback": [
      "\u001b[1;31m---------------------------------------------------------------------------\u001b[0m",
      "\u001b[1;31mNameError\u001b[0m                                 Traceback (most recent call last)",
      "\u001b[1;32m~\\AppData\\Local\\Temp/ipykernel_2576/3614857539.py\u001b[0m in \u001b[0;36m<module>\u001b[1;34m\u001b[0m\n\u001b[0;32m      1\u001b[0m \u001b[1;31m# As we can see that Destructor has deleted the employee object\u001b[0m\u001b[1;33m\u001b[0m\u001b[1;33m\u001b[0m\u001b[1;33m\u001b[0m\u001b[0m\n\u001b[0;32m      2\u001b[0m \u001b[1;33m\u001b[0m\u001b[0m\n\u001b[1;32m----> 3\u001b[1;33m \u001b[0mprint\u001b[0m\u001b[1;33m(\u001b[0m\u001b[0memp\u001b[0m\u001b[1;33m)\u001b[0m\u001b[1;33m\u001b[0m\u001b[1;33m\u001b[0m\u001b[0m\n\u001b[0m",
      "\u001b[1;31mNameError\u001b[0m: name 'emp' is not defined"
     ]
    }
   ],
   "source": [
    "# As we can see that Destructor has deleted the employee object \n",
    "\n",
    "print(emp)"
   ]
  },
  {
   "cell_type": "markdown",
   "id": "ffafec05",
   "metadata": {},
   "source": [
    "### Python Inheritance\n",
    "\n",
    "Inheritance is an important aspect of the object-oriented paradigm. Inheritance provides code reusability to the program because we can use an existing class to create a new class instead of creating it from scratch.\n",
    "In inheritance, the child class acquires the properties and can access all the data members and functions defined in the parent class. A child class can also provide its specific implementation to the functions of the parent class. In this section of the tutorial, we will discuss inheritance in detail.\n",
    "In python, a derived class can inherit base class by just mentioning the base in the bracket after the derived class name. Consider the following syntax to inherit a base class into the derived class.\n",
    " \n",
    "Syntax\n",
    "class derived-class(base class):  \n",
    "    <class-suite>   \n",
    "A class can inherit multiple classes by mentioning all of them inside the bracket. Consider the following syntax.\n",
    "    \n",
    "Syntax\n",
    "1.\tclass derive-class(<base class 1>, <base class 2>, ..... <base class n>):  \n",
    "2.\t    <class - suite>   \n",
    "\n",
    "    Example 1\n",
    "1.\tclass Animal:  \n",
    "2.\t    def speak(self):  \n",
    "3.\t        print(\"Animal Speaking\")  \n",
    "4.\t#child class Dog inherits the base class Animal  \n",
    "5.\tclass Dog(Animal):  \n",
    "6.\t    def bark(self):  \n",
    "7.\t        print(\"dog barking\")  \n",
    "8.\td = Dog()  \n",
    "9.\td.bark()  \n",
    "10.\td.speak()  \n",
    "Output:\n",
    "dog barking\n",
    "Animal Speaking\n",
    "________________________________________\n"
   ]
  },
  {
   "cell_type": "code",
   "execution_count": 28,
   "id": "d54b56c8",
   "metadata": {},
   "outputs": [
    {
     "name": "stdout",
     "output_type": "stream",
     "text": [
      "Animal is Speaking\n",
      "Dog is Barking\n"
     ]
    }
   ],
   "source": [
    "#simple single inheritence\n",
    "\n",
    "class Animal:\n",
    "    \n",
    "    def speak(self):\n",
    "        return \"Animal is Speaking\"\n",
    "    \n",
    "class Dog(Animal):\n",
    "    \n",
    "    def bark(self):\n",
    "        return \"Dog is Barking\"\n",
    "    \n",
    "dog = Dog()\n",
    "\n",
    "print(dog.speak())\n",
    "print(dog.bark())"
   ]
  },
  {
   "cell_type": "code",
   "execution_count": 29,
   "id": "00e6a315",
   "metadata": {},
   "outputs": [
    {
     "name": "stdout",
     "output_type": "stream",
     "text": [
      "Ankit False\n",
      "Ankit True\n"
     ]
    }
   ],
   "source": [
    "class Person:\n",
    "    \n",
    "    def __init__(self, name):\n",
    "        self.name = name\n",
    "        \n",
    "    def getName(self):\n",
    "        return self.name\n",
    "    \n",
    "    def isEmployee(self):\n",
    "        return False\n",
    "    \n",
    "class Employee(Person):\n",
    "    \n",
    "    def isEmployee(self):\n",
    "        return True\n",
    "    \n",
    "    \n",
    "p = Person(\"Ankit\")\n",
    "\n",
    "print(p.getName(), p.isEmployee())\n",
    "\n",
    "emp = Employee(\"Ankit\")\n",
    "print(emp.getName(), emp.isEmployee())\n",
    "        "
   ]
  },
  {
   "cell_type": "markdown",
   "id": "d3886b48",
   "metadata": {},
   "source": [
    "#### Python Multi-Level inheritance\n",
    "\n",
    "Multi-Level inheritance is possible in python like other object-oriented languages. Multi-level inheritance is archived when a derived class inherits another derived class. There is no limit on the number of levels up to which, the multi-level inheritance is archived in python.\n",
    "\n"
   ]
  },
  {
   "cell_type": "code",
   "execution_count": 14,
   "id": "235f23d9",
   "metadata": {},
   "outputs": [],
   "source": [
    "class Animal:\n",
    "    \n",
    "    def speak(self):\n",
    "        return(\"Animal Speaking\")\n",
    "        \n",
    "class Dog(Animal):\n",
    "    \n",
    "    def bark(self):\n",
    "        return(\"Dog is barking\")\n",
    "        \n",
    "class Dogchild(Dog):\n",
    "    def eat(self):\n",
    "        \n",
    "        return(\"DogChild is eating bread..\")\n",
    "        \n",
    "        \n",
    "d = Dogchild()\n"
   ]
  },
  {
   "cell_type": "code",
   "execution_count": 15,
   "id": "18b21413",
   "metadata": {},
   "outputs": [
    {
     "name": "stdout",
     "output_type": "stream",
     "text": [
      "Animal Speaking\n",
      "Dog is barking\n",
      "DogChild is eating bread..\n"
     ]
    }
   ],
   "source": [
    "print(d.speak())\n",
    "print(d.bark())\n",
    "print(d.eat())"
   ]
  },
  {
   "cell_type": "markdown",
   "id": "b02d4468",
   "metadata": {},
   "source": [
    "#### Python Multiple inheritance\n",
    "\n",
    "Python provides us the flexibility to inherit multiple base classes in the child class.\n",
    "\n",
    "\n",
    "When a class can be derived from more than one base class this type of inheritance is called multiple inheritance. In multiple inheritance, all the features of the base classes are inherited into the derived class. \n"
   ]
  },
  {
   "cell_type": "code",
   "execution_count": 16,
   "id": "fae9125a",
   "metadata": {},
   "outputs": [
    {
     "name": "stdout",
     "output_type": "stream",
     "text": [
      "50\n",
      "20\n",
      "4.0\n"
     ]
    }
   ],
   "source": [
    "class Calculation1:\n",
    "    \n",
    "    def addition(self, a, b):\n",
    "        return a+b\n",
    "    \n",
    "class Calculation2:\n",
    "    \n",
    "    def multiplication(self, a, b):\n",
    "        return a * b\n",
    "\n",
    "class Derived(Calculation1, Calculation2):  # here we have use more than one base class\n",
    "    \n",
    "    def devide(self, a, b):\n",
    "        return a/b\n",
    "    \n",
    "d = Derived()\n",
    "\n",
    "print(d.addition(20, 30))\n",
    "print(d.multiplication(10, 2))\n",
    "print(d.devide(8, 2))\n",
    "    "
   ]
  },
  {
   "cell_type": "markdown",
   "id": "103062d5",
   "metadata": {},
   "source": [
    "#### The isinstance (obj, class) method\n",
    "\n",
    "The isinstance() method is used to check the relationship between the objects and classes. It returns true if the first parameter, i.e., obj is the instance of the second parameter, i.e., class.\n",
    "Consider the following example.\n"
   ]
  },
  {
   "cell_type": "code",
   "execution_count": 17,
   "id": "4a814112",
   "metadata": {},
   "outputs": [
    {
     "name": "stdout",
     "output_type": "stream",
     "text": [
      "True\n"
     ]
    }
   ],
   "source": [
    "# from above class program let's check this \n",
    "\n",
    "print(isinstance(d, Derived))"
   ]
  },
  {
   "cell_type": "code",
   "execution_count": 16,
   "id": "fc9711d7",
   "metadata": {},
   "outputs": [
    {
     "name": "stdout",
     "output_type": "stream",
     "text": [
      "Moher name : Jenny\n",
      "Father name: David\n"
     ]
    }
   ],
   "source": [
    "class Mother:\n",
    "    \n",
    "    mothername = \"\"\n",
    "    \n",
    "    def mother(self):\n",
    "        print(f\"Mother Name : {self.mothername}\")\n",
    "        \n",
    "class Father:\n",
    "    \n",
    "    fathername = \"\"\n",
    "    \n",
    "    def father(self):\n",
    "        print(f\"Father Name : {self.fathername}\")\n",
    "        \n",
    "class Son(Mother, Father):\n",
    "    \n",
    "    def parents(self):\n",
    "        \n",
    "        print(f\"Moher name : {self.mothername}\")\n",
    "        print(f\"Father name: {self.fathername}\")\n",
    "        \n",
    "        \n",
    "s1 = Son()\n",
    "s1.mothername = \"Jenny\"\n",
    "s1.fathername = \"David\"\n",
    "s1.parents()"
   ]
  },
  {
   "cell_type": "markdown",
   "id": "4381eff3",
   "metadata": {},
   "source": [
    "#### Multilevel Inheritance:\n",
    "\n",
    "In multilevel inheritance, features of the base class and the derived class are further inherited into the new derived class. This is similar to a relationship representing a child and grandfather.\n"
   ]
  },
  {
   "cell_type": "code",
   "execution_count": 17,
   "id": "c8b72bf3",
   "metadata": {},
   "outputs": [
    {
     "name": "stdout",
     "output_type": "stream",
     "text": [
      "Grandfather name : Stive\n",
      "Father name : john\n",
      "Son name : David\n"
     ]
    }
   ],
   "source": [
    "### Multilevel inheritance \n",
    "\n",
    "class Grandfather:\n",
    "    \n",
    "    def __init__(self, grandfathername):\n",
    "        self.grandfathername = grandfathername\n",
    "        \n",
    "class Father(Grandfather):\n",
    "    \n",
    "    def __init__(self, fathername, grandfathername):\n",
    "        self.fathername = fathername\n",
    "        # now we have revoke the grandfather class\n",
    "        Grandfather.__init__(self, grandfathername)\n",
    "        \n",
    "        \n",
    "class Son(Father):\n",
    "    \n",
    "    def __init__(self, sonname, fathername, grandfathername):\n",
    "        \n",
    "        self.sonname = sonname\n",
    "        \n",
    "        # now we have to revoke father class\n",
    "        Father.__init__(self, fathername, grandfathername)\n",
    "        \n",
    "    def print_name(self):\n",
    "        \n",
    "        print(f\"Grandfather name : {self.grandfathername}\")\n",
    "        print(f\"Father name : {self.fathername}\")\n",
    "        print(f\"Son name : {self.sonname}\")\n",
    "        \n",
    "s = Son(\"David\", \"john\", \"Stive\")\n",
    "s.print_name()"
   ]
  },
  {
   "cell_type": "code",
   "execution_count": 18,
   "id": "16c70040",
   "metadata": {},
   "outputs": [
    {
     "name": "stdout",
     "output_type": "stream",
     "text": [
      "Grandfather name : Stive\n",
      "Father name : john\n",
      "Son name : David\n",
      "None\n"
     ]
    }
   ],
   "source": [
    "print(s.print_name())"
   ]
  },
  {
   "cell_type": "markdown",
   "id": "ac55d0e0",
   "metadata": {},
   "source": [
    "#### Hierarchical Inheritance:\n",
    "When more than one derived classes are created from a single base this type of inheritance is called hierarchical inheritance. In this program, we have a parent (base) class and two child (derived) classes."
   ]
  },
  {
   "cell_type": "code",
   "execution_count": 19,
   "id": "e176f224",
   "metadata": {},
   "outputs": [
    {
     "name": "stdout",
     "output_type": "stream",
     "text": [
      "This function is in parent class \n",
      "This function is in child1 class\n",
      "This function is in parent class \n",
      "This function is in child2 class\n"
     ]
    }
   ],
   "source": [
    "# Hierarchical Inheritance \n",
    "\n",
    "class Parent:\n",
    "    \n",
    "    def func1(self):\n",
    "        print(\"This function is in parent class \")\n",
    "        \n",
    "class Child1(Parent):\n",
    "    \n",
    "    def func2(self):\n",
    "        print(\"This function is in child1 class\")\n",
    "        \n",
    "class Child2(Parent):\n",
    "    def func3(self):\n",
    "        print(\"This function is in child2 class\")\n",
    "    \n",
    "    \n",
    "object1 = Child1()\n",
    "object2 = Child2()\n",
    "\n",
    "object1.func1()\n",
    "object1.func2()\n",
    "\n",
    "object2.func1()\n",
    "object2.func3()"
   ]
  },
  {
   "cell_type": "markdown",
   "id": "6716f68a",
   "metadata": {},
   "source": [
    "#### Python super()\n",
    "\n",
    "One of the important OOP features is Inheritance in Python. When a class inherits some or all of the behaviors from another class is known as Inheritance. In such a case, the inherited class is the subclass and the latter class is the parent class. \n",
    "In an inherited subclass, a parent class can be referred to with the use of the super() function. The super function returns a temporary object of the superclass that allows access to all of its methods to its child class."
   ]
  },
  {
   "cell_type": "code",
   "execution_count": 20,
   "id": "4449f0ca",
   "metadata": {},
   "outputs": [
    {
     "name": "stdout",
     "output_type": "stream",
     "text": [
      "I am a class variable in class A\n"
     ]
    }
   ],
   "source": [
    "class A:\n",
    "    classvar1 = \"I am a class variable in class A\"\n",
    "    \n",
    "    def __init__(self):\n",
    "        self.var1 = \"I am inside class A's constructor\"\n",
    "        \n",
    "        \n",
    "class B(A):\n",
    "    \n",
    "    classvar2 = \"I am in class B\"\n",
    "    \n",
    "a = A()\n",
    "b = B()\n",
    "\n",
    "print(b.classvar1)"
   ]
  },
  {
   "cell_type": "code",
   "execution_count": 25,
   "id": "687b18b4",
   "metadata": {},
   "outputs": [
    {
     "name": "stdout",
     "output_type": "stream",
     "text": [
      "Instance var in class A\n"
     ]
    }
   ],
   "source": [
    "class A:\n",
    "    classvar1 = \"I am a class variable in class A\"\n",
    "    \n",
    "    def __init__(self):\n",
    "        self.var1 = \"I am inside class A's constructor\"\n",
    "        self.classvar1 = \"Instance var in class A\"\n",
    "        # here we have made class instance variable means when we print b.classvar1 will search\n",
    "        # instance variable in class B then search in class A \n",
    "        \n",
    "class B(A):\n",
    "    \n",
    "    classvar1 = \"I am in class B\"\n",
    "    \n",
    "a = A()\n",
    "b = B()\n",
    "\n",
    "print(b.classvar1)"
   ]
  },
  {
   "cell_type": "code",
   "execution_count": 26,
   "id": "708615bf",
   "metadata": {},
   "outputs": [
    {
     "name": "stdout",
     "output_type": "stream",
     "text": [
      "I am in class B\n"
     ]
    }
   ],
   "source": [
    "class A:\n",
    "    classvar1 = \"I am a class variable in class A\"\n",
    "    \n",
    "    def __init__(self):\n",
    "        self.var1 = \"I am inside class A's constructor\"\n",
    "        #self.classvar1 = \"Instance var in class A\"  # now there is no instance variable \n",
    "        # it will print class variable of class B\n",
    "        \n",
    "        # here we have made class instance variable means when we print b.classvar1 will search\n",
    "        # instance variable in class B then search in class A \n",
    "        \n",
    "class B(A):\n",
    "    \n",
    "    classvar1 = \"I am in class B\"\n",
    "    \n",
    "a = A()\n",
    "b = B()\n",
    "\n",
    "print(b.classvar1)"
   ]
  },
  {
   "cell_type": "code",
   "execution_count": 27,
   "id": "114823bb",
   "metadata": {},
   "outputs": [
    {
     "name": "stdout",
     "output_type": "stream",
     "text": [
      "I am a class variable in class A\n"
     ]
    }
   ],
   "source": [
    "class A:\n",
    "    classvar1 = \"I am a class variable in class A\"\n",
    "    \n",
    "    def __init__(self):\n",
    "        self.var1 = \"I am inside class A's constructor\"\n",
    "#         self.classvar1 = \"Instance var in class A\"\n",
    "        # here we have made class instance variable means when we print b.classvar1 will search\n",
    "        # instance variable in class B then search in class A \n",
    "        \n",
    "class B(A):\n",
    "    pass\n",
    "    \n",
    "#     classvar1 = \"I am in class B\"\n",
    "    \n",
    "a = A()\n",
    "b = B()\n",
    "\n",
    "print(b.classvar1)"
   ]
  },
  {
   "cell_type": "code",
   "execution_count": 29,
   "id": "80b09d2b",
   "metadata": {},
   "outputs": [
    {
     "name": "stdout",
     "output_type": "stream",
     "text": [
      "Instance var in class B\n"
     ]
    }
   ],
   "source": [
    "class A:\n",
    "    classvar1 = \"I am a class variable in class A\"\n",
    "    \n",
    "    def __init__(self):\n",
    "        self.var1 = \"I am inside class A's constructor\"\n",
    "        self.classvar1 = \"Instance var in class A\"\n",
    "        \n",
    "        # if once method override then after inheritance it will not run \n",
    "        \n",
    "class B(A):\n",
    "        \n",
    "    classvar1 = \"I am in class B\"\n",
    "    def __init__(self):\n",
    "        \n",
    "        self.var1 = \"I am inside class B's constructor\"\n",
    "#         self.classvar1 = \"Instance var in class B\"\n",
    "    \n",
    "a = A()\n",
    "b = B()\n",
    "\n",
    "print(b.classvar1)"
   ]
  },
  {
   "cell_type": "code",
   "execution_count": 33,
   "id": "84a0c2f2",
   "metadata": {},
   "outputs": [
    {
     "name": "stdout",
     "output_type": "stream",
     "text": [
      "special \n",
      " I am inside class B's constructor \n",
      " Instance var in class B\n"
     ]
    }
   ],
   "source": [
    "class A:\n",
    "    classvar1 = \"I am a class variable in class A\"\n",
    "    \n",
    "    def __init__(self):\n",
    "        self.var1 = \"I am inside class A's constructor\"\n",
    "        self.classvar1 = \"Instance var in class A\"\n",
    "        self.special = \"special\"\n",
    "        # if once method override then after inheritance it will not run \n",
    "        \n",
    "class B(A):\n",
    "        \n",
    "    classvar1 = \"I am in class B\"\n",
    "    def __init__(self):\n",
    "        super().__init__() # note after call super we can access special attribute \n",
    "                           # and var1 and classvar1 will be parent class' variable but they \n",
    "                           # they are also prense after constructor then it will take local \n",
    "        \n",
    "        self.var1 = \"I am inside class B's constructor\"\n",
    "        self.classvar1 = \"Instance var in class B\"\n",
    "    \n",
    "a = A()\n",
    "b = B()\n",
    "\n",
    "print(b.special,\"\\n\" ,b.var1,\"\\n\" , b.classvar1)"
   ]
  },
  {
   "cell_type": "code",
   "execution_count": 34,
   "id": "201d07c8",
   "metadata": {},
   "outputs": [
    {
     "name": "stdout",
     "output_type": "stream",
     "text": [
      "I am a class variable in class A\n",
      "special \n",
      " I am inside class A's constructor \n",
      " Instance var in class A\n"
     ]
    }
   ],
   "source": [
    "class A:\n",
    "    classvar1 = \"I am a class variable in class A\"\n",
    "    \n",
    "    def __init__(self):\n",
    "        self.var1 = \"I am inside class A's constructor\"\n",
    "        self.classvar1 = \"Instance var in class A\"\n",
    "        self.special = \"special\"\n",
    "        # if once method override then after inheritance it will not run \n",
    "        \n",
    "class B(A):\n",
    "        \n",
    "    classvar1 = \"I am in class B\"\n",
    "    def __init__(self):\n",
    "               \n",
    "        self.var1 = \"I am inside class B's constructor\"\n",
    "        self.classvar1 = \"Instance var in class B\"\n",
    "        \n",
    "        super().__init__()  \n",
    "        print(super().classvar1)\n",
    "    \n",
    "a = A()\n",
    "b = B()\n",
    "\n",
    "print(b.special,\"\\n\" ,b.var1,\"\\n\" , b.classvar1)"
   ]
  },
  {
   "cell_type": "code",
   "execution_count": 36,
   "id": "36d86310",
   "metadata": {},
   "outputs": [
    {
     "name": "stdout",
     "output_type": "stream",
     "text": [
      "It is a mammal.\n",
      "\n",
      "Has legs and tail\n"
     ]
    }
   ],
   "source": [
    "# Python program to demonstrate\n",
    "# super function\n",
    "  \n",
    "class Animals:\n",
    "     \n",
    "    # Initializing constructor\n",
    "    def __init__(self):\n",
    "        self.legs = 4\n",
    "        self.domestic = True\n",
    "        self.tail = True\n",
    "        self.mammals = True\n",
    "     \n",
    "    def isMammal(self):\n",
    "        if self.mammals:\n",
    "            print(\"It is a mammal.\")\n",
    "     \n",
    "    def isDomestic(self):\n",
    "        if self.domestic:\n",
    "            print(\"It is a domestic animal.\")\n",
    "    \n",
    "class Dogs(Animals):\n",
    "    def __init__(self):\n",
    "        super().__init__()\n",
    " \n",
    "    def isMammal(self):\n",
    "        super().isMammal()\n",
    "\n",
    "class Horses(Animals):\n",
    "    def __init__(self):\n",
    "        super().__init__()\n",
    " \n",
    "    def hasTailandLegs(self):\n",
    "        if self.tail and self.legs == 4:\n",
    "            print(\"Has legs and tail\")\n",
    "\n",
    "# Driver code\n",
    "Tom = Dogs()\n",
    "Tom.isMammal()\n",
    "print()\n",
    "Bruno = Horses()\n",
    "Bruno.hasTailandLegs()"
   ]
  },
  {
   "cell_type": "code",
   "execution_count": null,
   "id": "68e596a8",
   "metadata": {},
   "outputs": [],
   "source": []
  },
  {
   "cell_type": "code",
   "execution_count": null,
   "id": "4ee60f1f",
   "metadata": {},
   "outputs": [],
   "source": []
  },
  {
   "cell_type": "markdown",
   "id": "f4dfb078",
   "metadata": {},
   "source": [
    "#### Method Overriding\n",
    "We can provide some specific implementation of the parent class method in our child class. When the parent class method is defined in the child class with some specific implementation, then the concept is called method overriding. We may need to perform method overriding in the scenario where the different definition of a parent class method is needed in the child class.\n",
    "Consider the following example to perform method overriding in python.\n"
   ]
  },
  {
   "cell_type": "code",
   "execution_count": 18,
   "id": "bd78366e",
   "metadata": {},
   "outputs": [
    {
     "name": "stdout",
     "output_type": "stream",
     "text": [
      "Dog is Barking\n"
     ]
    }
   ],
   "source": [
    "class Animal:\n",
    "    \n",
    "    def speak(self):\n",
    "        print(\"Animal speaking\")\n",
    "        \n",
    "class Dog(Animal):\n",
    "    \n",
    "    def speak(self):\n",
    "        \n",
    "        print(\"Dog is Barking\")\n",
    "        \n",
    "d = Dog()\n",
    "\n",
    "d.speak()"
   ]
  },
  {
   "cell_type": "code",
   "execution_count": 19,
   "id": "85103fc2",
   "metadata": {},
   "outputs": [
    {
     "name": "stdout",
     "output_type": "stream",
     "text": [
      "Bank rate of interest:  10\n",
      "SBI rate of interest:  8\n",
      "ICICI rate of interest:  7\n",
      "PNB rate of interest:  6\n"
     ]
    }
   ],
   "source": [
    "### Real Life Example of method overriding\n",
    "\n",
    "class Bank:\n",
    "    \n",
    "    def getroi(self):\n",
    "        return 10\n",
    "    \n",
    "class SBI(Bank):\n",
    "    \n",
    "    def getroi(self):\n",
    "        return 8\n",
    "    \n",
    "class ICICI(Bank):\n",
    "    \n",
    "    def getroi(self):\n",
    "        return 7\n",
    "    \n",
    "class PNB(Bank):\n",
    "    \n",
    "    def getroi(self):\n",
    "        return 6\n",
    "\n",
    "b1 = Bank()\n",
    "b2 = SBI()\n",
    "b3 = ICICI()\n",
    "b4 = PNB()\n",
    "\n",
    "print(\"Bank rate of interest: \", b1.getroi())\n",
    "print(\"SBI rate of interest: \", b2.getroi())\n",
    "print(\"ICICI rate of interest: \", b3.getroi())\n",
    "print(\"PNB rate of interest: \", b4.getroi())"
   ]
  },
  {
   "cell_type": "code",
   "execution_count": null,
   "id": "231c4b13",
   "metadata": {},
   "outputs": [],
   "source": []
  },
  {
   "cell_type": "code",
   "execution_count": null,
   "id": "2cb850b6",
   "metadata": {},
   "outputs": [],
   "source": []
  },
  {
   "cell_type": "code",
   "execution_count": 10,
   "id": "d55d536f",
   "metadata": {},
   "outputs": [],
   "source": [
    "# demostration of how Parent class cunstructor are called \n",
    "\n",
    "class Person:\n",
    "    \n",
    "    def __init__(self, name, age):\n",
    "        \n",
    "        self.name = name\n",
    "        self.age = age\n",
    "        \n",
    "    def display(self):\n",
    "        \n",
    "        print(f\"Name : {self.name}\\nAge : {self.age}\")\n",
    "    \n",
    "class Employee(Person):\n",
    "    \n",
    "    def __init__(self, name, age,  ID, salary):\n",
    "        self.id  = ID\n",
    "        self.salary = salary\n",
    "        ## invoking the Parent class\n",
    "        Person.__init__(self, name, age )\n",
    "        \n",
    "    def __str__(self):\n",
    "        return f\"Name : {self.name}\\nAge : {self.age}\\nID : {self.id}\\nSalary : ${self.salary}\"\n",
    "    \n",
    "emp = Employee(\"David\", 35, 12121, 2000)\n",
    "\n",
    "        "
   ]
  },
  {
   "cell_type": "code",
   "execution_count": 11,
   "id": "4df72032",
   "metadata": {},
   "outputs": [
    {
     "name": "stdout",
     "output_type": "stream",
     "text": [
      "Name : David\n",
      "Age : 35\n",
      "ID : 12121\n",
      "Salary : $2000\n"
     ]
    }
   ],
   "source": [
    "print(emp)"
   ]
  },
  {
   "cell_type": "code",
   "execution_count": 12,
   "id": "486f6383",
   "metadata": {},
   "outputs": [
    {
     "name": "stdout",
     "output_type": "stream",
     "text": [
      "Name : David\n",
      "Age : 35\n"
     ]
    }
   ],
   "source": [
    "emp.display()"
   ]
  },
  {
   "cell_type": "code",
   "execution_count": 13,
   "id": "505cb08d",
   "metadata": {},
   "outputs": [
    {
     "ename": "AttributeError",
     "evalue": "'B' object has no attribute 'name'",
     "output_type": "error",
     "traceback": [
      "\u001b[1;31m---------------------------------------------------------------------------\u001b[0m",
      "\u001b[1;31mAttributeError\u001b[0m                            Traceback (most recent call last)",
      "\u001b[1;32m~\\AppData\\Local\\Temp/ipykernel_2912/161469260.py\u001b[0m in \u001b[0;36m<module>\u001b[1;34m\u001b[0m\n\u001b[0;32m     10\u001b[0m \u001b[1;33m\u001b[0m\u001b[0m\n\u001b[0;32m     11\u001b[0m \u001b[0mobject\u001b[0m \u001b[1;33m=\u001b[0m \u001b[0mB\u001b[0m\u001b[1;33m(\u001b[0m\u001b[1;34m\"David\"\u001b[0m\u001b[1;33m)\u001b[0m\u001b[1;33m\u001b[0m\u001b[1;33m\u001b[0m\u001b[0m\n\u001b[1;32m---> 12\u001b[1;33m \u001b[0mprint\u001b[0m \u001b[1;33m(\u001b[0m\u001b[0mobject\u001b[0m\u001b[1;33m.\u001b[0m\u001b[0mname\u001b[0m\u001b[1;33m)\u001b[0m\u001b[1;33m\u001b[0m\u001b[1;33m\u001b[0m\u001b[0m\n\u001b[0m",
      "\u001b[1;31mAttributeError\u001b[0m: 'B' object has no attribute 'name'"
     ]
    }
   ],
   "source": [
    "# Python program to demonstrate error if we\n",
    "# forget to invoke __init__() of the parent.\n",
    "  \n",
    "class A:\n",
    "      def __init__(self, name = 'Ankit'):\n",
    "              self.name = name\n",
    "class B(A):\n",
    "      def __init__(self, roll):\n",
    "              self.roll = roll\n",
    "\n",
    "object = B(\"David\")\n",
    "print (object.name)"
   ]
  },
  {
   "cell_type": "code",
   "execution_count": 14,
   "id": "efb7adbe",
   "metadata": {},
   "outputs": [
    {
     "name": "stdout",
     "output_type": "stream",
     "text": [
      "David\n"
     ]
    }
   ],
   "source": [
    "# let's invoke __init__ of parent class\n",
    "\n",
    "class A:\n",
    "    def __init__(self, name = 'Ankit'):\n",
    "        self.name = name\n",
    "        \n",
    "        \n",
    "class B(A):\n",
    "    \n",
    "    def __init__(self,name, roll):\n",
    "        self.roll = roll\n",
    "        A.__init__(self, name)\n",
    "        \n",
    "        \n",
    "object = B(\"David\", 11)\n",
    "print (object.name)"
   ]
  },
  {
   "cell_type": "code",
   "execution_count": 15,
   "id": "9b9c34c8",
   "metadata": {},
   "outputs": [
    {
     "name": "stdout",
     "output_type": "stream",
     "text": [
      "11\n"
     ]
    }
   ],
   "source": [
    "print(object.roll)"
   ]
  },
  {
   "cell_type": "code",
   "execution_count": null,
   "id": "7cb9c3af",
   "metadata": {},
   "outputs": [],
   "source": []
  }
 ],
 "metadata": {
  "kernelspec": {
   "display_name": "Python 3 (ipykernel)",
   "language": "python",
   "name": "python3"
  },
  "language_info": {
   "codemirror_mode": {
    "name": "ipython",
    "version": 3
   },
   "file_extension": ".py",
   "mimetype": "text/x-python",
   "name": "python",
   "nbconvert_exporter": "python",
   "pygments_lexer": "ipython3",
   "version": "3.7.8"
  }
 },
 "nbformat": 4,
 "nbformat_minor": 5
}

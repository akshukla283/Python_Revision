{
 "cells": [
  {
   "cell_type": "markdown",
   "id": "60a85052",
   "metadata": {},
   "source": [
    "### Variable And Strings\n",
    "\n",
    "\n",
    "Variables are used to store values. A string is a series of characters, surrounded by single or double quotes."
   ]
  },
  {
   "cell_type": "code",
   "execution_count": 1,
   "id": "7ab4d742",
   "metadata": {},
   "outputs": [
    {
     "name": "stdout",
     "output_type": "stream",
     "text": [
      "Hello world!\n"
     ]
    }
   ],
   "source": [
    "# Hello world \n",
    "print(\"Hello world!\") "
   ]
  },
  {
   "cell_type": "code",
   "execution_count": 2,
   "id": "55f5d41b",
   "metadata": {},
   "outputs": [
    {
     "name": "stdout",
     "output_type": "stream",
     "text": [
      "Hello world!\n"
     ]
    }
   ],
   "source": [
    "# Hello world with a variable \n",
    "msg = \"Hello world!\" \n",
    "print(msg) "
   ]
  },
  {
   "cell_type": "code",
   "execution_count": 3,
   "id": "97883934",
   "metadata": {},
   "outputs": [
    {
     "name": "stdout",
     "output_type": "stream",
     "text": [
      "albert einstein\n"
     ]
    }
   ],
   "source": [
    "# Concatenation (combining strings) \n",
    "\n",
    "first_name = 'albert' \n",
    "last_name = 'einstein' \n",
    "full_name = first_name + ' ' + last_name \n",
    "\n",
    "print(full_name)"
   ]
  },
  {
   "cell_type": "markdown",
   "id": "49686cf4",
   "metadata": {},
   "source": [
    "### List \n",
    "\n",
    "A list stores a series of items in a particular order. You access items using an index, or within a loop.\n",
    "\n",
    "In Pyhton list is a type of container in data structers, Which is use to store multiple data at the same time,\n",
    "\n",
    "List is a useful tool for preserving a sequence of data and further iterating over it."
   ]
  },
  {
   "cell_type": "code",
   "execution_count": 4,
   "id": "70dbb5b0",
   "metadata": {},
   "outputs": [
    {
     "data": {
      "text/plain": [
       "'trek'"
      ]
     },
     "execution_count": 4,
     "metadata": {},
     "output_type": "execute_result"
    }
   ],
   "source": [
    "# Make a list \n",
    "bikes = ['trek', 'redline', 'giant']\n",
    "\n",
    "# Get the first item in a list \n",
    "\n",
    "first_bike = bikes[0]\n",
    "first_bike"
   ]
  },
  {
   "cell_type": "code",
   "execution_count": 5,
   "id": "be055a59",
   "metadata": {},
   "outputs": [
    {
     "data": {
      "text/plain": [
       "'giant'"
      ]
     },
     "execution_count": 5,
     "metadata": {},
     "output_type": "execute_result"
    }
   ],
   "source": [
    "# Get the last item in a list \n",
    "last_bike = bikes[-1] \n",
    "last_bike"
   ]
  },
  {
   "cell_type": "code",
   "execution_count": 6,
   "id": "d205c26b",
   "metadata": {},
   "outputs": [
    {
     "name": "stdout",
     "output_type": "stream",
     "text": [
      "trek\n",
      "redline\n",
      "giant\n"
     ]
    }
   ],
   "source": [
    "# Looping through a list\n",
    "\n",
    "for bike in bikes:\n",
    "    print(bike)    \n",
    "    "
   ]
  },
  {
   "cell_type": "code",
   "execution_count": 4,
   "id": "5c2b2873",
   "metadata": {},
   "outputs": [
    {
     "data": {
      "text/plain": [
       "['trek', 'redline', 'giant']"
      ]
     },
     "execution_count": 4,
     "metadata": {},
     "output_type": "execute_result"
    }
   ],
   "source": [
    "# Adding items to a list \n",
    "\n",
    "bikes = [] \n",
    "bikes.append('trek') \n",
    "bikes.append('redline') \n",
    "bikes.append('giant') \n",
    "bikes"
   ]
  },
  {
   "cell_type": "code",
   "execution_count": 5,
   "id": "744299b3",
   "metadata": {},
   "outputs": [
    {
     "data": {
      "text/plain": [
       "[1, 4, 9, 16, 25, 36, 49, 64, 81, 100]"
      ]
     },
     "execution_count": 5,
     "metadata": {},
     "output_type": "execute_result"
    }
   ],
   "source": [
    "#Making numerical lists \n",
    "squares = []\n",
    "\n",
    "for x in range(1, 11):\n",
    "    squares.append(x**2)\n",
    "    \n",
    "squares"
   ]
  },
  {
   "cell_type": "code",
   "execution_count": 6,
   "id": "cb3ef9d4",
   "metadata": {},
   "outputs": [
    {
     "data": {
      "text/plain": [
       "[1, 4, 9, 16, 25, 36, 49, 64, 81, 100]"
      ]
     },
     "execution_count": 6,
     "metadata": {},
     "output_type": "execute_result"
    }
   ],
   "source": [
    "# List comprehensions \n",
    "squares = [x**2 for x in range(1, 11)]\n",
    "squares"
   ]
  },
  {
   "cell_type": "code",
   "execution_count": 7,
   "id": "bc1720ce",
   "metadata": {},
   "outputs": [
    {
     "data": {
      "text/plain": [
       "['sam', 'bob']"
      ]
     },
     "execution_count": 7,
     "metadata": {},
     "output_type": "execute_result"
    }
   ],
   "source": [
    "# Slicing a list \n",
    "finishers = ['sam', 'bob', 'ada', 'bea'] \n",
    "\n",
    "first_two = finishers[:2] \n",
    "first_two"
   ]
  },
  {
   "cell_type": "code",
   "execution_count": 8,
   "id": "2f9ff229",
   "metadata": {},
   "outputs": [
    {
     "data": {
      "text/plain": [
       "['trek', 'redline', 'giant']"
      ]
     },
     "execution_count": 8,
     "metadata": {},
     "output_type": "execute_result"
    }
   ],
   "source": [
    "# Copying a list \n",
    "\n",
    "copy_of_bikes = bikes[:]\n",
    "copy_of_bikes"
   ]
  },
  {
   "cell_type": "code",
   "execution_count": 9,
   "id": "728402e9",
   "metadata": {},
   "outputs": [
    {
     "data": {
      "text/plain": [
       "'val'"
      ]
     },
     "execution_count": 9,
     "metadata": {},
     "output_type": "execute_result"
    }
   ],
   "source": [
    "users = [\"val\", 'bob', 'mia', 'ron', 'ned']\n",
    "\n",
    "# getting first , second and last element\n",
    "\n",
    "users[0]"
   ]
  },
  {
   "cell_type": "code",
   "execution_count": 10,
   "id": "5a20782b",
   "metadata": {},
   "outputs": [
    {
     "data": {
      "text/plain": [
       "'bob'"
      ]
     },
     "execution_count": 10,
     "metadata": {},
     "output_type": "execute_result"
    }
   ],
   "source": [
    "users[1]"
   ]
  },
  {
   "cell_type": "code",
   "execution_count": 11,
   "id": "17849ff2",
   "metadata": {},
   "outputs": [
    {
     "data": {
      "text/plain": [
       "'ned'"
      ]
     },
     "execution_count": 11,
     "metadata": {},
     "output_type": "execute_result"
    }
   ],
   "source": [
    "users[-1]"
   ]
  },
  {
   "cell_type": "code",
   "execution_count": 12,
   "id": "b62829fe",
   "metadata": {},
   "outputs": [
    {
     "data": {
      "text/plain": [
       "['Ankit', 'bob', 'mia', 'Amit', 'ned']"
      ]
     },
     "execution_count": 12,
     "metadata": {},
     "output_type": "execute_result"
    }
   ],
   "source": [
    "# Modifying individual items \n",
    "\n",
    "users[0] = \"Ankit\"\n",
    "\n",
    "users[-2] = \"Amit\"\n",
    "\n",
    "users"
   ]
  },
  {
   "cell_type": "code",
   "execution_count": 13,
   "id": "7430f3cd",
   "metadata": {},
   "outputs": [
    {
     "data": {
      "text/plain": [
       "['Ankit', 'bob', 'mia', 'Amit', 'ned', 'Ashish']"
      ]
     },
     "execution_count": 13,
     "metadata": {},
     "output_type": "execute_result"
    }
   ],
   "source": [
    "# Adding element \n",
    "\n",
    "users.append(\"Ashish\")\n",
    "users"
   ]
  },
  {
   "cell_type": "code",
   "execution_count": 14,
   "id": "6a69c0e3",
   "metadata": {},
   "outputs": [
    {
     "data": {
      "text/plain": [
       "['val', 'bob', 'stev']"
      ]
     },
     "execution_count": 14,
     "metadata": {},
     "output_type": "execute_result"
    }
   ],
   "source": [
    "# Starting with empty list\n",
    "\n",
    "users = []\n",
    "\n",
    "users.append(\"val\")\n",
    "users.append(\"bob\")\n",
    "users.append(\"stev\")\n",
    "users"
   ]
  },
  {
   "cell_type": "code",
   "execution_count": 15,
   "id": "50bea8ab",
   "metadata": {},
   "outputs": [
    {
     "data": {
      "text/plain": [
       "['joe', 'val', 'bob', 'bea', 'stev']"
      ]
     },
     "execution_count": 15,
     "metadata": {},
     "output_type": "execute_result"
    }
   ],
   "source": [
    "# inserting an element at a particular position\n",
    "\n",
    "users.insert(0, \"joe\")\n",
    "users.insert(3, \"bea\")\n",
    "\n",
    "users"
   ]
  },
  {
   "cell_type": "code",
   "execution_count": 16,
   "id": "32720862",
   "metadata": {},
   "outputs": [
    {
     "data": {
      "text/plain": [
       "['joe', 'val', 'bob', 'bea']"
      ]
     },
     "execution_count": 16,
     "metadata": {},
     "output_type": "execute_result"
    }
   ],
   "source": [
    "# deleting element \n",
    "\n",
    "del users[-1]\n",
    "users"
   ]
  },
  {
   "cell_type": "code",
   "execution_count": 17,
   "id": "e52e5188",
   "metadata": {},
   "outputs": [
    {
     "data": {
      "text/plain": [
       "['joe', 'bob', 'bea']"
      ]
     },
     "execution_count": 17,
     "metadata": {},
     "output_type": "execute_result"
    }
   ],
   "source": [
    "# removing an item by its value\n",
    "\n",
    "users.remove(\"val\")\n",
    "users"
   ]
  },
  {
   "cell_type": "code",
   "execution_count": 18,
   "id": "114744f5",
   "metadata": {},
   "outputs": [
    {
     "data": {
      "text/plain": [
       "'bea'"
      ]
     },
     "execution_count": 18,
     "metadata": {},
     "output_type": "execute_result"
    }
   ],
   "source": [
    "# Popping elements\n",
    "\n",
    "most_recent_user = users.pop()\n",
    "most_recent_user"
   ]
  },
  {
   "cell_type": "code",
   "execution_count": 19,
   "id": "c4fb4c62",
   "metadata": {},
   "outputs": [
    {
     "data": {
      "text/plain": [
       "['joe', 'bob']"
      ]
     },
     "execution_count": 19,
     "metadata": {},
     "output_type": "execute_result"
    }
   ],
   "source": [
    "users"
   ]
  },
  {
   "cell_type": "code",
   "execution_count": 20,
   "id": "472c3814",
   "metadata": {},
   "outputs": [
    {
     "data": {
      "text/plain": [
       "'joe'"
      ]
     },
     "execution_count": 20,
     "metadata": {},
     "output_type": "execute_result"
    }
   ],
   "source": [
    "# by gining the position\n",
    "\n",
    "first_user = users.pop(0)\n",
    "first_user"
   ]
  },
  {
   "cell_type": "code",
   "execution_count": 21,
   "id": "7fac4348",
   "metadata": {},
   "outputs": [
    {
     "name": "stdout",
     "output_type": "stream",
     "text": [
      "We have 5 users.\n"
     ]
    }
   ],
   "source": [
    "users = [\"val\", 'bob', 'mia', 'ron', 'ned']\n",
    "\n",
    "# List Length\n",
    "\n",
    "num_user = len(users)\n",
    "\n",
    "print(f\"We have {num_user} users.\")"
   ]
  },
  {
   "cell_type": "code",
   "execution_count": 22,
   "id": "dbcd56be",
   "metadata": {},
   "outputs": [
    {
     "data": {
      "text/plain": [
       "['val', 'bob', 'mia', 'ron', 'ned']"
      ]
     },
     "execution_count": 22,
     "metadata": {},
     "output_type": "execute_result"
    }
   ],
   "source": [
    "# Sorting a list \n",
    "\n",
    "users = [\"val\", 'bob', 'mia', 'ron', 'ned']\n",
    "users"
   ]
  },
  {
   "cell_type": "code",
   "execution_count": 23,
   "id": "990b8b9b",
   "metadata": {},
   "outputs": [
    {
     "data": {
      "text/plain": [
       "['bob', 'mia', 'ned', 'ron', 'val']"
      ]
     },
     "execution_count": 23,
     "metadata": {},
     "output_type": "execute_result"
    }
   ],
   "source": [
    "# Sorting a list permanently\n",
    "users.sort()\n",
    "users"
   ]
  },
  {
   "cell_type": "code",
   "execution_count": 24,
   "id": "62c79925",
   "metadata": {},
   "outputs": [
    {
     "data": {
      "text/plain": [
       "['val', 'ron', 'ned', 'mia', 'bob']"
      ]
     },
     "execution_count": 24,
     "metadata": {},
     "output_type": "execute_result"
    }
   ],
   "source": [
    "# Sorting a list permanently in reverse alphabetical\n",
    "users.sort(reverse=True)\n",
    "users"
   ]
  },
  {
   "cell_type": "code",
   "execution_count": 25,
   "id": "00e6bda1",
   "metadata": {},
   "outputs": [
    {
     "name": "stdout",
     "output_type": "stream",
     "text": [
      "['bob', 'mia', 'ned', 'ron', 'val']\n"
     ]
    }
   ],
   "source": [
    "# Sorting a list temporarily\n",
    "\n",
    "print(sorted(users))"
   ]
  },
  {
   "cell_type": "code",
   "execution_count": 26,
   "id": "5b949b6f",
   "metadata": {},
   "outputs": [
    {
     "data": {
      "text/plain": [
       "['val', 'ron', 'ned', 'mia', 'bob']"
      ]
     },
     "execution_count": 26,
     "metadata": {},
     "output_type": "execute_result"
    }
   ],
   "source": [
    "users"
   ]
  },
  {
   "cell_type": "code",
   "execution_count": 27,
   "id": "34504b1c",
   "metadata": {},
   "outputs": [
    {
     "name": "stdout",
     "output_type": "stream",
     "text": [
      "['val', 'ron', 'ned', 'mia', 'bob']\n"
     ]
    }
   ],
   "source": [
    "print(sorted(users, reverse=True))"
   ]
  },
  {
   "cell_type": "code",
   "execution_count": 28,
   "id": "c320e6ef",
   "metadata": {},
   "outputs": [
    {
     "name": "stdout",
     "output_type": "stream",
     "text": [
      "['bob', 'mia', 'ned', 'ron', 'val']\n"
     ]
    }
   ],
   "source": [
    "users.reverse()\n",
    "print(users)"
   ]
  },
  {
   "cell_type": "code",
   "execution_count": 29,
   "id": "a01cc2a0",
   "metadata": {},
   "outputs": [
    {
     "name": "stdout",
     "output_type": "stream",
     "text": [
      "bob , mia , ned , ron , val , "
     ]
    }
   ],
   "source": [
    "### looping through a list \n",
    "\n",
    "for user in users:\n",
    "    print(user, end = \" , \")"
   ]
  },
  {
   "cell_type": "code",
   "execution_count": 30,
   "id": "362cba6d",
   "metadata": {},
   "outputs": [
    {
     "name": "stdout",
     "output_type": "stream",
     "text": [
      "Welcome val user!\n",
      "Welcome bob user!\n",
      "Welcome mia user!\n",
      "Welcome ron user!\n",
      "Welcome ned user!\n",
      "Welcome, we're glad to see you all!\n"
     ]
    }
   ],
   "source": [
    "# Printing a message for each item , and a reparate  message afterward\n",
    "users = [\"val\", 'bob', 'mia', 'ron', 'ned']\n",
    "\n",
    "for user in users:\n",
    "    print(f\"Welcome {user} user!\")\n",
    "    \n",
    "print(\"Welcome, we're glad to see you all!\")\n",
    "    "
   ]
  },
  {
   "cell_type": "markdown",
   "id": "73b8dc26",
   "metadata": {},
   "source": [
    "#### The range fuction\n",
    "\n",
    "You can use the range() function to work with a set of numbers efficiently. The range() function starts at 0 by default, and stops one number below the number passed to it. You can use the list() function to efficiently generate a large list of numbers."
   ]
  },
  {
   "cell_type": "code",
   "execution_count": 31,
   "id": "10f478c3",
   "metadata": {},
   "outputs": [
    {
     "name": "stdout",
     "output_type": "stream",
     "text": [
      "0 1 2 3 4 5 6 7 8 9 "
     ]
    }
   ],
   "source": [
    "# Printing the numbers 0 to 10\n",
    "for number in range(10):\n",
    "    print(number, end = \" \")"
   ]
  },
  {
   "cell_type": "code",
   "execution_count": 32,
   "id": "e9e09828",
   "metadata": {},
   "outputs": [
    {
     "name": "stdout",
     "output_type": "stream",
     "text": [
      "0 1 2 3 4 5 6 7 8 9 10 "
     ]
    }
   ],
   "source": [
    "for number in range(0, 11):\n",
    "    print(number, end = \" \")"
   ]
  },
  {
   "cell_type": "code",
   "execution_count": 33,
   "id": "8aa4ad39",
   "metadata": {},
   "outputs": [
    {
     "name": "stdout",
     "output_type": "stream",
     "text": [
      "0 2 4 6 8 10 "
     ]
    }
   ],
   "source": [
    "for number in range(0, 11, 2):\n",
    "    print(number, end = \" \")"
   ]
  },
  {
   "cell_type": "code",
   "execution_count": 34,
   "id": "35bc9b92",
   "metadata": {},
   "outputs": [
    {
     "name": "stdout",
     "output_type": "stream",
     "text": [
      "5 6 7 8 9 10 "
     ]
    }
   ],
   "source": [
    "for number in range(5, 11):\n",
    "    print(number, end = \" \")"
   ]
  },
  {
   "cell_type": "code",
   "execution_count": 35,
   "id": "bac7785c",
   "metadata": {},
   "outputs": [],
   "source": [
    "# Making a list of numbers from 1 to a million\n",
    "\n",
    "numbers = list(range(1, 1000001))"
   ]
  },
  {
   "cell_type": "code",
   "execution_count": 36,
   "id": "c242c26a",
   "metadata": {},
   "outputs": [
    {
     "data": {
      "text/plain": [
       "1000000"
      ]
     },
     "execution_count": 36,
     "metadata": {},
     "output_type": "execute_result"
    }
   ],
   "source": [
    "len(numbers)"
   ]
  },
  {
   "cell_type": "markdown",
   "id": "d397af82",
   "metadata": {},
   "source": [
    "#### Simple Static\n",
    "\n",
    "There are a number of simple statistics you can run on a list containing numerical data. "
   ]
  },
  {
   "cell_type": "code",
   "execution_count": 37,
   "id": "c13a4141",
   "metadata": {},
   "outputs": [
    {
     "data": {
      "text/plain": [
       "1"
      ]
     },
     "execution_count": 37,
     "metadata": {},
     "output_type": "execute_result"
    }
   ],
   "source": [
    "#### Finding the minimum value in a list\n",
    "ages = [93, 99, 66, 17, 85, 1, 35, 82, 2, 77] \n",
    "youngest = min(ages) \n",
    "youngest"
   ]
  },
  {
   "cell_type": "code",
   "execution_count": 38,
   "id": "80098819",
   "metadata": {},
   "outputs": [
    {
     "data": {
      "text/plain": [
       "99"
      ]
     },
     "execution_count": 38,
     "metadata": {},
     "output_type": "execute_result"
    }
   ],
   "source": [
    "#### Finding the maximum value \n",
    "\n",
    "ages = [93, 99, 66, 17, 85, 1, 35, 82, 2, 77] \n",
    "oldest = max(ages)\n",
    "oldest"
   ]
  },
  {
   "cell_type": "code",
   "execution_count": 39,
   "id": "48558d02",
   "metadata": {},
   "outputs": [
    {
     "data": {
      "text/plain": [
       "557"
      ]
     },
     "execution_count": 39,
     "metadata": {},
     "output_type": "execute_result"
    }
   ],
   "source": [
    "#### Finding the sum of all values\n",
    "ages = [93, 99, 66, 17, 85, 1, 35, 82, 2, 77] \n",
    "total_years = sum(ages)\n",
    "total_years"
   ]
  },
  {
   "cell_type": "markdown",
   "id": "bc79657f",
   "metadata": {},
   "source": [
    "#### Slicing of a list\n",
    "\n",
    "You can work with any set of elements from a list. A portion of a list is called a slice. To slice a list start with the index of the first item you want, then add a colon and the index after the last item you want. Leave off the first index to start at the beginning of the list, and leave off the last index to slice through the end of the list."
   ]
  },
  {
   "cell_type": "code",
   "execution_count": 40,
   "id": "f841f69e",
   "metadata": {},
   "outputs": [
    {
     "data": {
      "text/plain": [
       "['kai', 'abe', 'ada']"
      ]
     },
     "execution_count": 40,
     "metadata": {},
     "output_type": "execute_result"
    }
   ],
   "source": [
    "#Getting the first three items \n",
    "finishers = ['kai', 'abe', 'ada', 'gus', 'zoe']\n",
    "first_three = finishers[:3]\n",
    "first_three"
   ]
  },
  {
   "cell_type": "code",
   "execution_count": 41,
   "id": "47ee9e85",
   "metadata": {},
   "outputs": [
    {
     "data": {
      "text/plain": [
       "['abe', 'ada', 'gus']"
      ]
     },
     "execution_count": 41,
     "metadata": {},
     "output_type": "execute_result"
    }
   ],
   "source": [
    "# Getting the middle three items \n",
    "middle_three = finishers[1:4] \n",
    "middle_three"
   ]
  },
  {
   "cell_type": "code",
   "execution_count": 42,
   "id": "079b7695",
   "metadata": {},
   "outputs": [
    {
     "data": {
      "text/plain": [
       "['ada', 'gus', 'zoe']"
      ]
     },
     "execution_count": 42,
     "metadata": {},
     "output_type": "execute_result"
    }
   ],
   "source": [
    "# Getting the last three items\n",
    "finishers = ['kai', 'abe', 'ada', 'gus', 'zoe']\n",
    "last_three = finishers[-3:]\n",
    "last_three"
   ]
  },
  {
   "cell_type": "markdown",
   "id": "ae88ce1f",
   "metadata": {},
   "source": [
    "#### Copying a list \n",
    "To copy a list make a slice that starts at the first item and ends at the last item. If you try to copy a list without using this approach, whatever you do to the copied list will affect the original list as well."
   ]
  },
  {
   "cell_type": "code",
   "execution_count": 43,
   "id": "3246d03c",
   "metadata": {},
   "outputs": [],
   "source": [
    "# Making a copy of a list \n",
    "finishers = ['kai', 'abe', 'ada', 'gus', 'zoe'] \n",
    "\n",
    "copy_of_finishers = finishers[:]"
   ]
  },
  {
   "cell_type": "code",
   "execution_count": 44,
   "id": "8c06e43d",
   "metadata": {},
   "outputs": [
    {
     "data": {
      "text/plain": [
       "['kai', 'abe', 'ada', 'gus', 'zoe']"
      ]
     },
     "execution_count": 44,
     "metadata": {},
     "output_type": "execute_result"
    }
   ],
   "source": [
    "copy_of_finishers"
   ]
  },
  {
   "cell_type": "code",
   "execution_count": 45,
   "id": "d3a157ce",
   "metadata": {},
   "outputs": [],
   "source": [
    "copy_of_finishers.append(\"Ankit\")"
   ]
  },
  {
   "cell_type": "code",
   "execution_count": 46,
   "id": "c35552ee",
   "metadata": {},
   "outputs": [
    {
     "data": {
      "text/plain": [
       "['kai', 'abe', 'ada', 'gus', 'zoe', 'Ankit']"
      ]
     },
     "execution_count": 46,
     "metadata": {},
     "output_type": "execute_result"
    }
   ],
   "source": [
    "copy_of_finishers"
   ]
  },
  {
   "cell_type": "code",
   "execution_count": 47,
   "id": "94c8c964",
   "metadata": {},
   "outputs": [
    {
     "data": {
      "text/plain": [
       "['kai', 'abe', 'ada', 'gus', 'zoe']"
      ]
     },
     "execution_count": 47,
     "metadata": {},
     "output_type": "execute_result"
    }
   ],
   "source": [
    "finishers"
   ]
  },
  {
   "cell_type": "code",
   "execution_count": 48,
   "id": "d57bf807",
   "metadata": {},
   "outputs": [],
   "source": [
    "# Making a copy of a list \n",
    "finishers = ['kai', 'abe', 'ada', 'gus', 'zoe'] "
   ]
  },
  {
   "cell_type": "code",
   "execution_count": 49,
   "id": "8e6ee681",
   "metadata": {},
   "outputs": [],
   "source": [
    "copy_list = finishers\n",
    "copy_list.append(\"Ankit\")"
   ]
  },
  {
   "cell_type": "code",
   "execution_count": 50,
   "id": "9f91842a",
   "metadata": {},
   "outputs": [
    {
     "data": {
      "text/plain": [
       "['kai', 'abe', 'ada', 'gus', 'zoe', 'Ankit']"
      ]
     },
     "execution_count": 50,
     "metadata": {},
     "output_type": "execute_result"
    }
   ],
   "source": [
    "copy_list"
   ]
  },
  {
   "cell_type": "code",
   "execution_count": 51,
   "id": "f35eb459",
   "metadata": {},
   "outputs": [
    {
     "data": {
      "text/plain": [
       "['kai', 'abe', 'ada', 'gus', 'zoe', 'Ankit']"
      ]
     },
     "execution_count": 51,
     "metadata": {},
     "output_type": "execute_result"
    }
   ],
   "source": [
    "finishers # here we will see that original list affected by this method , to avoid it use [:]"
   ]
  },
  {
   "cell_type": "markdown",
   "id": "29f5c596",
   "metadata": {},
   "source": [
    "#### List Comprehensions\n",
    "\n",
    "can use a loop to generate a list based on a range of numbers or on another list. This is a common operation, so Python offers a more efficient way to do it. List comprehensions may look complicated at first; if so, use the for loop approach until you're ready to start using comprehensions. To write a comprehension, define an expression for the values you want to store in the list. Then write a for loop to generate input values needed to make the list. "
   ]
  },
  {
   "cell_type": "code",
   "execution_count": 52,
   "id": "33eb2cbc",
   "metadata": {},
   "outputs": [
    {
     "data": {
      "text/plain": [
       "[1, 4, 9, 16, 25, 36, 49, 64, 81, 100]"
      ]
     },
     "execution_count": 52,
     "metadata": {},
     "output_type": "execute_result"
    }
   ],
   "source": [
    "### Using a loop to generate a list of square numbers \n",
    "squares = [] \n",
    "for x in range(1, 11): \n",
    "    square = x**2 \n",
    "    squares.append(square)\n",
    "squares"
   ]
  },
  {
   "cell_type": "code",
   "execution_count": 53,
   "id": "4c3706b9",
   "metadata": {},
   "outputs": [
    {
     "data": {
      "text/plain": [
       "[1, 4, 9, 16, 25, 36, 49, 64, 81, 100]"
      ]
     },
     "execution_count": 53,
     "metadata": {},
     "output_type": "execute_result"
    }
   ],
   "source": [
    "# Using a comprehension to generate a list of square numbers \n",
    "\n",
    "squares = [x**2 for x in range(1, 11)]\n",
    "squares"
   ]
  },
  {
   "cell_type": "code",
   "execution_count": 54,
   "id": "2a5f8eb9",
   "metadata": {},
   "outputs": [
    {
     "data": {
      "text/plain": [
       "['KAI', 'ABE', 'ADA', 'GUS', 'ZOE']"
      ]
     },
     "execution_count": 54,
     "metadata": {},
     "output_type": "execute_result"
    }
   ],
   "source": [
    "# Using a loop to convert a list of names to upper case \n",
    "names = ['kai', 'abe', 'ada', 'gus', 'zoe'] \n",
    "upper_names = [] \n",
    "for name in names: \n",
    "    upper_names.append(name.upper()) \n",
    "upper_names"
   ]
  },
  {
   "cell_type": "code",
   "execution_count": 55,
   "id": "63259745",
   "metadata": {},
   "outputs": [
    {
     "data": {
      "text/plain": [
       "['KAI', 'ABE', 'ADA', 'GUS', 'ZOE']"
      ]
     },
     "execution_count": 55,
     "metadata": {},
     "output_type": "execute_result"
    }
   ],
   "source": [
    "# Using a comprehension to convert a list of names to upper case \n",
    "\n",
    "names = ['kai', 'abe', 'ada', 'gus', 'zoe'] \n",
    "upper_names = [name.upper() for name in names]\n",
    "\n",
    "upper_names"
   ]
  },
  {
   "cell_type": "markdown",
   "id": "ddec03a0",
   "metadata": {},
   "source": [
    "### Tuple\n",
    "\n",
    "A tuple is like a list, except you can't change the values in a tuple once it's defined. Tuples are good for storing information that shouldn't be changed throughout the life of a program. Tuples are designated by parentheses instead of square brackets. (You can overwrite an entire tuple, but you can't change the individual elements in a tuple.) "
   ]
  },
  {
   "cell_type": "code",
   "execution_count": 57,
   "id": "5711bea0",
   "metadata": {},
   "outputs": [
    {
     "name": "stdout",
     "output_type": "stream",
     "text": [
      "800\n",
      "600\n"
     ]
    }
   ],
   "source": [
    "# Defining a tuple \n",
    "dimensions = (800, 600) \n",
    "\n",
    "# Looping through a tuple \n",
    "\n",
    "for dimension in dimensions: \n",
    "    print(dimension) \n",
    "    "
   ]
  },
  {
   "cell_type": "code",
   "execution_count": 58,
   "id": "7f0e0b7b",
   "metadata": {},
   "outputs": [
    {
     "name": "stdout",
     "output_type": "stream",
     "text": [
      "(800, 600)\n"
     ]
    }
   ],
   "source": [
    "# Overwriting a tuple \n",
    "dimensions = (800, 600) \n",
    "\n",
    "print(dimensions) \n",
    "\n",
    "dimensions = (1200, 900)"
   ]
  },
  {
   "cell_type": "code",
   "execution_count": 59,
   "id": "b404b9e0",
   "metadata": {},
   "outputs": [
    {
     "data": {
      "text/plain": [
       "(1200, 900)"
      ]
     },
     "execution_count": 59,
     "metadata": {},
     "output_type": "execute_result"
    }
   ],
   "source": [
    "dimensions "
   ]
  },
  {
   "cell_type": "markdown",
   "id": "d638fffa",
   "metadata": {},
   "source": [
    "#### Visualising your code \n",
    "\n",
    "When you're first learning about data structures such as lists, it helps to visualize how Python is working with the information in your program. pythontutor.com is a great tool for seeing how Python keeps track of the information in a list. Try running the following code on pythontutor.com, and then run your own code."
   ]
  },
  {
   "cell_type": "code",
   "execution_count": 60,
   "id": "43eb0e41",
   "metadata": {},
   "outputs": [
    {
     "name": "stdout",
     "output_type": "stream",
     "text": [
      "Hello willie!\n",
      "Hello hootz!\n",
      "Hello peso!\n",
      "Hello goblin!\n",
      "I love these dogs!\n",
      "\n",
      "These were my first two dogs:\n"
     ]
    }
   ],
   "source": [
    "dogs = [] \n",
    "dogs.append('willie')\n",
    "dogs.append('hootz')\n",
    "dogs.append('peso') \n",
    "dogs.append('goblin') \n",
    "for dog in dogs: \n",
    "    print(\"Hello \" + dog + \"!\") \n",
    "    \n",
    "print(\"I love these dogs!\") \n",
    "print(\"\\nThese were my first two dogs:\") "
   ]
  },
  {
   "cell_type": "code",
   "execution_count": 61,
   "id": "fa8947ad",
   "metadata": {},
   "outputs": [
    {
     "name": "stdout",
     "output_type": "stream",
     "text": [
      "willie\n",
      "hootz\n"
     ]
    }
   ],
   "source": [
    "old_dogs = dogs[:2] \n",
    "\n",
    "for old_dog in old_dogs:\n",
    "    print(old_dog) \n",
    " "
   ]
  },
  {
   "cell_type": "code",
   "execution_count": 62,
   "id": "465de019",
   "metadata": {},
   "outputs": [
    {
     "name": "stdout",
     "output_type": "stream",
     "text": [
      "['hootz', 'goblin']\n"
     ]
    }
   ],
   "source": [
    "\n",
    "del dogs[0] \n",
    "dogs.remove('peso') \n",
    "print(dogs)"
   ]
  },
  {
   "cell_type": "markdown",
   "id": "a1c0b754",
   "metadata": {},
   "source": [
    "### If Statement\n",
    "If statements are used to test for particular conditions and respond appropriately."
   ]
  },
  {
   "cell_type": "markdown",
   "id": "1d6cea0d",
   "metadata": {},
   "source": [
    "#### Conditional tests \n",
    "\n",
    "equals x == 42 \n",
    "\n",
    "not equal x != 42 \n",
    "\n",
    "greater than x > 42\n",
    "\n",
    "or equal to x >= 42 \n",
    "\n",
    "less than x < 42 \n",
    "\n",
    "or equal to x <= 42"
   ]
  },
  {
   "cell_type": "markdown",
   "id": "d6092d45",
   "metadata": {},
   "source": [
    "#### Conditional test with lists \n",
    "\n",
    "'trek' in bikes \n",
    "\n",
    "'surly' not in bikes \n",
    "\n",
    "#### Assigning boolean values \n",
    "game_active = True \n",
    "\n",
    "can_edit = False \n",
    "\n",
    "#### A simple if test \n",
    "if age >= 18:\n",
    "\n",
    "    print(\"You can vote!\")\n",
    "    \n",
    "#### If-elif-else statements \n",
    "if age < 4: \n",
    "\n",
    "    ticket_price = 0 \n",
    "    \n",
    "elif age < 18: \n",
    "\n",
    "    ticket_price = 10 \n",
    "    \n",
    "else: ticket_price = 15"
   ]
  },
  {
   "cell_type": "markdown",
   "id": "b4860eb8",
   "metadata": {},
   "source": [
    "### Dictionary\n",
    "\n",
    "Python's dictionaries allow you to connect pieces of related information. Each piece of information in a dictionary is stored as a key-value pair. When you provide a key, Python returns the value associated with that key. You can loop through all the key-value pairs, all the keys, or all the values."
   ]
  },
  {
   "cell_type": "code",
   "execution_count": 63,
   "id": "a26b5b98",
   "metadata": {},
   "outputs": [],
   "source": [
    "# Making a dictionary \n",
    "\n",
    "alien_0 = {'color': 'green', 'points': 5}"
   ]
  },
  {
   "cell_type": "code",
   "execution_count": 64,
   "id": "d7a50c92",
   "metadata": {},
   "outputs": [
    {
     "name": "stdout",
     "output_type": "stream",
     "text": [
      "green\n",
      "5\n"
     ]
    }
   ],
   "source": [
    "print(alien_0['color']) \n",
    "print(alien_0['points'])"
   ]
  },
  {
   "cell_type": "markdown",
   "id": "74c92b97",
   "metadata": {},
   "source": [
    "To access the value associated with an individual key give the name of the dictionary and then place the key in a set of square brackets. If the key you're asking for is not in the dictionary, an error will occur. You can also use the get() method, which returns None instead of an error if the key doesn't exist. You can also specify a default value to use if the key is not in the dictionary."
   ]
  },
  {
   "cell_type": "code",
   "execution_count": 65,
   "id": "7a5ec7bc",
   "metadata": {},
   "outputs": [
    {
     "name": "stdout",
     "output_type": "stream",
     "text": [
      "green\n",
      "0\n"
     ]
    }
   ],
   "source": [
    "alien_0 = {'color': 'green'}\n",
    "alien_color = alien_0.get('color') \n",
    "alien_points = alien_0.get('points', 0) \n",
    "\n",
    "print(alien_color) \n",
    "print(alien_points)"
   ]
  },
  {
   "cell_type": "code",
   "execution_count": 66,
   "id": "784c9afb",
   "metadata": {},
   "outputs": [
    {
     "name": "stdout",
     "output_type": "stream",
     "text": [
      "Ankit Shukla\n",
      "\n",
      "1135840018\n"
     ]
    }
   ],
   "source": [
    "dict1 = {\"name\":\"Ankit Shukla\", \"Roll Number\": 1135840018}\n",
    "print(dict1.get(\"name\"))\n",
    "print()\n",
    "print(dict1.get(\"Roll Number\"))"
   ]
  },
  {
   "cell_type": "markdown",
   "id": "0a06bfb8",
   "metadata": {},
   "source": [
    "#### Adding a new Key Value Pairs\n",
    "\n",
    "You can store as many key-value pairs as you want in a dictionary, until your computer runs out of memory. To add a new key-value pair to an existing dictionary give the name of the dictionary and the new key in square brackets, and set it equal to the new value. This also allows you to start with an empty dictionary and add key-value pairs as they become relevant."
   ]
  },
  {
   "cell_type": "code",
   "execution_count": 68,
   "id": "96f875ff",
   "metadata": {},
   "outputs": [
    {
     "name": "stdout",
     "output_type": "stream",
     "text": [
      "{'color': 'green', 'points': 5, 'x': 0, 'y': 25, 'speed': 1.5}\n"
     ]
    }
   ],
   "source": [
    "# Adding a key-value pair\n",
    "alien_0 = {'color': 'green', 'points': 5} \n",
    "\n",
    "alien_0['x'] = 0 \n",
    "alien_0['y'] = 25 \n",
    "alien_0['speed'] = 1.5 \n",
    "\n",
    "print(alien_0)"
   ]
  },
  {
   "cell_type": "code",
   "execution_count": 69,
   "id": "f0cadfd6",
   "metadata": {},
   "outputs": [
    {
     "data": {
      "text/plain": [
       "{'color': 'green', 'points': 5}"
      ]
     },
     "execution_count": 69,
     "metadata": {},
     "output_type": "execute_result"
    }
   ],
   "source": [
    "# Adding to an empty dictionary \n",
    "alien_0= {} \n",
    "\n",
    "alien_0['color'] = 'green' \n",
    "alien_0['points'] = 5\n",
    "\n",
    "alien_0"
   ]
  },
  {
   "cell_type": "code",
   "execution_count": 70,
   "id": "5628c422",
   "metadata": {},
   "outputs": [
    {
     "data": {
      "text/plain": [
       "{1: 'green', 'points': 5}"
      ]
     },
     "execution_count": 70,
     "metadata": {},
     "output_type": "execute_result"
    }
   ],
   "source": [
    "alien_0= {} \n",
    "\n",
    "alien_0[1] = 'green' \n",
    "alien_0['points'] = 5\n",
    "\n",
    "alien_0"
   ]
  },
  {
   "cell_type": "code",
   "execution_count": 71,
   "id": "269fe967",
   "metadata": {},
   "outputs": [
    {
     "data": {
      "text/plain": [
       "{'points': 5, 1: 'green'}"
      ]
     },
     "execution_count": 71,
     "metadata": {},
     "output_type": "execute_result"
    }
   ],
   "source": [
    "alien_0= {} \n",
    "\n",
    "alien_0['points'] = 5\n",
    "alien_0[1] = 'green' \n",
    "\n",
    "\n",
    "alien_0\n",
    "# hence we clearly noticed that when we added a new value in dict it added it at the last (right)"
   ]
  },
  {
   "cell_type": "markdown",
   "id": "4e5d19a4",
   "metadata": {},
   "source": [
    "#### Modifying Values \n",
    "\n",
    "You can modify the value associated with any key in a dictionary. To do so give the name of the dictionary and enclose the key in square brackets, then provide the new value for that key."
   ]
  },
  {
   "cell_type": "code",
   "execution_count": 72,
   "id": "f21147de",
   "metadata": {},
   "outputs": [
    {
     "name": "stdout",
     "output_type": "stream",
     "text": [
      "{'color': 'green', 'points': 5}\n"
     ]
    }
   ],
   "source": [
    "### Modifying values in a dictionary \n",
    "\n",
    "alien_0 = {'color': 'green', 'points': 5}\n",
    "print(alien_0)"
   ]
  },
  {
   "cell_type": "code",
   "execution_count": 73,
   "id": "6190fea5",
   "metadata": {},
   "outputs": [
    {
     "name": "stdout",
     "output_type": "stream",
     "text": [
      "{'color': 'yellow', 'points': 10}\n"
     ]
    }
   ],
   "source": [
    "# Change the alien's color and point value. \n",
    "alien_0['color'] = 'yellow' \n",
    "alien_0['points'] = 10 \n",
    "print(alien_0)"
   ]
  },
  {
   "cell_type": "markdown",
   "id": "11321e08",
   "metadata": {},
   "source": [
    "#### Removing Key-Value pair \n",
    "You can remove any key-value pair you want from a dictionary. To do so use the del keyword and the dictionary name, followed by the key in square brackets. This will delete the key and its associated value."
   ]
  },
  {
   "cell_type": "code",
   "execution_count": 74,
   "id": "0d33813e",
   "metadata": {},
   "outputs": [
    {
     "name": "stdout",
     "output_type": "stream",
     "text": [
      "{'color': 'green', 'points': 5}\n",
      "{'color': 'green'}\n"
     ]
    }
   ],
   "source": [
    "# Deleting a key-value pair \n",
    "\n",
    "alien_0 = {'color': 'green', 'points': 5} \n",
    "print(alien_0) \n",
    "del alien_0['points'] \n",
    "print(alien_0)"
   ]
  },
  {
   "cell_type": "markdown",
   "id": "bccc0ce1",
   "metadata": {},
   "source": [
    "### Looping through a dictionary\n",
    "You can loop through a dictionary in three ways: you can loop through all the key-value pairs, all the keys, or all the values. A dictionary only tracks the connections between keys and values; it doesn't track the order of items in the dictionary. If you want to process the information in order, you can sort the keys in your loop. Looping through all key-value pairs \n",
    "    "
   ]
  },
  {
   "cell_type": "code",
   "execution_count": 75,
   "id": "73c7ad31",
   "metadata": {},
   "outputs": [
    {
     "name": "stdout",
     "output_type": "stream",
     "text": [
      "jen: python\n",
      "sarah: c\n",
      "edward: ruby\n",
      "phil: python\n"
     ]
    }
   ],
   "source": [
    "# Store people's favorite languages. \n",
    "fav_languages = { 'jen': 'python', 'sarah': 'c', 'edward': 'ruby', 'phil': 'python', }\n",
    "\n",
    "# Show each person's favorite language. \n",
    "for name, language in fav_languages.items(): \n",
    "    print(name + \": \" + language) \n",
    "    "
   ]
  },
  {
   "cell_type": "code",
   "execution_count": 76,
   "id": "5182e851",
   "metadata": {},
   "outputs": [
    {
     "name": "stdout",
     "output_type": "stream",
     "text": [
      "jen\n",
      "sarah\n",
      "edward\n",
      "phil\n"
     ]
    }
   ],
   "source": [
    "# Looping through all the keys \n",
    "# Show everyone who's taken the survey. \n",
    "\n",
    "for name in fav_languages.keys(): \n",
    "    print(name) "
   ]
  },
  {
   "cell_type": "code",
   "execution_count": 77,
   "id": "52450a9c",
   "metadata": {},
   "outputs": [
    {
     "name": "stdout",
     "output_type": "stream",
     "text": [
      "python\n",
      "c\n",
      "ruby\n",
      "python\n"
     ]
    }
   ],
   "source": [
    "    \n",
    "# Looping through all the values \n",
    "# Show all the languages that have been chosen. \n",
    "\n",
    "for language in fav_languages.values(): \n",
    "    print(language) \n",
    "    "
   ]
  },
  {
   "cell_type": "code",
   "execution_count": 78,
   "id": "0dacef15",
   "metadata": {},
   "outputs": [
    {
     "name": "stdout",
     "output_type": "stream",
     "text": [
      "edward: python\n",
      "jen: python\n",
      "phil: python\n",
      "sarah: python\n"
     ]
    }
   ],
   "source": [
    "# Looping through all the keys in order \n",
    "# Show each person's favorite language, \n",
    "# in order by the person's name.\n",
    "\n",
    "for name in sorted(fav_languages.keys()): \n",
    "    print(name + \": \" + language)"
   ]
  },
  {
   "cell_type": "code",
   "execution_count": 79,
   "id": "14c2eaf1",
   "metadata": {},
   "outputs": [
    {
     "data": {
      "text/plain": [
       "4"
      ]
     },
     "execution_count": 79,
     "metadata": {},
     "output_type": "execute_result"
    }
   ],
   "source": [
    "# Finding a dictionary's length \n",
    "num_responses = len(fav_languages)\n",
    "num_responses"
   ]
  },
  {
   "cell_type": "markdown",
   "id": "73dd40da",
   "metadata": {},
   "source": [
    "### Nesting - A list of dictionaries\n",
    "\n",
    "It's sometimes useful to store a set of dictionaries in a list; this is called nesting. Storing dictionaries in a list"
   ]
  },
  {
   "cell_type": "code",
   "execution_count": 80,
   "id": "5c16f44c",
   "metadata": {},
   "outputs": [
    {
     "data": {
      "text/plain": [
       "[{'last': 'fermi', 'first': 'enrico', 'username': 'efermi'}]"
      ]
     },
     "execution_count": 80,
     "metadata": {},
     "output_type": "execute_result"
    }
   ],
   "source": [
    "# Start with an empty list. \n",
    "\n",
    "users = [] \n",
    "\n",
    "# Make a new user, and add them to the list. \n",
    "\n",
    "new_user = { 'last': 'fermi', 'first': 'enrico', 'username': 'efermi', } \n",
    "\n",
    "users.append(new_user) \n",
    "\n",
    "users"
   ]
  },
  {
   "cell_type": "code",
   "execution_count": 81,
   "id": "249f85e8",
   "metadata": {},
   "outputs": [
    {
     "data": {
      "text/plain": [
       "[{'last': 'fermi', 'first': 'enrico', 'username': 'efermi'},\n",
       " {'last': 'curie', 'first': 'marie', 'username': 'mcurie'}]"
      ]
     },
     "execution_count": 81,
     "metadata": {},
     "output_type": "execute_result"
    }
   ],
   "source": [
    "# Make another new user, and add them as well. \n",
    "new_user = { 'last': 'curie', 'first': 'marie', 'username': 'mcurie', } \n",
    "\n",
    "users.append(new_user)\n",
    "\n",
    "users"
   ]
  },
  {
   "cell_type": "code",
   "execution_count": 82,
   "id": "1a41d085",
   "metadata": {},
   "outputs": [
    {
     "name": "stdout",
     "output_type": "stream",
     "text": [
      "last: fermi\n",
      "\n",
      "\n",
      "first: enrico\n",
      "\n",
      "\n",
      "username: efermi\n",
      "\n",
      "\n",
      "last: curie\n",
      "\n",
      "\n",
      "first: marie\n",
      "\n",
      "\n",
      "username: mcurie\n",
      "\n",
      "\n"
     ]
    }
   ],
   "source": [
    "# Show all information about each user. \n",
    "\n",
    "for user_dict in users:\n",
    "    for k, v in user_dict.items(): \n",
    "        print(k + \": \" + v) \n",
    "        print(\"\\n\") \n",
    "        "
   ]
  },
  {
   "cell_type": "code",
   "execution_count": 83,
   "id": "ba6ac0d4",
   "metadata": {},
   "outputs": [
    {
     "name": "stdout",
     "output_type": "stream",
     "text": [
      "last: fermi\n",
      "\n",
      "\n",
      "first: enrico\n",
      "\n",
      "\n",
      "username: efermi\n",
      "\n",
      "\n",
      "last: curie\n",
      "\n",
      "\n",
      "first: marie\n",
      "\n",
      "\n",
      "username: mcurie\n",
      "\n",
      "\n"
     ]
    }
   ],
   "source": [
    "# You can also define a list of dictionaries directly, without using append():\n",
    "\n",
    "# Define a list of users, where each user \n",
    "# is represented by a dictionary. \n",
    "\n",
    "users = [ { 'last': 'fermi', 'first': 'enrico', 'username': 'efermi', }, { 'last': 'curie', 'first': 'marie', 'username': 'mcurie', }, ] \n",
    "# Show all information about each user.\n",
    "\n",
    "for user_dict in users: \n",
    "    for k, v in user_dict.items(): \n",
    "        print(k + \": \" + v) \n",
    "        print(\"\\n\")"
   ]
  },
  {
   "cell_type": "code",
   "execution_count": 84,
   "id": "5efbe4d4",
   "metadata": {},
   "outputs": [],
   "source": [
    "# Storing lists in a dictionary \n",
    "# Store multiple languages for each person. \n",
    "fav_languages = { 'jen': ['python', 'ruby'], 'sarah': ['c'], 'edward': ['ruby', 'go'], 'phil': ['python', 'haskell'], } "
   ]
  },
  {
   "cell_type": "code",
   "execution_count": 85,
   "id": "8a864b57",
   "metadata": {},
   "outputs": [
    {
     "name": "stdout",
     "output_type": "stream",
     "text": [
      "jen: \n",
      "- python\n",
      "- ruby\n",
      "sarah: \n",
      "- c\n",
      "edward: \n",
      "- ruby\n",
      "- go\n",
      "phil: \n",
      "- python\n",
      "- haskell\n"
     ]
    }
   ],
   "source": [
    "# Show all responses for each person.\n",
    "for name, langs in fav_languages.items(): \n",
    "    print(name + \": \") \n",
    "    for lang in langs: \n",
    "        print(\"- \" + lang)\n"
   ]
  },
  {
   "cell_type": "code",
   "execution_count": 87,
   "id": "72496864",
   "metadata": {},
   "outputs": [
    {
     "name": "stdout",
     "output_type": "stream",
     "text": [
      "\n",
      "Username: aeinstein\n",
      "\tFull name: Albert Einstein\n",
      "\tLocation: Princeton\n",
      "\n",
      "Username: mcurie\n",
      "\tFull name: Marie Curie\n",
      "\tLocation: Paris\n"
     ]
    }
   ],
   "source": [
    "# Storing dictionaries in a dictionary \n",
    "users = { 'aeinstein': { 'first': 'albert', 'last': 'einstein', 'location': 'princeton', }, 'mcurie': { 'first': 'marie', 'last': 'curie', 'location': 'paris', }, } \n",
    "\n",
    "for username, user_dict in users.items():\n",
    "    \n",
    "    print(\"\\nUsername: \" + username) \n",
    "    \n",
    "    full_name = user_dict['first'] + \" \" \n",
    "    full_name += user_dict['last']    \n",
    "    location = user_dict['location'] \n",
    "    print(\"\\tFull name: \" + full_name.title()) \n",
    "    print(\"\\tLocation: \" + location.title())"
   ]
  },
  {
   "cell_type": "markdown",
   "id": "64aff561",
   "metadata": {},
   "source": [
    "#### Using an OrderedDict\n",
    "Standard Python dictionaries don't keep track of the order in which keys and values are added; they only preserve the association between each key and its value. If you want to preserve the order in which keys and values are added, use an OrderedDict."
   ]
  },
  {
   "cell_type": "code",
   "execution_count": 88,
   "id": "96a33421",
   "metadata": {},
   "outputs": [],
   "source": [
    "# Preserving the order of keys and values \n",
    "\n",
    "from collections import OrderedDict \n",
    "\n",
    "# Store each person's languages, keeping track of who respoded first.\n",
    "\n",
    "fav_languages = OrderedDict() \n",
    "\n",
    "fav_languages['jen'] = ['python', 'ruby'] \n",
    "fav_languages['sarah'] = ['c'] \n",
    "fav_languages['edward'] = ['ruby', 'go'] \n",
    "fav_languages['phil'] = ['python', 'haskell'] "
   ]
  },
  {
   "cell_type": "code",
   "execution_count": 89,
   "id": "e34ffd23",
   "metadata": {},
   "outputs": [
    {
     "name": "stdout",
     "output_type": "stream",
     "text": [
      "jen:\n",
      "- python\n",
      "- ruby\n",
      "sarah:\n",
      "- c\n",
      "edward:\n",
      "- ruby\n",
      "- go\n",
      "phil:\n",
      "- python\n",
      "- haskell\n"
     ]
    }
   ],
   "source": [
    "# Display the results, in the same order they were entered.\n",
    "\n",
    "for name, langs in fav_languages.items():\n",
    "    print(name + \":\") \n",
    "    for lang in langs: \n",
    "        print(\"- \" + lang)"
   ]
  },
  {
   "cell_type": "markdown",
   "id": "bdcf876c",
   "metadata": {},
   "source": [
    "##### Creating a million Dictionaries\n",
    "You can use a loop to generate a large number of dictionaries efficiently, if all the dictionaries start out with similar data. "
   ]
  },
  {
   "cell_type": "code",
   "execution_count": 90,
   "id": "fb70acb1",
   "metadata": {},
   "outputs": [
    {
     "name": "stdout",
     "output_type": "stream",
     "text": [
      "Number of aliens created:\n",
      "1000000\n"
     ]
    }
   ],
   "source": [
    "# A million aliens \n",
    "\n",
    "aliens = [] \n",
    "# Make a million green aliens, worth 5 points\n",
    "# each. Have them all start in one row. \n",
    "\n",
    "for alien_num in range(1000000): \n",
    "    new_alien = {} \n",
    "    new_alien['color'] = 'green' \n",
    "    new_alien['points'] = 5 \n",
    "    new_alien['x'] = 20 * alien_num \n",
    "    new_alien['y'] = 0 \n",
    "    aliens.append(new_alien)\n",
    "    \n",
    "# Prove the list contains a million aliens. \n",
    "    \n",
    "num_aliens = len(aliens) \n",
    "    \n",
    "print(\"Number of aliens created:\") \n",
    "print(num_aliens)"
   ]
  },
  {
   "cell_type": "markdown",
   "id": "bbe28e83",
   "metadata": {},
   "source": [
    "Dictionaries store connections between pieces of information. Each item in a dictionary is a key-value pair."
   ]
  },
  {
   "cell_type": "markdown",
   "id": "b45a40dc",
   "metadata": {},
   "source": [
    "#### A simple dictionary \n",
    "\n",
    "alien = {'color': 'green', 'points': 5} \n",
    "\n",
    "#### Accessing a value \n",
    "\n",
    "print(\"The alien's color is \" + alien['color']) \n",
    "\n",
    "#### Adding a new key-value pair \n",
    "\n",
    "alien['x_position'] = 0 \n",
    "\n",
    "#### Looping through all key-value pairs \n",
    "\n",
    "fav_numbers = {'eric': 17, 'ever': 4} \n",
    "\n",
    "for name, number in fav_numbers.items():\n",
    "    \n",
    "    print(name + ' loves ' + str(number)) \n",
    "    \n",
    "#### Looping through all keys \n",
    "\n",
    "fav_numbers = {'eric': 17, 'ever': 4} \n",
    "\n",
    "for name in fav_numbers.keys():\n",
    "    \n",
    "    print(name + ' loves a number') \n",
    "    \n",
    "#### Looping through all the values \n",
    "\n",
    "fav_numbers = {'eric': 17, 'ever': 4} \n",
    "\n",
    "for number in fav_numbers.values():\n",
    "    \n",
    "    print(str(number) + ' is a favorite')"
   ]
  },
  {
   "cell_type": "markdown",
   "id": "26739ed9",
   "metadata": {},
   "source": [
    "### User Inputs\n",
    "\n",
    "Your programs can prompt the user for input. All input is stored as a string."
   ]
  },
  {
   "cell_type": "code",
   "execution_count": 94,
   "id": "1aca4443",
   "metadata": {},
   "outputs": [
    {
     "name": "stdout",
     "output_type": "stream",
     "text": [
      "What's your name?:  ankit shukla\n",
      "Hello, Ankit Shukla!\n"
     ]
    }
   ],
   "source": [
    "#### Prompting for a value \n",
    "\n",
    "name = input(\"What's your name?:  \") \n",
    "\n",
    "print(\"Hello, \" + name.title() + \"!\") "
   ]
  },
  {
   "cell_type": "code",
   "execution_count": 95,
   "id": "7ec42ec9",
   "metadata": {},
   "outputs": [
    {
     "name": "stdout",
     "output_type": "stream",
     "text": [
      "How old are you? 29\n",
      "You are 29 year's old\n"
     ]
    }
   ],
   "source": [
    "#### Prompting for numerical input\n",
    "\n",
    "age = input(\"How old are you? \") \n",
    "\n",
    "age = int(age) \n",
    "\n",
    "print(f\"You are {age} year's old\")"
   ]
  },
  {
   "cell_type": "code",
   "execution_count": 96,
   "id": "b5eccaf8",
   "metadata": {},
   "outputs": [
    {
     "name": "stdout",
     "output_type": "stream",
     "text": [
      "What's the value of pi? 3.14\n",
      "The PI value you enterd : 3.14\n"
     ]
    }
   ],
   "source": [
    "pi = input(\"What's the value of pi? \") \n",
    "\n",
    "pi = float(pi)\n",
    "print(f\"The PI value you enterd : {pi}\")"
   ]
  },
  {
   "cell_type": "markdown",
   "id": "dc735625",
   "metadata": {},
   "source": [
    "###  If Statement \n",
    "\n",
    "\n",
    "If statements allow you to examine the current state of a program and respond appropriately to that state. You can write a simple if statement that checks one condition, or you can create a complex series of if statements that idenitfy the exact conditions you're looking for. \n",
    "\n",
    "###  While Loops\n",
    "\n",
    "While loops run as long as certain conditions remain true. You can use while loops to let your programs run as long as your users want them to"
   ]
  },
  {
   "cell_type": "code",
   "execution_count": 97,
   "id": "5f5ec2f5",
   "metadata": {},
   "outputs": [
    {
     "name": "stdout",
     "output_type": "stream",
     "text": [
      "1 2 3 4 5 "
     ]
    }
   ],
   "source": [
    "#### A simple while loop \n",
    "\n",
    "current_value = 1 \n",
    "while current_value <= 5: \n",
    "    print(current_value, end = \" \")\n",
    "    current_value += 1 \n",
    "    "
   ]
  },
  {
   "cell_type": "code",
   "execution_count": 98,
   "id": "4c2ce80a",
   "metadata": {},
   "outputs": [
    {
     "name": "stdout",
     "output_type": "stream",
     "text": [
      "What's your message? hello\n",
      "hello\n",
      "What's your message? ji\n",
      "ji\n",
      "What's your message? nothing\n",
      "nothing\n",
      "What's your message? quit\n",
      "quit\n"
     ]
    }
   ],
   "source": [
    "#### Letting the user choose when to quit \n",
    "\n",
    "msg = '' \n",
    "\n",
    "while msg.lower() != 'quit':\n",
    "    msg = input(\"What's your message? \") \n",
    "    print(msg)"
   ]
  },
  {
   "cell_type": "code",
   "execution_count": 99,
   "id": "fcc4a9b8",
   "metadata": {},
   "outputs": [
    {
     "data": {
      "text/plain": [
       "True"
      ]
     },
     "execution_count": 99,
     "metadata": {},
     "output_type": "execute_result"
    }
   ],
   "source": [
    "#### Conditional Tests\n",
    "\n",
    "car = 'bmw'\n",
    "car == 'bmw'"
   ]
  },
  {
   "cell_type": "code",
   "execution_count": 100,
   "id": "7c223cf3",
   "metadata": {},
   "outputs": [
    {
     "data": {
      "text/plain": [
       "False"
      ]
     },
     "execution_count": 100,
     "metadata": {},
     "output_type": "execute_result"
    }
   ],
   "source": [
    "car = 'audi'\n",
    "car == 'bmw'"
   ]
  },
  {
   "cell_type": "code",
   "execution_count": 101,
   "id": "2457f952",
   "metadata": {},
   "outputs": [
    {
     "data": {
      "text/plain": [
       "True"
      ]
     },
     "execution_count": 101,
     "metadata": {},
     "output_type": "execute_result"
    }
   ],
   "source": [
    "# Ignoring case when making a comparision\n",
    "car  = 'Audi'\n",
    "\n",
    "car.lower() == 'audi'"
   ]
  },
  {
   "cell_type": "code",
   "execution_count": 102,
   "id": "c3f8ec2e",
   "metadata": {},
   "outputs": [
    {
     "data": {
      "text/plain": [
       "True"
      ]
     },
     "execution_count": 102,
     "metadata": {},
     "output_type": "execute_result"
    }
   ],
   "source": [
    "# Ckecking for inequality \n",
    "\n",
    "topping = 'mushrooms'\n",
    "topping != 'mango'"
   ]
  },
  {
   "cell_type": "code",
   "execution_count": 103,
   "id": "88dc246d",
   "metadata": {},
   "outputs": [
    {
     "data": {
      "text/plain": [
       "True"
      ]
     },
     "execution_count": 103,
     "metadata": {},
     "output_type": "execute_result"
    }
   ],
   "source": [
    "# test ing equality and inequality \n",
    "\n",
    "age = 18\n",
    "age == 18"
   ]
  },
  {
   "cell_type": "code",
   "execution_count": 104,
   "id": "9d947c70",
   "metadata": {},
   "outputs": [
    {
     "data": {
      "text/plain": [
       "True"
      ]
     },
     "execution_count": 104,
     "metadata": {},
     "output_type": "execute_result"
    }
   ],
   "source": [
    "# Comparision operators\n",
    "\n",
    "age = 19\n",
    "age < 21\n"
   ]
  },
  {
   "cell_type": "code",
   "execution_count": 105,
   "id": "ec7ae96c",
   "metadata": {},
   "outputs": [
    {
     "data": {
      "text/plain": [
       "False"
      ]
     },
     "execution_count": 105,
     "metadata": {},
     "output_type": "execute_result"
    }
   ],
   "source": [
    "age > 21\n"
   ]
  },
  {
   "cell_type": "code",
   "execution_count": 106,
   "id": "b31e9a5a",
   "metadata": {},
   "outputs": [
    {
     "data": {
      "text/plain": [
       "False"
      ]
     },
     "execution_count": 106,
     "metadata": {},
     "output_type": "execute_result"
    }
   ],
   "source": [
    "age>= 21"
   ]
  },
  {
   "cell_type": "code",
   "execution_count": 107,
   "id": "628d0b2b",
   "metadata": {},
   "outputs": [
    {
     "data": {
      "text/plain": [
       "False"
      ]
     },
     "execution_count": 107,
     "metadata": {},
     "output_type": "execute_result"
    }
   ],
   "source": [
    "# Checking multiple conditions\n",
    "\n",
    "age1 = 22\n",
    "age2 = 18\n",
    "\n",
    "age1>= 21 and age2>= 21"
   ]
  },
  {
   "cell_type": "code",
   "execution_count": 108,
   "id": "1d3f6299",
   "metadata": {},
   "outputs": [
    {
     "data": {
      "text/plain": [
       "True"
      ]
     },
     "execution_count": 108,
     "metadata": {},
     "output_type": "execute_result"
    }
   ],
   "source": [
    "age2 = 23\n",
    "\n",
    "age1 >=21 and age2>=21"
   ]
  },
  {
   "cell_type": "code",
   "execution_count": 109,
   "id": "b5700b28",
   "metadata": {},
   "outputs": [
    {
     "name": "stdout",
     "output_type": "stream",
     "text": [
      "You're old enough to vote!\n"
     ]
    }
   ],
   "source": [
    "# if statement\n",
    "\n",
    "# Simple if statement \n",
    "age = 19 \n",
    "if age >= 18:\n",
    "    print(\"You're old enough to vote!\") \n",
    "    "
   ]
  },
  {
   "cell_type": "code",
   "execution_count": 110,
   "id": "da89ee73",
   "metadata": {},
   "outputs": [
    {
     "name": "stdout",
     "output_type": "stream",
     "text": [
      "You can't vote yet.\n"
     ]
    }
   ],
   "source": [
    "# If-else statements \n",
    "age = 17 \n",
    "if age >= 18: \n",
    "    print(\"You're old enough to vote!\") \n",
    "else: \n",
    "    print(\"You can't vote yet.\") \n",
    "    \n",
    "    "
   ]
  },
  {
   "cell_type": "code",
   "execution_count": 111,
   "id": "4003344f",
   "metadata": {},
   "outputs": [
    {
     "name": "stdout",
     "output_type": "stream",
     "text": [
      "Your cost is $5.\n"
     ]
    }
   ],
   "source": [
    "# The if-elif-else chain \n",
    "age = 12 \n",
    "if age < 4: \n",
    "    price = 0\n",
    "elif age < 18: \n",
    "    price = 5 \n",
    "else: \n",
    "    price = 10 \n",
    "\n",
    "print(\"Your cost is $\" + str(price) + \".\")"
   ]
  },
  {
   "cell_type": "code",
   "execution_count": 112,
   "id": "67f49679",
   "metadata": {},
   "outputs": [
    {
     "data": {
      "text/plain": [
       "True"
      ]
     },
     "execution_count": 112,
     "metadata": {},
     "output_type": "execute_result"
    }
   ],
   "source": [
    "players = ['al', 'bea', 'cyn', 'dale']\n",
    "'al' in players"
   ]
  },
  {
   "cell_type": "code",
   "execution_count": 113,
   "id": "8bb9ee90",
   "metadata": {},
   "outputs": [
    {
     "data": {
      "text/plain": [
       "False"
      ]
     },
     "execution_count": 113,
     "metadata": {},
     "output_type": "execute_result"
    }
   ],
   "source": [
    "'eric' in players "
   ]
  },
  {
   "cell_type": "code",
   "execution_count": 114,
   "id": "4b87ad73",
   "metadata": {},
   "outputs": [
    {
     "name": "stdout",
     "output_type": "stream",
     "text": [
      "Please enter the user name: Ankit\n",
      "You can play!\n"
     ]
    }
   ],
   "source": [
    "# Testing if a value is not in a list \n",
    "banned_users = ['ann', 'chad', 'dee']\n",
    "user =input(\"Please enter the user name: \") \n",
    "\n",
    "if user not in banned_users: \n",
    "    print(\"You can play!\")\n",
    "else:\n",
    "    print(\"You cann't apply\")"
   ]
  },
  {
   "cell_type": "code",
   "execution_count": 116,
   "id": "0eb8e262",
   "metadata": {},
   "outputs": [
    {
     "name": "stdout",
     "output_type": "stream",
     "text": [
      "We have no players yet!\n"
     ]
    }
   ],
   "source": [
    "players = []\n",
    "\n",
    "if players:\n",
    "    for player in players:\n",
    "        print(\"Player: \" + player.title())\n",
    "        \n",
    "else: print(\"We have no players yet!\")"
   ]
  },
  {
   "cell_type": "code",
   "execution_count": 117,
   "id": "f290fc84",
   "metadata": {},
   "outputs": [
    {
     "name": "stdout",
     "output_type": "stream",
     "text": [
      "Player: Ankit\n"
     ]
    }
   ],
   "source": [
    "players = [\"ankit\"]\n",
    "\n",
    "if players:\n",
    "    for player in players:\n",
    "        print(\"Player: \" + player.title())\n",
    "        \n",
    "else: print(\"We have no players yet!\")"
   ]
  },
  {
   "cell_type": "code",
   "execution_count": 120,
   "id": "7167e9dd",
   "metadata": {},
   "outputs": [
    {
     "name": "stdout",
     "output_type": "stream",
     "text": [
      "What's your name? ankit shukla\n",
      "Hello, Ankit Shukla.\n"
     ]
    }
   ],
   "source": [
    "# Simple input \n",
    "name = input(\"What's your name? \") \n",
    "print(\"Hello, \" + name.title() + \".\")"
   ]
  },
  {
   "cell_type": "code",
   "execution_count": 121,
   "id": "11262887",
   "metadata": {},
   "outputs": [
    {
     "name": "stdout",
     "output_type": "stream",
     "text": [
      "How old are you? 25\n",
      "\n",
      "You can vote!\n"
     ]
    }
   ],
   "source": [
    "# Accepting numerical input \n",
    "age = input(\"How old are you? \") \n",
    "age = int(age) \n",
    "\n",
    "if age >= 18: \n",
    "    print(\"\\nYou can vote!\")\n",
    "    \n",
    "else: print(\"\\nYou can't vote yet.\")"
   ]
  },
  {
   "cell_type": "markdown",
   "id": "0e5baef3",
   "metadata": {},
   "source": [
    "#### While loops"
   ]
  },
  {
   "cell_type": "code",
   "execution_count": 122,
   "id": "dedfa83d",
   "metadata": {},
   "outputs": [
    {
     "name": "stdout",
     "output_type": "stream",
     "text": [
      "1 2 3 4 5 "
     ]
    }
   ],
   "source": [
    "current_number = 1 \n",
    "\n",
    "while current_number <= 5: \n",
    "    print(current_number, end = \" \") \n",
    "    current_number += 1"
   ]
  },
  {
   "cell_type": "code",
   "execution_count": 123,
   "id": "a8ba3f30",
   "metadata": {},
   "outputs": [
    {
     "name": "stdout",
     "output_type": "stream",
     "text": [
      "\n",
      "Tell me something, and I'll repeat it back to you.\n",
      "Enter 'quit' to end the program. 155\n",
      "155\n",
      "\n",
      "Tell me something, and I'll repeat it back to you.\n",
      "Enter 'quit' to end the program. 4646\n",
      "4646\n",
      "\n",
      "Tell me something, and I'll repeat it back to you.\n",
      "Enter 'quit' to end the program. quit\n"
     ]
    }
   ],
   "source": [
    "# Letting the user choose when to quit \n",
    "prompt = \"\\nTell me something, and I'll \"\n",
    "prompt += \"repeat it back to you.\" \n",
    "prompt += \"\\nEnter 'quit' to end the program. \"\n",
    "\n",
    "message = \"\"\n",
    "\n",
    "while message.lower() != 'quit':\n",
    "    message = input(prompt) \n",
    "    \n",
    "    if message != 'quit': \n",
    "        print(message)"
   ]
  },
  {
   "cell_type": "code",
   "execution_count": 170,
   "id": "23e37c24",
   "metadata": {},
   "outputs": [
    {
     "name": "stdout",
     "output_type": "stream",
     "text": [
      "\n",
      "Tell me something, and I'll repeat it back to you.\n",
      "Enter 'quit' to end the program. f\n",
      "f\n",
      "\n",
      "Tell me something, and I'll repeat it back to you.\n",
      "Enter 'quit' to end the program. quit\n"
     ]
    }
   ],
   "source": [
    "# Use a flag  \n",
    "prompt = \"\\nTell me something, and I'll \" \n",
    "prompt += \"repeat it back to you.\"\n",
    "prompt += \"\\nEnter 'quit' to end the program. \" \n",
    "\n",
    "active = True \n",
    "\n",
    "while active: \n",
    "    message = input(prompt) \n",
    "    \n",
    "    if message.lower() == 'quit': \n",
    "        active = False \n",
    "        \n",
    "    else: \n",
    "        print(message)"
   ]
  },
  {
   "cell_type": "code",
   "execution_count": 171,
   "id": "78dfd4b9",
   "metadata": {},
   "outputs": [
    {
     "name": "stdout",
     "output_type": "stream",
     "text": [
      "\n",
      "What cities have you visited?\n",
      "Enter 'quit' when you're done. mumbai\n",
      "I've been to mumbai!\n",
      "\n",
      "What cities have you visited?\n",
      "Enter 'quit' when you're done. quit\n"
     ]
    }
   ],
   "source": [
    "# Using break to exit a loop \n",
    "prompt = \"\\nWhat cities have you visited?\" \n",
    "prompt += \"\\nEnter 'quit' when you're done. \"\n",
    "\n",
    "while True: \n",
    "    city = input(prompt) \n",
    "    if city == 'quit':\n",
    "        break \n",
    "    else: \n",
    "        print(\"I've been to \" + city + \"!\")"
   ]
  },
  {
   "cell_type": "code",
   "execution_count": 175,
   "id": "fa94148f",
   "metadata": {},
   "outputs": [
    {
     "name": "stdout",
     "output_type": "stream",
     "text": [
      "\n",
      "Add a player to your team.\n",
      "Enter 'quit' when you're done. a\n",
      "a is added in your team \n",
      "\n",
      "Add a player to your team.\n",
      "Enter 'quit' when you're done. b\n",
      "b is added in your team \n",
      "\n",
      "Add a player to your team.\n",
      "Enter 'quit' when you're done. f\n",
      "f is added in your team \n",
      "\n",
      "Add a player to your team.\n",
      "Enter 'quit' when you're done. eve\n",
      "eve is banned!\n",
      "\n",
      "Add a player to your team.\n",
      "Enter 'quit' when you're done. quit\n",
      "\n",
      "Your team list\n",
      "1  -  a\n",
      "2  -  b\n",
      "3  -  f\n"
     ]
    }
   ],
   "source": [
    "# Using continue in a loop\n",
    "\n",
    "banned_users = ['eve', 'fred', 'gary', 'helen'] \n",
    "\n",
    "prompt = \"\\nAdd a player to your team.\" \n",
    "prompt += \"\\nEnter 'quit' when you're done. \" \n",
    "\n",
    "players = [] \n",
    "\n",
    "while True:\n",
    "    player = input(prompt) \n",
    "    if player.lower() == 'quit': \n",
    "        break \n",
    "    elif player in banned_users: \n",
    "        print(player + \" is banned!\") \n",
    "        continue \n",
    "    else: \n",
    "        players.append(player)\n",
    "        print(f\"{player} is added in your team \") \n",
    "        \n",
    "print(\"\\nYour team list\")   \n",
    "for num, player in enumerate(players, 1):\n",
    "    print(num, \" - \" ,player)"
   ]
  },
  {
   "cell_type": "code",
   "execution_count": null,
   "id": "7ba2f36b",
   "metadata": {},
   "outputs": [],
   "source": []
  },
  {
   "cell_type": "code",
   "execution_count": null,
   "id": "742518bc",
   "metadata": {},
   "outputs": [],
   "source": [
    "while num != num.isnum()"
   ]
  },
  {
   "cell_type": "code",
   "execution_count": 167,
   "id": "14b6aa5e",
   "metadata": {},
   "outputs": [
    {
     "name": "stdout",
     "output_type": "stream",
     "text": [
      "Enter an integer number: j\n",
      "Please input integer only...\n",
      "Enter an integer number: 5\n",
      "num: 5\n"
     ]
    }
   ],
   "source": [
    "# input a number\n",
    "while True:\n",
    "    try:\n",
    "        num = int(input(\"Enter an integer number: \"))\n",
    "        break\n",
    "    except ValueError:\n",
    "        print(\"Please input integer only...\") \n",
    "        continue\n",
    "\n",
    "print(\"num:\", num)"
   ]
  },
  {
   "cell_type": "code",
   "execution_count": 169,
   "id": "64d60a2e",
   "metadata": {},
   "outputs": [
    {
     "name": "stdout",
     "output_type": "stream",
     "text": [
      "Enter 1st integer number: f\n",
      "Please input integer only...\n",
      "Enter 1st integer number: 5\n",
      "Enter 2nd integer number: y\n",
      "Please input integer only...\n",
      "Enter 1st integer number: 8\n",
      "Enter 2nd integer number: 5\n",
      "Sum of the numbers : 13\n"
     ]
    }
   ],
   "source": [
    "while True:\n",
    "    try:\n",
    "        num1 = int(input(\"Enter 1st integer number: \"))\n",
    "        num2 = int(input(\"Enter 2nd integer number: \"))\n",
    "        break\n",
    "    except ValueError:\n",
    "        print(\"Please input integer only...\") \n",
    "        continue\n",
    "print(\"Sum of the numbers :\" , num1 + num2)"
   ]
  },
  {
   "cell_type": "code",
   "execution_count": null,
   "id": "3c9d2e42",
   "metadata": {},
   "outputs": [],
   "source": []
  },
  {
   "cell_type": "markdown",
   "id": "db0f2ca2",
   "metadata": {},
   "source": [
    "### Functions\n",
    "\n",
    "Functions are named blocks of code, designed to do one specific job. Information passed to a function is called an argument, and information received by a function is called a parameter."
   ]
  },
  {
   "cell_type": "code",
   "execution_count": 22,
   "id": "0cd4fd82",
   "metadata": {},
   "outputs": [
    {
     "name": "stdout",
     "output_type": "stream",
     "text": [
      "Hello!\n"
     ]
    }
   ],
   "source": [
    "#### A simple function\n",
    "\n",
    "def greet_user(): \n",
    "    \"\"\"Display a simple greeting.\"\"\" \n",
    "    print(\"Hello!\")\n",
    "    \n",
    "greet_user() "
   ]
  },
  {
   "cell_type": "code",
   "execution_count": 23,
   "id": "65c8a003",
   "metadata": {},
   "outputs": [
    {
     "name": "stdout",
     "output_type": "stream",
     "text": [
      "Hello, jesse!\n"
     ]
    }
   ],
   "source": [
    "#### Passing an argument \n",
    "\n",
    "def greet_user(username): \n",
    "    \"\"\"Display a personalized greeting.\"\"\" \n",
    "    print(\"Hello, \" + username + \"!\") \n",
    "    \n",
    "greet_user('jesse')"
   ]
  },
  {
   "cell_type": "code",
   "execution_count": 24,
   "id": "cf5c7f0d",
   "metadata": {},
   "outputs": [
    {
     "name": "stdout",
     "output_type": "stream",
     "text": [
      "Have a bacon pizza!\n"
     ]
    }
   ],
   "source": [
    "#### Default values for parameters \n",
    "\n",
    "\n",
    "def make_pizza(topping='bacon'):\n",
    "    \n",
    "    \"\"\"Make a single-topping pizza.\"\"\" \n",
    "    \n",
    "    print(\"Have a \" + topping + \" pizza!\") \n",
    "    \n",
    "make_pizza()"
   ]
  },
  {
   "cell_type": "code",
   "execution_count": 25,
   "id": "d4231d89",
   "metadata": {},
   "outputs": [
    {
     "name": "stdout",
     "output_type": "stream",
     "text": [
      "Have a pepperoni pizza!\n"
     ]
    }
   ],
   "source": [
    "make_pizza('pepperoni') "
   ]
  },
  {
   "cell_type": "code",
   "execution_count": 26,
   "id": "fab12af8",
   "metadata": {},
   "outputs": [
    {
     "name": "stdout",
     "output_type": "stream",
     "text": [
      "8\n"
     ]
    }
   ],
   "source": [
    "#### Returning a value \n",
    "\n",
    "def add_numbers(x, y): \n",
    "    \"\"\"Add two numbers and return the sum.\"\"\" \n",
    "    \n",
    "    return x + y \n",
    "\n",
    "Sum = add_numbers(3, 5) \n",
    "\n",
    "print(Sum)"
   ]
  },
  {
   "cell_type": "markdown",
   "id": "8df5e3af",
   "metadata": {},
   "source": [
    "#### Classes\n",
    "\n",
    "A class defines the behavior of an object and the kind of information an object can store. The information in a class is stored in attributes, and functions that belong to a class are called methods. A child class inherits the attributes and methods from its parent class. "
   ]
  },
  {
   "cell_type": "code",
   "execution_count": 27,
   "id": "168c0c80",
   "metadata": {},
   "outputs": [
    {
     "name": "stdout",
     "output_type": "stream",
     "text": [
      "Peso is a great dog!\n",
      "Peso is sitting.\n"
     ]
    }
   ],
   "source": [
    "#### Creating a dog class \n",
    "\n",
    "class Dog(): \n",
    "    \"\"\"Represent a dog.\"\"\"\n",
    "    def __init__(self, name):\n",
    "        \"\"\"Initialize dog object.\"\"\" \n",
    "        self.name = name \n",
    "    def sit(self): \n",
    "        \"\"\"Simulate sitting.\"\"\" \n",
    "        print(self.name + \" is sitting.\")\n",
    "        \n",
    "my_dog = Dog('Peso') \n",
    "\n",
    "print(my_dog.name + \" is a great dog!\")\n",
    "\n",
    "my_dog.sit()"
   ]
  },
  {
   "cell_type": "code",
   "execution_count": 28,
   "id": "eba936a3",
   "metadata": {},
   "outputs": [
    {
     "name": "stdout",
     "output_type": "stream",
     "text": [
      "Willie is a search dog.\n",
      "Willie is sitting.\n",
      "Willie is searching.\n"
     ]
    }
   ],
   "source": [
    "#### Inheritance \n",
    "\n",
    "class SARDog(Dog): \n",
    "    \"\"\"Represent a search dog.\"\"\" \n",
    "    \n",
    "    def __init__(self, name): \n",
    "        \"\"\"Initialize the sardog.\"\"\" \n",
    "        super().__init__(name) \n",
    "        \n",
    "    def search(self): \n",
    "        \"\"\"Simulate searching.\"\"\" \n",
    "        print(self.name + \" is searching.\")\n",
    "        \n",
    "        \n",
    "my_dog = SARDog('Willie') \n",
    "\n",
    "print(my_dog.name + \" is a search dog.\")\n",
    "\n",
    "my_dog.sit() \n",
    "\n",
    "my_dog.search()"
   ]
  },
  {
   "cell_type": "markdown",
   "id": "09cbbc0f",
   "metadata": {},
   "source": [
    "### Working with files\n",
    "\n",
    "Your programs can read from files and write to files. Files are opened in read mode ('r') by default, but can also be opened in write mode ('w') and append mode ('a'). "
   ]
  },
  {
   "cell_type": "code",
   "execution_count": 29,
   "id": "2a025140",
   "metadata": {},
   "outputs": [
    {
     "name": "stdout",
     "output_type": "stream",
     "text": [
      "My name is Ankit Shukla.\n",
      "\n",
      "I love coding in Python\n",
      "\n",
      "I am enjoying my Data Science Learning using Python.\n"
     ]
    }
   ],
   "source": [
    "#### Reading a file and storing its lines \n",
    "filename = 'test.txt' \n",
    "\n",
    "with open(filename) as file_object:\n",
    "    lines = file_object.readlines()\n",
    "    \n",
    "for line in lines: \n",
    "    print(line) \n",
    "    \n",
    "    "
   ]
  },
  {
   "cell_type": "code",
   "execution_count": 30,
   "id": "d44437bf",
   "metadata": {},
   "outputs": [],
   "source": [
    "#### Writing to a file \n",
    "\n",
    "filename = 'journal.txt'\n",
    "\n",
    "with open(filename, 'w')as file_object:\n",
    "    file_object.write(\"I love programming.\")\n",
    "    file_object.close()\n",
    "    \n",
    "    "
   ]
  },
  {
   "cell_type": "code",
   "execution_count": 31,
   "id": "59b857ab",
   "metadata": {},
   "outputs": [],
   "source": [
    "#### Appending to a file \n",
    "\n",
    "filename = 'journal.txt' \n",
    "\n",
    "with open(filename, 'a') as file_object:\n",
    "    \n",
    "    file_object.write(\"\\nI love making games.\")\n",
    "    file_object.close()"
   ]
  },
  {
   "cell_type": "code",
   "execution_count": 32,
   "id": "224181c4",
   "metadata": {},
   "outputs": [
    {
     "name": "stdout",
     "output_type": "stream",
     "text": [
      "I love programming.\n",
      "\n",
      "I love making games.\n"
     ]
    }
   ],
   "source": [
    "#### Now we should check whether it got appended or not \n",
    "\n",
    "filename = \"journal.txt\"\n",
    "\n",
    "with open(filename) as file_object:\n",
    "    lines = file_object.readlines()\n",
    "    file_object.close()\n",
    "\n",
    "for line in lines:\n",
    "    print(line)\n",
    "    "
   ]
  },
  {
   "cell_type": "markdown",
   "id": "e0827eba",
   "metadata": {},
   "source": [
    "As we can see that our file got appened by append method"
   ]
  },
  {
   "cell_type": "markdown",
   "id": "f183f7a0",
   "metadata": {},
   "source": [
    "#### Exceptions\n",
    "\n",
    "Exceptions help you respond appropriately to errors that are likely to occur. You place code that might cause an error in the try block. Code that should run in response to an error goes in the except block. Code that should run only if the try block was successful goes in the else block. "
   ]
  },
  {
   "cell_type": "code",
   "execution_count": 6,
   "id": "2dec58f7",
   "metadata": {},
   "outputs": [
    {
     "name": "stdout",
     "output_type": "stream",
     "text": [
      "How many tickets do you need? 5\n",
      "Your tickets are printing.\n"
     ]
    }
   ],
   "source": [
    "#### Catching an exception \n",
    "\n",
    "prompt = \"How many tickets do you need? \" \n",
    "\n",
    "num_tickets = input(prompt) \n",
    "\n",
    "try: num_tickets = int(num_tickets) \n",
    "    \n",
    "except ValueError: \n",
    "    \n",
    "    print(\"Please try again.\") \n",
    "    \n",
    "else: print(\"Your tickets are printing.\")"
   ]
  },
  {
   "cell_type": "markdown",
   "id": "a5ba69f2",
   "metadata": {},
   "source": [
    "#### Kernel in Operating System\n",
    "\n",
    "Last Updated : 28 Jul, 2020\n",
    "\n",
    "Kernel is central component of an operating system that manages operations of computer and hardware. It basically manages operations of memory and CPU time. It is core component of an operating system. Kernel acts as a bridge between applications and data processing performed at hardware level using inter-process communication and system calls"
   ]
  },
  {
   "cell_type": "code",
   "execution_count": null,
   "id": "007f5629",
   "metadata": {},
   "outputs": [],
   "source": []
  }
 ],
 "metadata": {
  "kernelspec": {
   "display_name": "Python 3 (ipykernel)",
   "language": "python",
   "name": "python3"
  },
  "language_info": {
   "codemirror_mode": {
    "name": "ipython",
    "version": 3
   },
   "file_extension": ".py",
   "mimetype": "text/x-python",
   "name": "python",
   "nbconvert_exporter": "python",
   "pygments_lexer": "ipython3",
   "version": "3.7.8"
  }
 },
 "nbformat": 4,
 "nbformat_minor": 5
}

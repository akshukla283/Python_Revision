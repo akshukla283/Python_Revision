{
 "cells": [
  {
   "cell_type": "code",
   "execution_count": 11,
   "id": "b2af7d64",
   "metadata": {},
   "outputs": [
    {
     "name": "stdout",
     "output_type": "stream",
     "text": [
      "Please enter the Number: 5\n"
     ]
    },
    {
     "data": {
      "text/plain": [
       "120"
      ]
     },
     "execution_count": 11,
     "metadata": {},
     "output_type": "execute_result"
    }
   ],
   "source": [
    "# factorial - iterative method \n",
    "\n",
    "def factorial(num):\n",
    "    if num <0:\n",
    "        return 0\n",
    "    elif num == 0 or num == 1:\n",
    "        return 1\n",
    "    else:\n",
    "        fact = 1\n",
    "        while num>1:\n",
    "            fact *= num\n",
    "            num -=1\n",
    "        return fact\n",
    "num = int(input(\"Please enter the Number: \"))\n",
    "factorial(num)\n",
    "    "
   ]
  },
  {
   "cell_type": "code",
   "execution_count": 1,
   "id": "177b473d",
   "metadata": {},
   "outputs": [
    {
     "name": "stdout",
     "output_type": "stream",
     "text": [
      "Please enter the number: 0\n"
     ]
    },
    {
     "data": {
      "text/plain": [
       "1"
      ]
     },
     "execution_count": 1,
     "metadata": {},
     "output_type": "execute_result"
    }
   ],
   "source": [
    "# factorial recursive method \n",
    "\n",
    "def factorial(num):\n",
    "    return 1 if (num == 1 or num== 0) else num*factorial(num -1)\n",
    "num = int(input(\"Please enter the number: \"))\n",
    "factorial(num)"
   ]
  },
  {
   "cell_type": "code",
   "execution_count": 3,
   "id": "224da9b7",
   "metadata": {},
   "outputs": [
    {
     "name": "stdout",
     "output_type": "stream",
     "text": [
      "please enter the number: \n",
      "5\n",
      "Factorial of your number is : 120\n"
     ]
    }
   ],
   "source": [
    "## math built in method \n",
    "import math \n",
    "\n",
    "def factorial(n):\n",
    "    return (math.factorial(n))\n",
    "# Lets check \n",
    "number = int(input(\"please enter the number: \\n\"))\n",
    "print(f\"Factorial of your number is : {factorial(number)}\")"
   ]
  },
  {
   "cell_type": "code",
   "execution_count": 8,
   "id": "de36bbe6",
   "metadata": {},
   "outputs": [
    {
     "name": "stdout",
     "output_type": "stream",
     "text": [
      "Please enter the number: 4\n",
      "Not Prime\n"
     ]
    }
   ],
   "source": [
    "# Prime number \n",
    "\n",
    "def check_prime(n):\n",
    "    \n",
    "    if n>1:\n",
    "        for i in range(2, n):\n",
    "            if n%i == 0:\n",
    "                print(\"Not Prime\")\n",
    "                break\n",
    "        else :\n",
    "            print(\"Prime\")\n",
    "            \n",
    "    else:\n",
    "        print(\"Not Prime \")\n",
    "        \n",
    "n = int(input(\"Please enter the number: \"))\n",
    "check_prime(n)\n",
    "    "
   ]
  },
  {
   "cell_type": "code",
   "execution_count": 17,
   "id": "05e2c22b",
   "metadata": {},
   "outputs": [
    {
     "name": "stdout",
     "output_type": "stream",
     "text": [
      "Please enter the number 27\n"
     ]
    },
    {
     "data": {
      "text/plain": [
       "19683"
      ]
     },
     "execution_count": 17,
     "metadata": {},
     "output_type": "execute_result"
    }
   ],
   "source": [
    "def root(n):\n",
    "    return n**3\n",
    "n = int(input(\"Please enter the number \"))\n",
    "root(n)"
   ]
  },
  {
   "cell_type": "code",
   "execution_count": 1,
   "id": "4f4ba2a3",
   "metadata": {},
   "outputs": [
    {
     "name": "stdout",
     "output_type": "stream",
     "text": [
      "ab\n",
      "cd\n"
     ]
    }
   ],
   "source": [
    "s = [\"ab\", \"cd\"]\n",
    "for i in s:\n",
    "    i.upper()\n",
    "    print(i)"
   ]
  },
  {
   "cell_type": "code",
   "execution_count": 24,
   "id": "b101008d",
   "metadata": {},
   "outputs": [
    {
     "name": "stdout",
     "output_type": "stream",
     "text": [
      "cd\n"
     ]
    }
   ],
   "source": [
    "s = [\"ab\", \"cd\"]\n",
    "for i in s:\n",
    "    i.upper()\n",
    "print(i)"
   ]
  },
  {
   "cell_type": "code",
   "execution_count": 3,
   "id": "5a8fe32f",
   "metadata": {},
   "outputs": [
    {
     "name": "stdout",
     "output_type": "stream",
     "text": [
      "AB\n",
      "CD\n"
     ]
    }
   ],
   "source": [
    "s = [\"ab\", \"cd\"]\n",
    "for i in s:\n",
    "    print(i.upper())\n",
    "    "
   ]
  },
  {
   "cell_type": "markdown",
   "id": "b5b549e1",
   "metadata": {},
   "source": [
    "### Find the second highest in the list"
   ]
  },
  {
   "cell_type": "code",
   "execution_count": 4,
   "id": "5411dfaf",
   "metadata": {},
   "outputs": [],
   "source": [
    "lst = [9,9,9,8,8,8,8,1,1,1,2,2,2,0,0,0,3,3,3,3]\n",
    "lst.sort()"
   ]
  },
  {
   "cell_type": "code",
   "execution_count": 5,
   "id": "d4971187",
   "metadata": {},
   "outputs": [
    {
     "data": {
      "text/plain": [
       "[0, 0, 0, 1, 1, 1, 2, 2, 2, 3, 3, 3, 3, 8, 8, 8, 8, 9, 9, 9]"
      ]
     },
     "execution_count": 5,
     "metadata": {},
     "output_type": "execute_result"
    }
   ],
   "source": [
    "lst"
   ]
  },
  {
   "cell_type": "code",
   "execution_count": 6,
   "id": "23898be0",
   "metadata": {},
   "outputs": [
    {
     "data": {
      "text/plain": [
       "{0, 1, 2, 3, 8, 9}"
      ]
     },
     "execution_count": 6,
     "metadata": {},
     "output_type": "execute_result"
    }
   ],
   "source": [
    "set(lst)"
   ]
  },
  {
   "cell_type": "code",
   "execution_count": 9,
   "id": "1d232a2e",
   "metadata": {},
   "outputs": [
    {
     "data": {
      "text/plain": [
       "8"
      ]
     },
     "execution_count": 9,
     "metadata": {},
     "output_type": "execute_result"
    }
   ],
   "source": [
    "list(set(lst))[-2]"
   ]
  },
  {
   "cell_type": "code",
   "execution_count": 12,
   "id": "f954af80",
   "metadata": {},
   "outputs": [
    {
     "data": {
      "text/plain": [
       "8"
      ]
     },
     "execution_count": 12,
     "metadata": {},
     "output_type": "execute_result"
    }
   ],
   "source": [
    "lst = [9,9,9,8,8,8,8,1,1,1,2,2,2,0,0,0,3,3,3,3]\n",
    "lst.sort()\n",
    "list(set(lst))[-2]"
   ]
  },
  {
   "cell_type": "code",
   "execution_count": 23,
   "id": "c2ea1a8a",
   "metadata": {},
   "outputs": [
    {
     "name": "stdout",
     "output_type": "stream",
     "text": [
      "[9, 8, 3, 2, 1, 0]\n",
      "Second largest number of the given list : 8\n"
     ]
    }
   ],
   "source": [
    "l = [9,9,9,8,8,8,8,1,1,1,2,2,2,0,0,0,3,3,3,3] \n",
    "l2 = set(l) \n",
    "l3 = list(l2) \n",
    "l3.sort(reverse=True) \n",
    "print(l3) \n",
    "print(\"Second largest number of the given list :\", l3[1])"
   ]
  },
  {
   "cell_type": "markdown",
   "id": "5e434fc2",
   "metadata": {},
   "source": [
    "### Replace Method \n",
    "\n",
    "string.replace(oldvalue, newvalue, count)"
   ]
  },
  {
   "cell_type": "code",
   "execution_count": 16,
   "id": "68d8a412",
   "metadata": {},
   "outputs": [
    {
     "name": "stdout",
     "output_type": "stream",
     "text": [
      "I like apples apples apples\n"
     ]
    }
   ],
   "source": [
    "txt = \"I like bananas bananas bananas\"\n",
    "\n",
    "x = txt.replace(\"bananas\", \"apples\",)\n",
    "\n",
    "print(x)"
   ]
  },
  {
   "cell_type": "code",
   "execution_count": 17,
   "id": "535c1d30",
   "metadata": {},
   "outputs": [
    {
     "name": "stdout",
     "output_type": "stream",
     "text": [
      "I like apples apples bananas\n"
     ]
    }
   ],
   "source": [
    "txt = \"I like bananas bananas bananas\"\n",
    "\n",
    "x = txt.replace(\"bananas\", \"apples\",2)\n",
    "\n",
    "print(x)"
   ]
  },
  {
   "cell_type": "code",
   "execution_count": 14,
   "id": "a37b0dbd",
   "metadata": {},
   "outputs": [
    {
     "name": "stdout",
     "output_type": "stream",
     "text": [
      "k$$$$$\n"
     ]
    }
   ],
   "source": [
    "txt = \"kartik\"\n",
    "\n",
    "x = txt.replace(\"kartik\", \"k$$$$$\")\n",
    "\n",
    "print(x)"
   ]
  },
  {
   "cell_type": "code",
   "execution_count": 15,
   "id": "fc55f089",
   "metadata": {},
   "outputs": [
    {
     "name": "stdout",
     "output_type": "stream",
     "text": [
      "three three was a race horse, two two was three too.\n"
     ]
    }
   ],
   "source": [
    "txt = \"one one was a race horse, two two was one too.\"\n",
    "\n",
    "x = txt.replace(\"one\", \"three\")\n",
    "\n",
    "print(x)"
   ]
  },
  {
   "cell_type": "code",
   "execution_count": 26,
   "id": "2aa711e3",
   "metadata": {},
   "outputs": [
    {
     "ename": "NameError",
     "evalue": "name 'self' is not defined",
     "output_type": "error",
     "traceback": [
      "\u001b[1;31m---------------------------------------------------------------------------\u001b[0m",
      "\u001b[1;31mNameError\u001b[0m                                 Traceback (most recent call last)",
      "\u001b[1;32m~\\AppData\\Local\\Temp/ipykernel_1036/1017222266.py\u001b[0m in \u001b[0;36m<module>\u001b[1;34m\u001b[0m\n\u001b[0;32m      2\u001b[0m     \u001b[0mx\u001b[0m \u001b[1;33m=\u001b[0m \u001b[1;36m2\u001b[0m\u001b[1;33m\u001b[0m\u001b[1;33m\u001b[0m\u001b[0m\n\u001b[0;32m      3\u001b[0m \u001b[1;33m\u001b[0m\u001b[0m\n\u001b[1;32m----> 4\u001b[1;33m \u001b[1;32mclass\u001b[0m \u001b[0mChild1\u001b[0m\u001b[1;33m(\u001b[0m\u001b[0mParent\u001b[0m\u001b[1;33m)\u001b[0m\u001b[1;33m:\u001b[0m\u001b[1;33m\u001b[0m\u001b[1;33m\u001b[0m\u001b[0m\n\u001b[0m\u001b[0;32m      5\u001b[0m     \u001b[0mself\u001b[0m\u001b[1;33m.\u001b[0m\u001b[0mx\u001b[0m \u001b[1;33m=\u001b[0m \u001b[0mx\u001b[0m\u001b[1;33m\u001b[0m\u001b[1;33m\u001b[0m\u001b[0m\n\u001b[0;32m      6\u001b[0m \u001b[1;33m\u001b[0m\u001b[0m\n",
      "\u001b[1;32m~\\AppData\\Local\\Temp/ipykernel_1036/1017222266.py\u001b[0m in \u001b[0;36mChild1\u001b[1;34m()\u001b[0m\n\u001b[0;32m      3\u001b[0m \u001b[1;33m\u001b[0m\u001b[0m\n\u001b[0;32m      4\u001b[0m \u001b[1;32mclass\u001b[0m \u001b[0mChild1\u001b[0m\u001b[1;33m(\u001b[0m\u001b[0mParent\u001b[0m\u001b[1;33m)\u001b[0m\u001b[1;33m:\u001b[0m\u001b[1;33m\u001b[0m\u001b[1;33m\u001b[0m\u001b[0m\n\u001b[1;32m----> 5\u001b[1;33m     \u001b[0mself\u001b[0m\u001b[1;33m.\u001b[0m\u001b[0mx\u001b[0m \u001b[1;33m=\u001b[0m \u001b[0mx\u001b[0m\u001b[1;33m\u001b[0m\u001b[1;33m\u001b[0m\u001b[0m\n\u001b[0m\u001b[0;32m      6\u001b[0m \u001b[1;33m\u001b[0m\u001b[0m\n\u001b[0;32m      7\u001b[0m \u001b[1;32mclass\u001b[0m \u001b[0mChild2\u001b[0m\u001b[1;33m(\u001b[0m\u001b[0mParent\u001b[0m\u001b[1;33m)\u001b[0m\u001b[1;33m:\u001b[0m\u001b[1;33m\u001b[0m\u001b[1;33m\u001b[0m\u001b[0m\n",
      "\u001b[1;31mNameError\u001b[0m: name 'self' is not defined"
     ]
    }
   ],
   "source": [
    "class Parent:\n",
    "    x = 2\n",
    "    \n",
    "class Child1(Parent):\n",
    "    self.x = x\n",
    "    \n",
    "class Child2(Parent):\n",
    "    self.x = x\n",
    "    \n",
    "child = Child2()\n",
    "child.x = 3\n",
    "\n",
    "print(Child2.self.x)"
   ]
  },
  {
   "cell_type": "code",
   "execution_count": 1,
   "id": "9a175bec",
   "metadata": {},
   "outputs": [
    {
     "name": "stdout",
     "output_type": "stream",
     "text": [
      "15\n"
     ]
    }
   ],
   "source": [
    "def outer_function(a, b): \n",
    "    def inner_function(c, d): \n",
    "        return c + d \n",
    "    return inner_function(a, b) \n",
    "  \n",
    "result = outer_function(5, 10) \n",
    "print(result)"
   ]
  },
  {
   "cell_type": "code",
   "execution_count": null,
   "id": "a1d3a22e",
   "metadata": {},
   "outputs": [],
   "source": []
  }
 ],
 "metadata": {
  "kernelspec": {
   "display_name": "Python 3 (ipykernel)",
   "language": "python",
   "name": "python3"
  },
  "language_info": {
   "codemirror_mode": {
    "name": "ipython",
    "version": 3
   },
   "file_extension": ".py",
   "mimetype": "text/x-python",
   "name": "python",
   "nbconvert_exporter": "python",
   "pygments_lexer": "ipython3",
   "version": "3.7.8"
  }
 },
 "nbformat": 4,
 "nbformat_minor": 5
}

{
 "cells": [
  {
   "cell_type": "markdown",
   "id": "10860a6a",
   "metadata": {},
   "source": [
    "#### Dictionary Sort Examples\n",
    "\n",
    "* Python dictionary sort by value\n",
    "\n",
    "* Python dictionary sort by key\n",
    "\n",
    "* Python dictionary sort by value descending\n",
    "\n",
    "* Python dictionary sort by value alphabetically\n",
    "\n",
    "* Python dictionary sort by key alphabetically\n",
    "\n",
    "* Python dictionary sort reverse\n",
    "\n",
    "* Python dictionary sort by key value\n",
    "\n",
    "* Python dictionary sort with lambda\n",
    "\n",
    "* Python dictionary sort by alphabetically\n",
    "\n",
    "* Python dictionary sort by value list\n",
    "\n",
    "* Python sort dictionary by value then key\n"
   ]
  },
  {
   "cell_type": "markdown",
   "id": "2fa7fad3",
   "metadata": {},
   "source": [
    "#### Built-in 'sorted()' function\n",
    "\n",
    "`In Python sorted() is the built-in function that can be helpful to sort all the iterables in Python dictionary.\n",
    "To sort the values and keys we can use the sorted() function. This sorted function will return a new list.`\n",
    "\n",
    "`syntax : sorted(iterable, key = None, reverse = Fasle)` \n",
    "\n",
    "\n",
    "\n",
    "#### It consists of few parameters\n",
    "\n",
    "#### iterable: \n",
    "`This function can be used on all iterables in a ascending order.`\n",
    "\n",
    "#### Key:\n",
    "`If you want to modify the sorting process then you can use this key function by default its value will be none.`\n",
    "\n",
    "#### reverse: \n",
    "`Here you can see reverse=False. It is for ascending order and if you want numbers in the descending order then you can set this reverse flag order as true`\n",
    "\n",
    "#### Note: \n",
    "`If you decide that you are not using the optional parameter key and reverse. Python will automatically sort the items in ascending order.`\n"
   ]
  },
  {
   "cell_type": "code",
   "execution_count": 1,
   "id": "3d6b924c",
   "metadata": {},
   "outputs": [
    {
     "name": "stdout",
     "output_type": "stream",
     "text": [
      "[1, 2, 6, 7, 8, 9]\n"
     ]
    }
   ],
   "source": [
    "my_dict = {6:'George' ,2:'John' ,1:'Potter' ,9:'Micheal' ,7:'Robert' ,8:'Gayle' }  \n",
    "\n",
    "b = sorted(my_dict.keys())\n",
    "print(b)"
   ]
  },
  {
   "cell_type": "code",
   "execution_count": 3,
   "id": "a931ccd9",
   "metadata": {},
   "outputs": [
    {
     "name": "stdout",
     "output_type": "stream",
     "text": [
      "['Gayle', 'George', 'John', 'Micheal', 'Potter', 'Robert']\n"
     ]
    }
   ],
   "source": [
    "c = sorted(my_dict.values())\n",
    "print(c)"
   ]
  },
  {
   "cell_type": "markdown",
   "id": "ba532ede",
   "metadata": {},
   "source": [
    "After writing the above code, we have to sort both values and keys available in the dictionary. In python, offers built-in functions keys() and items() to sort the dictionary. We can apply these function iterable as an argument and returns a new sorted list"
   ]
  },
  {
   "cell_type": "markdown",
   "id": "82084735",
   "metadata": {},
   "source": [
    "#### Check Python dictionary sort – Another approach\n",
    "\n",
    "`Suppose we have a dictionary in Python that contains the elements on our fruit menu. So now we want to sort the ordered dictionary in descending order of values and keys. In this example, we have to use the reverse argument and assign them values as true.`"
   ]
  },
  {
   "cell_type": "code",
   "execution_count": 4,
   "id": "97eace4c",
   "metadata": {},
   "outputs": [
    {
     "name": "stdout",
     "output_type": "stream",
     "text": [
      "Banana 900\n",
      "Cherry 700\n",
      "Grapes 400\n",
      "Mangoes 200\n"
     ]
    }
   ],
   "source": [
    "dict = {\"Mangoes\":200,\"Banana\":900,\"Cherry\":700,\"Grapes\":400} \n",
    "\n",
    "new_dict = sorted(dict.items(), key= lambda x:x[1], reverse = True)\n",
    "\n",
    "for i in new_dict:\n",
    "    print(i[0], i[1])"
   ]
  },
  {
   "cell_type": "code",
   "execution_count": 1,
   "id": "24e1ee98",
   "metadata": {},
   "outputs": [
    {
     "data": {
      "text/plain": [
       "{4: 'four', 1: 'one', 3: 'three', 2: 'two'}"
      ]
     },
     "execution_count": 1,
     "metadata": {},
     "output_type": "execute_result"
    }
   ],
   "source": [
    "my_dict = {1:\"one\", 2:\"two\", 3:\"three\", 4:\"four\"}\n",
    "\n",
    "new = dict(sorted(my_dict.items(), key= lambda x: x[1]))\n",
    "new"
   ]
  },
  {
   "cell_type": "code",
   "execution_count": null,
   "id": "4ae1f0cb",
   "metadata": {},
   "outputs": [],
   "source": [
    "# now let's explore this in details"
   ]
  },
  {
   "cell_type": "code",
   "execution_count": null,
   "id": "059a23ac",
   "metadata": {},
   "outputs": [],
   "source": []
  },
  {
   "cell_type": "code",
   "execution_count": 5,
   "id": "878dca43",
   "metadata": {},
   "outputs": [],
   "source": [
    "my_dict = {1:\"one\", 2:\"two\", 3:\"three\", 4:\"four\"}\n",
    "\n",
    "new = sorted(my_dict.items(), key= lambda x: x[1])\n"
   ]
  },
  {
   "cell_type": "code",
   "execution_count": 8,
   "id": "ce3977e5",
   "metadata": {},
   "outputs": [
    {
     "data": {
      "text/plain": [
       "[(4, 'four'), (1, 'one'), (3, 'three'), (2, 'two')]"
      ]
     },
     "execution_count": 8,
     "metadata": {},
     "output_type": "execute_result"
    }
   ],
   "source": [
    "new"
   ]
  },
  {
   "cell_type": "code",
   "execution_count": 12,
   "id": "c33b830c",
   "metadata": {},
   "outputs": [
    {
     "data": {
      "text/plain": [
       "[4, 3, 2, 1]"
      ]
     },
     "execution_count": 12,
     "metadata": {},
     "output_type": "execute_result"
    }
   ],
   "source": [
    "\n",
    "sorted(my_dict, reverse= True)"
   ]
  },
  {
   "cell_type": "code",
   "execution_count": 13,
   "id": "fc25798e",
   "metadata": {},
   "outputs": [
    {
     "name": "stdout",
     "output_type": "stream",
     "text": [
      "{4: 'four', 1: 'one', 3: 'three', 2: 'two'}\n"
     ]
    }
   ],
   "source": [
    "my_dict = {1:\"one\", 2:\"two\", 3:\"three\", 4:\"four\"}\n",
    "\n",
    "new = sorted(my_dict.items(), key= lambda x: x[1])\n",
    "\n",
    "new_dict = {}\n",
    "for i in new:\n",
    "    new_dict[i[0]] = i[1]\n",
    "    \n",
    "    \n",
    "print(new_dict)"
   ]
  },
  {
   "cell_type": "code",
   "execution_count": 2,
   "id": "edd6245e",
   "metadata": {},
   "outputs": [
    {
     "data": {
      "text/plain": [
       "{4: 'four', 1: 'one', 3: 'three', 2: 'two'}"
      ]
     },
     "execution_count": 2,
     "metadata": {},
     "output_type": "execute_result"
    }
   ],
   "source": [
    "my_dict = {1:\"one\", 2:\"two\", 3:\"three\", 4:\"four\"}\n",
    "\n",
    "new = dict(sorted(my_dict.items(), key= lambda x: x[1]))\n",
    "new\n"
   ]
  },
  {
   "cell_type": "code",
   "execution_count": null,
   "id": "3b72f438",
   "metadata": {},
   "outputs": [],
   "source": []
  },
  {
   "cell_type": "code",
   "execution_count": null,
   "id": "4091f8cf",
   "metadata": {},
   "outputs": [],
   "source": []
  },
  {
   "cell_type": "code",
   "execution_count": null,
   "id": "c4b96ac4",
   "metadata": {},
   "outputs": [],
   "source": []
  },
  {
   "cell_type": "markdown",
   "id": "66776ca8",
   "metadata": {},
   "source": [
    "###  Python dictionary sort by value\n",
    "* Now we can see how to sort a dictionary value in Python. By using the sorted() function you can sort the values of a dictionary.\n",
    "\n",
    "* In this example we can use items() and sorted() function to sort the values\n",
    "\n",
    "\n",
    "* In python dictionary there are various method to sort the values\n",
    "\n",
    "\n",
    "* Sort in Descending order\n",
    "* Sort in Ascending order"
   ]
  },
  {
   "cell_type": "code",
   "execution_count": 21,
   "id": "d2d87d95",
   "metadata": {},
   "outputs": [
    {
     "name": "stdout",
     "output_type": "stream",
     "text": [
      "Java  :  950\n",
      "Python  :  750\n",
      "Ruby  :  700\n",
      "C++  :  200\n"
     ]
    }
   ],
   "source": [
    "# Descending order\n",
    "dict = {\"Python\":750,\"Java\":950,\"Ruby\":700,\"C++\":200} \n",
    "sort_values = sorted(dict.items(), key = lambda x : x[1], reverse=True)\n",
    "\n",
    "for i in sort_values:\n",
    "    print(i[0],\" : \", i[1])"
   ]
  },
  {
   "cell_type": "code",
   "execution_count": 26,
   "id": "89ab2a5c",
   "metadata": {},
   "outputs": [],
   "source": [
    "my_dict = {\"Australia\":250,\"Germany\":950,\"France\":170,\"England\":150} \n",
    " \n",
    "new_list = sorted(my_dict.items(), key = lambda x:x[1])"
   ]
  },
  {
   "cell_type": "code",
   "execution_count": 27,
   "id": "d3b14acc",
   "metadata": {},
   "outputs": [
    {
     "data": {
      "text/plain": [
       "[('England', 150), ('France', 170), ('Australia', 250), ('Germany', 950)]"
      ]
     },
     "execution_count": 27,
     "metadata": {},
     "output_type": "execute_result"
    }
   ],
   "source": [
    "new_list"
   ]
  },
  {
   "cell_type": "code",
   "execution_count": 31,
   "id": "352dd712",
   "metadata": {},
   "outputs": [
    {
     "name": "stdout",
     "output_type": "stream",
     "text": [
      "{'England': 150, 'France': 170, 'Australia': 250, 'Germany': 950}\n"
     ]
    }
   ],
   "source": [
    "new = {}\n",
    "for i in new_list:\n",
    "    new[i[0]] = i[1]\n",
    "    \n",
    "    \n",
    "print(new)"
   ]
  },
  {
   "cell_type": "markdown",
   "id": "f7781762",
   "metadata": {},
   "source": [
    "#### Python Dictionary sort by key\n",
    "\n",
    "\n",
    "* Let us see how to sort a dictionary key in Python.\n",
    "\n",
    "* To sort dictionary key in python we can use dict.items() and sorted(iterable) method.\n",
    "\n",
    "* Dict.items() method returns an object that stores key-value pairs of dictionaries. The key-value pairs are contained as tuples in the object or items.\n",
    "\n",
    "* The sorted (iterable) method always returns the sorted list. This method sorts the no. of elements which is available in the given dictionary."
   ]
  },
  {
   "cell_type": "code",
   "execution_count": 32,
   "id": "0e137aee",
   "metadata": {},
   "outputs": [
    {
     "name": "stdout",
     "output_type": "stream",
     "text": [
      "[('a', 150), ('b', 170), ('m', 250), ('o', 950)]\n"
     ]
    }
   ],
   "source": [
    "my_dict = {\"m\":250,\"o\":950,\"b\":170,\"a\":150}\n",
    "\n",
    "sort_keys = my_dict.items()\n",
    "new_items = sorted(sort_keys)\n",
    "print(new_items)"
   ]
  },
  {
   "cell_type": "code",
   "execution_count": 33,
   "id": "d47ae0f3",
   "metadata": {},
   "outputs": [
    {
     "data": {
      "text/plain": [
       "[('a', 150), ('b', 170), ('m', 250), ('o', 950)]"
      ]
     },
     "execution_count": 33,
     "metadata": {},
     "output_type": "execute_result"
    }
   ],
   "source": [
    "sorted(my_dict.items(), key = lambda x : x)"
   ]
  },
  {
   "cell_type": "code",
   "execution_count": 34,
   "id": "31848816",
   "metadata": {},
   "outputs": [
    {
     "data": {
      "text/plain": [
       "['a', 'b', 'm', 'o']"
      ]
     },
     "execution_count": 34,
     "metadata": {},
     "output_type": "execute_result"
    }
   ],
   "source": [
    "sorted(my_dict)"
   ]
  },
  {
   "cell_type": "markdown",
   "id": "7c3f3824",
   "metadata": {},
   "source": [
    "### How to sort a dictionary keys in Python – Another approach\n",
    "\n",
    "`Using dict.keys() we can sort the dictionary keys in Python. This method returns an iterable view object that displays all the keys which is available in the dictionary.`"
   ]
  },
  {
   "cell_type": "code",
   "execution_count": 35,
   "id": "84a968d1",
   "metadata": {},
   "outputs": [
    {
     "name": "stdout",
     "output_type": "stream",
     "text": [
      "a  :  170\n",
      "c  :  110\n",
      "p  :  350\n",
      "z  :  750\n"
     ]
    }
   ],
   "source": [
    "my_dict = {\"p\":350,\"z\":750,\"a\":170,\"c\":110} \n",
    " \n",
    "sorted(my_dict.keys())\n",
    "for key in sorted(my_dict.keys()) :\n",
    "    print(key , \" : \" , my_dict[key])\n",
    "    "
   ]
  },
  {
   "cell_type": "code",
   "execution_count": 36,
   "id": "3a2e2613",
   "metadata": {},
   "outputs": [
    {
     "name": "stdout",
     "output_type": "stream",
     "text": [
      "OrderedDict([(6, {'p': 100, 'z': 700, 'a': 120, 'c': 900}), (4, {'p': 300, 'z': 200, 'a': 450, 'c': 130}), (1, {'p': 350, 'z': 750, 'a': 170, 'c': 110})])\n"
     ]
    }
   ],
   "source": [
    "# from typing import OrderedDict\n",
    "from collections import OrderedDict\n",
    "\n",
    "my_dict = {1: {\"p\":350,\"z\":750,\"a\":170,\"c\":110},\n",
    "           6: {\"p\":100,\"z\":700,\"a\":120,\"c\":900},\n",
    "           4: {\"p\":300,\"z\":200,\"a\":450,\"c\":130}}\n",
    "\n",
    "sort_values = my_dict.items()\n",
    "\n",
    "new_item = sorted(sort_values, key = lambda key_value : key_value[1][\"c\"], reverse= True)\n",
    "\n",
    "list1 = OrderedDict(new_item)\n",
    "print(list1)"
   ]
  },
  {
   "cell_type": "markdown",
   "id": "f9744b73",
   "metadata": {},
   "source": [
    "#### Python dictionary sort by value alphabetically\n",
    "\n",
    "\n",
    "* In Python, a dictionary is formed with key-value pair by the {key: value} method.\n",
    "\n",
    "\n",
    "* Thus, in the my_dict variable, the keys are the names, and the values are the integers to the right of the names.\n",
    "\n",
    "* To sort the values alphabetically you can sort and print the pairs in the dictionary that will all have the same keys.\n"
   ]
  },
  {
   "cell_type": "code",
   "execution_count": 37,
   "id": "fa7c92a9",
   "metadata": {},
   "outputs": [
    {
     "name": "stdout",
     "output_type": "stream",
     "text": [
      "('Micheal', 4)\n",
      "('John', 2)\n",
      "('George', 3)\n",
      "('Andrew', 6)\n"
     ]
    }
   ],
   "source": [
    "my_dict = {'John':2,\n",
    "           'George':3,\n",
    "           'Micheal':4,\n",
    "           'Andrew':6,}\n",
    "          \n",
    "\n",
    "for value in sorted(my_dict.items(), key=lambda x: x[0], reverse=True):\n",
    "     print(value)"
   ]
  },
  {
   "cell_type": "code",
   "execution_count": 38,
   "id": "6e339357",
   "metadata": {},
   "outputs": [
    {
     "name": "stdout",
     "output_type": "stream",
     "text": [
      "[('t', 350), ('u', 120), ('v', 450), ('z', 220)]\n"
     ]
    }
   ],
   "source": [
    "new_dict = {\"z\":220,\"v\":450,\"u\":120,\"t\":350} \n",
    " \n",
    "sorted_keys = new_dict.items()\n",
    "new_values = sorted(sorted_keys)\n",
    "print(new_values)"
   ]
  },
  {
   "cell_type": "markdown",
   "id": "a310afd7",
   "metadata": {},
   "source": [
    "#### Python dictionary sort reverse\n",
    "\n",
    "* Let us see how to reverse the order of keys in Python dictionary.\n",
    "\n",
    "* The order keys are iterated in is an arbitrary element. To reverse the key-value pairs we can use dict.keys() function and looping method.\n"
   ]
  },
  {
   "cell_type": "code",
   "execution_count": null,
   "id": "2795a313",
   "metadata": {},
   "outputs": [],
   "source": []
  },
  {
   "cell_type": "code",
   "execution_count": 39,
   "id": "c561ed35",
   "metadata": {},
   "outputs": [
    {
     "name": "stdout",
     "output_type": "stream",
     "text": [
      "n\n",
      "m\n",
      "l\n"
     ]
    }
   ],
   "source": [
    "dict = {'l': 1, 'm': 2, 'n': 3}\n",
    "\n",
    "for i in reversed(list(dict.keys())):\n",
    "    print(i)"
   ]
  },
  {
   "cell_type": "markdown",
   "id": "ebd99f6b",
   "metadata": {},
   "source": [
    "### How to reverse the order of keys in Python dictionary\n",
    "\n",
    "`In this example, we will use the combination of dictionary functions to perform this particular task. By using list(),keys(),sorted(),reversed(). It will sort the keys and reversed gets the key extracted using dict.keys() function in descending order.`"
   ]
  },
  {
   "cell_type": "code",
   "execution_count": 40,
   "id": "4933ce1d",
   "metadata": {},
   "outputs": [
    {
     "name": "stdout",
     "output_type": "stream",
     "text": [
      "[5, 3, 2]\n"
     ]
    }
   ],
   "source": [
    "my_dict = {2 : \"John\", 5 : \"George\", 3 : \"Micheal\", 2 : \"James\"}\n",
    "\n",
    "new_value = list(reversed(sorted(my_dict.keys())))\n",
    "print(new_value)"
   ]
  },
  {
   "cell_type": "code",
   "execution_count": 41,
   "id": "5f06a093",
   "metadata": {},
   "outputs": [
    {
     "name": "stdout",
     "output_type": "stream",
     "text": [
      "[(19, 6), (52, 4), (74, 3), (101, 2), (49, 1)]\n"
     ]
    }
   ],
   "source": [
    "dict={49:1, 52:4, 74:3, 19:6, 101:2}\n",
    "z = sorted(dict.items(), key=lambda x: (x[1],x[0]), reverse=True)\n",
    "print(z)"
   ]
  },
  {
   "cell_type": "code",
   "execution_count": null,
   "id": "cc99faac",
   "metadata": {},
   "outputs": [],
   "source": []
  }
 ],
 "metadata": {
  "kernelspec": {
   "display_name": "Python 3 (ipykernel)",
   "language": "python",
   "name": "python3"
  },
  "language_info": {
   "codemirror_mode": {
    "name": "ipython",
    "version": 3
   },
   "file_extension": ".py",
   "mimetype": "text/x-python",
   "name": "python",
   "nbconvert_exporter": "python",
   "pygments_lexer": "ipython3",
   "version": "3.9.7"
  }
 },
 "nbformat": 4,
 "nbformat_minor": 5
}

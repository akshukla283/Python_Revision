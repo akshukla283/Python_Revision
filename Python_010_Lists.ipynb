{
 "cells": [
  {
   "cell_type": "markdown",
   "id": "66b7abce",
   "metadata": {},
   "source": [
    "### Lists "
   ]
  },
  {
   "cell_type": "markdown",
   "id": "c1d3221e",
   "metadata": {},
   "source": [
    "#### Python Collections (Arrays)\n",
    "There are four collection data types in the Python programming language:\n",
    "\n",
    "* **List** is a collection which is ordered and changeable. Allows duplicate members.\n",
    "\n",
    "* **Tuple** is a collection which is ordered and unchangeable. Allows duplicate members.\n",
    "\n",
    "* **Set** is a collection which is unordered, unchangeable*, and unindexed. No duplicate members.\n",
    "\n",
    "* **Dictionary** is a collection which is ordered** and changeable. No duplicate members."
   ]
  },
  {
   "cell_type": "markdown",
   "id": "0709178b",
   "metadata": {},
   "source": [
    "#### List\n",
    "Lists are used to store multiple items in a single variable.\n",
    "\n",
    "Lists are `one of 4 built-in data types in Python used to store collections of data`, the other 3 are `Tuple`, `Set`, and `Dictionary`, all with different qualities and usage.\n",
    "\n",
    "Lists are created using square brackets:"
   ]
  },
  {
   "cell_type": "code",
   "execution_count": 1,
   "id": "ea4c9675",
   "metadata": {},
   "outputs": [
    {
     "name": "stdout",
     "output_type": "stream",
     "text": [
      "['apple', 'banana', 'cherry']\n"
     ]
    }
   ],
   "source": [
    "thislist = [\"apple\", \"banana\", \"cherry\"]\n",
    "print(thislist)"
   ]
  },
  {
   "cell_type": "code",
   "execution_count": 3,
   "id": "ceb27724",
   "metadata": {},
   "outputs": [
    {
     "name": "stdout",
     "output_type": "stream",
     "text": [
      "['apple', 'banana', 'cherry']\n",
      "[1, 5, 7, 9, 3]\n",
      "[True, False, False]\n"
     ]
    }
   ],
   "source": [
    "list1 = [\"apple\", \"banana\", \"cherry\"]\n",
    "list2 = [1, 5, 7, 9, 3]\n",
    "list3 = [True, False, False]\n",
    "\n",
    "print(list1)\n",
    "print(list2)\n",
    "print(list3)"
   ]
  },
  {
   "cell_type": "code",
   "execution_count": 4,
   "id": "5bc8ea1d",
   "metadata": {},
   "outputs": [
    {
     "name": "stdout",
     "output_type": "stream",
     "text": [
      "['abc', 34, True, 40, 'male']\n"
     ]
    }
   ],
   "source": [
    "list1 = [\"abc\", 34, True, 40, \"male\"]\n",
    "print(list1)"
   ]
  },
  {
   "cell_type": "code",
   "execution_count": 5,
   "id": "f65bebc0",
   "metadata": {},
   "outputs": [
    {
     "name": "stdout",
     "output_type": "stream",
     "text": [
      "<class 'list'>\n"
     ]
    }
   ],
   "source": [
    "mylist = [\"apple\", \"banana\", \"cherry\"]\n",
    "print(type(mylist))"
   ]
  },
  {
   "cell_type": "markdown",
   "id": "133fb8d8",
   "metadata": {},
   "source": [
    "#### `List Items`\n",
    "List items are ordered, changeable, and allow duplicate values.\n",
    "\n",
    "List items are indexed, the first item has index `[0]`, the second item has index `[1]` etc.\n",
    "\n",
    "#### `Ordered`\n",
    "When we say that lists are ordered, it means that the items have a defined order, and that order will not change.\n",
    "\n",
    "If you add new items to a list, the new items will be placed at the end of the list.\n",
    "\n",
    "**Note:** There are some list methods that will change the order, but in general: the order of the items will not change.\n",
    "\n",
    "#### `Changeable`\n",
    "The list is changeable, meaning that we can change, add, and remove items in a list after it has been created.\n",
    "\n",
    "#### `Allow Duplicates`\n",
    "Since lists are indexed, lists can have items with the same value:"
   ]
  },
  {
   "cell_type": "code",
   "execution_count": 1,
   "id": "bdfa67d6",
   "metadata": {},
   "outputs": [
    {
     "name": "stdout",
     "output_type": "stream",
     "text": [
      "['apple', 'banana', 'cherry', 'apple', 'cherry']\n"
     ]
    }
   ],
   "source": [
    "thislist = [\"apple\", \"banana\", \"cherry\", \"apple\", \"cherry\"]\n",
    "print(thislist)"
   ]
  },
  {
   "cell_type": "markdown",
   "id": "09c5a896",
   "metadata": {},
   "source": [
    "#### `List Length`\n",
    "To determine how many items a list has, use the `len()` function:"
   ]
  },
  {
   "cell_type": "code",
   "execution_count": 2,
   "id": "9f4a655f",
   "metadata": {},
   "outputs": [
    {
     "name": "stdout",
     "output_type": "stream",
     "text": [
      "3\n"
     ]
    }
   ],
   "source": [
    "thislist = [\"apple\", \"banana\", \"cherry\"]\n",
    "print(len(thislist))"
   ]
  },
  {
   "cell_type": "markdown",
   "id": "350335b7",
   "metadata": {},
   "source": [
    "#### `List Items - Data Types`\n",
    "\n",
    "List items can be of any data type:"
   ]
  },
  {
   "cell_type": "code",
   "execution_count": 5,
   "id": "02958c12",
   "metadata": {},
   "outputs": [
    {
     "name": "stdout",
     "output_type": "stream",
     "text": [
      "['apple', 'banana', 'cherry']\n",
      "[1, 5, 7, 9, 3]\n",
      "[True, False, False]\n"
     ]
    }
   ],
   "source": [
    "list1 = [\"apple\", \"banana\", \"cherry\"]\n",
    "list2 = [1, 5, 7, 9, 3]\n",
    "list3 = [True, False, False]\n",
    "\n",
    "\n",
    "print(list1)\n",
    "print(list2)\n",
    "print(list3)\n"
   ]
  },
  {
   "cell_type": "markdown",
   "id": "47c04458",
   "metadata": {},
   "source": [
    "#### `type()`\n",
    "From Python's perspective, lists are defined as objects with the data type` 'list'`:"
   ]
  },
  {
   "cell_type": "code",
   "execution_count": 6,
   "id": "fe380400",
   "metadata": {},
   "outputs": [
    {
     "name": "stdout",
     "output_type": "stream",
     "text": [
      "<class 'list'>\n",
      "<class 'list'>\n",
      "<class 'list'>\n"
     ]
    }
   ],
   "source": [
    "list1 = [\"apple\", \"banana\", \"cherry\"]\n",
    "list2 = [1, 5, 7, 9, 3]\n",
    "list3 = [True, False, False]\n",
    "\n",
    "print(type(list1))\n",
    "print(type(list2))\n",
    "print(type(list3))"
   ]
  },
  {
   "cell_type": "markdown",
   "id": "e099b64f",
   "metadata": {},
   "source": [
    "### The list() Constructor\n",
    "It is also possible to use the `list()` constructor when creating a new list."
   ]
  },
  {
   "cell_type": "code",
   "execution_count": 6,
   "id": "9c9d2366",
   "metadata": {},
   "outputs": [
    {
     "name": "stdout",
     "output_type": "stream",
     "text": [
      "['Apple', 'Banana', 'Cherry']\n"
     ]
    }
   ],
   "source": [
    "thislist = list((\"Apple\", \"Banana\", \"Cherry\"))\n",
    "\n",
    "# note the double round paranthesis\n",
    "print(thislist)"
   ]
  },
  {
   "cell_type": "code",
   "execution_count": 7,
   "id": "1fac1d9b",
   "metadata": {},
   "outputs": [
    {
     "name": "stdout",
     "output_type": "stream",
     "text": [
      "['apple', 'banana']\n"
     ]
    }
   ],
   "source": [
    "newlist = list((\"apple\", \"banana\"))\n",
    "print(newlist)"
   ]
  },
  {
   "cell_type": "markdown",
   "id": "487fb599",
   "metadata": {},
   "source": [
    "### `Access Items`\n",
    "List items are indexed and you can access them by referring to the `index number`:"
   ]
  },
  {
   "cell_type": "code",
   "execution_count": 7,
   "id": "96f52345",
   "metadata": {},
   "outputs": [
    {
     "name": "stdout",
     "output_type": "stream",
     "text": [
      "Apple\n"
     ]
    }
   ],
   "source": [
    "# Access Items\n",
    "print(thislist[0])"
   ]
  },
  {
   "cell_type": "code",
   "execution_count": 8,
   "id": "4fd1470a",
   "metadata": {},
   "outputs": [
    {
     "name": "stdout",
     "output_type": "stream",
     "text": [
      "Banana\n"
     ]
    }
   ],
   "source": [
    "print(thislist[1])"
   ]
  },
  {
   "cell_type": "markdown",
   "id": "c5f3bdc9",
   "metadata": {},
   "source": [
    "**Note:** The first item has` index 0`.\n",
    "\n",
    "Negative Indexing\n",
    "Negative indexing means start from the end\n",
    "\n",
    "`-1` refers to the last item, `-2` refers to the second last item etc."
   ]
  },
  {
   "cell_type": "code",
   "execution_count": 9,
   "id": "e0e50d71",
   "metadata": {},
   "outputs": [
    {
     "name": "stdout",
     "output_type": "stream",
     "text": [
      "Cherry\n"
     ]
    }
   ],
   "source": [
    "print(thislist[-1])"
   ]
  },
  {
   "cell_type": "code",
   "execution_count": 10,
   "id": "460c3066",
   "metadata": {},
   "outputs": [
    {
     "name": "stdout",
     "output_type": "stream",
     "text": [
      "banana\n"
     ]
    }
   ],
   "source": [
    "thislist = [\"apple\", \"banana\",  \"cherry\"]\n",
    "print(thislist[-2])"
   ]
  },
  {
   "cell_type": "markdown",
   "id": "b6ad74b8",
   "metadata": {},
   "source": [
    "#### Range of Indexes\n",
    "You can specify a range of indexes by specifying where to start and where to end the range.\n",
    "\n",
    "When specifying a range, the return value will be a new list with the specified items."
   ]
  },
  {
   "cell_type": "code",
   "execution_count": 10,
   "id": "5bbbab1b",
   "metadata": {},
   "outputs": [
    {
     "name": "stdout",
     "output_type": "stream",
     "text": [
      "['cherry', 'orange', 'kiwi']\n"
     ]
    }
   ],
   "source": [
    "thislist = [\"apple\", \"banana\", \"cherry\", \"orange\", \"kiwi\", \"melon\", \"mango\"]\n",
    "print(thislist[2:5])"
   ]
  },
  {
   "cell_type": "markdown",
   "id": "6c3d002e",
   "metadata": {},
   "source": [
    "**Note:** The search will start at `index 2` (included) and end at `index 5` (not included).\n",
    "\n",
    "Remember that the first item has `index 0`.\n",
    "\n",
    "By leaving out the start value, the range will start at the first item:"
   ]
  },
  {
   "cell_type": "code",
   "execution_count": 11,
   "id": "d27302ed",
   "metadata": {},
   "outputs": [
    {
     "name": "stdout",
     "output_type": "stream",
     "text": [
      "['apple', 'banana', 'cherry', 'orange']\n"
     ]
    }
   ],
   "source": [
    "thislist = [\"apple\", \"banana\", \"cherry\", \"orange\", \"kiwi\", \"melon\", \"mango\"]\n",
    "print(thislist[:4])"
   ]
  },
  {
   "cell_type": "code",
   "execution_count": 12,
   "id": "517a2aa3",
   "metadata": {},
   "outputs": [
    {
     "name": "stdout",
     "output_type": "stream",
     "text": [
      "['cherry', 'orange', 'kiwi', 'melon', 'mango']\n"
     ]
    }
   ],
   "source": [
    "thislist = [\"apple\", \"banana\", \"cherry\", \"orange\", \"kiwi\", \"melon\", \"mango\"]\n",
    "print(thislist[2:])"
   ]
  },
  {
   "cell_type": "code",
   "execution_count": 13,
   "id": "0b0fc4ef",
   "metadata": {},
   "outputs": [
    {
     "name": "stdout",
     "output_type": "stream",
     "text": [
      "['orange', 'kiwi', 'melon']\n"
     ]
    }
   ],
   "source": [
    "thislist = [\"apple\", \"banana\", \"cherry\", \"orange\", \"kiwi\", \"melon\", \"mango\"]\n",
    "print(thislist[-4:-1])"
   ]
  },
  {
   "cell_type": "code",
   "execution_count": 15,
   "id": "725dff29",
   "metadata": {},
   "outputs": [
    {
     "name": "stdout",
     "output_type": "stream",
     "text": [
      "[]\n"
     ]
    }
   ],
   "source": [
    "print(thislist[-2:-4])\n",
    "# it must be return nothing (empty list)"
   ]
  },
  {
   "cell_type": "markdown",
   "id": "4f6f6479",
   "metadata": {},
   "source": [
    "#### Check if Item Exists\n",
    "To determine if a specified item is present in a list use the in keyword:"
   ]
  },
  {
   "cell_type": "code",
   "execution_count": 14,
   "id": "947ae521",
   "metadata": {},
   "outputs": [
    {
     "name": "stdout",
     "output_type": "stream",
     "text": [
      "Yes, 'apple' is in the fruit list\n"
     ]
    }
   ],
   "source": [
    "if \"apple\" in thislist:\n",
    "    print(\"Yes, 'apple' is in the fruit list\")"
   ]
  },
  {
   "cell_type": "markdown",
   "id": "891aed7d",
   "metadata": {},
   "source": [
    "### Change List Items\n",
    "\n",
    "To change the value of a specific item, refer to the index number:"
   ]
  },
  {
   "cell_type": "code",
   "execution_count": 6,
   "id": "6c24eda3",
   "metadata": {},
   "outputs": [],
   "source": [
    "thislist = [\"apple\", \"banana\", \"cherry\"]"
   ]
  },
  {
   "cell_type": "code",
   "execution_count": 7,
   "id": "f6b626f3",
   "metadata": {},
   "outputs": [],
   "source": [
    "thislist[1] = \"blakcurrant\""
   ]
  },
  {
   "cell_type": "code",
   "execution_count": 8,
   "id": "8e266946",
   "metadata": {},
   "outputs": [
    {
     "name": "stdout",
     "output_type": "stream",
     "text": [
      "['apple', 'blakcurrant', 'cherry']\n"
     ]
    }
   ],
   "source": [
    "print(thislist)"
   ]
  },
  {
   "cell_type": "markdown",
   "id": "f6d68816",
   "metadata": {},
   "source": [
    "#### Change a Range of Item Values\n",
    "\n",
    "To change the value of items within a specific range, define a list with the new values, and refer to the range of index numbers where you want to insert the new values:"
   ]
  },
  {
   "cell_type": "code",
   "execution_count": 19,
   "id": "ce7f0c62",
   "metadata": {},
   "outputs": [
    {
     "name": "stdout",
     "output_type": "stream",
     "text": [
      "['apple', 'blackcurrant', 'watermelon', 'orange', 'kiwi', 'mango']\n"
     ]
    }
   ],
   "source": [
    "# Change a Range of Item Values\n",
    "thislist = [\"apple\", \"banana\", \"cherry\", \"orange\", \"kiwi\", \"mango\"]\n",
    "\n",
    "thislist[1:3] = [\"blackcurrant\", \"watermelon\"]\n",
    "\n",
    "print(thislist)\n",
    "\n"
   ]
  },
  {
   "cell_type": "code",
   "execution_count": 20,
   "id": "02aee667",
   "metadata": {},
   "outputs": [
    {
     "name": "stdout",
     "output_type": "stream",
     "text": [
      "['apple', 'blackcurrant', 'watermelon', 'cherry']\n"
     ]
    }
   ],
   "source": [
    "thislist = [\"apple\", \"banana\", \"cherry\"]\n",
    "thislist[1:2] = [\"blackcurrant\", \"watermelon\"]\n",
    "print(thislist)\n",
    "\n",
    "# Note: The length of the list will change \n",
    "# when the number of items inserted does not\n",
    "# match the number of items replaced."
   ]
  },
  {
   "cell_type": "code",
   "execution_count": 22,
   "id": "cee2b349",
   "metadata": {},
   "outputs": [
    {
     "name": "stdout",
     "output_type": "stream",
     "text": [
      "4\n"
     ]
    }
   ],
   "source": [
    "# before adding len of the list was 3 but now let's see\n",
    "print(len(thislist))"
   ]
  },
  {
   "cell_type": "code",
   "execution_count": 6,
   "id": "8f1178fe",
   "metadata": {},
   "outputs": [
    {
     "name": "stdout",
     "output_type": "stream",
     "text": [
      "['apple', 'watermelon']\n"
     ]
    }
   ],
   "source": [
    "# If you insert less items than you replace,\n",
    "# the new items will be inserted where you \n",
    "# specified, and the remaining items will \n",
    "# move accordingly:\n",
    "thislist = [\"apple\", \"banana\", \"cherry\"]\n",
    "thislist[1:3] = [\"watermelon\"]\n",
    "print(thislist)"
   ]
  },
  {
   "cell_type": "code",
   "execution_count": 7,
   "id": "938eb819",
   "metadata": {},
   "outputs": [
    {
     "name": "stdout",
     "output_type": "stream",
     "text": [
      "['apple', 'watermelon', 'mango', 'watermelon']\n"
     ]
    }
   ],
   "source": [
    "thislist = [\"apple\", \"banana\", \"cherry\", \"mango\", \"watermelon\"]\n",
    "thislist[1:3] = [\"watermelon\"]\n",
    "print(thislist)"
   ]
  },
  {
   "cell_type": "markdown",
   "id": "8b3fb3fb",
   "metadata": {},
   "source": [
    "As we can see that we wanted to replace 1:3 means \"banana\" and \" cherry\" but we gave only one item so that two places will be taken by only one and rest all move accordingly"
   ]
  },
  {
   "cell_type": "code",
   "execution_count": null,
   "id": "ff70ee3b",
   "metadata": {},
   "outputs": [],
   "source": []
  },
  {
   "cell_type": "markdown",
   "id": "92880a41",
   "metadata": {},
   "source": [
    "### Insert Items\n",
    "\n",
    "To insert a new list item, without replacing any of the existing values, we can use the `insert()` method.\n",
    "\n",
    "The `insert()` method inserts an item at the specified index:"
   ]
  },
  {
   "cell_type": "code",
   "execution_count": 24,
   "id": "baff799a",
   "metadata": {},
   "outputs": [
    {
     "name": "stdout",
     "output_type": "stream",
     "text": [
      "['apple', 'banana', 'watermelon', 'cherry']\n"
     ]
    }
   ],
   "source": [
    "thislist = [\"apple\", \"banana\", \"cherry\"]\n",
    "thislist.insert(2, \"watermelon\")\n",
    "print(thislist)"
   ]
  },
  {
   "cell_type": "code",
   "execution_count": 25,
   "id": "831419ab",
   "metadata": {},
   "outputs": [
    {
     "name": "stdout",
     "output_type": "stream",
     "text": [
      "['mango', 'apple', 'banana', 'watermelon', 'cherry']\n"
     ]
    }
   ],
   "source": [
    "thislist.insert(0, \"mango\")\n",
    "print(thislist)"
   ]
  },
  {
   "cell_type": "markdown",
   "id": "a1566faa",
   "metadata": {},
   "source": [
    "### `Add List Items`\n",
    "\n",
    "\n",
    "#### Append Items\n",
    "To add an item to the end of the list, use the `append()` method:"
   ]
  },
  {
   "cell_type": "code",
   "execution_count": 26,
   "id": "2867e677",
   "metadata": {},
   "outputs": [
    {
     "name": "stdout",
     "output_type": "stream",
     "text": [
      "['apple', 'banana', 'cherry', 'orange']\n"
     ]
    }
   ],
   "source": [
    "# Append\n",
    "thislist = [\"apple\", \"banana\", \"cherry\"]\n",
    "thislist.append(\"orange\")\n",
    "print(thislist)"
   ]
  },
  {
   "cell_type": "code",
   "execution_count": 27,
   "id": "a584ca6e",
   "metadata": {},
   "outputs": [
    {
     "name": "stdout",
     "output_type": "stream",
     "text": [
      "['apple', 'orange', 'banana', 'cherry']\n"
     ]
    }
   ],
   "source": [
    "# if we want to add an item in list at a\n",
    "# specific place then we should use 'insert'\n",
    "# method to add the item\n",
    "\n",
    "thislist = [\"apple\", \"banana\", \"cherry\"]\n",
    "thislist.insert(1, \"orange\")\n",
    "\n",
    "print(thislist)"
   ]
  },
  {
   "cell_type": "markdown",
   "id": "1fb19c82",
   "metadata": {},
   "source": [
    "#### Extend List\n",
    "\n",
    "To append elements from another list to the current list, use the `extend()` method."
   ]
  },
  {
   "cell_type": "code",
   "execution_count": 11,
   "id": "e73508bc",
   "metadata": {},
   "outputs": [
    {
     "name": "stdout",
     "output_type": "stream",
     "text": [
      "['apple', 'banana', 'cherry', 'mango', 'pineapple', 'papaya']\n"
     ]
    }
   ],
   "source": [
    "# To append elements from another list to\n",
    "# the current list, use the extend() method.\n",
    "\n",
    "thislist = [\"apple\", \"banana\", \"cherry\"]\n",
    "tropical = [\"mango\", \"pineapple\", \"papaya\"]\n",
    "\n",
    "thislist.extend(tropical)\n",
    "# now let's see \n",
    "print(thislist)"
   ]
  },
  {
   "cell_type": "code",
   "execution_count": null,
   "id": "b08f9431",
   "metadata": {},
   "outputs": [],
   "source": [
    "# As we can see that we have sucessfully\n",
    "# added a list into another list\n"
   ]
  },
  {
   "cell_type": "markdown",
   "id": "aadd9303",
   "metadata": {},
   "source": [
    "#### Add Any Iterable\n",
    "\n",
    "The extend() method does not have to append lists, you can add any iterable object (tuples, sets, dictionaries etc.)."
   ]
  },
  {
   "cell_type": "code",
   "execution_count": 30,
   "id": "8a337726",
   "metadata": {},
   "outputs": [
    {
     "name": "stdout",
     "output_type": "stream",
     "text": [
      "['apple', 'banana', 'cherry', 'kiwi', 'orange']\n"
     ]
    }
   ],
   "source": [
    "thislist = [\"apple\", \"banana\", \"cherry\"]\n",
    "thistuple = (\"kiwi\", \"orange\")\n",
    "\n",
    "thislist.extend(thistuple)\n",
    "print(thislist) # when we extended tuple it converted as an part of list not as a tuple"
   ]
  },
  {
   "cell_type": "code",
   "execution_count": 10,
   "id": "3ad9928b",
   "metadata": {},
   "outputs": [
    {
     "name": "stdout",
     "output_type": "stream",
     "text": [
      "['apple', 'banana', 'cherry', 'apple', 'banana', 'cherry']\n"
     ]
    }
   ],
   "source": [
    "thislist = [\"apple\", \"banana\", \"cherry\"]\n",
    "thislist.extend(thislist)\n",
    "print(thislist)"
   ]
  },
  {
   "cell_type": "markdown",
   "id": "669101d2",
   "metadata": {},
   "source": [
    "### Remove List Items\n",
    "\n",
    "#### Remove Specified Item\n",
    "The `remove()` method removes the specified item."
   ]
  },
  {
   "cell_type": "code",
   "execution_count": 11,
   "id": "c266fcec",
   "metadata": {},
   "outputs": [
    {
     "name": "stdout",
     "output_type": "stream",
     "text": [
      "['apple', 'cherry']\n"
     ]
    }
   ],
   "source": [
    "# remove method\n",
    "thislist = [\"apple\", \"banana\", \"cherry\"]\n",
    "thislist.remove(\"banana\")\n",
    "print(thislist)"
   ]
  },
  {
   "cell_type": "markdown",
   "id": "22545a56",
   "metadata": {},
   "source": [
    "#### Remove Specified Index\n",
    "The `pop()` method removes the specified index."
   ]
  },
  {
   "cell_type": "code",
   "execution_count": 12,
   "id": "60b2a44c",
   "metadata": {},
   "outputs": [
    {
     "name": "stdout",
     "output_type": "stream",
     "text": [
      "['apple', 'cherry']\n"
     ]
    }
   ],
   "source": [
    "# Remove specific Index\n",
    "\n",
    "thislist = [\"apple\", \"banana\", \"cherry\"]\n",
    "thislist.pop(1)\n",
    "print(thislist)"
   ]
  },
  {
   "cell_type": "code",
   "execution_count": 13,
   "id": "37e5bea0",
   "metadata": {},
   "outputs": [
    {
     "name": "stdout",
     "output_type": "stream",
     "text": [
      "['apple', 'banana']\n"
     ]
    }
   ],
   "source": [
    "thislist = [\"apple\", \"banana\", \"cherry\"]\n",
    "thislist.pop() # pop method remove last item\n",
    "print(thislist) # if index not provided"
   ]
  },
  {
   "cell_type": "markdown",
   "id": "eb9123da",
   "metadata": {},
   "source": [
    "#### del \n",
    "The `del` keyword also removes the specified index:"
   ]
  },
  {
   "cell_type": "code",
   "execution_count": 14,
   "id": "a1d4544e",
   "metadata": {},
   "outputs": [
    {
     "name": "stdout",
     "output_type": "stream",
     "text": [
      "['banana', 'cherry']\n"
     ]
    }
   ],
   "source": [
    "# 'del' keyword also removes the specific index\n",
    "\n",
    "thislist = [\"apple\", \"banana\", \"cherry\"]\n",
    "del thislist[0]\n",
    "print(thislist)"
   ]
  },
  {
   "cell_type": "code",
   "execution_count": 15,
   "id": "dd185f97",
   "metadata": {},
   "outputs": [
    {
     "ename": "NameError",
     "evalue": "name 'thislist' is not defined",
     "output_type": "error",
     "traceback": [
      "\u001b[1;31m---------------------------------------------------------------------------\u001b[0m",
      "\u001b[1;31mNameError\u001b[0m                                 Traceback (most recent call last)",
      "\u001b[1;32m~\\AppData\\Local\\Temp/ipykernel_8844/1069568852.py\u001b[0m in \u001b[0;36m<module>\u001b[1;34m\u001b[0m\n\u001b[0;32m      4\u001b[0m \u001b[0mthislist\u001b[0m \u001b[1;33m=\u001b[0m \u001b[1;33m[\u001b[0m\u001b[1;34m\"apple\"\u001b[0m\u001b[1;33m,\u001b[0m \u001b[1;34m\"banana\"\u001b[0m\u001b[1;33m,\u001b[0m \u001b[1;34m\"cherry\"\u001b[0m\u001b[1;33m]\u001b[0m\u001b[1;33m\u001b[0m\u001b[1;33m\u001b[0m\u001b[0m\n\u001b[0;32m      5\u001b[0m \u001b[1;32mdel\u001b[0m \u001b[0mthislist\u001b[0m\u001b[1;33m\u001b[0m\u001b[1;33m\u001b[0m\u001b[0m\n\u001b[1;32m----> 6\u001b[1;33m \u001b[0mprint\u001b[0m\u001b[1;33m(\u001b[0m\u001b[0mthislist\u001b[0m\u001b[1;33m)\u001b[0m\u001b[1;33m\u001b[0m\u001b[1;33m\u001b[0m\u001b[0m\n\u001b[0m",
      "\u001b[1;31mNameError\u001b[0m: name 'thislist' is not defined"
     ]
    }
   ],
   "source": [
    "# The del keyword can also delete the list \n",
    "# completely.\n",
    "\n",
    "thislist = [\"apple\", \"banana\", \"cherry\"]\n",
    "del thislist\n",
    "print(thislist)"
   ]
  },
  {
   "cell_type": "markdown",
   "id": "d0244493",
   "metadata": {},
   "source": [
    "#### Clear the List\n",
    "The `clear()` method empties the list.\n",
    "\n",
    "The list still remains, but it has no content"
   ]
  },
  {
   "cell_type": "code",
   "execution_count": 16,
   "id": "1e8dc794",
   "metadata": {},
   "outputs": [
    {
     "name": "stdout",
     "output_type": "stream",
     "text": [
      "[]\n"
     ]
    }
   ],
   "source": [
    "# The clear() method empties the list.\n",
    "\n",
    "# The list still remains, but it has no content.\n",
    "\n",
    "thislist = [\"apple\", \"banana\", \"cherry\"]\n",
    "thislist.clear()\n",
    "print(thislist)"
   ]
  },
  {
   "cell_type": "markdown",
   "id": "fa368da3",
   "metadata": {},
   "source": [
    "### Loop Lists\n",
    "\n",
    "#### Loop Through a List\n",
    "You can loop through the list items by using a `for loop`:"
   ]
  },
  {
   "cell_type": "code",
   "execution_count": 17,
   "id": "8ce39d88",
   "metadata": {},
   "outputs": [
    {
     "name": "stdout",
     "output_type": "stream",
     "text": [
      "apple\n",
      "banana\n",
      "cherry\n"
     ]
    }
   ],
   "source": [
    "thislist = [\"apple\", \"banana\", \"cherry\"]\n",
    "\n",
    "for x in thislist:\n",
    "    print(x)"
   ]
  },
  {
   "cell_type": "code",
   "execution_count": 18,
   "id": "9aba9a16",
   "metadata": {},
   "outputs": [
    {
     "name": "stdout",
     "output_type": "stream",
     "text": [
      "apple\n",
      "banana\n",
      "cherry\n"
     ]
    }
   ],
   "source": [
    "thislist = [\"apple\", \"banana\", \"cherry\"]\n",
    "\n",
    "for i in range(len(thislist)):\n",
    "    print(thislist[i])"
   ]
  },
  {
   "cell_type": "markdown",
   "id": "6e72e10f",
   "metadata": {},
   "source": [
    "#### Loop Through the Index Numbers\n",
    "You can also loop through the list items by referring to their index number.\n",
    "\n",
    "Use the `range()` and `len()` functions to create a suitable iterable."
   ]
  },
  {
   "cell_type": "code",
   "execution_count": 13,
   "id": "97726879",
   "metadata": {},
   "outputs": [
    {
     "name": "stdout",
     "output_type": "stream",
     "text": [
      "apple\n",
      "banana\n",
      "cherry\n"
     ]
    }
   ],
   "source": [
    "thislist = [\"apple\", \"banana\", \"cherry\"]\n",
    "\n",
    "for i in range(len(thislist)):\n",
    "    print(thislist[i])"
   ]
  },
  {
   "cell_type": "markdown",
   "id": "0ef86f55",
   "metadata": {},
   "source": [
    "### using a While Loop \n",
    "\n",
    "You can loop through the list items by using a `while` loop\n",
    "\n",
    "Use the `len()` function to determine the length of the list, then start at 0 and loop your way through the list items by refering to their indexes.\n",
    "\n",
    "Remember to increase the index by 1 after each iteration."
   ]
  },
  {
   "cell_type": "code",
   "execution_count": 14,
   "id": "01b0432e",
   "metadata": {},
   "outputs": [
    {
     "name": "stdout",
     "output_type": "stream",
     "text": [
      "apple\n",
      "banana\n",
      "cherry\n"
     ]
    }
   ],
   "source": [
    "thislist = [\"apple\", \"banana\", \"cherry\"]\n",
    "i = 0\n",
    "while i < len(thislist):\n",
    "    print(thislist[i])\n",
    "    i = i + 1"
   ]
  },
  {
   "cell_type": "markdown",
   "id": "0f85f40b",
   "metadata": {},
   "source": [
    "#### Looping Using List Comprehension\n",
    "List Comprehension offers the shortest syntax for looping through lists:"
   ]
  },
  {
   "cell_type": "code",
   "execution_count": 20,
   "id": "f8ffb2f6",
   "metadata": {},
   "outputs": [
    {
     "name": "stdout",
     "output_type": "stream",
     "text": [
      "apple\n",
      "banana\n",
      "cherry\n"
     ]
    },
    {
     "data": {
      "text/plain": [
       "[None, None, None]"
      ]
     },
     "execution_count": 20,
     "metadata": {},
     "output_type": "execute_result"
    }
   ],
   "source": [
    "# Looping Using List Comprehension \n",
    "thislist = [\"apple\", \"banana\", \"cherry\"]\n",
    "[print(x) for x in thislist]"
   ]
  },
  {
   "cell_type": "code",
   "execution_count": 21,
   "id": "95472f7c",
   "metadata": {},
   "outputs": [
    {
     "data": {
      "text/plain": [
       "['apple', 'banana', 'cherry']"
      ]
     },
     "execution_count": 21,
     "metadata": {},
     "output_type": "execute_result"
    }
   ],
   "source": [
    "thislist = [\"apple\", \"banana\", \"cherry\"]\n",
    "[x for x in thislist]"
   ]
  },
  {
   "cell_type": "markdown",
   "id": "2342beb4",
   "metadata": {},
   "source": [
    "### List Comprehension\n",
    "\n",
    "List comprehension offers a shorter syntax when you want to create a new list based on the values of an existing list.\n",
    "\n",
    "Example:\n",
    "\n",
    "Based on a list of fruits, you want a new list, containing only the fruits with the letter `\"a\"` in the name.\n",
    "\n",
    "Without list comprehension you will have to write a `for` statement with a conditional test inside:\n"
   ]
  },
  {
   "cell_type": "code",
   "execution_count": 22,
   "id": "44c63b82",
   "metadata": {},
   "outputs": [
    {
     "name": "stdout",
     "output_type": "stream",
     "text": [
      "['apple', 'banana', 'mango']\n"
     ]
    }
   ],
   "source": [
    "fruits = [\"apple\", \"banana\", \"cherry\", \"kiwi\", \"mango\"]\n",
    "newlist = []\n",
    "\n",
    "for x in fruits:\n",
    "    if \"a\"in x:\n",
    "        newlist.append(x)\n",
    "\n",
    "print(newlist)"
   ]
  },
  {
   "cell_type": "code",
   "execution_count": 23,
   "id": "58c546d1",
   "metadata": {},
   "outputs": [
    {
     "name": "stdout",
     "output_type": "stream",
     "text": [
      "['apple']\n"
     ]
    }
   ],
   "source": [
    "fruits = [\"apple\", \"banana\", \"cherry\", \"kiwi\", \"mango\"]\n",
    "newlist = []\n",
    "\n",
    "for x in fruits:\n",
    "    if x[0].lower() == \"a\":\n",
    "        newlist.append(x)\n",
    "\n",
    "print(newlist)"
   ]
  },
  {
   "cell_type": "markdown",
   "id": "94087d87",
   "metadata": {},
   "source": [
    "#### The Syntax\n",
    "\n",
    "`newlist = [expression for item in iterable if condition == True]`\n",
    "\n",
    "The return value is a new list, leaving the old list unchanged.\n",
    "\n",
    "#### Condition\n",
    "The condition is like a filter that only accepts the items that valuate to True."
   ]
  },
  {
   "cell_type": "code",
   "execution_count": 15,
   "id": "0be8244b",
   "metadata": {},
   "outputs": [
    {
     "name": "stdout",
     "output_type": "stream",
     "text": [
      "['banana', 'cherry', 'kiwi', 'mango']\n"
     ]
    }
   ],
   "source": [
    "fruits = [\"apple\", \"banana\", \"cherry\", \"kiwi\", \"mango\"]\n",
    "\n",
    "newlist = [x for x in fruits if x!= \"apple\"]\n",
    "print(newlist)"
   ]
  },
  {
   "cell_type": "code",
   "execution_count": 47,
   "id": "326e604c",
   "metadata": {},
   "outputs": [
    {
     "name": "stdout",
     "output_type": "stream",
     "text": [
      "['apple', 'banana', 'mango']\n"
     ]
    }
   ],
   "source": [
    "fruits = [\"apple\", \"banana\", \"cherry\", \"kiwi\", \"mango\"]\n",
    "newlist = [x for x in fruits if \"a\" in x]\n",
    "print(newlist)"
   ]
  },
  {
   "cell_type": "code",
   "execution_count": 48,
   "id": "3e1c98ad",
   "metadata": {},
   "outputs": [],
   "source": [
    "#newlist = [expression for item in iterable if condition == True]"
   ]
  },
  {
   "cell_type": "code",
   "execution_count": 49,
   "id": "db454ed0",
   "metadata": {},
   "outputs": [
    {
     "name": "stdout",
     "output_type": "stream",
     "text": [
      "['banana', 'cherry', 'kiwi', 'mango']\n"
     ]
    }
   ],
   "source": [
    "newlist = [x for x in fruits if x != \"apple\"]\n",
    "print(newlist)"
   ]
  },
  {
   "cell_type": "code",
   "execution_count": 51,
   "id": "bc4c6858",
   "metadata": {},
   "outputs": [
    {
     "name": "stdout",
     "output_type": "stream",
     "text": [
      "['banana', 'cherry', 'kiwi', 'mango']\n"
     ]
    }
   ],
   "source": [
    "newlist = [x for x in fruits if x != \"apple\" and  \"banana\"]\n",
    "print(newlist)\n",
    "# didn't work because havent given any condition\n",
    "# after and value"
   ]
  },
  {
   "cell_type": "code",
   "execution_count": 24,
   "id": "634b2290",
   "metadata": {},
   "outputs": [
    {
     "name": "stdout",
     "output_type": "stream",
     "text": [
      "['cherry', 'kiwi', 'mango']\n"
     ]
    }
   ],
   "source": [
    "newlist = [x for x in fruits if x != \"apple\" and x != \"banana\"]\n",
    "print(newlist)\n",
    "# this time it will work fine"
   ]
  },
  {
   "cell_type": "markdown",
   "id": "6e83a632",
   "metadata": {},
   "source": [
    "### Iterable\n",
    "The iterable can be any iterable object, like a list, tuple, set etc."
   ]
  },
  {
   "cell_type": "code",
   "execution_count": 53,
   "id": "ef765790",
   "metadata": {},
   "outputs": [],
   "source": [
    "newlist = [x for x in range(10)]"
   ]
  },
  {
   "cell_type": "code",
   "execution_count": 54,
   "id": "c65f017d",
   "metadata": {},
   "outputs": [
    {
     "data": {
      "text/plain": [
       "[0, 1, 2, 3, 4, 5, 6, 7, 8, 9]"
      ]
     },
     "execution_count": 54,
     "metadata": {},
     "output_type": "execute_result"
    }
   ],
   "source": [
    "newlist\n"
   ]
  },
  {
   "cell_type": "code",
   "execution_count": 55,
   "id": "699f0f4c",
   "metadata": {},
   "outputs": [
    {
     "data": {
      "text/plain": [
       "[0, 1, 2, 3, 4]"
      ]
     },
     "execution_count": 55,
     "metadata": {},
     "output_type": "execute_result"
    }
   ],
   "source": [
    "newlist = [x for x in range(10) if x <5]\n",
    "newlist"
   ]
  },
  {
   "cell_type": "markdown",
   "id": "6d26773b",
   "metadata": {},
   "source": [
    "#### Expression\n",
    "The expression is the current item in the iteration, but it is also the outcome, which you can manipulate before it ends up like a list item in the new list:"
   ]
  },
  {
   "cell_type": "code",
   "execution_count": 57,
   "id": "e58cf941",
   "metadata": {},
   "outputs": [
    {
     "data": {
      "text/plain": [
       "['APPLE', 'BANANA', 'CHERRY', 'KIWI', 'MANGO']"
      ]
     },
     "execution_count": 57,
     "metadata": {},
     "output_type": "execute_result"
    }
   ],
   "source": [
    "fruits = [\"apple\", \"banana\", \"cherry\", \"kiwi\", \"mango\"]\n",
    "\n",
    "newlist = [x.upper() for x in fruits]\n",
    "newlist"
   ]
  },
  {
   "cell_type": "code",
   "execution_count": 58,
   "id": "d14adc87",
   "metadata": {},
   "outputs": [
    {
     "data": {
      "text/plain": [
       "['hello', 'hello', 'hello', 'hello', 'hello']"
      ]
     },
     "execution_count": 58,
     "metadata": {},
     "output_type": "execute_result"
    }
   ],
   "source": [
    "# You can set the outcome to whatever you like:\n",
    "\n",
    "newlist = [\"hello\" for x in fruits]\n",
    "newlist"
   ]
  },
  {
   "cell_type": "code",
   "execution_count": 60,
   "id": "19b75d11",
   "metadata": {},
   "outputs": [],
   "source": [
    "fruits = [\"apple\", \"banana\", \"cherry\", \"kiwi\", \"mango\"]"
   ]
  },
  {
   "cell_type": "markdown",
   "id": "e1e1e5f2",
   "metadata": {},
   "source": [
    "The expression can also contain conditions, not like a filter, but as a way to manipulate the outcome:"
   ]
  },
  {
   "cell_type": "code",
   "execution_count": 61,
   "id": "db15d23c",
   "metadata": {},
   "outputs": [
    {
     "data": {
      "text/plain": [
       "['apple', 'orange', 'cherry', 'kiwi', 'mango']"
      ]
     },
     "execution_count": 61,
     "metadata": {},
     "output_type": "execute_result"
    }
   ],
   "source": [
    "newlist = [x if x!= \"banana\" else \"orange\" for x in fruits]\n",
    "newlist\n",
    "# \"Return the item if it is not banana,\n",
    "# if it is banana return orange\"."
   ]
  },
  {
   "cell_type": "code",
   "execution_count": 62,
   "id": "91f76266",
   "metadata": {},
   "outputs": [],
   "source": [
    "# in above code we got \"orange\" wherever \"banana\" was "
   ]
  },
  {
   "cell_type": "code",
   "execution_count": 64,
   "id": "072c603a",
   "metadata": {},
   "outputs": [
    {
     "data": {
      "text/plain": [
       "['h', 'e', 'l', 'l', 'o', ' ', 'w', 'o', 'r', 'l', 'd', '!']"
      ]
     },
     "execution_count": 64,
     "metadata": {},
     "output_type": "execute_result"
    }
   ],
   "source": [
    "a = \"Hello world!\"\n",
    "[x if x !=\"H\" else \"h\" for x in a]"
   ]
  },
  {
   "cell_type": "code",
   "execution_count": 67,
   "id": "04dcd5bd",
   "metadata": {},
   "outputs": [
    {
     "data": {
      "text/plain": [
       "[1, 3, 5, 7, 9, 11, 13, 15]"
      ]
     },
     "execution_count": 67,
     "metadata": {},
     "output_type": "execute_result"
    }
   ],
   "source": [
    "[x for x in range(1, 16) if x%2!= 0]"
   ]
  },
  {
   "cell_type": "markdown",
   "id": "613e3499",
   "metadata": {},
   "source": [
    "### Sort Lists\n",
    "\n",
    "\n",
    "#### Sort List Alphanumerically\n",
    "\n",
    "List objects have a `sort()` method that will sort the list alphanumerically, ascending, by default:"
   ]
  },
  {
   "cell_type": "code",
   "execution_count": 16,
   "id": "4879145e",
   "metadata": {},
   "outputs": [
    {
     "name": "stdout",
     "output_type": "stream",
     "text": [
      "['banana', 'kiwi', 'mango', 'orange', 'pineapple']\n"
     ]
    }
   ],
   "source": [
    "thislist = [\"orange\", \"mango\", \"kiwi\", \"pineapple\", \"banana\"]\n",
    "thislist.sort()\n",
    "print(thislist)"
   ]
  },
  {
   "cell_type": "code",
   "execution_count": 17,
   "id": "fb76020e",
   "metadata": {},
   "outputs": [
    {
     "name": "stdout",
     "output_type": "stream",
     "text": [
      "[23, 50, 65, 82, 100]\n"
     ]
    }
   ],
   "source": [
    "thislist = [100, 50, 65, 82, 23]\n",
    "thislist.sort()\n",
    "print(thislist)"
   ]
  },
  {
   "cell_type": "markdown",
   "id": "e13edab9",
   "metadata": {},
   "source": [
    "**note** sort method not supported between instances of `'int'` and `'str'`"
   ]
  },
  {
   "cell_type": "code",
   "execution_count": 25,
   "id": "f1a3e4cd",
   "metadata": {},
   "outputs": [
    {
     "ename": "TypeError",
     "evalue": "'<' not supported between instances of 'int' and 'str'",
     "output_type": "error",
     "traceback": [
      "\u001b[1;31m---------------------------------------------------------------------------\u001b[0m",
      "\u001b[1;31mTypeError\u001b[0m                                 Traceback (most recent call last)",
      "\u001b[1;32m~\\AppData\\Local\\Temp/ipykernel_6724/2051562929.py\u001b[0m in \u001b[0;36m<module>\u001b[1;34m\u001b[0m\n\u001b[0;32m      1\u001b[0m \u001b[0mthislist\u001b[0m \u001b[1;33m=\u001b[0m \u001b[1;33m[\u001b[0m\u001b[1;34m\"apple\"\u001b[0m\u001b[1;33m,\u001b[0m \u001b[1;34m\"banana\"\u001b[0m\u001b[1;33m,\u001b[0m \u001b[1;34m\"mango\"\u001b[0m\u001b[1;33m,\u001b[0m\u001b[1;36m12\u001b[0m\u001b[1;33m,\u001b[0m\u001b[1;36m3\u001b[0m\u001b[1;33m,\u001b[0m\u001b[1;36m4\u001b[0m\u001b[1;33m]\u001b[0m\u001b[1;33m\u001b[0m\u001b[1;33m\u001b[0m\u001b[0m\n\u001b[1;32m----> 2\u001b[1;33m \u001b[0mthislist\u001b[0m\u001b[1;33m.\u001b[0m\u001b[0msort\u001b[0m\u001b[1;33m(\u001b[0m\u001b[1;33m)\u001b[0m\u001b[1;33m\u001b[0m\u001b[1;33m\u001b[0m\u001b[0m\n\u001b[0m\u001b[0;32m      3\u001b[0m \u001b[0mprint\u001b[0m\u001b[1;33m(\u001b[0m\u001b[0mthislist\u001b[0m\u001b[1;33m)\u001b[0m\u001b[1;33m\u001b[0m\u001b[1;33m\u001b[0m\u001b[0m\n",
      "\u001b[1;31mTypeError\u001b[0m: '<' not supported between instances of 'int' and 'str'"
     ]
    }
   ],
   "source": [
    "thislist = [\"apple\", \"banana\", \"mango\",12,3,4]\n",
    "thislist.sort()\n",
    "print(thislist)"
   ]
  },
  {
   "cell_type": "code",
   "execution_count": null,
   "id": "0b8c5c03",
   "metadata": {},
   "outputs": [],
   "source": []
  },
  {
   "cell_type": "code",
   "execution_count": null,
   "id": "dfafd018",
   "metadata": {},
   "outputs": [],
   "source": []
  },
  {
   "cell_type": "markdown",
   "id": "817ad78c",
   "metadata": {},
   "source": [
    "#### Sort Descending\n",
    "To sort descending, use the keyword argument reverse = True:"
   ]
  },
  {
   "cell_type": "code",
   "execution_count": 18,
   "id": "a27e5e70",
   "metadata": {},
   "outputs": [
    {
     "name": "stdout",
     "output_type": "stream",
     "text": [
      "['pineapple', 'orange', 'mango', 'kiwi', 'banana']\n"
     ]
    }
   ],
   "source": [
    "thislist = [\"orange\", \"mango\", \"kiwi\", \"pineapple\", \"banana\"]\n",
    "\n",
    "thislist.sort(reverse=True)\n",
    "print(thislist)"
   ]
  },
  {
   "cell_type": "code",
   "execution_count": 19,
   "id": "225033b2",
   "metadata": {},
   "outputs": [
    {
     "name": "stdout",
     "output_type": "stream",
     "text": [
      "[100, 82, 65, 50, 23]\n"
     ]
    }
   ],
   "source": [
    "thislist = [100, 50, 65, 82, 23]\n",
    "thislist.sort(reverse=True)\n",
    "print(thislist)"
   ]
  },
  {
   "cell_type": "markdown",
   "id": "cf47343e",
   "metadata": {},
   "source": [
    "#### Customize Sort Function\n",
    "You can also customize your own function by using the keyword argument `key = function.`\n",
    "\n",
    "The function will return a number that will be used to sort the list (the lowest number first):"
   ]
  },
  {
   "cell_type": "code",
   "execution_count": 20,
   "id": "3ad757a5",
   "metadata": {},
   "outputs": [
    {
     "name": "stdout",
     "output_type": "stream",
     "text": [
      "[50, 65, 23, 82, 100]\n"
     ]
    }
   ],
   "source": [
    "# Sort the list based on how close \n",
    "# the number is to 50:\n",
    "def myfunc(n):\n",
    "    return abs(n-50)\n",
    "\n",
    "thislist = [100, 50, 65, 82, 23]\n",
    "thislist.sort(key= myfunc)\n",
    "print(thislist)"
   ]
  },
  {
   "cell_type": "code",
   "execution_count": 21,
   "id": "7177087a",
   "metadata": {},
   "outputs": [
    {
     "name": "stdout",
     "output_type": "stream",
     "text": [
      "[100, 82, 65, 50, 23]\n"
     ]
    }
   ],
   "source": [
    "def myfunc(n):\n",
    "    return abs(n-100)\n",
    "\n",
    "thislist = [100, 50, 65, 82, 23]\n",
    "thislist.sort(key=myfunc)\n",
    "print(thislist)"
   ]
  },
  {
   "cell_type": "markdown",
   "id": "e3571dcf",
   "metadata": {},
   "source": [
    "#### Case Insensitive Sort\n",
    "By default the `sort()` method is case sensitive, resulting in all capital letters being sorted before lower case letters:"
   ]
  },
  {
   "cell_type": "code",
   "execution_count": 22,
   "id": "92179c7b",
   "metadata": {
    "scrolled": true
   },
   "outputs": [
    {
     "name": "stdout",
     "output_type": "stream",
     "text": [
      "['Kiwi', 'Orange', 'banana', 'cherry']\n"
     ]
    }
   ],
   "source": [
    "thislist = [\"banana\", \"Orange\", \"Kiwi\", \"cherry\"]\n",
    "thislist.sort()\n",
    "print(thislist)"
   ]
  },
  {
   "cell_type": "markdown",
   "id": "18a115ee",
   "metadata": {},
   "source": [
    "Luckily we can use built-in functions as key functions when sorting a list.\n",
    "\n",
    "So if you want a case-insensitive sort function, use str.lower as a key function:"
   ]
  },
  {
   "cell_type": "code",
   "execution_count": 23,
   "id": "3e5a860e",
   "metadata": {},
   "outputs": [
    {
     "name": "stdout",
     "output_type": "stream",
     "text": [
      "['banana', 'cherry', 'Kiwi', 'Orange']\n"
     ]
    }
   ],
   "source": [
    "thislist = [\"banana\", \"Orange\", \"Kiwi\", \"cherry\"]\n",
    "thislist.sort(key= str.lower)\n",
    "print(thislist)"
   ]
  },
  {
   "cell_type": "markdown",
   "id": "6c56d716",
   "metadata": {},
   "source": [
    "#### Reverse Order\n",
    "What if you want to reverse the order of a list, regardless of the alphabet?\n",
    "\n",
    "The `reverse()` method reverses the current sorting order of the elements."
   ]
  },
  {
   "cell_type": "code",
   "execution_count": 76,
   "id": "67681610",
   "metadata": {},
   "outputs": [
    {
     "name": "stdout",
     "output_type": "stream",
     "text": [
      "['cherry', 'Kiwi', 'Orange', 'banana']\n"
     ]
    }
   ],
   "source": [
    "### Reverse Order\n",
    "thislist = [\"banana\", \"Orange\", \"Kiwi\", \"cherry\"]\n",
    "\n",
    "thislist.reverse()\n",
    "print(thislist)"
   ]
  },
  {
   "cell_type": "code",
   "execution_count": 24,
   "id": "c85fcc82",
   "metadata": {},
   "outputs": [
    {
     "name": "stdout",
     "output_type": "stream",
     "text": [
      "['cherry', 'kiwi', 'orange', 'banana']\n"
     ]
    }
   ],
   "source": [
    "# it reverse item inside list\n",
    "thislist = [\"banana\", \"orange\", \"kiwi\", \"cherry\"]\n",
    "thislist.reverse()\n",
    "print(thislist)"
   ]
  },
  {
   "cell_type": "markdown",
   "id": "969f4e34",
   "metadata": {},
   "source": [
    "### Copy a List\n",
    "\n",
    "You cannot copy a list simply by typing `list2 = list1`, because: `list2` will only be a reference to `list1`, and changes made in `list1` will automatically also be made in `list2`.\n",
    "\n",
    "There are ways to make a copy, one way is to use the built-in List method `copy()`."
   ]
  },
  {
   "cell_type": "code",
   "execution_count": 26,
   "id": "172913f2",
   "metadata": {},
   "outputs": [
    {
     "name": "stdout",
     "output_type": "stream",
     "text": [
      "['apple', 'banana', 'cherry']\n"
     ]
    }
   ],
   "source": [
    "thislist = [\"apple\", \"banana\", \"cherry\"]\n",
    "mylist = thislist.copy()\n",
    "print(mylist)"
   ]
  },
  {
   "cell_type": "code",
   "execution_count": 27,
   "id": "5eb1aa7b",
   "metadata": {},
   "outputs": [
    {
     "name": "stdout",
     "output_type": "stream",
     "text": [
      "['apple', 'banana', 'cherry']\n",
      "['apple', 'banana', 'cherry', 'mango']\n"
     ]
    }
   ],
   "source": [
    "mylist.append(\"mango\")\n",
    "print(thislist)\n",
    "print(mylist)"
   ]
  },
  {
   "cell_type": "code",
   "execution_count": 28,
   "id": "364b6533",
   "metadata": {},
   "outputs": [
    {
     "name": "stdout",
     "output_type": "stream",
     "text": [
      "['apple', 'banana', 'cherry']\n"
     ]
    }
   ],
   "source": [
    "# Another way to make a copy is to use the\n",
    "#built-in method list().\n",
    "thislist = [\"apple\", \"banana\", \"cherry\"]\n",
    "mylist = list(thislist)\n",
    "print(mylist)"
   ]
  },
  {
   "cell_type": "code",
   "execution_count": 81,
   "id": "bb439303",
   "metadata": {},
   "outputs": [
    {
     "name": "stdout",
     "output_type": "stream",
     "text": [
      "['apple', 'banana', 'cherry']\n"
     ]
    }
   ],
   "source": [
    "thislist = [\"apple\", \"banana\", \"cherry\"]\n",
    "mylist = thislist[:]\n",
    "print(mylist)"
   ]
  },
  {
   "cell_type": "code",
   "execution_count": 82,
   "id": "f2d25c93",
   "metadata": {},
   "outputs": [
    {
     "data": {
      "text/plain": [
       "['apple', 'banana', 'cherry', 'mango']"
      ]
     },
     "execution_count": 82,
     "metadata": {},
     "output_type": "execute_result"
    }
   ],
   "source": [
    "\n",
    "mylist.append(\"mango\")\n",
    "mylist"
   ]
  },
  {
   "cell_type": "code",
   "execution_count": 83,
   "id": "f6725787",
   "metadata": {},
   "outputs": [
    {
     "data": {
      "text/plain": [
       "['apple', 'banana', 'cherry']"
      ]
     },
     "execution_count": 83,
     "metadata": {},
     "output_type": "execute_result"
    }
   ],
   "source": [
    "thislist"
   ]
  },
  {
   "cell_type": "markdown",
   "id": "aa248772",
   "metadata": {},
   "source": [
    "### Join Two Lists\n",
    "\n",
    "There are several ways to join, or concatenate, two or more lists in Python.\n",
    "\n",
    "One of the easiest ways are by using the `+` operator."
   ]
  },
  {
   "cell_type": "code",
   "execution_count": 84,
   "id": "58f2eb5f",
   "metadata": {},
   "outputs": [
    {
     "name": "stdout",
     "output_type": "stream",
     "text": [
      "['a', 'b', 'c', 1, 2, 3]\n"
     ]
    }
   ],
   "source": [
    "list1 = [\"a\", \"b\", \"c\"]\n",
    "list2 = [1, 2, 3]\n",
    "\n",
    "list3 = list1 + list2\n",
    "print(list3)\n"
   ]
  },
  {
   "cell_type": "code",
   "execution_count": 85,
   "id": "4fd39ee0",
   "metadata": {},
   "outputs": [
    {
     "name": "stdout",
     "output_type": "stream",
     "text": [
      "[1, 2, 3, 'a', 'b', 'c']\n"
     ]
    }
   ],
   "source": [
    "list1 = [\"a\", \"b\", \"c\"]\n",
    "list2 = [1, 2, 3]\n",
    "\n",
    "list3 = list2 + list1\n",
    "print(list3)"
   ]
  },
  {
   "cell_type": "code",
   "execution_count": 86,
   "id": "833a63ef",
   "metadata": {},
   "outputs": [
    {
     "name": "stdout",
     "output_type": "stream",
     "text": [
      "['a', 'b', 'c', 1, 2, 3]\n"
     ]
    }
   ],
   "source": [
    "# another way of joining \n",
    "list1 = [\"a\", \"b\", \"c\"]\n",
    "list2 = [1, 2, 3]\n",
    "\n",
    "for x in list2:\n",
    "    list1.append(x)\n",
    "    \n",
    "print(list1)"
   ]
  },
  {
   "cell_type": "markdown",
   "id": "0895634e",
   "metadata": {},
   "source": [
    "Or you can use the `extend()` method, which purpose is to add elements from one list to another list:"
   ]
  },
  {
   "cell_type": "code",
   "execution_count": 87,
   "id": "329031af",
   "metadata": {},
   "outputs": [
    {
     "name": "stdout",
     "output_type": "stream",
     "text": [
      "['a', 'b', 'c', 1, 2, 3]\n"
     ]
    }
   ],
   "source": [
    "# By extend Method \n",
    "list1 = [\"a\", \"b\", \"c\"]\n",
    "list2 = [1, 2, 3]\n",
    "\n",
    "list1.extend(list2)\n",
    "print(list1)"
   ]
  },
  {
   "cell_type": "markdown",
   "id": "fd0a345b",
   "metadata": {},
   "source": [
    "### List Methods\n",
    "Python has a set of built-in methods that you can use on lists.\n",
    "\n",
    "Method\t             Description\n",
    "\n",
    "append()          --  Adds an element at the end of the list\n",
    "\n",
    "clear()           -- \tRemoves all the elements from the list\n",
    "\n",
    "copy()\t          --  Returns a copy of the list\n",
    "\n",
    "count()\t          --  Returns the number of elements with the specified value\n",
    "\n",
    "extend()\t      --  Add the elements of a list (or any iterable), to the end of the current list\n",
    "\n",
    "index()\t          --  Returns the index of the first element with the specified value\n",
    "\n",
    "insert()\t      --  Adds an element at the specified position\n",
    "\n",
    "pop()\t          --  Removes the element at the specified position\n",
    "\n",
    "remove()\t      --  Removes the item with the specified value\n",
    "\n",
    "reverse()\t      --  Reverses the order of the list\n",
    "\n",
    "sort()          --\tSorts the list"
   ]
  },
  {
   "cell_type": "code",
   "execution_count": 29,
   "id": "6ae229ce",
   "metadata": {},
   "outputs": [],
   "source": [
    "# append()\n",
    "fruits = ['apple', 'banana', 'cherry']\n",
    "fruits.append(\"orange\")"
   ]
  },
  {
   "cell_type": "code",
   "execution_count": 30,
   "id": "176cde91",
   "metadata": {},
   "outputs": [
    {
     "name": "stdout",
     "output_type": "stream",
     "text": [
      "['apple', 'banana', 'cherry', ['Ford', 'BMW', 'Volvo']]\n"
     ]
    }
   ],
   "source": [
    "a = [\"apple\", \"banana\", \"cherry\"]\n",
    "b = [\"Ford\", \"BMW\", \"Volvo\"]\n",
    "a.append(b)\n",
    "\n",
    "print(a)\n",
    "# when we append a complete list then \n",
    "# it make nested list"
   ]
  },
  {
   "cell_type": "code",
   "execution_count": 31,
   "id": "26f16306",
   "metadata": {},
   "outputs": [
    {
     "name": "stdout",
     "output_type": "stream",
     "text": [
      "[]\n"
     ]
    }
   ],
   "source": [
    "# clear()\n",
    "# Remove all elements from the fruits list:\n",
    "a = [\"apple\", \"banana\", \"cherry\"]\n",
    "a.clear()\n",
    "print(a)"
   ]
  },
  {
   "cell_type": "code",
   "execution_count": 33,
   "id": "2c04d9b3",
   "metadata": {},
   "outputs": [
    {
     "name": "stdout",
     "output_type": "stream",
     "text": [
      "['apple', 'banana', 'cherry', 'orange']\n"
     ]
    }
   ],
   "source": [
    "# copy()\n",
    "\n",
    "# Copy the fruits list:\n",
    "\n",
    "fruits = ['apple', 'banana', 'cherry', 'orange']\n",
    "\n",
    "x = fruits.copy()\n",
    "print(x)"
   ]
  },
  {
   "cell_type": "code",
   "execution_count": 34,
   "id": "2e60206b",
   "metadata": {},
   "outputs": [
    {
     "name": "stdout",
     "output_type": "stream",
     "text": [
      "1\n"
     ]
    }
   ],
   "source": [
    "# count()\n",
    "\n",
    "# Return the number of times the value \n",
    "# \"cherry\" appears in the fruits list:\n",
    "\n",
    "fruits = ['apple', 'banana', 'cherry','mango']\n",
    "\n",
    "x = fruits.count(\"cherry\")\n",
    "print(x)"
   ]
  },
  {
   "cell_type": "code",
   "execution_count": 36,
   "id": "2f3c4502",
   "metadata": {},
   "outputs": [
    {
     "name": "stdout",
     "output_type": "stream",
     "text": [
      "2\n"
     ]
    }
   ],
   "source": [
    "points = [1, 4, 2, 9, 7, 8, 9, 3, 1]\n",
    "\n",
    "x = points.count(9)\n",
    "print(x)"
   ]
  },
  {
   "cell_type": "code",
   "execution_count": 38,
   "id": "7bfa8706",
   "metadata": {},
   "outputs": [
    {
     "name": "stdout",
     "output_type": "stream",
     "text": [
      "['apple', 'banana', 'cherry', 'Ford', 'BMW', 'Volvo']\n"
     ]
    }
   ],
   "source": [
    "# extend()\n",
    "\n",
    "fruits = ['apple', 'banana', 'cherry']\n",
    "\n",
    "cars = ['Ford', 'BMW', 'Volvo']\n",
    "\n",
    "fruits.extend(cars)\n",
    "print(fruits)"
   ]
  },
  {
   "cell_type": "markdown",
   "id": "134af6ec",
   "metadata": {},
   "source": [
    "#### extend()\n",
    "\n",
    "The `extend()` method adds the specified list elements (or any iterable) to the end of the current list.\n",
    "\n",
    "`Syntax`\n",
    "\n",
    "`list.extend(iterable)`"
   ]
  },
  {
   "cell_type": "code",
   "execution_count": 39,
   "id": "8820493f",
   "metadata": {},
   "outputs": [
    {
     "name": "stdout",
     "output_type": "stream",
     "text": [
      "['apple', 'banana', 'cherry', 'Ford', 'BMW', 'Volvo', 'Ford', 'BMW', 'Volvo']\n"
     ]
    }
   ],
   "source": [
    "ruits = ['apple', 'banana', 'cherry']\n",
    "\n",
    "cars = ['Ford', 'BMW', 'Volvo']\n",
    "\n",
    "fruits.extend(cars)\n",
    "\n",
    "print(fruits)"
   ]
  },
  {
   "cell_type": "code",
   "execution_count": 41,
   "id": "837c4b48",
   "metadata": {},
   "outputs": [
    {
     "name": "stdout",
     "output_type": "stream",
     "text": [
      "['apple', 'banana', 'cherry', 1, 4, 5, 9]\n"
     ]
    }
   ],
   "source": [
    "fruits = ['apple', 'banana', 'cherry']\n",
    "\n",
    "points = (1, 4, 5, 9)\n",
    "\n",
    "fruits.extend(points)\n",
    "print(fruits)"
   ]
  },
  {
   "cell_type": "markdown",
   "id": "09184e07",
   "metadata": {},
   "source": [
    "#### index()\n",
    "\n",
    "The `index()` method returns the position at the first occurrence of the specified value.\n",
    "\n",
    "`Syntax`\n",
    "\n",
    "`list.index(elmnt)`"
   ]
  },
  {
   "cell_type": "code",
   "execution_count": 43,
   "id": "01f9330a",
   "metadata": {},
   "outputs": [
    {
     "name": "stdout",
     "output_type": "stream",
     "text": [
      "2\n"
     ]
    }
   ],
   "source": [
    "# What is the position of the value \"cherry\":\n",
    "\n",
    "fruits = ['apple', 'banana', 'cherry']\n",
    "\n",
    "x = fruits.index(\"cherry\")\n",
    "print(x)"
   ]
  },
  {
   "cell_type": "markdown",
   "id": "d59e1050",
   "metadata": {},
   "source": [
    "`Note:` The index() method only returns the first occurrence of the value."
   ]
  },
  {
   "cell_type": "code",
   "execution_count": 44,
   "id": "8dd4f826",
   "metadata": {},
   "outputs": [
    {
     "name": "stdout",
     "output_type": "stream",
     "text": [
      "3\n"
     ]
    }
   ],
   "source": [
    "fruits = [4, 55, 64, 32, 16, 32]\n",
    "\n",
    "x = fruits.index(32)\n",
    "print(x)"
   ]
  },
  {
   "cell_type": "code",
   "execution_count": 46,
   "id": "7bace966",
   "metadata": {},
   "outputs": [
    {
     "name": "stdout",
     "output_type": "stream",
     "text": [
      "3\n"
     ]
    }
   ],
   "source": [
    "fruits = [4, 55, 64, 32, 16, 32]\n",
    "\n",
    "x = fruits.index(32)\n",
    "print(x)"
   ]
  },
  {
   "cell_type": "markdown",
   "id": "5ebf55b7",
   "metadata": {},
   "source": [
    "#### insert\n",
    "The `insert()` method inserts the specified value at the specified position.\n",
    "\n",
    "`Syntax`\n",
    "\n",
    "`list.insert(pos, elmnt)`"
   ]
  },
  {
   "cell_type": "code",
   "execution_count": 47,
   "id": "f942297a",
   "metadata": {},
   "outputs": [],
   "source": [
    "#Insert the value \"orange\" as the second element of the fruit list:\n",
    "\n",
    "fruits = ['apple', 'banana', 'cherry']\n",
    "\n",
    "fruits.insert(1, \"orange\")"
   ]
  },
  {
   "cell_type": "markdown",
   "id": "43818c06",
   "metadata": {},
   "source": [
    "#### pop()\n",
    "\n",
    "The `pop()` method removes the element at the specified position.\n",
    "\n",
    "`Syntax`\n",
    "\n",
    "`ist.pop(pos)`"
   ]
  },
  {
   "cell_type": "code",
   "execution_count": 48,
   "id": "6e37d4be",
   "metadata": {},
   "outputs": [
    {
     "data": {
      "text/plain": [
       "'banana'"
      ]
     },
     "execution_count": 48,
     "metadata": {},
     "output_type": "execute_result"
    }
   ],
   "source": [
    "#Remove the second element of the fruit list:\n",
    "\n",
    "fruits = ['apple', 'banana', 'cherry']\n",
    "\n",
    "fruits.pop(1)"
   ]
  },
  {
   "cell_type": "code",
   "execution_count": 49,
   "id": "47e0172f",
   "metadata": {},
   "outputs": [
    {
     "data": {
      "text/plain": [
       "'cherry'"
      ]
     },
     "execution_count": 49,
     "metadata": {},
     "output_type": "execute_result"
    }
   ],
   "source": [
    "\n",
    "fruits = ['apple', 'banana', 'cherry']\n",
    "\n",
    "fruits.pop()"
   ]
  },
  {
   "cell_type": "markdown",
   "id": "54e48859",
   "metadata": {},
   "source": [
    "**note** when don't provide index number \n",
    "it pop last element of the list"
   ]
  },
  {
   "cell_type": "markdown",
   "id": "54976bf4",
   "metadata": {},
   "source": [
    "#### Renove()\n",
    "\n",
    "The `remove()` method removes the first occurrence of the element with the specified value.\n",
    "\n",
    "`Syntax`\n",
    "\n",
    "`list.remove(elment)`"
   ]
  },
  {
   "cell_type": "code",
   "execution_count": 54,
   "id": "68ae5ab9",
   "metadata": {},
   "outputs": [
    {
     "name": "stdout",
     "output_type": "stream",
     "text": [
      "['apple', 'cherry']\n"
     ]
    }
   ],
   "source": [
    "fruits = ['apple', 'banana', 'cherry']\n",
    "\n",
    "fruits.remove(\"banana\")\n",
    "print(fruits)"
   ]
  },
  {
   "cell_type": "code",
   "execution_count": 56,
   "id": "50ff5f6e",
   "metadata": {},
   "outputs": [
    {
     "ename": "ValueError",
     "evalue": "list.remove(x): x not in list",
     "output_type": "error",
     "traceback": [
      "\u001b[1;31m---------------------------------------------------------------------------\u001b[0m",
      "\u001b[1;31mValueError\u001b[0m                                Traceback (most recent call last)",
      "\u001b[1;32m~\\AppData\\Local\\Temp/ipykernel_6724/2895135320.py\u001b[0m in \u001b[0;36m<module>\u001b[1;34m\u001b[0m\n\u001b[0;32m      1\u001b[0m \u001b[0mfruits\u001b[0m \u001b[1;33m=\u001b[0m \u001b[1;33m[\u001b[0m\u001b[1;34m'apple'\u001b[0m\u001b[1;33m,\u001b[0m \u001b[1;34m'banana'\u001b[0m\u001b[1;33m,\u001b[0m \u001b[1;34m'cherry'\u001b[0m\u001b[1;33m]\u001b[0m\u001b[1;33m\u001b[0m\u001b[1;33m\u001b[0m\u001b[0m\n\u001b[0;32m      2\u001b[0m \u001b[1;33m\u001b[0m\u001b[0m\n\u001b[1;32m----> 3\u001b[1;33m \u001b[0mfruits\u001b[0m\u001b[1;33m.\u001b[0m\u001b[0mremove\u001b[0m\u001b[1;33m(\u001b[0m\u001b[1;36m1\u001b[0m\u001b[1;33m)\u001b[0m\u001b[1;33m\u001b[0m\u001b[1;33m\u001b[0m\u001b[0m\n\u001b[0m\u001b[0;32m      4\u001b[0m \u001b[0mprint\u001b[0m\u001b[1;33m(\u001b[0m\u001b[0mfruits\u001b[0m\u001b[1;33m)\u001b[0m\u001b[1;33m\u001b[0m\u001b[1;33m\u001b[0m\u001b[0m\n",
      "\u001b[1;31mValueError\u001b[0m: list.remove(x): x not in list"
     ]
    }
   ],
   "source": [
    "fruits = ['apple', 'banana', 'cherry']\n",
    "\n",
    "fruits.remove(1)\n",
    "print(fruits)\n",
    "\n",
    "## it doesn't take index"
   ]
  },
  {
   "cell_type": "markdown",
   "id": "e255e116",
   "metadata": {},
   "source": [
    "####  reverse()\n",
    "\n",
    "The `reverse()` method reverses the sorting order of the elements.\n",
    "\n",
    "`Syntax`\n",
    "\n",
    "`list.reverse()`"
   ]
  },
  {
   "cell_type": "code",
   "execution_count": 58,
   "id": "3ace9828",
   "metadata": {},
   "outputs": [
    {
     "name": "stdout",
     "output_type": "stream",
     "text": [
      "['cherry', 'banana', 'apple']\n"
     ]
    }
   ],
   "source": [
    "fruits = ['apple', 'banana', 'cherry']\n",
    "\n",
    "fruits.reverse()\n",
    "\n",
    "print(fruits)"
   ]
  },
  {
   "cell_type": "markdown",
   "id": "5f8e6c3c",
   "metadata": {},
   "source": [
    "#### list sort\n",
    "\n",
    "The `sort()` method sorts the list ascending by default.\n",
    "\n",
    "You can also make a function to decide the sorting criteria(s).\n",
    "\n",
    "`Syntax`\n",
    "\n",
    "`list.sort(reverse=True|False, key=myFunc)`\n",
    "\n",
    "\n",
    "\n",
    "* `reverse`----\tOptional. reverse=True will sort the list descending. Default is reverse=False\n",
    "\n",
    "* `key`----\tOptional. A function to specify the sorting criteria(s)\n"
   ]
  },
  {
   "cell_type": "code",
   "execution_count": 60,
   "id": "12c61767",
   "metadata": {},
   "outputs": [
    {
     "name": "stdout",
     "output_type": "stream",
     "text": [
      "['BMW', 'Ford', 'Volvo']\n"
     ]
    }
   ],
   "source": [
    "cars = ['Ford', 'BMW', 'Volvo']\n",
    "\n",
    "cars.sort()\n",
    "\n",
    "print(cars)"
   ]
  },
  {
   "cell_type": "code",
   "execution_count": 62,
   "id": "18f63b65",
   "metadata": {},
   "outputs": [
    {
     "name": "stdout",
     "output_type": "stream",
     "text": [
      "['VW', 'BMW', 'Ford', 'Mitsubishi']\n"
     ]
    }
   ],
   "source": [
    "# A function that returns the length of\n",
    "# the value:\n",
    "# means sort by len value\n",
    "def myFunc(e):\n",
    "    return len(e)\n",
    "\n",
    "cars = ['Ford', 'Mitsubishi', 'BMW', 'VW']\n",
    "\n",
    "cars.sort(key= myFunc)\n",
    "print(cars)"
   ]
  },
  {
   "cell_type": "code",
   "execution_count": 63,
   "id": "15258d4b",
   "metadata": {},
   "outputs": [
    {
     "name": "stdout",
     "output_type": "stream",
     "text": [
      "[{'car': 'Mitsubishi', 'year': 2000}, {'car': 'Ford', 'year': 2005}, {'car': 'VW', 'year': 2011}, {'car': 'BMW', 'year': 2019}]\n"
     ]
    }
   ],
   "source": [
    "# Sort a list of dictionaries based on the \n",
    "# \"year\" value of the dictionaries:\n",
    "\n",
    "def myFunc(e):\n",
    "    \n",
    "    return e[\"year\"]\n",
    "\n",
    "cars = [\n",
    "  {'car': 'Ford', 'year': 2005},\n",
    "  {'car': 'Mitsubishi', 'year': 2000},\n",
    "  {'car': 'BMW', 'year': 2019},\n",
    "  {'car': 'VW', 'year': 2011}\n",
    "]\n",
    "\n",
    "cars.sort(key=myFunc)\n",
    "print(cars)"
   ]
  },
  {
   "cell_type": "code",
   "execution_count": 64,
   "id": "ffbaa350",
   "metadata": {},
   "outputs": [
    {
     "name": "stdout",
     "output_type": "stream",
     "text": [
      "[{'car': 'BMW', 'year': 2019}, {'car': 'Ford', 'year': 2005}, {'car': 'Mitsubishi', 'year': 2000}, {'car': 'VW', 'year': 2011}]\n"
     ]
    }
   ],
   "source": [
    "# by car alphabet \n",
    "def myFunc(e):\n",
    "    \n",
    "    return e[\"car\"]\n",
    "\n",
    "cars = [\n",
    "  {'car': 'Ford', 'year': 2005},\n",
    "  {'car': 'Mitsubishi', 'year': 2000},\n",
    "  {'car': 'BMW', 'year': 2019},\n",
    "  {'car': 'VW', 'year': 2011}\n",
    "]\n",
    "\n",
    "cars.sort(key=myFunc)\n",
    "print(cars)"
   ]
  },
  {
   "cell_type": "markdown",
   "id": "0fae7c07",
   "metadata": {},
   "source": [
    "#### when reverse is True"
   ]
  },
  {
   "cell_type": "code",
   "execution_count": 66,
   "id": "cfe015a9",
   "metadata": {},
   "outputs": [
    {
     "name": "stdout",
     "output_type": "stream",
     "text": [
      "['Mitsubishi', 'Ford', 'BMW', 'VW']\n"
     ]
    }
   ],
   "source": [
    "# A function that returns the length of the value:\n",
    "def myFunc(e):\n",
    "    return len(e)\n",
    "\n",
    "cars = ['Ford', 'Mitsubishi', 'BMW', 'VW']\n",
    "\n",
    "cars.sort(reverse=True, key=myFunc)\n",
    "print(cars)"
   ]
  },
  {
   "cell_type": "markdown",
   "id": "dce23e71",
   "metadata": {},
   "source": [
    "Thank you for having Patience 😊👍😍✌"
   ]
  }
 ],
 "metadata": {
  "kernelspec": {
   "display_name": "Python 3 (ipykernel)",
   "language": "python",
   "name": "python3"
  },
  "language_info": {
   "codemirror_mode": {
    "name": "ipython",
    "version": 3
   },
   "file_extension": ".py",
   "mimetype": "text/x-python",
   "name": "python",
   "nbconvert_exporter": "python",
   "pygments_lexer": "ipython3",
   "version": "3.7.8"
  }
 },
 "nbformat": 4,
 "nbformat_minor": 5
}

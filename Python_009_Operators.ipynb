{
 "cells": [
  {
   "cell_type": "markdown",
   "id": "d67f4552",
   "metadata": {},
   "source": [
    "#### Python Operators\n",
    "Operators are used to perform operations on variables and values.\n",
    "\n",
    "In the example below, we will use the '+' operator to add together two values:"
   ]
  },
  {
   "cell_type": "code",
   "execution_count": 1,
   "id": "db65a593",
   "metadata": {},
   "outputs": [
    {
     "name": "stdout",
     "output_type": "stream",
     "text": [
      "15\n"
     ]
    }
   ],
   "source": [
    "print(10 + 5)"
   ]
  },
  {
   "cell_type": "markdown",
   "id": "56ff2b2a",
   "metadata": {},
   "source": [
    "`Python divides the operators in the following groups:`\n",
    "\n",
    "* 1.  Arithmetic operators\n",
    "\n",
    "* 2.  Assignment operators\n",
    "\n",
    "* 3.  Comparison operators\n",
    "\n",
    "* 4.  Logical operators\n",
    "\n",
    "* 5.  Identity operators\n",
    "\n",
    "* 6.  Membership operators\n",
    "\n",
    "* 7.  Bitwise operators\n"
   ]
  },
  {
   "cell_type": "markdown",
   "id": "d54edc56",
   "metadata": {},
   "source": [
    "#### 1.  Python Arithmetic Operators\n",
    "\n",
    "\n",
    "Arithmetic operators are used with numeric values to perform common mathematical operations:\n",
    "\n",
    "\n",
    "Operator ----\tName\t----------- Example\t\n",
    "\n",
    "* ` +\t`  --------Addition\t---------x + y\t\n",
    "\n",
    "* ` -\t`  --------Subtraction\t-----x - y\t\n",
    "\n",
    "* ` *\t`  --------Multiplication----x * y\t\n",
    "\n",
    "* ` /\t`  --------Division\t---------x / y\t\n",
    "\n",
    "* ` %\t`  --------Modulus\t---------x % y\t\n",
    "\n",
    "* ` **`  --------  Exponentiation----x ** y\t\n",
    "\n",
    "* ` //`  --------  Floor division---x // y\n"
   ]
  },
  {
   "cell_type": "code",
   "execution_count": 1,
   "id": "7bfa2ddc",
   "metadata": {},
   "outputs": [
    {
     "name": "stdout",
     "output_type": "stream",
     "text": [
      "8\n"
     ]
    }
   ],
   "source": [
    "# Addition + \n",
    "\n",
    "x = 5\n",
    "y = 3\n",
    "\n",
    "print(x + y)\n"
   ]
  },
  {
   "cell_type": "code",
   "execution_count": 2,
   "id": "7b37afcc",
   "metadata": {},
   "outputs": [
    {
     "name": "stdout",
     "output_type": "stream",
     "text": [
      "2\n"
     ]
    }
   ],
   "source": [
    "# Subtraction - \n",
    "x = 5\n",
    "y = 3\n",
    "\n",
    "print(x - y)\n"
   ]
  },
  {
   "cell_type": "code",
   "execution_count": 3,
   "id": "8a197fd8",
   "metadata": {},
   "outputs": [
    {
     "name": "stdout",
     "output_type": "stream",
     "text": [
      "15\n"
     ]
    }
   ],
   "source": [
    "# Multiplication * \n",
    "\n",
    "x = 5\n",
    "y = 3\n",
    "\n",
    "print(x * y)\n"
   ]
  },
  {
   "cell_type": "code",
   "execution_count": 4,
   "id": "58856f44",
   "metadata": {},
   "outputs": [
    {
     "name": "stdout",
     "output_type": "stream",
     "text": [
      "4.0\n"
     ]
    }
   ],
   "source": [
    "# Division /\n",
    "x = 12\n",
    "y = 3\n",
    "\n",
    "print(x / y)\n"
   ]
  },
  {
   "cell_type": "code",
   "execution_count": 2,
   "id": "137f86b5",
   "metadata": {},
   "outputs": [
    {
     "name": "stdout",
     "output_type": "stream",
     "text": [
      "-2.5\n"
     ]
    }
   ],
   "source": [
    "x = 5\n",
    "y = -2\n",
    "\n",
    "print(x/y)"
   ]
  },
  {
   "cell_type": "code",
   "execution_count": 5,
   "id": "b79cad22",
   "metadata": {},
   "outputs": [
    {
     "name": "stdout",
     "output_type": "stream",
     "text": [
      "1\n"
     ]
    }
   ],
   "source": [
    "# Modulus %\n",
    "x = 5\n",
    "y = 2\n",
    "\n",
    "print(x % y)\n"
   ]
  },
  {
   "cell_type": "code",
   "execution_count": 6,
   "id": "2fb136f7",
   "metadata": {},
   "outputs": [
    {
     "name": "stdout",
     "output_type": "stream",
     "text": [
      "32\n"
     ]
    }
   ],
   "source": [
    "#Exponentiation ** \n",
    "x = 2\n",
    "y = 5\n",
    "\n",
    "print(x ** y)"
   ]
  },
  {
   "cell_type": "markdown",
   "id": "42c90734",
   "metadata": {},
   "source": [
    "#### Floor division \n",
    "\n",
    "Floor division is an operation in Python that divides two numbers and rounds the result `down to the nearest integer`. The floor division happens via the double-backslash (`//`) operator. `r = a // b.`"
   ]
  },
  {
   "cell_type": "code",
   "execution_count": 2,
   "id": "8e2b0acc",
   "metadata": {},
   "outputs": [
    {
     "name": "stdout",
     "output_type": "stream",
     "text": [
      "7\n"
     ]
    }
   ],
   "source": [
    "# Floor division\n",
    "x = 15\n",
    "y = 2\n",
    "\n",
    "print(x // y)"
   ]
  },
  {
   "cell_type": "code",
   "execution_count": 3,
   "id": "3245a395",
   "metadata": {},
   "outputs": [
    {
     "name": "stdout",
     "output_type": "stream",
     "text": [
      "1\n"
     ]
    }
   ],
   "source": [
    "x = 5\n",
    "y = 3\n",
    "\n",
    "print(x // y)"
   ]
  },
  {
   "cell_type": "code",
   "execution_count": 4,
   "id": "48808be9",
   "metadata": {},
   "outputs": [
    {
     "name": "stdout",
     "output_type": "stream",
     "text": [
      "-2\n"
     ]
    }
   ],
   "source": [
    "x = -5\n",
    "y = 3\n",
    "\n",
    "print(x // y)\n",
    "\n",
    "# down to the nearest integer\n",
    "# means opposite to normal math "
   ]
  },
  {
   "cell_type": "code",
   "execution_count": 4,
   "id": "b05dd2f4",
   "metadata": {},
   "outputs": [
    {
     "name": "stdout",
     "output_type": "stream",
     "text": [
      "-3\n"
     ]
    }
   ],
   "source": [
    "x = 5\n",
    "y = -2\n",
    "\n",
    "print(x//y)"
   ]
  },
  {
   "cell_type": "markdown",
   "id": "bd57b899",
   "metadata": {},
   "source": [
    "#### Python Assignment Operators\n",
    "\n",
    "Assignment operators are used to assign values to variables:\n",
    "\n",
    "* Operator\t----Example   ---- \tSame As\t\n",
    "\n",
    "*  `=`  ----\tx = 5\t--------x = 5\t\n",
    "\n",
    "* `+=`  ----\tx += 3\t--------x = x + 3\t\n",
    "\n",
    "* `-=`  ----\tx -= 3\t--------x = x - 3\t\n",
    "\n",
    "* `*=`  ----\tx *= 3\t--------x = x * 3\t\n",
    "\n",
    "* `/=`  ----\tx /= 3\t--------x = x / 3\t\n",
    "\n",
    "* `%=`  ----\tx %= 3\t--------x = x % 3\t\n",
    "\n",
    "* `//=`  ----\tx //= 3\t--------x = x // 3\t\n",
    "\n",
    "* `**=`  ----\tx **= 3\t--------x = x ** 3\t\n",
    "\n",
    "* `&=`  ----\tx &= 3\t--------x = x & 3\t\n",
    "\n",
    "* `|=`  ----\tx |= 3\t--------x = x | 3\t\n",
    "\n",
    "* `^=`  ----\tx ^= 3\t--------x = x ^ 3\t\n",
    "\n",
    "* `>>=`  ----\tx >>= 3\t--------x = x >> 3\t\n",
    "\n",
    "* `<<=`  ----\tx <<= 3\t--------x = x << 3\n",
    "\n"
   ]
  },
  {
   "cell_type": "code",
   "execution_count": 10,
   "id": "3bed2d9c",
   "metadata": {},
   "outputs": [
    {
     "name": "stdout",
     "output_type": "stream",
     "text": [
      "5\n"
     ]
    }
   ],
   "source": [
    "# =\n",
    "x = 5 \n",
    "print(x)"
   ]
  },
  {
   "cell_type": "code",
   "execution_count": 11,
   "id": "4fb7865a",
   "metadata": {},
   "outputs": [
    {
     "name": "stdout",
     "output_type": "stream",
     "text": [
      "8\n"
     ]
    }
   ],
   "source": [
    "# +=\n",
    "\n",
    "x = 5 \n",
    "x += 3\n",
    "\n",
    "print(x)"
   ]
  },
  {
   "cell_type": "code",
   "execution_count": 12,
   "id": "f3605eac",
   "metadata": {},
   "outputs": [
    {
     "name": "stdout",
     "output_type": "stream",
     "text": [
      "2\n"
     ]
    }
   ],
   "source": [
    "# -=\n",
    "\n",
    "x = 5\n",
    "\n",
    "x -= 3\n",
    "\n",
    "print(x)"
   ]
  },
  {
   "cell_type": "code",
   "execution_count": 13,
   "id": "7e849d4d",
   "metadata": {},
   "outputs": [
    {
     "name": "stdout",
     "output_type": "stream",
     "text": [
      "15\n"
     ]
    }
   ],
   "source": [
    "# *=\n",
    "\n",
    "x = 5\n",
    "\n",
    "x *= 3\n",
    "\n",
    "print(x)"
   ]
  },
  {
   "cell_type": "code",
   "execution_count": 14,
   "id": "30bec1e2",
   "metadata": {},
   "outputs": [
    {
     "name": "stdout",
     "output_type": "stream",
     "text": [
      "1.6666666666666667\n"
     ]
    }
   ],
   "source": [
    "# /=\n",
    "\n",
    "x = 5\n",
    "\n",
    "x /=3\n",
    "print(x)"
   ]
  },
  {
   "cell_type": "code",
   "execution_count": 15,
   "id": "391f765c",
   "metadata": {},
   "outputs": [
    {
     "name": "stdout",
     "output_type": "stream",
     "text": [
      "1.67\n"
     ]
    }
   ],
   "source": [
    "# /=\n",
    "\n",
    "x = 5\n",
    "\n",
    "x /=3\n",
    "print(f\"{x:.2f}\")"
   ]
  },
  {
   "cell_type": "code",
   "execution_count": 16,
   "id": "fcf12aad",
   "metadata": {},
   "outputs": [
    {
     "name": "stdout",
     "output_type": "stream",
     "text": [
      "2\n"
     ]
    }
   ],
   "source": [
    "# %= \n",
    "\n",
    "x = 5\n",
    "\n",
    "x %= 3\n",
    "\n",
    "print(x)"
   ]
  },
  {
   "cell_type": "code",
   "execution_count": 4,
   "id": "9e8b443f",
   "metadata": {},
   "outputs": [
    {
     "name": "stdout",
     "output_type": "stream",
     "text": [
      "1\n"
     ]
    }
   ],
   "source": [
    "# //=\n",
    "\n",
    "x = 5\n",
    "\n",
    "x //= 3\n",
    "\n",
    "print(x)"
   ]
  },
  {
   "cell_type": "code",
   "execution_count": 18,
   "id": "538b2855",
   "metadata": {},
   "outputs": [
    {
     "name": "stdout",
     "output_type": "stream",
     "text": [
      "25\n"
     ]
    }
   ],
   "source": [
    "# **=\n",
    "\n",
    "x = 5\n",
    "\n",
    "x **= 2\n",
    "\n",
    "print(x)"
   ]
  },
  {
   "cell_type": "code",
   "execution_count": 5,
   "id": "505b0e19",
   "metadata": {},
   "outputs": [
    {
     "name": "stdout",
     "output_type": "stream",
     "text": [
      "1\n"
     ]
    }
   ],
   "source": [
    "x = 5\n",
    "\n",
    "x &= 3  # & ---AND ------Sets each bit to 1 if both bits are 1.\n",
    "\n",
    "print(x)"
   ]
  },
  {
   "cell_type": "code",
   "execution_count": 6,
   "id": "dd82a3a5",
   "metadata": {},
   "outputs": [
    {
     "name": "stdout",
     "output_type": "stream",
     "text": [
      "7\n"
     ]
    }
   ],
   "source": [
    "x = 5\n",
    "\n",
    "x |= 3  # | --- OR------ Sets each bit to 1 if one of two bits is 1.\n",
    "\n",
    "print(x)\n"
   ]
  },
  {
   "cell_type": "code",
   "execution_count": 21,
   "id": "509e62b5",
   "metadata": {},
   "outputs": [
    {
     "name": "stdout",
     "output_type": "stream",
     "text": [
      "6\n"
     ]
    }
   ],
   "source": [
    "x = 5\n",
    "\n",
    "x ^= 3    # '^' ---XOR ------Sets each bit to 1 if only one of two bits is 1.\n",
    "\n",
    "print(x)\n"
   ]
  },
  {
   "cell_type": "code",
   "execution_count": 22,
   "id": "64f0f758",
   "metadata": {},
   "outputs": [
    {
     "name": "stdout",
     "output_type": "stream",
     "text": [
      "0\n"
     ]
    }
   ],
   "source": [
    "x = 5\n",
    "\n",
    "x >>= 3  # >>    Signed right shift Shift right by pushing copies of the leftmost bit in \n",
    "         # from the left, and let the rightmost bits fall off\n",
    "\n",
    "print(x)\n"
   ]
  },
  {
   "cell_type": "code",
   "execution_count": 25,
   "id": "04334462",
   "metadata": {},
   "outputs": [
    {
     "name": "stdout",
     "output_type": "stream",
     "text": [
      "40\n"
     ]
    }
   ],
   "source": [
    "x = 5\n",
    "\n",
    "x <<= 3  # <<  Zero fill left shift Shift left by pushing zeros in from the right\n",
    "         #  and let the leftmost bits fall off.\n",
    "\n",
    "print(x)\n"
   ]
  },
  {
   "cell_type": "markdown",
   "id": "c930728b",
   "metadata": {},
   "source": [
    "#### Python Comparison Operators\n",
    "Comparison operators are used to compare two values:\n",
    "\n",
    "* Operator     ------   Name   -----\tExample\t\n",
    "\n",
    "* ` == `       ------   \tEqual           \t`x == y\t`\n",
    "\n",
    "* `!=`         ------  \tNot equal           \t`x != y`\t\n",
    "\n",
    "* `>`          ------ \tGreater than           \t`x > y`\n",
    "\n",
    "* `<`          ------ \tLess than\t           `x < y`\n",
    "\n",
    "* `>=`         ------  \tGreater than or equal to           \t`x >= y`\t\n",
    "\n",
    "* `<=`\t       ------     Less than or equal to           \t`x <= y`"
   ]
  },
  {
   "cell_type": "code",
   "execution_count": 10,
   "id": "b556d560",
   "metadata": {},
   "outputs": [
    {
     "name": "stdout",
     "output_type": "stream",
     "text": [
      "False\n"
     ]
    }
   ],
   "source": [
    "x = 5\n",
    "y = 3\n",
    "\n",
    "print(x == y)\n"
   ]
  },
  {
   "cell_type": "code",
   "execution_count": 11,
   "id": "279ecfcb",
   "metadata": {},
   "outputs": [
    {
     "name": "stdout",
     "output_type": "stream",
     "text": [
      "True\n"
     ]
    }
   ],
   "source": [
    "x = 5\n",
    "y = 3\n",
    "\n",
    "print(x != y)\n"
   ]
  },
  {
   "cell_type": "code",
   "execution_count": 12,
   "id": "57b5ddd2",
   "metadata": {},
   "outputs": [
    {
     "name": "stdout",
     "output_type": "stream",
     "text": [
      "True\n"
     ]
    }
   ],
   "source": [
    "x = 5\n",
    "y = 3\n",
    "\n",
    "print(x > y)\n"
   ]
  },
  {
   "cell_type": "code",
   "execution_count": 13,
   "id": "ef71d7a8",
   "metadata": {},
   "outputs": [
    {
     "name": "stdout",
     "output_type": "stream",
     "text": [
      "False\n"
     ]
    }
   ],
   "source": [
    "x = 5\n",
    "y = 3\n",
    "\n",
    "print(x < y)\n"
   ]
  },
  {
   "cell_type": "code",
   "execution_count": 14,
   "id": "0898bf11",
   "metadata": {},
   "outputs": [
    {
     "name": "stdout",
     "output_type": "stream",
     "text": [
      "True\n"
     ]
    }
   ],
   "source": [
    "x = 5\n",
    "y = 3\n",
    "\n",
    "print(x >= y)\n"
   ]
  },
  {
   "cell_type": "code",
   "execution_count": 15,
   "id": "4b85b7df",
   "metadata": {},
   "outputs": [
    {
     "ename": "SyntaxError",
     "evalue": "invalid syntax (26097250.py, line 4)",
     "output_type": "error",
     "traceback": [
      "\u001b[1;36m  Input \u001b[1;32mIn [15]\u001b[1;36m\u001b[0m\n\u001b[1;33m    print(x > = y)\u001b[0m\n\u001b[1;37m              ^\u001b[0m\n\u001b[1;31mSyntaxError\u001b[0m\u001b[1;31m:\u001b[0m invalid syntax\n"
     ]
    }
   ],
   "source": [
    "x = 5\n",
    "y = 3\n",
    "\n",
    "print(x > = y)\n",
    "\n",
    "# note - there shuold be no gap between both\n",
    "# the operator\n",
    "\n"
   ]
  },
  {
   "cell_type": "code",
   "execution_count": 16,
   "id": "77413457",
   "metadata": {},
   "outputs": [
    {
     "name": "stdout",
     "output_type": "stream",
     "text": [
      "False\n"
     ]
    }
   ],
   "source": [
    "x = 5\n",
    "y = 3\n",
    "\n",
    "print(x <= y)\n"
   ]
  },
  {
   "cell_type": "markdown",
   "id": "bfb85937",
   "metadata": {},
   "source": [
    "#### Python Logical Operators\n",
    "Logical operators are used to combine conditional statements:\n",
    "\n",
    "* `and `\tReturns True if both statements are true\tx < 5 and  x < 10\t\n",
    "\n",
    "* `or`\tReturns True if one of the statements is true\tx < 5 or x < 4\t\n",
    "\n",
    "* `not`\tReverse the result, returns False if the result is true\tnot(x < 5 and x < 10)"
   ]
  },
  {
   "cell_type": "code",
   "execution_count": 8,
   "id": "a6af3080",
   "metadata": {},
   "outputs": [
    {
     "name": "stdout",
     "output_type": "stream",
     "text": [
      "True\n"
     ]
    }
   ],
   "source": [
    "x = 5\n",
    "print(x> 3 and x<10)"
   ]
  },
  {
   "cell_type": "code",
   "execution_count": 9,
   "id": "d0170505",
   "metadata": {},
   "outputs": [
    {
     "name": "stdout",
     "output_type": "stream",
     "text": [
      "True\n"
     ]
    }
   ],
   "source": [
    "x = 5\n",
    "\n",
    "print(x> 4 or x<4)"
   ]
  },
  {
   "cell_type": "code",
   "execution_count": 10,
   "id": "2af224cd",
   "metadata": {},
   "outputs": [
    {
     "name": "stdout",
     "output_type": "stream",
     "text": [
      "False\n"
     ]
    }
   ],
   "source": [
    "x = 5\n",
    "print(not(x>3 and x < 10))\n",
    "# returns False because not is used to\n",
    "# reverse the result\n"
   ]
  },
  {
   "cell_type": "code",
   "execution_count": 11,
   "id": "d2b232bd",
   "metadata": {},
   "outputs": [
    {
     "name": "stdout",
     "output_type": "stream",
     "text": [
      "False\n"
     ]
    }
   ],
   "source": [
    "x = 3\n",
    "\n",
    "print(not(x>2 and x<20))"
   ]
  },
  {
   "cell_type": "code",
   "execution_count": 31,
   "id": "7c5964f6",
   "metadata": {},
   "outputs": [
    {
     "name": "stdout",
     "output_type": "stream",
     "text": [
      "False\n"
     ]
    }
   ],
   "source": [
    "x = 5\n",
    "print(not(x>2))# 'NOt' operator reverse the result means \n",
    "               # if condition is 'True' then it will return 'False'"
   ]
  },
  {
   "cell_type": "markdown",
   "id": "797f3423",
   "metadata": {},
   "source": [
    "#### Python Identity Operators\n",
    "\n",
    "\n",
    "Identity operators are used to compare the objects, not if they are equal, but if they are actually the same object, with the same memory location:\n",
    "\n",
    "`is` \t----  Returns True if both variables are the same object\tx is y\t\n",
    "\n",
    "\n",
    "`is not`\t----  Returns True if both variables are not the same object"
   ]
  },
  {
   "cell_type": "code",
   "execution_count": 5,
   "id": "f2b860db",
   "metadata": {},
   "outputs": [
    {
     "name": "stdout",
     "output_type": "stream",
     "text": [
      "True\n"
     ]
    }
   ],
   "source": [
    "# note here we have taken same \n",
    "x = [\"apple\", \"banana\"]\n",
    "y = [\"apple\", \"banana\"]\n",
    "\n",
    "z = x\n",
    "\n",
    "print(x is z)"
   ]
  },
  {
   "cell_type": "markdown",
   "id": "dd4d3736",
   "metadata": {},
   "source": [
    " returns True because z is the same object as x"
   ]
  },
  {
   "cell_type": "code",
   "execution_count": 6,
   "id": "0d7ce275",
   "metadata": {},
   "outputs": [
    {
     "name": "stdout",
     "output_type": "stream",
     "text": [
      "False\n"
     ]
    }
   ],
   "source": [
    "# note here we have taken same element in both the list \n",
    "# despite that it retruns False becasue objects of 'x' and object of 'y' is diff.\n",
    "\n",
    "print(x is y)"
   ]
  },
  {
   "cell_type": "code",
   "execution_count": 7,
   "id": "f7a13b20",
   "metadata": {},
   "outputs": [
    {
     "data": {
      "text/plain": [
       "(2077674065792, 2077674065536)"
      ]
     },
     "execution_count": 7,
     "metadata": {},
     "output_type": "execute_result"
    }
   ],
   "source": [
    "id(x), id(y)"
   ]
  },
  {
   "cell_type": "markdown",
   "id": "f788b950",
   "metadata": {},
   "source": [
    "returns False because x is not the same object as y, even if they have the same content"
   ]
  },
  {
   "cell_type": "code",
   "execution_count": 8,
   "id": "99a308a0",
   "metadata": {},
   "outputs": [
    {
     "name": "stdout",
     "output_type": "stream",
     "text": [
      "True\n"
     ]
    }
   ],
   "source": [
    "print(x == y)"
   ]
  },
  {
   "cell_type": "markdown",
   "id": "5fdc5a37",
   "metadata": {},
   "source": [
    "to demonstrate the difference betweeen \"is\" and \"==\": this comparison returns True because x is equal to y"
   ]
  },
  {
   "cell_type": "code",
   "execution_count": 9,
   "id": "41318339",
   "metadata": {},
   "outputs": [
    {
     "name": "stdout",
     "output_type": "stream",
     "text": [
      "False\n",
      "True\n",
      "False\n"
     ]
    }
   ],
   "source": [
    "x = [\"apple\", \"banana\"]\n",
    "y = [\"apple\", \"banana\"]\n",
    "z = x\n",
    "\n",
    "print(x is not z)\n",
    "\n",
    "# returns False because z is the same object as x\n",
    "\n",
    "print(x is not y)\n",
    "\n",
    "# returns True because x is not the same object as y, even if they have the same content\n",
    "\n",
    "print(x != y)\n",
    "\n",
    "# to demonstrate the difference betweeen \"is not\" and \"!=\": this comparison returns False because\n",
    "# x is equal to y.\n"
   ]
  },
  {
   "cell_type": "markdown",
   "id": "15a157a3",
   "metadata": {},
   "source": [
    "#### Python Membership Operators\n",
    "Membership operators are used to test if a sequence is presented in an object:\n",
    "\n",
    "* `in `\tReturns True if a sequence with the specified value is present in the object\tx in y\n",
    "\n",
    "\n",
    "* `not in`\tReturns True if a sequence with the specified value is not present in the object\tx not in y"
   ]
  },
  {
   "cell_type": "code",
   "execution_count": 38,
   "id": "7f187cee",
   "metadata": {},
   "outputs": [
    {
     "name": "stdout",
     "output_type": "stream",
     "text": [
      "True\n"
     ]
    }
   ],
   "source": [
    "x = [\"apple\", \"banana\"]\n",
    "\n",
    "print(\"banana\" in x)\n"
   ]
  },
  {
   "cell_type": "markdown",
   "id": "cdc826e2",
   "metadata": {},
   "source": [
    "returns True because a sequence with the value \"banana\" is in the list"
   ]
  },
  {
   "cell_type": "code",
   "execution_count": 39,
   "id": "4fc6baff",
   "metadata": {},
   "outputs": [
    {
     "name": "stdout",
     "output_type": "stream",
     "text": [
      "True\n"
     ]
    }
   ],
   "source": [
    "x = [\"apple\", \"banana\"]\n",
    "\n",
    "print(\"pineapple\" not in x)"
   ]
  },
  {
   "cell_type": "markdown",
   "id": "39747e19",
   "metadata": {},
   "source": [
    "returns True because a sequence with the value \"pineapple\" is not in the list"
   ]
  },
  {
   "cell_type": "markdown",
   "id": "8b2ef255",
   "metadata": {},
   "source": [
    "#### Python Bitwise Operators\n",
    "\n",
    "Bitwise operators are used to compare (binary) numbers:\n",
    "\n",
    "Operator\tName\t Description\n",
    "\n",
    "* &     ---AND\t ------Sets each bit to 1 if both bits are 1.\n",
    "\n",
    "* |     ---   OR------  Sets each bit to 1 if one of two bits is 1.\n",
    "\n",
    "* ^    ---XOR\t ------Sets each bit to 1 if only one of two bits is 1.\n",
    " \n",
    "* ~     ---NOT\t ------Inverts all the bits.\n",
    "\n",
    "* `<<  Zero fill left shift ` \tShift left by pushing zeros in from the right and let the leftmost bits fall off.\n",
    "\n",
    "* ` >>\tSigned right shift`\t   Shift right by pushing copies of the leftmost bit in from the left, and let the rightmost bits fall off.\n"
   ]
  },
  {
   "cell_type": "code",
   "execution_count": 28,
   "id": "0c35566f",
   "metadata": {},
   "outputs": [
    {
     "data": {
      "text/plain": [
       "2"
      ]
     },
     "execution_count": 28,
     "metadata": {},
     "output_type": "execute_result"
    }
   ],
   "source": [
    "# & ---AND ------Sets each bit to 1 if both bits are 1\n",
    "\n",
    "# In AND operator if both the input is one(1) then output will be one(1) otherwise output will be\n",
    "# zero(0).\n",
    "a = 10\n",
    "b = 2\n",
    "\n",
    "a & b"
   ]
  },
  {
   "cell_type": "code",
   "execution_count": 26,
   "id": "ab2a6d68",
   "metadata": {},
   "outputs": [
    {
     "data": {
      "text/plain": [
       "14"
      ]
     },
     "execution_count": 26,
     "metadata": {},
     "output_type": "execute_result"
    }
   ],
   "source": [
    "# | --- OR------ Sets each bit to 1 if one of two bits is 1\n",
    "\n",
    "# In OR operators if any input is one(1) or both are one(1) then output will be one(0) if both \n",
    "# the input is zero(0) then only the output will be zero(0).\n",
    "\n",
    "\n",
    "a = 10\n",
    "b = 14\n",
    "a|b"
   ]
  },
  {
   "cell_type": "code",
   "execution_count": 5,
   "id": "5b8a1211",
   "metadata": {},
   "outputs": [
    {
     "data": {
      "text/plain": [
       "126"
      ]
     },
     "execution_count": 5,
     "metadata": {},
     "output_type": "execute_result"
    }
   ],
   "source": [
    "a = 12\n",
    "b = 122\n",
    "a|b"
   ]
  },
  {
   "cell_type": "code",
   "execution_count": 27,
   "id": "f57c93a2",
   "metadata": {},
   "outputs": [
    {
     "data": {
      "text/plain": [
       "14"
      ]
     },
     "execution_count": 27,
     "metadata": {},
     "output_type": "execute_result"
    }
   ],
   "source": [
    "# XOR  - ^ ---XOR ------Sets each bit to 1 if only one of two bits is 1\n",
    "# if both the input is same either 1 or 0 then output will be zero(0) , and if input is different\n",
    "# then output will be one(1). by this we will get XOR value of two numbers\n",
    "a = 10\n",
    "b = 4\n",
    "\n",
    "a^b"
   ]
  },
  {
   "cell_type": "code",
   "execution_count": 30,
   "id": "56263749",
   "metadata": {},
   "outputs": [
    {
     "data": {
      "text/plain": [
       "-21"
      ]
     },
     "execution_count": 30,
     "metadata": {},
     "output_type": "execute_result"
    }
   ],
   "source": [
    "# ~ ---NOT ------Inverts all the bits\n",
    "# It flip the output means if input is 0 then out put will be 1 and vice versa.\n",
    "\n",
    "a = 20\n",
    "\n",
    "~a"
   ]
  },
  {
   "cell_type": "code",
   "execution_count": 31,
   "id": "f8310542",
   "metadata": {},
   "outputs": [
    {
     "data": {
      "text/plain": [
       "24"
      ]
     },
     "execution_count": 31,
     "metadata": {},
     "output_type": "execute_result"
    }
   ],
   "source": [
    "# <<  Zero fill left shift Shift left by pushing zeros in from the right and \n",
    "#                                             let the leftmost bits fall off.\n",
    "\n",
    "# means it will shift the bit towards left n number and add the n numner of 0's at last .\n",
    "# means it will increase the number \n",
    "a = 6\n",
    "a<<2"
   ]
  },
  {
   "cell_type": "code",
   "execution_count": 32,
   "id": "66bfd554",
   "metadata": {},
   "outputs": [
    {
     "data": {
      "text/plain": [
       "20"
      ]
     },
     "execution_count": 32,
     "metadata": {},
     "output_type": "execute_result"
    }
   ],
   "source": [
    "# >>    Signed right shift Shift right by pushing copies of the leftmost bit in from the left, \n",
    "#                                                         and let the rightmost bits fall off.\n",
    "# same as the left shift the right shift will shift the bit towords right n number and add n \n",
    "# numbers zero prefix to the binary of the number means it will decrease the number.\n",
    "\n",
    "a = 80\n",
    "\n",
    "a>>2"
   ]
  },
  {
   "cell_type": "markdown",
   "id": "1a88d07c",
   "metadata": {},
   "source": [
    "### Important Notes on Precedence of Operators\n",
    "\n",
    "* `Operators\t                 Meaning`\n",
    "\n",
    "* `()\t                         Parentheses`\n",
    "\n",
    "* `**\t                         Exponent`\n",
    "\n",
    "* `+x, -x, ~x\t                 Unary plus, Unary minus, Bitwise NOT`\n",
    "\n",
    "* `*, /, //, %                  Multiplication, Division, Floor division, Modulus`\n",
    "\n",
    "* `+, -\t                     Addition, Subtraction`\n",
    "\n",
    "* `<<, >>\t                     Bitwise shift operators`\n",
    "\n",
    "* `&\t                         Bitwise AND`\n",
    "\n",
    "* `^\t                         Bitwise XOR`\n",
    "\n",
    "* `|\t                         Bitwise OR`\n",
    "\n",
    "* `==, !=, >, >=, <, <=, is, is not, in, not in\tComparisons, Identity, Membership operators`\n",
    "\n",
    "* `not\t                         Logical NOT`\n",
    "\n",
    "* `and\t                         Logical AND`\n",
    "\n",
    "* `or\t                         Logical OR`\n"
   ]
  },
  {
   "cell_type": "code",
   "execution_count": 7,
   "id": "144bacf6",
   "metadata": {},
   "outputs": [
    {
     "name": "stdout",
     "output_type": "stream",
     "text": [
      "Lunch being delivered\n"
     ]
    }
   ],
   "source": [
    "# Precedence of or & and\n",
    "meal = \"fruit\"\n",
    "\n",
    "money = 0\n",
    "\n",
    "if meal == \"fruit\" or meal == \"sandwich\" and money >= 2:\n",
    "    print(\"Lunch being delivered\")\n",
    "else:\n",
    "    print(\"Can't deliver lunch\")"
   ]
  },
  {
   "cell_type": "markdown",
   "id": "e0aa1cb0",
   "metadata": {},
   "source": [
    "* This program runs if block even when money is 0. It does not give us the desired output since the precedence of `and` is higher than `or`.\n",
    "\n",
    "* Here first comparision had with meal and money because of 'and' and then with 'meal' 'or' 'meal\n",
    "\n",
    "* We can get the desired output by using parenthesis () in the following way:\n"
   ]
  },
  {
   "cell_type": "code",
   "execution_count": 8,
   "id": "a07e75b1",
   "metadata": {},
   "outputs": [
    {
     "name": "stdout",
     "output_type": "stream",
     "text": [
      "Can't deliver lunch\n"
     ]
    }
   ],
   "source": [
    "# Precedence of or & and\n",
    "meal = \"fruit\"\n",
    "\n",
    "money = 0\n",
    "\n",
    "if (meal == \"fruit\" or meal == \"sandwich\") and money >= 2:\n",
    "    print(\"Lunch being delivered\")\n",
    "else:\n",
    "    print(\"Can't deliver lunch\")"
   ]
  },
  {
   "cell_type": "code",
   "execution_count": 9,
   "id": "545dc086",
   "metadata": {},
   "outputs": [
    {
     "name": "stdout",
     "output_type": "stream",
     "text": [
      "3\n",
      "0\n"
     ]
    }
   ],
   "source": [
    "# Left-right associativity\n",
    "# Output: 3\n",
    "print(5 * 2 // 3)\n",
    "\n",
    "# Shows left-right associativity\n",
    "# Output: 0\n",
    "print(5 * (2 // 3))"
   ]
  },
  {
   "cell_type": "code",
   "execution_count": 10,
   "id": "6e400cdf",
   "metadata": {},
   "outputs": [
    {
     "name": "stdout",
     "output_type": "stream",
     "text": [
      "512\n",
      "64\n"
     ]
    }
   ],
   "source": [
    "# Shows the right-left associativity of **\n",
    "# Output: 512, Since 2**(3**2) = 2**9\n",
    "print(2 ** 3 ** 2)\n",
    "\n",
    "# If 2 needs to be exponated fisrt, need to use ()\n",
    "# Output: 64\n",
    "print((2 ** 3) ** 2)"
   ]
  },
  {
   "cell_type": "markdown",
   "id": "15c487c4",
   "metadata": {},
   "source": [
    "#### Non associative operators\n",
    "Some operators like assignment operators and comparison operators do not have associativity in Python. There are separate rules for sequences of this kind of operator and cannot be expressed as associativity.\n",
    "\n",
    "`For example, x < y < z neither means (x < y) < z nor x < (y < z). x < y < z is equivalent to x < y and y < z, and is evaluated from left-to-right.`\n",
    "\n",
    "`Furthermore, while chaining of assignments like x = y = z = 1 is perfectly valid, x = y = z+= 2 will result in error.`"
   ]
  },
  {
   "cell_type": "code",
   "execution_count": 11,
   "id": "3e28c81a",
   "metadata": {},
   "outputs": [
    {
     "ename": "SyntaxError",
     "evalue": "invalid syntax (3128167520.py, line 8)",
     "output_type": "error",
     "traceback": [
      "\u001b[1;36m  Input \u001b[1;32mIn [11]\u001b[1;36m\u001b[0m\n\u001b[1;33m    x = y = z+= 2\u001b[0m\n\u001b[1;37m             ^\u001b[0m\n\u001b[1;31mSyntaxError\u001b[0m\u001b[1;31m:\u001b[0m invalid syntax\n"
     ]
    }
   ],
   "source": [
    "# Initialize x, y, z\n",
    "x = y = z = 1\n",
    "\n",
    "# Expression is invalid\n",
    "# (Non-associative operators)\n",
    "# SyntaxError: invalid syntax\n",
    "\n",
    "x = y = z+= 2"
   ]
  },
  {
   "cell_type": "code",
   "execution_count": 1,
   "id": "d0f6e977",
   "metadata": {},
   "outputs": [
    {
     "ename": "TypeError",
     "evalue": "unsupported operand type(s) for -: 'list' and 'list'",
     "output_type": "error",
     "traceback": [
      "\u001b[1;31m---------------------------------------------------------------------------\u001b[0m",
      "\u001b[1;31mTypeError\u001b[0m                                 Traceback (most recent call last)",
      "Input \u001b[1;32mIn [1]\u001b[0m, in \u001b[0;36m<cell line: 4>\u001b[1;34m()\u001b[0m\n\u001b[0;32m      1\u001b[0m lst1 \u001b[38;5;241m=\u001b[39m [\u001b[38;5;241m1\u001b[39m,\u001b[38;5;241m2\u001b[39m,\u001b[38;5;241m3\u001b[39m,\u001b[38;5;241m4\u001b[39m]\n\u001b[0;32m      2\u001b[0m lst2 \u001b[38;5;241m=\u001b[39m [\u001b[38;5;241m2\u001b[39m,\u001b[38;5;241m3\u001b[39m,\u001b[38;5;241m4\u001b[39m,\u001b[38;5;241m5\u001b[39m,\u001b[38;5;241m6\u001b[39m]\n\u001b[1;32m----> 4\u001b[0m \u001b[43mlst1\u001b[49m\u001b[38;5;241;43m-\u001b[39;49m\u001b[43mlst2\u001b[49m\n",
      "\u001b[1;31mTypeError\u001b[0m: unsupported operand type(s) for -: 'list' and 'list'"
     ]
    }
   ],
   "source": [
    "lst1 = [1,2,3,4]\n",
    "lst2 = [2,3,4,5,6]\n",
    "\n",
    "lst1-lst2"
   ]
  },
  {
   "cell_type": "code",
   "execution_count": 2,
   "id": "65a9e599",
   "metadata": {},
   "outputs": [
    {
     "data": {
      "text/plain": [
       "[1, 2, 3, 4, 2, 3, 4, 5, 6]"
      ]
     },
     "execution_count": 2,
     "metadata": {},
     "output_type": "execute_result"
    }
   ],
   "source": [
    "lst1 = [1,2,3,4]\n",
    "lst2 = [2,3,4,5,6]\n",
    "\n",
    "lst1+lst2"
   ]
  },
  {
   "cell_type": "code",
   "execution_count": 3,
   "id": "bb74e3f3",
   "metadata": {},
   "outputs": [
    {
     "ename": "TypeError",
     "evalue": "can't multiply sequence by non-int of type 'list'",
     "output_type": "error",
     "traceback": [
      "\u001b[1;31m---------------------------------------------------------------------------\u001b[0m",
      "\u001b[1;31mTypeError\u001b[0m                                 Traceback (most recent call last)",
      "Input \u001b[1;32mIn [3]\u001b[0m, in \u001b[0;36m<cell line: 4>\u001b[1;34m()\u001b[0m\n\u001b[0;32m      1\u001b[0m lst1 \u001b[38;5;241m=\u001b[39m [\u001b[38;5;241m1\u001b[39m,\u001b[38;5;241m2\u001b[39m,\u001b[38;5;241m3\u001b[39m,\u001b[38;5;241m4\u001b[39m]\n\u001b[0;32m      2\u001b[0m lst2 \u001b[38;5;241m=\u001b[39m [\u001b[38;5;241m2\u001b[39m,\u001b[38;5;241m3\u001b[39m,\u001b[38;5;241m4\u001b[39m,\u001b[38;5;241m5\u001b[39m,\u001b[38;5;241m6\u001b[39m]\n\u001b[1;32m----> 4\u001b[0m \u001b[43mlst1\u001b[49m\u001b[38;5;241;43m*\u001b[39;49m\u001b[43mlst2\u001b[49m\n",
      "\u001b[1;31mTypeError\u001b[0m: can't multiply sequence by non-int of type 'list'"
     ]
    }
   ],
   "source": [
    "lst1 = [1,2,3,4]\n",
    "lst2 = [2,3,4,5,6]\n",
    "\n",
    "lst1*lst2"
   ]
  },
  {
   "cell_type": "code",
   "execution_count": 4,
   "id": "5e665882",
   "metadata": {},
   "outputs": [
    {
     "data": {
      "text/plain": [
       "[1, 2, 3, 4, 1, 2, 3, 4]"
      ]
     },
     "execution_count": 4,
     "metadata": {},
     "output_type": "execute_result"
    }
   ],
   "source": [
    "lst1 = [1,2,3,4]\n",
    "\n",
    "\n",
    "lst1*2"
   ]
  },
  {
   "cell_type": "code",
   "execution_count": 5,
   "id": "4dc7a941",
   "metadata": {},
   "outputs": [
    {
     "ename": "TypeError",
     "evalue": "unsupported operand type(s) for -: 'list' and 'int'",
     "output_type": "error",
     "traceback": [
      "\u001b[1;31m---------------------------------------------------------------------------\u001b[0m",
      "\u001b[1;31mTypeError\u001b[0m                                 Traceback (most recent call last)",
      "Input \u001b[1;32mIn [5]\u001b[0m, in \u001b[0;36m<cell line: 4>\u001b[1;34m()\u001b[0m\n\u001b[0;32m      1\u001b[0m lst1 \u001b[38;5;241m=\u001b[39m [\u001b[38;5;241m1\u001b[39m,\u001b[38;5;241m2\u001b[39m,\u001b[38;5;241m3\u001b[39m,\u001b[38;5;241m4\u001b[39m]\n\u001b[1;32m----> 4\u001b[0m \u001b[43mlst1\u001b[49m\u001b[38;5;241;43m-\u001b[39;49m\u001b[38;5;241;43m3\u001b[39;49m\n",
      "\u001b[1;31mTypeError\u001b[0m: unsupported operand type(s) for -: 'list' and 'int'"
     ]
    }
   ],
   "source": [
    "lst1 = [1,2,3,4]\n",
    "\n",
    "\n",
    "lst1-3"
   ]
  },
  {
   "cell_type": "code",
   "execution_count": null,
   "id": "54d2c73d",
   "metadata": {},
   "outputs": [],
   "source": []
  }
 ],
 "metadata": {
  "kernelspec": {
   "display_name": "Python 3 (ipykernel)",
   "language": "python",
   "name": "python3"
  },
  "language_info": {
   "codemirror_mode": {
    "name": "ipython",
    "version": 3
   },
   "file_extension": ".py",
   "mimetype": "text/x-python",
   "name": "python",
   "nbconvert_exporter": "python",
   "pygments_lexer": "ipython3",
   "version": "3.9.7"
  }
 },
 "nbformat": 4,
 "nbformat_minor": 5
}

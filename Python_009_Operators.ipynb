{
 "cells": [
  {
   "cell_type": "markdown",
   "id": "d67f4552",
   "metadata": {},
   "source": [
    "#### Python Operators\n",
    "Operators are used to perform operations on variables and values.\n",
    "\n",
    "In the example below, we use the + operator to add together two values:"
   ]
  },
  {
   "cell_type": "code",
   "execution_count": 1,
   "id": "db65a593",
   "metadata": {},
   "outputs": [
    {
     "name": "stdout",
     "output_type": "stream",
     "text": [
      "15\n"
     ]
    }
   ],
   "source": [
    "print(10 + 5)"
   ]
  },
  {
   "cell_type": "markdown",
   "id": "56ff2b2a",
   "metadata": {},
   "source": [
    "`Python divides the operators in the following groups:`\n",
    "\n",
    "* Arithmetic operators\n",
    "\n",
    "* Assignment operators\n",
    "\n",
    "* Comparison operators\n",
    "\n",
    "* Logical operators\n",
    "\n",
    "* Identity operators\n",
    "\n",
    "* Membership operators\n",
    "\n",
    "* Bitwise operators\n"
   ]
  },
  {
   "cell_type": "markdown",
   "id": "d54edc56",
   "metadata": {},
   "source": [
    "#### Python Arithmetic Operators\n",
    "\n",
    "\n",
    "Arithmetic operators are used with numeric values to perform common mathematical operations:\n",
    "\n",
    "\n",
    "Operator ----\tName\t----------- Example\t\n",
    "\n",
    "* ` +\t`  --------Addition\t---------x + y\t\n",
    "\n",
    "* ` -\t`  --------Subtraction\t-----x - y\t\n",
    "\n",
    "* ` *\t`  --------Multiplication----x * y\t\n",
    "\n",
    "* ` /\t`  --------Division\t---------x / y\t\n",
    "\n",
    "* ` %\t`  --------Modulus\t---------x % y\t\n",
    "\n",
    "* ` **`  --------  Exponentiation----x ** y\t\n",
    "\n",
    "* ` //`  --------  Floor division---x // y\n"
   ]
  },
  {
   "cell_type": "code",
   "execution_count": 2,
   "id": "7bfa2ddc",
   "metadata": {},
   "outputs": [
    {
     "name": "stdout",
     "output_type": "stream",
     "text": [
      "8\n"
     ]
    }
   ],
   "source": [
    "# Addition + \n",
    "\n",
    "x = 5\n",
    "y = 3\n",
    "\n",
    "print(x + y)\n"
   ]
  },
  {
   "cell_type": "code",
   "execution_count": 3,
   "id": "7b37afcc",
   "metadata": {},
   "outputs": [
    {
     "name": "stdout",
     "output_type": "stream",
     "text": [
      "2\n"
     ]
    }
   ],
   "source": [
    "# Subtraction - \n",
    "x = 5\n",
    "y = 3\n",
    "\n",
    "print(x - y)\n"
   ]
  },
  {
   "cell_type": "code",
   "execution_count": 4,
   "id": "8a197fd8",
   "metadata": {},
   "outputs": [
    {
     "name": "stdout",
     "output_type": "stream",
     "text": [
      "15\n"
     ]
    }
   ],
   "source": [
    "# Multiplication * \n",
    "\n",
    "x = 5\n",
    "y = 3\n",
    "\n",
    "print(x * y)\n"
   ]
  },
  {
   "cell_type": "code",
   "execution_count": 5,
   "id": "58856f44",
   "metadata": {},
   "outputs": [
    {
     "name": "stdout",
     "output_type": "stream",
     "text": [
      "4.0\n"
     ]
    }
   ],
   "source": [
    "# Division /\n",
    "x = 12\n",
    "y = 3\n",
    "\n",
    "print(x / y)\n"
   ]
  },
  {
   "cell_type": "code",
   "execution_count": 8,
   "id": "b79cad22",
   "metadata": {},
   "outputs": [
    {
     "name": "stdout",
     "output_type": "stream",
     "text": [
      "1\n"
     ]
    }
   ],
   "source": [
    "# Modulus %\n",
    "x = 5\n",
    "y = 2\n",
    "\n",
    "print(x % y)\n"
   ]
  },
  {
   "cell_type": "code",
   "execution_count": 9,
   "id": "2fb136f7",
   "metadata": {},
   "outputs": [
    {
     "name": "stdout",
     "output_type": "stream",
     "text": [
      "32\n"
     ]
    }
   ],
   "source": [
    "#Exponentiation ** \n",
    "x = 2\n",
    "y = 5\n",
    "\n",
    "print(x ** y)"
   ]
  },
  {
   "cell_type": "code",
   "execution_count": 10,
   "id": "8e2b0acc",
   "metadata": {},
   "outputs": [
    {
     "name": "stdout",
     "output_type": "stream",
     "text": [
      "7\n"
     ]
    }
   ],
   "source": [
    "# Floor division\n",
    "x = 15\n",
    "y = 2\n",
    "\n",
    "print(x // y)"
   ]
  },
  {
   "cell_type": "markdown",
   "id": "bd57b899",
   "metadata": {},
   "source": [
    "#### Python Assignment Operators\n",
    "\n",
    "Assignment operators are used to assign values to variables:\n",
    "\n",
    "* Operator\t----Example   ---- \tSame As\t\n",
    "\n",
    "*  `=`  ----\tx = 5\t--------x = 5\t\n",
    "\n",
    "* `+=`  ----\tx += 3\t--------x = x + 3\t\n",
    "\n",
    "* `-=`  ----\tx -= 3\t--------x = x - 3\t\n",
    "\n",
    "* `*=`  ----\tx *= 3\t--------x = x * 3\t\n",
    "\n",
    "* `/=`  ----\tx /= 3\t--------x = x / 3\t\n",
    "\n",
    "* `%=`  ----\tx %= 3\t--------x = x % 3\t\n",
    "\n",
    "* `//=`  ----\tx //= 3\t--------x = x // 3\t\n",
    "\n",
    "* `**=`  ----\tx **= 3\t--------x = x ** 3\t\n",
    "\n",
    "* `&=`  ----\tx &= 3\t--------x = x & 3\t\n",
    "\n",
    "* `|=`  ----\tx |= 3\t--------x = x | 3\t\n",
    "\n",
    "* `^=`  ----\tx ^= 3\t--------x = x ^ 3\t\n",
    "\n",
    "* `>>=`  ----\tx >>= 3\t--------x = x >> 3\t\n",
    "\n",
    "* `<<=`  ----\tx <<= 3\t--------x = x << 3\n",
    "\n"
   ]
  },
  {
   "cell_type": "code",
   "execution_count": 11,
   "id": "3bed2d9c",
   "metadata": {},
   "outputs": [
    {
     "name": "stdout",
     "output_type": "stream",
     "text": [
      "5\n"
     ]
    }
   ],
   "source": [
    "# =\n",
    "x = 5 \n",
    "print(x)"
   ]
  },
  {
   "cell_type": "code",
   "execution_count": 12,
   "id": "4fb7865a",
   "metadata": {},
   "outputs": [
    {
     "name": "stdout",
     "output_type": "stream",
     "text": [
      "8\n"
     ]
    }
   ],
   "source": [
    "# +=\n",
    "\n",
    "x = 5 \n",
    "x += 3\n",
    "\n",
    "print(x)"
   ]
  },
  {
   "cell_type": "code",
   "execution_count": 13,
   "id": "f3605eac",
   "metadata": {},
   "outputs": [
    {
     "name": "stdout",
     "output_type": "stream",
     "text": [
      "2\n"
     ]
    }
   ],
   "source": [
    "# -=\n",
    "\n",
    "x = 5\n",
    "\n",
    "x -= 3\n",
    "\n",
    "print(x)"
   ]
  },
  {
   "cell_type": "code",
   "execution_count": 14,
   "id": "7e849d4d",
   "metadata": {},
   "outputs": [
    {
     "name": "stdout",
     "output_type": "stream",
     "text": [
      "15\n"
     ]
    }
   ],
   "source": [
    "# *=\n",
    "\n",
    "x = 5\n",
    "\n",
    "x *= 3\n",
    "\n",
    "print(x)"
   ]
  },
  {
   "cell_type": "code",
   "execution_count": 17,
   "id": "30bec1e2",
   "metadata": {},
   "outputs": [
    {
     "name": "stdout",
     "output_type": "stream",
     "text": [
      "1.6666666666666667\n"
     ]
    }
   ],
   "source": [
    "# /=\n",
    "\n",
    "x = 5\n",
    "\n",
    "x /=3\n",
    "print(x)"
   ]
  },
  {
   "cell_type": "code",
   "execution_count": 21,
   "id": "391f765c",
   "metadata": {},
   "outputs": [
    {
     "name": "stdout",
     "output_type": "stream",
     "text": [
      "1.67\n"
     ]
    }
   ],
   "source": [
    "# /=\n",
    "\n",
    "x = 5\n",
    "\n",
    "x /=3\n",
    "print(f\"{x:.2f}\")"
   ]
  },
  {
   "cell_type": "code",
   "execution_count": 23,
   "id": "fcf12aad",
   "metadata": {},
   "outputs": [
    {
     "name": "stdout",
     "output_type": "stream",
     "text": [
      "2\n"
     ]
    }
   ],
   "source": [
    "# %= \n",
    "\n",
    "x = 5\n",
    "\n",
    "x %= 3\n",
    "\n",
    "print(x)"
   ]
  },
  {
   "cell_type": "code",
   "execution_count": 26,
   "id": "9e8b443f",
   "metadata": {},
   "outputs": [
    {
     "name": "stdout",
     "output_type": "stream",
     "text": [
      "1\n"
     ]
    }
   ],
   "source": [
    "# //=\n",
    "\n",
    "x = 5\n",
    "\n",
    "x //= 3\n",
    "\n",
    "print(x)"
   ]
  },
  {
   "cell_type": "code",
   "execution_count": 27,
   "id": "538b2855",
   "metadata": {},
   "outputs": [
    {
     "name": "stdout",
     "output_type": "stream",
     "text": [
      "25\n"
     ]
    }
   ],
   "source": [
    "# **=\n",
    "\n",
    "x = 5\n",
    "\n",
    "x **= 2\n",
    "\n",
    "print(x)"
   ]
  },
  {
   "cell_type": "code",
   "execution_count": 28,
   "id": "505b0e19",
   "metadata": {},
   "outputs": [
    {
     "name": "stdout",
     "output_type": "stream",
     "text": [
      "1\n"
     ]
    }
   ],
   "source": [
    "x = 5\n",
    "\n",
    "x &= 3\n",
    "\n",
    "print(x)"
   ]
  },
  {
   "cell_type": "code",
   "execution_count": 29,
   "id": "dd82a3a5",
   "metadata": {},
   "outputs": [
    {
     "name": "stdout",
     "output_type": "stream",
     "text": [
      "7\n"
     ]
    }
   ],
   "source": [
    "x = 5\n",
    "\n",
    "x |= 3\n",
    "\n",
    "print(x)\n"
   ]
  },
  {
   "cell_type": "code",
   "execution_count": 30,
   "id": "509e62b5",
   "metadata": {},
   "outputs": [
    {
     "name": "stdout",
     "output_type": "stream",
     "text": [
      "6\n"
     ]
    }
   ],
   "source": [
    "x = 5\n",
    "\n",
    "x ^= 3\n",
    "\n",
    "print(x)\n"
   ]
  },
  {
   "cell_type": "code",
   "execution_count": 31,
   "id": "64f0f758",
   "metadata": {},
   "outputs": [
    {
     "name": "stdout",
     "output_type": "stream",
     "text": [
      "0\n"
     ]
    }
   ],
   "source": [
    "x = 5\n",
    "\n",
    "x >>= 3\n",
    "\n",
    "print(x)\n"
   ]
  },
  {
   "cell_type": "code",
   "execution_count": 32,
   "id": "04334462",
   "metadata": {},
   "outputs": [
    {
     "name": "stdout",
     "output_type": "stream",
     "text": [
      "40\n"
     ]
    }
   ],
   "source": [
    "x = 5\n",
    "\n",
    "x <<= 3\n",
    "\n",
    "print(x)\n"
   ]
  },
  {
   "cell_type": "markdown",
   "id": "c930728b",
   "metadata": {},
   "source": [
    "#### Python Comparison Operators\n",
    "Comparison operators are used to compare two values:\n",
    "\n",
    "* Operator     ------   Name   -----\tExample\t\n",
    "\n",
    "* ` == `       ------   \tEqual           \t`x == y\t`\n",
    "\n",
    "* `!=`         ------  \tNot equal           \t`x != y`\t\n",
    "\n",
    "* `>`          ------ \tGreater than           \t`x > y`\n",
    "\n",
    "* `<`          ------ \tLess than\t           `x < y`\n",
    "\n",
    "* `>=`         ------  \tGreater than or equal to           \t`x >= y`\t\n",
    "\n",
    "* `<=`\t       ------     Less than or equal to           \t`x <= y`"
   ]
  },
  {
   "cell_type": "code",
   "execution_count": 1,
   "id": "b556d560",
   "metadata": {},
   "outputs": [
    {
     "name": "stdout",
     "output_type": "stream",
     "text": [
      "False\n"
     ]
    }
   ],
   "source": [
    "x = 5\n",
    "y = 3\n",
    "\n",
    "print(x == y)\n"
   ]
  },
  {
   "cell_type": "code",
   "execution_count": 2,
   "id": "279ecfcb",
   "metadata": {},
   "outputs": [
    {
     "name": "stdout",
     "output_type": "stream",
     "text": [
      "True\n"
     ]
    }
   ],
   "source": [
    "x = 5\n",
    "y = 3\n",
    "\n",
    "print(x != y)\n"
   ]
  },
  {
   "cell_type": "code",
   "execution_count": 3,
   "id": "57b5ddd2",
   "metadata": {},
   "outputs": [
    {
     "name": "stdout",
     "output_type": "stream",
     "text": [
      "True\n"
     ]
    }
   ],
   "source": [
    "x = 5\n",
    "y = 3\n",
    "\n",
    "print(x > y)\n"
   ]
  },
  {
   "cell_type": "code",
   "execution_count": 4,
   "id": "ef71d7a8",
   "metadata": {},
   "outputs": [
    {
     "name": "stdout",
     "output_type": "stream",
     "text": [
      "False\n"
     ]
    }
   ],
   "source": [
    "x = 5\n",
    "y = 3\n",
    "\n",
    "print(x < y)\n"
   ]
  },
  {
   "cell_type": "code",
   "execution_count": 5,
   "id": "0898bf11",
   "metadata": {},
   "outputs": [
    {
     "name": "stdout",
     "output_type": "stream",
     "text": [
      "True\n"
     ]
    }
   ],
   "source": [
    "x = 5\n",
    "y = 3\n",
    "\n",
    "print(x >= y)\n"
   ]
  },
  {
   "cell_type": "code",
   "execution_count": 6,
   "id": "4b85b7df",
   "metadata": {},
   "outputs": [
    {
     "ename": "SyntaxError",
     "evalue": "invalid syntax (Temp/ipykernel_9468/1089784682.py, line 4)",
     "output_type": "error",
     "traceback": [
      "\u001b[1;36m  File \u001b[1;32m\"C:\\Users\\akshu\\AppData\\Local\\Temp/ipykernel_9468/1089784682.py\"\u001b[1;36m, line \u001b[1;32m4\u001b[0m\n\u001b[1;33m    print(x > = y)\u001b[0m\n\u001b[1;37m              ^\u001b[0m\n\u001b[1;31mSyntaxError\u001b[0m\u001b[1;31m:\u001b[0m invalid syntax\n"
     ]
    }
   ],
   "source": [
    "x = 5\n",
    "y = 3\n",
    "\n",
    "print(x > = y)\n",
    "\n",
    "# note - there shuold be no gap between both\n",
    "# the operator\n",
    "\n"
   ]
  },
  {
   "cell_type": "code",
   "execution_count": 7,
   "id": "77413457",
   "metadata": {},
   "outputs": [
    {
     "name": "stdout",
     "output_type": "stream",
     "text": [
      "False\n"
     ]
    }
   ],
   "source": [
    "x = 5\n",
    "y = 3\n",
    "\n",
    "print(x <= y)\n"
   ]
  },
  {
   "cell_type": "markdown",
   "id": "bfb85937",
   "metadata": {},
   "source": [
    "#### Python Logical Operators\n",
    "Logical operators are used to combine conditional statements:\n",
    "\n",
    "* `and `\tReturns True if both statements are true\tx < 5 and  x < 10\t\n",
    "\n",
    "* `or`\tReturns True if one of the statements is true\tx < 5 or x < 4\t\n",
    "\n",
    "* `not`\tReverse the result, returns False if the result is true\tnot(x < 5 and x < 10)"
   ]
  },
  {
   "cell_type": "code",
   "execution_count": 8,
   "id": "a6af3080",
   "metadata": {},
   "outputs": [
    {
     "name": "stdout",
     "output_type": "stream",
     "text": [
      "True\n"
     ]
    }
   ],
   "source": [
    "x = 5\n",
    "print(x> 3 and x<10)"
   ]
  },
  {
   "cell_type": "code",
   "execution_count": 9,
   "id": "d0170505",
   "metadata": {},
   "outputs": [
    {
     "name": "stdout",
     "output_type": "stream",
     "text": [
      "True\n"
     ]
    }
   ],
   "source": [
    "x = 5\n",
    "\n",
    "print(x> 4 or x<4)"
   ]
  },
  {
   "cell_type": "code",
   "execution_count": 10,
   "id": "2af224cd",
   "metadata": {},
   "outputs": [
    {
     "name": "stdout",
     "output_type": "stream",
     "text": [
      "False\n"
     ]
    }
   ],
   "source": [
    "x = 5\n",
    "print(not(x>3 and x < 10))\n",
    "# returns False because not is used to\n",
    "# reverse the result\n"
   ]
  },
  {
   "cell_type": "code",
   "execution_count": 11,
   "id": "d2b232bd",
   "metadata": {},
   "outputs": [
    {
     "name": "stdout",
     "output_type": "stream",
     "text": [
      "False\n"
     ]
    }
   ],
   "source": [
    "x = 3\n",
    "\n",
    "print(not(x>2 and x<20))"
   ]
  },
  {
   "cell_type": "markdown",
   "id": "797f3423",
   "metadata": {},
   "source": [
    "#### Python Identity Operators\n",
    "\n",
    "\n",
    "Identity operators are used to compare the objects, not if they are equal, but if they are actually the same object, with the same memory location:\n",
    "\n",
    "`is` \t----Returns True if both variables are the same object\tx is y\t\n",
    "\n",
    "\n",
    "`is not`\t----Returns True if both variables are not the same object"
   ]
  },
  {
   "cell_type": "code",
   "execution_count": 12,
   "id": "f2b860db",
   "metadata": {},
   "outputs": [
    {
     "name": "stdout",
     "output_type": "stream",
     "text": [
      "True\n"
     ]
    }
   ],
   "source": [
    "x = [\"apple\", \"banana\"]\n",
    "y = [\"apple\", \"banana\"]\n",
    "\n",
    "z = x\n",
    "print(x is z)"
   ]
  },
  {
   "cell_type": "markdown",
   "id": "dd4d3736",
   "metadata": {},
   "source": [
    " returns True because z is the same object as x"
   ]
  },
  {
   "cell_type": "code",
   "execution_count": 13,
   "id": "0d7ce275",
   "metadata": {},
   "outputs": [
    {
     "name": "stdout",
     "output_type": "stream",
     "text": [
      "False\n"
     ]
    }
   ],
   "source": [
    "print(x is y)"
   ]
  },
  {
   "cell_type": "markdown",
   "id": "f788b950",
   "metadata": {},
   "source": [
    "returns False because x is not the same object as y, even if they have the same content"
   ]
  },
  {
   "cell_type": "code",
   "execution_count": 14,
   "id": "99a308a0",
   "metadata": {},
   "outputs": [
    {
     "name": "stdout",
     "output_type": "stream",
     "text": [
      "True\n"
     ]
    }
   ],
   "source": [
    "print(x == y)"
   ]
  },
  {
   "cell_type": "markdown",
   "id": "5fdc5a37",
   "metadata": {},
   "source": [
    "to demonstrate the difference betweeen \"is\" and \"==\": this comparison returns True because x is equal to y"
   ]
  },
  {
   "cell_type": "code",
   "execution_count": 1,
   "id": "41318339",
   "metadata": {},
   "outputs": [
    {
     "name": "stdout",
     "output_type": "stream",
     "text": [
      "False\n",
      "True\n",
      "False\n"
     ]
    }
   ],
   "source": [
    "x = [\"apple\", \"banana\"]\n",
    "y = [\"apple\", \"banana\"]\n",
    "z = x\n",
    "\n",
    "print(x is not z)\n",
    "\n",
    "# returns False because z is the same object as x\n",
    "\n",
    "print(x is not y)\n",
    "\n",
    "# returns True because x is not the same object as y, even if they have the same content\n",
    "\n",
    "print(x != y)\n",
    "\n",
    "# to demonstrate the difference betweeen \"is not\" and \"!=\": this comparison returns False because x is equal to y\n"
   ]
  },
  {
   "cell_type": "markdown",
   "id": "15a157a3",
   "metadata": {},
   "source": [
    "#### Python Membership Operators\n",
    "Membership operators are used to test if a sequence is presented in an object:\n",
    "\n",
    "* `in `\tReturns True if a sequence with the specified value is present in the object\tx in y\n",
    "\n",
    "\n",
    "* `not in`\tReturns True if a sequence with the specified value is not present in the object\tx not in y"
   ]
  },
  {
   "cell_type": "code",
   "execution_count": 15,
   "id": "7f187cee",
   "metadata": {},
   "outputs": [
    {
     "name": "stdout",
     "output_type": "stream",
     "text": [
      "True\n"
     ]
    }
   ],
   "source": [
    "x = [\"apple\", \"banana\"]\n",
    "\n",
    "print(\"banana\" in x)\n"
   ]
  },
  {
   "cell_type": "markdown",
   "id": "cdc826e2",
   "metadata": {},
   "source": [
    "returns True because a sequence with the value \"banana\" is in the list"
   ]
  },
  {
   "cell_type": "code",
   "execution_count": 16,
   "id": "4fc6baff",
   "metadata": {},
   "outputs": [
    {
     "name": "stdout",
     "output_type": "stream",
     "text": [
      "True\n"
     ]
    }
   ],
   "source": [
    "x = [\"apple\", \"banana\"]\n",
    "\n",
    "print(\"pineapple\" not in x)"
   ]
  },
  {
   "cell_type": "markdown",
   "id": "39747e19",
   "metadata": {},
   "source": [
    "returns True because a sequence with the value \"pineapple\" is not in the list"
   ]
  },
  {
   "cell_type": "markdown",
   "id": "8b2ef255",
   "metadata": {},
   "source": [
    "#### Python Bitwise Operators\n",
    "\n",
    "Bitwise operators are used to compare (binary) numbers:\n",
    "\n",
    "Operator\tName\t Description\n",
    "\n",
    "* &     ---AND\t ------Sets each bit to 1 if both bits are 1\n",
    "\n",
    "* |     ---   OR------  Sets each bit to 1 if one of two bits is 1\n",
    "\n",
    "* ^    ---XOR\t ------Sets each bit to 1 if only one of two bits is 1\n",
    " \n",
    "* ~     ---NOT\t ------Inverts all the bits\n",
    "\n",
    "* `<<  Zero fill left shift ` \tShift left by pushing zeros in from the right and let the leftmost bits fall off\n",
    "\n",
    "* ` >>\tSigned right shift`\t   Shift right by pushing copies of the leftmost bit in from the left, and let the rightmost bits fall off\n"
   ]
  },
  {
   "cell_type": "code",
   "execution_count": null,
   "id": "04c3853c",
   "metadata": {},
   "outputs": [],
   "source": []
  }
 ],
 "metadata": {
  "kernelspec": {
   "display_name": "Python 3 (ipykernel)",
   "language": "python",
   "name": "python3"
  },
  "language_info": {
   "codemirror_mode": {
    "name": "ipython",
    "version": 3
   },
   "file_extension": ".py",
   "mimetype": "text/x-python",
   "name": "python",
   "nbconvert_exporter": "python",
   "pygments_lexer": "ipython3",
   "version": "3.7.8"
  }
 },
 "nbformat": 4,
 "nbformat_minor": 5
}

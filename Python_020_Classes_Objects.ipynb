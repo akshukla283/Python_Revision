{
 "cells": [
  {
   "cell_type": "markdown",
   "id": "56d12401",
   "metadata": {},
   "source": [
    "#### Python Classes/Objects\n",
    "\n",
    "Python is an object oriented programming language.\n",
    "\n",
    "Almost everything in Python is an object, with its properties and methods.\n",
    "\n",
    "A Class is like an object constructor, or a \"blueprint\" for creating objects.\n",
    "\n",
    "#### Create a Class\n",
    "\n",
    "To create a class, use the keyword `class`:"
   ]
  },
  {
   "cell_type": "code",
   "execution_count": 4,
   "id": "da0d9397",
   "metadata": {},
   "outputs": [
    {
     "name": "stdout",
     "output_type": "stream",
     "text": [
      "<class '__main__.MyClass'>\n"
     ]
    }
   ],
   "source": [
    "class MyClass:\n",
    "    x = 5\n",
    "\n",
    "print(MyClass)"
   ]
  },
  {
   "cell_type": "markdown",
   "id": "b4fb4040",
   "metadata": {},
   "source": [
    "#### Create Object\n",
    "Now we can use the class named MyClass to create objects:"
   ]
  },
  {
   "cell_type": "code",
   "execution_count": 5,
   "id": "032517cb",
   "metadata": {},
   "outputs": [
    {
     "name": "stdout",
     "output_type": "stream",
     "text": [
      "5\n"
     ]
    }
   ],
   "source": [
    "p1 = MyClass()\n",
    "\n",
    "print(p1.x)"
   ]
  },
  {
   "cell_type": "code",
   "execution_count": 6,
   "id": "6db86664",
   "metadata": {},
   "outputs": [
    {
     "data": {
      "text/plain": [
       "type"
      ]
     },
     "execution_count": 6,
     "metadata": {},
     "output_type": "execute_result"
    }
   ],
   "source": [
    "type(MyClass)"
   ]
  },
  {
   "cell_type": "code",
   "execution_count": null,
   "id": "48a27b36",
   "metadata": {},
   "outputs": [],
   "source": []
  },
  {
   "cell_type": "markdown",
   "id": "45083654",
   "metadata": {},
   "source": [
    "#### The __init__() Function\n",
    "The examples above are classes and objects in their simplest form, and are not really useful in real life applications.\n",
    "\n",
    "\n",
    "To understand the meaning of classes we have to understand the built-in` __init__() `function.\n",
    "\n",
    "All classes have a function called `__init__()`, which is always executed when the class is being initiated.\n",
    "\n",
    "Use the` __init__()` function to assign values to object properties, or other operations that are necessary to do when the object is being created:"
   ]
  },
  {
   "cell_type": "markdown",
   "id": "f728a2fa",
   "metadata": {},
   "source": [
    "Create a class named Person, use the `__init__()` function to assign values for name and age:"
   ]
  },
  {
   "cell_type": "code",
   "execution_count": 3,
   "id": "ed065f1d",
   "metadata": {},
   "outputs": [
    {
     "name": "stdout",
     "output_type": "stream",
     "text": [
      "John\n",
      "36\n"
     ]
    }
   ],
   "source": [
    "class Person:\n",
    "    \n",
    "    def __init__(self, name, age):\n",
    "        \n",
    "        self.name = name\n",
    "        self.age = age\n",
    "        \n",
    "p1 = Person(\"John\", 36)\n",
    "\n",
    "print(p1.name)\n",
    "print(p1.age)"
   ]
  },
  {
   "cell_type": "markdown",
   "id": "b3c17b26",
   "metadata": {},
   "source": [
    "**Note:** The `__init__()` function is called automatically every time the class is being used to create a new object.\n",
    "\n",
    "#### Object Methods\n",
    "Objects can also contain methods. Methods in objects are functions that belong to the object.\n",
    "\n",
    "Let us create a method in the Person class:\n",
    "\n",
    "#### Example\n",
    "Insert a function that prints a greeting, and execute it on the p1 object:"
   ]
  },
  {
   "cell_type": "code",
   "execution_count": 4,
   "id": "f25ae3d6",
   "metadata": {},
   "outputs": [
    {
     "name": "stdout",
     "output_type": "stream",
     "text": [
      "Hello my name is John\n"
     ]
    }
   ],
   "source": [
    "class Person:\n",
    "    \n",
    "    def __init__(self, name, age):\n",
    "        self.name = name \n",
    "        self.age = age\n",
    "        \n",
    "    def myfunc(self):\n",
    "        print(\"Hello my name is \"+ self.name)\n",
    "        \n",
    "p1 = Person(\"John\", 36)\n",
    "p1.myfunc()"
   ]
  },
  {
   "cell_type": "markdown",
   "id": "92b9cf97",
   "metadata": {},
   "source": [
    "**Note:** The `self` parameter is a reference to the current instance of the class, and is used to access variables that belong to the class.\n",
    "\n",
    "\n",
    "#### The self Parameter\n",
    "The `self` parameter is a reference to the current instance of the class, and is used to access variables that belongs to the class.\n",
    "\n",
    "It does not have to be named `self` , you can call it whatever you like, but it has to be the first parameter of any function in the class:\n",
    "\n",
    "#### Example\n",
    "Use the words mysillyobject and abc instead of self:"
   ]
  },
  {
   "cell_type": "code",
   "execution_count": 5,
   "id": "9bda1dd8",
   "metadata": {},
   "outputs": [
    {
     "name": "stdout",
     "output_type": "stream",
     "text": [
      "Hello my name is John\n"
     ]
    }
   ],
   "source": [
    "class Person:\n",
    "    def __init__(mysillyobject, name, age):\n",
    "        mysillyobject.name = name\n",
    "        mysillyobject.age = age\n",
    "        \n",
    "    def myfunc(abc):\n",
    "        \n",
    "        print(\"Hello my name is \" + abc.name)\n",
    "        \n",
    "p1 = Person(\"John\", 36)\n",
    "p1.myfunc()"
   ]
  },
  {
   "cell_type": "markdown",
   "id": "f582e91b",
   "metadata": {},
   "source": [
    "#### Modify Object Properties\n",
    "You can modify properties on objects like this:\n",
    "\n",
    "#### Example\n",
    "Set the age of p1 to 40:"
   ]
  },
  {
   "cell_type": "code",
   "execution_count": 8,
   "id": "b9498e02",
   "metadata": {},
   "outputs": [
    {
     "name": "stdout",
     "output_type": "stream",
     "text": [
      "40\n"
     ]
    }
   ],
   "source": [
    "class Person:\n",
    "    def __init__(self, name, age):\n",
    "        self.name = name\n",
    "        self.age = age\n",
    "        \n",
    "    def myfunc(self):\n",
    "        print(\"Hello my name is \" + self.name)\n",
    "        \n",
    "p1 = Person(\"JOhn\", 36)\n",
    "p1.age = 40\n",
    "\n",
    "print(p1.age)"
   ]
  },
  {
   "cell_type": "markdown",
   "id": "7a785afe",
   "metadata": {},
   "source": [
    "#### Delete Object Properties\n",
    "You can delete properties on objects by using the del keyword:\n",
    "\n",
    "#### Example\n",
    "Delete the age property from the p1 object:\n",
    "\n",
    "del p1.age"
   ]
  },
  {
   "cell_type": "code",
   "execution_count": 12,
   "id": "3b926105",
   "metadata": {},
   "outputs": [
    {
     "name": "stdout",
     "output_type": "stream",
     "text": [
      "Hello my name is John\n"
     ]
    },
    {
     "ename": "AttributeError",
     "evalue": "'Person' object has no attribute 'age'",
     "output_type": "error",
     "traceback": [
      "\u001b[1;31m---------------------------------------------------------------------------\u001b[0m",
      "\u001b[1;31mAttributeError\u001b[0m                            Traceback (most recent call last)",
      "\u001b[1;32m~\\AppData\\Local\\Temp/ipykernel_6872/1595967134.py\u001b[0m in \u001b[0;36m<module>\u001b[1;34m\u001b[0m\n\u001b[0;32m     12\u001b[0m \u001b[0mprint\u001b[0m\u001b[1;33m(\u001b[0m\u001b[0mp1\u001b[0m\u001b[1;33m.\u001b[0m\u001b[0mmyfunc\u001b[0m\u001b[1;33m(\u001b[0m\u001b[1;33m)\u001b[0m\u001b[1;33m)\u001b[0m\u001b[1;33m\u001b[0m\u001b[1;33m\u001b[0m\u001b[0m\n\u001b[0;32m     13\u001b[0m \u001b[1;32mdel\u001b[0m \u001b[0mp1\u001b[0m\u001b[1;33m.\u001b[0m\u001b[0mage\u001b[0m\u001b[1;33m\u001b[0m\u001b[1;33m\u001b[0m\u001b[0m\n\u001b[1;32m---> 14\u001b[1;33m \u001b[0mprint\u001b[0m\u001b[1;33m(\u001b[0m\u001b[0mp1\u001b[0m\u001b[1;33m.\u001b[0m\u001b[0mage\u001b[0m\u001b[1;33m)\u001b[0m\u001b[1;33m\u001b[0m\u001b[1;33m\u001b[0m\u001b[0m\n\u001b[0m",
      "\u001b[1;31mAttributeError\u001b[0m: 'Person' object has no attribute 'age'"
     ]
    }
   ],
   "source": [
    "class Person:\n",
    "    \n",
    "    def __init__(self, name, age):\n",
    "        self.name = name\n",
    "        self.age = age\n",
    "        \n",
    "    def myfunc(self):\n",
    "        return(\"Hello my name is \" + self.name)\n",
    "        \n",
    "p1 = Person(\"John\", 36)\n",
    "\n",
    "print(p1.myfunc())\n",
    "del p1.age\n",
    "print(p1.age)"
   ]
  },
  {
   "cell_type": "markdown",
   "id": "61fdbe78",
   "metadata": {},
   "source": [
    "#### The pass Statement\n",
    "`class` definitions cannot be empty, but if you for some reason have a `class` definition with no content, put in the `pass` statement to avoid getting an error."
   ]
  },
  {
   "cell_type": "code",
   "execution_count": 13,
   "id": "cd67cedd",
   "metadata": {},
   "outputs": [],
   "source": [
    "class Pesrson:\n",
    "    pass\n",
    "\n",
    "# Having as empty class definition like this\n",
    "# would raise as error without the pass statement\n"
   ]
  }
 ],
 "metadata": {
  "kernelspec": {
   "display_name": "Python 3 (ipykernel)",
   "language": "python",
   "name": "python3"
  },
  "language_info": {
   "codemirror_mode": {
    "name": "ipython",
    "version": 3
   },
   "file_extension": ".py",
   "mimetype": "text/x-python",
   "name": "python",
   "nbconvert_exporter": "python",
   "pygments_lexer": "ipython3",
   "version": "3.9.7"
  }
 },
 "nbformat": 4,
 "nbformat_minor": 5
}

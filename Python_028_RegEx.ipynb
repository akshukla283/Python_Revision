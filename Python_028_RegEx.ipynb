{
 "cells": [
  {
   "cell_type": "markdown",
   "id": "6db54253",
   "metadata": {},
   "source": [
    "#### Pyhton RegEx\n",
    "\n",
    "A RegEx, or Regular Expression, is a sequence of characters that forms a search pattern.\n",
    "\n",
    "RegEx can be used to check if a string contains the specified search pattern.\n",
    "\n",
    "#### RegEx Module\n",
    "Python has a built-in package called re, which can be used to work with Regular Expressions.\n",
    "\n",
    "Import the `re`module:"
   ]
  },
  {
   "cell_type": "code",
   "execution_count": 1,
   "id": "e82c6794",
   "metadata": {},
   "outputs": [],
   "source": [
    "import re"
   ]
  },
  {
   "cell_type": "markdown",
   "id": "36ae2414",
   "metadata": {},
   "source": [
    "#### RegEx in Python\n",
    "When you have imported the re module, you can start using regular expressions:\n",
    "\n",
    "#### Example\n",
    "Search the string to see if it starts with \"The\" and ends with \"Spain\":"
   ]
  },
  {
   "cell_type": "code",
   "execution_count": 2,
   "id": "fdb37662",
   "metadata": {},
   "outputs": [
    {
     "name": "stdout",
     "output_type": "stream",
     "text": [
      "Yes! We have a match!\n"
     ]
    }
   ],
   "source": [
    "import re\n",
    "\n",
    "txt = \"The rain in Spain\"\n",
    "x = re.search(\"^The.*Spain$\", txt)\n",
    "\n",
    "if x :\n",
    "    print(\"Yes! We have a match!\")\n",
    "else:\n",
    "    print(\"No match\")"
   ]
  },
  {
   "cell_type": "markdown",
   "id": "e22f499d",
   "metadata": {},
   "source": [
    "#### RegEx Functions\n",
    "The re module offers a set of functions that allows us to search a string for a match:\n",
    "\n",
    "* Function   ----\tDescription\n",
    "\n",
    "* findall   ----\tReturns a list containing all matches\n",
    "\n",
    "* search   ----\tReturns a Match object if there is a match anywhere in the string\n",
    "\n",
    "* split   ----\tReturns a list where the string has been split at each match\n",
    "\n",
    "* sub   ----\tReplaces one or many matches with a string\n",
    "\n",
    "\n",
    "#### Difference between match, search and find all\n",
    "\n",
    "* `Match :` function search the only beginning of the string.\n",
    "\n",
    "* `Search :` function search in the entire  string and return match object from first match if there is more than one match.\n",
    "\n",
    "* `Findall :` return the list of all the matching object.\n"
   ]
  },
  {
   "cell_type": "markdown",
   "id": "072ad7fc",
   "metadata": {},
   "source": [
    "#### Metacharacters\n",
    "Metacharacters are characters with a special meaning:"
   ]
  },
  {
   "cell_type": "markdown",
   "id": "e455862e",
   "metadata": {},
   "source": [
    "`1. []\tA set of characters\t\"[a-m]\"`"
   ]
  },
  {
   "cell_type": "code",
   "execution_count": 2,
   "id": "e1309433",
   "metadata": {},
   "outputs": [
    {
     "name": "stdout",
     "output_type": "stream",
     "text": [
      "['h', 'e', 'a', 'i', 'a', 'i']\n"
     ]
    }
   ],
   "source": [
    "import re\n",
    "\n",
    "txt = \"The ran in Spain\"\n",
    "#Find all lower case characters\n",
    "#alphabetically between \"a\" and \"m\":\n",
    "\n",
    "x = re.findall(\"[a-m]\", txt)\n",
    "print(x)"
   ]
  },
  {
   "cell_type": "code",
   "execution_count": 4,
   "id": "80225d60",
   "metadata": {},
   "outputs": [
    {
     "name": "stdout",
     "output_type": "stream",
     "text": [
      "['H', 'W']\n"
     ]
    }
   ],
   "source": [
    "import re \n",
    "\n",
    "txt = \"Hello World!\"\n",
    "patterm = \"[A-Z]\"\n",
    "\n",
    "# find all uppercase \n",
    "x = re.findall(patterm , txt)\n",
    "\n",
    "print(x)"
   ]
  },
  {
   "cell_type": "markdown",
   "id": "a39739d3",
   "metadata": {},
   "source": [
    "`2. \\\tSignals a special sequence (can also be used to escape special characters)\t\"\\d\"`"
   ]
  },
  {
   "cell_type": "code",
   "execution_count": 5,
   "id": "27b0853a",
   "metadata": {},
   "outputs": [
    {
     "name": "stdout",
     "output_type": "stream",
     "text": [
      "['5', '9']\n"
     ]
    }
   ],
   "source": [
    "import re \n",
    "\n",
    "txt  = \"that will be 59 dollars\"\n",
    "\n",
    "# find the all digit characters:\n",
    "\n",
    "x = re.findall(\"\\d\", txt)\n",
    "print(x)"
   ]
  },
  {
   "cell_type": "code",
   "execution_count": 5,
   "id": "34c47f94",
   "metadata": {},
   "outputs": [
    {
     "name": "stdout",
     "output_type": "stream",
     "text": [
      "['59']\n"
     ]
    }
   ],
   "source": [
    "import re \n",
    "\n",
    "txt  = \"that will be 59 dollars\"\n",
    "\n",
    "# find the all digit characters:\n",
    "\n",
    "x = re.findall(\"\\d\\d\", txt)\n",
    "print(x)"
   ]
  },
  {
   "cell_type": "code",
   "execution_count": 7,
   "id": "ccff31e3",
   "metadata": {},
   "outputs": [
    {
     "name": "stdout",
     "output_type": "stream",
     "text": [
      "['59']\n"
     ]
    }
   ],
   "source": [
    "import re \n",
    "\n",
    "txt  = \"that will be 59 dollars\"\n",
    "\n",
    "# find the all digit characters:\n",
    "\n",
    "x = re.findall(\"\\d+\", txt)\n",
    "print(x)"
   ]
  },
  {
   "cell_type": "code",
   "execution_count": 11,
   "id": "6c93f00a",
   "metadata": {},
   "outputs": [
    {
     "name": "stdout",
     "output_type": "stream",
     "text": [
      "['5', '9']\n"
     ]
    }
   ],
   "source": [
    "import re \n",
    "\n",
    "txt  = \"that will be 59 dollars\"\n",
    "\n",
    "# find the all digit characters:\n",
    "\n",
    "x = re.findall(\"\\dd*\", txt)\n",
    "print(x)"
   ]
  },
  {
   "cell_type": "code",
   "execution_count": 1,
   "id": "b563ae3e",
   "metadata": {},
   "outputs": [
    {
     "name": "stdout",
     "output_type": "stream",
     "text": [
      "['5999']\n"
     ]
    }
   ],
   "source": [
    "import re \n",
    "\n",
    "txt  = \"that will be 5999 dollars\"\n",
    "\n",
    "# find the all digit characters:\n",
    "\n",
    "x = re.findall(\"\\d\\d*\", txt)\n",
    "print(x)"
   ]
  },
  {
   "cell_type": "code",
   "execution_count": 2,
   "id": "65fa7cf9",
   "metadata": {},
   "outputs": [
    {
     "name": "stdout",
     "output_type": "stream",
     "text": [
      "['', '', '', '', '', '', '', '', '', '', '', '', '', '5999', '', '', '', '', '', '', '', '', '']\n"
     ]
    }
   ],
   "source": [
    "import re \n",
    "\n",
    "txt  = \"that will be 5999 dollars\"\n",
    "\n",
    "# find the all digit characters:\n",
    "\n",
    "x = re.findall(\"\\d*\", txt)\n",
    "print(x)"
   ]
  },
  {
   "cell_type": "code",
   "execution_count": 3,
   "id": "d677d8a7",
   "metadata": {},
   "outputs": [
    {
     "name": "stdout",
     "output_type": "stream",
     "text": [
      "['5999']\n"
     ]
    }
   ],
   "source": [
    "import re \n",
    "\n",
    "txt  = \"that will be 5999 dollars\"\n",
    "\n",
    "# find the all digit characters:\n",
    "\n",
    "x = re.findall(\"\\d\\d*\", txt)\n",
    "print(x)"
   ]
  },
  {
   "cell_type": "markdown",
   "id": "fc94c783",
   "metadata": {},
   "source": [
    "`3  .\tAny character (except newline character)\t\"he..o\"`"
   ]
  },
  {
   "cell_type": "code",
   "execution_count": 12,
   "id": "c742e619",
   "metadata": {},
   "outputs": [
    {
     "name": "stdout",
     "output_type": "stream",
     "text": [
      "['Hello']\n"
     ]
    }
   ],
   "source": [
    "import re \n",
    "txt =  \"Hello planet\"\n",
    "#Search for a sequence that starts with \n",
    "#\"he\", followed by two (any) characters,\n",
    "# and an \"o\":\n",
    "\n",
    "x = re.findall(\"He..o\", txt)\n",
    "print(x)"
   ]
  },
  {
   "cell_type": "code",
   "execution_count": 13,
   "id": "da9043c7",
   "metadata": {},
   "outputs": [
    {
     "name": "stdout",
     "output_type": "stream",
     "text": [
      "['Hello', 'hello']\n"
     ]
    }
   ],
   "source": [
    "import re \n",
    "\n",
    "txt = \"Hello guys into Python wolrd , hello\"\n",
    "\n",
    "x = re.findall(\"He..o|he..o\", txt)\n",
    "\n",
    "print(x)"
   ]
  },
  {
   "cell_type": "code",
   "execution_count": 18,
   "id": "319070b1",
   "metadata": {},
   "outputs": [
    {
     "name": "stdout",
     "output_type": "stream",
     "text": [
      "['5', '9', '8', '7', '8', '8', '9']\n"
     ]
    }
   ],
   "source": [
    "import re \n",
    "\n",
    "txt  = \"that will be 59!8AAA7889dollars\"\n",
    "\n",
    "# find the all digit characters:\n",
    "\n",
    "x = re.findall(\"\\d\", txt)  \n",
    "print(x)"
   ]
  },
  {
   "cell_type": "code",
   "execution_count": 21,
   "id": "772db644",
   "metadata": {},
   "outputs": [
    {
     "name": "stdout",
     "output_type": "stream",
     "text": [
      "['59', '8A', '78', '89']\n"
     ]
    }
   ],
   "source": [
    "import re \n",
    "\n",
    "txt  = \"that will be 59!8AAA7889dollars\"\n",
    "\n",
    "# find the all digit characters:\n",
    "\n",
    "x = re.findall(\"\\d.\", txt) # any character except new line \n",
    "print(x) # be careful while searching for digit only and used '.' which means any character"
   ]
  },
  {
   "cell_type": "markdown",
   "id": "1f80f437",
   "metadata": {},
   "source": [
    "`4.   ^\tStarts with\t\"^hello\"``"
   ]
  },
  {
   "cell_type": "code",
   "execution_count": 22,
   "id": "edec4de9",
   "metadata": {},
   "outputs": [
    {
     "name": "stdout",
     "output_type": "stream",
     "text": [
      "Yes, the string starts with 'hello'\n"
     ]
    }
   ],
   "source": [
    "import re\n",
    "\n",
    "txt = \"hello planet\"\n",
    "# check if string start with \"hello\"\n",
    "\n",
    "x = re.findall(\"^hello\", txt)\n",
    "\n",
    "if x:\n",
    "    print(\"Yes, the string starts with 'hello'\")\n",
    "else:\n",
    "    print(\"No match\")"
   ]
  },
  {
   "cell_type": "markdown",
   "id": "a11b4b3f",
   "metadata": {},
   "source": [
    "`5. $\tEnds with\t\"planet$\"`"
   ]
  },
  {
   "cell_type": "code",
   "execution_count": 23,
   "id": "d6fbebdb",
   "metadata": {},
   "outputs": [
    {
     "name": "stdout",
     "output_type": "stream",
     "text": [
      "Yes, the string end with 'Planet'\n"
     ]
    }
   ],
   "source": [
    "import re\n",
    "\n",
    "# check if the string ends with 'planet'\n",
    "\n",
    "txt = \"hello planet\"\n",
    "x = re.findall(\"planet$\", txt)\n",
    "\n",
    "if x:\n",
    "    print(\"Yes, the string end with 'Planet'\")\n",
    "else:\n",
    "    print(\"No match\")"
   ]
  },
  {
   "cell_type": "markdown",
   "id": "b7ea518f",
   "metadata": {},
   "source": [
    "`6.  *\tZero or more occurrences\t\"he.*o\"`"
   ]
  },
  {
   "cell_type": "code",
   "execution_count": 24,
   "id": "dd18086c",
   "metadata": {},
   "outputs": [
    {
     "name": "stdout",
     "output_type": "stream",
     "text": [
      "['hello']\n"
     ]
    }
   ],
   "source": [
    "import re\n",
    "\n",
    "txt = \"hello planet\"\n",
    "\n",
    "# Search for a sequence that starts with \n",
    "# \"he\", followed by 0 or more  (any) \n",
    "# characters, and an \"o\":\n",
    "\n",
    "x = re.findall(\"he.*o\", txt)\n",
    "\n",
    "print(x)"
   ]
  },
  {
   "cell_type": "code",
   "execution_count": 25,
   "id": "61292d69",
   "metadata": {},
   "outputs": [
    {
     "name": "stdout",
     "output_type": "stream",
     "text": [
      "['5', '9', '7', '9', '7', '9', '7']\n"
     ]
    }
   ],
   "source": [
    "import re \n",
    "\n",
    "txt  = \"that will be 5979797 dollars\"\n",
    "\n",
    "# find the all digit characters:\n",
    "\n",
    "x = re.findall(\"\\d\", txt)\n",
    "print(x)"
   ]
  },
  {
   "cell_type": "code",
   "execution_count": 4,
   "id": "4c1ae81b",
   "metadata": {},
   "outputs": [
    {
     "name": "stdout",
     "output_type": "stream",
     "text": [
      "['5979797']\n"
     ]
    }
   ],
   "source": [
    "# but when we use '*' along with this \n",
    "import re \n",
    "\n",
    "txt  = \"that will be 5979797 dollars\"\n",
    "\n",
    "# find the all digit characters:\n",
    "\n",
    "x = re.findall(\"\\d\\d*\", txt) # here this will search start with digit and \n",
    "                            # end with Zero or more occurrences till last digit \n",
    "print(x)"
   ]
  },
  {
   "cell_type": "code",
   "execution_count": 33,
   "id": "1eb94ba7",
   "metadata": {},
   "outputs": [
    {
     "name": "stdout",
     "output_type": "stream",
     "text": [
      "['5979797']\n"
     ]
    }
   ],
   "source": [
    "# but when we use '*' along with this \n",
    "import re \n",
    "\n",
    "txt  = \"that will be 5979797 dollars\"\n",
    "\n",
    "# find the all digit characters:\n",
    "\n",
    "x = re.findall(\"\\d\\d*\", txt)  # here '*' means zero or more occurance.\n",
    "\n",
    "print(x)"
   ]
  },
  {
   "cell_type": "code",
   "execution_count": 38,
   "id": "0f76abc0",
   "metadata": {},
   "outputs": [
    {
     "name": "stdout",
     "output_type": "stream",
     "text": [
      "['', '', '', '', '', '', '', '', '', '', '', '', '', '5979797', '', '', '', '', '', '', '', '', '']\n"
     ]
    }
   ],
   "source": [
    "# but when we use '*' along with this \n",
    "import re \n",
    "\n",
    "txt  = \"that will be 5979797 dollars\"\n",
    "\n",
    "# find the all digit characters:\n",
    "\n",
    "x = re.findall(\"\\d*\", txt)  # here '*' means zero or more occurance.\n",
    "\n",
    "print(x)"
   ]
  },
  {
   "cell_type": "code",
   "execution_count": 34,
   "id": "541306fd",
   "metadata": {},
   "outputs": [
    {
     "name": "stdout",
     "output_type": "stream",
     "text": [
      "['5979797']\n"
     ]
    }
   ],
   "source": [
    "# but when we use '*' along with this \n",
    "import re \n",
    "\n",
    "txt  = \"that will be 5979797 dollars\"\n",
    "\n",
    "# find the all digit characters:\n",
    "\n",
    "x = re.findall(\"\\d+\", txt)  \n",
    "\n",
    "print(x)"
   ]
  },
  {
   "cell_type": "code",
   "execution_count": null,
   "id": "4148ed5f",
   "metadata": {},
   "outputs": [],
   "source": []
  },
  {
   "cell_type": "code",
   "execution_count": null,
   "id": "24460acf",
   "metadata": {},
   "outputs": [],
   "source": []
  },
  {
   "cell_type": "code",
   "execution_count": null,
   "id": "36e6d32b",
   "metadata": {},
   "outputs": [],
   "source": []
  },
  {
   "cell_type": "code",
   "execution_count": 5,
   "id": "94cfa565",
   "metadata": {},
   "outputs": [
    {
     "name": "stdout",
     "output_type": "stream",
     "text": [
      "['797', '97']\n"
     ]
    }
   ],
   "source": [
    "# but when we use '*' along with this \n",
    "import re \n",
    "\n",
    "txt  = \"that will be 59!797!97 dollars\"\n",
    "\n",
    "# find the all digit characters:\n",
    "\n",
    "x = re.findall(\"\\d*7\", txt) \n",
    "print(x)"
   ]
  },
  {
   "cell_type": "code",
   "execution_count": 36,
   "id": "6982d047",
   "metadata": {},
   "outputs": [
    {
     "name": "stdout",
     "output_type": "stream",
     "text": [
      "['797', '97']\n"
     ]
    }
   ],
   "source": [
    "# but when we use '*' along with this \n",
    "import re \n",
    "\n",
    "txt  = \"that will be 59!797!97 dollars\"\n",
    "\n",
    "# find the all digit characters:\n",
    "\n",
    "x = re.findall(\"\\d+7\", txt) \n",
    "print(x)"
   ]
  },
  {
   "cell_type": "code",
   "execution_count": null,
   "id": "6929b0c1",
   "metadata": {},
   "outputs": [],
   "source": []
  },
  {
   "cell_type": "code",
   "execution_count": 7,
   "id": "b4a6f707",
   "metadata": {},
   "outputs": [
    {
     "name": "stdout",
     "output_type": "stream",
     "text": [
      "['heo', 'heeeeeeeo']\n"
     ]
    }
   ],
   "source": [
    "import re\n",
    "\n",
    "txt = \"heo planet helllll, hellolll heeeeeeeo\"\n",
    "\n",
    "# Search for a sequence that starts with \n",
    "# \"he\", followed by 0 or more  (any) \n",
    "# characters, and an \"o\":\n",
    "\n",
    "x = re.findall(\"he*o\", txt) # here 'e' will be zeor or as many as can be \n",
    "\n",
    "print(x)"
   ]
  },
  {
   "cell_type": "markdown",
   "id": "f3e2ae49",
   "metadata": {},
   "source": [
    "As we can see 'he' followed by 0 or more any character till 'o' ."
   ]
  },
  {
   "cell_type": "code",
   "execution_count": 8,
   "id": "7b745cf4",
   "metadata": {},
   "outputs": [
    {
     "name": "stdout",
     "output_type": "stream",
     "text": [
      "['he', 'he', 'heeeee']\n"
     ]
    }
   ],
   "source": [
    "import re\n",
    "\n",
    "txt = \"heo planet helllll, heeeeellolll\"\n",
    "\n",
    "# Search for a sequence that starts with \n",
    "# \"he\", followed by 0 or more  (any) \n",
    "# characters, and an \"o\":\n",
    "\n",
    "x = re.findall(\"he*\", txt) \n",
    "\n",
    "print(x)"
   ]
  },
  {
   "cell_type": "code",
   "execution_count": 4,
   "id": "74dac9ec",
   "metadata": {},
   "outputs": [
    {
     "name": "stdout",
     "output_type": "stream",
     "text": [
      "['heee', 'h', 'h', 'he', 'he']\n"
     ]
    }
   ],
   "source": [
    "import re\n",
    "\n",
    "txt = \"heeeo  planet hhhelllll, hellolll\"\n",
    "\n",
    "# Search for a sequence that starts with \n",
    "# \"he\", followed by 0 or more  (any) \n",
    "# characters, and an \"o\":\n",
    "\n",
    "x = re.findall(\"he*\", txt) \n",
    "\n",
    "print(x)"
   ]
  },
  {
   "cell_type": "markdown",
   "id": "b15529e8",
   "metadata": {},
   "source": [
    "`7.  +\tOne or more occurrences\t\"he.+o\"`"
   ]
  },
  {
   "cell_type": "code",
   "execution_count": 9,
   "id": "d5588620",
   "metadata": {},
   "outputs": [
    {
     "name": "stdout",
     "output_type": "stream",
     "text": [
      "['hello']\n"
     ]
    }
   ],
   "source": [
    "import re\n",
    "txt= \"hello planet\"\n",
    "\n",
    "#Search for a sequence that starts with\n",
    "# \"he\", followed by 1 or more  (any) \n",
    "# characters, and an \"o\":\n",
    "\n",
    "\n",
    "x = re.findall(\"he.+o\", txt)\n",
    "\n",
    "print(x)"
   ]
  },
  {
   "cell_type": "code",
   "execution_count": 30,
   "id": "802a54f3",
   "metadata": {},
   "outputs": [
    {
     "name": "stdout",
     "output_type": "stream",
     "text": [
      "[]\n"
     ]
    }
   ],
   "source": [
    "import re\n",
    "\n",
    "txt = \"heo planet helll\"\n",
    "\n",
    "x = re.findall(\"he.+o\", txt) # One or more occurrences and here we can see that no occurance of \n",
    "                             # any word that is why here Re engine return nothing.\n",
    "\n",
    "print(x)"
   ]
  },
  {
   "cell_type": "code",
   "execution_count": 31,
   "id": "b905e74e",
   "metadata": {},
   "outputs": [
    {
     "name": "stdout",
     "output_type": "stream",
     "text": [
      "['heo']\n"
     ]
    }
   ],
   "source": [
    "import re\n",
    "\n",
    "txt = \"heo planet helll\"\n",
    "\n",
    "x = re.findall(\"he.*o\", txt) # As we know that \"*\" uses for 'zero or more occurence' so Re engine\n",
    "                             # will find 'heo' because there is zero occurance of other element.\n",
    "    \n",
    "\n",
    "print(x)"
   ]
  },
  {
   "cell_type": "code",
   "execution_count": 33,
   "id": "1b398888",
   "metadata": {},
   "outputs": [
    {
     "name": "stdout",
     "output_type": "stream",
     "text": [
      "['heo o']\n"
     ]
    }
   ],
   "source": [
    "import re\n",
    "\n",
    "txt = \"heo o planet helll\" \n",
    "\n",
    "x = re.findall(\"he.+o\", txt) \n",
    "# note - it will search start with \"he\" and will add a search till \n",
    "# the last 'o' it will find.\n",
    "\n",
    "    \n",
    "print(x) "
   ]
  },
  {
   "cell_type": "code",
   "execution_count": 13,
   "id": "768118e4",
   "metadata": {},
   "outputs": [
    {
     "name": "stdout",
     "output_type": "stream",
     "text": [
      "['he', 'he', 'he']\n"
     ]
    }
   ],
   "source": [
    "import re\n",
    "\n",
    "txt = \"heo planet helll hhhhhe\"\n",
    "\n",
    "x = re.findall(\"he+\", txt) # without \".\"\n",
    "\n",
    "print(x)"
   ]
  },
  {
   "cell_type": "code",
   "execution_count": 35,
   "id": "d00d1c64",
   "metadata": {},
   "outputs": [
    {
     "name": "stdout",
     "output_type": "stream",
     "text": [
      "['heo planet helll hhhhhe']\n"
     ]
    }
   ],
   "source": [
    "import re\n",
    "\n",
    "txt = \"heo planet helll hhhhhe\"\n",
    "\n",
    "x = re.findall(\"he.+\", txt) # with \".\"\n",
    "\n",
    "print(x)"
   ]
  },
  {
   "cell_type": "code",
   "execution_count": 36,
   "id": "da19194c",
   "metadata": {},
   "outputs": [
    {
     "name": "stdout",
     "output_type": "stream",
     "text": [
      "['he', 'he', 'he']\n"
     ]
    }
   ],
   "source": [
    "import re\n",
    "\n",
    "txt = \"heo planet helll hhhhhe\"\n",
    "\n",
    "x = re.findall(\"he\", txt)\n",
    "\n",
    "print(x)"
   ]
  },
  {
   "cell_type": "markdown",
   "id": "f79f9c1f",
   "metadata": {},
   "source": [
    "`8.  ?\tZero or one occurrences\t\"he.?o\"`"
   ]
  },
  {
   "cell_type": "code",
   "execution_count": 37,
   "id": "78db196f",
   "metadata": {},
   "outputs": [
    {
     "name": "stdout",
     "output_type": "stream",
     "text": [
      "[]\n"
     ]
    }
   ],
   "source": [
    "import re \n",
    "\n",
    "txt = \"hello planet\"\n",
    "\n",
    "# Search for a sequence that starts\n",
    "# with \"he\", followed by 0 or 1  (any) \n",
    "# character, and an \"o\":\n",
    "x = re.findall(\"he.?o\", txt)\n",
    "\n",
    "print(x)\n",
    "\n",
    "#This time we got no match, because there \n",
    "# were not zero, not one, but two characters\n",
    "# between \"he\" and the \"o\"\n"
   ]
  },
  {
   "cell_type": "code",
   "execution_count": 48,
   "id": "2e99540d",
   "metadata": {},
   "outputs": [
    {
     "name": "stdout",
     "output_type": "stream",
     "text": [
      "['helo', 'heo']\n"
     ]
    }
   ],
   "source": [
    "import re \n",
    "\n",
    "txt = \"hello helo  heo planet\"\n",
    "\n",
    "#Search for a sequence that starts\n",
    "#with \"he\", followed by 0 or 1  (any) \n",
    "# character, and an \"o\":\n",
    "x = re.findall(\"he.?o\", txt)\n",
    "\n",
    "print(x)\n"
   ]
  },
  {
   "cell_type": "markdown",
   "id": "8a89978e",
   "metadata": {},
   "source": [
    "this time we got a match because there is one character 'l' that followed 'he'"
   ]
  },
  {
   "cell_type": "code",
   "execution_count": 28,
   "id": "66487d5b",
   "metadata": {},
   "outputs": [
    {
     "name": "stdout",
     "output_type": "stream",
     "text": [
      "['helo', 'heoo']\n"
     ]
    }
   ],
   "source": [
    "import re \n",
    "\n",
    "txt = \"helo heooo oplanet\"\n",
    "\n",
    "#Search for a sequence that starts\n",
    "#with \"he\", followed by 0 or 1  (any) \n",
    "# character, and an \"o\":\n",
    "x = re.findall(\"he.?o\", txt)\n",
    "\n",
    "print(x) # this time we can see that it add first two 'o' as a search part anf third 'o' as last."
   ]
  },
  {
   "cell_type": "markdown",
   "id": "bab6c818",
   "metadata": {},
   "source": [
    "`9. {}\tExactly the specified number of occurrences\t\"he.{2}o\"`"
   ]
  },
  {
   "cell_type": "code",
   "execution_count": 12,
   "id": "32c6a9f9",
   "metadata": {},
   "outputs": [
    {
     "name": "stdout",
     "output_type": "stream",
     "text": [
      "['hello']\n"
     ]
    }
   ],
   "source": [
    "import re\n",
    "\n",
    "txt  = \"hello planet\"\n",
    "\n",
    "#Search for a sequence that starts with\n",
    "# \"he\", followed excactly 2 (any) characters,\n",
    "# and an \"o\":\n",
    "\n",
    "x = re.findall(\"he.{2}o\", txt)\n",
    "\n",
    "print(x)"
   ]
  },
  {
   "cell_type": "code",
   "execution_count": 16,
   "id": "a05e91ec",
   "metadata": {},
   "outputs": [
    {
     "name": "stdout",
     "output_type": "stream",
     "text": [
      "['planet']\n"
     ]
    }
   ],
   "source": [
    "import re\n",
    "\n",
    "txt = \"hello planet\"\n",
    "\n",
    "x = re.findall(\"pl.{3}t\", txt)\n",
    "\n",
    "print(x)"
   ]
  },
  {
   "cell_type": "code",
   "execution_count": 29,
   "id": "b17fc9e0",
   "metadata": {},
   "outputs": [
    {
     "name": "stdout",
     "output_type": "stream",
     "text": [
      "['plane', 'plane', 'plsss']\n"
     ]
    }
   ],
   "source": [
    "import re\n",
    "\n",
    "txt = \"hello planet, planet plssst\"\n",
    "\n",
    "x = re.findall(\"pl.{3}\", txt)\n",
    "\n",
    "print(x)"
   ]
  },
  {
   "cell_type": "markdown",
   "id": "823733df",
   "metadata": {},
   "source": [
    "`10.  |\tEither or\t\"falls|stays\"`"
   ]
  },
  {
   "cell_type": "code",
   "execution_count": 17,
   "id": "4e2cfd27",
   "metadata": {},
   "outputs": [
    {
     "name": "stdout",
     "output_type": "stream",
     "text": [
      "['falls']\n",
      "Yes, there is at least one match!\n"
     ]
    }
   ],
   "source": [
    "import re\n",
    "\n",
    "txt = \"The rain in Spain falls mainly in the plain!\"\n",
    "\n",
    "#Check if the string contains either \"falls\" or \"stays\":\n",
    "\n",
    "x = re.findall(\"falls|stays\", txt)\n",
    "\n",
    "print(x)\n",
    "\n",
    "if x:\n",
    "    print(\"Yes, there is at least one match!\")\n",
    "else:\n",
    "    print(\"No match\")\n"
   ]
  },
  {
   "cell_type": "markdown",
   "id": "204ef0e2",
   "metadata": {},
   "source": [
    "`11.   ()\tCapture and group`"
   ]
  },
  {
   "cell_type": "code",
   "execution_count": 16,
   "id": "0b05c81d",
   "metadata": {},
   "outputs": [
    {
     "name": "stdout",
     "output_type": "stream",
     "text": [
      "['hello planet']\n"
     ]
    }
   ],
   "source": [
    "import re\n",
    "\n",
    "txt = \"hello planet,hello \"\n",
    "\n",
    "x = re.findall(\"(hello planet)\", txt)\n",
    "\n",
    "print(x)"
   ]
  },
  {
   "cell_type": "code",
   "execution_count": 17,
   "id": "07836f3a",
   "metadata": {},
   "outputs": [
    {
     "name": "stdout",
     "output_type": "stream",
     "text": [
      "[]\n"
     ]
    }
   ],
   "source": [
    "import re\n",
    "\n",
    "txt = \"hello, planet,hello \"\n",
    "\n",
    "x = re.findall(\"(hello planet)\", txt) # but when ',' in txt and in pattern it doesn't then let's \n",
    "                                      # see whet will will be the output\n",
    "\n",
    "print(x)"
   ]
  },
  {
   "cell_type": "code",
   "execution_count": 30,
   "id": "b275aed0",
   "metadata": {},
   "outputs": [
    {
     "name": "stdout",
     "output_type": "stream",
     "text": [
      "['you have']\n"
     ]
    }
   ],
   "source": [
    "import re\n",
    "\n",
    "txt = \"Hope you are getting whatever you have been teached so far.\"\n",
    "\n",
    "x = re.findall(\"(you have)\", txt)\n",
    "\n",
    "print(x)"
   ]
  },
  {
   "cell_type": "markdown",
   "id": "deb56428",
   "metadata": {},
   "source": [
    "#### Special Sequences\n",
    "`A special sequence is a '\\' followed by one of the characters in the list below, and has a special meaning:`"
   ]
  },
  {
   "cell_type": "markdown",
   "id": "e5983ce7",
   "metadata": {},
   "source": [
    "`1. \\A\tReturns a match if the specified characters are at the beginning of the string\t\"\\AThe\"`"
   ]
  },
  {
   "cell_type": "code",
   "execution_count": 31,
   "id": "c6202a7e",
   "metadata": {},
   "outputs": [
    {
     "name": "stdout",
     "output_type": "stream",
     "text": [
      "['The']\n",
      "Yes, there is a match!\n"
     ]
    }
   ],
   "source": [
    "import re\n",
    "\n",
    "txt = \"The rain in Spain\"\n",
    "\n",
    "#Check if the string starts with \"The\":\n",
    "\n",
    "x = re.findall(\"\\AThe\", txt)\n",
    "\n",
    "print(x)\n",
    "\n",
    "if x:\n",
    "    print(\"Yes, there is a match!\")\n",
    "else:\n",
    "    print(\"No match\")\n"
   ]
  },
  {
   "cell_type": "code",
   "execution_count": 1,
   "id": "939f8dad",
   "metadata": {},
   "outputs": [
    {
     "name": "stdout",
     "output_type": "stream",
     "text": [
      "[]\n",
      "NO match\n"
     ]
    }
   ],
   "source": [
    "import re\n",
    "\n",
    "txt = \"rain in The Spain\"\n",
    "\n",
    "x = re.findall(\"\\AThe\", txt)\n",
    "\n",
    "print(x)\n",
    "\n",
    "if x:\n",
    "    print(\"Yes, there is a match\")\n",
    "else:\n",
    "    print(\"NO match\")\n",
    "    "
   ]
  },
  {
   "cell_type": "markdown",
   "id": "a4e343d1",
   "metadata": {},
   "source": [
    "`2.   \\b\tReturns a match where the specified characters are at the beginning or at the end of a word  like \\bain for beginning and ain\\b for the end of the word 'ain'\n",
    "(the \"r\" in the beginning is making sure that the string is being treated as a \"raw string\")\tr\"\\bain\" or  r\"ain\\b\"`"
   ]
  },
  {
   "cell_type": "code",
   "execution_count": 2,
   "id": "9e9b465e",
   "metadata": {},
   "outputs": [
    {
     "data": {
      "text/plain": [
       "'this is a broad rd'"
      ]
     },
     "execution_count": 2,
     "metadata": {},
     "output_type": "execute_result"
    }
   ],
   "source": [
    "txt = \"this is a broad road\"\n",
    "import re\n",
    "re.sub(r\"\\broad\", 'rd', txt)"
   ]
  },
  {
   "cell_type": "code",
   "execution_count": 3,
   "id": "05a25dcf",
   "metadata": {},
   "outputs": [
    {
     "data": {
      "text/plain": [
       "'this is a brd rd'"
      ]
     },
     "execution_count": 3,
     "metadata": {},
     "output_type": "execute_result"
    }
   ],
   "source": [
    "txt = \"this is a broad road\"\n",
    "import re\n",
    "re.sub(r\"road\\b\", 'rd', txt) # but when we put '\\b' at end then it will take road whether it \n",
    "# it is single word or at end of the word\n"
   ]
  },
  {
   "cell_type": "code",
   "execution_count": 23,
   "id": "0bca971c",
   "metadata": {},
   "outputs": [
    {
     "name": "stdout",
     "output_type": "stream",
     "text": [
      "[]\n",
      "No Match\n"
     ]
    }
   ],
   "source": [
    "import re\n",
    "\n",
    "txt  = \"The rain in Spain\"\n",
    "# chack if 'ain' is present at the begigging\n",
    "# of a WORD:\n",
    "\n",
    "x = re.findall(r\"\\bain\", txt)\n",
    "\n",
    "print(x)\n",
    "\n",
    "if x:\n",
    "    print(\"Yes, there is at least one match!\")\n",
    "else:\n",
    "    print(\"No Match\")\n",
    "    "
   ]
  },
  {
   "cell_type": "code",
   "execution_count": 33,
   "id": "74db92bd",
   "metadata": {},
   "outputs": [
    {
     "name": "stdout",
     "output_type": "stream",
     "text": [
      "['ain']\n",
      "Yes, there is at least one match!\n"
     ]
    }
   ],
   "source": [
    "import re\n",
    "\n",
    "txt  = \"The ain in Spain\"\n",
    "# chack if 'ain' is present at the begigging\n",
    "# of a WORD:\n",
    "\n",
    "x = re.findall(r\"\\bain\", txt)\n",
    "\n",
    "print(x)\n",
    "\n",
    "if x:\n",
    "    print(\"Yes, there is at least one match!\")\n",
    "else:\n",
    "    print(\"No Match\")\n",
    "    "
   ]
  },
  {
   "cell_type": "code",
   "execution_count": 25,
   "id": "0ed42e67",
   "metadata": {},
   "outputs": [
    {
     "name": "stdout",
     "output_type": "stream",
     "text": [
      "['ain', 'ain']\n",
      "Yes, ther is at least one match\n"
     ]
    }
   ],
   "source": [
    "### for end of the word in string\n",
    "\n",
    "import re \n",
    "txt = \"The rain in Spain\"\n",
    "\n",
    "x = re.findall(r\"ain\\b\", txt)\n",
    "\n",
    "print(x)\n",
    "\n",
    "if x:\n",
    "    print(\"Yes, ther is at least one match\")\n",
    "else:\n",
    "    print(\"NO match\")"
   ]
  },
  {
   "cell_type": "markdown",
   "id": "bf6f6d48",
   "metadata": {},
   "source": [
    "`3.   \\B\tReturns a match where the specified characters are present, but neither at the beginning nor at the end of a word.\n",
    "(the \"r\" in the beginning is making sure that the string is being treated as a \"raw string\")\tfor beginning r\"\\Bain\" and for end   r\"ain\\B\"`"
   ]
  },
  {
   "cell_type": "code",
   "execution_count": 26,
   "id": "54f58d0c",
   "metadata": {},
   "outputs": [
    {
     "name": "stdout",
     "output_type": "stream",
     "text": [
      "['ain', 'ain']\n",
      "Yes, there is at least one match!\n"
     ]
    }
   ],
   "source": [
    "### For checking NOt at Beginnig\n",
    "\n",
    "import re\n",
    "\n",
    "txt = \"the rain in Spain\"\n",
    "# Check if \"ain\" is present, but NOT at \n",
    "# the beginning of a word:\n",
    "\n",
    "x = re.findall(r\"\\Bain\", txt)\n",
    "\n",
    "print(x)\n",
    "if x:\n",
    "    print(\"Yes, there is at least one match!\")\n",
    "else:\n",
    "    print(\"No match \")"
   ]
  },
  {
   "cell_type": "code",
   "execution_count": 27,
   "id": "2dab5bbc",
   "metadata": {},
   "outputs": [
    {
     "name": "stdout",
     "output_type": "stream",
     "text": [
      "[]\n",
      "No match\n"
     ]
    }
   ],
   "source": [
    "## check not at end\n",
    "\n",
    "import re\n",
    "txt = \"The rain in Spain\"\n",
    "\n",
    "#Check if \"ain\" is present, but NOT at \n",
    "#the end of a word:\n",
    "\n",
    "x = re.findall(r\"ain\\B\", txt)\n",
    "\n",
    "print(x)\n",
    "if x:\n",
    "    print(\"Yes, there is at least one match!\")\n",
    "else:\n",
    "    print(\"No match\")"
   ]
  },
  {
   "cell_type": "code",
   "execution_count": 28,
   "id": "00b8409f",
   "metadata": {},
   "outputs": [
    {
     "name": "stdout",
     "output_type": "stream",
     "text": [
      "['ain']\n",
      "Yes, there is at least one match!\n"
     ]
    }
   ],
   "source": [
    "## check not at end\n",
    "\n",
    "import re\n",
    "txt = \"The remainder rain in Spain\"\n",
    "\n",
    "# here ain in middle of 'remainder'\n",
    "# this wil give one match\n",
    "x = re.findall(r\"ain\\B\", txt)\n",
    "\n",
    "print(x)\n",
    "if x:\n",
    "    print(\"Yes, there is at least one match!\")\n",
    "else:\n",
    "    print(\"No match\")"
   ]
  },
  {
   "cell_type": "markdown",
   "id": "f4a6b410",
   "metadata": {},
   "source": [
    "here 'ain' in the match list is the part of word 'remainder' because in this 'ain' is neither at beginning nor at end."
   ]
  },
  {
   "cell_type": "code",
   "execution_count": 4,
   "id": "1a042259",
   "metadata": {},
   "outputs": [
    {
     "data": {
      "text/plain": [
       "'this is a brd road'"
      ]
     },
     "execution_count": 4,
     "metadata": {},
     "output_type": "execute_result"
    }
   ],
   "source": [
    "txt = \"this is a broad road\"\n",
    "import re\n",
    "re.sub(r\"\\Broad\", 'rd', txt)"
   ]
  },
  {
   "cell_type": "code",
   "execution_count": 5,
   "id": "d71b1d01",
   "metadata": {},
   "outputs": [
    {
     "data": {
      "text/plain": [
       "'this is a broad road'"
      ]
     },
     "execution_count": 5,
     "metadata": {},
     "output_type": "execute_result"
    }
   ],
   "source": [
    "txt = \"this is a broad road\"\n",
    "import re\n",
    "re.sub(r\"road\\B\", 'rd', txt)"
   ]
  },
  {
   "cell_type": "markdown",
   "id": "ae759a7c",
   "metadata": {},
   "source": [
    "\n",
    "`4. \\d\tReturns a match where the string contains digits (numbers from 0-9)\t\"\\d\"`"
   ]
  },
  {
   "cell_type": "code",
   "execution_count": 29,
   "id": "7a660e30",
   "metadata": {},
   "outputs": [
    {
     "name": "stdout",
     "output_type": "stream",
     "text": [
      "[]\n",
      "No match\n"
     ]
    }
   ],
   "source": [
    "import re\n",
    "txt = \"The rain in Spain\"\n",
    "\n",
    "#Check if the string contains any digits\n",
    "#(numbers from 0-9):\n",
    "x = re.findall(\"\\d\", txt)\n",
    "\n",
    "print(x)\n",
    "\n",
    "if x:\n",
    "    print(\"Yes, there is at least one match!\")\n",
    "else:\n",
    "    print(\"No match\")\n",
    "    "
   ]
  },
  {
   "cell_type": "code",
   "execution_count": 30,
   "id": "6ba08c5d",
   "metadata": {},
   "outputs": [
    {
     "name": "stdout",
     "output_type": "stream",
     "text": [
      "['1', '2', '3']\n",
      "Yes, there is at least one match!\n"
     ]
    }
   ],
   "source": [
    "import re\n",
    "txt = \"The rain123 in Spain\"\n",
    "\n",
    "#Check if the string contains any digits\n",
    "#(numbers from 0-9):\n",
    "x = re.findall(\"\\d\", txt)\n",
    "\n",
    "print(x)\n",
    "\n",
    "if x:\n",
    "    print(\"Yes, there is at least one match!\")\n",
    "else:\n",
    "    print(\"No match\")\n",
    "    "
   ]
  },
  {
   "cell_type": "markdown",
   "id": "3a614594",
   "metadata": {},
   "source": [
    "`5.  \\D\tReturns a match where the string DOES NOT contain digits\t\"\\D\"`"
   ]
  },
  {
   "cell_type": "code",
   "execution_count": 49,
   "id": "3abb8e3d",
   "metadata": {},
   "outputs": [
    {
     "name": "stdout",
     "output_type": "stream",
     "text": [
      "['H', 'e', 'l', 'l', 'o', ' ', 'P', 'l', 'a', 'n', 'e', 't']\n",
      "Yes, there is at least one match!\n"
     ]
    }
   ],
   "source": [
    "import re\n",
    "\n",
    "txt = \"Hello13231 Planet\"\n",
    "# return a macth at every no-didgit character\n",
    "\n",
    "x = re.findall(\"\\D\", txt)\n",
    "print(x)\n",
    "\n",
    "if x:\n",
    "    print(\"Yes, there is at least one match!\")\n",
    "    \n",
    "else:\n",
    "    print(\"No Match\")\n",
    "    "
   ]
  },
  {
   "cell_type": "code",
   "execution_count": 50,
   "id": "2a724622",
   "metadata": {},
   "outputs": [
    {
     "name": "stdout",
     "output_type": "stream",
     "text": [
      "['H', 'e', 'l', 'l', 'o', '_', 'P', 'l', 'a', 'n', 'e', 't']\n",
      "Yes, there is at least one match!\n"
     ]
    }
   ],
   "source": [
    "import re\n",
    "\n",
    "txt = \"Hello_Planet122345670987\"\n",
    "# return a macth at every no-didgit character\n",
    "\n",
    "x = re.findall(\"\\D\", txt)\n",
    "print(x)\n",
    "\n",
    "if x:\n",
    "    print(\"Yes, there is at least one match!\")\n",
    "    \n",
    "else:\n",
    "    print(\"No Match\")"
   ]
  },
  {
   "cell_type": "markdown",
   "id": "71fe8c5a",
   "metadata": {},
   "source": [
    "`6.  \\s\tReturns a match where the string contains a white space character\t\"\\s\"`"
   ]
  },
  {
   "cell_type": "code",
   "execution_count": 51,
   "id": "f10f9dbb",
   "metadata": {},
   "outputs": [
    {
     "name": "stdout",
     "output_type": "stream",
     "text": [
      "[' ', ' ', ' ']\n",
      "Yes, there is at least one match!\n"
     ]
    }
   ],
   "source": [
    "import re\n",
    "\n",
    "txt = \"The rain in Spain\"\n",
    "\n",
    "#Return a match at every white-space\n",
    "#character \n",
    "\n",
    "x = re.findall(\"\\s\", txt)\n",
    "\n",
    "print(x)\n",
    "if x:\n",
    "    print(\"Yes, there is at least one match!\")\n",
    "else:\n",
    "    print(\"No Match\")"
   ]
  },
  {
   "cell_type": "code",
   "execution_count": 36,
   "id": "290c18e6",
   "metadata": {},
   "outputs": [
    {
     "name": "stdout",
     "output_type": "stream",
     "text": [
      "[]\n",
      "No Match\n"
     ]
    }
   ],
   "source": [
    "import re\n",
    "\n",
    "txt = \"The_rain_in_Spain\"\n",
    "\n",
    "#Return a match at every white-space character \n",
    "\n",
    "x = re.findall(\"\\s\", txt)\n",
    "\n",
    "print(x)\n",
    "if x:\n",
    "    print(\"Yes, there is at least one match!\")\n",
    "else:\n",
    "    print(\"No Match\")"
   ]
  },
  {
   "cell_type": "markdown",
   "id": "07f4a026",
   "metadata": {},
   "source": [
    "`7.  \\S\tReturns a match where the string DOES NOT contain a white space character\t\"\\S\"`"
   ]
  },
  {
   "cell_type": "code",
   "execution_count": 52,
   "id": "354e5a0e",
   "metadata": {},
   "outputs": [
    {
     "name": "stdout",
     "output_type": "stream",
     "text": [
      "['h', 'e', 'l', 'l', 'o', '_', 'p', 'l', 'a', 'n', 'e', 't', '7', '6', '5', '8', '7', '0', '9']\n",
      "Yes, there is at least one match!\n"
     ]
    }
   ],
   "source": [
    "import re\n",
    "#Return a match at every NON white-space\n",
    "#character:\n",
    "txt = \"hello_planet 76587 09\"\n",
    "x = re.findall(\"\\S\", txt)\n",
    "print(x)\n",
    "if x:\n",
    "    print(\"Yes, there is at least one match!\")\n",
    "else:\n",
    "    print(\"No Match\")"
   ]
  },
  {
   "cell_type": "code",
   "execution_count": 38,
   "id": "ae032bad",
   "metadata": {},
   "outputs": [
    {
     "name": "stdout",
     "output_type": "stream",
     "text": [
      "['h', 'e', 'l', 'l', 'o', 'p', 'l', 'a', 'n', 'e', 't']\n",
      "Yes, there is at least one match!\n"
     ]
    }
   ],
   "source": [
    "import re\n",
    "#Return a match at every NON white-space\n",
    "#character:\n",
    "txt = \"hello planet\"\n",
    "x = re.findall(\"\\S\", txt)\n",
    "print(x)\n",
    "if x:\n",
    "    print(\"Yes, there is at least one match!\")\n",
    "else:\n",
    "    print(\"No Match\")"
   ]
  },
  {
   "cell_type": "markdown",
   "id": "9d02b577",
   "metadata": {},
   "source": [
    "means it searchs for non white space only "
   ]
  },
  {
   "cell_type": "markdown",
   "id": "f4a79734",
   "metadata": {},
   "source": [
    "`8.    \\w\tReturns a match where the string contains any word characters (characters from a to Z, digits from 0-9, and the underscore _ character)\t\"\\w\"`"
   ]
  },
  {
   "cell_type": "code",
   "execution_count": 53,
   "id": "b0202994",
   "metadata": {},
   "outputs": [
    {
     "name": "stdout",
     "output_type": "stream",
     "text": [
      "['T', 'h', 'e', 'r', 'a', 'i', 'n', '_', 'i', 'n', 'S', 'p', 'a', 'i', 'n', '1', '2', '3']\n",
      "yes, there is at least one match!\n"
     ]
    }
   ],
   "source": [
    "import re\n",
    "\n",
    "txt = \"The rain_in Spain123\"\n",
    "# Return a match at every word character\n",
    "# (characters from a to Z, digits from 0-9,\n",
    "# and the underscore _ character):\n",
    "\n",
    "x = re.findall(\"\\w\", txt)\n",
    "print(x)\n",
    "\n",
    "if x:\n",
    "    print(\"yes, there is at least one match!\")\n",
    "else:\n",
    "    print(\"No match\")"
   ]
  },
  {
   "cell_type": "code",
   "execution_count": 2,
   "id": "41accbb9",
   "metadata": {},
   "outputs": [
    {
     "name": "stdout",
     "output_type": "stream",
     "text": [
      "['h', 'e', 'l', 'l', 'o', 'W', 'o', 'r', 'l', 'd']\n",
      "yes, there is at least one match!\n"
     ]
    }
   ],
   "source": [
    "import re\n",
    "\n",
    "txt = \"hello@World\"\n",
    "# Return a match at every word character\n",
    "# (characters from a to Z, digits from 0-9,\n",
    "# and the underscore _ character):\n",
    "\n",
    "x = re.findall(\"\\w\", txt)\n",
    "print(x)\n",
    "\n",
    "if x:\n",
    "    print(\"yes, there is at least one match!\")\n",
    "else:\n",
    "    print(\"No match\")"
   ]
  },
  {
   "cell_type": "markdown",
   "id": "62425acc",
   "metadata": {},
   "source": [
    "`9.   \\W\tReturns a match where the string DOES NOT contain any word characters\t\"\\W\"`"
   ]
  },
  {
   "cell_type": "code",
   "execution_count": 54,
   "id": "b24ed71b",
   "metadata": {},
   "outputs": [
    {
     "name": "stdout",
     "output_type": "stream",
     "text": [
      "[' ', ' ', ' ', ' ', '$']\n",
      "Yes, there is at least one match!\n"
     ]
    }
   ],
   "source": [
    "import re\n",
    "\n",
    "txt = \"The rain in Spain hello$world\"\n",
    "\n",
    "#Return a match at every NON word character \n",
    "#(characters NOT between a and Z. Like\n",
    "# \"!\", \"?\" white-space etc.):\n",
    "\n",
    "x = re.findall(\"\\W\", txt)\n",
    "print(x)\n",
    "if x:\n",
    "    print(\"Yes, there is at least one match!\")\n",
    "else:\n",
    "    print(\"No match\")"
   ]
  },
  {
   "cell_type": "code",
   "execution_count": 15,
   "id": "518bf6f5",
   "metadata": {},
   "outputs": [
    {
     "name": "stdout",
     "output_type": "stream",
     "text": [
      "['@']\n",
      "Yes, there is at least one match!\n"
     ]
    }
   ],
   "source": [
    "import re\n",
    "\n",
    "txt = \"hello@_world\"\n",
    "\n",
    "#Return a match at every NON word character \n",
    "#(characters NOT between a and Z. Like\n",
    "# \"!\", \"?\" white-space etc.):\n",
    "\n",
    "x = re.findall(\"\\W\", txt)\n",
    "print(x)\n",
    "if x:\n",
    "    print(\"Yes, there is at least one match!\")\n",
    "else:\n",
    "    print(\"No match\")"
   ]
  },
  {
   "cell_type": "markdown",
   "id": "131edd04",
   "metadata": {},
   "source": [
    "` 10.  \\Z\tReturns a match if the specified characters are at the end of the string\t\"Spain\\Z\" `"
   ]
  },
  {
   "cell_type": "code",
   "execution_count": 6,
   "id": "e14393fb",
   "metadata": {},
   "outputs": [
    {
     "name": "stdout",
     "output_type": "stream",
     "text": [
      "['Spain']\n",
      "Yes, there is a match!\n"
     ]
    }
   ],
   "source": [
    "import re\n",
    "\n",
    "txt = \"the rain in Spain\"\n",
    "\n",
    "# check if the string ends with \"Spain\"\n",
    "\n",
    "x = re.findall(\"Spain\\Z\", txt)\n",
    "\n",
    "print(x)\n",
    "\n",
    "if x:\n",
    "    print(\"Yes, there is a match!\")\n",
    "    \n",
    "else:\n",
    "    print(\"NO match\")"
   ]
  },
  {
   "cell_type": "markdown",
   "id": "cd8aa256",
   "metadata": {},
   "source": [
    "#### Sets\n",
    "A set is a set of characters inside a pair of square brackets` [] `with a special meaning:"
   ]
  },
  {
   "cell_type": "markdown",
   "id": "76359c65",
   "metadata": {},
   "source": [
    "`1.  [arn]\tReturns a match where one of the specified characters (a, r, or n) are present`"
   ]
  },
  {
   "cell_type": "code",
   "execution_count": 7,
   "id": "9d846509",
   "metadata": {},
   "outputs": [
    {
     "name": "stdout",
     "output_type": "stream",
     "text": [
      "['r', 'a', 'n', 'n', 'a', 'n']\n",
      "Yes, there is at least one match!\n"
     ]
    }
   ],
   "source": [
    "import re\n",
    "\n",
    "txt = \"The rain on Spain\"\n",
    "#Check if the string has any a, r, or n \n",
    "# characters:\n",
    "\n",
    "x = re.findall(\"[arn]\", txt)\n",
    "\n",
    "print(x)\n",
    "\n",
    "if x:\n",
    "    print(\"Yes, there is at least one match!\")\n",
    "else:\n",
    "    print(\"No match\")\n",
    "    "
   ]
  },
  {
   "cell_type": "markdown",
   "id": "42cc80f2",
   "metadata": {},
   "source": [
    "`2. [a-n]\tReturns a match for any lower case character, alphabetically between a and n`\n"
   ]
  },
  {
   "cell_type": "code",
   "execution_count": 10,
   "id": "e50274a5",
   "metadata": {},
   "outputs": [
    {
     "name": "stdout",
     "output_type": "stream",
     "text": [
      "['h', 'e', 'a', 'i', 'n', 'i', 'n', 'a', 'i', 'n']\n",
      "Yes, there is at least one match!\n"
     ]
    }
   ],
   "source": [
    "import re \n",
    "txt = \"The rain in Spain\"\n",
    "\n",
    "#Check if the string has any characters \n",
    "# between a and n:\n",
    "\n",
    "x = re.findall(\"[a-n]\", txt)\n",
    "\n",
    "\n",
    "print(x)\n",
    "\n",
    "if x:\n",
    "    print(\"Yes, there is at least one match!\")\n",
    "else:\n",
    "    print(\"No Match\")"
   ]
  },
  {
   "cell_type": "code",
   "execution_count": 10,
   "id": "9ed58a09",
   "metadata": {},
   "outputs": [
    {
     "name": "stdout",
     "output_type": "stream",
     "text": [
      "['a', 'a']\n",
      "Yes, there is at least one match!\n"
     ]
    }
   ],
   "source": [
    "import re \n",
    "txt = \"The rain in Spain\"\n",
    "\n",
    "#Check if the string has any characters \n",
    "# between a and n:\n",
    "\n",
    "x = re.findall(\"[a-c]\", txt)\n",
    "\n",
    "\n",
    "print(x)\n",
    "if x:\n",
    "    print(\"Yes, there is at least one match!\")\n",
    "else:\n",
    "    print(\"No Match\")"
   ]
  },
  {
   "cell_type": "markdown",
   "id": "5da8fa8f",
   "metadata": {},
   "source": [
    "`3.  [^arn]\tReturns a match for any character EXCEPT a, r, and n`"
   ]
  },
  {
   "cell_type": "code",
   "execution_count": 16,
   "id": "56bd2452",
   "metadata": {},
   "outputs": [
    {
     "name": "stdout",
     "output_type": "stream",
     "text": [
      "['T', 'h', 'e', ' ', 'i', ' ', 'i', '@', ' ', '_', ' ', 'S', 'p', 'i']\n",
      "Yes, there is at least one match!\n"
     ]
    }
   ],
   "source": [
    "import re\n",
    "\n",
    "txt = \"The rain in@ _ Spain\"\n",
    "\n",
    "#Check if the string has other characters \n",
    "# than a, r, or n:\n",
    "\n",
    "x = re.findall(\"[^arn]\", txt)\n",
    "\n",
    "print(x)\n",
    "\n",
    "if x:\n",
    "    print(\"Yes, there is at least one match!\")\n",
    "else:\n",
    "    print(\"No match\")\n"
   ]
  },
  {
   "cell_type": "markdown",
   "id": "65f65321",
   "metadata": {},
   "source": [
    "`4.   [0123]\tReturns a match where any of the specified digits (0, 1, 2, or 3) are present`"
   ]
  },
  {
   "cell_type": "code",
   "execution_count": 13,
   "id": "38c7d214",
   "metadata": {},
   "outputs": [
    {
     "name": "stdout",
     "output_type": "stream",
     "text": [
      "[]\n",
      "No match\n"
     ]
    }
   ],
   "source": [
    "import re\n",
    "\n",
    "txt = \"The rain in Spain\"\n",
    "\n",
    "#Check if the string has any 0, 1, 2, \n",
    "# or 3 digits:\n",
    "\n",
    "x = re.findall(\"[0123]\", txt)\n",
    "\n",
    "print(x)\n",
    "\n",
    "if x:\n",
    "    print(\"Yes, there is at least one match!\")\n",
    "else:\n",
    "    print(\"No match\")\n"
   ]
  },
  {
   "cell_type": "markdown",
   "id": "516f993a",
   "metadata": {},
   "source": [
    "`5.  [0-9]\tReturns a match for any digit between 0 and 9`"
   ]
  },
  {
   "cell_type": "code",
   "execution_count": 55,
   "id": "ae041753",
   "metadata": {},
   "outputs": [
    {
     "name": "stdout",
     "output_type": "stream",
     "text": [
      "['7', '9']\n",
      "Yes, there is at least one match!\n"
     ]
    }
   ],
   "source": [
    "import re\n",
    "\n",
    "txt = \"The rain i79n Spain\"\n",
    "\n",
    "# Check if the string has any digits:\n",
    "\n",
    "x = re.findall(\"[0-9]\", txt)\n",
    "\n",
    "print(x)\n",
    "\n",
    "if x:\n",
    "    print(\"Yes, there is at least one match!\")\n",
    "else:\n",
    "    print(\"NO match\")"
   ]
  },
  {
   "cell_type": "code",
   "execution_count": 2,
   "id": "9db45e31",
   "metadata": {},
   "outputs": [
    {
     "name": "stdout",
     "output_type": "stream",
     "text": [
      "['1', '1', '2', '3']\n",
      "Yes, there is at least one match!\n"
     ]
    }
   ],
   "source": [
    "import re\n",
    "\n",
    "txt = \"The rain 1123! in Spain\"\n",
    "\n",
    "# Check if the string has any digits:\n",
    "\n",
    "x = re.findall(\"[0-9]\", txt)\n",
    "\n",
    "print(x)\n",
    "\n",
    "if x:\n",
    "    print(\"Yes, there is at least one match!\")\n",
    "else:\n",
    "    print(\"NO match\")"
   ]
  },
  {
   "cell_type": "markdown",
   "id": "5b1a39e6",
   "metadata": {},
   "source": [
    "`6.  [0-5][0-9]\tReturns a match for any two-digit numbers from 00 and 59`"
   ]
  },
  {
   "cell_type": "code",
   "execution_count": 17,
   "id": "b4f7576b",
   "metadata": {},
   "outputs": [
    {
     "name": "stdout",
     "output_type": "stream",
     "text": [
      "['11', '45']\n",
      "Yes, there is at least one match!\n"
     ]
    }
   ],
   "source": [
    "import re \n",
    "\n",
    "txt = \"8 times before 11:45 AM\"\n",
    "#Check if the string has any two-digit\n",
    "#numbers, from 00 to 59:\n",
    "\n",
    "x = re.findall(\"[0-5][0-9]\", txt)\n",
    "\n",
    "print(x)\n",
    "\n",
    "if x:\n",
    "    print(\"Yes, there is at least one match!\")\n",
    "else:\n",
    "    print(\"No match\")"
   ]
  },
  {
   "cell_type": "code",
   "execution_count": 18,
   "id": "8bbe80d7",
   "metadata": {},
   "outputs": [
    {
     "name": "stdout",
     "output_type": "stream",
     "text": [
      "['45', '44', '11', '45']\n",
      "Yes, there is at least one match!\n"
     ]
    }
   ],
   "source": [
    "import re \n",
    "\n",
    "txt = \"8 times 89 45 44 before 11:45 AM\"\n",
    "#Check if the string has any two-digit\n",
    "#numbers, from 00 to 59:\n",
    "\n",
    "x = re.findall(\"[0-5][0-9]\", txt)\n",
    "\n",
    "print(x)\n",
    "\n",
    "if x:\n",
    "    print(\"Yes, there is at least one match!\")\n",
    "else:\n",
    "    print(\"No match\")"
   ]
  },
  {
   "cell_type": "markdown",
   "id": "b8f5d9eb",
   "metadata": {},
   "source": [
    "As we can see that 89 has been ignored by regex engine because first digit limit is` [0-5]` and it start with 8 means out of limit search "
   ]
  },
  {
   "cell_type": "code",
   "execution_count": 18,
   "id": "cea05267",
   "metadata": {},
   "outputs": [
    {
     "name": "stdout",
     "output_type": "stream",
     "text": [
      "['45', '44', '11', '45']\n",
      "Yes, there is at least one match!\n"
     ]
    }
   ],
   "source": [
    "import re \n",
    "\n",
    "txt = \"8 times 89:45 44 before 11:45 AM\"\n",
    "#Check if the string has any two-digit\n",
    "#numbers, from 00 to 59:\n",
    "\n",
    "x = re.findall(\"[0-5][0-9]\", txt)\n",
    "\n",
    "print(x)\n",
    "\n",
    "if x:\n",
    "    print(\"Yes, there is at least one match!\")\n",
    "else:\n",
    "    print(\"No match\")"
   ]
  },
  {
   "cell_type": "markdown",
   "id": "325475f4",
   "metadata": {},
   "source": [
    "`7.   [a-zA-Z]\tReturns a match for any character alphabetically between a and z, lower case OR upper case`"
   ]
  },
  {
   "cell_type": "code",
   "execution_count": 5,
   "id": "5ee29061",
   "metadata": {},
   "outputs": [
    {
     "name": "stdout",
     "output_type": "stream",
     "text": [
      "['t', 'i', 'm', 'e', 's', 'b', 'e', 'f', 'o', 'r', 'e', 'A', 'M']\n",
      "Yes, there is at least one match!\n"
     ]
    }
   ],
   "source": [
    "import re\n",
    "\n",
    "txt = \"8 times before 11:45 AM\"\n",
    "\n",
    "#Check if the string has any characters from\n",
    "#a to z lower case, and A to Z upper case:\n",
    "\n",
    "x = re.findall(\"[a-zA-Z]\", txt)\n",
    "\n",
    "print(x)\n",
    "\n",
    "if x:\n",
    "    print(\"Yes, there is at least one match!\")\n",
    "else:\n",
    "    print(\"No match\")\n",
    "\n"
   ]
  },
  {
   "cell_type": "markdown",
   "id": "1a5eedb8",
   "metadata": {},
   "source": [
    "`[+]\tIn sets, +, *, ., |, (), $,{} has no special meaning, so [+] means: return a match for any + character in the string`"
   ]
  },
  {
   "cell_type": "code",
   "execution_count": 56,
   "id": "d881a769",
   "metadata": {},
   "outputs": [
    {
     "name": "stdout",
     "output_type": "stream",
     "text": [
      "[]\n",
      "No match\n"
     ]
    }
   ],
   "source": [
    "import re\n",
    "\n",
    "txt = \"8 times before 11:45 AM\"\n",
    "\n",
    "#Check if the string has any + characters:\n",
    "\n",
    "x = re.findall(\"[+]\", txt)\n",
    "\n",
    "print(x)\n",
    "\n",
    "if x:\n",
    "    print(\"Yes, there is at least one match!\")\n",
    "else:\n",
    "    print(\"No match\")\n"
   ]
  },
  {
   "cell_type": "code",
   "execution_count": 20,
   "id": "29ba90b0",
   "metadata": {},
   "outputs": [
    {
     "name": "stdout",
     "output_type": "stream",
     "text": [
      "['e', 'e', 'o', 'e']\n",
      "Yes, there is at least one match!\n"
     ]
    }
   ],
   "source": [
    "import re\n",
    "\n",
    "txt = \"8 times before 11:45 AM\"\n",
    "\n",
    "#Check if the string has any + characters:\n",
    "\n",
    "x = re.findall(\"[eo+]\", txt)\n",
    "\n",
    "print(x)\n",
    "\n",
    "if x:\n",
    "    print(\"Yes, there is at least one match!\")\n",
    "else:\n",
    "    print(\"No match\")\n"
   ]
  },
  {
   "cell_type": "markdown",
   "id": "577b547e",
   "metadata": {},
   "source": [
    "### The findall() Function\n",
    "The `findall()` function returns a list containing all matches."
   ]
  },
  {
   "cell_type": "code",
   "execution_count": 21,
   "id": "4d242e4b",
   "metadata": {},
   "outputs": [
    {
     "name": "stdout",
     "output_type": "stream",
     "text": [
      "['ai', 'ai']\n"
     ]
    }
   ],
   "source": [
    "import re \n",
    "\n",
    "txt = \"The rain in Spain\"\n",
    "x = re.findall(\"ai\", txt)\n",
    "\n",
    "print(x)"
   ]
  },
  {
   "cell_type": "markdown",
   "id": "e13d8ee7",
   "metadata": {},
   "source": [
    "The list contains the matches in the order they are found.\n",
    "\n",
    "If no matches are found, an empty list is returned:"
   ]
  },
  {
   "cell_type": "code",
   "execution_count": 22,
   "id": "16d7e2ad",
   "metadata": {},
   "outputs": [
    {
     "name": "stdout",
     "output_type": "stream",
     "text": [
      "[]\n"
     ]
    }
   ],
   "source": [
    "import re\n",
    "\n",
    "txt = \"The rain in Spain\"\n",
    "\n",
    "x = re.findall(\"Portugal\" , txt)\n",
    "\n",
    "print(x)"
   ]
  },
  {
   "cell_type": "markdown",
   "id": "59113c8a",
   "metadata": {},
   "source": [
    "#### The search() Function\n",
    "The `search()` function searches the entire string for a match, and `returns a Match object` if there is a match.\n",
    "\n",
    "`If there is more than one match, only the first occurrence of the match will be returned:`"
   ]
  },
  {
   "cell_type": "code",
   "execution_count": 6,
   "id": "10ef75ef",
   "metadata": {},
   "outputs": [
    {
     "name": "stdout",
     "output_type": "stream",
     "text": [
      "The first white-space character is located in position:  3\n"
     ]
    }
   ],
   "source": [
    "import re\n",
    "\n",
    "txt = \"The rain in Spain\"\n",
    "\n",
    "x = re.search(\"\\s\", txt)\n",
    "\n",
    "print(\"The first white-space character is located in position: \", x.start())"
   ]
  },
  {
   "cell_type": "code",
   "execution_count": 7,
   "id": "5121cae7",
   "metadata": {},
   "outputs": [
    {
     "data": {
      "text/plain": [
       "(3, 4)"
      ]
     },
     "execution_count": 7,
     "metadata": {},
     "output_type": "execute_result"
    }
   ],
   "source": [
    "x.span()"
   ]
  },
  {
   "cell_type": "code",
   "execution_count": 8,
   "id": "005c03de",
   "metadata": {},
   "outputs": [
    {
     "data": {
      "text/plain": [
       "' '"
      ]
     },
     "execution_count": 8,
     "metadata": {},
     "output_type": "execute_result"
    }
   ],
   "source": [
    "x.group()"
   ]
  },
  {
   "cell_type": "code",
   "execution_count": 9,
   "id": "b2590543",
   "metadata": {},
   "outputs": [
    {
     "data": {
      "text/plain": [
       "{}"
      ]
     },
     "execution_count": 9,
     "metadata": {},
     "output_type": "execute_result"
    }
   ],
   "source": [
    "x.groupdict()"
   ]
  },
  {
   "cell_type": "code",
   "execution_count": 24,
   "id": "30d1b352",
   "metadata": {},
   "outputs": [
    {
     "name": "stdout",
     "output_type": "stream",
     "text": [
      "<re.Match object; span=(3, 4), match=' '>\n"
     ]
    }
   ],
   "source": [
    "import re\n",
    "\n",
    "txt = \"Tha rain in Spain\"\n",
    "\n",
    "x = re.search(\"\\s\", txt)\n",
    "\n",
    "print(x)"
   ]
  },
  {
   "cell_type": "markdown",
   "id": "e72a57d9",
   "metadata": {},
   "source": [
    "If no matches are found, the value `None` is returned:"
   ]
  },
  {
   "cell_type": "code",
   "execution_count": 28,
   "id": "af4f3f3b",
   "metadata": {},
   "outputs": [
    {
     "name": "stdout",
     "output_type": "stream",
     "text": [
      "None\n"
     ]
    }
   ],
   "source": [
    "import re\n",
    "\n",
    "txt = \"The rain in Spain\"\n",
    "x = re.search(\"Portugal\", txt)\n",
    "print(x)"
   ]
  },
  {
   "cell_type": "code",
   "execution_count": 10,
   "id": "fb8b803d",
   "metadata": {},
   "outputs": [
    {
     "name": "stdout",
     "output_type": "stream",
     "text": [
      "The first white-space character is located in position:  4\n"
     ]
    }
   ],
   "source": [
    "import re\n",
    "\n",
    "txt = \"The rain in Spain\"\n",
    "\n",
    "x = re.search(\"rain\", txt)\n",
    "\n",
    "print(\"The first white-space character is located in position: \", x.start())"
   ]
  },
  {
   "cell_type": "code",
   "execution_count": 11,
   "id": "6f7afbd5",
   "metadata": {},
   "outputs": [
    {
     "data": {
      "text/plain": [
       "(4, 8)"
      ]
     },
     "execution_count": 11,
     "metadata": {},
     "output_type": "execute_result"
    }
   ],
   "source": [
    "x.span()"
   ]
  },
  {
   "cell_type": "code",
   "execution_count": 12,
   "id": "2ffd9cca",
   "metadata": {},
   "outputs": [
    {
     "data": {
      "text/plain": [
       "8"
      ]
     },
     "execution_count": 12,
     "metadata": {},
     "output_type": "execute_result"
    }
   ],
   "source": [
    "x.end()"
   ]
  },
  {
   "cell_type": "code",
   "execution_count": 14,
   "id": "8ee22732",
   "metadata": {},
   "outputs": [
    {
     "data": {
      "text/plain": [
       "17"
      ]
     },
     "execution_count": 14,
     "metadata": {},
     "output_type": "execute_result"
    }
   ],
   "source": [
    "x.endpos"
   ]
  },
  {
   "cell_type": "code",
   "execution_count": 15,
   "id": "41889f1c",
   "metadata": {},
   "outputs": [
    {
     "data": {
      "text/plain": [
       "17"
      ]
     },
     "execution_count": 15,
     "metadata": {},
     "output_type": "execute_result"
    }
   ],
   "source": [
    "len(txt)"
   ]
  },
  {
   "cell_type": "code",
   "execution_count": 19,
   "id": "a55356cb",
   "metadata": {},
   "outputs": [
    {
     "data": {
      "text/plain": [
       "'ra'"
      ]
     },
     "execution_count": 19,
     "metadata": {},
     "output_type": "execute_result"
    }
   ],
   "source": [
    "x.expand(\"ra\")"
   ]
  },
  {
   "cell_type": "code",
   "execution_count": 20,
   "id": "df56ff95",
   "metadata": {},
   "outputs": [
    {
     "data": {
      "text/plain": [
       "<re.Match object; span=(4, 8), match='rain'>"
      ]
     },
     "execution_count": 20,
     "metadata": {},
     "output_type": "execute_result"
    }
   ],
   "source": [
    "x"
   ]
  },
  {
   "cell_type": "code",
   "execution_count": 23,
   "id": "0d667c03",
   "metadata": {},
   "outputs": [
    {
     "data": {
      "text/plain": [
       "{}"
      ]
     },
     "execution_count": 23,
     "metadata": {},
     "output_type": "execute_result"
    }
   ],
   "source": [
    "x.groupdict()"
   ]
  },
  {
   "cell_type": "code",
   "execution_count": 25,
   "id": "36d33f8a",
   "metadata": {},
   "outputs": [
    {
     "data": {
      "text/plain": [
       "()"
      ]
     },
     "execution_count": 25,
     "metadata": {},
     "output_type": "execute_result"
    }
   ],
   "source": [
    "x.groups()"
   ]
  },
  {
   "cell_type": "code",
   "execution_count": 27,
   "id": "f1bec0b9",
   "metadata": {},
   "outputs": [
    {
     "data": {
      "text/plain": [
       "'The rain in Spain'"
      ]
     },
     "execution_count": 27,
     "metadata": {},
     "output_type": "execute_result"
    }
   ],
   "source": [
    "x.string"
   ]
  },
  {
   "cell_type": "code",
   "execution_count": 28,
   "id": "139ec08a",
   "metadata": {},
   "outputs": [
    {
     "data": {
      "text/plain": [
       "0"
      ]
     },
     "execution_count": 28,
     "metadata": {},
     "output_type": "execute_result"
    }
   ],
   "source": [
    "x.pos"
   ]
  },
  {
   "cell_type": "code",
   "execution_count": 29,
   "id": "dd0cf333",
   "metadata": {},
   "outputs": [
    {
     "data": {
      "text/plain": [
       "4"
      ]
     },
     "execution_count": 29,
     "metadata": {},
     "output_type": "execute_result"
    }
   ],
   "source": [
    "x.start()"
   ]
  },
  {
   "cell_type": "code",
   "execution_count": null,
   "id": "66625953",
   "metadata": {},
   "outputs": [],
   "source": []
  },
  {
   "cell_type": "markdown",
   "id": "533a349b",
   "metadata": {},
   "source": [
    "### The split() Function\n",
    "The `split()` function returns a list where the string has been split at each match:"
   ]
  },
  {
   "cell_type": "code",
   "execution_count": 29,
   "id": "8e62ec72",
   "metadata": {},
   "outputs": [
    {
     "name": "stdout",
     "output_type": "stream",
     "text": [
      "['The', 'rain', 'in', 'Spain']\n"
     ]
    }
   ],
   "source": [
    "import re\n",
    "\n",
    "txt = \"The rain in Spain\"\n",
    "\n",
    "x = re.split(\"\\s\", txt)\n",
    "print(x)"
   ]
  },
  {
   "cell_type": "markdown",
   "id": "06bdc584",
   "metadata": {},
   "source": [
    "**note:**\n",
    "You can control the number of occurrences by specifying the `maxsplit` parameter:"
   ]
  },
  {
   "cell_type": "code",
   "execution_count": 30,
   "id": "dd4ede27",
   "metadata": {},
   "outputs": [
    {
     "name": "stdout",
     "output_type": "stream",
     "text": [
      "['The', 'rain in Spain']\n"
     ]
    }
   ],
   "source": [
    "import re\n",
    "\n",
    "txt = \"The rain in Spain\"\n",
    "\n",
    "x = re.split(\"\\s\", txt, 1)\n",
    "print(x)"
   ]
  },
  {
   "cell_type": "code",
   "execution_count": 33,
   "id": "8334cd33",
   "metadata": {},
   "outputs": [
    {
     "name": "stdout",
     "output_type": "stream",
     "text": [
      "['Hello World ', ' ', ' and ', '', '', '']\n"
     ]
    }
   ],
   "source": [
    "import re\n",
    "\n",
    "txt = \"Hello World 1 2 and 121\"\n",
    "\n",
    "x = re.split(\"\\d\", txt)\n",
    "print(x)"
   ]
  },
  {
   "cell_type": "code",
   "execution_count": 34,
   "id": "6b05d11b",
   "metadata": {},
   "outputs": [
    {
     "name": "stdout",
     "output_type": "stream",
     "text": [
      "['', 'ello ', 'orld']\n"
     ]
    }
   ],
   "source": [
    "import re\n",
    "\n",
    "txt = \"Hello World\"\n",
    "\n",
    "x = re.split(\"[A-Z]\", txt)\n",
    "print(x)"
   ]
  },
  {
   "cell_type": "code",
   "execution_count": null,
   "id": "d782c1b9",
   "metadata": {},
   "outputs": [],
   "source": []
  },
  {
   "cell_type": "code",
   "execution_count": 35,
   "id": "f30e15af",
   "metadata": {},
   "outputs": [
    {
     "name": "stdout",
     "output_type": "stream",
     "text": [
      "['Hello', 'World']\n"
     ]
    }
   ],
   "source": [
    "import re\n",
    "\n",
    "txt = \"Hello World\"\n",
    "\n",
    "x = re.split(\"\\s\", txt)\n",
    "print(x)"
   ]
  },
  {
   "cell_type": "markdown",
   "id": "dbc3629b",
   "metadata": {},
   "source": [
    "#### The sub() Function\n",
    "The `sub()` function replaces the matches with the text of your choice:\n",
    "\n",
    "#### Example\n",
    "Replace every white-space character with the number 9:"
   ]
  },
  {
   "cell_type": "code",
   "execution_count": 37,
   "id": "929764d5",
   "metadata": {},
   "outputs": [
    {
     "name": "stdout",
     "output_type": "stream",
     "text": [
      "The9rain9in9Spain\n"
     ]
    }
   ],
   "source": [
    "import re\n",
    "\n",
    "txt = \"The rain in Spain\"\n",
    "\n",
    "x = re.sub(\"\\s\", \"9\", txt)\n",
    "\n",
    "print(x)"
   ]
  },
  {
   "cell_type": "code",
   "execution_count": 38,
   "id": "e07368e2",
   "metadata": {},
   "outputs": [
    {
     "name": "stdout",
     "output_type": "stream",
     "text": [
      "Hello world !!!\n"
     ]
    }
   ],
   "source": [
    "import re\n",
    "\n",
    "txt = \"Hello world 123\"\n",
    "\n",
    "x = re.sub(\"\\d\", \"!\", txt)\n",
    "print(x)"
   ]
  },
  {
   "cell_type": "code",
   "execution_count": 39,
   "id": "d691a9d6",
   "metadata": {},
   "outputs": [
    {
     "name": "stdout",
     "output_type": "stream",
     "text": [
      "The9rain9in Spain\n"
     ]
    }
   ],
   "source": [
    "import re \n",
    "\n",
    "txt = \"The rain in Spain\"\n",
    "x = re.sub(\"\\s\", \"9\", txt, 2)\n",
    "\n",
    "print(x)"
   ]
  },
  {
   "cell_type": "code",
   "execution_count": 41,
   "id": "b37e90e8",
   "metadata": {},
   "outputs": [
    {
     "name": "stdout",
     "output_type": "stream",
     "text": [
      "Hello world !!3\n"
     ]
    }
   ],
   "source": [
    "import re \n",
    "\n",
    "txt = \"Hello world 123\"\n",
    "x = re.sub(\"\\d\", \"!\", txt, 2)\n",
    "print(x)"
   ]
  },
  {
   "cell_type": "code",
   "execution_count": 11,
   "id": "bb4e8449",
   "metadata": {},
   "outputs": [
    {
     "data": {
      "text/plain": [
       "'the brd and the rd'"
      ]
     },
     "execution_count": 11,
     "metadata": {},
     "output_type": "execute_result"
    }
   ],
   "source": [
    "import re\n",
    "\n",
    "txt  = \"the broad and the road\"\n",
    "re.sub(\"road\", \"rd\", txt)"
   ]
  },
  {
   "cell_type": "code",
   "execution_count": null,
   "id": "7adcff1a",
   "metadata": {},
   "outputs": [],
   "source": []
  },
  {
   "cell_type": "code",
   "execution_count": null,
   "id": "afa89acc",
   "metadata": {},
   "outputs": [],
   "source": []
  },
  {
   "cell_type": "markdown",
   "id": "15e38723",
   "metadata": {},
   "source": [
    "### Match Object\n",
    "\n",
    "A Match Object is an object containing information about the search and the result.\n",
    "\n",
    "**Note:**\n",
    "\n",
    "If there is no match, the value `None` will be returned, instead of the Match Object."
   ]
  },
  {
   "cell_type": "code",
   "execution_count": 42,
   "id": "760eda58",
   "metadata": {},
   "outputs": [
    {
     "name": "stdout",
     "output_type": "stream",
     "text": [
      "<re.Match object; span=(5, 7), match='ai'>\n"
     ]
    }
   ],
   "source": [
    "import re\n",
    "\n",
    "txt = \"The rain in Spain\"\n",
    "\n",
    "x = re.search(\"ai\", txt)\n",
    "print(x) # this will print an object"
   ]
  },
  {
   "cell_type": "markdown",
   "id": "2c514312",
   "metadata": {},
   "source": [
    "The Match object has properties and methods used to retrieve information about the search, and the result:\n",
    "\n",
    "1.  `.span()` returns a tuple containing the start-, and end positions of the match.\n",
    "\n",
    "2.  `.string` returns the string passed into the function\n",
    "\n",
    "3.  `.group()` returns the part of the string where there was a match\n",
    "\n",
    "#### Example\n",
    "Print the position (start- and end-position) of the first match occurrence.\n",
    "\n",
    "The regular expression looks for any words that starts with an upper case \"S\":"
   ]
  },
  {
   "cell_type": "code",
   "execution_count": 43,
   "id": "9379a9fe",
   "metadata": {},
   "outputs": [
    {
     "name": "stdout",
     "output_type": "stream",
     "text": [
      "(12, 17)\n"
     ]
    }
   ],
   "source": [
    "import re\n",
    "\n",
    "txt = \"The rain in Spain\"\n",
    "x = re.search(r\"\\bS\\w+\", txt)\n",
    "\n",
    "print(x.span())"
   ]
  },
  {
   "cell_type": "code",
   "execution_count": 44,
   "id": "508007da",
   "metadata": {},
   "outputs": [
    {
     "name": "stdout",
     "output_type": "stream",
     "text": [
      "The rain in Spain\n"
     ]
    }
   ],
   "source": [
    "import re\n",
    "\n",
    "txt = \"The rain in Spain\"\n",
    "x = re.search(r\"\\bS\\w+\", txt)\n",
    "print(x.string)\n"
   ]
  },
  {
   "cell_type": "code",
   "execution_count": 45,
   "id": "8d958a90",
   "metadata": {},
   "outputs": [
    {
     "name": "stdout",
     "output_type": "stream",
     "text": [
      "Spain\n"
     ]
    }
   ],
   "source": [
    "import re\n",
    "\n",
    "txt = \"The rain in Spain\"\n",
    "x = re.search(r\"\\bS\\w+\", txt)\n",
    "print(x.group())"
   ]
  },
  {
   "cell_type": "markdown",
   "id": "e9a738f6",
   "metadata": {},
   "source": [
    "`Note:`\n",
    "\n",
    "If there is no match, the value `None `will be returned, instead of the Match Object."
   ]
  },
  {
   "cell_type": "code",
   "execution_count": 47,
   "id": "1e5e56f9",
   "metadata": {},
   "outputs": [
    {
     "name": "stdout",
     "output_type": "stream",
     "text": [
      "Sa\n"
     ]
    }
   ],
   "source": [
    "import re\n",
    "\n",
    "txt = \"The rain in Sa\"\n",
    "x = re.search(r\"\\bS\\w+\", txt)\n",
    "print(x.group())"
   ]
  },
  {
   "cell_type": "code",
   "execution_count": 52,
   "id": "8d2b93c6",
   "metadata": {},
   "outputs": [
    {
     "name": "stdout",
     "output_type": "stream",
     "text": [
      "(12, 15)\n"
     ]
    }
   ],
   "source": [
    "import re\n",
    "\n",
    "txt = \"The rain in Sqa\"\n",
    "x = re.search(r\"\\bS\\w+\", txt)\n",
    "print(x.span())"
   ]
  },
  {
   "cell_type": "code",
   "execution_count": 5,
   "id": "d5646171",
   "metadata": {},
   "outputs": [
    {
     "name": "stdout",
     "output_type": "stream",
     "text": [
      "Enter string to test: qw12\n",
      "no match\n"
     ]
    }
   ],
   "source": [
    "import re\n",
    "password = input(\"Enter string to test: \")\n",
    "if re.fullmatch(r'[A-Za-z0-9@#$%^&+=]{8,}', password):\n",
    "    print(\"match\") #match\n",
    "else:\n",
    "    print(\"no match\")# no match"
   ]
  },
  {
   "cell_type": "code",
   "execution_count": 10,
   "id": "07f33afa",
   "metadata": {},
   "outputs": [
    {
     "name": "stdout",
     "output_type": "stream",
     "text": [
      "Password is valid\n"
     ]
    }
   ],
   "source": [
    "# Password validation in Python\n",
    "# using naive method\n",
    "  \n",
    "# Function to validate the password\n",
    "def password_check(passwd):\n",
    "      \n",
    "    SpecialSym =['$', '@', '#', '%']\n",
    "    val = True\n",
    "      \n",
    "    if len(passwd) < 6:\n",
    "        print('length should be at least 6')\n",
    "        val = False\n",
    "          \n",
    "    if len(passwd) > 20:\n",
    "        print('length should be not be greater than 8')\n",
    "        val = False\n",
    "          \n",
    "    if not any(char.isdigit() for char in passwd):\n",
    "        print('Password should have at least one numeral')\n",
    "        val = False\n",
    "          \n",
    "    if not any(char.isupper() for char in passwd):\n",
    "        print('Password should have at least one uppercase letter')\n",
    "        val = False\n",
    "          \n",
    "    if not any(char.islower() for char in passwd):\n",
    "        print('Password should have at least one lowercase letter')\n",
    "        val = False\n",
    "          \n",
    "    if not any(char in SpecialSym for char in passwd):\n",
    "        print('Password should have at least one of the symbols $@#')\n",
    "        val = False\n",
    "    if val:\n",
    "        return val\n",
    "  \n",
    "# Main method\n",
    "def main():\n",
    "    passwd = 'Geek12@'\n",
    "      \n",
    "    if (password_check(passwd)):\n",
    "        print(\"Password is valid\")\n",
    "    else:\n",
    "        print(\"Invalid Password !!\")\n",
    "          \n",
    "# Driver Code        \n",
    "if __name__ == '__main__':\n",
    "    main()"
   ]
  },
  {
   "cell_type": "code",
   "execution_count": 11,
   "id": "9519112c",
   "metadata": {},
   "outputs": [
    {
     "name": "stdout",
     "output_type": "stream",
     "text": [
      "Password is valid.\n"
     ]
    }
   ],
   "source": [
    "# importing re library\n",
    "import re\n",
    "  \n",
    "def main():\n",
    "    passwd = 'Geek12@'\n",
    "    reg = \"^(?=.*[a-z])(?=.*[A-Z])(?=.*\\d)(?=.*[@$!%*#?&])[A-Za-z\\d@$!#%*?&]{6,20}$\"\n",
    "      \n",
    "    # compiling regex\n",
    "    pat = re.compile(reg)\n",
    "      \n",
    "    # searching regex                 \n",
    "    mat = re.search(pat, passwd)\n",
    "      \n",
    "    # validating conditions\n",
    "    if mat:\n",
    "        print(\"Password is valid.\")\n",
    "    else:\n",
    "        print(\"Password invalid !!\")\n",
    "  \n",
    "# Driver Code     \n",
    "if __name__ == '__main__':\n",
    "    main()"
   ]
  },
  {
   "cell_type": "code",
   "execution_count": null,
   "id": "d8df0503",
   "metadata": {},
   "outputs": [],
   "source": []
  }
 ],
 "metadata": {
  "kernelspec": {
   "display_name": "Python 3 (ipykernel)",
   "language": "python",
   "name": "python3"
  },
  "language_info": {
   "codemirror_mode": {
    "name": "ipython",
    "version": 3
   },
   "file_extension": ".py",
   "mimetype": "text/x-python",
   "name": "python",
   "nbconvert_exporter": "python",
   "pygments_lexer": "ipython3",
   "version": "3.9.7"
  }
 },
 "nbformat": 4,
 "nbformat_minor": 5
}

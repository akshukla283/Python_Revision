{
 "cells": [
  {
   "cell_type": "markdown",
   "id": "7f93a0ca",
   "metadata": {},
   "source": [
    "#### Python Loops\n",
    "Python has two primitive loop commands:\n",
    "\n",
    "* while loops\n",
    "\n",
    "* for loops\n",
    "\n",
    "#### The while Loop\n",
    "\n",
    "With the while loop we can execute a set of statements as long as a condition is True."
   ]
  },
  {
   "cell_type": "code",
   "execution_count": 1,
   "id": "a73dde2d",
   "metadata": {},
   "outputs": [
    {
     "name": "stdout",
     "output_type": "stream",
     "text": [
      "1\n",
      "2\n",
      "3\n",
      "4\n",
      "5\n"
     ]
    }
   ],
   "source": [
    "# Print i as long as i is less than 6:\n",
    "i = 1\n",
    "\n",
    "while i <6:\n",
    "    print(i)\n",
    "    i += 1\n",
    "    "
   ]
  },
  {
   "cell_type": "code",
   "execution_count": 2,
   "id": "f19b99ef",
   "metadata": {},
   "outputs": [
    {
     "ename": "SyntaxError",
     "evalue": "invalid syntax (610820192.py, line 5)",
     "output_type": "error",
     "traceback": [
      "\u001b[1;36m  Input \u001b[1;32mIn [2]\u001b[1;36m\u001b[0m\n\u001b[1;33m    i + = 1 # this will give an error because\u001b[0m\n\u001b[1;37m        ^\u001b[0m\n\u001b[1;31mSyntaxError\u001b[0m\u001b[1;31m:\u001b[0m invalid syntax\n"
     ]
    }
   ],
   "source": [
    "i = 1\n",
    "\n",
    "while i <6:\n",
    "    print(i)\n",
    "    i + = 1 # this will give an error because\n",
    "           # this is not a valid way of assigning\n",
    "           # variable\n",
    "        \n",
    "        "
   ]
  },
  {
   "cell_type": "markdown",
   "id": "eb6ba228",
   "metadata": {},
   "source": [
    "#### Note: remember to increment i, or else the loop will continue forever.\n",
    "\n",
    "#### The break Statement\n",
    "With the break statement we can stop the loop even if the while condition is true:"
   ]
  },
  {
   "cell_type": "code",
   "execution_count": 3,
   "id": "ac08ff21",
   "metadata": {},
   "outputs": [
    {
     "name": "stdout",
     "output_type": "stream",
     "text": [
      "1\n",
      "2\n",
      "3\n"
     ]
    }
   ],
   "source": [
    "# Exit the loop when i is 3:\n",
    "\n",
    "i = 1\n",
    "\n",
    "while i < 6:\n",
    "    print(i)\n",
    "    if i == 3:\n",
    "        break\n",
    "    i +=1"
   ]
  },
  {
   "cell_type": "code",
   "execution_count": 4,
   "id": "648305bb",
   "metadata": {},
   "outputs": [
    {
     "name": "stdout",
     "output_type": "stream",
     "text": [
      "1- for loop exhausted\n",
      "****************************************\n",
      "k\n"
     ]
    }
   ],
   "source": [
    "name = 'Ankit'\n",
    "for letter in name:\n",
    "    if letter == \"s\":\n",
    "        print(letter)\n",
    "        break\n",
    "else:\n",
    "    print(\"1- for loop exhausted\")\n",
    "    \n",
    "print(\"*\"*40)\n",
    "\n",
    "name = \"Ankit\"\n",
    "\n",
    "for letter in name:\n",
    "    if letter == 'k':\n",
    "        print(letter)\n",
    "        break\n",
    "else:\n",
    "    print(\"2 - for loop exhausted\")"
   ]
  },
  {
   "cell_type": "markdown",
   "id": "0771520e",
   "metadata": {},
   "source": [
    "As we can see that 1st 'else' statement executed because 'if' condition not satisfied as well as the loop is not terminated by 'break' statement, while in 2nd 'else' statement hasn't executed because the loop is terminated by the 'break' statmenet of the'if' condition.\n",
    "\n",
    "\n",
    "### Note-\n",
    "* if loop is terminated by the `'break'` statement then the controll will come out of the loop and even 'else' part also will not be executed."
   ]
  },
  {
   "cell_type": "markdown",
   "id": "bc8f6a25",
   "metadata": {},
   "source": [
    "### The continue Statement\n",
    "With the continue statement we can stop the current iteration, and continue with the next:\n",
    "\n"
   ]
  },
  {
   "cell_type": "code",
   "execution_count": 5,
   "id": "d0164171",
   "metadata": {},
   "outputs": [
    {
     "name": "stdout",
     "output_type": "stream",
     "text": [
      "1\n",
      "2\n",
      "4\n",
      "5\n",
      "6\n"
     ]
    }
   ],
   "source": [
    "i = 0\n",
    "while i<6:\n",
    "    i += 1\n",
    "    if i == 3:\n",
    "        continue\n",
    "    print(i)"
   ]
  },
  {
   "cell_type": "markdown",
   "id": "c21d4be6",
   "metadata": {},
   "source": [
    "#### The else Statement\n",
    "\n",
    "With the else statement we can run a block of code once when the condition no longer is true:"
   ]
  },
  {
   "cell_type": "code",
   "execution_count": 6,
   "id": "dcca17f5",
   "metadata": {},
   "outputs": [
    {
     "name": "stdout",
     "output_type": "stream",
     "text": [
      "1\n",
      "2\n",
      "3\n",
      "4\n",
      "5\n",
      "i is no longer less than 6\n"
     ]
    }
   ],
   "source": [
    "# Print a message once the condition is false:\n",
    "\n",
    "i = 1\n",
    "while i<6:\n",
    "    print(i)\n",
    "    i += 1\n",
    "else:\n",
    "    print(\"i is no longer less than 6\")\n",
    "\n",
    "    "
   ]
  },
  {
   "cell_type": "code",
   "execution_count": 7,
   "id": "0ce39a70",
   "metadata": {},
   "outputs": [
    {
     "name": "stdout",
     "output_type": "stream",
     "text": [
      "1\n",
      "2\n",
      "3\n"
     ]
    }
   ],
   "source": [
    "i = 1\n",
    "\n",
    "while i < 6:\n",
    "    print(i)\n",
    "    if i == 3:\n",
    "        break\n",
    "    i +=1\n",
    "    \n",
    "else:\n",
    "    print(\"loop has been stopped\")"
   ]
  },
  {
   "cell_type": "code",
   "execution_count": 1,
   "id": "4845372b",
   "metadata": {},
   "outputs": [
    {
     "name": "stdout",
     "output_type": "stream",
     "text": [
      "1\n",
      "2\n",
      "3\n",
      "loop has been stopped\n"
     ]
    }
   ],
   "source": [
    "# but if else statement is attached with  if condition out of while loop then it will execute if\n",
    "# satisfied the condition \n",
    "i = 1\n",
    "while i < 6:\n",
    "    print(i)\n",
    "    if i == 3:\n",
    "        break\n",
    "    i +=1\n",
    "    \n",
    "if i == 4:\n",
    "    print(i)\n",
    "else:\n",
    "    print(\"loop has been stopped\")\n",
    "    \n"
   ]
  },
  {
   "cell_type": "markdown",
   "id": "a78dfd40",
   "metadata": {},
   "source": [
    "as we already discussed that if the else part attached with other than while loop then the \n",
    "effect of break statement in while loop won't affect the else part of another condition."
   ]
  },
  {
   "cell_type": "code",
   "execution_count": 8,
   "id": "8acca62e",
   "metadata": {},
   "outputs": [
    {
     "name": "stdout",
     "output_type": "stream",
     "text": [
      "Please enter the integer : s,\n",
      "Please enter integer only: \n",
      "Please enter the integer : sd\n",
      "Please enter integer only: \n",
      "Please enter the integer : 2\n",
      "Number is :  2\n"
     ]
    }
   ],
   "source": [
    "#### taking only int input\n",
    "\n",
    "while True:\n",
    "    \n",
    "    try:\n",
    "        num = int(input(\"Please enter the integer : \"))\n",
    "        break\n",
    "        \n",
    "    except:\n",
    "#         print(\"Please enter integer only: \")\n",
    "#         continue\n",
    "\n",
    "print(\"Number is : \", num)\n",
    "        "
   ]
  },
  {
   "cell_type": "code",
   "execution_count": 10,
   "id": "d0d0ccc7",
   "metadata": {},
   "outputs": [
    {
     "name": "stdout",
     "output_type": "stream",
     "text": [
      "Please enter the integer : sd\n",
      "Please enter integer only: \n",
      "Please enter the integer : 23\n",
      "Number is :  23\n"
     ]
    }
   ],
   "source": [
    "#### taking only int input\n",
    "\n",
    "while True:\n",
    "    \n",
    "    try:\n",
    "        num = int(input(\"Please enter the integer : \"))\n",
    "        break\n",
    "        \n",
    "    except:\n",
    "        print(\"Please enter integer only: \")\n",
    "#         continue\n",
    "\n",
    "print(\"Number is : \", num)\n",
    "        "
   ]
  },
  {
   "cell_type": "code",
   "execution_count": 3,
   "id": "524c2f27",
   "metadata": {},
   "outputs": [
    {
     "name": "stdout",
     "output_type": "stream",
     "text": [
      "Enter string : 23\n",
      "Enter string : 23\n",
      "Enter string : 4.324\n",
      "Enter string : sdf.23\n",
      "Enter string : hello\n",
      "your string is :  hello\n"
     ]
    }
   ],
   "source": [
    "# taking only string input\n",
    "while True:\n",
    "    try:\n",
    "        str1 = input(\"Enter string : \")\n",
    "        if str1.isalpha():\n",
    "            break\n",
    "    except:\n",
    "        pass\n",
    "    \n",
    "print(\"your string is : \", str1)"
   ]
  },
  {
   "cell_type": "code",
   "execution_count": 4,
   "id": "10d6bee9",
   "metadata": {},
   "outputs": [
    {
     "data": {
      "text/plain": [
       "True"
      ]
     },
     "execution_count": 4,
     "metadata": {},
     "output_type": "execute_result"
    }
   ],
   "source": [
    "\n",
    "isinstance(\"hello00\", str)"
   ]
  },
  {
   "cell_type": "code",
   "execution_count": 12,
   "id": "57cfc4ef",
   "metadata": {},
   "outputs": [
    {
     "name": "stdout",
     "output_type": "stream",
     "text": [
      "Enter digit : sd\n",
      "enter digit only!\n",
      "Enter digit : 323\n",
      "your digit is :  323\n"
     ]
    }
   ],
   "source": [
    "### taking input only digit\n",
    "while True:\n",
    "    try:\n",
    "        str1 = input(\"Enter digit : \")\n",
    "        if str1.isdigit():\n",
    "            break\n",
    "        else:\n",
    "            print(\"enter digit only!\")\n",
    "    except:\n",
    "        pass\n",
    "#         print(\"Enter digit only!\")\n",
    "    \n",
    "print(\"your digit is : \", str1)"
   ]
  },
  {
   "cell_type": "code",
   "execution_count": 15,
   "id": "7baf0c80",
   "metadata": {},
   "outputs": [
    {
     "name": "stdout",
     "output_type": "stream",
     "text": [
      "Enter the password : Hello@python123\n",
      "Valid Password\n"
     ]
    }
   ],
   "source": [
    "l, u, p, d = 0, 0, 0, 0\n",
    "s = input(\"Enter the password : \")\n",
    "capitalalphabets=\"ABCDEFGHIJKLMNOPQRSTUVWXYZ\"\n",
    "smallalphabets=\"abcdefghijklmnopqrstuvwxyz\"\n",
    "specialchar=\"$@_\"\n",
    "digits=\"0123456789\"\n",
    "if (len(s) >= 8):\n",
    "    for i in s:\n",
    " \n",
    "        # counting lowercase alphabets\n",
    "        if (i in smallalphabets):\n",
    "            l+=1           \n",
    " \n",
    "        # counting uppercase alphabets\n",
    "        if (i in capitalalphabets):\n",
    "            u+=1           \n",
    " \n",
    "        # counting digits\n",
    "        if (i in digits):\n",
    "            d+=1           \n",
    " \n",
    "        # counting the mentioned special characters\n",
    "        if(i in specialchar):\n",
    "            p+=1       \n",
    "if (l>=1 and u>=1 and p>=1 and d>=1 and l+p+u+d==len(s)):\n",
    "    print(\"Valid Password\")\n",
    "else:\n",
    "    print(\"Invalid Password\")"
   ]
  },
  {
   "cell_type": "code",
   "execution_count": 22,
   "id": "939d9f1e",
   "metadata": {},
   "outputs": [
    {
     "name": "stdout",
     "output_type": "stream",
     "text": [
      "Valid Password\n"
     ]
    }
   ],
   "source": [
    "import string\n",
    "l, u, p, d = 0, 0, 0, 0\n",
    "s = \"R@m@_f0rtu9e$\"\n",
    "capitalalphabets= string.ascii_uppercase\n",
    "smallalphabets=string.ascii_lowercase\n",
    "specialchar=\"$@_\"\n",
    "digits=string.digits\n",
    "if (len(s) >= 8):\n",
    "    for i in s:\n",
    " \n",
    "        # counting lowercase alphabets\n",
    "        if (i in smallalphabets):\n",
    "            l+=1           \n",
    " \n",
    "        # counting uppercase alphabets\n",
    "        if (i in capitalalphabets):\n",
    "            u+=1           \n",
    " \n",
    "        # counting digits\n",
    "        if (i in digits):\n",
    "            d+=1           \n",
    " \n",
    "        # counting the mentioned special characters\n",
    "        if(i in specialchar):\n",
    "            p+=1       \n",
    "if (l>=1 and u>=1 and p>=1 and d>=1 and l+p+u+d==len(s)):\n",
    "    print(\"Valid Password\")\n",
    "else:\n",
    "    print(\"Invalid Password\")"
   ]
  },
  {
   "cell_type": "code",
   "execution_count": 18,
   "id": "437d6d39",
   "metadata": {},
   "outputs": [
    {
     "data": {
      "text/plain": [
       "'abcdefghijklmnopqrstuvwxyz'"
      ]
     },
     "execution_count": 18,
     "metadata": {},
     "output_type": "execute_result"
    }
   ],
   "source": [
    "import string \n",
    "string.ascii_lowercase"
   ]
  },
  {
   "cell_type": "code",
   "execution_count": 21,
   "id": "dd992b41",
   "metadata": {},
   "outputs": [
    {
     "data": {
      "text/plain": [
       "'0123456789'"
      ]
     },
     "execution_count": 21,
     "metadata": {},
     "output_type": "execute_result"
    }
   ],
   "source": [
    "string.digits"
   ]
  },
  {
   "cell_type": "code",
   "execution_count": 23,
   "id": "91ef0659",
   "metadata": {},
   "outputs": [
    {
     "name": "stdout",
     "output_type": "stream",
     "text": [
      "Valid Email\n",
      "Valid Email\n",
      "Invalid Email\n"
     ]
    }
   ],
   "source": [
    "# Python program to validate an Email\n",
    " \n",
    "# import re module\n",
    " \n",
    "# re module provides support\n",
    "# for regular expressions\n",
    "import re\n",
    " \n",
    "# Make a regular expression\n",
    "# for validating an Email\n",
    "regex = r'\\b[A-Za-z0-9._%+-]+@[A-Za-z0-9.-]+\\.[A-Z|a-z]{2,}\\b'\n",
    " \n",
    "# Define a function for\n",
    "# for validating an Email\n",
    " \n",
    "def check(email):\n",
    " \n",
    "    # pass the regular expression\n",
    "    # and the string into the fullmatch() method\n",
    "    if(re.fullmatch(regex, email)):\n",
    "        print(\"Valid Email\")\n",
    " \n",
    "    else:\n",
    "        print(\"Invalid Email\")\n",
    " \n",
    " \n",
    "# Driver Code\n",
    "if __name__ == '__main__':\n",
    " \n",
    "    # Enter the email\n",
    "    email = \"ankitrai326@gmail.com\"\n",
    " \n",
    "    # calling run function\n",
    "    check(email)\n",
    " \n",
    "    email = \"my.ownsite@our-earth.org\"\n",
    "    check(email)\n",
    " \n",
    "    email = \"ankitrai326.com\"\n",
    "    check(email)"
   ]
  },
  {
   "cell_type": "markdown",
   "id": "56097c23",
   "metadata": {},
   "source": [
    "Thank You 👍"
   ]
  }
 ],
 "metadata": {
  "kernelspec": {
   "display_name": "Python 3 (ipykernel)",
   "language": "python",
   "name": "python3"
  },
  "language_info": {
   "codemirror_mode": {
    "name": "ipython",
    "version": 3
   },
   "file_extension": ".py",
   "mimetype": "text/x-python",
   "name": "python",
   "nbconvert_exporter": "python",
   "pygments_lexer": "ipython3",
   "version": "3.9.7"
  }
 },
 "nbformat": 4,
 "nbformat_minor": 5
}

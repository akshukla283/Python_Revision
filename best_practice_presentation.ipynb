{
 "cells": [
  {
   "cell_type": "code",
   "execution_count": 1,
   "id": "7819fcdf",
   "metadata": {},
   "outputs": [],
   "source": [
    "div = lambda x, y : x/y if y != 0 else \"give proper input\""
   ]
  },
  {
   "cell_type": "code",
   "execution_count": 2,
   "id": "86a3851c",
   "metadata": {},
   "outputs": [
    {
     "data": {
      "text/plain": [
       "4.0"
      ]
     },
     "execution_count": 2,
     "metadata": {},
     "output_type": "execute_result"
    }
   ],
   "source": [
    "div(12,3)"
   ]
  },
  {
   "cell_type": "code",
   "execution_count": 3,
   "id": "2b540493",
   "metadata": {},
   "outputs": [
    {
     "data": {
      "text/plain": [
       "'give proper input'"
      ]
     },
     "execution_count": 3,
     "metadata": {},
     "output_type": "execute_result"
    }
   ],
   "source": [
    "div(12, 0)"
   ]
  },
  {
   "cell_type": "code",
   "execution_count": 4,
   "id": "1556a54d",
   "metadata": {},
   "outputs": [
    {
     "data": {
      "text/plain": [
       "81"
      ]
     },
     "execution_count": 4,
     "metadata": {},
     "output_type": "execute_result"
    }
   ],
   "source": [
    "sqr = lambda x : x**2\n",
    "sqr(9)"
   ]
  },
  {
   "cell_type": "code",
   "execution_count": 5,
   "id": "7831bcc9",
   "metadata": {},
   "outputs": [],
   "source": [
    "def n_power(n):\n",
    "    return lambda x : x**n\n"
   ]
  },
  {
   "cell_type": "code",
   "execution_count": 7,
   "id": "0db4b312",
   "metadata": {},
   "outputs": [],
   "source": [
    "my_square = n_power(2)"
   ]
  },
  {
   "cell_type": "code",
   "execution_count": 8,
   "id": "bae8b839",
   "metadata": {},
   "outputs": [
    {
     "data": {
      "text/plain": [
       "81"
      ]
     },
     "execution_count": 8,
     "metadata": {},
     "output_type": "execute_result"
    }
   ],
   "source": [
    "my_square(9)"
   ]
  },
  {
   "cell_type": "code",
   "execution_count": 9,
   "id": "de4caf61",
   "metadata": {},
   "outputs": [
    {
     "data": {
      "text/plain": [
       "8"
      ]
     },
     "execution_count": 9,
     "metadata": {},
     "output_type": "execute_result"
    }
   ],
   "source": [
    "my_cube = n_power(3)\n",
    "my_cube(2)"
   ]
  },
  {
   "cell_type": "code",
   "execution_count": 10,
   "id": "036f8c71",
   "metadata": {},
   "outputs": [
    {
     "name": "stdout",
     "output_type": "stream",
     "text": [
      "Child __init__\n"
     ]
    }
   ],
   "source": [
    "class Parent:\n",
    "    def __init__(self):\n",
    "        print(\"Parent  __init__\")\n",
    "        \n",
    "class Child(Parent):\n",
    "    def __init__(self):\n",
    "        print(\"Child __init__\")\n",
    "        \n",
    "obj = Child()"
   ]
  },
  {
   "cell_type": "code",
   "execution_count": 11,
   "id": "c26f7b3a",
   "metadata": {},
   "outputs": [
    {
     "name": "stdout",
     "output_type": "stream",
     "text": [
      "Child __init__\n",
      "Parent  __init__\n"
     ]
    }
   ],
   "source": [
    "class Parent:\n",
    "    def __init__(self):\n",
    "        print(\"Parent  __init__\")\n",
    "        \n",
    "class Child(Parent):\n",
    "    def __init__(self):\n",
    "        print(\"Child __init__\")\n",
    "        super().__init__()\n",
    "        \n",
    "obj = Child()"
   ]
  },
  {
   "cell_type": "code",
   "execution_count": 13,
   "id": "3d820767",
   "metadata": {},
   "outputs": [
    {
     "name": "stdout",
     "output_type": "stream",
     "text": [
      "Outside dir :  ['Child', 'In', 'Out', 'Parent', '_', '_2', '_3', '_4', '_8', '_9', '__', '___', '__builtin__', '__builtins__', '__doc__', '__loader__', '__name__', '__package__', '__spec__', '_dh', '_i', '_i1', '_i10', '_i11', '_i12', '_i13', '_i2', '_i3', '_i4', '_i5', '_i6', '_i7', '_i8', '_i9', '_ih', '_ii', '_iii', '_oh', 'div', 'exit', 'func', 'get_ipython', 'my_cube', 'my_square', 'mydoubler', 'n_power', 'obj', 'quit', 'sqr']\n",
      "\n",
      "Inside function dir\n",
      "['x']\n",
      "\n",
      "Outside dir :  ['Child', 'In', 'Out', 'Parent', '_', '_2', '_3', '_4', '_8', '_9', '__', '___', '__builtin__', '__builtins__', '__doc__', '__loader__', '__name__', '__package__', '__spec__', '_dh', '_i', '_i1', '_i10', '_i11', '_i12', '_i13', '_i2', '_i3', '_i4', '_i5', '_i6', '_i7', '_i8', '_i9', '_ih', '_ii', '_iii', '_oh', 'div', 'exit', 'func', 'get_ipython', 'my_cube', 'my_square', 'mydoubler', 'n_power', 'obj', 'quit', 'sqr']\n"
     ]
    }
   ],
   "source": [
    "print(\"Outside dir : \", dir())\n",
    "print()\n",
    "def func():\n",
    "    x = 10\n",
    "    print(\"Inside function dir\")\n",
    "    print(dir())\n",
    "    \n",
    "func()\n",
    "print()\n",
    "print(\"Outside dir : \", dir())"
   ]
  },
  {
   "cell_type": "code",
   "execution_count": 14,
   "id": "7c622d3b",
   "metadata": {},
   "outputs": [
    {
     "name": "stdout",
     "output_type": "stream",
     "text": [
      "name 'x' is not defined\n",
      "Finally executed\n"
     ]
    }
   ],
   "source": [
    "try:\n",
    "    print(x)\n",
    "except Exception as e:\n",
    "    print(e)\n",
    "finally:\n",
    "    print(\"Finally executed\")"
   ]
  },
  {
   "cell_type": "code",
   "execution_count": 15,
   "id": "aa980ab5",
   "metadata": {},
   "outputs": [
    {
     "name": "stdout",
     "output_type": "stream",
     "text": [
      "Try part is okay then else part printed\n",
      "20\n",
      "And Finally will print every time whether there is an exception or not \n"
     ]
    }
   ],
   "source": [
    "x = 10\n",
    "\n",
    "try:\n",
    "    x = x + 10\n",
    "except Exception as e :\n",
    "    print(e)\n",
    "    \n",
    "else:\n",
    "    print(\"Try part is okay then else part printed\")\n",
    "    print(x)\n",
    "    \n",
    "finally:\n",
    "    print(\"And Finally will print every time whether there is an exception or not \")"
   ]
  },
  {
   "cell_type": "code",
   "execution_count": 17,
   "id": "5d414766",
   "metadata": {},
   "outputs": [
    {
     "name": "stdout",
     "output_type": "stream",
     "text": [
      "Enter integer: as\n",
      "Integer only .....!\n",
      "Enter integer: sd\n",
      "Integer only .....!\n",
      "Enter integer: 2\n",
      "\n",
      "Entered integer :  2\n"
     ]
    }
   ],
   "source": [
    "while True:\n",
    "    try : \n",
    "        num = int(input(\"Enter integer: \"))\n",
    "        break\n",
    "    except:\n",
    "        print(\"Integer only .....!\")\n",
    "        \n",
    "        \n",
    "        \n",
    "print()\n",
    "print(\"Entered integer : \", num)\n"
   ]
  },
  {
   "cell_type": "code",
   "execution_count": 19,
   "id": "328b200e",
   "metadata": {},
   "outputs": [
    {
     "name": "stdout",
     "output_type": "stream",
     "text": [
      "Enter string only : 121\n",
      "string only ...........!\n",
      "Enter string only : 12321\n",
      "string only ...........!\n",
      "Enter string only : hello this is string \n",
      "string only ...........!\n",
      "Enter string only : asa\n",
      "\n",
      "Entered string :  asa\n"
     ]
    }
   ],
   "source": [
    "while True:\n",
    "    try : \n",
    "        str1 = input(\"Enter string only : \")\n",
    "        if str1.isalpha():\n",
    "            break\n",
    "        else:\n",
    "            print(\"string only ...........!\")\n",
    "    except:\n",
    "        pass\n",
    "    \n",
    "print()\n",
    "print(\"Entered string : \", str1)"
   ]
  },
  {
   "cell_type": "code",
   "execution_count": 2,
   "id": "24002623",
   "metadata": {},
   "outputs": [
    {
     "name": "stdout",
     "output_type": "stream",
     "text": [
      "Enter string only : this is string \n",
      "\n",
      "Entered string :  this is string \n"
     ]
    }
   ],
   "source": [
    "while True:\n",
    "    try : \n",
    "        str1 = input(\"Enter string only : \")\n",
    "        if \"\".join(str1.split()).isalpha():\n",
    "            break            \n",
    "        else:\n",
    "            print(\"String only....\")\n",
    "    except:\n",
    "        pass\n",
    "    \n",
    "print()\n",
    "print(\"Entered string : \", str1)"
   ]
  },
  {
   "cell_type": "code",
   "execution_count": 3,
   "id": "de2c6e78",
   "metadata": {},
   "outputs": [
    {
     "data": {
      "text/plain": [
       "'hello'"
      ]
     },
     "execution_count": 3,
     "metadata": {},
     "output_type": "execute_result"
    }
   ],
   "source": [
    "def remove_dup(x):\n",
    "    str_list = x.lower().split()\n",
    "    return \"\".join(dict.fromkeys(str_list))\n",
    "\n",
    "remove_dup(\"Hello Hello hello\")"
   ]
  },
  {
   "cell_type": "code",
   "execution_count": 1,
   "id": "216e04f8",
   "metadata": {},
   "outputs": [
    {
     "name": "stdout",
     "output_type": "stream",
     "text": [
      "Unsorted list :  [12, 4, 8, 0, 3, 2, 0]\n",
      "\n",
      "[0, 4, 8, 12, 3, 2, 0]\n",
      "[0, 0, 8, 12, 3, 2, 4]\n",
      "[0, 0, 2, 12, 3, 8, 4]\n",
      "[0, 0, 2, 3, 12, 8, 4]\n",
      "[0, 0, 2, 3, 4, 8, 12]\n",
      "[0, 0, 2, 3, 4, 8, 12]\n",
      "\n",
      "Sorted list1 :  [0, 0, 2, 3, 4, 8, 12]\n"
     ]
    }
   ],
   "source": [
    "# selection sort\n",
    "\n",
    "list1 = [12,4,8,0,3,2,0]\n",
    "print(\"Unsorted list : \", list1)\n",
    "print()\n",
    "\n",
    "for i in range(len(list1) - 1):\n",
    "    m_val = list1[i]\n",
    "    for j in range(i+1, len(list1)):\n",
    "        if list1[j] < m_val:\n",
    "            m_val = list1[j]\n",
    "            \n",
    "    m_ind = list1.index(m_val, i)\n",
    "    if list1[i] != list1[m_ind]:\n",
    "        list1[i], list1[m_ind] = list1[m_ind], list1[i]\n",
    "        \n",
    "    print(list1)\n",
    "    \n",
    "print()\n",
    "print(\"Sorted list1 : \", list1)"
   ]
  },
  {
   "cell_type": "code",
   "execution_count": 3,
   "id": "ff2cbb79",
   "metadata": {},
   "outputs": [
    {
     "name": "stdout",
     "output_type": "stream",
     "text": [
      "Unsorted list :  [12, 4, 8, 0, 3, 2, 0]\n",
      "\n",
      "[4, 12, 8, 0, 3, 2, 0]\n",
      "[4, 8, 12, 0, 3, 2, 0]\n",
      "[4, 8, 0, 12, 3, 2, 0]\n",
      "[4, 8, 0, 3, 12, 2, 0]\n",
      "[4, 8, 0, 3, 2, 12, 0]\n",
      "[4, 8, 0, 3, 2, 0, 12]\n",
      "\n",
      "[4, 8, 0, 3, 2, 0, 12]\n",
      "[4, 0, 8, 3, 2, 0, 12]\n",
      "[4, 0, 3, 8, 2, 0, 12]\n",
      "[4, 0, 3, 2, 8, 0, 12]\n",
      "[4, 0, 3, 2, 0, 8, 12]\n",
      "\n",
      "[0, 4, 3, 2, 0, 8, 12]\n",
      "[0, 3, 4, 2, 0, 8, 12]\n",
      "[0, 3, 2, 4, 0, 8, 12]\n",
      "[0, 3, 2, 0, 4, 8, 12]\n",
      "\n",
      "[0, 3, 2, 0, 4, 8, 12]\n",
      "[0, 2, 3, 0, 4, 8, 12]\n",
      "[0, 2, 0, 3, 4, 8, 12]\n",
      "\n",
      "[0, 2, 0, 3, 4, 8, 12]\n",
      "[0, 0, 2, 3, 4, 8, 12]\n",
      "\n",
      "[0, 0, 2, 3, 4, 8, 12]\n",
      "\n",
      "\n",
      "Sorted list :  [0, 0, 2, 3, 4, 8, 12]\n"
     ]
    }
   ],
   "source": [
    "### bubble sort\n",
    "\n",
    "list1 = [12,4,8,0,3,2,0]\n",
    "print(\"Unsorted list : \", list1)\n",
    "print()\n",
    "\n",
    "for i in range(len(list1)-1):\n",
    "    for j in range(len(list1) - 1 - i):\n",
    "        if list1[j] > list1[j+1]:\n",
    "            list1[j], list1[j+1] = list1[j+1], list1[j]\n",
    "            print(list1)\n",
    "            \n",
    "        else:\n",
    "            print(list1)\n",
    "    print()\n",
    "            \n",
    "print()\n",
    "print(\"Sorted list : \", list1)"
   ]
  },
  {
   "cell_type": "code",
   "execution_count": 11,
   "id": "b5515379",
   "metadata": {},
   "outputs": [
    {
     "name": "stdout",
     "output_type": "stream",
     "text": [
      "Unsorted list :  [12, 4, 8, 0, 3, 2, 0]\n",
      "\n",
      "\n",
      "Sorted List1 :  [0, 0, 2, 3, 4, 8, 12]\n"
     ]
    }
   ],
   "source": [
    "### quick sort\n",
    "\n",
    "\n",
    "# find the pivot place\n",
    "\n",
    "def pivot_place(list1, first, last):\n",
    "    pivot = list1[first]\n",
    "    left = first + 1\n",
    "    right = last\n",
    "    \n",
    "    while True :\n",
    "        while left<= right and list1[left] <= pivot:\n",
    "            left = left+1\n",
    "\n",
    "        while left <= right and list1[right]>=pivot:\n",
    "            right = right-1\n",
    "\n",
    "        if left > right:\n",
    "            break\n",
    "              \n",
    "        else:\n",
    "            list1[left], list1[right] = list1[right], list1[left] \n",
    "            \n",
    "    # now if beak condtion happens means right index > left so we need to place pivot value \n",
    "    # at its right place means we have to swap it with right if we had selected last element as\n",
    "    # pivot element then we would swap left value with pivot value\n",
    "    list1[first], list1[right] = list1[right], list1[first]\n",
    "    return right\n",
    "\n",
    "\n",
    "# now define quick sort funciton\n",
    "\n",
    "def quick_sort(list1, first, last):\n",
    "    \n",
    "    if first < last:\n",
    "        p = pivot_place(list1, first, last)\n",
    "        \n",
    "        quick_sort(list1, first, p-1)\n",
    "        quick_sort(list1, p+1 , last)\n",
    "        \n",
    "        \n",
    "list1 = [12,4,8,0,3,2,0]\n",
    "print(\"Unsorted list : \", list1)\n",
    "print()\n",
    "n = len(list1) - 1 # for last index of the list1\n",
    "quick_sort(list1, 0, n)\n",
    "\n",
    "print()\n",
    "print(\"Sorted List1 : \", list1)"
   ]
  },
  {
   "cell_type": "code",
   "execution_count": 7,
   "id": "69f3e989",
   "metadata": {},
   "outputs": [
    {
     "name": "stdout",
     "output_type": "stream",
     "text": [
      "Unsorted list :  [12, 4, 8, 0, 3, 2, 0]\n",
      "\n",
      "[0, 0, 2, 3, 4, 8, 12]\n"
     ]
    }
   ],
   "source": [
    "def pivot_place(list1, first, last):  # here 'first' and 'last' are the index.\n",
    "    pivot = list1[first]\n",
    "    left = first + 1\n",
    "    right = last \n",
    "    while True:\n",
    "        \n",
    "        while left<= right and list1[left] <= pivot:\n",
    "            left = left+1\n",
    "\n",
    "        while left <= right and list1[right]>=pivot:\n",
    "            right = right-1\n",
    "\n",
    "        if right<left:\n",
    "            break\n",
    "              \n",
    "        else:\n",
    "            list1[left], list1[right] = list1[right], list1[left] \n",
    "            # we need to check it again and again until the condtion not become False so we need\n",
    "            # one external while loop to control this situation \n",
    "    # when control will be here means first condition left<= right become False and now we will \n",
    "    # get correct position of pivot value by swaping it with right value beacuse we took first\n",
    "    # element as pivot value.\n",
    "    list1[first], list1[right] = list1[right], list1[first] \n",
    "    \n",
    "    # here we took list1[first] at place of pivot because to make change in list1\n",
    "    \n",
    "    return right \n",
    "\n",
    "\n",
    "# 2. divide the list for the recursive call \n",
    "\n",
    "def quicksort(list1, first, last):\n",
    "    \n",
    "    if first < last :  # base case  # if single element then stop means do nothing \n",
    "        \n",
    "        p = pivot_place(list1, first, last) # called fuction\n",
    "\n",
    "        quicksort(list1, first, p-1) # divide part left side of pivote \n",
    "        quicksort(list1, p+1, last)  # divide part right side of pivote\n",
    "\n",
    "    \n",
    "# 3. main\n",
    "\n",
    "list1 = [12,4,8,0,3,2,0]\n",
    "print(\"Unsorted list : \", list1)\n",
    "print() # need index num i.e. here n-1 = 5 , if we give length then it will be \n",
    "quicksort(list1, 0, len(list1)-1)                      # out of index zone.\n",
    "# because index start from 0 in list1 and len(list1) will give 6 but we need index 5\n",
    "print(list1)"
   ]
  },
  {
   "cell_type": "code",
   "execution_count": 12,
   "id": "ad4ea273",
   "metadata": {},
   "outputs": [
    {
     "name": "stdout",
     "output_type": "stream",
     "text": [
      "Unsorted list :  [12, 4, 8, 0, 3, 2, 0]\n",
      "\n",
      "Sorted list1 : [0, 0, 2, 3, 4, 8, 12]\n"
     ]
    }
   ],
   "source": [
    "# merge sort \n",
    "\n",
    "def merge_sort(list1):\n",
    "    if len(list1) > 1:\n",
    "        mid = len(list1)//2\n",
    "        \n",
    "        left_list = list1[:mid]\n",
    "        right_list = list1[mid:]\n",
    "        \n",
    "        # recursively divide list until len of the list become 1\n",
    "        \n",
    "        merge_sort(left_list)\n",
    "        merge_sort(right_list)\n",
    "        \n",
    "        # now combine the splited list according to thier value \n",
    "        i = 0\n",
    "        j = 0 \n",
    "        k = 0\n",
    "        \n",
    "        while i < len(left_list) and j < len(right_list):\n",
    "            \n",
    "            if left_list[i] < right_list[j]:\n",
    "                list1[k] = left_list[i]\n",
    "                i = i + 1\n",
    "                k = k + 1\n",
    "            else:\n",
    "                list1[k] = right_list[j]\n",
    "                j = j + 1\n",
    "                k = k + 1\n",
    "                \n",
    "        while i < len(left_list):\n",
    "            list1[k] = left_list[i]\n",
    "            i = i + 1\n",
    "            k = k + 1\n",
    "        while j < len(right_list):\n",
    "            list1[k] = right_list[j]\n",
    "            j = j + 1\n",
    "            k = k + 1\n",
    "            \n",
    "            \n",
    "list1 = [12,4,8,0,3,2,0]\n",
    "print(\"Unsorted list : \", list1)\n",
    "print()\n",
    "merge_sort(list1)\n",
    "print(\"Sorted list1 :\", list1)\n"
   ]
  },
  {
   "cell_type": "code",
   "execution_count": 13,
   "id": "3c85b80e",
   "metadata": {},
   "outputs": [
    {
     "name": "stdout",
     "output_type": "stream",
     "text": [
      "Unsorted list :  [12, 4, 8, 0, 3, 2, 0]\n",
      "\n",
      "\n",
      "Sorted list1 :  [0, 0, 2, 3, 4, 8, 12]\n"
     ]
    }
   ],
   "source": [
    "# insertion sort \n",
    "\n",
    "def insertion_sort(list1):\n",
    "    for index in range(1, len(list1)):\n",
    "        \n",
    "        current_element = list1[index]\n",
    "        pos = index\n",
    "        \n",
    "        while current_element < list1[pos -1] and pos>0:\n",
    "            list1[pos] = list1[pos -1]\n",
    "            pos = pos - 1\n",
    "            \n",
    "        list1[pos] = current_element\n",
    "        \n",
    "    \n",
    "list1 = [12,4,8,0,3,2,0]\n",
    "print(\"Unsorted list : \", list1)\n",
    "print()\n",
    "insertion_sort(list1)\n",
    "print()\n",
    "print(\"Sorted list1 : \", list1)\n",
    "        "
   ]
  },
  {
   "cell_type": "code",
   "execution_count": 14,
   "id": "61fb9ee6",
   "metadata": {},
   "outputs": [
    {
     "name": "stdout",
     "output_type": "stream",
     "text": [
      "Unsorted list :  [12, 4, 8, 0, 3, 2, 0]\n",
      "\n",
      "\n",
      "Sorted list :  [0, 0, 2, 3, 4, 8, 12]\n"
     ]
    }
   ],
   "source": [
    "def insertion_sort(list1):\n",
    "    for index in range(1, len(list1)):\n",
    "        current_element = list1[index]\n",
    "        pos = index\n",
    "        \n",
    "        while current_element < list1[pos -1] and pos>0:\n",
    "            list1[pos] = list1[pos -1]\n",
    "            pos = pos - 1\n",
    "            \n",
    "        list1[pos] = current_element\n",
    "        \n",
    "\n",
    "list1 = [12,4,8,0,3,2,0]\n",
    "print(\"Unsorted list : \", list1)\n",
    "print()\n",
    "insertion_sort(list1)\n",
    "print()\n",
    "print(\"Sorted list : \", list1)"
   ]
  },
  {
   "cell_type": "code",
   "execution_count": 17,
   "id": "2b0b8b35",
   "metadata": {},
   "outputs": [
    {
     "name": "stdout",
     "output_type": "stream",
     "text": [
      "Unsorted list :  [12, 4, 8, 0, 3, 2, 0]\n",
      "\n",
      "\n",
      "Sorted list1 :  [0, 0, 2, 3, 4, 8, 12]\n"
     ]
    }
   ],
   "source": [
    "# shell short \n",
    "\n",
    "def shell_sort(list1):\n",
    "    gap = len(list1)//2\n",
    "    while gap > 0:\n",
    "        \n",
    "        for index in range(1, len(list1)):\n",
    "            current_element = list1[index]\n",
    "            pos = index\n",
    "            \n",
    "            while current_element < list1[pos - gap] and pos >= gap:\n",
    "                list1[pos] = list1[pos - gap]\n",
    "                pos = pos - gap\n",
    "                \n",
    "                list1[pos] = current_element\n",
    "                \n",
    "        gap = gap//2\n",
    "        \n",
    "list1 = [12,4,8,0,3,2,0]\n",
    "print(\"Unsorted list : \", list1)\n",
    "print()\n",
    "shell_sort(list1)\n",
    "print()\n",
    "print(\"Sorted list1 : \", list1)"
   ]
  },
  {
   "cell_type": "code",
   "execution_count": 20,
   "id": "42d16906",
   "metadata": {},
   "outputs": [
    {
     "name": "stdout",
     "output_type": "stream",
     "text": [
      "Here is list : [12, 4, 8, 0, 3, 2, 0]\n",
      "Enter key : 121\n",
      "Key is not found in list1\n"
     ]
    }
   ],
   "source": [
    "def linear_search(list1, key):\n",
    "    list2 = []\n",
    "    flag = False\n",
    "    \n",
    "    for i in range(len(list1)):\n",
    "        if list1[i] == key:\n",
    "            flag = True\n",
    "            list2.append(i)\n",
    "    if flag == True :\n",
    "        print(\"Key is found at index : \")\n",
    "        for i in list2:\n",
    "            print(i, end = \" \")\n",
    "    else:\n",
    "        print(\"Key is not found in list1\")\n",
    "        \n",
    "        \n",
    "list1 = [12,4,8,0,3,2,0]\n",
    "print(\"Here is list :\", list1)\n",
    "key = int(input(\"Enter key : \" ))\n",
    "linear_search(list1, key)  "
   ]
  },
  {
   "cell_type": "code",
   "execution_count": 23,
   "id": "e9245d93",
   "metadata": {},
   "outputs": [
    {
     "name": "stdout",
     "output_type": "stream",
     "text": [
      "Sorted list :  [0, 0, 2, 3, 4, 8, 12]\n",
      "\n",
      "Enter key : 12\n",
      "Key is found!\n"
     ]
    }
   ],
   "source": [
    "# binary search \n",
    "\n",
    "def binary_search(list1, key):\n",
    "    low_ind = 0\n",
    "    high_ind = len(list1) - 1\n",
    "    Found = False\n",
    "    while low_ind <= high_ind and not Found:\n",
    "        mid = (low_ind + high_ind)//2\n",
    "        \n",
    "        if key == list1[mid]:\n",
    "            Found = True\n",
    "            \n",
    "        elif key > list1[mid]:\n",
    "            low_ind = mid + 1\n",
    "            \n",
    "        else:\n",
    "            high_ind = mid - 1\n",
    "            \n",
    "            \n",
    "    if Found == True:\n",
    "        print(\"Key is found!\")\n",
    "        \n",
    "    else:\n",
    "        print(\"Key is not found!\")\n",
    "        \n",
    "        \n",
    "list1 = [12,4,8,0,3,2,0]\n",
    "list1.sort()\n",
    "print(\"Sorted list : \", list1)\n",
    "print()\n",
    "key = int(input(\"Enter key : \"))\n",
    "binary_search(list1, key)"
   ]
  },
  {
   "cell_type": "code",
   "execution_count": 24,
   "id": "04ef07ad",
   "metadata": {},
   "outputs": [
    {
     "data": {
      "text/plain": [
       "['GOOD', 'MORNING']"
      ]
     },
     "execution_count": 24,
     "metadata": {},
     "output_type": "execute_result"
    }
   ],
   "source": [
    "# practice on decorator\n",
    "\n",
    "def upper_d(func):\n",
    "    def wrapped():\n",
    "        str1 = func()\n",
    "        return str1.upper()\n",
    "    return wrapped\n",
    "\n",
    "def split_d(func):\n",
    "    def wrapped():\n",
    "        str2 = func()\n",
    "        return str2.split()\n",
    "    return wrapped\n",
    "\n",
    "\n",
    "@split_d\n",
    "@upper_d\n",
    "def greeting():\n",
    "    return \"good morning\"\n",
    "\n",
    "greeting()"
   ]
  },
  {
   "cell_type": "code",
   "execution_count": 27,
   "id": "335466dc",
   "metadata": {},
   "outputs": [
    {
     "name": "stdout",
     "output_type": "stream",
     "text": [
      "Enter your expression : harry\n"
     ]
    },
    {
     "data": {
      "text/plain": [
       "'Good Morning, Harry'"
      ]
     },
     "execution_count": 27,
     "metadata": {},
     "output_type": "execute_result"
    }
   ],
   "source": [
    "# taking input through decorator\n",
    "\n",
    "def add_expression(expr):\n",
    "    def inner(func):\n",
    "        def wrapped():\n",
    "            str1 = func()\n",
    "            \n",
    "            return str1.title() + expr.capitalize()\n",
    "        return wrapped\n",
    "    return inner\n",
    "\n",
    "@add_expression(input(\"Enter your expression : \"))\n",
    "def greeting():\n",
    "    return \"good morning, \"\n",
    "\n",
    "greeting()"
   ]
  },
  {
   "cell_type": "code",
   "execution_count": 32,
   "id": "20b91f7a",
   "metadata": {},
   "outputs": [
    {
     "data": {
      "text/plain": [
       "'Hey my name is also same'"
      ]
     },
     "execution_count": 32,
     "metadata": {},
     "output_type": "execute_result"
    }
   ],
   "source": [
    "# def check name decorator\n",
    "\n",
    "def check_name(method):\n",
    "    def wrapped(self):\n",
    "        if self.name == \"David\":\n",
    "            return \"Hey my name is also same\"\n",
    "        else:\n",
    "            return method(self)\n",
    "    return wrapped\n",
    "\n",
    "\n",
    "class Printing:\n",
    "    def __init__(self, name):\n",
    "        self.name = name\n",
    "      \n",
    "\n",
    "    @check_name\n",
    "    def print_name(self):\n",
    "        print(\"User entered name : \", self.name)\n",
    "        \n",
    "        \n",
    "        \n",
    "obj = Printing(\"David\")\n",
    "obj.print_name()\n",
    "        "
   ]
  },
  {
   "cell_type": "code",
   "execution_count": 33,
   "id": "b6c84648",
   "metadata": {},
   "outputs": [
    {
     "name": "stdout",
     "output_type": "stream",
     "text": [
      "User entered name :  Harry\n"
     ]
    }
   ],
   "source": [
    "new_obj = Printing(\"Harry\")\n",
    "new_obj.print_name()"
   ]
  },
  {
   "cell_type": "code",
   "execution_count": 34,
   "id": "d334dee0",
   "metadata": {},
   "outputs": [
    {
     "data": {
      "text/plain": [
       "['GOOD', 'MORNING']"
      ]
     },
     "execution_count": 34,
     "metadata": {},
     "output_type": "execute_result"
    }
   ],
   "source": [
    "# class decorator \n",
    "\n",
    "class Upper_d:\n",
    "    def __init__(self, func):\n",
    "        self.func = func\n",
    "        \n",
    "    def __call__(self):\n",
    "        str1 = self.func()\n",
    "        \n",
    "        return str1.upper()\n",
    "    \n",
    "class Split_d:\n",
    "    def __init__(self, func):\n",
    "        self.func = func\n",
    "        \n",
    "    def __call__(self):\n",
    "        str2 = self.func()\n",
    "        \n",
    "        return str2.split()\n",
    "    \n",
    "@Split_d\n",
    "@Upper_d\n",
    "def greeting():\n",
    "    return \"good morning\"\n",
    "\n",
    "greeting()"
   ]
  },
  {
   "cell_type": "code",
   "execution_count": 40,
   "id": "a4584be9",
   "metadata": {},
   "outputs": [
    {
     "data": {
      "text/plain": [
       "\"Cann't devide by zero, use proper input!\""
      ]
     },
     "execution_count": 40,
     "metadata": {},
     "output_type": "execute_result"
    }
   ],
   "source": [
    "# div decoraotor\n",
    "\n",
    "class Div_decorator:\n",
    "    def __init__(self, func):\n",
    "        self.func = func\n",
    "        \n",
    "    def __call__(self, *args):\n",
    "        mytuple = args[1:]\n",
    "        \n",
    "        for i in mytuple:\n",
    "            if i == 0:\n",
    "                return\"Cann't devide by zero, use proper input!\"\n",
    "                \n",
    "            else:\n",
    "                return self.func(*args)\n",
    "    \n",
    "    \n",
    "@Div_decorator\n",
    "def division(a,b,c):\n",
    "    return a/b/c\n",
    "\n",
    "division(12,0,2)"
   ]
  },
  {
   "cell_type": "code",
   "execution_count": 53,
   "id": "a64a0f6d",
   "metadata": {},
   "outputs": [
    {
     "name": "stdout",
     "output_type": "stream",
     "text": [
      "Percent : 66.67 %\n"
     ]
    }
   ],
   "source": [
    "# property method\n",
    "\n",
    "class Student:\n",
    "    counter = 0\n",
    "    \n",
    "    def __init__(self, name, marks):\n",
    "        self.name = name \n",
    "        self.__marks = marks\n",
    "        \n",
    "        \n",
    "    def percent(self):\n",
    "        per = round((self.__marks/600)*100,  2) \n",
    "        print(f\"Percent : {per} %\")\n",
    "    \n",
    "    @property\n",
    "    def marks(self):\n",
    "        return self.__marks\n",
    "    \n",
    "    @marks.setter\n",
    "    def marks(self, value):\n",
    "        if value < 0 or value > 600:\n",
    "            print(\"Cann't set value stick to he previous\")\n",
    "            return\n",
    "            \n",
    "        else:\n",
    "            self.__marks = value\n",
    "            \n",
    "    @marks.deleter\n",
    "    def marks(self):\n",
    "        print(\"Deleting......\\nDeleted\")\n",
    "        del self.__marks\n",
    "        \n",
    "        \n",
    "        \n",
    "obj = Student(\"Harry\", 400)\n",
    "obj.percent()\n",
    "    "
   ]
  },
  {
   "cell_type": "code",
   "execution_count": 54,
   "id": "c69d1c00",
   "metadata": {},
   "outputs": [],
   "source": [
    "obj.marks = 500"
   ]
  },
  {
   "cell_type": "code",
   "execution_count": 55,
   "id": "16dc999c",
   "metadata": {},
   "outputs": [
    {
     "name": "stdout",
     "output_type": "stream",
     "text": [
      "Percent : 83.33 %\n"
     ]
    }
   ],
   "source": [
    "obj.percent()"
   ]
  },
  {
   "cell_type": "code",
   "execution_count": 56,
   "id": "1d84dba7",
   "metadata": {},
   "outputs": [
    {
     "name": "stdout",
     "output_type": "stream",
     "text": [
      "Cann't set value stick to he previous\n"
     ]
    }
   ],
   "source": [
    "obj.marks = 700"
   ]
  },
  {
   "cell_type": "code",
   "execution_count": 57,
   "id": "5316624e",
   "metadata": {},
   "outputs": [
    {
     "name": "stdout",
     "output_type": "stream",
     "text": [
      "Percent : 83.33 %\n"
     ]
    }
   ],
   "source": [
    "obj.percent()"
   ]
  },
  {
   "cell_type": "code",
   "execution_count": 58,
   "id": "059c2a85",
   "metadata": {},
   "outputs": [
    {
     "data": {
      "text/plain": [
       "500"
      ]
     },
     "execution_count": 58,
     "metadata": {},
     "output_type": "execute_result"
    }
   ],
   "source": [
    "obj.marks"
   ]
  },
  {
   "cell_type": "code",
   "execution_count": 59,
   "id": "40c1227c",
   "metadata": {},
   "outputs": [
    {
     "name": "stdout",
     "output_type": "stream",
     "text": [
      "Deleting......\n",
      "Deleted\n"
     ]
    }
   ],
   "source": [
    "del obj.marks"
   ]
  },
  {
   "cell_type": "code",
   "execution_count": 60,
   "id": "9b17d7e4",
   "metadata": {},
   "outputs": [
    {
     "ename": "AttributeError",
     "evalue": "'Student' object has no attribute '_Student__marks'",
     "output_type": "error",
     "traceback": [
      "\u001b[1;31m---------------------------------------------------------------------------\u001b[0m",
      "\u001b[1;31mAttributeError\u001b[0m                            Traceback (most recent call last)",
      "Input \u001b[1;32mIn [60]\u001b[0m, in \u001b[0;36m<cell line: 1>\u001b[1;34m()\u001b[0m\n\u001b[1;32m----> 1\u001b[0m \u001b[43mobj\u001b[49m\u001b[38;5;241;43m.\u001b[39;49m\u001b[43mmarks\u001b[49m\n",
      "Input \u001b[1;32mIn [53]\u001b[0m, in \u001b[0;36mStudent.marks\u001b[1;34m(self)\u001b[0m\n\u001b[0;32m     15\u001b[0m \u001b[38;5;129m@property\u001b[39m\n\u001b[0;32m     16\u001b[0m \u001b[38;5;28;01mdef\u001b[39;00m \u001b[38;5;21mmarks\u001b[39m(\u001b[38;5;28mself\u001b[39m):\n\u001b[1;32m---> 17\u001b[0m     \u001b[38;5;28;01mreturn\u001b[39;00m \u001b[38;5;28;43mself\u001b[39;49m\u001b[38;5;241;43m.\u001b[39;49m\u001b[43m__marks\u001b[49m\n",
      "\u001b[1;31mAttributeError\u001b[0m: 'Student' object has no attribute '_Student__marks'"
     ]
    }
   ],
   "source": [
    "obj.marks"
   ]
  },
  {
   "cell_type": "code",
   "execution_count": 62,
   "id": "aa14727b",
   "metadata": {},
   "outputs": [],
   "source": [
    "class Employee:\n",
    "    counter = 0\n",
    "    comp_name = \"Softpay\"\n",
    "    \n",
    "    def __init__(self, emp_name, department, ID):\n",
    "        self.emp_name = emp_name\n",
    "        self.department = department\n",
    "        self.ID = ID\n",
    "        Employee.counter = Employee.counter + 1\n",
    "        \n",
    "        \n",
    "    def emp_details(self):\n",
    "        print(f\"Company name : {Employee.comp_name}\\nEmployee name : {self.emp_name}\")\n",
    "        print(f\"Department name : {self.department}\\nEmp ID : {self.ID}\")\n",
    "        \n",
    "    @classmethod\n",
    "    def comp_details(cls):  # will use cls at the place of self\n",
    "        print(f\"Compnay name : {cls.comp_name}\")\n",
    "        \n",
    "    @classmethod\n",
    "    def all_details(cls):\n",
    "        print(f\"Employee name : {self.emp_name}\\nID : {self.ID}\")\n",
    "        \n",
    "    @staticmethod\n",
    "    def get_place(age): # no self or cls needed\n",
    "        if age > 18:\n",
    "            print(\"Belongs to Employee!\")\n",
    "        else:\n",
    "            print(\"Belongs to Student\")\n",
    "            \n",
    "            \n",
    "obj = Employee(\"Harry\", \"IT Department\", 2683)"
   ]
  },
  {
   "cell_type": "code",
   "execution_count": 63,
   "id": "0a4d3e20",
   "metadata": {},
   "outputs": [
    {
     "name": "stdout",
     "output_type": "stream",
     "text": [
      "Company name : Softpay\n",
      "Employee name : Harry\n",
      "Department name : IT Department\n",
      "Emp ID : 2683\n"
     ]
    }
   ],
   "source": [
    "# accessing normal call\n",
    "obj.emp_details()"
   ]
  },
  {
   "cell_type": "code",
   "execution_count": 64,
   "id": "0e7ee20d",
   "metadata": {},
   "outputs": [
    {
     "name": "stdout",
     "output_type": "stream",
     "text": [
      "Compnay name : Softpay\n"
     ]
    }
   ],
   "source": [
    "# accessing only class atrribute method\n",
    "obj.comp_details()"
   ]
  },
  {
   "cell_type": "code",
   "execution_count": 65,
   "id": "9b61631a",
   "metadata": {},
   "outputs": [
    {
     "name": "stdout",
     "output_type": "stream",
     "text": [
      "Belongs to Employee!\n"
     ]
    }
   ],
   "source": [
    "# Accessing the staticmethod\n",
    "\n",
    "obj.get_place(34)"
   ]
  },
  {
   "cell_type": "code",
   "execution_count": 66,
   "id": "0bdaf143",
   "metadata": {},
   "outputs": [
    {
     "ename": "NameError",
     "evalue": "name 'self' is not defined",
     "output_type": "error",
     "traceback": [
      "\u001b[1;31m---------------------------------------------------------------------------\u001b[0m",
      "\u001b[1;31mNameError\u001b[0m                                 Traceback (most recent call last)",
      "Input \u001b[1;32mIn [66]\u001b[0m, in \u001b[0;36m<cell line: 4>\u001b[1;34m()\u001b[0m\n\u001b[0;32m      1\u001b[0m \u001b[38;5;66;03m# accessing mix class attribute like class attribute and instance attribute but in classmethod \u001b[39;00m\n\u001b[0;32m      2\u001b[0m \u001b[38;5;66;03m# we can only access class attribute so here it should raise an error\u001b[39;00m\n\u001b[1;32m----> 4\u001b[0m \u001b[43mobj\u001b[49m\u001b[38;5;241;43m.\u001b[39;49m\u001b[43mall_details\u001b[49m\u001b[43m(\u001b[49m\u001b[43m)\u001b[49m\n",
      "Input \u001b[1;32mIn [62]\u001b[0m, in \u001b[0;36mEmployee.all_details\u001b[1;34m(cls)\u001b[0m\n\u001b[0;32m     20\u001b[0m \u001b[38;5;129m@classmethod\u001b[39m\n\u001b[0;32m     21\u001b[0m \u001b[38;5;28;01mdef\u001b[39;00m \u001b[38;5;21mall_details\u001b[39m(\u001b[38;5;28mcls\u001b[39m):\n\u001b[1;32m---> 22\u001b[0m     \u001b[38;5;28mprint\u001b[39m(\u001b[38;5;124mf\u001b[39m\u001b[38;5;124m\"\u001b[39m\u001b[38;5;124mEmployee name : \u001b[39m\u001b[38;5;132;01m{\u001b[39;00m\u001b[38;5;28mself\u001b[39m\u001b[38;5;241m.\u001b[39memp_name\u001b[38;5;132;01m}\u001b[39;00m\u001b[38;5;130;01m\\n\u001b[39;00m\u001b[38;5;124mID : \u001b[39m\u001b[38;5;132;01m{\u001b[39;00m\u001b[38;5;28mself\u001b[39m\u001b[38;5;241m.\u001b[39mID\u001b[38;5;132;01m}\u001b[39;00m\u001b[38;5;124m\"\u001b[39m)\n",
      "\u001b[1;31mNameError\u001b[0m: name 'self' is not defined"
     ]
    }
   ],
   "source": [
    "# accessing mix class attribute like class attribute and instance attribute but in classmethod \n",
    "# we can only access class attribute so here it should raise an error\n",
    "\n",
    "obj.all_details()"
   ]
  },
  {
   "cell_type": "code",
   "execution_count": 67,
   "id": "099c3ab4",
   "metadata": {},
   "outputs": [],
   "source": [
    "# now lets change the class method properties\n",
    "\n",
    "Employee.comp_name = \"New softpay\""
   ]
  },
  {
   "cell_type": "code",
   "execution_count": 68,
   "id": "c1438a7e",
   "metadata": {},
   "outputs": [
    {
     "data": {
      "text/plain": [
       "'New softpay'"
      ]
     },
     "execution_count": 68,
     "metadata": {},
     "output_type": "execute_result"
    }
   ],
   "source": [
    "# let's check company name after changing it in same object and also in different object\n",
    "\n",
    "obj.comp_name"
   ]
  },
  {
   "cell_type": "code",
   "execution_count": 69,
   "id": "60e3cf9f",
   "metadata": {},
   "outputs": [
    {
     "name": "stdout",
     "output_type": "stream",
     "text": [
      "Company name : New softpay\n",
      "Employee name : Harry\n",
      "Department name : IT Department\n",
      "Emp ID : 2683\n"
     ]
    }
   ],
   "source": [
    "obj.emp_details()"
   ]
  },
  {
   "cell_type": "code",
   "execution_count": 70,
   "id": "934c55fa",
   "metadata": {},
   "outputs": [],
   "source": [
    "new_obj = Employee(\"David\", \"Software\", 2683)"
   ]
  },
  {
   "cell_type": "code",
   "execution_count": 71,
   "id": "f00ae3ed",
   "metadata": {},
   "outputs": [
    {
     "name": "stdout",
     "output_type": "stream",
     "text": [
      "Company name : New softpay\n",
      "Employee name : David\n",
      "Department name : Software\n",
      "Emp ID : 2683\n"
     ]
    }
   ],
   "source": [
    "new_obj.emp_details()"
   ]
  },
  {
   "cell_type": "markdown",
   "id": "852d127f",
   "metadata": {},
   "source": [
    "As we can see when we made change through class name and attribute then it change the class attribute name means it will be reflected in all object whatever has been created or in evry new objects.\n",
    "\n",
    "but if we make change by using object of class then it will be reflect for only that particular object. will not be reflect at class level.\n",
    "\n",
    "let's see some example."
   ]
  },
  {
   "cell_type": "code",
   "execution_count": 72,
   "id": "81712a98",
   "metadata": {},
   "outputs": [],
   "source": [
    "new_obj.comp_name = \"Hard pay\""
   ]
  },
  {
   "cell_type": "code",
   "execution_count": 73,
   "id": "6040d754",
   "metadata": {},
   "outputs": [
    {
     "name": "stdout",
     "output_type": "stream",
     "text": [
      "Company name : New softpay\n",
      "Employee name : David\n",
      "Department name : Software\n",
      "Emp ID : 2683\n"
     ]
    }
   ],
   "source": [
    "new_obj.emp_details() # even it hasn't been reflected in all methods for that object"
   ]
  },
  {
   "cell_type": "code",
   "execution_count": 74,
   "id": "fb2b360f",
   "metadata": {},
   "outputs": [
    {
     "data": {
      "text/plain": [
       "'Hard pay'"
      ]
     },
     "execution_count": 74,
     "metadata": {},
     "output_type": "execute_result"
    }
   ],
   "source": [
    "new_obj.comp_name"
   ]
  },
  {
   "cell_type": "code",
   "execution_count": 75,
   "id": "c31cdc02",
   "metadata": {},
   "outputs": [],
   "source": [
    "obj2 = Employee(\"David\", \"HR\", 2322)"
   ]
  },
  {
   "cell_type": "code",
   "execution_count": 76,
   "id": "9eb35ca9",
   "metadata": {},
   "outputs": [
    {
     "name": "stdout",
     "output_type": "stream",
     "text": [
      "Company name : New softpay\n",
      "Employee name : David\n",
      "Department name : HR\n",
      "Emp ID : 2322\n"
     ]
    }
   ],
   "source": [
    "obj2.emp_details()"
   ]
  },
  {
   "cell_type": "code",
   "execution_count": null,
   "id": "0d9520a2",
   "metadata": {},
   "outputs": [],
   "source": []
  }
 ],
 "metadata": {
  "kernelspec": {
   "display_name": "Python 3 (ipykernel)",
   "language": "python",
   "name": "python3"
  },
  "language_info": {
   "codemirror_mode": {
    "name": "ipython",
    "version": 3
   },
   "file_extension": ".py",
   "mimetype": "text/x-python",
   "name": "python",
   "nbconvert_exporter": "python",
   "pygments_lexer": "ipython3",
   "version": "3.9.7"
  }
 },
 "nbformat": 4,
 "nbformat_minor": 5
}

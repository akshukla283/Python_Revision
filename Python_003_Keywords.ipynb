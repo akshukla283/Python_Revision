{
 "cells": [
  {
   "cell_type": "markdown",
   "id": "fa7d92ca",
   "metadata": {},
   "source": [
    "### Keywords in Python:\n",
    "\n",
    "`Keywords are the reserved words in Python. We cannot use a keyword as a variable name, function name, or any other identifier. The following identifiers are used as reserved words, or keywords of python, and cannot be used as ordinary identifiers.`\n",
    "\n",
    "#### Identifiers:\n",
    "`A Python identifier is a name used to identify a variable, function, class, module or other object. An identifier starts with a letter A to Z or a to z or an underscore (_) followed by zero or more letters, underscores and digits (0 to 9).`\n",
    "\n",
    "We can get the list of keywords present in the python using keyword module."
   ]
  },
  {
   "cell_type": "code",
   "execution_count": 1,
   "id": "6775cc1e",
   "metadata": {},
   "outputs": [
    {
     "name": "stdout",
     "output_type": "stream",
     "text": [
      "['False', 'None', 'True', '__peg_parser__', 'and', 'as', 'assert', 'async', 'await', 'break', 'class', 'continue', 'def', 'del', 'elif', 'else', 'except', 'finally', 'for', 'from', 'global', 'if', 'import', 'in', 'is', 'lambda', 'nonlocal', 'not', 'or', 'pass', 'raise', 'return', 'try', 'while', 'with', 'yield']\n"
     ]
    }
   ],
   "source": [
    "import keyword\n",
    "print(keyword.kwlist)"
   ]
  },
  {
   "cell_type": "markdown",
   "id": "6b70c9dc",
   "metadata": {},
   "source": [
    "To check whether a keyword is valid or not we can use `keyword.iskeyword()` and pass the word as a string."
   ]
  },
  {
   "cell_type": "code",
   "execution_count": 6,
   "id": "20748310",
   "metadata": {},
   "outputs": [
    {
     "name": "stdout",
     "output_type": "stream",
     "text": [
      "True\n"
     ]
    }
   ],
   "source": [
    "import keyword\n",
    "print(keyword.iskeyword(\"def\"))\n"
   ]
  },
  {
   "cell_type": "code",
   "execution_count": 7,
   "id": "7994332b",
   "metadata": {},
   "outputs": [
    {
     "data": {
      "text/plain": [
       "True"
      ]
     },
     "execution_count": 7,
     "metadata": {},
     "output_type": "execute_result"
    }
   ],
   "source": [
    "keyword.iskeyword(\"for\")"
   ]
  },
  {
   "cell_type": "code",
   "execution_count": 8,
   "id": "231dafde",
   "metadata": {},
   "outputs": [
    {
     "name": "stdout",
     "output_type": "stream",
     "text": [
      "a\n",
      "b\n",
      "c\n"
     ]
    }
   ],
   "source": [
    "lst = [\"for\", 'if', \"a\",\"b\",\"c\"]\n",
    "\n",
    "import keyword\n",
    "for i in lst:\n",
    "    if keyword.iskeyword(i) == True:\n",
    "        continue\n",
    "    else:\n",
    "        print(i)"
   ]
  },
  {
   "cell_type": "markdown",
   "id": "f5782d41",
   "metadata": {},
   "source": [
    "### True, False and None\n",
    "\n",
    "True and False are the boolean values and are used to compare the result of expression evaluations. True and False are most often used in conditional statements."
   ]
  },
  {
   "cell_type": "code",
   "execution_count": 9,
   "id": "3ab9fe9f",
   "metadata": {},
   "outputs": [
    {
     "name": "stdout",
     "output_type": "stream",
     "text": [
      "Hello\n"
     ]
    }
   ],
   "source": [
    "var = True\n",
    "if var == True:\n",
    "    print(\"Hello\")\n",
    "    "
   ]
  },
  {
   "cell_type": "markdown",
   "id": "45574941",
   "metadata": {},
   "source": [
    "### None : \n",
    "\n",
    "`None is a constant that has no value and has its own NoneType data type. None has no value and is not a zero value or is not an empty string or a false value`"
   ]
  },
  {
   "cell_type": "code",
   "execution_count": 12,
   "id": "fc55014d",
   "metadata": {},
   "outputs": [
    {
     "data": {
      "text/plain": [
       "False"
      ]
     },
     "execution_count": 12,
     "metadata": {},
     "output_type": "execute_result"
    }
   ],
   "source": [
    "None == False"
   ]
  },
  {
   "cell_type": "code",
   "execution_count": 13,
   "id": "faf03037",
   "metadata": {},
   "outputs": [
    {
     "data": {
      "text/plain": [
       "False"
      ]
     },
     "execution_count": 13,
     "metadata": {},
     "output_type": "execute_result"
    }
   ],
   "source": [
    "None == 0"
   ]
  },
  {
   "cell_type": "code",
   "execution_count": 14,
   "id": "69ed6f1b",
   "metadata": {},
   "outputs": [
    {
     "data": {
      "text/plain": [
       "False"
      ]
     },
     "execution_count": 14,
     "metadata": {},
     "output_type": "execute_result"
    }
   ],
   "source": [
    "None == \"\""
   ]
  },
  {
   "cell_type": "markdown",
   "id": "e16f8ed4",
   "metadata": {},
   "source": [
    "`None has different applications and among them, we can use it to assign a new value to a variable by checking if it’s a none or, also assigns none to a variable to erase the contents of it.`"
   ]
  },
  {
   "cell_type": "code",
   "execution_count": 15,
   "id": "15303ead",
   "metadata": {},
   "outputs": [
    {
     "name": "stdout",
     "output_type": "stream",
     "text": [
      "Python\n"
     ]
    }
   ],
   "source": [
    "var_1 = None\n",
    "\n",
    "if var_1 == None:\n",
    "    var_1 = \"Python\"\n",
    "    \n",
    "print(var_1)"
   ]
  },
  {
   "cell_type": "markdown",
   "id": "5d4e5d8c",
   "metadata": {},
   "source": [
    "`None is also frequently used to represent the absence of the value, as when default arguments are not passed to a function. In the below example, even if we don’t pass arg_2 value while calling the function, the code is executed without throwing any error.`"
   ]
  },
  {
   "cell_type": "code",
   "execution_count": 16,
   "id": "dcfcfcb3",
   "metadata": {},
   "outputs": [
    {
     "name": "stdout",
     "output_type": "stream",
     "text": [
      "5\n"
     ]
    }
   ],
   "source": [
    "def func(arg_1, arg_2 = None):\n",
    "    print(arg_1)\n",
    "    \n",
    "func(5)"
   ]
  },
  {
   "cell_type": "markdown",
   "id": "0265953b",
   "metadata": {},
   "source": [
    "### as :\n",
    "`as is known as alias keyword and is useful when we import any module or file and use it with an alias name.`"
   ]
  },
  {
   "cell_type": "code",
   "execution_count": 17,
   "id": "f037e419",
   "metadata": {},
   "outputs": [],
   "source": [
    "from bs4 import BeautifulSoup as BS"
   ]
  },
  {
   "cell_type": "markdown",
   "id": "187a9b7f",
   "metadata": {},
   "source": [
    "### and, or, not\n",
    "`and, or, not are used as logical operators and they return True or False based on the values of the operands in the expression.`\n",
    "\n",
    "\n",
    "* and returns True only if both operands are of True value or else it returns false\n",
    "\n",
    "\n",
    "* or returns False if both operands are False or else returns True every time\n",
    "\n",
    "\n",
    "* not is a complement operators that returns opposite of the value that we pass"
   ]
  },
  {
   "cell_type": "code",
   "execution_count": 19,
   "id": "11a768ac",
   "metadata": {},
   "outputs": [
    {
     "data": {
      "text/plain": [
       "False"
      ]
     },
     "execution_count": 19,
     "metadata": {},
     "output_type": "execute_result"
    }
   ],
   "source": [
    "True and False "
   ]
  },
  {
   "cell_type": "code",
   "execution_count": 20,
   "id": "ce16bb66",
   "metadata": {},
   "outputs": [
    {
     "data": {
      "text/plain": [
       "True"
      ]
     },
     "execution_count": 20,
     "metadata": {},
     "output_type": "execute_result"
    }
   ],
   "source": [
    "True or False  "
   ]
  },
  {
   "cell_type": "code",
   "execution_count": 21,
   "id": "da4c9b09",
   "metadata": {},
   "outputs": [
    {
     "data": {
      "text/plain": [
       "True"
      ]
     },
     "execution_count": 21,
     "metadata": {},
     "output_type": "execute_result"
    }
   ],
   "source": [
    "True and True  "
   ]
  },
  {
   "cell_type": "code",
   "execution_count": 22,
   "id": "72efcf94",
   "metadata": {},
   "outputs": [
    {
     "data": {
      "text/plain": [
       "False"
      ]
     },
     "execution_count": 22,
     "metadata": {},
     "output_type": "execute_result"
    }
   ],
   "source": [
    "not True  "
   ]
  },
  {
   "cell_type": "markdown",
   "id": "b3341dba",
   "metadata": {},
   "source": [
    "### assert\n",
    "\n",
    "`assert is a keyword that is used for debugging. we can use a condition to evaluate the expression if it is True or False. If the expression is True then the program executes correctly or else an assertion error will be raised.`"
   ]
  },
  {
   "cell_type": "code",
   "execution_count": 23,
   "id": "b0bb52ed",
   "metadata": {},
   "outputs": [],
   "source": [
    "var_1 = \"Python\"\n",
    "\n",
    "assert \"P\" in var_1\n"
   ]
  },
  {
   "cell_type": "code",
   "execution_count": 24,
   "id": "7cc10f5e",
   "metadata": {},
   "outputs": [
    {
     "ename": "AssertionError",
     "evalue": "",
     "output_type": "error",
     "traceback": [
      "\u001b[1;31m---------------------------------------------------------------------------\u001b[0m",
      "\u001b[1;31mAssertionError\u001b[0m                            Traceback (most recent call last)",
      "Input \u001b[1;32mIn [24]\u001b[0m, in \u001b[0;36m<cell line: 3>\u001b[1;34m()\u001b[0m\n\u001b[0;32m      1\u001b[0m var \u001b[38;5;241m=\u001b[39m \u001b[38;5;241m5\u001b[39m\n\u001b[1;32m----> 3\u001b[0m \u001b[38;5;28;01massert\u001b[39;00m var \u001b[38;5;241m<\u001b[39m\u001b[38;5;241m3\u001b[39m\n",
      "\u001b[1;31mAssertionError\u001b[0m: "
     ]
    }
   ],
   "source": [
    "var = 5\n",
    "\n",
    "assert var <3 "
   ]
  },
  {
   "cell_type": "code",
   "execution_count": 26,
   "id": "bcf33386",
   "metadata": {},
   "outputs": [
    {
     "ename": "AssertionError",
     "evalue": "Not less than 3",
     "output_type": "error",
     "traceback": [
      "\u001b[1;31m---------------------------------------------------------------------------\u001b[0m",
      "\u001b[1;31mAssertionError\u001b[0m                            Traceback (most recent call last)",
      "Input \u001b[1;32mIn [26]\u001b[0m, in \u001b[0;36m<cell line: 3>\u001b[1;34m()\u001b[0m\n\u001b[0;32m      1\u001b[0m var \u001b[38;5;241m=\u001b[39m \u001b[38;5;241m5\u001b[39m\n\u001b[1;32m----> 3\u001b[0m \u001b[38;5;28;01massert\u001b[39;00m var \u001b[38;5;241m<\u001b[39m\u001b[38;5;241m3\u001b[39m , \u001b[38;5;124m\"\u001b[39m\u001b[38;5;124mNot less than 3\u001b[39m\u001b[38;5;124m\"\u001b[39m\n",
      "\u001b[1;31mAssertionError\u001b[0m: Not less than 3"
     ]
    }
   ],
   "source": [
    "var = 5\n",
    "\n",
    "assert var <3 , \"Not less than 3\""
   ]
  },
  {
   "cell_type": "markdown",
   "id": "1d784ba1",
   "metadata": {},
   "source": [
    "### break, continue\n",
    "\n",
    "`break and continue keywords are used in iterations. When we implement a loop it iterates till the condition evaluates to True. We can implement a break and continue to manipulate the iteration.`\n",
    "\n",
    "`The main function of break is to stop the iteration and exit the loop. Consider a situation if there is a necessity of terminating the loop if the required state is achieved then a break statement can be implemented.`"
   ]
  },
  {
   "cell_type": "code",
   "execution_count": 27,
   "id": "a1e05e45",
   "metadata": {},
   "outputs": [
    {
     "name": "stdout",
     "output_type": "stream",
     "text": [
      "['p', 'y', 't']\n"
     ]
    }
   ],
   "source": [
    "var = \"python\"\n",
    "list = []\n",
    "for i in var:\n",
    "    if len(list)>=3:\n",
    "        break\n",
    "    list+=[i] \n",
    "print(list)\n",
    "\n"
   ]
  },
  {
   "cell_type": "code",
   "execution_count": 28,
   "id": "b395329b",
   "metadata": {},
   "outputs": [
    {
     "name": "stdout",
     "output_type": "stream",
     "text": [
      "['p', 'y', 't']\n"
     ]
    }
   ],
   "source": [
    "var = \"python\"\n",
    "list = []\n",
    "for i in var:\n",
    "    if len(list)>=3:\n",
    "        break\n",
    "    list= list + [i] \n",
    "print(list)"
   ]
  },
  {
   "cell_type": "markdown",
   "id": "c9f23ab5",
   "metadata": {},
   "source": [
    "Similarly, continue can be used to pass the control to the next iteration, without causing any interruption to the control flow. The statements that are next to continue are not executed in that particular iteration."
   ]
  },
  {
   "cell_type": "code",
   "execution_count": 29,
   "id": "2e20df35",
   "metadata": {},
   "outputs": [
    {
     "name": "stdout",
     "output_type": "stream",
     "text": [
      "['p', 'y', 't', 'o', 'n']\n"
     ]
    }
   ],
   "source": [
    "var = \"python\"\n",
    "list = []\n",
    "for i in var:\n",
    "    if i == \"h\":\n",
    "        continue\n",
    "    list+=[i] \n",
    "print(list)"
   ]
  },
  {
   "cell_type": "markdown",
   "id": "08a19942",
   "metadata": {},
   "source": [
    "###  async and await\n",
    "`async and await belong to \"asyncio class\" and are used for performing asynchronous programming. This comes needy when there is a requirement of executing another task while waiting for the completion of the current task.`\n",
    "\n",
    "\n",
    "This is not a multi-threading concept rather it’s a concept of asynchronous programming. Using an async keyword allows a task to be considered for asynchronous programming and await keyword helps to wait till a particular task is completed.\n",
    "\n",
    "In the below example func_1 is executed and when it sleeps for 3 seconds in this free time func_2 is executed. Also, the await keyword waits for that particular line of code to be completely executed."
   ]
  },
  {
   "cell_type": "code",
   "execution_count": 33,
   "id": "8f05c90a",
   "metadata": {},
   "outputs": [
    {
     "ename": "RuntimeError",
     "evalue": "asyncio.run() cannot be called from a running event loop",
     "output_type": "error",
     "traceback": [
      "\u001b[1;31m---------------------------------------------------------------------------\u001b[0m",
      "\u001b[1;31mRuntimeError\u001b[0m                              Traceback (most recent call last)",
      "Input \u001b[1;32mIn [33]\u001b[0m, in \u001b[0;36m<cell line: 12>\u001b[1;34m()\u001b[0m\n\u001b[0;32m      9\u001b[0m     \u001b[38;5;28mprint\u001b[39m(\u001b[38;5;241m1\u001b[39m)\n\u001b[0;32m     10\u001b[0m     \u001b[38;5;28mprint\u001b[39m(\u001b[38;5;241m2\u001b[39m)\n\u001b[1;32m---> 12\u001b[0m \u001b[43masyncio\u001b[49m\u001b[38;5;241;43m.\u001b[39;49m\u001b[43mrun\u001b[49m\u001b[43m(\u001b[49m\u001b[43mfunc_1\u001b[49m\u001b[43m(\u001b[49m\u001b[43m)\u001b[49m\u001b[43m)\u001b[49m\n",
      "File \u001b[1;32m~\\AppData\\Local\\Programs\\Python\\Python39\\lib\\asyncio\\runners.py:33\u001b[0m, in \u001b[0;36mrun\u001b[1;34m(main, debug)\u001b[0m\n\u001b[0;32m      9\u001b[0m \u001b[38;5;124;03m\"\"\"Execute the coroutine and return the result.\u001b[39;00m\n\u001b[0;32m     10\u001b[0m \n\u001b[0;32m     11\u001b[0m \u001b[38;5;124;03mThis function runs the passed coroutine, taking care of\u001b[39;00m\n\u001b[1;32m   (...)\u001b[0m\n\u001b[0;32m     30\u001b[0m \u001b[38;5;124;03m    asyncio.run(main())\u001b[39;00m\n\u001b[0;32m     31\u001b[0m \u001b[38;5;124;03m\"\"\"\u001b[39;00m\n\u001b[0;32m     32\u001b[0m \u001b[38;5;28;01mif\u001b[39;00m events\u001b[38;5;241m.\u001b[39m_get_running_loop() \u001b[38;5;129;01mis\u001b[39;00m \u001b[38;5;129;01mnot\u001b[39;00m \u001b[38;5;28;01mNone\u001b[39;00m:\n\u001b[1;32m---> 33\u001b[0m     \u001b[38;5;28;01mraise\u001b[39;00m \u001b[38;5;167;01mRuntimeError\u001b[39;00m(\n\u001b[0;32m     34\u001b[0m         \u001b[38;5;124m\"\u001b[39m\u001b[38;5;124masyncio.run() cannot be called from a running event loop\u001b[39m\u001b[38;5;124m\"\u001b[39m)\n\u001b[0;32m     36\u001b[0m \u001b[38;5;28;01mif\u001b[39;00m \u001b[38;5;129;01mnot\u001b[39;00m coroutines\u001b[38;5;241m.\u001b[39miscoroutine(main):\n\u001b[0;32m     37\u001b[0m     \u001b[38;5;28;01mraise\u001b[39;00m \u001b[38;5;167;01mValueError\u001b[39;00m(\u001b[38;5;124m\"\u001b[39m\u001b[38;5;124ma coroutine was expected, got \u001b[39m\u001b[38;5;132;01m{!r}\u001b[39;00m\u001b[38;5;124m\"\u001b[39m\u001b[38;5;241m.\u001b[39mformat(main))\n",
      "\u001b[1;31mRuntimeError\u001b[0m: asyncio.run() cannot be called from a running event loop"
     ]
    }
   ],
   "source": [
    "import asyncio\n",
    "async def func_1():\n",
    "    task = asyncio.create_task(func_2())\n",
    "    print(\"A\")\n",
    "    await asyncio.sleep(3)\n",
    "    print(\"B\")\n",
    "\n",
    "async def func_2():\n",
    "    print(1)\n",
    "    print(2)\n",
    "    \n",
    "asyncio.run(func_1())"
   ]
  },
  {
   "cell_type": "markdown",
   "id": "439376d3",
   "metadata": {},
   "source": [
    "###  Class\n",
    "A class is a code template for creating objects. In python, a class is created by the keyword class. Classes contain data and functions which is the concept of Object-Oriented Programming ( OOPS )."
   ]
  },
  {
   "cell_type": "code",
   "execution_count": 34,
   "id": "89bfa258",
   "metadata": {},
   "outputs": [],
   "source": [
    "class A:\n",
    "    pass"
   ]
  },
  {
   "cell_type": "markdown",
   "id": "21f6ee3b",
   "metadata": {},
   "source": [
    "###  def\n",
    "In Python, defining the function works as follows. def is the keyword for defining a function. The function name is followed by a parameter(s) in (). The colon: signals the start of the function body, which is marked by an indentation."
   ]
  },
  {
   "cell_type": "code",
   "execution_count": 35,
   "id": "56c9bbc3",
   "metadata": {},
   "outputs": [],
   "source": [
    "def func():\n",
    "    pass"
   ]
  },
  {
   "cell_type": "markdown",
   "id": "a290e79e",
   "metadata": {},
   "source": [
    "###  del\n",
    "Everything in Python is an object. del is used to remove or delete an object. Once the object is deleted only the reference is deleted and the memory remains the same if there are any other references to it. If there are no references then the memory is also deleted."
   ]
  },
  {
   "cell_type": "code",
   "execution_count": 36,
   "id": "af075983",
   "metadata": {},
   "outputs": [
    {
     "name": "stderr",
     "output_type": "stream",
     "text": [
      "C:\\Users\\ankit.shukla\\AppData\\Local\\Programs\\Python\\Python39\\lib\\genericpath.py:77: RuntimeWarning: coroutine 'func_1' was never awaited\n",
      "  m = tuple(map(os.fspath, m))\n",
      "RuntimeWarning: Enable tracemalloc to get the object allocation traceback\n"
     ]
    },
    {
     "ename": "NameError",
     "evalue": "name 'a' is not defined",
     "output_type": "error",
     "traceback": [
      "\u001b[1;31m---------------------------------------------------------------------------\u001b[0m",
      "\u001b[1;31mNameError\u001b[0m                                 Traceback (most recent call last)",
      "Input \u001b[1;32mIn [36]\u001b[0m, in \u001b[0;36m<cell line: 4>\u001b[1;34m()\u001b[0m\n\u001b[0;32m      1\u001b[0m a \u001b[38;5;241m=\u001b[39m \u001b[38;5;241m8\u001b[39m\n\u001b[0;32m      3\u001b[0m \u001b[38;5;28;01mdel\u001b[39;00m a\n\u001b[1;32m----> 4\u001b[0m \u001b[38;5;28mprint\u001b[39m(\u001b[43ma\u001b[49m)\n",
      "\u001b[1;31mNameError\u001b[0m: name 'a' is not defined"
     ]
    }
   ],
   "source": [
    "a = 8\n",
    "\n",
    "del a\n",
    "print(a)"
   ]
  },
  {
   "cell_type": "markdown",
   "id": "76dc592e",
   "metadata": {},
   "source": [
    "### if, else, elif\n",
    "if, else are used as conditional statements. Based on the evaluation of the expression these conditional statements are executed.\n",
    "\n",
    "* if the If conidtion is True then else is not executed\n",
    "\n",
    "* if the If conidtion is False then else gets executed\n",
    "\n",
    "Apart from if and else, there is one more clause known as else-if( elif ). Python will check for the condition in the If clause and if it returns False then the python checks for the true condition in the elif clause."
   ]
  },
  {
   "cell_type": "code",
   "execution_count": 37,
   "id": "f60652fb",
   "metadata": {},
   "outputs": [
    {
     "name": "stdout",
     "output_type": "stream",
     "text": [
      "elif got executed\n"
     ]
    }
   ],
   "source": [
    "var = \"python\"\n",
    "if var == \"hello\":\n",
    "    print(\"if got executed\")\n",
    "elif var == \"python\":\n",
    "    print(\"elif got executed\")\n",
    "else:\n",
    "    print(\"else got executed\")"
   ]
  },
  {
   "cell_type": "markdown",
   "id": "480296c5",
   "metadata": {},
   "source": [
    "###  try, except, raise\n",
    "\n",
    "`try and except blocks are used to handle the errors that might be caused due to logical or syntactical errors. If the code in try block throws an error then it is efficiently handled by the except block. Multiple declarations of except block make the program handle the exception efficiently.`\n"
   ]
  },
  {
   "cell_type": "code",
   "execution_count": 38,
   "id": "5638b9cc",
   "metadata": {},
   "outputs": [
    {
     "name": "stdout",
     "output_type": "stream",
     "text": [
      "Exception\n"
     ]
    }
   ],
   "source": [
    "def div(num):\n",
    "    try:\n",
    "        result = 1/num\n",
    "    except:\n",
    "        print('Exception')\n",
    "\n",
    "div(0)"
   ]
  },
  {
   "cell_type": "markdown",
   "id": "5e287c9c",
   "metadata": {},
   "source": [
    "`There are numerous exceptions such as ZeroDivisionError, ArithmeticException, BaseException, BufferError, etc.,`\n",
    "\n",
    "`raise is used for raising the exception if there are any errors or something we might not be able to handle.`\n",
    "\n"
   ]
  },
  {
   "cell_type": "code",
   "execution_count": 39,
   "id": "3dc50b7f",
   "metadata": {},
   "outputs": [
    {
     "ename": "ZeroDivisionError",
     "evalue": "cannot divide",
     "output_type": "error",
     "traceback": [
      "\u001b[1;31m---------------------------------------------------------------------------\u001b[0m",
      "\u001b[1;31mZeroDivisionError\u001b[0m                         Traceback (most recent call last)",
      "Input \u001b[1;32mIn [39]\u001b[0m, in \u001b[0;36m<cell line: 2>\u001b[1;34m()\u001b[0m\n\u001b[0;32m      1\u001b[0m var \u001b[38;5;241m=\u001b[39m \u001b[38;5;241m0\u001b[39m\n\u001b[0;32m      2\u001b[0m \u001b[38;5;28;01mif\u001b[39;00m var \u001b[38;5;241m==\u001b[39m \u001b[38;5;241m0\u001b[39m:\n\u001b[1;32m----> 3\u001b[0m     \u001b[38;5;28;01mraise\u001b[39;00m \u001b[38;5;167;01mZeroDivisionError\u001b[39;00m(\u001b[38;5;124m'\u001b[39m\u001b[38;5;124mcannot divide\u001b[39m\u001b[38;5;124m'\u001b[39m)\n",
      "\u001b[1;31mZeroDivisionError\u001b[0m: cannot divide"
     ]
    }
   ],
   "source": [
    "var = 0\n",
    "if var == 0:\n",
    "    raise ZeroDivisionError('cannot divide')"
   ]
  },
  {
   "cell_type": "code",
   "execution_count": 42,
   "id": "9ec08857",
   "metadata": {},
   "outputs": [
    {
     "ename": "ValueError",
     "evalue": "less than 20",
     "output_type": "error",
     "traceback": [
      "\u001b[1;31m---------------------------------------------------------------------------\u001b[0m",
      "\u001b[1;31mValueError\u001b[0m                                Traceback (most recent call last)",
      "Input \u001b[1;32mIn [42]\u001b[0m, in \u001b[0;36m<cell line: 2>\u001b[1;34m()\u001b[0m\n\u001b[0;32m      1\u001b[0m var \u001b[38;5;241m=\u001b[39m \u001b[38;5;241m10\u001b[39m\n\u001b[0;32m      2\u001b[0m \u001b[38;5;28;01mif\u001b[39;00m var \u001b[38;5;241m<\u001b[39m\u001b[38;5;241m20\u001b[39m:\n\u001b[1;32m----> 3\u001b[0m     \u001b[38;5;28;01mraise\u001b[39;00m \u001b[38;5;167;01mValueError\u001b[39;00m(\u001b[38;5;124m\"\u001b[39m\u001b[38;5;124mless than 20\u001b[39m\u001b[38;5;124m\"\u001b[39m)\n",
      "\u001b[1;31mValueError\u001b[0m: less than 20"
     ]
    }
   ],
   "source": [
    "var = 10\n",
    "if var <20:\n",
    "    raise ValueError(\"less than 20\")"
   ]
  },
  {
   "cell_type": "markdown",
   "id": "cdf366a6",
   "metadata": {},
   "source": [
    "### finally\n",
    "finally is used along with try-except blocks and gets executed independent of try and except block statements. Even if the exception is handling or not does not matter in finally block, it will be executed."
   ]
  },
  {
   "cell_type": "code",
   "execution_count": 43,
   "id": "aeb5a95b",
   "metadata": {},
   "outputs": [
    {
     "name": "stdout",
     "output_type": "stream",
     "text": [
      "Exception\n",
      "got executed\n"
     ]
    }
   ],
   "source": [
    "def div(num):\n",
    "    try:\n",
    "        result = 1/num\n",
    "    except:\n",
    "        print('Exception')\n",
    "    finally:\n",
    "        print(\"got executed\")\n",
    "div(0)"
   ]
  },
  {
   "cell_type": "markdown",
   "id": "7a9315c5",
   "metadata": {},
   "source": [
    "### for\n",
    "for keyword is used to implement for loop on a sequence. Every time the loop iterates, we can store the values of the sequence and perform operations.\n",
    "\n",
    "\n",
    "This for loop keeps getting executed for the number of items in the sequence and this sequence can be list, tuple, or string, etc.,"
   ]
  },
  {
   "cell_type": "code",
   "execution_count": 44,
   "id": "4491c2cf",
   "metadata": {},
   "outputs": [
    {
     "name": "stdout",
     "output_type": "stream",
     "text": [
      "p\n",
      "y\n",
      "t\n",
      "h\n",
      "o\n",
      "n\n"
     ]
    }
   ],
   "source": [
    "for i in \"python\":\n",
    "    print(i)"
   ]
  },
  {
   "cell_type": "markdown",
   "id": "6f68b956",
   "metadata": {},
   "source": [
    "### While\n",
    "While is also a loop that keeps on iterating multiple times as long as the condition is evaluated to True.\n",
    "\n",
    "Unlike for loop, the while loop does not require any sequence or an iterator. The only thing we need to pass is a condition with a value modifying object that keeps on changing during the course of an iteration."
   ]
  },
  {
   "cell_type": "code",
   "execution_count": 45,
   "id": "9dd8f2bb",
   "metadata": {},
   "outputs": [
    {
     "name": "stdout",
     "output_type": "stream",
     "text": [
      "0\n",
      "1\n",
      "2\n",
      "3\n",
      "4\n"
     ]
    }
   ],
   "source": [
    "a = 0\n",
    "while a<5:\n",
    "    print(a)\n",
    "    a+=1"
   ]
  },
  {
   "cell_type": "markdown",
   "id": "e374ab39",
   "metadata": {},
   "source": [
    "### from, import\n",
    "`from and import are reserved keywords that are used to load any object into the program. This object can be a file, module, function, or else a variable.`\n",
    "\n",
    "\n",
    "When we don’t have to declare an object that is already declared but present in another file then we use from, import it to load it into the current program."
   ]
  },
  {
   "cell_type": "code",
   "execution_count": 46,
   "id": "84be90ce",
   "metadata": {},
   "outputs": [],
   "source": [
    "from bs4 import BeautifulSoup"
   ]
  },
  {
   "cell_type": "markdown",
   "id": "30558efe",
   "metadata": {},
   "source": [
    "### global\n",
    "To change the scope of the local variable into a global we can define the variable as a global variable using the global keyword. Once it is defined as a global variable we can use it across other parts of the program.\n"
   ]
  },
  {
   "cell_type": "code",
   "execution_count": 49,
   "id": "276a23d7",
   "metadata": {},
   "outputs": [
    {
     "name": "stdout",
     "output_type": "stream",
     "text": [
      "inside function a :  hi\n",
      "Outside function a :  hi\n"
     ]
    }
   ],
   "source": [
    "a = 5\n",
    "def func1():\n",
    "    global a\n",
    "    a = \"hi\"\n",
    "    print(\"inside function a : \", a)\n",
    "    \n",
    "func1()\n",
    "print(\"Outside function a : \", a)"
   ]
  },
  {
   "cell_type": "markdown",
   "id": "9514385d",
   "metadata": {},
   "source": [
    "#### in\n",
    "in is a keyword that belongs to membership operators. It helps us check the contents of an object and returns True if a value is present in the object or else returns False.\n",
    "\n",
    "We can use in to check whether the given object present in the given collection. (It may be String, List, Set, Tuple OR Dict)."
   ]
  },
  {
   "cell_type": "code",
   "execution_count": 50,
   "id": "05da4ed2",
   "metadata": {},
   "outputs": [
    {
     "name": "stdout",
     "output_type": "stream",
     "text": [
      "True\n"
     ]
    }
   ],
   "source": [
    "a = [1, 2]\n",
    "b = 2\n",
    "print(b in a)\n"
   ]
  },
  {
   "cell_type": "markdown",
   "id": "c16f0da3",
   "metadata": {},
   "source": [
    "### is\n",
    "is keyword to comparing the identity of the objects, and these objects are the variables that act as a reference to a memory object. If two identifiers point to the same memory object then they are equal in terms of reference and their reference id is the same."
   ]
  },
  {
   "cell_type": "code",
   "execution_count": 51,
   "id": "376fa2c2",
   "metadata": {},
   "outputs": [
    {
     "name": "stdout",
     "output_type": "stream",
     "text": [
      "True\n"
     ]
    }
   ],
   "source": [
    "a = \"hi\"\n",
    "b = \"hi\"\n",
    "print(a is b)"
   ]
  },
  {
   "cell_type": "markdown",
   "id": "d18a2558",
   "metadata": {},
   "source": [
    "### nonlocal\n",
    "The keyword nonlocal is used to manipulate the variables from a nested function. When a variable is declared inside a function, the scope of the variable is bound within the function itself and its own nested functions if there is any."
   ]
  },
  {
   "cell_type": "code",
   "execution_count": 52,
   "id": "57f8b02a",
   "metadata": {},
   "outputs": [
    {
     "name": "stdout",
     "output_type": "stream",
     "text": [
      "5\n",
      "5\n"
     ]
    }
   ],
   "source": [
    "def func():\n",
    "    var = 5\n",
    "    def func_nest():\n",
    "        print(var)\n",
    "    func_nest()\n",
    "    print(var)\n",
    "func()"
   ]
  },
  {
   "cell_type": "markdown",
   "id": "8b3fac2e",
   "metadata": {},
   "source": [
    "`If we try to manipulate the var from func_nest() its value is bound within the nested function itself, so instead of declaring the variable we can make the variable nonlocal which makes var to be working in the function and its nested ones.`"
   ]
  },
  {
   "cell_type": "code",
   "execution_count": 1,
   "id": "9becbae4",
   "metadata": {},
   "outputs": [],
   "source": [
    "## restart the kernel"
   ]
  },
  {
   "cell_type": "code",
   "execution_count": 2,
   "id": "2ca2b9a3",
   "metadata": {},
   "outputs": [
    {
     "name": "stdout",
     "output_type": "stream",
     "text": [
      "func_nest :- hello\n",
      "func_outer :- hello\n"
     ]
    }
   ],
   "source": [
    "def func_outer():\n",
    "    var = 5\n",
    "    def func_nest():\n",
    "        nonlocal var\n",
    "        var = \"hello\"\n",
    "        print(\"func_nest :-\", var)\n",
    "        \n",
    "    func_nest()\n",
    "    print(\"func_outer :-\", var)\n",
    "    \n",
    "func_outer()"
   ]
  },
  {
   "cell_type": "code",
   "execution_count": 3,
   "id": "c044a843",
   "metadata": {},
   "outputs": [
    {
     "ename": "NameError",
     "evalue": "name 'var' is not defined",
     "output_type": "error",
     "traceback": [
      "\u001b[1;31m---------------------------------------------------------------------------\u001b[0m",
      "\u001b[1;31mNameError\u001b[0m                                 Traceback (most recent call last)",
      "Input \u001b[1;32mIn [3]\u001b[0m, in \u001b[0;36m<cell line: 1>\u001b[1;34m()\u001b[0m\n\u001b[1;32m----> 1\u001b[0m \u001b[38;5;28mprint\u001b[39m(\u001b[43mvar\u001b[49m)\n",
      "\u001b[1;31mNameError\u001b[0m: name 'var' is not defined"
     ]
    }
   ],
   "source": [
    "print(var)"
   ]
  },
  {
   "cell_type": "markdown",
   "id": "3927432b",
   "metadata": {},
   "source": [
    "Thus making var to be available to functions inside the func_outer() and not available to functions outside the funct_outer() nonlocal provides flexibility to operate.\n",
    "\n",
    "### pass\n",
    "pass is a statement that does nothing. It just informs the python interpreter that the pass statement is a line of code.\n",
    "\n",
    "`The main difference between a comment and a pass is that the interpreter completely ignores the commented line, whereas the pass is not ignored.` This provides us to declare functions or loops or any conditions to be declared without writing any statements inside them.\n",
    "\n",
    "\n",
    "In the below example of func() after indentation, the interpreter expects a line of code, but since the comment line is ignored by the interpreter, it is assumed there is no line of code after indent and throws an error."
   ]
  },
  {
   "cell_type": "code",
   "execution_count": 4,
   "id": "b0741468",
   "metadata": {},
   "outputs": [
    {
     "ename": "IndentationError",
     "evalue": "expected an indented block (3391677833.py, line 3)",
     "output_type": "error",
     "traceback": [
      "\u001b[1;36m  Input \u001b[1;32mIn [4]\u001b[1;36m\u001b[0m\n\u001b[1;33m    func()\u001b[0m\n\u001b[1;37m    ^\u001b[0m\n\u001b[1;31mIndentationError\u001b[0m\u001b[1;31m:\u001b[0m expected an indented block\n"
     ]
    }
   ],
   "source": [
    "def func():\n",
    "    # comment\n",
    "func()"
   ]
  },
  {
   "cell_type": "code",
   "execution_count": 6,
   "id": "4ba70b4f",
   "metadata": {},
   "outputs": [],
   "source": [
    "def func():\n",
    "    pass\n",
    "func()"
   ]
  },
  {
   "cell_type": "code",
   "execution_count": 7,
   "id": "8d45d76e",
   "metadata": {},
   "outputs": [],
   "source": [
    "for i in range(45):\n",
    "    pass"
   ]
  },
  {
   "cell_type": "markdown",
   "id": "080286cb",
   "metadata": {},
   "source": [
    "### return\n",
    "\n",
    "`The return statement is used at the last block of a function and makes the interpreter exit the function. If the return statement is not used then the function returns none automatically unless we are intent to print anything inside the function.`"
   ]
  },
  {
   "cell_type": "code",
   "execution_count": 9,
   "id": "2ffa1254",
   "metadata": {},
   "outputs": [
    {
     "name": "stdout",
     "output_type": "stream",
     "text": [
      "None\n"
     ]
    }
   ],
   "source": [
    "def func():\n",
    "    a = 5\n",
    "print(func())"
   ]
  },
  {
   "cell_type": "markdown",
   "id": "02c64946",
   "metadata": {},
   "source": [
    "The scenario could be different if we declare the return statement so that we can pass the manipulations performed by the function to the main program and use it in other parts of the program.\n"
   ]
  },
  {
   "cell_type": "code",
   "execution_count": 10,
   "id": "a51a069a",
   "metadata": {},
   "outputs": [
    {
     "name": "stdout",
     "output_type": "stream",
     "text": [
      "5\n"
     ]
    }
   ],
   "source": [
    "def func():\n",
    "    a = 5\n",
    "    return a\n",
    "print(func())"
   ]
  },
  {
   "cell_type": "markdown",
   "id": "3b62c7de",
   "metadata": {},
   "source": [
    "### yield\n",
    "\n",
    "`In python, the purpose yield is the same as the return statement. Both of them return something to the main block of the program which can be used for further operations.`"
   ]
  },
  {
   "cell_type": "code",
   "execution_count": 11,
   "id": "d27bdf04",
   "metadata": {},
   "outputs": [
    {
     "data": {
      "text/plain": [
       "5"
      ]
     },
     "execution_count": 11,
     "metadata": {},
     "output_type": "execute_result"
    }
   ],
   "source": [
    "a = 5\n",
    "\n",
    "def func():\n",
    "    return a\n",
    "func()"
   ]
  },
  {
   "cell_type": "code",
   "execution_count": 13,
   "id": "be79a94d",
   "metadata": {},
   "outputs": [
    {
     "data": {
      "text/plain": [
       "<generator object func2 at 0x000002264CB653C0>"
      ]
     },
     "execution_count": 13,
     "metadata": {},
     "output_type": "execute_result"
    }
   ],
   "source": [
    "a = 5\n",
    "def func2():\n",
    "    yield a\n",
    "    \n",
    "func2()"
   ]
  },
  {
   "cell_type": "markdown",
   "id": "07872381",
   "metadata": {},
   "source": [
    "`But the main difference is that yield returns a generator object that can be iterated. Also, yield is not an ending statement of the function, we can declare multiple yield statements.`\n",
    "\n",
    "The generated object needs to be converted into a list and iterated using for loop to print each item."
   ]
  },
  {
   "cell_type": "code",
   "execution_count": 14,
   "id": "1b9104fa",
   "metadata": {},
   "outputs": [
    {
     "name": "stdout",
     "output_type": "stream",
     "text": [
      "6\n",
      "7\n"
     ]
    }
   ],
   "source": [
    "a = 5\n",
    "def func():\n",
    "    yield a + 1\n",
    "    yield a + 2\n",
    "    \n",
    "    \n",
    "obj = list(func())\n",
    "\n",
    "for i in obj:\n",
    "    print(i)"
   ]
  },
  {
   "cell_type": "code",
   "execution_count": 15,
   "id": "4c11f5af",
   "metadata": {},
   "outputs": [
    {
     "name": "stdout",
     "output_type": "stream",
     "text": [
      "6\n",
      "7\n"
     ]
    }
   ],
   "source": [
    "a = 5\n",
    "def func():\n",
    "    yield a + 1\n",
    "    yield a + 2\n",
    "    \n",
    "    \n",
    "obj = func()\n",
    "\n",
    "for i in obj:\n",
    "    print(i)"
   ]
  },
  {
   "cell_type": "code",
   "execution_count": 24,
   "id": "cd37c1c3",
   "metadata": {},
   "outputs": [],
   "source": [
    "def func3(num):\n",
    "    for i in range(num):\n",
    "        yield i\n",
    "    \n",
    "\n",
    "    \n",
    "a = func3(10)\n",
    "    "
   ]
  },
  {
   "cell_type": "code",
   "execution_count": 25,
   "id": "7ff15774",
   "metadata": {},
   "outputs": [
    {
     "name": "stdout",
     "output_type": "stream",
     "text": [
      "0 1 2 3 4 5 6 7 8 9 "
     ]
    }
   ],
   "source": [
    "for i in a:\n",
    "    print(i, end = \" \")"
   ]
  },
  {
   "cell_type": "markdown",
   "id": "f80995c1",
   "metadata": {},
   "source": [
    "### lambda\n",
    "`Lambda is used to create an anonymous function. Just like list comprehension lambda is an inline function, and its syntax is`\n",
    "\n",
    "`lambda arguments : expression`\n",
    "\n",
    "Using the argument we pass the expression is evaluated and the result can be stored in a variable. We can pass multiple arguments separated by comma( , )."
   ]
  },
  {
   "cell_type": "code",
   "execution_count": 26,
   "id": "4e8dbaf3",
   "metadata": {},
   "outputs": [
    {
     "name": "stdout",
     "output_type": "stream",
     "text": [
      "3.0\n"
     ]
    }
   ],
   "source": [
    "a = lambda x, y : x/y\n",
    "\n",
    "print(a(6,2))"
   ]
  },
  {
   "cell_type": "markdown",
   "id": "6a33d10f",
   "metadata": {},
   "source": [
    "### list keyword python\n",
    "\n",
    "`The list is an ordered and mutable sequence that can be used for storing, updating, deleting items. We can convert any data into a list by using the list() keyword.`\n",
    "\n",
    "Thus if an object is not able to be iterated but has some sequence of items then a list can be used to convert it into a list and access the items.\n",
    "\n",
    "For example, when we use the map() method to get user input it returns a map object that is encoded. To access the items we can convert them into a list by using list() keyword."
   ]
  },
  {
   "cell_type": "code",
   "execution_count": 28,
   "id": "f62ff6fb",
   "metadata": {},
   "outputs": [
    {
     "name": "stdout",
     "output_type": "stream",
     "text": [
      "1 2 3 4 5\n",
      "<map object at 0x000002264A34F730>\n"
     ]
    }
   ],
   "source": [
    "a = map(int, input().split(\" \"))\n",
    "print(a)"
   ]
  },
  {
   "cell_type": "code",
   "execution_count": 30,
   "id": "9acb662b",
   "metadata": {},
   "outputs": [
    {
     "name": "stdout",
     "output_type": "stream",
     "text": [
      "1 2 3 4 5\n",
      "[1, 2, 3, 4, 5]\n"
     ]
    }
   ],
   "source": [
    "# but when we cast in list\n",
    "\n",
    "a = list(map(int, input().split(\" \")))\n",
    "print(a)\n",
    "         "
   ]
  },
  {
   "cell_type": "code",
   "execution_count": 31,
   "id": "751a7b11",
   "metadata": {},
   "outputs": [
    {
     "name": "stdout",
     "output_type": "stream",
     "text": [
      "1 2 3 4\n",
      "['1', '2', '3', '4']\n"
     ]
    }
   ],
   "source": [
    "# without map\n",
    "\n",
    "a = input().split(\" \")\n",
    "print(a)"
   ]
  },
  {
   "cell_type": "code",
   "execution_count": 33,
   "id": "ee745a2e",
   "metadata": {},
   "outputs": [
    {
     "name": "stdout",
     "output_type": "stream",
     "text": [
      "1, 2, 3, 4\n",
      "[1.0, 2.0, 3.0, 4.0]\n"
     ]
    }
   ],
   "source": [
    "# but when we cast in list\n",
    "\n",
    "a = list(map(float, input().split(\",\")))\n",
    "print(a)\n",
    "         "
   ]
  },
  {
   "cell_type": "markdown",
   "id": "70382feb",
   "metadata": {},
   "source": [
    "### next\n",
    "`The next is a reserved word in python and returns the items of the iterable one by one, each time we declare next. It can be used when we don’t know the length of the iterable sequence.`\n",
    "\n",
    "The next() accepts the iterable sequence and a default value. This default value will be printed if the end of the sequence has reached.\n",
    "\n",
    "`next(iterable, default_value)`\n",
    "\n",
    "Each time we use the next keyword it prints the next value."
   ]
  },
  {
   "cell_type": "code",
   "execution_count": 34,
   "id": "8e087a48",
   "metadata": {},
   "outputs": [
    {
     "name": "stdout",
     "output_type": "stream",
     "text": [
      "2\n",
      "3\n",
      "4\n"
     ]
    }
   ],
   "source": [
    "mylist = iter([2,3,4,5,\"Python\"])\n",
    "print(next(mylist))\n",
    "print(next(mylist))\n",
    "print(next(mylist))"
   ]
  },
  {
   "cell_type": "markdown",
   "id": "92cddeab",
   "metadata": {},
   "source": [
    "###  super\n",
    "\n",
    "When a class is inherited some or all the behavior of the class will be inherited. Thus the inherited class is the subclass and the latter class is the parent class.\n",
    "\n",
    "The super keyword is an OOPS concept that provides accessing the methods from the parent class into the child class.\n",
    "\n",
    "`super() keyword allows us to access the methods of the parent class and provides features such as **\"Method Resolution Order( MRO )\"** used while multiple inheritances which is useful to get the information of how the methods are being called one after the other.`"
   ]
  },
  {
   "cell_type": "code",
   "execution_count": 35,
   "id": "8496acee",
   "metadata": {},
   "outputs": [
    {
     "name": "stdout",
     "output_type": "stream",
     "text": [
      "parent__init__\n",
      "child__init__\n"
     ]
    }
   ],
   "source": [
    "class Parent_class:\n",
    "    def __init__(self):\n",
    "        print(\"parent__init__\")\n",
    "        \n",
    "class Child_class(Parent_class):\n",
    "    def __init__(self):\n",
    "        super().__init__()\n",
    "        print(\"child__init__\")\n",
    "        \n",
    "        \n",
    "        \n",
    "obj = Child_class()\n"
   ]
  },
  {
   "cell_type": "markdown",
   "id": "44694608",
   "metadata": {},
   "source": [
    "### id\n",
    "\n",
    "`id() is an in-built function in python that returns the identity of the object. This is a memory address value of the object. This id value can be the same if two objects have a non-overlapping lifetime.`"
   ]
  },
  {
   "cell_type": "code",
   "execution_count": 1,
   "id": "27e247a4",
   "metadata": {},
   "outputs": [
    {
     "name": "stdout",
     "output_type": "stream",
     "text": [
      "2395349609040 2395349609040\n"
     ]
    }
   ],
   "source": [
    "a = 10\n",
    "b = 10\n",
    "print(id(a), id(b))"
   ]
  },
  {
   "cell_type": "code",
   "execution_count": 2,
   "id": "81818e53",
   "metadata": {},
   "outputs": [
    {
     "data": {
      "text/plain": [
       "True"
      ]
     },
     "execution_count": 2,
     "metadata": {},
     "output_type": "execute_result"
    }
   ],
   "source": [
    "a == b"
   ]
  },
  {
   "cell_type": "code",
   "execution_count": 3,
   "id": "a2c13212",
   "metadata": {},
   "outputs": [
    {
     "data": {
      "text/plain": [
       "True"
      ]
     },
     "execution_count": 3,
     "metadata": {},
     "output_type": "execute_result"
    }
   ],
   "source": [
    "a is b"
   ]
  },
  {
   "cell_type": "code",
   "execution_count": 4,
   "id": "a4788947",
   "metadata": {},
   "outputs": [
    {
     "name": "stdout",
     "output_type": "stream",
     "text": [
      "2395431533168 2395431533168\n",
      "True\n"
     ]
    }
   ],
   "source": [
    "a = \"Hello\"\n",
    "b = \"Hello\"\n",
    "print(id(a), id(b))\n",
    "print(a is b)"
   ]
  },
  {
   "cell_type": "code",
   "execution_count": 5,
   "id": "17445ddb",
   "metadata": {},
   "outputs": [
    {
     "name": "stdout",
     "output_type": "stream",
     "text": [
      "2395430743472 2395431532208\n",
      "False\n"
     ]
    }
   ],
   "source": [
    "a = \"Hello World\"\n",
    "b = \"Hello World\"\n",
    "print(id(a), id(b))\n",
    "print(a is b)"
   ]
  },
  {
   "cell_type": "code",
   "execution_count": null,
   "id": "c10e2250",
   "metadata": {},
   "outputs": [],
   "source": []
  },
  {
   "cell_type": "markdown",
   "id": "9278613b",
   "metadata": {},
   "source": [
    "###  end\n",
    "\n",
    "`end is associated with python print statement and is used to end the print statement using the parameter specified. end keyword is present in python 3 and above.`\n",
    "\n",
    "By default, python ends the print statement with a new line, if end is defined it ends with the parameter that we pass into it"
   ]
  },
  {
   "cell_type": "code",
   "execution_count": 6,
   "id": "4145bf8e",
   "metadata": {},
   "outputs": [
    {
     "name": "stdout",
     "output_type": "stream",
     "text": [
      "hii@hello\n"
     ]
    }
   ],
   "source": [
    "print(\"hii\", end = \"@\")\n",
    "print(\"hello\")"
   ]
  },
  {
   "cell_type": "code",
   "execution_count": 7,
   "id": "02f6745b",
   "metadata": {},
   "outputs": [
    {
     "name": "stdout",
     "output_type": "stream",
     "text": [
      "Hello World\n"
     ]
    }
   ],
   "source": [
    "print(\"Hello\" , end = \" \")\n",
    "print(\"World\")"
   ]
  },
  {
   "cell_type": "markdown",
   "id": "b89362c3",
   "metadata": {},
   "source": [
    "### iter\n",
    "\n",
    "`iter is used to convert an iterable item into an iterator. It returns an iterable object that can be iterated one item at a time. Thus the iterable object can be passed into a for loop for printing the items.`\n",
    "\n",
    "For converting an object into iterable we can use the iter() keyword, which takes the object as a parameter. We can also print each item using the next keyword."
   ]
  },
  {
   "cell_type": "code",
   "execution_count": 40,
   "id": "78accbc9",
   "metadata": {},
   "outputs": [
    {
     "name": "stdout",
     "output_type": "stream",
     "text": [
      "1\n",
      "2\n"
     ]
    }
   ],
   "source": [
    "my_iter= iter([1,2,3,4])\n",
    "\n",
    "print(next(my_iter))\n",
    "print(next(my_iter))"
   ]
  },
  {
   "cell_type": "markdown",
   "id": "f8a585c1",
   "metadata": {},
   "source": [
    "### map\n",
    "\n",
    "`The map in python is used to convert all the items in an iterable object into the format without using the for loop which converts the items one by one through iteration.`\n",
    "\n",
    "\n",
    "`map() takes a function that can be applied over an object and an iterable object that has the items to pass them to a function. Thus it processes all the items and transforms them using the function we specify.`\n",
    "\n",
    "It returns map objects as output in an encoded format and can be converted into other objects using the list() or set() methods."
   ]
  },
  {
   "cell_type": "code",
   "execution_count": 46,
   "id": "fcecda31",
   "metadata": {},
   "outputs": [
    {
     "name": "stdout",
     "output_type": "stream",
     "text": [
      "<map object at 0x000002264C7776A0>\n"
     ]
    }
   ],
   "source": [
    "map_object = map(int, ['1', '2', '3', '4'])\n",
    "print(map_object)"
   ]
  },
  {
   "cell_type": "code",
   "execution_count": 47,
   "id": "2b1283a0",
   "metadata": {},
   "outputs": [
    {
     "name": "stdout",
     "output_type": "stream",
     "text": [
      "[1, 2, 3, 4]\n"
     ]
    }
   ],
   "source": [
    "print(list(map_object))"
   ]
  },
  {
   "cell_type": "code",
   "execution_count": 48,
   "id": "ca212aff",
   "metadata": {},
   "outputs": [
    {
     "name": "stdout",
     "output_type": "stream",
     "text": [
      "set()\n"
     ]
    }
   ],
   "source": [
    "print(set(map_object))"
   ]
  },
  {
   "cell_type": "markdown",
   "id": "74d05aa3",
   "metadata": {},
   "source": [
    "#### What keyword is used to restart a script in python?\n",
    "\n",
    "`We need to pass sys.argv into os.execl() to restart the script in python.`"
   ]
  },
  {
   "cell_type": "code",
   "execution_count": null,
   "id": "55b5eced",
   "metadata": {},
   "outputs": [
    {
     "name": "stdout",
     "output_type": "stream",
     "text": [
      "Do you want to restart this program ? type yes or no - yes\n"
     ]
    }
   ],
   "source": [
    "import sys\n",
    "import os\n",
    "\n",
    "def restart_script():\n",
    "    python = sys.executable\n",
    "    os.execl(python, python, * sys.argv)\n",
    "\n",
    "if __name__ == \"__main__\":\n",
    "    action = input(\"Do you want to restart this program ? type yes or no - \")\n",
    "    if action.lower().strip() in \"y yes\".split():\n",
    "        restart_script()"
   ]
  },
  {
   "cell_type": "markdown",
   "id": "901ae57c",
   "metadata": {},
   "source": [
    "### what is eval keyword python\n",
    "\n",
    "`eval() keyword is an in-built method that evaluates a string that we have passed as a parameter. It converts the string into an expression and returns the result of the expression as output.`\n",
    "\n",
    "#### The following steps are performed by eval:-\n",
    "\n",
    "* Parse expression\n",
    "* Compile to byte code\n",
    "* Evaluate it as python expression\n",
    "* Return the result of the evaluation"
   ]
  },
  {
   "cell_type": "code",
   "execution_count": 28,
   "id": "555aec3f",
   "metadata": {},
   "outputs": [
    {
     "name": "stdout",
     "output_type": "stream",
     "text": [
      "25\n",
      "hiihii\n"
     ]
    }
   ],
   "source": [
    "print(eval(\"5 * 5\"))       \n",
    "print(eval(\" 2 * 'hii' \"))"
   ]
  },
  {
   "cell_type": "code",
   "execution_count": 29,
   "id": "3431b59e",
   "metadata": {},
   "outputs": [
    {
     "name": "stdout",
     "output_type": "stream",
     "text": [
      "32\n"
     ]
    }
   ],
   "source": [
    "print(eval(\"12+10+10\"))"
   ]
  },
  {
   "cell_type": "code",
   "execution_count": 30,
   "id": "65adea20",
   "metadata": {},
   "outputs": [
    {
     "name": "stdout",
     "output_type": "stream",
     "text": [
      "36\n"
     ]
    }
   ],
   "source": [
    "print(eval(\"12*3\"))"
   ]
  },
  {
   "cell_type": "markdown",
   "id": "7e5d66c3",
   "metadata": {},
   "source": [
    "#### What is the use dir keyword python?\n",
    "\n",
    "`dir() is an in-built method in python that accepts an object as a parameter and returns all the attributes that are associated with an object.`\n",
    "\n",
    "The object that we pass might be a list, string, or any random object, the dir returns all the methods, properties, and built-in properties."
   ]
  },
  {
   "cell_type": "code",
   "execution_count": 31,
   "id": "db654757",
   "metadata": {},
   "outputs": [
    {
     "name": "stdout",
     "output_type": "stream",
     "text": [
      "['__class__', '__delattr__', '__dir__', '__doc__', '__eq__', '__format__', '__ge__', '__getattribute__', '__gt__', '__hash__', '__init__', '__init_subclass__', '__iter__', '__le__', '__lt__', '__ne__', '__new__', '__next__', '__reduce__', '__reduce_ex__', '__repr__', '__setattr__', '__sizeof__', '__str__', '__subclasshook__']\n"
     ]
    }
   ],
   "source": [
    "my_list = [1, 2, 3]\n",
    "print(dir(a))"
   ]
  },
  {
   "cell_type": "markdown",
   "id": "10dabe54",
   "metadata": {},
   "source": [
    "### Why event keyword in function python?\n",
    "\n",
    "`event keyword is used for communication between two threads, where one thread signals an event and the other thread wait for the signal.`\n",
    "\n",
    "This process is most useful in Thread Synchronization. So, one thread that is meant to produce the signal produces it, then the waiting thread gets activated.\n",
    "\n",
    "#### What is the buffer keyword python?\n",
    "\n",
    "`For obvious reasons, the machine with 8GB RAM cannot open a file that takes 20GB of RAM. So we mention the buffer size while opening such files, so that machine exactly loads parts of file size equal to the buffer, one by one.`\n",
    "\n",
    "\n",
    "`In the below code we are opening 2000000000 bytes( 2GB ) of file at once and processing it, once its done, the machine loads the next 2GB of file.`"
   ]
  },
  {
   "cell_type": "markdown",
   "id": "37faf190",
   "metadata": {},
   "source": [
    "`with open(\"file.csv\", buffering = 2000000000) as file`"
   ]
  },
  {
   "cell_type": "markdown",
   "id": "8614c3c1",
   "metadata": {},
   "source": [
    "#### What is keyword .abspath python?\n",
    "\n",
    "The `.abspath()` is used to know the absolute version of the path. For example, we can know the exact folder location of a file and print it.\n",
    "\n",
    "The absolute path belongs to the os module and takes the file name as a parameter."
   ]
  },
  {
   "cell_type": "code",
   "execution_count": 32,
   "id": "c2a3c162",
   "metadata": {},
   "outputs": [
    {
     "data": {
      "text/plain": [
       "'E:\\\\Python_world\\\\Python_Revision-main\\\\myfile.txt'"
      ]
     },
     "execution_count": 32,
     "metadata": {},
     "output_type": "execute_result"
    }
   ],
   "source": [
    "import os\n",
    "\n",
    "os.path.abspath(\"myfile.txt\")"
   ]
  },
  {
   "cell_type": "markdown",
   "id": "ff36aa8e",
   "metadata": {},
   "source": [
    "#### What is python compile keyword?\n",
    "\n",
    "Python compile is used when we have python source code in a string format and would like to convert that into a code block. In such cases, we pass the string into the compile().\n",
    "\n",
    "`The parameters that we pass are the source which can be a string or anything that needs to be converted, file name, and mode (exec, eval, etc.,).`"
   ]
  },
  {
   "cell_type": "code",
   "execution_count": 36,
   "id": "8d168fd0",
   "metadata": {},
   "outputs": [],
   "source": [
    "f = compile(\"[6] + [1, 2, 3, 4]\", \"[]\", \"exec\")\n",
    "exec(f)"
   ]
  },
  {
   "cell_type": "markdown",
   "id": "956d0e80",
   "metadata": {},
   "source": [
    "#### What is the python sys.argv keyword arguments\n",
    "\n",
    "`sys.argv() is an in-built method to print all the arguments that we pass into a program. It belongs to sys mobile and we can perform operations using the argument that we pass such as addition, subtraction, etc.,`\n",
    "\n",
    "While printing it returns the first argument as file name and then the arguments."
   ]
  },
  {
   "cell_type": "code",
   "execution_count": 39,
   "id": "77cfa009",
   "metadata": {},
   "outputs": [
    {
     "name": "stdout",
     "output_type": "stream",
     "text": [
      "['C:\\\\Users\\\\ankit.shukla\\\\AppData\\\\Local\\\\Programs\\\\Python\\\\Python39\\\\lib\\\\site-packages\\\\ipykernel_launcher.py', '-f', 'C:\\\\Users\\\\ankit.shukla\\\\AppData\\\\Roaming\\\\jupyter\\\\runtime\\\\kernel-8a6ecfa6-9f53-422a-a431-1cb1f2a0dbc2.json']\n"
     ]
    },
    {
     "ename": "NameError",
     "evalue": "name 'args' is not defined",
     "output_type": "error",
     "traceback": [
      "\u001b[1;31m---------------------------------------------------------------------------\u001b[0m",
      "\u001b[1;31mNameError\u001b[0m                                 Traceback (most recent call last)",
      "Input \u001b[1;32mIn [39]\u001b[0m, in \u001b[0;36m<cell line: 4>\u001b[1;34m()\u001b[0m\n\u001b[0;32m      3\u001b[0m \u001b[38;5;28mprint\u001b[39m(sys\u001b[38;5;241m.\u001b[39margv)\n\u001b[0;32m      4\u001b[0m \u001b[38;5;28;01mif\u001b[39;00m \u001b[38;5;28mlen\u001b[39m(sys\u001b[38;5;241m.\u001b[39margv)\u001b[38;5;241m>\u001b[39m\u001b[38;5;241m1\u001b[39m:\n\u001b[1;32m----> 5\u001b[0m     add \u001b[38;5;241m=\u001b[39m \u001b[38;5;28;43msum\u001b[39;49m\u001b[43m(\u001b[49m\u001b[43margs\u001b[49m\u001b[43m \u001b[49m\u001b[38;5;28;43;01mfor\u001b[39;49;00m\u001b[43m \u001b[49m\u001b[43mi\u001b[49m\u001b[43m \u001b[49m\u001b[38;5;129;43;01min\u001b[39;49;00m\u001b[43m \u001b[49m\u001b[43msys\u001b[49m\u001b[38;5;241;43m.\u001b[39;49m\u001b[43margv\u001b[49m\u001b[43m \u001b[49m\u001b[38;5;28;43;01mif\u001b[39;49;00m\u001b[43m \u001b[49m\u001b[43margs\u001b[49m\u001b[38;5;241;43m.\u001b[39;49m\u001b[43misdigit\u001b[49m\u001b[43m(\u001b[49m\u001b[43m)\u001b[49m\u001b[43m)\u001b[49m\n\u001b[0;32m      6\u001b[0m     \u001b[38;5;28mprint\u001b[39m(add)\n",
      "Input \u001b[1;32mIn [39]\u001b[0m, in \u001b[0;36m<genexpr>\u001b[1;34m(.0)\u001b[0m\n\u001b[0;32m      3\u001b[0m \u001b[38;5;28mprint\u001b[39m(sys\u001b[38;5;241m.\u001b[39margv)\n\u001b[0;32m      4\u001b[0m \u001b[38;5;28;01mif\u001b[39;00m \u001b[38;5;28mlen\u001b[39m(sys\u001b[38;5;241m.\u001b[39margv)\u001b[38;5;241m>\u001b[39m\u001b[38;5;241m1\u001b[39m:\n\u001b[1;32m----> 5\u001b[0m     add \u001b[38;5;241m=\u001b[39m \u001b[38;5;28msum\u001b[39m(args \u001b[38;5;28;01mfor\u001b[39;00m i \u001b[38;5;129;01min\u001b[39;00m sys\u001b[38;5;241m.\u001b[39margv \u001b[38;5;28;01mif\u001b[39;00m \u001b[43margs\u001b[49m\u001b[38;5;241m.\u001b[39misdigit())\n\u001b[0;32m      6\u001b[0m     \u001b[38;5;28mprint\u001b[39m(add)\n",
      "\u001b[1;31mNameError\u001b[0m: name 'args' is not defined"
     ]
    }
   ],
   "source": [
    "# save it as demo.py and run : python demo.py 1 2 3 \n",
    "import sys\n",
    "print(sys.argv)\n",
    "if len(sys.argv)>1:\n",
    "    add = sum(args for i in sys.argv if args.isdigit())\n",
    "    print(add)"
   ]
  },
  {
   "cell_type": "markdown",
   "id": "f4d026e1",
   "metadata": {},
   "source": [
    "### What is the use of the python help keyword?\n",
    "In python, help is an in-built method that is used to get information about a module or any object that we pass into it. We can pass the object or class or keyword or anything that has been already predefined.\n",
    "\n",
    "It returns the complete documentation regarding the object that we pass."
   ]
  },
  {
   "cell_type": "code",
   "execution_count": 40,
   "id": "6860f440",
   "metadata": {},
   "outputs": [
    {
     "name": "stdout",
     "output_type": "stream",
     "text": [
      "Function definitions\n",
      "********************\n",
      "\n",
      "A function definition defines a user-defined function object (see\n",
      "section The standard type hierarchy):\n",
      "\n",
      "   funcdef                   ::= [decorators] \"def\" funcname \"(\" [parameter_list] \")\"\n",
      "               [\"->\" expression] \":\" suite\n",
      "   decorators                ::= decorator+\n",
      "   decorator                 ::= \"@\" assignment_expression NEWLINE\n",
      "   parameter_list            ::= defparameter (\",\" defparameter)* \",\" \"/\" [\",\" [parameter_list_no_posonly]]\n",
      "                        | parameter_list_no_posonly\n",
      "   parameter_list_no_posonly ::= defparameter (\",\" defparameter)* [\",\" [parameter_list_starargs]]\n",
      "                                 | parameter_list_starargs\n",
      "   parameter_list_starargs   ::= \"*\" [parameter] (\",\" defparameter)* [\",\" [\"**\" parameter [\",\"]]]\n",
      "                               | \"**\" parameter [\",\"]\n",
      "   parameter                 ::= identifier [\":\" expression]\n",
      "   defparameter              ::= parameter [\"=\" expression]\n",
      "   funcname                  ::= identifier\n",
      "\n",
      "A function definition is an executable statement.  Its execution binds\n",
      "the function name in the current local namespace to a function object\n",
      "(a wrapper around the executable code for the function).  This\n",
      "function object contains a reference to the current global namespace\n",
      "as the global namespace to be used when the function is called.\n",
      "\n",
      "The function definition does not execute the function body; this gets\n",
      "executed only when the function is called. [2]\n",
      "\n",
      "A function definition may be wrapped by one or more *decorator*\n",
      "expressions. Decorator expressions are evaluated when the function is\n",
      "defined, in the scope that contains the function definition.  The\n",
      "result must be a callable, which is invoked with the function object\n",
      "as the only argument. The returned value is bound to the function name\n",
      "instead of the function object.  Multiple decorators are applied in\n",
      "nested fashion. For example, the following code\n",
      "\n",
      "   @f1(arg)\n",
      "   @f2\n",
      "   def func(): pass\n",
      "\n",
      "is roughly equivalent to\n",
      "\n",
      "   def func(): pass\n",
      "   func = f1(arg)(f2(func))\n",
      "\n",
      "except that the original function is not temporarily bound to the name\n",
      "\"func\".\n",
      "\n",
      "Changed in version 3.9: Functions may be decorated with any valid\n",
      "\"assignment_expression\". Previously, the grammar was much more\n",
      "restrictive; see **PEP 614** for details.\n",
      "\n",
      "When one or more *parameters* have the form *parameter* \"=\"\n",
      "*expression*, the function is said to have “default parameter values.”\n",
      "For a parameter with a default value, the corresponding *argument* may\n",
      "be omitted from a call, in which case the parameter’s default value is\n",
      "substituted.  If a parameter has a default value, all following\n",
      "parameters up until the “\"*\"” must also have a default value — this is\n",
      "a syntactic restriction that is not expressed by the grammar.\n",
      "\n",
      "**Default parameter values are evaluated from left to right when the\n",
      "function definition is executed.** This means that the expression is\n",
      "evaluated once, when the function is defined, and that the same “pre-\n",
      "computed” value is used for each call.  This is especially important\n",
      "to understand when a default parameter is a mutable object, such as a\n",
      "list or a dictionary: if the function modifies the object (e.g. by\n",
      "appending an item to a list), the default value is in effect modified.\n",
      "This is generally not what was intended.  A way around this is to use\n",
      "\"None\" as the default, and explicitly test for it in the body of the\n",
      "function, e.g.:\n",
      "\n",
      "   def whats_on_the_telly(penguin=None):\n",
      "       if penguin is None:\n",
      "           penguin = []\n",
      "       penguin.append(\"property of the zoo\")\n",
      "       return penguin\n",
      "\n",
      "Function call semantics are described in more detail in section Calls.\n",
      "A function call always assigns values to all parameters mentioned in\n",
      "the parameter list, either from positional arguments, from keyword\n",
      "arguments, or from default values.  If the form “\"*identifier\"” is\n",
      "present, it is initialized to a tuple receiving any excess positional\n",
      "parameters, defaulting to the empty tuple. If the form\n",
      "“\"**identifier\"” is present, it is initialized to a new ordered\n",
      "mapping receiving any excess keyword arguments, defaulting to a new\n",
      "empty mapping of the same type.  Parameters after “\"*\"” or\n",
      "“\"*identifier\"” are keyword-only parameters and may only be passed by\n",
      "keyword arguments.  Parameters before “\"/\"” are positional-only\n",
      "parameters and may only be passed by positional arguments.\n",
      "\n",
      "Changed in version 3.8: The \"/\" function parameter syntax may be used\n",
      "to indicate positional-only parameters. See **PEP 570** for details.\n",
      "\n",
      "Parameters may have an *annotation* of the form “\": expression\"”\n",
      "following the parameter name.  Any parameter may have an annotation,\n",
      "even those of the form \"*identifier\" or \"**identifier\".  Functions may\n",
      "have “return” annotation of the form “\"-> expression\"” after the\n",
      "parameter list.  These annotations can be any valid Python expression.\n",
      "The presence of annotations does not change the semantics of a\n",
      "function.  The annotation values are available as values of a\n",
      "dictionary keyed by the parameters’ names in the \"__annotations__\"\n",
      "attribute of the function object.  If the \"annotations\" import from\n",
      "\"__future__\" is used, annotations are preserved as strings at runtime\n",
      "which enables postponed evaluation.  Otherwise, they are evaluated\n",
      "when the function definition is executed.  In this case annotations\n",
      "may be evaluated in a different order than they appear in the source\n",
      "code.\n",
      "\n",
      "It is also possible to create anonymous functions (functions not bound\n",
      "to a name), for immediate use in expressions.  This uses lambda\n",
      "expressions, described in section Lambdas.  Note that the lambda\n",
      "expression is merely a shorthand for a simplified function definition;\n",
      "a function defined in a “\"def\"” statement can be passed around or\n",
      "assigned to another name just like a function defined by a lambda\n",
      "expression.  The “\"def\"” form is actually more powerful since it\n",
      "allows the execution of multiple statements and annotations.\n",
      "\n",
      "**Programmer’s note:** Functions are first-class objects.  A “\"def\"”\n",
      "statement executed inside a function definition defines a local\n",
      "function that can be returned or passed around.  Free variables used\n",
      "in the nested function can access the local variables of the function\n",
      "containing the def.  See section Naming and binding for details.\n",
      "\n",
      "See also:\n",
      "\n",
      "  **PEP 3107** - Function Annotations\n",
      "     The original specification for function annotations.\n",
      "\n",
      "  **PEP 484** - Type Hints\n",
      "     Definition of a standard meaning for annotations: type hints.\n",
      "\n",
      "  **PEP 526** - Syntax for Variable Annotations\n",
      "     Ability to type hint variable declarations, including class\n",
      "     variables and instance variables\n",
      "\n",
      "  **PEP 563** - Postponed Evaluation of Annotations\n",
      "     Support for forward references within annotations by preserving\n",
      "     annotations in a string form at runtime instead of eager\n",
      "     evaluation.\n",
      "\n"
     ]
    }
   ],
   "source": [
    "help(\"def\")"
   ]
  },
  {
   "cell_type": "code",
   "execution_count": null,
   "id": "5cc5e034",
   "metadata": {},
   "outputs": [],
   "source": []
  },
  {
   "cell_type": "markdown",
   "id": "0c3bce8e",
   "metadata": {},
   "source": [
    "### In python, how to check if string is a reserved keyword\n",
    "We can pass the string into keyword.iskeyword() method which returns True if the string is a keyword, else it returns False."
   ]
  },
  {
   "cell_type": "code",
   "execution_count": 1,
   "id": "c2d1288b",
   "metadata": {},
   "outputs": [
    {
     "name": "stdout",
     "output_type": "stream",
     "text": [
      "True\n"
     ]
    }
   ],
   "source": [
    "import keyword\n",
    "print(keyword.iskeyword(\"def\"))"
   ]
  },
  {
   "cell_type": "markdown",
   "id": "ed4ce410",
   "metadata": {},
   "source": [
    "#### How to use a keyword to end a program in python?\n",
    "\n",
    "`To end a keyword we can use sys.exit() which can be imported from the python sys module. Wherever we use sys.exit it terminates the program at that point.`"
   ]
  },
  {
   "cell_type": "code",
   "execution_count": 2,
   "id": "5130405e",
   "metadata": {},
   "outputs": [
    {
     "name": "stdout",
     "output_type": "stream",
     "text": [
      "program started\n"
     ]
    },
    {
     "ename": "SystemExit",
     "evalue": "",
     "output_type": "error",
     "traceback": [
      "An exception has occurred, use %tb to see the full traceback.\n",
      "\u001b[1;31mSystemExit\u001b[0m\n"
     ]
    },
    {
     "name": "stderr",
     "output_type": "stream",
     "text": [
      "C:\\Users\\ankit.shukla\\AppData\\Local\\Programs\\Python\\Python39\\lib\\site-packages\\IPython\\core\\interactiveshell.py:3369: UserWarning: To exit: use 'exit', 'quit', or Ctrl-D.\n",
      "  warn(\"To exit: use 'exit', 'quit', or Ctrl-D.\", stacklevel=1)\n"
     ]
    }
   ],
   "source": [
    "import sys\n",
    "print(\"program started\")\n",
    "sys.exit()\n",
    "print(\"last line\")\n"
   ]
  },
  {
   "cell_type": "markdown",
   "id": "555b10e3",
   "metadata": {},
   "source": [
    "### What is the use of the self keyword in python?\n",
    "\n",
    "`We can access the class variables using the instance of the class. To use these class variables inside any method in the class we can use the instance of the class such as self.class_var.`"
   ]
  },
  {
   "cell_type": "code",
   "execution_count": 6,
   "id": "86206e09",
   "metadata": {},
   "outputs": [
    {
     "name": "stdout",
     "output_type": "stream",
     "text": [
      "5\n"
     ]
    }
   ],
   "source": [
    "class ABC:\n",
    "    class_var = 5\n",
    "    def func(self):\n",
    "        print(self.class_var)\n",
    "        \n",
    "ins = ABC()\n",
    "ins.func()\n"
   ]
  },
  {
   "cell_type": "markdown",
   "id": "038830bc",
   "metadata": {},
   "source": [
    "### What is the python keyword for an approximation of a real number?\n",
    "\n",
    "There are several keywords in python for approximating a number based on the requirement we can choose any of them. Such as round(), floor(), ceil(), etc.,"
   ]
  },
  {
   "cell_type": "code",
   "execution_count": 8,
   "id": "722fa18c",
   "metadata": {},
   "outputs": [
    {
     "name": "stdout",
     "output_type": "stream",
     "text": [
      "3\n",
      "2\n",
      "3\n"
     ]
    }
   ],
   "source": [
    "from math import floor, ceil\n",
    "print(round(2.8))\n",
    "print(floor(2.8))\n",
    "print(ceil(2.2))\n"
   ]
  },
  {
   "cell_type": "markdown",
   "id": "6a2c4ff3",
   "metadata": {},
   "source": [
    "### What is the difference between next and iter keyword in python?\n",
    "\n",
    "`In python, the next() keyword is used to print the elements of the sequence. Whereas the iter() is used to convert an object into an iterator. This iterable object can then be passed into next() to print the elements.`"
   ]
  },
  {
   "cell_type": "code",
   "execution_count": 13,
   "id": "6afd0a5c",
   "metadata": {},
   "outputs": [
    {
     "name": "stdout",
     "output_type": "stream",
     "text": [
      "input :  1 2 3 4 5\n",
      "\n",
      "output : \n",
      "1\n",
      "2\n",
      "3\n"
     ]
    }
   ],
   "source": [
    "print(\"input : \", end= \" \")\n",
    "a = map(int, input().split(\" \"))\n",
    "print() # just for new line \n",
    "print(\"output : \")\n",
    "a = iter(a)\n",
    "print(next(a))\n",
    "print(next(a))\n",
    "print(next(a))"
   ]
  },
  {
   "cell_type": "markdown",
   "id": "704a5395",
   "metadata": {},
   "source": [
    "#### What keyword negates a boolean value in python?\n",
    "In python negating a value is just assigning an opposite value. For negating a boolean value we can use not keyword followed by a boolean value."
   ]
  },
  {
   "cell_type": "code",
   "execution_count": 14,
   "id": "a343c6bc",
   "metadata": {},
   "outputs": [
    {
     "data": {
      "text/plain": [
       "False"
      ]
     },
     "execution_count": 14,
     "metadata": {},
     "output_type": "execute_result"
    }
   ],
   "source": [
    "not True"
   ]
  },
  {
   "cell_type": "code",
   "execution_count": 15,
   "id": "35f05174",
   "metadata": {},
   "outputs": [
    {
     "data": {
      "text/plain": [
       "True"
      ]
     },
     "execution_count": 15,
     "metadata": {},
     "output_type": "execute_result"
    }
   ],
   "source": [
    "not False"
   ]
  },
  {
   "cell_type": "markdown",
   "id": "333d8a6b",
   "metadata": {},
   "source": [
    "#### What is character keyword in python?\n",
    "\n",
    "\n",
    "`Character keyword in python is represented using the chr() method and represents the string that is equal to the ASCII value we pass into the method. It does operation opposite to that performed by ord().`"
   ]
  },
  {
   "cell_type": "code",
   "execution_count": 16,
   "id": "de45f95a",
   "metadata": {},
   "outputs": [
    {
     "data": {
      "text/plain": [
       "'8'"
      ]
     },
     "execution_count": 16,
     "metadata": {},
     "output_type": "execute_result"
    }
   ],
   "source": [
    "chr(56)"
   ]
  },
  {
   "cell_type": "code",
   "execution_count": 18,
   "id": "4923023f",
   "metadata": {},
   "outputs": [
    {
     "data": {
      "text/plain": [
       "'N'"
      ]
     },
     "execution_count": 18,
     "metadata": {},
     "output_type": "execute_result"
    }
   ],
   "source": [
    "chr(78)"
   ]
  },
  {
   "cell_type": "code",
   "execution_count": 19,
   "id": "82b5832e",
   "metadata": {},
   "outputs": [],
   "source": [
    "import string"
   ]
  },
  {
   "cell_type": "code",
   "execution_count": 20,
   "id": "107bdb4b",
   "metadata": {},
   "outputs": [
    {
     "name": "stdout",
     "output_type": "stream",
     "text": [
      "a b c d e f g h i j k l m n o p q r s t u v w x y z "
     ]
    }
   ],
   "source": [
    "for i in string.ascii_lowercase:\n",
    "    print(i , end = \" \")"
   ]
  },
  {
   "cell_type": "code",
   "execution_count": 21,
   "id": "7961ad59",
   "metadata": {},
   "outputs": [
    {
     "data": {
      "text/plain": [
       "'\\x01'"
      ]
     },
     "execution_count": 21,
     "metadata": {},
     "output_type": "execute_result"
    }
   ],
   "source": [
    "chr(1)"
   ]
  },
  {
   "cell_type": "code",
   "execution_count": 24,
   "id": "a49f5280",
   "metadata": {},
   "outputs": [
    {
     "name": "stdout",
     "output_type": "stream",
     "text": [
      "0  :  \u0000\n",
      "1  :  \u0001\n",
      "2  :  \u0002\n",
      "3  :  \u0003\n",
      "4  :  \u0004\n",
      "5  :  \u0005\n",
      "6  :  \u0006\n",
      "7  :  \u0007\n",
      "8  :  \b\n",
      "9  :  \t\n"
     ]
    }
   ],
   "source": [
    "for i in string.digits:\n",
    "    print(i, \" : \", chr(int(i)))"
   ]
  },
  {
   "cell_type": "code",
   "execution_count": 25,
   "id": "bca2fb24",
   "metadata": {},
   "outputs": [
    {
     "name": "stdout",
     "output_type": "stream",
     "text": [
      "A  :  65\n",
      "B  :  66\n",
      "C  :  67\n",
      "D  :  68\n",
      "E  :  69\n",
      "F  :  70\n",
      "G  :  71\n",
      "H  :  72\n",
      "I  :  73\n",
      "J  :  74\n",
      "K  :  75\n",
      "L  :  76\n",
      "M  :  77\n",
      "N  :  78\n",
      "O  :  79\n",
      "P  :  80\n",
      "Q  :  81\n",
      "R  :  82\n",
      "S  :  83\n",
      "T  :  84\n",
      "U  :  85\n",
      "V  :  86\n",
      "W  :  87\n",
      "X  :  88\n",
      "Y  :  89\n",
      "Z  :  90\n"
     ]
    }
   ],
   "source": [
    "for i in string.ascii_uppercase:\n",
    "    print(i, \" : \", ord(i))"
   ]
  },
  {
   "cell_type": "code",
   "execution_count": 26,
   "id": "728ec2cc",
   "metadata": {},
   "outputs": [
    {
     "name": "stdout",
     "output_type": "stream",
     "text": [
      "a  :  97\n",
      "b  :  98\n",
      "c  :  99\n",
      "d  :  100\n",
      "e  :  101\n",
      "f  :  102\n",
      "g  :  103\n",
      "h  :  104\n",
      "i  :  105\n",
      "j  :  106\n",
      "k  :  107\n",
      "l  :  108\n",
      "m  :  109\n",
      "n  :  110\n",
      "o  :  111\n",
      "p  :  112\n",
      "q  :  113\n",
      "r  :  114\n",
      "s  :  115\n",
      "t  :  116\n",
      "u  :  117\n",
      "v  :  118\n",
      "w  :  119\n",
      "x  :  120\n",
      "y  :  121\n",
      "z  :  122\n"
     ]
    }
   ],
   "source": [
    "for i in string.ascii_lowercase:\n",
    "    print(i, \" : \", ord(i))"
   ]
  },
  {
   "cell_type": "markdown",
   "id": "cf500816",
   "metadata": {},
   "source": [
    "#### what is zip keyword in python?\n",
    "\n",
    "zip keyword in python combines the values of the iterables based on their respective indexes. When we zip two lists elements of the same index are combined to form a tuple and are stored as a single element under another identifier.\n",
    "\n",
    "\n",
    "When we zip two iterables of different lengths then the one with the least number of items defines the length of the resultant."
   ]
  },
  {
   "cell_type": "code",
   "execution_count": 27,
   "id": "2e347cfe",
   "metadata": {},
   "outputs": [
    {
     "name": "stdout",
     "output_type": "stream",
     "text": [
      "<zip object at 0x00000280B35CBA00>\n",
      "[(1, 'hello'), (2, 'python'), (3, 'welcome'), (4, 'to')]\n"
     ]
    }
   ],
   "source": [
    "item_1 = (1, 2, 3, 4)\n",
    "item_2 = (\"hello\", \"python\", \"welcome\", \"to\", \"learn\")\n",
    "item_3 = zip(item_1, item_2)\n",
    "print(item_3)\n",
    "print(list(item_3))"
   ]
  },
  {
   "cell_type": "code",
   "execution_count": null,
   "id": "271a7887",
   "metadata": {},
   "outputs": [],
   "source": []
  }
 ],
 "metadata": {
  "kernelspec": {
   "display_name": "Python 3 (ipykernel)",
   "language": "python",
   "name": "python3"
  },
  "language_info": {
   "codemirror_mode": {
    "name": "ipython",
    "version": 3
   },
   "file_extension": ".py",
   "mimetype": "text/x-python",
   "name": "python",
   "nbconvert_exporter": "python",
   "pygments_lexer": "ipython3",
   "version": "3.9.7"
  }
 },
 "nbformat": 4,
 "nbformat_minor": 5
}

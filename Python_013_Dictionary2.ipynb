{
 "cells": [
  {
   "cell_type": "code",
   "execution_count": 1,
   "id": "2a7fe94b",
   "metadata": {},
   "outputs": [
    {
     "name": "stdout",
     "output_type": "stream",
     "text": [
      "{'Language_1': 'Python', 'Langauge_2': 'C++', 'Language_3': 'Java'}\n"
     ]
    }
   ],
   "source": [
    "sample_dict = {\n",
    "  \"Language_1\": \"Python\",\n",
    "  \"Langauge_2\": \"C++\",\n",
    "  \"Language_3\": \"Java\"\n",
    "}\n",
    "print(sample_dict)"
   ]
  },
  {
   "cell_type": "markdown",
   "id": "3d1a54cb",
   "metadata": {},
   "source": [
    "#### How to Merge Dictionaries in Python?\n",
    "\n",
    "#### 1) Using update() method\n",
    "\n",
    "* You can merge two dictionaries in python using the update() method. Using this method, the first dictionary is merged with the other one by overwriting it. Hence, no new dictionary is created, and it returns None. If both the dictionary contains the same key and different value, then the final output will overwrite the value of the latter dictionary. Check out the below example for a better understanding of the update() method:"
   ]
  },
  {
   "cell_type": "code",
   "execution_count": 3,
   "id": "1c2019ff",
   "metadata": {},
   "outputs": [
    {
     "name": "stdout",
     "output_type": "stream",
     "text": [
      "Updated dictionary:\n",
      "{'John': 15, 'Rick': 20, 'Misa': 12, 'Bonnie': 18, 'Matt': 16}\n"
     ]
    }
   ],
   "source": [
    "dict_1 = {'John': 15, 'Rick': 10, 'Misa' : 12 }\n",
    "dict_2 = {'Bonnie': 18,'Rick': 20,'Matt' : 16 }\n",
    "dict_1.update(dict_2)\n",
    "print('Updated dictionary:')\n",
    "print(dict_1)"
   ]
  },
  {
   "cell_type": "code",
   "execution_count": 4,
   "id": "3280f956",
   "metadata": {},
   "outputs": [
    {
     "name": "stdout",
     "output_type": "stream",
     "text": [
      "Updated dictionary:\n",
      "{'John': 15, 'Rick': 20, 'Misa': 12, 'Bonnie': 18, 'Matt': 16}\n"
     ]
    }
   ],
   "source": [
    "dict_1 = {'John': 15, 'Rick': 10, 'Misa' : 12 }\n",
    "dict_2 = {'Bonnie': 18,'Rick': 20,'Matt' : 16 }\n",
    "# let's take a new dictionary and update that with  above dictioanries\n",
    "dict_3 = {}\n",
    "dict_3.update(dict_1)\n",
    "dict_3.update(dict_2)\n",
    "print('Updated dictionary:')\n",
    "print(dict_3)"
   ]
  },
  {
   "cell_type": "code",
   "execution_count": 7,
   "id": "ef86a642",
   "metadata": {},
   "outputs": [
    {
     "data": {
      "text/plain": [
       "{'John': 15, 'Rick': 20, 'Misa': 12, 'Bonnie': 18, 'Matt': 16}"
      ]
     },
     "execution_count": 7,
     "metadata": {},
     "output_type": "execute_result"
    }
   ],
   "source": [
    "my_dict = {}\n",
    "my_dict.update({**dict_1, **dict_2})\n",
    "my_dict"
   ]
  },
  {
   "cell_type": "code",
   "execution_count": 9,
   "id": "417f8f36",
   "metadata": {},
   "outputs": [
    {
     "ename": "SyntaxError",
     "evalue": "invalid syntax (2551570453.py, line 2)",
     "output_type": "error",
     "traceback": [
      "\u001b[1;36m  Input \u001b[1;32mIn [9]\u001b[1;36m\u001b[0m\n\u001b[1;33m    my_dict.update((**dict_1, **dict_2))\u001b[0m\n\u001b[1;37m                    ^\u001b[0m\n\u001b[1;31mSyntaxError\u001b[0m\u001b[1;31m:\u001b[0m invalid syntax\n"
     ]
    }
   ],
   "source": [
    "my_dict = {}\n",
    "my_dict.update((**dict_1, **dict_2))\n",
    "my_dict"
   ]
  },
  {
   "cell_type": "code",
   "execution_count": 8,
   "id": "4d2979ed",
   "metadata": {},
   "outputs": [
    {
     "ename": "TypeError",
     "evalue": "unhashable type: 'dict'",
     "output_type": "error",
     "traceback": [
      "\u001b[1;31m---------------------------------------------------------------------------\u001b[0m",
      "\u001b[1;31mTypeError\u001b[0m                                 Traceback (most recent call last)",
      "Input \u001b[1;32mIn [8]\u001b[0m, in \u001b[0;36m<cell line: 2>\u001b[1;34m()\u001b[0m\n\u001b[0;32m      1\u001b[0m my_dict \u001b[38;5;241m=\u001b[39m {}\n\u001b[1;32m----> 2\u001b[0m my_dict\u001b[38;5;241m.\u001b[39mupdate({dict_1, dict_2})\n\u001b[0;32m      3\u001b[0m my_dict\n",
      "\u001b[1;31mTypeError\u001b[0m: unhashable type: 'dict'"
     ]
    }
   ],
   "source": [
    "my_dict = {}\n",
    "my_dict.update({dict_1, dict_2})\n",
    "my_dict"
   ]
  },
  {
   "cell_type": "markdown",
   "id": "b2806232",
   "metadata": {},
   "source": [
    "#### 2) Using merge(|) operator\n",
    "\n",
    "* You can merge two dictionaries using the | operator. It is a very convenient method to merge dictionaries; however, it is only used in the python 3.9 version or more."
   ]
  },
  {
   "cell_type": "code",
   "execution_count": 5,
   "id": "f30eaf71",
   "metadata": {},
   "outputs": [
    {
     "data": {
      "text/plain": [
       "'3.9.7 (tags/v3.9.7:1016ef3, Aug 30 2021, 20:19:38) [MSC v.1929 64 bit (AMD64)]'"
      ]
     },
     "execution_count": 5,
     "metadata": {},
     "output_type": "execute_result"
    }
   ],
   "source": [
    "import sys\n",
    "sys.version"
   ]
  },
  {
   "cell_type": "code",
   "execution_count": 4,
   "id": "0ff58c0d",
   "metadata": {},
   "outputs": [
    {
     "name": "stdout",
     "output_type": "stream",
     "text": [
      "Python 3.9.7\n"
     ]
    }
   ],
   "source": [
    "!python --version"
   ]
  },
  {
   "cell_type": "code",
   "execution_count": 6,
   "id": "d5b92ecb",
   "metadata": {},
   "outputs": [
    {
     "name": "stdout",
     "output_type": "stream",
     "text": [
      "{'John': 15, 'Rick': 20, 'Misa': 12, 'Bonnie': 18, 'Matt': 16}\n"
     ]
    }
   ],
   "source": [
    "def Merge(dict1, dict2):\n",
    "    result = dict1 | dict2\n",
    "    return result\n",
    "\n",
    "dict1 = {'John': 15, 'Rick': 10, 'Misa' : 12 }\n",
    "dict2 = {'Bonnie': 18,'Rick': 20,'Matt' : 16 }\n",
    "\n",
    "dict3 = Merge(dict1, dict2)\n",
    "print(dict3)"
   ]
  },
  {
   "cell_type": "markdown",
   "id": "d69eca4c",
   "metadata": {},
   "source": [
    "As we can see we have merge both the dictionary and made a new dectionary, basically this is an union operation between both the dict."
   ]
  },
  {
   "cell_type": "code",
   "execution_count": 7,
   "id": "474c4627",
   "metadata": {},
   "outputs": [
    {
     "data": {
      "text/plain": [
       "{'John': 15, 'Rick': 20, 'Misa': 12, 'Bonnie': 18, 'Matt': 16}"
      ]
     },
     "execution_count": 7,
     "metadata": {},
     "output_type": "execute_result"
    }
   ],
   "source": [
    "dict1 = {'John': 15, 'Rick': 10, 'Misa' : 12 }\n",
    "dict2 = {'Bonnie': 18,'Rick': 20,'Matt' : 16 }\n",
    "\n",
    "dict1 | dict2"
   ]
  },
  {
   "cell_type": "code",
   "execution_count": 9,
   "id": "ceef6435",
   "metadata": {},
   "outputs": [],
   "source": [
    "dict1 = {'John': 15, 'Rick': 10, 'Misa' : 12 }\n",
    "dict2 = {'Bonnie': 18,'Rick': 20,'Matt' : 16 }\n",
    "dict3 = {\"David\": 29, \"Stive\": 28, \"Mick\": 23}\n",
    "\n",
    "mydict = dict1 | dict2 | dict3"
   ]
  },
  {
   "cell_type": "code",
   "execution_count": 10,
   "id": "77d45a78",
   "metadata": {},
   "outputs": [
    {
     "data": {
      "text/plain": [
       "{'John': 15,\n",
       " 'Rick': 20,\n",
       " 'Misa': 12,\n",
       " 'Bonnie': 18,\n",
       " 'Matt': 16,\n",
       " 'David': 29,\n",
       " 'Stive': 28,\n",
       " 'Mick': 23}"
      ]
     },
     "execution_count": 10,
     "metadata": {},
     "output_type": "execute_result"
    }
   ],
   "source": [
    "mydict"
   ]
  },
  {
   "cell_type": "markdown",
   "id": "55d9c32d",
   "metadata": {},
   "source": [
    "As we can see that we can merge multiple dictionary at a time."
   ]
  },
  {
   "cell_type": "markdown",
   "id": "ef312c5f",
   "metadata": {},
   "source": [
    "#### 3) Using ** operator\n",
    "* `The simplest way to merge two dictionaries in python is by using the unpack operator(**). By applying the \"**\" operator to the dictionary, it expands its content being the collection of key-value pairs.`\n",
    "\n",
    "* `For example, if you apply \"**\" to dict_1 as shown below, the output will collect key-value pairs stored inside dict_1.`\n",
    "\n",
    "#### For example:"
   ]
  },
  {
   "cell_type": "code",
   "execution_count": 6,
   "id": "2f5e004d",
   "metadata": {},
   "outputs": [
    {
     "name": "stdout",
     "output_type": "stream",
     "text": [
      "{'John': 15, 'Rick': 10, 'Misa': 12}\n"
     ]
    }
   ],
   "source": [
    "dict_1 = {'John': 15, 'Rick': 10, 'Misa': 12}\n",
    "print(dict(**dict_1))"
   ]
  },
  {
   "cell_type": "code",
   "execution_count": 13,
   "id": "5b7e377f",
   "metadata": {},
   "outputs": [
    {
     "data": {
      "text/plain": [
       "{'John': 15, 'Rick': 10, 'Misa': 12}"
      ]
     },
     "execution_count": 13,
     "metadata": {},
     "output_type": "execute_result"
    }
   ],
   "source": [
    "dict(**dict_1)"
   ]
  },
  {
   "cell_type": "markdown",
   "id": "08b79e5d",
   "metadata": {},
   "source": [
    "`Now, to combine two dictionaries using \"**\", we will make use of an additional dictionary to store the final output. The content of dict_1 and dict_2 will expand using the \"**\" operator and combine to form dict_3. Similar to the update method, if both the dictionary has the same key with different values, then the final output will contain the value of the second dictionary. Take a look at the below example for understanding the working of the \"**\" operator.`"
   ]
  },
  {
   "cell_type": "code",
   "execution_count": 7,
   "id": "7e05d76e",
   "metadata": {},
   "outputs": [
    {
     "name": "stdout",
     "output_type": "stream",
     "text": [
      "{'John': 15, 'Rick': 20, 'Misa': 12, 'Bonnie': 18, 'Matt': 16}\n"
     ]
    }
   ],
   "source": [
    "dict_1 = {'John': 15, 'Rick': 10, 'Misa' : 12 }\n",
    "dict_2 = {'Bonnie': 18,'Rick': 20,'Matt' : 16 }\n",
    "dict_3 = {**dict_1,**dict_2}\n",
    "print(dict_3)"
   ]
  },
  {
   "cell_type": "code",
   "execution_count": 16,
   "id": "574024f0",
   "metadata": {},
   "outputs": [
    {
     "name": "stdout",
     "output_type": "stream",
     "text": [
      "{'John': 15, 'Rick': 20, 'Misa': 12, 'Bonnie': 18, 'Matt': 16, 'Stefan': 19, 'Riya': 14, 'Lora': 17}\n"
     ]
    }
   ],
   "source": [
    "dict_1 = {'John': 15, 'Rick': 10, 'Misa' : 12 }\n",
    "dict_2 = {'Bonnie': 18,'Rick': 20,'Matt' : 16 }\n",
    "dict_3 = {'Stefan': 19, 'Riya': 14, 'Lora': 17}\n",
    "dict_4 = {**dict_1,**dict_2, **dict_3}\n",
    "print (dict_4)"
   ]
  },
  {
   "cell_type": "code",
   "execution_count": 23,
   "id": "a9cd4fa7",
   "metadata": {},
   "outputs": [
    {
     "name": "stdout",
     "output_type": "stream",
     "text": [
      "{'John': 15, 'Rick': 20, 'Misa': 12, 'Bonnie': 18, 'Matt': 16, 'Stefan': 19, 'Riya': 14, 'Lora': 17}\n"
     ]
    }
   ],
   "source": [
    "dict_1 = {'John': 15, 'Rick': 10, 'Misa' : 12 }\n",
    "dict_2 = {'Bonnie': 18,'Rick': 20,'Matt' : 16 }\n",
    "dict_3 = {'Stefan': 19, 'Riya': 14, 'Lora': 17}\n",
    "dict_4 = dict({**dict_1,**dict_2, **dict_3})\n",
    "print (dict_4)"
   ]
  },
  {
   "cell_type": "markdown",
   "id": "59877664",
   "metadata": {},
   "source": [
    "#### 4) Unpacking the second dictionary\n",
    "\n",
    "* `Unpacking the second dictionary using the \"**\" operator will help you merge two dictionaries and get your final output. However, this method is not highly used and recommended because it will only work if the keys of the second dictionary are compulsorily strings. If any int value is encountered, then it will raise the \"TypeError\" method.`\n",
    "\n",
    "#### For example:"
   ]
  },
  {
   "cell_type": "code",
   "execution_count": 17,
   "id": "7c032d42",
   "metadata": {},
   "outputs": [
    {
     "name": "stdout",
     "output_type": "stream",
     "text": [
      "{'John': 15, 'Rick': 20, 'Misa': 12, 'Bonnie': 18, 'Matt': 16}\n"
     ]
    }
   ],
   "source": [
    "dict_1={'John': 15, 'Rick': 10, 'Misa' : 12 }\n",
    "dict_2={'Bonnie': 18,'Rick': 20,'Matt' : 16 }\n",
    "dict_3=dict(dict_1,**dict_2)\n",
    "print (dict_3)"
   ]
  },
  {
   "cell_type": "markdown",
   "id": "0b919c42",
   "metadata": {},
   "source": [
    "#### 5) Using collection.ChainMap() method\n",
    "\n",
    "* `This is one of the least known methods to merge two dictionaries in python. In this method, you have to make use of the collection module from the ChainMap library which will help you to group multiple dictionaries in a single view. If both the dictionary contains the same key/s, then the value of the first dictionary is fetched in the final output. Note that we will make use of the “import..from..” syntax to import the collection module as shown in the below example:`\n",
    "\n",
    "#### For example:"
   ]
  },
  {
   "cell_type": "code",
   "execution_count": 1,
   "id": "2e300318",
   "metadata": {},
   "outputs": [
    {
     "name": "stdout",
     "output_type": "stream",
     "text": [
      "ChainMap({'John': 15, 'Rick': 10, 'Misa': 12}, {'Bonnie': 18, 'Rick': 20, 'Matt': 16})\n",
      "\n",
      "{'Bonnie': 18, 'Rick': 10, 'Matt': 16, 'John': 15, 'Misa': 12}\n"
     ]
    }
   ],
   "source": [
    "from collections import ChainMap\n",
    "dict_1={'John': 15, 'Rick': 10, 'Misa' : 12 }\n",
    "dict_2={'Bonnie': 18,'Rick': 20,'Matt' : 16 }\n",
    "dict_3 = ChainMap(dict_1, dict_2)\n",
    "print(dict_3)\n",
    "print()\n",
    "print(dict(dict_3))\n",
    "# if same key then first dictionary key value will be fetched"
   ]
  },
  {
   "cell_type": "code",
   "execution_count": 20,
   "id": "fdb43a6f",
   "metadata": {},
   "outputs": [
    {
     "name": "stdout",
     "output_type": "stream",
     "text": [
      "{'Bonnie': 18, 'Rick': 10, 'Matt': 16, 'John': 15, 'Misa': 12}\n"
     ]
    }
   ],
   "source": [
    "from collections import ChainMap\n",
    "dict_1={'John': 15, 'Rick': 10, 'Misa' : 12 }\n",
    "dict_2={'Bonnie': 18,'Rick': 20,'Matt' : 16 }\n",
    "\n",
    "dict_3 = dict(ChainMap(dict_1, dict_2))\n",
    "\n",
    "print(dict_3)"
   ]
  },
  {
   "cell_type": "code",
   "execution_count": 21,
   "id": "22c9f626",
   "metadata": {},
   "outputs": [
    {
     "name": "stdout",
     "output_type": "stream",
     "text": [
      "{'Stefan': 19, 'Riya': 14, 'Lora': 17, 'Bonnie': 18, 'Rick': 10, 'Matt': 16, 'John': 15, 'Misa': 12}\n"
     ]
    }
   ],
   "source": [
    "from collections import ChainMap\n",
    "\n",
    "dict_1 = {'John': 15, 'Rick': 10, 'Misa' : 12 }\n",
    "dict_2 = {'Bonnie': 18,'Rick': 20,'Matt' : 16 }\n",
    "dict_3 = {'Stefan': 19, 'Riya': 14, 'Lora': 17}\n",
    "dict_4 = dict(ChainMap(dict_1,dict_2, dict_3))\n",
    "print (dict_4)"
   ]
  },
  {
   "cell_type": "markdown",
   "id": "48182b1b",
   "metadata": {},
   "source": [
    "#### 6) Using itertools.chain()\n",
    "`The iterator returns the element from the first iterable until it's empty and then jumps to the next iterable. Basically, it will handle the consecutive sequence as a single sequence.`\n",
    "\n",
    "`As dictionary is also iterable, we can use the chain() function from itertools class and merge two dictionaries. The return type of this method will be an object, and hence, we can convert the dictionary using the dict() constructor.`\n",
    "\n",
    "#### For example:"
   ]
  },
  {
   "cell_type": "code",
   "execution_count": 1,
   "id": "35fe6129",
   "metadata": {},
   "outputs": [
    {
     "name": "stdout",
     "output_type": "stream",
     "text": [
      "<itertools.chain object at 0x0000023D4B53A460>\n",
      "\n",
      "{'John': 15, 'Rick': 20, 'Misa': 12, 'Bonnie': 18, 'Matt': 16}\n"
     ]
    }
   ],
   "source": [
    "import itertools\n",
    "\n",
    "dict_1={'John': 15, 'Rick': 10, 'Misa': 12}\n",
    "dict_2={'Bonnie': 18, 'Rick': 20, 'Matt': 16}\n",
    "\n",
    "dict_3 = itertools.chain(dict_1.items(), dict_2.items())\n",
    "# returns an iterator object\n",
    "\n",
    "print(dict_3)\n",
    "print()\n",
    "print(dict(dict_3))"
   ]
  },
  {
   "cell_type": "code",
   "execution_count": 8,
   "id": "3b157f3d",
   "metadata": {},
   "outputs": [
    {
     "data": {
      "text/plain": [
       "dict_items([('John', 15), ('Rick', 10), ('Misa', 12)])"
      ]
     },
     "execution_count": 8,
     "metadata": {},
     "output_type": "execute_result"
    }
   ],
   "source": [
    "dict_1.items()"
   ]
  },
  {
   "cell_type": "code",
   "execution_count": 7,
   "id": "3175b850",
   "metadata": {},
   "outputs": [
    {
     "name": "stdout",
     "output_type": "stream",
     "text": [
      "<itertools.chain object at 0x0000022453924C10>\n",
      "\n"
     ]
    },
    {
     "ename": "ValueError",
     "evalue": "dictionary update sequence element #0 has length 4; 2 is required",
     "output_type": "error",
     "traceback": [
      "\u001b[1;31m---------------------------------------------------------------------------\u001b[0m",
      "\u001b[1;31mValueError\u001b[0m                                Traceback (most recent call last)",
      "Input \u001b[1;32mIn [7]\u001b[0m, in \u001b[0;36m<cell line: 11>\u001b[1;34m()\u001b[0m\n\u001b[0;32m      9\u001b[0m \u001b[38;5;28mprint\u001b[39m(dict_3)\n\u001b[0;32m     10\u001b[0m \u001b[38;5;28mprint\u001b[39m()\n\u001b[1;32m---> 11\u001b[0m \u001b[38;5;28mprint\u001b[39m(\u001b[38;5;28;43mdict\u001b[39;49m\u001b[43m(\u001b[49m\u001b[43mdict_3\u001b[49m\u001b[43m)\u001b[49m)\n",
      "\u001b[1;31mValueError\u001b[0m: dictionary update sequence element #0 has length 4; 2 is required"
     ]
    }
   ],
   "source": [
    "import itertools\n",
    "\n",
    "dict_1={'John': 15, 'Rick': 10, 'Misa': 12}\n",
    "dict_2={'Bonnie': 18, 'Rick': 20, 'Matt': 16}\n",
    "\n",
    "dict_3 = itertools.chain(dict_1, dict_2)  # here we need to pass dict.items() otherwise it wil\n",
    "                                          # raise an error.\n",
    "# returns an iterator object\n",
    "\n",
    "print(dict_3)\n",
    "print()\n",
    "print(dict(dict_3))"
   ]
  },
  {
   "cell_type": "code",
   "execution_count": 26,
   "id": "82bb100f",
   "metadata": {},
   "outputs": [
    {
     "data": {
      "text/plain": [
       "{'John': 15,\n",
       " 'Rick': 20,\n",
       " 'Misa': 12,\n",
       " 'Bonnie': 18,\n",
       " 'Matt': 16,\n",
       " 'Stefan': 19,\n",
       " 'Riya': 14,\n",
       " 'Lora': 17}"
      ]
     },
     "execution_count": 26,
     "metadata": {},
     "output_type": "execute_result"
    }
   ],
   "source": [
    "import itertools\n",
    "\n",
    "dict_1={'John': 15, 'Rick': 10, 'Misa': 12}\n",
    "dict_2={'Bonnie': 18, 'Rick': 20, 'Matt': 16}\n",
    "dict_3 = {'Stefan': 19, 'Riya': 14, 'Lora': 17}\n",
    "\n",
    "dict_3 = dict(itertools.chain(dict_1.items(), dict_2.items(), dict_3.items()))\n",
    "\n",
    "dict_3"
   ]
  },
  {
   "cell_type": "markdown",
   "id": "9aa0f7d8",
   "metadata": {},
   "source": [
    "#### 7) Using dictionary comprehension\n",
    "\n",
    "\n",
    "* `We can combine two dictionaries in python using dictionary comprehension. Here, we also use the for loop to iterate through the dictionary items and merge them to get the final output. If both the dictionaries have common keys, then the final output using this method will contain the value of the second dictionary. Check out the below example for a better understanding.`\n",
    "\n",
    "#### For example:"
   ]
  },
  {
   "cell_type": "code",
   "execution_count": 27,
   "id": "d4468f6c",
   "metadata": {},
   "outputs": [
    {
     "name": "stdout",
     "output_type": "stream",
     "text": [
      "{'John': 15, 'Rick': 20, 'Misa': 12, 'Bonnie': 18, 'Matt': 16}\n"
     ]
    }
   ],
   "source": [
    "dict_1={'John': 15, 'Rick': 10, 'Misa': 12}\n",
    "dict_2={'Bonnie': 18, 'Rick': 20, 'Matt': 16}\n",
    "\n",
    "dict_3={k:v for d in (dict_1,dict_2) for k,v in d.items()}\n",
    "print (dict_3)"
   ]
  },
  {
   "cell_type": "code",
   "execution_count": 13,
   "id": "edcb6aa6",
   "metadata": {},
   "outputs": [
    {
     "data": {
      "text/plain": [
       "{'John': 15, 'Rick': 20, 'Misa': 12, 'Bonnie': 18, 'Matt': 16}"
      ]
     },
     "execution_count": 13,
     "metadata": {},
     "output_type": "execute_result"
    }
   ],
   "source": [
    "dict_1={'John': 15, 'Rick': 10, 'Misa': 12}\n",
    "dict_2={'Bonnie': 18, 'Rick': 20, 'Matt': 16}\n",
    "\n",
    "{k:v for d in (dict_1, dict_2) for k, v in d.items()}"
   ]
  },
  {
   "cell_type": "code",
   "execution_count": 28,
   "id": "3766e175",
   "metadata": {},
   "outputs": [
    {
     "name": "stdout",
     "output_type": "stream",
     "text": [
      "{'John': 15, 'Rick': 20, 'Misa': 12, 'Bonnie': 18, 'Matt': 16, 'Stefan': 19, 'Riya': 14, 'Lora': 17}\n"
     ]
    }
   ],
   "source": [
    "dict_1={'John': 15, 'Rick': 10, 'Misa': 12}\n",
    "dict_2={'Bonnie': 18, 'Rick': 20, 'Matt': 16}\n",
    "dict_3 = {'Stefan': 19, 'Riya': 14, 'Lora': 17}\n",
    "\n",
    "dict_3 = {k:v for d in (dict_1, dict_2, dict_3) for k,v in d.items()}\n",
    "print(dict_3)"
   ]
  },
  {
   "cell_type": "markdown",
   "id": "babd6af6",
   "metadata": {},
   "source": [
    "#### 8) Add values of common keys\n",
    "\n",
    "* `In all of the above methods, if both the dictionary contains the different data value of the same keys, the values in the final output were getting overridden. What if you wish to preserve all the value in the final output. For this purpose, you can merge the dictionaries such that it adds the values of the common keys in the list and return the final output.`\n",
    "\n",
    "`In this method, we will also make use of for loop to traverse through the keys and values in the dictionary inside the function. Later, we will call the function to get the final output as merged dictionaries as shown below:`\n",
    "\n",
    "#### For example:"
   ]
  },
  {
   "cell_type": "code",
   "execution_count": 2,
   "id": "e7655b0e",
   "metadata": {},
   "outputs": [
    {
     "name": "stdout",
     "output_type": "stream",
     "text": [
      "{'John': 15, 'Rick': [20, 10], 'Misa': 12, 'Bonnie': 18, 'Matt': 16}\n"
     ]
    }
   ],
   "source": [
    "dict_1 = {'John': 15, 'Rick': 10, 'Misa': 12}\n",
    "dict_2 = {'Bonnie': 18, 'Rick': 20, 'Matt': 16}\n",
    "\n",
    "def mergeDictionary(dict_1, dict_2):\n",
    "    dict_3 = {**dict_1, **dict_2}\n",
    "    for key, value in dict_3.items():\n",
    "        if key in dict_1 and key in dict_2:\n",
    "            \n",
    "            dict_3[key] = [value , dict_1[key]] \n",
    "            # because dict can't hold duplicate key\n",
    "            # so here only dict_2 value updated but by doing so we\n",
    "            # can add dict_1 value in dict_3\n",
    "            \n",
    "    return dict_3\n",
    "\n",
    "dict_3 = mergeDictionary(dict_1, dict_2)\n",
    "print(dict_3)\n",
    " "
   ]
  },
  {
   "cell_type": "code",
   "execution_count": 3,
   "id": "2cdda087",
   "metadata": {},
   "outputs": [
    {
     "data": {
      "text/plain": [
       "{'John': 15, 'Rick': 20, 'Misa': 12, 'Bonnie': 18, 'Matt': 16}"
      ]
     },
     "execution_count": 3,
     "metadata": {},
     "output_type": "execute_result"
    }
   ],
   "source": [
    "{**dict_1, **dict_2}"
   ]
  },
  {
   "cell_type": "code",
   "execution_count": null,
   "id": "1b718fee",
   "metadata": {},
   "outputs": [],
   "source": []
  }
 ],
 "metadata": {
  "kernelspec": {
   "display_name": "Python 3 (ipykernel)",
   "language": "python",
   "name": "python3"
  },
  "language_info": {
   "codemirror_mode": {
    "name": "ipython",
    "version": 3
   },
   "file_extension": ".py",
   "mimetype": "text/x-python",
   "name": "python",
   "nbconvert_exporter": "python",
   "pygments_lexer": "ipython3",
   "version": "3.9.7"
  }
 },
 "nbformat": 4,
 "nbformat_minor": 5
}

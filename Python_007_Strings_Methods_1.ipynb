{
 "cells": [
  {
   "cell_type": "markdown",
   "id": "d64e4383",
   "metadata": {},
   "source": [
    "#### String Methods\n",
    "\n",
    "Python has a set of built-in methods that you can use on strings.\n",
    "\n",
    "**Note:** All string methods returns new values. They do not change the original string."
   ]
  },
  {
   "cell_type": "markdown",
   "id": "917f8e28",
   "metadata": {},
   "source": [
    "*   **capitalize()**"
   ]
  },
  {
   "cell_type": "code",
   "execution_count": 1,
   "id": "5c0d9c5e",
   "metadata": {},
   "outputs": [
    {
     "name": "stdout",
     "output_type": "stream",
     "text": [
      "Hello, and welcome to my world.\n"
     ]
    }
   ],
   "source": [
    "txt = \"hello, and welcome to my world.\"\n",
    "\n",
    "x = txt.capitalize()\n",
    "\n",
    "print (x)"
   ]
  },
  {
   "cell_type": "markdown",
   "id": "017370cf",
   "metadata": {},
   "source": [
    "#### Definition and Usage\n",
    "\n",
    "The `capitalize()` method returns a string where the first character is upper case, and the rest is lower case.\n",
    "\n",
    "#### Syntax\n",
    "`string.capitalize()`\n",
    "\n",
    "#### Parameter Values\n",
    "No parameters"
   ]
  },
  {
   "cell_type": "markdown",
   "id": "fc669104",
   "metadata": {},
   "source": [
    "The first character is converted to upper case, and the rest are converted to lower case:"
   ]
  },
  {
   "cell_type": "code",
   "execution_count": 2,
   "id": "47a4c5ea",
   "metadata": {},
   "outputs": [
    {
     "name": "stdout",
     "output_type": "stream",
     "text": [
      "Python is fun!\n"
     ]
    }
   ],
   "source": [
    "txt = \"python is FUN!\"\n",
    "\n",
    "x = txt.capitalize()\n",
    "print(x)"
   ]
  },
  {
   "cell_type": "code",
   "execution_count": 3,
   "id": "6d0a45ab",
   "metadata": {},
   "outputs": [
    {
     "name": "stdout",
     "output_type": "stream",
     "text": [
      "36 is my age\n"
     ]
    }
   ],
   "source": [
    "# See what happens if the first character is a number:\n",
    "\n",
    "txt = \"36 is my age\"\n",
    "\n",
    "x = txt.capitalize()\n",
    "\n",
    "print(x)"
   ]
  },
  {
   "cell_type": "markdown",
   "id": "2c2df853",
   "metadata": {},
   "source": [
    "means if digit come first before letter then capitalize will not convert upper case to the word just after digit. And if there is any upper case letter then that will be converted into lower case."
   ]
  },
  {
   "cell_type": "code",
   "execution_count": 1,
   "id": "2fc5ff30",
   "metadata": {},
   "outputs": [
    {
     "name": "stdout",
     "output_type": "stream",
     "text": [
      "36 is my age\n"
     ]
    }
   ],
   "source": [
    "txt = \"36 Is My age\"\n",
    "\n",
    "x = txt.capitalize()\n",
    "\n",
    "print(x)"
   ]
  },
  {
   "cell_type": "code",
   "execution_count": 2,
   "id": "0ff1999e",
   "metadata": {},
   "outputs": [
    {
     "data": {
      "text/plain": [
       "'36 Is My age'"
      ]
     },
     "execution_count": 2,
     "metadata": {},
     "output_type": "execute_result"
    }
   ],
   "source": [
    "txt"
   ]
  },
  {
   "cell_type": "markdown",
   "id": "058a1255",
   "metadata": {},
   "source": [
    "#### casefold() \n",
    "Converts string into lower case\n",
    "\n",
    "#### Definition and Usage\n",
    "The `casefold()` method returns a string where all the characters are lower case.\n",
    "\n",
    "This method is similar to the `lower()` method, but the `casefold()` method is stronger, more aggressive, meaning that it will convert more characters into lower case, and will find more matches when comparing two strings and both are converted using the casefold() method.\n",
    "\n",
    "#### Syntax\n",
    "`string.casefold()`\n",
    "Parameter Values\n",
    "No parameters"
   ]
  },
  {
   "cell_type": "code",
   "execution_count": 6,
   "id": "e32033ab",
   "metadata": {},
   "outputs": [
    {
     "name": "stdout",
     "output_type": "stream",
     "text": [
      "hello, and welcome to my world!\n"
     ]
    }
   ],
   "source": [
    "txt = \"Hello, And Welcome To My World!\"\n",
    "\n",
    "x = txt.casefold()\n",
    "\n",
    "print(x)"
   ]
  },
  {
   "cell_type": "code",
   "execution_count": 7,
   "id": "a31bc9c8",
   "metadata": {},
   "outputs": [
    {
     "name": "stdout",
     "output_type": "stream",
     "text": [
      "Hello, And Welcome To My World!\n"
     ]
    }
   ],
   "source": [
    "# let's see original value \n",
    "\n",
    "print(txt)"
   ]
  },
  {
   "cell_type": "code",
   "execution_count": 5,
   "id": "d4718d30",
   "metadata": {},
   "outputs": [
    {
     "name": "stdout",
     "output_type": "stream",
     "text": [
      "i love python world!\n"
     ]
    }
   ],
   "source": [
    "print(\"I love Python World!\".casefold())"
   ]
  },
  {
   "cell_type": "markdown",
   "id": "7701ced6",
   "metadata": {},
   "source": [
    "#### center()\t\n",
    "Returns a centered string\n",
    "\n",
    "`Example:`\n",
    "Print the word \"banana\", taking up the space of 20 characters, with \"banana\" in the middle:"
   ]
  },
  {
   "cell_type": "code",
   "execution_count": 1,
   "id": "51613f07",
   "metadata": {},
   "outputs": [
    {
     "name": "stdout",
     "output_type": "stream",
     "text": [
      "       banana       \n"
     ]
    }
   ],
   "source": [
    "txt = \"banana\"\n",
    "\n",
    "x = txt.center(20)\n",
    "\n",
    "print(x)"
   ]
  },
  {
   "cell_type": "markdown",
   "id": "4f068948",
   "metadata": {},
   "source": [
    "#### Definition and Usage\n",
    "The `center()` method will center align the string, using a specified character (space is default) as the fill character.\n",
    "\n",
    "#### Syntax\n",
    "`string.center(length, character)`\n",
    "\n",
    "#### Parameter Values \n",
    "\n",
    "Parameter  ---\tDescription\n",
    "\n",
    "length\t    --- Required. The length of the returned string\n",
    "\n",
    "character\t--- Optional. The character to fill the missing space on each side. Default is \" \" (space)"
   ]
  },
  {
   "cell_type": "code",
   "execution_count": 2,
   "id": "a815bf8a",
   "metadata": {},
   "outputs": [
    {
     "name": "stdout",
     "output_type": "stream",
     "text": [
      "ooooooobananaooooooo\n"
     ]
    }
   ],
   "source": [
    "txt = \"banana\"\n",
    "\n",
    "x = txt.center(20, \"o\")\n",
    "print(x)"
   ]
  },
  {
   "cell_type": "code",
   "execution_count": 3,
   "id": "78989701",
   "metadata": {},
   "outputs": [
    {
     "name": "stdout",
     "output_type": "stream",
     "text": [
      "banana\n"
     ]
    }
   ],
   "source": [
    "print(txt)"
   ]
  },
  {
   "cell_type": "markdown",
   "id": "c387cf3d",
   "metadata": {},
   "source": [
    "It means 'center' returns new centered string and does not change the original one."
   ]
  },
  {
   "cell_type": "code",
   "execution_count": 4,
   "id": "69dd8b1a",
   "metadata": {},
   "outputs": [
    {
     "name": "stdout",
     "output_type": "stream",
     "text": [
      "-------banana-------\n"
     ]
    }
   ],
   "source": [
    "print(\"banana\".center(20, \"-\"))"
   ]
  },
  {
   "cell_type": "code",
   "execution_count": 5,
   "id": "2bcbd693",
   "metadata": {},
   "outputs": [
    {
     "name": "stdout",
     "output_type": "stream",
     "text": [
      "#######banana#######\n"
     ]
    }
   ],
   "source": [
    "print(\"banana\".center(20, \"#\"))"
   ]
  },
  {
   "cell_type": "code",
   "execution_count": 6,
   "id": "6483f341",
   "metadata": {},
   "outputs": [
    {
     "name": "stdout",
     "output_type": "stream",
     "text": [
      "*******banana*******\n"
     ]
    }
   ],
   "source": [
    "print(\"banana\".center(20, \"*\"))"
   ]
  },
  {
   "cell_type": "code",
   "execution_count": 7,
   "id": "8bb3f164",
   "metadata": {},
   "outputs": [
    {
     "ename": "TypeError",
     "evalue": "The fill character must be exactly one character long",
     "output_type": "error",
     "traceback": [
      "\u001b[1;31m---------------------------------------------------------------------------\u001b[0m",
      "\u001b[1;31mTypeError\u001b[0m                                 Traceback (most recent call last)",
      "Input \u001b[1;32mIn [7]\u001b[0m, in \u001b[0;36m<cell line: 1>\u001b[1;34m()\u001b[0m\n\u001b[1;32m----> 1\u001b[0m \u001b[38;5;28mprint\u001b[39m(\u001b[38;5;124;43m\"\u001b[39;49m\u001b[38;5;124;43mbanana\u001b[39;49m\u001b[38;5;124;43m\"\u001b[39;49m\u001b[38;5;241;43m.\u001b[39;49m\u001b[43mcenter\u001b[49m\u001b[43m(\u001b[49m\u001b[38;5;241;43m20\u001b[39;49m\u001b[43m,\u001b[49m\u001b[43m \u001b[49m\u001b[38;5;124;43m\"\u001b[39;49m\u001b[38;5;124;43m**\u001b[39;49m\u001b[38;5;124;43m\"\u001b[39;49m\u001b[43m)\u001b[49m)\n",
      "\u001b[1;31mTypeError\u001b[0m: The fill character must be exactly one character long"
     ]
    }
   ],
   "source": [
    "print(\"banana\".center(20, \"**\")) # we cann't use double character "
   ]
  },
  {
   "cell_type": "code",
   "execution_count": 8,
   "id": "b8565754",
   "metadata": {},
   "outputs": [
    {
     "ename": "TypeError",
     "evalue": "The fill character must be exactly one character long",
     "output_type": "error",
     "traceback": [
      "\u001b[1;31m---------------------------------------------------------------------------\u001b[0m",
      "\u001b[1;31mTypeError\u001b[0m                                 Traceback (most recent call last)",
      "Input \u001b[1;32mIn [8]\u001b[0m, in \u001b[0;36m<cell line: 1>\u001b[1;34m()\u001b[0m\n\u001b[1;32m----> 1\u001b[0m \u001b[38;5;28mprint\u001b[39m(\u001b[38;5;124;43m\"\u001b[39;49m\u001b[38;5;124;43mbanana\u001b[39;49m\u001b[38;5;124;43m\"\u001b[39;49m\u001b[38;5;241;43m.\u001b[39;49m\u001b[43mcenter\u001b[49m\u001b[43m(\u001b[49m\u001b[38;5;241;43m20\u001b[39;49m\u001b[43m,\u001b[49m\u001b[43m \u001b[49m\u001b[38;5;124;43m\"\u001b[39;49m\u001b[38;5;124;43m* \u001b[39;49m\u001b[38;5;124;43m\"\u001b[39;49m\u001b[43m)\u001b[49m)\n",
      "\u001b[1;31mTypeError\u001b[0m: The fill character must be exactly one character long"
     ]
    }
   ],
   "source": [
    "print(\"banana\".center(20, \"* \")) # also can't use the space as well so be aware of this"
   ]
  },
  {
   "cell_type": "markdown",
   "id": "5be5a465",
   "metadata": {},
   "source": [
    "#### count()\t\n",
    "\n",
    "Returns the number of times a specified value occurs in a string"
   ]
  },
  {
   "cell_type": "code",
   "execution_count": 5,
   "id": "5f3fa343",
   "metadata": {},
   "outputs": [
    {
     "name": "stdout",
     "output_type": "stream",
     "text": [
      "2\n"
     ]
    }
   ],
   "source": [
    "txt = \"I love apples, apples are my favorite fruit\"\n",
    "\n",
    "x = txt.count(\"apples\")\n",
    "print(x)"
   ]
  },
  {
   "cell_type": "markdown",
   "id": "1ea26a11",
   "metadata": {},
   "source": [
    "value  \t  -- Required. A String. The string to value to search for\n",
    "\n",
    "\n",
    "start\t  -- Optional. An Integer. The position to start the search. Default is 0\n",
    "\n",
    "\n",
    "end\t     -- Optional. An Integer. The position to end the search. Default is the end of the string"
   ]
  },
  {
   "cell_type": "code",
   "execution_count": 8,
   "id": "ec79a572",
   "metadata": {},
   "outputs": [
    {
     "name": "stdout",
     "output_type": "stream",
     "text": [
      "1\n"
     ]
    }
   ],
   "source": [
    "txt = \"I love apples, apples are my favorite fruit\"\n",
    "\n",
    "x = txt.count(\"apples\", 0 , 15)\n",
    "\n",
    "print(x)"
   ]
  },
  {
   "cell_type": "code",
   "execution_count": 11,
   "id": "1adfd51b",
   "metadata": {},
   "outputs": [
    {
     "name": "stdout",
     "output_type": "stream",
     "text": [
      "2\n"
     ]
    }
   ],
   "source": [
    "print(\"Hello Wolrd!\".count(\"o\"))"
   ]
  },
  {
   "cell_type": "markdown",
   "id": "ad5b5255",
   "metadata": {},
   "source": [
    "#### encode() \n",
    "Returns an encoded version of the string"
   ]
  },
  {
   "cell_type": "code",
   "execution_count": 12,
   "id": "0e9cfbf2",
   "metadata": {},
   "outputs": [
    {
     "name": "stdout",
     "output_type": "stream",
     "text": [
      "b'My name is Ankit'\n"
     ]
    }
   ],
   "source": [
    "txt = \"My name is Ankit\"\n",
    "\n",
    "x = txt.encode()\n",
    "\n",
    "print(x)"
   ]
  },
  {
   "cell_type": "code",
   "execution_count": 13,
   "id": "d080d2ca",
   "metadata": {},
   "outputs": [
    {
     "data": {
      "text/plain": [
       "bytes"
      ]
     },
     "execution_count": 13,
     "metadata": {},
     "output_type": "execute_result"
    }
   ],
   "source": [
    "type(x) # means by encoded it has been converted into bytes"
   ]
  },
  {
   "cell_type": "code",
   "execution_count": 14,
   "id": "0aaf5e9f",
   "metadata": {},
   "outputs": [
    {
     "name": "stdout",
     "output_type": "stream",
     "text": [
      "b'My name is St\\xc3\\xa5le'\n"
     ]
    }
   ],
   "source": [
    "txt = \"My name is Ståle\"\n",
    "\n",
    "x = txt.encode()\n",
    "\n",
    "print(x)\n"
   ]
  },
  {
   "cell_type": "code",
   "execution_count": 15,
   "id": "0d40a6e6",
   "metadata": {},
   "outputs": [
    {
     "data": {
      "text/plain": [
       "bytes"
      ]
     },
     "execution_count": 15,
     "metadata": {},
     "output_type": "execute_result"
    }
   ],
   "source": [
    "type(x)"
   ]
  },
  {
   "cell_type": "markdown",
   "id": "49c66489",
   "metadata": {},
   "source": [
    "#### Definition and Usage\n",
    "\n",
    "The encode() method encodes the string, using the specified encoding. If no encoding is specified, UTF-8 will be used.\n",
    "\n",
    "#### Syntax:\n",
    "\n",
    "`string.encode(encoding=encoding, errors=errors)`\n",
    "\n",
    "\n",
    "Parameter\tDescription\n",
    "\n",
    " `encoding\t`     Optional. A String specifying the encoding to use. Default is UTF-8\n",
    "\n",
    "`errors`\t     Optional. A String specifying the error method. Legal values are:\n",
    "\n",
    "* `'backslashreplace' `    \t- uses a backslash instead of the character that could not be encoded\n",
    "\n",
    "* `'ignore'`     \t- ignores the characters that cannot be encoded\n",
    "\n",
    "* `'namereplace'`     \t- replaces the character with a text explaining the character\n",
    "\n",
    "* `'strict'`     \t- Default, raises an error on failure\n",
    "\n",
    "* `'replace'`     \t- replaces the character with a questionmark\n",
    "\n",
    "* `'xmlcharrefreplace'`     \t- replaces the character with an xml character\n"
   ]
  },
  {
   "cell_type": "code",
   "execution_count": 16,
   "id": "907f82b9",
   "metadata": {},
   "outputs": [
    {
     "name": "stdout",
     "output_type": "stream",
     "text": [
      "b'My name is St\\\\xe5le'\n",
      "b'My name is Stle'\n",
      "b'My name is St\\\\N{LATIN SMALL LETTER A WITH RING ABOVE}le'\n",
      "b'My name is St?le'\n",
      "b'My name is St&#229;le'\n"
     ]
    }
   ],
   "source": [
    "txt = \"My name is Ståle\"\n",
    "\n",
    "print(txt.encode(encoding=\"ascii\",errors=\"backslashreplace\"))\n",
    "print(txt.encode(encoding=\"ascii\",errors=\"ignore\"))\n",
    "print(txt.encode(encoding=\"ascii\",errors=\"namereplace\"))\n",
    "print(txt.encode(encoding=\"ascii\",errors=\"replace\"))\n",
    "print(txt.encode(encoding=\"ascii\",errors=\"xmlcharrefreplace\"))"
   ]
  },
  {
   "cell_type": "code",
   "execution_count": 9,
   "id": "bff2dee6",
   "metadata": {},
   "outputs": [
    {
     "name": "stdout",
     "output_type": "stream",
     "text": [
      "b'\\\\N{LATIN SMALL LETTER A WITH DIAERESIS}'\n"
     ]
    }
   ],
   "source": [
    "txt = \"ä\"\n",
    "print(txt.encode(encoding=\"ascii\", errors=\"namereplace\"))"
   ]
  },
  {
   "cell_type": "code",
   "execution_count": 10,
   "id": "235e115d",
   "metadata": {},
   "outputs": [
    {
     "name": "stdout",
     "output_type": "stream",
     "text": [
      "b'\\\\N{LATIN SMALL LETTER FENG DIGRAPH}'\n"
     ]
    }
   ],
   "source": [
    "txt = \"ʩ\"\n",
    "print(txt.encode(encoding=\"ascii\", errors=\"namereplace\"))"
   ]
  },
  {
   "cell_type": "code",
   "execution_count": 1,
   "id": "eb467d92",
   "metadata": {},
   "outputs": [],
   "source": [
    "import base64"
   ]
  },
  {
   "cell_type": "code",
   "execution_count": 2,
   "id": "1cc1b7c0",
   "metadata": {},
   "outputs": [
    {
     "name": "stdout",
     "output_type": "stream",
     "text": [
      "Normal string :  this is string example ...wow!\n",
      "\n",
      "Encoded string :  b'dGhpcyBpcyBzdHJpbmcgZXhhbXBsZSAuLi53b3ch'\n"
     ]
    }
   ],
   "source": [
    "str1 = \"this is string example ...wow!\"\n",
    "\n",
    "# encode string #str1.encode('utf-8', 'strict')\n",
    "\n",
    "encoded_str = base64.b64encode(str1.encode('utf-8', \"strict\"))\n",
    "print(\"Normal string : \", str1)\n",
    "print()\n",
    "print(\"Encoded string : \", encoded_str)"
   ]
  },
  {
   "cell_type": "code",
   "execution_count": 3,
   "id": "24a83201",
   "metadata": {},
   "outputs": [
    {
     "name": "stdout",
     "output_type": "stream",
     "text": [
      "Encoded string :  b'dGhpcyBpcyBzdHJpbmcgZXhhbXBsZSAuLi53b3ch'\n",
      "\n",
      "Decoded string :  b'this is string example ...wow!'\n"
     ]
    }
   ],
   "source": [
    "# we can decode a string back to it's original form\n",
    "\n",
    "decoded_str = base64.b64decode(encoded_str.decode('utf-8', 'strict'))\n",
    "\n",
    "print(\"Encoded string : \", encoded_str)\n",
    "print()\n",
    "print(\"Decoded string : \", decoded_str)"
   ]
  },
  {
   "cell_type": "code",
   "execution_count": 7,
   "id": "fb6c129b",
   "metadata": {},
   "outputs": [
    {
     "data": {
      "text/plain": [
       "bytes"
      ]
     },
     "execution_count": 7,
     "metadata": {},
     "output_type": "execute_result"
    }
   ],
   "source": [
    "type(decoded_str)"
   ]
  },
  {
   "cell_type": "code",
   "execution_count": 10,
   "id": "2a1d5e13",
   "metadata": {},
   "outputs": [
    {
     "name": "stdout",
     "output_type": "stream",
     "text": [
      "this is string example ...wow!\n"
     ]
    }
   ],
   "source": [
    "print(str(decoded_str).strip(\"b'\"))"
   ]
  },
  {
   "cell_type": "code",
   "execution_count": 11,
   "id": "c0451446",
   "metadata": {},
   "outputs": [
    {
     "name": "stdout",
     "output_type": "stream",
     "text": [
      "Hello world!\n",
      "b'SGVsbG8gd29ybGQh'\n"
     ]
    }
   ],
   "source": [
    "import base64\n",
    "text = \"Hello world!\"\n",
    "\n",
    "encoded_text = base64.b64encode(text.encode(\"utf-8\", \"strict\"))\n",
    "print(text)\n",
    "print(encoded_text)"
   ]
  },
  {
   "cell_type": "code",
   "execution_count": 12,
   "id": "39582f6d",
   "metadata": {},
   "outputs": [
    {
     "name": "stdout",
     "output_type": "stream",
     "text": [
      "b'Hello world!'\n"
     ]
    }
   ],
   "source": [
    "decoded_text = base64.b64decode(encoded_text.decode(\"utf-8\", \"strict\"))\n",
    "print(decoded_text)"
   ]
  },
  {
   "cell_type": "code",
   "execution_count": 13,
   "id": "221dc923",
   "metadata": {},
   "outputs": [
    {
     "name": "stdout",
     "output_type": "stream",
     "text": [
      "<class 'bytes'>\n"
     ]
    }
   ],
   "source": [
    "print(type(decoded_text))"
   ]
  },
  {
   "cell_type": "code",
   "execution_count": 17,
   "id": "0b00168b",
   "metadata": {},
   "outputs": [
    {
     "data": {
      "text/plain": [
       "'Hello world!'"
      ]
     },
     "execution_count": 17,
     "metadata": {},
     "output_type": "execute_result"
    }
   ],
   "source": [
    "str(decoded_text).strip(\"b'\")"
   ]
  },
  {
   "cell_type": "markdown",
   "id": "0cf0bddc",
   "metadata": {},
   "source": [
    "#### endswith()\n",
    "\n",
    "`Definition and Usage`\n",
    "\n",
    "The endswith() method returns True if the string ends with the specified value, otherwise False.\n",
    "\n",
    "`Syntax`\n",
    "\n",
    "`string.endswith(value, start, end)`\n",
    "\n",
    "value --\tRequired. The value to check if the string ends with\n",
    "\n",
    "start --\tOptional. An Integer specifying at which position to start the search\n",
    "\n",
    "\n",
    "end\t  --  Optional. An Integer specifying at which position to end the search\n"
   ]
  },
  {
   "cell_type": "code",
   "execution_count": 20,
   "id": "7c6325bb",
   "metadata": {},
   "outputs": [
    {
     "name": "stdout",
     "output_type": "stream",
     "text": [
      "True\n"
     ]
    }
   ],
   "source": [
    "txt = \"Hello, welcome to my world.\"\n",
    "\n",
    "x = txt.endswith(\".\")\n",
    "\n",
    "print(x)"
   ]
  },
  {
   "cell_type": "code",
   "execution_count": 21,
   "id": "e38b06fd",
   "metadata": {},
   "outputs": [
    {
     "name": "stdout",
     "output_type": "stream",
     "text": [
      "True\n"
     ]
    }
   ],
   "source": [
    "txt = \"Hello, welcome to my world.\"\n",
    "\n",
    "x = txt.endswith(\"my world.\")\n",
    "\n",
    "print(x)"
   ]
  },
  {
   "cell_type": "code",
   "execution_count": 22,
   "id": "7d56adc6",
   "metadata": {},
   "outputs": [
    {
     "name": "stdout",
     "output_type": "stream",
     "text": [
      "False\n"
     ]
    }
   ],
   "source": [
    "# Check if position 5 to 11 ends with the phrase \"my world.\":\n",
    "\n",
    "txt = \"Hello, welcome to my world.\"\n",
    "\n",
    "x = txt.endswith(\"my world.\", 5, 11)\n",
    "\n",
    "print(x)"
   ]
  },
  {
   "cell_type": "markdown",
   "id": "9953467c",
   "metadata": {},
   "source": [
    "#### expandtabs()\n",
    "\n",
    "`Definition and Usage`\n",
    "\n",
    "The `expandtabs()` method sets the tab size to the specified number of whitespaces.\n",
    "\n",
    "`Syntax`\n",
    "\n",
    "`string.expandtabs(tabsize)`\n",
    "\n",
    "`tabsize`------\t   Optional. A number specifying the tabsize. Default tabsize is 8\n"
   ]
  },
  {
   "cell_type": "code",
   "execution_count": 26,
   "id": "c5cc950f",
   "metadata": {},
   "outputs": [
    {
     "name": "stdout",
     "output_type": "stream",
     "text": [
      "H e l l o\n"
     ]
    }
   ],
   "source": [
    "#### Set the tab size to 2 whitespaces:\n",
    "\n",
    "txt = \"H\\te\\tl\\tl\\to\"\n",
    "\n",
    "x =  txt.expandtabs(2)\n",
    "\n",
    "print(x)"
   ]
  },
  {
   "cell_type": "code",
   "execution_count": 1,
   "id": "a84470fd",
   "metadata": {},
   "outputs": [
    {
     "name": "stdout",
     "output_type": "stream",
     "text": [
      "H\te\tl\tl\to\n",
      "H       e       l       l       o\n",
      "H e l l o\n",
      "H   e   l   l   o\n",
      "H         e         l         l         o\n"
     ]
    }
   ],
   "source": [
    "#### See the result using different tab sizes:\n",
    "\n",
    "txt = \"H\\te\\tl\\tl\\to\"\n",
    "\n",
    "print(txt)\n",
    "print(txt.expandtabs()) # txt.expandtabs(tabsize=8) default tabsize is 8\n",
    "print(txt.expandtabs(2))\n",
    "print(txt.expandtabs(4))\n",
    "print(txt.expandtabs(10))"
   ]
  },
  {
   "cell_type": "markdown",
   "id": "f738d18b",
   "metadata": {},
   "source": [
    "#### find()\n",
    "\n",
    "`Definition and Usage`\n",
    "\n",
    "* The `find()` method finds the first occurrence of the specified value.\n",
    "\n",
    "* The `find()` method returns `-1` if the value is not found.\n",
    "\n",
    "* The `find()` method is almost the same as the `index()` method, the only difference is that the `index()` method raises an exception if the value is not found. (See example below)\n",
    "\n",
    "`Syntax`\n",
    "\n",
    "`string.find(value, start, end)`\n",
    "* `value` \tRequired. The value to search for\n",
    "\n",
    "\n",
    "* `start`\tOptional. Where to start the search. Default is 0\n",
    "\n",
    "\n",
    "* `end`\t    Optional. Where to end the search. Default is to the end of the string\n"
   ]
  },
  {
   "cell_type": "code",
   "execution_count": 2,
   "id": "e097eccf",
   "metadata": {},
   "outputs": [
    {
     "name": "stdout",
     "output_type": "stream",
     "text": [
      "1\n"
     ]
    }
   ],
   "source": [
    "# Where in the text is the first occurrence of the letter \"e\"?:\n",
    "\n",
    "txt = \"Hello, welcome to my world.\"\n",
    "\n",
    "x = txt.find(\"e\")\n",
    "\n",
    "print(x)"
   ]
  },
  {
   "cell_type": "code",
   "execution_count": 35,
   "id": "d75af22e",
   "metadata": {},
   "outputs": [
    {
     "name": "stdout",
     "output_type": "stream",
     "text": [
      "4\n"
     ]
    }
   ],
   "source": [
    "print(\"Hello World\".find(\"o\"))"
   ]
  },
  {
   "cell_type": "code",
   "execution_count": 36,
   "id": "252273fd",
   "metadata": {},
   "outputs": [
    {
     "name": "stdout",
     "output_type": "stream",
     "text": [
      "-1\n"
     ]
    }
   ],
   "source": [
    "print(\"Hello World\".find(\"z\"))"
   ]
  },
  {
   "cell_type": "markdown",
   "id": "a8ca98e0",
   "metadata": {},
   "source": [
    "Where in the text is the first occurrence of the letter \"e\" when you only search between position 5 and 10?:"
   ]
  },
  {
   "cell_type": "code",
   "execution_count": 37,
   "id": "78eb4c4c",
   "metadata": {},
   "outputs": [
    {
     "name": "stdout",
     "output_type": "stream",
     "text": [
      "8\n"
     ]
    }
   ],
   "source": [
    "txt = \"Hello, welcome to my world.\"\n",
    "\n",
    "x = txt.find(\"e\", 5, 10)\n",
    "\n",
    "print(x)"
   ]
  },
  {
   "cell_type": "markdown",
   "id": "85a9036e",
   "metadata": {},
   "source": [
    "#### Example\n",
    "\n",
    "If the value is not found, the `find()` method returns `-1`, but the `index()` method will raise an exception:"
   ]
  },
  {
   "cell_type": "code",
   "execution_count": 38,
   "id": "0f42176c",
   "metadata": {},
   "outputs": [
    {
     "name": "stdout",
     "output_type": "stream",
     "text": [
      "-1\n"
     ]
    },
    {
     "ename": "ValueError",
     "evalue": "substring not found",
     "output_type": "error",
     "traceback": [
      "\u001b[1;31m---------------------------------------------------------------------------\u001b[0m",
      "\u001b[1;31mValueError\u001b[0m                                Traceback (most recent call last)",
      "Input \u001b[1;32mIn [38]\u001b[0m, in \u001b[0;36m<cell line: 4>\u001b[1;34m()\u001b[0m\n\u001b[0;32m      1\u001b[0m txt \u001b[38;5;241m=\u001b[39m \u001b[38;5;124m\"\u001b[39m\u001b[38;5;124mHello, welcome to my world.\u001b[39m\u001b[38;5;124m\"\u001b[39m\n\u001b[0;32m      3\u001b[0m \u001b[38;5;28mprint\u001b[39m(txt\u001b[38;5;241m.\u001b[39mfind(\u001b[38;5;124m\"\u001b[39m\u001b[38;5;124mq\u001b[39m\u001b[38;5;124m\"\u001b[39m))\n\u001b[1;32m----> 4\u001b[0m \u001b[38;5;28mprint\u001b[39m(\u001b[43mtxt\u001b[49m\u001b[38;5;241;43m.\u001b[39;49m\u001b[43mindex\u001b[49m\u001b[43m(\u001b[49m\u001b[38;5;124;43m\"\u001b[39;49m\u001b[38;5;124;43mq\u001b[39;49m\u001b[38;5;124;43m\"\u001b[39;49m\u001b[43m)\u001b[49m)\n",
      "\u001b[1;31mValueError\u001b[0m: substring not found"
     ]
    }
   ],
   "source": [
    "txt = \"Hello, welcome to my world.\"\n",
    "\n",
    "print(txt.find(\"q\"))\n",
    "print(txt.index(\"q\"))"
   ]
  },
  {
   "cell_type": "markdown",
   "id": "0878b5f8",
   "metadata": {},
   "source": [
    "#### format()\n",
    "\n",
    "`Definition and Usage`\n",
    "\n",
    "* The `format()` method formats the specified value(s) and insert them inside the string's placeholder.\n",
    "\n",
    "* The placeholder is defined using curly brackets: `{}`. Read more about the placeholders in the Placeholder section below.\n",
    "\n",
    "* The `format()` method returns the formatted string.\n",
    "\n",
    "`Syntax`\n",
    "\n",
    "`string.format(value1, value2...)`"
   ]
  },
  {
   "cell_type": "markdown",
   "id": "82eecc2d",
   "metadata": {},
   "source": [
    "Parameter\t------  Description\n",
    "\n",
    "\n",
    "value1, \t------ Required. One or more values that should be\n",
    "\n",
    "value2... -----  formatted and inserted in the string.\n",
    "\n",
    "The values are either a list of values separated by commas, a key=value list, or a combination of both.\n",
    "\n",
    "The values can be of any data type.\n",
    "\n",
    "`The Placeholders` \n",
    "\n",
    "The placeholders can be identified using named indexes `{price}`, numbered indexes `{0}`, or even empty placeholders `{}`."
   ]
  },
  {
   "cell_type": "code",
   "execution_count": 39,
   "id": "48526667",
   "metadata": {},
   "outputs": [
    {
     "name": "stdout",
     "output_type": "stream",
     "text": [
      "For only 49.00 dollars!\n"
     ]
    }
   ],
   "source": [
    "txt = \"For only {price:.2f} dollars!\"\n",
    "print(txt.format(price = 49))\n"
   ]
  },
  {
   "cell_type": "code",
   "execution_count": 40,
   "id": "9785d0af",
   "metadata": {},
   "outputs": [
    {
     "name": "stdout",
     "output_type": "stream",
     "text": [
      "I bought this shirt at $200 price\n"
     ]
    }
   ],
   "source": [
    "print(\"I bought this shirt at {} price\".format(\"$200\"))"
   ]
  },
  {
   "cell_type": "code",
   "execution_count": 41,
   "id": "7b93a69e",
   "metadata": {},
   "outputs": [
    {
     "name": "stdout",
     "output_type": "stream",
     "text": [
      "mango is 200/kg \n"
     ]
    }
   ],
   "source": [
    "price = 200\n",
    "fruit = \"mango\"\n",
    "\n",
    "print(\"{0} is {1}/kg \".format( fruit,price))"
   ]
  },
  {
   "cell_type": "code",
   "execution_count": 42,
   "id": "35931696",
   "metadata": {},
   "outputs": [
    {
     "name": "stdout",
     "output_type": "stream",
     "text": [
      "My name is John, I'm 36\n",
      "My name is John, I'm 36\n",
      "My name is John, I'm 36\n"
     ]
    }
   ],
   "source": [
    "txt1 = \"My name is {fname}, I'm {age}\".format(fname = \"John\", age = 36)\n",
    "txt2 = \"My name is {0}, I'm {1}\".format(\"John\",36)\n",
    "txt3 = \"My name is {}, I'm {}\".format(\"John\",36)\n",
    "print(txt1)\n",
    "print(txt2)\n",
    "print(txt3)"
   ]
  },
  {
   "cell_type": "markdown",
   "id": "330fe48f",
   "metadata": {},
   "source": [
    "**Important Note**\n",
    "\n",
    "`Formatting Types`\n",
    "\n",
    "Inside the placeholders you can add a formatting type to format the result:"
   ]
  },
  {
   "cell_type": "code",
   "execution_count": 43,
   "id": "d9e5503a",
   "metadata": {},
   "outputs": [
    {
     "name": "stdout",
     "output_type": "stream",
     "text": [
      "We have 49       chickens.\n"
     ]
    }
   ],
   "source": [
    "# \"<\"  Left aligns the result (within the available space)\n",
    "\n",
    "txt = \"We have {:<8} chickens.\"\n",
    "print(txt.format(49))"
   ]
  },
  {
   "cell_type": "code",
   "execution_count": 3,
   "id": "360b7928",
   "metadata": {},
   "outputs": [
    {
     "name": "stdout",
     "output_type": "stream",
     "text": [
      "We have 49  chickens.\n"
     ]
    }
   ],
   "source": [
    "txt = \"We have {:<3} chickens.\"\n",
    "print(txt.format(49))"
   ]
  },
  {
   "cell_type": "code",
   "execution_count": 33,
   "id": "07eaf835",
   "metadata": {},
   "outputs": [
    {
     "name": "stdout",
     "output_type": "stream",
     "text": [
      "hello in python----------- world\n"
     ]
    }
   ],
   "source": [
    "print(\"hello {:-<20} world\".format(\"in python\"))"
   ]
  },
  {
   "cell_type": "code",
   "execution_count": 45,
   "id": "3a500ff0",
   "metadata": {},
   "outputs": [
    {
     "name": "stdout",
     "output_type": "stream",
     "text": [
      "Hello in python*********** world\n"
     ]
    }
   ],
   "source": [
    "print(\"Hello {:*<20} world\".format(\"in python\"))"
   ]
  },
  {
   "cell_type": "code",
   "execution_count": 46,
   "id": "73bb7ded",
   "metadata": {},
   "outputs": [
    {
     "name": "stdout",
     "output_type": "stream",
     "text": [
      "We have       49 chickens.\n"
     ]
    }
   ],
   "source": [
    "#Use \">\" to right-align the value:\n",
    "\n",
    "txt = \"We have {:>8} chickens.\"\n",
    "print(txt.format(49))\n"
   ]
  },
  {
   "cell_type": "code",
   "execution_count": 48,
   "id": "4fe37205",
   "metadata": {},
   "outputs": [
    {
     "name": "stdout",
     "output_type": "stream",
     "text": [
      "We have ******49 chickens.\n"
     ]
    }
   ],
   "source": [
    "#Use \">\" to right-align the value:\n",
    "\n",
    "txt = \"We have {:*>8} chickens.\"\n",
    "print(txt.format(49))\n"
   ]
  },
  {
   "cell_type": "code",
   "execution_count": 49,
   "id": "25ce5b99",
   "metadata": {},
   "outputs": [
    {
     "name": "stdout",
     "output_type": "stream",
     "text": [
      "We have ======49 chickens.\n"
     ]
    }
   ],
   "source": [
    "#Use \">\" to right-align the value:\n",
    "\n",
    "txt = \"We have {:=>8} chickens.\"\n",
    "print(txt.format(49))\n"
   ]
  },
  {
   "cell_type": "code",
   "execution_count": 50,
   "id": "66398f1a",
   "metadata": {},
   "outputs": [
    {
     "name": "stdout",
     "output_type": "stream",
     "text": [
      "We have    49    chickens.\n"
     ]
    }
   ],
   "source": [
    "#Use \"^\" to center-align the value:\n",
    "\n",
    "txt = \"We have {:^8} chickens.\"\n",
    "print(txt.format(49))"
   ]
  },
  {
   "cell_type": "code",
   "execution_count": 54,
   "id": "a33b5a84",
   "metadata": {},
   "outputs": [
    {
     "name": "stdout",
     "output_type": "stream",
     "text": [
      "hello    , world!\n"
     ]
    }
   ],
   "source": [
    "txt = \"hello {:>4} world!\"\n",
    "print(txt.format(\",\"))"
   ]
  },
  {
   "cell_type": "code",
   "execution_count": 51,
   "id": "15aaf4bd",
   "metadata": {},
   "outputs": [
    {
     "name": "stdout",
     "output_type": "stream",
     "text": [
      "We have ---49--- chickens.\n"
     ]
    }
   ],
   "source": [
    "# Use \"^\" to center-align the value:\n",
    "\n",
    "txt = \"We have {:-^8} chickens.\"\n",
    "print(txt.format(49))"
   ]
  },
  {
   "cell_type": "code",
   "execution_count": 52,
   "id": "6b195949",
   "metadata": {},
   "outputs": [
    {
     "name": "stdout",
     "output_type": "stream",
     "text": [
      "The temperature is -5 degrees celsius.\n"
     ]
    }
   ],
   "source": [
    "txt = \"The temperature is {} degrees celsius.\"\n",
    "\n",
    "print(txt.format(-5))\n"
   ]
  },
  {
   "cell_type": "code",
   "execution_count": 32,
   "id": "efcb7c96",
   "metadata": {},
   "outputs": [
    {
     "name": "stdout",
     "output_type": "stream",
     "text": [
      "The temperature is -      5 degrees celsius.\n"
     ]
    }
   ],
   "source": [
    "#Use \"=\" to place the plus/minus sign \n",
    "# at the left most position:\n",
    "\n",
    "txt = \"The temperature is {:=8} degrees celsius.\"\n",
    "\n",
    "print(txt.format(-5))\n"
   ]
  },
  {
   "cell_type": "code",
   "execution_count": 5,
   "id": "2ccaca91",
   "metadata": {},
   "outputs": [
    {
     "name": "stdout",
     "output_type": "stream",
     "text": [
      "The temperature is - 5 degrees celsius.\n"
     ]
    }
   ],
   "source": [
    "txt = \"The temperature is {:=3} degrees celsius.\"\n",
    "\n",
    "print(txt.format(-5))"
   ]
  },
  {
   "cell_type": "code",
   "execution_count": 33,
   "id": "142ff3ae",
   "metadata": {},
   "outputs": [
    {
     "name": "stdout",
     "output_type": "stream",
     "text": [
      "In winter temp. goes -    5 degree celsius\n"
     ]
    }
   ],
   "source": [
    "txt = \"In winter temp. goes {:=6} degree celsius\"\n",
    "print(txt.format(-5))"
   ]
  },
  {
   "cell_type": "code",
   "execution_count": 34,
   "id": "1119cd12",
   "metadata": {},
   "outputs": [
    {
     "name": "stdout",
     "output_type": "stream",
     "text": [
      "The temperature is between -3 and +7 degrees celsius.\n"
     ]
    }
   ],
   "source": [
    "#Use \"+\" to always indicate if the number is\n",
    "# positive or negative:\n",
    "\n",
    "txt = \"The temperature is between {:+} and {:+} degrees celsius.\"\n",
    "\n",
    "print(txt.format(-3, 7))\n"
   ]
  },
  {
   "cell_type": "code",
   "execution_count": 35,
   "id": "ed76a9f2",
   "metadata": {},
   "outputs": [
    {
     "name": "stdout",
     "output_type": "stream",
     "text": [
      "-14 *C and +25 *C\n"
     ]
    }
   ],
   "source": [
    "print(\"{:+} *C and {:+} *C\".format(-14, 25))"
   ]
  },
  {
   "cell_type": "code",
   "execution_count": 36,
   "id": "b9899472",
   "metadata": {},
   "outputs": [
    {
     "name": "stdout",
     "output_type": "stream",
     "text": [
      "The temperature is between -3 and 7 degrees celsius.\n"
     ]
    }
   ],
   "source": [
    "#Use \"-\" to always indicate if the number is\n",
    "# negative (positive numbers are displayed\n",
    "# without any sign):\n",
    "\n",
    "txt = \"The temperature is between {:-} and {:-} degrees celsius.\"\n",
    "\n",
    "print(txt.format(-3, 7))\n"
   ]
  },
  {
   "cell_type": "code",
   "execution_count": 37,
   "id": "f5b4a25c",
   "metadata": {},
   "outputs": [
    {
     "name": "stdout",
     "output_type": "stream",
     "text": [
      "-3*c and 8*c\n"
     ]
    }
   ],
   "source": [
    "print(\"{:-}*c and {:-}*c\".format(-3, 8))"
   ]
  },
  {
   "cell_type": "code",
   "execution_count": 56,
   "id": "2797caac",
   "metadata": {},
   "outputs": [
    {
     "name": "stdout",
     "output_type": "stream",
     "text": [
      "The temperature is between -3 and 7 degrees celsius.\n"
     ]
    }
   ],
   "source": [
    "#Use \" \" (a space) to insert a space before positive numbers and a minus sign before negative numbers:\n",
    "\n",
    "txt = \"The temperature is between {:} and {:} degrees celsius.\"\n",
    "\n",
    "print(txt.format(-3, 7))\n"
   ]
  },
  {
   "cell_type": "code",
   "execution_count": 57,
   "id": "1b952c60",
   "metadata": {},
   "outputs": [
    {
     "name": "stdout",
     "output_type": "stream",
     "text": [
      "Hello world friends, welcome to Python Programming\n"
     ]
    }
   ],
   "source": [
    "print(\"Hello world {:\" \"}, welcome to Python Programming\".format(\"friends\"))"
   ]
  },
  {
   "cell_type": "code",
   "execution_count": 58,
   "id": "1419dc12",
   "metadata": {},
   "outputs": [
    {
     "name": "stdout",
     "output_type": "stream",
     "text": [
      "-3*c and 8*c\n"
     ]
    }
   ],
   "source": [
    "print(\"{:}*c and {:}*c\".format(-3, 8))"
   ]
  },
  {
   "cell_type": "code",
   "execution_count": 59,
   "id": "46832042",
   "metadata": {},
   "outputs": [
    {
     "name": "stdout",
     "output_type": "stream",
     "text": [
      "The universe is 13,800,000,000 years old.\n"
     ]
    }
   ],
   "source": [
    "#Use \",\" to add a comma as a \n",
    "# thousand separator:\n",
    "\n",
    "txt = \"The universe is {:,} years old.\"\n",
    "\n",
    "print(txt.format(13800000000))\n"
   ]
  },
  {
   "cell_type": "code",
   "execution_count": 60,
   "id": "79800bbf",
   "metadata": {},
   "outputs": [
    {
     "name": "stdout",
     "output_type": "stream",
     "text": [
      "the value is 1,000,503 Rupees\n"
     ]
    }
   ],
   "source": [
    "print(\"the value is {:,} Rupees\".format(1000503))"
   ]
  },
  {
   "cell_type": "code",
   "execution_count": 61,
   "id": "e3063e02",
   "metadata": {},
   "outputs": [
    {
     "name": "stdout",
     "output_type": "stream",
     "text": [
      "$15,000.\n"
     ]
    }
   ],
   "source": [
    "print(\"${:,}.\".format(15000))"
   ]
  },
  {
   "cell_type": "code",
   "execution_count": 62,
   "id": "673ee0b1",
   "metadata": {},
   "outputs": [
    {
     "name": "stdout",
     "output_type": "stream",
     "text": [
      "$15,000,345.\n"
     ]
    }
   ],
   "source": [
    "print(\"${:,}.\".format(15000345))"
   ]
  },
  {
   "cell_type": "code",
   "execution_count": 63,
   "id": "1cc84daa",
   "metadata": {},
   "outputs": [
    {
     "name": "stdout",
     "output_type": "stream",
     "text": [
      "The universe is 13_800_000_000 years old.\n"
     ]
    }
   ],
   "source": [
    "#Use \"_\" to add a underscore character as a thousand separator:\n",
    "\n",
    "txt = \"The universe is {:_} years old.\"\n",
    "\n",
    "print(txt.format(13800000000))\n"
   ]
  },
  {
   "cell_type": "code",
   "execution_count": 64,
   "id": "f1e0cc94",
   "metadata": {},
   "outputs": [
    {
     "name": "stdout",
     "output_type": "stream",
     "text": [
      "$15_000_352.\n"
     ]
    }
   ],
   "source": [
    "print(\"${:_}.\".format(15000352))"
   ]
  },
  {
   "cell_type": "code",
   "execution_count": 65,
   "id": "ea586892",
   "metadata": {},
   "outputs": [
    {
     "name": "stdout",
     "output_type": "stream",
     "text": [
      "$######15000352######.\n"
     ]
    }
   ],
   "source": [
    "print(\"${:#^20}.\".format(15000352))"
   ]
  },
  {
   "cell_type": "code",
   "execution_count": 66,
   "id": "b6940042",
   "metadata": {},
   "outputs": [
    {
     "name": "stdout",
     "output_type": "stream",
     "text": [
      "The binary version of 5 is 101\n"
     ]
    }
   ],
   "source": [
    "#Use \"b\" to convert the number into binary format:\n",
    "\n",
    "txt = \"The binary version of {0} is {0:b}\"\n",
    "\n",
    "print(txt.format(5))"
   ]
  },
  {
   "cell_type": "code",
   "execution_count": 43,
   "id": "4b5dfa3c",
   "metadata": {},
   "outputs": [
    {
     "name": "stdout",
     "output_type": "stream",
     "text": [
      "The binary version of 5 is 101\n"
     ]
    }
   ],
   "source": [
    "txt = \"The binary version of {0} is {0:b}\"\n",
    "\n",
    "print(txt.format(5))"
   ]
  },
  {
   "cell_type": "code",
   "execution_count": 3,
   "id": "130291ea",
   "metadata": {},
   "outputs": [
    {
     "name": "stdout",
     "output_type": "stream",
     "text": [
      "binary of 5 is 101\n"
     ]
    }
   ],
   "source": [
    "print(\"binary of {0} is {0:b}\".format(5))"
   ]
  },
  {
   "cell_type": "code",
   "execution_count": 2,
   "id": "b09c9b78",
   "metadata": {},
   "outputs": [
    {
     "name": "stdout",
     "output_type": "stream",
     "text": [
      "binary of 9 is 1001\n"
     ]
    }
   ],
   "source": [
    "print(\"binary of {0} is {0:b}\".format(9))"
   ]
  },
  {
   "cell_type": "code",
   "execution_count": 1,
   "id": "c20afb97",
   "metadata": {},
   "outputs": [
    {
     "name": "stdout",
     "output_type": "stream",
     "text": [
      "please enter integer: h\n",
      "It seems wrong input\n",
      "please enter integer: 9\n",
      "The binary version of 9 is :1001\n"
     ]
    }
   ],
   "source": [
    "while True:\n",
    "    try:\n",
    "        num = int(input(\"please enter integer: \"))\n",
    "        break\n",
    "    except:\n",
    "        print(\"It seems wrong input\")\n",
    "        \n",
    "        \n",
    "print(\"The binary version of {0} is :{0:b}\".format(num))"
   ]
  },
  {
   "cell_type": "markdown",
   "id": "c1376044",
   "metadata": {},
   "source": [
    "#### :c\t\n",
    "\n",
    "Converts the value into the corresponding unicode character"
   ]
  },
  {
   "cell_type": "code",
   "execution_count": 69,
   "id": "3d09c279",
   "metadata": {},
   "outputs": [
    {
     "name": "stdout",
     "output_type": "stream",
     "text": [
      "The version of 5 is \u0005\n"
     ]
    }
   ],
   "source": [
    "txt = \"The version of {0} is {0:c}\"\n",
    "\n",
    "print(txt.format(5))"
   ]
  },
  {
   "cell_type": "code",
   "execution_count": 70,
   "id": "04df74e4",
   "metadata": {},
   "outputs": [
    {
     "name": "stdout",
     "output_type": "stream",
     "text": [
      "The version of 12 is \f",
      "\n"
     ]
    }
   ],
   "source": [
    "txt = \"The version of {0} is {0:c}\"\n",
    "\n",
    "print(txt.format(12))"
   ]
  },
  {
   "cell_type": "code",
   "execution_count": 71,
   "id": "452d5f65",
   "metadata": {},
   "outputs": [
    {
     "name": "stdout",
     "output_type": "stream",
     "text": [
      "We have 5 chickens.\n"
     ]
    }
   ],
   "source": [
    "# Use \"d\" to convert a number, in this case \n",
    "# a binary number, into decimal number\n",
    "# format:\n",
    "\n",
    "txt = \"We have {:d} chickens.\"\n",
    "print(txt.format(0b101))\n"
   ]
  },
  {
   "cell_type": "code",
   "execution_count": 72,
   "id": "723ddc36",
   "metadata": {},
   "outputs": [
    {
     "ename": "ValueError",
     "evalue": "Unknown format code 'd' for object of type 'float'",
     "output_type": "error",
     "traceback": [
      "\u001b[1;31m---------------------------------------------------------------------------\u001b[0m",
      "\u001b[1;31mValueError\u001b[0m                                Traceback (most recent call last)",
      "Input \u001b[1;32mIn [72]\u001b[0m, in \u001b[0;36m<cell line: 2>\u001b[1;34m()\u001b[0m\n\u001b[0;32m      1\u001b[0m txt \u001b[38;5;241m=\u001b[39m \u001b[38;5;124m\"\u001b[39m\u001b[38;5;124mWe have \u001b[39m\u001b[38;5;132;01m{:d}\u001b[39;00m\u001b[38;5;124m chickens.\u001b[39m\u001b[38;5;124m\"\u001b[39m\n\u001b[1;32m----> 2\u001b[0m \u001b[38;5;28mprint\u001b[39m(\u001b[43mtxt\u001b[49m\u001b[38;5;241;43m.\u001b[39;49m\u001b[43mformat\u001b[49m\u001b[43m(\u001b[49m\u001b[38;5;241;43m5.000000e+00\u001b[39;49m\u001b[43m)\u001b[49m)\n",
      "\u001b[1;31mValueError\u001b[0m: Unknown format code 'd' for object of type 'float'"
     ]
    }
   ],
   "source": [
    "txt = \"We have {:d} chickens.\"\n",
    "print(txt.format(5.000000e+00))\n"
   ]
  },
  {
   "cell_type": "markdown",
   "id": "8c0f1fbc",
   "metadata": {},
   "source": [
    "we can't convert 'scientific' value into number by using 'd' we can convert it by using general format, will see it later "
   ]
  },
  {
   "cell_type": "code",
   "execution_count": 73,
   "id": "3f55df3b",
   "metadata": {},
   "outputs": [
    {
     "name": "stdout",
     "output_type": "stream",
     "text": [
      "We have 5.000000e+00 chickens.\n"
     ]
    }
   ],
   "source": [
    "#Use \"e\" to convert a number into scientific\n",
    "# number format (with a lower-case e):\n",
    "\n",
    "txt = \"We have {:e} chickens.\"\n",
    "print(txt.format(5))\n"
   ]
  },
  {
   "cell_type": "code",
   "execution_count": 74,
   "id": "d26a833b",
   "metadata": {},
   "outputs": [
    {
     "name": "stdout",
     "output_type": "stream",
     "text": [
      "We have 5.000000E+00 chickens.\n"
     ]
    }
   ],
   "source": [
    "#Use \"E\" to convert a number into scientific\n",
    "# number format (with an upper-case E):\n",
    "\n",
    "txt = \"We have {:E} chickens.\"\n",
    "print(txt.format(5))\n"
   ]
  },
  {
   "cell_type": "code",
   "execution_count": 77,
   "id": "da31feb7",
   "metadata": {},
   "outputs": [
    {
     "name": "stdout",
     "output_type": "stream",
     "text": [
      "We have 5.000034E+04 chickens.\n"
     ]
    }
   ],
   "source": [
    "\n",
    "txt = \"We have {:E} chickens.\"\n",
    "print(txt.format(50000.344))\n"
   ]
  },
  {
   "cell_type": "code",
   "execution_count": 5,
   "id": "bbd93971",
   "metadata": {},
   "outputs": [
    {
     "name": "stdout",
     "output_type": "stream",
     "text": [
      "We have 3.49E+04 chickens.\n"
     ]
    }
   ],
   "source": [
    "\n",
    "txt = \"We have {:.2E} chickens.\"\n",
    "print(txt.format(34883.34))\n"
   ]
  },
  {
   "cell_type": "code",
   "execution_count": 11,
   "id": "cedb981b",
   "metadata": {},
   "outputs": [
    {
     "name": "stdout",
     "output_type": "stream",
     "text": [
      "We have 5.20e+00 chickens.\n"
     ]
    }
   ],
   "source": [
    "\n",
    "txt = \"We have {:.2e} chickens.\"\n",
    "print(txt.format(5.2))\n"
   ]
  },
  {
   "cell_type": "code",
   "execution_count": 6,
   "id": "59bdcd0a",
   "metadata": {},
   "outputs": [
    {
     "data": {
      "text/plain": [
       "230"
      ]
     },
     "execution_count": 6,
     "metadata": {},
     "output_type": "execute_result"
    }
   ],
   "source": [
    "int(2.3e+2)"
   ]
  },
  {
   "cell_type": "code",
   "execution_count": 7,
   "id": "29516056",
   "metadata": {},
   "outputs": [
    {
     "data": {
      "text/plain": [
       "23230"
      ]
     },
     "execution_count": 7,
     "metadata": {},
     "output_type": "execute_result"
    }
   ],
   "source": [
    "# by int casting we can convert scietific value to interger value \n",
    "a = 23.23e+3\n",
    "int(a)"
   ]
  },
  {
   "cell_type": "markdown",
   "id": "61237044",
   "metadata": {},
   "source": [
    "#### Use \"f\" \n",
    "\n",
    "to convert a number into a fixed point number, default with 6 decimals, but use a period followed by a number to specify the number of decimals:\n"
   ]
  },
  {
   "cell_type": "code",
   "execution_count": 82,
   "id": "10b26b6d",
   "metadata": {},
   "outputs": [
    {
     "name": "stdout",
     "output_type": "stream",
     "text": [
      "The price is 45.000000 dollars.\n"
     ]
    }
   ],
   "source": [
    "txt = \"The price is {:f} dollars.\"\n",
    "print(txt.format(45))"
   ]
  },
  {
   "cell_type": "code",
   "execution_count": 83,
   "id": "9a79c3c2",
   "metadata": {},
   "outputs": [
    {
     "name": "stdout",
     "output_type": "stream",
     "text": [
      "The price is 45.00 dollars.\n"
     ]
    }
   ],
   "source": [
    "txt = \"The price is {:.2f} dollars.\"\n",
    "print(txt.format(45))\n"
   ]
  },
  {
   "cell_type": "code",
   "execution_count": 84,
   "id": "0c603b59",
   "metadata": {},
   "outputs": [
    {
     "name": "stdout",
     "output_type": "stream",
     "text": [
      "The price is 45.000000 dollars.\n"
     ]
    }
   ],
   "source": [
    "# without the \".2\" inside the placeholder,\n",
    "# this number will be displayed like this:\n",
    "\n",
    "\n",
    "txt = \"The price is {:f} dollars.\"\n",
    "print(txt.format(45))\n"
   ]
  },
  {
   "cell_type": "code",
   "execution_count": 85,
   "id": "ecffb9fc",
   "metadata": {},
   "outputs": [
    {
     "name": "stdout",
     "output_type": "stream",
     "text": [
      "The price is 45.000000 dollars.\n"
     ]
    }
   ],
   "source": [
    "txt = \"The price is {0:f} dollars.\"\n",
    "print(txt.format(45))"
   ]
  },
  {
   "cell_type": "code",
   "execution_count": 86,
   "id": "33cc3df3",
   "metadata": {},
   "outputs": [
    {
     "name": "stdout",
     "output_type": "stream",
     "text": [
      "The price is      45.00 dollars.\n"
     ]
    }
   ],
   "source": [
    "txt = \"The price is {:10.2f} dollars.\"\n",
    "print(txt.format(45))\n",
    "\n",
    "# here we have taken 10 places before the decimal place and we have only 2 digit before the decimal so\n",
    "# it has been paded with 'whitespace' to cover rest place "
   ]
  },
  {
   "cell_type": "markdown",
   "id": "e2793868",
   "metadata": {},
   "source": [
    "#### Use \"F\" \n",
    "\n",
    "to convert a number into a fixed point number, but display inf and nan as INF and NAN:"
   ]
  },
  {
   "cell_type": "code",
   "execution_count": 87,
   "id": "3f1471e1",
   "metadata": {},
   "outputs": [
    {
     "name": "stdout",
     "output_type": "stream",
     "text": [
      "The price is INF dollars.\n"
     ]
    }
   ],
   "source": [
    "x = float('inf')\n",
    "\n",
    "txt = \"The price is {:F} dollars.\"\n",
    "print(txt.format(x))\n"
   ]
  },
  {
   "cell_type": "code",
   "execution_count": 66,
   "id": "a1bb3b39",
   "metadata": {},
   "outputs": [
    {
     "name": "stdout",
     "output_type": "stream",
     "text": [
      "The price is INF dollars.\n"
     ]
    }
   ],
   "source": [
    "x = float('inf')\n",
    "\n",
    "txt = \"The price is {:F} dollars.\"\n",
    "print(txt.format(x))\n"
   ]
  },
  {
   "cell_type": "code",
   "execution_count": 20,
   "id": "286cadab",
   "metadata": {},
   "outputs": [
    {
     "name": "stdout",
     "output_type": "stream",
     "text": [
      "The price is NAN dollars.\n"
     ]
    }
   ],
   "source": [
    "x = float('nan')\n",
    "\n",
    "txt = \"The price is {:F} dollars.\"\n",
    "print(txt.format(x))"
   ]
  },
  {
   "cell_type": "code",
   "execution_count": 67,
   "id": "2dc68288",
   "metadata": {},
   "outputs": [
    {
     "name": "stdout",
     "output_type": "stream",
     "text": [
      "The price is inf dollars.\n"
     ]
    }
   ],
   "source": [
    "#same example, but with a lower case f:\n",
    "x = float('inf')\n",
    "txt = \"The price is {:f} dollars.\"\n",
    "print(txt.format(x))\n"
   ]
  },
  {
   "cell_type": "markdown",
   "id": "6ee13904",
   "metadata": {},
   "source": [
    "####  to convert scientific to general form \n",
    "\n",
    "`:g\t`-------\tGeneral format\n",
    "\n",
    "`:G\t`\t------  General format (using a upper case E for scientific notations)"
   ]
  },
  {
   "cell_type": "code",
   "execution_count": 19,
   "id": "0d60438f",
   "metadata": {},
   "outputs": [
    {
     "name": "stdout",
     "output_type": "stream",
     "text": [
      "The price is 345.46 dollars.\n"
     ]
    }
   ],
   "source": [
    "# this is important and need to keep in mind whenever we want to convert scientific \n",
    "# to general and  if it is in float we can convert it into integer.\n",
    "txt = \"The price is {:g} dollars.\"\n",
    "print(txt.format(3.4546e+2))\n"
   ]
  },
  {
   "cell_type": "code",
   "execution_count": 20,
   "id": "d730ddc6",
   "metadata": {},
   "outputs": [
    {
     "name": "stdout",
     "output_type": "stream",
     "text": [
      "The price is 345.46g dollars.\n"
     ]
    }
   ],
   "source": [
    "txt = \"The price is {:G}g dollars.\"\n",
    "print(txt.format(3.4546E+2))\n"
   ]
  },
  {
   "cell_type": "code",
   "execution_count": 21,
   "id": "3fd5741a",
   "metadata": {},
   "outputs": [
    {
     "name": "stdout",
     "output_type": "stream",
     "text": [
      "The price is 345.46g dollars.\n"
     ]
    }
   ],
   "source": [
    "txt = \"The price is {:G}g dollars.\"\n",
    "print(txt.format(3.4546e+2))"
   ]
  },
  {
   "cell_type": "code",
   "execution_count": 22,
   "id": "0c40e812",
   "metadata": {},
   "outputs": [
    {
     "name": "stdout",
     "output_type": "stream",
     "text": [
      "The price is 5g dollars.\n"
     ]
    }
   ],
   "source": [
    "txt = \"The price is {:g}g dollars.\"\n",
    "print(txt.format(5.000000e+00))\n"
   ]
  },
  {
   "cell_type": "code",
   "execution_count": 23,
   "id": "13f2c427",
   "metadata": {},
   "outputs": [
    {
     "name": "stdout",
     "output_type": "stream",
     "text": [
      "The price is 5 dollars.\n"
     ]
    }
   ],
   "source": [
    "txt = \"The price is {:G} dollars.\"\n",
    "print(txt.format(5.000000e+00))\n"
   ]
  },
  {
   "cell_type": "code",
   "execution_count": 24,
   "id": "53e2b086",
   "metadata": {},
   "outputs": [
    {
     "name": "stdout",
     "output_type": "stream",
     "text": [
      "The price is 5340 dollars.\n"
     ]
    }
   ],
   "source": [
    "txt = \"The price is {:g} dollars.\"\n",
    "print(txt.format(5.34e3))"
   ]
  },
  {
   "cell_type": "code",
   "execution_count": 25,
   "id": "564ac83f",
   "metadata": {},
   "outputs": [
    {
     "name": "stdout",
     "output_type": "stream",
     "text": [
      "The price is 5.343 dollars.\n"
     ]
    }
   ],
   "source": [
    "txt = \"The price is {:g} dollars.\"\n",
    "print(txt.format(5.343))"
   ]
  },
  {
   "cell_type": "code",
   "execution_count": 26,
   "id": "0b6018bc",
   "metadata": {},
   "outputs": [
    {
     "name": "stdout",
     "output_type": "stream",
     "text": [
      "The price is 5340 dollars.\n"
     ]
    }
   ],
   "source": [
    "txt = \"The price is {:g} dollars.\"\n",
    "print(txt.format(5.34e3))"
   ]
  },
  {
   "cell_type": "code",
   "execution_count": 27,
   "id": "f22f3999",
   "metadata": {},
   "outputs": [
    {
     "name": "stdout",
     "output_type": "stream",
     "text": [
      "<class 'float'>\n"
     ]
    }
   ],
   "source": [
    "print(type(5.3e3))"
   ]
  },
  {
   "cell_type": "code",
   "execution_count": 8,
   "id": "5e05e7c3",
   "metadata": {},
   "outputs": [
    {
     "name": "stdout",
     "output_type": "stream",
     "text": [
      "Enter the Scientific value:2.34e+2\n",
      "The scientific value 2.34e+2 in integer : 234\n"
     ]
    }
   ],
   "source": [
    "# note - scietific notation is a float value \n",
    "\n",
    "num = input(\"Enter the Scientific value:\")\n",
    "gen_num = \"{:g}\".format(eval(num))\n",
    "\n",
    "\n",
    "print(f\"The scientific value {num} in integer : {gen_num}\")"
   ]
  },
  {
   "cell_type": "code",
   "execution_count": 19,
   "id": "83ef075f",
   "metadata": {},
   "outputs": [
    {
     "name": "stdout",
     "output_type": "stream",
     "text": [
      "Enter the Scientific value:23.3e+5\n",
      "The scientific value 23.3e+5 in integer : 2330000.0\n"
     ]
    }
   ],
   "source": [
    "# we can use very simple way as well\n",
    "num = input(\"Enter the Scientific value:\")\n",
    "print(f\"The scientific value {num} in integer : {float(num)}\")"
   ]
  },
  {
   "cell_type": "markdown",
   "id": "aa7e8a33",
   "metadata": {},
   "source": [
    "#### to convert Octal format"
   ]
  },
  {
   "cell_type": "code",
   "execution_count": 28,
   "id": "74da5f48",
   "metadata": {},
   "outputs": [
    {
     "name": "stdout",
     "output_type": "stream",
     "text": [
      "The octal version of 10 is 12\n"
     ]
    }
   ],
   "source": [
    "#Use \"o\" to convert the number into octal format:\n",
    "\n",
    "txt = \"The octal version of {0} is {0:o}\"\n",
    "\n",
    "print(txt.format(10))\n"
   ]
  },
  {
   "cell_type": "code",
   "execution_count": 29,
   "id": "2c4a8e46",
   "metadata": {},
   "outputs": [
    {
     "name": "stdout",
     "output_type": "stream",
     "text": [
      "The octal version of 25 is 31\n"
     ]
    }
   ],
   "source": [
    "txt = \"The octal version of {0} is {0:o}\"\n",
    "\n",
    "print(txt.format(25))\n"
   ]
  },
  {
   "cell_type": "code",
   "execution_count": null,
   "id": "356ab4b3",
   "metadata": {},
   "outputs": [],
   "source": [
    "txt = \"The octal version of {0} is {0:o}\"\n",
    "\n",
    "print(txt.format(25))\n"
   ]
  },
  {
   "cell_type": "code",
   "execution_count": 2,
   "id": "edfd9e41",
   "metadata": {},
   "outputs": [
    {
     "data": {
      "text/plain": [
       "'0o31'"
      ]
     },
     "execution_count": 2,
     "metadata": {},
     "output_type": "execute_result"
    }
   ],
   "source": [
    "oct(25)"
   ]
  },
  {
   "cell_type": "code",
   "execution_count": 18,
   "id": "84e12d6d",
   "metadata": {},
   "outputs": [
    {
     "name": "stdout",
     "output_type": "stream",
     "text": [
      "Normal version of Octal number is : 25\n"
     ]
    }
   ],
   "source": [
    "txt = \"Normal version of Octal number is : {:n}\"\n",
    "\n",
    "print(txt.format(0o31))\n"
   ]
  },
  {
   "cell_type": "markdown",
   "id": "fa1eea1c",
   "metadata": {},
   "source": [
    "#### To convert Hex format"
   ]
  },
  {
   "cell_type": "code",
   "execution_count": 82,
   "id": "92b016e8",
   "metadata": {},
   "outputs": [
    {
     "name": "stdout",
     "output_type": "stream",
     "text": [
      "The Hexadecimal version of 255 is ff\n"
     ]
    }
   ],
   "source": [
    "#Use \"x\" to convert the number into Hex format:\n",
    "\n",
    "txt = \"The Hexadecimal version of {0} is {0:x}\"\n",
    "\n",
    "print(txt.format(255))"
   ]
  },
  {
   "cell_type": "code",
   "execution_count": 12,
   "id": "16e89ed6",
   "metadata": {},
   "outputs": [
    {
     "name": "stdout",
     "output_type": "stream",
     "text": [
      "The Hexadecimal version of 111 is 6f\n"
     ]
    }
   ],
   "source": [
    "#Use \"x\" to convert the number into Hex format:\n",
    "\n",
    "txt = \"The Hexadecimal version of {0} is {0:x}\"\n",
    "\n",
    "print(txt.format(111))"
   ]
  },
  {
   "cell_type": "code",
   "execution_count": 14,
   "id": "d90f007a",
   "metadata": {},
   "outputs": [
    {
     "name": "stdout",
     "output_type": "stream",
     "text": [
      "Enter the number and get Hex value of the number: 111\n",
      "111's Hex value is : 6f\n"
     ]
    }
   ],
   "source": [
    "num = int(input(\"Enter the number and get Hex value of the number: \"))\n",
    "print(\"{0}'s Hex value is : {0:x}\".format(num))"
   ]
  },
  {
   "cell_type": "markdown",
   "id": "83345a85",
   "metadata": {},
   "source": [
    "#### to convert upper case hex code"
   ]
  },
  {
   "cell_type": "code",
   "execution_count": 15,
   "id": "bf25b48c",
   "metadata": {},
   "outputs": [
    {
     "name": "stdout",
     "output_type": "stream",
     "text": [
      "The Hexadecimal version of 255 is FF\n"
     ]
    }
   ],
   "source": [
    "#Use \"X\" to convert the number into upper-case Hex format:\n",
    "\n",
    "txt = \"The Hexadecimal version of {0} is {0:X}\"\n",
    "\n",
    "print(txt.format(255))"
   ]
  },
  {
   "cell_type": "code",
   "execution_count": 16,
   "id": "05965a8b",
   "metadata": {},
   "outputs": [
    {
     "name": "stdout",
     "output_type": "stream",
     "text": [
      "Enter the number: 255\n",
      "The Hexadecimal version of 255 is FF\n"
     ]
    }
   ],
   "source": [
    "#Use \"X\" to convert the number into upper-case Hex format:\n",
    "\n",
    "txt = \"The Hexadecimal version of {0} is {0:X}\"\n",
    "\n",
    "print(txt.format(int(input(\"Enter the number: \"))))"
   ]
  },
  {
   "cell_type": "markdown",
   "id": "845f8dc0",
   "metadata": {},
   "source": [
    "#### :n --- normal format"
   ]
  },
  {
   "cell_type": "code",
   "execution_count": 17,
   "id": "c6331372",
   "metadata": {},
   "outputs": [
    {
     "name": "stdout",
     "output_type": "stream",
     "text": [
      "The Normal version of 12360.0 is 12360\n"
     ]
    }
   ],
   "source": [
    "txt = \"The Normal version of {0} is {0:n}\"\n",
    "\n",
    "print(txt.format(12.36e+3))"
   ]
  },
  {
   "cell_type": "code",
   "execution_count": 18,
   "id": "b2d541ff",
   "metadata": {},
   "outputs": [
    {
     "name": "stdout",
     "output_type": "stream",
     "text": [
      "The Normal version of 125.0 is 125\n"
     ]
    }
   ],
   "source": [
    "txt = \"The Normal version of {0} is {0:n}\"\n",
    "\n",
    "print(txt.format(125.00))"
   ]
  },
  {
   "cell_type": "code",
   "execution_count": 19,
   "id": "7198570e",
   "metadata": {},
   "outputs": [
    {
     "name": "stdout",
     "output_type": "stream",
     "text": [
      "The Normal version of 125.01 is 125.01\n"
     ]
    }
   ],
   "source": [
    "txt = \"The Normal version of {0} is {0:n}\"\n",
    "\n",
    "print(txt.format(125.01))"
   ]
  },
  {
   "cell_type": "code",
   "execution_count": 19,
   "id": "1781fc5d",
   "metadata": {},
   "outputs": [
    {
     "name": "stdout",
     "output_type": "stream",
     "text": [
      "The Normal version of 125.01 is 125.01\n"
     ]
    }
   ],
   "source": [
    "txt = \"The Normal version of {0} is {0:n}\"\n",
    "\n",
    "print(txt.format(125.01))"
   ]
  },
  {
   "cell_type": "code",
   "execution_count": 21,
   "id": "11cc9977",
   "metadata": {},
   "outputs": [
    {
     "name": "stdout",
     "output_type": "stream",
     "text": [
      "The Normal version of 125.2334 is 125.233\n"
     ]
    }
   ],
   "source": [
    "txt = \"The Normal version of {0} is {0:n}\"\n",
    "\n",
    "print(txt.format(125.2334))"
   ]
  },
  {
   "cell_type": "markdown",
   "id": "de02a912",
   "metadata": {},
   "source": [
    "#### To convert % Format"
   ]
  },
  {
   "cell_type": "code",
   "execution_count": 22,
   "id": "0a950d25",
   "metadata": {},
   "outputs": [
    {
     "name": "stdout",
     "output_type": "stream",
     "text": [
      "You scored 25.000000%\n"
     ]
    }
   ],
   "source": [
    "#Use \"%\" to convert the number into a percentage format:\n",
    "\n",
    "txt = \"You scored {:%}\"\n",
    "print(txt.format(0.25))\n",
    "# but after decimal default value is 6 places "
   ]
  },
  {
   "cell_type": "code",
   "execution_count": 23,
   "id": "9d1b1960",
   "metadata": {},
   "outputs": [
    {
     "name": "stdout",
     "output_type": "stream",
     "text": [
      "You scored 25.00%\n"
     ]
    }
   ],
   "source": [
    "# to reduce places after the decimal place we can use :.2f\n",
    "txt = \"You scored {:.2%}\"\n",
    "print(txt.format(0.25))\n"
   ]
  },
  {
   "cell_type": "code",
   "execution_count": 24,
   "id": "e5844a02",
   "metadata": {},
   "outputs": [
    {
     "name": "stdout",
     "output_type": "stream",
     "text": [
      "You scored 25%\n"
     ]
    }
   ],
   "source": [
    "#Or, without any decimals:\n",
    "\n",
    "txt = \"You scored {:.0%}\"\n",
    "print(txt.format(0.25))\n"
   ]
  },
  {
   "cell_type": "code",
   "execution_count": 26,
   "id": "b3d7ad21",
   "metadata": {},
   "outputs": [
    {
     "name": "stdout",
     "output_type": "stream",
     "text": [
      "You scored 25.00 %\n"
     ]
    }
   ],
   "source": [
    "txt = \"You scored {:.2f} %\"\n",
    "print(txt.format(25))"
   ]
  },
  {
   "cell_type": "code",
   "execution_count": null,
   "id": "054ea7ae",
   "metadata": {},
   "outputs": [],
   "source": []
  }
 ],
 "metadata": {
  "kernelspec": {
   "display_name": "Python 3 (ipykernel)",
   "language": "python",
   "name": "python3"
  },
  "language_info": {
   "codemirror_mode": {
    "name": "ipython",
    "version": 3
   },
   "file_extension": ".py",
   "mimetype": "text/x-python",
   "name": "python",
   "nbconvert_exporter": "python",
   "pygments_lexer": "ipython3",
   "version": "3.9.7"
  }
 },
 "nbformat": 4,
 "nbformat_minor": 5
}

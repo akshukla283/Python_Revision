{
 "cells": [
  {
   "cell_type": "markdown",
   "id": "0e0713e4",
   "metadata": {},
   "source": [
    "#### Python For Loops\n",
    "\n",
    "A `for `loop is used for iterating over a sequence (that is either a list, a tuple, a dictionary, a set, or a string).\n",
    "\n",
    "This is less like the `for` keyword in other programming languages, and works more like an iterator method as found in other object-orientated programming languages.\n",
    "\n",
    "With the` for` loop we can execute a set of statements, once for each item in a list, tuple, set etc."
   ]
  },
  {
   "cell_type": "code",
   "execution_count": 1,
   "id": "84426251",
   "metadata": {
    "scrolled": true
   },
   "outputs": [
    {
     "name": "stdout",
     "output_type": "stream",
     "text": [
      "apple\n",
      "banana\n",
      "cherry\n"
     ]
    }
   ],
   "source": [
    "# Print each fruit in a fruit list\n",
    "fruits = [\"apple\", \"banana\", \"cherry\"]\n",
    "for x in fruits:\n",
    "    print(x)\n",
    "    \n",
    "# The for loop does not require an indexing\n",
    "# variable to set beforehand."
   ]
  },
  {
   "cell_type": "markdown",
   "id": "f2f1a71b",
   "metadata": {},
   "source": [
    "#### Looping Through a String"
   ]
  },
  {
   "cell_type": "code",
   "execution_count": 2,
   "id": "bef05b00",
   "metadata": {},
   "outputs": [
    {
     "name": "stdout",
     "output_type": "stream",
     "text": [
      "b\n",
      "a\n",
      "n\n",
      "a\n",
      "n\n",
      "a\n"
     ]
    }
   ],
   "source": [
    "for x in \"banana\":\n",
    "    print(x)"
   ]
  },
  {
   "cell_type": "markdown",
   "id": "a7c2617a",
   "metadata": {},
   "source": [
    "#### The break Statement\n",
    "\n",
    "With the break statement we can stop the loop before it has looped through all the items:"
   ]
  },
  {
   "cell_type": "code",
   "execution_count": 3,
   "id": "8922e5da",
   "metadata": {},
   "outputs": [
    {
     "name": "stdout",
     "output_type": "stream",
     "text": [
      "apple\n",
      "banana\n"
     ]
    }
   ],
   "source": [
    "# Exit the loop when x is \"banana\":\n",
    "\n",
    "fruits = [\"apple\", \"banana\", \"cherry\"]\n",
    "\n",
    "for x in fruits:\n",
    "    print(x)\n",
    "    if x == \"banana\":\n",
    "        break"
   ]
  },
  {
   "cell_type": "code",
   "execution_count": 4,
   "id": "b8856925",
   "metadata": {},
   "outputs": [
    {
     "name": "stdout",
     "output_type": "stream",
     "text": [
      "apple\n"
     ]
    }
   ],
   "source": [
    "fruits = [\"apple\", \"banana\", \"cherry\"]\n",
    "\n",
    "\n",
    "for x in fruits:\n",
    "    if x == \"banana\":\n",
    "        break\n",
    "        \n",
    "    print(x)\n",
    "    \n",
    "# this time 'banana' will not be printed \n",
    "# because 'break' statement is before print"
   ]
  },
  {
   "cell_type": "markdown",
   "id": "2b235dce",
   "metadata": {},
   "source": [
    "####  The continue Statement\n",
    "With the continue statement we can stop the current iteration of the loop, and continue with the next:"
   ]
  },
  {
   "cell_type": "code",
   "execution_count": 5,
   "id": "aedd6d0c",
   "metadata": {},
   "outputs": [
    {
     "name": "stdout",
     "output_type": "stream",
     "text": [
      "apple\n",
      "cherry\n"
     ]
    }
   ],
   "source": [
    "fruits = [\"apple\", \"banana\", \"cherry\"]\n",
    "\n",
    "for x in fruits:\n",
    "    if x == \"banana\":\n",
    "        continue\n",
    "    print(x)"
   ]
  },
  {
   "cell_type": "markdown",
   "id": "5b7d3e14",
   "metadata": {},
   "source": [
    "#### The range() Function\n",
    "To loop through a set of code a specified number of times, we can use the `range()` function,\n",
    "The `range()` function returns a sequence of numbers, starting from 0 by default, and `increments by 1 (by default)`, and ends at a specified number."
   ]
  },
  {
   "cell_type": "code",
   "execution_count": 4,
   "id": "a73afc66",
   "metadata": {},
   "outputs": [
    {
     "name": "stdout",
     "output_type": "stream",
     "text": [
      "0\n",
      "1\n",
      "2\n",
      "3\n",
      "4\n",
      "5\n"
     ]
    }
   ],
   "source": [
    "# using the range function:\n",
    "for x in range(6):\n",
    "    print(x)"
   ]
  },
  {
   "cell_type": "markdown",
   "id": "d1117d5e",
   "metadata": {},
   "source": [
    "**Note**  range(6)  will genrate only six numbers from 0 to 5 which is total six numbers."
   ]
  },
  {
   "cell_type": "code",
   "execution_count": 6,
   "id": "d700061c",
   "metadata": {},
   "outputs": [
    {
     "name": "stdout",
     "output_type": "stream",
     "text": [
      "2\n",
      "3\n",
      "4\n",
      "5\n"
     ]
    }
   ],
   "source": [
    "for x in range(2, 6):\n",
    "    print(x)"
   ]
  },
  {
   "cell_type": "markdown",
   "id": "d5f3739e",
   "metadata": {},
   "source": [
    "`The range()` function defaults to increment the sequence by 1, however it is possible to specify the increment value by adding a third parameter: `range(2, 30, 3)`:"
   ]
  },
  {
   "cell_type": "code",
   "execution_count": 7,
   "id": "faad9232",
   "metadata": {},
   "outputs": [
    {
     "name": "stdout",
     "output_type": "stream",
     "text": [
      "2\n",
      "5\n",
      "8\n",
      "11\n",
      "14\n",
      "17\n",
      "20\n",
      "23\n",
      "26\n",
      "29\n"
     ]
    }
   ],
   "source": [
    "for x in range(2, 30, 3):\n",
    "    print(x)"
   ]
  },
  {
   "cell_type": "code",
   "execution_count": 8,
   "id": "d09aa79b",
   "metadata": {},
   "outputs": [
    {
     "name": "stdout",
     "output_type": "stream",
     "text": [
      "2\n",
      "4\n",
      "6\n",
      "8\n",
      "10\n",
      "12\n",
      "14\n",
      "16\n",
      "18\n",
      "20\n",
      "22\n",
      "24\n",
      "26\n",
      "28\n",
      "30\n"
     ]
    }
   ],
   "source": [
    "for x in range(2, 31, 2):\n",
    "    print(x)"
   ]
  },
  {
   "cell_type": "markdown",
   "id": "9c7fa90b",
   "metadata": {},
   "source": [
    "#### Else in For Loop\n",
    "The else keyword in a for loop specifies a block of code to be executed when the loop is finished:"
   ]
  },
  {
   "cell_type": "code",
   "execution_count": 9,
   "id": "aaa8136c",
   "metadata": {},
   "outputs": [
    {
     "name": "stdout",
     "output_type": "stream",
     "text": [
      "0\n",
      "1\n",
      "2\n",
      "3\n",
      "4\n",
      "5\n",
      "Finally finished\n"
     ]
    }
   ],
   "source": [
    "for x in range(6):\n",
    "    print(x)\n",
    "    \n",
    "else:\n",
    "    print(\"Finally finished\")"
   ]
  },
  {
   "cell_type": "markdown",
   "id": "c7a8a190",
   "metadata": {},
   "source": [
    "**Note:** The else block will NOT be executed if the loop is stopped by a break statement."
   ]
  },
  {
   "cell_type": "code",
   "execution_count": 10,
   "id": "60a43360",
   "metadata": {},
   "outputs": [
    {
     "name": "stdout",
     "output_type": "stream",
     "text": [
      "0\n",
      "1\n",
      "2\n"
     ]
    }
   ],
   "source": [
    "# Break the loop when x is 3, and see what \n",
    "# happens with the else block:\n",
    "\n",
    "for x in range(6):\n",
    "    \n",
    "    if x == 3: break\n",
    "    print(x)\n",
    "    \n",
    "else:\n",
    "    print(\"Finally finished!\")"
   ]
  },
  {
   "cell_type": "code",
   "execution_count": 11,
   "id": "eb55a127",
   "metadata": {},
   "outputs": [
    {
     "name": "stdout",
     "output_type": "stream",
     "text": [
      "0\n",
      "1\n",
      "2\n"
     ]
    }
   ],
   "source": [
    "for x in range(6):\n",
    "    if x == 3:\n",
    "        break\n",
    "    print(x)\n",
    "else:\n",
    "    print(\"Finally finished!\")"
   ]
  },
  {
   "cell_type": "markdown",
   "id": "f40cbff9",
   "metadata": {},
   "source": [
    "#### Nested Loops\n",
    "\n",
    "A nested loop is a loop inside a loop.\n",
    "\n",
    "The \"inner loop\" will be executed one time for each iteration of the \"outer loop\":"
   ]
  },
  {
   "cell_type": "code",
   "execution_count": 14,
   "id": "59c6897b",
   "metadata": {},
   "outputs": [
    {
     "name": "stdout",
     "output_type": "stream",
     "text": [
      "red apple\n",
      "red banana\n",
      "red cherry\n",
      "big apple\n",
      "big banana\n",
      "big cherry\n",
      "tasty apple\n",
      "tasty banana\n",
      "tasty cherry\n"
     ]
    }
   ],
   "source": [
    "adj = [\"red\", \"big\", \"tasty\"]\n",
    "fruits = [\"apple\", \"banana\", \"cherry\"]\n",
    "\n",
    "for x in adj:\n",
    "    for y in fruits:\n",
    "        print(x, y)"
   ]
  },
  {
   "cell_type": "code",
   "execution_count": 15,
   "id": "b59d9b2f",
   "metadata": {},
   "outputs": [
    {
     "name": "stdout",
     "output_type": "stream",
     "text": [
      "red\n",
      "\t: apple\n",
      "\t: banana\n",
      "\t: cherry\n",
      "big\n",
      "\t: apple\n",
      "\t: banana\n",
      "\t: cherry\n",
      "tasty\n",
      "\t: apple\n",
      "\t: banana\n",
      "\t: cherry\n"
     ]
    }
   ],
   "source": [
    "adj = [\"red\", \"big\", \"tasty\"]\n",
    "fruits = [\"apple\", \"banana\", \"cherry\"]\n",
    "\n",
    "for x in adj:\n",
    "    print(x)\n",
    "    for y in fruits:\n",
    "        print(\"\\t:\", y)"
   ]
  },
  {
   "cell_type": "code",
   "execution_count": 16,
   "id": "774b4072",
   "metadata": {},
   "outputs": [
    {
     "name": "stdout",
     "output_type": "stream",
     "text": [
      "1 1\n",
      "1 4\n",
      "1 9\n",
      "1 16\n",
      "1 25\n",
      "2 1\n",
      "2 4\n",
      "2 9\n",
      "2 16\n",
      "2 25\n",
      "3 1\n",
      "3 4\n",
      "3 9\n",
      "3 16\n",
      "3 25\n",
      "4 1\n",
      "4 4\n",
      "4 9\n",
      "4 16\n",
      "4 25\n",
      "5 1\n",
      "5 4\n",
      "5 9\n",
      "5 16\n",
      "5 25\n"
     ]
    }
   ],
   "source": [
    "list1 = [1,2,3,4,5]\n",
    "list2 = [1,4,9,16,25]\n",
    "\n",
    "for i in list1:\n",
    "    \n",
    "    for j in list2:\n",
    "        \n",
    "        print(i, j)"
   ]
  },
  {
   "cell_type": "code",
   "execution_count": 17,
   "id": "f749bc6d",
   "metadata": {},
   "outputs": [
    {
     "name": "stdout",
     "output_type": "stream",
     "text": [
      "1\n",
      "\t: 1\n",
      "\t: 4\n",
      "\t: 9\n",
      "\t: 16\n",
      "\t: 25\n",
      "2\n",
      "\t: 1\n",
      "\t: 4\n",
      "\t: 9\n",
      "\t: 16\n",
      "\t: 25\n",
      "3\n",
      "\t: 1\n",
      "\t: 4\n",
      "\t: 9\n",
      "\t: 16\n",
      "\t: 25\n",
      "4\n",
      "\t: 1\n",
      "\t: 4\n",
      "\t: 9\n",
      "\t: 16\n",
      "\t: 25\n",
      "5\n",
      "\t: 1\n",
      "\t: 4\n",
      "\t: 9\n",
      "\t: 16\n",
      "\t: 25\n"
     ]
    }
   ],
   "source": [
    "list1 = [1,2,3,4,5]\n",
    "list2 = [1,4,9,16,25]\n",
    "\n",
    "for i in list1:\n",
    "    print(i)\n",
    "    for j in list2:\n",
    "        print(f\"\\t: {j}\")"
   ]
  },
  {
   "cell_type": "code",
   "execution_count": 11,
   "id": "316122b3",
   "metadata": {},
   "outputs": [
    {
     "data": {
      "text/plain": [
       "[[(1, 1), (1, 2), (1, 3), (1, 4), (1, 5), (1, 6), (1, 6)],\n",
       " [(2, 1), (2, 2), (2, 3), (2, 4), (2, 5), (2, 6), (2, 6)],\n",
       " [(3, 1), (3, 2), (3, 3), (3, 4), (3, 5), (3, 6), (3, 6)],\n",
       " [(4, 1), (4, 2), (4, 3), (4, 4), (4, 5), (4, 6), (4, 6)],\n",
       " [(5, 1), (5, 2), (5, 3), (5, 4), (5, 5), (5, 6), (5, 6)],\n",
       " [(6, 1), (6, 2), (6, 3), (6, 4), (6, 5), (6, 6), (6, 6)],\n",
       " [(6, 1), (6, 2), (6, 3), (6, 4), (6, 5), (6, 6), (6, 6)]]"
      ]
     },
     "execution_count": 11,
     "metadata": {},
     "output_type": "execute_result"
    }
   ],
   "source": [
    "lst1 = [1,2,3,4,5,6,6]\n",
    "\n",
    "new_lst = [[(y, x) for x in lst1] for y in lst1]\n",
    "\n",
    "new_lst"
   ]
  },
  {
   "cell_type": "code",
   "execution_count": 12,
   "id": "61e1b03b",
   "metadata": {},
   "outputs": [
    {
     "name": "stdout",
     "output_type": "stream",
     "text": [
      "`0\n",
      "10\n",
      "20\n",
      "30\n",
      "40\n",
      "50\n"
     ]
    },
    {
     "data": {
      "text/plain": [
       "[['`0', '10', '20'], ['30', '40', '50']]"
      ]
     },
     "execution_count": 12,
     "metadata": {},
     "output_type": "execute_result"
    }
   ],
   "source": [
    "[[input() for x in range(3)] for y in range(2)]"
   ]
  },
  {
   "cell_type": "code",
   "execution_count": 13,
   "id": "7281a5b0",
   "metadata": {},
   "outputs": [
    {
     "name": "stdout",
     "output_type": "stream",
     "text": [
      "Please enter the number of rows : 2\n",
      "Please enter the number of col : 3\n",
      "Enter value 11 : 10\n",
      "Enter value 12 : 20\n",
      "Enter value 13 : 30\n",
      "Enter value 21 : 40\n",
      "Enter value 22 : 50\n",
      "Enter value 23 : 60\n",
      "\n",
      "[['10', '20', '30'], ['40', '50', '60']]\n"
     ]
    }
   ],
   "source": [
    "# making a matrix by taking user input\n",
    "\n",
    "row = int(input(\"Please enter the number of rows : \"))\n",
    "col = int(input(\"Please enter the number of col : \"))\n",
    "\n",
    "matrix = [[input(f\"Enter value {j+1}{i+1} : \") for i in range(col)] for j in range(row)]\n",
    "print()\n",
    "print(matrix)"
   ]
  },
  {
   "cell_type": "code",
   "execution_count": 16,
   "id": "0ed62418",
   "metadata": {},
   "outputs": [
    {
     "name": "stdout",
     "output_type": "stream",
     "text": [
      "Please enter the number of rows : 2\n",
      "Please enter the number of col : 3\n",
      "Enter value 11 : 12\n",
      "Enter value 12 : 23\n",
      "Enter value 13 : 13\n",
      "Enter value 21 : 34\n",
      "Enter value 22 : 243\n",
      "Enter value 23 : 23\n",
      "\n",
      "12 23 13 \n",
      "34 243 23 \n"
     ]
    }
   ],
   "source": [
    "# making a matrix by taking user input and print the matrix format\n",
    "\n",
    "row = int(input(\"Please enter the number of rows : \"))\n",
    "col = int(input(\"Please enter the number of col : \"))\n",
    "\n",
    "matrix = [[input(f\"Enter value {j+1}{i+1} : \") for i in range(col)] for j in range(row)]\n",
    "print()\n",
    "for i in range(row):\n",
    "    for j in range(col):\n",
    "        \n",
    "        print(matrix[i][j], end = \" \")\n",
    "    print()"
   ]
  },
  {
   "cell_type": "markdown",
   "id": "a6332874",
   "metadata": {},
   "source": [
    "#### The pass Statement\n",
    "for loops cannot be empty, but if you for some reason have a for loop with no content, put in the pass statement to avoid getting an error."
   ]
  },
  {
   "cell_type": "code",
   "execution_count": 18,
   "id": "a8457952",
   "metadata": {},
   "outputs": [],
   "source": [
    "for x in [0, 1, 2]:\n",
    "    pass\n"
   ]
  },
  {
   "cell_type": "markdown",
   "id": "5dc4167f",
   "metadata": {},
   "source": [
    "Thank You 👍"
   ]
  }
 ],
 "metadata": {
  "kernelspec": {
   "display_name": "Python 3 (ipykernel)",
   "language": "python",
   "name": "python3"
  },
  "language_info": {
   "codemirror_mode": {
    "name": "ipython",
    "version": 3
   },
   "file_extension": ".py",
   "mimetype": "text/x-python",
   "name": "python",
   "nbconvert_exporter": "python",
   "pygments_lexer": "ipython3",
   "version": "3.9.7"
  }
 },
 "nbformat": 4,
 "nbformat_minor": 5
}

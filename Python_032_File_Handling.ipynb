{
 "cells": [
  {
   "cell_type": "markdown",
   "id": "ab76ace2",
   "metadata": {},
   "source": [
    "#### File Open\n",
    "\n",
    "File handling is an important part of any web application.\n",
    "\n",
    "Python has several functions for creating, reading, updating, and deleting files.\n",
    "\n",
    "#### File Handling\n",
    "\n",
    "The key function for working with files in Python is the `open()` function.\n",
    "\n",
    "The `open()` function takes two parameters; filename, and mode.\n",
    "\n",
    "There are four different methods (modes) for opening a file:\n",
    "\n",
    "* `\"r\"`   - Read - Default value. Opens a file for reading, error if the file does not exist\n",
    "\n",
    "* `\"a\"`   - Append - Opens a file for appending, creates the file if it does not exist\n",
    "\n",
    "* `\"w\"`   - Write - Opens a file for writing, creates the file if it does not exist\n",
    "\n",
    "* `\"x\"`   - Create - Creates the specified file, returns an error if the file exists"
   ]
  },
  {
   "cell_type": "markdown",
   "id": "4b2f3fe7",
   "metadata": {},
   "source": [
    "In addition you can specify if the file should be handled as binary or text mode"
   ]
  },
  {
   "cell_type": "markdown",
   "id": "dd0fe53b",
   "metadata": {},
   "source": [
    "`\"t\"` - Text - Default value. Text mode\n",
    "\n",
    "`\"b\"` - Binary - Binary mode (e.g. images)\n",
    "\n",
    "`Syntax`\n",
    "\n",
    "To open a file for reading it is enough to specify the name of the file:\n",
    "\n",
    "`f = open(\"demofile.txt\")`"
   ]
  },
  {
   "cell_type": "code",
   "execution_count": 4,
   "id": "e7dac704",
   "metadata": {},
   "outputs": [],
   "source": [
    "f = open(\"demofile.txt\", \"w\")"
   ]
  },
  {
   "cell_type": "code",
   "execution_count": 5,
   "id": "9e95230c",
   "metadata": {},
   "outputs": [],
   "source": [
    "f = open(\"demofile.txt\")"
   ]
  },
  {
   "cell_type": "code",
   "execution_count": 7,
   "id": "2b9385ce",
   "metadata": {},
   "outputs": [],
   "source": [
    "# The code above is the same as:\n",
    "f = open(\"demofile.txt\", \"rt\")\n"
   ]
  },
  {
   "cell_type": "markdown",
   "id": "ff2f5350",
   "metadata": {},
   "source": [
    "Because `\"r\"` for read, and `\"t\"` for text are the default values, you do not need to specify them.\n",
    "\n",
    "**Note:** Make sure the file exists, or else you will get an error."
   ]
  },
  {
   "cell_type": "markdown",
   "id": "a5c6de80",
   "metadata": {},
   "source": [
    "### Open a File on the Server\n",
    "Assume we have the following file, located in the same folder as Python:\n",
    "\n",
    "`demofile.txt`\n",
    "\n",
    "`Hello! Welcome to demofile.txt\n",
    "This file is for testing purposes.\n",
    "Good Luck!`\n",
    "\n",
    "make file demofile.txt and save in same directory where your notebook file is for practice\n"
   ]
  },
  {
   "cell_type": "markdown",
   "id": "5ffbfb33",
   "metadata": {},
   "source": [
    "To open the file, use the built-in `open()` function.\n",
    "\n",
    "The `open()` function returns a file object, which has a` read()` method for reading the content of the file:"
   ]
  },
  {
   "cell_type": "code",
   "execution_count": 8,
   "id": "c9d2fb2d",
   "metadata": {},
   "outputs": [
    {
     "name": "stdout",
     "output_type": "stream",
     "text": [
      "Hello! Welcome to demofile.txt\n",
      "This file is for testing purposes.\n",
      "Good Luck!\n"
     ]
    }
   ],
   "source": [
    "f = open(\"demofile.txt\", \"r\")\n",
    "print(f.read())"
   ]
  },
  {
   "cell_type": "markdown",
   "id": "be551c1b",
   "metadata": {},
   "source": [
    "`If the file is located in a different location, you will have to specify the file path, like this:`"
   ]
  },
  {
   "cell_type": "code",
   "execution_count": 9,
   "id": "2f7622e8",
   "metadata": {},
   "outputs": [
    {
     "name": "stdout",
     "output_type": "stream",
     "text": [
      "Hello! Welcome to demofile.txt\n",
      "This file is for testing purposes.\n",
      "Good Luck!\n"
     ]
    }
   ],
   "source": [
    "# open a file on a different location\n",
    "\n",
    "f = open(\"D:/Welcome_to_Python/demofile.txt\", \"r\")\n",
    "\n",
    "print(f.read())"
   ]
  },
  {
   "cell_type": "markdown",
   "id": "5c64f492",
   "metadata": {},
   "source": [
    "#### Read Only Parts of the File\n",
    "By default the `read()` method returns the whole text, but you can also specify how many characters you want to return:"
   ]
  },
  {
   "cell_type": "code",
   "execution_count": 10,
   "id": "ba05a85b",
   "metadata": {},
   "outputs": [
    {
     "name": "stdout",
     "output_type": "stream",
     "text": [
      "Hello\n"
     ]
    }
   ],
   "source": [
    "# Return the 5 first characters of the file:\n",
    "f = open(\"demofile.txt\", \"r\")\n",
    "\n",
    "print(f.read(5))"
   ]
  },
  {
   "cell_type": "markdown",
   "id": "60e79db2",
   "metadata": {},
   "source": [
    "#### Read Lines\n",
    "You can return one line by using the `readline()` method:"
   ]
  },
  {
   "cell_type": "code",
   "execution_count": 11,
   "id": "1b696d67",
   "metadata": {},
   "outputs": [
    {
     "name": "stdout",
     "output_type": "stream",
     "text": [
      "Hello! Welcome to demofile.txt\n",
      "\n"
     ]
    }
   ],
   "source": [
    "f = open(\"demofile.txt\", \"r\")\n",
    "print(f.readline())"
   ]
  },
  {
   "cell_type": "markdown",
   "id": "edae1524",
   "metadata": {},
   "source": [
    "`By calling readline() two times, you can read the two first lines:`"
   ]
  },
  {
   "cell_type": "code",
   "execution_count": 12,
   "id": "14d88240",
   "metadata": {},
   "outputs": [
    {
     "name": "stdout",
     "output_type": "stream",
     "text": [
      "Hello! Welcome to demofile.txt\n",
      "\n",
      "This file is for testing purposes.\n",
      "\n"
     ]
    }
   ],
   "source": [
    "# read two lines of the file \n",
    "\n",
    "f = open(\"demofile.txt\", \"r\")\n",
    "print(f.readline())\n",
    "print(f.readline())"
   ]
  },
  {
   "cell_type": "markdown",
   "id": "684db87b",
   "metadata": {},
   "source": [
    "`By looping through the lines of the file, you can read the whole file, line by line:`"
   ]
  },
  {
   "cell_type": "code",
   "execution_count": 13,
   "id": "b054f642",
   "metadata": {},
   "outputs": [
    {
     "name": "stdout",
     "output_type": "stream",
     "text": [
      "Hello! Welcome to demofile.txt\n",
      "\n",
      "This file is for testing purposes.\n",
      "\n",
      "Good Luck!\n"
     ]
    }
   ],
   "source": [
    "f = open(\"demofile.txt\", \"r\")\n",
    "\n",
    "for x in f:\n",
    "    print(x)"
   ]
  },
  {
   "cell_type": "markdown",
   "id": "42e723f1",
   "metadata": {},
   "source": [
    "and by using `readlines()` we can read all line at the same time but it will return lines in the `list` form"
   ]
  },
  {
   "cell_type": "code",
   "execution_count": 14,
   "id": "8857d3fa",
   "metadata": {},
   "outputs": [
    {
     "name": "stdout",
     "output_type": "stream",
     "text": [
      "['Hello! Welcome to demofile.txt\\n', 'This file is for testing purposes.\\n', 'Good Luck!']\n"
     ]
    }
   ],
   "source": [
    "f = open(\"demofile.txt\", \"r\")\n",
    "print(f.readlines())"
   ]
  },
  {
   "cell_type": "markdown",
   "id": "20f01e11",
   "metadata": {},
   "source": [
    "#### Close Files\n",
    "It is a good practice to always close the file when you are done with it."
   ]
  },
  {
   "cell_type": "code",
   "execution_count": 15,
   "id": "17e828ad",
   "metadata": {},
   "outputs": [
    {
     "name": "stdout",
     "output_type": "stream",
     "text": [
      "Hello! Welcome to demofile.txt\n",
      "\n"
     ]
    }
   ],
   "source": [
    "f = open(\"demofile.txt\", \"r\")\n",
    "print(f.readline())\n",
    "f.close()"
   ]
  },
  {
   "cell_type": "markdown",
   "id": "b8c81b69",
   "metadata": {},
   "source": [
    "**Note:** `You should always close your files, in some cases, due to buffering, changes made to a file may not show until you close the file.`"
   ]
  },
  {
   "cell_type": "markdown",
   "id": "39a52097",
   "metadata": {},
   "source": [
    "#### Write to an Existing File\n",
    "To write to an existing file, you must add a parameter to the open() function:\n",
    "\n",
    "* `\"a\"` - Append -` will append to the end of the file`\n",
    "\n",
    "* `\"w\"` -Write -` will overwrite any existing content`\n",
    "\n",
    "#### Example\n",
    "Open the file \"demofile2.txt\" and append content to the file:"
   ]
  },
  {
   "cell_type": "code",
   "execution_count": 18,
   "id": "cf0346fe",
   "metadata": {},
   "outputs": [],
   "source": [
    "# let's make an another file demofile2.txt\n",
    "\n",
    "f = open(\"demofile2.txt\", \"w\")\n",
    "\n",
    "f.write(\"Hello Welcome to demofile2.txt\\nThis file is for testing purposes.\\nGood Luck!\")\n",
    "f.close()"
   ]
  },
  {
   "cell_type": "markdown",
   "id": "c35e9304",
   "metadata": {},
   "source": [
    "#### Example\n",
    "`Open the file \"demofile2.txt\" and append content to the file:`"
   ]
  },
  {
   "cell_type": "code",
   "execution_count": 19,
   "id": "ab018682",
   "metadata": {},
   "outputs": [
    {
     "name": "stdout",
     "output_type": "stream",
     "text": [
      "Hello Welcome to demofile2.txt\n",
      "This file is for testing purposes.\n",
      "Good Luck!Now the file has more content!\n"
     ]
    }
   ],
   "source": [
    "# now it's time to append the file\n",
    "\n",
    "f = open(\"demofile2.txt\", \"a\")\n",
    "f.write(\"Now the file has more content!\")\n",
    "f.close()\n",
    "\n",
    "# open and read the file after the appending \n",
    "\n",
    "f = open(\"demofile2.txt\", \"r\")\n",
    "print(f.read())"
   ]
  },
  {
   "cell_type": "markdown",
   "id": "b2cf2b93",
   "metadata": {},
   "source": [
    "As we can see that our append method worked fine"
   ]
  },
  {
   "cell_type": "markdown",
   "id": "d82a7dd5",
   "metadata": {},
   "source": [
    "Now let's make a file demofile3.txt and write something in it and further it will be overwrite by the another content because of we will use 'w' for open a file that overwrite the existing files"
   ]
  },
  {
   "cell_type": "code",
   "execution_count": 20,
   "id": "02d070dc",
   "metadata": {},
   "outputs": [
    {
     "name": "stdout",
     "output_type": "stream",
     "text": [
      "This is our 3rd file for just testing purpose\n"
     ]
    }
   ],
   "source": [
    "f = open(\"demofile3.txt\", \"w\")\n",
    "f.write(\"This is our 3rd file for just testing purpose\")\n",
    "f.close()\n",
    "# we can check wether file has been created or not\n",
    "\n",
    "f = open(\"demofile3.txt\", \"r\")\n",
    "print(f.read())\n",
    "f.close()"
   ]
  },
  {
   "cell_type": "code",
   "execution_count": 21,
   "id": "e7ac56b8",
   "metadata": {},
   "outputs": [
    {
     "name": "stdout",
     "output_type": "stream",
     "text": [
      "Wooops! I have deleted the content!\n"
     ]
    }
   ],
   "source": [
    "# Now it's time for overwrite file \"demofile3.txt\"\n",
    "\n",
    "f = open(\"demofile3.txt\", \"w\")\n",
    "f.write(\"Wooops! I have deleted the content!\")\n",
    "f.close()\n",
    "\n",
    "# open and read the file after the appending:\n",
    "\n",
    "f = open(\"demofile3.txt\", \"r\")\n",
    "\n",
    "print(f.read())"
   ]
  },
  {
   "cell_type": "markdown",
   "id": "1b5573ff",
   "metadata": {},
   "source": [
    "**Note:** the `\"w\"` method will overwrite the entire file."
   ]
  },
  {
   "cell_type": "markdown",
   "id": "d8fa8024",
   "metadata": {},
   "source": [
    "#### Create a New File\n",
    "To create a new file in Python, use the `open()` method, with one of the following parameters:\n",
    "\n",
    "* `\"x\"` - Create - will create a file, returns an error if the file exist\n",
    "\n",
    "* `\"a\"` - Append - will create a file if the specified file does not exist\n",
    "\n",
    "* `\"w\"` - Write - will create a file if the specified file does not exist\n",
    "\n",
    "#### Example\n",
    "Create a file called` \"myfile.txt\"`:"
   ]
  },
  {
   "cell_type": "code",
   "execution_count": 22,
   "id": "cc30efdb",
   "metadata": {},
   "outputs": [],
   "source": [
    "f = open(\"myfile.txt\", \"x\")"
   ]
  },
  {
   "cell_type": "markdown",
   "id": "42a213b6",
   "metadata": {},
   "source": [
    "**result:** a new file is created!"
   ]
  },
  {
   "cell_type": "code",
   "execution_count": 23,
   "id": "6dd2a1f4",
   "metadata": {},
   "outputs": [],
   "source": [
    "# Create a new file if it does not exist:\n",
    "\n",
    "f = open(\"myfile.txt\", \"w\")"
   ]
  },
  {
   "cell_type": "markdown",
   "id": "a50b5dcf",
   "metadata": {},
   "source": [
    "### Delete a File\n",
    "To delete a file, you must import the OS module, and run its `os.remove()` function:\n",
    "\n",
    "#### Example\n",
    "Remove the file `\"demofile.txt\":`"
   ]
  },
  {
   "cell_type": "code",
   "execution_count": 1,
   "id": "2d148ed8",
   "metadata": {},
   "outputs": [],
   "source": [
    "import os\n",
    "\n",
    "os.remove(\"demofile.txt\")"
   ]
  },
  {
   "cell_type": "markdown",
   "id": "f2a45e3a",
   "metadata": {},
   "source": [
    "**Note** it will give error if file is already open or in process of something\n",
    "make sure that file is closed okay\n"
   ]
  },
  {
   "cell_type": "markdown",
   "id": "23b19f75",
   "metadata": {},
   "source": [
    "#### Check if File exist:\n",
    "\n",
    "To avoid getting an error, you might want to check if the file exists before you try to delete it:"
   ]
  },
  {
   "cell_type": "code",
   "execution_count": 2,
   "id": "d841eca6",
   "metadata": {},
   "outputs": [
    {
     "name": "stdout",
     "output_type": "stream",
     "text": [
      "the file does not exist\n"
     ]
    }
   ],
   "source": [
    "import os\n",
    "\n",
    "if os.path.exists(\"demofile.txt\"):\n",
    "    os.remove(\"demofile.txt\")\n",
    "    \n",
    "else:\n",
    "    print(\"the file does not exist\")"
   ]
  },
  {
   "cell_type": "markdown",
   "id": "1ca0e9cf",
   "metadata": {},
   "source": [
    " it gave that file does not exist because we had already deleted that file ,\n",
    " \n",
    " lte's delete another file an see what will happes"
   ]
  },
  {
   "cell_type": "code",
   "execution_count": 3,
   "id": "ee0f349a",
   "metadata": {},
   "outputs": [],
   "source": [
    "import os\n",
    "\n",
    "if os.path.exists(\"demofile2.txt\"):\n",
    "    os.remove(\"demofile2.txt\")\n",
    "else:\n",
    "    print(\"The file does not exist\")"
   ]
  },
  {
   "cell_type": "markdown",
   "id": "efdab73e",
   "metadata": {},
   "source": [
    " means file has been deleted\n",
    " \n",
    " \n",
    " let's get an confermation by printing something"
   ]
  },
  {
   "cell_type": "code",
   "execution_count": 4,
   "id": "4713f1f5",
   "metadata": {},
   "outputs": [
    {
     "name": "stdout",
     "output_type": "stream",
     "text": [
      "file has been deleted\n"
     ]
    }
   ],
   "source": [
    "import os\n",
    "\n",
    "if os.path.exists(\"demofile3.txt\"):\n",
    "    os.remove(\"demofile3.txt\")\n",
    "    print(\"file has been deleted\")\n",
    "else:\n",
    "    print(\"The file does not exist\")"
   ]
  },
  {
   "cell_type": "markdown",
   "id": "931a5324",
   "metadata": {},
   "source": [
    "### Delete Folder\n",
    "To delete an entire folder, use the `os.rmdir()` method:\n",
    "\n",
    "#### Example\n",
    "\n",
    "Remove the folder \"myfolder\":"
   ]
  },
  {
   "cell_type": "markdown",
   "id": "18c818c7",
   "metadata": {},
   "source": [
    "**Note:** You can only remove empty folders."
   ]
  },
  {
   "cell_type": "code",
   "execution_count": 5,
   "id": "56fdcb7a",
   "metadata": {},
   "outputs": [],
   "source": [
    "import os\n",
    "\n",
    "os.rmdir(\"newfolder\")"
   ]
  },
  {
   "cell_type": "code",
   "execution_count": null,
   "id": "a44f2c0b",
   "metadata": {},
   "outputs": [],
   "source": [
    "# let's do it with another method\n",
    "\n",
    "import os \n",
    "\n",
    "if os.path.exists(\"myfolder\"):\n",
    "    os.rmdir(\"myfolder\")\n",
    "    print(\"Folder has been deleted\")\n"
   ]
  }
 ],
 "metadata": {
  "kernelspec": {
   "display_name": "Python 3 (ipykernel)",
   "language": "python",
   "name": "python3"
  },
  "language_info": {
   "codemirror_mode": {
    "name": "ipython",
    "version": 3
   },
   "file_extension": ".py",
   "mimetype": "text/x-python",
   "name": "python",
   "nbconvert_exporter": "python",
   "pygments_lexer": "ipython3",
   "version": "3.7.8"
  }
 },
 "nbformat": 4,
 "nbformat_minor": 5
}

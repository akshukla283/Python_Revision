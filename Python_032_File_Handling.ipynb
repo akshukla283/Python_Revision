{
 "cells": [
  {
   "cell_type": "markdown",
   "id": "ab76ace2",
   "metadata": {},
   "source": [
    "#### File Open\n",
    "\n",
    "File handling is an important part of any web application.\n",
    "\n",
    "Python has several functions for creating, reading, updating, and deleting files.\n",
    "\n",
    "#### File Handling\n",
    "\n",
    "The key function for working with files in Python is the `open()` function.\n",
    "\n",
    "The `open()` function takes two parameters; filename, and mode.\n",
    "\n",
    "There are four different methods (modes) for opening a file:\n",
    "\n",
    "* `\"r\"`   - Read - Default value. Opens a file for reading, error if the file does not exist\n",
    "\n",
    "* `\"a\"`   - Append - Opens a file for appending, creates the file if it does not exist\n",
    "\n",
    "* `\"w\"`   - Write - Opens a file for writing, creates the file if it does not exist\n",
    "\n",
    "* `\"x\"`   - Create - Creates the specified file, returns an error if the file exists"
   ]
  },
  {
   "cell_type": "markdown",
   "id": "4b2f3fe7",
   "metadata": {},
   "source": [
    "In addition you can specify if the file should be handled as binary or text mode"
   ]
  },
  {
   "cell_type": "markdown",
   "id": "dd0fe53b",
   "metadata": {},
   "source": [
    "`\"t\"` - Text - Default value. Text mode\n",
    "\n",
    "`\"b\"` - Binary - Binary mode (e.g. images)\n",
    "\n",
    "`Syntax`\n",
    "\n",
    "To open a file for reading it is enough to specify the name of the file:\n",
    "\n",
    "`f = open(\"demofile.txt\")`"
   ]
  },
  {
   "cell_type": "code",
   "execution_count": 1,
   "id": "e7dac704",
   "metadata": {},
   "outputs": [],
   "source": [
    "f = open(\"demofile.txt\", \"w\")"
   ]
  },
  {
   "cell_type": "code",
   "execution_count": 2,
   "id": "9e95230c",
   "metadata": {},
   "outputs": [],
   "source": [
    "f = open(\"demofile.txt\")"
   ]
  },
  {
   "cell_type": "code",
   "execution_count": 3,
   "id": "2b9385ce",
   "metadata": {},
   "outputs": [],
   "source": [
    "# The code above is the same as:\n",
    "f = open(\"demofile.txt\", \"rt\")\n"
   ]
  },
  {
   "cell_type": "markdown",
   "id": "ff2f5350",
   "metadata": {},
   "source": [
    "Because `\"r\"` for read, and `\"t\"` for text are the default values, you do not need to specify them.\n",
    "\n",
    "**Note:** Make sure the file exists, or else you will get an error."
   ]
  },
  {
   "cell_type": "code",
   "execution_count": 1,
   "id": "3a6e371f",
   "metadata": {},
   "outputs": [],
   "source": [
    "with open(\"demofile.txt\", 'w') as f:\n",
    "    f.write(\"Hello! Welcome to demofile.txt\\nThis file is for testing purposes.\\nGood Luck!\")"
   ]
  },
  {
   "cell_type": "markdown",
   "id": "a5c6de80",
   "metadata": {},
   "source": [
    "### Open a File on the Server\n",
    "Assume we have the following file, located in the same folder as Python:\n",
    "\n",
    "`demofile.txt`\n",
    "\n",
    "`Hello! Welcome to demofile.txt\n",
    "This file is for testing purposes.\n",
    "Good Luck!`\n",
    "\n",
    "make file demofile.txt and save in same directory where your notebook file is for practice\n"
   ]
  },
  {
   "cell_type": "markdown",
   "id": "5ffbfb33",
   "metadata": {},
   "source": [
    "To open the file, use the built-in `open()` function.\n",
    "\n",
    "The `open()` function returns a file object, which has a` read()` method for reading the content of the file:"
   ]
  },
  {
   "cell_type": "code",
   "execution_count": 2,
   "id": "c9d2fb2d",
   "metadata": {},
   "outputs": [
    {
     "name": "stdout",
     "output_type": "stream",
     "text": [
      "Hello! Welcome to demofile.txt\n",
      "This file is for testing purposes.\n",
      "Good Luck!\n"
     ]
    }
   ],
   "source": [
    "f = open(\"demofile.txt\", \"r\")\n",
    "print(f.read())"
   ]
  },
  {
   "cell_type": "markdown",
   "id": "be551c1b",
   "metadata": {},
   "source": [
    "`If the file is located in a different location, you will have to specify the file path, like this:`"
   ]
  },
  {
   "cell_type": "code",
   "execution_count": 3,
   "id": "d36ef4c3",
   "metadata": {},
   "outputs": [],
   "source": [
    "f.close()"
   ]
  },
  {
   "cell_type": "code",
   "execution_count": 4,
   "id": "bc73bff2",
   "metadata": {},
   "outputs": [
    {
     "data": {
      "text/plain": [
       "'E:\\\\Python_world\\\\Python_Revision-main'"
      ]
     },
     "execution_count": 4,
     "metadata": {},
     "output_type": "execute_result"
    }
   ],
   "source": [
    "import os\n",
    "os.getcwd()"
   ]
  },
  {
   "cell_type": "code",
   "execution_count": 5,
   "id": "2f7622e8",
   "metadata": {},
   "outputs": [
    {
     "name": "stdout",
     "output_type": "stream",
     "text": [
      "Hello! Welcome to demofile.txt\n",
      "This file is for testing purposes.\n",
      "Good Luck!\n"
     ]
    }
   ],
   "source": [
    "# open a file on a different location\n",
    "\n",
    "f = open('E:\\\\Python_world\\\\Python_Revision-main\\\\demofile.txt', \"r\")\n",
    "\n",
    "print(f.read())"
   ]
  },
  {
   "cell_type": "markdown",
   "id": "5c64f492",
   "metadata": {},
   "source": [
    "#### Read Only Parts of the File\n",
    "By default the `read()` method returns the whole text, but you can also specify how many characters you want to return:"
   ]
  },
  {
   "cell_type": "code",
   "execution_count": 6,
   "id": "ba05a85b",
   "metadata": {},
   "outputs": [
    {
     "name": "stdout",
     "output_type": "stream",
     "text": [
      "Hello\n"
     ]
    }
   ],
   "source": [
    "# Return the first 5 characters of the file:\n",
    "f = open(\"demofile.txt\", \"r\")\n",
    "\n",
    "print(f.read(5))"
   ]
  },
  {
   "cell_type": "markdown",
   "id": "60e79db2",
   "metadata": {},
   "source": [
    "#### Read Lines\n",
    "You can return one line by using the `readline()` method:"
   ]
  },
  {
   "cell_type": "code",
   "execution_count": 7,
   "id": "1b696d67",
   "metadata": {},
   "outputs": [
    {
     "name": "stdout",
     "output_type": "stream",
     "text": [
      "Hello! Welcome to demofile.txt\n",
      "\n"
     ]
    }
   ],
   "source": [
    "f = open(\"demofile.txt\", \"r\")\n",
    "print(f.readline())"
   ]
  },
  {
   "cell_type": "markdown",
   "id": "edae1524",
   "metadata": {},
   "source": [
    "`By calling readline() two times, you can read the two first lines:`"
   ]
  },
  {
   "cell_type": "code",
   "execution_count": 8,
   "id": "14d88240",
   "metadata": {},
   "outputs": [
    {
     "name": "stdout",
     "output_type": "stream",
     "text": [
      "Hello! Welcome to demofile.txt\n",
      "\n",
      "This file is for testing purposes.\n",
      "\n"
     ]
    }
   ],
   "source": [
    "# read two lines of the file \n",
    "\n",
    "f = open(\"demofile.txt\", \"r\")\n",
    "print(f.readline())\n",
    "print(f.readline())"
   ]
  },
  {
   "cell_type": "markdown",
   "id": "684db87b",
   "metadata": {},
   "source": [
    "`By looping through the lines of the file, you can read the whole file, line by line:`"
   ]
  },
  {
   "cell_type": "code",
   "execution_count": 9,
   "id": "b054f642",
   "metadata": {},
   "outputs": [
    {
     "name": "stdout",
     "output_type": "stream",
     "text": [
      "Hello! Welcome to demofile.txt\n",
      "\n",
      "This file is for testing purposes.\n",
      "\n",
      "Good Luck!\n"
     ]
    }
   ],
   "source": [
    "f = open(\"demofile.txt\", \"r\")\n",
    "\n",
    "for x in f:\n",
    "    print(x)"
   ]
  },
  {
   "cell_type": "markdown",
   "id": "42e723f1",
   "metadata": {},
   "source": [
    "and by using `readlines()` we can read all line at the same time but it will return lines in the `list` form"
   ]
  },
  {
   "cell_type": "code",
   "execution_count": 10,
   "id": "8857d3fa",
   "metadata": {},
   "outputs": [
    {
     "name": "stdout",
     "output_type": "stream",
     "text": [
      "['Hello! Welcome to demofile.txt\\n', 'This file is for testing purposes.\\n', 'Good Luck!']\n"
     ]
    }
   ],
   "source": [
    "f = open(\"demofile.txt\", \"r\")\n",
    "print(f.readlines())"
   ]
  },
  {
   "cell_type": "markdown",
   "id": "20f01e11",
   "metadata": {},
   "source": [
    "#### Close Files\n",
    "It is a good practice to always close the file when you are done with it."
   ]
  },
  {
   "cell_type": "code",
   "execution_count": 11,
   "id": "17e828ad",
   "metadata": {},
   "outputs": [
    {
     "name": "stdout",
     "output_type": "stream",
     "text": [
      "Hello! Welcome to demofile.txt\n",
      "\n"
     ]
    }
   ],
   "source": [
    "f = open(\"demofile.txt\", \"r\")\n",
    "print(f.readline())\n",
    "f.close()"
   ]
  },
  {
   "cell_type": "markdown",
   "id": "b8c81b69",
   "metadata": {},
   "source": [
    "**Note:** `You should always close your files, in some cases, due to buffering, changes made to a file may not show until you close the file.`"
   ]
  },
  {
   "cell_type": "markdown",
   "id": "39a52097",
   "metadata": {},
   "source": [
    "#### Write to an Existing File\n",
    "To write to an existing file, you must add a parameter to the open() function:\n",
    "\n",
    "* `\"a\"` - Append -` will append to the end of the file`\n",
    "\n",
    "* `\"w\"` -Write -` will overwrite any existing content`\n",
    "\n",
    "#### Example\n",
    "Open the file \"demofile2.txt\" and append content to the file:"
   ]
  },
  {
   "cell_type": "code",
   "execution_count": 12,
   "id": "cf0346fe",
   "metadata": {},
   "outputs": [],
   "source": [
    "# let's make an another file demofile2.txt\n",
    "\n",
    "f = open(\"demofile2.txt\", \"w\")\n",
    "\n",
    "f.write(\"Hello Welcome to demofile2.txt\\nThis file is for testing purposes.\\nGood Luck!\")\n",
    "f.close()"
   ]
  },
  {
   "cell_type": "markdown",
   "id": "c35e9304",
   "metadata": {},
   "source": [
    "#### Example\n",
    "`Open the file \"demofile2.txt\" and append content to the file:`"
   ]
  },
  {
   "cell_type": "code",
   "execution_count": 13,
   "id": "ab018682",
   "metadata": {},
   "outputs": [
    {
     "name": "stdout",
     "output_type": "stream",
     "text": [
      "Hello Welcome to demofile2.txt\n",
      "This file is for testing purposes.\n",
      "Good Luck!Now the file has more content!\n"
     ]
    }
   ],
   "source": [
    "# now it's time to append the file\n",
    "\n",
    "f = open(\"demofile2.txt\", \"a\")\n",
    "f.write(\"Now the file has more content!\")\n",
    "f.close()\n",
    "\n",
    "# open and read the file after the appending \n",
    "\n",
    "f = open(\"demofile2.txt\", \"r\")\n",
    "print(f.read())"
   ]
  },
  {
   "cell_type": "code",
   "execution_count": 14,
   "id": "b0e2f6d7",
   "metadata": {},
   "outputs": [],
   "source": [
    "f.close()"
   ]
  },
  {
   "cell_type": "markdown",
   "id": "b2cf2b93",
   "metadata": {},
   "source": [
    "As we can see that our append method worked fine"
   ]
  },
  {
   "cell_type": "markdown",
   "id": "d82a7dd5",
   "metadata": {},
   "source": [
    "Now let's make a file demofile3.txt and write something in it and further it will be overwrite by the another content because of we will use 'w' for open a file that overwrite the existing files"
   ]
  },
  {
   "cell_type": "code",
   "execution_count": 15,
   "id": "02d070dc",
   "metadata": {},
   "outputs": [
    {
     "name": "stdout",
     "output_type": "stream",
     "text": [
      "This is our 3rd file for just testing purpose\n"
     ]
    }
   ],
   "source": [
    "f = open(\"demofile3.txt\", \"w\")\n",
    "f.write(\"This is our 3rd file for just testing purpose\")\n",
    "f.close()\n",
    "# we can check wether file has been created or not\n",
    "\n",
    "f = open(\"demofile3.txt\", \"r\")\n",
    "print(f.read())\n",
    "f.close()"
   ]
  },
  {
   "cell_type": "code",
   "execution_count": 16,
   "id": "e7ac56b8",
   "metadata": {},
   "outputs": [
    {
     "name": "stdout",
     "output_type": "stream",
     "text": [
      "Wooops! I have deleted the content!\n"
     ]
    }
   ],
   "source": [
    "# Now it's time for overwrite file \"demofile3.txt\"\n",
    "\n",
    "f = open(\"demofile3.txt\", \"w\")\n",
    "f.write(\"Wooops! I have deleted the content!\")\n",
    "f.close()\n",
    "\n",
    "# open and read the file after the appending:\n",
    "\n",
    "f = open(\"demofile3.txt\", \"r\")\n",
    "\n",
    "print(f.read())"
   ]
  },
  {
   "cell_type": "markdown",
   "id": "1b5573ff",
   "metadata": {},
   "source": [
    "**Note:** the `\"w\"` method will overwrite the entire file."
   ]
  },
  {
   "cell_type": "markdown",
   "id": "d8fa8024",
   "metadata": {},
   "source": [
    "#### Create a New File\n",
    "To create a new file in Python, use the `open()` method, with one of the following parameters:\n",
    "\n",
    "* `\"x\"` - Create - will create a file, returns an error if the file exist\n",
    "\n",
    "* `\"a\"` - Append - will create a file if the specified file does not exist\n",
    "\n",
    "* `\"w\"` - Write - will create a file if the specified file does not exist\n",
    "\n",
    "#### Example\n",
    "Create a file called` \"myfile.txt\"`:"
   ]
  },
  {
   "cell_type": "code",
   "execution_count": 17,
   "id": "cc30efdb",
   "metadata": {},
   "outputs": [
    {
     "ename": "FileExistsError",
     "evalue": "[Errno 17] File exists: 'myfile.txt'",
     "output_type": "error",
     "traceback": [
      "\u001b[1;31m---------------------------------------------------------------------------\u001b[0m",
      "\u001b[1;31mFileExistsError\u001b[0m                           Traceback (most recent call last)",
      "Input \u001b[1;32mIn [17]\u001b[0m, in \u001b[0;36m<cell line: 1>\u001b[1;34m()\u001b[0m\n\u001b[1;32m----> 1\u001b[0m f \u001b[38;5;241m=\u001b[39m \u001b[38;5;28;43mopen\u001b[39;49m\u001b[43m(\u001b[49m\u001b[38;5;124;43m\"\u001b[39;49m\u001b[38;5;124;43mmyfile.txt\u001b[39;49m\u001b[38;5;124;43m\"\u001b[39;49m\u001b[43m,\u001b[49m\u001b[43m \u001b[49m\u001b[38;5;124;43m\"\u001b[39;49m\u001b[38;5;124;43mx\u001b[39;49m\u001b[38;5;124;43m\"\u001b[39;49m\u001b[43m)\u001b[49m\n",
      "\u001b[1;31mFileExistsError\u001b[0m: [Errno 17] File exists: 'myfile.txt'"
     ]
    }
   ],
   "source": [
    "f = open(\"myfile.txt\", \"x\")"
   ]
  },
  {
   "cell_type": "markdown",
   "id": "42a213b6",
   "metadata": {},
   "source": [
    "**result:** a new file is created!"
   ]
  },
  {
   "cell_type": "code",
   "execution_count": 18,
   "id": "6dd2a1f4",
   "metadata": {},
   "outputs": [],
   "source": [
    "# Create a new file if it does not exist:\n",
    "\n",
    "f = open(\"myfile.txt\", \"w\")"
   ]
  },
  {
   "cell_type": "markdown",
   "id": "a50b5dcf",
   "metadata": {},
   "source": [
    "### Delete a File\n",
    "To delete a file, you must import the OS module, and run its `os.remove()` function:\n",
    "\n",
    "#### Example\n",
    "Remove the file `\"demofile.txt\":`"
   ]
  },
  {
   "cell_type": "code",
   "execution_count": null,
   "id": "5bea8e9e",
   "metadata": {},
   "outputs": [],
   "source": [
    "# restart kernel may be file has been open somewhere and didn't close so far."
   ]
  },
  {
   "cell_type": "code",
   "execution_count": 19,
   "id": "2d148ed8",
   "metadata": {},
   "outputs": [],
   "source": [
    "import os\n",
    "\n",
    "os.remove(\"demofile.txt\")"
   ]
  },
  {
   "cell_type": "markdown",
   "id": "f2a45e3a",
   "metadata": {},
   "source": [
    "**Note** it will give error if file is already open or in process of something\n",
    "make sure that file is closed okay\n"
   ]
  },
  {
   "cell_type": "markdown",
   "id": "23b19f75",
   "metadata": {},
   "source": [
    "#### Check if File exist:\n",
    "\n",
    "To avoid getting an error, you might want to check if the file exists before you try to delete it:"
   ]
  },
  {
   "cell_type": "code",
   "execution_count": 20,
   "id": "d841eca6",
   "metadata": {},
   "outputs": [
    {
     "name": "stdout",
     "output_type": "stream",
     "text": [
      "the file does not exist\n"
     ]
    }
   ],
   "source": [
    "import os\n",
    "\n",
    "if os.path.exists(\"demofile.txt\"):\n",
    "    os.remove(\"demofile.txt\")\n",
    "    \n",
    "else:\n",
    "    print(\"the file does not exist\")"
   ]
  },
  {
   "cell_type": "markdown",
   "id": "1ca0e9cf",
   "metadata": {},
   "source": [
    " it gave that file does not exist because we had already deleted that file ,\n",
    " \n",
    " lte's delete another file an see what will happes"
   ]
  },
  {
   "cell_type": "code",
   "execution_count": 21,
   "id": "ee0f349a",
   "metadata": {},
   "outputs": [
    {
     "name": "stdout",
     "output_type": "stream",
     "text": [
      "file deleted successfully\n"
     ]
    }
   ],
   "source": [
    "import os\n",
    "\n",
    "if os.path.exists(\"demofile2.txt\"):\n",
    "    \n",
    "    os.remove(\"demofile2.txt\")\n",
    "    print(\"file deleted successfully\")\n",
    "else:\n",
    "    print(\"The file does not exist\")"
   ]
  },
  {
   "cell_type": "markdown",
   "id": "efdab73e",
   "metadata": {},
   "source": [
    " means file has been deleted\n",
    " \n",
    " \n",
    " let's get an confermation by printing something"
   ]
  },
  {
   "cell_type": "code",
   "execution_count": 4,
   "id": "4713f1f5",
   "metadata": {},
   "outputs": [
    {
     "name": "stdout",
     "output_type": "stream",
     "text": [
      "file has been deleted\n"
     ]
    }
   ],
   "source": [
    "import os\n",
    "\n",
    "if os.path.exists(\"demofile3.txt\"):\n",
    "    os.remove(\"demofile3.txt\")\n",
    "    print(\"file has been deleted\")\n",
    "else:\n",
    "    print(\"The file does not exist\")"
   ]
  },
  {
   "cell_type": "markdown",
   "id": "931a5324",
   "metadata": {},
   "source": [
    "### Delete Folder\n",
    "To delete an entire folder, use the `os.rmdir()` method:\n",
    "\n",
    "#### Example\n",
    "\n",
    "Remove the folder \"myfolder\":"
   ]
  },
  {
   "cell_type": "markdown",
   "id": "18c818c7",
   "metadata": {},
   "source": [
    "**Note:** You can only remove empty folders."
   ]
  },
  {
   "cell_type": "code",
   "execution_count": 5,
   "id": "64dfeaa5",
   "metadata": {},
   "outputs": [],
   "source": [
    "import os\n",
    "\n",
    "os.mkdir(\"newfolder\")"
   ]
  },
  {
   "cell_type": "code",
   "execution_count": 6,
   "id": "56fdcb7a",
   "metadata": {},
   "outputs": [],
   "source": [
    "import os\n",
    "\n",
    "os.rmdir(\"newfolder\")"
   ]
  },
  {
   "cell_type": "code",
   "execution_count": 7,
   "id": "5e00fb63",
   "metadata": {},
   "outputs": [],
   "source": [
    "import os\n",
    "\n",
    "os.mkdir(\"newfolder\")"
   ]
  },
  {
   "cell_type": "code",
   "execution_count": 8,
   "id": "a44f2c0b",
   "metadata": {},
   "outputs": [
    {
     "name": "stdout",
     "output_type": "stream",
     "text": [
      "Folder has been deleted\n"
     ]
    }
   ],
   "source": [
    "# let's do it with another method\n",
    "\n",
    "import os \n",
    "\n",
    "if os.path.exists(\"newfolder\"):\n",
    "    os.rmdir(\"newfolder\")\n",
    "    print(\"Folder has been deleted\")\n"
   ]
  },
  {
   "cell_type": "markdown",
   "id": "01b5da55",
   "metadata": {},
   "source": [
    "#### opening a file with \"with\" :\n",
    "\n",
    "* to read from a file your program needs to open the file and then read the content of the file.We can read the entire content of the file at once or read the file line by line.\n",
    "\n",
    "* `the with statement makes sure the file is closed properly when the program has finished accessing the file.`"
   ]
  },
  {
   "cell_type": "code",
   "execution_count": 38,
   "id": "acb3e6c4",
   "metadata": {},
   "outputs": [
    {
     "name": "stdout",
     "output_type": "stream",
     "text": [
      "Hello world!.\n",
      "this is the second message in the second line.\n",
      "this is the third line just wanted to check this.\n"
     ]
    }
   ],
   "source": [
    "filename = 'text.txt'\n",
    "\n",
    "with open(filename) as f_obj:  # with open() default mode is read, so to write something we\n",
    "                               # need to use 'w' means write mode.\n",
    "    contents = f_obj.read()\n",
    "\n",
    "print(contents)"
   ]
  },
  {
   "cell_type": "code",
   "execution_count": 39,
   "id": "43e7ece1",
   "metadata": {},
   "outputs": [
    {
     "name": "stdout",
     "output_type": "stream",
     "text": [
      "Hello world!.\n",
      "\n",
      "this is the second message in the second line.\n",
      "\n",
      "this is the third line just wanted to check this.\n"
     ]
    }
   ],
   "source": [
    "filename = 'text.txt'\n",
    "\n",
    "with open(filename) as f_obj:\n",
    "    for line in f_obj:\n",
    "        print(line)"
   ]
  },
  {
   "cell_type": "markdown",
   "id": "f9ca0283",
   "metadata": {},
   "source": [
    "#### Note- \n",
    "\n",
    "`Each line that's read from the file has a new line '\\n' character at the end of the line, and the print function adds its own new line character. That is why we can see above we got a blank line in between another line so, the rstrip() method gets rid of the extra blank lines this would result in when printing to the terminal.`"
   ]
  },
  {
   "cell_type": "code",
   "execution_count": 41,
   "id": "27d878a6",
   "metadata": {},
   "outputs": [
    {
     "name": "stdout",
     "output_type": "stream",
     "text": [
      "Hello world!.\n",
      "this is the second message in the second line.\n",
      "this is the third line just wanted to check this.\n"
     ]
    }
   ],
   "source": [
    "filename = 'text.txt'\n",
    "\n",
    "with open(filename) as f_obj:\n",
    "    for line in f_obj:\n",
    "        print(line.rstrip())"
   ]
  },
  {
   "cell_type": "code",
   "execution_count": 43,
   "id": "4d9847bd",
   "metadata": {},
   "outputs": [
    {
     "name": "stdout",
     "output_type": "stream",
     "text": [
      "Hello world!.\n",
      "this is the second message in the second line.\n",
      "this is the third line just wanted to check this."
     ]
    }
   ],
   "source": [
    "# we can handle that with 'end = \"\" ' as well this will hold the control into the same line and when\n",
    "# actual new line will happen then only print in the new line.\n",
    "filename = 'text.txt'\n",
    "\n",
    "with open(filename) as f_obj:\n",
    "    for line in f_obj:\n",
    "        print(line, end = \"\")"
   ]
  },
  {
   "cell_type": "code",
   "execution_count": 45,
   "id": "46df4a00",
   "metadata": {},
   "outputs": [
    {
     "name": "stdout",
     "output_type": "stream",
     "text": [
      "['Hello world!.\\n', 'this is the second message in the second line.\\n', 'this is the third line just wanted to check this.']\n",
      "\n",
      "Hello world!.\n",
      "this is the second message in the second line.\n",
      "this is the third line just wanted to check this."
     ]
    }
   ],
   "source": [
    "### storing the lines in a list.\n",
    "\n",
    "filename = \"text.txt\"\n",
    "\n",
    "with open(filename) as f_obj:\n",
    "    lines = f_obj.readlines()\n",
    "\n",
    "print(lines)\n",
    "print()\n",
    "for line in lines:\n",
    "    print(line, end=\"\")"
   ]
  },
  {
   "cell_type": "code",
   "execution_count": 1,
   "id": "a553658a",
   "metadata": {},
   "outputs": [
    {
     "name": "stdout",
     "output_type": "stream",
     "text": [
      "['Hello world!.\\n']\n",
      "\n",
      "Hello world!.\n"
     ]
    }
   ],
   "source": [
    "### storing the lines in a list.\n",
    "\n",
    "filename = \"text.txt\"\n",
    "\n",
    "with open(filename) as f_obj:\n",
    "    lines = f_obj.readlines(True)\n",
    "\n",
    "print(lines)\n",
    "print()\n",
    "for line in lines:\n",
    "    print(line, end=\"\")"
   ]
  },
  {
   "cell_type": "markdown",
   "id": "67c7d33f",
   "metadata": {},
   "source": [
    "###  OS Module\n"
   ]
  },
  {
   "cell_type": "code",
   "execution_count": 46,
   "id": "b0ab474e",
   "metadata": {},
   "outputs": [],
   "source": [
    "## rename the file , if your file is in different directory then you have to pass 'path' of the file\n",
    "\n",
    "# before rename make sure that file is not opend at other places.\n",
    "import os \n",
    "\n",
    "os.rename(\"text.txt\", \"text2.txt\")\n",
    "\n",
    "# we renamed the file , we can check that."
   ]
  },
  {
   "cell_type": "code",
   "execution_count": 47,
   "id": "7cb478b6",
   "metadata": {},
   "outputs": [],
   "source": [
    "# let's rename back to original name\n",
    "\n",
    "import os\n",
    "\n",
    "os.rename(\"text2.txt\", \"text.txt\")"
   ]
  },
  {
   "cell_type": "code",
   "execution_count": 48,
   "id": "21ca5f03",
   "metadata": {},
   "outputs": [
    {
     "ename": "FileNotFoundError",
     "evalue": "[WinError 2] The system cannot find the file specified: 'hello.txt' -> 'myfile.txt'",
     "output_type": "error",
     "traceback": [
      "\u001b[1;31m---------------------------------------------------------------------------\u001b[0m",
      "\u001b[1;31mFileNotFoundError\u001b[0m                         Traceback (most recent call last)",
      "Input \u001b[1;32mIn [48]\u001b[0m, in \u001b[0;36m<cell line: 5>\u001b[1;34m()\u001b[0m\n\u001b[0;32m      1\u001b[0m \u001b[38;5;66;03m# look if file is not found then it will give error\u001b[39;00m\n\u001b[0;32m      3\u001b[0m \u001b[38;5;28;01mimport\u001b[39;00m \u001b[38;5;21;01mos\u001b[39;00m\n\u001b[1;32m----> 5\u001b[0m \u001b[43mos\u001b[49m\u001b[38;5;241;43m.\u001b[39;49m\u001b[43mrename\u001b[49m\u001b[43m(\u001b[49m\u001b[38;5;124;43m\"\u001b[39;49m\u001b[38;5;124;43mhello.txt\u001b[39;49m\u001b[38;5;124;43m\"\u001b[39;49m\u001b[43m,\u001b[49m\u001b[43m \u001b[49m\u001b[38;5;124;43m\"\u001b[39;49m\u001b[38;5;124;43mmyfile.txt\u001b[39;49m\u001b[38;5;124;43m\"\u001b[39;49m\u001b[43m)\u001b[49m\n",
      "\u001b[1;31mFileNotFoundError\u001b[0m: [WinError 2] The system cannot find the file specified: 'hello.txt' -> 'myfile.txt'"
     ]
    }
   ],
   "source": [
    "# look if file is not found then it will give error\n",
    "\n",
    "import os\n",
    "\n",
    "os.rename(\"hello.txt\", \"myfile.txt\")"
   ]
  },
  {
   "cell_type": "code",
   "execution_count": 49,
   "id": "b4a7379a",
   "metadata": {},
   "outputs": [
    {
     "data": {
      "text/plain": [
       "'E:\\\\Python_world\\\\Python_Revision-main'"
      ]
     },
     "execution_count": 49,
     "metadata": {},
     "output_type": "execute_result"
    }
   ],
   "source": [
    "# now let's get curremt directory\n",
    "\n",
    "import os\n",
    "\n",
    "os.getcwd()"
   ]
  },
  {
   "cell_type": "code",
   "execution_count": null,
   "id": "716cc7b2",
   "metadata": {},
   "outputs": [],
   "source": []
  },
  {
   "cell_type": "code",
   "execution_count": 50,
   "id": "b18f35ca",
   "metadata": {},
   "outputs": [],
   "source": [
    "# when get current working directory then it give it in \"\\\\\" because if it give it in '\\' it will be\n",
    "# treated as 'escape' character\n",
    "\n",
    "# let's check we have a 'hello.txt' file in 'files' folder and  rename that\n",
    "\n",
    "import os \n",
    "\n",
    "os.rename(\".\\\\files\\\\hello.txt\", \"new_file.txt\")\n",
    "\n",
    "# file name changed but new file has moved in current working directory because we didn't give the path\n",
    "# to the new file name , so to avoid this please give the path where you wnat to save your file"
   ]
  },
  {
   "cell_type": "code",
   "execution_count": 51,
   "id": "b0d4862b",
   "metadata": {},
   "outputs": [],
   "source": [
    "# but first let's send the new_file from the current directory to the files directory\n",
    "import os \n",
    "\n",
    "os.rename(\"new_file.txt\", \".\\\\files\\\\hello.txt\")\n",
    "\n",
    "# we can check that file has been moved back to the files directory"
   ]
  },
  {
   "cell_type": "code",
   "execution_count": 52,
   "id": "aaabe9a9",
   "metadata": {},
   "outputs": [],
   "source": [
    "# to avoid movement of the file while renaming we need to provide \n",
    "# complete path to the renamed file as well, so that after renaming file should stay there.\n",
    "\n",
    "import os \n",
    "\n",
    "os.rename(\".\\\\files\\\\hello.txt\", \".\\\\files\\\\new_hello.txt\")\n",
    "\n",
    "# now file name has been changed \n",
    "\n",
    "# note - - use \"\\\\\" at time of path"
   ]
  },
  {
   "cell_type": "code",
   "execution_count": 55,
   "id": "8285a458",
   "metadata": {},
   "outputs": [],
   "source": [
    "# first let's open a file \n",
    "filename = \"untitled.txt\"\n",
    "\n",
    "with open(filename, 'w') as f_obj:   # to write a file with this method we need to pass 'w' mode\n",
    "    f_obj.write(\"Hello, Welcome to the Python Programming!\")\n",
    "    "
   ]
  },
  {
   "cell_type": "code",
   "execution_count": 56,
   "id": "debc13c4",
   "metadata": {},
   "outputs": [
    {
     "name": "stdout",
     "output_type": "stream",
     "text": [
      "Hello, Welcome to the Python Programming!\n"
     ]
    }
   ],
   "source": [
    "# first let's open a file \n",
    "filename = \"untitled.txt\"\n",
    "\n",
    "with open(filename, 'r') as f_obj:\n",
    "    contents = f_obj.read()\n",
    "    print(contents)\n",
    "   \n",
    "    "
   ]
  },
  {
   "cell_type": "code",
   "execution_count": 57,
   "id": "3e80ebd5",
   "metadata": {},
   "outputs": [],
   "source": [
    "## remove file \n",
    "\n",
    "import os\n",
    "\n",
    "os.remove(\"untitled.txt\")"
   ]
  },
  {
   "cell_type": "code",
   "execution_count": 58,
   "id": "6c51fae3",
   "metadata": {},
   "outputs": [
    {
     "ename": "FileNotFoundError",
     "evalue": "[Errno 2] No such file or directory: 'untitled.txt'",
     "output_type": "error",
     "traceback": [
      "\u001b[1;31m---------------------------------------------------------------------------\u001b[0m",
      "\u001b[1;31mFileNotFoundError\u001b[0m                         Traceback (most recent call last)",
      "Input \u001b[1;32mIn [58]\u001b[0m, in \u001b[0;36m<cell line: 7>\u001b[1;34m()\u001b[0m\n\u001b[0;32m      1\u001b[0m \u001b[38;5;66;03m# now file has been remove that is why we will get an error when we re- run the read mode to read\u001b[39;00m\n\u001b[0;32m      2\u001b[0m \u001b[38;5;66;03m# the file \u001b[39;00m\n\u001b[0;32m      3\u001b[0m \n\u001b[0;32m      4\u001b[0m \u001b[38;5;66;03m# first let's open a file \u001b[39;00m\n\u001b[0;32m      5\u001b[0m filename \u001b[38;5;241m=\u001b[39m \u001b[38;5;124m\"\u001b[39m\u001b[38;5;124muntitled.txt\u001b[39m\u001b[38;5;124m\"\u001b[39m\n\u001b[1;32m----> 7\u001b[0m \u001b[38;5;28;01mwith\u001b[39;00m \u001b[38;5;28;43mopen\u001b[39;49m\u001b[43m(\u001b[49m\u001b[43mfilename\u001b[49m\u001b[43m,\u001b[49m\u001b[43m \u001b[49m\u001b[38;5;124;43m'\u001b[39;49m\u001b[38;5;124;43mr\u001b[39;49m\u001b[38;5;124;43m'\u001b[39;49m\u001b[43m)\u001b[49m \u001b[38;5;28;01mas\u001b[39;00m f_obj:\n\u001b[0;32m      8\u001b[0m     contents \u001b[38;5;241m=\u001b[39m f_obj\u001b[38;5;241m.\u001b[39mread()\n\u001b[0;32m      9\u001b[0m     \u001b[38;5;28mprint\u001b[39m(contents)\n",
      "\u001b[1;31mFileNotFoundError\u001b[0m: [Errno 2] No such file or directory: 'untitled.txt'"
     ]
    }
   ],
   "source": [
    "# now file has been remove that is why we will get an error when we re- run the read mode to read\n",
    "# the file \n",
    "\n",
    "# first let's open a file \n",
    "filename = \"untitled.txt\"\n",
    "\n",
    "with open(filename, 'r') as f_obj:\n",
    "    contents = f_obj.read()\n",
    "    print(contents)"
   ]
  },
  {
   "cell_type": "markdown",
   "id": "24ad13c1",
   "metadata": {},
   "source": [
    "#### Managing Directories"
   ]
  },
  {
   "cell_type": "code",
   "execution_count": 59,
   "id": "48b5b08d",
   "metadata": {},
   "outputs": [
    {
     "data": {
      "text/plain": [
       "'E:\\\\Python_world\\\\Python_Revision-main'"
      ]
     },
     "execution_count": 59,
     "metadata": {},
     "output_type": "execute_result"
    }
   ],
   "source": [
    "import os\n",
    "os.getcwd()"
   ]
  },
  {
   "cell_type": "code",
   "execution_count": 60,
   "id": "2763ac76",
   "metadata": {},
   "outputs": [],
   "source": [
    "import os\n",
    "\n",
    "# create directory in current working directory \n",
    "\n",
    "os.mkdir(\"new_dir\")\n"
   ]
  },
  {
   "cell_type": "code",
   "execution_count": 78,
   "id": "22892b40",
   "metadata": {},
   "outputs": [],
   "source": [
    "# change current working directory\n",
    "import os\n",
    "\n",
    "os.chdir(\"./new_dir/\")  # here we just gave dot '.' to change the directory\n",
    "\n",
    "# we can also give the  full path-\"E:\\\\Python_world\\\\Amulya's Academic\\\\file\""
   ]
  },
  {
   "cell_type": "code",
   "execution_count": 72,
   "id": "9df2a74d",
   "metadata": {},
   "outputs": [
    {
     "data": {
      "text/plain": [
       "'E:\\\\Python_world\\\\Python_Revision-main\\\\new_dir'"
      ]
     },
     "execution_count": 72,
     "metadata": {},
     "output_type": "execute_result"
    }
   ],
   "source": [
    "# now let's check th ecurrent working directory\n",
    "\n",
    "import os\n",
    "os.getcwd()"
   ]
  },
  {
   "cell_type": "code",
   "execution_count": 73,
   "id": "35bf8262",
   "metadata": {},
   "outputs": [],
   "source": [
    "# now we can make some file here in new working directory and if we want to go back in our dir\n",
    "# we can change it by chdir method\n",
    "\n",
    "with open(\"hi.text\", 'w') as f:\n",
    "    pass\n",
    "    "
   ]
  },
  {
   "cell_type": "code",
   "execution_count": 80,
   "id": "99ef8e2e",
   "metadata": {},
   "outputs": [],
   "source": [
    "# now let's go back in our previous working directory\n",
    "import os\n",
    "os.chdir(\"../\") # by this we can go back just one directory back."
   ]
  },
  {
   "cell_type": "code",
   "execution_count": 81,
   "id": "2fe3c6e8",
   "metadata": {},
   "outputs": [
    {
     "data": {
      "text/plain": [
       "'E:\\\\Python_world\\\\Python_Revision-main'"
      ]
     },
     "execution_count": 81,
     "metadata": {},
     "output_type": "execute_result"
    }
   ],
   "source": [
    "os.getcwd()"
   ]
  },
  {
   "cell_type": "code",
   "execution_count": 82,
   "id": "ec430d70",
   "metadata": {},
   "outputs": [
    {
     "data": {
      "text/plain": [
       "['.ipynb_checkpoints',\n",
       " 'files',\n",
       " 'mymodule.py',\n",
       " 'mymodule2.py',\n",
       " 'mymodule3.py',\n",
       " 'new_dir',\n",
       " 'Python_001_Intro_syntax.ipynb',\n",
       " 'Python_002_comments.ipynb',\n",
       " 'Python_003_Variables.ipynb',\n",
       " 'Python_004_Data_type.ipynb',\n",
       " 'Python_005_Numbers_And_Castings.ipynb',\n",
       " 'Python_006_Strings.ipynb',\n",
       " 'Python_007_Strings_Methods_1.ipynb',\n",
       " 'Python_007_Strings_Methods_2.ipynb',\n",
       " 'Python_008_Booleans.ipynb',\n",
       " 'Python_009_Operators.ipynb',\n",
       " 'Python_010_Lists.ipynb',\n",
       " 'Python_011_Tuples.ipynb',\n",
       " 'Python_012_Sets.ipynb',\n",
       " 'Python_013_Dictionary.ipynb',\n",
       " 'Python_014_If_Else_Statements.ipynb',\n",
       " 'Python_015_While_Loops.ipynb',\n",
       " 'Python_016_For_Loops.ipynb',\n",
       " 'Python_017_Functions.ipynb',\n",
       " 'Python_018_Lambda_Function.ipynb',\n",
       " 'Python_019_Arrays.ipynb',\n",
       " 'Python_020_Classes_Objects.ipynb',\n",
       " 'Python_021_Inheritance.ipynb',\n",
       " 'Python_022_Iterators.ipynb',\n",
       " 'Python_023_Scopes.ipynb',\n",
       " 'Python_024_Modules.ipynb',\n",
       " 'Python_025_Date_Times.ipynb',\n",
       " 'Python_026_Maths.ipynb',\n",
       " 'Python_027_JSON.ipynb',\n",
       " 'Python_028_RegEx.ipynb',\n",
       " 'Python_029_PIP.ipynb',\n",
       " 'Python_030_Try_Except_Exception_Handling.ipynb',\n",
       " 'Python_031_User_Input_String_Formating.ipynb',\n",
       " 'Python_032_File_Handling.ipynb',\n",
       " 'Python_033_How_to_Remove_duplicate_in_lists.ipynb',\n",
       " 'Python_Practice_Programs',\n",
       " 'README.md',\n",
       " 'text.txt',\n",
       " '__pycache__']"
      ]
     },
     "execution_count": 82,
     "metadata": {},
     "output_type": "execute_result"
    }
   ],
   "source": [
    "# we can find the list of directories \n",
    "\n",
    "import os\n",
    "os.listdir()"
   ]
  },
  {
   "cell_type": "code",
   "execution_count": 83,
   "id": "2a0d179b",
   "metadata": {},
   "outputs": [
    {
     "data": {
      "text/plain": [
       "['$Recycle.Bin',\n",
       " '$WinREAgent',\n",
       " 'BitLocker Recovery Key 33FAC351-E1B2-4D30-A390-E08CEB5E4586.TXT',\n",
       " 'BitLocker Recovery Key D0517F1E-87F5-42BB-B705-D73F3053A535.TXT',\n",
       " 'Documents and Settings',\n",
       " 'DumpStack.log.tmp',\n",
       " 'hiberfil.sys',\n",
       " 'Intel',\n",
       " 'pagefile.sys',\n",
       " 'PerfLogs',\n",
       " 'Program Files',\n",
       " 'Program Files (x86)',\n",
       " 'ProgramData',\n",
       " 'Recovery',\n",
       " 'swapfile.sys',\n",
       " 'System Volume Information',\n",
       " 'Users',\n",
       " 'Windows']"
      ]
     },
     "execution_count": 83,
     "metadata": {},
     "output_type": "execute_result"
    }
   ],
   "source": [
    "# if we want the list of sub-directory from any directory then we need to give path of that\n",
    "\n",
    "import os\n",
    "\n",
    "os.listdir(\"c:\\\\\")"
   ]
  },
  {
   "cell_type": "markdown",
   "id": "5712f253",
   "metadata": {},
   "source": [
    "### Making multiple directories using for loop\n"
   ]
  },
  {
   "cell_type": "code",
   "execution_count": 84,
   "id": "d6092702",
   "metadata": {},
   "outputs": [
    {
     "data": {
      "text/plain": [
       "'E:\\\\Python_world\\\\Python_Revision-main'"
      ]
     },
     "execution_count": 84,
     "metadata": {},
     "output_type": "execute_result"
    }
   ],
   "source": [
    "import os\n",
    "os.getcwd()"
   ]
  },
  {
   "cell_type": "code",
   "execution_count": 85,
   "id": "2eb23dc0",
   "metadata": {},
   "outputs": [],
   "source": [
    "import os\n",
    "  \n",
    "root_path = 'E:\\\\Python_world\\\\Python_Revision-main'\n",
    "  \n",
    "list1 = ['car', 'truck', 'bike', 'cycle', 'train']\n",
    "  \n",
    "for items in list1:\n",
    "    path = os.path.join(root_path, items)\n",
    "    os.mkdir(path)"
   ]
  },
  {
   "cell_type": "markdown",
   "id": "0f8badcf",
   "metadata": {},
   "source": [
    "Now we can check that we have made all the list1's named directories. Now we can remove all these in the same way as we have created.\n"
   ]
  },
  {
   "cell_type": "code",
   "execution_count": 87,
   "id": "29fc46e6",
   "metadata": {},
   "outputs": [],
   "source": [
    "import os\n",
    "  \n",
    "root_path = 'E:\\\\Python_world\\\\Python_Revision-main'\n",
    "  \n",
    "list1 = ['car', 'truck', 'bike', 'cycle', 'train']\n",
    "  \n",
    "for items in list1:\n",
    "    path = os.path.join(root_path, items)\n",
    "    os.rmdir(path) # 'rmdir' for remove the directories"
   ]
  },
  {
   "cell_type": "markdown",
   "id": "cd9f1824",
   "metadata": {},
   "source": [
    "### os.path.dirname()"
   ]
  },
  {
   "cell_type": "code",
   "execution_count": 1,
   "id": "f20ca830",
   "metadata": {},
   "outputs": [
    {
     "data": {
      "text/plain": [
       "'E:\\\\Python_world\\\\Python_Revision-main'"
      ]
     },
     "execution_count": 1,
     "metadata": {},
     "output_type": "execute_result"
    }
   ],
   "source": [
    "import os\n",
    "\n",
    "cwd = os.getcwd()\n",
    "cwd"
   ]
  },
  {
   "cell_type": "code",
   "execution_count": 2,
   "id": "bea71217",
   "metadata": {},
   "outputs": [
    {
     "data": {
      "text/plain": [
       "'E:\\\\Python_world'"
      ]
     },
     "execution_count": 2,
     "metadata": {},
     "output_type": "execute_result"
    }
   ],
   "source": [
    "import os\n",
    "os.path.dirname(cwd)"
   ]
  },
  {
   "cell_type": "markdown",
   "id": "983eb67e",
   "metadata": {},
   "source": [
    "`OS module in Python provides functions for interacting with the operating system. OS comes under Python’s standard utility modules. This module provides a portable way of using operating system dependent functionality. os.path module is sub module of OS module in Python used for common path name manipulation`.\n",
    "\n",
    "`os.path.dirname() method in Python is used to get the directory name from the specified path.`\n",
    "\n",
    "`Syntax: os.path.dirname(path)`"
   ]
  },
  {
   "cell_type": "code",
   "execution_count": null,
   "id": "8531a75e",
   "metadata": {},
   "outputs": [],
   "source": []
  }
 ],
 "metadata": {
  "kernelspec": {
   "display_name": "Python 3 (ipykernel)",
   "language": "python",
   "name": "python3"
  },
  "language_info": {
   "codemirror_mode": {
    "name": "ipython",
    "version": 3
   },
   "file_extension": ".py",
   "mimetype": "text/x-python",
   "name": "python",
   "nbconvert_exporter": "python",
   "pygments_lexer": "ipython3",
   "version": "3.9.7"
  }
 },
 "nbformat": 4,
 "nbformat_minor": 5
}

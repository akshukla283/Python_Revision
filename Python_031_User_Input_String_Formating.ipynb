{
 "cells": [
  {
   "cell_type": "markdown",
   "id": "5d67c500",
   "metadata": {},
   "source": [
    "#### User Input\n",
    "Python allows for user input.\n",
    "\n",
    "That means we are able to ask the user for input.\n",
    "\n",
    "The method is a bit different in Python 3.6 than Python 2.7.\n",
    "\n",
    "Python 3.6 uses the `input()` method.\n",
    "\n",
    "Python 2.7 uses the `raw_input()` method.\n",
    "\n",
    "The following example asks for the username, and when you entered the username, it gets printed on the screen:\n",
    "\n",
    "`Python 3.6`\n",
    "\n",
    "\n",
    "username = input(\"Enter username:\")"
   ]
  },
  {
   "cell_type": "code",
   "execution_count": 2,
   "id": "f5afb58d",
   "metadata": {},
   "outputs": [
    {
     "name": "stdout",
     "output_type": "stream",
     "text": [
      "Enter username: Ankit Shukla\n",
      "Username is:Ankit Shukla\n"
     ]
    }
   ],
   "source": [
    "username = input(\"Enter username: \")\n",
    "print(\"Username is:\" + username)"
   ]
  },
  {
   "cell_type": "code",
   "execution_count": 4,
   "id": "c4e26b55",
   "metadata": {},
   "outputs": [],
   "source": [
    "# Python 2.7\n",
    "\n",
    "# username = raw_input(\"Enter username: \")\n",
    "# print(\"Username is: \"+ username)"
   ]
  },
  {
   "cell_type": "markdown",
   "id": "1cd98d32",
   "metadata": {},
   "source": [
    "### String format()\n",
    "The `format()` method allows you to format selected parts of a string.\n",
    "\n",
    "Sometimes there are parts of a text that you do not control, maybe they come from a database, or user input?\n",
    "\n",
    "To control such values, add placeholders (curly brackets `{}`) in the text, and run the values through the `format()` method:"
   ]
  },
  {
   "cell_type": "code",
   "execution_count": 5,
   "id": "231d8ddc",
   "metadata": {},
   "outputs": [
    {
     "name": "stdout",
     "output_type": "stream",
     "text": [
      "the price is 49 dollars\n"
     ]
    }
   ],
   "source": [
    "# add a plcaeholder where you want to displace \n",
    "# the price\n",
    "\n",
    "price = 49\n",
    "\n",
    "txt = \"the price is {} dollars\"\n",
    "\n",
    "print(txt.format(price))"
   ]
  },
  {
   "cell_type": "markdown",
   "id": "0b4d4ad5",
   "metadata": {},
   "source": [
    "`You can add parameters inside the curly brackets to specify how to convert the value:`\n",
    "\n",
    "#### Example\n",
    "Format the price to be displayed as a number with two decimals:"
   ]
  },
  {
   "cell_type": "code",
   "execution_count": 8,
   "id": "59020d7e",
   "metadata": {},
   "outputs": [
    {
     "name": "stdout",
     "output_type": "stream",
     "text": [
      "The price is 49.00 dollars\n"
     ]
    }
   ],
   "source": [
    "price = 49\n",
    "\n",
    "txt = \"The price is {:.2f} dollars\"\n",
    "\n",
    "print(txt.format(price))"
   ]
  },
  {
   "cell_type": "markdown",
   "id": "75426d29",
   "metadata": {},
   "source": [
    "#### Multiple Values\n",
    "If you want to use more values, just add more values to the `format()` method:"
   ]
  },
  {
   "cell_type": "code",
   "execution_count": 9,
   "id": "a4646233",
   "metadata": {},
   "outputs": [
    {
     "name": "stdout",
     "output_type": "stream",
     "text": [
      "I want 3 pieces of item number 567 for 49.00 dollars\n"
     ]
    }
   ],
   "source": [
    "quantity = 3\n",
    "\n",
    "itemno = 567\n",
    "price = 49\n",
    "myorder = \"I want {} pieces of item number {} for {:.2f} dollars\"\n",
    "print(myorder.format(quantity, itemno, price))"
   ]
  },
  {
   "cell_type": "markdown",
   "id": "967edaee",
   "metadata": {},
   "source": [
    "#### Index Numbers\n",
    "You can use index numbers (a number inside the curly brackets `{0}`) to be sure the values are placed in the correct placeholders:"
   ]
  },
  {
   "cell_type": "code",
   "execution_count": 10,
   "id": "3d6b8d2f",
   "metadata": {},
   "outputs": [
    {
     "name": "stdout",
     "output_type": "stream",
     "text": [
      "I want 3 pieces of item number 567 for 49.00 dollars.\n"
     ]
    }
   ],
   "source": [
    "quantity = 3\n",
    "itemno = 567\n",
    "price = 49\n",
    "myorder = \"I want {0} pieces of item number {1} for {2:.2f} dollars.\"\n",
    "print(myorder.format(quantity, itemno, price))\n"
   ]
  },
  {
   "cell_type": "markdown",
   "id": "e512353a",
   "metadata": {},
   "source": [
    "`Also, if you want to refer to the same value more than once, use the index number:`"
   ]
  },
  {
   "cell_type": "code",
   "execution_count": 11,
   "id": "cec4c3a6",
   "metadata": {},
   "outputs": [
    {
     "name": "stdout",
     "output_type": "stream",
     "text": [
      "His name is John. John is 36 years old.\n"
     ]
    }
   ],
   "source": [
    "age = 36\n",
    "name = \"John\"\n",
    "\n",
    "txt = \"His name is {1}. {1} is {0} years old.\"\n",
    "print(txt.format(age, name))"
   ]
  },
  {
   "cell_type": "markdown",
   "id": "75e481c4",
   "metadata": {},
   "source": [
    "#### Named Indexes\n",
    "You can also use named indexes by entering a name inside the curly brackets `{carname}`, but then you must use names when you pass the parameter values `txt.format(carname = \"Ford\")`:"
   ]
  },
  {
   "cell_type": "code",
   "execution_count": 12,
   "id": "2e44f222",
   "metadata": {},
   "outputs": [
    {
     "name": "stdout",
     "output_type": "stream",
     "text": [
      "I have a Ford, it is a Mustang.\n"
     ]
    }
   ],
   "source": [
    "myorder = \"I have a {carname}, it is a {model}.\"\n",
    "\n",
    "print(myorder.format(carname = \"Ford\", model = \"Mustang\"))\n",
    "\n"
   ]
  },
  {
   "cell_type": "markdown",
   "id": "ed957427",
   "metadata": {},
   "source": [
    "Thank You 👍"
   ]
  }
 ],
 "metadata": {
  "kernelspec": {
   "display_name": "Python 3 (ipykernel)",
   "language": "python",
   "name": "python3"
  },
  "language_info": {
   "codemirror_mode": {
    "name": "ipython",
    "version": 3
   },
   "file_extension": ".py",
   "mimetype": "text/x-python",
   "name": "python",
   "nbconvert_exporter": "python",
   "pygments_lexer": "ipython3",
   "version": "3.9.7"
  }
 },
 "nbformat": 4,
 "nbformat_minor": 5
}

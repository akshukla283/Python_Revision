{
 "cells": [
  {
   "cell_type": "markdown",
   "id": "d5904057",
   "metadata": {},
   "source": [
    "#### What is a Module?\n",
    "Consider a module to be the same as a code library.\n",
    "\n",
    "A file containing a set of functions you want to include in your application.\n",
    "\n",
    "#### Create a Module\n",
    "To create a module just save the code you want in a file with the file extension `.py`:\n",
    "\n",
    "Example\n",
    "Save this code in a file named `mymodule.py`"
   ]
  },
  {
   "cell_type": "markdown",
   "id": "d812449e",
   "metadata": {},
   "source": [
    "#### Example\n",
    "Save this code in a file named `mymodule.py`"
   ]
  },
  {
   "cell_type": "code",
   "execution_count": 1,
   "id": "e9909b42",
   "metadata": {},
   "outputs": [],
   "source": [
    "# def greeting(name):\n",
    "#     print(\"Hello, \" + name)\n",
    "\n",
    "# we have saved this as mymodule.py in \n",
    "# the same directory where this notebook \n",
    "# file is.\n"
   ]
  },
  {
   "cell_type": "markdown",
   "id": "f8173212",
   "metadata": {},
   "source": [
    "#### Use a Module\n",
    "Now we can use the module we just created, by using the `import` statement:\n",
    "\n",
    "#### Example\n",
    "Import the module named `mymodule`, and call the greeting function:"
   ]
  },
  {
   "cell_type": "code",
   "execution_count": 2,
   "id": "fc7a4c66",
   "metadata": {},
   "outputs": [
    {
     "name": "stdout",
     "output_type": "stream",
     "text": [
      "Hello, Jonathan\n"
     ]
    }
   ],
   "source": [
    "import mymodule\n",
    "\n",
    "mymodule.greeting(\"Jonathan\")\n"
   ]
  },
  {
   "cell_type": "markdown",
   "id": "bce950c0",
   "metadata": {},
   "source": [
    "**Note:** \n",
    "`When using a function from a module, use the syntax: module_name.function_name.`\n",
    "\n",
    "#### Variables in Module\n",
    "The module can contain functions, as already described, but also variables of all types (arrays, dictionaries, objects etc):\n",
    "\n",
    "#### Example\n",
    "Save this code in the file mymodule2.py"
   ]
  },
  {
   "cell_type": "code",
   "execution_count": 3,
   "id": "30e5862d",
   "metadata": {},
   "outputs": [],
   "source": [
    "# person1 = {\n",
    "#   \"name\": \"John\",\n",
    "#   \"age\": 36,\n",
    "#   \"country\": \"Norway\"\n",
    "# }\n",
    "\n",
    "# saved it as mymodule2.py"
   ]
  },
  {
   "cell_type": "markdown",
   "id": "fdc83b4f",
   "metadata": {},
   "source": [
    "#### Example\n",
    "Import the module named mymodule, and access the person1 dictionary:"
   ]
  },
  {
   "cell_type": "code",
   "execution_count": 4,
   "id": "9b5f1eb1",
   "metadata": {},
   "outputs": [
    {
     "name": "stdout",
     "output_type": "stream",
     "text": [
      "36\n"
     ]
    }
   ],
   "source": [
    "import mymodule2\n",
    "\n",
    "a = mymodule2.person1[\"age\"]\n",
    "print(a)"
   ]
  },
  {
   "cell_type": "markdown",
   "id": "d65d5724",
   "metadata": {},
   "source": [
    "#### Naming a Module\n",
    "\n",
    "You can name the module file whatever you like, but it must have the file extension `.py`\n",
    "\n",
    "#### Re-naming a Module\n",
    "\n",
    "You can create an alias when you import a module, by using the as keyword:\n",
    "\n",
    "#### Example\n",
    "Create an alias for `mymodule2` called `mx`:"
   ]
  },
  {
   "cell_type": "code",
   "execution_count": 5,
   "id": "4018057f",
   "metadata": {},
   "outputs": [
    {
     "name": "stdout",
     "output_type": "stream",
     "text": [
      "36\n"
     ]
    }
   ],
   "source": [
    "import mymodule2 as mx\n",
    "\n",
    "a = mx.person1[\"age\"]\n",
    "print(a)"
   ]
  },
  {
   "cell_type": "markdown",
   "id": "199ebdb3",
   "metadata": {},
   "source": [
    "#### Built-in Modules\n",
    "There are several built-in modules in Python, which you can import whenever you like.\n",
    "\n",
    "#### Example\n",
    "Import and use the `platform` module:"
   ]
  },
  {
   "cell_type": "code",
   "execution_count": 6,
   "id": "5e1c1629",
   "metadata": {},
   "outputs": [
    {
     "name": "stdout",
     "output_type": "stream",
     "text": [
      "Windows\n"
     ]
    }
   ],
   "source": [
    "import platform\n",
    "\n",
    "x = platform.system()\n",
    "\n",
    "print(x)"
   ]
  },
  {
   "cell_type": "markdown",
   "id": "876cbe39",
   "metadata": {},
   "source": [
    "#### Using the dir() Function\n",
    "There is a built-in function to list all the function names (or variable names) in a module. The `dir()` function:\n",
    "\n",
    "#### Example\n",
    "\n",
    "List all the defined names belonging to the platform module:"
   ]
  },
  {
   "cell_type": "code",
   "execution_count": 7,
   "id": "5ca69276",
   "metadata": {},
   "outputs": [
    {
     "name": "stdout",
     "output_type": "stream",
     "text": [
      "['DEV_NULL', '_UNIXCONFDIR', '_WIN32_CLIENT_RELEASES', '_WIN32_SERVER_RELEASES', '__builtins__', '__cached__', '__copyright__', '__doc__', '__file__', '__loader__', '__name__', '__package__', '__spec__', '__version__', '_comparable_version', '_component_re', '_default_architecture', '_dist_try_harder', '_follow_symlinks', '_ironpython26_sys_version_parser', '_ironpython_sys_version_parser', '_java_getprop', '_libc_search', '_linux_distribution', '_lsb_release_version', '_mac_ver_xml', '_node', '_norm_version', '_parse_release_file', '_platform', '_platform_cache', '_pypy_sys_version_parser', '_release_filename', '_release_version', '_supported_dists', '_sys_version', '_sys_version_cache', '_sys_version_parser', '_syscmd_file', '_syscmd_uname', '_syscmd_ver', '_uname_cache', '_ver_output', '_ver_stages', 'architecture', 'collections', 'dist', 'java_ver', 'libc_ver', 'linux_distribution', 'mac_ver', 'machine', 'node', 'os', 'platform', 'popen', 'processor', 'python_branch', 'python_build', 'python_compiler', 'python_implementation', 'python_revision', 'python_version', 'python_version_tuple', 're', 'release', 'subprocess', 'sys', 'system', 'system_alias', 'uname', 'uname_result', 'version', 'warnings', 'win32_ver']\n"
     ]
    }
   ],
   "source": [
    "# List all the defined names belonging to the platform module:\n",
    "\n",
    "import platform\n",
    "\n",
    "x = dir(platform)\n",
    "print(x)"
   ]
  },
  {
   "cell_type": "markdown",
   "id": "a4a4120f",
   "metadata": {},
   "source": [
    "####  Note:\n",
    "The `dir()` function can be used on all modules, also the ones you create yourself."
   ]
  },
  {
   "cell_type": "markdown",
   "id": "d86567f9",
   "metadata": {},
   "source": [
    "#### Import From Module\n",
    "\n",
    "You can choose to import only parts from a module, by using the from keyword.\n",
    "\n",
    "#### Example\n",
    "The module named `mymodule3` has one function and one dictionary:"
   ]
  },
  {
   "cell_type": "code",
   "execution_count": 8,
   "id": "dcd829a6",
   "metadata": {},
   "outputs": [],
   "source": [
    "# def greeting(name):\n",
    "#   print(\"Hello, \" + name)\n",
    "\n",
    "# person1 = {\n",
    "#   \"name\": \"John\",\n",
    "#   \"age\": 36,\n",
    "#   \"country\": \"Norway\"\n",
    "# }\n",
    "\n",
    "# saved it as mymodule3 "
   ]
  },
  {
   "cell_type": "markdown",
   "id": "3e4aea0b",
   "metadata": {},
   "source": [
    "#### Example\n",
    "Import only the person1 dictionary from the module:"
   ]
  },
  {
   "cell_type": "code",
   "execution_count": 10,
   "id": "4256e521",
   "metadata": {},
   "outputs": [
    {
     "name": "stdout",
     "output_type": "stream",
     "text": [
      "36\n"
     ]
    }
   ],
   "source": [
    "from mymodule3 import person1\n",
    "\n",
    "print(person1[\"age\"])"
   ]
  },
  {
   "cell_type": "markdown",
   "id": "08a9aff7",
   "metadata": {},
   "source": [
    "#### Note: \n",
    "\n",
    "When importing using the from keyword, do not use the module name when referring to elements in the module. \n",
    "\n",
    "#### Example:\n",
    "\n",
    "`person1[\"age\"]`, not `mymodule3.person1[\"age\"]`"
   ]
  },
  {
   "cell_type": "code",
   "execution_count": null,
   "id": "feb0b7f8",
   "metadata": {},
   "outputs": [],
   "source": []
  }
 ],
 "metadata": {
  "kernelspec": {
   "display_name": "Python 3 (ipykernel)",
   "language": "python",
   "name": "python3"
  },
  "language_info": {
   "codemirror_mode": {
    "name": "ipython",
    "version": 3
   },
   "file_extension": ".py",
   "mimetype": "text/x-python",
   "name": "python",
   "nbconvert_exporter": "python",
   "pygments_lexer": "ipython3",
   "version": "3.9.7"
  }
 },
 "nbformat": 4,
 "nbformat_minor": 5
}

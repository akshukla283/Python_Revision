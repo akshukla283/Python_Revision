{
 "cells": [
  {
   "cell_type": "markdown",
   "id": "a2283acf",
   "metadata": {},
   "source": [
    "### Python Comments \n",
    "\n",
    "Comments can be used to explain Python code.\n",
    "\n",
    "Comments can be used to make the code more readable.\n",
    "\n",
    "Comments can be used to prevent execution when testing code.\n",
    "\n",
    "#### Creating a Comment\n",
    "Comments starts with a` #`, and Python will ignore them:"
   ]
  },
  {
   "cell_type": "code",
   "execution_count": 1,
   "id": "c05fe357",
   "metadata": {},
   "outputs": [
    {
     "name": "stdout",
     "output_type": "stream",
     "text": [
      "Hello, World!\n"
     ]
    }
   ],
   "source": [
    "#This is a comment\n",
    "print(\"Hello, World!\")"
   ]
  },
  {
   "cell_type": "markdown",
   "id": "108af3c1",
   "metadata": {},
   "source": [
    "Comments can be placed at the end of a line, and Python will ignore the rest of the line:"
   ]
  },
  {
   "cell_type": "code",
   "execution_count": 2,
   "id": "970cf4d9",
   "metadata": {},
   "outputs": [
    {
     "name": "stdout",
     "output_type": "stream",
     "text": [
      "Hello, World!\n"
     ]
    }
   ],
   "source": [
    "print(\"Hello, World!\") #This is a comment"
   ]
  },
  {
   "cell_type": "markdown",
   "id": "9f0fb0a4",
   "metadata": {},
   "source": [
    "A comment does not have to be text that explains the code, it can also be used to prevent Python from executing code:\n",
    "\n",
    "Example"
   ]
  },
  {
   "cell_type": "code",
   "execution_count": 3,
   "id": "17e1eb5f",
   "metadata": {},
   "outputs": [
    {
     "name": "stdout",
     "output_type": "stream",
     "text": [
      "Cheers, Mate!\n"
     ]
    }
   ],
   "source": [
    "#print(\"Hello, World!\")\n",
    "print(\"Cheers, Mate!\")"
   ]
  },
  {
   "cell_type": "markdown",
   "id": "687cd988",
   "metadata": {},
   "source": [
    "#### Multi Line Comments\n",
    "Python does not really have a syntax for multi line comments.\n",
    "\n",
    "To add a multiline comment you could insert a `#` for each line:"
   ]
  },
  {
   "cell_type": "code",
   "execution_count": 4,
   "id": "b4633a69",
   "metadata": {},
   "outputs": [
    {
     "name": "stdout",
     "output_type": "stream",
     "text": [
      "Hello, World!\n"
     ]
    }
   ],
   "source": [
    "#This is a comment\n",
    "#written in\n",
    "#more than just one line\n",
    "print(\"Hello, World!\")"
   ]
  },
  {
   "cell_type": "markdown",
   "id": "eebe733e",
   "metadata": {},
   "source": [
    "Or, not quite as intended, you can use a multiline string.\n",
    "\n",
    "Since Python will ignore string literals that are not assigned to a variable, you can add a multiline string `(triple quotes)` in your code, and place your comment inside it:\n",
    "\n",
    "Example"
   ]
  },
  {
   "cell_type": "code",
   "execution_count": 8,
   "id": "11670377",
   "metadata": {},
   "outputs": [
    {
     "name": "stdout",
     "output_type": "stream",
     "text": [
      "Hello, World!\n"
     ]
    }
   ],
   "source": [
    "\"\"\"\n",
    "This is a comment\n",
    "written in\n",
    "more than just one line\n",
    "\"\"\"\n",
    "print(\"Hello, World!\")"
   ]
  },
  {
   "cell_type": "code",
   "execution_count": 9,
   "id": "329a7951",
   "metadata": {},
   "outputs": [
    {
     "name": "stdout",
     "output_type": "stream",
     "text": [
      "Hello, World!\n"
     ]
    }
   ],
   "source": [
    "'''\n",
    "This is a comment\n",
    "written in\n",
    "more than just one line\n",
    "'''\n",
    "print(\"Hello, World!\")"
   ]
  },
  {
   "cell_type": "code",
   "execution_count": 10,
   "id": "84df2d02",
   "metadata": {},
   "outputs": [
    {
     "name": "stdout",
     "output_type": "stream",
     "text": [
      "Hello this is first line.\n",
      "and now we are writing second line,\n",
      "and will also check the indentation, so let's see output of this.\n"
     ]
    }
   ],
   "source": [
    "# we can use triple quotes for print in same indentations as they will be in input\n",
    "\n",
    "print(\"\"\"Hello this is first line.\n",
    "and now we are writing second line,\n",
    "and will also check the indentation, so let's see output of this.\"\"\")"
   ]
  },
  {
   "cell_type": "code",
   "execution_count": 11,
   "id": "827e9199",
   "metadata": {},
   "outputs": [
    {
     "name": "stdout",
     "output_type": "stream",
     "text": [
      "Hello\tWorld!\n"
     ]
    }
   ],
   "source": [
    "print(\"\"\"Hello\\tWorld!\"\"\")"
   ]
  },
  {
   "cell_type": "markdown",
   "id": "fb079530",
   "metadata": {},
   "source": [
    "tab and new line character will also work in triple quotes"
   ]
  },
  {
   "cell_type": "code",
   "execution_count": 12,
   "id": "1eba8d2f",
   "metadata": {},
   "outputs": [
    {
     "name": "stdout",
     "output_type": "stream",
     "text": [
      "Now we are here to check tab\tand the new line\n",
      "to check wether it is working or not\n",
      "and also just some indentation as well\n"
     ]
    }
   ],
   "source": [
    "print(\"\"\"Now we are here to check tab\\tand the new line\\nto check wether it is working or not\n",
    "and also just some indentation as well\"\"\")"
   ]
  },
  {
   "cell_type": "markdown",
   "id": "41815aaa",
   "metadata": {},
   "source": [
    "As we can that tab '\\t' and new line'\\n' is also working fine in the triple quotes as well so we will utilize it whenever needed."
   ]
  },
  {
   "cell_type": "code",
   "execution_count": 2,
   "id": "3fdce0fd",
   "metadata": {},
   "outputs": [
    {
     "ename": "SyntaxError",
     "evalue": "EOL while scanning string literal (1235034137.py, line 1)",
     "output_type": "error",
     "traceback": [
      "\u001b[1;36m  Input \u001b[1;32mIn [2]\u001b[1;36m\u001b[0m\n\u001b[1;33m    print(\"hello\u001b[0m\n\u001b[1;37m                ^\u001b[0m\n\u001b[1;31mSyntaxError\u001b[0m\u001b[1;31m:\u001b[0m EOL while scanning string literal\n"
     ]
    }
   ],
   "source": [
    "print(\"hello\n",
    "       world\")"
   ]
  },
  {
   "cell_type": "code",
   "execution_count": 3,
   "id": "05483a3c",
   "metadata": {},
   "outputs": [
    {
     "name": "stdout",
     "output_type": "stream",
     "text": [
      "hello       world\n"
     ]
    }
   ],
   "source": [
    "print(\"hello\\\n",
    "       world\")"
   ]
  },
  {
   "cell_type": "code",
   "execution_count": 4,
   "id": "e104751d",
   "metadata": {},
   "outputs": [
    {
     "name": "stdout",
     "output_type": "stream",
     "text": [
      "hello      \\ world!\n"
     ]
    }
   ],
   "source": [
    "print(\"hello\\\n",
    "      \\ world!\")"
   ]
  },
  {
   "cell_type": "code",
   "execution_count": 5,
   "id": "dac31f6c",
   "metadata": {},
   "outputs": [
    {
     "name": "stdout",
     "output_type": "stream",
     "text": [
      "Hello World!\n",
      "This is second print \n"
     ]
    }
   ],
   "source": [
    "# we can print multiple print statement in single line just separated with semicolon ';'\n",
    "\n",
    "print(\"Hello World!\");print(\"This is second print \") "
   ]
  },
  {
   "cell_type": "code",
   "execution_count": 6,
   "id": "f583e839",
   "metadata": {},
   "outputs": [
    {
     "name": "stdout",
     "output_type": "stream",
     "text": [
      "X + Y =  50\n",
      "X * Y =  600\n"
     ]
    }
   ],
   "source": [
    "x , y = 20, 30;print(\"X + Y = \", x+y);print(\"X * Y = \", x*y)"
   ]
  },
  {
   "cell_type": "code",
   "execution_count": null,
   "id": "5ab6a870",
   "metadata": {},
   "outputs": [],
   "source": []
  }
 ],
 "metadata": {
  "kernelspec": {
   "display_name": "Python 3 (ipykernel)",
   "language": "python",
   "name": "python3"
  },
  "language_info": {
   "codemirror_mode": {
    "name": "ipython",
    "version": 3
   },
   "file_extension": ".py",
   "mimetype": "text/x-python",
   "name": "python",
   "nbconvert_exporter": "python",
   "pygments_lexer": "ipython3",
   "version": "3.9.7"
  }
 },
 "nbformat": 4,
 "nbformat_minor": 5
}

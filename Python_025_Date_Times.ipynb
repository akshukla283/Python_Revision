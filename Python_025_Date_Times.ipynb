{
 "cells": [
  {
   "cell_type": "markdown",
   "id": "317b3b1d",
   "metadata": {},
   "source": [
    "#### Python Dates\n",
    "A date in Python is not a data type of its own, but we can import a module named `datetime` to work with dates as date objects."
   ]
  },
  {
   "cell_type": "code",
   "execution_count": 2,
   "id": "03bf608e",
   "metadata": {},
   "outputs": [
    {
     "name": "stdout",
     "output_type": "stream",
     "text": [
      "2022-03-22 14:02:23.600894\n"
     ]
    }
   ],
   "source": [
    "import datetime\n",
    "\n",
    "x = datetime.datetime.now()\n",
    "print(x)"
   ]
  },
  {
   "cell_type": "markdown",
   "id": "5072eebc",
   "metadata": {},
   "source": [
    "#### Date Output\n",
    "When we execute the code from the example above the result will be:\n",
    "\n",
    "`2022-03-22 13:53:39.576354`\n",
    "The date contains year, month, day, hour, minute, second, and microsecond.\n",
    "\n",
    "The `datetime` module has many methods to return information about the date object.\n",
    "\n",
    "Here are a few examples, you will learn more about them later in this chapter:"
   ]
  },
  {
   "cell_type": "code",
   "execution_count": 3,
   "id": "54a4392c",
   "metadata": {},
   "outputs": [
    {
     "name": "stdout",
     "output_type": "stream",
     "text": [
      "2022\n",
      "Tuesday\n"
     ]
    }
   ],
   "source": [
    "import datetime\n",
    "\n",
    "x = datetime.datetime.now()\n",
    "print(x.year)\n",
    "print(x.strftime(\"%A\"))"
   ]
  },
  {
   "cell_type": "code",
   "execution_count": 8,
   "id": "a40c6096",
   "metadata": {},
   "outputs": [
    {
     "name": "stdout",
     "output_type": "stream",
     "text": [
      "2022\n",
      "3\n",
      "1\n"
     ]
    }
   ],
   "source": [
    "import datetime\n",
    "\n",
    "x = datetime.datetime.now()\n",
    "print(x.year)\n",
    "print(x.month)\n",
    "print(x.weekday())"
   ]
  },
  {
   "cell_type": "markdown",
   "id": "902c6e8e",
   "metadata": {},
   "source": [
    "#### Creating Date Objects\n",
    "To create a date, we can use the `datetime()` class (constructor) of the `datetime` module.\n",
    "\n",
    "The `datetime()` class requires three parameters to create a date: year, month, day."
   ]
  },
  {
   "cell_type": "code",
   "execution_count": 4,
   "id": "0fb47fb0",
   "metadata": {},
   "outputs": [
    {
     "name": "stdout",
     "output_type": "stream",
     "text": [
      "2020-05-17 00:00:00\n"
     ]
    }
   ],
   "source": [
    "import datetime\n",
    "\n",
    "x = datetime.datetime(2020, 5,17)\n",
    "\n",
    "print(x)"
   ]
  },
  {
   "cell_type": "markdown",
   "id": "4029f4ed",
   "metadata": {},
   "source": [
    "The `datetime()` class also takes parameters for time and timezone (hour, minute, second, microsecond, tzone), but they are optional, and has a default value of` 0`, (`None` for timezone)."
   ]
  },
  {
   "cell_type": "markdown",
   "id": "a3d03f63",
   "metadata": {},
   "source": [
    "#### The strftime() Method\n",
    "\n",
    "The `datetime` object has a method for formatting date objects into readable strings.\n",
    "\n",
    "The method is called `strftime()`, and takes one parameter, format, to specify the `format` of the returned string:\n",
    "\n",
    "#### Example\n",
    "\n",
    "Display the name of the month:"
   ]
  },
  {
   "cell_type": "code",
   "execution_count": 5,
   "id": "3de2370f",
   "metadata": {},
   "outputs": [
    {
     "name": "stdout",
     "output_type": "stream",
     "text": [
      "June\n"
     ]
    }
   ],
   "source": [
    "import datetime\n",
    "\n",
    "x = datetime.datetime(2018, 6, 1)\n",
    "\n",
    "print(x.strftime(\"%B\"))"
   ]
  },
  {
   "cell_type": "code",
   "execution_count": 6,
   "id": "4327d6b2",
   "metadata": {},
   "outputs": [
    {
     "name": "stdout",
     "output_type": "stream",
     "text": [
      "Jun\n"
     ]
    }
   ],
   "source": [
    "import datetime\n",
    "\n",
    "x = datetime.datetime(2018, 6, 1)\n",
    "\n",
    "print(x.strftime(\"%b\"))"
   ]
  },
  {
   "cell_type": "markdown",
   "id": "6563f31f",
   "metadata": {},
   "source": [
    "#### The strftime() Method"
   ]
  },
  {
   "cell_type": "markdown",
   "id": "5938dc01",
   "metadata": {},
   "source": [
    "`%a   Weekday, short version---  Wed`"
   ]
  },
  {
   "cell_type": "code",
   "execution_count": 9,
   "id": "6ae097ae",
   "metadata": {},
   "outputs": [
    {
     "name": "stdout",
     "output_type": "stream",
     "text": [
      "Tue\n"
     ]
    }
   ],
   "source": [
    "import datetime\n",
    "\n",
    "x = datetime.datetime.now()\n",
    "\n",
    "print(x.strftime(\"%a\"))\n"
   ]
  },
  {
   "cell_type": "markdown",
   "id": "3c6c9f3b",
   "metadata": {},
   "source": [
    "`%A\tWeekday, full version\tWednesday`"
   ]
  },
  {
   "cell_type": "code",
   "execution_count": 10,
   "id": "41edabdf",
   "metadata": {},
   "outputs": [
    {
     "name": "stdout",
     "output_type": "stream",
     "text": [
      "Tuesday\n"
     ]
    }
   ],
   "source": [
    "import datetime\n",
    "\n",
    "x = datetime.datetime.now()\n",
    "\n",
    "print(x.strftime(\"%A\"))\n"
   ]
  },
  {
   "cell_type": "markdown",
   "id": "506c1663",
   "metadata": {},
   "source": [
    "`%w\tWeekday as a number 0-6, 0 is Sunday\t3`"
   ]
  },
  {
   "cell_type": "code",
   "execution_count": 11,
   "id": "64c40fc2",
   "metadata": {},
   "outputs": [
    {
     "name": "stdout",
     "output_type": "stream",
     "text": [
      "2\n"
     ]
    }
   ],
   "source": [
    "import datetime\n",
    "\n",
    "x = datetime.datetime.now()\n",
    "\n",
    "print(x.strftime(\"%w\"))\n"
   ]
  },
  {
   "cell_type": "markdown",
   "id": "dde90760",
   "metadata": {},
   "source": [
    "`%d\tDay of month 01-31\t31`"
   ]
  },
  {
   "cell_type": "code",
   "execution_count": 12,
   "id": "bb1e74a6",
   "metadata": {},
   "outputs": [
    {
     "name": "stdout",
     "output_type": "stream",
     "text": [
      "22\n"
     ]
    }
   ],
   "source": [
    "import datetime\n",
    "\n",
    "x = datetime.datetime.now()\n",
    "\n",
    "print(x.strftime(\"%d\"))\n"
   ]
  },
  {
   "cell_type": "markdown",
   "id": "f1ebc686",
   "metadata": {},
   "source": [
    "`%b\tMonth name, short version\tDec`"
   ]
  },
  {
   "cell_type": "code",
   "execution_count": 13,
   "id": "b3b3bd4e",
   "metadata": {},
   "outputs": [
    {
     "name": "stdout",
     "output_type": "stream",
     "text": [
      "Mar\n"
     ]
    }
   ],
   "source": [
    "import datetime\n",
    "\n",
    "x = datetime.datetime.now()\n",
    "\n",
    "print(x.strftime(\"%b\"))\n"
   ]
  },
  {
   "cell_type": "markdown",
   "id": "9d88a5ee",
   "metadata": {},
   "source": [
    "`%B\tMonth name, full version\tDecember`"
   ]
  },
  {
   "cell_type": "code",
   "execution_count": 14,
   "id": "d9305b83",
   "metadata": {},
   "outputs": [
    {
     "name": "stdout",
     "output_type": "stream",
     "text": [
      "March\n"
     ]
    }
   ],
   "source": [
    "import datetime\n",
    "\n",
    "x = datetime.datetime.now()\n",
    "\n",
    "print(x.strftime(\"%B\"))\n"
   ]
  },
  {
   "cell_type": "markdown",
   "id": "39d6295b",
   "metadata": {},
   "source": [
    "`%m\tMonth as a number 01-12\t12`"
   ]
  },
  {
   "cell_type": "code",
   "execution_count": 15,
   "id": "12a08686",
   "metadata": {},
   "outputs": [
    {
     "name": "stdout",
     "output_type": "stream",
     "text": [
      "03\n"
     ]
    }
   ],
   "source": [
    "import datetime\n",
    "\n",
    "x = datetime.datetime.now()\n",
    "\n",
    "print(x.strftime(\"%m\"))\n"
   ]
  },
  {
   "cell_type": "markdown",
   "id": "6d3d19c9",
   "metadata": {},
   "source": [
    "`%y\tYear, short version, without century\t18`"
   ]
  },
  {
   "cell_type": "code",
   "execution_count": 16,
   "id": "271cdda4",
   "metadata": {},
   "outputs": [
    {
     "name": "stdout",
     "output_type": "stream",
     "text": [
      "22\n"
     ]
    }
   ],
   "source": [
    "import datetime\n",
    "\n",
    "x = datetime.datetime.now()\n",
    "\n",
    "print(x.strftime(\"%y\"))\n"
   ]
  },
  {
   "cell_type": "markdown",
   "id": "2253f14b",
   "metadata": {},
   "source": [
    "`%Y\tYear, full version\t2018`"
   ]
  },
  {
   "cell_type": "code",
   "execution_count": 17,
   "id": "73b08120",
   "metadata": {},
   "outputs": [
    {
     "name": "stdout",
     "output_type": "stream",
     "text": [
      "2022\n"
     ]
    }
   ],
   "source": [
    "import datetime\n",
    "\n",
    "x = datetime.datetime.now()\n",
    "\n",
    "print(x.strftime(\"%Y\"))\n"
   ]
  },
  {
   "cell_type": "markdown",
   "id": "c81a5b68",
   "metadata": {},
   "source": [
    "`%H\tHour 00-23\t17`"
   ]
  },
  {
   "cell_type": "code",
   "execution_count": 19,
   "id": "6c8adbec",
   "metadata": {},
   "outputs": [
    {
     "name": "stdout",
     "output_type": "stream",
     "text": [
      "14\n"
     ]
    }
   ],
   "source": [
    "import datetime\n",
    "\n",
    "x = datetime.datetime.now()\n",
    "\n",
    "print(x.strftime(\"%H\"))\n"
   ]
  },
  {
   "cell_type": "markdown",
   "id": "74d85903",
   "metadata": {},
   "source": [
    "`%I\tHour 00-12\t05`"
   ]
  },
  {
   "cell_type": "code",
   "execution_count": 20,
   "id": "30d1c629",
   "metadata": {},
   "outputs": [
    {
     "name": "stdout",
     "output_type": "stream",
     "text": [
      "02\n"
     ]
    }
   ],
   "source": [
    "import datetime\n",
    "\n",
    "x = datetime.datetime.now()\n",
    "\n",
    "print(x.strftime(\"%I\"))\n"
   ]
  },
  {
   "cell_type": "markdown",
   "id": "f6380dbc",
   "metadata": {},
   "source": [
    "`%p\tAM/PM\tPM`"
   ]
  },
  {
   "cell_type": "code",
   "execution_count": 21,
   "id": "cf0f2f51",
   "metadata": {},
   "outputs": [
    {
     "name": "stdout",
     "output_type": "stream",
     "text": [
      "PM\n"
     ]
    }
   ],
   "source": [
    "import datetime\n",
    "\n",
    "x = datetime.datetime.now()\n",
    "\n",
    "print(x.strftime(\"%p\"))\n"
   ]
  },
  {
   "cell_type": "markdown",
   "id": "9c69daad",
   "metadata": {},
   "source": [
    "`%M\tMinute 00-59\t41`"
   ]
  },
  {
   "cell_type": "code",
   "execution_count": 22,
   "id": "9a9273bd",
   "metadata": {},
   "outputs": [
    {
     "name": "stdout",
     "output_type": "stream",
     "text": [
      "27\n"
     ]
    }
   ],
   "source": [
    "import datetime\n",
    " \n",
    "x = datetime.datetime.now()\n",
    "\n",
    "print(x.strftime(\"%M\"))"
   ]
  },
  {
   "cell_type": "markdown",
   "id": "c5132711",
   "metadata": {},
   "source": [
    "`%S\tSecond 00-59\t08`"
   ]
  },
  {
   "cell_type": "code",
   "execution_count": 24,
   "id": "3ec9fa9c",
   "metadata": {},
   "outputs": [
    {
     "name": "stdout",
     "output_type": "stream",
     "text": [
      "55\n"
     ]
    }
   ],
   "source": [
    "import datetime\n",
    "\n",
    "x = datetime.datetime.now()\n",
    "\n",
    "print(x.strftime(\"%S\"))"
   ]
  },
  {
   "cell_type": "markdown",
   "id": "1e177cd7",
   "metadata": {},
   "source": [
    "`%f\tMicrosecond 000000-999999\t548513`"
   ]
  },
  {
   "cell_type": "code",
   "execution_count": 25,
   "id": "d7a63b96",
   "metadata": {},
   "outputs": [
    {
     "name": "stdout",
     "output_type": "stream",
     "text": [
      "795114\n"
     ]
    }
   ],
   "source": [
    "import datetime\n",
    "\n",
    "x = datetime.datetime.now()\n",
    "\n",
    "print(x.strftime(\"%f\"))"
   ]
  },
  {
   "cell_type": "markdown",
   "id": "f746c879",
   "metadata": {},
   "source": [
    "`%z\tUTC offset\t+0100`"
   ]
  },
  {
   "cell_type": "code",
   "execution_count": 26,
   "id": "2c093935",
   "metadata": {},
   "outputs": [
    {
     "name": "stdout",
     "output_type": "stream",
     "text": [
      "\n"
     ]
    }
   ],
   "source": [
    "import datetime\n",
    "\n",
    "x = datetime.datetime.now()\n",
    "\n",
    "print(x.strftime(\"%z\"))"
   ]
  },
  {
   "cell_type": "markdown",
   "id": "38db4edd",
   "metadata": {},
   "source": [
    "`%Z\tTimezone\tCST`"
   ]
  },
  {
   "cell_type": "code",
   "execution_count": 27,
   "id": "00dbee34",
   "metadata": {},
   "outputs": [
    {
     "name": "stdout",
     "output_type": "stream",
     "text": [
      "\n"
     ]
    }
   ],
   "source": [
    "import datetime\n",
    "\n",
    "x = datetime.datetime.now()\n",
    "\n",
    "print(x.strftime(\"%Z\"))"
   ]
  },
  {
   "cell_type": "markdown",
   "id": "54bee8fd",
   "metadata": {},
   "source": [
    "`%j\tDay number of year 001-366\t365`"
   ]
  },
  {
   "cell_type": "code",
   "execution_count": 28,
   "id": "2d0280e4",
   "metadata": {},
   "outputs": [
    {
     "name": "stdout",
     "output_type": "stream",
     "text": [
      "081\n"
     ]
    }
   ],
   "source": [
    "import datetime\n",
    "x = datetime.datetime.now()\n",
    "\n",
    "print(x.strftime(\"%j\"))"
   ]
  },
  {
   "cell_type": "code",
   "execution_count": 29,
   "id": "e54e8c91",
   "metadata": {},
   "outputs": [
    {
     "name": "stdout",
     "output_type": "stream",
     "text": [
      "152\n"
     ]
    }
   ],
   "source": [
    "import datetime\n",
    "\n",
    "x = datetime.datetime(2018, 6, 1) # can't add\n",
    "                                 # 0 like 06\n",
    "print(x.strftime(\"%j\"))"
   ]
  },
  {
   "cell_type": "markdown",
   "id": "bf045d68",
   "metadata": {},
   "source": [
    "`%U\tWeek number of year, Sunday as the first day of week, 00-53\t52`"
   ]
  },
  {
   "cell_type": "code",
   "execution_count": 31,
   "id": "dc851074",
   "metadata": {},
   "outputs": [
    {
     "name": "stdout",
     "output_type": "stream",
     "text": [
      "12\n"
     ]
    }
   ],
   "source": [
    "import datetime\n",
    "\n",
    "x = datetime.datetime.now()\n",
    "\n",
    "print(x.strftime(\"%U\"))"
   ]
  },
  {
   "cell_type": "markdown",
   "id": "27afb698",
   "metadata": {},
   "source": [
    "`%W\tWeek number of year, Monday as the first day of week, 00-53\t52`"
   ]
  },
  {
   "cell_type": "code",
   "execution_count": 32,
   "id": "9dbaf9f0",
   "metadata": {},
   "outputs": [
    {
     "name": "stdout",
     "output_type": "stream",
     "text": [
      "12\n"
     ]
    }
   ],
   "source": [
    "import datetime\n",
    "\n",
    "x = datetime.datetime.now()\n",
    "\n",
    "print(x.strftime(\"%W\"))"
   ]
  },
  {
   "cell_type": "markdown",
   "id": "dfc59362",
   "metadata": {},
   "source": [
    "`%c\tLocal version of date and time\tMon Dec 31 17:41:00 2018`"
   ]
  },
  {
   "cell_type": "code",
   "execution_count": 33,
   "id": "de221c30",
   "metadata": {},
   "outputs": [
    {
     "name": "stdout",
     "output_type": "stream",
     "text": [
      "Tue Mar 22 14:41:55 2022\n"
     ]
    }
   ],
   "source": [
    "import datetime\n",
    "\n",
    "x = datetime.datetime.now()\n",
    "\n",
    "print(x.strftime(\"%c\"))"
   ]
  },
  {
   "cell_type": "markdown",
   "id": "c1b57087",
   "metadata": {},
   "source": [
    "`%C\tCentury\t20`"
   ]
  },
  {
   "cell_type": "code",
   "execution_count": 34,
   "id": "56009d19",
   "metadata": {},
   "outputs": [
    {
     "name": "stdout",
     "output_type": "stream",
     "text": [
      "20\n"
     ]
    }
   ],
   "source": [
    "import datetime\n",
    "\n",
    "x = datetime.datetime.now()\n",
    "\n",
    "print(x.strftime(\"%C\"))"
   ]
  },
  {
   "cell_type": "markdown",
   "id": "ec67d710",
   "metadata": {},
   "source": [
    "`%x\tLocal version of date\t12/31/18`"
   ]
  },
  {
   "cell_type": "code",
   "execution_count": 35,
   "id": "61801371",
   "metadata": {},
   "outputs": [
    {
     "name": "stdout",
     "output_type": "stream",
     "text": [
      "03/22/22\n"
     ]
    }
   ],
   "source": [
    "import datetime\n",
    "\n",
    "x = datetime.datetime.now()\n",
    "\n",
    "print(x.strftime(\"%x\"))"
   ]
  },
  {
   "cell_type": "markdown",
   "id": "a15b523a",
   "metadata": {},
   "source": [
    "`%X\tLocal version of time\t17:41:00`"
   ]
  },
  {
   "cell_type": "code",
   "execution_count": 36,
   "id": "4c910afe",
   "metadata": {},
   "outputs": [
    {
     "name": "stdout",
     "output_type": "stream",
     "text": [
      "15:01:02\n"
     ]
    }
   ],
   "source": [
    "import datetime\n",
    "\n",
    "x = datetime.datetime.now()\n",
    "\n",
    "print(x.strftime(\"%X\"))"
   ]
  },
  {
   "cell_type": "markdown",
   "id": "8a245ddb",
   "metadata": {},
   "source": [
    "`%%\tA % character\t%`"
   ]
  },
  {
   "cell_type": "code",
   "execution_count": 37,
   "id": "dc528ae2",
   "metadata": {},
   "outputs": [
    {
     "name": "stdout",
     "output_type": "stream",
     "text": [
      "%\n"
     ]
    }
   ],
   "source": [
    "import datetime\n",
    "\n",
    "x = datetime.datetime.now()\n",
    "\n",
    "print(x.strftime(\"%%\"))"
   ]
  },
  {
   "cell_type": "markdown",
   "id": "459f53f4",
   "metadata": {},
   "source": [
    "`%G\tISO 8601 year\t2018`"
   ]
  },
  {
   "cell_type": "code",
   "execution_count": 38,
   "id": "cf7fac4b",
   "metadata": {},
   "outputs": [
    {
     "name": "stdout",
     "output_type": "stream",
     "text": [
      "2022\n"
     ]
    }
   ],
   "source": [
    "import datetime\n",
    "\n",
    "x = datetime.datetime.now()\n",
    "\n",
    "print(x.strftime(\"%G\"))"
   ]
  },
  {
   "cell_type": "markdown",
   "id": "abc9a78b",
   "metadata": {},
   "source": [
    "`%u\tISO 8601 weekday (1-7)\t1`"
   ]
  },
  {
   "cell_type": "code",
   "execution_count": 39,
   "id": "3626b0c7",
   "metadata": {},
   "outputs": [
    {
     "name": "stdout",
     "output_type": "stream",
     "text": [
      "2\n"
     ]
    }
   ],
   "source": [
    "import datetime\n",
    "\n",
    "x = datetime.datetime.now()\n",
    "\n",
    "print(x.strftime(\"%u\"))"
   ]
  },
  {
   "cell_type": "markdown",
   "id": "9b4648d7",
   "metadata": {},
   "source": [
    "`%V\tISO 8601 weeknumber (01-53)\t01`"
   ]
  },
  {
   "cell_type": "code",
   "execution_count": 40,
   "id": "2708a628",
   "metadata": {},
   "outputs": [
    {
     "name": "stdout",
     "output_type": "stream",
     "text": [
      "12\n"
     ]
    }
   ],
   "source": [
    "import datetime\n",
    "\n",
    "x = datetime.datetime.now()\n",
    "\n",
    "print(x.strftime(\"%V\"))"
   ]
  },
  {
   "cell_type": "markdown",
   "id": "4ad3302c",
   "metadata": {},
   "source": [
    "Thank You 👍"
   ]
  }
 ],
 "metadata": {
  "kernelspec": {
   "display_name": "Python 3 (ipykernel)",
   "language": "python",
   "name": "python3"
  },
  "language_info": {
   "codemirror_mode": {
    "name": "ipython",
    "version": 3
   },
   "file_extension": ".py",
   "mimetype": "text/x-python",
   "name": "python",
   "nbconvert_exporter": "python",
   "pygments_lexer": "ipython3",
   "version": "3.7.8"
  }
 },
 "nbformat": 4,
 "nbformat_minor": 5
}

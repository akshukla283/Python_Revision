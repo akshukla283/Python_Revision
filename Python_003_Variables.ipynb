{
 "cells": [
  {
   "cell_type": "markdown",
   "id": "bb88dede",
   "metadata": {},
   "source": [
    "#### Variables\n",
    "\n",
    "Variables are containers for storing data values.\n",
    "\n",
    "#### Creating Variables\n",
    "Python has no command for declaring a variable.\n",
    "\n",
    "A variable is created the moment you first assign a value to it."
   ]
  },
  {
   "cell_type": "code",
   "execution_count": 1,
   "id": "3d33f75d",
   "metadata": {},
   "outputs": [
    {
     "name": "stdout",
     "output_type": "stream",
     "text": [
      "5\n",
      "John\n"
     ]
    }
   ],
   "source": [
    "x = 5\n",
    "y = \"John\"\n",
    "\n",
    "print(x)\n",
    "print(y)"
   ]
  },
  {
   "cell_type": "markdown",
   "id": "8488e488",
   "metadata": {},
   "source": [
    "Variables do not need to be declared with any particular type, and can even change type after they have been set."
   ]
  },
  {
   "cell_type": "code",
   "execution_count": 2,
   "id": "5d3eb1c1",
   "metadata": {},
   "outputs": [
    {
     "name": "stdout",
     "output_type": "stream",
     "text": [
      "Sally\n"
     ]
    }
   ],
   "source": [
    "x = 4        # x is type int\n",
    "x = \"Sally\"  # x is now of type str\n",
    "\n",
    "print(x)"
   ]
  },
  {
   "cell_type": "markdown",
   "id": "5463cf61",
   "metadata": {},
   "source": [
    "#### Casting\n",
    "If you want to specify the data type of a variable, this can be done with casting."
   ]
  },
  {
   "cell_type": "code",
   "execution_count": 4,
   "id": "d48cb60a",
   "metadata": {},
   "outputs": [
    {
     "name": "stdout",
     "output_type": "stream",
     "text": [
      "3\n",
      "3\n",
      "3.0\n"
     ]
    }
   ],
   "source": [
    "x = str(3)   # x will be '3'\n",
    "y = int(3)   # y will be  3\n",
    "z = float(3) # z will be 3.0\n",
    "print(x)\n",
    "print(y)\n",
    "print(z)"
   ]
  },
  {
   "cell_type": "markdown",
   "id": "7cfae5c2",
   "metadata": {},
   "source": [
    "#### Get the Type\n",
    "\n",
    "you can get the data type() fuction."
   ]
  },
  {
   "cell_type": "code",
   "execution_count": 5,
   "id": "012d5d7c",
   "metadata": {},
   "outputs": [
    {
     "name": "stdout",
     "output_type": "stream",
     "text": [
      "<class 'str'>\n",
      "<class 'int'>\n",
      "<class 'float'>\n"
     ]
    }
   ],
   "source": [
    "print(type(x))\n",
    "print(type(y))\n",
    "print(type(z))"
   ]
  },
  {
   "cell_type": "code",
   "execution_count": 6,
   "id": "24fdc618",
   "metadata": {},
   "outputs": [
    {
     "name": "stdout",
     "output_type": "stream",
     "text": [
      "<class 'int'>\n",
      "<class 'str'>\n"
     ]
    }
   ],
   "source": [
    "x = 5\n",
    "y = \"John\"\n",
    "\n",
    "print(type(x))\n",
    "print(type(y))"
   ]
  },
  {
   "cell_type": "markdown",
   "id": "d7be7df6",
   "metadata": {},
   "source": [
    "#### Single or Double Quotes?\n",
    "String variables can be declared either by using single or double quotes:"
   ]
  },
  {
   "cell_type": "code",
   "execution_count": 7,
   "id": "8f446434",
   "metadata": {},
   "outputs": [
    {
     "name": "stdout",
     "output_type": "stream",
     "text": [
      "John\n"
     ]
    }
   ],
   "source": [
    "x = \"John\"\n",
    "# is the same as \n",
    "x = 'John'\n",
    "\n",
    "print(x)"
   ]
  },
  {
   "cell_type": "markdown",
   "id": "65947081",
   "metadata": {},
   "source": [
    "#### Case-Sensitive\n",
    "Variable names are case-sensitive."
   ]
  },
  {
   "cell_type": "code",
   "execution_count": 9,
   "id": "41ca943c",
   "metadata": {},
   "outputs": [
    {
     "name": "stdout",
     "output_type": "stream",
     "text": [
      "4\n",
      "Sally\n"
     ]
    }
   ],
   "source": [
    "a = 4\n",
    "\n",
    "A = \"Sally\"\n",
    "\n",
    "# A will not overwite a\n",
    "print(a)\n",
    "print(A)\n"
   ]
  },
  {
   "cell_type": "markdown",
   "id": "8042aaee",
   "metadata": {},
   "source": [
    "\n",
    "#### Variable Names\n",
    "\n",
    "* A variable can have a short name (like x and y) or a more descriptive name (age, carname,total_volume).\n",
    "\n",
    "#### Rules for Python variables:\n",
    "\n",
    "* A variable name must start with a letter or the underscore character\n",
    "\n",
    "* A variable name cannot start with a number\n",
    "\n",
    "* A variable name can only contain alpha-numeric characters and underscores (A-z, 0-9, and _ )\n",
    "\n",
    "* Variable names are case-sensitive (age, Age and AGE are three different variables)\n"
   ]
  },
  {
   "cell_type": "code",
   "execution_count": 10,
   "id": "e887db3a",
   "metadata": {},
   "outputs": [],
   "source": [
    "# Legal variable name \n",
    "myvar = \"John\"\n",
    "my_var = \"John\"\n",
    "_my_var = \"John\"\n",
    "myVar = \"John\"\n",
    "MYVAR = \"John\"\n",
    "myvar2 = \"John\""
   ]
  },
  {
   "cell_type": "code",
   "execution_count": 11,
   "id": "c1cda995",
   "metadata": {},
   "outputs": [
    {
     "ename": "SyntaxError",
     "evalue": "invalid syntax (Temp/ipykernel_6052/2250116647.py, line 3)",
     "output_type": "error",
     "traceback": [
      "\u001b[1;36m  File \u001b[1;32m\"C:\\Users\\akshu\\AppData\\Local\\Temp/ipykernel_6052/2250116647.py\"\u001b[1;36m, line \u001b[1;32m3\u001b[0m\n\u001b[1;33m    2myvar = \"John\"\u001b[0m\n\u001b[1;37m         ^\u001b[0m\n\u001b[1;31mSyntaxError\u001b[0m\u001b[1;31m:\u001b[0m invalid syntax\n"
     ]
    }
   ],
   "source": [
    "# Illegal variale name \n",
    "\n",
    "2myvar = \"John\"\n",
    "my-var = \"John\"\n",
    "my var = \"John\""
   ]
  },
  {
   "cell_type": "markdown",
   "id": "0905409b",
   "metadata": {},
   "source": [
    "#### Multi Words Variable Names\n",
    "\n",
    "Variable names with more than one word can be difficult to read.\n",
    "\n",
    "There are several techniques you can use to make them more readable:\n",
    "\n",
    "#### Camel Case\n",
    "Each word, except the first, starts with a capital letter:"
   ]
  },
  {
   "cell_type": "code",
   "execution_count": 12,
   "id": "0437cda9",
   "metadata": {},
   "outputs": [],
   "source": [
    "myVariableName = \"John\""
   ]
  },
  {
   "cell_type": "markdown",
   "id": "65101081",
   "metadata": {},
   "source": [
    "#### Pascal Case\n",
    "Each word starts with a capital letter:"
   ]
  },
  {
   "cell_type": "code",
   "execution_count": 13,
   "id": "7e1a4c3c",
   "metadata": {},
   "outputs": [],
   "source": [
    "MyVariableName = \"John\""
   ]
  },
  {
   "cell_type": "markdown",
   "id": "d774051b",
   "metadata": {},
   "source": [
    "#### Snake Case\n",
    "Each word is separated by an underscore character:"
   ]
  },
  {
   "cell_type": "code",
   "execution_count": 14,
   "id": "68f2acda",
   "metadata": {},
   "outputs": [],
   "source": [
    "my_variable_name = \"John\""
   ]
  },
  {
   "cell_type": "markdown",
   "id": "8ee3665d",
   "metadata": {},
   "source": [
    "#### Many Values to Multiple Variables\n",
    "Python allows you to assign values to multiple variables in one line:"
   ]
  },
  {
   "cell_type": "code",
   "execution_count": 15,
   "id": "b4e0aa39",
   "metadata": {},
   "outputs": [
    {
     "name": "stdout",
     "output_type": "stream",
     "text": [
      "Orange\n",
      "Banana\n",
      "Cherry\n"
     ]
    }
   ],
   "source": [
    "x, y, z = \"Orange\", \"Banana\", \"Cherry\"\n",
    "\n",
    "print(x)\n",
    "print(y)\n",
    "print(z)"
   ]
  },
  {
   "cell_type": "markdown",
   "id": "29c105c6",
   "metadata": {},
   "source": [
    "**Note:** Make sure the number of variables matches the number of values, or else you will get an error."
   ]
  },
  {
   "cell_type": "markdown",
   "id": "d2380721",
   "metadata": {},
   "source": [
    "#### One Value to Multiple Variables\n",
    "And you can assign the same value to multiple variables in one line:"
   ]
  },
  {
   "cell_type": "code",
   "execution_count": 16,
   "id": "e8c5df8c",
   "metadata": {},
   "outputs": [
    {
     "name": "stdout",
     "output_type": "stream",
     "text": [
      "Orange\n",
      "Orange\n",
      "Orange\n"
     ]
    }
   ],
   "source": [
    "x = y = z = \"Orange\"\n",
    "\n",
    "print(x)\n",
    "print(y)\n",
    "print(z)"
   ]
  },
  {
   "cell_type": "markdown",
   "id": "f0f54c53",
   "metadata": {},
   "source": [
    "#### Unpack a Collection\n",
    "If you have a collection of values in a list, tuple etc. Python allows you to extract the values into variables. This is called unpacking."
   ]
  },
  {
   "cell_type": "code",
   "execution_count": 17,
   "id": "40331440",
   "metadata": {},
   "outputs": [
    {
     "name": "stdout",
     "output_type": "stream",
     "text": [
      "apple\n",
      "banana\n",
      "cherry\n"
     ]
    }
   ],
   "source": [
    "fruits = [\"apple\", \"banana\", \"cherry\"]\n",
    "\n",
    "x, y, z = fruits\n",
    "\n",
    "print(x)\n",
    "print(y)\n",
    "print(z)"
   ]
  },
  {
   "cell_type": "markdown",
   "id": "8873d445",
   "metadata": {},
   "source": [
    "#### Output Variables\n",
    "The Python print() function is often used to output variables."
   ]
  },
  {
   "cell_type": "code",
   "execution_count": 18,
   "id": "c07a2768",
   "metadata": {},
   "outputs": [
    {
     "name": "stdout",
     "output_type": "stream",
     "text": [
      "Python is awesome\n"
     ]
    }
   ],
   "source": [
    "x = \"Python is awesome\"\n",
    "\n",
    "print(x)"
   ]
  },
  {
   "cell_type": "markdown",
   "id": "1e674109",
   "metadata": {},
   "source": [
    "In the `print()` function, you output multiple variables, separated by a comma:"
   ]
  },
  {
   "cell_type": "code",
   "execution_count": 19,
   "id": "58dc98b9",
   "metadata": {},
   "outputs": [
    {
     "name": "stdout",
     "output_type": "stream",
     "text": [
      "awesome is awesome\n"
     ]
    }
   ],
   "source": [
    "x = \"Python\"\n",
    "y = \"is\"\n",
    "z = \"awesome\"\n",
    "print(z, y, z)\n"
   ]
  },
  {
   "cell_type": "markdown",
   "id": "0510e3f7",
   "metadata": {},
   "source": [
    "You can also use the` + `operator to output multiple variables:"
   ]
  },
  {
   "cell_type": "code",
   "execution_count": 20,
   "id": "827e3370",
   "metadata": {},
   "outputs": [
    {
     "name": "stdout",
     "output_type": "stream",
     "text": [
      "Pythonisawesome\n"
     ]
    }
   ],
   "source": [
    "x = \"Python\"\n",
    "y = \"is\"\n",
    "z = \"awesome\"\n",
    "print(x + y + z)\n"
   ]
  },
  {
   "cell_type": "code",
   "execution_count": 21,
   "id": "bd40a009",
   "metadata": {},
   "outputs": [
    {
     "name": "stdout",
     "output_type": "stream",
     "text": [
      "Python is awesome\n"
     ]
    }
   ],
   "source": [
    "x = \"Python \"\n",
    "y = \"is \"\n",
    "z = \"awesome\"\n",
    "print(x + y + z)\n"
   ]
  },
  {
   "cell_type": "markdown",
   "id": "6f2acf28",
   "metadata": {},
   "source": [
    "Notice the space character after `\"Python \" `and `\"is \"`, without them the result would be \"Pythonisawesome\"."
   ]
  },
  {
   "cell_type": "code",
   "execution_count": 22,
   "id": "4ab8a4f8",
   "metadata": {},
   "outputs": [
    {
     "name": "stdout",
     "output_type": "stream",
     "text": [
      "15\n"
     ]
    }
   ],
   "source": [
    "x = 5\n",
    "y = 10\n",
    "print(x + y)"
   ]
  },
  {
   "cell_type": "markdown",
   "id": "1e08b8f1",
   "metadata": {},
   "source": [
    "In the `print()` function, when you try to combine`a string` and `a number` with the` + `operator, Python will give you an error:"
   ]
  },
  {
   "cell_type": "code",
   "execution_count": 23,
   "id": "a38b9937",
   "metadata": {},
   "outputs": [
    {
     "ename": "TypeError",
     "evalue": "unsupported operand type(s) for +: 'int' and 'str'",
     "output_type": "error",
     "traceback": [
      "\u001b[1;31m---------------------------------------------------------------------------\u001b[0m",
      "\u001b[1;31mTypeError\u001b[0m                                 Traceback (most recent call last)",
      "\u001b[1;32m~\\AppData\\Local\\Temp/ipykernel_6052/3445003808.py\u001b[0m in \u001b[0;36m<module>\u001b[1;34m\u001b[0m\n\u001b[0;32m      2\u001b[0m \u001b[0my\u001b[0m \u001b[1;33m=\u001b[0m \u001b[1;34m\"John\"\u001b[0m\u001b[1;33m\u001b[0m\u001b[1;33m\u001b[0m\u001b[0m\n\u001b[0;32m      3\u001b[0m \u001b[1;33m\u001b[0m\u001b[0m\n\u001b[1;32m----> 4\u001b[1;33m \u001b[0mprint\u001b[0m\u001b[1;33m(\u001b[0m\u001b[0mx\u001b[0m\u001b[1;33m+\u001b[0m\u001b[0my\u001b[0m\u001b[1;33m)\u001b[0m\u001b[1;33m\u001b[0m\u001b[1;33m\u001b[0m\u001b[0m\n\u001b[0m",
      "\u001b[1;31mTypeError\u001b[0m: unsupported operand type(s) for +: 'int' and 'str'"
     ]
    }
   ],
   "source": [
    "x = 5\n",
    "y = \"John\"\n",
    "\n",
    "print(x+y)"
   ]
  },
  {
   "cell_type": "markdown",
   "id": "0d9fffa4",
   "metadata": {},
   "source": [
    "The best way to output multiple variables in the `print()` function is to separate them with commas, which even support different data types:"
   ]
  },
  {
   "cell_type": "code",
   "execution_count": 24,
   "id": "d52dfa2d",
   "metadata": {},
   "outputs": [
    {
     "name": "stdout",
     "output_type": "stream",
     "text": [
      "5 John\n"
     ]
    }
   ],
   "source": [
    "x = 5\n",
    "\n",
    "y = \"John\"\n",
    "\n",
    "print(x, y)"
   ]
  },
  {
   "cell_type": "markdown",
   "id": "a8422384",
   "metadata": {},
   "source": [
    "#### Global Variables\n",
    "Variables that are created outside of a function (as in all of the examples above) are known as global variables.\n",
    "\n",
    "Global variables can be used by everyone, both inside of functions and outside.\n",
    "\n",
    "#### Example\n",
    "Create a variable outside of a function, and use it inside the function"
   ]
  },
  {
   "cell_type": "code",
   "execution_count": 25,
   "id": "3f7cba9d",
   "metadata": {},
   "outputs": [
    {
     "name": "stdout",
     "output_type": "stream",
     "text": [
      "Python is awesome\n"
     ]
    }
   ],
   "source": [
    "x = \"awesome\"\n",
    "\n",
    "def myfunc():\n",
    "    print(\"Python is \" + x)\n",
    "    \n",
    "myfunc()"
   ]
  },
  {
   "cell_type": "markdown",
   "id": "5e2351ac",
   "metadata": {},
   "source": [
    "If you create a variable with the same name inside a function, this variable will be local, and can only be used inside the function. The global variable with the same name will remain as it was, global and with the original value.\n",
    "\n",
    "#### Example\n",
    "Create a variable inside a function, with the same name as the global variable"
   ]
  },
  {
   "cell_type": "code",
   "execution_count": 26,
   "id": "56c13823",
   "metadata": {},
   "outputs": [
    {
     "name": "stdout",
     "output_type": "stream",
     "text": [
      "Python is fantastic\n",
      "Python is awesome\n"
     ]
    }
   ],
   "source": [
    "x = \"awesome\"\n",
    "\n",
    "def myfunc():\n",
    "    x = \"fantastic\"\n",
    "    print(\"Python is \" + x)\n",
    "    \n",
    "myfunc()\n",
    "\n",
    "print(\"Python is\", x)"
   ]
  },
  {
   "cell_type": "markdown",
   "id": "1ee26f9e",
   "metadata": {},
   "source": [
    "As we can see that in side fuction it took local and out side fuction it took global value"
   ]
  },
  {
   "cell_type": "markdown",
   "id": "4550e5e0",
   "metadata": {},
   "source": [
    "#### The global Keyword\n",
    "Normally, when you create a variable inside a function, that variable is local, and can only be used inside that function.\n",
    "\n",
    "To create a global variable inside a function, you can use the global keyword.\n",
    "\n",
    "#### Example\n",
    "If you use the global keyword, the variable belongs to the global scope"
   ]
  },
  {
   "cell_type": "code",
   "execution_count": 27,
   "id": "2ef944a9",
   "metadata": {},
   "outputs": [
    {
     "name": "stdout",
     "output_type": "stream",
     "text": [
      "fantastic\n",
      "Python is fantastic\n"
     ]
    }
   ],
   "source": [
    "def myfunc():\n",
    "    global x\n",
    "    x = \"fantastic\"\n",
    "    print(x)\n",
    "myfunc()\n",
    "\n",
    "print(\"Python is \" + x)"
   ]
  },
  {
   "cell_type": "markdown",
   "id": "d0389e23",
   "metadata": {},
   "source": [
    "as we can see that this time x assigned as global value by 'global' keyword and now this this can be access gloablly\n"
   ]
  },
  {
   "cell_type": "code",
   "execution_count": 29,
   "id": "d1b6a124",
   "metadata": {},
   "outputs": [
    {
     "name": "stdout",
     "output_type": "stream",
     "text": [
      "fantastic\n",
      "Out side x is : fantastic\n"
     ]
    }
   ],
   "source": [
    "# let's take an another example \n",
    "\n",
    "x = \" \"\n",
    "\n",
    "def  myfunc():\n",
    "    global x\n",
    "    x = \"fantastic\"\n",
    "    print(x)\n",
    "    \n",
    "myfunc()\n",
    "\n",
    "print(\"Out side x is : \" + x)"
   ]
  },
  {
   "cell_type": "markdown",
   "id": "97c3e3fa",
   "metadata": {},
   "source": [
    "Also, use the global keyword if you want to change a global variable inside a function.\n",
    "\n",
    "#### Example\n",
    "To change the value of a global variable inside a function, refer to the variable by using the global keyword:"
   ]
  },
  {
   "cell_type": "code",
   "execution_count": 31,
   "id": "006f7b05",
   "metadata": {},
   "outputs": [
    {
     "name": "stdout",
     "output_type": "stream",
     "text": [
      "Python is Awesome\n"
     ]
    }
   ],
   "source": [
    "x = \"Fantastic\"\n",
    "\n",
    "def myfunc():\n",
    "    global x\n",
    "    x = \"Awesome\"\n",
    "    \n",
    "myfunc()\n",
    "\n",
    "print(\"Python is \" + x)"
   ]
  },
  {
   "cell_type": "markdown",
   "id": "0125afa4",
   "metadata": {},
   "source": [
    "see how we have change the value of x inside funtion"
   ]
  },
  {
   "cell_type": "code",
   "execution_count": null,
   "id": "9876da5c",
   "metadata": {},
   "outputs": [],
   "source": []
  }
 ],
 "metadata": {
  "kernelspec": {
   "display_name": "Python 3 (ipykernel)",
   "language": "python",
   "name": "python3"
  },
  "language_info": {
   "codemirror_mode": {
    "name": "ipython",
    "version": 3
   },
   "file_extension": ".py",
   "mimetype": "text/x-python",
   "name": "python",
   "nbconvert_exporter": "python",
   "pygments_lexer": "ipython3",
   "version": "3.7.8"
  }
 },
 "nbformat": 4,
 "nbformat_minor": 5
}

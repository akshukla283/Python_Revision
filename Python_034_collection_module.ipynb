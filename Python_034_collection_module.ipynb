{
 "cells": [
  {
   "cell_type": "markdown",
   "id": "ebdca596",
   "metadata": {},
   "source": [
    "### Python Collections Module\n",
    "\n",
    "`The collection Module in Python provides different types of containers. A Container is an object that is used to store different objects and provide a way to access the contained objects and iterate over them. Some of the built-in containers are Tuple, List, Dictionary, etc. In this article, we will discuss the different containers provided by the collections module.`\n",
    "\n",
    "\n",
    "#### Table of Content:\n",
    "\n",
    "* Counters\n",
    "\n",
    "* OrderedDict\n",
    "\n",
    "* DefaultDict\n",
    "\n",
    "* ChainMap\n",
    "\n",
    "* NamedTuple\n",
    "\n",
    "* DeQue\n",
    "\n",
    "* UserDict\n",
    "\n",
    "* UserList\n",
    "\n",
    "* UserString\n",
    "\n",
    "\n",
    "\n",
    "### 1. Counters\n",
    "\n",
    "`A counter is a sub-class of the dictionary. It is used to keep the count of the elements in an iterable in the form of an unordered dictionary where the key represents the element in the iterable and value represents the count of that element in the iterable.`\n",
    "\n",
    "#### Note:\n",
    "It is equivalent to bag or multiset of other languages.\n",
    "\n",
    "`Syntax:\n",
    "class collections.Counter([iterable-or-mapping])`\n",
    "\n",
    "\n",
    "#### Initializing Counter Objects\n",
    "\n",
    "`The counter object can be initialized using the counter() function and this function can be called in one of the following ways:\n",
    "`\n",
    "* With a sequence of items.\n",
    "* With a dictionary containing keys and counts.\n",
    "\n",
    "* With keyword arguments mapping string names to counts."
   ]
  },
  {
   "cell_type": "code",
   "execution_count": 2,
   "id": "46e40bdc",
   "metadata": {},
   "outputs": [
    {
     "name": "stdout",
     "output_type": "stream",
     "text": [
      "Counter({'B': 5, 'A': 3, 'C': 2})\n"
     ]
    }
   ],
   "source": [
    "from collections import Counter\n",
    "\n",
    "# with sequence of the item \n",
    "print(Counter(['B','B','A','B','C','A','B','B','A','C']))\n"
   ]
  },
  {
   "cell_type": "code",
   "execution_count": 3,
   "id": "28bb282e",
   "metadata": {},
   "outputs": [
    {
     "name": "stdout",
     "output_type": "stream",
     "text": [
      "Counter({'B': 5, 'A': 3, 'C': 2})\n"
     ]
    }
   ],
   "source": [
    "# with dictionary\n",
    "\n",
    "print(Counter({'A':3, 'B': 5, 'C': 2}))\n"
   ]
  },
  {
   "cell_type": "code",
   "execution_count": 4,
   "id": "e1ffe1e4",
   "metadata": {},
   "outputs": [
    {
     "name": "stdout",
     "output_type": "stream",
     "text": [
      "Counter({'B': 5, 'A': 3, 'C': 2})\n"
     ]
    }
   ],
   "source": [
    "# with keyword argments\n",
    "\n",
    "print(Counter(A = 3, B = 5, C = 2))"
   ]
  },
  {
   "cell_type": "code",
   "execution_count": 5,
   "id": "55561b8f",
   "metadata": {},
   "outputs": [],
   "source": [
    "c = Counter(A = 3, B = 5, C = 2)"
   ]
  },
  {
   "cell_type": "code",
   "execution_count": 7,
   "id": "11e2100c",
   "metadata": {},
   "outputs": [
    {
     "data": {
      "text/plain": [
       "['A', 'A', 'A', 'B', 'B', 'B', 'B', 'B', 'C', 'C']"
      ]
     },
     "execution_count": 7,
     "metadata": {},
     "output_type": "execute_result"
    }
   ],
   "source": [
    "list(c.elements())"
   ]
  },
  {
   "cell_type": "code",
   "execution_count": 8,
   "id": "bec2afe8",
   "metadata": {},
   "outputs": [
    {
     "data": {
      "text/plain": [
       "{'A', 'B', 'C'}"
      ]
     },
     "execution_count": 8,
     "metadata": {},
     "output_type": "execute_result"
    }
   ],
   "source": [
    "set(c.elements())"
   ]
  },
  {
   "cell_type": "code",
   "execution_count": 9,
   "id": "18ebedfc",
   "metadata": {},
   "outputs": [
    {
     "data": {
      "text/plain": [
       "{'A': 3, 'B': 5, 'C': 2}"
      ]
     },
     "execution_count": 9,
     "metadata": {},
     "output_type": "execute_result"
    }
   ],
   "source": [
    "dict(c)"
   ]
  },
  {
   "cell_type": "code",
   "execution_count": 13,
   "id": "fcdcb573",
   "metadata": {},
   "outputs": [
    {
     "data": {
      "text/plain": [
       "[('B', 5), ('A', 3)]"
      ]
     },
     "execution_count": 13,
     "metadata": {},
     "output_type": "execute_result"
    }
   ],
   "source": [
    "c.most_common(2)"
   ]
  },
  {
   "cell_type": "code",
   "execution_count": 14,
   "id": "81e6bf51",
   "metadata": {},
   "outputs": [
    {
     "data": {
      "text/plain": [
       "dict_values([3, 5, 2])"
      ]
     },
     "execution_count": 14,
     "metadata": {},
     "output_type": "execute_result"
    }
   ],
   "source": [
    "c.values()"
   ]
  },
  {
   "cell_type": "code",
   "execution_count": 17,
   "id": "8144bb5e",
   "metadata": {},
   "outputs": [
    {
     "data": {
      "text/plain": [
       "3"
      ]
     },
     "execution_count": 17,
     "metadata": {},
     "output_type": "execute_result"
    }
   ],
   "source": [
    "c.get(\"A\")"
   ]
  },
  {
   "cell_type": "code",
   "execution_count": 18,
   "id": "8500b3c9",
   "metadata": {},
   "outputs": [
    {
     "data": {
      "text/plain": [
       "3"
      ]
     },
     "execution_count": 18,
     "metadata": {},
     "output_type": "execute_result"
    }
   ],
   "source": [
    "c.pop(\"A\")"
   ]
  },
  {
   "cell_type": "code",
   "execution_count": 19,
   "id": "899a23d4",
   "metadata": {},
   "outputs": [
    {
     "data": {
      "text/plain": [
       "Counter({'B': 5, 'C': 2})"
      ]
     },
     "execution_count": 19,
     "metadata": {},
     "output_type": "execute_result"
    }
   ],
   "source": [
    "c"
   ]
  },
  {
   "cell_type": "markdown",
   "id": "8d4d8311",
   "metadata": {},
   "source": [
    "### 2. OrderedDict\n",
    "\n",
    "`An OrderedDict is also a sub-class of dictionary but unlike dictionary, it remembers the order in which the keys were inserted. `\n",
    "\n",
    "`Syntax: class collections.OrderDict()`"
   ]
  },
  {
   "cell_type": "code",
   "execution_count": 21,
   "id": "a6e77e7a",
   "metadata": {},
   "outputs": [
    {
     "name": "stdout",
     "output_type": "stream",
     "text": [
      "This is a Dict: \n",
      "\n",
      "a 1\n",
      "b 2\n",
      "c 3\n",
      "d 4\n",
      "\n",
      "This is an Ordered Dict: \n",
      "\n",
      "a 1\n",
      "b 2\n",
      "c 3\n",
      "d 4\n"
     ]
    }
   ],
   "source": [
    "from collections import OrderedDict\n",
    "\n",
    "\n",
    "print(\"This is a Dict: \\n\")\n",
    "d = {}\n",
    "d['a'] = 1\n",
    "d['b'] = 2\n",
    "d['c'] = 3\n",
    "d['d'] = 4\n",
    "\n",
    "for key, value in d.items():\n",
    "    print(key, value)\n",
    "    \n",
    "    \n",
    "print(\"\\nThis is an Ordered Dict: \\n\")\n",
    "od = OrderedDict()\n",
    "od['a'] = 1\n",
    "od['b'] = 2\n",
    "od['c'] = 3\n",
    "od['d'] = 4\n",
    "\n",
    "for key, value in od.items():\n",
    "    print(key, value)"
   ]
  },
  {
   "cell_type": "code",
   "execution_count": 26,
   "id": "7ace2cc3",
   "metadata": {},
   "outputs": [
    {
     "name": "stdout",
     "output_type": "stream",
     "text": [
      "Before Deleting\n",
      "a 1\n",
      "b 2\n",
      "c 3\n",
      "d 4\n",
      "\n",
      "After re-inserting\n",
      "a 1\n",
      "b 2\n",
      "c 3\n",
      "d 1\n"
     ]
    }
   ],
   "source": [
    "from collections import OrderedDict \n",
    "  \n",
    "od = OrderedDict() \n",
    "od['a'] = 1\n",
    "od['b'] = 2\n",
    "od['c'] = 3\n",
    "od['d'] = 4\n",
    "    \n",
    "print('Before Deleting')\n",
    "for key, value in od.items(): \n",
    "    print(key, value) \n",
    "      \n",
    "# deleting element\n",
    "od.pop('d')\n",
    "  \n",
    "# Re-inserting the same\n",
    "od['d'] = 1\n",
    "  \n",
    "print('\\nAfter re-inserting')\n",
    "for key, value in od.items(): \n",
    "    print(key, value)"
   ]
  },
  {
   "cell_type": "code",
   "execution_count": 28,
   "id": "75f2341a",
   "metadata": {},
   "outputs": [
    {
     "name": "stdout",
     "output_type": "stream",
     "text": [
      "Before deleting : \n",
      "a 1\n",
      "b 2\n",
      "c 3\n",
      "d 4\n",
      "\n",
      "After re-inserting : \n",
      "a 1\n",
      "b 2\n",
      "c 3\n",
      "d 1\n"
     ]
    }
   ],
   "source": [
    "# in nortmal dict\n",
    "\n",
    "d = {}\n",
    "d['a'] = 1\n",
    "d['b'] = 2\n",
    "d['c'] = 3\n",
    "d['d'] = 4\n",
    "    \n",
    "print(\"Before deleting : \")\n",
    "for key , value in d.items():\n",
    "    print(key, value)\n",
    "    \n",
    "# deleting element\n",
    "d.pop(\"d\")\n",
    "\n",
    "# reinserting element\n",
    "d['d'] = 1\n",
    "print(\"\\nAfter re-inserting : \")\n",
    "for key, value in d.items():\n",
    "    print(key, value)\n",
    "    "
   ]
  },
  {
   "cell_type": "markdown",
   "id": "48b3a3c8",
   "metadata": {},
   "source": [
    "### 3. DefaultDict\n",
    "\n",
    "`A DefaultDict is also a sub-class to dictionary. It is used to provide some default values for the key that does not exist and never raises a KeyError.`\n",
    "\n",
    "`Syntax:class  collections.defaultdict(default_factory)`\n",
    "\n",
    "default_factory is a function that provides the default value for the dictionary created. If this parameter is absent then the KeyError is raised.\n",
    "\n",
    "### Initializing DefaultDict Objects\n",
    "DefaultDict objects can be initialized using DefaultDict() method by passing the data type as an argument"
   ]
  },
  {
   "cell_type": "code",
   "execution_count": 28,
   "id": "1d501022",
   "metadata": {},
   "outputs": [
    {
     "name": "stdout",
     "output_type": "stream",
     "text": [
      "defaultdict(<class 'int'>, {1: 2, 2: 3, 3: 1, 4: 2})\n"
     ]
    }
   ],
   "source": [
    "from collections import defaultdict\n",
    "\n",
    "# defining the dict \n",
    "\n",
    "d = defaultdict(int)\n",
    "\n",
    "L = [1,2,3,4,2,4,1,2]\n",
    "\n",
    "# Iterate through the list\n",
    "# for keeping the count\n",
    "\n",
    "for i in L:\n",
    "    d[i] += 1\n",
    "    \n",
    "print(d)"
   ]
  },
  {
   "cell_type": "code",
   "execution_count": 29,
   "id": "41a181ed",
   "metadata": {},
   "outputs": [
    {
     "name": "stdout",
     "output_type": "stream",
     "text": [
      "Dictionary with values as List:\n",
      "defaultdict(<class 'list'>, {0: [0], 1: [1], 2: [2], 3: [3], 4: [4]})\n"
     ]
    }
   ],
   "source": [
    "from collections import defaultdict\n",
    "\n",
    "# Defining a dict\n",
    "\n",
    "d = defaultdict(list)\n",
    "\n",
    "for i in range(5):\n",
    "    d[i].append(i)\n",
    "    \n",
    "print(\"Dictionary with values as List:\")\n",
    "print(d)\n",
    "    \n",
    "    "
   ]
  },
  {
   "cell_type": "code",
   "execution_count": 32,
   "id": "800629c1",
   "metadata": {},
   "outputs": [
    {
     "name": "stdout",
     "output_type": "stream",
     "text": [
      "Dictionary:\n",
      "{1: 'Geeks', 2: 'For', 3: 'Geeks'}\n",
      "Geeks\n"
     ]
    }
   ],
   "source": [
    "Dict = {1: 'Geeks', 2: 'For', 3: 'Geeks'} \n",
    "print(\"Dictionary:\") \n",
    "print(Dict)\n",
    "print(Dict[1])\n",
    "  "
   ]
  },
  {
   "cell_type": "code",
   "execution_count": 33,
   "id": "766fc6b3",
   "metadata": {},
   "outputs": [
    {
     "ename": "KeyError",
     "evalue": "4",
     "output_type": "error",
     "traceback": [
      "\u001b[1;31m---------------------------------------------------------------------------\u001b[0m",
      "\u001b[1;31mKeyError\u001b[0m                                  Traceback (most recent call last)",
      "Input \u001b[1;32mIn [33]\u001b[0m, in \u001b[0;36m<cell line: 1>\u001b[1;34m()\u001b[0m\n\u001b[1;32m----> 1\u001b[0m \u001b[43mDict\u001b[49m\u001b[43m[\u001b[49m\u001b[38;5;241;43m4\u001b[39;49m\u001b[43m]\u001b[49m\n",
      "\u001b[1;31mKeyError\u001b[0m: 4"
     ]
    }
   ],
   "source": [
    "Dict[4]\n",
    "\n",
    "# Uncommenting this print(Dict[4])\n",
    "# will raise a KeyError as the\n",
    "# 4 is not present in the dictionary"
   ]
  },
  {
   "cell_type": "code",
   "execution_count": 34,
   "id": "0c27cdc8",
   "metadata": {},
   "outputs": [
    {
     "name": "stdout",
     "output_type": "stream",
     "text": [
      "1\n",
      "2\n",
      "Not Present\n"
     ]
    }
   ],
   "source": [
    "from collections import defaultdict\n",
    "  \n",
    "\n",
    "# Function to return a default\n",
    "# values for keys that is not\n",
    "# present\n",
    "def def_value():\n",
    "    return \"Not Present\"\n",
    "      \n",
    "# Defining the dict\n",
    "d = defaultdict(def_value)\n",
    "d[\"a\"] = 1\n",
    "d[\"b\"] = 2\n",
    "  \n",
    "print(d[\"a\"])\n",
    "print(d[\"b\"])\n",
    "print(d[\"c\"])"
   ]
  },
  {
   "cell_type": "code",
   "execution_count": 35,
   "id": "7b58c736",
   "metadata": {},
   "outputs": [
    {
     "name": "stdout",
     "output_type": "stream",
     "text": [
      "1\n",
      "2\n",
      "Not Present\n"
     ]
    }
   ],
   "source": [
    "# Python program to demonstrate\n",
    "# default_factory argument of \n",
    "# defaultdict\n",
    "  \n",
    "\n",
    "from collections import defaultdict\n",
    "  \n",
    "      \n",
    "# Defining the dict and passing \n",
    "# lambda as default_factory argument\n",
    "d = defaultdict(lambda: \"Not Present\")\n",
    "d[\"a\"] = 1\n",
    "d[\"b\"] = 2\n",
    "  \n",
    "print(d[\"a\"])\n",
    "print(d[\"b\"])\n",
    "print(d[\"c\"])"
   ]
  },
  {
   "cell_type": "code",
   "execution_count": 36,
   "id": "4e1e073d",
   "metadata": {},
   "outputs": [
    {
     "name": "stdout",
     "output_type": "stream",
     "text": [
      "Not Present\n",
      "Not Present\n"
     ]
    }
   ],
   "source": [
    "# Python program to demonstrate\n",
    "# defaultdict\n",
    "  \n",
    "from collections import defaultdict\n",
    "  \n",
    "      \n",
    "# Defining the dict\n",
    "d = defaultdict(lambda: \"Not Present\")\n",
    "d[\"a\"] = 1\n",
    "d[\"b\"] = 2\n",
    "  \n",
    "# Provides the default value \n",
    "# for the key\n",
    "print(d.__missing__('a'))\n",
    "print(d.__missing__('d'))"
   ]
  },
  {
   "cell_type": "code",
   "execution_count": 37,
   "id": "5c6aa029",
   "metadata": {},
   "outputs": [
    {
     "name": "stdout",
     "output_type": "stream",
     "text": [
      "Dictionary with values as list:\n",
      "defaultdict(<class 'list'>, {0: [0], 1: [1], 2: [2], 3: [3], 4: [4]})\n"
     ]
    }
   ],
   "source": [
    "# Python program to demonstrate\n",
    "# defaultdict\n",
    "  \n",
    "\n",
    "from collections import defaultdict\n",
    "  \n",
    "\n",
    "# Defining a dict\n",
    "d = defaultdict(list)\n",
    "  \n",
    "for i in range(5):\n",
    "    d[i].append(i)\n",
    "      \n",
    "print(\"Dictionary with values as list:\")\n",
    "print(d)"
   ]
  },
  {
   "cell_type": "markdown",
   "id": "8e7198c9",
   "metadata": {},
   "source": [
    "### 4. ChainMap\n",
    "\n",
    "`A ChainMap encapsulates many dictionaries into a single unit and returns a list of dictionaries.`\n",
    "\n",
    "`Syntax:\n",
    "class collections.ChainMap(dict1, dict2)`"
   ]
  },
  {
   "cell_type": "code",
   "execution_count": 38,
   "id": "f0c432ed",
   "metadata": {},
   "outputs": [
    {
     "name": "stdout",
     "output_type": "stream",
     "text": [
      "ChainMap({'a': 1, 'b': 2}, {'c': 3, 'd': 4}, {'e': 5, 'f': 6})\n"
     ]
    }
   ],
   "source": [
    "from collections import ChainMap \n",
    "     \n",
    "     \n",
    "d1 = {'a': 1, 'b': 2}\n",
    "d2 = {'c': 3, 'd': 4}\n",
    "d3 = {'e': 5, 'f': 6}\n",
    "  \n",
    "# Defining the chainmap \n",
    "c = ChainMap(d1, d2, d3) \n",
    "     \n",
    "print(c)"
   ]
  },
  {
   "cell_type": "code",
   "execution_count": 39,
   "id": "2d8af042",
   "metadata": {},
   "outputs": [
    {
     "data": {
      "text/plain": [
       "{'e': 5, 'f': 6, 'c': 3, 'd': 4, 'a': 1, 'b': 2}"
      ]
     },
     "execution_count": 39,
     "metadata": {},
     "output_type": "execute_result"
    }
   ],
   "source": [
    "dict(c)"
   ]
  },
  {
   "cell_type": "markdown",
   "id": "4cbe8bef",
   "metadata": {},
   "source": [
    "### Accessing Keys and Values from ChainMap\n",
    "\n",
    "`Values from ChainMap can be accessed using the key name. They can also be accessed by using the keys() and values() method.`"
   ]
  },
  {
   "cell_type": "code",
   "execution_count": 42,
   "id": "f920af8d",
   "metadata": {},
   "outputs": [
    {
     "name": "stdout",
     "output_type": "stream",
     "text": [
      "Accessing value using key : \n",
      "1\n",
      "\n",
      "Accessing value using value : \n",
      "ValuesView(ChainMap({'a': 1, 'b': 2}, {'c': 3, 'd': 4}, {'e': 5, 'f': 6}))\n",
      "\n",
      "Accessing keys using keys: \n",
      "KeysView(ChainMap({'a': 1, 'b': 2}, {'c': 3, 'd': 4}, {'e': 5, 'f': 6}))\n"
     ]
    }
   ],
   "source": [
    "from collections import ChainMap \n",
    "     \n",
    "     \n",
    "d1 = {'a': 1, 'b': 2}\n",
    "d2 = {'c': 3, 'd': 4}\n",
    "d3 = {'e': 5, 'f': 6}\n",
    "  \n",
    "# Defining the chainmap \n",
    "c = ChainMap(d1, d2, d3) \n",
    "     \n",
    "# Accessing Values using key name\n",
    "print(\"Accessing value using key : \")\n",
    "print(c['a'])\n",
    "  \n",
    "# Accessing values using values()\n",
    "# method\n",
    "print(\"\\nAccessing value using value : \")\n",
    "print(c.values())\n",
    "  \n",
    "# Accessing keys using keys()\n",
    "print(\"\\nAccessing keys using keys: \")\n",
    "# method\n",
    "print(c.keys())"
   ]
  },
  {
   "cell_type": "markdown",
   "id": "f76317d8",
   "metadata": {},
   "source": [
    "#### Adding new dictionary\n",
    "A new dictionary can be added by using the new_child() method. The newly added dictionary is added at the beginning of the ChainMap."
   ]
  },
  {
   "cell_type": "code",
   "execution_count": 43,
   "id": "763a8052",
   "metadata": {},
   "outputs": [
    {
     "name": "stdout",
     "output_type": "stream",
     "text": [
      "All the ChainMap contents are : \n",
      "ChainMap({'a': 1, 'b': 2}, {'b': 3, 'c': 4})\n",
      "Displaying new ChainMap : \n",
      "ChainMap({'f': 5}, {'a': 1, 'b': 2}, {'b': 3, 'c': 4})\n"
     ]
    }
   ],
   "source": [
    "import collections \n",
    "    \n",
    "# initializing dictionaries \n",
    "dic1 = { 'a' : 1, 'b' : 2 } \n",
    "dic2 = { 'b' : 3, 'c' : 4 } \n",
    "dic3 = { 'f' : 5 } \n",
    "    \n",
    "# initializing ChainMap \n",
    "chain = collections.ChainMap(dic1, dic2) \n",
    "    \n",
    "# printing chainMap \n",
    "print (\"All the ChainMap contents are : \") \n",
    "print (chain) \n",
    "    \n",
    "# using new_child() to add new dictionary \n",
    "chain1 = chain.new_child(dic3) \n",
    "    \n",
    "# printing chainMap\n",
    "print (\"Displaying new ChainMap : \") \n",
    "print (chain1)"
   ]
  },
  {
   "cell_type": "markdown",
   "id": "0627415b",
   "metadata": {},
   "source": [
    "#### NamedTuple\n",
    "\n",
    "`A NamedTuple returns a tuple object with names for each position which the ordinary tuples lack. For example, consider a tuple names student where the first element represents fname, second represents lname and the third element represents the DOB. Suppose for calling fname instead of remembering the index position you can actually call the element by using the fname argument, then it will be really easy for accessing tuples element. This functionality is provided by the NamedTuple.`\n",
    "\n",
    "`Syntax:\n",
    "class collections.namedtuple(typename, field_names)`"
   ]
  },
  {
   "cell_type": "code",
   "execution_count": 29,
   "id": "b40e89a5",
   "metadata": {},
   "outputs": [
    {
     "name": "stdout",
     "output_type": "stream",
     "text": [
      "The Student age using index is : 19\n",
      "Nandini\n",
      "The Student name using keyname is : Nandini\n"
     ]
    }
   ],
   "source": [
    "# Python code to demonstrate namedtuple()\n",
    "    \n",
    "from collections import namedtuple\n",
    "    \n",
    "# Declaring namedtuple() \n",
    "Student = namedtuple('Student',['name','age','DOB']) \n",
    "    \n",
    "# Adding values \n",
    "S = Student('Nandini','19','2541997') \n",
    "    \n",
    "# Access using index \n",
    "print (\"The Student age using index is : \",end =\"\") \n",
    "print (S[1]) \n",
    "print(S[0])\n",
    "    \n",
    "# Access using name  \n",
    "print (\"The Student name using keyname is : \",end =\"\") \n",
    "print (S.name)"
   ]
  },
  {
   "cell_type": "markdown",
   "id": "d1688519",
   "metadata": {},
   "source": [
    "#### Conversion Operations \n",
    "1. `_make():` This function is used to return a namedtuple() from the iterable passed as argument.\n",
    "\n",
    "2. `_asdict():` This function returns the OrdereDict() as constructed from the mapped values of namedtuple().\n",
    "\n",
    "Example:"
   ]
  },
  {
   "cell_type": "code",
   "execution_count": 46,
   "id": "b7ba4e0e",
   "metadata": {},
   "outputs": [
    {
     "name": "stdout",
     "output_type": "stream",
     "text": [
      "The namedtuple instance using iterable is  : \n",
      "Student(name='Manjeet', age='19', DOB='411997')\n",
      "\n",
      "The OrderedDict instance using namedtuple is  : \n",
      "{'name': 'Nandini', 'age': '19', 'DOB': '2541997'}\n"
     ]
    }
   ],
   "source": [
    "# Python code to demonstrate namedtuple() and \n",
    "# _make(), _asdict()\n",
    "    \n",
    "\n",
    "from collections import namedtuple\n",
    "    \n",
    "# Declaring namedtuple() \n",
    "Student = namedtuple('Student',['name','age','DOB']) \n",
    "    \n",
    "# Adding values \n",
    "S = Student('Nandini','19','2541997') \n",
    "    \n",
    "# initializing iterable  \n",
    "li = ['Manjeet', '19', '411997' ] \n",
    "    \n",
    "# initializing dict \n",
    "di = { 'name' : \"Nikhil\", 'age' : 19 , 'DOB' : '1391997' } \n",
    "    \n",
    "# using _make() to return namedtuple() \n",
    "print (\"The namedtuple instance using iterable is  : \") \n",
    "print (Student._make(li)) \n",
    "print()\n",
    "# using _asdict() to return an OrderedDict() \n",
    "print (\"The OrderedDict instance using namedtuple is  : \") \n",
    "print (S._asdict())"
   ]
  },
  {
   "cell_type": "markdown",
   "id": "e7f36420",
   "metadata": {},
   "source": [
    "#### Deque\n",
    "`Deque (Doubly Ended Queue) is the optimized list for quicker append and pop operations from both sides of the container. It provides O(1) time complexity for append and pop operations as compared to list with O(n) time complexity.`\n",
    "\n",
    "`Syntax:  class collections.deque(list)`"
   ]
  },
  {
   "cell_type": "code",
   "execution_count": 1,
   "id": "ffb76616",
   "metadata": {},
   "outputs": [
    {
     "name": "stdout",
     "output_type": "stream",
     "text": [
      "deque(['name', 'age', 'DOB'])\n"
     ]
    }
   ],
   "source": [
    "from collections import deque\n",
    "\n",
    "# Declaring deque\n",
    "\n",
    "queue = deque(['name', 'age', \"DOB\"])\n",
    "\n",
    "print(queue)"
   ]
  },
  {
   "cell_type": "markdown",
   "id": "36d34256",
   "metadata": {},
   "source": [
    "#### Inserting Elements\n",
    "\n",
    "`Elements in deque can be inserted from both ends. To insert the elements from right append() method is used and to insert the elements from the left appendleft() method is used.`\n"
   ]
  },
  {
   "cell_type": "code",
   "execution_count": 3,
   "id": "7b3d7fc9",
   "metadata": {},
   "outputs": [
    {
     "name": "stdout",
     "output_type": "stream",
     "text": [
      "The deque after appending at right is : \n",
      "deque([1, 2, 3, 4, 4])\n"
     ]
    }
   ],
   "source": [
    "from collections import deque\n",
    "\n",
    "# initializing deque\n",
    "de = deque([1,2,3,4])\n",
    "# using append() to insert element at right end\n",
    "\n",
    "# printing modified deque\n",
    "de.append(4)\n",
    "\n",
    "# printing modified deque\n",
    "print(\"The deque after appending at right is : \")\n",
    "print(de)"
   ]
  },
  {
   "cell_type": "markdown",
   "id": "15909e31",
   "metadata": {},
   "source": [
    "#### Removing Elements\n",
    "\n",
    "`Elements can also be removed from the deque from both the ends. To remove elements from right use pop() method and to remove elements from the left use popleft() method.`"
   ]
  },
  {
   "cell_type": "code",
   "execution_count": null,
   "id": "59ee4c48",
   "metadata": {},
   "outputs": [],
   "source": [
    "\n",
    "# Python code to demonstrate working of  \n",
    "# pop(), and popleft() \n",
    "  \n",
    "from collections import deque\n",
    "  \n",
    "# initializing deque \n",
    "de = deque([6, 1, 2, 3, 4])\n",
    "  \n",
    "# using pop() to delete element from right end  \n",
    "# deletes 4 from the right end of deque \n",
    "de.pop() \n",
    "    \n",
    "# printing modified deque \n",
    "print (\"The deque after deleting from right is : \") \n",
    "print (de) \n",
    "    \n",
    "# using popleft() to delete element from left end  \n",
    "# deletes 6 from the left end of deque \n",
    "de.popleft() \n",
    "    \n",
    "# printing modified deque \n",
    "print (\"The deque after deleting from left is : \") \n",
    "print (de)"
   ]
  },
  {
   "cell_type": "markdown",
   "id": "5b87e8fb",
   "metadata": {},
   "source": [
    "### QUserDict\n",
    "`UserDict is a dictionary-like container that acts as a wrapper around the dictionary objects. This container is used when someone wants to create their own dictionary with some modified or new functionality. `\n",
    "\n",
    "`Syntax:\n",
    "class collections.UserDict([initialdata])`"
   ]
  },
  {
   "cell_type": "markdown",
   "id": "4b73c714",
   "metadata": {},
   "source": [
    "#### Runtime errors\n",
    "\n",
    "If a program is free of syntax errors, it will be run by the Python interpreter. However, the program may exit if it encounters a runtime error – a problem that went undetected when the program was parsed, but is only revealed when the code is executed."
   ]
  },
  {
   "cell_type": "code",
   "execution_count": 10,
   "id": "cc66fb80",
   "metadata": {},
   "outputs": [
    {
     "ename": "RuntimeError",
     "evalue": "Deletion not aallowed",
     "output_type": "error",
     "traceback": [
      "\u001b[1;31m---------------------------------------------------------------------------\u001b[0m",
      "\u001b[1;31mRuntimeError\u001b[0m                              Traceback (most recent call last)",
      "Input \u001b[1;32mIn [10]\u001b[0m, in \u001b[0;36m<cell line: 23>\u001b[1;34m()\u001b[0m\n\u001b[0;32m     19\u001b[0m         \u001b[38;5;28;01mraise\u001b[39;00m \u001b[38;5;167;01mRuntimeError\u001b[39;00m(\u001b[38;5;124m\"\u001b[39m\u001b[38;5;124mDeletion not aallowed\u001b[39m\u001b[38;5;124m\"\u001b[39m)\n\u001b[0;32m     21\u001b[0m d \u001b[38;5;241m=\u001b[39m MyDict({\u001b[38;5;124m'\u001b[39m\u001b[38;5;124ma\u001b[39m\u001b[38;5;124m'\u001b[39m:\u001b[38;5;241m1\u001b[39m, \u001b[38;5;124m'\u001b[39m\u001b[38;5;124mb\u001b[39m\u001b[38;5;124m'\u001b[39m:\u001b[38;5;241m2\u001b[39m, \u001b[38;5;124m'\u001b[39m\u001b[38;5;124mc\u001b[39m\u001b[38;5;124m'\u001b[39m:\u001b[38;5;241m3\u001b[39m})\n\u001b[1;32m---> 23\u001b[0m \u001b[43md\u001b[49m\u001b[38;5;241;43m.\u001b[39;49m\u001b[43mpop\u001b[49m\u001b[43m(\u001b[49m\u001b[38;5;124;43m'\u001b[39;49m\u001b[38;5;124;43ma\u001b[39;49m\u001b[38;5;124;43m'\u001b[39;49m\u001b[43m)\u001b[49m\n",
      "Input \u001b[1;32mIn [10]\u001b[0m, in \u001b[0;36mMyDict.pop\u001b[1;34m(self, s)\u001b[0m\n\u001b[0;32m     18\u001b[0m \u001b[38;5;28;01mdef\u001b[39;00m \u001b[38;5;21mpop\u001b[39m(\u001b[38;5;28mself\u001b[39m, s \u001b[38;5;241m=\u001b[39m \u001b[38;5;28;01mNone\u001b[39;00m):\n\u001b[1;32m---> 19\u001b[0m     \u001b[38;5;28;01mraise\u001b[39;00m \u001b[38;5;167;01mRuntimeError\u001b[39;00m(\u001b[38;5;124m\"\u001b[39m\u001b[38;5;124mDeletion not aallowed\u001b[39m\u001b[38;5;124m\"\u001b[39m)\n",
      "\u001b[1;31mRuntimeError\u001b[0m: Deletion not aallowed"
     ]
    }
   ],
   "source": [
    "from collections import UserDict\n",
    "\n",
    "# creating a Dictionary where deletion is \n",
    "# not allowed\n",
    "\n",
    "class MyDict(UserDict):\n",
    "    \n",
    "    # funciton to stop deletion from dictionary\n",
    "    def __del__(self):\n",
    "        raise RuntimeError(\"Deletion not allowed\")\n",
    "        \n",
    "    # function to stop popitem\n",
    "    # from dictionary\n",
    "    def popitem(self, s = None):\n",
    "        raise RuntimeError(\"Deletion not allowed\")\n",
    "        \n",
    "    # function to stop pop from dictionary\n",
    "    def pop(self, s = None):\n",
    "        raise RuntimeError(\"Deletion not allowed\")\n",
    "        \n",
    "d = MyDict({'a':1, 'b':2, 'c':3})\n",
    "\n",
    "d.pop('a')"
   ]
  },
  {
   "cell_type": "markdown",
   "id": "d0950de3",
   "metadata": {},
   "source": [
    "### UserList\n",
    "\n",
    "`UserList is a list like container that acts as a wrapper around the list objects. This is useful when someone wants to create their own list with some modified or additional functionality.`\n",
    "\n",
    "`Syntax:\n",
    "class collections.UserList([list])`"
   ]
  },
  {
   "cell_type": "code",
   "execution_count": 18,
   "id": "babb9440",
   "metadata": {},
   "outputs": [
    {
     "name": "stdout",
     "output_type": "stream",
     "text": [
      "Origial list\n",
      "[1, 2, 3, 4]\n",
      "\n",
      "After insertion : \n",
      "[1, 2, 3, 4, 5]\n"
     ]
    },
    {
     "ename": "RuntimeError",
     "evalue": "Deletion is not allowed",
     "output_type": "error",
     "traceback": [
      "\u001b[1;31m---------------------------------------------------------------------------\u001b[0m",
      "\u001b[1;31mRuntimeError\u001b[0m                              Traceback (most recent call last)",
      "Input \u001b[1;32mIn [18]\u001b[0m, in \u001b[0;36m<cell line: 24>\u001b[1;34m()\u001b[0m\n\u001b[0;32m     21\u001b[0m \u001b[38;5;28mprint\u001b[39m(L)\n\u001b[0;32m     23\u001b[0m \u001b[38;5;66;03m# Deletion from list\u001b[39;00m\n\u001b[1;32m---> 24\u001b[0m \u001b[43mL\u001b[49m\u001b[38;5;241;43m.\u001b[39;49m\u001b[43mremove\u001b[49m\u001b[43m(\u001b[49m\u001b[38;5;241;43m1\u001b[39;49m\u001b[43m)\u001b[49m\n",
      "Input \u001b[1;32mIn [18]\u001b[0m, in \u001b[0;36mMyList.remove\u001b[1;34m(self, s)\u001b[0m\n\u001b[0;32m      7\u001b[0m \u001b[38;5;28;01mdef\u001b[39;00m \u001b[38;5;21mremove\u001b[39m(\u001b[38;5;28mself\u001b[39m, s \u001b[38;5;241m=\u001b[39m \u001b[38;5;28;01mNone\u001b[39;00m):\n\u001b[1;32m----> 8\u001b[0m     \u001b[38;5;28;01mraise\u001b[39;00m \u001b[38;5;167;01mRuntimeError\u001b[39;00m(\u001b[38;5;124m\"\u001b[39m\u001b[38;5;124mDeletion is not allowed\u001b[39m\u001b[38;5;124m\"\u001b[39m)\n",
      "\u001b[1;31mRuntimeError\u001b[0m: Deletion is not allowed"
     ]
    }
   ],
   "source": [
    "from collections import UserList\n",
    "\n",
    "class MyList(UserList):\n",
    "    \n",
    "    # function to stop deletion\n",
    "    # from list\n",
    "    def remove(self, s = None):\n",
    "        raise RuntimeError(\"Deletion is not allowed\")\n",
    "        \n",
    "    # funciton to stop pop from list\n",
    "    def pop(self, s = None):\n",
    "        raise RuntimeError(\"Deletion is not allowed\")\n",
    "        \n",
    "# now let's make a list using userlist\n",
    "\n",
    "L = MyList([1,2,3,4])\n",
    "print(\"Origial list\")\n",
    "print(L)\n",
    "L.append(5)\n",
    "print(\"\\nAfter insertion : \")\n",
    "print(L)\n",
    "\n",
    "# Deletion from list\n",
    "L.remove(1)"
   ]
  },
  {
   "cell_type": "code",
   "execution_count": 21,
   "id": "c4eef4e5",
   "metadata": {},
   "outputs": [
    {
     "name": "stdout",
     "output_type": "stream",
     "text": [
      "[1, 2, 3, 4]\n",
      "\n",
      "[]\n"
     ]
    }
   ],
   "source": [
    "# Python program to demonstrate\n",
    "# userlist\n",
    " \n",
    "from collections import UserList\n",
    " \n",
    "\n",
    "L = [1, 2, 3, 4]\n",
    " \n",
    "# Creating a userlist\n",
    "userL = UserList(L)\n",
    "print(userL.data)\n",
    "print()\n",
    "\n",
    "# Creating empty userlist\n",
    "userL = UserList()\n",
    "print(userL.data)"
   ]
  },
  {
   "cell_type": "code",
   "execution_count": null,
   "id": "bf7f732d",
   "metadata": {},
   "outputs": [],
   "source": []
  },
  {
   "cell_type": "code",
   "execution_count": 14,
   "id": "0677b9a7",
   "metadata": {},
   "outputs": [],
   "source": [
    "lst = [\"a\", \"b\", 1, 3]\n",
    "\n",
    "lst.remove(1)"
   ]
  },
  {
   "cell_type": "code",
   "execution_count": 15,
   "id": "2398767d",
   "metadata": {},
   "outputs": [
    {
     "data": {
      "text/plain": [
       "['a', 'b', 3]"
      ]
     },
     "execution_count": 15,
     "metadata": {},
     "output_type": "execute_result"
    }
   ],
   "source": [
    "lst"
   ]
  },
  {
   "cell_type": "code",
   "execution_count": 16,
   "id": "6f806da6",
   "metadata": {},
   "outputs": [],
   "source": [
    "lst.remove(\"a\")"
   ]
  },
  {
   "cell_type": "code",
   "execution_count": 17,
   "id": "74fc7b0e",
   "metadata": {},
   "outputs": [
    {
     "data": {
      "text/plain": [
       "['b', 3]"
      ]
     },
     "execution_count": 17,
     "metadata": {},
     "output_type": "execute_result"
    }
   ],
   "source": [
    "lst"
   ]
  },
  {
   "cell_type": "markdown",
   "id": "02734f83",
   "metadata": {},
   "source": [
    "#### UserString\n",
    "\n",
    "\n",
    "`UserString is a string like container and just like UserDict and UserList it acts as a wrapper around string objects. It is used when someone wants to create their own strings with some modified or additional functionality. `\n",
    "\n",
    "\n",
    "`Syntax:\n",
    "class collections.UserString(seq)`"
   ]
  },
  {
   "cell_type": "code",
   "execution_count": 24,
   "id": "97397df9",
   "metadata": {},
   "outputs": [
    {
     "name": "stdout",
     "output_type": "stream",
     "text": [
      "Original string : \n",
      "Welcome\n",
      "\n",
      "String After Appending :  Welcomes\n",
      "\n",
      "String after Removing :  Welcome\n"
     ]
    }
   ],
   "source": [
    "from collections import UserString\n",
    "\n",
    "# creating a Mutable String\n",
    "\n",
    "class Mystring(UserString):\n",
    "    \n",
    "    # function to append to string \n",
    "    def append(self, s):\n",
    "        self.data += s\n",
    "    \n",
    "    # Function to remove from string \n",
    "    def remove(self, s):\n",
    "        self.data = self.data.replace(s, \"\")\n",
    "        \n",
    "        \n",
    "# let's create code\n",
    "\n",
    "s1 = Mystring(\"Welcome\")\n",
    "print(\"Original string : \")\n",
    "print(s1.data)\n",
    "\n",
    "print()\n",
    "# Appending to string \n",
    "s1.append(\"s\")\n",
    "print(\"String After Appending : \", s1.data)\n",
    "\n",
    "# removing from string \n",
    "print()\n",
    "s1.remove(\"s\")\n",
    "print('String after Removing : ', s1.data)"
   ]
  },
  {
   "cell_type": "code",
   "execution_count": 25,
   "id": "f1527084",
   "metadata": {},
   "outputs": [
    {
     "name": "stdout",
     "output_type": "stream",
     "text": [
      "12344\n",
      "\n"
     ]
    }
   ],
   "source": [
    "from collections import UserString\n",
    " \n",
    "\n",
    "d = 12344\n",
    " \n",
    "# Creating an UserDict\n",
    "userS = UserString(d)\n",
    "print(userS.data)\n",
    " \n",
    "\n",
    "# Creating an empty UserDict\n",
    "userS = UserString(\"\")\n",
    "print(userS.data)"
   ]
  },
  {
   "cell_type": "code",
   "execution_count": null,
   "id": "0adac09b",
   "metadata": {},
   "outputs": [],
   "source": []
  },
  {
   "cell_type": "code",
   "execution_count": null,
   "id": "d9657a72",
   "metadata": {},
   "outputs": [],
   "source": []
  },
  {
   "cell_type": "code",
   "execution_count": null,
   "id": "268a8f2e",
   "metadata": {},
   "outputs": [],
   "source": []
  },
  {
   "cell_type": "code",
   "execution_count": null,
   "id": "54c36416",
   "metadata": {},
   "outputs": [],
   "source": []
  },
  {
   "cell_type": "code",
   "execution_count": null,
   "id": "c50c4b09",
   "metadata": {},
   "outputs": [],
   "source": []
  },
  {
   "cell_type": "code",
   "execution_count": null,
   "id": "5959cfa1",
   "metadata": {},
   "outputs": [],
   "source": []
  },
  {
   "cell_type": "code",
   "execution_count": null,
   "id": "2d350f6f",
   "metadata": {},
   "outputs": [],
   "source": []
  },
  {
   "cell_type": "code",
   "execution_count": null,
   "id": "26fb5099",
   "metadata": {},
   "outputs": [],
   "source": []
  },
  {
   "cell_type": "code",
   "execution_count": null,
   "id": "4bcbeb25",
   "metadata": {},
   "outputs": [],
   "source": []
  },
  {
   "cell_type": "code",
   "execution_count": null,
   "id": "69138922",
   "metadata": {},
   "outputs": [],
   "source": []
  },
  {
   "cell_type": "code",
   "execution_count": null,
   "id": "491fc8bf",
   "metadata": {},
   "outputs": [],
   "source": []
  },
  {
   "cell_type": "code",
   "execution_count": null,
   "id": "4381b15e",
   "metadata": {},
   "outputs": [],
   "source": []
  },
  {
   "cell_type": "code",
   "execution_count": null,
   "id": "fb27d8bd",
   "metadata": {},
   "outputs": [],
   "source": []
  },
  {
   "cell_type": "code",
   "execution_count": null,
   "id": "667c406c",
   "metadata": {},
   "outputs": [],
   "source": []
  },
  {
   "cell_type": "code",
   "execution_count": null,
   "id": "e79524ac",
   "metadata": {},
   "outputs": [],
   "source": []
  },
  {
   "cell_type": "code",
   "execution_count": null,
   "id": "26668a47",
   "metadata": {},
   "outputs": [],
   "source": []
  },
  {
   "cell_type": "code",
   "execution_count": null,
   "id": "b00e796a",
   "metadata": {},
   "outputs": [],
   "source": []
  },
  {
   "cell_type": "code",
   "execution_count": null,
   "id": "a1c3e179",
   "metadata": {},
   "outputs": [],
   "source": []
  },
  {
   "cell_type": "code",
   "execution_count": null,
   "id": "08655ebd",
   "metadata": {},
   "outputs": [],
   "source": []
  },
  {
   "cell_type": "code",
   "execution_count": null,
   "id": "012ea31e",
   "metadata": {},
   "outputs": [],
   "source": []
  },
  {
   "cell_type": "code",
   "execution_count": null,
   "id": "95ead0a1",
   "metadata": {},
   "outputs": [],
   "source": []
  },
  {
   "cell_type": "code",
   "execution_count": null,
   "id": "ddde6c80",
   "metadata": {},
   "outputs": [],
   "source": []
  },
  {
   "cell_type": "code",
   "execution_count": null,
   "id": "1d0fae8b",
   "metadata": {},
   "outputs": [],
   "source": []
  },
  {
   "cell_type": "code",
   "execution_count": null,
   "id": "ebb3c9f0",
   "metadata": {},
   "outputs": [],
   "source": []
  },
  {
   "cell_type": "markdown",
   "id": "a073f3f2",
   "metadata": {},
   "source": [
    "####  Python’s Collections Module\n",
    "\n",
    "`— High-performance container data types.`\n",
    "\n",
    "`Python is a pretty powerful language and a large part of this power comes from the fact that it supports modular programming. Modular programming is essentially the process of breaking down a large and complex programming task into smaller and more manageable subtask/module. Modules are like LEGO bricks which can be bundled up together to create a larger task.`\n",
    "\n",
    "Modularity has a lot of advantages when writing code like:\n",
    "\n",
    "* Reusability\n",
    "* Maintainability\n",
    "* Simplicity"
   ]
  },
  {
   "cell_type": "markdown",
   "id": "50f215da",
   "metadata": {},
   "source": [
    "### Collections Module\n",
    "\n",
    "`Collections is a built-in Python module that implements specialized container datatypes providing alternatives to Python’s general purpose built-in containers such as dict, list, set, and tuple.`\n",
    "\n",
    "Some of the useful data structures present in this module are:\n",
    "\n",
    "\n",
    "### 1. namedtuple():\n",
    "\n",
    "`The data stored in a plain tuple can only be accessed through indexes.`"
   ]
  },
  {
   "cell_type": "code",
   "execution_count": 1,
   "id": "e4fd2f80",
   "metadata": {},
   "outputs": [
    {
     "data": {
      "text/plain": [
       "10"
      ]
     },
     "execution_count": 1,
     "metadata": {},
     "output_type": "execute_result"
    }
   ],
   "source": [
    "plain_tuple = (10, 11, 12, 13, 14)\n",
    "\n",
    "plain_tuple[0]"
   ]
  },
  {
   "cell_type": "code",
   "execution_count": 2,
   "id": "9810ec05",
   "metadata": {},
   "outputs": [
    {
     "data": {
      "text/plain": [
       "13"
      ]
     },
     "execution_count": 2,
     "metadata": {},
     "output_type": "execute_result"
    }
   ],
   "source": [
    "plain_tuple[3]"
   ]
  },
  {
   "cell_type": "markdown",
   "id": "5e97ccd9",
   "metadata": {},
   "source": [
    "We can’t give names to individual elements stored in a tuple. Now, this might not be needed in simple cases. However, in case a tuple has many fields this might be kind of a necessity and will also impact the code’s readability.\n",
    "\n",
    "It is here that `namedtuple’s` functionality comes into the picture. It is a function for tuples with `Named Fields` and can be seen as an extension of the built-in tuple data type. Named tuples assign meaning to each position in a tuple and allow for more readable, self-documenting code. Each object stored in them can be accessed through a unique (human-readable) identifier and this frees us from having to remember integer indexes. Let’s see its implementation."
   ]
  },
  {
   "cell_type": "code",
   "execution_count": 1,
   "id": "63104ffc",
   "metadata": {},
   "outputs": [],
   "source": [
    "from collections import namedtuple\n",
    "\n",
    "fruit = namedtuple(\"fruit\", \"number variety color\")\n",
    "\n",
    "guava = fruit(number= 2, variety= \"HoneyCrisp\", color=\"gree\")\n",
    "apple = fruit(number=5, variety=\"Granny Smith\", color=\"red\")\n",
    "\n"
   ]
  },
  {
   "cell_type": "markdown",
   "id": "4278bca2",
   "metadata": {},
   "source": [
    "`We construct the namedtuple by first passing the object type name (fruit) and then passing a string with the variety of fields as a string with spaces between the field names. We can then call on the various attributes:`"
   ]
  },
  {
   "cell_type": "code",
   "execution_count": 4,
   "id": "d7d56e8e",
   "metadata": {},
   "outputs": [
    {
     "data": {
      "text/plain": [
       "'gree'"
      ]
     },
     "execution_count": 4,
     "metadata": {},
     "output_type": "execute_result"
    }
   ],
   "source": [
    "guava.color"
   ]
  },
  {
   "cell_type": "code",
   "execution_count": 5,
   "id": "8869191a",
   "metadata": {},
   "outputs": [
    {
     "data": {
      "text/plain": [
       "'red'"
      ]
     },
     "execution_count": 5,
     "metadata": {},
     "output_type": "execute_result"
    }
   ],
   "source": [
    "apple.color"
   ]
  },
  {
   "cell_type": "code",
   "execution_count": 6,
   "id": "ac328f67",
   "metadata": {},
   "outputs": [
    {
     "data": {
      "text/plain": [
       "5"
      ]
     },
     "execution_count": 6,
     "metadata": {},
     "output_type": "execute_result"
    }
   ],
   "source": [
    "apple.number\n"
   ]
  },
  {
   "cell_type": "code",
   "execution_count": 7,
   "id": "25c69669",
   "metadata": {},
   "outputs": [
    {
     "data": {
      "text/plain": [
       "2"
      ]
     },
     "execution_count": 7,
     "metadata": {},
     "output_type": "execute_result"
    }
   ],
   "source": [
    "guava.number"
   ]
  },
  {
   "cell_type": "markdown",
   "id": "4c5a009f",
   "metadata": {},
   "source": [
    "### Note : \n",
    "\n",
    "`Namedtuples are also a memory-efficient option when defining an immutable class in Python.`"
   ]
  },
  {
   "cell_type": "code",
   "execution_count": 9,
   "id": "dfaa273c",
   "metadata": {},
   "outputs": [],
   "source": [
    "from collections import namedtuple\n",
    "\n",
    "student = namedtuple(\"stdudent\", \"college rollnumber age\")\n"
   ]
  },
  {
   "cell_type": "code",
   "execution_count": 10,
   "id": "b29fe507",
   "metadata": {},
   "outputs": [],
   "source": [
    "harry = student(college=\"ABC College\", rollnumber=110018, age=19)"
   ]
  },
  {
   "cell_type": "code",
   "execution_count": 11,
   "id": "2036ee95",
   "metadata": {},
   "outputs": [
    {
     "data": {
      "text/plain": [
       "'ABC College'"
      ]
     },
     "execution_count": 11,
     "metadata": {},
     "output_type": "execute_result"
    }
   ],
   "source": [
    "harry.college"
   ]
  },
  {
   "cell_type": "code",
   "execution_count": 12,
   "id": "756677b5",
   "metadata": {},
   "outputs": [
    {
     "data": {
      "text/plain": [
       "19"
      ]
     },
     "execution_count": 12,
     "metadata": {},
     "output_type": "execute_result"
    }
   ],
   "source": [
    "harry.age"
   ]
  },
  {
   "cell_type": "code",
   "execution_count": 1,
   "id": "c31020a4",
   "metadata": {},
   "outputs": [],
   "source": [
    "from collections import namedtuple\n",
    "\n",
    "student = namedtuple(\"Stdudent\", \"college rollnumber age\")\n"
   ]
  },
  {
   "cell_type": "code",
   "execution_count": 2,
   "id": "7210ce05",
   "metadata": {},
   "outputs": [],
   "source": [
    "harry = student(college=\"ABC College\", rollnumber=110018, age=19)"
   ]
  },
  {
   "cell_type": "code",
   "execution_count": 3,
   "id": "f7b99f98",
   "metadata": {},
   "outputs": [
    {
     "data": {
      "text/plain": [
       "'ABC College'"
      ]
     },
     "execution_count": 3,
     "metadata": {},
     "output_type": "execute_result"
    }
   ],
   "source": [
    "harry.college"
   ]
  },
  {
   "cell_type": "markdown",
   "id": "1e61ec93",
   "metadata": {},
   "source": [
    "### 2. Counter\n",
    "\n",
    "`Counter is a dict subclass which helps to count hashable objects. The elements are stored as dictionary keys while the object counts are stored as the value. Let’s work through a few examples with Counter.`"
   ]
  },
  {
   "cell_type": "code",
   "execution_count": 7,
   "id": "16cabc1a",
   "metadata": {},
   "outputs": [],
   "source": [
    "from collections import Counter"
   ]
  },
  {
   "cell_type": "code",
   "execution_count": 8,
   "id": "ed7480ac",
   "metadata": {},
   "outputs": [
    {
     "name": "stdout",
     "output_type": "stream",
     "text": [
      "Counter({'a': 4, 'b': 4, 'c': 2, 'd': 2})\n"
     ]
    }
   ],
   "source": [
    "# with string \n",
    "\n",
    "c = Counter(\"abcdabacbdba\")\n",
    "print(c)"
   ]
  },
  {
   "cell_type": "code",
   "execution_count": 9,
   "id": "18eb7509",
   "metadata": {},
   "outputs": [
    {
     "name": "stdout",
     "output_type": "stream",
     "text": [
      "Counter({2: 2, 3: 2, 4: 2, 5: 2, 1: 1, 65: 1, 6: 1, 33: 1, 22: 1})\n"
     ]
    }
   ],
   "source": [
    "# with list \n",
    "\n",
    "lst = [1,2,3,4,5,65,4,5,6,33,22,2,3]\n",
    "\n",
    "L = Counter(lst)\n",
    "print(L)"
   ]
  },
  {
   "cell_type": "code",
   "execution_count": 10,
   "id": "e91ed4a5",
   "metadata": {},
   "outputs": [
    {
     "name": "stdout",
     "output_type": "stream",
     "text": [
      "Counter({'l': 3, 'o': 2, 'h': 1, 'e': 1, ' ': 1, 'w': 1, 'r': 1, 'd': 1})\n"
     ]
    }
   ],
   "source": [
    "lst = list(\"hello world\")\n",
    "c = Counter(lst)\n",
    "print(c)"
   ]
  },
  {
   "cell_type": "code",
   "execution_count": 13,
   "id": "00b8def0",
   "metadata": {},
   "outputs": [
    {
     "data": {
      "text/plain": [
       "Counter({'the': 1, 'lazy': 2, 'dog': 2, 'jupmed': 1, 'over': 1, 'another': 1})"
      ]
     },
     "execution_count": 13,
     "metadata": {},
     "output_type": "execute_result"
    }
   ],
   "source": [
    "# with sentence\n",
    "from collections import Counter\n",
    "s = \"the lazy dog jupmed over another lazy dog\"\n",
    "\n",
    "words = s.split()\n",
    "Counter(words)"
   ]
  },
  {
   "cell_type": "markdown",
   "id": "1e11129f",
   "metadata": {},
   "source": [
    "#### Counter objects support three methods beyond those available for all dictionaries:\n",
    "\n",
    "#### (i)    elements()\n",
    "`Returns a count of each element and If an element’s count is less than one, it is ignored.`"
   ]
  },
  {
   "cell_type": "code",
   "execution_count": 14,
   "id": "4839c942",
   "metadata": {},
   "outputs": [
    {
     "data": {
      "text/plain": [
       "['a', 'a', 'a', 'b', 'b', 'c']"
      ]
     },
     "execution_count": 14,
     "metadata": {},
     "output_type": "execute_result"
    }
   ],
   "source": [
    "from collections import Counter\n",
    "\n",
    "c = Counter(a = 3, b = 2, c = 1, d = -2)\n",
    "\n",
    "sorted(c.elements())"
   ]
  },
  {
   "cell_type": "markdown",
   "id": "fc8077a5",
   "metadata": {},
   "source": [
    "As we can see that element's 'd' have less than one count so it has been ignored"
   ]
  },
  {
   "cell_type": "markdown",
   "id": "6b5ab39c",
   "metadata": {},
   "source": [
    "#### (ii) most_common([n]) : \n",
    "\n",
    "`Returns a list of the most common elements with their counts. The number of elements has to be specified as n. If none is specified it returns the count of all the elements.`"
   ]
  },
  {
   "cell_type": "code",
   "execution_count": 15,
   "id": "a7a78a8e",
   "metadata": {},
   "outputs": [
    {
     "data": {
      "text/plain": [
       "[('lazy', 2), ('dog', 2), ('the', 1)]"
      ]
     },
     "execution_count": 15,
     "metadata": {},
     "output_type": "execute_result"
    }
   ],
   "source": [
    "s = 'the lazy dog jumped over another lazy dog'\n",
    "words = s.split()\n",
    "Counter(words).most_common(3)"
   ]
  },
  {
   "cell_type": "code",
   "execution_count": 16,
   "id": "1e428bc4",
   "metadata": {},
   "outputs": [
    {
     "data": {
      "text/plain": [
       "[('lazy', 2), ('dog', 2)]"
      ]
     },
     "execution_count": 16,
     "metadata": {},
     "output_type": "execute_result"
    }
   ],
   "source": [
    "Counter(words).most_common(2)"
   ]
  },
  {
   "cell_type": "code",
   "execution_count": 17,
   "id": "b5f5667d",
   "metadata": {},
   "outputs": [
    {
     "data": {
      "text/plain": [
       "8"
      ]
     },
     "execution_count": 17,
     "metadata": {},
     "output_type": "execute_result"
    }
   ],
   "source": [
    "sum(Counter(words).values())"
   ]
  },
  {
   "cell_type": "code",
   "execution_count": 18,
   "id": "65e99a51",
   "metadata": {},
   "outputs": [],
   "source": [
    "from collections import Counter\n",
    "s = 'the lazy dog jumped over another lazy dog'\n",
    "words = s.split()\n",
    "c = Counter(words)"
   ]
  },
  {
   "cell_type": "code",
   "execution_count": 19,
   "id": "91436302",
   "metadata": {},
   "outputs": [
    {
     "data": {
      "text/plain": [
       "8"
      ]
     },
     "execution_count": 19,
     "metadata": {},
     "output_type": "execute_result"
    }
   ],
   "source": [
    "sum(c.values())"
   ]
  },
  {
   "cell_type": "code",
   "execution_count": 20,
   "id": "10af8be1",
   "metadata": {},
   "outputs": [
    {
     "data": {
      "text/plain": [
       "['the', 'lazy', 'dog', 'jumped', 'over', 'another']"
      ]
     },
     "execution_count": 20,
     "metadata": {},
     "output_type": "execute_result"
    }
   ],
   "source": [
    "list(c)"
   ]
  },
  {
   "cell_type": "code",
   "execution_count": 21,
   "id": "b804b398",
   "metadata": {},
   "outputs": [
    {
     "data": {
      "text/plain": [
       "{'another', 'dog', 'jumped', 'lazy', 'over', 'the'}"
      ]
     },
     "execution_count": 21,
     "metadata": {},
     "output_type": "execute_result"
    }
   ],
   "source": [
    "set(c)"
   ]
  },
  {
   "cell_type": "code",
   "execution_count": 22,
   "id": "9135ae90",
   "metadata": {},
   "outputs": [
    {
     "data": {
      "text/plain": [
       "{'the': 1, 'lazy': 2, 'dog': 2, 'jumped': 1, 'over': 1, 'another': 1}"
      ]
     },
     "execution_count": 22,
     "metadata": {},
     "output_type": "execute_result"
    }
   ],
   "source": [
    "dict(c)"
   ]
  },
  {
   "cell_type": "code",
   "execution_count": 23,
   "id": "2dd99a63",
   "metadata": {},
   "outputs": [
    {
     "data": {
      "text/plain": [
       "dict_items([('the', 1), ('lazy', 2), ('dog', 2), ('jumped', 1), ('over', 1), ('another', 1)])"
      ]
     },
     "execution_count": 23,
     "metadata": {},
     "output_type": "execute_result"
    }
   ],
   "source": [
    "c.items()"
   ]
  },
  {
   "cell_type": "code",
   "execution_count": 24,
   "id": "5726fc80",
   "metadata": {},
   "outputs": [
    {
     "data": {
      "text/plain": [
       "[('lazy', 2), ('dog', 2), ('the', 1), ('jumped', 1)]"
      ]
     },
     "execution_count": 24,
     "metadata": {},
     "output_type": "execute_result"
    }
   ],
   "source": [
    "c.most_common(4)"
   ]
  },
  {
   "cell_type": "markdown",
   "id": "79055f40",
   "metadata": {},
   "source": [
    "`sum(c.values())                 # total of all counts \n",
    "c.clear()                       # reset all counts \n",
    "list(c)                         # list unique elements \n",
    "set(c)                          # convert to a set \n",
    "dict(c)                         # convert to a regular dictionary c.items()                       # convert to a list like (elem, cnt) \n",
    "Counter(dict(list_of_pairs))    # convert from a list of(elem, cnt) \n",
    "c.most_common()[:-n-1:-1]       # n least common elements \n",
    "c += Counter()                  # remove zero and negative counts`"
   ]
  },
  {
   "cell_type": "markdown",
   "id": "e7a53d6b",
   "metadata": {},
   "source": [
    "#### 3. defaultdict\n",
    "\n",
    "`Dictionaries are an efficient way to store data for later retrieval having an unordered set of key: value pairs. Keys must be unique and immutable objects.`"
   ]
  },
  {
   "cell_type": "code",
   "execution_count": 26,
   "id": "c561ac51",
   "metadata": {},
   "outputs": [
    {
     "data": {
      "text/plain": [
       "200"
      ]
     },
     "execution_count": 26,
     "metadata": {},
     "output_type": "execute_result"
    }
   ],
   "source": [
    "fruits = {'apple':300, 'guava': 200}\n",
    "fruits['guava']"
   ]
  },
  {
   "cell_type": "markdown",
   "id": "93f93c5f",
   "metadata": {},
   "source": [
    "\n",
    "`Things are simple if the values are ints or strings. However, if the values are in the form of collections like lists or dictionaries, the value (an empty list or dict) must be initialized the first time a given key is used. defaultdict automates and simplifies this stuff. The example below will make it more obvious:`"
   ]
  },
  {
   "cell_type": "code",
   "execution_count": 27,
   "id": "1f5b2c50",
   "metadata": {},
   "outputs": [
    {
     "ename": "KeyError",
     "evalue": "'A'",
     "output_type": "error",
     "traceback": [
      "\u001b[1;31m---------------------------------------------------------------------------\u001b[0m",
      "\u001b[1;31mKeyError\u001b[0m                                  Traceback (most recent call last)",
      "Input \u001b[1;32mIn [27]\u001b[0m, in \u001b[0;36m<cell line: 2>\u001b[1;34m()\u001b[0m\n\u001b[0;32m      1\u001b[0m d \u001b[38;5;241m=\u001b[39m {}\n\u001b[1;32m----> 2\u001b[0m \u001b[38;5;28mprint\u001b[39m(\u001b[43md\u001b[49m\u001b[43m[\u001b[49m\u001b[38;5;124;43m'\u001b[39;49m\u001b[38;5;124;43mA\u001b[39;49m\u001b[38;5;124;43m'\u001b[39;49m\u001b[43m]\u001b[49m)\n",
      "\u001b[1;31mKeyError\u001b[0m: 'A'"
     ]
    }
   ],
   "source": [
    "d = {}\n",
    "print(d['A'])"
   ]
  },
  {
   "cell_type": "markdown",
   "id": "8c146a33",
   "metadata": {},
   "source": [
    "`Here, the Python dictionary throws an error since ‘A’ is not currently in the dictionary. Let us now run the same example with defaultdict.`"
   ]
  },
  {
   "cell_type": "code",
   "execution_count": 28,
   "id": "3e49fcfd",
   "metadata": {},
   "outputs": [
    {
     "name": "stdout",
     "output_type": "stream",
     "text": [
      "<object object at 0x0000019A45CE5890>\n"
     ]
    }
   ],
   "source": [
    "from collections import defaultdict\n",
    "d = defaultdict(object)\n",
    "print(d['A'])"
   ]
  },
  {
   "cell_type": "markdown",
   "id": "49ab591a",
   "metadata": {},
   "source": [
    "`The defaultdict in contrast will simply create any items that you try to access (provided of course they do not exist yet).The defaultdict is also a dictionary-like object and provides all methods provided by a dictionary. However, the point of difference is that it takes the first argument (default_factory) as a default data type for the dictionary.`"
   ]
  },
  {
   "cell_type": "markdown",
   "id": "b16702db",
   "metadata": {},
   "source": [
    "###  4.  OrderedDict\n",
    "\n",
    "`An OrderedDict is a dictionary subclass that remembers the order in which that keys were first inserted. When iterating over an ordered dictionary, the items are returned in the order their keys were first added. Since an ordered dictionary remembers its insertion order, it can be used in conjunction with sorting to make a sorted dictionary:`"
   ]
  },
  {
   "cell_type": "markdown",
   "id": "1f897bd9",
   "metadata": {},
   "source": [
    "#### regular dictionary"
   ]
  },
  {
   "cell_type": "code",
   "execution_count": 29,
   "id": "98921728",
   "metadata": {},
   "outputs": [],
   "source": [
    "d = {'banana': 3, 'apple': 4, 'pear': 1, 'orange': 2}"
   ]
  },
  {
   "cell_type": "markdown",
   "id": "03e5d308",
   "metadata": {},
   "source": [
    "#### dictionary sorted by key"
   ]
  },
  {
   "cell_type": "code",
   "execution_count": 31,
   "id": "fd23325d",
   "metadata": {},
   "outputs": [],
   "source": [
    "from collections import OrderedDict"
   ]
  },
  {
   "cell_type": "code",
   "execution_count": 32,
   "id": "c252a0c0",
   "metadata": {},
   "outputs": [
    {
     "data": {
      "text/plain": [
       "OrderedDict([('apple', 4), ('banana', 3), ('orange', 2), ('pear', 1)])"
      ]
     },
     "execution_count": 32,
     "metadata": {},
     "output_type": "execute_result"
    }
   ],
   "source": [
    "OrderedDict(sorted(d.items(), key=lambda t: t[0]))"
   ]
  },
  {
   "cell_type": "code",
   "execution_count": 33,
   "id": "caa0fa19",
   "metadata": {},
   "outputs": [
    {
     "data": {
      "text/plain": [
       "OrderedDict([('apple', 4), ('banana', 3), ('orange', 2), ('pear', 1)])"
      ]
     },
     "execution_count": 33,
     "metadata": {},
     "output_type": "execute_result"
    }
   ],
   "source": [
    "OrderedDict([('apple', 4), ('banana', 3), ('orange', 2), ('pear', 1)])"
   ]
  },
  {
   "cell_type": "markdown",
   "id": "091337d6",
   "metadata": {},
   "source": [
    "#### dictionary sorted by value"
   ]
  },
  {
   "cell_type": "code",
   "execution_count": 34,
   "id": "06e46af3",
   "metadata": {},
   "outputs": [
    {
     "data": {
      "text/plain": [
       "OrderedDict([('pear', 1), ('orange', 2), ('banana', 3), ('apple', 4)])"
      ]
     },
     "execution_count": 34,
     "metadata": {},
     "output_type": "execute_result"
    }
   ],
   "source": [
    "OrderedDict(sorted(d.items(), key=lambda t: t[1]))"
   ]
  },
  {
   "cell_type": "code",
   "execution_count": 35,
   "id": "2f7a00da",
   "metadata": {},
   "outputs": [
    {
     "data": {
      "text/plain": [
       "OrderedDict([('pear', 1), ('orange', 2), ('banana', 3), ('apple', 4)])"
      ]
     },
     "execution_count": 35,
     "metadata": {},
     "output_type": "execute_result"
    }
   ],
   "source": [
    "OrderedDict([('pear', 1), ('orange', 2), ('banana', 3), ('apple', 4)])"
   ]
  },
  {
   "cell_type": "code",
   "execution_count": null,
   "id": "31678d4f",
   "metadata": {},
   "outputs": [],
   "source": []
  },
  {
   "cell_type": "markdown",
   "id": "33a86554",
   "metadata": {},
   "source": [
    "#### dictionary sorted by the length of the key string"
   ]
  },
  {
   "cell_type": "code",
   "execution_count": 36,
   "id": "d2108bc9",
   "metadata": {},
   "outputs": [
    {
     "data": {
      "text/plain": [
       "OrderedDict([('pear', 1), ('apple', 4), ('banana', 3), ('orange', 2)])"
      ]
     },
     "execution_count": 36,
     "metadata": {},
     "output_type": "execute_result"
    }
   ],
   "source": [
    "OrderedDict(sorted(d.items(), key=lambda t: len(t[0])))"
   ]
  },
  {
   "cell_type": "code",
   "execution_count": 37,
   "id": "676df3ff",
   "metadata": {},
   "outputs": [
    {
     "data": {
      "text/plain": [
       "OrderedDict([('pear', 1), ('apple', 4), ('banana', 3), ('orange', 2)])"
      ]
     },
     "execution_count": 37,
     "metadata": {},
     "output_type": "execute_result"
    }
   ],
   "source": [
    "OrderedDict([('pear', 1), ('apple', 4), ('banana', 3), ('orange', 2)])"
   ]
  },
  {
   "cell_type": "markdown",
   "id": "8abb4a54",
   "metadata": {},
   "source": [
    "`A point to note here is that in Python 3.6, the regular dictionaries are insertion ordered i.e dictionaries remember the order of items inserted.`"
   ]
  },
  {
   "cell_type": "code",
   "execution_count": null,
   "id": "f01b6d96",
   "metadata": {},
   "outputs": [],
   "source": []
  }
 ],
 "metadata": {
  "kernelspec": {
   "display_name": "Python 3 (ipykernel)",
   "language": "python",
   "name": "python3"
  },
  "language_info": {
   "codemirror_mode": {
    "name": "ipython",
    "version": 3
   },
   "file_extension": ".py",
   "mimetype": "text/x-python",
   "name": "python",
   "nbconvert_exporter": "python",
   "pygments_lexer": "ipython3",
   "version": "3.9.7"
  }
 },
 "nbformat": 4,
 "nbformat_minor": 5
}

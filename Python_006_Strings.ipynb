{
 "cells": [
  {
   "cell_type": "markdown",
   "id": "0d041a57",
   "metadata": {},
   "source": [
    "### Strings\n",
    "Strings in python are surrounded by either single quotation marks, or double quotation marks.\n",
    "\n",
    "`'hello'` is the same as `\"hello\"`.\n",
    "\n",
    "You can display a string literal with the `print()` function:"
   ]
  },
  {
   "cell_type": "code",
   "execution_count": 1,
   "id": "c133bc8c",
   "metadata": {},
   "outputs": [
    {
     "name": "stdout",
     "output_type": "stream",
     "text": [
      "Hello\n",
      "Hello\n"
     ]
    }
   ],
   "source": [
    "print(\"Hello\")\n",
    "print('Hello')\n"
   ]
  },
  {
   "cell_type": "markdown",
   "id": "f0d83f51",
   "metadata": {},
   "source": [
    "#### Assign String to a Variable\n",
    "Assigning a string to a variable is done with the variable name followed by an equal sign and the string:"
   ]
  },
  {
   "cell_type": "code",
   "execution_count": 2,
   "id": "1bfd549c",
   "metadata": {},
   "outputs": [
    {
     "name": "stdout",
     "output_type": "stream",
     "text": [
      "Hello\n"
     ]
    }
   ],
   "source": [
    "a = \"Hello\"\n",
    "\n",
    "print(a)"
   ]
  },
  {
   "cell_type": "markdown",
   "id": "0bfa6473",
   "metadata": {},
   "source": [
    "#### Multiline Strings\n",
    "You can assign a multiline string to a variable by using three quotes:"
   ]
  },
  {
   "cell_type": "code",
   "execution_count": 3,
   "id": "8bfc3b51",
   "metadata": {},
   "outputs": [
    {
     "name": "stdout",
     "output_type": "stream",
     "text": [
      "Lorem ipsum dolor sit amet,\n",
      "consectetur adipiscing elit,\n",
      "sed do eiusmod tempor incididunt\n",
      "ut labore et dolore magna aliqu\n"
     ]
    }
   ],
   "source": [
    "a = \"\"\"Lorem ipsum dolor sit amet,\n",
    "consectetur adipiscing elit,\n",
    "sed do eiusmod tempor incididunt\n",
    "ut labore et dolore magna aliqu\"\"\"\n",
    "\n",
    "print(a)"
   ]
  },
  {
   "cell_type": "markdown",
   "id": "5f4c020f",
   "metadata": {},
   "source": [
    "**Note:** you will get same line indentation \n",
    "in out put as you will give it to as a input"
   ]
  },
  {
   "cell_type": "code",
   "execution_count": 4,
   "id": "4d22affa",
   "metadata": {},
   "outputs": [
    {
     "name": "stdout",
     "output_type": "stream",
     "text": [
      "Lorem ipsum dolor sit amet,\n",
      "consectetur adipiscing elit,\n",
      "sed do eiusmod tempor incididunt\n",
      "ut labore et dolore magna aliqu\n"
     ]
    }
   ],
   "source": [
    "### we can use 3 single quotes at the place \n",
    "## of \"\"\" \"\"\"\n",
    "\n",
    "a = '''Lorem ipsum dolor sit amet,\n",
    "consectetur adipiscing elit,\n",
    "sed do eiusmod tempor incididunt\n",
    "ut labore et dolore magna aliqu'''\n",
    "\n",
    "print(a)"
   ]
  },
  {
   "cell_type": "code",
   "execution_count": 5,
   "id": "9390c41c",
   "metadata": {},
   "outputs": [
    {
     "name": "stdout",
     "output_type": "stream",
     "text": [
      "this is tab\tand this is\n",
      "New line that will work fine.\n",
      "and this is another new line we have given to just check whether it will work or not.\n"
     ]
    }
   ],
   "source": [
    "### within triple quotes the tab '\\t' and new line '\\n' works fine \n",
    "\n",
    "print(\"\"\"this is tab\\tand this is\\nNew line that will work fine.\n",
    "and this is another new line we have given to just check whether it will work or not.\"\"\")"
   ]
  },
  {
   "cell_type": "markdown",
   "id": "326e2e6e",
   "metadata": {},
   "source": [
    "**Note:** in the result, the line breaks are inserted at the same position as in the code."
   ]
  },
  {
   "cell_type": "markdown",
   "id": "fb39301b",
   "metadata": {},
   "source": [
    "#### Strings are Arrays\n",
    "Like many other popular programming languages, strings in Python are arrays of bytes representing unicode characters.\n",
    "\n",
    "However, Python does not have a character data type, a single character is simply a string with a length of 1.\n",
    "\n",
    "Square brackets can be used to access elements of the string.\n",
    "\n",
    "\n",
    "#### Example\n",
    "Get the character at position 1 (remember that the first character has the position 0):"
   ]
  },
  {
   "cell_type": "code",
   "execution_count": 2,
   "id": "9e997612",
   "metadata": {},
   "outputs": [
    {
     "name": "stdout",
     "output_type": "stream",
     "text": [
      "e\n"
     ]
    }
   ],
   "source": [
    "a = \"Hello World!\"\n",
    "\n",
    "print(a[1])\n"
   ]
  },
  {
   "cell_type": "code",
   "execution_count": 3,
   "id": "11807a4e",
   "metadata": {},
   "outputs": [
    {
     "name": "stdout",
     "output_type": "stream",
     "text": [
      "H\n"
     ]
    }
   ],
   "source": [
    "print(a[0])"
   ]
  },
  {
   "cell_type": "markdown",
   "id": "a1700999",
   "metadata": {},
   "source": [
    "#### Looping Through a String\n",
    "Since strings are arrays, we can loop through the characters in a string, with a for loop.\n",
    "\n",
    "#### Example\n",
    "Loop through the letters in the word `\"banana\"`:"
   ]
  },
  {
   "cell_type": "code",
   "execution_count": 4,
   "id": "cd7f3f95",
   "metadata": {},
   "outputs": [
    {
     "name": "stdout",
     "output_type": "stream",
     "text": [
      "b\n",
      "a\n",
      "n\n",
      "a\n",
      "n\n",
      "a\n"
     ]
    }
   ],
   "source": [
    "for x in \"banana\":\n",
    "    print(x)"
   ]
  },
  {
   "cell_type": "markdown",
   "id": "5fd38d24",
   "metadata": {},
   "source": [
    "#### String Length\n",
    "To get the length of a string, use the len() function."
   ]
  },
  {
   "cell_type": "code",
   "execution_count": 9,
   "id": "4c760b42",
   "metadata": {},
   "outputs": [
    {
     "name": "stdout",
     "output_type": "stream",
     "text": [
      "12\n"
     ]
    }
   ],
   "source": [
    "a = \"Hello world!\"\n",
    "\n",
    "print(len(a))"
   ]
  },
  {
   "cell_type": "markdown",
   "id": "4164ca10",
   "metadata": {},
   "source": [
    "### Check String\n",
    "To check if a certain phrase or character is present in a string, we can use the keyword in."
   ]
  },
  {
   "cell_type": "code",
   "execution_count": 10,
   "id": "890197c6",
   "metadata": {},
   "outputs": [
    {
     "name": "stdout",
     "output_type": "stream",
     "text": [
      "True\n"
     ]
    }
   ],
   "source": [
    "txt = \"The best things in life are free!\"\n",
    "print(\"free\" in txt)"
   ]
  },
  {
   "cell_type": "markdown",
   "id": "ab26238d",
   "metadata": {},
   "source": [
    "Use it in an `if` statement:"
   ]
  },
  {
   "cell_type": "code",
   "execution_count": 11,
   "id": "1d5ee536",
   "metadata": {},
   "outputs": [
    {
     "name": "stdout",
     "output_type": "stream",
     "text": [
      "Yes, 'free' is present\n"
     ]
    }
   ],
   "source": [
    "txt = \"The best things in life are free!\"\n",
    "\n",
    "if \"free\" in txt:\n",
    "    print(\"Yes, 'free' is present\")"
   ]
  },
  {
   "cell_type": "markdown",
   "id": "c2527f6e",
   "metadata": {},
   "source": [
    "#### Check if NOT\n",
    "To check if a certain phrase or character is NOT present in a string, we can use the keyword not in."
   ]
  },
  {
   "cell_type": "code",
   "execution_count": 12,
   "id": "b3771f1d",
   "metadata": {},
   "outputs": [
    {
     "name": "stdout",
     "output_type": "stream",
     "text": [
      "True\n"
     ]
    }
   ],
   "source": [
    "txt = \"The best things in life are free!\"\n",
    "\n",
    "print(\"expensive\" not in txt)"
   ]
  },
  {
   "cell_type": "markdown",
   "id": "b59023d3",
   "metadata": {},
   "source": [
    "use it in an `if` statement"
   ]
  },
  {
   "cell_type": "code",
   "execution_count": 13,
   "id": "a63465ac",
   "metadata": {},
   "outputs": [
    {
     "name": "stdout",
     "output_type": "stream",
     "text": [
      "No, 'expensive' is NOT present\n"
     ]
    }
   ],
   "source": [
    "txt = \"The best things in life are free!\"\n",
    "\n",
    "if \"expensive\" not in txt:\n",
    "    print(\"No, 'expensive' is NOT present\")"
   ]
  },
  {
   "cell_type": "markdown",
   "id": "4f912427",
   "metadata": {},
   "source": [
    "#### Slicing\n",
    "You can return a range of characters by using the slice syntax.\n",
    "\n",
    "Specify the start index and the end index, separated by a colon, to return a part of the string."
   ]
  },
  {
   "cell_type": "code",
   "execution_count": 14,
   "id": "67349cd4",
   "metadata": {},
   "outputs": [
    {
     "name": "stdout",
     "output_type": "stream",
     "text": [
      "llo\n"
     ]
    }
   ],
   "source": [
    "# Get the characters from position 2 to position 5 (not included):\n",
    "\n",
    "b = \"Hello World!\"\n",
    "\n",
    "print(b[2:5])"
   ]
  },
  {
   "cell_type": "markdown",
   "id": "9ee9615b",
   "metadata": {},
   "source": [
    "**Note:** The first character has index 0.\n",
    "\n",
    "\n",
    "#### Slice From the Start\n",
    "By leaving out the start index, the range will start at the first character:\n",
    "\n",
    "#### Example\n",
    "Get the characters from the start to position 5 (not included):"
   ]
  },
  {
   "cell_type": "code",
   "execution_count": 16,
   "id": "22a6c8d6",
   "metadata": {},
   "outputs": [
    {
     "name": "stdout",
     "output_type": "stream",
     "text": [
      "Hello\n"
     ]
    }
   ],
   "source": [
    "b = \"Hello, World!\"\n",
    "print(b[:5])"
   ]
  },
  {
   "cell_type": "markdown",
   "id": "52230eee",
   "metadata": {},
   "source": [
    "#### Slice To the End\n",
    "By leaving out the end index, the range will go to the end:\n",
    "\n",
    "#### Example\n",
    "Get the characters from position 2, and all the way to the end:"
   ]
  },
  {
   "cell_type": "code",
   "execution_count": 15,
   "id": "008862e2",
   "metadata": {},
   "outputs": [
    {
     "name": "stdout",
     "output_type": "stream",
     "text": [
      "llo, World!\n"
     ]
    }
   ],
   "source": [
    "b = \"Hello, World!\"\n",
    "\n",
    "print(b[2:])"
   ]
  },
  {
   "cell_type": "markdown",
   "id": "fd9ff502",
   "metadata": {},
   "source": [
    "### Negative Indexing\n",
    "Use negative indexes to start the slice from the end of the string:\n",
    "\n",
    "\n",
    "### Example\n",
    "Get the characters:\n",
    "\n",
    "From: \"o\" in \"World!\" (position -5)\n",
    "\n",
    "To, but not included: \"d\" in \"World!\" (position -2):"
   ]
  },
  {
   "cell_type": "code",
   "execution_count": 18,
   "id": "03a85abf",
   "metadata": {},
   "outputs": [
    {
     "name": "stdout",
     "output_type": "stream",
     "text": [
      "orl\n"
     ]
    }
   ],
   "source": [
    "b = \"Hello, World!\"\n",
    "\n",
    "print(b[-5:-2])"
   ]
  },
  {
   "cell_type": "code",
   "execution_count": 19,
   "id": "55eef2f1",
   "metadata": {},
   "outputs": [
    {
     "name": "stdout",
     "output_type": "stream",
     "text": [
      "!dlroW ,olleH\n"
     ]
    }
   ],
   "source": [
    "# reverse the string \n",
    "print(b[::-1])"
   ]
  },
  {
   "cell_type": "code",
   "execution_count": 20,
   "id": "1fd15774",
   "metadata": {},
   "outputs": [
    {
     "name": "stdout",
     "output_type": "stream",
     "text": [
      "orld!\n"
     ]
    }
   ],
   "source": [
    "print(b[-5:])"
   ]
  },
  {
   "cell_type": "code",
   "execution_count": 21,
   "id": "c53e6b43",
   "metadata": {},
   "outputs": [
    {
     "data": {
      "text/plain": [
       "''"
      ]
     },
     "execution_count": 21,
     "metadata": {},
     "output_type": "execute_result"
    }
   ],
   "source": [
    "b[-1:-4]"
   ]
  },
  {
   "cell_type": "code",
   "execution_count": 22,
   "id": "dea31a63",
   "metadata": {},
   "outputs": [
    {
     "name": "stdout",
     "output_type": "stream",
     "text": [
      "\n"
     ]
    }
   ],
   "source": [
    "print(b[-1:-4])\n",
    "# will return nothing "
   ]
  },
  {
   "cell_type": "markdown",
   "id": "35c77a55",
   "metadata": {},
   "source": [
    "### Python - Modify Strings\n",
    "\n",
    "Python has a set of built-in methods that you can use on strings.\n",
    "\n",
    "#### Upper Case\n",
    "#### Example\n",
    "* The `upper()` method returns the string in upper case:\n",
    "* But does not change the original one."
   ]
  },
  {
   "cell_type": "code",
   "execution_count": 5,
   "id": "5cab79ca",
   "metadata": {},
   "outputs": [
    {
     "name": "stdout",
     "output_type": "stream",
     "text": [
      "HELLO, WORLD!\n",
      "Hello, World!\n"
     ]
    }
   ],
   "source": [
    "a = \"Hello, World!\"\n",
    "print(a.upper())\n",
    "print(a)"
   ]
  },
  {
   "cell_type": "code",
   "execution_count": 26,
   "id": "56e8b5ce",
   "metadata": {},
   "outputs": [],
   "source": [
    "# upper() method does not change original string return new upper case string."
   ]
  },
  {
   "cell_type": "code",
   "execution_count": 27,
   "id": "65a90863",
   "metadata": {},
   "outputs": [
    {
     "name": "stdout",
     "output_type": "stream",
     "text": [
      "HELLO WORLD\n"
     ]
    }
   ],
   "source": [
    "a = \"hello world\"\n",
    "b = a.upper()\n",
    "print(b)"
   ]
  },
  {
   "cell_type": "code",
   "execution_count": 28,
   "id": "59de61dd",
   "metadata": {},
   "outputs": [
    {
     "name": "stdout",
     "output_type": "stream",
     "text": [
      "hello world\n"
     ]
    }
   ],
   "source": [
    "print(a)"
   ]
  },
  {
   "cell_type": "markdown",
   "id": "87bf1afc",
   "metadata": {},
   "source": [
    "### Lower Case\n",
    "#### Example\n",
    "The `lower()` method returns the string in lower case:"
   ]
  },
  {
   "cell_type": "code",
   "execution_count": 8,
   "id": "0b7116c8",
   "metadata": {},
   "outputs": [
    {
     "name": "stdout",
     "output_type": "stream",
     "text": [
      "hello, world!\n"
     ]
    }
   ],
   "source": [
    "a = \"Hello, World!\"\n",
    "print(a.lower())"
   ]
  },
  {
   "cell_type": "code",
   "execution_count": 30,
   "id": "9ca7123f",
   "metadata": {},
   "outputs": [
    {
     "name": "stdout",
     "output_type": "stream",
     "text": [
      "Hello World\n",
      "hello world\n"
     ]
    }
   ],
   "source": [
    "a = \"Hello World\"\n",
    "b = a.lower()\n",
    "print(a)\n",
    "print(b)"
   ]
  },
  {
   "cell_type": "markdown",
   "id": "aa20c184",
   "metadata": {},
   "source": [
    "#### Remove Whitespace\n",
    "\n",
    "Whitespace is the space before and or after the actual text, and very often you want to remove this space.\n",
    "\n",
    "#### Example\n",
    "\n",
    "The `strip()` method removes any whitespace from the beginning or the end:"
   ]
  },
  {
   "cell_type": "code",
   "execution_count": 31,
   "id": "c47c0818",
   "metadata": {},
   "outputs": [
    {
     "name": "stdout",
     "output_type": "stream",
     "text": [
      "Hello, World!\n"
     ]
    }
   ],
   "source": [
    "a = \" Hello, World! \"\n",
    "\n",
    "print(a.strip()) # returns \"Hello, World!\""
   ]
  },
  {
   "cell_type": "code",
   "execution_count": 32,
   "id": "db07ef82",
   "metadata": {},
   "outputs": [
    {
     "name": "stdout",
     "output_type": "stream",
     "text": [
      "Hello World!\n"
     ]
    }
   ],
   "source": [
    "a = \"***Hello World!@@@@@\"\n",
    "print(a.strip(\"*@\"))"
   ]
  },
  {
   "cell_type": "code",
   "execution_count": 33,
   "id": "ac0987d6",
   "metadata": {},
   "outputs": [
    {
     "name": "stdout",
     "output_type": "stream",
     "text": [
      "***Hello World!@@@@@\n"
     ]
    }
   ],
   "source": [
    "print(a)"
   ]
  },
  {
   "cell_type": "markdown",
   "id": "9d0e589b",
   "metadata": {},
   "source": [
    "As we can see 'strip()' doen't affected original string just return a new stripped string. "
   ]
  },
  {
   "cell_type": "code",
   "execution_count": 1,
   "id": "a44c1504",
   "metadata": {},
   "outputs": [
    {
     "name": "stdout",
     "output_type": "stream",
     "text": [
      "Hello @ World!\n"
     ]
    }
   ],
   "source": [
    "a = \"***Hello @ World!@@@@@\"\n",
    "print(a.strip(\"*@\"))"
   ]
  },
  {
   "cell_type": "code",
   "execution_count": 3,
   "id": "ebc2a758",
   "metadata": {},
   "outputs": [
    {
     "name": "stdout",
     "output_type": "stream",
     "text": [
      "Hello World\n"
     ]
    }
   ],
   "source": [
    "a = \"***Hello World!@@@@@\"\n",
    "print(a.strip(\"*!@\"))"
   ]
  },
  {
   "cell_type": "markdown",
   "id": "b08a1352",
   "metadata": {},
   "source": [
    "#### Replace String\n",
    "\n",
    "#### Example\n",
    "The `replace()` method replaces a string with another string:"
   ]
  },
  {
   "cell_type": "code",
   "execution_count": 4,
   "id": "ef2465ac",
   "metadata": {},
   "outputs": [
    {
     "name": "stdout",
     "output_type": "stream",
     "text": [
      "Jello, World!\n"
     ]
    }
   ],
   "source": [
    "a = \"Hello, World!\"\n",
    "\n",
    "print(a.replace(\"H\", \"J\"))"
   ]
  },
  {
   "cell_type": "code",
   "execution_count": 5,
   "id": "068310a3",
   "metadata": {},
   "outputs": [
    {
     "name": "stdout",
     "output_type": "stream",
     "text": [
      "k$$$$$\n"
     ]
    }
   ],
   "source": [
    "a = \"Kartik\"   # we want this name as 'k$$$$$'\n",
    "\n",
    "print(a.replace(\"Kartik\", \"k$$$$$\"))"
   ]
  },
  {
   "cell_type": "code",
   "execution_count": 6,
   "id": "6a95fd95",
   "metadata": {},
   "outputs": [
    {
     "name": "stdout",
     "output_type": "stream",
     "text": [
      "checking replace on brd and rd\n"
     ]
    }
   ],
   "source": [
    "a = \"checking replace on broad and road\"\n",
    "print(a.replace(\"road\", \"rd\"))"
   ]
  },
  {
   "cell_type": "markdown",
   "id": "cd3b6271",
   "metadata": {},
   "source": [
    "As we can see that replace method got confused here with `'broad'` and `'road'` because `'road'` is within `'broad'` that is why it replace the 'road' inside 'broad' as well so to avoid this `'Regular Expression'` is uses to accurate execution."
   ]
  },
  {
   "cell_type": "code",
   "execution_count": 1,
   "id": "3e335aed",
   "metadata": {},
   "outputs": [
    {
     "data": {
      "text/plain": [
       "'checking replace on broad and rd'"
      ]
     },
     "execution_count": 1,
     "metadata": {},
     "output_type": "execute_result"
    }
   ],
   "source": [
    "import re\n",
    "a = \"checking replace on broad and road\"\n",
    "re.sub(r\"\\broad\", 'rd', a)"
   ]
  },
  {
   "cell_type": "markdown",
   "id": "60a661a3",
   "metadata": {},
   "source": [
    "#### Split String\n",
    "\n",
    "* The `split()` method returns a list where the text between the specified separator becomes the list items.\n",
    "\n",
    "* And space \" \" is default separator in split function.\n",
    "\n",
    "#### Example\n",
    "\n",
    "The `split()` method splits the string into substrings if it finds instances of the separator:"
   ]
  },
  {
   "cell_type": "code",
   "execution_count": 7,
   "id": "99ff85bd",
   "metadata": {},
   "outputs": [
    {
     "name": "stdout",
     "output_type": "stream",
     "text": [
      "['Hello', ' World!']\n"
     ]
    }
   ],
   "source": [
    "a = \"Hello, World!\"\n",
    "print(a.split(\",\")) # returns ['Hello', ' World!']"
   ]
  },
  {
   "cell_type": "code",
   "execution_count": 8,
   "id": "ae11ef31",
   "metadata": {},
   "outputs": [
    {
     "name": "stdout",
     "output_type": "stream",
     "text": [
      "Hello, World!\n"
     ]
    }
   ],
   "source": [
    "print(a)  # means split function doesn't change the original string just temporary split string"
   ]
  },
  {
   "cell_type": "code",
   "execution_count": 11,
   "id": "6acdea46",
   "metadata": {},
   "outputs": [
    {
     "name": "stdout",
     "output_type": "stream",
     "text": [
      "['welcome', 'to', 'the', 'Python', 'wolrd!']\n"
     ]
    }
   ],
   "source": [
    "a = \"welcome to the Python   wolrd!\"\n",
    "print(a.split())\n",
    "# As we can see that Default separator is \"whitespace \" no matter how many separator "
   ]
  },
  {
   "cell_type": "code",
   "execution_count": 12,
   "id": "b52b25a7",
   "metadata": {},
   "outputs": [
    {
     "name": "stdout",
     "output_type": "stream",
     "text": [
      "['welcome', 'to', 'the', 'Python', 'wolrd!']\n"
     ]
    }
   ],
   "source": [
    "a = \"welcome to the Python               wolrd!\"\n",
    "print(a.split())"
   ]
  },
  {
   "cell_type": "markdown",
   "id": "653ef690",
   "metadata": {},
   "source": [
    "### Python - String Concatenation\n",
    "\n",
    "To concatenate, or combine, two strings you can use the + operator.\n",
    "\n",
    "#### Example\n",
    "Merge variable `a` with variable `b` into variable `c`:"
   ]
  },
  {
   "cell_type": "code",
   "execution_count": 19,
   "id": "edc1aef6",
   "metadata": {},
   "outputs": [
    {
     "name": "stdout",
     "output_type": "stream",
     "text": [
      "HelloWorld\n"
     ]
    }
   ],
   "source": [
    "a = \"Hello\"\n",
    "b = \"World\"\n",
    "c = a + b\n",
    "\n",
    "print(c)"
   ]
  },
  {
   "cell_type": "code",
   "execution_count": 20,
   "id": "2260e298",
   "metadata": {},
   "outputs": [
    {
     "name": "stdout",
     "output_type": "stream",
     "text": [
      "Hello world\n"
     ]
    }
   ],
   "source": [
    "# To add a space between them, add a \" \":\n",
    "\n",
    "a = \"Hello\"\n",
    "b = \"world\"\n",
    "c = a + \" \" + b\n",
    "print(c)"
   ]
  },
  {
   "cell_type": "code",
   "execution_count": 21,
   "id": "955ca6f8",
   "metadata": {},
   "outputs": [
    {
     "name": "stdout",
     "output_type": "stream",
     "text": [
      "Hello World\n"
     ]
    }
   ],
   "source": [
    "a = \"Hello \"\n",
    "b = \"World\"\n",
    "print(a + b)"
   ]
  },
  {
   "cell_type": "markdown",
   "id": "74af277b",
   "metadata": {},
   "source": [
    "#### String Format\n",
    "As we learned in the Python Variables chapter, we cannot combine strings and numbers like this:\n",
    "\n",
    "#### Example"
   ]
  },
  {
   "cell_type": "code",
   "execution_count": 22,
   "id": "5d910daf",
   "metadata": {},
   "outputs": [
    {
     "ename": "TypeError",
     "evalue": "can only concatenate str (not \"int\") to str",
     "output_type": "error",
     "traceback": [
      "\u001b[1;31m---------------------------------------------------------------------------\u001b[0m",
      "\u001b[1;31mTypeError\u001b[0m                                 Traceback (most recent call last)",
      "Input \u001b[1;32mIn [22]\u001b[0m, in \u001b[0;36m<cell line: 3>\u001b[1;34m()\u001b[0m\n\u001b[0;32m      1\u001b[0m age \u001b[38;5;241m=\u001b[39m \u001b[38;5;241m36\u001b[39m\n\u001b[1;32m----> 3\u001b[0m txt \u001b[38;5;241m=\u001b[39m \u001b[38;5;124;43m\"\u001b[39;49m\u001b[38;5;124;43mMy nam is John, I am \u001b[39;49m\u001b[38;5;124;43m\"\u001b[39;49m\u001b[43m \u001b[49m\u001b[38;5;241;43m+\u001b[39;49m\u001b[43m \u001b[49m\u001b[43mage\u001b[49m\n\u001b[0;32m      5\u001b[0m \u001b[38;5;28mprint\u001b[39m(txt)\n",
      "\u001b[1;31mTypeError\u001b[0m: can only concatenate str (not \"int\") to str"
     ]
    }
   ],
   "source": [
    "age = 36\n",
    "\n",
    "txt = \"My nam is John, I am \" + age\n",
    "\n",
    "print(txt)\n",
    "\n",
    "## normally we can't add str and numbers "
   ]
  },
  {
   "cell_type": "markdown",
   "id": "dc8ab3ee",
   "metadata": {},
   "source": [
    "But we can combine strings and numbers by using the `format()` method!\n",
    "\n",
    "The `format()` method takes the passed arguments, formats them, and places them in the string where the placeholders `{}` are:\n",
    "\n",
    "#### Example\n",
    "Use the `format()` method to insert numbers into strings:"
   ]
  },
  {
   "cell_type": "code",
   "execution_count": 23,
   "id": "4dd9d30b",
   "metadata": {},
   "outputs": [
    {
     "name": "stdout",
     "output_type": "stream",
     "text": [
      "My name is John, and I am 36\n"
     ]
    }
   ],
   "source": [
    "age = 36\n",
    "txt = \"My name is John, and I am {}\"\n",
    "print(txt.format(age))"
   ]
  },
  {
   "cell_type": "markdown",
   "id": "71a01acb",
   "metadata": {},
   "source": [
    "The `format()` method takes unlimited number of arguments, and are placed into the respective placeholders:\n",
    "\n",
    "Example"
   ]
  },
  {
   "cell_type": "code",
   "execution_count": 13,
   "id": "25a16d8c",
   "metadata": {},
   "outputs": [
    {
     "name": "stdout",
     "output_type": "stream",
     "text": [
      "I want 3 piece of item 567 for 49.95 dollar\n"
     ]
    }
   ],
   "source": [
    "quantity = 3\n",
    "\n",
    "itemno = 567\n",
    "\n",
    "price = 49.95\n",
    "\n",
    "myorder = \"I want {} piece of item {} for {} dollar\"\n",
    "print(myorder.format(quantity, itemno, price))"
   ]
  },
  {
   "cell_type": "markdown",
   "id": "d26b8b89",
   "metadata": {},
   "source": [
    "You can use index numbers {0} to be sure the arguments are placed in the correct placeholders:"
   ]
  },
  {
   "cell_type": "code",
   "execution_count": 14,
   "id": "c7c0b7c6",
   "metadata": {},
   "outputs": [
    {
     "name": "stdout",
     "output_type": "stream",
     "text": [
      "I want to pay 49.95 dollars for 3 piece of item 567\n"
     ]
    }
   ],
   "source": [
    "quantity = 3\n",
    "\n",
    "itemno = 567\n",
    "\n",
    "price = 49.95\n",
    "\n",
    "myorder = \"I want to pay {2} dollars for {0} piece of item {1}\"\n",
    "print(myorder.format(quantity, itemno, price))\n",
    "\n",
    "      "
   ]
  },
  {
   "cell_type": "markdown",
   "id": "a327cbd8",
   "metadata": {},
   "source": [
    "#### Escape Character\n",
    "\n",
    "To insert characters that are illegal in a string, use an escape character.\n",
    "\n",
    "An escape character is a backslash `\\ `followed by the character you want to insert.\n",
    "\n",
    "An example of an illegal character is a double quote inside a string that is surrounded by double quotes:\n",
    "\n",
    "#### Example\n",
    "You will get an error if you use double quotes inside a string that is surrounded by double quotes:"
   ]
  },
  {
   "cell_type": "code",
   "execution_count": 15,
   "id": "c04bbadb",
   "metadata": {},
   "outputs": [
    {
     "ename": "SyntaxError",
     "evalue": "invalid syntax (1935141753.py, line 1)",
     "output_type": "error",
     "traceback": [
      "\u001b[1;36m  Input \u001b[1;32mIn [15]\u001b[1;36m\u001b[0m\n\u001b[1;33m    txt = \"We are the so-called \" Vikings\" from the north\"\u001b[0m\n\u001b[1;37m                                  ^\u001b[0m\n\u001b[1;31mSyntaxError\u001b[0m\u001b[1;31m:\u001b[0m invalid syntax\n"
     ]
    }
   ],
   "source": [
    "txt = \"We are the so-called \" Vikings\" from the north\"\n",
    "print(txt)"
   ]
  },
  {
   "cell_type": "markdown",
   "id": "6aaa3797",
   "metadata": {},
   "source": [
    "To fix this problem, use the escape character` \\`:\n",
    "\n",
    "The escape character allows you to use double quotes when you normally would not be allowed:"
   ]
  },
  {
   "cell_type": "code",
   "execution_count": 16,
   "id": "22196573",
   "metadata": {},
   "outputs": [
    {
     "name": "stdout",
     "output_type": "stream",
     "text": [
      "We are the so-called \"Vikings\" from the north\n"
     ]
    }
   ],
   "source": [
    "txt = \"We are the so-called \\\"Vikings\\\" from the north\"\n",
    "print(txt)"
   ]
  },
  {
   "cell_type": "code",
   "execution_count": 17,
   "id": "f63e20da",
   "metadata": {},
   "outputs": [
    {
     "name": "stdout",
     "output_type": "stream",
     "text": [
      "Hello \"Python\" wrold!\n"
     ]
    }
   ],
   "source": [
    "print(\"Hello \\\"Python\\\" wrold!\")"
   ]
  },
  {
   "cell_type": "code",
   "execution_count": 18,
   "id": "bfc2964f",
   "metadata": {},
   "outputs": [
    {
     "name": "stdout",
     "output_type": "stream",
     "text": [
      "It's alright.\n"
     ]
    }
   ],
   "source": [
    "# Single Quote \\'\n",
    "\n",
    "txt = 'It\\'s alright.'\n",
    "print(txt)"
   ]
  },
  {
   "cell_type": "code",
   "execution_count": 19,
   "id": "7aa323f9",
   "metadata": {},
   "outputs": [
    {
     "name": "stdout",
     "output_type": "stream",
     "text": [
      "It's my Passion for Python\n"
     ]
    }
   ],
   "source": [
    "print('It\\'s my Passion for Python')"
   ]
  },
  {
   "cell_type": "code",
   "execution_count": 20,
   "id": "95e03b85",
   "metadata": {},
   "outputs": [
    {
     "name": "stdout",
     "output_type": "stream",
     "text": [
      "Hello \"Ankit\", How are you doing?\n",
      "Hope you are doing good\n"
     ]
    }
   ],
   "source": [
    "print(\"Hello \\\"Ankit\\\", How are you doing?\\nHope you are doing good\")"
   ]
  },
  {
   "cell_type": "code",
   "execution_count": 21,
   "id": "3a748aaf",
   "metadata": {},
   "outputs": [
    {
     "name": "stdout",
     "output_type": "stream",
     "text": [
      "Hello,\n"
     ]
    }
   ],
   "source": [
    "print(\"Hello,\")"
   ]
  },
  {
   "cell_type": "code",
   "execution_count": 22,
   "id": "872a1531",
   "metadata": {},
   "outputs": [
    {
     "name": "stdout",
     "output_type": "stream",
     "text": [
      "This will insert one \\ (bcakslash).\n"
     ]
    }
   ],
   "source": [
    "# Backslash \\\n",
    "\n",
    "txt = \"This will insert one \\\\ (bcakslash).\"\n",
    "\n",
    "print(txt)"
   ]
  },
  {
   "cell_type": "code",
   "execution_count": 23,
   "id": "73488287",
   "metadata": {},
   "outputs": [
    {
     "name": "stdout",
     "output_type": "stream",
     "text": [
      "Hello\n",
      "World!\n"
     ]
    }
   ],
   "source": [
    "# New Line \\n\n",
    "print(\"Hello\\nWorld!\")"
   ]
  },
  {
   "cell_type": "code",
   "execution_count": 24,
   "id": "aa2bc2a9",
   "metadata": {},
   "outputs": [
    {
     "name": "stdout",
     "output_type": "stream",
     "text": [
      "Hello\n",
      "\tWorld!\n"
     ]
    }
   ],
   "source": [
    "txt = \"Hello\\n\\tWorld!\"\n",
    "print(txt)"
   ]
  },
  {
   "cell_type": "code",
   "execution_count": 25,
   "id": "6021d044",
   "metadata": {},
   "outputs": [
    {
     "name": "stdout",
     "output_type": "stream",
     "text": [
      "Hello\r",
      "World!\n"
     ]
    }
   ],
   "source": [
    "# Carriage Return \\r\n",
    "\n",
    "txt = \"Hello\\rWorld!\"\n",
    "print(txt)"
   ]
  },
  {
   "cell_type": "code",
   "execution_count": 26,
   "id": "9984c7ca",
   "metadata": {},
   "outputs": [
    {
     "name": "stdout",
     "output_type": "stream",
     "text": [
      "this is a \r",
      "Carriage Return\n"
     ]
    }
   ],
   "source": [
    "print(\"this is a \\rCarriage Return\")\n"
   ]
  },
  {
   "cell_type": "code",
   "execution_count": 27,
   "id": "54308bc1",
   "metadata": {},
   "outputs": [
    {
     "name": "stdout",
     "output_type": "stream",
     "text": [
      "This is a test\r\n"
     ]
    }
   ],
   "source": [
    "print(\"This is a test\", end = \"\\r\\n\")"
   ]
  },
  {
   "cell_type": "code",
   "execution_count": 28,
   "id": "832506a0",
   "metadata": {},
   "outputs": [
    {
     "name": "stdout",
     "output_type": "stream",
     "text": [
      "Hello\tWorld!\n"
     ]
    }
   ],
   "source": [
    "# Tab \\t\n",
    "\n",
    "print(\"Hello\\tWorld!\")"
   ]
  },
  {
   "cell_type": "code",
   "execution_count": 29,
   "id": "f7bc5098",
   "metadata": {},
   "outputs": [
    {
     "name": "stdout",
     "output_type": "stream",
     "text": [
      "Hello\f",
      "World!\n"
     ]
    }
   ],
   "source": [
    "# Form feed \\f\n",
    "print(\"Hello\\fWorld!\")"
   ]
  },
  {
   "cell_type": "code",
   "execution_count": 30,
   "id": "b2b38e7f",
   "metadata": {},
   "outputs": [
    {
     "name": "stdout",
     "output_type": "stream",
     "text": [
      "Hello   \f",
      "World!\n"
     ]
    }
   ],
   "source": [
    "# Form feed \\f\n",
    "print(\"Hello   \\fWorld!\")"
   ]
  },
  {
   "cell_type": "code",
   "execution_count": 31,
   "id": "9e2bbbd2",
   "metadata": {},
   "outputs": [
    {
     "name": "stdout",
     "output_type": "stream",
     "text": [
      "Hello\n"
     ]
    }
   ],
   "source": [
    "# Octal Value \n",
    "#A backslash followed by three integers will result in a octal value:\n",
    "txt = \"\\110\\145\\154\\154\\157\"\n",
    "print(txt) \n"
   ]
  },
  {
   "cell_type": "code",
   "execution_count": 32,
   "id": "3c277888",
   "metadata": {},
   "outputs": [
    {
     "name": "stdout",
     "output_type": "stream",
     "text": [
      "Hello\n"
     ]
    }
   ],
   "source": [
    "# Hex Value\n",
    "#A backslash followed by an 'x' and a hex number represents a hex value:\n",
    "txt = \"\\x48\\x65\\x6c\\x6c\\x6f\"\n",
    "print(txt) \n"
   ]
  },
  {
   "cell_type": "markdown",
   "id": "c2f08912",
   "metadata": {},
   "source": [
    "#### String Methods\n",
    "Python has a set of built-in methods that you can use on strings.\n",
    "\n",
    "`Note:` All string methods returns new values. They do not change the original string."
   ]
  },
  {
   "cell_type": "markdown",
   "id": "8c7a3aad",
   "metadata": {},
   "source": [
    "#### Python String capitalize() Method\n",
    "\n",
    "* The `capitalize()` method returns a string where the first character is upper case, and the rest is lower case.\n",
    "\n",
    "* And does not change original string."
   ]
  },
  {
   "cell_type": "code",
   "execution_count": 33,
   "id": "4b2b1244",
   "metadata": {},
   "outputs": [
    {
     "name": "stdout",
     "output_type": "stream",
     "text": [
      "Hello, and welcome to my world.\n",
      "hello, and welcome to my world.\n"
     ]
    }
   ],
   "source": [
    "txt = \"hello, and welcome to my world.\"\n",
    "x = txt.capitalize()\n",
    "print(x)\n",
    "print(txt)"
   ]
  },
  {
   "cell_type": "code",
   "execution_count": 34,
   "id": "fd32562d",
   "metadata": {},
   "outputs": [
    {
     "name": "stdout",
     "output_type": "stream",
     "text": [
      "Python is fun!\n"
     ]
    }
   ],
   "source": [
    "txt = \"python is Fun!\"\n",
    "x = txt.capitalize()\n",
    "print(x)"
   ]
  },
  {
   "cell_type": "markdown",
   "id": "363f8f67",
   "metadata": {},
   "source": [
    "Look how other Upper case has been converted into lover case except First letter"
   ]
  },
  {
   "cell_type": "code",
   "execution_count": 35,
   "id": "a0d3dba9",
   "metadata": {},
   "outputs": [
    {
     "name": "stdout",
     "output_type": "stream",
     "text": [
      "36 is my age.\n"
     ]
    }
   ],
   "source": [
    "# See what happens if the first character is a number:\n",
    "\n",
    "x = \"36 is my age.\"\n",
    "\n",
    "print(x.capitalize())"
   ]
  },
  {
   "cell_type": "markdown",
   "id": "3022e902",
   "metadata": {},
   "source": [
    "As we can see if first word will be number then nothing will be change in a letter just after the number"
   ]
  },
  {
   "cell_type": "markdown",
   "id": "d0a8897b",
   "metadata": {},
   "source": [
    "#### Python String casefold() Method\n"
   ]
  },
  {
   "cell_type": "code",
   "execution_count": 36,
   "id": "b16fd334",
   "metadata": {},
   "outputs": [
    {
     "name": "stdout",
     "output_type": "stream",
     "text": [
      "hello, and welcome to my world!\n"
     ]
    }
   ],
   "source": [
    "# Make the string lower case:\n",
    "txt = \"Hello, And Welcome To My World!\"\n",
    "x = txt.casefold()\n",
    "print(x)"
   ]
  },
  {
   "cell_type": "markdown",
   "id": "c9d854eb",
   "metadata": {},
   "source": [
    "#### Definition and Usage\n",
    "The `casefold()` method returns a string where all the characters are lower case.\n",
    "\n",
    "This method is similar to the `lower()` method, but the `casefold()` method is stronger, more aggressive, meaning that it will convert more characters into lower case, and will find more matches when comparing two strings and both are converted using the `casefold()` method.\n",
    "\n"
   ]
  },
  {
   "cell_type": "markdown",
   "id": "82fbcf92",
   "metadata": {},
   "source": [
    "**In Next Jupyter file we will discuss it**"
   ]
  }
 ],
 "metadata": {
  "kernelspec": {
   "display_name": "Python 3 (ipykernel)",
   "language": "python",
   "name": "python3"
  },
  "language_info": {
   "codemirror_mode": {
    "name": "ipython",
    "version": 3
   },
   "file_extension": ".py",
   "mimetype": "text/x-python",
   "name": "python",
   "nbconvert_exporter": "python",
   "pygments_lexer": "ipython3",
   "version": "3.9.7"
  }
 },
 "nbformat": 4,
 "nbformat_minor": 5
}

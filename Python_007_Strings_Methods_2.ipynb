{
 "cells": [
  {
   "cell_type": "markdown",
   "id": "896e2d5c",
   "metadata": {},
   "source": [
    "#### format_map()\t\n",
    "\n",
    "Formats specified values in a string"
   ]
  },
  {
   "cell_type": "markdown",
   "id": "7adcd449",
   "metadata": {},
   "source": [
    "### String Index()\n",
    "\n",
    "`Definition and Usage`\n",
    "The index() method finds the first occurrence of the specified value.\n",
    "\n",
    "* `The index()` method raises an exception if the value is not found.\n",
    "\n",
    "* `The index()` method is almost the same as the `find()` method, the only difference is that the `find()` method returns` -1` if the value is not found. (See example below)\n",
    "\n",
    "`Syntax`\n",
    "\n",
    "\n",
    "`string.index(value, start, end)`\n",
    "\n"
   ]
  },
  {
   "cell_type": "code",
   "execution_count": 2,
   "id": "c9952708",
   "metadata": {},
   "outputs": [
    {
     "name": "stdout",
     "output_type": "stream",
     "text": [
      "1\n"
     ]
    }
   ],
   "source": [
    "txt = \"Hello, welcome to my world.\"\n",
    "\n",
    "x = txt.index(\"e\")\n",
    "\n",
    "print(x)"
   ]
  },
  {
   "cell_type": "code",
   "execution_count": 3,
   "id": "28d4a039",
   "metadata": {},
   "outputs": [
    {
     "name": "stdout",
     "output_type": "stream",
     "text": [
      "15\n"
     ]
    }
   ],
   "source": [
    "print(txt.index(\"to\"))"
   ]
  },
  {
   "cell_type": "code",
   "execution_count": 4,
   "id": "e6cd7194",
   "metadata": {},
   "outputs": [
    {
     "name": "stdout",
     "output_type": "stream",
     "text": [
      "8\n"
     ]
    }
   ],
   "source": [
    "txt = \"Hello, welcome to my world.\"\n",
    "\n",
    "x = txt.index(\"e\", 5, 10)\n",
    "\n",
    "print(x)"
   ]
  },
  {
   "cell_type": "code",
   "execution_count": 5,
   "id": "dca2af03",
   "metadata": {},
   "outputs": [
    {
     "name": "stdout",
     "output_type": "stream",
     "text": [
      "-1\n"
     ]
    },
    {
     "ename": "ValueError",
     "evalue": "substring not found",
     "output_type": "error",
     "traceback": [
      "\u001b[1;31m---------------------------------------------------------------------------\u001b[0m",
      "\u001b[1;31mValueError\u001b[0m                                Traceback (most recent call last)",
      "Input \u001b[1;32mIn [5]\u001b[0m, in \u001b[0;36m<cell line: 4>\u001b[1;34m()\u001b[0m\n\u001b[0;32m      1\u001b[0m txt \u001b[38;5;241m=\u001b[39m \u001b[38;5;124m\"\u001b[39m\u001b[38;5;124mHello, welcome to my world.\u001b[39m\u001b[38;5;124m\"\u001b[39m\n\u001b[0;32m      3\u001b[0m \u001b[38;5;28mprint\u001b[39m(txt\u001b[38;5;241m.\u001b[39mfind(\u001b[38;5;124m\"\u001b[39m\u001b[38;5;124mq\u001b[39m\u001b[38;5;124m\"\u001b[39m))\n\u001b[1;32m----> 4\u001b[0m \u001b[38;5;28mprint\u001b[39m(\u001b[43mtxt\u001b[49m\u001b[38;5;241;43m.\u001b[39;49m\u001b[43mindex\u001b[49m\u001b[43m(\u001b[49m\u001b[38;5;124;43m\"\u001b[39;49m\u001b[38;5;124;43mq\u001b[39;49m\u001b[38;5;124;43m\"\u001b[39;49m\u001b[43m)\u001b[49m)\n",
      "\u001b[1;31mValueError\u001b[0m: substring not found"
     ]
    }
   ],
   "source": [
    "txt = \"Hello, welcome to my world.\"\n",
    "\n",
    "print(txt.find(\"q\"))\n",
    "print(txt.index(\"q\"))\n",
    "\n",
    "## here we can see that find method return \n",
    "# -1 while .index() gave error when index\n",
    "# not found"
   ]
  },
  {
   "cell_type": "markdown",
   "id": "b98c10cb",
   "metadata": {},
   "source": [
    "#### isalnum()\n",
    "\n",
    "Definition and Usage\n",
    "The `isalnum()` method returns True if all the characters are alphanumeric, meaning alphabet letter (a-z) and numbers (0-9).\n",
    "\n",
    "Example of characters that are not alphanumeric: (space)!#%&? etc."
   ]
  },
  {
   "cell_type": "code",
   "execution_count": 6,
   "id": "8b520779",
   "metadata": {},
   "outputs": [
    {
     "name": "stdout",
     "output_type": "stream",
     "text": [
      "True\n"
     ]
    }
   ],
   "source": [
    "\n",
    "txt = \"Company12\"\n",
    "\n",
    "x = txt.isalnum()\n",
    "\n",
    "print(x)"
   ]
  },
  {
   "cell_type": "code",
   "execution_count": 7,
   "id": "fd3a45ba",
   "metadata": {},
   "outputs": [
    {
     "name": "stdout",
     "output_type": "stream",
     "text": [
      "False\n"
     ]
    }
   ],
   "source": [
    "txt  = \"company 12\"\n",
    "\n",
    "x = txt.isalnum()\n",
    "print(x)"
   ]
  },
  {
   "cell_type": "code",
   "execution_count": 8,
   "id": "bee559a9",
   "metadata": {},
   "outputs": [
    {
     "name": "stdout",
     "output_type": "stream",
     "text": [
      "False\n"
     ]
    }
   ],
   "source": [
    "txt  = \"company_12\"\n",
    "\n",
    "x = txt.isalnum()\n",
    "print(x)"
   ]
  },
  {
   "cell_type": "markdown",
   "id": "d5dc6ef1",
   "metadata": {},
   "source": [
    "#### isalpha()\n",
    "\n",
    "`Definition and Usage`\n",
    "The `isalpha()` method returns True if all the characters are alphabet letters (a-z).\n",
    "\n",
    "Example of characters that are not alphabet letters: (space)!#%&? etc.\n",
    "\n",
    "`Syntax`\n",
    "\n",
    "`string.isalpha()`"
   ]
  },
  {
   "cell_type": "code",
   "execution_count": 9,
   "id": "5f82e653",
   "metadata": {},
   "outputs": [
    {
     "name": "stdout",
     "output_type": "stream",
     "text": [
      "True\n"
     ]
    }
   ],
   "source": [
    "txt = \"CompanyX\"\n",
    "\n",
    "x = txt.isalpha()\n",
    "\n",
    "print(x)"
   ]
  },
  {
   "cell_type": "code",
   "execution_count": 10,
   "id": "133d8b89",
   "metadata": {},
   "outputs": [
    {
     "name": "stdout",
     "output_type": "stream",
     "text": [
      "False\n"
     ]
    }
   ],
   "source": [
    "# even '_' will also not come into the alphabet , sometime we can get confuse that '_' uses in identifier\n",
    "\n",
    "txt = \"Company_X\"\n",
    "\n",
    "x = txt.isalpha()\n",
    "\n",
    "print(x)"
   ]
  },
  {
   "cell_type": "code",
   "execution_count": 11,
   "id": "36aa1b7e",
   "metadata": {},
   "outputs": [
    {
     "name": "stdout",
     "output_type": "stream",
     "text": [
      "False\n"
     ]
    }
   ],
   "source": [
    "txt = \"Company10\"\n",
    "\n",
    "x = txt.isalpha()\n",
    "\n",
    "print(x)"
   ]
  },
  {
   "cell_type": "markdown",
   "id": "0328048c",
   "metadata": {},
   "source": [
    "means only alpha will return true"
   ]
  },
  {
   "cell_type": "markdown",
   "id": "47bdf381",
   "metadata": {},
   "source": [
    "#### isascii()\n",
    "\n",
    "`Definition and Usage`\n",
    "\n",
    "The `isascii()` method returns True if all the characters are ascii characters  (a-z).\n",
    "\n",
    "ASCII is a 7-bit character set containing 128 characters. It contains the numbers from 0-9, the upper and lower case English letters from A to Z, and some special characters. The character sets used in modern computers, in HTML, and on the Internet, are all based on ASCII."
   ]
  },
  {
   "cell_type": "code",
   "execution_count": 1,
   "id": "42c1ab51",
   "metadata": {},
   "outputs": [
    {
     "name": "stdout",
     "output_type": "stream",
     "text": [
      "True\n"
     ]
    }
   ],
   "source": [
    "txt = \"Company123\"\n",
    "\n",
    "x = txt.isascii()\n",
    "\n",
    "print(x)"
   ]
  },
  {
   "cell_type": "code",
   "execution_count": 2,
   "id": "0fe952bf",
   "metadata": {},
   "outputs": [
    {
     "name": "stdout",
     "output_type": "stream",
     "text": [
      "True\n"
     ]
    }
   ],
   "source": [
    "print(\"Hello123\".isascii())"
   ]
  },
  {
   "cell_type": "code",
   "execution_count": 3,
   "id": "7b3d81a7",
   "metadata": {},
   "outputs": [
    {
     "name": "stdout",
     "output_type": "stream",
     "text": [
      "True\n"
     ]
    }
   ],
   "source": [
    "print(\"hakshl@12\".isascii())"
   ]
  },
  {
   "cell_type": "code",
   "execution_count": 4,
   "id": "8bb2df98",
   "metadata": {},
   "outputs": [
    {
     "name": "stdout",
     "output_type": "stream",
     "text": [
      "True\n"
     ]
    }
   ],
   "source": [
    "print(\"hakshl%12\".isascii())"
   ]
  },
  {
   "cell_type": "markdown",
   "id": "a66643aa",
   "metadata": {},
   "source": [
    "#### isdecimal()\n",
    "\n",
    "note - This method is uses on unicode objects.\n",
    "\n",
    "The `isdecimal()` method returns True if all the characters are decimals (0-9).\n",
    "\n",
    "This method is used on unicode objects.\n",
    "\n",
    "`Syntax`\n",
    "string.isdecimal()\n"
   ]
  },
  {
   "cell_type": "code",
   "execution_count": 16,
   "id": "93380c02",
   "metadata": {},
   "outputs": [
    {
     "name": "stdout",
     "output_type": "stream",
     "text": [
      "True\n"
     ]
    }
   ],
   "source": [
    "txt = \"\\u0033\" #unicode for 3\n",
    "\n",
    "x = txt.isdecimal()\n",
    "\n",
    "print(x)"
   ]
  },
  {
   "cell_type": "code",
   "execution_count": 17,
   "id": "28f00524",
   "metadata": {},
   "outputs": [
    {
     "name": "stdout",
     "output_type": "stream",
     "text": [
      "True\n",
      "False\n"
     ]
    }
   ],
   "source": [
    "a = \"\\u0030\" #unicode for 0\n",
    "b = \"\\u0047\" #unicode for G\n",
    "\n",
    "print(a.isdecimal())\n",
    "print(b.isdecimal())"
   ]
  },
  {
   "cell_type": "markdown",
   "id": "e9e81a73",
   "metadata": {},
   "source": [
    "`This method is used on unicode objects.`\n",
    "\n"
   ]
  },
  {
   "cell_type": "code",
   "execution_count": 18,
   "id": "b15d0cd5",
   "metadata": {},
   "outputs": [
    {
     "ename": "AttributeError",
     "evalue": "'float' object has no attribute 'isdecimal'",
     "output_type": "error",
     "traceback": [
      "\u001b[1;31m---------------------------------------------------------------------------\u001b[0m",
      "\u001b[1;31mAttributeError\u001b[0m                            Traceback (most recent call last)",
      "Input \u001b[1;32mIn [18]\u001b[0m, in \u001b[0;36m<cell line: 3>\u001b[1;34m()\u001b[0m\n\u001b[0;32m      1\u001b[0m a \u001b[38;5;241m=\u001b[39m \u001b[38;5;241m10.2\u001b[39m\n\u001b[1;32m----> 3\u001b[0m \u001b[38;5;28mprint\u001b[39m(\u001b[43ma\u001b[49m\u001b[38;5;241;43m.\u001b[39;49m\u001b[43misdecimal\u001b[49m())\n",
      "\u001b[1;31mAttributeError\u001b[0m: 'float' object has no attribute 'isdecimal'"
     ]
    }
   ],
   "source": [
    "a = 10.2\n",
    "\n",
    "print(a.isdecimal())"
   ]
  },
  {
   "cell_type": "markdown",
   "id": "853c45e0",
   "metadata": {},
   "source": [
    "#### isdigit()\n",
    "\n",
    "The isdigit() method returns True if all the characters are digits, otherwise False.\n",
    "\n",
    "Exponents, like ², are also considered to be a digit.\n",
    "\n",
    "`Syntax`\n",
    "\n",
    "string.isdigit()"
   ]
  },
  {
   "cell_type": "code",
   "execution_count": 8,
   "id": "80b7968a",
   "metadata": {},
   "outputs": [
    {
     "name": "stdout",
     "output_type": "stream",
     "text": [
      "True\n"
     ]
    }
   ],
   "source": [
    "txt = \"50800\"\n",
    "\n",
    "x = txt.isdigit()\n",
    "\n",
    "print(x)"
   ]
  },
  {
   "cell_type": "code",
   "execution_count": 9,
   "id": "bf79854d",
   "metadata": {},
   "outputs": [
    {
     "name": "stdout",
     "output_type": "stream",
     "text": [
      "True\n",
      "True\n"
     ]
    }
   ],
   "source": [
    "a = \"\\u0030\" #unicode for 0\n",
    "b = \"\\u00B2\" #unicode for ²\n",
    "\n",
    "print(a.isdigit())\n",
    "print(b.isdigit())"
   ]
  },
  {
   "cell_type": "code",
   "execution_count": 5,
   "id": "145f6f86",
   "metadata": {},
   "outputs": [
    {
     "name": "stdout",
     "output_type": "stream",
     "text": [
      "False\n"
     ]
    }
   ],
   "source": [
    "txt = \"50.23\"\n",
    "\n",
    "x = txt.isdigit()\n",
    "\n",
    "print(x)"
   ]
  },
  {
   "cell_type": "markdown",
   "id": "d854abe3",
   "metadata": {},
   "source": [
    "It resturned False because period \".\" is not a digit wether it come in float. Keep in mind when we use 'isdigit()' method."
   ]
  },
  {
   "cell_type": "markdown",
   "id": "c8bcb1ba",
   "metadata": {},
   "source": [
    "#### isidentifier()\n",
    "\n",
    "The `isidentifier()` method returns True if the string is a valid identifier, otherwise False.\n",
    "\n",
    "A string is considered a valid identifier if it only contains alphanumeric letters `(a-z)` and `(0-9)`, or underscores `(_)`. A valid identifier cannot start with a number, or contain any spaces.\n",
    "\n",
    "`Syntax`\n",
    "\n",
    "`string.isidentifier()`"
   ]
  },
  {
   "cell_type": "code",
   "execution_count": 6,
   "id": "0585c9bc",
   "metadata": {},
   "outputs": [
    {
     "name": "stdout",
     "output_type": "stream",
     "text": [
      "True\n"
     ]
    }
   ],
   "source": [
    "txt = \"HelloWorld\"\n",
    "x = txt.isidentifier()\n",
    "print(x)"
   ]
  },
  {
   "cell_type": "code",
   "execution_count": 7,
   "id": "1f747b4f",
   "metadata": {},
   "outputs": [
    {
     "name": "stdout",
     "output_type": "stream",
     "text": [
      "True\n"
     ]
    }
   ],
   "source": [
    "txt = \"Demo\"\n",
    "x = txt.isidentifier()\n",
    "print(x)"
   ]
  },
  {
   "cell_type": "code",
   "execution_count": 8,
   "id": "ee00c9b3",
   "metadata": {},
   "outputs": [
    {
     "name": "stdout",
     "output_type": "stream",
     "text": [
      "False\n"
     ]
    }
   ],
   "source": [
    "txt = \"Hello World\" # here string caontain space\n",
    "x = txt.isidentifier() # this is not a valid identifier\n",
    "\n",
    "print(x)"
   ]
  },
  {
   "cell_type": "code",
   "execution_count": 9,
   "id": "a80725af",
   "metadata": {},
   "outputs": [
    {
     "name": "stdout",
     "output_type": "stream",
     "text": [
      "True\n"
     ]
    }
   ],
   "source": [
    "print(\"Hello_world\".isidentifier())"
   ]
  },
  {
   "cell_type": "code",
   "execution_count": 10,
   "id": "557e6f86",
   "metadata": {},
   "outputs": [
    {
     "name": "stdout",
     "output_type": "stream",
     "text": [
      "False\n"
     ]
    }
   ],
   "source": [
    "print(\"Hello_World!\".isidentifier())\n",
    "\n",
    "# it will return False because '!'\n",
    "# string sholud comntain only a-z 0-9 and '_'"
   ]
  },
  {
   "cell_type": "code",
   "execution_count": 11,
   "id": "dec501df",
   "metadata": {},
   "outputs": [
    {
     "name": "stdout",
     "output_type": "stream",
     "text": [
      "True\n",
      "True\n",
      "False\n",
      "False\n"
     ]
    }
   ],
   "source": [
    "a = \"MyFolder\"\n",
    "b = \"Demo002\"\n",
    "c = \"2bring\"\n",
    "d = \"my demo\"\n",
    "\n",
    "print(a.isidentifier())\n",
    "print(b.isidentifier())\n",
    "print(c.isidentifier())\n",
    "print(d.isidentifier())"
   ]
  },
  {
   "cell_type": "markdown",
   "id": "984957ba",
   "metadata": {},
   "source": [
    "#### islower()\n",
    "\n",
    "The `islower()` method returns `True` if all the characters are in lower case, otherwise False.\n",
    "\n",
    "Numbers, symbols and spaces are not checked, only alphabet characters.\n",
    "\n",
    "`Syntax`\n",
    "\n",
    "`string.islower()`"
   ]
  },
  {
   "cell_type": "code",
   "execution_count": 12,
   "id": "2b89b3dd",
   "metadata": {},
   "outputs": [
    {
     "name": "stdout",
     "output_type": "stream",
     "text": [
      "True\n"
     ]
    }
   ],
   "source": [
    "txt = \"hello world\"\n",
    "x = txt.islower()\n",
    "print(x)"
   ]
  },
  {
   "cell_type": "code",
   "execution_count": 13,
   "id": "cf72e678",
   "metadata": {},
   "outputs": [
    {
     "name": "stdout",
     "output_type": "stream",
     "text": [
      "True\n"
     ]
    }
   ],
   "source": [
    "print(\"hello 123\".islower())"
   ]
  },
  {
   "cell_type": "code",
   "execution_count": 14,
   "id": "2aea1fab",
   "metadata": {},
   "outputs": [
    {
     "name": "stdout",
     "output_type": "stream",
     "text": [
      "False\n"
     ]
    }
   ],
   "source": [
    "print(\"Hello 123\".islower())"
   ]
  },
  {
   "cell_type": "code",
   "execution_count": 15,
   "id": "674f357a",
   "metadata": {},
   "outputs": [
    {
     "name": "stdout",
     "output_type": "stream",
     "text": [
      "False\n",
      "True\n",
      "False\n"
     ]
    }
   ],
   "source": [
    "a = \"Hello world!\"\n",
    "b = \"hello 123\"\n",
    "c = \"mynameisPeter\"\n",
    "\n",
    "print(a.islower())\n",
    "print(b.islower())\n",
    "print(c.islower())"
   ]
  },
  {
   "cell_type": "markdown",
   "id": "26ce2994",
   "metadata": {},
   "source": [
    "#### isnumeric()\n",
    "\n",
    "The `isnumeric()` method returns True if all the characters are numeric `(0-9)`, otherwise False.\n",
    "\n",
    "Exponents, like ² and ¾ are also considered to be numeric values.\n",
    "\n",
    "`\"-1\"` and `\"1.5\"` are NOT considered numeric values, because all the characters in the string must be numeric, and the `- `and the `. `are not.\n",
    "\n",
    "`Syntax`\n",
    "\n",
    "`string.isnumeric()`"
   ]
  },
  {
   "cell_type": "code",
   "execution_count": 16,
   "id": "be133c06",
   "metadata": {},
   "outputs": [
    {
     "name": "stdout",
     "output_type": "stream",
     "text": [
      "True\n"
     ]
    }
   ],
   "source": [
    "txt= \"686364\"\n",
    "x = txt.isnumeric()\n",
    "print(x)"
   ]
  },
  {
   "cell_type": "code",
   "execution_count": 17,
   "id": "b7d64b1b",
   "metadata": {},
   "outputs": [
    {
     "name": "stdout",
     "output_type": "stream",
     "text": [
      "False\n"
     ]
    }
   ],
   "source": [
    "# Note - symbols will not be counted in 'isnumeric' function \n",
    "#        even float will not counted as 'isnumeric' because it contain '.'\n",
    "\n",
    "print(\"-689689\".isnumeric()) "
   ]
  },
  {
   "cell_type": "code",
   "execution_count": 18,
   "id": "0655637d",
   "metadata": {},
   "outputs": [
    {
     "name": "stdout",
     "output_type": "stream",
     "text": [
      "True\n",
      "True\n",
      "False\n",
      "False\n",
      "False\n"
     ]
    }
   ],
   "source": [
    "a = \"\\u0030\" #unicode for 0\n",
    "b = \"\\u00B2\" #unicode for &sup2;\n",
    "c = \"10km2\"\n",
    "d = \"-1\"\n",
    "e = \"1.5\"\n",
    "\n",
    "print(a.isnumeric())\n",
    "print(b.isnumeric())\n",
    "print(c.isnumeric())\n",
    "print(d.isnumeric())\n",
    "print(e.isnumeric())"
   ]
  },
  {
   "cell_type": "markdown",
   "id": "d0a7a39d",
   "metadata": {},
   "source": [
    "#### isprintable()\n",
    "\n",
    "The `isprintable()` method returns True if all the characters are printable, otherwise False.\n",
    "\n",
    "Example of none printable character can be carriage return and line feed.\n",
    "\n",
    "`Syntax`\n",
    "\n",
    "`string.isprintable()`"
   ]
  },
  {
   "cell_type": "code",
   "execution_count": 19,
   "id": "423fb869",
   "metadata": {},
   "outputs": [
    {
     "name": "stdout",
     "output_type": "stream",
     "text": [
      "True\n"
     ]
    }
   ],
   "source": [
    "txt = \"Hello! Are You #1?\"\n",
    "x = txt.isprintable()\n",
    "print(x)"
   ]
  },
  {
   "cell_type": "code",
   "execution_count": 20,
   "id": "214be7fe",
   "metadata": {},
   "outputs": [
    {
     "name": "stdout",
     "output_type": "stream",
     "text": [
      "False\n"
     ]
    }
   ],
   "source": [
    "# here we have used new line fuction in the txt\n",
    "# whenever new line or carriage return will come it will return False\n",
    "txt = \"Hello!\\nAre you #1?\"\n",
    "\n",
    "x = txt.isprintable()\n",
    "\n",
    "print(x)"
   ]
  },
  {
   "cell_type": "code",
   "execution_count": 21,
   "id": "08ed3b88",
   "metadata": {},
   "outputs": [
    {
     "name": "stdout",
     "output_type": "stream",
     "text": [
      "False\n"
     ]
    }
   ],
   "source": [
    "print(\"Hello  \\rWorld!\".isprintable()) # whenever new line or carriage return will come it will \n",
    "                                        # return False"
   ]
  },
  {
   "cell_type": "code",
   "execution_count": 22,
   "id": "260d6b51",
   "metadata": {},
   "outputs": [
    {
     "name": "stdout",
     "output_type": "stream",
     "text": [
      "False\n"
     ]
    }
   ],
   "source": [
    "print(\"Hello \\nWorld\".isprintable())"
   ]
  },
  {
   "cell_type": "markdown",
   "id": "e314423e",
   "metadata": {},
   "source": [
    "whenever new line or carriage return will come it will return False"
   ]
  },
  {
   "cell_type": "code",
   "execution_count": 23,
   "id": "0093bf38",
   "metadata": {},
   "outputs": [
    {
     "name": "stdout",
     "output_type": "stream",
     "text": [
      "Hello!\n",
      "Are you #1?\n"
     ]
    }
   ],
   "source": [
    "print(txt)"
   ]
  },
  {
   "cell_type": "markdown",
   "id": "1ef59a5a",
   "metadata": {},
   "source": [
    "#### isspace()\n",
    "\n",
    "The `isspace()` method returns True if all the characters in a string are only whitespaces, otherwise False.\n",
    "\n",
    "`syntax:`\n",
    "\n",
    "`string.isspace()`"
   ]
  },
  {
   "cell_type": "code",
   "execution_count": 24,
   "id": "39c14e17",
   "metadata": {},
   "outputs": [
    {
     "name": "stdout",
     "output_type": "stream",
     "text": [
      "True\n"
     ]
    }
   ],
   "source": [
    "txt = \" \"\n",
    "\n",
    "x = txt.isspace()\n",
    "\n",
    "print(x)"
   ]
  },
  {
   "cell_type": "code",
   "execution_count": 25,
   "id": "165f4405",
   "metadata": {},
   "outputs": [
    {
     "name": "stdout",
     "output_type": "stream",
     "text": [
      "False\n"
     ]
    }
   ],
   "source": [
    "print(\"  s  \".isspace())"
   ]
  },
  {
   "cell_type": "code",
   "execution_count": 26,
   "id": "ab09e6dc",
   "metadata": {},
   "outputs": [
    {
     "name": "stdout",
     "output_type": "stream",
     "text": [
      "False\n"
     ]
    }
   ],
   "source": [
    "print(\"Hello World\".isspace())"
   ]
  },
  {
   "cell_type": "markdown",
   "id": "8fec961a",
   "metadata": {},
   "source": [
    "means all character in a string should be white space"
   ]
  },
  {
   "cell_type": "markdown",
   "id": "026edfc6",
   "metadata": {},
   "source": [
    "#### istitle()\n",
    "\n",
    "The `istitle()` method returns True if all words in a text start with a upper case letter, and the rest of the word are lower case letters, otherwise False.\n",
    "\n",
    "Symbols and numbers are ignored.\n",
    "\n",
    "`Syntax`\n",
    "\n",
    "`string.istitle()`"
   ]
  },
  {
   "cell_type": "code",
   "execution_count": 27,
   "id": "d6cf9fdb",
   "metadata": {},
   "outputs": [
    {
     "name": "stdout",
     "output_type": "stream",
     "text": [
      "True\n"
     ]
    }
   ],
   "source": [
    "txt = \"Hello, And Welcome To My World!\"\n",
    "\n",
    "x = txt.istitle()\n",
    "\n",
    "print(x)"
   ]
  },
  {
   "cell_type": "code",
   "execution_count": 28,
   "id": "9243cb1a",
   "metadata": {},
   "outputs": [
    {
     "name": "stdout",
     "output_type": "stream",
     "text": [
      "True\n"
     ]
    }
   ],
   "source": [
    "print(\"Hello Wolrd!\".istitle())"
   ]
  },
  {
   "cell_type": "code",
   "execution_count": 29,
   "id": "d386ac1b",
   "metadata": {},
   "outputs": [
    {
     "name": "stdout",
     "output_type": "stream",
     "text": [
      "False\n"
     ]
    }
   ],
   "source": [
    "print(\"How are you\".istitle())"
   ]
  },
  {
   "cell_type": "code",
   "execution_count": 30,
   "id": "27a3e88d",
   "metadata": {},
   "outputs": [
    {
     "name": "stdout",
     "output_type": "stream",
     "text": [
      "True\n"
     ]
    }
   ],
   "source": [
    "print(\"Hello 123!\".istitle())"
   ]
  },
  {
   "cell_type": "code",
   "execution_count": 31,
   "id": "8fa18724",
   "metadata": {},
   "outputs": [
    {
     "name": "stdout",
     "output_type": "stream",
     "text": [
      "False\n",
      "True\n",
      "True\n",
      "True\n"
     ]
    }
   ],
   "source": [
    "a = \"HELLO, AND WELCOME TO MY WORLD\"\n",
    "b = \"Hello\"\n",
    "c = \"22 Names\"\n",
    "d = \"This Is %'!?\"\n",
    "\n",
    "print(a.istitle())\n",
    "print(b.istitle())\n",
    "print(c.istitle())\n",
    "print(d.istitle())"
   ]
  },
  {
   "cell_type": "code",
   "execution_count": 32,
   "id": "62224b32",
   "metadata": {},
   "outputs": [
    {
     "name": "stdout",
     "output_type": "stream",
     "text": [
      "True\n"
     ]
    }
   ],
   "source": [
    "print(\"Hello, Wolrd\".istitle())"
   ]
  },
  {
   "cell_type": "code",
   "execution_count": 33,
   "id": "0f433776",
   "metadata": {},
   "outputs": [
    {
     "name": "stdout",
     "output_type": "stream",
     "text": [
      "False\n"
     ]
    }
   ],
   "source": [
    "print(\"HELLO WORLD\".istitle())"
   ]
  },
  {
   "cell_type": "markdown",
   "id": "8438d190",
   "metadata": {},
   "source": [
    "#### isupper()\n",
    "\n",
    "The `isupper()` method returns True if all the characters are in upper case, otherwise False.\n",
    "\n",
    "Numbers, symbols and spaces are not checked, only alphabet characters.\n",
    "\n",
    "`Syntax`\n",
    "\n",
    "`string.isupper()`"
   ]
  },
  {
   "cell_type": "code",
   "execution_count": 34,
   "id": "b7e6c2f6",
   "metadata": {},
   "outputs": [
    {
     "name": "stdout",
     "output_type": "stream",
     "text": [
      "True\n"
     ]
    }
   ],
   "source": [
    "txt = \"THIS IS NOW!\"\n",
    "x = txt.isupper()\n",
    "\n",
    "print(x)"
   ]
  },
  {
   "cell_type": "code",
   "execution_count": 35,
   "id": "2500364e",
   "metadata": {},
   "outputs": [
    {
     "name": "stdout",
     "output_type": "stream",
     "text": [
      "True\n"
     ]
    }
   ],
   "source": [
    "print(\"HELLO123!\".isupper())"
   ]
  },
  {
   "cell_type": "code",
   "execution_count": 36,
   "id": "9faacb47",
   "metadata": {},
   "outputs": [
    {
     "name": "stdout",
     "output_type": "stream",
     "text": [
      "False\n",
      "False\n",
      "True\n"
     ]
    }
   ],
   "source": [
    "a = \"Hello World!\"\n",
    "b = \"hello 123\"\n",
    "c = \"MY NAME IS PETER\"\n",
    "\n",
    "print(a.isupper())\n",
    "print(b.isupper())\n",
    "print(c.isupper())"
   ]
  },
  {
   "cell_type": "markdown",
   "id": "ea29de28",
   "metadata": {},
   "source": [
    "####  Join()\n",
    "\n",
    "The `join(`) method takes all items in an iterable and joins them into one string.\n",
    "\n",
    "A string must be specified as the separator.\n",
    "\n",
    "`Syntax`\n",
    "\n",
    "`string.join(iterable)`\n",
    "\n",
    "`Parameter`-----\t`Description`\n",
    "\n",
    "\n",
    "iterable\t------ Required. Any iterable object where all the returned values are strings\n"
   ]
  },
  {
   "cell_type": "code",
   "execution_count": 37,
   "id": "26edb981",
   "metadata": {},
   "outputs": [
    {
     "name": "stdout",
     "output_type": "stream",
     "text": [
      "John#Peter#Vicky\n"
     ]
    }
   ],
   "source": [
    "# join all item into a string, using a hassh \n",
    "# character as separaor\n",
    "\n",
    "myTuple = (\"John\", \"Peter\", \"Vicky\")\n",
    "x = \"#\".join(myTuple)\n",
    "print(x)"
   ]
  },
  {
   "cell_type": "code",
   "execution_count": 38,
   "id": "3b6b9c5b",
   "metadata": {},
   "outputs": [
    {
     "name": "stdout",
     "output_type": "stream",
     "text": [
      "nameTESTcountry\n"
     ]
    }
   ],
   "source": [
    "# Join all items in a dictionary into a \n",
    "# string, using the word \"TEST\" as separator:\n",
    "\n",
    "myDict = {\"name\":\"John\", \"country\":\"Norway\"}\n",
    "\n",
    "mySeparator = \"TEST\"\n",
    "\n",
    "x = mySeparator.join(myDict)\n",
    "print(x)"
   ]
  },
  {
   "cell_type": "code",
   "execution_count": 39,
   "id": "d10e199e",
   "metadata": {},
   "outputs": [
    {
     "name": "stdout",
     "output_type": "stream",
     "text": [
      "nameTESTcountry\n"
     ]
    }
   ],
   "source": [
    "myDict = {\"name\":\"John\", \"country\":\"Norway\"}\n",
    "\n",
    "mySeparator = \"TEST\"\n",
    "\n",
    "x = mySeparator.join(myDict.keys())\n",
    "print(x)"
   ]
  },
  {
   "cell_type": "code",
   "execution_count": 40,
   "id": "abe299fd",
   "metadata": {},
   "outputs": [
    {
     "name": "stdout",
     "output_type": "stream",
     "text": [
      "JohnTESTNorway\n"
     ]
    }
   ],
   "source": [
    "myDict = {\"name\":\"John\", \"country\":\"Norway\"}\n",
    "\n",
    "mySeparator = \"TEST\"\n",
    "\n",
    "x = mySeparator.join(myDict.values())\n",
    "print(x)"
   ]
  },
  {
   "cell_type": "code",
   "execution_count": 41,
   "id": "835de8aa",
   "metadata": {},
   "outputs": [
    {
     "ename": "TypeError",
     "evalue": "sequence item 0: expected str instance, tuple found",
     "output_type": "error",
     "traceback": [
      "\u001b[1;31m---------------------------------------------------------------------------\u001b[0m",
      "\u001b[1;31mTypeError\u001b[0m                                 Traceback (most recent call last)",
      "Input \u001b[1;32mIn [41]\u001b[0m, in \u001b[0;36m<cell line: 5>\u001b[1;34m()\u001b[0m\n\u001b[0;32m      1\u001b[0m myDict \u001b[38;5;241m=\u001b[39m {\u001b[38;5;124m\"\u001b[39m\u001b[38;5;124mname\u001b[39m\u001b[38;5;124m\"\u001b[39m:\u001b[38;5;124m\"\u001b[39m\u001b[38;5;124mJohn\u001b[39m\u001b[38;5;124m\"\u001b[39m, \u001b[38;5;124m\"\u001b[39m\u001b[38;5;124mcountry\u001b[39m\u001b[38;5;124m\"\u001b[39m:\u001b[38;5;124m\"\u001b[39m\u001b[38;5;124mNorway\u001b[39m\u001b[38;5;124m\"\u001b[39m}\n\u001b[0;32m      3\u001b[0m mySeparator \u001b[38;5;241m=\u001b[39m \u001b[38;5;124m\"\u001b[39m\u001b[38;5;124mTEST\u001b[39m\u001b[38;5;124m\"\u001b[39m\n\u001b[1;32m----> 5\u001b[0m x \u001b[38;5;241m=\u001b[39m \u001b[43mmySeparator\u001b[49m\u001b[38;5;241;43m.\u001b[39;49m\u001b[43mjoin\u001b[49m\u001b[43m(\u001b[49m\u001b[43mmyDict\u001b[49m\u001b[38;5;241;43m.\u001b[39;49m\u001b[43mitems\u001b[49m\u001b[43m(\u001b[49m\u001b[43m)\u001b[49m\u001b[43m)\u001b[49m \u001b[38;5;66;03m# it will give error because .items() returns 'tuple' of key,value\u001b[39;00m\n\u001b[0;32m      6\u001b[0m \u001b[38;5;28mprint\u001b[39m(x)\n",
      "\u001b[1;31mTypeError\u001b[0m: sequence item 0: expected str instance, tuple found"
     ]
    }
   ],
   "source": [
    "myDict = {\"name\":\"John\", \"country\":\"Norway\"}\n",
    "\n",
    "mySeparator = \"TEST\"\n",
    "\n",
    "x = mySeparator.join(myDict.items()) # it will give error because .items() returns 'tuple' of key,value\n",
    "print(x) "
   ]
  },
  {
   "cell_type": "markdown",
   "id": "51534151",
   "metadata": {},
   "source": [
    "**Note:** When using a dictionary as an iterable, the returned values are the keys, not the values."
   ]
  },
  {
   "cell_type": "code",
   "execution_count": 42,
   "id": "cc23d57a",
   "metadata": {},
   "outputs": [
    {
     "name": "stdout",
     "output_type": "stream",
     "text": [
      "Welcome_to_the_Python_World\n"
     ]
    }
   ],
   "source": [
    "myList = [\"Welcome\", \"to\", \"the\", \"Python\", \"World\"]\n",
    "\n",
    "mySeparator = \"_\"\n",
    "\n",
    "x = mySeparator.join(myList)\n",
    "print(x)"
   ]
  },
  {
   "cell_type": "code",
   "execution_count": 43,
   "id": "bd57dd5d",
   "metadata": {},
   "outputs": [
    {
     "name": "stdout",
     "output_type": "stream",
     "text": [
      "WelcometothePythonWorld\n"
     ]
    }
   ],
   "source": [
    "myList = [\"Welcome\", \"to\", \"the\", \"Python\", \"World\"]\n",
    "\n",
    "\n",
    "\n",
    "x = \"\".join(myList) # note hare we have given no space as we had given in previous some of them \n",
    "print(x)"
   ]
  },
  {
   "cell_type": "markdown",
   "id": "bde2ba94",
   "metadata": {},
   "source": [
    "#### ljust()\n",
    "\n",
    "The `ljust() `method will left align the string, using a specified character (space is default) as the fill character.\n",
    "\n",
    "`Syntax`\n",
    "\n",
    "`string.ljust(length, character)`"
   ]
  },
  {
   "cell_type": "code",
   "execution_count": 44,
   "id": "4caaff4d",
   "metadata": {},
   "outputs": [
    {
     "name": "stdout",
     "output_type": "stream",
     "text": [
      "banana               is my favorite fruit.\n"
     ]
    }
   ],
   "source": [
    "txt = \"banana\"\n",
    "\n",
    "x = txt.ljust(20)\n",
    "\n",
    "print(x, \"is my favorite fruit.\")"
   ]
  },
  {
   "cell_type": "markdown",
   "id": "1eac63e0",
   "metadata": {},
   "source": [
    "**Note:** In the result, there are actually 14 whitespaces to the right of the word banana."
   ]
  },
  {
   "cell_type": "code",
   "execution_count": 45,
   "id": "ca64a9fa",
   "metadata": {},
   "outputs": [
    {
     "name": "stdout",
     "output_type": "stream",
     "text": [
      "bananaoooooooooooooo\n"
     ]
    }
   ],
   "source": [
    "txt = \"banana\"\n",
    "\n",
    "x = txt.ljust(20, \"o\")\n",
    "\n",
    "print(x)"
   ]
  },
  {
   "cell_type": "code",
   "execution_count": 46,
   "id": "b3bf2ecf",
   "metadata": {},
   "outputs": [
    {
     "name": "stdout",
     "output_type": "stream",
     "text": [
      "banana--------------\n"
     ]
    }
   ],
   "source": [
    "txt = \"banana\"\n",
    "\n",
    "x = txt.ljust(20, \"-\")\n",
    "\n",
    "print(x)"
   ]
  },
  {
   "cell_type": "markdown",
   "id": "8d2a786e",
   "metadata": {},
   "source": [
    "#### rjust()\n",
    "\n",
    "The `rjust()` method will right align the string, using a specified character (space is default) as the fill character.\n",
    "\n",
    "`Syntax`\n",
    "\n",
    "`string.rjust(length, character)`"
   ]
  },
  {
   "cell_type": "code",
   "execution_count": 47,
   "id": "0a3cc2cc",
   "metadata": {},
   "outputs": [
    {
     "name": "stdout",
     "output_type": "stream",
     "text": [
      "hello               banana is my favorite fruit.\n"
     ]
    }
   ],
   "source": [
    "txt = \"banana\"\n",
    "\n",
    "x = txt.rjust(20)\n",
    "\n",
    "print(\"hello\",x, \"is my favorite fruit.\")"
   ]
  },
  {
   "cell_type": "code",
   "execution_count": 48,
   "id": "c4f73a31",
   "metadata": {},
   "outputs": [
    {
     "name": "stdout",
     "output_type": "stream",
     "text": [
      "OOOOOOOOOOOOOObanana\n"
     ]
    }
   ],
   "source": [
    "txt = \"banana\"\n",
    "\n",
    "x = txt.rjust(20, \"O\")\n",
    "\n",
    "print(x)"
   ]
  },
  {
   "cell_type": "code",
   "execution_count": 49,
   "id": "ecb74b1b",
   "metadata": {},
   "outputs": [
    {
     "name": "stdout",
     "output_type": "stream",
     "text": [
      "--------------banana\n"
     ]
    }
   ],
   "source": [
    "txt = \"banana\"\n",
    "\n",
    "x = txt.rjust(20, \"-\")\n",
    "\n",
    "print(x)"
   ]
  },
  {
   "cell_type": "code",
   "execution_count": 50,
   "id": "5c1d6107",
   "metadata": {},
   "outputs": [
    {
     "name": "stdout",
     "output_type": "stream",
     "text": [
      "**************banana\n"
     ]
    }
   ],
   "source": [
    "txt = \"banana\"\n",
    "\n",
    "x = txt.rjust(20, \"*\")\n",
    "\n",
    "print(x)"
   ]
  },
  {
   "cell_type": "markdown",
   "id": "a764cf94",
   "metadata": {},
   "source": [
    "#### lower()\n",
    "\n",
    "The `lower()` method returns a string where all characters are lower case.\n",
    "\n",
    " Symbols and Numbers are ignored.\n",
    "\n",
    "`Syntax`\n",
    "\n",
    "\n",
    "`string.lower()`"
   ]
  },
  {
   "cell_type": "code",
   "execution_count": 51,
   "id": "ae616f11",
   "metadata": {},
   "outputs": [
    {
     "name": "stdout",
     "output_type": "stream",
     "text": [
      "hello my friends\n"
     ]
    }
   ],
   "source": [
    "txt = \"Hello My FRIENDS\"\n",
    "\n",
    "x = txt.lower()\n",
    "\n",
    "print(x)"
   ]
  },
  {
   "cell_type": "code",
   "execution_count": 52,
   "id": "25a43f4c",
   "metadata": {},
   "outputs": [
    {
     "name": "stdout",
     "output_type": "stream",
     "text": [
      "hello 123  friends!\n"
     ]
    }
   ],
   "source": [
    "print(\"Hello 123  friends!\".lower())"
   ]
  },
  {
   "cell_type": "markdown",
   "id": "432b7bd2",
   "metadata": {},
   "source": [
    "symbol and number are ignored"
   ]
  },
  {
   "cell_type": "markdown",
   "id": "2e0ba7cb",
   "metadata": {},
   "source": [
    "#### lstrip()\n",
    "\n",
    "The `lstrip()` method removes any leading characters (space is the default leading character to remove)\n",
    "\n",
    "`Syntax`\n",
    "\n",
    "\n",
    "`string.lstrip(characters)`"
   ]
  },
  {
   "cell_type": "code",
   "execution_count": 53,
   "id": "8b4849f6",
   "metadata": {},
   "outputs": [
    {
     "name": "stdout",
     "output_type": "stream",
     "text": [
      "of all fruits banana    is my favorite\n"
     ]
    }
   ],
   "source": [
    "txt = \"    banana   \"\n",
    "\n",
    "x = txt.lstrip()\n",
    "\n",
    "print(\"of all fruits\", x, \"is my favorite\")"
   ]
  },
  {
   "cell_type": "code",
   "execution_count": 54,
   "id": "58626768",
   "metadata": {},
   "outputs": [
    {
     "name": "stdout",
     "output_type": "stream",
     "text": [
      "banana\n"
     ]
    }
   ],
   "source": [
    "txt = \",,,,,ssaaww.....banana\"\n",
    "\n",
    "x = txt.lstrip(\",.asw\")\n",
    "\n",
    "print(x)"
   ]
  },
  {
   "cell_type": "code",
   "execution_count": 55,
   "id": "7973eaee",
   "metadata": {},
   "outputs": [
    {
     "name": "stdout",
     "output_type": "stream",
     "text": [
      "5000.00\n"
     ]
    }
   ],
   "source": [
    "print(\"$5000.00\".lstrip(\"$\"))"
   ]
  },
  {
   "cell_type": "code",
   "execution_count": 56,
   "id": "09ff71e8",
   "metadata": {},
   "outputs": [
    {
     "name": "stdout",
     "output_type": "stream",
     "text": [
      "5000\n"
     ]
    }
   ],
   "source": [
    "number = \"$5000\"\n",
    "number = number.lstrip(\"$\")\n",
    "\n",
    "print(int(number))"
   ]
  },
  {
   "cell_type": "code",
   "execution_count": 57,
   "id": "13c566fd",
   "metadata": {},
   "outputs": [
    {
     "name": "stdout",
     "output_type": "stream",
     "text": [
      "apple\n"
     ]
    }
   ],
   "source": [
    "txt = \",hshhhhshh.....apple\"\n",
    "\n",
    "x = txt.lstrip(\",.sh\")\n",
    "print(x)"
   ]
  },
  {
   "cell_type": "code",
   "execution_count": 58,
   "id": "c2076d2b",
   "metadata": {},
   "outputs": [
    {
     "name": "stdout",
     "output_type": "stream",
     "text": [
      "pple\n"
     ]
    }
   ],
   "source": [
    "txt = \",hsahhhhashh.....apple\"\n",
    "\n",
    "x = txt.lstrip(\",.ash\")\n",
    "print(x)"
   ]
  },
  {
   "cell_type": "code",
   "execution_count": 59,
   "id": "8fd7df64",
   "metadata": {},
   "outputs": [
    {
     "name": "stdout",
     "output_type": "stream",
     "text": [
      "Mango\n"
     ]
    }
   ],
   "source": [
    "txt = \",hshhahhsaohh.....Mango\"\n",
    "\n",
    "x = txt.lstrip(\",.asoh\")\n",
    "print(x)"
   ]
  },
  {
   "cell_type": "markdown",
   "id": "92fcf0e7",
   "metadata": {},
   "source": [
    "#### strip()\n",
    "\n",
    "The `strip() `method removes any leading (spaces at the beginning) and trailing (spaces at the end) characters (space is the default leading character to remove)\n",
    "\n",
    "`Syntax`\n",
    "\n",
    "\n",
    "`string.strip(characters)`"
   ]
  },
  {
   "cell_type": "code",
   "execution_count": 61,
   "id": "cec417a7",
   "metadata": {},
   "outputs": [
    {
     "name": "stdout",
     "output_type": "stream",
     "text": [
      "of all fruits banana is my favorite\n"
     ]
    }
   ],
   "source": [
    "txt = \"     banana     \"\n",
    "\n",
    "x = txt.strip()\n",
    "\n",
    "print(\"of all fruits\", x, \"is my favorite\")\n"
   ]
  },
  {
   "cell_type": "code",
   "execution_count": 63,
   "id": "7f4a3a49",
   "metadata": {},
   "outputs": [
    {
     "name": "stdout",
     "output_type": "stream",
     "text": [
      "banana\n"
     ]
    }
   ],
   "source": [
    "txt = \",,,,,rrttgg.....banana....rrr\"\n",
    "\n",
    "x = txt.strip(\",.grt\")\n",
    "\n",
    "print(x)\n"
   ]
  },
  {
   "cell_type": "markdown",
   "id": "079684ba",
   "metadata": {},
   "source": [
    "#### rstrip()\n",
    "\n",
    "The `rstrip()` method removes any trailing characters (characters at the end a string), space is the default trailing character to remove.\n",
    "\n",
    "`Syntax`\n",
    "\n",
    "\n",
    "s`tring.rstrip(characters)`"
   ]
  },
  {
   "cell_type": "code",
   "execution_count": 64,
   "id": "2be9808b",
   "metadata": {},
   "outputs": [
    {
     "name": "stdout",
     "output_type": "stream",
     "text": [
      "of all fruits      banana is my favorite\n"
     ]
    }
   ],
   "source": [
    "txt = \"     banana     \"\n",
    "\n",
    "x = txt.rstrip()\n",
    "\n",
    "print(\"of all fruits\", x, \"is my favorite\")"
   ]
  },
  {
   "cell_type": "code",
   "execution_count": 65,
   "id": "2c46860c",
   "metadata": {},
   "outputs": [
    {
     "name": "stdout",
     "output_type": "stream",
     "text": [
      "banana\n"
     ]
    }
   ],
   "source": [
    "txt = \"banana,,,,,ssqqqww.....\"\n",
    "\n",
    "x = txt.rstrip(\",.qsw\")\n",
    "\n",
    "print(x)"
   ]
  },
  {
   "cell_type": "markdown",
   "id": "f5ead12d",
   "metadata": {},
   "source": [
    "#### maketrans()\n",
    "\n",
    "The `maketrans()` method returns a mapping table that can be used with the translate() method to replace specified characters.\n",
    "\n",
    "`Syntax`\n",
    "\n",
    "`string.maketrans(x, y, z)`\n",
    "\n",
    "`Parameter`\t-------`Description`\n",
    "\n",
    "* `x`------\tRequired. If only one parameter is specified, this has to be a dictionary describing how to perform the replace. If two or more parameters are specified, this parameter has to be a string specifying the characters you want to replace.\n",
    "* `y`\t-----Optional. A string with the same length as parameter x. Each character in the first parameter will be replaced with the corresponding character in this string.\n",
    "\n",
    "\n",
    "* `z`\t-----Optional. A string describing which characters to remove from the original string."
   ]
  },
  {
   "cell_type": "code",
   "execution_count": 66,
   "id": "b65f2668",
   "metadata": {},
   "outputs": [
    {
     "name": "stdout",
     "output_type": "stream",
     "text": [
      "Hello Pam!\n"
     ]
    }
   ],
   "source": [
    "txt = \"Hello Sam!\"\n",
    "mytable = txt.maketrans(\"S\", \"P\")\n",
    "print(txt.translate(mytable))"
   ]
  },
  {
   "cell_type": "code",
   "execution_count": 67,
   "id": "b6f66754",
   "metadata": {},
   "outputs": [
    {
     "name": "stdout",
     "output_type": "stream",
     "text": [
      "Hi Joe!\n"
     ]
    }
   ],
   "source": [
    "txt = \"Hi Sam!\"\n",
    "\n",
    "x = \"mSa\"\n",
    "y = \"eJo\"\n",
    "z = \"odnght\"\n",
    "mytable = txt.maketrans(x, y, z)\n",
    "print(txt.translate(mytable))"
   ]
  },
  {
   "cell_type": "markdown",
   "id": "b8081c72",
   "metadata": {},
   "source": [
    "The `maketrans()` method itself returns a dictionary describing each replacement, in unicode:"
   ]
  },
  {
   "cell_type": "code",
   "execution_count": 68,
   "id": "8326b909",
   "metadata": {},
   "outputs": [
    {
     "name": "stdout",
     "output_type": "stream",
     "text": [
      "{109: 101, 83: 74, 97: 111, 111: None, 100: None, 110: None, 103: None, 104: None, 116: None}\n"
     ]
    }
   ],
   "source": [
    "txt = \"Good night Sam!\"\n",
    "x = \"mSa\"\n",
    "y = \"eJo\"\n",
    "z = \"odnght\"\n",
    "print(txt.maketrans(x, y, z))"
   ]
  },
  {
   "cell_type": "code",
   "execution_count": 69,
   "id": "3128ec00",
   "metadata": {},
   "outputs": [
    {
     "name": "stdout",
     "output_type": "stream",
     "text": [
      "Normal txt :  Hi Sam!\n",
      "Maktrance txt :  {83: 74}\n"
     ]
    }
   ],
   "source": [
    "txt = \"Hi Sam!\"\n",
    "\n",
    "x = \"S\"\n",
    "y = \"J\"\n",
    "\n",
    "new_txt = txt.maketrans(x,y)\n",
    "print(\"Normal txt : \", txt)\n",
    "print(\"Maktrance txt : \", new_txt)"
   ]
  },
  {
   "cell_type": "code",
   "execution_count": 24,
   "id": "e5edd383",
   "metadata": {},
   "outputs": [
    {
     "name": "stdout",
     "output_type": "stream",
     "text": [
      "Hi Jam!\n"
     ]
    }
   ],
   "source": [
    "## as we can see that 'maketrans()' method returned a dictionary describing each replacement, in \n",
    "# unicode, Now we need to translate it.\n",
    "\n",
    "replaced_str = txt.translate(new_txt)\n",
    "print(replaced_str)"
   ]
  },
  {
   "cell_type": "code",
   "execution_count": 26,
   "id": "4ecc492e",
   "metadata": {},
   "outputs": [
    {
     "name": "stdout",
     "output_type": "stream",
     "text": [
      "Hi Sam!\n"
     ]
    }
   ],
   "source": [
    "# now let's check the orginal string \n",
    "print(txt)"
   ]
  },
  {
   "cell_type": "code",
   "execution_count": 27,
   "id": "535b1c07",
   "metadata": {},
   "outputs": [
    {
     "name": "stdout",
     "output_type": "stream",
     "text": [
      "Hello, Jam!\n"
     ]
    }
   ],
   "source": [
    "# if got confused then let's replace it in one line \n",
    "txt = 'Hello, Sam!'\n",
    "x = \"S\"\n",
    "y = \"J\"\n",
    "new_txt = txt.translate(txt.maketrans(x, y))\n",
    "print(new_txt)"
   ]
  },
  {
   "cell_type": "markdown",
   "id": "f1b1e692",
   "metadata": {},
   "source": [
    "#### Note :-\n",
    "When we pass third argument then that argument will be mapped with 'None' and when we translate then that will be removed."
   ]
  },
  {
   "cell_type": "code",
   "execution_count": 28,
   "id": "6df58636",
   "metadata": {},
   "outputs": [
    {
     "data": {
      "text/plain": [
       "{72: 104, 87: 119, 91: None, 123: None, 125: None, 93: None}"
      ]
     },
     "execution_count": 28,
     "metadata": {},
     "output_type": "execute_result"
    }
   ],
   "source": [
    "str1 = \"[Hello [World!, welcome to Python{ Programming }]]\"\n",
    "arg1 = 'HW' # these are upper now we will replace it with lower\n",
    "arg2 = 'hw' # these will replcae 'arg1' string\n",
    "arg3 = '[{}]' # this argument value will be mapped with 'None' and removed \n",
    "\n",
    "str1.maketrans(arg1, arg2, arg3)"
   ]
  },
  {
   "cell_type": "markdown",
   "id": "fa814b52",
   "metadata": {},
   "source": [
    "As we can see that the third argument's element hasa been mapped with 'None' and when we will translate, it will be removed."
   ]
  },
  {
   "cell_type": "code",
   "execution_count": 30,
   "id": "85fb6fd6",
   "metadata": {},
   "outputs": [
    {
     "data": {
      "text/plain": [
       "'hello world!, welcome to Python Programming '"
      ]
     },
     "execution_count": 30,
     "metadata": {},
     "output_type": "execute_result"
    }
   ],
   "source": [
    "str1.translate(str1.maketrans(arg1, arg2, arg3))"
   ]
  },
  {
   "cell_type": "markdown",
   "id": "dceca6df",
   "metadata": {},
   "source": [
    "####  partition()\n",
    "\n",
    "* The `partition() `method searches for a specified string, and splits the string into a tuple containing three elements.\n",
    "\n",
    "* The first element contains the part before the specified string.\n",
    "\n",
    "* The second element contains the specified string.\n",
    "\n",
    "* The third element contains the part after the string.\n",
    "\n",
    "* `Note:` This method searches for the first occurrence of the specified string.\n",
    "\n",
    "`Syntax`\n",
    "\n",
    "\n",
    "`string.partition(value)`\n",
    "\n",
    "`\n",
    "Example`\n",
    "\n",
    "Search for the word \"bananas\", and return a tuple with three elements:\n",
    "\n",
    "1 - everything before the \"match\"\n",
    "\n",
    "2 - the \"match\"\n",
    "\n",
    "3 - everything after the \"match\"`\n"
   ]
  },
  {
   "cell_type": "code",
   "execution_count": 31,
   "id": "f25ed3a3",
   "metadata": {},
   "outputs": [
    {
     "name": "stdout",
     "output_type": "stream",
     "text": [
      "('I could eat ', 'bananas', ' all day')\n"
     ]
    }
   ],
   "source": [
    "txt = \"I could eat bananas all day\"\n",
    "\n",
    "x = txt.partition(\"bananas\")\n",
    "\n",
    "print(x)\n"
   ]
  },
  {
   "cell_type": "code",
   "execution_count": 32,
   "id": "6f3be9a2",
   "metadata": {},
   "outputs": [
    {
     "name": "stdout",
     "output_type": "stream",
     "text": [
      "I could eat bananas all day\n"
     ]
    }
   ],
   "source": [
    "# But doesn't change the original string.\n",
    "\n",
    "print(txt)"
   ]
  },
  {
   "cell_type": "markdown",
   "id": "9986d548",
   "metadata": {},
   "source": [
    "**Note** \n",
    "\n",
    "If the specified value is not found, the `partition() `method returns a tuple containing: \n",
    "\n",
    "1 - the whole string,\n",
    "\n",
    "2 - an empty string, \n",
    "\n",
    "3 - an empty string:"
   ]
  },
  {
   "cell_type": "code",
   "execution_count": 33,
   "id": "fee42837",
   "metadata": {},
   "outputs": [
    {
     "name": "stdout",
     "output_type": "stream",
     "text": [
      "('I could eat bananas all day', '', '')\n"
     ]
    }
   ],
   "source": [
    "txt = \"I could eat bananas all day\"\n",
    "\n",
    "x = txt.partition(\"apples\")\n",
    "\n",
    "print(x)"
   ]
  },
  {
   "cell_type": "markdown",
   "id": "d8dd00db",
   "metadata": {},
   "source": [
    "####  rpartition()\n",
    "\n",
    "* The `rpartition() `method searches for the last occurrence of a specified string, and splits the string into a tuple containing three elements.\n",
    "\n",
    "* The first element contains the part before the specified string.\n",
    "\n",
    "* The second element contains the specified string.\n",
    "\n",
    "The third element contains the part after the string.\n",
    "\n",
    "`Syntax`\n",
    "\n",
    "\n",
    "`string.rpartition(value)`"
   ]
  },
  {
   "cell_type": "code",
   "execution_count": 34,
   "id": "ef22294b",
   "metadata": {},
   "outputs": [
    {
     "name": "stdout",
     "output_type": "stream",
     "text": [
      "('I could eat bananas all day, ', 'bananas', ' are my favorite fruit')\n"
     ]
    }
   ],
   "source": [
    "txt = \"I could eat bananas all day, bananas are my favorite fruit\"\n",
    "\n",
    "x = txt.rpartition(\"bananas\")\n",
    "\n",
    "print(x)"
   ]
  },
  {
   "cell_type": "code",
   "execution_count": 35,
   "id": "76864e22",
   "metadata": {},
   "outputs": [
    {
     "name": "stdout",
     "output_type": "stream",
     "text": [
      "('', '', 'I could eat bananas all day, bananas are my favorite fruit')\n"
     ]
    }
   ],
   "source": [
    "txt = \"I could eat bananas all day, bananas are my favorite fruit\"\n",
    "\n",
    "x = txt.rpartition(\"apples\")\n",
    "\n",
    "print(x)"
   ]
  },
  {
   "cell_type": "code",
   "execution_count": 36,
   "id": "059d00d1",
   "metadata": {},
   "outputs": [
    {
     "name": "stdout",
     "output_type": "stream",
     "text": [
      "('I could eat bananas all day, ', 'bananas', ' are my favorite fruit')\n"
     ]
    }
   ],
   "source": [
    "txt = \"I could eat bananas all day, bananas are my favorite fruit\"\n",
    "\n",
    "x = txt.rpartition(\"bananas\")\n",
    "\n",
    "print(x)"
   ]
  },
  {
   "cell_type": "code",
   "execution_count": null,
   "id": "c2d9ad9a",
   "metadata": {},
   "outputs": [],
   "source": []
  },
  {
   "cell_type": "markdown",
   "id": "24d516d4",
   "metadata": {},
   "source": [
    "#### replace()\n",
    "\n",
    "`The replace()` method replaces a specified phrase with another specified phrase.\n",
    "\n",
    "\n",
    "`Note:` \n",
    "All occurrences of the specified phrase will be replaced, if nothing else is specified.\n",
    "\n",
    "`Syntax`\n",
    "\n",
    "\n",
    "`string.replace(oldvalue, newvalue, count)`"
   ]
  },
  {
   "cell_type": "code",
   "execution_count": 37,
   "id": "91e3e146",
   "metadata": {},
   "outputs": [
    {
     "name": "stdout",
     "output_type": "stream",
     "text": [
      "I like apple\n"
     ]
    }
   ],
   "source": [
    "txt = \"I like banana\"\n",
    "x = txt.replace(\"banana\", \"apple\")\n",
    "\n",
    "print(x)"
   ]
  },
  {
   "cell_type": "code",
   "execution_count": 38,
   "id": "6f7e02d8",
   "metadata": {},
   "outputs": [
    {
     "name": "stdout",
     "output_type": "stream",
     "text": [
      "three three was a race horse, two two was three too.\n"
     ]
    }
   ],
   "source": [
    "txt = \"one one was a race horse, two two was one too.\"\n",
    "\n",
    "x = txt.replace(\"one\", \"three\")\n",
    "\n",
    "print(x)"
   ]
  },
  {
   "cell_type": "code",
   "execution_count": 39,
   "id": "31d176a0",
   "metadata": {},
   "outputs": [
    {
     "name": "stdout",
     "output_type": "stream",
     "text": [
      "three three was a race horse, two two was one too.\n"
     ]
    }
   ],
   "source": [
    "# Replace the two first occurrence of\n",
    "# the word \"one\":\n",
    "\n",
    "txt = \"one one was a race horse, two two was one too.\"\n",
    "\n",
    "x = txt.replace(\"one\", \"three\", 2)\n",
    "\n",
    "print(x)"
   ]
  },
  {
   "cell_type": "markdown",
   "id": "c324464b",
   "metadata": {},
   "source": [
    "####  rfind()\n",
    "\n",
    "The `rfind()` method finds the last occurrence of the specified value.\n",
    "\n",
    "The `rfind()` method returns -1 if the value is not found.\n",
    "\n",
    "The `rfind()` method is almost the same as the rindex() method. See example below.\n",
    "\n",
    "`Syntax`\n",
    "\n",
    "`string.rfind(value, start, end)`\n",
    "\n",
    "`Parameter`------`Description`\n",
    "\n",
    "`value`----\tRequired. The value to search for\n",
    "\n",
    "`tart`----\tOptional. Where to start the search. Default is 0\n",
    "\n",
    "\n",
    "`end`----\tOptional. Where to end the search. Default is to the end of the string\n"
   ]
  },
  {
   "cell_type": "code",
   "execution_count": 57,
   "id": "98d0abd7",
   "metadata": {},
   "outputs": [
    {
     "name": "stdout",
     "output_type": "stream",
     "text": [
      "12\n"
     ]
    }
   ],
   "source": [
    "txt = \"Mi casa, su casa.\"\n",
    "\n",
    "x = txt.rfind(\"casa\")\n",
    "\n",
    "print(x)"
   ]
  },
  {
   "cell_type": "code",
   "execution_count": 58,
   "id": "e4d92af8",
   "metadata": {},
   "outputs": [
    {
     "name": "stdout",
     "output_type": "stream",
     "text": [
      "13\n"
     ]
    }
   ],
   "source": [
    "txt = \"Hello, welcome to my world.\"\n",
    "\n",
    "x = txt.rfind(\"e\")\n",
    "\n",
    "print(x)\n"
   ]
  },
  {
   "cell_type": "code",
   "execution_count": 59,
   "id": "75d30e45",
   "metadata": {},
   "outputs": [
    {
     "name": "stdout",
     "output_type": "stream",
     "text": [
      "8\n"
     ]
    }
   ],
   "source": [
    "txt = \"Hello, welcome to my world.\"\n",
    "\n",
    "x = txt.rfind(\"e\", 5, 10)\n",
    "\n",
    "print(x)"
   ]
  },
  {
   "cell_type": "markdown",
   "id": "70922529",
   "metadata": {},
   "source": [
    "If the value is not found, the `rfind() `method `returns -1`, but the `rindex()` method will raise an exception:"
   ]
  },
  {
   "cell_type": "code",
   "execution_count": 72,
   "id": "a0e6134e",
   "metadata": {},
   "outputs": [
    {
     "name": "stdout",
     "output_type": "stream",
     "text": [
      "-1\n"
     ]
    },
    {
     "ename": "ValueError",
     "evalue": "substring not found",
     "output_type": "error",
     "traceback": [
      "\u001b[1;31m---------------------------------------------------------------------------\u001b[0m",
      "\u001b[1;31mValueError\u001b[0m                                Traceback (most recent call last)",
      "\u001b[1;32m~\\AppData\\Local\\Temp/ipykernel_10636/2133191891.py\u001b[0m in \u001b[0;36m<module>\u001b[1;34m\u001b[0m\n\u001b[0;32m      2\u001b[0m \u001b[1;33m\u001b[0m\u001b[0m\n\u001b[0;32m      3\u001b[0m \u001b[0mprint\u001b[0m\u001b[1;33m(\u001b[0m\u001b[0mtxt\u001b[0m\u001b[1;33m.\u001b[0m\u001b[0mrfind\u001b[0m\u001b[1;33m(\u001b[0m\u001b[1;34m\"q\"\u001b[0m\u001b[1;33m)\u001b[0m\u001b[1;33m)\u001b[0m\u001b[1;33m\u001b[0m\u001b[1;33m\u001b[0m\u001b[0m\n\u001b[1;32m----> 4\u001b[1;33m \u001b[0mprint\u001b[0m\u001b[1;33m(\u001b[0m\u001b[0mtxt\u001b[0m\u001b[1;33m.\u001b[0m\u001b[0mrindex\u001b[0m\u001b[1;33m(\u001b[0m\u001b[1;34m\"q\"\u001b[0m\u001b[1;33m)\u001b[0m\u001b[1;33m)\u001b[0m\u001b[1;33m\u001b[0m\u001b[1;33m\u001b[0m\u001b[0m\n\u001b[0m",
      "\u001b[1;31mValueError\u001b[0m: substring not found"
     ]
    }
   ],
   "source": [
    "txt = \"Hello, welcome to my world.\"\n",
    "\n",
    "print(txt.rfind(\"q\"))\n",
    "print(txt.rindex(\"q\"))"
   ]
  },
  {
   "cell_type": "markdown",
   "id": "e8511607",
   "metadata": {},
   "source": [
    "#### rindex()\n",
    "\n",
    "\n",
    "* The `rindex()` method finds the last occurrence of the specified value.\n",
    "\n",
    "* The `rindex()` method raises an exception if the value is not found.\n",
    "\n",
    "* The `rindex() `method is almost the same as\n",
    "the `rfind()` method. See example below.\n",
    "\n",
    "`Syntax`\n",
    "\n",
    "\n",
    "`string.rindex(value, start, end)`\n",
    "\n",
    "`Parameter`------\t`Description`\n",
    "\n",
    "`value`-----\tRequired. The value to search for\n",
    "\n",
    "`start`-----\tOptional. Where to start the search. Default is 0\n",
    "\n",
    "`end`\t-----Optional. Where to end the search. Default is to the end of the string"
   ]
  },
  {
   "cell_type": "code",
   "execution_count": 73,
   "id": "ecaacebb",
   "metadata": {},
   "outputs": [
    {
     "name": "stdout",
     "output_type": "stream",
     "text": [
      "12\n"
     ]
    }
   ],
   "source": [
    "# Where in the text is the last occurrence \n",
    "# of the string \"casa\"?:\n",
    "txt = \"Mi casa, su casa.\"\n",
    "\n",
    "x = txt.rindex(\"casa\")\n",
    "\n",
    "print(x)"
   ]
  },
  {
   "cell_type": "code",
   "execution_count": 74,
   "id": "f0cfec9e",
   "metadata": {},
   "outputs": [
    {
     "name": "stdout",
     "output_type": "stream",
     "text": [
      "13\n"
     ]
    }
   ],
   "source": [
    "txt = \"Hello, welcome to my world.\"\n",
    "\n",
    "x = txt.rindex(\"e\")\n",
    "\n",
    "print(x)"
   ]
  },
  {
   "cell_type": "code",
   "execution_count": 75,
   "id": "325f575a",
   "metadata": {},
   "outputs": [
    {
     "name": "stdout",
     "output_type": "stream",
     "text": [
      "8\n"
     ]
    }
   ],
   "source": [
    "txt = \"Hello, welcome to my world.\"\n",
    "\n",
    "x = txt.rindex(\"e\", 5, 10)\n",
    "\n",
    "print(x)"
   ]
  },
  {
   "cell_type": "code",
   "execution_count": 76,
   "id": "614e028f",
   "metadata": {},
   "outputs": [
    {
     "name": "stdout",
     "output_type": "stream",
     "text": [
      "-1\n"
     ]
    },
    {
     "ename": "ValueError",
     "evalue": "substring not found",
     "output_type": "error",
     "traceback": [
      "\u001b[1;31m---------------------------------------------------------------------------\u001b[0m",
      "\u001b[1;31mValueError\u001b[0m                                Traceback (most recent call last)",
      "\u001b[1;32m~\\AppData\\Local\\Temp/ipykernel_10636/3418444493.py\u001b[0m in \u001b[0;36m<module>\u001b[1;34m\u001b[0m\n\u001b[0;32m      2\u001b[0m \u001b[1;33m\u001b[0m\u001b[0m\n\u001b[0;32m      3\u001b[0m \u001b[0mprint\u001b[0m\u001b[1;33m(\u001b[0m\u001b[0mtxt\u001b[0m\u001b[1;33m.\u001b[0m\u001b[0mrfind\u001b[0m\u001b[1;33m(\u001b[0m\u001b[1;34m\"q\"\u001b[0m\u001b[1;33m)\u001b[0m\u001b[1;33m)\u001b[0m\u001b[1;33m\u001b[0m\u001b[1;33m\u001b[0m\u001b[0m\n\u001b[1;32m----> 4\u001b[1;33m \u001b[0mprint\u001b[0m\u001b[1;33m(\u001b[0m\u001b[0mtxt\u001b[0m\u001b[1;33m.\u001b[0m\u001b[0mrindex\u001b[0m\u001b[1;33m(\u001b[0m\u001b[1;34m\"q\"\u001b[0m\u001b[1;33m)\u001b[0m\u001b[1;33m)\u001b[0m\u001b[1;33m\u001b[0m\u001b[1;33m\u001b[0m\u001b[0m\n\u001b[0m",
      "\u001b[1;31mValueError\u001b[0m: substring not found"
     ]
    }
   ],
   "source": [
    "txt = \"Hello, welcome to my world.\"\n",
    "\n",
    "print(txt.rfind(\"q\"))\n",
    "print(txt.rindex(\"q\"))\n"
   ]
  },
  {
   "cell_type": "markdown",
   "id": "41c21b6d",
   "metadata": {},
   "source": [
    "#### rsplit()\n",
    "\n",
    "* The `rsplit()` method splits a string into a list, starting from the right.\n",
    "\n",
    "* If no `\"max\" `is specified, this method will return the same as the `split() `method.\n",
    "\n",
    "* `Note:` When maxsplit is specified, the list will contain the specified number of elements plus one.\n",
    "\n",
    "`Syntax`\n",
    "\n",
    "\n",
    "`string.rsplit(separator, maxsplit)`"
   ]
  },
  {
   "cell_type": "code",
   "execution_count": 40,
   "id": "c813ce31",
   "metadata": {},
   "outputs": [
    {
     "name": "stdout",
     "output_type": "stream",
     "text": [
      "['apple', 'banana', 'cherry']\n"
     ]
    }
   ],
   "source": [
    "txt = \"apple, banana, cherry\"\n",
    "\n",
    "x = txt.rsplit(\", \")\n",
    "\n",
    "print(x)\n"
   ]
  },
  {
   "cell_type": "markdown",
   "id": "7e0f39f2",
   "metadata": {},
   "source": [
    "`Parameter`----\t`Description`\n",
    "\n",
    "\n",
    "`separator`----\tOptional. Specifies the separator to use when splitting the string. By default any whitespace is a separator\n",
    "\n",
    "\n",
    "`maxsplit`----\tOptional. Specifies how many splits to do. Default value is -1, which is \"all occurrences\""
   ]
  },
  {
   "cell_type": "code",
   "execution_count": 41,
   "id": "1d6fec33",
   "metadata": {},
   "outputs": [
    {
     "name": "stdout",
     "output_type": "stream",
     "text": [
      "['apple, banana', 'cherry']\n"
     ]
    }
   ],
   "source": [
    "txt = \"apple, banana, cherry\"\n",
    "\n",
    "# setting the maxsplit parameter to 1, \n",
    "# will return a list with 2 elements!\n",
    "x = txt.rsplit(\", \", 1)\n",
    "\n",
    "print(x)"
   ]
  },
  {
   "cell_type": "code",
   "execution_count": 2,
   "id": "e0a03215",
   "metadata": {},
   "outputs": [
    {
     "name": "stdout",
     "output_type": "stream",
     "text": [
      "['apple banana', 'cherry']\n"
     ]
    }
   ],
   "source": [
    "txt = \"apple banana cherry\"\n",
    "\n",
    "# setting the maxsplit parameter to 1, \n",
    "# will return a list with 2 elements!\n",
    "x = txt.rsplit(\" \", 1)\n",
    "\n",
    "print(x)"
   ]
  },
  {
   "cell_type": "code",
   "execution_count": 89,
   "id": "572b4d0f",
   "metadata": {},
   "outputs": [
    {
     "name": "stdout",
     "output_type": "stream",
     "text": [
      "['Hello, World, How', 'are', 'you']\n"
     ]
    }
   ],
   "source": [
    "print(\"Hello, World, How, are, you\".rsplit(\", \", 2))"
   ]
  },
  {
   "cell_type": "markdown",
   "id": "3c4d208d",
   "metadata": {},
   "source": [
    "it split string from right side"
   ]
  },
  {
   "cell_type": "code",
   "execution_count": 60,
   "id": "0b2078be",
   "metadata": {},
   "outputs": [
    {
     "name": "stdout",
     "output_type": "stream",
     "text": [
      "['apple', ' banana, cherry']\n"
     ]
    }
   ],
   "source": [
    "txt = \"apple, banana, cherry\"\n",
    "print(txt.split(\",\", 1))"
   ]
  },
  {
   "cell_type": "markdown",
   "id": "85aee8d3",
   "metadata": {},
   "source": [
    "it split string from left side"
   ]
  },
  {
   "cell_type": "markdown",
   "id": "d3564b05",
   "metadata": {},
   "source": [
    "#### split()\n",
    "\n",
    "The `split()` method splits a string into a list.\n",
    "\n",
    "You can specify the separator, default separator is any whitespace.\n",
    "\n",
    "`Note:` When maxsplit is specified, the list will contain the specified number of elements plus one.\n",
    "\n",
    "`Syntx`\n",
    "\n",
    "\n",
    "`string.split(separator, maxsplit)`\n",
    "\n",
    "`Parameter`---\t`Description`\n",
    "\n",
    "\n",
    "`separator`---\tOptional. Specifies the separator to use when splitting the string. By default any whitespace is a separator\n",
    "\n",
    "\n",
    "`maxsplit`---\tOptional. Specifies how many splits to do. Default value is -1, which is \"all occurrences\""
   ]
  },
  {
   "cell_type": "code",
   "execution_count": 90,
   "id": "24cc9351",
   "metadata": {},
   "outputs": [
    {
     "name": "stdout",
     "output_type": "stream",
     "text": [
      "['welcome', 'to', 'the', 'jungle']\n"
     ]
    }
   ],
   "source": [
    "txt = \"welcome to the jungle\"\n",
    "\n",
    "x = txt.split()\n",
    "\n",
    "print(x)"
   ]
  },
  {
   "cell_type": "code",
   "execution_count": 91,
   "id": "b5482a24",
   "metadata": {},
   "outputs": [
    {
     "name": "stdout",
     "output_type": "stream",
     "text": [
      "['hello', 'my name is Peter', 'I am 26 years old']\n"
     ]
    }
   ],
   "source": [
    "txt = \"hello, my name is Peter, I am 26 years old\"\n",
    "\n",
    "x = txt.split(\", \")\n",
    "\n",
    "print(x)"
   ]
  },
  {
   "cell_type": "code",
   "execution_count": 92,
   "id": "1ddf94e6",
   "metadata": {},
   "outputs": [
    {
     "name": "stdout",
     "output_type": "stream",
     "text": [
      "['apple', 'banana', 'cherry', 'orange']\n"
     ]
    }
   ],
   "source": [
    "txt = \"apple#banana#cherry#orange\"\n",
    "\n",
    "x = txt.split(\"#\")\n",
    "\n",
    "print(x)"
   ]
  },
  {
   "cell_type": "code",
   "execution_count": 93,
   "id": "19b3029a",
   "metadata": {},
   "outputs": [
    {
     "name": "stdout",
     "output_type": "stream",
     "text": [
      "['apple', 'banana#cherry#orange']\n"
     ]
    }
   ],
   "source": [
    "# Split the string into a list with max 2 items:\n",
    "\n",
    "txt = \"apple#banana#cherry#orange\"\n",
    "\n",
    "# setting the maxsplit parameter to 1, will return a list with 2 elements!\n",
    "x = txt.split(\"#\", 1)\n",
    "\n",
    "print(x)"
   ]
  },
  {
   "cell_type": "markdown",
   "id": "ede2701a",
   "metadata": {},
   "source": [
    "#### splitlines()\n",
    "\n",
    "The `splitlines()` method splits a string into a list. The splitting is done at line breaks.\n",
    "\n",
    "`Syntax`\n",
    "\n",
    "\n",
    "`string.splitlines(keeplinebreaks)`\n",
    "\n",
    "`Parameter`-----\t`Description`\n",
    "\n",
    "\n",
    "`keeplinebreaks`-----\tOptional. Specifies if the line breaks should be included (True), or not (False). Default value is False"
   ]
  },
  {
   "cell_type": "code",
   "execution_count": 94,
   "id": "22c60472",
   "metadata": {},
   "outputs": [
    {
     "name": "stdout",
     "output_type": "stream",
     "text": [
      "['Thank you for the music', 'Welcome to the jungle']\n"
     ]
    }
   ],
   "source": [
    "txt = \"Thank you for the music\\nWelcome to the jungle\"\n",
    "\n",
    "x = txt.splitlines()\n",
    "\n",
    "print(x)"
   ]
  },
  {
   "cell_type": "code",
   "execution_count": 4,
   "id": "57e37cdc",
   "metadata": {},
   "outputs": [
    {
     "name": "stdout",
     "output_type": "stream",
     "text": [
      "['Thank you for the music, Welcome to the jungle']\n"
     ]
    }
   ],
   "source": [
    "# Let's check what if the string have no new line separator.\n",
    "\n",
    "txt = \"Thank you for the music, Welcome to the jungle\"\n",
    "\n",
    "x = txt.splitlines()\n",
    "\n",
    "print(x)"
   ]
  },
  {
   "cell_type": "markdown",
   "id": "01231535",
   "metadata": {},
   "source": [
    "As we can see when string have no new line separator then we got all string as a single value in list."
   ]
  },
  {
   "cell_type": "code",
   "execution_count": 42,
   "id": "aa6d799d",
   "metadata": {},
   "outputs": [
    {
     "name": "stdout",
     "output_type": "stream",
     "text": [
      "['Thank you for the music\\n', 'Welcome to the jungle']\n"
     ]
    }
   ],
   "source": [
    "txt = \"Thank you for the music\\nWelcome to the jungle\"\n",
    "\n",
    "x = txt.splitlines(True)\n",
    "\n",
    "print(x)\n"
   ]
  },
  {
   "cell_type": "markdown",
   "id": "3ac9f761",
   "metadata": {},
   "source": [
    "After making condition 'True' the 'splitlines()' method return a list of split string and list string will also contain '\\n' at the end of the every newline split."
   ]
  },
  {
   "cell_type": "markdown",
   "id": "9e55ddac",
   "metadata": {},
   "source": [
    "#### startwith()\n",
    "\n",
    "The `startswith()` method returns True if the string starts with the specified value, otherwise False.\n",
    "\n",
    "`Syntax`\n",
    "\n",
    "\n",
    "`string.startswith(value, start, end)`"
   ]
  },
  {
   "cell_type": "code",
   "execution_count": 43,
   "id": "e764e59c",
   "metadata": {},
   "outputs": [
    {
     "name": "stdout",
     "output_type": "stream",
     "text": [
      "True\n"
     ]
    }
   ],
   "source": [
    "txt = \"Hello, welcome to my world.\"\n",
    "\n",
    "x = txt.startswith(\"Hello\")\n",
    "\n",
    "print(x)"
   ]
  },
  {
   "cell_type": "code",
   "execution_count": 45,
   "id": "d1e1a15c",
   "metadata": {},
   "outputs": [
    {
     "name": "stdout",
     "output_type": "stream",
     "text": [
      "True\n"
     ]
    }
   ],
   "source": [
    "txt = \"Hello, welcome to my world.\"\n",
    "\n",
    "x = txt.startswith(\"wel\", 7, 20)\n",
    "\n",
    "print(x)"
   ]
  },
  {
   "cell_type": "markdown",
   "id": "64afaecb",
   "metadata": {},
   "source": [
    "#### swapcase()\n",
    "\n",
    "The `swapcase()` method returns a string where all the upper case letters are lower case and vice versa.\n",
    "\n",
    "`Syntax`\n",
    "\n",
    "`string.swapcase()`"
   ]
  },
  {
   "cell_type": "code",
   "execution_count": 46,
   "id": "dc1150cf",
   "metadata": {},
   "outputs": [
    {
     "name": "stdout",
     "output_type": "stream",
     "text": [
      "hELLO mY nAME iS peter\n"
     ]
    }
   ],
   "source": [
    "txt = \"Hello My Name Is PETER\"\n",
    "\n",
    "x = txt.swapcase()\n",
    "\n",
    "print(x)"
   ]
  },
  {
   "cell_type": "code",
   "execution_count": 47,
   "id": "c2392dd7",
   "metadata": {},
   "outputs": [
    {
     "name": "stdout",
     "output_type": "stream",
     "text": [
      "Hello World!\n"
     ]
    }
   ],
   "source": [
    "print(\"hELLO wORLD!\".swapcase())"
   ]
  },
  {
   "cell_type": "markdown",
   "id": "e3a154bf",
   "metadata": {},
   "source": [
    "#### title()\n",
    "\n",
    "The `title()` method returns a string where the first character in every word is upper case. Like a header, or a title.\n",
    "\n",
    "If the word contains a number or a symbol, the first letter after that will be converted to upper case.\n",
    "\n",
    "`Syntax`\n",
    "\n",
    "\n",
    "`string.title()`"
   ]
  },
  {
   "cell_type": "code",
   "execution_count": 108,
   "id": "0baca8c7",
   "metadata": {},
   "outputs": [
    {
     "name": "stdout",
     "output_type": "stream",
     "text": [
      "Welcome To My World\n"
     ]
    }
   ],
   "source": [
    "txt = \"Welcome to my world\"\n",
    "print(txt.title())"
   ]
  },
  {
   "cell_type": "code",
   "execution_count": 109,
   "id": "eead0e22",
   "metadata": {},
   "outputs": [
    {
     "name": "stdout",
     "output_type": "stream",
     "text": [
      "Welcome To My 2Nd World\n"
     ]
    }
   ],
   "source": [
    "txt = \"Welcome to my 2nd world\"\n",
    "\n",
    "x = txt.title()\n",
    "\n",
    "print(x)"
   ]
  },
  {
   "cell_type": "markdown",
   "id": "00881eb6",
   "metadata": {},
   "source": [
    "As we can see '.title()' method give new value with every word's first letter in capital letter even if digit is the first character of the word then it convert alpha after digit into capital letter."
   ]
  },
  {
   "cell_type": "code",
   "execution_count": 110,
   "id": "c6acdc2a",
   "metadata": {},
   "outputs": [
    {
     "name": "stdout",
     "output_type": "stream",
     "text": [
      "Hello B2B2B2 And 3G3G3G\n"
     ]
    }
   ],
   "source": [
    "txt = \"hello b2b2b2 and 3g3g3g\"\n",
    "\n",
    "x = txt.title()\n",
    "\n",
    "print(x)"
   ]
  },
  {
   "cell_type": "code",
   "execution_count": 111,
   "id": "df04f5b5",
   "metadata": {},
   "outputs": [
    {
     "name": "stdout",
     "output_type": "stream",
     "text": [
      "2hello 2world\n"
     ]
    }
   ],
   "source": [
    "print(\"2hello 2world\".capitalize())"
   ]
  },
  {
   "cell_type": "markdown",
   "id": "4712618c",
   "metadata": {},
   "source": [
    "Note point is that title method conver uppercase after number but capitalize will not work "
   ]
  },
  {
   "cell_type": "markdown",
   "id": "31bcb325",
   "metadata": {},
   "source": [
    "#### translate()\n",
    "\n",
    "he `translate()` method returns a string where some specified characters are replaced with the character described in a dictionary, or in a mapping table.\n",
    "\n",
    "Use the `maketrans()` method to create a mapping table.\n",
    "\n",
    "If a character is not specified in the dictionary/table, the character will not be replaced.\n",
    "\n",
    "If you use a dictionary, you must use ascii codes instead of characters.\n",
    "\n",
    "`Syntax`\n",
    "\n",
    "`string.translate(table)`"
   ]
  },
  {
   "cell_type": "code",
   "execution_count": 112,
   "id": "85a2413e",
   "metadata": {},
   "outputs": [
    {
     "name": "stdout",
     "output_type": "stream",
     "text": [
      "Hello Pam!\n"
     ]
    }
   ],
   "source": [
    "#use a dictionary with ascii codes to replace 83 (S) with 80 (P):\n",
    "mydict = {83:  80}\n",
    "txt = \"Hello Sam!\"\n",
    "print(txt.translate(mydict))  # when we use single parameter in 'translate' method then the\n",
    "                            # single parameter must be dictionary to map the character to change"
   ]
  },
  {
   "cell_type": "code",
   "execution_count": 113,
   "id": "78983979",
   "metadata": {},
   "outputs": [
    {
     "name": "stdout",
     "output_type": "stream",
     "text": [
      "Hello Pam!\n"
     ]
    }
   ],
   "source": [
    "txt = \"Hello Sam!\"\n",
    "mytable = txt.maketrans(\"S\", \"P\")\n",
    "print(txt.translate(mytable))"
   ]
  },
  {
   "cell_type": "code",
   "execution_count": 114,
   "id": "fff91bee",
   "metadata": {},
   "outputs": [
    {
     "name": "stdout",
     "output_type": "stream",
     "text": [
      "Hi Joe!\n"
     ]
    }
   ],
   "source": [
    "txt = \"Hi Sam!\"\n",
    "x = \"mSa\"\n",
    "y = \"eJo\"\n",
    "mytable = txt.maketrans(x, y)\n",
    "print(txt.translate(mytable))\n"
   ]
  },
  {
   "cell_type": "code",
   "execution_count": 115,
   "id": "44a55b43",
   "metadata": {},
   "outputs": [
    {
     "name": "stdout",
     "output_type": "stream",
     "text": [
      "G i Joe!\n"
     ]
    }
   ],
   "source": [
    "txt = \"Good night Sam!\"\n",
    "x = \"mSa\"\n",
    "y = \"eJo\"\n",
    "z = \"odnght\"\n",
    "mytable = txt.maketrans(x, y, z)\n",
    "print(txt.translate(mytable))\n"
   ]
  },
  {
   "cell_type": "code",
   "execution_count": 116,
   "id": "3729be48",
   "metadata": {},
   "outputs": [
    {
     "name": "stdout",
     "output_type": "stream",
     "text": [
      "G i Joe!\n"
     ]
    }
   ],
   "source": [
    "txt = \"Good night Sam!\"\n",
    "mydict = {109: 101, 83: 74, 97: 111, 111: None, 100: None, 110: None, 103: None, 104: None, 116: None}\n",
    "print(txt.translate(mydict))\n"
   ]
  },
  {
   "cell_type": "markdown",
   "id": "135ad6a4",
   "metadata": {},
   "source": [
    "#### upper()\n",
    "\n",
    "The `upper()` method returns a string where all characters are in upper case.\n",
    "\n",
    " Symbols and Numbers are ignored.\n",
    "\n",
    "`Syntax`\n",
    "\n",
    "`string.upper()`"
   ]
  },
  {
   "cell_type": "code",
   "execution_count": 117,
   "id": "47f3283c",
   "metadata": {},
   "outputs": [
    {
     "name": "stdout",
     "output_type": "stream",
     "text": [
      "HELLO MY FRIENDS\n"
     ]
    }
   ],
   "source": [
    "txt = \"Hello my friends\"\n",
    "\n",
    "x = txt.upper()\n",
    "\n",
    "print(x)"
   ]
  },
  {
   "cell_type": "code",
   "execution_count": 118,
   "id": "01c628bb",
   "metadata": {},
   "outputs": [
    {
     "name": "stdout",
     "output_type": "stream",
     "text": [
      "PLEASE DO IT 22UUPPER\n"
     ]
    }
   ],
   "source": [
    "print(\"please do it 22uupper\".upper())"
   ]
  },
  {
   "cell_type": "markdown",
   "id": "c7e87279",
   "metadata": {},
   "source": [
    "#### zfill()\n",
    "\n",
    "The `zfill()` method adds zeros (0) at the beginning of the string, until it reaches the specified length.\n",
    "\n",
    "If the value of the len parameter is less than the length of the string, no filling is done.\n",
    "\n",
    "`Syntax`\n",
    "\n",
    "`string.zfill(len)`"
   ]
  },
  {
   "cell_type": "code",
   "execution_count": 5,
   "id": "86e23ce1",
   "metadata": {},
   "outputs": [
    {
     "name": "stdout",
     "output_type": "stream",
     "text": [
      "0000000050\n"
     ]
    }
   ],
   "source": [
    "txt = \"50\"\n",
    "\n",
    "x = txt.zfill(10)\n",
    "\n",
    "print(x)"
   ]
  },
  {
   "cell_type": "code",
   "execution_count": 6,
   "id": "321c0314",
   "metadata": {},
   "outputs": [
    {
     "name": "stdout",
     "output_type": "stream",
     "text": [
      "00000hello\n",
      "welcome to the jungle\n",
      "000010.000\n"
     ]
    }
   ],
   "source": [
    "a = \"hello\"\n",
    "b = \"welcome to the jungle\"\n",
    "c = \"10.000\"\n",
    "\n",
    "print(a.zfill(10))\n",
    "print(b.zfill(10))\n",
    "print(c.zfill(10))"
   ]
  },
  {
   "cell_type": "markdown",
   "id": "914cb627",
   "metadata": {},
   "source": [
    "#### isinstance():\n",
    "\n",
    "The isinstance() function returns True if the specified object is of the specified type, otherwise False.\n",
    "\n",
    "If the type parameter is a tuple, this function will return True if the object is one of the types in the tuple.\n",
    "\n",
    "`Syntax:\n",
    "isinstance(object, type)`"
   ]
  },
  {
   "cell_type": "code",
   "execution_count": 7,
   "id": "20b81ce8",
   "metadata": {},
   "outputs": [
    {
     "name": "stdout",
     "output_type": "stream",
     "text": [
      "True\n"
     ]
    }
   ],
   "source": [
    "print(isinstance(23, int))"
   ]
  },
  {
   "cell_type": "code",
   "execution_count": 8,
   "id": "19772aaa",
   "metadata": {},
   "outputs": [
    {
     "name": "stdout",
     "output_type": "stream",
     "text": [
      "True\n"
     ]
    }
   ],
   "source": [
    "print(isinstance(12.2, float))"
   ]
  },
  {
   "cell_type": "code",
   "execution_count": 9,
   "id": "ca8035ac",
   "metadata": {},
   "outputs": [
    {
     "name": "stdout",
     "output_type": "stream",
     "text": [
      "True\n"
     ]
    }
   ],
   "source": [
    "print(isinstance(1.2e3, float))"
   ]
  },
  {
   "cell_type": "code",
   "execution_count": 10,
   "id": "e3b35ba5",
   "metadata": {},
   "outputs": [
    {
     "name": "stdout",
     "output_type": "stream",
     "text": [
      "True\n"
     ]
    }
   ],
   "source": [
    "print(isinstance(2+2j , complex))"
   ]
  },
  {
   "cell_type": "code",
   "execution_count": 11,
   "id": "f903407c",
   "metadata": {},
   "outputs": [
    {
     "name": "stdout",
     "output_type": "stream",
     "text": [
      "True\n"
     ]
    }
   ],
   "source": [
    "x = isinstance(\"Hello\", (str, float, int, str, list, dict, tuple))\n",
    "\n",
    "print(x)\n"
   ]
  },
  {
   "cell_type": "code",
   "execution_count": 12,
   "id": "722b631d",
   "metadata": {},
   "outputs": [],
   "source": [
    "# even we can make a class and make instance of that and check with the 'isinstance' method\n",
    "\n",
    "class Student:\n",
    "    school_name = \"XYZ Schools\"\n",
    "    def __init__(self):\n",
    "        pass\n",
    "   "
   ]
  },
  {
   "cell_type": "code",
   "execution_count": 13,
   "id": "b89b77ed",
   "metadata": {},
   "outputs": [],
   "source": [
    "obj_inst = Student()"
   ]
  },
  {
   "cell_type": "code",
   "execution_count": 14,
   "id": "9a403c72",
   "metadata": {},
   "outputs": [
    {
     "name": "stdout",
     "output_type": "stream",
     "text": [
      "True\n"
     ]
    }
   ],
   "source": [
    "# now lets check class instance \n",
    "print(isinstance(obj_inst, Student))"
   ]
  },
  {
   "cell_type": "markdown",
   "id": "fd1f9230",
   "metadata": {},
   "source": [
    "As we can see that 'obj_inst' is the instance of the class \"Student\".\n",
    "Thus by using we can check the instance of the object."
   ]
  },
  {
   "cell_type": "markdown",
   "id": "85dff5d1",
   "metadata": {},
   "source": [
    "#### Thank you for having patience 😊👍😍"
   ]
  }
 ],
 "metadata": {
  "kernelspec": {
   "display_name": "Python 3 (ipykernel)",
   "language": "python",
   "name": "python3"
  },
  "language_info": {
   "codemirror_mode": {
    "name": "ipython",
    "version": 3
   },
   "file_extension": ".py",
   "mimetype": "text/x-python",
   "name": "python",
   "nbconvert_exporter": "python",
   "pygments_lexer": "ipython3",
   "version": "3.9.7"
  }
 },
 "nbformat": 4,
 "nbformat_minor": 5
}

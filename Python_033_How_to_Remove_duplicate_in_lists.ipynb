{
 "cells": [
  {
   "cell_type": "markdown",
   "id": "f7e6e794",
   "metadata": {},
   "source": [
    "#### How to Remove Duplicates From a Python List"
   ]
  },
  {
   "cell_type": "code",
   "execution_count": 1,
   "id": "762cd8de",
   "metadata": {},
   "outputs": [],
   "source": [
    "# Remove any duplicate from a List:\n",
    "\n",
    "mylist = [\"a\", \"b\", \"a\", \"c\", \"c\"]\n",
    "\n"
   ]
  },
  {
   "cell_type": "code",
   "execution_count": 2,
   "id": "ef4e4bed",
   "metadata": {},
   "outputs": [
    {
     "name": "stdout",
     "output_type": "stream",
     "text": [
      "['a', 'b', 'c']\n"
     ]
    }
   ],
   "source": [
    "mylist = list(dict.fromkeys(mylist))\n",
    "print(mylist)"
   ]
  },
  {
   "cell_type": "markdown",
   "id": "9e14bff1",
   "metadata": {},
   "source": [
    "#### Example Explained\n",
    "First we have a List that contains duplicates:"
   ]
  },
  {
   "cell_type": "code",
   "execution_count": 3,
   "id": "dce932e1",
   "metadata": {},
   "outputs": [],
   "source": [
    "mylist = [\"a\", \"b\", \"a\", \"c\", \"c\"]"
   ]
  },
  {
   "cell_type": "markdown",
   "id": "81dddba0",
   "metadata": {},
   "source": [
    "#### Create a Dictionary\n",
    "\n",
    "`Create a dictionary, using the List items as keys. This will automatically remove any duplicates because dictionaries cannot have duplicate keys.`"
   ]
  },
  {
   "cell_type": "code",
   "execution_count": 3,
   "id": "548e40f4",
   "metadata": {},
   "outputs": [],
   "source": [
    "mydict = dict.fromkeys(mylist)"
   ]
  },
  {
   "cell_type": "code",
   "execution_count": 4,
   "id": "f5e5efb4",
   "metadata": {},
   "outputs": [
    {
     "name": "stdout",
     "output_type": "stream",
     "text": [
      "{'a': None, 'b': None, 'c': None}\n"
     ]
    }
   ],
   "source": [
    "print(mydict)"
   ]
  },
  {
   "cell_type": "markdown",
   "id": "f3aceb67",
   "metadata": {},
   "source": [
    "`Then, convert the dictionary back into a list:`"
   ]
  },
  {
   "cell_type": "code",
   "execution_count": 5,
   "id": "f4e230dc",
   "metadata": {},
   "outputs": [
    {
     "name": "stdout",
     "output_type": "stream",
     "text": [
      "['a', 'b', 'c']\n"
     ]
    }
   ],
   "source": [
    "my_newList = list(mydict)\n",
    "print(my_newList)"
   ]
  },
  {
   "cell_type": "markdown",
   "id": "360c354c",
   "metadata": {},
   "source": [
    "`Now we have a List without any duplicates, and it has the same order as the original List.`\n",
    "\n",
    "`Print the List to demonstrate the result`"
   ]
  },
  {
   "cell_type": "code",
   "execution_count": 6,
   "id": "b75e22dd",
   "metadata": {},
   "outputs": [
    {
     "name": "stdout",
     "output_type": "stream",
     "text": [
      "['a', 'b', 'c']\n"
     ]
    }
   ],
   "source": [
    "print(my_newList)"
   ]
  },
  {
   "cell_type": "markdown",
   "id": "c336f3de",
   "metadata": {},
   "source": [
    "####  Create a Function\n",
    "`If you like to have a function where you can send your lists, and get them back without duplicates, you can create a function and insert the code from the example above.`\n",
    "\n",
    "#### Example"
   ]
  },
  {
   "cell_type": "code",
   "execution_count": 7,
   "id": "bf318fc7",
   "metadata": {},
   "outputs": [
    {
     "name": "stdout",
     "output_type": "stream",
     "text": [
      "['a', 'b', 'c']\n"
     ]
    }
   ],
   "source": [
    "\n",
    "def my_function(x):\n",
    "    \n",
    "    return list(dict.fromkeys(x))\n",
    "\n",
    "mylist = my_function([\"a\", \"b\", \"a\", \"c\", \"c\"])\n",
    "\n",
    "print(mylist)"
   ]
  },
  {
   "cell_type": "markdown",
   "id": "9f57cb3b",
   "metadata": {},
   "source": [
    "#### Taking list as input\n"
   ]
  },
  {
   "cell_type": "code",
   "execution_count": 11,
   "id": "f2ae782c",
   "metadata": {},
   "outputs": [
    {
     "name": "stdout",
     "output_type": "stream",
     "text": [
      "Enter number of elements (len) : 6\n",
      "a\n",
      "b\n",
      "c\n",
      "d\n",
      "e\n",
      "f\n",
      "['a', 'b', 'c', 'd', 'e', 'f']\n"
     ]
    }
   ],
   "source": [
    "# creating an empty list\n",
    "lst = []\n",
    " \n",
    "# number of elements as input\n",
    "n = int(input(\"Enter number of elements (len) : \"))\n",
    " \n",
    "# iterating till the range\n",
    "for i in range(0, n):\n",
    "    ele = input()\n",
    " \n",
    "    lst.append(ele) # adding the element\n",
    "     \n",
    "print(lst)"
   ]
  },
  {
   "cell_type": "code",
   "execution_count": 4,
   "id": "b232497c",
   "metadata": {},
   "outputs": [
    {
     "name": "stdout",
     "output_type": "stream",
     "text": [
      "Enter the string: helllllloooo Pythoooooon\n",
      "List of items: helo Pytn\n"
     ]
    }
   ],
   "source": [
    "# function to remove duplicate from a string\n",
    "\n",
    "def my_function(x):\n",
    "    mylist = list(x)  # here we have converted string into list by using list constructor\n",
    "   \n",
    "    return \"\".join(list(dict.fromkeys(mylist)))\n",
    "\n",
    "x = input(\"Enter the string: \")\n",
    "print(\"List of items:\",my_function(x))\n"
   ]
  },
  {
   "cell_type": "markdown",
   "id": "86fc2aea",
   "metadata": {},
   "source": [
    "#### Taking user input for a list element using list comprehension "
   ]
  },
  {
   "cell_type": "code",
   "execution_count": 8,
   "id": "deb113f5",
   "metadata": {},
   "outputs": [
    {
     "name": "stdout",
     "output_type": "stream",
     "text": [
      "How many elements you want in your list : 5\n",
      "Enter the 1 element : a\n",
      "Enter the 2 element : a\n",
      "Enter the 3 element : b\n",
      "Enter the 4 element : c\n",
      "Enter the 5 element : c\n",
      "\n",
      "['a', 'a', 'b', 'c', 'c']\n"
     ]
    }
   ],
   "source": [
    "# Another way we can take user input for an elements of a list \n",
    "num = int(input(\"How many elements do you want in your list : \"))\n",
    "list1 = [input(f\"Enter the {i+1} element : \") for i in range(num)]\n",
    "print()\n",
    "# Now we can check list1 elements by printitng it.\n",
    "print(list1)"
   ]
  },
  {
   "cell_type": "code",
   "execution_count": 10,
   "id": "6e3dca6c",
   "metadata": {},
   "outputs": [
    {
     "name": "stdout",
     "output_type": "stream",
     "text": [
      "How many elements do you want in your list : 5\n",
      "Enter the 1 element : a\n",
      "Enter the 2 element : c\n",
      "Enter the 3 element : c\n",
      "Enter the 4 element : c\n",
      "Enter the 5 element : b\n",
      "\n",
      "Unique list :  ['a', 'c', 'b']\n"
     ]
    }
   ],
   "source": [
    "# Now we can use same code to make function of removeing duplicates from there.\n",
    "\n",
    "def remove_dup(x):\n",
    "    \n",
    "    return list(dict.fromkeys(x))\n",
    "\n",
    "\n",
    "num = int(input(\"How many elements do you want in your list : \"))\n",
    "list1 = [input(f\"Enter the {i+1} element : \") for i in range(num)]\n",
    "print()\n",
    "print(\"Unique list : \", remove_dup(list1))"
   ]
  },
  {
   "cell_type": "code",
   "execution_count": 5,
   "id": "d4dc5079",
   "metadata": {},
   "outputs": [
    {
     "name": "stdout",
     "output_type": "stream",
     "text": [
      "Enter the sentances: hello python hello python \n",
      "List of items:  hello python\n"
     ]
    }
   ],
   "source": [
    "# function to remove duplicate words from a sentance\n",
    "\n",
    "def remove_dup(x):\n",
    "    return \" \".join(list(dict.fromkeys(x.split())))\n",
    "\n",
    "x = input(\"Enter the sentances: \")\n",
    "print(\"List of items: \", remove_dup(x))"
   ]
  },
  {
   "cell_type": "code",
   "execution_count": 9,
   "id": "988fe7a6",
   "metadata": {},
   "outputs": [
    {
     "name": "stdout",
     "output_type": "stream",
     "text": [
      "Enter the string: hello python python\n",
      "List of items: hello python\n"
     ]
    }
   ],
   "source": [
    "# function to remove duplicate words from a string\n",
    "\n",
    "def my_function(x):\n",
    "    mylist = x.split()\n",
    "        \n",
    "    new_list = list(dict.fromkeys(mylist))\n",
    "    return \" \".join(new_list)\n",
    "\n",
    "x = input(\"Enter the string: \")\n",
    "print(\"List of items:\",my_function(x))\n"
   ]
  },
  {
   "cell_type": "code",
   "execution_count": 10,
   "id": "7ddfdceb",
   "metadata": {},
   "outputs": [
    {
     "name": "stdout",
     "output_type": "stream",
     "text": [
      "Enter the sentances: hello Hello Hello Python python\n",
      "List of items:  hello python\n"
     ]
    }
   ],
   "source": [
    "#### Hnadling  the Case Sensitive \n",
    "def remove_dup(x):\n",
    "    mylist = x.lower().split()\n",
    "    \n",
    "#     mylist = []\n",
    "#     for i in x.split():\n",
    "#         mylist.append(i.lower())\n",
    "        \n",
    "    return \" \".join(list(dict.fromkeys(mylist)))\n",
    "\n",
    "x = input(\"Enter the sentances: \")\n",
    "print(\"List of items: \", remove_dup(x))"
   ]
  },
  {
   "cell_type": "code",
   "execution_count": 2,
   "id": "8345d65e",
   "metadata": {},
   "outputs": [],
   "source": [
    "# we can do it normal way as well\n"
   ]
  },
  {
   "cell_type": "markdown",
   "id": "07afba45",
   "metadata": {},
   "source": [
    "#### How to Reverse a String in Python"
   ]
  },
  {
   "cell_type": "markdown",
   "id": "9d06e08d",
   "metadata": {},
   "source": [
    "There is no built-in function to reverse a String in Python.\n",
    "\n",
    "The fastest (and easiest?) way is to use a slice that steps backwards, `-1`.\n",
    "\n",
    "Example\n",
    "Reverse the string `\"Hello World\"`:"
   ]
  },
  {
   "cell_type": "code",
   "execution_count": 18,
   "id": "ed2aada9",
   "metadata": {},
   "outputs": [
    {
     "name": "stdout",
     "output_type": "stream",
     "text": [
      "dlroW olleH\n"
     ]
    }
   ],
   "source": [
    "txt = \"Hello World\"[::-1]\n",
    "print(txt)"
   ]
  },
  {
   "cell_type": "markdown",
   "id": "42774271",
   "metadata": {},
   "source": [
    "#### Example Explained\n",
    "\n",
    "We have a string, \"Hello World\", which we want to reverse:\n",
    "\n",
    "`Create a slice that starts at the end of the string, and moves backwards.`\n",
    "\n",
    "In this particular example, the slice statement` [::-1]` means start at the end of the string and end at position 0, move with the step -1, negative one, which means one step backwards."
   ]
  },
  {
   "cell_type": "markdown",
   "id": "6dace4dc",
   "metadata": {},
   "source": [
    "#### Create a Function\n",
    "\n",
    "If you like to have a function where you can send your strings, and return them backwards, you can create a function and insert the code from the example above."
   ]
  },
  {
   "cell_type": "code",
   "execution_count": 19,
   "id": "00b63a1c",
   "metadata": {},
   "outputs": [
    {
     "name": "stdout",
     "output_type": "stream",
     "text": [
      "sdrawkcab ekil skool txet siht woh rednow I\n"
     ]
    }
   ],
   "source": [
    "def my_function(x):\n",
    "    return x[::-1]\n",
    "\n",
    "mytxt = my_function(\"I wonder how this text looks like backwards\")\n",
    "\n",
    "print(mytxt)"
   ]
  },
  {
   "cell_type": "markdown",
   "id": "822cb9f5",
   "metadata": {},
   "source": [
    "#### Add Two Numbers with User Input\n",
    "In this example, the user must input two numbers. Then we print the sum by calculating (adding) the two numbers:"
   ]
  },
  {
   "cell_type": "code",
   "execution_count": 20,
   "id": "76c106e3",
   "metadata": {},
   "outputs": [
    {
     "name": "stdout",
     "output_type": "stream",
     "text": [
      "Type a number: 5\n",
      "Type another number: 5\n",
      "The sum is:  10\n"
     ]
    }
   ],
   "source": [
    "x = input(\"Type a number: \")\n",
    "y = input(\"Type another number: \")\n",
    "\n",
    "sum = int(x) + int(y)\n",
    "\n",
    "print(\"The sum is: \", sum)"
   ]
  },
  {
   "cell_type": "markdown",
   "id": "47a4d8b5",
   "metadata": {},
   "source": [
    "Thak You 👍"
   ]
  }
 ],
 "metadata": {
  "kernelspec": {
   "display_name": "Python 3 (ipykernel)",
   "language": "python",
   "name": "python3"
  },
  "language_info": {
   "codemirror_mode": {
    "name": "ipython",
    "version": 3
   },
   "file_extension": ".py",
   "mimetype": "text/x-python",
   "name": "python",
   "nbconvert_exporter": "python",
   "pygments_lexer": "ipython3",
   "version": "3.9.7"
  }
 },
 "nbformat": 4,
 "nbformat_minor": 5
}

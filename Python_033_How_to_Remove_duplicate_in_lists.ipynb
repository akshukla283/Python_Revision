{
 "cells": [
  {
   "cell_type": "markdown",
   "id": "f7e6e794",
   "metadata": {},
   "source": [
    "#### How to Remove Duplicates From a Python List"
   ]
  },
  {
   "cell_type": "code",
   "execution_count": 1,
   "id": "762cd8de",
   "metadata": {},
   "outputs": [],
   "source": [
    "# Remove any duplicate from a List:\n",
    "\n",
    "mylist = [\"a\", \"b\", \"a\", \"c\", \"c\"]\n",
    "\n"
   ]
  },
  {
   "cell_type": "code",
   "execution_count": 2,
   "id": "ef4e4bed",
   "metadata": {},
   "outputs": [
    {
     "name": "stdout",
     "output_type": "stream",
     "text": [
      "['a', 'b', 'c']\n"
     ]
    }
   ],
   "source": [
    "mylist = list(dict.fromkeys(mylist))\n",
    "print(mylist)"
   ]
  },
  {
   "cell_type": "markdown",
   "id": "9e14bff1",
   "metadata": {},
   "source": [
    "#### Example Explained\n",
    "First we have a List that contains duplicates:"
   ]
  },
  {
   "cell_type": "code",
   "execution_count": 3,
   "id": "dce932e1",
   "metadata": {},
   "outputs": [],
   "source": [
    "mylist = [\"a\", \"b\", \"a\", \"c\", \"c\"]"
   ]
  },
  {
   "cell_type": "markdown",
   "id": "81dddba0",
   "metadata": {},
   "source": [
    "#### Create a Dictionary\n",
    "\n",
    "`Create a dictionary, using the List items as keys. This will automatically remove any duplicates because dictionaries cannot have duplicate keys.`"
   ]
  },
  {
   "cell_type": "code",
   "execution_count": 4,
   "id": "548e40f4",
   "metadata": {},
   "outputs": [],
   "source": [
    "mydict = dict.fromkeys(mylist)"
   ]
  },
  {
   "cell_type": "code",
   "execution_count": 5,
   "id": "f5e5efb4",
   "metadata": {},
   "outputs": [
    {
     "name": "stdout",
     "output_type": "stream",
     "text": [
      "{'a': None, 'b': None, 'c': None}\n"
     ]
    }
   ],
   "source": [
    "print(mydict)"
   ]
  },
  {
   "cell_type": "markdown",
   "id": "f3aceb67",
   "metadata": {},
   "source": [
    "`Then, convert the dictionary back into a list:`"
   ]
  },
  {
   "cell_type": "code",
   "execution_count": 6,
   "id": "f4e230dc",
   "metadata": {},
   "outputs": [
    {
     "name": "stdout",
     "output_type": "stream",
     "text": [
      "['a', 'b', 'c']\n"
     ]
    }
   ],
   "source": [
    "my_newList = list(mydict)\n",
    "print(my_newList)"
   ]
  },
  {
   "cell_type": "markdown",
   "id": "360c354c",
   "metadata": {},
   "source": [
    "`Now we have a List without any duplicates, and it has the same order as the original List.`\n",
    "\n",
    "`Print the List to demonstrate the result`"
   ]
  },
  {
   "cell_type": "code",
   "execution_count": 7,
   "id": "b75e22dd",
   "metadata": {},
   "outputs": [
    {
     "name": "stdout",
     "output_type": "stream",
     "text": [
      "['a', 'b', 'c']\n"
     ]
    }
   ],
   "source": [
    "print(my_newList)"
   ]
  },
  {
   "cell_type": "markdown",
   "id": "c336f3de",
   "metadata": {},
   "source": [
    "####  Create a Function\n",
    "`If you like to have a function where you can send your lists, and get them back without duplicates, you can create a function and insert the code from the example above.`\n",
    "\n",
    "#### Example"
   ]
  },
  {
   "cell_type": "code",
   "execution_count": 9,
   "id": "bf318fc7",
   "metadata": {},
   "outputs": [
    {
     "name": "stdout",
     "output_type": "stream",
     "text": [
      "['a', 'b', 'c']\n"
     ]
    }
   ],
   "source": [
    "\n",
    "def my_function(x):\n",
    "    \n",
    "    return list(dict.fromkeys(x))\n",
    "\n",
    "mylist = my_function([\"a\", \"b\", \"a\", \"c\", \"c\"])\n",
    "\n",
    "print(mylist)"
   ]
  },
  {
   "cell_type": "markdown",
   "id": "9f57cb3b",
   "metadata": {},
   "source": [
    "#### Taking list as input\n"
   ]
  },
  {
   "cell_type": "code",
   "execution_count": 11,
   "id": "f2ae782c",
   "metadata": {},
   "outputs": [
    {
     "name": "stdout",
     "output_type": "stream",
     "text": [
      "Enter number of elements (len) : 6\n",
      "a\n",
      "b\n",
      "c\n",
      "d\n",
      "e\n",
      "f\n",
      "['a', 'b', 'c', 'd', 'e', 'f']\n"
     ]
    }
   ],
   "source": [
    "# creating an empty list\n",
    "lst = []\n",
    " \n",
    "# number of elements as input\n",
    "n = int(input(\"Enter number of elements (len) : \"))\n",
    " \n",
    "# iterating till the range\n",
    "for i in range(0, n):\n",
    "    ele = input()\n",
    " \n",
    "    lst.append(ele) # adding the element\n",
    "     \n",
    "print(lst)"
   ]
  },
  {
   "cell_type": "code",
   "execution_count": 12,
   "id": "f2cd4230",
   "metadata": {},
   "outputs": [
    {
     "name": "stdout",
     "output_type": "stream",
     "text": [
      "Enter the string: hello\n",
      "List of items: ['h', 'e', 'l', 'o']\n"
     ]
    }
   ],
   "source": [
    "# function to remove duplicate from a string\n",
    "\n",
    "def my_function(x):\n",
    "    mylist = []\n",
    "    for i in x:\n",
    "        mylist.append(i)\n",
    "        \n",
    "    \n",
    "    return list(dict.fromkeys(mylist))\n",
    "\n",
    "x = input(\"Enter the string: \")\n",
    "print(\"List of items:\",my_function(x))\n"
   ]
  },
  {
   "cell_type": "code",
   "execution_count": 13,
   "id": "d4dc5079",
   "metadata": {},
   "outputs": [
    {
     "name": "stdout",
     "output_type": "stream",
     "text": [
      "Enter the sentances: hello Python, hello how are you hello\n",
      "List of items:  ['hello', 'Python,', 'how', 'are', 'you']\n"
     ]
    }
   ],
   "source": [
    "# function to remove duplicate from a sentance\n",
    "\n",
    "def remove_dup(x):\n",
    "    return list(dict.fromkeys(x.split()))\n",
    "\n",
    "x = input(\"Enter the sentances: \")\n",
    "print(\"List of items: \", remove_dup(x))"
   ]
  },
  {
   "cell_type": "code",
   "execution_count": 16,
   "id": "988fe7a6",
   "metadata": {},
   "outputs": [
    {
     "name": "stdout",
     "output_type": "stream",
     "text": [
      "Enter the string: sdgdfgdfhdf\n",
      "List of items: sdgfh\n"
     ]
    }
   ],
   "source": [
    "# function to remove duplicate from a string\n",
    "\n",
    "def my_function(x):\n",
    "    mylist = []\n",
    "    for i in x:\n",
    "        mylist.append(i)\n",
    "        \n",
    "    new_list = list(dict.fromkeys(mylist))\n",
    "    return \"\".join(new_list)\n",
    "\n",
    "x = input(\"Enter the string: \")\n",
    "print(\"List of items:\",my_function(x))\n"
   ]
  },
  {
   "cell_type": "code",
   "execution_count": 17,
   "id": "7ddfdceb",
   "metadata": {},
   "outputs": [
    {
     "name": "stdout",
     "output_type": "stream",
     "text": [
      "Enter the sentances: Hello hello \n",
      "List of items:  ['hello']\n"
     ]
    }
   ],
   "source": [
    "#### Hnadling  the Case Sensitive \n",
    "def remove_dup(x):\n",
    "    \n",
    "    mylist = []\n",
    "    for i in x.split():\n",
    "        mylist.append(i.lower())\n",
    "        \n",
    "    return list(dict.fromkeys(mylist))\n",
    "\n",
    "x = input(\"Enter the sentances: \")\n",
    "print(\"List of items: \", remove_dup(x))"
   ]
  },
  {
   "cell_type": "markdown",
   "id": "07afba45",
   "metadata": {},
   "source": [
    "#### How to Reverse a String in Python"
   ]
  },
  {
   "cell_type": "markdown",
   "id": "9d06e08d",
   "metadata": {},
   "source": [
    "There is no built-in function to reverse a String in Python.\n",
    "\n",
    "The fastest (and easiest?) way is to use a slice that steps backwards, `-1`.\n",
    "\n",
    "Example\n",
    "Reverse the string `\"Hello World\"`:"
   ]
  },
  {
   "cell_type": "code",
   "execution_count": 18,
   "id": "ed2aada9",
   "metadata": {},
   "outputs": [
    {
     "name": "stdout",
     "output_type": "stream",
     "text": [
      "dlroW olleH\n"
     ]
    }
   ],
   "source": [
    "txt = \"Hello World\"[::-1]\n",
    "print(txt)"
   ]
  },
  {
   "cell_type": "markdown",
   "id": "42774271",
   "metadata": {},
   "source": [
    "#### Example Explained\n",
    "\n",
    "We have a string, \"Hello World\", which we want to reverse:\n",
    "\n",
    "`Create a slice that starts at the end of the string, and moves backwards.`\n",
    "\n",
    "In this particular example, the slice statement` [::-1]` means start at the end of the string and end at position 0, move with the step -1, negative one, which means one step backwards."
   ]
  },
  {
   "cell_type": "markdown",
   "id": "6dace4dc",
   "metadata": {},
   "source": [
    "#### Create a Function\n",
    "\n",
    "If you like to have a function where you can send your strings, and return them backwards, you can create a function and insert the code from the example above."
   ]
  },
  {
   "cell_type": "code",
   "execution_count": 19,
   "id": "00b63a1c",
   "metadata": {},
   "outputs": [
    {
     "name": "stdout",
     "output_type": "stream",
     "text": [
      "sdrawkcab ekil skool txet siht woh rednow I\n"
     ]
    }
   ],
   "source": [
    "def my_function(x):\n",
    "    return x[::-1]\n",
    "\n",
    "mytxt = my_function(\"I wonder how this text looks like backwards\")\n",
    "\n",
    "print(mytxt)"
   ]
  },
  {
   "cell_type": "markdown",
   "id": "822cb9f5",
   "metadata": {},
   "source": [
    "#### Add Two Numbers with User Input\n",
    "In this example, the user must input two numbers. Then we print the sum by calculating (adding) the two numbers:"
   ]
  },
  {
   "cell_type": "code",
   "execution_count": 20,
   "id": "76c106e3",
   "metadata": {},
   "outputs": [
    {
     "name": "stdout",
     "output_type": "stream",
     "text": [
      "Type a number: 5\n",
      "Type another number: 5\n",
      "The sum is:  10\n"
     ]
    }
   ],
   "source": [
    "x = input(\"Type a number: \")\n",
    "y = input(\"Type another number: \")\n",
    "\n",
    "sum = int(x) + int(y)\n",
    "\n",
    "print(\"The sum is: \", sum)"
   ]
  },
  {
   "cell_type": "markdown",
   "id": "47a4d8b5",
   "metadata": {},
   "source": [
    "Thak You 👍"
   ]
  }
 ],
 "metadata": {
  "kernelspec": {
   "display_name": "Python 3 (ipykernel)",
   "language": "python",
   "name": "python3"
  },
  "language_info": {
   "codemirror_mode": {
    "name": "ipython",
    "version": 3
   },
   "file_extension": ".py",
   "mimetype": "text/x-python",
   "name": "python",
   "nbconvert_exporter": "python",
   "pygments_lexer": "ipython3",
   "version": "3.7.8"
  }
 },
 "nbformat": 4,
 "nbformat_minor": 5
}

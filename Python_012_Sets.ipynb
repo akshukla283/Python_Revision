{
 "cells": [
  {
   "cell_type": "markdown",
   "id": "654f9c9c",
   "metadata": {},
   "source": [
    "#### Set\n",
    "`Sets `are used to store multiple items in a single variable.\n",
    "\n",
    "`Set` is one of 4 built-in data types in Python used to store collections of data, the other 3 are List, Tuple, and Dictionary, all with different qualities and usage.\n",
    "\n",
    "`A set is a collection which is unordered, unchangeable*, and unindexed.`\n",
    "\n",
    "* `Note:` Set items are unchangeable, but you can remove items and add new items.\n",
    "\n",
    "* `Sets are written with curly brackets`."
   ]
  },
  {
   "cell_type": "code",
   "execution_count": 1,
   "id": "2faca55a",
   "metadata": {},
   "outputs": [],
   "source": [
    "myset = {\"apple\", \"banana\", \"cherry\"}"
   ]
  },
  {
   "cell_type": "code",
   "execution_count": 2,
   "id": "d7ae8be8",
   "metadata": {},
   "outputs": [
    {
     "data": {
      "text/plain": [
       "set"
      ]
     },
     "execution_count": 2,
     "metadata": {},
     "output_type": "execute_result"
    }
   ],
   "source": [
    "type(myset)"
   ]
  },
  {
   "cell_type": "code",
   "execution_count": 3,
   "id": "19363958",
   "metadata": {},
   "outputs": [
    {
     "name": "stdout",
     "output_type": "stream",
     "text": [
      "{'cherry', 'banana', 'apple'}\n"
     ]
    }
   ],
   "source": [
    "print(myset)"
   ]
  },
  {
   "cell_type": "markdown",
   "id": "8c25f5e2",
   "metadata": {},
   "source": [
    "**Note:** Sets are unordered, so you cannot be sure in which order the items will appear.\n",
    "\n",
    "* `Set Items`\n",
    "Set items are unordered, unchangeable, and do not allow duplicate values.\n",
    "\n",
    "* `Unordered`\n",
    "Unordered means that the items in a set do not have a defined order.\n",
    "\n",
    "Set items can appear in a different order every time you use them, and cannot be referred to by index or key.\n",
    "\n",
    "* `Unchangeable`\n",
    "Set items are unchangeable, meaning that we cannot change the items after the set has been created.\n",
    "\n",
    "Once a set is created, you cannot change its items, but you can remove items and add new items.\n",
    "\n",
    "* `Duplicates Not Allowed`\n",
    "Sets cannot have two items with the same value."
   ]
  },
  {
   "cell_type": "code",
   "execution_count": 5,
   "id": "27e02522",
   "metadata": {},
   "outputs": [
    {
     "name": "stdout",
     "output_type": "stream",
     "text": [
      "{'banana', 'cherry', 'apple'}\n"
     ]
    }
   ],
   "source": [
    "thisset = {\"apple\",\"banana\", \"cherry\", \"apple\"}\n",
    "\n",
    "print(thisset)"
   ]
  },
  {
   "cell_type": "markdown",
   "id": "735e4fcd",
   "metadata": {},
   "source": [
    "As we can see that there is no duplicates allowed"
   ]
  },
  {
   "cell_type": "markdown",
   "id": "cc95fb8f",
   "metadata": {},
   "source": [
    "####  Get the Length of a Set\n",
    "To determine how many items a set has, use the `len()` function."
   ]
  },
  {
   "cell_type": "code",
   "execution_count": 6,
   "id": "d7277bf5",
   "metadata": {},
   "outputs": [
    {
     "name": "stdout",
     "output_type": "stream",
     "text": [
      "3\n"
     ]
    }
   ],
   "source": [
    "thisset = {\"apple\", \"banana\", \"cherry\"}\n",
    "\n",
    "print(len(thisset))"
   ]
  },
  {
   "cell_type": "markdown",
   "id": "a6f77afc",
   "metadata": {},
   "source": [
    "#### Data Types\n",
    "Set items can be any data types"
   ]
  },
  {
   "cell_type": "code",
   "execution_count": 7,
   "id": "5e8a35c8",
   "metadata": {},
   "outputs": [
    {
     "name": "stdout",
     "output_type": "stream",
     "text": [
      "<class 'set'>\n",
      "<class 'set'>\n",
      "<class 'set'>\n"
     ]
    }
   ],
   "source": [
    "set1 = {\"apple\", \"banana\", \"cherry\"}\n",
    "set2 = {1, 5, 7, 9, 3}\n",
    "set3 = {True, False, False}\n",
    "\n",
    "print(type(set1))\n",
    "print(type(set2))\n",
    "print(type(set3))"
   ]
  },
  {
   "cell_type": "markdown",
   "id": "9efcd411",
   "metadata": {},
   "source": [
    "A set can contain different data types:"
   ]
  },
  {
   "cell_type": "code",
   "execution_count": 8,
   "id": "041b73fd",
   "metadata": {},
   "outputs": [
    {
     "name": "stdout",
     "output_type": "stream",
     "text": [
      "<class 'set'>\n"
     ]
    }
   ],
   "source": [
    "set1 = {\"abc\", 34, True, 40, \"Male\"}\n",
    "\n",
    "print(type(set1))"
   ]
  },
  {
   "cell_type": "markdown",
   "id": "cbeb419d",
   "metadata": {},
   "source": [
    "#### The set() Constructor\n",
    "It is also possible to use the `set()` constructor to make a set."
   ]
  },
  {
   "cell_type": "code",
   "execution_count": 9,
   "id": "55003ac9",
   "metadata": {},
   "outputs": [
    {
     "name": "stdout",
     "output_type": "stream",
     "text": [
      "{'banana', 'cherry', 'apple'}\n"
     ]
    }
   ],
   "source": [
    "thisset = set((\"apple\", \"banana\", \"cherry\"))\n",
    "# note the double round-brackets\n",
    "print(thisset)\n"
   ]
  },
  {
   "cell_type": "code",
   "execution_count": 10,
   "id": "1ebd8565",
   "metadata": {},
   "outputs": [
    {
     "name": "stdout",
     "output_type": "stream",
     "text": [
      "{'cherry', 'banana', 'apple'}\n"
     ]
    }
   ],
   "source": [
    "thisset = set({\"apple\", \"banana\", \"cherry\"})\n",
    "\n",
    "print(thisset)\n",
    "\n",
    "# we can make set by using set constructor on set as well "
   ]
  },
  {
   "cell_type": "code",
   "execution_count": 4,
   "id": "03625606",
   "metadata": {},
   "outputs": [
    {
     "name": "stdout",
     "output_type": "stream",
     "text": [
      "{'cherry', 'banana', 'apple'}\n"
     ]
    }
   ],
   "source": [
    "thisset = set([\"apple\", \"banana\", \"cherry\"])\n",
    "\n",
    "print(thisset)\n",
    "\n"
   ]
  },
  {
   "cell_type": "code",
   "execution_count": 5,
   "id": "bf903e15",
   "metadata": {},
   "outputs": [
    {
     "name": "stdout",
     "output_type": "stream",
     "text": [
      "{1, 2, 3}\n"
     ]
    }
   ],
   "source": [
    "thisset = set({1:\"apple\", 2:\"banana\", 3:\"cherry\"})\n",
    "\n",
    "print(thisset)\n"
   ]
  },
  {
   "cell_type": "code",
   "execution_count": 6,
   "id": "048017a7",
   "metadata": {},
   "outputs": [
    {
     "name": "stdout",
     "output_type": "stream",
     "text": [
      "{'cherry', 'banana', 'apple'}\n"
     ]
    }
   ],
   "source": [
    "thisset = set({1:\"apple\", 2:\"banana\", 3:\"cherry\"}.values())\n",
    "\n",
    "print(thisset)"
   ]
  },
  {
   "cell_type": "code",
   "execution_count": 7,
   "id": "4f434975",
   "metadata": {},
   "outputs": [
    {
     "name": "stdout",
     "output_type": "stream",
     "text": [
      "{1, 2, 3}\n"
     ]
    }
   ],
   "source": [
    "thisset = set({1:\"apple\", 2:\"banana\", 3:\"cherry\"}.keys())\n",
    "\n",
    "print(thisset)"
   ]
  },
  {
   "cell_type": "code",
   "execution_count": 8,
   "id": "6f6505ce",
   "metadata": {},
   "outputs": [
    {
     "name": "stdout",
     "output_type": "stream",
     "text": [
      "{(3, 'cherry'), (1, 'apple'), (2, 'banana')}\n"
     ]
    }
   ],
   "source": [
    "thisset = set({1:\"apple\", 2:\"banana\", 3:\"cherry\"}.items())\n",
    "\n",
    "print(thisset)"
   ]
  },
  {
   "cell_type": "code",
   "execution_count": null,
   "id": "17895b35",
   "metadata": {},
   "outputs": [],
   "source": []
  },
  {
   "cell_type": "markdown",
   "id": "bc864fb6",
   "metadata": {},
   "source": [
    "#### Python Collections (Arrays)\n",
    "There are four collection data types in the Python programming language:\n",
    "\n",
    "* `List` is a collection which is ordered and changeable. Allows duplicate members.\n",
    "\n",
    "* `Tuple` is a collection which is ordered and unchangeable. Allows duplicate members.\n",
    "\n",
    "* `Set` is a collection which is unordered, unchangeable*, and unindexed. No duplicate members.\n",
    "\n",
    "* `Dictionary` is a collection which is ordered** and changeable. No duplicate members.\n",
    "\n",
    "*Set items are unchangeable, but you can remove items and add new items.\n",
    "\n",
    "**As of Python version 3.7, dictionaries are ordered. In Python 3.6 and earlier, dictionaries are unordered.\n",
    "\n",
    "When choosing a collection type, it is useful to understand the properties of that type. Choosing the right type for a particular data set could mean retention of meaning, and, it could mean an increase in efficiency or security."
   ]
  },
  {
   "cell_type": "markdown",
   "id": "36ae1f88",
   "metadata": {},
   "source": [
    "#### Access Items\n",
    "You cannot access items in a set by referring to an index or a key.\n",
    "\n",
    "But you can loop through the set items using a `for` loop, or ask if a specified value is present in a set, by using the `in` keyword."
   ]
  },
  {
   "cell_type": "code",
   "execution_count": 10,
   "id": "98c726d5",
   "metadata": {},
   "outputs": [
    {
     "name": "stdout",
     "output_type": "stream",
     "text": [
      "banana\n",
      "cherry\n",
      "apple\n"
     ]
    }
   ],
   "source": [
    "thisset = {\"apple\", \"banana\", \"cherry\"}\n",
    "\n",
    "for x in thisset:\n",
    "    print(x)"
   ]
  },
  {
   "cell_type": "code",
   "execution_count": 11,
   "id": "6eca4ecf",
   "metadata": {},
   "outputs": [
    {
     "name": "stdout",
     "output_type": "stream",
     "text": [
      "True\n"
     ]
    }
   ],
   "source": [
    "# Check if \"banana\" is present in the set:\n",
    "thisset = {\"apple\", \"banana\", \"cherry\"}\n",
    "\n",
    "print(\"banana\" in thisset)"
   ]
  },
  {
   "cell_type": "markdown",
   "id": "2dfeccd5",
   "metadata": {},
   "source": [
    "#### Change Items\n",
    "Once a set is created, you cannot change its items, but you can add new items."
   ]
  },
  {
   "cell_type": "markdown",
   "id": "2d81ce28",
   "metadata": {},
   "source": [
    "#### Add Items\n",
    "Once a set is created, you cannot change its items, but you can add new items.\n",
    "\n",
    "To add one item to a set use the `add()` method."
   ]
  },
  {
   "cell_type": "code",
   "execution_count": 12,
   "id": "817f0f1d",
   "metadata": {},
   "outputs": [
    {
     "name": "stdout",
     "output_type": "stream",
     "text": [
      "{'orange', 'banana', 'cherry', 'apple'}\n"
     ]
    }
   ],
   "source": [
    "thisset = {\"apple\", \"banana\", \"cherry\"}\n",
    "\n",
    "thisset.add(\"orange\")\n",
    "print(thisset)"
   ]
  },
  {
   "cell_type": "code",
   "execution_count": 13,
   "id": "b8ec8dfd",
   "metadata": {},
   "outputs": [
    {
     "name": "stdout",
     "output_type": "stream",
     "text": [
      "{'cherry', 'banana', 'apple', 'orange', 'mango'}\n"
     ]
    }
   ],
   "source": [
    "thisset.add(\"mango\")\n",
    "print(thisset)"
   ]
  },
  {
   "cell_type": "code",
   "execution_count": 11,
   "id": "ff4792da",
   "metadata": {},
   "outputs": [
    {
     "ename": "TypeError",
     "evalue": "set.add() takes exactly one argument (2 given)",
     "output_type": "error",
     "traceback": [
      "\u001b[1;31m---------------------------------------------------------------------------\u001b[0m",
      "\u001b[1;31mTypeError\u001b[0m                                 Traceback (most recent call last)",
      "Input \u001b[1;32mIn [11]\u001b[0m, in \u001b[0;36m<cell line: 3>\u001b[1;34m()\u001b[0m\n\u001b[0;32m      1\u001b[0m thisset \u001b[38;5;241m=\u001b[39m {\u001b[38;5;124m\"\u001b[39m\u001b[38;5;124mapple\u001b[39m\u001b[38;5;124m\"\u001b[39m, \u001b[38;5;124m\"\u001b[39m\u001b[38;5;124mbanana\u001b[39m\u001b[38;5;124m\"\u001b[39m, \u001b[38;5;124m\"\u001b[39m\u001b[38;5;124mcherry\u001b[39m\u001b[38;5;124m\"\u001b[39m}\n\u001b[1;32m----> 3\u001b[0m \u001b[43mthisset\u001b[49m\u001b[38;5;241;43m.\u001b[39;49m\u001b[43madd\u001b[49m\u001b[43m(\u001b[49m\u001b[38;5;124;43m\"\u001b[39;49m\u001b[38;5;124;43morange\u001b[39;49m\u001b[38;5;124;43m\"\u001b[39;49m\u001b[43m,\u001b[49m\u001b[43m \u001b[49m\u001b[38;5;124;43m\"\u001b[39;49m\u001b[38;5;124;43mmango\u001b[39;49m\u001b[38;5;124;43m\"\u001b[39;49m\u001b[43m)\u001b[49m\n\u001b[0;32m      4\u001b[0m \u001b[38;5;28mprint\u001b[39m(thisset)\n",
      "\u001b[1;31mTypeError\u001b[0m: set.add() takes exactly one argument (2 given)"
     ]
    }
   ],
   "source": [
    "thisset = {\"apple\", \"banana\", \"cherry\"}\n",
    "\n",
    "thisset.add(\"orange\", \"mango\")\n",
    "print(thisset)"
   ]
  },
  {
   "cell_type": "markdown",
   "id": "70eacf9b",
   "metadata": {},
   "source": [
    "Add() method can take only one argument."
   ]
  },
  {
   "cell_type": "markdown",
   "id": "d55de08e",
   "metadata": {},
   "source": [
    "#### Add Sets\n",
    "To add items from another set into the current set, use the `update()` method."
   ]
  },
  {
   "cell_type": "code",
   "execution_count": 12,
   "id": "488bca42",
   "metadata": {},
   "outputs": [
    {
     "name": "stdout",
     "output_type": "stream",
     "text": [
      "{'cherry', 'papaya', 'banana', 'pineapple', 'mango', 'apple'}\n"
     ]
    }
   ],
   "source": [
    "thisset = {\"apple\", \"banana\", \"cherry\"}\n",
    "tropical = {\"pineapple\", \"mango\", \"papaya\"}\n",
    "\n",
    "thisset.update(tropical)\n",
    "\n",
    "print(thisset)"
   ]
  },
  {
   "cell_type": "code",
   "execution_count": 13,
   "id": "1595b968",
   "metadata": {},
   "outputs": [
    {
     "name": "stdout",
     "output_type": "stream",
     "text": [
      "{'cherry', 'papaya', 'banana', 'pineapple', 'mango', 'grape', 'apple', 'guawa'}\n"
     ]
    }
   ],
   "source": [
    "thisset.update((\"grape\", \"guawa\"))\n",
    "print(thisset)"
   ]
  },
  {
   "cell_type": "markdown",
   "id": "14b38ed1",
   "metadata": {},
   "source": [
    "#### Add Any Iterable\n",
    "The object in the `update()` method does not have to be a set, it can be any iterable object `(tuples, lists, dictionaries etc.)`."
   ]
  },
  {
   "cell_type": "code",
   "execution_count": 18,
   "id": "1e04d47a",
   "metadata": {},
   "outputs": [
    {
     "name": "stdout",
     "output_type": "stream",
     "text": [
      "{'cherry', 'banana', 'kiwi', 'apple', 'orange'}\n"
     ]
    }
   ],
   "source": [
    "# adding list into a set by update method\n",
    "thisset = {\"apple\", \"banana\", \"cherry\"}\n",
    "mylist = [\"kiwi\", \"orange\"]\n",
    "\n",
    "thisset.update(mylist)\n",
    "print(thisset)"
   ]
  },
  {
   "cell_type": "code",
   "execution_count": 17,
   "id": "c5c2b579",
   "metadata": {},
   "outputs": [
    {
     "name": "stdout",
     "output_type": "stream",
     "text": [
      "{'cherry', 'banana', 'kiwi', 'apple', 'orange'}\n"
     ]
    }
   ],
   "source": [
    "# adding tuple into set by update method\n",
    "thisset = {\"apple\", \"banana\", \"cherry\"}\n",
    "mylist = (\"kiwi\", \"orange\")\n",
    "\n",
    "thisset.update(mylist)\n",
    "print(thisset)"
   ]
  },
  {
   "cell_type": "code",
   "execution_count": 19,
   "id": "6ee5a8be",
   "metadata": {},
   "outputs": [
    {
     "name": "stdout",
     "output_type": "stream",
     "text": [
      "{1, 'cherry', 2, 'banana', 'apple'}\n"
     ]
    }
   ],
   "source": [
    "# adding dictionary into a set by update method\n",
    "\n",
    "thisset = {\"apple\", \"banana\", \"cherry\"}\n",
    "mylist = {1:\"kiwi\", 2:\"orange\"}\n",
    "\n",
    "thisset.update(mylist)\n",
    "print(thisset)"
   ]
  },
  {
   "cell_type": "code",
   "execution_count": 20,
   "id": "8018d8f3",
   "metadata": {},
   "outputs": [
    {
     "name": "stdout",
     "output_type": "stream",
     "text": [
      "{'cherry', 'banana', 'kiwi', 'apple', 'orange'}\n"
     ]
    }
   ],
   "source": [
    "# this time adding value of a dictionary into a set using updade method\n",
    "\n",
    "thisset = {\"apple\", \"banana\", \"cherry\"}\n",
    "mylist = {1:\"kiwi\",2:\"orange\"}\n",
    "\n",
    "thisset.update(mylist.values())\n",
    "print(thisset)"
   ]
  },
  {
   "cell_type": "markdown",
   "id": "eea1e268",
   "metadata": {},
   "source": [
    "As we can see that we added value from a dictionary key-value pair."
   ]
  },
  {
   "cell_type": "code",
   "execution_count": 21,
   "id": "06fb1f78",
   "metadata": {},
   "outputs": [
    {
     "name": "stdout",
     "output_type": "stream",
     "text": [
      "{'cherry', 'banana', 'apple', (2, 'orange'), (1, 'kiwi')}\n"
     ]
    }
   ],
   "source": [
    "# this time we will add key and value from a dictionary to set by update method.\n",
    "\n",
    "thisset = {\"apple\", \"banana\", \"cherry\"}\n",
    "mylist = {1:\"kiwi\",2:\"orange\"}\n",
    "\n",
    "thisset.update(mylist.items())\n",
    "print(thisset)"
   ]
  },
  {
   "cell_type": "markdown",
   "id": "02461ac2",
   "metadata": {},
   "source": [
    "As we can see that we have successfully added key and value pair to the set."
   ]
  },
  {
   "cell_type": "markdown",
   "id": "0d2590f7",
   "metadata": {},
   "source": [
    "#### Remove Item\n",
    "To remove an item in a set, use the `remove()`, or the `discard()` method.\n",
    "\n",
    "* This method change the original set and return nothing while changing the set.\n",
    "\n",
    "`Example`\n",
    "Remove \"banana\" by using the `remove()` method:"
   ]
  },
  {
   "cell_type": "code",
   "execution_count": 24,
   "id": "b51ac7f0",
   "metadata": {},
   "outputs": [
    {
     "name": "stdout",
     "output_type": "stream",
     "text": [
      "{'cherry', 'apple'}\n",
      "\n",
      "Return value :  None\n"
     ]
    }
   ],
   "source": [
    "thisset = {\"apple\", \"banana\", \"cherry\"}\n",
    "\n",
    "new = thisset.remove(\"banana\")\n",
    "\n",
    "print(thisset)\n",
    "print()\n",
    "print(\"Return value : \", new)"
   ]
  },
  {
   "cell_type": "markdown",
   "id": "7dffd474",
   "metadata": {},
   "source": [
    "`Note:` If the item to remove does not exist, remove() will raise an error."
   ]
  },
  {
   "cell_type": "code",
   "execution_count": 25,
   "id": "3fde73f3",
   "metadata": {},
   "outputs": [
    {
     "ename": "KeyError",
     "evalue": "'mango'",
     "output_type": "error",
     "traceback": [
      "\u001b[1;31m---------------------------------------------------------------------------\u001b[0m",
      "\u001b[1;31mKeyError\u001b[0m                                  Traceback (most recent call last)",
      "Input \u001b[1;32mIn [25]\u001b[0m, in \u001b[0;36m<cell line: 1>\u001b[1;34m()\u001b[0m\n\u001b[1;32m----> 1\u001b[0m \u001b[43mthisset\u001b[49m\u001b[38;5;241;43m.\u001b[39;49m\u001b[43mremove\u001b[49m\u001b[43m(\u001b[49m\u001b[38;5;124;43m\"\u001b[39;49m\u001b[38;5;124;43mmango\u001b[39;49m\u001b[38;5;124;43m\"\u001b[39;49m\u001b[43m)\u001b[49m\n\u001b[0;32m      2\u001b[0m \u001b[38;5;28mprint\u001b[39m(thisset)\n",
      "\u001b[1;31mKeyError\u001b[0m: 'mango'"
     ]
    }
   ],
   "source": [
    "thisset.remove(\"mango\")\n",
    "print(thisset)"
   ]
  },
  {
   "cell_type": "markdown",
   "id": "3eb6d0c9",
   "metadata": {},
   "source": [
    "#### discard()\n",
    "\n",
    "`Note:` If the item to remove does not exist, discard() will NOT raise an error.\n",
    "* This method change the original set and return nothing while changing the set."
   ]
  },
  {
   "cell_type": "code",
   "execution_count": 14,
   "id": "8a116dd6",
   "metadata": {},
   "outputs": [
    {
     "name": "stdout",
     "output_type": "stream",
     "text": [
      "{'cherry', 'apple'}\n",
      "\n",
      "Return value :  None\n"
     ]
    }
   ],
   "source": [
    "# discards()\n",
    "\n",
    "thisset = {\"apple\", \"banana\", \"cherry\"}\n",
    "\n",
    "new  = thisset.discard(\"banana\")\n",
    "print(thisset)\n",
    "print()\n",
    "print(\"Return value : \", new)"
   ]
  },
  {
   "cell_type": "markdown",
   "id": "0ba6922f",
   "metadata": {},
   "source": [
    "`Note:` If the item to remove does not exist, discard() will NOT raise an error."
   ]
  },
  {
   "cell_type": "code",
   "execution_count": 15,
   "id": "cb54874e",
   "metadata": {},
   "outputs": [
    {
     "name": "stdout",
     "output_type": "stream",
     "text": [
      "{'cherry', 'banana', 'apple'}\n"
     ]
    }
   ],
   "source": [
    "thisset = {\"apple\", \"banana\", \"cherry\"}\n",
    "thisset.discard(\"mango\") # \"mango\" is not the set 'thislist'\n",
    "print(thisset)"
   ]
  },
  {
   "cell_type": "markdown",
   "id": "368bba1b",
   "metadata": {},
   "source": [
    "As we can see that there was no \"mango\" despite that discard method didn't raise an error this is the difference between remove and discard"
   ]
  },
  {
   "cell_type": "markdown",
   "id": "b6b104b2",
   "metadata": {},
   "source": [
    "#### pop()\n",
    "You can also use the `pop()` method to remove an item, but this method will remove the last item. Remember that sets are unordered, so you will not know what item that gets removed.\n",
    "\n",
    "The return value of the `pop()` method is the removed item.\n",
    "\n",
    "`Example`\n",
    "Remove the last item by using the `pop()` method:"
   ]
  },
  {
   "cell_type": "code",
   "execution_count": 39,
   "id": "8adbe1c2",
   "metadata": {},
   "outputs": [
    {
     "name": "stdout",
     "output_type": "stream",
     "text": [
      "Return popped value :  cherry\n",
      "{'banana', 'apple'}\n"
     ]
    }
   ],
   "source": [
    "thisset = {\"apple\", \"banana\", \"cherry\"}\n",
    "\n",
    "x = thisset.pop()\n",
    "\n",
    "print(\"Return popped value : \", x)\n",
    "print(thisset)"
   ]
  },
  {
   "cell_type": "code",
   "execution_count": 38,
   "id": "be6b353a",
   "metadata": {},
   "outputs": [
    {
     "ename": "TypeError",
     "evalue": "set.pop() takes no arguments (1 given)",
     "output_type": "error",
     "traceback": [
      "\u001b[1;31m---------------------------------------------------------------------------\u001b[0m",
      "\u001b[1;31mTypeError\u001b[0m                                 Traceback (most recent call last)",
      "Input \u001b[1;32mIn [38]\u001b[0m, in \u001b[0;36m<cell line: 3>\u001b[1;34m()\u001b[0m\n\u001b[0;32m      1\u001b[0m thisset \u001b[38;5;241m=\u001b[39m {\u001b[38;5;124m\"\u001b[39m\u001b[38;5;124mapple\u001b[39m\u001b[38;5;124m\"\u001b[39m, \u001b[38;5;124m\"\u001b[39m\u001b[38;5;124mbanana\u001b[39m\u001b[38;5;124m\"\u001b[39m, \u001b[38;5;124m\"\u001b[39m\u001b[38;5;124mcherry\u001b[39m\u001b[38;5;124m\"\u001b[39m}\n\u001b[1;32m----> 3\u001b[0m x \u001b[38;5;241m=\u001b[39m \u001b[43mthisset\u001b[49m\u001b[38;5;241;43m.\u001b[39;49m\u001b[43mpop\u001b[49m\u001b[43m(\u001b[49m\u001b[38;5;124;43m\"\u001b[39;49m\u001b[38;5;124;43mapple\u001b[39;49m\u001b[38;5;124;43m\"\u001b[39;49m\u001b[43m)\u001b[49m\n\u001b[0;32m      5\u001b[0m \u001b[38;5;28mprint\u001b[39m(\u001b[38;5;124m\"\u001b[39m\u001b[38;5;124mReturn popped value : \u001b[39m\u001b[38;5;124m\"\u001b[39m, x)\n\u001b[0;32m      6\u001b[0m \u001b[38;5;28mprint\u001b[39m(thisset)\n",
      "\u001b[1;31mTypeError\u001b[0m: set.pop() takes no arguments (1 given)"
     ]
    }
   ],
   "source": [
    "thisset = {\"apple\", \"banana\", \"cherry\"}\n",
    "\n",
    "x = thisset.pop(\"apple\")\n",
    "\n",
    "print(\"Return popped value : \", x)\n",
    "print(thisset)"
   ]
  },
  {
   "cell_type": "markdown",
   "id": "00bb7df8",
   "metadata": {},
   "source": [
    "`Note:` Sets are unordered, so when using the pop() method, you do not know which item that gets removed."
   ]
  },
  {
   "cell_type": "markdown",
   "id": "99744e9f",
   "metadata": {},
   "source": [
    "#### clear()\n",
    "\n",
    "`Example`\n",
    "\n",
    "The `clear()` method empties the set:\n",
    "* This method change the original set and return nothing while changing the set."
   ]
  },
  {
   "cell_type": "code",
   "execution_count": 31,
   "id": "8be6ea43",
   "metadata": {},
   "outputs": [
    {
     "name": "stdout",
     "output_type": "stream",
     "text": [
      "set()\n",
      "\n",
      "Return value :  None\n"
     ]
    }
   ],
   "source": [
    "thisset = {\"apple\", \"banana\", \"cherry\"}\n",
    "\n",
    "new = thisset.clear()\n",
    "\n",
    "print(thisset)\n",
    "print()\n",
    "print(\"Return value : \", new)"
   ]
  },
  {
   "cell_type": "markdown",
   "id": "0d099529",
   "metadata": {},
   "source": [
    "#### del\n",
    "\n",
    "the `del` keyword will delete the set completely"
   ]
  },
  {
   "cell_type": "code",
   "execution_count": 23,
   "id": "a24ec55e",
   "metadata": {},
   "outputs": [
    {
     "ename": "NameError",
     "evalue": "name 'thisset' is not defined",
     "output_type": "error",
     "traceback": [
      "\u001b[1;31m---------------------------------------------------------------------------\u001b[0m",
      "\u001b[1;31mNameError\u001b[0m                                 Traceback (most recent call last)",
      "Input \u001b[1;32mIn [23]\u001b[0m, in \u001b[0;36m<cell line: 5>\u001b[1;34m()\u001b[0m\n\u001b[0;32m      1\u001b[0m thisset \u001b[38;5;241m=\u001b[39m {\u001b[38;5;124m\"\u001b[39m\u001b[38;5;124mapple\u001b[39m\u001b[38;5;124m\"\u001b[39m, \u001b[38;5;124m\"\u001b[39m\u001b[38;5;124mbanana\u001b[39m\u001b[38;5;124m\"\u001b[39m, \u001b[38;5;124m\"\u001b[39m\u001b[38;5;124mcherry\u001b[39m\u001b[38;5;124m\"\u001b[39m}\n\u001b[0;32m      3\u001b[0m \u001b[38;5;28;01mdel\u001b[39;00m thisset\n\u001b[1;32m----> 5\u001b[0m \u001b[38;5;28mprint\u001b[39m(\u001b[43mthisset\u001b[49m)\n",
      "\u001b[1;31mNameError\u001b[0m: name 'thisset' is not defined"
     ]
    }
   ],
   "source": [
    "thisset = {\"apple\", \"banana\", \"cherry\"}\n",
    "\n",
    "del thisset\n",
    "\n",
    "print(thisset)"
   ]
  },
  {
   "cell_type": "markdown",
   "id": "bdc23fde",
   "metadata": {},
   "source": [
    "#### Loop Items\n",
    "You can loop through the set items by using a for loop:"
   ]
  },
  {
   "cell_type": "code",
   "execution_count": 24,
   "id": "75f109f3",
   "metadata": {},
   "outputs": [
    {
     "name": "stdout",
     "output_type": "stream",
     "text": [
      "cherry\n",
      "banana\n",
      "apple\n"
     ]
    }
   ],
   "source": [
    "thisset = {\"apple\", \"banana\", \"cherry\"}\n",
    "\n",
    "for x in thisset:\n",
    "    print(x)"
   ]
  },
  {
   "cell_type": "markdown",
   "id": "11a8623f",
   "metadata": {},
   "source": [
    "### Join Two Sets\n",
    "There are several ways to join two or more sets in Python.\n",
    "\n",
    "You can use the `union()` method that returns a new set containing all items from both sets, or the `update()` method that inserts all the items from one set into another:"
   ]
  },
  {
   "cell_type": "code",
   "execution_count": 18,
   "id": "2af8e8fe",
   "metadata": {},
   "outputs": [
    {
     "name": "stdout",
     "output_type": "stream",
     "text": [
      "{1, 'b', 2, 3, 'c', 'a'}\n"
     ]
    }
   ],
   "source": [
    "# Union()\n",
    "set1 = {\"a\", \"b\" , \"c\"}\n",
    "set2 = {1, 2, 3}\n",
    "\n",
    "set3 = set1.union(set2)\n",
    "print(set3)"
   ]
  },
  {
   "cell_type": "code",
   "execution_count": 19,
   "id": "8cfe52b1",
   "metadata": {},
   "outputs": [
    {
     "data": {
      "text/plain": [
       "{1, 2, 3, 'a', 'b', 'c'}"
      ]
     },
     "execution_count": 19,
     "metadata": {},
     "output_type": "execute_result"
    }
   ],
   "source": [
    "set1 | set2"
   ]
  },
  {
   "cell_type": "code",
   "execution_count": 20,
   "id": "18f98340",
   "metadata": {},
   "outputs": [
    {
     "name": "stdout",
     "output_type": "stream",
     "text": [
      "{1, 'b', 2, 3, 'c', 'a'}\n"
     ]
    }
   ],
   "source": [
    "# update()\n",
    "\n",
    "set1 = {\"a\", \"b\" , \"c\"}\n",
    "set2 = {1, 2, 3}\n",
    "\n",
    "set1.update(set2)\n",
    "print(set1)"
   ]
  },
  {
   "cell_type": "markdown",
   "id": "61b30ee7",
   "metadata": {},
   "source": [
    "`Note:` Both `union()` and `update()` will exclude any duplicate items."
   ]
  },
  {
   "cell_type": "code",
   "execution_count": 28,
   "id": "04fe7090",
   "metadata": {},
   "outputs": [
    {
     "name": "stdout",
     "output_type": "stream",
     "text": [
      "{1, 2, 'c', 'a', 3, 'b'}\n"
     ]
    }
   ],
   "source": [
    "set1 = {\"a\",\"b\",\"c\"}\n",
    "set2 = {\"a\", 1,2,3}\n",
    "set1.update(set2)\n",
    "\n",
    "print(set1)"
   ]
  },
  {
   "cell_type": "markdown",
   "id": "935c2aeb",
   "metadata": {},
   "source": [
    "#### Intersection_update    (only common item will be updated )\n",
    "The `intersection_update()` method will keep only the items that are present in both sets.\n",
    "\n",
    " "
   ]
  },
  {
   "cell_type": "code",
   "execution_count": 21,
   "id": "85f539b3",
   "metadata": {},
   "outputs": [
    {
     "name": "stdout",
     "output_type": "stream",
     "text": [
      "{'apple'}\n"
     ]
    }
   ],
   "source": [
    "# Keep the items that exist in both set x, and set y:\n",
    "\n",
    "x = {\"apple\", \"banana\", \"cherry\"}\n",
    "y = {\"google\", \"microsoft\", \"apple\"}\n",
    "\n",
    "x.intersection_update(y) # this method only change original set doen't retrun any value.\n",
    "\n",
    "print(x)"
   ]
  },
  {
   "cell_type": "markdown",
   "id": "8ae5f84f",
   "metadata": {},
   "source": [
    "The `intersection()` method will return a new set, that only contains the items that are present in both sets."
   ]
  },
  {
   "cell_type": "code",
   "execution_count": 22,
   "id": "3c754f36",
   "metadata": {},
   "outputs": [
    {
     "name": "stdout",
     "output_type": "stream",
     "text": [
      "{'apple'}\n"
     ]
    }
   ],
   "source": [
    "x = {\"apple\", \"banana\", \"cherry\", \"apple\"}\n",
    "y = {\"google\",\"apple\",  \"microsoft\", \"apple\"}\n",
    "\n",
    "z = x.intersection(y) # this method return a new set of common value between bothof them.\n",
    "\n",
    "print(z)"
   ]
  },
  {
   "cell_type": "markdown",
   "id": "98260c30",
   "metadata": {},
   "source": [
    "#### Keep All, But NOT the Duplicates\n",
    "The `symmetric_difference_update()` method will keep only the elements that are NOT present in both sets."
   ]
  },
  {
   "cell_type": "code",
   "execution_count": 23,
   "id": "0c98f569",
   "metadata": {},
   "outputs": [
    {
     "name": "stdout",
     "output_type": "stream",
     "text": [
      "{'microsoft', 'cherry', 'google', 'banana'}\n"
     ]
    }
   ],
   "source": [
    "x = {\"apple\", \"banana\", \"cherry\"}\n",
    "y = {\"google\", \"microsoft\", \"apple\"}\n",
    "\n",
    "x.symmetric_difference_update(y) # this method only change original set doen't retrun any value.\n",
    "\n",
    "print(x)"
   ]
  },
  {
   "cell_type": "markdown",
   "id": "f8d486ad",
   "metadata": {},
   "source": [
    "The `symmetric_difference()` method will return a new set, that contains only the elements that are NOT present in both sets."
   ]
  },
  {
   "cell_type": "code",
   "execution_count": 24,
   "id": "0b3e5eb3",
   "metadata": {},
   "outputs": [
    {
     "name": "stdout",
     "output_type": "stream",
     "text": [
      "{'microsoft', 'cherry', 'google', 'banana'}\n"
     ]
    }
   ],
   "source": [
    "x = {\"apple\", \"banana\", \"cherry\"}\n",
    "y = {\"google\", \"microsoft\", \"apple\"}\n",
    "\n",
    "z = x.symmetric_difference(y) # return new set in which element are not common  \n",
    "\n",
    "print(z)"
   ]
  },
  {
   "cell_type": "markdown",
   "id": "9dea7644",
   "metadata": {},
   "source": [
    "#### Set Methods"
   ]
  },
  {
   "cell_type": "markdown",
   "id": "5933a9f3",
   "metadata": {},
   "source": [
    "#### difference()\n",
    "\n",
    "The `difference()` method returns a set that contains the difference between two sets.\n",
    "\n",
    "Meaning: The returned set contains items that exist only in the first set, and not in both sets.\n",
    "\n",
    "`Syntax`\n",
    "\n",
    "`set.difference(set)`"
   ]
  },
  {
   "cell_type": "code",
   "execution_count": 32,
   "id": "9171734a",
   "metadata": {},
   "outputs": [
    {
     "name": "stdout",
     "output_type": "stream",
     "text": [
      "{'banana', 'cherry'}\n"
     ]
    }
   ],
   "source": [
    "x = {\"apple\", \"banana\", \"cherry\"}\n",
    "y = {\"google\", \"microsoft\", \"apple\"}\n",
    "\n",
    "z = x.difference(y) # The returned set contains items that exist only in the first set, \n",
    "                    # and not in both sets\n",
    "\n",
    "print(z)"
   ]
  },
  {
   "cell_type": "code",
   "execution_count": 33,
   "id": "d8b74ef0",
   "metadata": {},
   "outputs": [
    {
     "name": "stdout",
     "output_type": "stream",
     "text": [
      "{'microsoft', 'google'}\n"
     ]
    }
   ],
   "source": [
    "x = {\"apple\", \"banana\", \"cherry\"}\n",
    "y = {\"google\", \"microsoft\", \"apple\"}\n",
    "\n",
    "z = y.difference(x)\n",
    "\n",
    "print(z)\n"
   ]
  },
  {
   "cell_type": "markdown",
   "id": "760db71a",
   "metadata": {},
   "source": [
    "#### difference_update()\n",
    "\n",
    "The `difference_update()` method removes the items that exist in both sets.\n",
    "\n",
    "The `difference_update()` method is different from the `difference(`) method, because the `difference()` method returns a new set, without the unwanted items, and the `difference_update()` method removes the unwanted items from the original set.\n",
    "\n",
    "`Syntax`\n",
    "\n",
    "`set.difference_update(set)`"
   ]
  },
  {
   "cell_type": "code",
   "execution_count": 34,
   "id": "a7d97390",
   "metadata": {},
   "outputs": [
    {
     "name": "stdout",
     "output_type": "stream",
     "text": [
      "{'banana', 'cherry'}\n"
     ]
    }
   ],
   "source": [
    "x = {\"apple\", \"banana\", \"cherry\"}\n",
    "y = {\"google\", \"microsoft\", \"apple\"}\n",
    "\n",
    "x.difference_update(y)\n",
    "\n",
    "print(x)"
   ]
  },
  {
   "cell_type": "code",
   "execution_count": null,
   "id": "e655b2c5",
   "metadata": {},
   "outputs": [],
   "source": [
    "x = {\"apple\", \"banana\", \"cherry\"}\n",
    "y = {\"google\", \"microsoft\", \"apple\"}"
   ]
  },
  {
   "cell_type": "code",
   "execution_count": 25,
   "id": "c07f9450",
   "metadata": {},
   "outputs": [
    {
     "data": {
      "text/plain": [
       "{'apple', 'banana', 'cherry', 'google', 'microsoft'}"
      ]
     },
     "execution_count": 25,
     "metadata": {},
     "output_type": "execute_result"
    }
   ],
   "source": [
    "x | y"
   ]
  },
  {
   "cell_type": "code",
   "execution_count": 26,
   "id": "b89877bc",
   "metadata": {},
   "outputs": [
    {
     "data": {
      "text/plain": [
       "{'a', 'apple', 'b', 'banana', 'cherry', 'google', 'microsoft', 'z'}"
      ]
     },
     "execution_count": 26,
     "metadata": {},
     "output_type": "execute_result"
    }
   ],
   "source": [
    "x = {\"apple\", \"banana\", \"cherry\"}\n",
    "y = {\"google\", \"microsoft\", \"apple\"}\n",
    "z = {\"a\",\"b\",\"z\"}\n",
    "\n",
    "x | y | z"
   ]
  },
  {
   "cell_type": "code",
   "execution_count": 27,
   "id": "02f1dbba",
   "metadata": {},
   "outputs": [
    {
     "ename": "TypeError",
     "evalue": "unsupported operand type(s) for |: 'list' and 'list'",
     "output_type": "error",
     "traceback": [
      "\u001b[1;31m---------------------------------------------------------------------------\u001b[0m",
      "\u001b[1;31mTypeError\u001b[0m                                 Traceback (most recent call last)",
      "Input \u001b[1;32mIn [27]\u001b[0m, in \u001b[0;36m<cell line: 4>\u001b[1;34m()\u001b[0m\n\u001b[0;32m      1\u001b[0m x \u001b[38;5;241m=\u001b[39m [\u001b[38;5;124m\"\u001b[39m\u001b[38;5;124mapple\u001b[39m\u001b[38;5;124m\"\u001b[39m, \u001b[38;5;124m\"\u001b[39m\u001b[38;5;124mbanana\u001b[39m\u001b[38;5;124m\"\u001b[39m, \u001b[38;5;124m\"\u001b[39m\u001b[38;5;124mcherry\u001b[39m\u001b[38;5;124m\"\u001b[39m]\n\u001b[0;32m      2\u001b[0m y \u001b[38;5;241m=\u001b[39m [\u001b[38;5;124m\"\u001b[39m\u001b[38;5;124mgoogle\u001b[39m\u001b[38;5;124m\"\u001b[39m, \u001b[38;5;124m\"\u001b[39m\u001b[38;5;124mmicrosoft\u001b[39m\u001b[38;5;124m\"\u001b[39m, \u001b[38;5;124m\"\u001b[39m\u001b[38;5;124mapple\u001b[39m\u001b[38;5;124m\"\u001b[39m]\n\u001b[1;32m----> 4\u001b[0m \u001b[43mx\u001b[49m\u001b[38;5;241;43m|\u001b[39;49m\u001b[43my\u001b[49m\n",
      "\u001b[1;31mTypeError\u001b[0m: unsupported operand type(s) for |: 'list' and 'list'"
     ]
    }
   ],
   "source": [
    "x = [\"apple\", \"banana\", \"cherry\"]\n",
    "y = [\"google\", \"microsoft\", \"apple\"]\n",
    "\n",
    "x|y"
   ]
  },
  {
   "cell_type": "code",
   "execution_count": 31,
   "id": "970210c5",
   "metadata": {},
   "outputs": [
    {
     "ename": "TypeError",
     "evalue": "unsupported operand type(s) for |: 'tuple' and 'tuple'",
     "output_type": "error",
     "traceback": [
      "\u001b[1;31m---------------------------------------------------------------------------\u001b[0m",
      "\u001b[1;31mTypeError\u001b[0m                                 Traceback (most recent call last)",
      "Input \u001b[1;32mIn [31]\u001b[0m, in \u001b[0;36m<cell line: 4>\u001b[1;34m()\u001b[0m\n\u001b[0;32m      1\u001b[0m x \u001b[38;5;241m=\u001b[39m (\u001b[38;5;124m\"\u001b[39m\u001b[38;5;124mapple\u001b[39m\u001b[38;5;124m\"\u001b[39m, \u001b[38;5;124m\"\u001b[39m\u001b[38;5;124mbanana\u001b[39m\u001b[38;5;124m\"\u001b[39m, \u001b[38;5;124m\"\u001b[39m\u001b[38;5;124mcherry\u001b[39m\u001b[38;5;124m\"\u001b[39m)\n\u001b[0;32m      2\u001b[0m y \u001b[38;5;241m=\u001b[39m (\u001b[38;5;124m\"\u001b[39m\u001b[38;5;124mgoogle\u001b[39m\u001b[38;5;124m\"\u001b[39m, \u001b[38;5;124m\"\u001b[39m\u001b[38;5;124mmicrosoft\u001b[39m\u001b[38;5;124m\"\u001b[39m, \u001b[38;5;124m\"\u001b[39m\u001b[38;5;124mapple\u001b[39m\u001b[38;5;124m\"\u001b[39m)\n\u001b[1;32m----> 4\u001b[0m \u001b[43mx\u001b[49m\u001b[43m \u001b[49m\u001b[38;5;241;43m|\u001b[39;49m\u001b[43m \u001b[49m\u001b[43my\u001b[49m\n",
      "\u001b[1;31mTypeError\u001b[0m: unsupported operand type(s) for |: 'tuple' and 'tuple'"
     ]
    }
   ],
   "source": [
    "x = (\"apple\", \"banana\", \"cherry\")\n",
    "y = (\"google\", \"microsoft\", \"apple\")\n",
    "\n",
    "x | y"
   ]
  },
  {
   "cell_type": "markdown",
   "id": "af4cab4d",
   "metadata": {},
   "source": [
    "We can see that we can't do this with list and tuple it will be used in set and dictionary only."
   ]
  },
  {
   "cell_type": "markdown",
   "id": "eb04071c",
   "metadata": {},
   "source": [
    "#### copy()\n",
    "\n",
    "The `copy()` method copies the set.\n",
    "\n",
    "`Syntax`\n",
    "\n",
    "`set.copy()`"
   ]
  },
  {
   "cell_type": "code",
   "execution_count": 32,
   "id": "9ddd77ad",
   "metadata": {},
   "outputs": [
    {
     "name": "stdout",
     "output_type": "stream",
     "text": [
      "{'cherry', 'banana', 'apple'}\n"
     ]
    }
   ],
   "source": [
    "#### Copy the fruits set:\n",
    "\n",
    "fruits = {\"apple\", \"banana\", \"cherry\"}\n",
    "\n",
    "x = fruits.copy()\n",
    "\n",
    "print(x)"
   ]
  },
  {
   "cell_type": "code",
   "execution_count": 33,
   "id": "e1f6985c",
   "metadata": {},
   "outputs": [
    {
     "name": "stdout",
     "output_type": "stream",
     "text": [
      "{'cherry', 'banana', 'apple'}\n",
      "{'cherry', 'mango', 'banana', 'apple'}\n"
     ]
    }
   ],
   "source": [
    "x.add(\"mango\")\n",
    "\n",
    "print(fruits)\n",
    "print(x)"
   ]
  },
  {
   "cell_type": "markdown",
   "id": "5a66d59d",
   "metadata": {},
   "source": [
    "#### isdisjoint()\n",
    "\n",
    "The `isdisjoint()` method returns True if none of the items are present in both sets, otherwise it returns False.\n",
    "* Or in simple way we can say that it will return True if there is no common items between both the sets.\n",
    "\n",
    "`Syntax`\n",
    "\n",
    "`set.isdisjoint(set)`"
   ]
  },
  {
   "cell_type": "code",
   "execution_count": 34,
   "id": "22cfd882",
   "metadata": {},
   "outputs": [
    {
     "name": "stdout",
     "output_type": "stream",
     "text": [
      "True\n"
     ]
    }
   ],
   "source": [
    "x = {\"apple\", \"banana\", \"cherry\"}\n",
    "y = {\"google\", \"microsoft\", \"facebook\"}\n",
    "\n",
    "z = x.isdisjoint(y)\n",
    "\n",
    "print(z)"
   ]
  },
  {
   "cell_type": "code",
   "execution_count": 35,
   "id": "082a30b3",
   "metadata": {},
   "outputs": [
    {
     "name": "stdout",
     "output_type": "stream",
     "text": [
      "False\n"
     ]
    }
   ],
   "source": [
    "x = {\"apple\", \"banana\", \"cherry\"}\n",
    "y = {\"google\", \"microsoft\", \"apple\"}\n",
    "\n",
    "z = x.isdisjoint(y)\n",
    "\n",
    "print(z)"
   ]
  },
  {
   "cell_type": "markdown",
   "id": "d14e58ed",
   "metadata": {},
   "source": [
    "#### issubset()\n",
    "\n",
    "The `issubset()` method returns True if all items in the set exists in the specified set, otherwise it retuns False.\n",
    "\n",
    "`Syntax`\n",
    "\n",
    "`set.issubset(set)`"
   ]
  },
  {
   "cell_type": "code",
   "execution_count": 39,
   "id": "e182b131",
   "metadata": {},
   "outputs": [
    {
     "name": "stdout",
     "output_type": "stream",
     "text": [
      "True\n"
     ]
    }
   ],
   "source": [
    "x = {\"a\", \"b\", \"c\"}\n",
    "y = {\"f\", \"e\", \"d\", \"c\", \"b\", \"a\"}\n",
    "\n",
    "z = x.issubset(y)\n",
    "\n",
    "print(z)"
   ]
  },
  {
   "cell_type": "code",
   "execution_count": 37,
   "id": "38351d98",
   "metadata": {},
   "outputs": [
    {
     "name": "stdout",
     "output_type": "stream",
     "text": [
      "False\n"
     ]
    }
   ],
   "source": [
    "x = {\"a\", \"b\", \"c\"}\n",
    "y = {\"f\", \"e\", \"d\", \"c\", \"b\"}\n",
    "# this time we remove 'a' from set 'y' means set 'x' is not completely exist in set 'y'.\n",
    "z = x.issubset(y)\n",
    "\n",
    "print(z)"
   ]
  },
  {
   "cell_type": "markdown",
   "id": "7c20b833",
   "metadata": {},
   "source": [
    "#### issuperset()\n",
    "\n",
    "The `issuperset()` method returns True if all items in the specified set exists in the original set, otherwise it retuns False.\n",
    "\n",
    "`Syntax`\n",
    "\n",
    "`set.issuperset(set)`"
   ]
  },
  {
   "cell_type": "code",
   "execution_count": 41,
   "id": "15e9fa06",
   "metadata": {},
   "outputs": [
    {
     "name": "stdout",
     "output_type": "stream",
     "text": [
      "True\n"
     ]
    }
   ],
   "source": [
    "x = {\"f\", \"e\", \"d\", \"c\", \"b\", \"a\"}\n",
    "y = {\"a\", \"b\", \"c\"}\n",
    "\n",
    "z = x.issuperset(y)\n",
    "\n",
    "print(z)"
   ]
  },
  {
   "cell_type": "code",
   "execution_count": 42,
   "id": "0eaedc23",
   "metadata": {},
   "outputs": [
    {
     "name": "stdout",
     "output_type": "stream",
     "text": [
      "False\n"
     ]
    }
   ],
   "source": [
    "x = {\"f\", \"e\", \"d\", \"c\", \"b\"}\n",
    "y = {\"a\", \"b\", \"c\"}\n",
    "\n",
    "z = x.issuperset(y)\n",
    "\n",
    "print(z)"
   ]
  },
  {
   "cell_type": "markdown",
   "id": "9a375d36",
   "metadata": {},
   "source": [
    "Thank You 👍"
   ]
  },
  {
   "cell_type": "code",
   "execution_count": null,
   "id": "09558323",
   "metadata": {},
   "outputs": [],
   "source": []
  }
 ],
 "metadata": {
  "kernelspec": {
   "display_name": "Python 3 (ipykernel)",
   "language": "python",
   "name": "python3"
  },
  "language_info": {
   "codemirror_mode": {
    "name": "ipython",
    "version": 3
   },
   "file_extension": ".py",
   "mimetype": "text/x-python",
   "name": "python",
   "nbconvert_exporter": "python",
   "pygments_lexer": "ipython3",
   "version": "3.9.7"
  }
 },
 "nbformat": 4,
 "nbformat_minor": 5
}

{
 "cells": [
  {
   "cell_type": "markdown",
   "id": "ac3d1847",
   "metadata": {},
   "source": [
    "### Functools module in Python\n",
    "\n",
    "`Functools module is for higher-order functions that work on other functions. It provides functions for working with other functions and callable objects to use or extend them without completely rewriting them. This module has two classes – partial and partialmethod.`\n",
    "\n",
    "\n",
    "\n",
    "###    Partial class\n",
    "\n",
    "`A partial function is an original function for particular argument values. They can be created in Python by using “partial” from the functools library. The __name__ and __doc__ attributes are to be created by the programmer as they are not created automatically. Objects created by partial() have three read-only attributes:`\n",
    "\n",
    "`Syntax:\n",
    "partial(func[, *args][, **keywords])`\n",
    "\n",
    "* `partial.func` – It returns the name of parent function along with hexadecimal address.\n",
    "\n",
    "* `partial.args` – It returns the positional arguments provided in partial function.\n",
    "\n",
    "* `partial.keywords` – It returns the keyword arguments provided in partial function."
   ]
  },
  {
   "cell_type": "code",
   "execution_count": 1,
   "id": "4921030a",
   "metadata": {},
   "outputs": [
    {
     "name": "stdout",
     "output_type": "stream",
     "text": [
      "8\n"
     ]
    }
   ],
   "source": [
    "from functools import partial\n",
    "\n",
    "\n",
    "def power(a, b):\n",
    "    return a**b\n",
    "\n",
    "# partial functions\n",
    "pow2 = partial(power, b = 2)\n",
    "pow4 = partial(power, b = 4)\n",
    "\n",
    "power_of_5 = partial(power, 5)\n",
    "\n",
    "print(power(2,3))"
   ]
  },
  {
   "cell_type": "code",
   "execution_count": 3,
   "id": "f23bd4c3",
   "metadata": {},
   "outputs": [
    {
     "name": "stdout",
     "output_type": "stream",
     "text": [
      "16\n"
     ]
    }
   ],
   "source": [
    "print(pow2(4))"
   ]
  },
  {
   "cell_type": "code",
   "execution_count": 4,
   "id": "bd6d0428",
   "metadata": {},
   "outputs": [
    {
     "name": "stdout",
     "output_type": "stream",
     "text": [
      "256\n"
     ]
    }
   ],
   "source": [
    "print(pow4(4))"
   ]
  },
  {
   "cell_type": "code",
   "execution_count": 5,
   "id": "0f2122d9",
   "metadata": {},
   "outputs": [
    {
     "name": "stdout",
     "output_type": "stream",
     "text": [
      "25\n"
     ]
    }
   ],
   "source": [
    "print(power_of_5(2))"
   ]
  },
  {
   "cell_type": "code",
   "execution_count": 6,
   "id": "061a5f05",
   "metadata": {},
   "outputs": [
    {
     "name": "stdout",
     "output_type": "stream",
     "text": [
      "Function used in partial function pow2 : <function power at 0x000001D11F0C4940>\n",
      "Default keywords for pow2 : {'b': 2}\n",
      "Default arguments for power_of_5 : (5,)\n"
     ]
    }
   ],
   "source": [
    "print('Function used in partial function pow2 :', pow2.func)\n",
    "print('Default keywords for pow2 :', pow2.keywords)\n",
    "print('Default arguments for power_of_5 :', power_of_5.args)"
   ]
  },
  {
   "cell_type": "code",
   "execution_count": 9,
   "id": "4835b015",
   "metadata": {},
   "outputs": [
    {
     "data": {
      "text/plain": [
       "()"
      ]
     },
     "execution_count": 9,
     "metadata": {},
     "output_type": "execute_result"
    }
   ],
   "source": [
    "pow2.args"
   ]
  },
  {
   "cell_type": "markdown",
   "id": "dcdc211d",
   "metadata": {},
   "source": [
    "### Partialmethod class\n",
    "\n",
    "`It is a method definition of an already defined function for specific arguments like a partial function. However, it is not callable but is only a method descriptor. It returns a new partialmethod descriptor.`\n",
    "\n",
    "\n",
    "`Syntax:\n",
    "partialmethod(func, *args, **keywords)`"
   ]
  },
  {
   "cell_type": "code",
   "execution_count": 10,
   "id": "823c4c4f",
   "metadata": {},
   "outputs": [
    {
     "name": "stdout",
     "output_type": "stream",
     "text": [
      "black\n",
      "blue\n"
     ]
    }
   ],
   "source": [
    "from functools import partialmethod\n",
    "\n",
    "class Demo:\n",
    "    def __init__(self):\n",
    "        self.color = 'black'\n",
    "        \n",
    "    def _color(self, type):\n",
    "        self.color = type\n",
    "        \n",
    "    set_red = partialmethod(_color, type = 'red')\n",
    "    set_blue = partialmethod(_color, type = 'blue')\n",
    "    set_green = partialmethod(_color, type = 'green')\n",
    "    \n",
    "    \n",
    "obj = Demo()\n",
    "print(obj.color)\n",
    "\n",
    "obj.set_blue()\n",
    "print(obj.color)"
   ]
  },
  {
   "cell_type": "markdown",
   "id": "8b3b6c5e",
   "metadata": {},
   "source": [
    "#### Functions\n",
    "#### Cmp_to_key\n",
    "\n",
    "`It converts a comparison function into a key function. The comparison function must return 1, -1 and 0 for different conditions. It can be used in key functions such as sorted(), min(), max().`\n",
    "\n",
    "`Syntax :\n",
    "function(iterable, key=cmp_to_key(cmp_function))` "
   ]
  },
  {
   "cell_type": "code",
   "execution_count": 12,
   "id": "e95f7296",
   "metadata": {},
   "outputs": [
    {
     "name": "stdout",
     "output_type": "stream",
     "text": [
      "Sorted list :  ['for', 'geeks', 'geeks']\n"
     ]
    }
   ],
   "source": [
    "from functools import cmp_to_key\n",
    "\n",
    "# function to sort according to last character\n",
    "\n",
    "def cmp_func(a, b):\n",
    "    if a[-1] > b[-1]:\n",
    "        return 1\n",
    "    elif a[-1] < b[-1]:\n",
    "        return -1\n",
    "    else:\n",
    "        return 0\n",
    "    \n",
    "lst1 = ['geeks', 'for', 'geeks']\n",
    "l = sorted(lst1, key = cmp_to_key(cmp_func))\n",
    "\n",
    "print(\"Sorted list : \", l)"
   ]
  },
  {
   "cell_type": "markdown",
   "id": "4a4d7df2",
   "metadata": {},
   "source": [
    "### Reduce\n",
    "\n",
    "`It applies a function of two arguments repeatedly on the elements of a sequence so as to reduce the sequence to a single value. For example, reduce(lambda x, y: x^y, [1, 2, 3, 4]) calculates (((1^2)^3)^4). If the initial is present, it is placed first in the calculation, and if the default result when the sequence is empty.`\n",
    "\n",
    "\n",
    "`Syntax :\n",
    "reduce(function, sequence[, initial]) -> value  `"
   ]
  },
  {
   "cell_type": "code",
   "execution_count": 13,
   "id": "8aa49f87",
   "metadata": {},
   "outputs": [
    {
     "name": "stdout",
     "output_type": "stream",
     "text": [
      "Sum of list1 :  26\n",
      "\n",
      "Sum of list2 :  xyz\n"
     ]
    }
   ],
   "source": [
    "from functools import reduce\n",
    "\n",
    "list1 = [2,4, 7, 9, 1, 3]\n",
    "\n",
    "sum_of_list1 = reduce(lambda a, b : a+b, list1)\n",
    "\n",
    "list2 = ['abc', 'xyz', 'def']\n",
    "\n",
    "max_of_list2 = reduce(lambda a, b : a if a>b else b, list2)\n",
    "\n",
    "print('Sum of list1 : ', sum_of_list1)\n",
    "print()\n",
    "print(\"Sum of list2 : \", max_of_list2)"
   ]
  },
  {
   "cell_type": "markdown",
   "id": "a2ce1d35",
   "metadata": {},
   "source": [
    "#### Total_ordering\n",
    "\n",
    "`It is a class decorator that fills in the missing comparison methods (__lt__, __gt__, __eq__, __le__, __ge__). If a class is given which defines one or more comparison methods, “@total_ordering” automatically supplies the rest as per the given definitions. However, the class must define one of __lt__(), __le__(), __gt__(), or __ge__() and additionally, the class should supply an __eq__() method.`\n",
    "\n"
   ]
  },
  {
   "cell_type": "code",
   "execution_count": 14,
   "id": "1222880c",
   "metadata": {},
   "outputs": [
    {
     "name": "stdout",
     "output_type": "stream",
     "text": [
      "6 > 2 :  False\n"
     ]
    }
   ],
   "source": [
    "from functools import total_ordering\n",
    "\n",
    "\n",
    "@total_ordering\n",
    "class N:\n",
    "    def __init__(self, value):\n",
    "        self.value = value\n",
    "        \n",
    "    def __eq__(self, other):\n",
    "        return self.value == other.value\n",
    "    \n",
    "    # reverse the function of '<' operator\n",
    "    # and accordingly other rich comparison\n",
    "    # due to total_ordering decorator\n",
    "    \n",
    "    def __lt__(self, other):\n",
    "        return self.value > other.value\n",
    "    \n",
    "    \n",
    "print(\"6 > 2 : \", N(6)>N(2))"
   ]
  },
  {
   "cell_type": "code",
   "execution_count": 15,
   "id": "ad49d239",
   "metadata": {},
   "outputs": [
    {
     "name": "stdout",
     "output_type": "stream",
     "text": [
      "3 < 1 :  True\n"
     ]
    }
   ],
   "source": [
    "print(\"3 < 1 : \", N(3) < N(1))"
   ]
  },
  {
   "cell_type": "code",
   "execution_count": 16,
   "id": "1f7afd31",
   "metadata": {},
   "outputs": [
    {
     "name": "stdout",
     "output_type": "stream",
     "text": [
      "2 <= 7 :  False\n"
     ]
    }
   ],
   "source": [
    "print(\"2 <= 7 : \", N(2) <= N(7))"
   ]
  },
  {
   "cell_type": "code",
   "execution_count": 17,
   "id": "e12d7e68",
   "metadata": {},
   "outputs": [
    {
     "name": "stdout",
     "output_type": "stream",
     "text": [
      "9 >= 10 : True\n",
      "5 == 5 : True\n"
     ]
    }
   ],
   "source": [
    "print('9 >= 10 :', N(9)>= N(10))\n",
    "print('5 == 5 :', N(5)== N(5))"
   ]
  },
  {
   "cell_type": "markdown",
   "id": "c20f6837",
   "metadata": {},
   "source": [
    "### Update_wrapper\n",
    "`It updates a wrapper function to look like the wrapped function. For example, in case of partial functions, we can update partial function to look like its parent function by using update_wrapper(partial, parent). This will update the documentation(__doc__) and name(__name__) of the partial function to same as of the parent function.`\n",
    "\n",
    "`Syntax :\n",
    "update_wrapper(wrapper, wrapped[, assigned][, updated])`"
   ]
  },
  {
   "cell_type": "code",
   "execution_count": 20,
   "id": "0e81c7ce",
   "metadata": {},
   "outputs": [],
   "source": [
    "from functools import update_wrapper, partial\n",
    "\n",
    "def power(a, b):\n",
    "    '''a to the power b'''\n",
    "    return a**b\n",
    "\n",
    "# partial function\n",
    "\n",
    "pow2 = partial(power, b = 2)\n",
    "pow2.__doc__ = '''a to the power 2'''\n",
    "pow2.__name__ = \"pow2\"\n"
   ]
  },
  {
   "cell_type": "code",
   "execution_count": 21,
   "id": "dfd61500",
   "metadata": {},
   "outputs": [
    {
     "name": "stdout",
     "output_type": "stream",
     "text": [
      "Before wrapper update : -\n",
      "Documentation of pow2 :  a to the power 2\n",
      "Name of pow2 :  pow2\n"
     ]
    }
   ],
   "source": [
    "print(\"Before wrapper update : -\")\n",
    "print(\"Documentation of pow2 : \", pow2.__doc__)\n",
    "print(\"Name of pow2 : \", pow2.__name__)"
   ]
  },
  {
   "cell_type": "code",
   "execution_count": 22,
   "id": "be793322",
   "metadata": {},
   "outputs": [
    {
     "name": "stdout",
     "output_type": "stream",
     "text": [
      "After wrapper update : \n",
      "Documentation of pow2 :  a to the power b\n",
      "Name of pow2 :  power\n"
     ]
    }
   ],
   "source": [
    "# updating wrapper \n",
    "update_wrapper(pow2, power)\n",
    "print(\"After wrapper update : \")\n",
    "print(\"Documentation of pow2 : \", pow2.__doc__)\n",
    "print(\"Name of pow2 : \", pow2.__name__)"
   ]
  },
  {
   "cell_type": "markdown",
   "id": "f79bd4c2",
   "metadata": {},
   "source": [
    "#### Wraps\n",
    "\n",
    "`It is a function decorator which applies update_wrapper() to the decorated function. It is equivalent to partial(update_wrapper, wrapped=wrapped, assigned=assigned, updated=updated).`\n"
   ]
  },
  {
   "cell_type": "code",
   "execution_count": 23,
   "id": "0c0bc0e4",
   "metadata": {},
   "outputs": [
    {
     "name": "stdout",
     "output_type": "stream",
     "text": [
      "Documentation of decorated : f's Docstring\n",
      "f name : f\n",
      "Documentation of f : f's Docstring\n"
     ]
    }
   ],
   "source": [
    "from functools import wraps\n",
    "  \n",
    "def decorator(f):\n",
    "    @wraps(f)\n",
    "    def decorated(*args, **kwargs):\n",
    "        \"\"\"Decorator's docstring\"\"\"\n",
    "        return f(*args, **kwargs)\n",
    "  \n",
    "    print('Documentation of decorated :', decorated.__doc__)\n",
    "    return decorated\n",
    "  \n",
    "@decorator\n",
    "def f(x):\n",
    "    \"\"\"f's Docstring\"\"\"\n",
    "    return x\n",
    "  \n",
    "print('f name :', f.__name__)\n",
    "print('Documentation of f :', f.__doc__)"
   ]
  },
  {
   "cell_type": "markdown",
   "id": "521c72f8",
   "metadata": {},
   "source": [
    "#### LRU_cache\n",
    "`LRU_cache is a function decorator used for saving up to the maxsize most recent calls of a function. This can save time and memory in case of repeated calls with the same arguments.\n",
    "If *maxsize* is set to None, the cache can grow without bound. If *typed* is True, arguments of different data types will be cached separately. For example, f(1.0) and f(1) will be memoized distinctly.`\n",
    "\n",
    "`Syntax :\n",
    "lru_cache(maxsize=128, typed=False)`"
   ]
  },
  {
   "cell_type": "code",
   "execution_count": 24,
   "id": "2d63e4b2",
   "metadata": {},
   "outputs": [
    {
     "name": "stdout",
     "output_type": "stream",
     "text": [
      "[1, 1, 2, 6, 24, 120, 720]\n",
      "CacheInfo(hits=5, misses=7, maxsize=None, currsize=7)\n"
     ]
    }
   ],
   "source": [
    "from functools import lru_cache\n",
    "  \n",
    "@lru_cache(maxsize = None)\n",
    "def factorial(n):\n",
    "    if n<= 1:\n",
    "        return 1\n",
    "    return n * factorial(n-1)\n",
    "print([factorial(n) for n in range(7)])\n",
    "print(factorial.cache_info())"
   ]
  },
  {
   "cell_type": "markdown",
   "id": "db693060",
   "metadata": {},
   "source": [
    "### SingleDispatch\n",
    "\n",
    "`It is a function decorator. It transforms a function into a generic function so that it can have different behaviors depending upon the type of its first argument. It is used for function overloading, the overloaded implementations are registered using the register() attribute of the`"
   ]
  },
  {
   "cell_type": "code",
   "execution_count": 25,
   "id": "28324321",
   "metadata": {},
   "outputs": [
    {
     "name": "stdout",
     "output_type": "stream",
     "text": [
      "GeeksforGeeks\n",
      "20\n"
     ]
    }
   ],
   "source": [
    "from functools import singledispatch\n",
    "  \n",
    "@singledispatch\n",
    "def fun(s):\n",
    "    print(s)\n",
    "@fun.register(int)\n",
    "def _(s):\n",
    "    print(s * 2)\n",
    "\n",
    "    \n",
    "fun('GeeksforGeeks')\n",
    "fun(10)"
   ]
  },
  {
   "cell_type": "code",
   "execution_count": 26,
   "id": "3d6877af",
   "metadata": {},
   "outputs": [
    {
     "name": "stdout",
     "output_type": "stream",
     "text": [
      "40\n"
     ]
    }
   ],
   "source": [
    "fun(20)"
   ]
  },
  {
   "cell_type": "code",
   "execution_count": 27,
   "id": "2940e2a9",
   "metadata": {},
   "outputs": [
    {
     "name": "stdout",
     "output_type": "stream",
     "text": [
      "hello\n"
     ]
    }
   ],
   "source": [
    "fun(\"hello\")"
   ]
  },
  {
   "cell_type": "code",
   "execution_count": null,
   "id": "d65061af",
   "metadata": {},
   "outputs": [],
   "source": []
  }
 ],
 "metadata": {
  "kernelspec": {
   "display_name": "Python 3 (ipykernel)",
   "language": "python",
   "name": "python3"
  },
  "language_info": {
   "codemirror_mode": {
    "name": "ipython",
    "version": 3
   },
   "file_extension": ".py",
   "mimetype": "text/x-python",
   "name": "python",
   "nbconvert_exporter": "python",
   "pygments_lexer": "ipython3",
   "version": "3.9.7"
  }
 },
 "nbformat": 4,
 "nbformat_minor": 5
}

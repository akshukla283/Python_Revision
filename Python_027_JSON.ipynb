{
 "cells": [
  {
   "cell_type": "markdown",
   "id": "1bbbecac",
   "metadata": {},
   "source": [
    "###  JSON\n",
    "\n",
    "JSON is a syntax for storing and exchanging data.\n",
    "\n",
    "JSON is text, written with JavaScript object notation.\n",
    "\n",
    "#### JSON in Python\n",
    "Python has a built-in package called json, which can be used to work with JSON data.\n",
    "\n",
    "#### Example\n",
    "Import the json module:"
   ]
  },
  {
   "cell_type": "code",
   "execution_count": 1,
   "id": "7f8df55d",
   "metadata": {},
   "outputs": [],
   "source": [
    "import json"
   ]
  },
  {
   "cell_type": "markdown",
   "id": "151c4374",
   "metadata": {},
   "source": [
    "#### Parse JSON - Convert from JSON to Python\n",
    "If you have a JSON string, you can parse it by using the `json.loads()` method.\n",
    "\n",
    "The result will be a Python dictionary.\n",
    "\n",
    "#### Example\n",
    "Convert from JSON to Python:"
   ]
  },
  {
   "cell_type": "code",
   "execution_count": 2,
   "id": "9f5686a7",
   "metadata": {},
   "outputs": [
    {
     "name": "stdout",
     "output_type": "stream",
     "text": [
      "30\n"
     ]
    }
   ],
   "source": [
    "import json\n",
    "\n",
    "# some JSON:\n",
    "x =  '{ \"name\":\"John\", \"age\":30, \"city\":\"New York\"}'\n",
    "\n",
    "# parse x:\n",
    "\n",
    "y = json.loads(x)\n",
    "\n",
    "# the result is a Python dictionary \n",
    "print(y[\"age\"])"
   ]
  },
  {
   "cell_type": "code",
   "execution_count": 4,
   "id": "ab6a8eaf",
   "metadata": {},
   "outputs": [
    {
     "name": "stdout",
     "output_type": "stream",
     "text": [
      "Ankit\n",
      "30\n",
      "18\n"
     ]
    }
   ],
   "source": [
    "import json\n",
    "\n",
    "x = '{\"Name\":\"Ankit\", \"age\": 30, \"id\": 18}'\n",
    "\n",
    "# parse x:\n",
    "\n",
    "y = json.loads(x)\n",
    "\n",
    "print(y[\"Name\"])\n",
    "print(y[\"age\"])\n",
    "print(y[\"id\"])"
   ]
  },
  {
   "cell_type": "markdown",
   "id": "272e628a",
   "metadata": {},
   "source": [
    "#### Convert from Python to JSON\n",
    "\n",
    "If you have a Python object, you can convert it into a JSON string by using the `json.dumps()` method.\n",
    "\n",
    "#### Example\n",
    "Convert from Python to JSON:"
   ]
  },
  {
   "cell_type": "code",
   "execution_count": 1,
   "id": "ec91cc98",
   "metadata": {},
   "outputs": [
    {
     "name": "stdout",
     "output_type": "stream",
     "text": [
      "{\"Name\": \"John\", \"age\": 30, \"city\": \"New York\"}\n"
     ]
    }
   ],
   "source": [
    "import json\n",
    "\n",
    "# a Python object (dict)\n",
    "\n",
    "x = {\n",
    "    \"Name\":\"John\",\n",
    "    \"age\": 30,\n",
    "    \"city\":\"New York\"\n",
    "}\n",
    "\n",
    "# convert into json\n",
    "y = json.dumps(x)\n",
    "\n",
    "# the result is a json string\n",
    "\n",
    "print(y)"
   ]
  },
  {
   "cell_type": "markdown",
   "id": "f5d421ac",
   "metadata": {},
   "source": [
    "#### You can convert Python objects of the following types, into JSON strings:\n",
    "\n",
    "* dict\n",
    "\n",
    "* list\n",
    "\n",
    "* tuple\n",
    "\n",
    "* string\n",
    "\n",
    "* int\n",
    "\n",
    "* float\n",
    "\n",
    "* True\n",
    "\n",
    "* False\n",
    "\n",
    "* None\n"
   ]
  },
  {
   "cell_type": "code",
   "execution_count": 3,
   "id": "040a359e",
   "metadata": {},
   "outputs": [
    {
     "name": "stdout",
     "output_type": "stream",
     "text": [
      "{\"name\": \"John\", \"age\": 30}\n",
      "[\"apple\", \"bananas\"]\n",
      "[\"apple\", \"bananas\"]\n",
      "\"hello\"\n",
      "42\n",
      "31.76\n",
      "true\n",
      "false\n",
      "null\n"
     ]
    }
   ],
   "source": [
    "import json\n",
    "\n",
    "print(json.dumps({\"name\": \"John\", \"age\": 30}))\n",
    "print(json.dumps([\"apple\", \"bananas\"]))\n",
    "print(json.dumps((\"apple\", \"bananas\")))\n",
    "print(json.dumps(\"hello\"))\n",
    "print(json.dumps(42))\n",
    "print(json.dumps(31.76))\n",
    "print(json.dumps(True))\n",
    "print(json.dumps(False))\n",
    "print(json.dumps(None))\n"
   ]
  },
  {
   "cell_type": "markdown",
   "id": "c9a1bec5",
   "metadata": {},
   "source": [
    "`When you convert from Python to JSON, Python objects are converted into the JSON (JavaScript) equivalent:`\n",
    "\n",
    "*` Python`     -----\t`JSON`\n",
    "\n",
    "* dict     -----\tObject\n",
    "\n",
    "* list     -----\tArray\n",
    "\n",
    "* tuple     -----\tArray\n",
    "\n",
    "* str\t     -----String\n",
    "\n",
    "* int     -----\tNumber\n",
    "\n",
    "* float     -----\tNumber\n",
    "\n",
    "* True     -----\ttrue\n",
    "\n",
    "* False     -----\tfalse\n",
    "\n",
    "* None     -----\tnull\n"
   ]
  },
  {
   "cell_type": "markdown",
   "id": "2e248449",
   "metadata": {},
   "source": [
    "`Convert a Python object containing all the legal data types:`"
   ]
  },
  {
   "cell_type": "code",
   "execution_count": 4,
   "id": "17dd8c22",
   "metadata": {},
   "outputs": [
    {
     "name": "stdout",
     "output_type": "stream",
     "text": [
      "{\"name\": \"John\", \"age\": 30, \"married\": true, \"divorced\": false, \"children\": [\"Ann\", \"Billy\"], \"pets\": null, \"cars\": [{\"model\": \"BMW 230\", \"mpg\": 27.5}, {\"model\": \"Ford Edge\", \"mpg\": 24.1}]}\n"
     ]
    }
   ],
   "source": [
    "import json\n",
    "\n",
    "x = {\n",
    "  \"name\": \"John\",\n",
    "  \"age\": 30,\n",
    "  \"married\": True,\n",
    "  \"divorced\": False,\n",
    "  \"children\": (\"Ann\",\"Billy\"),\n",
    "  \"pets\": None,\n",
    "  \"cars\": [\n",
    "    {\"model\": \"BMW 230\", \"mpg\": 27.5},\n",
    "    {\"model\": \"Ford Edge\", \"mpg\": 24.1}\n",
    "  ]\n",
    "}\n",
    "\n",
    "print(json.dumps(x))"
   ]
  },
  {
   "cell_type": "markdown",
   "id": "8bcf06ef",
   "metadata": {},
   "source": [
    "#### Format the Result\n",
    "The example above prints a JSON string, but it is not very easy to read, with no indentations and line breaks.\n",
    "\n",
    "The `json.dumps()` method has parameters to make it easier to read the result:\n",
    "\n",
    "#### Example\n",
    "Use the indent parameter to define the numbers of indents:"
   ]
  },
  {
   "cell_type": "code",
   "execution_count": 5,
   "id": "c0a97a5f",
   "metadata": {},
   "outputs": [
    {
     "name": "stdout",
     "output_type": "stream",
     "text": [
      "{\n",
      "    \"name\": \"John\",\n",
      "    \"age\": 30,\n",
      "    \"married\": true,\n",
      "    \"divorced\": false,\n",
      "    \"children\": [\n",
      "        \"Ann\",\n",
      "        \"Billy\"\n",
      "    ],\n",
      "    \"pets\": null,\n",
      "    \"cars\": [\n",
      "        {\n",
      "            \"model\": \"BMW 230\",\n",
      "            \"mpg\": 27.5\n",
      "        },\n",
      "        {\n",
      "            \"model\": \"Ford Edge\",\n",
      "            \"mpg\": 24.1\n",
      "        }\n",
      "    ]\n",
      "}\n"
     ]
    }
   ],
   "source": [
    "import json\n",
    "\n",
    "x = {\n",
    "  \"name\": \"John\",\n",
    "  \"age\": 30,\n",
    "  \"married\": True,\n",
    "  \"divorced\": False,\n",
    "  \"children\": (\"Ann\",\"Billy\"),\n",
    "  \"pets\": None,\n",
    "  \"cars\": [\n",
    "    {\"model\": \"BMW 230\", \"mpg\": 27.5},\n",
    "    {\"model\": \"Ford Edge\", \"mpg\": 24.1}\n",
    "  ]\n",
    "}\n",
    "\n",
    "# use four indents to make it easier to read the result:\n",
    "print(json.dumps(x, indent=4))\n"
   ]
  },
  {
   "cell_type": "markdown",
   "id": "9a23132d",
   "metadata": {},
   "source": [
    "You can also define the separators, default value is `(\", \", \": \")`, which means using a comma and a space to separate each object, and a colon and a space to separate keys from values:"
   ]
  },
  {
   "cell_type": "code",
   "execution_count": 6,
   "id": "4e0cf233",
   "metadata": {},
   "outputs": [
    {
     "name": "stdout",
     "output_type": "stream",
     "text": [
      "{\n",
      "    \"name\" = \"John\". \n",
      "    \"age\" = 30. \n",
      "    \"married\" = true. \n",
      "    \"divorced\" = false. \n",
      "    \"children\" = [\n",
      "        \"Ann\". \n",
      "        \"Billy\"\n",
      "    ]. \n",
      "    \"pets\" = null. \n",
      "    \"cars\" = [\n",
      "        {\n",
      "            \"model\" = \"BMW 230\". \n",
      "            \"mpg\" = 27.5\n",
      "        }. \n",
      "        {\n",
      "            \"model\" = \"Ford Edge\". \n",
      "            \"mpg\" = 24.1\n",
      "        }\n",
      "    ]\n",
      "}\n"
     ]
    }
   ],
   "source": [
    "import json\n",
    "\n",
    "x = {\n",
    "  \"name\": \"John\",\n",
    "  \"age\": 30,\n",
    "  \"married\": True,\n",
    "  \"divorced\": False,\n",
    "  \"children\": (\"Ann\",\"Billy\"),\n",
    "  \"pets\": None,\n",
    "  \"cars\": [\n",
    "    {\"model\": \"BMW 230\", \"mpg\": 27.5},\n",
    "    {\"model\": \"Ford Edge\", \"mpg\": 24.1}\n",
    "  ]\n",
    "}\n",
    "\n",
    "# use . and a space to separate objects, and a space, a = and a space to separate keys from their values:\n",
    "print(json.dumps(x, indent=4, separators=(\". \", \" = \")))\n"
   ]
  },
  {
   "cell_type": "markdown",
   "id": "0e30d14d",
   "metadata": {},
   "source": [
    "#### Order the Result\n",
    "The `json.dumps()` method has parameters to order the keys in the result:\n",
    "\n",
    "#### Example\n",
    "Use the `sort_keys` parameter to specify if the result should be sorted"
   ]
  },
  {
   "cell_type": "code",
   "execution_count": 7,
   "id": "462eba36",
   "metadata": {},
   "outputs": [
    {
     "name": "stdout",
     "output_type": "stream",
     "text": [
      "{\n",
      "    \"age\": 30,\n",
      "    \"cars\": [\n",
      "        {\n",
      "            \"model\": \"BMW 230\",\n",
      "            \"mpg\": 27.5\n",
      "        },\n",
      "        {\n",
      "            \"model\": \"Ford Edge\",\n",
      "            \"mpg\": 24.1\n",
      "        }\n",
      "    ],\n",
      "    \"children\": [\n",
      "        \"Ann\",\n",
      "        \"Billy\"\n",
      "    ],\n",
      "    \"divorced\": false,\n",
      "    \"married\": true,\n",
      "    \"name\": \"John\",\n",
      "    \"pets\": null\n",
      "}\n"
     ]
    }
   ],
   "source": [
    "import json\n",
    "\n",
    "x = {\n",
    "  \"name\": \"John\",\n",
    "  \"age\": 30,\n",
    "  \"married\": True,\n",
    "  \"divorced\": False,\n",
    "  \"children\": (\"Ann\",\"Billy\"),\n",
    "  \"pets\": None,\n",
    "  \"cars\": [\n",
    "    {\"model\": \"BMW 230\", \"mpg\": 27.5},\n",
    "    {\"model\": \"Ford Edge\", \"mpg\": 24.1}\n",
    "  ]\n",
    "}\n",
    "\n",
    "# sort the result alphabetically by keys:\n",
    "print(json.dumps(x, indent=4, sort_keys=True))\n"
   ]
  },
  {
   "cell_type": "code",
   "execution_count": null,
   "id": "e8008bee",
   "metadata": {},
   "outputs": [],
   "source": []
  }
 ],
 "metadata": {
  "kernelspec": {
   "display_name": "Python 3 (ipykernel)",
   "language": "python",
   "name": "python3"
  },
  "language_info": {
   "codemirror_mode": {
    "name": "ipython",
    "version": 3
   },
   "file_extension": ".py",
   "mimetype": "text/x-python",
   "name": "python",
   "nbconvert_exporter": "python",
   "pygments_lexer": "ipython3",
   "version": "3.7.8"
  }
 },
 "nbformat": 4,
 "nbformat_minor": 5
}

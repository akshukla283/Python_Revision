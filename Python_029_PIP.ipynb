{
 "cells": [
  {
   "cell_type": "markdown",
   "id": "f277a6df",
   "metadata": {},
   "source": [
    "### What is PIP?\n",
    "PIP is a package manager for Python packages, or modules if you like.\n",
    "\n",
    "`Note:` If you have Python version 3.4 or later, PIP is included by default.\n",
    "\n",
    "#### What is a Package?\n",
    "A package contains all the files you need for a module.\n",
    "\n",
    "Modules are Python code libraries you can include in your project.\n",
    "\n",
    "#### Check if PIP is Installed\n",
    "Navigate your command line to the location of Python's script directory, and type the following:"
   ]
  },
  {
   "cell_type": "code",
   "execution_count": 1,
   "id": "d91b231f",
   "metadata": {},
   "outputs": [
    {
     "name": "stdout",
     "output_type": "stream",
     "text": [
      "pip 22.0.3 from C:\\Users\\akshu\\AppData\\Roaming\\Python\\Python37\\site-packages\\pip (python 3.7)\n",
      "\n"
     ]
    }
   ],
   "source": [
    "!pip --version # this for jupyter notebook "
   ]
  },
  {
   "cell_type": "code",
   "execution_count": 2,
   "id": "92d99a82",
   "metadata": {},
   "outputs": [],
   "source": [
    "# for command line \n",
    "# pip --version"
   ]
  },
  {
   "cell_type": "markdown",
   "id": "f601527d",
   "metadata": {},
   "source": [
    "#### Install PIP\n",
    "If you do not have PIP installed, you can download and install it from this page: https://pypi.org/project/pip/\n",
    "\n",
    "#### Download a Package\n",
    "Downloading a package is very easy.\n",
    "\n",
    "Open the command line interface and tell PIP to download the package you want.\n",
    "\n",
    "Navigate your command line to the location of Python's script directory, and type the following:\n",
    "\n",
    "#### Example\n",
    "Download a package named \"camelcase\":"
   ]
  },
  {
   "cell_type": "markdown",
   "id": "ce042e48",
   "metadata": {},
   "source": [
    "`C:\\Users\\Your Name\\AppData\\Local\\Programs\\Python\\Python36-32\\Scripts>pip install camelcase`"
   ]
  },
  {
   "cell_type": "code",
   "execution_count": 6,
   "id": "1e85e4b3",
   "metadata": {},
   "outputs": [],
   "source": [
    "### pip install camelcase"
   ]
  },
  {
   "cell_type": "code",
   "execution_count": 5,
   "id": "5e44461e",
   "metadata": {},
   "outputs": [
    {
     "name": "stdout",
     "output_type": "stream",
     "text": [
      "Lorem Ipsum Dolor Sit Amet\n"
     ]
    }
   ],
   "source": [
    "import camelcase\n",
    "\n",
    "c = camelcase.CamelCase()\n",
    "\n",
    "txt = \"lorem ipsum dolor sit amet\"\n",
    "\n",
    "print(c.hump(txt))\n",
    "\n",
    "#This method capitalizes the first letter of each word.\n"
   ]
  },
  {
   "cell_type": "markdown",
   "id": "19cda94d",
   "metadata": {},
   "source": [
    "#### Find Packages\n",
    "Find more packages at https://pypi.org/.\n",
    "\n",
    "#### Remove a Package\n",
    "Use the uninstall command to remove a package:\n",
    "\n",
    "#### Example\n",
    "Uninstall the package named \"camelcase\":\n",
    "\n",
    "`C:\\Users\\Your Name\\AppData\\Local\\Programs\\Python\\Python36-32\\Scripts>pip uninstall camelcase`"
   ]
  },
  {
   "cell_type": "markdown",
   "id": "9f7fd570",
   "metadata": {},
   "source": [
    "The PIP Package Manager will ask you to confirm that you want to remove the camelcase package:\n",
    "\n",
    "`Uninstalling camelcase-02.1:\n",
    "  Would remove:\n",
    "    c:\\users\\Your Name\\appdata\\local\\programs\\python\\python36-32\\lib\\site-packages\\camecase-0.2-py3.6.egg-info\n",
    "    c:\\users\\Your Name\\appdata\\local\\programs\\python\\python36-32\\lib\\site-packages\\camecase\\*\n",
    "Proceed (y/n)?`\n",
    "\n",
    "\n",
    "Press` y `and the package will be removed."
   ]
  },
  {
   "cell_type": "markdown",
   "id": "b906dfc8",
   "metadata": {},
   "source": [
    "#### List Packages\n",
    "Use the list command to list all the packages installed on your system:\n",
    "\n",
    "#### Example\n",
    "List installed packages:\n",
    "\n",
    "`C:\\Users\\Your Name\\AppData\\Local\\Programs\\Python\\Python36-32\\Scripts>pip list`\n",
    "\n",
    "Result:\n",
    "`\n",
    "Package                Version\n",
    "-----------------------\n",
    "camelcase              0.2\n",
    "mysql-connector        2.1.6\n",
    "pip                    18.1\n",
    "pymongo                3.6.1\n",
    "setuptools             39.0.1`"
   ]
  },
  {
   "cell_type": "code",
   "execution_count": null,
   "id": "f69fd04b",
   "metadata": {},
   "outputs": [],
   "source": []
  }
 ],
 "metadata": {
  "kernelspec": {
   "display_name": "Python 3 (ipykernel)",
   "language": "python",
   "name": "python3"
  },
  "language_info": {
   "codemirror_mode": {
    "name": "ipython",
    "version": 3
   },
   "file_extension": ".py",
   "mimetype": "text/x-python",
   "name": "python",
   "nbconvert_exporter": "python",
   "pygments_lexer": "ipython3",
   "version": "3.7.8"
  }
 },
 "nbformat": 4,
 "nbformat_minor": 5
}

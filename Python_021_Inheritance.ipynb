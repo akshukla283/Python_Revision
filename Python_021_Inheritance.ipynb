{
 "cells": [
  {
   "cell_type": "markdown",
   "id": "b1ce70b9",
   "metadata": {},
   "source": [
    "#### Python Inheritance\n",
    "\n",
    "Inheritance allows us to define a class that inherits all the methods and properties from another class.\n",
    "\n",
    "**Parent class** is the class being inherited from, also called base class.\n",
    "\n",
    "**Child class** is the class that inherits from another class, also called derived class.\n",
    "\n",
    "#### Create a Parent Class\n",
    "Any class can be a parent class, so the syntax is the same as creating any other class:\n",
    "\n",
    "#### Example\n",
    "Create a class named `Person`, with `firstname` and `lastname` properties, and a `printname` method:"
   ]
  },
  {
   "cell_type": "code",
   "execution_count": 1,
   "id": "8c6ab398",
   "metadata": {},
   "outputs": [
    {
     "name": "stdout",
     "output_type": "stream",
     "text": [
      "John Doe\n"
     ]
    }
   ],
   "source": [
    "class Person:\n",
    "    def __init__(self, firstname, lastname):\n",
    "        self.firstname = firstname\n",
    "        self.lastname = lastname\n",
    "        \n",
    "    def printname(self):\n",
    "        print(self.firstname, self.lastname)\n",
    "        \n",
    "x = Person(\"John\", \"Doe\")\n",
    "\n",
    "x.printname()"
   ]
  },
  {
   "cell_type": "markdown",
   "id": "fa6f5c53",
   "metadata": {},
   "source": [
    "#### Create a Child Class\n",
    "To create a class that inherits the functionality from another class, send the parent class as a parameter when creating the child class:\n",
    "\n",
    "#### Example\n",
    "Create a class named `Student`, which will inherit the properties and methods from the `Person` class:"
   ]
  },
  {
   "cell_type": "code",
   "execution_count": 2,
   "id": "bdf404e3",
   "metadata": {},
   "outputs": [],
   "source": [
    "class Student(Person):\n",
    "    pass"
   ]
  },
  {
   "cell_type": "markdown",
   "id": "5829d422",
   "metadata": {},
   "source": [
    "**Note:** Use the pass keyword when you do not want to add any other properties or methods to the class.\n",
    "\n",
    "Now the Student class has the same properties and methods as the Person class.\n",
    "\n",
    "#### Example\n",
    "Use the `Student` class to create an object, and then execute the `printname` method:"
   ]
  },
  {
   "cell_type": "code",
   "execution_count": 1,
   "id": "3aa744bf",
   "metadata": {},
   "outputs": [
    {
     "name": "stdout",
     "output_type": "stream",
     "text": [
      "Mike Olsen\n"
     ]
    }
   ],
   "source": [
    "class Person:\n",
    "    \n",
    "    def __init__(self, firstname, lastname):\n",
    "        self.firstname = firstname\n",
    "        self.lastname = lastname\n",
    "        \n",
    "    def printname(self):\n",
    "        print(self.firstname, self.lastname)\n",
    "        \n",
    "class Student(Person):\n",
    "    pass\n",
    "\n",
    "\n",
    "x = Student(\"Mike\", \"Olsen\")\n",
    "x.printname()"
   ]
  },
  {
   "cell_type": "markdown",
   "id": "005501f9",
   "metadata": {},
   "source": [
    "#### Add the __init__() Function\n",
    "\n",
    "So far we have created a child class that inherits the properties and methods from its parent.\n",
    "\n",
    "We want to add the `__init__()` function to the child class (instead of the `pass` keyword).\n",
    "\n",
    "**Note:** The `__init__()` function is called automatically every time the class is being used to create a new object.\n",
    "\n",
    "#### Example\n",
    "Add the `__init__()` function to the Student class:"
   ]
  },
  {
   "cell_type": "markdown",
   "id": "074c7237",
   "metadata": {},
   "source": [
    "        \n",
    "class Student(Person):\n",
    "    def __init__(self, firstname, lastname):\n",
    "        #add properties etc.\n",
    "  \n",
    "    \n"
   ]
  },
  {
   "cell_type": "markdown",
   "id": "5b5815d6",
   "metadata": {},
   "source": [
    "**Important Note**\n",
    "\n",
    "\n",
    "When you add the `__init__()` function, the child class will no longer inherit the parent's `__init__()` function.\n",
    "\n",
    "**Note:** The child's `__init__()` function ***overrides*** the inheritance of the parent's `__init__()` function.\n",
    "\n",
    "To keep the inheritance of the parent's `__init__()` function, add a call to the parent's `__init__()` function:"
   ]
  },
  {
   "cell_type": "code",
   "execution_count": 5,
   "id": "3de99eb7",
   "metadata": {},
   "outputs": [
    {
     "name": "stdout",
     "output_type": "stream",
     "text": [
      "Mike Olsen\n"
     ]
    }
   ],
   "source": [
    "class Person:\n",
    "    \n",
    "    def __init__(self, fname, lname):\n",
    "        self.fname = fname\n",
    "        self.lname = lname\n",
    "        \n",
    "    def printname(self):\n",
    "        print(self.fname, self.lname)\n",
    "        \n",
    "class Student(Person):\n",
    "    def __init__(self, fname, lname):\n",
    "        Person.__init__(self, fname, lname)\n",
    "        \n",
    "x = Student(\"Mike\", \"Olsen\")\n",
    "x.printname()"
   ]
  },
  {
   "cell_type": "markdown",
   "id": "279c9ece",
   "metadata": {},
   "source": [
    "Now we have successfully added the `__init__()` function, and kept the inheritance of the parent class, and we are ready to add functionality in the `__init__()` function.\n",
    "\n",
    "#### Use the super() Function\n",
    "Python also has a `super()` function that will make the child class inherit all the methods and properties from its parent:"
   ]
  },
  {
   "cell_type": "markdown",
   "id": "d7cd7fe6",
   "metadata": {},
   "source": [
    "#### Add Properties\n",
    "#### Example\n",
    "Add a property called `graduationyear `to the `Student` class:"
   ]
  },
  {
   "cell_type": "code",
   "execution_count": 10,
   "id": "c56727d9",
   "metadata": {},
   "outputs": [
    {
     "name": "stdout",
     "output_type": "stream",
     "text": [
      "Mike Olsen\n",
      "2019\n"
     ]
    }
   ],
   "source": [
    "class Person:\n",
    "    \n",
    "    def __init__(self, fname, lname):\n",
    "        self.fname = fname\n",
    "        self.lname = lname\n",
    "        \n",
    "    def printname(self):\n",
    "        print(self.fname, self.lname)\n",
    "        \n",
    "class Student(Person):\n",
    "    def __init__(self, fname, lname):\n",
    "        super().__init__(fname, lname)\n",
    "        self.graduationyear = 2019\n",
    "        \n",
    "x = Student(\"Mike\", \"Olsen\")\n",
    "x.printname()\n",
    "print(x.graduationyear)"
   ]
  },
  {
   "cell_type": "markdown",
   "id": "0c1a2623",
   "metadata": {},
   "source": [
    "In the example below, the year 2019 should be a variable, and passed into the Student class when creating student objects. To do so, add another parameter in the `__init__()` function:"
   ]
  },
  {
   "cell_type": "code",
   "execution_count": 13,
   "id": "a600eb3f",
   "metadata": {},
   "outputs": [
    {
     "name": "stdout",
     "output_type": "stream",
     "text": [
      "2019\n"
     ]
    }
   ],
   "source": [
    "class Person:\n",
    "    \n",
    "    def __init__(self, fname, lname):\n",
    "        self.fname = fname \n",
    "        self.lname = lname\n",
    "        \n",
    "    def printname(self):\n",
    "        print(self.fname, self.lname)\n",
    "\n",
    "class Student(Person):\n",
    "    def __init__(self, fname, lname, year):\n",
    "        super().__init__(fname, lname)\n",
    "        self.graduationyear = year\n",
    "        \n",
    "x = Student(\"Mike\", \"Olsen\", 2019)\n",
    "\n",
    "print(x.graduationyear)"
   ]
  },
  {
   "cell_type": "markdown",
   "id": "342ec8ce",
   "metadata": {},
   "source": [
    "#### Add Methods\n",
    "#### Example\n",
    "Add a method called `welcome` to the `Student` class:"
   ]
  },
  {
   "cell_type": "code",
   "execution_count": 14,
   "id": "f26a9ed9",
   "metadata": {},
   "outputs": [
    {
     "name": "stdout",
     "output_type": "stream",
     "text": [
      "Welcome Mike Olsen to the class of  2019\n"
     ]
    }
   ],
   "source": [
    "class Person:\n",
    "    \n",
    "    def __init__(self, fname, lname):\n",
    "        self.fname = fname\n",
    "        self.lname = lname\n",
    "    \n",
    "    def printname(self):\n",
    "        \n",
    "        print(self.fname, self.lname)\n",
    "        \n",
    "class Student(Person):\n",
    "    \n",
    "    def __init__(self, fname, lname, year):\n",
    "        super().__init__(fname, lname)\n",
    "        self.graduationyear = year\n",
    "        \n",
    "    def welcome(self):\n",
    "        \n",
    "        print(\"Welcome\", self.fname, self.lname, \"to the class of \", self.graduationyear)\n",
    "        \n",
    "x = Student(\"Mike\",\"Olsen\", 2019)\n",
    "\n",
    "x.welcome()"
   ]
  }
 ],
 "metadata": {
  "kernelspec": {
   "display_name": "Python 3 (ipykernel)",
   "language": "python",
   "name": "python3"
  },
  "language_info": {
   "codemirror_mode": {
    "name": "ipython",
    "version": 3
   },
   "file_extension": ".py",
   "mimetype": "text/x-python",
   "name": "python",
   "nbconvert_exporter": "python",
   "pygments_lexer": "ipython3",
   "version": "3.9.7"
  }
 },
 "nbformat": 4,
 "nbformat_minor": 5
}

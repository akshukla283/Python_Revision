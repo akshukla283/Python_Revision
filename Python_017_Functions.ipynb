{
 "cells": [
  {
   "cell_type": "markdown",
   "id": "b5a385b7",
   "metadata": {},
   "source": [
    "#### Function()\n",
    "\n",
    "A function is a block of organized code which only runs when it is called.\n",
    "\n",
    "You can pass data, known as parameters, into a function.\n",
    "\n",
    "A function can return data as a result.\n",
    "\n",
    "#### Creating a Function\n",
    "\n",
    "In Python a function is defined using the def keyword:"
   ]
  },
  {
   "cell_type": "code",
   "execution_count": 1,
   "id": "4c86b7b9",
   "metadata": {},
   "outputs": [],
   "source": [
    "def my_function():\n",
    "    print(\"Hello from a function\")"
   ]
  },
  {
   "cell_type": "markdown",
   "id": "f86e115d",
   "metadata": {},
   "source": [
    "#### Calling a Function\n",
    "To call a function, use the function name followed by parenthesis:"
   ]
  },
  {
   "cell_type": "code",
   "execution_count": 3,
   "id": "54efb1a6",
   "metadata": {},
   "outputs": [
    {
     "name": "stdout",
     "output_type": "stream",
     "text": [
      "Hello from a function\n"
     ]
    }
   ],
   "source": [
    "def my_function():\n",
    "    print(\"Hello from a function\")\n",
    "    \n",
    "my_function()"
   ]
  },
  {
   "cell_type": "code",
   "execution_count": 10,
   "id": "e1463a79",
   "metadata": {},
   "outputs": [
    {
     "name": "stdout",
     "output_type": "stream",
     "text": [
      "this is first call to the user defined function!\n"
     ]
    }
   ],
   "source": [
    "def printme(str):\n",
    "    \"this is a passed string into this function\"\n",
    "    print(str)\n",
    "    return\n",
    "\n",
    "# now we can call 'printme' function.\n",
    "\n",
    "printme(\"this is first call to the user defined function!\")"
   ]
  },
  {
   "cell_type": "markdown",
   "id": "42d25be6",
   "metadata": {},
   "source": [
    "#### Arguments\n",
    "Information can be passed into functions as arguments.\n",
    "\n",
    "Arguments are specified after the function name, inside the parentheses. You can add as many arguments as you want, just separate them with a comma.\n",
    "\n",
    "The following example has a function with one argument (fname). When the function is called, we pass along a first name, which is used inside the function to print the full name:"
   ]
  },
  {
   "cell_type": "code",
   "execution_count": 4,
   "id": "d188a4f4",
   "metadata": {},
   "outputs": [
    {
     "name": "stdout",
     "output_type": "stream",
     "text": [
      "Emil Refsnes\n",
      "Tobias Refsnes\n",
      "Linus Refsnes\n"
     ]
    }
   ],
   "source": [
    "def my_function(fname):\n",
    "    print(fname, \"Refsnes\")\n",
    "    \n",
    "my_function(\"Emil\")\n",
    "my_function(\"Tobias\")\n",
    "my_function(\"Linus\")"
   ]
  },
  {
   "cell_type": "markdown",
   "id": "8dbe8f0b",
   "metadata": {},
   "source": [
    "Arguments are often shortened to args in Python documentations.\n",
    "\n",
    "#### Parameters or Arguments?\n",
    "The terms parameter and argument can be used for the same thing: information that are passed into a function.\n",
    "\n",
    "From a function's perspective:\n",
    "\n",
    "#### `Parameter`\n",
    "`A parameter is the variable listed inside the parentheses in the function definition.`\n",
    "\n",
    "#### `Argumnet`\n",
    "`An argument is the value that is sent to the function when it is called.`\n",
    "\n",
    "#### Number of Arguments\n",
    "\n",
    "By default, a function must be called with the correct number of arguments. Meaning that if your function expects 2 arguments, you have to call the function with 2 arguments, not more, and not less."
   ]
  },
  {
   "cell_type": "code",
   "execution_count": 6,
   "id": "b1214aae",
   "metadata": {},
   "outputs": [
    {
     "name": "stdout",
     "output_type": "stream",
     "text": [
      "Ankit Shukla\n"
     ]
    }
   ],
   "source": [
    "# This function expects 2 arguments, and gets 2 arguments:\n",
    "\n",
    "def my_function(fname, lname):\n",
    "    print(fname, lname)\n",
    "    \n",
    "my_function(\"Ankit\", \"Shukla\")"
   ]
  },
  {
   "cell_type": "markdown",
   "id": "abf95326",
   "metadata": {},
   "source": [
    "If you try to call the function with 1 or 3 arguments, you will get an error:"
   ]
  },
  {
   "cell_type": "code",
   "execution_count": 7,
   "id": "28367ae6",
   "metadata": {},
   "outputs": [
    {
     "ename": "TypeError",
     "evalue": "my_function() missing 1 required positional argument: 'lname'",
     "output_type": "error",
     "traceback": [
      "\u001b[1;31m---------------------------------------------------------------------------\u001b[0m",
      "\u001b[1;31mTypeError\u001b[0m                                 Traceback (most recent call last)",
      "Input \u001b[1;32mIn [7]\u001b[0m, in \u001b[0;36m<cell line: 4>\u001b[1;34m()\u001b[0m\n\u001b[0;32m      1\u001b[0m \u001b[38;5;28;01mdef\u001b[39;00m \u001b[38;5;21mmy_function\u001b[39m(fname, lname):\n\u001b[0;32m      2\u001b[0m     \u001b[38;5;28mprint\u001b[39m(fname, \u001b[38;5;124m\"\u001b[39m\u001b[38;5;124m \u001b[39m\u001b[38;5;124m\"\u001b[39m, lname)\n\u001b[1;32m----> 4\u001b[0m \u001b[43mmy_function\u001b[49m\u001b[43m(\u001b[49m\u001b[38;5;124;43m\"\u001b[39;49m\u001b[38;5;124;43mAnkit\u001b[39;49m\u001b[38;5;124;43m\"\u001b[39;49m\u001b[43m)\u001b[49m\n",
      "\u001b[1;31mTypeError\u001b[0m: my_function() missing 1 required positional argument: 'lname'"
     ]
    }
   ],
   "source": [
    "def my_function(fname, lname):\n",
    "    print(fname, \" \", lname)\n",
    "    \n",
    "my_function(\"Ankit\")"
   ]
  },
  {
   "cell_type": "markdown",
   "id": "479b9734",
   "metadata": {},
   "source": [
    "### Pass by Reference vs Value\n",
    "\n",
    "`All parameters (arguments) in the Python language are passed by reference. It means if you change what a parameter refers to within a function, the change also reflects back in the calling function. for example-`"
   ]
  },
  {
   "cell_type": "code",
   "execution_count": 11,
   "id": "b5cbe81d",
   "metadata": {},
   "outputs": [
    {
     "name": "stdout",
     "output_type": "stream",
     "text": [
      "Value inside the function before change:  [10, 20, 30]\n",
      "Value inside the function after change:  [10, 20, 50]\n",
      "\n",
      "Value outside the function:  [10, 20, 50]\n"
     ]
    }
   ],
   "source": [
    "def changeme(mylist):\n",
    "    \"this changes a passed list into this function\"\n",
    "    print(\"Value inside the function before change: \", mylist)\n",
    "    mylist[2] = 50\n",
    "    print(\"Value inside the function after change: \",mylist)\n",
    "    return\n",
    "\n",
    "# now we can call 'changeme' function \n",
    "mylist = [10, 20, 30]\n",
    "\n",
    "changeme(mylist)\n",
    "print()\n",
    "print(\"Value outside the function: \", mylist)"
   ]
  },
  {
   "cell_type": "markdown",
   "id": "ae55a7bd",
   "metadata": {},
   "source": [
    "* `Here, we are maintaining reference of the passed object and appending values in the same object. Therefore, this would produce the above result.`\n",
    "\n",
    "* `There is one more example where argument is being passed by reference and reference is being **overwritten** inside the calling function.`"
   ]
  },
  {
   "cell_type": "code",
   "execution_count": 12,
   "id": "ea01ec00",
   "metadata": {},
   "outputs": [
    {
     "name": "stdout",
     "output_type": "stream",
     "text": [
      "Value inside the function:  [1, 2, 3, 4]\n",
      "\n",
      "Value outside the function:  [10, 20, 30]\n"
     ]
    }
   ],
   "source": [
    "def changeme(mylist):\n",
    "    \"this changes a passed list into this function\"\n",
    "    mylist = [1,2,3,4] # this would assign new referencen in mylist\n",
    "    print(\"Value inside the function: \", mylist)\n",
    "    \n",
    "    return\n",
    "\n",
    "# now we can call 'changeme' function \n",
    "mylist = [10, 20, 30]\n",
    "\n",
    "changeme(mylist)\n",
    "print()\n",
    "print(\"Value outside the function: \", mylist)"
   ]
  },
  {
   "cell_type": "markdown",
   "id": "950d88bc",
   "metadata": {},
   "source": [
    "`The parameter 'mylist' is local to the function 'changeme'. Changing mylist within the function does not affect 'mylist'. The function accomplishes nothing and finally this would produces the above result.`"
   ]
  },
  {
   "cell_type": "code",
   "execution_count": null,
   "id": "38744842",
   "metadata": {},
   "outputs": [],
   "source": []
  },
  {
   "cell_type": "markdown",
   "id": "3a066c6c",
   "metadata": {},
   "source": [
    "#### Arbitrary Arguments, *args\n",
    "\n",
    "If you do not know how many arguments that will be passed into your function, add a` *`before the parameter name in the function definition.\n",
    "\n",
    "**This way the function will receive a tuple of arguments, and can access the items accordingly:**\n",
    "\n",
    "*` Means *args will be treated as tuple  parameter.`\n",
    "\n",
    "`Example:`\n",
    "\n",
    "If the number of arguments is unknown, add a `*` before the parameter name:"
   ]
  },
  {
   "cell_type": "code",
   "execution_count": 2,
   "id": "ed76ee70",
   "metadata": {},
   "outputs": [
    {
     "name": "stdout",
     "output_type": "stream",
     "text": [
      "The youngest child is Linus\n"
     ]
    }
   ],
   "source": [
    "def my_function(*kids):\n",
    "    \n",
    "    print(\"The youngest child is \" + kids[2])\n",
    "    \n",
    "my_function(\"Emil\", \"Ankit\", \"Linus\")"
   ]
  },
  {
   "cell_type": "code",
   "execution_count": 3,
   "id": "3252f9a1",
   "metadata": {},
   "outputs": [
    {
     "name": "stdout",
     "output_type": "stream",
     "text": [
      "The youngest child is : John\n"
     ]
    }
   ],
   "source": [
    "def my_function(*kids):\n",
    "    \n",
    "    return \"The youngest child is : \"+ kids[1]\n",
    "print(my_function(\"David\", \"John\", \"Herlin\"))"
   ]
  },
  {
   "cell_type": "code",
   "execution_count": 4,
   "id": "7e1448d2",
   "metadata": {},
   "outputs": [
    {
     "ename": "IndexError",
     "evalue": "tuple index out of range",
     "output_type": "error",
     "traceback": [
      "\u001b[1;31m---------------------------------------------------------------------------\u001b[0m",
      "\u001b[1;31mIndexError\u001b[0m                                Traceback (most recent call last)",
      "Input \u001b[1;32mIn [4]\u001b[0m, in \u001b[0;36m<cell line: 5>\u001b[1;34m()\u001b[0m\n\u001b[0;32m      1\u001b[0m \u001b[38;5;28;01mdef\u001b[39;00m \u001b[38;5;21mmy_function\u001b[39m(\u001b[38;5;241m*\u001b[39mkids):\n\u001b[0;32m      3\u001b[0m     \u001b[38;5;28mprint\u001b[39m(\u001b[38;5;124m\"\u001b[39m\u001b[38;5;124mThe youngest child is \u001b[39m\u001b[38;5;124m\"\u001b[39m \u001b[38;5;241m+\u001b[39m kids[\u001b[38;5;241m3\u001b[39m])\n\u001b[1;32m----> 5\u001b[0m \u001b[43mmy_function\u001b[49m\u001b[43m(\u001b[49m\u001b[38;5;124;43m\"\u001b[39;49m\u001b[38;5;124;43mDavid\u001b[39;49m\u001b[38;5;124;43m\"\u001b[39;49m\u001b[43m,\u001b[49m\u001b[43m \u001b[49m\u001b[38;5;124;43m\"\u001b[39;49m\u001b[38;5;124;43mJohn\u001b[39;49m\u001b[38;5;124;43m\"\u001b[39;49m\u001b[43m,\u001b[49m\u001b[43m \u001b[49m\u001b[38;5;124;43m\"\u001b[39;49m\u001b[38;5;124;43mHerlin\u001b[39;49m\u001b[38;5;124;43m\"\u001b[39;49m\u001b[43m)\u001b[49m\n",
      "Input \u001b[1;32mIn [4]\u001b[0m, in \u001b[0;36mmy_function\u001b[1;34m(*kids)\u001b[0m\n\u001b[0;32m      1\u001b[0m \u001b[38;5;28;01mdef\u001b[39;00m \u001b[38;5;21mmy_function\u001b[39m(\u001b[38;5;241m*\u001b[39mkids):\n\u001b[1;32m----> 3\u001b[0m     \u001b[38;5;28mprint\u001b[39m(\u001b[38;5;124m\"\u001b[39m\u001b[38;5;124mThe youngest child is \u001b[39m\u001b[38;5;124m\"\u001b[39m \u001b[38;5;241m+\u001b[39m \u001b[43mkids\u001b[49m\u001b[43m[\u001b[49m\u001b[38;5;241;43m3\u001b[39;49m\u001b[43m]\u001b[49m)\n",
      "\u001b[1;31mIndexError\u001b[0m: tuple index out of range"
     ]
    }
   ],
   "source": [
    "def my_function(*kids):\n",
    "    \n",
    "    print(\"The youngest child is \" + kids[3])\n",
    "    \n",
    "my_function(\"David\", \"John\", \"Herlin\")"
   ]
  },
  {
   "cell_type": "markdown",
   "id": "f4b6c8d7",
   "metadata": {},
   "source": [
    "As we can see if we select more than given argumnets then it will give error"
   ]
  },
  {
   "cell_type": "code",
   "execution_count": 5,
   "id": "b150b3f0",
   "metadata": {},
   "outputs": [
    {
     "name": "stdout",
     "output_type": "stream",
     "text": [
      "The youngest child is John\n"
     ]
    }
   ],
   "source": [
    "def my_function(*kids):\n",
    "    \n",
    "    print(\"The youngest child is \" + kids[1])\n",
    "    \n",
    "my_function(\"David\", \"John\", \"Herlin\")"
   ]
  },
  {
   "cell_type": "markdown",
   "id": "b62d96cd",
   "metadata": {},
   "source": [
    "#### Keyword Arguments\n",
    "\n",
    "You can also send arguments with the `key = value` syntax.\n",
    "\n",
    "This way the order of the arguments does not matter."
   ]
  },
  {
   "cell_type": "code",
   "execution_count": 6,
   "id": "e1d8b40d",
   "metadata": {},
   "outputs": [
    {
     "name": "stdout",
     "output_type": "stream",
     "text": [
      "The youngest child is Linus\n"
     ]
    }
   ],
   "source": [
    "def my_function(child3, child2, child1):\n",
    "    print(\"The youngest child is \" + child3)\n",
    "\n",
    "my_function(child1 = \"Emil\", \n",
    "            child2 = \"Tobias\",\n",
    "            child3 = \"Linus\")"
   ]
  },
  {
   "cell_type": "markdown",
   "id": "cd3138bd",
   "metadata": {},
   "source": [
    "`The phrase Keyword Arguments are often shortened to kwargs in Python documentations.`\n",
    "\n",
    "#### `Arbitrary Keyword Arguments, **kwargs`\n",
    "\n",
    "If you do not know how many keyword arguments that will be passed into your function, add `two asterisk: **` before the parameter name in the function definition.\n",
    "\n",
    "#### This way the function will receive a dictionary of arguments, and can access the items accordingly:\n",
    "\n",
    "* `Means ** will be treated as dictionary in parameter.`"
   ]
  },
  {
   "cell_type": "code",
   "execution_count": 7,
   "id": "b0275c91",
   "metadata": {},
   "outputs": [
    {
     "name": "stdout",
     "output_type": "stream",
     "text": [
      "His last name is smith\n"
     ]
    }
   ],
   "source": [
    "def my_function(**kid):\n",
    "    print(\"His last name is \" + kid[\"lname\"])\n",
    "    \n",
    "    \n",
    "    \n",
    "my_function(fname = \"David\", lname = \"smith\")"
   ]
  },
  {
   "cell_type": "code",
   "execution_count": 8,
   "id": "24507351",
   "metadata": {},
   "outputs": [
    {
     "name": "stdout",
     "output_type": "stream",
     "text": [
      "First name : Ankit Last name : Shukla\n"
     ]
    }
   ],
   "source": [
    "def myfunc(**kid):\n",
    "    \n",
    "    print(\"First name : \" + kid[\"fname\"] +\" Last name : \"+ kid[\"lname\"])\n",
    "    \n",
    "myfunc(fname = \"Ankit\", lname = \"Shukla\")"
   ]
  },
  {
   "cell_type": "code",
   "execution_count": 9,
   "id": "49364951",
   "metadata": {},
   "outputs": [
    {
     "name": "stdout",
     "output_type": "stream",
     "text": [
      "Person1 first name :  David \n",
      "Last name :  Worner\n",
      "\n",
      "Person2 first name :  Stive \n",
      "Last name :  Smith\n"
     ]
    }
   ],
   "source": [
    "def myfunc(*args, **kwargs):\n",
    "    \n",
    "    print(\"Person1 first name : \", args[0],\"\\nLast name : \", kwargs[\"lname1\"])\n",
    "    print()\n",
    "    print(\"Person2 first name : \", args[1],\"\\nLast name : \", kwargs[\"lname2\"])\n",
    "  \n",
    "       \n",
    "myfunc(\"David\", 'Stive', lname1 = \"Worner\", lname2 = \"Smith\")"
   ]
  },
  {
   "cell_type": "markdown",
   "id": "f867eed2",
   "metadata": {},
   "source": [
    "`Arbitrary Kword Arguments are often shortened to **kwargs in Python documentations.`\n",
    "\n",
    "#### Default Parameter Value\n",
    "\n",
    "The following example shows how to use a default parameter value.\n",
    "\n",
    "If we call the function without argument, it uses the default value:"
   ]
  },
  {
   "cell_type": "code",
   "execution_count": 22,
   "id": "b98669e8",
   "metadata": {},
   "outputs": [
    {
     "name": "stdout",
     "output_type": "stream",
     "text": [
      "I am from Sweden\n",
      "I am from India\n",
      "I am from Norway\n",
      "I am from Brazil\n"
     ]
    }
   ],
   "source": [
    "def my_function(country = \"Norway\"):\n",
    "    print(\"I am from \" + country)\n",
    "    \n",
    "my_function(\"Sweden\")\n",
    "my_function(\"India\")\n",
    "my_function()\n",
    "my_function(\"Brazil\")"
   ]
  },
  {
   "cell_type": "markdown",
   "id": "caba53b6",
   "metadata": {},
   "source": [
    "#### Passing a List as an Argument\n",
    "You can send any data types of argument to a function (string, number, list, dictionary etc.), and it will be treated as the same data type inside the function.\n",
    "\n",
    "E.g. if you send a List as an argument, it will still be a List when it reaches the function:"
   ]
  },
  {
   "cell_type": "code",
   "execution_count": 15,
   "id": "e89253f8",
   "metadata": {},
   "outputs": [
    {
     "name": "stdout",
     "output_type": "stream",
     "text": [
      "apple\n",
      "banana\n",
      "cherry\n"
     ]
    }
   ],
   "source": [
    "def my_function(food):\n",
    "    for x in food:\n",
    "        print(x)\n",
    "        \n",
    "fruits = [\"apple\", \"banana\", \"cherry\"]\n",
    "\n",
    "my_function(fruits)"
   ]
  },
  {
   "cell_type": "markdown",
   "id": "9ee410bd",
   "metadata": {},
   "source": [
    "#### Return Values\n",
    "\n",
    "To let a function return a value, use the return statement:"
   ]
  },
  {
   "cell_type": "code",
   "execution_count": 22,
   "id": "a6fb649f",
   "metadata": {},
   "outputs": [
    {
     "name": "stdout",
     "output_type": "stream",
     "text": [
      "15\n",
      "25\n",
      "50\n"
     ]
    }
   ],
   "source": [
    "def func(x):\n",
    "    return 5*x\n",
    "\n",
    "print(func(3))\n",
    "print(func(5))\n",
    "print(func(10))"
   ]
  },
  {
   "cell_type": "markdown",
   "id": "27a7e20a",
   "metadata": {},
   "source": [
    "#### The pass Statement\n",
    "`function` definitions cannot be empty, but if you for some reason have a `function` definition with no content, put in the `pass` statement to avoid getting an error."
   ]
  },
  {
   "cell_type": "code",
   "execution_count": 23,
   "id": "4aad859e",
   "metadata": {},
   "outputs": [],
   "source": [
    "def myfunction():\n",
    "    pass"
   ]
  },
  {
   "cell_type": "markdown",
   "id": "b7ffd74f",
   "metadata": {},
   "source": [
    "#### `Recursion\n",
    "Python also accepts function recursion, which means a defined function can call itself.\n",
    "\n",
    "Recursion is a common mathematical and programming concept. It means that a function calls itself. This has the benefit of meaning that you can loop through data to reach a result.\n",
    "\n",
    "The developer should be very careful with recursion as it can be quite easy to slip into writing a function which never terminates, or one that uses excess amounts of memory or processor power. However, when written correctly recursion can be a very efficient and mathematically-elegant approach to programming.\n",
    "\n",
    "In this example, `tri_recursion()` is a function that we have defined to call itself (\"recurse\"). We use the` k `variable as the data, which decrements `(-1)` every time we recurse. The recursion ends when the condition is not greater than 0 (i.e. when it is 0).\n",
    "\n",
    "To a new developer it can take some time to work out how exactly this works, best way to find out is by testing and modifying it."
   ]
  },
  {
   "cell_type": "code",
   "execution_count": 24,
   "id": "a2244af7",
   "metadata": {},
   "outputs": [
    {
     "name": "stdout",
     "output_type": "stream",
     "text": [
      "\n",
      "\n",
      "Recursion Example Results\n",
      "1\n",
      "3\n",
      "6\n",
      "10\n",
      "15\n",
      "21\n"
     ]
    },
    {
     "data": {
      "text/plain": [
       "21"
      ]
     },
     "execution_count": 24,
     "metadata": {},
     "output_type": "execute_result"
    }
   ],
   "source": [
    "def tri_recursion(k):\n",
    "    \n",
    "    if (k > 0):\n",
    "        result = k + tri_recursion(k - 1)\n",
    "        print(result)\n",
    "    else:\n",
    "        result = 0\n",
    "    return result\n",
    "\n",
    "print(\"\\n\\nRecursion Example Results\")\n",
    "tri_recursion(6)"
   ]
  },
  {
   "cell_type": "code",
   "execution_count": 16,
   "id": "61167c75",
   "metadata": {},
   "outputs": [
    {
     "name": "stdout",
     "output_type": "stream",
     "text": [
      "\n",
      "\n",
      "Recursion Example Results\n"
     ]
    },
    {
     "data": {
      "text/plain": [
       "21"
      ]
     },
     "execution_count": 16,
     "metadata": {},
     "output_type": "execute_result"
    }
   ],
   "source": [
    "def tri_recursion(k):\n",
    "    \n",
    "    if (k > 0):\n",
    "        result = k + tri_recursion(k - 1)\n",
    "        #print(result)\n",
    "    else:\n",
    "        result = 0\n",
    "    return result\n",
    "\n",
    "print(\"\\n\\nRecursion Example Results\")\n",
    "tri_recursion(6)"
   ]
  },
  {
   "cell_type": "markdown",
   "id": "62a6a1a0",
   "metadata": {},
   "source": [
    "### Function Arguments:\n",
    "\n",
    "We can call a function by using the following types of formal arguments- \n",
    "* `Required arguments`\n",
    "\n",
    "* `Keyword arguments`\n",
    "\n",
    "* `Default arguments`\n",
    "\n",
    "* `Variable-length arguments`\n"
   ]
  },
  {
   "cell_type": "markdown",
   "id": "bbfa7216",
   "metadata": {},
   "source": [
    "#### Required Arguments\n",
    "`Required arguments are the arguments pass to a function in correct positional order. Here, the number of arguments in the function call should match exactly with the function definition.`\n",
    "\n",
    "To call the function 'printme()', we definitely need to pass one argument, otherwise it gives a 'syntax error as follows-"
   ]
  },
  {
   "cell_type": "code",
   "execution_count": 13,
   "id": "fef95094",
   "metadata": {},
   "outputs": [
    {
     "ename": "TypeError",
     "evalue": "printme() missing 1 required positional argument: 'str'",
     "output_type": "error",
     "traceback": [
      "\u001b[1;31m---------------------------------------------------------------------------\u001b[0m",
      "\u001b[1;31mTypeError\u001b[0m                                 Traceback (most recent call last)",
      "Input \u001b[1;32mIn [13]\u001b[0m, in \u001b[0;36m<cell line: 6>\u001b[1;34m()\u001b[0m\n\u001b[0;32m      3\u001b[0m     \u001b[38;5;28mprint\u001b[39m(\u001b[38;5;28mstr\u001b[39m)\n\u001b[0;32m      4\u001b[0m     \u001b[38;5;28;01mreturn\u001b[39;00m\n\u001b[1;32m----> 6\u001b[0m \u001b[43mprintme\u001b[49m\u001b[43m(\u001b[49m\u001b[43m)\u001b[49m\n",
      "\u001b[1;31mTypeError\u001b[0m: printme() missing 1 required positional argument: 'str'"
     ]
    }
   ],
   "source": [
    "def printme(str):\n",
    "    \"This prints a passed string into this function\"\n",
    "    print(str)\n",
    "    return\n",
    "\n",
    "printme()"
   ]
  },
  {
   "cell_type": "markdown",
   "id": "679ccb38",
   "metadata": {},
   "source": [
    "### Keyword Arguments\n",
    "\n",
    "`Keyword Argument are related to the function calls. When we use keyword arguments in a function call, the caller identifies the arguments by the parameter name.`\n",
    "\n",
    "This allows us to skip arguments or place them out of order because the Python interpreter is able to use the keywords provided to match the values with parameters. We can also make keyword calls to the 'printme()' function in the following ways-"
   ]
  },
  {
   "cell_type": "code",
   "execution_count": 14,
   "id": "6f5a405d",
   "metadata": {},
   "outputs": [
    {
     "name": "stdout",
     "output_type": "stream",
     "text": [
      "My string\n"
     ]
    }
   ],
   "source": [
    "def printme(str):\n",
    "    \"this prints a passed string into this function\"\n",
    "    print(str)\n",
    "    return \n",
    "\n",
    "# Now we can call 'printme()' function\n",
    "\n",
    "printme(str = \"My string\")"
   ]
  },
  {
   "cell_type": "markdown",
   "id": "08503355",
   "metadata": {},
   "source": [
    "Now the following example gives a clearer picture. Note that the order of parameters does not matter in keyword argument."
   ]
  },
  {
   "cell_type": "code",
   "execution_count": 15,
   "id": "aefa767e",
   "metadata": {},
   "outputs": [
    {
     "name": "stdout",
     "output_type": "stream",
     "text": [
      "Name:  miki\n",
      "Age:  50\n"
     ]
    }
   ],
   "source": [
    "def printinfo(name, age):\n",
    "    \"this prints a passed info into this function\"\n",
    "    print(\"Name: \", name)\n",
    "    print(\"Age: \", age)\n",
    "    return\n",
    "\n",
    "# now we can call printinfo fucntion\n",
    "\n",
    "printinfo(age = 50, name = \"miki\")\n"
   ]
  },
  {
   "cell_type": "code",
   "execution_count": 1,
   "id": "5f9434dc",
   "metadata": {},
   "outputs": [
    {
     "ename": "TypeError",
     "evalue": "printme() got an unexpected keyword argument 'hello'",
     "output_type": "error",
     "traceback": [
      "\u001b[1;31m---------------------------------------------------------------------------\u001b[0m",
      "\u001b[1;31mTypeError\u001b[0m                                 Traceback (most recent call last)",
      "Input \u001b[1;32mIn [1]\u001b[0m, in \u001b[0;36m<cell line: 8>\u001b[1;34m()\u001b[0m\n\u001b[0;32m      4\u001b[0m     \u001b[38;5;28;01mreturn\u001b[39;00m \n\u001b[0;32m      6\u001b[0m \u001b[38;5;66;03m# Now we can call 'printme()' function\u001b[39;00m\n\u001b[1;32m----> 8\u001b[0m \u001b[43mprintme\u001b[49m\u001b[43m(\u001b[49m\u001b[43mhello\u001b[49m\u001b[43m \u001b[49m\u001b[38;5;241;43m=\u001b[39;49m\u001b[43m \u001b[49m\u001b[38;5;124;43m\"\u001b[39;49m\u001b[38;5;124;43mMy string\u001b[39;49m\u001b[38;5;124;43m\"\u001b[39;49m\u001b[43m)\u001b[49m\n",
      "\u001b[1;31mTypeError\u001b[0m: printme() got an unexpected keyword argument 'hello'"
     ]
    }
   ],
   "source": [
    "def printme(str):\n",
    "    \"this prints a passed string into this function\"\n",
    "    print(str)\n",
    "    return \n",
    "\n",
    "# Now we can call 'printme()' function\n",
    "\n",
    "printme(hello = \"My string\") "
   ]
  },
  {
   "cell_type": "markdown",
   "id": "88a58146",
   "metadata": {},
   "source": [
    "Means if we are using keyword arguments then Keyword must be same as in function definition when we call function otherwise it will raise an error. So be careful at the time of keyword arguments."
   ]
  },
  {
   "cell_type": "markdown",
   "id": "7da26f0a",
   "metadata": {},
   "source": [
    "### Default Arguments\n",
    "\n",
    "`A default argument is an argument that assumes a default value if a value is not provided in the the fuction call for that argument. The following example gives an idea on default arguments, it prints default age if it is not passed.`\n"
   ]
  },
  {
   "cell_type": "code",
   "execution_count": 16,
   "id": "e9370cdc",
   "metadata": {},
   "outputs": [
    {
     "name": "stdout",
     "output_type": "stream",
     "text": [
      "Name:  miki\n",
      "Age:  50\n",
      "\n",
      "Name:  miki\n",
      "Age:  35\n"
     ]
    }
   ],
   "source": [
    "def printinfo(name, age = 35):\n",
    "    \"this prints a passed info into this function\"\n",
    "    print(\"Name: \", name)\n",
    "    print(\"Age: \", age)\n",
    "    return \n",
    "\n",
    "# now you call 'printinfo()' function\n",
    "\n",
    "printinfo(age= 50, name = 'miki')\n",
    "print()\n",
    "printinfo(name = 'miki')"
   ]
  },
  {
   "cell_type": "markdown",
   "id": "4e5e8275",
   "metadata": {},
   "source": [
    "we didn't pass 'age' argument but due to default one already present over there we got that in output."
   ]
  },
  {
   "cell_type": "code",
   "execution_count": null,
   "id": "684779c9",
   "metadata": {},
   "outputs": [],
   "source": []
  },
  {
   "cell_type": "markdown",
   "id": "cf7d5dfd",
   "metadata": {},
   "source": [
    "### Variable-lentgh Arguments\n",
    "\n",
    "`You may need to process a function for more arguments that you specified while defining the function. These arguments are called 'variable-length' arguments and are not named in funtion definition, unlike required and default arguments.`\n",
    "\n",
    "**Syntax**\n",
    "\n",
    "`def functionname([formal_args,] *var_args_tuple):\n",
    "    \"fucntion_docstring\"\n",
    "    function_suite\n",
    "    return [expression]`\n",
    "    \n",
    "* An `astrisk(*)` is placed before the variable name that holds the values of all nonkeyword variable arguments. This tuple remains empty if no arguments are specified during function call. Following is a simple example- "
   ]
  },
  {
   "cell_type": "code",
   "execution_count": 17,
   "id": "c89f357a",
   "metadata": {},
   "outputs": [
    {
     "name": "stdout",
     "output_type": "stream",
     "text": [
      "Output is : \n",
      "10\n"
     ]
    }
   ],
   "source": [
    "def printinfo(arg1, *vartuple):\n",
    "    \"This prints a variable passed arguments\"\n",
    "    print(\"Output is : \")\n",
    "    print(arg1)\n",
    "    for var in vartuple:\n",
    "        print(var)\n",
    "    return\n",
    "\n",
    "# now we call 'printinfo()' function\n",
    "\n",
    "printinfo(10)"
   ]
  },
  {
   "cell_type": "code",
   "execution_count": 18,
   "id": "be7f3ef3",
   "metadata": {},
   "outputs": [
    {
     "name": "stdout",
     "output_type": "stream",
     "text": [
      "Output is : \n",
      "60\n",
      "70 50 "
     ]
    }
   ],
   "source": [
    "def printinfo(arg1, *vartuple):\n",
    "    \"This prints a variable passed arguments\"\n",
    "    print(\"Output is : \")\n",
    "    print(arg1)\n",
    "    for var in vartuple:\n",
    "        print(var, end = \" \") # we hold control in same line to just recognize the output of this\n",
    "    return\n",
    "\n",
    "# now we call 'printinfo()' function\n",
    "\n",
    "\n",
    "printinfo(60, 70, 50)"
   ]
  },
  {
   "cell_type": "markdown",
   "id": "0c6b37f5",
   "metadata": {},
   "source": [
    "### exec() function :\n",
    "\n",
    "`exec() function is used for the dynamic execution of Python program which can either be a string or object code. If it is a string, the string is parsed as a suite of Python statements which is then executed unless a syntax error occurs and if it is an object code, it is simply executed. We must be careful that the return statements may not be used outside of function definitions not even within the context of code passed to the exec() function. It doesn’t return any value, hence returns None. `\n",
    "\n",
    "\n",
    "`Syntax: exec(object[, globals[, locals]])`\n",
    "\n",
    "It can take three parameters:  \n",
    "\n",
    "* `object:` As already said this can be a string or object code\n",
    "* `globals:` This can be a dictionary and the parameter is optional\n",
    "\n",
    "* `locals:` This can be a mapping object and is also optional\n",
    "\n",
    "Now let’s see how this function works. In the following code, we have used an object code and executed it using exec() function. We have just taken the object parameter and omitted the other two fields. \n",
    "\n",
    "Example:  "
   ]
  },
  {
   "cell_type": "code",
   "execution_count": 1,
   "id": "eea8c995",
   "metadata": {},
   "outputs": [
    {
     "name": "stdout",
     "output_type": "stream",
     "text": [
      "The sum of 5 and 10 is 15\n"
     ]
    }
   ],
   "source": [
    "\n",
    "prog = 'print(\"The sum of 5 and 10 is\", (5+10))'\n",
    "exec(prog)"
   ]
  },
  {
   "cell_type": "markdown",
   "id": "ccd3e68f",
   "metadata": {},
   "source": [
    "#### Warning or Limitations\n",
    "\n",
    "`Before using any methods inside the exec() function one must keep in mind about what all functions do exec() support. To view this we may use dir() function.` \n",
    "\n",
    "Example:  "
   ]
  },
  {
   "cell_type": "code",
   "execution_count": 2,
   "id": "d976e6c8",
   "metadata": {},
   "outputs": [
    {
     "name": "stdout",
     "output_type": "stream",
     "text": [
      "['In', 'Out', '_', '__', '___', '__builtin__', '__builtins__', '__doc__', '__loader__', '__name__', '__package__', '__spec__', '_dh', '_i', '_i1', '_i2', '_ih', '_ii', '_iii', '_oh', 'acos', 'acosh', 'asin', 'asinh', 'atan', 'atan2', 'atanh', 'ceil', 'comb', 'copysign', 'cos', 'cosh', 'degrees', 'dist', 'e', 'erf', 'erfc', 'exit', 'exp', 'expm1', 'fabs', 'factorial', 'floor', 'fmod', 'frexp', 'fsum', 'gamma', 'gcd', 'get_ipython', 'hypot', 'inf', 'isclose', 'isfinite', 'isinf', 'isnan', 'isqrt', 'lcm', 'ldexp', 'lgamma', 'log', 'log10', 'log1p', 'log2', 'modf', 'nan', 'nextafter', 'perm', 'pi', 'pow', 'prod', 'prog', 'quit', 'radians', 'remainder', 'sin', 'sinh', 'sqrt', 'tan', 'tanh', 'tau', 'trunc', 'ulp']\n"
     ]
    }
   ],
   "source": [
    "# Python3\n",
    "# The math class is used to include all the\n",
    "# math functions\n",
    "from math import *\n",
    "exec(\"print(dir())\")"
   ]
  },
  {
   "cell_type": "markdown",
   "id": "390f5df6",
   "metadata": {},
   "source": [
    "### Global and Local Parameters\n",
    "Python allows us to restrict the use of various variables and methods by the use of global and local parameters, which might not be needed. These local and global parameters are used for local or global variables mainly dictionaries. The global parameter overtakes if the local is missing which means global can be used for both the fields. Let’s see how the code works on passing only the global parameter. \n",
    "\n",
    "Example:  "
   ]
  },
  {
   "cell_type": "code",
   "execution_count": 3,
   "id": "cd9291ad",
   "metadata": {},
   "outputs": [
    {
     "name": "stdout",
     "output_type": "stream",
     "text": [
      "['__builtins__']\n"
     ]
    }
   ],
   "source": [
    "#Python3\n",
    "# Here we have passed an empty dictionary\n",
    "from math import *\n",
    "exec(\"print(dir())\", {})"
   ]
  },
  {
   "cell_type": "markdown",
   "id": "ea2b3bf8",
   "metadata": {},
   "source": [
    "`So we see that on passing an empty dictionary as a global parameter, only the __builtins__ is displayed and no other math functions are displayed as in the previous example. This means that only the __builtins__ will be supported for the object parameter. This suggests that all other functions are restricted on the object. To prove it let’s try to work with a math function and see what happens. `\n",
    "\n",
    "Example:  "
   ]
  },
  {
   "cell_type": "code",
   "execution_count": 6,
   "id": "89191df5",
   "metadata": {},
   "outputs": [
    {
     "ename": "NameError",
     "evalue": "name 'factorial' is not defined",
     "output_type": "error",
     "traceback": [
      "\u001b[1;31m---------------------------------------------------------------------------\u001b[0m",
      "\u001b[1;31mNameError\u001b[0m                                 Traceback (most recent call last)",
      "Input \u001b[1;32mIn [6]\u001b[0m, in \u001b[0;36m<cell line: 3>\u001b[1;34m()\u001b[0m\n\u001b[0;32m      1\u001b[0m \u001b[38;5;66;03m# An exception will be raised\u001b[39;00m\n\u001b[0;32m      2\u001b[0m \u001b[38;5;28;01mfrom\u001b[39;00m \u001b[38;5;21;01mmath\u001b[39;00m \u001b[38;5;28;01mimport\u001b[39;00m \u001b[38;5;241m*\u001b[39m\n\u001b[1;32m----> 3\u001b[0m \u001b[43mexec\u001b[49m\u001b[43m(\u001b[49m\u001b[38;5;124;43m\"\u001b[39;49m\u001b[38;5;124;43mprint(factorial(5))\u001b[39;49m\u001b[38;5;124;43m\"\u001b[39;49m\u001b[43m,\u001b[49m\u001b[43m \u001b[49m\u001b[43m{\u001b[49m\u001b[43m}\u001b[49m\u001b[43m)\u001b[49m\n",
      "File \u001b[1;32m<string>:1\u001b[0m, in \u001b[0;36m<module>\u001b[1;34m\u001b[0m\n",
      "\u001b[1;31mNameError\u001b[0m: name 'factorial' is not defined"
     ]
    }
   ],
   "source": [
    "\n",
    "# An exception will be raised\n",
    "from math import *\n",
    "exec(\"print(factorial(5))\", {})"
   ]
  },
  {
   "cell_type": "markdown",
   "id": "d973c563",
   "metadata": {},
   "source": [
    "No Output\n",
    "`This example should have printed 120 as output but instead, it displays No Output and raises an exception. Although, we have imported the math module the factorial() method failed to work because of restrictions we have set by passing the global parameter. \n",
    "We can also allow few of the many functions to execute. Suppose we want all other math modules to be restricted except the factorial() function.` \n",
    "\n",
    "Example:  "
   ]
  },
  {
   "cell_type": "code",
   "execution_count": 7,
   "id": "d148096d",
   "metadata": {},
   "outputs": [
    {
     "name": "stdout",
     "output_type": "stream",
     "text": [
      "120\n"
     ]
    }
   ],
   "source": [
    "# factorial() will be executed\n",
    "from math import *\n",
    "exec(\"print(factorial(5))\", {\"factorial\":factorial})"
   ]
  },
  {
   "cell_type": "markdown",
   "id": "fae3abf5",
   "metadata": {},
   "source": [
    "We can also change the name of these predefined methods and give them user-defined name during execution. We can change the name of the function from factorial() to fact(), which is user-defined. \n",
    "\n",
    "Example: "
   ]
  },
  {
   "cell_type": "code",
   "execution_count": 8,
   "id": "52d309b5",
   "metadata": {},
   "outputs": [
    {
     "name": "stdout",
     "output_type": "stream",
     "text": [
      "120\n"
     ]
    }
   ],
   "source": [
    "# factorial() renamed as fact\n",
    "from math import *\n",
    "exec('print(fact(5))', {'fact': factorial})"
   ]
  },
  {
   "cell_type": "markdown",
   "id": "5d3239ec",
   "metadata": {},
   "source": [
    "`Now let’s see what else can we do on passing both the global and local parameters. Using local parameters we can implement the functions according to our need. `\n",
    "\n",
    "Example:  "
   ]
  },
  {
   "cell_type": "code",
   "execution_count": 9,
   "id": "0267d459",
   "metadata": {},
   "outputs": [
    {
     "name": "stdout",
     "output_type": "stream",
     "text": [
      "['iter', 'sum']\n"
     ]
    }
   ],
   "source": [
    "from math import *\n",
    "exec(\"print(dir())\", {\"built\" : __builtins__}, {\"sum\": sum, \"iter\": iter})"
   ]
  },
  {
   "cell_type": "markdown",
   "id": "7d72876c",
   "metadata": {},
   "source": [
    "Through this only the sum,and iter methods along with all the built-in methods can be executed inside exec() function. \n",
    "\n",
    "`We can also restrict the use of __builtins__ like this: ` "
   ]
  },
  {
   "cell_type": "code",
   "execution_count": 10,
   "id": "4bfebc1e",
   "metadata": {},
   "outputs": [
    {
     "name": "stdout",
     "output_type": "stream",
     "text": [
      "['dir', 'print', 'sum']\n"
     ]
    }
   ],
   "source": [
    "#__builtins__ has been restricted using None\n",
    "from math import *\n",
    "exec(\"print(dir())\", {\"__builtins__\" : None}, {\"sum\": sum, \"print\": print, \"dir\": dir})"
   ]
  },
  {
   "cell_type": "markdown",
   "id": "36f15284",
   "metadata": {},
   "source": [
    "\n",
    "Here only the sum, print and dir methods will be executed inside exec() function and not all built-in methods.\n"
   ]
  },
  {
   "cell_type": "code",
   "execution_count": null,
   "id": "069aa2af",
   "metadata": {},
   "outputs": [],
   "source": []
  }
 ],
 "metadata": {
  "kernelspec": {
   "display_name": "Python 3 (ipykernel)",
   "language": "python",
   "name": "python3"
  },
  "language_info": {
   "codemirror_mode": {
    "name": "ipython",
    "version": 3
   },
   "file_extension": ".py",
   "mimetype": "text/x-python",
   "name": "python",
   "nbconvert_exporter": "python",
   "pygments_lexer": "ipython3",
   "version": "3.9.7"
  }
 },
 "nbformat": 4,
 "nbformat_minor": 5
}
